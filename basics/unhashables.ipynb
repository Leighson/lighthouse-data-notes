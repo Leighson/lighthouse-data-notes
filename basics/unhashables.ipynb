{
 "cells": [
  {
   "cell_type": "code",
   "execution_count": 1,
   "id": "84e70b6b-39b0-4994-9e70-1305e2c1c369",
   "metadata": {},
   "outputs": [],
   "source": [
    "tups = (1,2,3)\n",
    "listie = [1,2,3]\n",
    "dix = {1:2, 2:3}"
   ]
  },
  {
   "cell_type": "markdown",
   "id": "1b24e771-591a-4b60-a33f-f4f186afe635",
   "metadata": {},
   "source": [
    "### Below is an example of an immutable, hashable object."
   ]
  },
  {
   "cell_type": "markdown",
   "id": "f5448a07-4759-44f9-b886-26efe5cfa2ae",
   "metadata": {},
   "source": [
    "#### `tuple`"
   ]
  },
  {
   "cell_type": "code",
   "execution_count": 30,
   "id": "bc45c511-d57a-43f1-a312-65206d2c6431",
   "metadata": {},
   "outputs": [
    {
     "name": "stdout",
     "output_type": "stream",
     "text": [
      "529344067295497451\n",
      "5283390208\n",
      "------\n",
      "1\n",
      "4307084832\n"
     ]
    }
   ],
   "source": [
    "print(hash(tups))\n",
    "print(id(tups))\n",
    "print('------')\n",
    "print(hash(tups[0]))\n",
    "print(id(tups[0]))"
   ]
  },
  {
   "cell_type": "markdown",
   "id": "0ded3984-7090-4ae1-a656-d6cc365faf11",
   "metadata": {},
   "source": [
    "# ------------------------------"
   ]
  },
  {
   "cell_type": "markdown",
   "id": "50696b73-afe6-436e-83e8-ae0e0308a5fd",
   "metadata": {},
   "source": [
    "### While the tuple above is hashable, the items below are not."
   ]
  },
  {
   "cell_type": "markdown",
   "id": "b414bed0-4192-49d6-b7d4-5a1352ee7bae",
   "metadata": {},
   "source": [
    "#### `list`"
   ]
  },
  {
   "cell_type": "code",
   "execution_count": 34,
   "id": "95360d06-8989-47d0-af6c-ebdf82595500",
   "metadata": {},
   "outputs": [
    {
     "name": "stdout",
     "output_type": "stream",
     "text": [
      "Listie is not hashable\n",
      "4355480000\n",
      "-------\n",
      "2\n",
      "4307084864\n"
     ]
    }
   ],
   "source": [
    "print('Listie is not hashable')\n",
    "print(id(listie))\n",
    "print('-------')\n",
    "print(hash(listie[1]))\n",
    "print(id(listie[1]))"
   ]
  },
  {
   "cell_type": "markdown",
   "id": "e2ee8022-7903-498a-8d8f-af86f69d623d",
   "metadata": {},
   "source": [
    "### `dictionary`"
   ]
  },
  {
   "cell_type": "code",
   "execution_count": 37,
   "id": "e2fee68e-9c43-4ff2-9232-96fea333770c",
   "metadata": {},
   "outputs": [
    {
     "name": "stdout",
     "output_type": "stream",
     "text": [
      "Dix is not hashable\n",
      "5281456448\n",
      "---------\n",
      "2\n",
      "4307084864\n"
     ]
    }
   ],
   "source": [
    "print('Dix is not hashable')\n",
    "print(id(dix))\n",
    "print('---------')\n",
    "print(hash(dix[1]))\n",
    "print(id(dix[1]))"
   ]
  },
  {
   "cell_type": "markdown",
   "id": "f350c2aa-e994-47c8-a411-f50866068499",
   "metadata": {},
   "source": [
    "### Not included above are `sets`."
   ]
  }
 ],
 "metadata": {
  "kernelspec": {
   "display_name": "lighthouse",
   "language": "python",
   "name": "lighthouse"
  },
  "language_info": {
   "codemirror_mode": {
    "name": "ipython",
    "version": 3
   },
   "file_extension": ".py",
   "mimetype": "text/x-python",
   "name": "python",
   "nbconvert_exporter": "python",
   "pygments_lexer": "ipython3",
   "version": "3.8.13"
  }
 },
 "nbformat": 4,
 "nbformat_minor": 5
}
