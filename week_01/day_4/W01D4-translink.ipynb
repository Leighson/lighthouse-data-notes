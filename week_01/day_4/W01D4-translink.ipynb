{
 "cells": [
  {
   "cell_type": "code",
   "execution_count": 1,
   "metadata": {},
   "outputs": [],
   "source": [
    "import requests\n",
    "\n",
    "# this for DEMO PURPOSES ONLY - use env vars\n",
    "apikey = 'E6gTZGGHk701BmzJx63y'"
   ]
  },
  {
   "cell_type": "markdown",
   "metadata": {},
   "source": [
    "## Let's look at some basic examples where we just format the url with our parameters"
   ]
  },
  {
   "cell_type": "code",
   "execution_count": 5,
   "metadata": {},
   "outputs": [
    {
     "name": "stdout",
     "output_type": "stream",
     "text": [
      "{'StopNo': 61935, 'Name': 'UBC EXCHANGE BAY 7 ', 'BayNo': '4', 'City': 'VANCOUVER', 'OnStreet': 'UBC EXCHANGE', 'AtStreet': 'BAY 7', 'Latitude': 49.267419, 'Longitude': -123.246831, 'WheelchairAccess': 1, 'Distance': -1, 'Routes': '099'}\n"
     ]
    }
   ],
   "source": [
    "# Example 1: get information about a specific bus stop\n",
    "request_url = 'http://api.translink.ca/rttiapi/v1/stops/61935?apikey={}'.format(apikey)\n",
    "response = requests.get(request_url, headers={'accept': 'application/JSON'}).json()\n",
    "print(response)\n"
   ]
  },
  {
   "cell_type": "code",
   "execution_count": 8,
   "metadata": {
    "scrolled": true
   },
   "outputs": [
    {
     "data": {
      "text/plain": [
       "[{'RouteNo': '099',\n",
       "  'RouteName': 'COMMERCIAL-BROADWAY/UBC (B-LINE)',\n",
       "  'Direction': 'EAST',\n",
       "  'RouteMap': {'Href': 'https://nb.translink.ca/geodata/099.kmz'},\n",
       "  'Schedules': [{'Pattern': 'E1',\n",
       "    'Destination': \"COMM'L-BDWAY STN\",\n",
       "    'ExpectedLeaveTime': '10:56am',\n",
       "    'ExpectedCountdown': -2,\n",
       "    'ScheduleStatus': '-',\n",
       "    'CancelledTrip': False,\n",
       "    'CancelledStop': False,\n",
       "    'AddedTrip': False,\n",
       "    'AddedStop': False,\n",
       "    'LastUpdate': '10:56:17 am'},\n",
       "   {'Pattern': 'E1',\n",
       "    'Destination': \"COMM'L-BDWAY STN\",\n",
       "    'ExpectedLeaveTime': '10:58am',\n",
       "    'ExpectedCountdown': 0,\n",
       "    'ScheduleStatus': ' ',\n",
       "    'CancelledTrip': False,\n",
       "    'CancelledStop': False,\n",
       "    'AddedTrip': False,\n",
       "    'AddedStop': False,\n",
       "    'LastUpdate': '09:58:02 am'},\n",
       "   {'Pattern': 'E1',\n",
       "    'Destination': \"COMM'L-BDWAY STN\",\n",
       "    'ExpectedLeaveTime': '11:03am',\n",
       "    'ExpectedCountdown': 5,\n",
       "    'ScheduleStatus': '*',\n",
       "    'CancelledTrip': False,\n",
       "    'CancelledStop': False,\n",
       "    'AddedTrip': False,\n",
       "    'AddedStop': False,\n",
       "    'LastUpdate': '10:03:07 am'},\n",
       "   {'Pattern': 'E1',\n",
       "    'Destination': \"COMM'L-BDWAY STN\",\n",
       "    'ExpectedLeaveTime': '11:07am',\n",
       "    'ExpectedCountdown': 9,\n",
       "    'ScheduleStatus': '*',\n",
       "    'CancelledTrip': False,\n",
       "    'CancelledStop': False,\n",
       "    'AddedTrip': False,\n",
       "    'AddedStop': False,\n",
       "    'LastUpdate': '10:07:06 am'},\n",
       "   {'Pattern': 'E1',\n",
       "    'Destination': \"COMM'L-BDWAY STN\",\n",
       "    'ExpectedLeaveTime': '11:12am',\n",
       "    'ExpectedCountdown': 14,\n",
       "    'ScheduleStatus': '*',\n",
       "    'CancelledTrip': False,\n",
       "    'CancelledStop': False,\n",
       "    'AddedTrip': False,\n",
       "    'AddedStop': False,\n",
       "    'LastUpdate': '10:12:03 am'},\n",
       "   {'Pattern': 'E1',\n",
       "    'Destination': \"COMM'L-BDWAY STN\",\n",
       "    'ExpectedLeaveTime': '11:16am',\n",
       "    'ExpectedCountdown': 18,\n",
       "    'ScheduleStatus': '*',\n",
       "    'CancelledTrip': False,\n",
       "    'CancelledStop': False,\n",
       "    'AddedTrip': False,\n",
       "    'AddedStop': False,\n",
       "    'LastUpdate': '10:16:18 am'}]}]"
      ]
     },
     "execution_count": 8,
     "metadata": {},
     "output_type": "execute_result"
    }
   ],
   "source": [
    "# Example 2: get estimates of bus schedules at a specific stop\n",
    "request_url = 'http://api.translink.ca/rttiapi/v1/stops/61935/estimates?apikey={}'.format(apikey)\n",
    "response = requests.get(request_url, headers={'accept': 'application/JSON'}).json()\n",
    "response\n"
   ]
  },
  {
   "cell_type": "code",
   "execution_count": 10,
   "metadata": {
    "scrolled": true
   },
   "outputs": [
    {
     "data": {
      "text/plain": [
       "[{'StopNo': 54997,\n",
       "  'Name': 'SB KING GEORGE BLVD FS 98 AVE',\n",
       "  'BayNo': 'N',\n",
       "  'City': 'SURREY',\n",
       "  'OnStreet': 'KING GEORGE BLVD',\n",
       "  'AtStreet': '98 AVE',\n",
       "  'Latitude': 49.179601,\n",
       "  'Longitude': -122.845814,\n",
       "  'WheelchairAccess': 1,\n",
       "  'Distance': 307,\n",
       "  'Routes': '314, 321, 329'},\n",
       " {'StopNo': 54986,\n",
       "  'Name': 'EB 96 AVE FS 134 ST',\n",
       "  'BayNo': 'N',\n",
       "  'City': 'SURREY',\n",
       "  'OnStreet': '96 AVE',\n",
       "  'AtStreet': '134 ST',\n",
       "  'Latitude': 49.176992,\n",
       "  'Longitude': -122.850709,\n",
       "  'WheelchairAccess': 0,\n",
       "  'Distance': 338,\n",
       "  'Routes': '314, 329'},\n",
       " {'StopNo': 54999,\n",
       "  'Name': 'WB 96 AVE FS 134 ST',\n",
       "  'BayNo': 'N',\n",
       "  'City': 'SURREY',\n",
       "  'OnStreet': '96 AVE',\n",
       "  'AtStreet': '134 ST',\n",
       "  'Latitude': 49.177159,\n",
       "  'Longitude': -122.851794,\n",
       "  'WheelchairAccess': 0,\n",
       "  'Distance': 342,\n",
       "  'Routes': '314, 329'},\n",
       " {'StopNo': 54989,\n",
       "  'Name': 'NB KING GEORGE BLVD FS FRASER HWY',\n",
       "  'BayNo': 'N',\n",
       "  'City': 'SURREY',\n",
       "  'OnStreet': 'KING GEORGE BLVD',\n",
       "  'AtStreet': 'FRASER HWY',\n",
       "  'Latitude': 49.181116,\n",
       "  'Longitude': -122.845247,\n",
       "  'WheelchairAccess': 1,\n",
       "  'Distance': 367,\n",
       "  'Routes': ''},\n",
       " {'StopNo': 54998,\n",
       "  'Name': 'WB 96 AVE FS KING GEORGE BLVD',\n",
       "  'BayNo': 'N',\n",
       "  'City': 'SURREY',\n",
       "  'OnStreet': '96 AVE',\n",
       "  'AtStreet': 'KING GEORGE BLVD',\n",
       "  'Latitude': 49.177135,\n",
       "  'Longitude': -122.847002,\n",
       "  'WheelchairAccess': 1,\n",
       "  'Distance': 386,\n",
       "  'Routes': '314, 329'},\n",
       " {'StopNo': 54988,\n",
       "  'Name': 'NB KING GEORGE BLVD FS 96 AVE',\n",
       "  'BayNo': 'N',\n",
       "  'City': 'SURREY',\n",
       "  'OnStreet': 'KING GEORGE BLVD',\n",
       "  'AtStreet': '96 AVE',\n",
       "  'Latitude': 49.177621,\n",
       "  'Longitude': -122.845422,\n",
       "  'WheelchairAccess': 1,\n",
       "  'Distance': 425,\n",
       "  'Routes': '314, 321, 326, 329, 394, R1'},\n",
       " {'StopNo': 59339,\n",
       "  'Name': 'KING GEORGE STN BAY 4',\n",
       "  'BayNo': '4',\n",
       "  'City': 'SURREY',\n",
       "  'OnStreet': 'KING GEORGE STN',\n",
       "  'AtStreet': 'BAY 4',\n",
       "  'Latitude': 49.182677,\n",
       "  'Longitude': -122.845166,\n",
       "  'WheelchairAccess': 1,\n",
       "  'Distance': 460,\n",
       "  'Routes': '314, 321, 326, 329, 502, 503, R1'},\n",
       " {'StopNo': 54996,\n",
       "  'Name': 'KING GEORGE STN BAY 1',\n",
       "  'BayNo': '1',\n",
       "  'City': 'SURREY',\n",
       "  'OnStreet': 'KING GEORGE STN',\n",
       "  'AtStreet': 'BAY 1',\n",
       "  'Latitude': 49.183201,\n",
       "  'Longitude': -122.845706,\n",
       "  'WheelchairAccess': 1,\n",
       "  'Distance': 473,\n",
       "  'Routes': '314, 321, 326, 329, R1'},\n",
       " {'StopNo': 57983,\n",
       "  'Name': 'KING GEORGE STATION PLATFORM 2',\n",
       "  'BayNo': 'N',\n",
       "  'City': 'SURREY',\n",
       "  'OnStreet': 'KING GEORGE STATION',\n",
       "  'AtStreet': 'PLATFORM 2',\n",
       "  'Latitude': 49.182755,\n",
       "  'Longitude': -122.844744,\n",
       "  'WheelchairAccess': 0,\n",
       "  'Distance': 490,\n",
       "  'Routes': ''},\n",
       " {'StopNo': 55665,\n",
       "  'Name': 'NB 132 ST NS 98 AVE',\n",
       "  'BayNo': 'N',\n",
       "  'City': 'SURREY',\n",
       "  'OnStreet': '132 ST',\n",
       "  'AtStreet': '98 AVE',\n",
       "  'Latitude': 49.181077,\n",
       "  'Longitude': -122.856552,\n",
       "  'WheelchairAccess': 1,\n",
       "  'Distance': 491,\n",
       "  'Routes': '324'},\n",
       " {'StopNo': 55669,\n",
       "  'Name': 'SB 132 ST FS 98 AVE',\n",
       "  'BayNo': 'N',\n",
       "  'City': 'SURREY',\n",
       "  'OnStreet': '132 ST',\n",
       "  'AtStreet': '98 AVE',\n",
       "  'Latitude': 49.180401,\n",
       "  'Longitude': -122.856803,\n",
       "  'WheelchairAccess': 0,\n",
       "  'Distance': 496,\n",
       "  'Routes': '324'},\n",
       " {'StopNo': 54990,\n",
       "  'Name': 'KING GEORGE STN BAY 2',\n",
       "  'BayNo': '2',\n",
       "  'City': 'SURREY',\n",
       "  'OnStreet': 'KING GEORGE STN',\n",
       "  'AtStreet': 'BAY 2',\n",
       "  'Latitude': 49.183124,\n",
       "  'Longitude': -122.845136,\n",
       "  'WheelchairAccess': 1,\n",
       "  'Distance': 496,\n",
       "  'Routes': '345, 394, 395'},\n",
       " {'StopNo': 57984,\n",
       "  'Name': 'KING GEORGE STATION PLATFORM 1',\n",
       "  'BayNo': 'N',\n",
       "  'City': 'SURREY',\n",
       "  'OnStreet': 'KING GEORGE STATION',\n",
       "  'AtStreet': 'PLATFORM 1',\n",
       "  'Latitude': 49.182812,\n",
       "  'Longitude': -122.844691,\n",
       "  'WheelchairAccess': 0,\n",
       "  'Distance': 497,\n",
       "  'Routes': ''}]"
      ]
     },
     "execution_count": 10,
     "metadata": {},
     "output_type": "execute_result"
    }
   ],
   "source": [
    "# Example 3: get all bus stops near a (latitude, longitude) coordinate (more parameters)\n",
    "request_url = 'https://api.translink.ca/rttiapi/v1/stops?apikey={}&lat={}&long={}'.format(apikey, 49.18, -122.85)\n",
    "response = requests.get(request_url, headers={'accept': 'application/JSON'})\n",
    "response = response.json()\n",
    "response"
   ]
  },
  {
   "cell_type": "code",
   "execution_count": 16,
   "metadata": {},
   "outputs": [
    {
     "data": {
      "text/plain": [
       "'134 ST'"
      ]
     },
     "execution_count": 16,
     "metadata": {},
     "output_type": "execute_result"
    }
   ],
   "source": [
    "# We're getting the response as JSON data. What does this look like in Python?\n",
    "# It can either be a list of dictionaries, or a dictionary\n",
    "\n",
    "response[1]['Name']"
   ]
  },
  {
   "cell_type": "code",
   "execution_count": 21,
   "metadata": {},
   "outputs": [
    {
     "data": {
      "text/plain": [
       "{'SB KING GEORGE BLVD FS 98 AVE': 'Yes',\n",
       " 'EB 96 AVE FS 134 ST': 'No',\n",
       " 'WB 96 AVE FS 134 ST': 'No',\n",
       " 'NB KING GEORGE BLVD FS FRASER HWY': 'Yes',\n",
       " 'WB 96 AVE FS KING GEORGE BLVD': 'Yes',\n",
       " 'NB KING GEORGE BLVD FS 96 AVE': 'Yes',\n",
       " 'KING GEORGE STN BAY 4': 'Yes',\n",
       " 'KING GEORGE STN BAY 1': 'Yes',\n",
       " 'KING GEORGE STATION PLATFORM 2': 'No',\n",
       " 'NB 132 ST NS 98 AVE': 'Yes',\n",
       " 'SB 132 ST FS 98 AVE': 'No',\n",
       " 'KING GEORGE STN BAY 2': 'Yes',\n",
       " 'KING GEORGE STATION PLATFORM 1': 'No'}"
      ]
     },
     "execution_count": 21,
     "metadata": {},
     "output_type": "execute_result"
    }
   ],
   "source": [
    "wheelchair_access = {}\n",
    "for stop in response:\n",
    "    access = stop['WheelchairAccess']\n",
    "    name = stop['Name']\n",
    "    if access == 1:\n",
    "        wheelchair_access[name] = 'Yes'\n",
    "    else:\n",
    "        wheelchair_access[name] = 'No'\n",
    "        \n",
    "wheelchair_access"
   ]
  },
  {
   "cell_type": "code",
   "execution_count": 17,
   "metadata": {},
   "outputs": [
    {
     "data": {
      "text/plain": [
       "{'StopNo': 54997,\n",
       " 'Name': 'SB KING GEORGE BLVD FS 98 AVE',\n",
       " 'BayNo': 'N',\n",
       " 'City': 'SURREY',\n",
       " 'OnStreet': 'KING GEORGE BLVD',\n",
       " 'AtStreet': '98 AVE',\n",
       " 'Latitude': 49.179601,\n",
       " 'Longitude': -122.845814,\n",
       " 'WheelchairAccess': 1,\n",
       " 'Distance': 307,\n",
       " 'Routes': '314, 321, 329'}"
      ]
     },
     "execution_count": 17,
     "metadata": {},
     "output_type": "execute_result"
    }
   ],
   "source": [
    "# It's a list of dictionaries, so if we want to access specific entires, we can do so just like\n",
    "# we would any other list/dictionary\n",
    "response[0]    # Get the stop number of the first bus stop in the list"
   ]
  },
  {
   "cell_type": "markdown",
   "metadata": {},
   "source": [
    "## The requests.get function allows us to specify our parameters in a more organized way, using the \"params\" argument"
   ]
  },
  {
   "cell_type": "code",
   "execution_count": 24,
   "metadata": {},
   "outputs": [
    {
     "data": {
      "text/plain": [
       "[{'StopNo': 54997,\n",
       "  'Name': 'SB KING GEORGE BLVD FS 98 AVE',\n",
       "  'BayNo': 'N',\n",
       "  'City': 'SURREY',\n",
       "  'OnStreet': 'KING GEORGE BLVD',\n",
       "  'AtStreet': '98 AVE',\n",
       "  'Latitude': 49.179601,\n",
       "  'Longitude': -122.845814,\n",
       "  'WheelchairAccess': 1,\n",
       "  'Distance': 307,\n",
       "  'Routes': '314, 321, 329'},\n",
       " {'StopNo': 54986,\n",
       "  'Name': 'EB 96 AVE FS 134 ST',\n",
       "  'BayNo': 'N',\n",
       "  'City': 'SURREY',\n",
       "  'OnStreet': '96 AVE',\n",
       "  'AtStreet': '134 ST',\n",
       "  'Latitude': 49.176992,\n",
       "  'Longitude': -122.850709,\n",
       "  'WheelchairAccess': 0,\n",
       "  'Distance': 338,\n",
       "  'Routes': '314, 329'},\n",
       " {'StopNo': 54999,\n",
       "  'Name': 'WB 96 AVE FS 134 ST',\n",
       "  'BayNo': 'N',\n",
       "  'City': 'SURREY',\n",
       "  'OnStreet': '96 AVE',\n",
       "  'AtStreet': '134 ST',\n",
       "  'Latitude': 49.177159,\n",
       "  'Longitude': -122.851794,\n",
       "  'WheelchairAccess': 0,\n",
       "  'Distance': 342,\n",
       "  'Routes': '314, 329'},\n",
       " {'StopNo': 54989,\n",
       "  'Name': 'NB KING GEORGE BLVD FS FRASER HWY',\n",
       "  'BayNo': 'N',\n",
       "  'City': 'SURREY',\n",
       "  'OnStreet': 'KING GEORGE BLVD',\n",
       "  'AtStreet': 'FRASER HWY',\n",
       "  'Latitude': 49.181116,\n",
       "  'Longitude': -122.845247,\n",
       "  'WheelchairAccess': 1,\n",
       "  'Distance': 367,\n",
       "  'Routes': ''},\n",
       " {'StopNo': 54998,\n",
       "  'Name': 'WB 96 AVE FS KING GEORGE BLVD',\n",
       "  'BayNo': 'N',\n",
       "  'City': 'SURREY',\n",
       "  'OnStreet': '96 AVE',\n",
       "  'AtStreet': 'KING GEORGE BLVD',\n",
       "  'Latitude': 49.177135,\n",
       "  'Longitude': -122.847002,\n",
       "  'WheelchairAccess': 1,\n",
       "  'Distance': 386,\n",
       "  'Routes': '314, 329'},\n",
       " {'StopNo': 54988,\n",
       "  'Name': 'NB KING GEORGE BLVD FS 96 AVE',\n",
       "  'BayNo': 'N',\n",
       "  'City': 'SURREY',\n",
       "  'OnStreet': 'KING GEORGE BLVD',\n",
       "  'AtStreet': '96 AVE',\n",
       "  'Latitude': 49.177621,\n",
       "  'Longitude': -122.845422,\n",
       "  'WheelchairAccess': 1,\n",
       "  'Distance': 425,\n",
       "  'Routes': '314, 321, 326, 329, 394, R1'},\n",
       " {'StopNo': 59339,\n",
       "  'Name': 'KING GEORGE STN BAY 4',\n",
       "  'BayNo': '4',\n",
       "  'City': 'SURREY',\n",
       "  'OnStreet': 'KING GEORGE STN',\n",
       "  'AtStreet': 'BAY 4',\n",
       "  'Latitude': 49.182677,\n",
       "  'Longitude': -122.845166,\n",
       "  'WheelchairAccess': 1,\n",
       "  'Distance': 460,\n",
       "  'Routes': '314, 321, 326, 329, 502, 503, R1'},\n",
       " {'StopNo': 54996,\n",
       "  'Name': 'KING GEORGE STN BAY 1',\n",
       "  'BayNo': '1',\n",
       "  'City': 'SURREY',\n",
       "  'OnStreet': 'KING GEORGE STN',\n",
       "  'AtStreet': 'BAY 1',\n",
       "  'Latitude': 49.183201,\n",
       "  'Longitude': -122.845706,\n",
       "  'WheelchairAccess': 1,\n",
       "  'Distance': 473,\n",
       "  'Routes': '314, 321, 326, 329, R1'},\n",
       " {'StopNo': 57983,\n",
       "  'Name': 'KING GEORGE STATION PLATFORM 2',\n",
       "  'BayNo': 'N',\n",
       "  'City': 'SURREY',\n",
       "  'OnStreet': 'KING GEORGE STATION',\n",
       "  'AtStreet': 'PLATFORM 2',\n",
       "  'Latitude': 49.182755,\n",
       "  'Longitude': -122.844744,\n",
       "  'WheelchairAccess': 0,\n",
       "  'Distance': 490,\n",
       "  'Routes': ''},\n",
       " {'StopNo': 55665,\n",
       "  'Name': 'NB 132 ST NS 98 AVE',\n",
       "  'BayNo': 'N',\n",
       "  'City': 'SURREY',\n",
       "  'OnStreet': '132 ST',\n",
       "  'AtStreet': '98 AVE',\n",
       "  'Latitude': 49.181077,\n",
       "  'Longitude': -122.856552,\n",
       "  'WheelchairAccess': 1,\n",
       "  'Distance': 491,\n",
       "  'Routes': '324'},\n",
       " {'StopNo': 55669,\n",
       "  'Name': 'SB 132 ST FS 98 AVE',\n",
       "  'BayNo': 'N',\n",
       "  'City': 'SURREY',\n",
       "  'OnStreet': '132 ST',\n",
       "  'AtStreet': '98 AVE',\n",
       "  'Latitude': 49.180401,\n",
       "  'Longitude': -122.856803,\n",
       "  'WheelchairAccess': 0,\n",
       "  'Distance': 496,\n",
       "  'Routes': '324'},\n",
       " {'StopNo': 54990,\n",
       "  'Name': 'KING GEORGE STN BAY 2',\n",
       "  'BayNo': '2',\n",
       "  'City': 'SURREY',\n",
       "  'OnStreet': 'KING GEORGE STN',\n",
       "  'AtStreet': 'BAY 2',\n",
       "  'Latitude': 49.183124,\n",
       "  'Longitude': -122.845136,\n",
       "  'WheelchairAccess': 1,\n",
       "  'Distance': 496,\n",
       "  'Routes': '345, 394, 395'},\n",
       " {'StopNo': 57984,\n",
       "  'Name': 'KING GEORGE STATION PLATFORM 1',\n",
       "  'BayNo': 'N',\n",
       "  'City': 'SURREY',\n",
       "  'OnStreet': 'KING GEORGE STATION',\n",
       "  'AtStreet': 'PLATFORM 1',\n",
       "  'Latitude': 49.182812,\n",
       "  'Longitude': -122.844691,\n",
       "  'WheelchairAccess': 0,\n",
       "  'Distance': 497,\n",
       "  'Routes': ''}]"
      ]
     },
     "execution_count": 24,
     "metadata": {},
     "output_type": "execute_result"
    }
   ],
   "source": [
    "# Example 3, but using the 'params' argument to specify the parameters\n",
    "api_endpoint = 'https://api.translink.ca/rttiapi/v1/stops'\n",
    "parameters = {'apikey': apikey, 'lat': 49.18, 'long': -122.85}\n",
    "response = requests.get(api_endpoint, \n",
    "                        params=parameters,\n",
    "                        headers={'accept': 'application/JSON'}).json()\n",
    "response"
   ]
  },
  {
   "cell_type": "code",
   "execution_count": null,
   "metadata": {},
   "outputs": [],
   "source": []
  },
  {
   "cell_type": "code",
   "execution_count": 27,
   "metadata": {},
   "outputs": [],
   "source": [
    "url = 'https://api.translink.ca/rttiapi/v1/status'\n",
    "parameters = {'apikey': apikey}\n",
    "\n",
    "response = requests.get(url, params=parameters, headers={'accept': 'application/JSON'})"
   ]
  },
  {
   "cell_type": "code",
   "execution_count": 28,
   "metadata": {},
   "outputs": [
    {
     "data": {
      "text/plain": [
       "[{'Name': 'Schedule', 'Value': 'Online'},\n",
       " {'Name': 'Location', 'Value': 'Online'}]"
      ]
     },
     "execution_count": 28,
     "metadata": {},
     "output_type": "execute_result"
    }
   ],
   "source": [
    "response.json()"
   ]
  },
  {
   "cell_type": "code",
   "execution_count": 42,
   "metadata": {},
   "outputs": [
    {
     "ename": "AttributeError",
     "evalue": "'Response' object has no attribute 'code'",
     "output_type": "error",
     "traceback": [
      "\u001b[0;31m---------------------------------------------------------------------------\u001b[0m",
      "\u001b[0;31mAttributeError\u001b[0m                            Traceback (most recent call last)",
      "Input \u001b[0;32mIn [42]\u001b[0m, in \u001b[0;36m<module>\u001b[0;34m\u001b[0m\n\u001b[1;32m      3\u001b[0m headers\u001b[38;5;241m=\u001b[39m{\u001b[38;5;124m'\u001b[39m\u001b[38;5;124maccept\u001b[39m\u001b[38;5;124m'\u001b[39m: \u001b[38;5;124m'\u001b[39m\u001b[38;5;124mapplication/JSON\u001b[39m\u001b[38;5;124m'\u001b[39m}\n\u001b[1;32m      5\u001b[0m response \u001b[38;5;241m=\u001b[39m requests\u001b[38;5;241m.\u001b[39mget(url, parameters, headers\u001b[38;5;241m=\u001b[39mheaders)\n\u001b[0;32m----> 6\u001b[0m \u001b[43mresponse\u001b[49m\u001b[38;5;241;43m.\u001b[39;49m\u001b[43mcode\u001b[49m\n",
      "\u001b[0;31mAttributeError\u001b[0m: 'Response' object has no attribute 'code'"
     ]
    }
   ],
   "source": [
    "url = 'https://api.translink.ca/rttiapi/v1/stops/54997/estimates'\n",
    "parameters = {'apikey': apikey, 'count': 10}\n",
    "headers={'accept': 'application/JSON'}\n",
    "\n",
    "response = requests.get(url, parameters, headers=headers)\n",
    "response"
   ]
  },
  {
   "cell_type": "code",
   "execution_count": 40,
   "metadata": {},
   "outputs": [
    {
     "data": {
      "text/plain": [
       "[{'RouteNo': '314',\n",
       "  'RouteName': 'SURREY CENTRAL/SUNBURY',\n",
       "  'Direction': 'WEST',\n",
       "  'RouteMap': {'Href': 'https://nb.translink.ca/geodata/314.kmz'},\n",
       "  'Schedules': [{'Pattern': 'WB3',\n",
       "    'Destination': 'SUNBURY',\n",
       "    'ExpectedLeaveTime': '11:43am',\n",
       "    'ExpectedCountdown': 31,\n",
       "    'ScheduleStatus': '*',\n",
       "    'CancelledTrip': False,\n",
       "    'CancelledStop': False,\n",
       "    'AddedTrip': False,\n",
       "    'AddedStop': False,\n",
       "    'LastUpdate': '10:39:22 am'},\n",
       "   {'Pattern': 'WB3',\n",
       "    'Destination': 'SUNBURY',\n",
       "    'ExpectedLeaveTime': '12:45pm',\n",
       "    'ExpectedCountdown': 93,\n",
       "    'ScheduleStatus': '*',\n",
       "    'CancelledTrip': False,\n",
       "    'CancelledStop': False,\n",
       "    'AddedTrip': False,\n",
       "    'AddedStop': False,\n",
       "    'LastUpdate': '01:08:02 pm'}]},\n",
       " {'RouteNo': '321',\n",
       "  'RouteName': 'WHITE ROCK/NEWTON/SURREY CTRL STN',\n",
       "  'Direction': 'SOUTH',\n",
       "  'RouteMap': {'Href': 'https://nb.translink.ca/geodata/321.kmz'},\n",
       "  'Schedules': [{'Pattern': 'S1',\n",
       "    'Destination': 'WHITE ROCK CTR',\n",
       "    'ExpectedLeaveTime': '11:13am',\n",
       "    'ExpectedCountdown': 1,\n",
       "    'ScheduleStatus': ' ',\n",
       "    'CancelledTrip': False,\n",
       "    'CancelledStop': False,\n",
       "    'AddedTrip': False,\n",
       "    'AddedStop': False,\n",
       "    'LastUpdate': '10:08:12 am'},\n",
       "   {'Pattern': 'S1',\n",
       "    'Destination': 'WHITE ROCK CTR',\n",
       "    'ExpectedLeaveTime': '11:28am',\n",
       "    'ExpectedCountdown': 16,\n",
       "    'ScheduleStatus': '*',\n",
       "    'CancelledTrip': False,\n",
       "    'CancelledStop': False,\n",
       "    'AddedTrip': False,\n",
       "    'AddedStop': False,\n",
       "    'LastUpdate': '10:23:04 am'},\n",
       "   {'Pattern': 'S1',\n",
       "    'Destination': 'WHITE ROCK CTR',\n",
       "    'ExpectedLeaveTime': '11:43am',\n",
       "    'ExpectedCountdown': 31,\n",
       "    'ScheduleStatus': '*',\n",
       "    'CancelledTrip': False,\n",
       "    'CancelledStop': False,\n",
       "    'AddedTrip': False,\n",
       "    'AddedStop': False,\n",
       "    'LastUpdate': '10:38:11 am'},\n",
       "   {'Pattern': 'S1',\n",
       "    'Destination': 'WHITE ROCK CTR',\n",
       "    'ExpectedLeaveTime': '11:58am',\n",
       "    'ExpectedCountdown': 46,\n",
       "    'ScheduleStatus': ' ',\n",
       "    'CancelledTrip': False,\n",
       "    'CancelledStop': False,\n",
       "    'AddedTrip': False,\n",
       "    'AddedStop': False,\n",
       "    'LastUpdate': '10:53:18 am'},\n",
       "   {'Pattern': 'S1',\n",
       "    'Destination': 'WHITE ROCK CTR',\n",
       "    'ExpectedLeaveTime': '12:13pm',\n",
       "    'ExpectedCountdown': 61,\n",
       "    'ScheduleStatus': ' ',\n",
       "    'CancelledTrip': False,\n",
       "    'CancelledStop': False,\n",
       "    'AddedTrip': False,\n",
       "    'AddedStop': False,\n",
       "    'LastUpdate': '11:08:24 am'},\n",
       "   {'Pattern': 'S1',\n",
       "    'Destination': 'WHITE ROCK CTR',\n",
       "    'ExpectedLeaveTime': '12:28pm',\n",
       "    'ExpectedCountdown': 76,\n",
       "    'ScheduleStatus': '*',\n",
       "    'CancelledTrip': False,\n",
       "    'CancelledStop': False,\n",
       "    'AddedTrip': False,\n",
       "    'AddedStop': False,\n",
       "    'LastUpdate': '01:08:02 pm'},\n",
       "   {'Pattern': 'S1',\n",
       "    'Destination': 'WHITE ROCK CTR',\n",
       "    'ExpectedLeaveTime': '12:43pm',\n",
       "    'ExpectedCountdown': 91,\n",
       "    'ScheduleStatus': '*',\n",
       "    'CancelledTrip': False,\n",
       "    'CancelledStop': False,\n",
       "    'AddedTrip': False,\n",
       "    'AddedStop': False,\n",
       "    'LastUpdate': '01:08:02 pm'},\n",
       "   {'Pattern': 'S1',\n",
       "    'Destination': 'WHITE ROCK CTR',\n",
       "    'ExpectedLeaveTime': '12:58pm',\n",
       "    'ExpectedCountdown': 106,\n",
       "    'ScheduleStatus': '*',\n",
       "    'CancelledTrip': False,\n",
       "    'CancelledStop': False,\n",
       "    'AddedTrip': False,\n",
       "    'AddedStop': False,\n",
       "    'LastUpdate': '01:08:02 pm'}]},\n",
       " {'RouteNo': '329',\n",
       "  'RouteName': 'SURREY CENTRAL STN/SCOTTSDALE',\n",
       "  'Direction': 'SOUTH',\n",
       "  'RouteMap': {'Href': 'https://nb.translink.ca/geodata/329.kmz'},\n",
       "  'Schedules': [{'Pattern': 'SB1',\n",
       "    'Destination': 'SCOTTSDALE',\n",
       "    'ExpectedLeaveTime': '11:16am',\n",
       "    'ExpectedCountdown': 4,\n",
       "    'ScheduleStatus': '*',\n",
       "    'CancelledTrip': False,\n",
       "    'CancelledStop': False,\n",
       "    'AddedTrip': False,\n",
       "    'AddedStop': False,\n",
       "    'LastUpdate': '10:12:27 am'},\n",
       "   {'Pattern': 'SB1',\n",
       "    'Destination': 'SCOTTSDALE',\n",
       "    'ExpectedLeaveTime': '12:16pm',\n",
       "    'ExpectedCountdown': 64,\n",
       "    'ScheduleStatus': ' ',\n",
       "    'CancelledTrip': False,\n",
       "    'CancelledStop': False,\n",
       "    'AddedTrip': False,\n",
       "    'AddedStop': False,\n",
       "    'LastUpdate': '11:12:25 am'}]}]"
      ]
     },
     "execution_count": 40,
     "metadata": {},
     "output_type": "execute_result"
    }
   ],
   "source": [
    "response_json = response.json()\n",
    "response_json\n"
   ]
  },
  {
   "cell_type": "code",
   "execution_count": 31,
   "metadata": {},
   "outputs": [
    {
     "data": {
      "text/plain": [
       "{False}"
      ]
     },
     "execution_count": 31,
     "metadata": {},
     "output_type": "execute_result"
    }
   ],
   "source": [
    "cancelled_trips = []\n",
    "for bus in response_json:\n",
    "    canceled_trip = bus['Schedules'][0]['CancelledTrip']\n",
    "    cancelled_trips.append(canceled_trip)\n",
    "\n",
    "any_trips_canceled = set(cancelled_trips)\n",
    "any_trips_canceled\n",
    "    "
   ]
  },
  {
   "cell_type": "code",
   "execution_count": null,
   "metadata": {},
   "outputs": [],
   "source": []
  },
  {
   "cell_type": "code",
   "execution_count": null,
   "metadata": {},
   "outputs": [],
   "source": []
  }
 ],
 "metadata": {
  "kernelspec": {
   "display_name": "Python 3.8.13 ('lighthouse')",
   "language": "python",
   "name": "python3"
  },
  "language_info": {
   "codemirror_mode": {
    "name": "ipython",
    "version": 3
   },
   "file_extension": ".py",
   "mimetype": "text/x-python",
   "name": "python",
   "nbconvert_exporter": "python",
   "pygments_lexer": "ipython3",
   "version": "3.8.13"
  },
  "vscode": {
   "interpreter": {
    "hash": "f6bdb6bebcaa6c165db367a86e382ae8df75f09257c40532b854029e0e3d706f"
   }
  }
 },
 "nbformat": 4,
 "nbformat_minor": 4
}
