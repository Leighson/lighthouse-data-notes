{
 "cells": [
  {
   "cell_type": "markdown",
   "metadata": {},
   "source": [
    "# Introduction to Pandas"
   ]
  },
  {
   "cell_type": "code",
   "execution_count": 57,
   "metadata": {},
   "outputs": [],
   "source": [
    "import numpy as np\n",
    "import pandas as pd"
   ]
  },
  {
   "cell_type": "markdown",
   "metadata": {},
   "source": [
    "`Series` is a 1-dimensional labeled array capable of holding any data type (integers, strings, floating point numbers, Python objects, etc.) The axis labels are collectively referred to as the index.\n",
    "```\n",
    "s = pd.Series(data, index=index)\n",
    "```\n",
    "`data` can be many different things:\n",
    "- a Python dictionary\n",
    "- an ndarray\n",
    "- a scalar value\n",
    "\n",
    "The passed index is a list of axis labels."
   ]
  },
  {
   "cell_type": "markdown",
   "metadata": {},
   "source": [
    "## From `ndarray`"
   ]
  },
  {
   "cell_type": "markdown",
   "metadata": {},
   "source": [
    "If `data` is an ndarray, an index must be the same length as the data. If no index is passed, one will be created having values `[0, ..., len(data) - 1]`."
   ]
  },
  {
   "cell_type": "code",
   "execution_count": 58,
   "metadata": {},
   "outputs": [
    {
     "name": "stdout",
     "output_type": "stream",
     "text": [
      "a   -0.594161\n",
      "b    0.138052\n",
      "c    0.678388\n",
      "d    1.264257\n",
      "e    0.149400\n",
      "dtype: float64 \n",
      "\n",
      "Index(['a', 'b', 'c', 'd', 'e'], dtype='object')\n"
     ]
    }
   ],
   "source": [
    "# Here, we specify the index\n",
    "s = pd.Series(np.random.randn(5), index=['a', 'b', 'c', 'd', 'e'])\n",
    "print(s, '\\n')\n",
    "print(s.index)"
   ]
  },
  {
   "cell_type": "code",
   "execution_count": 59,
   "metadata": {},
   "outputs": [
    {
     "name": "stdout",
     "output_type": "stream",
     "text": [
      "0   -0.278788\n",
      "1    1.380488\n",
      "2    1.834854\n",
      "3   -0.923532\n",
      "4    1.842207\n",
      "dtype: float64 \n",
      "\n",
      "RangeIndex(start=0, stop=5, step=1)\n"
     ]
    }
   ],
   "source": [
    "# Here, we let Pandas create a default index\n",
    "d= pd.Series(np.random.randn(5))\n",
    "print(d, '\\n')\n",
    "print(d.index)"
   ]
  },
  {
   "cell_type": "markdown",
   "metadata": {},
   "source": [
    "> `Pandas` supports non-unique index values. If an operation that does not support duplciate index values is attempted, an exception will be raised at that time."
   ]
  },
  {
   "cell_type": "markdown",
   "metadata": {},
   "source": [
    "## From `dict`"
   ]
  },
  {
   "cell_type": "markdown",
   "metadata": {},
   "source": [
    "When data is a dict, and an index is not passed, the **Series** index will be ordered by the dict's insertion order. There is no sorting if you have:\n",
    "- Python version >= 3.65\n",
    "- Pandas version >= 0.23."
   ]
  },
  {
   "cell_type": "code",
   "execution_count": 60,
   "metadata": {},
   "outputs": [
    {
     "data": {
      "text/plain": [
       "b    1\n",
       "a    0\n",
       "c    2\n",
       "dtype: int64"
      ]
     },
     "execution_count": 60,
     "metadata": {},
     "output_type": "execute_result"
    }
   ],
   "source": [
    "# Create a dictionary\n",
    "d = {\n",
    "    'b' : 1,\n",
    "    'a' : 0,\n",
    "    'c' : 2\n",
    "}\n",
    "\n",
    "# Create a database\n",
    "pd.Series(d)"
   ]
  },
  {
   "cell_type": "markdown",
   "metadata": {},
   "source": [
    "## From `scalar` value"
   ]
  },
  {
   "cell_type": "markdown",
   "metadata": {},
   "source": [
    "If `data` is a scalar value, an index must be provided. The value will be repeated to match the length of the index."
   ]
  },
  {
   "cell_type": "code",
   "execution_count": 61,
   "metadata": {},
   "outputs": [
    {
     "name": "stdout",
     "output_type": "stream",
     "text": [
      "a   -0.594161\n",
      "b    0.138052\n",
      "c    0.678388\n",
      "d    1.264257\n",
      "e    0.149400\n",
      "dtype: float64\n"
     ]
    }
   ],
   "source": [
    "n = pd.Series(5., index=['a', 'b', 'c', 'd', 'e'])\n",
    "print(s)"
   ]
  },
  {
   "cell_type": "markdown",
   "metadata": {},
   "source": [
    "## Series is `ndarray`-like"
   ]
  },
  {
   "cell_type": "markdown",
   "metadata": {},
   "source": [
    "Series acts very similarly to a `ndarray` from `NumPy` and is a valid argument to most Numpy functions. Operations such as slicing will also slice the index."
   ]
  },
  {
   "cell_type": "code",
   "execution_count": 62,
   "metadata": {},
   "outputs": [
    {
     "name": "stdout",
     "output_type": "stream",
     "text": [
      "-0.5941611206209565 \n",
      "\n",
      "a   -0.594161\n",
      "b    0.138052\n",
      "c    0.678388\n",
      "dtype: float64 \n",
      "\n",
      "c    0.678388\n",
      "d    1.264257\n",
      "dtype: float64 \n",
      "\n",
      "e    0.149400\n",
      "d    1.264257\n",
      "b    0.138052\n",
      "dtype: float64 \n",
      "\n",
      "a    0.552025\n",
      "b    1.148035\n",
      "c    1.970698\n",
      "d    3.540463\n",
      "e    1.161138\n",
      "dtype: float64\n"
     ]
    }
   ],
   "source": [
    "print(s[0], '\\n')\n",
    "print(s[:3], '\\n')\n",
    "print(s[s > s.median()], '\\n')\n",
    "print(s[[4, 3, 1]], '\\n')\n",
    "print(np.exp(s))"
   ]
  },
  {
   "cell_type": "code",
   "execution_count": 63,
   "metadata": {},
   "outputs": [
    {
     "data": {
      "text/plain": [
       "dtype('float64')"
      ]
     },
     "execution_count": 63,
     "metadata": {},
     "output_type": "execute_result"
    }
   ],
   "source": [
    "s.dtype"
   ]
  },
  {
   "cell_type": "code",
   "execution_count": 64,
   "metadata": {},
   "outputs": [
    {
     "data": {
      "text/plain": [
       "array([-0.59416112,  0.13805197,  0.6783876 ,  1.26425739,  0.14940031])"
      ]
     },
     "execution_count": 64,
     "metadata": {},
     "output_type": "execute_result"
    }
   ],
   "source": [
    "s.to_numpy()"
   ]
  },
  {
   "cell_type": "markdown",
   "metadata": {},
   "source": [
    "## Series is `dict`-like"
   ]
  },
  {
   "cell_type": "markdown",
   "metadata": {},
   "source": [
    "A `series` is like a fixed-size dict in which you can get and set values by an index label."
   ]
  },
  {
   "cell_type": "code",
   "execution_count": 65,
   "metadata": {},
   "outputs": [
    {
     "name": "stdout",
     "output_type": "stream",
     "text": [
      "-0.5941611206209565\n",
      "0.14940030629934656\n",
      "12.0\n",
      "True\n",
      "False\n"
     ]
    }
   ],
   "source": [
    "print(s['a'])\n",
    "print(s['e'])\n",
    "s['e'] = 12\n",
    "print(s['e'])\n",
    "print('e' in s)\n",
    "print('f' in s)"
   ]
  },
  {
   "cell_type": "markdown",
   "metadata": {},
   "source": [
    "## Vectorized operations"
   ]
  },
  {
   "cell_type": "markdown",
   "metadata": {},
   "source": [
    "When working with raw `NumPy` arrays, looping through value-by-value is usually not necessary. The same is true when working with `Series` in Pandas. `Series` can also be passed into most NumPy methods expecting an `ndarray`."
   ]
  },
  {
   "cell_type": "code",
   "execution_count": 66,
   "metadata": {},
   "outputs": [
    {
     "data": {
      "text/plain": [
       "a    -1.188322\n",
       "b     0.276104\n",
       "c     1.356775\n",
       "d     2.528515\n",
       "e    24.000000\n",
       "dtype: float64"
      ]
     },
     "execution_count": 66,
     "metadata": {},
     "output_type": "execute_result"
    }
   ],
   "source": [
    "s + s"
   ]
  },
  {
   "cell_type": "code",
   "execution_count": 67,
   "metadata": {},
   "outputs": [
    {
     "data": {
      "text/plain": [
       "a    -1.188322\n",
       "b     0.276104\n",
       "c     1.356775\n",
       "d     2.528515\n",
       "e    24.000000\n",
       "dtype: float64"
      ]
     },
     "execution_count": 67,
     "metadata": {},
     "output_type": "execute_result"
    }
   ],
   "source": [
    "s * 2"
   ]
  },
  {
   "cell_type": "code",
   "execution_count": 68,
   "metadata": {},
   "outputs": [
    {
     "data": {
      "text/plain": [
       "a         0.552025\n",
       "b         1.148035\n",
       "c         1.970698\n",
       "d         3.540463\n",
       "e    162754.791419\n",
       "dtype: float64"
      ]
     },
     "execution_count": 68,
     "metadata": {},
     "output_type": "execute_result"
    }
   ],
   "source": [
    "np.exp(s)"
   ]
  },
  {
   "cell_type": "markdown",
   "metadata": {},
   "source": [
    "> The result of an operation between unaligned `Series` will involve the union of the indexes. If a label is not found in one `Series` or the other, the result with be marked as missing NaN."
   ]
  },
  {
   "cell_type": "markdown",
   "metadata": {},
   "source": [
    "## Name attribute"
   ]
  },
  {
   "cell_type": "markdown",
   "metadata": {},
   "source": [
    "`Series` can also have a `name` attribute."
   ]
  },
  {
   "cell_type": "code",
   "execution_count": 69,
   "metadata": {},
   "outputs": [],
   "source": [
    "s = pd.Series(np.random.randn(5), name='something')"
   ]
  },
  {
   "cell_type": "code",
   "execution_count": 70,
   "metadata": {},
   "outputs": [
    {
     "data": {
      "text/plain": [
       "0    0.178773\n",
       "1   -0.251875\n",
       "2   -1.202340\n",
       "3   -0.341223\n",
       "4   -0.554626\n",
       "Name: something, dtype: float64"
      ]
     },
     "execution_count": 70,
     "metadata": {},
     "output_type": "execute_result"
    }
   ],
   "source": [
    "s"
   ]
  },
  {
   "cell_type": "code",
   "execution_count": 71,
   "metadata": {},
   "outputs": [
    {
     "data": {
      "text/plain": [
       "'something'"
      ]
     },
     "execution_count": 71,
     "metadata": {},
     "output_type": "execute_result"
    }
   ],
   "source": [
    "s.name"
   ]
  },
  {
   "cell_type": "markdown",
   "metadata": {},
   "source": [
    "# Pandas DataFrame"
   ]
  },
  {
   "cell_type": "markdown",
   "metadata": {},
   "source": [
    "For this activity, we can continue in the notebook fromthe previous activity. If you decide to create a new one, don't forget to import the packages.\n",
    "\n",
    "`DataFrame` is a 2-dimensional labeled data structure with columns of cpotentially different types. You can think of it like a spreadsheet or SQL table, or a `dictionary` of `Series` objects. They are generally the most commonly used Pandas object.\n",
    "\n",
    "`DataFrame` accepts many different kinds of input:\n",
    "- dictionary of 1-D `ndarrays`, `lists`, `dictionaries`, or `Series`\n",
    "- 2-D `ndarray`\n",
    "- `Series`\n",
    "- `DataFrame`"
   ]
  },
  {
   "cell_type": "markdown",
   "metadata": {},
   "source": []
  }
 ],
 "metadata": {
  "kernelspec": {
   "display_name": "Python 3.8.13 ('lighthouse')",
   "language": "python",
   "name": "python3"
  },
  "language_info": {
   "codemirror_mode": {
    "name": "ipython",
    "version": 3
   },
   "file_extension": ".py",
   "mimetype": "text/x-python",
   "name": "python",
   "nbconvert_exporter": "python",
   "pygments_lexer": "ipython3",
   "version": "3.8.13"
  },
  "orig_nbformat": 4,
  "vscode": {
   "interpreter": {
    "hash": "f6bdb6bebcaa6c165db367a86e382ae8df75f09257c40532b854029e0e3d706f"
   }
  }
 },
 "nbformat": 4,
 "nbformat_minor": 2
}
