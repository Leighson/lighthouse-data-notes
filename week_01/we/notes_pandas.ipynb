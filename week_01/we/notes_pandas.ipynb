{
 "cells": [
  {
   "cell_type": "markdown",
   "metadata": {},
   "source": [
    "# Introduction to Pandas"
   ]
  },
  {
   "cell_type": "code",
   "execution_count": 19,
   "metadata": {},
   "outputs": [],
   "source": [
    "import numpy as np\n",
    "import pandas as pd"
   ]
  },
  {
   "cell_type": "markdown",
   "metadata": {},
   "source": [
    "`Series` is a 1-dimensional labeled array capable of holding any data type (integers, strings, floating point numbers, Python objects, etc.) The axis labels are collectively referred to as the index.\n",
    "```\n",
    "s = pd.Series(data, index=index)\n",
    "```\n",
    "`data` can be many different things:\n",
    "- a Python dictionary\n",
    "- an ndarray\n",
    "- a scalar value\n",
    "\n",
    "The passed index is a list of axis labels."
   ]
  },
  {
   "cell_type": "markdown",
   "metadata": {},
   "source": [
    "## From `ndarray`"
   ]
  },
  {
   "cell_type": "markdown",
   "metadata": {},
   "source": [
    "If `data` is an ndarray, an index must be the same length as the data. If no index is passed, one will be created having values `[0, ..., len(data) - 1]`."
   ]
  },
  {
   "cell_type": "code",
   "execution_count": 20,
   "metadata": {},
   "outputs": [
    {
     "name": "stdout",
     "output_type": "stream",
     "text": [
      "a    0.318553\n",
      "b   -1.289665\n",
      "c    0.907064\n",
      "d   -0.414245\n",
      "e   -0.888388\n",
      "dtype: float64 \n",
      "\n",
      "Index(['a', 'b', 'c', 'd', 'e'], dtype='object')\n"
     ]
    }
   ],
   "source": [
    "# Here, we specify the index\n",
    "s = pd.Series(np.random.randn(5), index=['a', 'b', 'c', 'd', 'e'])\n",
    "print(s, '\\n')\n",
    "print(s.index)"
   ]
  },
  {
   "cell_type": "code",
   "execution_count": 21,
   "metadata": {},
   "outputs": [
    {
     "name": "stdout",
     "output_type": "stream",
     "text": [
      "0   -0.295933\n",
      "1   -0.214790\n",
      "2    0.154161\n",
      "3   -0.889950\n",
      "4   -0.202108\n",
      "dtype: float64 \n",
      "\n",
      "RangeIndex(start=0, stop=5, step=1)\n"
     ]
    }
   ],
   "source": [
    "# Here, we let Pandas create a default index\n",
    "d= pd.Series(np.random.randn(5))\n",
    "print(d, '\\n')\n",
    "print(d.index)"
   ]
  },
  {
   "cell_type": "markdown",
   "metadata": {},
   "source": [
    "> `Pandas` supports non-unique index values. If an operation that does not support duplciate index values is attempted, an exception will be raised at that time."
   ]
  },
  {
   "cell_type": "markdown",
   "metadata": {},
   "source": [
    "## From `dict`"
   ]
  },
  {
   "cell_type": "markdown",
   "metadata": {},
   "source": [
    "When data is a dict, and an index is not passed, the **Series** index will be ordered by the dict's insertion order. There is no sorting if you have:\n",
    "- Python version >= 3.65\n",
    "- Pandas version >= 0.23."
   ]
  },
  {
   "cell_type": "code",
   "execution_count": 22,
   "metadata": {},
   "outputs": [
    {
     "data": {
      "text/plain": [
       "b    1\n",
       "a    0\n",
       "c    2\n",
       "dtype: int64"
      ]
     },
     "execution_count": 22,
     "metadata": {},
     "output_type": "execute_result"
    }
   ],
   "source": [
    "# Create a dictionary\n",
    "d = {\n",
    "    'b' : 1,\n",
    "    'a' : 0,\n",
    "    'c' : 2\n",
    "}\n",
    "\n",
    "# Create a database\n",
    "pd.Series(d)"
   ]
  },
  {
   "cell_type": "markdown",
   "metadata": {},
   "source": [
    "## From `scalar` value"
   ]
  },
  {
   "cell_type": "markdown",
   "metadata": {},
   "source": [
    "If `data` is a scalar value, an index must be provided. The value will be repeated to match the length of the index."
   ]
  },
  {
   "cell_type": "code",
   "execution_count": 23,
   "metadata": {},
   "outputs": [
    {
     "name": "stdout",
     "output_type": "stream",
     "text": [
      "a    0.318553\n",
      "b   -1.289665\n",
      "c    0.907064\n",
      "d   -0.414245\n",
      "e   -0.888388\n",
      "dtype: float64\n"
     ]
    }
   ],
   "source": [
    "n = pd.Series(5., index=['a', 'b', 'c', 'd', 'e'])\n",
    "print(s)"
   ]
  },
  {
   "cell_type": "markdown",
   "metadata": {},
   "source": [
    "## Series is `ndarray`-like"
   ]
  },
  {
   "cell_type": "markdown",
   "metadata": {},
   "source": [
    "Series acts very similarly to a `ndarray` from `NumPy` and is a valid argument to most Numpy functions. Operations such as slicing will also slice the index."
   ]
  },
  {
   "cell_type": "code",
   "execution_count": 30,
   "metadata": {},
   "outputs": [
    {
     "name": "stdout",
     "output_type": "stream",
     "text": [
      "0.3185527493015059 \n",
      "\n",
      "a    0.318553\n",
      "b   -1.289665\n",
      "c    0.907064\n",
      "dtype: float64 \n",
      "\n",
      "a    0.318553\n",
      "c    0.907064\n",
      "dtype: float64 \n",
      "\n",
      "e   -0.888388\n",
      "d   -0.414245\n",
      "b   -1.289665\n",
      "dtype: float64 \n",
      "\n",
      "a    1.375136\n",
      "b    0.275363\n",
      "c    2.477040\n",
      "d    0.660839\n",
      "e    0.411318\n",
      "dtype: float64\n"
     ]
    }
   ],
   "source": [
    "print(s[0], '\\n')\n",
    "print(s[:3], '\\n')\n",
    "print(s[s > s.median()], '\\n')\n",
    "print(s[[4, 3, 1]], '\\n')\n",
    "print(np.exp(s))"
   ]
  },
  {
   "cell_type": "code",
   "execution_count": 31,
   "metadata": {},
   "outputs": [
    {
     "data": {
      "text/plain": [
       "dtype('float64')"
      ]
     },
     "execution_count": 31,
     "metadata": {},
     "output_type": "execute_result"
    }
   ],
   "source": [
    "s.dtype"
   ]
  },
  {
   "cell_type": "code",
   "execution_count": 32,
   "metadata": {},
   "outputs": [
    {
     "data": {
      "text/plain": [
       "array([ 0.31855275, -1.28966505,  0.90706435, -0.41424527, -0.88838827])"
      ]
     },
     "execution_count": 32,
     "metadata": {},
     "output_type": "execute_result"
    }
   ],
   "source": [
    "s.to_numpy()"
   ]
  },
  {
   "cell_type": "markdown",
   "metadata": {},
   "source": [
    "## Series is `dict`-like"
   ]
  },
  {
   "cell_type": "markdown",
   "metadata": {},
   "source": [
    "A `series` is like a fixed-size dict in which you can get and set values by an index label."
   ]
  },
  {
   "cell_type": "code",
   "execution_count": 33,
   "metadata": {},
   "outputs": [
    {
     "name": "stdout",
     "output_type": "stream",
     "text": [
      "0.3185527493015059\n",
      "-0.888388268996491\n",
      "12.0\n",
      "True\n",
      "False\n"
     ]
    }
   ],
   "source": [
    "print(s['a'])\n",
    "print(s['e'])\n",
    "s['e'] = 12\n",
    "print(s['e'])\n",
    "print('e' in s)\n",
    "print('f' in s)"
   ]
  },
  {
   "cell_type": "markdown",
   "metadata": {},
   "source": [
    "# Vectorized operations"
   ]
  },
  {
   "cell_type": "markdown",
   "metadata": {},
   "source": [
    "When working with raw `NumPy` arrays, looping through value-by-value is usually not necessary. The same is true when working with `Series` in Pandas. `Series` can also be passed into most NumPy methods expecting an `ndarray`."
   ]
  },
  {
   "cell_type": "code",
   "execution_count": 36,
   "metadata": {},
   "outputs": [
    {
     "data": {
      "text/plain": [
       "a     0.637105\n",
       "b    -2.579330\n",
       "c     1.814129\n",
       "d    -0.828491\n",
       "e    24.000000\n",
       "dtype: float64"
      ]
     },
     "execution_count": 36,
     "metadata": {},
     "output_type": "execute_result"
    }
   ],
   "source": [
    "s + s"
   ]
  },
  {
   "cell_type": "code",
   "execution_count": 37,
   "metadata": {},
   "outputs": [
    {
     "data": {
      "text/plain": [
       "a     0.637105\n",
       "b    -2.579330\n",
       "c     1.814129\n",
       "d    -0.828491\n",
       "e    24.000000\n",
       "dtype: float64"
      ]
     },
     "execution_count": 37,
     "metadata": {},
     "output_type": "execute_result"
    }
   ],
   "source": [
    "s * 2"
   ]
  },
  {
   "cell_type": "code",
   "execution_count": 38,
   "metadata": {},
   "outputs": [
    {
     "data": {
      "text/plain": [
       "a         1.375136\n",
       "b         0.275363\n",
       "c         2.477040\n",
       "d         0.660839\n",
       "e    162754.791419\n",
       "dtype: float64"
      ]
     },
     "execution_count": 38,
     "metadata": {},
     "output_type": "execute_result"
    }
   ],
   "source": [
    "np.exp(s)"
   ]
  },
  {
   "cell_type": "markdown",
   "metadata": {},
   "source": [
    "> The result of an operation between unaligned `Series` will involve the union of the indexes. If a label is not found in one `Series` or the other, the result with be marked as missing NaN."
   ]
  },
  {
   "cell_type": "markdown",
   "metadata": {},
   "source": [
    "# Name attribute"
   ]
  },
  {
   "cell_type": "markdown",
   "metadata": {},
   "source": [
    "`Series` can also have a `name` attribute."
   ]
  },
  {
   "cell_type": "code",
   "execution_count": 39,
   "metadata": {},
   "outputs": [],
   "source": [
    "s = pd.Series(np.random.randn(5), name='something')"
   ]
  },
  {
   "cell_type": "code",
   "execution_count": 40,
   "metadata": {},
   "outputs": [
    {
     "data": {
      "text/plain": [
       "0    0.225447\n",
       "1   -1.089910\n",
       "2    0.991729\n",
       "3    0.411017\n",
       "4    1.036562\n",
       "Name: something, dtype: float64"
      ]
     },
     "execution_count": 40,
     "metadata": {},
     "output_type": "execute_result"
    }
   ],
   "source": [
    "s"
   ]
  },
  {
   "cell_type": "code",
   "execution_count": 41,
   "metadata": {},
   "outputs": [
    {
     "data": {
      "text/plain": [
       "'something'"
      ]
     },
     "execution_count": 41,
     "metadata": {},
     "output_type": "execute_result"
    }
   ],
   "source": [
    "s.name"
   ]
  }
 ],
 "metadata": {
  "kernelspec": {
   "display_name": "Python 3.8.13 ('lighthouse')",
   "language": "python",
   "name": "python3"
  },
  "language_info": {
   "codemirror_mode": {
    "name": "ipython",
    "version": 3
   },
   "file_extension": ".py",
   "mimetype": "text/x-python",
   "name": "python",
   "nbconvert_exporter": "python",
   "pygments_lexer": "ipython3",
   "version": "3.8.13"
  },
  "orig_nbformat": 4,
  "vscode": {
   "interpreter": {
    "hash": "f6bdb6bebcaa6c165db367a86e382ae8df75f09257c40532b854029e0e3d706f"
   }
  }
 },
 "nbformat": 4,
 "nbformat_minor": 2
}
