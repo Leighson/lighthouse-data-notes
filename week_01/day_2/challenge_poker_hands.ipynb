{
 "cells": [
  {
   "cell_type": "markdown",
   "metadata": {},
   "source": [
    "# Python Programming Challenge\n",
    "\n",
    "## Poker Hand\n",
    "\n",
    "In this challenge, we have to determine which kind of Poker combination is present in a deck of 5 cards. Every card is a string containing the card value **with the upper-case initial for face-cards** and the **lower-case initial for the suit**, as seen in the examples below:\n",
    "\n",
    "> \"Ah\" ➞ Ace of hearts <br>\n",
    "> \"Ks\" ➞ King of spades<br>\n",
    "> \"3d\" ➞ Three of diamonds<br>\n",
    "> \"Qc\" ➞ Queen of clubs <br>\n",
    "\n",
    "There are 10 different combinations. Here's the list, in descending order of importance:"
   ]
  },
  {
   "cell_type": "markdown",
   "metadata": {},
   "source": [
    "| Name            | Description                                         |\n",
    "|-----------------|-----------------------------------------------------|\n",
    "| Royal Flush     | A, K, Q, J, 10, all with the same suit.             |\n",
    "| Straight Flush  | Five cards in sequence, all with the same suit.     |\n",
    "| Four of a Kind  | Four cards of the same rank.                        |\n",
    "| Full House      | Three of a Kind with a Pair.                        |\n",
    "| Flush           | Any five cards of the same suit, not in sequence    |\n",
    "| Straight        | Five cards in a sequence, but not of the same suit. |\n",
    "| Three of a Kind | Three cards of the same rank.                       |\n",
    "| Two Pair        | Two different Pairs.                                |\n",
    "| Pair            | Two cards of the same rank.                         |\n",
    "| High Card       | No other valid combination.                         |\n",
    "\n",
    "---------"
   ]
  },
  {
   "cell_type": "markdown",
   "metadata": {},
   "source": [
    "#### 1. Given a list `hand` containing five strings being the cards. Implement a function called `poker_hand_ranking` that **returns a string with the name of the highest combination obtained.** According to the table above.\n",
    "\n",
    "**Examples:**\n",
    "\n",
    "> poker_hand_ranking([\"10h\", \"Jh\", \"Qh\", \"Ah\", \"Kh\"]) ➞ \"Royal Flush\"<br>\n",
    "> poker_hand_ranking([\"3h\", \"5h\", \"Qs\", \"9h\", \"Ad\"]) ➞ \"High Card\"<br>\n",
    "> poker_hand_ranking([\"10s\", \"10c\", \"8d\", \"10d\", \"10h\"]) ➞ \"Four of a Kind\"<br>"
   ]
  },
  {
   "cell_type": "markdown",
   "metadata": {},
   "source": [
    "### Head"
   ]
  },
  {
   "cell_type": "code",
   "execution_count": 95,
   "metadata": {},
   "outputs": [],
   "source": [
    "# import libraries\n",
    "from collections import Counter"
   ]
  },
  {
   "cell_type": "code",
   "execution_count": 96,
   "metadata": {},
   "outputs": [],
   "source": [
    "# for testing\n",
    "hand1 = [\"10h\", \"Jh\", \"Qh\", \"Ah\", \"Kh\"]\n",
    "hand2 = [\"3h\", \"5h\", \"Qs\", \"9h\", \"Ad\"]\n",
    "hand3 = [\"10s\", \"10c\", \"8d\", \"10d\", \"10h\"]\n",
    "hand4 = [\"6d\", \"2h\", \"4c\", \"5d\", \"3h\"]\n",
    "hand5 = [\"6d\", \"6h\", \"4c\", \"5d\", \"5h\"]\n",
    "hand6 = [\"6d\", \"3d\", \"4c\", \"Ad\", \"3h\"]\n",
    "hand7 = [\"2d\", \"4c\", \"2h\", \"5d\", \"5h\"]"
   ]
  },
  {
   "cell_type": "markdown",
   "metadata": {},
   "source": [
    "### The Cards"
   ]
  },
  {
   "cell_type": "code",
   "execution_count": 97,
   "metadata": {},
   "outputs": [],
   "source": [
    "# define the face conversion\n",
    "face_value = [i for i in range(1,14)]\n",
    "face_key = ['A'] + [str(i) for i in range(2,11)] + ['J', 'Q', 'K']\n",
    "face = dict(zip(face_key, face_value))\n",
    "\n",
    "# define the suit conversion\n",
    "suit = ['h', # hearts\n",
    "        's', # spades\n",
    "        'd', # diamonds\n",
    "        'c'] # clubs"
   ]
  },
  {
   "cell_type": "markdown",
   "metadata": {},
   "source": [
    "### Functions"
   ]
  },
  {
   "cell_type": "markdown",
   "metadata": {},
   "source": [
    "##### The 10-Cards"
   ]
  },
  {
   "cell_type": "code",
   "execution_count": 98,
   "metadata": {},
   "outputs": [],
   "source": [
    "# evaluate if value is 10\n",
    "def ten(face):\n",
    "    return face[:2] == '10'"
   ]
  },
  {
   "cell_type": "markdown",
   "metadata": {},
   "source": [
    "##### Card Names to Values"
   ]
  },
  {
   "cell_type": "code",
   "execution_count": 99,
   "metadata": {},
   "outputs": [],
   "source": [
    "def card_values(hand):\n",
    "    # if the card value is 10, use ten() to pull 2 digits rather than just the first\n",
    "    values = [card[:2] if ten(card) else card[0] for card in hand]\n",
    "    \n",
    "    # return the hand as value pairs of value & keys, respectively\n",
    "    return [face[value] for value in values], [card[-1] for card in hand]"
   ]
  },
  {
   "cell_type": "markdown",
   "metadata": {},
   "source": [
    "##### Hand Configurations"
   ]
  },
  {
   "cell_type": "code",
   "execution_count": 100,
   "metadata": {},
   "outputs": [],
   "source": [
    "######## FLUSHES #########\n",
    "\n",
    "def flush(hand):\n",
    "    # convert hand to values and create Counter class;\n",
    "    # the Counter class counts the argument elements, then returns the results as a key/value pair\n",
    "    # where the key is the element being counted\n",
    "    values, suits = card_values(hand)\n",
    "    suit_count = Counter(suits)\n",
    "    \n",
    "    # flush requires that the entire hand is the same suit\n",
    "    # if the Counter returns a result of 5 for any element,\n",
    "    # then we can conclude that the hand is at least a flush \n",
    "    for key, value in suit_count.items():\n",
    "        if value == 5 and key in suit:\n",
    "            return True\n",
    "        \n",
    "    return False\n",
    "\n",
    "\n",
    "######## STRAIGHTS #########\n",
    "\n",
    "def straight(hand):\n",
    "    # sort values to facilitate evaluation of straight status\n",
    "    values, suits = card_values(hand)\n",
    "    values = sorted(values)\n",
    "    \n",
    "    for i, value in enumerate(values):\n",
    "        # evaluate if value is 1 and continue if next value is either 2 or 10\n",
    "        # a value of 1 represents an ace, which will be next to a 2 or 10\n",
    "        # in a sorted list if the hand is a straight that ends or begins with an ace\n",
    "        if value == 1 and (values[i+1] == 2 or values[i+1] == 10):\n",
    "            continue\n",
    "        elif value == 1 and not (values[i+1] == 2 or values[i+1] == 10):\n",
    "            return False\n",
    "        \n",
    "        # evaluate if numbers increase by 1\n",
    "        # if the loop reaches the end of the list, return True\n",
    "        # otherwise, return False\n",
    "        try:\n",
    "            if value + 1 == values[i+1]:\n",
    "                continue\n",
    "            else:\n",
    "                return False\n",
    "        except IndexError:\n",
    "            return True\n",
    "        \n",
    "\n",
    "######## ROYALS #########\n",
    "\n",
    "# this is a permutation of a straight so evaluation of a royal hand is a subset\n",
    "# of the straight function, which strictly begins with a hand value of 1\n",
    "def royals(hand):\n",
    "    return straight(hand) and hand[0] == 1\n",
    "        \n",
    "        \n",
    "######## 4-KINDS #########\n",
    "\n",
    "# Counter class is necessary here to reveal\n",
    "# any elements that repeats 4 times\n",
    "def fourkinds(hand):\n",
    "    values, suits = card_values(hand)\n",
    "    value_count = Counter(values)\n",
    "    \n",
    "    # catch if any elements repeats 4 times\n",
    "    for count in value_count.values():\n",
    "            if count == 4:\n",
    "                return True\n",
    "    \n",
    "    return False\n",
    "\n",
    "\n",
    "######## TTRIPLES #########\n",
    "\n",
    "# Counter class is necessary here to reveal\n",
    "# any elements that repeats 3 times\n",
    "def triples(hand):\n",
    "    # convert hand to values\n",
    "    values, suits = card_values(hand)\n",
    "    value_count = Counter(values)\n",
    "    \n",
    "    # catch if any elements repeats 3 times\n",
    "    for count in value_count.values():\n",
    "            if count == 3:\n",
    "                return True\n",
    "    \n",
    "    return False\n",
    "\n",
    "\n",
    "####### PAIRS ########\n",
    "\n",
    "# Counter class is necessary here to reveal\n",
    "# any elements that repeats twice\n",
    "def pairs(hand):\n",
    "    # convert hand to values\n",
    "    values, suits = card_values(hand)\n",
    "    value_count = Counter(values)\n",
    "    \n",
    "    # catch if any elements repeats twice\n",
    "    for count in value_count.values():\n",
    "            if count == 2:\n",
    "                return True\n",
    "    \n",
    "    return False"
   ]
  },
  {
   "cell_type": "markdown",
   "metadata": {},
   "source": [
    "##### Evaluate Hands"
   ]
  },
  {
   "cell_type": "code",
   "execution_count": 101,
   "metadata": {},
   "outputs": [],
   "source": [
    "# all hand configuration evaluator functions return boolean values, True or False\n",
    "\n",
    "def poker_hand_ranking(hand):\n",
    "    \n",
    "    if royals(hand) and flush(hand):\n",
    "        return 'royal flush', 7\n",
    "    \n",
    "    if straight(hand) and flush(hand):\n",
    "        return 'straight flush', 6\n",
    "    \n",
    "    if fourkinds(hand):\n",
    "        return 'four of a kind', 5\n",
    "    \n",
    "    if triples(hand) and pairs(hand):\n",
    "        return 'full house', 4\n",
    "    \n",
    "    if flush(hand):\n",
    "        return 'flush', 3\n",
    "    \n",
    "    if straight(hand):\n",
    "        return 'straight', 2\n",
    "    \n",
    "    if triples(hand):\n",
    "        return 'triples', 1\n",
    "    \n",
    "    if pairs(hand):\n",
    "        number, suit = card_values(hand)\n",
    "        \n",
    "        # using Counter, determine the 2 most common repeating elements\n",
    "        # if the 2 most common elements both repeat twice, then the hand is a 2-pair\n",
    "        if Counter(number).most_common(2)[0][1] == 2 and Counter(number).most_common(2)[1][1] == 2:\n",
    "            return 'two pair'\n",
    "        else:\n",
    "            return 'pair'\n",
    "    \n",
    "    return max(hand)"
   ]
  },
  {
   "cell_type": "code",
   "execution_count": 102,
   "metadata": {},
   "outputs": [
    {
     "name": "stdout",
     "output_type": "stream",
     "text": [
      "straight flush\n",
      "Qs\n",
      "four of a kind\n",
      "straight\n",
      "two pair\n",
      "pair\n",
      "two pair\n"
     ]
    }
   ],
   "source": [
    "print(poker_hand_ranking(hand1))\n",
    "print(poker_hand_ranking(hand2))\n",
    "print(poker_hand_ranking(hand3))\n",
    "print(poker_hand_ranking(hand4))\n",
    "print(poker_hand_ranking(hand5))\n",
    "print(poker_hand_ranking(hand6))\n",
    "print(poker_hand_ranking(hand7))"
   ]
  },
  {
   "cell_type": "code",
   "execution_count": 103,
   "metadata": {},
   "outputs": [],
   "source": [
    "# answer key\n",
    "hand1 = [\"10h\", \"Jh\", \"Qh\", \"Ah\", \"Kh\"] # straight flush, 10 to A for Hearts\n",
    "hand2 = [\"3h\", \"5h\", \"Qs\", \"9h\", \"Ad\"] # highest card, Qs\n",
    "hand3 = [\"10s\", \"10c\", \"8d\", \"10d\", \"10h\"] # 4 of a kind, 10\n",
    "hand4 = [\"6d\", \"2h\", \"4c\", \"5d\", \"3h\"] # straight, 2 to 6\n",
    "hand5 = [\"6d\", \"6h\", \"4c\", \"5d\", \"5h\"] # two pair, 6 & 5\n",
    "hand6 = [\"6d\", \"3d\", \"4c\", \"Ad\", \"3h\"] # pair, 3\n",
    "hand7 = [\"2d\", \"4c\", \"2h\", \"5d\", \"5h\"] # two pair, 2 & 5"
   ]
  },
  {
   "cell_type": "markdown",
   "metadata": {},
   "source": [
    "------------\n",
    "### **Stretch Content**\n",
    "\n",
    "#### 2.  Implement a function `winner_is` that returns the winner given a dictionary with different players and their hands. \n",
    "**Example**\n",
    "\n",
    "We define dictionary like\n",
    "```python\n",
    "round_1 = {\"John\" = [\"10h\", \"Jh\", \"Qh\", \"Ah\", \"Kh\"], \n",
    "        \"Peter\" = [\"3h\", \"5h\", \"Qs\", \"9h\", \"Ad\"]}\n",
    "```\n",
    "\n",
    "Our function returns the name of the winner:\n",
    "> winner_is(round_1) --> \"John\"\n",
    "\n",
    "One table can have up to 10 players.\n"
   ]
  },
  {
   "cell_type": "code",
   "execution_count": 104,
   "metadata": {},
   "outputs": [],
   "source": [
    "round_1 = {\"John\" : [\"10h\", \"Jh\", \"Qh\", \"Ah\", \"Kh\"],\n",
    "        \"Peter\" : [\"3h\", \"5h\", \"Qs\", \"9h\", \"Ad\"]}"
   ]
  },
  {
   "cell_type": "code",
   "execution_count": 105,
   "metadata": {},
   "outputs": [
    {
     "ename": "SyntaxError",
     "evalue": "invalid syntax (1751875085.py, line 3)",
     "output_type": "error",
     "traceback": [
      "\u001b[0;36m  Input \u001b[0;32mIn [105]\u001b[0;36m\u001b[0m\n\u001b[0;31m    for key, value\u001b[0m\n\u001b[0m                  ^\u001b[0m\n\u001b[0;31mSyntaxError\u001b[0m\u001b[0;31m:\u001b[0m invalid syntax\n"
     ]
    }
   ],
   "source": [
    "def winner_is(round):\n",
    "    \n",
    "    \n",
    "    for key, value\n",
    "    \n",
    "    return winner"
   ]
  },
  {
   "cell_type": "code",
   "execution_count": null,
   "metadata": {},
   "outputs": [],
   "source": []
  },
  {
   "cell_type": "code",
   "execution_count": null,
   "metadata": {},
   "outputs": [],
   "source": []
  },
  {
   "cell_type": "code",
   "execution_count": null,
   "metadata": {},
   "outputs": [],
   "source": []
  },
  {
   "cell_type": "markdown",
   "metadata": {},
   "source": [
    "#### 3. Create a function `distribute_cards` that randomly generates and gives 5 cards to every player given a list of player names.\n",
    "\n",
    "**Example**\n",
    "\n",
    "> distribute_cards([\"John\",\"Peter\"])  -> round_1 = {\"John\" = [\"10h\", \"Jh\", \"Qh\", \"Ah\", \"Kh\"], \n",
    "        \"Peter\" = [\"3h\", \"5h\", \"Qs\", \"9h\", \"Ad\"]\n",
    "}"
   ]
  },
  {
   "cell_type": "code",
   "execution_count": null,
   "metadata": {},
   "outputs": [],
   "source": []
  },
  {
   "cell_type": "code",
   "execution_count": null,
   "metadata": {},
   "outputs": [],
   "source": []
  },
  {
   "cell_type": "code",
   "execution_count": null,
   "metadata": {},
   "outputs": [],
   "source": []
  },
  {
   "cell_type": "code",
   "execution_count": null,
   "metadata": {},
   "outputs": [],
   "source": []
  }
 ],
 "metadata": {
  "interpreter": {
   "hash": "f6bdb6bebcaa6c165db367a86e382ae8df75f09257c40532b854029e0e3d706f"
  },
  "kernelspec": {
   "display_name": "Python 3.8.13 ('lighthouse')",
   "language": "python",
   "name": "python3"
  },
  "language_info": {
   "codemirror_mode": {
    "name": "ipython",
    "version": 3
   },
   "file_extension": ".py",
   "mimetype": "text/x-python",
   "name": "python",
   "nbconvert_exporter": "python",
   "pygments_lexer": "ipython3",
   "version": "3.8.13"
  }
 },
 "nbformat": 4,
 "nbformat_minor": 4
}
