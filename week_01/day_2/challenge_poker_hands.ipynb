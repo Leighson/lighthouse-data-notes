{
 "cells": [
  {
   "cell_type": "markdown",
   "metadata": {},
   "source": [
    "# Python Programming Challenge\n",
    "\n",
    "## Poker Hand\n",
    "\n",
    "In this challenge, we have to determine which kind of Poker combination is present in a deck of 5 cards. Every card is a string containing the card value **with the upper-case initial for face-cards** and the **lower-case initial for the suit**, as seen in the examples below:\n",
    "\n",
    "> \"Ah\" ➞ Ace of hearts <br>\n",
    "> \"Ks\" ➞ King of spades<br>\n",
    "> \"3d\" ➞ Three of diamonds<br>\n",
    "> \"Qc\" ➞ Queen of clubs <br>\n",
    "\n",
    "There are 10 different combinations. Here's the list, in descending order of importance:"
   ]
  },
  {
   "cell_type": "markdown",
   "metadata": {},
   "source": [
    "| Name            | Description                                         |\n",
    "|-----------------|-----------------------------------------------------|\n",
    "| Royal Flush     | A, K, Q, J, 10, all with the same suit.             |\n",
    "| Straight Flush  | Five cards in sequence, all with the same suit.     |\n",
    "| Four of a Kind  | Four cards of the same rank.                        |\n",
    "| Full House      | Three of a Kind with a Pair.                        |\n",
    "| Flush           | Any five cards of the same suit, not in sequence    |\n",
    "| Straight        | Five cards in a sequence, but not of the same suit. |\n",
    "| Three of a Kind | Three cards of the same rank.                       |\n",
    "| Two Pair        | Two different Pairs.                                |\n",
    "| Pair            | Two cards of the same rank.                         |\n",
    "| High Card       | No other valid combination.                         |\n",
    "\n",
    "---------"
   ]
  },
  {
   "cell_type": "markdown",
   "metadata": {},
   "source": [
    "#### 1. Given a list `hand` containing five strings being the cards. Implement a function called `poker_hand_ranking` that **returns a string with the name of the highest combination obtained.** According to the table above.\n",
    "\n",
    "**Examples:**\n",
    "\n",
    "> poker_hand_ranking([\"10h\", \"Jh\", \"Qh\", \"Ah\", \"Kh\"]) ➞ \"Royal Flush\"<br>\n",
    "> poker_hand_ranking([\"3h\", \"5h\", \"Qs\", \"9h\", \"Ad\"]) ➞ \"High Card\"<br>\n",
    "> poker_hand_ranking([\"10s\", \"10c\", \"8d\", \"10d\", \"10h\"]) ➞ \"Four of a Kind\"<br>"
   ]
  },
  {
   "cell_type": "markdown",
   "metadata": {},
   "source": [
    "### Head"
   ]
  },
  {
   "cell_type": "code",
   "execution_count": 939,
   "metadata": {},
   "outputs": [],
   "source": [
    "# import libraries\n",
    "from collections import Counter\n",
    "import numpy as np\n",
    "import operator as op"
   ]
  },
  {
   "cell_type": "code",
   "execution_count": 940,
   "metadata": {},
   "outputs": [],
   "source": [
    "# for testing\n",
    "hand1 = [\"10h\", \"Jh\", \"Qh\", \"Ah\", \"Kh\"]\n",
    "hand2 = [\"3h\", \"5h\", \"Qs\", \"9h\", \"Ad\"]\n",
    "hand3 = [\"10s\", \"10c\", \"8d\", \"10d\", \"10h\"]\n",
    "hand4 = [\"6d\", \"2h\", \"4c\", \"5d\", \"3h\"]\n",
    "hand5 = [\"6d\", \"6h\", \"4c\", \"5d\", \"5h\"]\n",
    "hand6 = [\"6d\", \"3d\", \"4c\", \"Ad\", \"3h\"]\n",
    "hand7 = [\"2d\", \"4c\", \"2h\", \"5d\", \"5h\"]"
   ]
  },
  {
   "cell_type": "markdown",
   "metadata": {},
   "source": [
    "### The Cards"
   ]
  },
  {
   "cell_type": "code",
   "execution_count": 941,
   "metadata": {},
   "outputs": [],
   "source": [
    "# define the face conversion\n",
    "face_value = [i for i in range(1,14)]\n",
    "face_key = ['A'] + [str(i) for i in range(2,11)] + ['J', 'Q', 'K']\n",
    "face = dict(zip(face_key, face_value))\n",
    "\n",
    "# define the suit conversion\n",
    "suit = ['h', # hearts\n",
    "        's', # spades\n",
    "        'd', # diamonds\n",
    "        'c'] # clubs"
   ]
  },
  {
   "cell_type": "markdown",
   "metadata": {},
   "source": [
    "### Functions"
   ]
  },
  {
   "cell_type": "markdown",
   "metadata": {},
   "source": [
    "##### The 10-Cards"
   ]
  },
  {
   "cell_type": "code",
   "execution_count": 942,
   "metadata": {},
   "outputs": [],
   "source": [
    "# evaluate if value is 10\n",
    "def ten(face):\n",
    "    return face[:2] == '10'"
   ]
  },
  {
   "cell_type": "markdown",
   "metadata": {},
   "source": [
    "##### Card Names to Values"
   ]
  },
  {
   "cell_type": "code",
   "execution_count": 943,
   "metadata": {},
   "outputs": [],
   "source": [
    "def card_values(hand):\n",
    "    # if the card value is 10, use ten() to pull 2 digits rather than just the first\n",
    "    values = [card[:2] if ten(card) else card[0] for card in hand]\n",
    "    \n",
    "    # return the hand as value pairs of value & keys, respectively\n",
    "    return [face[value] for value in values], [card[-1] for card in hand]"
   ]
  },
  {
   "cell_type": "markdown",
   "metadata": {},
   "source": [
    "##### Hand Configurations"
   ]
  },
  {
   "cell_type": "code",
   "execution_count": 944,
   "metadata": {},
   "outputs": [],
   "source": [
    "######## FLUSHES #########\n",
    "\n",
    "def flush(hand):\n",
    "    # convert hand to values and create Counter class;\n",
    "    # the Counter class counts the argument elements, then returns the results as a key/value pair\n",
    "    # where the key is the element being counted\n",
    "    values, suits = card_values(hand)\n",
    "    suit_count = Counter(suits)\n",
    "    \n",
    "    # flush requires that the entire hand is the same suit\n",
    "    # if the Counter returns a result of 5 for any element,\n",
    "    # then we can conclude that the hand is at least a flush \n",
    "    for key, value in suit_count.items():\n",
    "        if value == 5 and key in suit:\n",
    "            return True\n",
    "        \n",
    "    return False\n",
    "\n",
    "\n",
    "######## STRAIGHTS #########\n",
    "\n",
    "def straight(hand):\n",
    "    # sort values to facilitate evaluation of straight status\n",
    "    values, suits = card_values(hand)\n",
    "    values = sorted(values)\n",
    "    \n",
    "    for i, value in enumerate(values):\n",
    "        # evaluate if value is 1 and continue if next value is either 2 or 10\n",
    "        # a value of 1 represents an ace, which will be next to a 2 or 10\n",
    "        # in a sorted list if the hand is a straight that ends or begins with an ace\n",
    "        if value == 1 and (values[i+1] == 2 or values[i+1] == 10):\n",
    "            continue\n",
    "        elif value == 1 and not (values[i+1] == 2 or values[i+1] == 10):\n",
    "            return False\n",
    "        \n",
    "        # evaluate if numbers increase by 1\n",
    "        # if the loop reaches the end of the list, return True\n",
    "        # otherwise, return False\n",
    "        try:\n",
    "            if value + 1 == values[i+1]:\n",
    "                continue\n",
    "            else:\n",
    "                return False\n",
    "        except IndexError:\n",
    "            return True\n",
    "        \n",
    "\n",
    "######## ROYALS #########\n",
    "\n",
    "# this is a permutation of a straight so evaluation of a royal hand is a subset\n",
    "# of the straight function, which strictly begins with a hand value of 1\n",
    "def royals(hand):\n",
    "    # sort values to facilitate evaluation of ace in royals\n",
    "    values, suits = card_values(hand)\n",
    "    values = sorted(values)\n",
    "    \n",
    "    return straight(hand) and values == [1, 10, 11, 12, 13]\n",
    "        \n",
    "        \n",
    "######## 4-KINDS #########\n",
    "\n",
    "# Counter class is necessary here to reveal\n",
    "# any elements that repeats 4 times\n",
    "def fourkinds(hand):\n",
    "    values, suits = card_values(hand)\n",
    "    value_count = Counter(values)\n",
    "    \n",
    "    # catch if any elements repeats 4 times\n",
    "    for count in value_count.values():\n",
    "            if count == 4:\n",
    "                return True\n",
    "    \n",
    "    return False\n",
    "\n",
    "\n",
    "######## TTRIPLES #########\n",
    "\n",
    "# Counter class is necessary here to reveal\n",
    "# any elements that repeats 3 times\n",
    "def triples(hand):\n",
    "    # convert hand to values\n",
    "    values, suits = card_values(hand)\n",
    "    value_count = Counter(values)\n",
    "    \n",
    "    # catch if any elements repeats 3 times\n",
    "    for count in value_count.values():\n",
    "            if count == 3:\n",
    "                return True\n",
    "    \n",
    "    return False\n",
    "\n",
    "\n",
    "####### PAIRS ########\n",
    "\n",
    "# Counter class is necessary here to reveal\n",
    "# any elements that repeats twice\n",
    "def pairs(hand):\n",
    "    # convert hand to values\n",
    "    values, suits = card_values(hand)\n",
    "    value_count = Counter(values)\n",
    "    \n",
    "    # catch if any elements repeats twice\n",
    "    for count in value_count.values():\n",
    "            if count == 2:\n",
    "                return True\n",
    "    \n",
    "    return False"
   ]
  },
  {
   "cell_type": "markdown",
   "metadata": {},
   "source": [
    "##### Evaluate Hands"
   ]
  },
  {
   "cell_type": "code",
   "execution_count": 945,
   "metadata": {},
   "outputs": [],
   "source": [
    "# all hand configuration evaluator functions return boolean values, True or False\n",
    "\n",
    "def poker_hand_ranking(hand):\n",
    "    \n",
    "    number, suit = card_values(hand)\n",
    "    \n",
    "    if royals(hand) and flush(hand):\n",
    "        return 'royal flush', 9, max(number)\n",
    "    \n",
    "    if straight(hand) and flush(hand):\n",
    "        return 'straight flush', 8, max(number)\n",
    "    \n",
    "    if fourkinds(hand):\n",
    "        return 'four of a kind', 7, max(number)\n",
    "    \n",
    "    if triples(hand) and pairs(hand):\n",
    "        return 'full house', 6, max(number)\n",
    "    \n",
    "    if flush(hand):\n",
    "        return 'flush', 5, max(number)\n",
    "    \n",
    "    if straight(hand):\n",
    "        return 'straight', 4, max(number)\n",
    "    \n",
    "    if triples(hand):\n",
    "        return 'triples', 3, max(number)\n",
    "    \n",
    "    if pairs(hand):\n",
    "        # setup for pairings\n",
    "        pairing = Counter(number).most_common(2)[0]\n",
    "        possible_pairing = Counter(number).most_common(2)[1]\n",
    "        \n",
    "        # using Counter, determine the 2 most common repeating elements\n",
    "        # if the 2 most common elements both repeat twice, then the hand is a 2-pair\n",
    "        if pairing[1] == 2 and possible_pairing[1] == 2:\n",
    "            return 'two pair', 2, max(pairing[0], possible_pairing[0])\n",
    "        else:\n",
    "            return 'pair', 1, pairing[0]\n",
    "    \n",
    "    # find the highest card if the hand does not have the above configurations\n",
    "    highest_number = max(number)\n",
    "    highest_index = number.index(highest_number)\n",
    "    \n",
    "    return 'high_card ' + hand[highest_index], 0, max(number)"
   ]
  },
  {
   "cell_type": "code",
   "execution_count": 946,
   "metadata": {},
   "outputs": [
    {
     "name": "stdout",
     "output_type": "stream",
     "text": [
      "('royal flush', 9, 13)\n",
      "('high_card Qs', 0, 12)\n",
      "('four of a kind', 7, 10)\n",
      "('straight', 4, 6)\n",
      "('two pair', 2, 6)\n",
      "('pair', 1, 3)\n",
      "('two pair', 2, 5)\n"
     ]
    }
   ],
   "source": [
    "print(poker_hand_ranking(hand1))\n",
    "print(poker_hand_ranking(hand2))\n",
    "print(poker_hand_ranking(hand3))\n",
    "print(poker_hand_ranking(hand4))\n",
    "print(poker_hand_ranking(hand5))\n",
    "print(poker_hand_ranking(hand6))\n",
    "print(poker_hand_ranking(hand7))"
   ]
  },
  {
   "cell_type": "code",
   "execution_count": 947,
   "metadata": {},
   "outputs": [],
   "source": [
    "# answer key\n",
    "hand1 = [\"9s\", \"10s\", \"Js\", \"Ks\", \"Qs\"] # straight flush, 10 to A for Hearts\n",
    "hand2 = [\"3h\", \"5h\", \"Qs\", \"9h\", \"Ad\"] # highest card, Qs\n",
    "hand3 = [\"10s\", \"10c\", \"8d\", \"10d\", \"10h\"] # 4 of a kind, 10\n",
    "hand4 = [\"6d\", \"2h\", \"4c\", \"5d\", \"3h\"] # straight, 2 to 6\n",
    "hand5 = [\"6d\", \"6h\", \"4c\", \"5d\", \"5h\"] # two pair, 6 & 5\n",
    "hand6 = [\"6d\", \"3d\", \"4c\", \"Ad\", \"3h\"] # pair, 3\n",
    "hand7 = [\"2d\", \"4c\", \"2h\", \"5d\", \"5h\"] # two pair, 2 & 5"
   ]
  },
  {
   "cell_type": "markdown",
   "metadata": {},
   "source": [
    "------------\n",
    "### **Stretch Content**\n",
    "\n",
    "#### 2.  Implement a function `winner_is` that returns the winner given a dictionary with different players and their hands. \n",
    "**Example**\n",
    "\n",
    "We define dictionary like\n",
    "```python\n",
    "round_1 = {\"John\" = [\"10h\", \"Jh\", \"Qh\", \"Ah\", \"Kh\"], \n",
    "        \"Peter\" = [\"3h\", \"5h\", \"Qs\", \"9h\", \"Ad\"]}\n",
    "```\n",
    "\n",
    "Our function returns the name of the winner:\n",
    "> winner_is(round_1) --> \"John\"\n",
    "\n",
    "One table can have up to 10 players.\n"
   ]
  },
  {
   "cell_type": "code",
   "execution_count": 948,
   "metadata": {},
   "outputs": [],
   "source": [
    "def winner_is(round):\n",
    "    # instantiate variables\n",
    "    old_ranking = -1\n",
    "    old_high_card = -1\n",
    "    \n",
    "    for player, hand in round.items():\n",
    "        # determine hand ranking\n",
    "        hand_config, ranking, high_card = poker_hand_ranking(hand)\n",
    "        \n",
    "        # compare this player's hand ranking to previous player's hand\n",
    "        # if they are the same, then compare high cards\n",
    "        if ranking > old_ranking or (ranking == old_ranking and high_card > old_high_card):\n",
    "            winner = player\n",
    "            winning_hand = hand\n",
    "            winning_config = hand_config\n",
    "            \n",
    "            # replace old values\n",
    "            old_ranking = ranking\n",
    "            old_high_card = high_card\n",
    "    \n",
    "    return winner, winning_hand, winning_config"
   ]
  },
  {
   "cell_type": "markdown",
   "metadata": {},
   "source": [
    "#### Tests"
   ]
  },
  {
   "cell_type": "code",
   "execution_count": 949,
   "metadata": {},
   "outputs": [
    {
     "data": {
      "text/plain": [
       "{'John': ['9s', '10s', 'Js', 'Ks', 'Qs'],\n",
       " 'Mark': ['3h', '5h', 'Qs', '9h', 'Ad'],\n",
       " 'Christian': ['10s', '10c', '8d', '10d', '10h'],\n",
       " 'Emily': ['6d', '2h', '4c', '5d', '3h'],\n",
       " 'Pai': ['6d', '6h', '4c', '5d', '5h'],\n",
       " 'Elise': ['6d', '3d', '4c', 'Ad', '3h'],\n",
       " 'Seven': ['2d', '4c', '2h', '5d', '5h']}"
      ]
     },
     "execution_count": 949,
     "metadata": {},
     "output_type": "execute_result"
    }
   ],
   "source": [
    "players = ['John', 'Mark', 'Christian', 'Emily', 'Pai', 'Elise', 'Seven']\n",
    "hands = [hand1, hand2, hand3, hand4, hand5, hand6, hand7]\n",
    "first_round = dict(zip(players, hands))\n",
    "\n",
    "first_round"
   ]
  },
  {
   "cell_type": "code",
   "execution_count": 950,
   "metadata": {},
   "outputs": [
    {
     "name": "stdout",
     "output_type": "stream",
     "text": [
      "JOHN won with a STRAIGHT FLUSH.\n"
     ]
    }
   ],
   "source": [
    "player, hand, config = winner_is(first_round)\n",
    "print(player.upper() + \" won with a \" + config.upper() + \".\")"
   ]
  },
  {
   "cell_type": "code",
   "execution_count": 951,
   "metadata": {},
   "outputs": [],
   "source": [
    "# answer key\n",
    "# hand1 = [\"10h\", \"Jh\", \"Qh\", \"Ah\", \"Kh\"] # straight flush, 10 to A for Hearts\n",
    "hand2 = [\"3h\", \"5h\", \"Qs\", \"9h\", \"Ad\"] # highest card, Qs\n",
    "hand3 = [\"10s\", \"10c\", \"8d\", \"10d\", \"10h\"] # 4 of a kind, 10\n",
    "hand4 = [\"6d\", \"2h\", \"4c\", \"5d\", \"3h\"] # straight, 2 to 6\n",
    "hand5 = [\"6d\", \"6h\", \"4c\", \"5d\", \"5h\"] # two pair, 6 & 5\n",
    "hand6 = [\"6d\", \"3d\", \"4c\", \"Ad\", \"3h\"] # pair, 3\n",
    "hand7 = [\"2d\", \"4c\", \"2h\", \"5d\", \"5h\"] # two pair, 2 & 5"
   ]
  },
  {
   "cell_type": "code",
   "execution_count": 952,
   "metadata": {},
   "outputs": [
    {
     "data": {
      "text/plain": [
       "{'Mark': ['3h', '5h', 'Qs', '9h', 'Ad'],\n",
       " 'Christian': ['10s', '10c', '8d', '10d', '10h'],\n",
       " 'Emily': ['6d', '2h', '4c', '5d', '3h'],\n",
       " 'Pai': ['6d', '6h', '4c', '5d', '5h'],\n",
       " 'Elise': ['6d', '3d', '4c', 'Ad', '3h'],\n",
       " 'Seven': ['2d', '4c', '2h', '5d', '5h']}"
      ]
     },
     "execution_count": 952,
     "metadata": {},
     "output_type": "execute_result"
    }
   ],
   "source": [
    "players = ['Mark', 'Christian', 'Emily', 'Pai', 'Elise', 'Seven']\n",
    "hands = [hand2, hand3, hand4, hand5, hand6, hand7]\n",
    "second_round = dict(zip(players, hands))\n",
    "\n",
    "second_round"
   ]
  },
  {
   "cell_type": "code",
   "execution_count": 953,
   "metadata": {},
   "outputs": [
    {
     "name": "stdout",
     "output_type": "stream",
     "text": [
      "CHRISTIAN won with a FOUR OF A KIND.\n"
     ]
    }
   ],
   "source": [
    "player, hand, config = winner_is(second_round)\n",
    "print(player.upper() + \" won with a \" + config.upper() + \".\")"
   ]
  },
  {
   "cell_type": "code",
   "execution_count": 954,
   "metadata": {},
   "outputs": [],
   "source": [
    "# answer key\n",
    "# hand1 = [\"10h\", \"Jh\", \"Qh\", \"Ah\", \"Kh\"] # straight flush, 10 to A for Hearts\n",
    "hand2 = [\"3h\", \"5h\", \"Qs\", \"9h\", \"Ad\"] # highest card, Qs\n",
    "hand3 = [\"10s\", \"10c\", \"8d\", \"10d\", \"10h\"] # 4 of a kind, 10\n",
    "hand4 = [\"6d\", \"2h\", \"4c\", \"5d\", \"3h\"] # straight, 2 to 6\n",
    "hand5 = [\"6d\", \"6h\", \"4c\", \"5d\", \"5h\"] # two pair, 6 & 5\n",
    "hand6 = [\"6d\", \"3d\", \"4c\", \"Ad\", \"3h\"] # pair, 3\n",
    "hand7 = [\"10h\", \"Jh\", \"Qh\", \"Kh\", \"Ah\"] # two pair, 2 & 5"
   ]
  },
  {
   "cell_type": "code",
   "execution_count": 955,
   "metadata": {},
   "outputs": [
    {
     "data": {
      "text/plain": [
       "{'Mark': ['3h', '5h', 'Qs', '9h', 'Ad'],\n",
       " 'Christian': ['10s', '10c', '8d', '10d', '10h'],\n",
       " 'Emily': ['6d', '2h', '4c', '5d', '3h'],\n",
       " 'Pai': ['6d', '6h', '4c', '5d', '5h'],\n",
       " 'Elise': ['6d', '3d', '4c', 'Ad', '3h'],\n",
       " 'Seven': ['10h', 'Jh', 'Qh', 'Kh', 'Ah']}"
      ]
     },
     "execution_count": 955,
     "metadata": {},
     "output_type": "execute_result"
    }
   ],
   "source": [
    "players = ['Mark', 'Christian', 'Emily', 'Pai', 'Elise', 'Seven']\n",
    "hands = [hand2, hand3, hand4, hand5, hand6, hand7]\n",
    "third_round = dict(zip(players, hands))\n",
    "\n",
    "third_round"
   ]
  },
  {
   "cell_type": "code",
   "execution_count": 956,
   "metadata": {},
   "outputs": [
    {
     "name": "stdout",
     "output_type": "stream",
     "text": [
      "SEVEN won with a ROYAL FLUSH.\n"
     ]
    }
   ],
   "source": [
    "player, hand, config = winner_is(third_round)\n",
    "print(player.upper() + \" won with a \" + config.upper() + \".\")"
   ]
  },
  {
   "cell_type": "markdown",
   "metadata": {},
   "source": [
    "#### 3. Create a function `distribute_cards` that randomly generates and gives 5 cards to every player given a list of player names.\n",
    "\n",
    "**Example**\n",
    "\n",
    "> distribute_cards([\"John\",\"Peter\"])  -> round_1 = {\"John\" = [\"10h\", \"Jh\", \"Qh\", \"Ah\", \"Kh\"], \n",
    "        \"Peter\" = [\"3h\", \"5h\", \"Qs\", \"9h\", \"Ad\"]\n",
    "}"
   ]
  },
  {
   "cell_type": "code",
   "execution_count": 957,
   "metadata": {},
   "outputs": [],
   "source": [
    "def distribute_cards(players):\n",
    "    # instantiate dictionary of hands\n",
    "    hands = {}\n",
    "    \n",
    "    # define the suit conversion\n",
    "    suits = [\n",
    "        'h', # hearts\n",
    "        's', # spades\n",
    "        'd', # diamonds\n",
    "        'c'] # clubs\n",
    "    \n",
    "    for i, player in enumerate(players):\n",
    "        # reset list of cards (hand)\n",
    "        hand = []\n",
    "        \n",
    "        # generate cards\n",
    "        for _ in range(5):\n",
    "            # reset card variable\n",
    "            card = \"\"\n",
    "            \n",
    "            # generate random card with number and suit\n",
    "            number = np.random.choice(face_key)\n",
    "            suit = np.random.choice(suits)\n",
    "            card = number + suit\n",
    "            \n",
    "            # evaluate if card already exists in this hand and other player's hands\n",
    "            # if so, generate another card and reevaluate\n",
    "            # if not, exit loop and add card to hand\n",
    "            while card in (hand or hands):\n",
    "                number = np.random.choice(face_key)\n",
    "                suit = np.random.choice(suits)\n",
    "                card = number + suit\n",
    "                print(f\"{card} already exists in {player}'s hand.\")\n",
    "                \n",
    "            hand.append(card)\n",
    "        \n",
    "        # the resulting hand is added to list of hands and the\n",
    "        # outer loop will generate another hand to evaluate\n",
    "        hands[player] = hand\n",
    "    \n",
    "    return hands"
   ]
  },
  {
   "cell_type": "code",
   "execution_count": 958,
   "metadata": {},
   "outputs": [
    {
     "name": "stdout",
     "output_type": "stream",
     "text": [
      "Qh already exists in Mark's hand.\n",
      "7h already exists in Mark's hand.\n",
      "4s already exists in June's hand.\n",
      "Jd already exists in Tuan's hand.\n"
     ]
    },
    {
     "data": {
      "text/plain": [
       "{'John': ['7c', 'Qh', 'As', '3s', '7s'],\n",
       " 'Mark': ['6d', '9c', 'Qh', '7h', '3d'],\n",
       " 'Elise': ['4c', '9h', 'Ad', '5s', '3s'],\n",
       " 'Mary': ['3h', '8s', '2s', 'Ah', '9c'],\n",
       " 'June': ['Kh', '4s', '2d', '6s', '4h'],\n",
       " 'April': ['2h', '8h', '5d', 'Jh', '2c'],\n",
       " 'Tuan': ['2d', '5c', '5s', 'Jd', 'Js'],\n",
       " 'Sonny': ['Qc', '2c', '8d', 'Ah', '7d'],\n",
       " 'Jerry': ['9s', '6d', 'As', '6s', 'Ad'],\n",
       " 'Julie': ['Jc', '6d', '6c', 'Ah', '5s'],\n",
       " 'Sam': ['Ad', '4h', 'Kd', 'Jd', 'Qd']}"
      ]
     },
     "execution_count": 958,
     "metadata": {},
     "output_type": "execute_result"
    }
   ],
   "source": [
    "players = [\n",
    "    'John', 'Mark', 'Elise', 'Mary', 'June', 'April', 'Tuan', 'Sonny', 'Jerry', 'Julie', 'Sam']\n",
    "distribute_cards(players)"
   ]
  }
 ],
 "metadata": {
  "interpreter": {
   "hash": "f6bdb6bebcaa6c165db367a86e382ae8df75f09257c40532b854029e0e3d706f"
  },
  "kernelspec": {
   "display_name": "Python 3.8.13 ('lighthouse')",
   "language": "python",
   "name": "python3"
  },
  "language_info": {
   "codemirror_mode": {
    "name": "ipython",
    "version": 3
   },
   "file_extension": ".py",
   "mimetype": "text/x-python",
   "name": "python",
   "nbconvert_exporter": "python",
   "pygments_lexer": "ipython3",
   "version": "3.8.13"
  }
 },
 "nbformat": 4,
 "nbformat_minor": 4
}
