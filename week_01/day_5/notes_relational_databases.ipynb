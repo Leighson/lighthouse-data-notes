{
 "cells": [
  {
   "cell_type": "markdown",
   "metadata": {},
   "source": [
    "# Relational Databases"
   ]
  },
  {
   "cell_type": "markdown",
   "metadata": {},
   "source": [
    "## What is a Database?"
   ]
  },
  {
   "cell_type": "markdown",
   "metadata": {},
   "source": [
    "A database is a collection of data (information) stored electronically in a structured manner. The way the data is organized determines the type of database."
   ]
  },
  {
   "cell_type": "markdown",
   "metadata": {},
   "source": [
    "## Types of Databases"
   ]
  },
  {
   "cell_type": "markdown",
   "metadata": {},
   "source": [
    "There are 4 common types of databases:\n",
    "1. Hierarchical\n",
    "2. Network\n",
    "3. Relational\n",
    "4. NoSQL"
   ]
  },
  {
   "cell_type": "markdown",
   "metadata": {},
   "source": [
    "### Hierarchical Databases"
   ]
  },
  {
   "cell_type": "markdown",
   "metadata": {},
   "source": [
    "Just as in any hierarchy, this database categorizes data in ranks or levels, and the ranks are expressed using links. One perspective is to think about the data as being organized in parent-child relationship, and the entire database would resemble a tree."
   ]
  },
  {
   "cell_type": "markdown",
   "metadata": {},
   "source": [
    "![Hierarchical Database](https://i.imgur.com/23nTU9D.png)"
   ]
  },
  {
   "cell_type": "markdown",
   "metadata": {},
   "source": [
    "There are 3 components of hierarchical databases:\n",
    "- attributes\n",
    "- records\n",
    "- links\n",
    "\n",
    "It consists of a collection of records connected to each other through **links**. Each **record** is a collection of **fields** or **attributes**, each of which contains only one data value. A **child** record can only be linked to only one **parent** record."
   ]
  },
  {
   "cell_type": "markdown",
   "metadata": {},
   "source": [
    "### Network Databases"
   ]
  },
  {
   "cell_type": "markdown",
   "metadata": {},
   "source": [
    "A network database is a hierarchical database, but with a major difference. The child records are given the freedom to associate with multiple parent records. As a result, a network or net of database files linked with multiple threads is observed."
   ]
  },
  {
   "cell_type": "markdown",
   "metadata": {},
   "source": [
    "![Network Databases](https://i.imgur.com/MhP6vhP.png)"
   ]
  },
  {
   "cell_type": "markdown",
   "metadata": {},
   "source": [
    "There are 3 components of network databases:\n",
    "- attributes\n",
    "- records\n",
    "- links\n",
    "\n",
    "A network database consists of a collection of records connected to each other through **links**. Each **record** is a collection of **fields** or **attributes**, each of which contains only one data value. A **child** record can be linked to *multiple* **parent** records."
   ]
  },
  {
   "cell_type": "markdown",
   "metadata": {},
   "source": [
    "### Relational Databases"
   ]
  },
  {
   "cell_type": "markdown",
   "metadata": {},
   "source": [
    "Relational databases are the most mature of all databases. In this database, every record can be linked to every other record."
   ]
  },
  {
   "cell_type": "markdown",
   "metadata": {},
   "source": [
    "There are 3 components of network databases:\n",
    "- attributes\n",
    "- entity\n",
    "- relationships\n",
    "- cardinality"
   ]
  },
  {
   "cell_type": "markdown",
   "metadata": {},
   "source": [
    "### NoSQL Databases"
   ]
  },
  {
   "cell_type": "markdown",
   "metadata": {},
   "source": [
    "A NoSQL is a non-relational database that provides a mechanism for the storage and retrieval of data. This database is inherently simple in design and is thereby simpler to scale for clusters of machines, whilst allowing for finer control over availability. The data structures used by NoSQL databases are very different from tables in relational databases, which makes some operations faster in NoSQL."
   ]
  },
  {
   "cell_type": "markdown",
   "metadata": {},
   "source": [
    "## Database Management Systems"
   ]
  },
  {
   "cell_type": "markdown",
   "metadata": {},
   "source": [
    "A DBMS is a computereized data-keeping system. Users of the system of given facilities to perform several kinds of operations on such a system for either manipulation of the data in the database or the management of the database structure itself. DBMSs are categorized according to their database structures or types:\n",
    "- hierarchical\n",
    "- network\n",
    "- relational\n",
    "\n",
    "Conversely, RDBMSs refer to Relational Database Management Systems and are defined in their own category."
   ]
  },
  {
   "cell_type": "markdown",
   "metadata": {},
   "source": []
  }
 ],
 "metadata": {
  "kernelspec": {
   "display_name": "Python 3.8.13 ('lighthouse')",
   "language": "python",
   "name": "python3"
  },
  "language_info": {
   "name": "python",
   "version": "3.8.13"
  },
  "orig_nbformat": 4,
  "vscode": {
   "interpreter": {
    "hash": "f6bdb6bebcaa6c165db367a86e382ae8df75f09257c40532b854029e0e3d706f"
   }
  }
 },
 "nbformat": 4,
 "nbformat_minor": 2
}
