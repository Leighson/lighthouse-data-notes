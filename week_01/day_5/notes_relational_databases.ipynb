{
 "cells": [
  {
   "cell_type": "markdown",
   "metadata": {},
   "source": [
    "# Relational Databases"
   ]
  },
  {
   "cell_type": "markdown",
   "metadata": {},
   "source": [
    "## What is a Database?"
   ]
  },
  {
   "cell_type": "markdown",
   "metadata": {},
   "source": [
    "A database is a collection of data (information) stored electronically in a structured manner. The way the data is organized determines the type of database."
   ]
  },
  {
   "cell_type": "markdown",
   "metadata": {},
   "source": [
    "## Types of Databases"
   ]
  },
  {
   "cell_type": "markdown",
   "metadata": {},
   "source": [
    "There are 4 common types of databases:\n",
    "1. Hierarchical\n",
    "2. Network\n",
    "3. Relational\n",
    "4. NoSQL"
   ]
  },
  {
   "cell_type": "markdown",
   "metadata": {},
   "source": [
    "### Hierarchical Databases"
   ]
  },
  {
   "cell_type": "markdown",
   "metadata": {},
   "source": [
    "Just as in any hierarchy, this database categorizes data in ranks or levels, and the ranks are expressed using links. One perspective is to think about the data as being organized in parent-child relationship, and the entire database would resemble a tree."
   ]
  },
  {
   "cell_type": "markdown",
   "metadata": {},
   "source": [
    "![Hierarchical Database](https://i.imgur.com/23nTU9D.png)"
   ]
  },
  {
   "cell_type": "markdown",
   "metadata": {},
   "source": [
    "There are 3 components of hierarchical databases:\n",
    "- attributes\n",
    "- records\n",
    "- links\n",
    "\n",
    "It consists of a collection of records connected to each other through **links**. Each **record** is a collection of **fields** or **attributes**, each of which contains only one data value. A **child** record can only be linked to only one **parent** record."
   ]
  },
  {
   "cell_type": "markdown",
   "metadata": {},
   "source": [
    "### Network Databases"
   ]
  },
  {
   "cell_type": "markdown",
   "metadata": {},
   "source": [
    "A network database is a hierarchical database, but with a major difference. The child records are given the freedom to associate with multiple parent records. As a result, a network or net of database files linked with multiple threads is observed."
   ]
  },
  {
   "cell_type": "markdown",
   "metadata": {},
   "source": [
    "![Network Databases](https://i.imgur.com/MhP6vhP.png)"
   ]
  },
  {
   "cell_type": "markdown",
   "metadata": {},
   "source": [
    "There are 3 components of network databases:\n",
    "- attributes\n",
    "- records\n",
    "- links\n",
    "\n",
    "A network database consists of a collection of records connected to each other through **links**. Each **record** is a collection of **fields** or **attributes**, each of which contains only one data value. A **child** record can be linked to *multiple* **parent** records."
   ]
  },
  {
   "cell_type": "markdown",
   "metadata": {},
   "source": [
    "### Relational Databases"
   ]
  },
  {
   "cell_type": "markdown",
   "metadata": {},
   "source": [
    "Relational databases are the most mature of all databases. In this database, every record can be linked to every other record."
   ]
  },
  {
   "cell_type": "markdown",
   "metadata": {},
   "source": [
    "There are 3 components of network databases:\n",
    "- attributes\n",
    "- entity\n",
    "- relationships\n",
    "- cardinality"
   ]
  },
  {
   "cell_type": "markdown",
   "metadata": {},
   "source": [
    "### NoSQL Databases"
   ]
  },
  {
   "cell_type": "markdown",
   "metadata": {},
   "source": [
    "A NoSQL is a non-relational database that provides a mechanism for the storage and retrieval of data. This database is inherently simple in design and is thereby simpler to scale for clusters of machines, whilst allowing for finer control over availability. The data structures used by NoSQL databases are very different from tables in relational databases, which makes some operations faster in NoSQL."
   ]
  },
  {
   "cell_type": "markdown",
   "metadata": {},
   "source": [
    "## Database Management Systems"
   ]
  },
  {
   "cell_type": "markdown",
   "metadata": {},
   "source": [
    "A DBMS is a computereized data-keeping system. Users of the system of given facilities to perform several kinds of operations on such a system for either manipulation of the data in the database or the management of the database structure itself. DBMSs are categorized according to their database structures or types:\n",
    "- hierarchical\n",
    "- network\n",
    "- relational\n",
    "\n",
    "Conversely, RDBMSs refer to Relational Database Management Systems and are defined in their own category."
   ]
  },
  {
   "cell_type": "markdown",
   "metadata": {},
   "source": [
    "## Introduction to RDBMS"
   ]
  },
  {
   "cell_type": "markdown",
   "metadata": {},
   "source": [
    "Web apps can be split into two major components: a front-end that displays and collects information, and a back-end for storing the information. It is important to know how to properly design the back-end database to store that information.\n",
    "\n",
    "A database stores data in an organised way so that it can be searched and retrieved later. It should contain one or more tables. Much like a spreadsheet, a table uses columns and rows to store and display data. Data can be Created, Retrieved, Updated, and Deleted from a table. As such, there 4 functions are generally known by its acronym CRUD. \n",
    "\n",
    "![Database Tale](https://cdn.tutsplus.com/net/authors/lalith-polepeddi/relational-databases-for-dummies-fig1.png)"
   ]
  },
  {
   "cell_type": "markdown",
   "metadata": {},
   "source": [
    "A Relational Database is a type of database that organizes data into tables, linking them based on defined relationships. These relationships enable its user to retrieve and combine data from one or more tables with a single query."
   ]
  },
  {
   "cell_type": "markdown",
   "metadata": {},
   "source": [
    "### Get Some Data"
   ]
  },
  {
   "cell_type": "markdown",
   "metadata": {},
   "source": [
    "In the article, the example used is a sample of tweets related to the hashtag `databases`. The data was retrieved in a tabulated format with headers defining each column and data points stored per row. While easy to read, there is repetitive data that makes it difficult to efficiently store and retrieve the relevant data.\n",
    "\n",
    "There are two types of repetition:\n",
    "1. Duplicated rows\n",
    "2. Redundant columns\n",
    "\n",
    "Repetitions such as these can be solved using separate tables.\n",
    "\n",
    "full_name | username | text | created_at | following_username\n",
    "---|---|---|---|---\n",
    "\"Boris Hadjur\" | \"_DreamLead\" | \"What do you think about #emailing #campaigns #traffic in #USA? Is it a good market nowadays? do you have #databases?\" | \"Tue, 12 Feb 2013 08:43:09 +0000\" | \"Scootmedia\", \"MetiersInternet\"\n",
    "\"Gunnar Svalander\" | \"GunnarSvalander\" | \"Bill Gates Talks Databases, Free Software on Reddit https://t.co/ShX4hZlA #billgates #databases\"| \"Tue, 12 Feb 2013 07:31:06 +0000\" | \"klout\", \"zillow\"\n",
    "\"GE Software\" | \"GEsoftware\" | \"RT @KirkDBorne: Readings in #Databases: excellent reading list, many categories: http://t.co/S6RBUNxq  via @rxin Fascinating.\" | \"Tue, 12 Feb 2013 07:30:24 +0000\" | \"DayJobDoc\", \"byosko\"\n",
    "\"Adrian Burch\" | \"adrianburch\" | \"RT @tisakovich: @NimbusData at the @Barclays Big Data conference in San Francisco today, talking #virtualization, #databases, and #flash memory.\" | \"Tue, 12 Feb 2013 06:58:22 +0000\" | \"CindyCrawford\", \"Arjantim\"\n",
    "\"Andy Ryder\" | \"AndyRyder5\" | \"http://t.co/D3KOJIvF article about Madden 2013 using AI to prodict the super bowl #databases #bus311\" | \"Tue, 12 Feb 2013 05:29:41 +0000\" | \"MichaelDell\", \"Yahoo\"\n",
    "\"Andy Ryder\" | \"AndyRyder5\" | \"http://t.co/rBhBXjma an article about privacy settings and facebook #databases #bus311\" | \"Tue, 12 Feb 2013 05:24:17 +0000\" | \"MichaelDell\", \"Yahoo\"\n",
    "\"Brett Englebert\" | \"Brett_Englebert\" | \"#BUS311 University of Minnesota's NCFPD is creating #databases to prevent \"food fraud.\" http://t.co/0LsAbKqJ\" | \"Tue, 12 Feb 2013 01:49:19 +0000\" | \"RealSkipBayless\", \"stephenasmith\"\n",
    "Brett Englebert | \"Brett_Englebert\" | \"#BUS311 companies might be protecting their production #databases, but what about their backup files? http://t.co/okJjV3Bm\" | \"Tue, 12 Feb 2013 01:31:52 +0000\" | \"RealSkipBayless\", \"stephenasmith\"\n",
    "\"Nimbus Data Systems\" | \"NimbusData\" | \"@NimbusData CEO @tisakovich @BarclaysOnline Big Data conference in San Francisco today, talking #virtualization, #databases,& #flash memory\" | \"Mon, 11 Feb 2013 23:15:05 +0000\" | \"dellock6\", \"rohitkilam\"\n",
    "\"SSWUG.ORG\" | \"SSWUGorg\" | \"Don't forget to sign up for our FREE expo this Friday: #Databases, #BI, and #Sharepoint: What You Need to Know! http://t.co/Ijrqrz29\" | \"Mon, 11 Feb 2013 22:15:37 +0000\" | \"drsql\", \"steam_games\""
   ]
  },
  {
   "cell_type": "markdown",
   "metadata": {},
   "source": [
    "### Remove Repetitive Data Across Columns"
   ]
  },
  {
   "cell_type": "markdown",
   "metadata": {},
   "source": [
    "In this example, the columns `username` and `following_username` are repetitive. To solve this, another table was created to define the established relationships between each user and their followers such that the `following_username` is no longer required in the original table, which allows that table to be truncated.\n",
    "\n",
    "This step of removing repetitive data across columns is called the **first normal form** (1NF)\n",
    "\n",
    "![1NF](https://cdn.tutsplus.com/net/authors/lalith-polepeddi/relational-databases-for-dummies-fig2.png)"
   ]
  },
  {
   "cell_type": "markdown",
   "metadata": {},
   "source": [
    "### Remove Repetitive Data Across Rows"
   ]
  },
  {
   "cell_type": "markdown",
   "metadata": {},
   "source": [
    "After fixing the column repetitions, information replicated through the rows will need to be removed. In the remaining table, there are 2 users with multiple tweets. Thus, it is best to separate the tweet information into its own table and the users to another.\n",
    "\n",
    "This step of removing repetitive data along rows is called the **second normal form** (2NF)\n",
    "\n",
    "![2NF](https://cdn.tutsplus.com/net/authors/lalith-polepeddi/relational-databases-for-dummies-fig3.png)"
   ]
  },
  {
   "cell_type": "markdown",
   "metadata": {},
   "source": [
    "> **full_name**: The user's full name \\\n",
    "> **username**: The Twitter handle \\\n",
    "> **text**: The tweet itself \\\n",
    "> **created_at**: The timestamp of the tweet \\\n",
    "> **following_username**: A list of people this user follows, separated by commas. For briefness, I limited the list length to two"
   ]
  },
  {
   "cell_type": "markdown",
   "metadata": {},
   "source": [
    "### Linking Tables with Keys"
   ]
  },
  {
   "cell_type": "markdown",
   "metadata": {},
   "source": [
    "THe final form of the organised data is now split between 3 new tables:\n",
    "- following\n",
    "- treets\n",
    "- users\n",
    "\n",
    "In order to retrieve data, meaningful links must be defined between tables. The way to draw links between tables is to give each row in a table a unique identifier, termed a primary key, and then reference that primary key in the other tables where necessary.\n",
    "\n",
    "This step was completed between the `users` and `tweets` table by consequence of how they were split. They formed a natural key. The downside of using natural keys depends on whether or not such keys are subject to changes. If so, it may be desirable to create another column of unique IDs.\n",
    "\n",
    "The common way to generate IDs is to add a numerical auto-incrementing ID column and use that as the primary key. The final form os this database is below.\n",
    "\n",
    "![Final Tables](https://cdn.tutsplus.com/net/authors/lalith-polepeddi/relational-databases-for-dummies-fig4.png)"
   ]
  },
  {
   "cell_type": "markdown",
   "metadata": {},
   "source": [
    "## Relational Database Management Systems"
   ]
  },
  {
   "cell_type": "markdown",
   "metadata": {},
   "source": [
    "The above example is the thought process behind designing a relational database, but how is such a database implemented? RDBMS are software that allows the creation and interfacing of relational databases. Several commercial and open source vendors are available:\n",
    "- Commercial\n",
    "    - Oracle Database\n",
    "    - IBM DB2\n",
    "    - Microsoft SQL Server\n",
    "- Open Source\n",
    "    - MySQL\n",
    "    - SQLite\n",
    "    - PostgreSQL\n",
    "\n"
   ]
  },
  {
   "cell_type": "markdown",
   "metadata": {},
   "source": [
    "### Structured Query Language (SQL)"
   ]
  },
  {
   "cell_type": "markdown",
   "metadata": {},
   "source": [
    "Once implemented, the universal language to interact with such databases is called SQL.\n",
    "\n",
    "SQL is similar to regular English sentences. There are small variations in SQL between each RDBMS vendor, termed SQL dialects, but the differences are not dramatic enough that the variations will present problems to those fluent in one or another."
   ]
  },
  {
   "cell_type": "markdown",
   "metadata": {},
   "source": [
    "## Entity Relationship Diagram (ERD)"
   ]
  },
  {
   "cell_type": "markdown",
   "metadata": {},
   "source": [
    "An ERD can help understand, explore and document a database. It can also help trouleshoot logic or deployment problems., spot inefficiencies and help improve processes. ERDs can also be used to design and model new databases, giving engineers or anyone who will need to work with the database an opportunity to identify any logic or design flaw before they're implemented in production.\n",
    "\n",
    "In general, as a data professional, an ERD can be used for the following:\n",
    "- document an existing database structure\n",
    "- debug, troubleshoot, and analyze\n",
    "- design a new database\n",
    "- gather design requirements\n",
    "\n",
    "To better understand how the tables in a relational database are interconnected, we can use an Entity Relationship Daigram. This kind of diagram displays each table as a box. It links these boxes together indicating the kind of relationship each has with each other.\n",
    "\n",
    "- `ENTITY`: An entity is an object or concept about which you want to store information. Each table is an entity.\n",
    "- `RELATIONSHIPS`: This shows how two entities share information in the database.\n",
    "- `ATTRIBUTES`: A key attribute is the unique, distinguishing characteristic of the entity. For example, an employee's social security number might be the employee's key attribute.\n",
    "- `CARDINALITY`: This specifies the numerical attribute of the relationship between entities. It can be one-to-one, many-to-one, or many-to-many.\n",
    "> The cardinality between entities can be described by the [Crow's Foot Notation](https://www.vertabelo.com/blog/crow-s-foot-notation/)."
   ]
  },
  {
   "cell_type": "markdown",
   "metadata": {},
   "source": [
    "# SQL Queries"
   ]
  },
  {
   "cell_type": "markdown",
   "metadata": {},
   "source": [
    "Structured Query Language is a database programming language that allows a user to create relational databases within a specific client and efficiently search through the database for specific information. Such queries can be optimized through planning techniques, but such methods differ in functionality and syntax for each client."
   ]
  },
  {
   "cell_type": "markdown",
   "metadata": {},
   "source": [
    "Example of joining 2 entities in a relational database to query for a specific attribute value:\n",
    "```sql\n",
    "SELECT name_attr, number_attr FROM emtity)_1\n",
    "    JOIN entity_2\n",
    "    ON entity_1.id = entity_2.id\n",
    "WHERE attribute = 'value'\n",
    "ORDER BY name_attr DESC;\n",
    "```"
   ]
  },
  {
   "cell_type": "markdown",
   "metadata": {},
   "source": [
    "## Changing Rows with UPDATE and DELETE"
   ]
  },
  {
   "cell_type": "markdown",
   "metadata": {},
   "source": [
    "A user can update and delete rows using simple SQL commands. However, be careful because these are destructive functions and can cause problems if improperly done. These are generally unsafe to do."
   ]
  },
  {
   "cell_type": "markdown",
   "metadata": {},
   "source": [
    "Example of updating and deleting values in a database:\n",
    "```sql\n",
    "UPDATE entity_1 SET content = 'updated'\n",
    "    WHERE row_id = 1;\n",
    "\n",
    "DELETE FROM entity_2 WHERE row_id=2\n",
    "```"
   ]
  },
  {
   "cell_type": "markdown",
   "metadata": {},
   "source": [
    "## Changing the Entity"
   ]
  },
  {
   "cell_type": "markdown",
   "metadata": {},
   "source": [
    "Entities can be altered to take on additional attributes after the entity has been created. Changing a table through the `CREATE TABLE` method after the fact can be reckless as it could reset the data for the entire entity. It is a much safer practice to use `ALTER TABLE` to alter entities in this way."
   ]
  },
  {
   "cell_type": "markdown",
   "metadata": {},
   "source": [
    "Example of updating and deleting values in a database:\n",
    "```sql\n",
    "ALTER TABLE entity_1 ADD another_attr REAL default 10;\n",
    "DROP TABLE entity_3;\n",
    "```"
   ]
  }
 ],
 "metadata": {
  "kernelspec": {
   "display_name": "Python 3.8.13 ('lighthouse')",
   "language": "python",
   "name": "python3"
  },
  "language_info": {
   "name": "python",
   "version": "3.8.13"
  },
  "orig_nbformat": 4,
  "vscode": {
   "interpreter": {
    "hash": "f6bdb6bebcaa6c165db367a86e382ae8df75f09257c40532b854029e0e3d706f"
   }
  }
 },
 "nbformat": 4,
 "nbformat_minor": 2
}
