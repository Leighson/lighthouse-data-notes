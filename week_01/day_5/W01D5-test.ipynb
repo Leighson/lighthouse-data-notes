{
 "cells": [
  {
   "cell_type": "markdown",
   "id": "d395b05e-bdb9-412f-8307-33426c3c665a",
   "metadata": {
    "tags": []
   },
   "source": [
    "# W1.D5.Q1\n",
    "Create a function that determines whether or not it’s possible to split a pie fairly given these three parameters:\n",
    "  - Total number of slices\n",
    "  - Number of recipients\n",
    "  - How many slices each person gets \n",
    "\n",
    "Form of the function:\n",
    "    equal_slices(total_ slices, no_recipients, slices_each)\n",
    "\n",
    "Examples:\n",
    "\n",
    "    > equal_slices(11, 5, 2) ➞ True\n",
    "    > 5 people x 2 slices each = 10 slices < 11 slices \n",
    "\n",
    "    > equal_slices(11, 5, 3) ➞ False\n",
    "    > 5 people x 3 slices each = 15 slices > 11 slices\n",
    "\n",
    "\n",
    "    > equal_slices(8, 3, 2) ➞ True\n",
    "\n",
    "    > equal_slices(8, 3, 3) ➞ False\n",
    "\n",
    "    > equal_slices(24, 12, 2) ➞ True\n",
    "\n",
    "Notes:\n",
    " - Return True if there are zero people.\n",
    " - It's fine not to use the entire pie.\n",
    " - All parameters are integers\n",
    "\"\"\""
   ]
  },
  {
   "cell_type": "code",
   "execution_count": 9,
   "id": "ee06edce-039d-4397-bcc2-d68b4e725f51",
   "metadata": {},
   "outputs": [
    {
     "name": "stdout",
     "output_type": "stream",
     "text": [
      "True\n",
      "False\n",
      "True\n",
      "False\n",
      "True\n"
     ]
    }
   ],
   "source": [
    "def equal_slices(total_slices, no_recipients, slices_each):\n",
    "    \n",
    "    if no_recipients == 0:\n",
    "        return True\n",
    "    elif no_recipients * slices_each <= total_slices:\n",
    "        return True\n",
    "    else:\n",
    "        return False\n",
    "    \n",
    "print(equal_slices(11, 5, 2))\n",
    "print(equal_slices(11, 5, 3))\n",
    "print(equal_slices(8, 3, 2))\n",
    "print(equal_slices(8, 3, 3))\n",
    "print(equal_slices(24, 12, 2))"
   ]
  },
  {
   "cell_type": "markdown",
   "id": "f808f5b8-dd43-44d7-82a7-aa6262beaf83",
   "metadata": {},
   "source": [
    "# W1.D5.Q2\n",
    "Adjust the function 'equal_slices' from question_00 to return number of pieces left as well.\n",
    "\n",
    "Examples:\n",
    "\n",
    "    > equal_slices(11, 5, 2) ➞ (True, 1)\n",
    "    > # 5 people x 2 slices each = 10 slices < 11 slices \n",
    "\n",
    "    > equal_slices(11, 5, 3) ➞ (False,None)\n",
    "    > # 5 people x 3 slices each = 15 slices > 11 slicess\n",
    "\n",
    "    > equal_slices(8, 3, 2) ➞ (True, 2)\n",
    "\n",
    "    > equal_slices(8, 3, 3) ➞ (False, None)\n",
    "\n",
    "    > equal_slices(24, 12, 2) ➞ (True, 0)\n",
    "\n",
    "Notes:\n",
    " - Return (True, total_slices) if there are zero people.\n",
    " - All parameters are integers."
   ]
  },
  {
   "cell_type": "code",
   "execution_count": 12,
   "id": "0a88a969-d118-48fe-aba1-c9ce89b20915",
   "metadata": {},
   "outputs": [
    {
     "name": "stdout",
     "output_type": "stream",
     "text": [
      "(True, 1)\n",
      "(False, None)\n",
      "(True, 2)\n",
      "(False, None)\n",
      "(True, 0)\n"
     ]
    }
   ],
   "source": [
    "def equal_slices(total_slices, no_recipients, slices_each):\n",
    "    \n",
    "    if no_recipients == 0:\n",
    "        return (True, total_slices)\n",
    "    elif no_recipients * slices_each <= total_slices:\n",
    "        num = total_slices % (no_recipients * slices_each)\n",
    "        return (True, num)\n",
    "    else:\n",
    "        return (False, None)\n",
    "\n",
    "print(equal_slices(11, 5, 2))\n",
    "print(equal_slices(11, 5, 3))\n",
    "print(equal_slices(8, 3, 2))\n",
    "print(equal_slices(8, 3, 3))\n",
    "print(equal_slices(24, 12, 2))"
   ]
  },
  {
   "cell_type": "markdown",
   "id": "a0b8bf80-0d01-4d45-89f6-b11b2f3cc6cd",
   "metadata": {
    "tags": []
   },
   "source": [
    "# W1.D5.Q3\n",
    "Given two strings, create a function that returns the total number of unique characters from the combined string.\n",
    "\n",
    "Examples:\n",
    "\n",
    "    > count_unique_chars(\"apple\", \"play\") ➞ 5\n",
    "    > \"appleplay\" has 5 unique characters:  \"a\", \"e\", \"l\", \"p\", \"y\"\n",
    "\n",
    "    > count_unique_chars(\"sore\", \"zebra\") ➞ 7\n",
    "\n",
    "    > count_unique_chars(\"a\", \"soup\") ➞ 5\n",
    "    \n",
    "Notes:\n",
    " - Careful with empty strings\n",
    " - All characters will be lowercase."
   ]
  },
  {
   "cell_type": "code",
   "execution_count": 19,
   "id": "2d72ffa7-562f-491d-ab2c-5a82a7942309",
   "metadata": {},
   "outputs": [
    {
     "name": "stdout",
     "output_type": "stream",
     "text": [
      "5\n",
      "7\n",
      "5\n"
     ]
    }
   ],
   "source": [
    "def count_unique_chars(string_1, string_2):\n",
    "    return len(set(string_1.lower()) | set(string_2.lower()))\n",
    "\n",
    "print(count_unique_chars(\"apple\", \"play\"))\n",
    "print(count_unique_chars(\"sore\", \"zebra\"))\n",
    "print(count_unique_chars(\"a\", \"soup\"))"
   ]
  },
  {
   "cell_type": "markdown",
   "id": "0a497d50-8d75-4be9-a680-d4c8823b7375",
   "metadata": {},
   "source": [
    "# W1.D5.Q4\n",
    "Create a function that takes a string of lowercase characters and returns that string reversed and in upper case.\n",
    "\n",
    "Examples:\n",
    "\n",
    "    > reverse_capitalize(\"abc\") ➞ \"CBA\"\n",
    "\n",
    "    > reverse_capitalize(\"hellothere\") ➞ \"EREHTOLLEH\"\n",
    "\n",
    "    > reverse_capitalize(\"input\") ➞ \"TUPNI\""
   ]
  },
  {
   "cell_type": "code",
   "execution_count": 35,
   "id": "be330e52-0c2c-4fd9-b804-11fdc8987ebb",
   "metadata": {},
   "outputs": [],
   "source": [
    "def reverse_capitalize(string):\n",
    "    rev_string = string[::-1].upper()\n",
    "    return rev_string"
   ]
  },
  {
   "cell_type": "code",
   "execution_count": 36,
   "id": "6db1a8d7-183d-4a71-b94f-da69dcad0b79",
   "metadata": {},
   "outputs": [
    {
     "name": "stdout",
     "output_type": "stream",
     "text": [
      "CBA\n",
      "EREHTOLLEH\n",
      "TUPNI\n"
     ]
    }
   ],
   "source": [
    "print(reverse_capitalize(\"abc\"))\n",
    "print(reverse_capitalize(\"hellothere\"))\n",
    "print(reverse_capitalize(\"input\"))"
   ]
  },
  {
   "cell_type": "markdown",
   "id": "dc484676-3d94-424c-be75-6b3bbc401907",
   "metadata": {},
   "source": [
    "# W1.D5.Q5\n",
    "Create a function that takes an integer and returns True if it's divisible by 100, otherwise return False.\n",
    "\n",
    "Examples:\n",
    "    \n",
    "    > divisible(1) ➞ False\n",
    "\n",
    "    > divisible(1000) ➞ True\n",
    "\n",
    "    > divisible(100) ➞ True"
   ]
  },
  {
   "cell_type": "code",
   "execution_count": 37,
   "id": "ab8553ad-f4c7-4511-a3f4-0849759f9dce",
   "metadata": {},
   "outputs": [],
   "source": [
    "def divisible(integer):\n",
    "    div = integer % 100\n",
    "    return not(div)"
   ]
  },
  {
   "cell_type": "code",
   "execution_count": 38,
   "id": "1f921a1a-67d9-4e7a-a244-f8c98557f394",
   "metadata": {},
   "outputs": [
    {
     "name": "stdout",
     "output_type": "stream",
     "text": [
      "False\n",
      "True\n",
      "True\n"
     ]
    }
   ],
   "source": [
    "print(divisible(1))\n",
    "print(divisible(1000))\n",
    "print(divisible(100))"
   ]
  },
  {
   "cell_type": "code",
   "execution_count": null,
   "id": "a162caae-b916-43e6-b235-907c661477cd",
   "metadata": {},
   "outputs": [],
   "source": []
  }
 ],
 "metadata": {
  "kernelspec": {
   "display_name": "lighthouse",
   "language": "python",
   "name": "lighthouse"
  },
  "language_info": {
   "codemirror_mode": {
    "name": "ipython",
    "version": 3
   },
   "file_extension": ".py",
   "mimetype": "text/x-python",
   "name": "python",
   "nbconvert_exporter": "python",
   "pygments_lexer": "ipython3",
   "version": "3.8.13"
  }
 },
 "nbformat": 4,
 "nbformat_minor": 5
}
