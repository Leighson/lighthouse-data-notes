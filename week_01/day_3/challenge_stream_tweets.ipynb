{
 "cells": [
  {
   "cell_type": "code",
   "execution_count": 45,
   "metadata": {},
   "outputs": [],
   "source": [
    "import tweepy\n",
    "import json\n",
    "import os"
   ]
  },
  {
   "cell_type": "markdown",
   "metadata": {},
   "source": [
    "**Task:** Load the values of access tokens and keys from environmental variables to python variables"
   ]
  },
  {
   "cell_type": "code",
   "execution_count": 46,
   "metadata": {},
   "outputs": [],
   "source": [
    "consumer_key = os.environ.get('TWIT_CUST_API_KEY')\n",
    "consumer_secret = os.environ.get('TWIT_CUST_API_SECRET')\n",
    "bearer_token = os.environ.get('TWIT_BEARER_TOKEN')\n",
    "access_token = os.environ.get('TWIT_ACC_TOKEN')\n",
    "access_token_secret = os.environ.get('TWIT_ACC_SECRET')"
   ]
  },
  {
   "cell_type": "code",
   "execution_count": 52,
   "metadata": {},
   "outputs": [
    {
     "name": "stdout",
     "output_type": "stream",
     "text": [
      "None\n"
     ]
    }
   ],
   "source": [
    "print(consumer_key)"
   ]
  },
  {
   "cell_type": "code",
   "execution_count": 47,
   "metadata": {},
   "outputs": [
    {
     "data": {
      "text/plain": [
       "environ{'ELECTRON_RUN_AS_NODE': '1',\n",
       "        'SECURITYSESSIONID': '186a6',\n",
       "        'USER': 'lsantos',\n",
       "        'MallocNanoZone': '0',\n",
       "        '__CFBundleIdentifier': 'com.microsoft.VSCode',\n",
       "        'COMMAND_MODE': 'unix2003',\n",
       "        'LOGNAME': 'lsantos',\n",
       "        'PATH': '/opt/homebrew/Caskroom/miniforge/base/envs/lighthouse/bin:/opt/homebrew/Caskroom/miniforge/base/envs/lighthouse/bin:/opt/homebrew/Caskroom/miniforge/base/envs/lighthouse/bin:/opt/homebrew/Caskroom/miniforge/base/envs/lighthouse/bin:/opt/homebrew/Caskroom/miniforge/base/envs/lighthouse/bin:/opt/homebrew/Caskroom/miniforge/base/envs/lighthouse/bin:/opt/homebrew/Caskroom/miniforge/base/envs/lighthouse/bin:/opt/homebrew/Caskroom/miniforge/base/envs/lighthouse/bin:/opt/homebrew/Caskroom/miniforge/base/envs/lighthouse/bin:/opt/homebrew/Caskroom/miniforge/base/envs/lighthouse/bin:/opt/homebrew/Caskroom/miniforge/base/envs/lighthouse/bin:/opt/homebrew/Caskroom/miniforge/base/envs/lighthouse/bin:/opt/homebrew/Caskroom/miniforge/base/envs/lighthouse/bin:/opt/homebrew/Caskroom/miniforge/base/envs/lighthouse/bin:/opt/homebrew/Caskroom/miniforge/base/envs/lighthouse/bin:/opt/homebrew/Caskroom/miniforge/base/envs/lighthouse/bin:/opt/homebrew/Caskroom/miniforge/base/condabin:/opt/homebrew/bin:/opt/homebrew/sbin:/usr/local/bin:/usr/bin:/bin:/usr/sbin:/sbin',\n",
       "        'SSH_AUTH_SOCK': '/private/tmp/com.apple.launchd.yhw0y1xwc6/Listeners',\n",
       "        'SHELL': '/bin/zsh',\n",
       "        'HOME': '/Users/lsantos',\n",
       "        '__CF_USER_TEXT_ENCODING': '0x1F5:0x0:0x52',\n",
       "        'LaunchInstanceID': 'E345B050-550E-41CF-808C-3378C7182D56',\n",
       "        'TMPDIR': '/var/folders/xm/yv4_9lnx4vxb435678j65d140000gn/T/',\n",
       "        'XPC_SERVICE_NAME': 'application.com.microsoft.VSCode.16811940.16811946',\n",
       "        'XPC_FLAGS': '0x0',\n",
       "        'ORIGINAL_XDG_CURRENT_DESKTOP': 'undefined',\n",
       "        'VSCODE_CWD': '/',\n",
       "        'VSCODE_NLS_CONFIG': '{\"locale\":\"en-us\",\"availableLanguages\":{},\"_languagePackSupport\":true}',\n",
       "        'VSCODE_CODE_CACHE_PATH': '/Users/lsantos/Library/Application Support/Code/CachedData/92d25e35d9bf1a6b16f7d0758f25d48ace11e5b9',\n",
       "        'VSCODE_IPC_HOOK': '/Users/lsantos/Library/Application Support/Code/1.69.0-main.sock',\n",
       "        'VSCODE_PID': '63300',\n",
       "        'SHLVL': '0',\n",
       "        'PWD': '/',\n",
       "        'OLDPWD': '/',\n",
       "        'HOMEBREW_PREFIX': '/opt/homebrew',\n",
       "        'HOMEBREW_CELLAR': '/opt/homebrew/Cellar',\n",
       "        'HOMEBREW_REPOSITORY': '/opt/homebrew',\n",
       "        'MANPATH': '/opt/homebrew/share/man::',\n",
       "        'INFOPATH': '/opt/homebrew/share/info:',\n",
       "        'CONDA_EXE': '/opt/homebrew/Caskroom/miniforge/base/bin/conda',\n",
       "        '_CE_M': '',\n",
       "        '_CE_CONDA': '',\n",
       "        'CONDA_PYTHON_EXE': '/opt/homebrew/Caskroom/miniforge/base/bin/python',\n",
       "        'CONDA_SHLVL': '2',\n",
       "        'CONDA_PREFIX': '/opt/homebrew/Caskroom/miniforge/base/envs/lighthouse',\n",
       "        'CONDA_DEFAULT_ENV': 'lighthouse',\n",
       "        'CONDA_PROMPT_MODIFIER': '(lighthouse) ',\n",
       "        'PS1': '%F{009}%i%f %F{240}%D{%y%m%d}.%D{%H%M}%f %F{010}%n%f%F{240}@%f%F{011}%m%F{0240}:%f%f%F{014}..%2d%f\\n%S$%s ',\n",
       "        'FOURSQUARE_API_KEY': 'fsq3P3rZR2Kb2ccaHpbuTMdwWCtYF3fIp1frLeqT2saiS0M=',\n",
       "        '_': '/opt/homebrew/Caskroom/miniforge/base/envs/lighthouse/bin/python',\n",
       "        'VSCODE_AMD_ENTRYPOINT': 'vs/workbench/api/node/extensionHostProcess',\n",
       "        'VSCODE_HANDLES_UNCAUGHT_ERRORS': 'true',\n",
       "        'APPLICATION_INSIGHTS_NO_DIAGNOSTIC_CHANNEL': '1',\n",
       "        'PYTHONPATH': '/Users/lsantos/.vscode/extensions/ms-toolsai.jupyter-2022.7.1001951036/pythonFiles:/Users/lsantos/.vscode/extensions/ms-toolsai.jupyter-2022.7.1001951036/pythonFiles/lib/python',\n",
       "        'PYTHONUNBUFFERED': '1',\n",
       "        'PYTHONIOENCODING': 'utf-8',\n",
       "        'LC_CTYPE': 'UTF-8',\n",
       "        'JUPYTER_PATH': '/Users/lsantos/.vscode/extensions/ms-toolsai.jupyter-2022.7.1001951036/temp/jupyter',\n",
       "        'PYDEVD_USE_FRAME_EVAL': 'NO',\n",
       "        'GSETTINGS_SCHEMA_DIR': '/opt/homebrew/Caskroom/miniforge/base/envs/lighthouse/share/glib-2.0/schemas',\n",
       "        'GSETTINGS_SCHEMA_DIR_CONDA_BACKUP': '',\n",
       "        'CPL_ZIP_ENCODING': 'UTF-8',\n",
       "        'GDAL_DRIVER_PATH': '/opt/homebrew/Caskroom/miniforge/base/envs/lighthouse/lib/gdalplugins',\n",
       "        'PROJ_LIB': '/opt/homebrew/Caskroom/miniforge/base/envs/lighthouse/share/proj',\n",
       "        'GDAL_DATA': '/opt/homebrew/Caskroom/miniforge/base/envs/lighthouse/share/gdal',\n",
       "        'CONDA_PREFIX_1': '/opt/homebrew/Caskroom/miniforge/base',\n",
       "        'PROJ_NETWORK': 'ON',\n",
       "        'CONDA_ROOT': '/opt/homebrew/Caskroom/miniforge/base',\n",
       "        'JPY_PARENT_PID': '32653',\n",
       "        'TERM': 'xterm-color',\n",
       "        'CLICOLOR': '1',\n",
       "        'PAGER': 'cat',\n",
       "        'GIT_PAGER': 'cat',\n",
       "        'MPLBACKEND': 'module://matplotlib_inline.backend_inline'}"
      ]
     },
     "execution_count": 47,
     "metadata": {},
     "output_type": "execute_result"
    }
   ],
   "source": [
    "os.environ"
   ]
  },
  {
   "cell_type": "code",
   "execution_count": 50,
   "metadata": {},
   "outputs": [
    {
     "ename": "TypeError",
     "evalue": "Consumer key must be string or bytes, not NoneType",
     "output_type": "error",
     "traceback": [
      "\u001b[0;31m---------------------------------------------------------------------------\u001b[0m",
      "\u001b[0;31mTypeError\u001b[0m                                 Traceback (most recent call last)",
      "\u001b[1;32m/Users/lsantos/Documents/lighthouse-data-notes/week_01/day_3/challenge_stream_tweets.ipynb Cell 5\u001b[0m in \u001b[0;36m<cell line: 1>\u001b[0;34m()\u001b[0m\n\u001b[0;32m----> <a href='vscode-notebook-cell:/Users/lsantos/Documents/lighthouse-data-notes/week_01/day_3/challenge_stream_tweets.ipynb#W3sZmlsZQ%3D%3D?line=0'>1</a>\u001b[0m auth \u001b[39m=\u001b[39m tweepy\u001b[39m.\u001b[39;49mOAuth1UserHandler(\n\u001b[1;32m      <a href='vscode-notebook-cell:/Users/lsantos/Documents/lighthouse-data-notes/week_01/day_3/challenge_stream_tweets.ipynb#W3sZmlsZQ%3D%3D?line=1'>2</a>\u001b[0m     consumer_key, consumer_secret, access_token, access_token_secret\n\u001b[1;32m      <a href='vscode-notebook-cell:/Users/lsantos/Documents/lighthouse-data-notes/week_01/day_3/challenge_stream_tweets.ipynb#W3sZmlsZQ%3D%3D?line=2'>3</a>\u001b[0m )\n",
      "File \u001b[0;32m/opt/homebrew/Caskroom/miniforge/base/envs/lighthouse/lib/python3.8/site-packages/tweepy/auth.py:31\u001b[0m, in \u001b[0;36mOAuth1UserHandler.__init__\u001b[0;34m(self, consumer_key, consumer_secret, access_token, access_token_secret, callback)\u001b[0m\n\u001b[1;32m     28\u001b[0m \u001b[39mdef\u001b[39;00m \u001b[39m__init__\u001b[39m(\u001b[39mself\u001b[39m, consumer_key, consumer_secret, access_token\u001b[39m=\u001b[39m\u001b[39mNone\u001b[39;00m,\n\u001b[1;32m     29\u001b[0m              access_token_secret\u001b[39m=\u001b[39m\u001b[39mNone\u001b[39;00m, callback\u001b[39m=\u001b[39m\u001b[39mNone\u001b[39;00m):\n\u001b[1;32m     30\u001b[0m     \u001b[39mif\u001b[39;00m \u001b[39mnot\u001b[39;00m \u001b[39misinstance\u001b[39m(consumer_key, (\u001b[39mstr\u001b[39m, \u001b[39mbytes\u001b[39m)):\n\u001b[0;32m---> 31\u001b[0m         \u001b[39mraise\u001b[39;00m \u001b[39mTypeError\u001b[39;00m(\u001b[39m\"\u001b[39m\u001b[39mConsumer key must be string or bytes, not \u001b[39m\u001b[39m\"\u001b[39m\n\u001b[1;32m     32\u001b[0m                         \u001b[39m+\u001b[39m \u001b[39mtype\u001b[39m(consumer_key)\u001b[39m.\u001b[39m\u001b[39m__name__\u001b[39m)\n\u001b[1;32m     33\u001b[0m     \u001b[39mif\u001b[39;00m \u001b[39mnot\u001b[39;00m \u001b[39misinstance\u001b[39m(consumer_secret, (\u001b[39mstr\u001b[39m, \u001b[39mbytes\u001b[39m)):\n\u001b[1;32m     34\u001b[0m         \u001b[39mraise\u001b[39;00m \u001b[39mTypeError\u001b[39;00m(\u001b[39m\"\u001b[39m\u001b[39mConsumer secret must be string or bytes, not \u001b[39m\u001b[39m\"\u001b[39m\n\u001b[1;32m     35\u001b[0m                         \u001b[39m+\u001b[39m \u001b[39mtype\u001b[39m(consumer_secret)\u001b[39m.\u001b[39m\u001b[39m__name__\u001b[39m)\n",
      "\u001b[0;31mTypeError\u001b[0m: Consumer key must be string or bytes, not NoneType"
     ]
    }
   ],
   "source": [
    "auth = tweepy.OAuth1UserHandler(\n",
    "    consumer_key, consumer_secret, access_token, access_token_secret\n",
    ")"
   ]
  },
  {
   "cell_type": "code",
   "execution_count": 49,
   "metadata": {},
   "outputs": [
    {
     "name": "stdout",
     "output_type": "stream",
     "text": [
      "<class 'twitter.api.Api'>\n"
     ]
    }
   ],
   "source": [
    "# Checking the type of api object\n",
    "print(type(api))"
   ]
  },
  {
   "cell_type": "code",
   "execution_count": 17,
   "metadata": {},
   "outputs": [],
   "source": [
    "## FOLLOWING FUNCTION WILL COLLECT REAL-TIME TWEETS IN OUR COMPUTER\n",
    "\n",
    "# data returned will be for any tweet mentioning strings in the list FILTER\n",
    "FILTER = ['#datascience']\n",
    "\n",
    "# Languages to filter tweets by is a list. This will be joined by Twitter\n",
    "# to return data mentioning tweets only in the english language.\n",
    "LANGUAGES = ['en']\n",
    "\n",
    "def main():\n",
    "    with open('output.txt', 'a') as f:\n",
    "        # api.GetStreamFilter will return a generator that yields one status\n",
    "        # message (i.e., Tweet) at a time as a JSON dictionary.\n",
    "        for line in api.GetStreamFilter(track=FILTER, languages=LANGUAGES):\n",
    "            f.write(json.dumps(line))\n",
    "            f.write('\\n')"
   ]
  },
  {
   "cell_type": "code",
   "execution_count": 18,
   "metadata": {
    "collapsed": true,
    "jupyter": {
     "outputs_hidden": true
    }
   },
   "outputs": [
    {
     "ename": "TwitterError",
     "evalue": "{'message': 'Unauthorized'}",
     "output_type": "error",
     "traceback": [
      "\u001b[0;31m---------------------------------------------------------------------------\u001b[0m",
      "\u001b[0;31mJSONDecodeError\u001b[0m                           Traceback (most recent call last)",
      "File \u001b[0;32m/opt/homebrew/Caskroom/miniforge/base/envs/lighthouse/lib/python3.8/site-packages/twitter/api.py:4897\u001b[0m, in \u001b[0;36mApi._ParseAndCheckTwitter\u001b[0;34m(self, json_data)\u001b[0m\n\u001b[1;32m   4896\u001b[0m \u001b[39mtry\u001b[39;00m:\n\u001b[0;32m-> 4897\u001b[0m     data \u001b[39m=\u001b[39m json\u001b[39m.\u001b[39;49mloads(json_data)\n\u001b[1;32m   4898\u001b[0m \u001b[39mexcept\u001b[39;00m \u001b[39mValueError\u001b[39;00m:\n",
      "File \u001b[0;32m/opt/homebrew/Caskroom/miniforge/base/envs/lighthouse/lib/python3.8/json/__init__.py:357\u001b[0m, in \u001b[0;36mloads\u001b[0;34m(s, cls, object_hook, parse_float, parse_int, parse_constant, object_pairs_hook, **kw)\u001b[0m\n\u001b[1;32m    354\u001b[0m \u001b[39mif\u001b[39;00m (\u001b[39mcls\u001b[39m \u001b[39mis\u001b[39;00m \u001b[39mNone\u001b[39;00m \u001b[39mand\u001b[39;00m object_hook \u001b[39mis\u001b[39;00m \u001b[39mNone\u001b[39;00m \u001b[39mand\u001b[39;00m\n\u001b[1;32m    355\u001b[0m         parse_int \u001b[39mis\u001b[39;00m \u001b[39mNone\u001b[39;00m \u001b[39mand\u001b[39;00m parse_float \u001b[39mis\u001b[39;00m \u001b[39mNone\u001b[39;00m \u001b[39mand\u001b[39;00m\n\u001b[1;32m    356\u001b[0m         parse_constant \u001b[39mis\u001b[39;00m \u001b[39mNone\u001b[39;00m \u001b[39mand\u001b[39;00m object_pairs_hook \u001b[39mis\u001b[39;00m \u001b[39mNone\u001b[39;00m \u001b[39mand\u001b[39;00m \u001b[39mnot\u001b[39;00m kw):\n\u001b[0;32m--> 357\u001b[0m     \u001b[39mreturn\u001b[39;00m _default_decoder\u001b[39m.\u001b[39;49mdecode(s)\n\u001b[1;32m    358\u001b[0m \u001b[39mif\u001b[39;00m \u001b[39mcls\u001b[39m \u001b[39mis\u001b[39;00m \u001b[39mNone\u001b[39;00m:\n",
      "File \u001b[0;32m/opt/homebrew/Caskroom/miniforge/base/envs/lighthouse/lib/python3.8/json/decoder.py:337\u001b[0m, in \u001b[0;36mJSONDecoder.decode\u001b[0;34m(self, s, _w)\u001b[0m\n\u001b[1;32m    333\u001b[0m \u001b[39m\"\"\"Return the Python representation of ``s`` (a ``str`` instance\u001b[39;00m\n\u001b[1;32m    334\u001b[0m \u001b[39mcontaining a JSON document).\u001b[39;00m\n\u001b[1;32m    335\u001b[0m \n\u001b[1;32m    336\u001b[0m \u001b[39m\"\"\"\u001b[39;00m\n\u001b[0;32m--> 337\u001b[0m obj, end \u001b[39m=\u001b[39m \u001b[39mself\u001b[39;49m\u001b[39m.\u001b[39;49mraw_decode(s, idx\u001b[39m=\u001b[39;49m_w(s, \u001b[39m0\u001b[39;49m)\u001b[39m.\u001b[39;49mend())\n\u001b[1;32m    338\u001b[0m end \u001b[39m=\u001b[39m _w(s, end)\u001b[39m.\u001b[39mend()\n",
      "File \u001b[0;32m/opt/homebrew/Caskroom/miniforge/base/envs/lighthouse/lib/python3.8/json/decoder.py:355\u001b[0m, in \u001b[0;36mJSONDecoder.raw_decode\u001b[0;34m(self, s, idx)\u001b[0m\n\u001b[1;32m    354\u001b[0m \u001b[39mexcept\u001b[39;00m \u001b[39mStopIteration\u001b[39;00m \u001b[39mas\u001b[39;00m err:\n\u001b[0;32m--> 355\u001b[0m     \u001b[39mraise\u001b[39;00m JSONDecodeError(\u001b[39m\"\u001b[39m\u001b[39mExpecting value\u001b[39m\u001b[39m\"\u001b[39m, s, err\u001b[39m.\u001b[39mvalue) \u001b[39mfrom\u001b[39;00m \u001b[39mNone\u001b[39m\n\u001b[1;32m    356\u001b[0m \u001b[39mreturn\u001b[39;00m obj, end\n",
      "\u001b[0;31mJSONDecodeError\u001b[0m: Expecting value: line 1 column 1 (char 0)",
      "\nDuring handling of the above exception, another exception occurred:\n",
      "\u001b[0;31mTwitterError\u001b[0m                              Traceback (most recent call last)",
      "\u001b[1;32m/Users/lsantos/Documents/lighthouse-data-notes/week_01/day_3/challenge_stream_tweets.ipynb Cell 7\u001b[0m in \u001b[0;36m<cell line: 2>\u001b[0;34m()\u001b[0m\n\u001b[1;32m      <a href='vscode-notebook-cell:/Users/lsantos/Documents/lighthouse-data-notes/week_01/day_3/challenge_stream_tweets.ipynb#W6sZmlsZQ%3D%3D?line=0'>1</a>\u001b[0m \u001b[39m# Execute function\u001b[39;00m\n\u001b[0;32m----> <a href='vscode-notebook-cell:/Users/lsantos/Documents/lighthouse-data-notes/week_01/day_3/challenge_stream_tweets.ipynb#W6sZmlsZQ%3D%3D?line=1'>2</a>\u001b[0m main()\n",
      "\u001b[1;32m/Users/lsantos/Documents/lighthouse-data-notes/week_01/day_3/challenge_stream_tweets.ipynb Cell 7\u001b[0m in \u001b[0;36mmain\u001b[0;34m()\u001b[0m\n\u001b[1;32m     <a href='vscode-notebook-cell:/Users/lsantos/Documents/lighthouse-data-notes/week_01/day_3/challenge_stream_tweets.ipynb#W6sZmlsZQ%3D%3D?line=10'>11</a>\u001b[0m \u001b[39mdef\u001b[39;00m \u001b[39mmain\u001b[39m():\n\u001b[1;32m     <a href='vscode-notebook-cell:/Users/lsantos/Documents/lighthouse-data-notes/week_01/day_3/challenge_stream_tweets.ipynb#W6sZmlsZQ%3D%3D?line=11'>12</a>\u001b[0m     \u001b[39mwith\u001b[39;00m \u001b[39mopen\u001b[39m(\u001b[39m'\u001b[39m\u001b[39moutput.txt\u001b[39m\u001b[39m'\u001b[39m, \u001b[39m'\u001b[39m\u001b[39ma\u001b[39m\u001b[39m'\u001b[39m) \u001b[39mas\u001b[39;00m f:\n\u001b[1;32m     <a href='vscode-notebook-cell:/Users/lsantos/Documents/lighthouse-data-notes/week_01/day_3/challenge_stream_tweets.ipynb#W6sZmlsZQ%3D%3D?line=12'>13</a>\u001b[0m         \u001b[39m# api.GetStreamFilter will return a generator that yields one status\u001b[39;00m\n\u001b[1;32m     <a href='vscode-notebook-cell:/Users/lsantos/Documents/lighthouse-data-notes/week_01/day_3/challenge_stream_tweets.ipynb#W6sZmlsZQ%3D%3D?line=13'>14</a>\u001b[0m         \u001b[39m# message (i.e., Tweet) at a time as a JSON dictionary.\u001b[39;00m\n\u001b[0;32m---> <a href='vscode-notebook-cell:/Users/lsantos/Documents/lighthouse-data-notes/week_01/day_3/challenge_stream_tweets.ipynb#W6sZmlsZQ%3D%3D?line=14'>15</a>\u001b[0m         \u001b[39mfor\u001b[39;00m line \u001b[39min\u001b[39;00m api\u001b[39m.\u001b[39mGetStreamFilter(track\u001b[39m=\u001b[39mFILTER, languages\u001b[39m=\u001b[39mLANGUAGES):\n\u001b[1;32m     <a href='vscode-notebook-cell:/Users/lsantos/Documents/lighthouse-data-notes/week_01/day_3/challenge_stream_tweets.ipynb#W6sZmlsZQ%3D%3D?line=15'>16</a>\u001b[0m             f\u001b[39m.\u001b[39mwrite(json\u001b[39m.\u001b[39mdumps(line))\n\u001b[1;32m     <a href='vscode-notebook-cell:/Users/lsantos/Documents/lighthouse-data-notes/week_01/day_3/challenge_stream_tweets.ipynb#W6sZmlsZQ%3D%3D?line=16'>17</a>\u001b[0m             f\u001b[39m.\u001b[39mwrite(\u001b[39m'\u001b[39m\u001b[39m\\n\u001b[39;00m\u001b[39m'\u001b[39m)\n",
      "File \u001b[0;32m/opt/homebrew/Caskroom/miniforge/base/envs/lighthouse/lib/python3.8/site-packages/twitter/api.py:4595\u001b[0m, in \u001b[0;36mApi.GetStreamFilter\u001b[0;34m(self, follow, track, locations, languages, delimited, stall_warnings, filter_level)\u001b[0m\n\u001b[1;32m   4593\u001b[0m \u001b[39mfor\u001b[39;00m line \u001b[39min\u001b[39;00m resp\u001b[39m.\u001b[39miter_lines():\n\u001b[1;32m   4594\u001b[0m     \u001b[39mif\u001b[39;00m line:\n\u001b[0;32m-> 4595\u001b[0m         data \u001b[39m=\u001b[39m \u001b[39mself\u001b[39;49m\u001b[39m.\u001b[39;49m_ParseAndCheckTwitter(line\u001b[39m.\u001b[39;49mdecode(\u001b[39m'\u001b[39;49m\u001b[39mutf-8\u001b[39;49m\u001b[39m'\u001b[39;49m))\n\u001b[1;32m   4596\u001b[0m         \u001b[39myield\u001b[39;00m data\n",
      "File \u001b[0;32m/opt/homebrew/Caskroom/miniforge/base/envs/lighthouse/lib/python3.8/site-packages/twitter/api.py:4906\u001b[0m, in \u001b[0;36mApi._ParseAndCheckTwitter\u001b[0;34m(self, json_data)\u001b[0m\n\u001b[1;32m   4904\u001b[0m         \u001b[39mraise\u001b[39;00m TwitterError({\u001b[39m'\u001b[39m\u001b[39mmessage\u001b[39m\u001b[39m'\u001b[39m: \u001b[39m\"\u001b[39m\u001b[39mExceeded connection limit for user\u001b[39m\u001b[39m\"\u001b[39m})\n\u001b[1;32m   4905\u001b[0m     \u001b[39mif\u001b[39;00m \u001b[39m\"\u001b[39m\u001b[39mError 401 Unauthorized\u001b[39m\u001b[39m\"\u001b[39m \u001b[39min\u001b[39;00m json_data:\n\u001b[0;32m-> 4906\u001b[0m         \u001b[39mraise\u001b[39;00m TwitterError({\u001b[39m'\u001b[39m\u001b[39mmessage\u001b[39m\u001b[39m'\u001b[39m: \u001b[39m\"\u001b[39m\u001b[39mUnauthorized\u001b[39m\u001b[39m\"\u001b[39m})\n\u001b[1;32m   4907\u001b[0m     \u001b[39mraise\u001b[39;00m TwitterError({\u001b[39m'\u001b[39m\u001b[39mUnknown error\u001b[39m\u001b[39m'\u001b[39m: \u001b[39m'\u001b[39m\u001b[39m{0}\u001b[39;00m\u001b[39m'\u001b[39m\u001b[39m.\u001b[39mformat(json_data)})\n\u001b[1;32m   4908\u001b[0m \u001b[39mself\u001b[39m\u001b[39m.\u001b[39m_CheckForTwitterError(data)\n",
      "\u001b[0;31mTwitterError\u001b[0m: {'message': 'Unauthorized'}"
     ]
    }
   ],
   "source": [
    "# Execute function\n",
    "main()"
   ]
  },
  {
   "cell_type": "markdown",
   "metadata": {},
   "source": [
    "**Task:** Edit function `main` so it can store tweets anywhere (location specified as parameter). The FILTER and LANGUAGES should be parameters as well. Test it with different values and languages."
   ]
  },
  {
   "cell_type": "markdown",
   "metadata": {},
   "source": [
    "**Task:** Create File `stream_tweets.py` that can be executed from the Terminal by exporting the code from this notebook."
   ]
  },
  {
   "cell_type": "markdown",
   "metadata": {},
   "source": [
    "**Task:** Start storing tweets which contain either happy smiley (`:)`) or sad smiley (`:(`) in their text. We will use this dataset during the NLP section. It's good to let the script running for at least 2-3 hours to collect enough data for future modeling."
   ]
  },
  {
   "cell_type": "markdown",
   "metadata": {},
   "source": [
    "> #### Note\n",
    "> the main function runs as an ongoing process and won;t stop until you stop it!"
   ]
  },
  {
   "cell_type": "code",
   "execution_count": null,
   "metadata": {},
   "outputs": [],
   "source": []
  },
  {
   "cell_type": "code",
   "execution_count": null,
   "metadata": {},
   "outputs": [],
   "source": []
  }
 ],
 "metadata": {
  "kernelspec": {
   "display_name": "Python 3.8.13 ('lighthouse')",
   "language": "python",
   "name": "python3"
  },
  "language_info": {
   "codemirror_mode": {
    "name": "ipython",
    "version": 3
   },
   "file_extension": ".py",
   "mimetype": "text/x-python",
   "name": "python",
   "nbconvert_exporter": "python",
   "pygments_lexer": "ipython3",
   "version": "3.8.13"
  },
  "vscode": {
   "interpreter": {
    "hash": "f6bdb6bebcaa6c165db367a86e382ae8df75f09257c40532b854029e0e3d706f"
   }
  }
 },
 "nbformat": 4,
 "nbformat_minor": 4
}
