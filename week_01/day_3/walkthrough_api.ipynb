{
 "cells": [
  {
   "cell_type": "markdown",
   "metadata": {},
   "source": [
    "# APIs in Python"
   ]
  },
  {
   "cell_type": "markdown",
   "metadata": {},
   "source": [
    "The `os` package is used to access the values of environmental variables.\n",
    "\n",
    "We will be using the Foursquare API to demonstrate."
   ]
  },
  {
   "cell_type": "code",
   "execution_count": 8,
   "metadata": {},
   "outputs": [],
   "source": [
    "import requests as re\n",
    "import os"
   ]
  },
  {
   "cell_type": "markdown",
   "metadata": {},
   "source": [
    "## Headers"
   ]
  },
  {
   "cell_type": "code",
   "execution_count": 6,
   "metadata": {},
   "outputs": [],
   "source": [
    "# os.environ loads the dictionary with environmental variables where\n",
    "# os.environ.keys() are all variable names\n",
    "api_key = os.environ[\"FOURSQUARE_API_KEY\"]\n",
    "\n",
    "# prepare the URL for the API\n",
    "location = \"Toronto, Canada\"\n",
    "url = \"https://api.foursquare.com/v3/places/search?near=\" + location\n",
    "\n",
    "# prepare dictionary that can be sent as headers in our request\n",
    "headers = {\n",
    "    \"Accept\" : \"application/json\",\n",
    "    \"Authorization\" : api_key,\n",
    "}\n",
    "\n",
    "# send the request to Foursquare\n",
    "res = re.get(url, headers=headers)"
   ]
  },
  {
   "cell_type": "markdown",
   "metadata": {},
   "source": [
    "[HTTP response status codes](https://developer.mozilla.org/en-US/docs/Web/HTTP/Status) indicate whether a specific HTTP request has been successfully completed."
   ]
  },
  {
   "cell_type": "code",
   "execution_count": 7,
   "metadata": {},
   "outputs": [
    {
     "name": "stdout",
     "output_type": "stream",
     "text": [
      "<Response [200]>\n",
      "{'results': [{'fsq_id': '4fdc0e98e4b05197cd14912b', 'categories': [{'id': 13003, 'name': 'Bar', 'icon': {'prefix': 'https://ss3.4sqi.net/img/categories_v2/nightlife/pub_', 'suffix': '.png'}}, {'id': 13051, 'name': 'Fish and Chips Shop', 'icon': {'prefix': 'https://ss3.4sqi.net/img/categories_v2/food/fishandchips_', 'suffix': '.png'}}, {'id': 13057, 'name': 'Gastropub', 'icon': {'prefix': 'https://ss3.4sqi.net/img/categories_v2/food/gastropub_', 'suffix': '.png'}}], 'chains': [], 'distance': 457, 'geocodes': {'main': {'latitude': 43.703719, 'longitude': -79.413372}, 'roof': {'latitude': 43.703719, 'longitude': -79.413372}}, 'link': '/v3/places/4fdc0e98e4b05197cd14912b', 'location': {'address': '508 Eglinton Ave W', 'country': 'CA', 'cross_street': 'Heddington Ave', 'formatted_address': '508 Eglinton Ave W (Heddington Ave), Toronto ON M5N 1A5', 'locality': 'Toronto', 'neighborhood': ['Allenby'], 'postcode': 'M5N 1A5', 'region': 'ON'}, 'name': 'The Abbot on Eglinton', 'related_places': {}, 'timezone': 'America/Toronto'}, {'fsq_id': '4b0afc19f964a520212b23e3', 'categories': [{'id': 16000, 'name': 'Landmarks and Outdoors', 'icon': {'prefix': 'https://ss3.4sqi.net/img/categories_v2/parks_outdoors/field_', 'suffix': '.png'}}, {'id': 16033, 'name': 'Dog Park', 'icon': {'prefix': 'https://ss3.4sqi.net/img/categories_v2/parks_outdoors/dogrun_', 'suffix': '.png'}}], 'chains': [], 'distance': 1304, 'geocodes': {'main': {'latitude': 43.678243, 'longitude': -79.375198}, 'roof': {'latitude': 43.678243, 'longitude': -79.375198}}, 'link': '/v3/places/4b0afc19f964a520212b23e3', 'location': {'address': '100 Glen Rd', 'country': 'CA', 'cross_street': 'Strathearn', 'formatted_address': '100 Glen Rd (Strathearn), Toronto ON M4W 2V7', 'locality': 'Toronto', 'postcode': 'M4W 2V7', 'region': 'ON'}, 'name': 'Cedarvale Park', 'related_places': {'children': [{'fsq_id': '61c4f0b4e565fe05c7572a44', 'name': 'Toboggan Hill'}, {'fsq_id': '5050f634e4b092c65b899303', 'name': 'Cedarvale Dog Park'}]}, 'timezone': 'America/Toronto'}, {'fsq_id': '4aec6b7df964a520e0c621e3', 'categories': [{'id': 13035, 'name': 'Coffee Shop', 'icon': {'prefix': 'https://ss3.4sqi.net/img/categories_v2/food/coffeeshop_', 'suffix': '.png'}}], 'chains': [{'id': 'ab4c54c0-d68a-012e-5619-003048cad9da', 'name': 'Starbucks'}], 'distance': 1850, 'geocodes': {'main': {'latitude': 43.710995, 'longitude': -79.399041}, 'roof': {'latitude': 43.710995, 'longitude': -79.399041}}, 'link': '/v3/places/4aec6b7df964a520e0c621e3', 'location': {'address': '2451 Yonge St', 'country': 'CA', 'cross_street': 'at Erskine Ave.', 'formatted_address': '2451 Yonge St (at Erskine Ave.), Toronto ON M4P 2E7', 'locality': 'Toronto', 'neighborhood': ['North Toronto'], 'postcode': 'M4P 2E7', 'region': 'ON'}, 'name': 'Starbucks', 'related_places': {}, 'timezone': 'America/Toronto'}, {'fsq_id': '52418b0b7e48222eea81d2d2', 'categories': [{'id': 13199, 'name': 'Indian Restaurant', 'icon': {'prefix': 'https://ss3.4sqi.net/img/categories_v2/food/indian_', 'suffix': '.png'}}], 'chains': [], 'distance': 2357, 'geocodes': {'main': {'latitude': 43.681157, 'longitude': -79.429366}, 'roof': {'latitude': 43.681157, 'longitude': -79.429366}}, 'link': '/v3/places/52418b0b7e48222eea81d2d2', 'location': {'address': '778 Saint Clair Ave W', 'country': 'CA', 'cross_street': 'St Clair West & Arlington Ave', 'formatted_address': '778 Saint Clair Ave W (St Clair West & Arlington Ave), Toronto ON M6C 1B6', 'locality': 'Toronto', 'neighborhood': ['York'], 'postcode': 'M6C 1B6', 'region': 'ON'}, 'name': 'Pukka', 'related_places': {}, 'timezone': 'America/Toronto'}, {'fsq_id': '4afdecd4f964a5201c2c22e3', 'categories': [{'id': 17101, 'name': 'Garden Center', 'icon': {'prefix': 'https://ss3.4sqi.net/img/categories_v2/parks_outdoors/gardencenter_', 'suffix': '.png'}}], 'chains': [], 'distance': 2453, 'geocodes': {'main': {'latitude': 43.719016, 'longitude': -79.400743}, 'roof': {'latitude': 43.719016, 'longitude': -79.400743}}, 'link': '/v3/places/4afdecd4f964a5201c2c22e3', 'location': {'address': '2827 Yonge St', 'country': 'CA', 'formatted_address': '2827 Yonge St, Toronto ON M4N 2J4', 'locality': 'Toronto', 'neighborhood': ['North Toronto'], 'postcode': 'M4N 2J4', 'region': 'ON'}, 'name': 'Sheridan Nurseries Ltd', 'related_places': {}, 'timezone': 'America/Toronto'}, {'fsq_id': '59f655cca87921744858ec5d', 'categories': [{'id': 10015, 'name': 'Escape Room', 'icon': {'prefix': 'https://ss3.4sqi.net/img/categories_v2/arts_entertainment/default_', 'suffix': '.png'}}], 'chains': [], 'distance': 2451, 'geocodes': {'main': {'latitude': 43.678569, 'longitude': -79.409729}}, 'link': '/v3/places/59f655cca87921744858ec5d', 'location': {'address': '1 Austin Terr', 'country': 'CA', 'cross_street': '', 'formatted_address': '1 Austin Terr, Toronto ON M5R 1X8', 'locality': 'Toronto', 'postcode': 'M5R 1X8', 'region': 'ON'}, 'name': 'Escape Casa Loma', 'related_places': {'parent': {'fsq_id': '4bef48fcc80dc9284ec827e3', 'name': 'Casa Loma'}}, 'timezone': 'America/Toronto'}, {'fsq_id': '4bef48fcc80dc9284ec827e3', 'categories': [{'id': 16007, 'name': 'Building / Structure', 'icon': {'prefix': 'https://ss3.4sqi.net/img/categories_v2/building/default_', 'suffix': '.png'}}], 'chains': [], 'distance': 2523, 'geocodes': {'main': {'latitude': 43.678111, 'longitude': -79.409512}, 'roof': {'latitude': 43.678111, 'longitude': -79.409512}}, 'link': '/v3/places/4bef48fcc80dc9284ec827e3', 'location': {'address': '1 Austin Terr', 'country': 'CA', 'cross_street': 'at Walmer Rd', 'formatted_address': '1 Austin Terr (at Walmer Rd), Toronto ON M5R 1X8', 'locality': 'Toronto', 'neighborhood': ['Rathnelly'], 'postcode': 'M5R 1X8', 'region': 'ON'}, 'name': 'Casa Loma', 'related_places': {'children': [{'fsq_id': '59f655cca87921744858ec5d', 'name': 'Escape Casa Loma'}, {'fsq_id': '4ca82201b0b8236a82dfb0e6', 'name': 'Casa Loma Stables'}, {'fsq_id': '612590f69adefa464710719c', 'name': 'Don Alfonso 1890'}, {'fsq_id': '5b9e9785894eac002c3cd302', 'name': 'Casa Loma Liberty Caffé'}, {'fsq_id': '59e6cdb1cf72a013dca8a7c8', 'name': 'BlueBlood Steakhouse'}]}, 'timezone': 'America/Toronto'}, {'fsq_id': '4aea405ef964a52082ba21e3', 'categories': [{'id': 17058, 'name': 'Beer Store', 'icon': {'prefix': 'https://ss3.4sqi.net/img/categories_v2/nightlife/beergarden_', 'suffix': '.png'}}, {'id': 17069, 'name': 'Grocery Store / Supermarket', 'icon': {'prefix': 'https://ss3.4sqi.net/img/categories_v2/shops/food_grocery_', 'suffix': '.png'}}, {'id': 17076, 'name': 'Liquor Store', 'icon': {'prefix': 'https://ss3.4sqi.net/img/categories_v2/shops/food_liquor_', 'suffix': '.png'}}], 'chains': [], 'distance': 2885, 'geocodes': {'main': {'latitude': 43.680952, 'longitude': -79.390505}, 'roof': {'latitude': 43.680952, 'longitude': -79.390505}}, 'link': '/v3/places/4aea405ef964a52082ba21e3', 'location': {'address': '10 Scrivener Sq', 'country': 'CA', 'cross_street': 'at Yonge St.', 'formatted_address': '10 Scrivener Sq (at Yonge St.), Toronto ON M4W 3Y9', 'locality': 'Toronto', 'neighborhood': ['Rathnelly'], 'postcode': 'M4W 3Y9', 'region': 'ON'}, 'name': 'Lcbo', 'related_places': {}, 'timezone': 'America/Toronto'}, {'fsq_id': '5282572111d2f33612220715', 'categories': [{'id': 13025, 'name': 'Wine Bar', 'icon': {'prefix': 'https://ss3.4sqi.net/img/categories_v2/food/winery_', 'suffix': '.png'}}, {'id': 13035, 'name': 'Coffee Shop', 'icon': {'prefix': 'https://ss3.4sqi.net/img/categories_v2/food/coffeeshop_', 'suffix': '.png'}}, {'id': 13065, 'name': 'Restaurant', 'icon': {'prefix': 'https://ss3.4sqi.net/img/categories_v2/food/default_', 'suffix': '.png'}}], 'chains': [], 'distance': 2854, 'geocodes': {'main': {'latitude': 43.681818, 'longitude': -79.391719}, 'roof': {'latitude': 43.681818, 'longitude': -79.391719}}, 'link': '/v3/places/5282572111d2f33612220715', 'location': {'address': '1208 Yonge St', 'country': 'CA', 'cross_street': 'Summerhill', 'formatted_address': '1208 Yonge St (Summerhill), Toronto ON M4T 1W1', 'locality': 'Toronto', 'neighborhood': ['Midtown Toronto'], 'postcode': 'M4T 1W1', 'region': 'ON'}, 'name': 'Boxcar Social', 'related_places': {}, 'timezone': 'America/Toronto'}, {'fsq_id': '52ced2c9498e67e1059cf3b2', 'categories': [{'id': 13059, 'name': 'Juice Bar', 'icon': {'prefix': 'https://ss3.4sqi.net/img/categories_v2/food/juicebar_', 'suffix': '.png'}}], 'chains': [], 'distance': 3112, 'geocodes': {'main': {'latitude': 43.67892, 'longitude': -79.390649}, 'roof': {'latitude': 43.67892, 'longitude': -79.390649}}, 'link': '/v3/places/52ced2c9498e67e1059cf3b2', 'location': {'address': '5 MacPherson Ave', 'country': 'CA', 'cross_street': 'Yonge St.', 'formatted_address': '5 MacPherson Ave (Yonge St.), Toronto ON M5R 1W7', 'locality': 'Toronto', 'neighborhood': ['Downtown Toronto'], 'postcode': 'M5R 1W7', 'region': 'ON'}, 'name': 'Greenhouse Juice Co', 'related_places': {}, 'timezone': 'America/Toronto'}], 'context': {'geo_bounds': {'circle': {'center': {'latitude': 43.70011, 'longitude': -79.4163}, 'radius': 16290}}}}\n"
     ]
    }
   ],
   "source": [
    "# output response code for troubleshooting\n",
    "print(res)\n",
    "\n",
    "# output the data (if successfully retrieved)\n",
    "print(res.json())"
   ]
  }
 ],
 "metadata": {
  "kernelspec": {
   "display_name": "Python 3.8.13 ('lighthouse')",
   "language": "python",
   "name": "python3"
  },
  "language_info": {
   "codemirror_mode": {
    "name": "ipython",
    "version": 3
   },
   "file_extension": ".py",
   "mimetype": "text/x-python",
   "name": "python",
   "nbconvert_exporter": "python",
   "pygments_lexer": "ipython3",
   "version": "3.8.13"
  },
  "orig_nbformat": 4,
  "vscode": {
   "interpreter": {
    "hash": "f6bdb6bebcaa6c165db367a86e382ae8df75f09257c40532b854029e0e3d706f"
   }
  }
 },
 "nbformat": 4,
 "nbformat_minor": 2
}
