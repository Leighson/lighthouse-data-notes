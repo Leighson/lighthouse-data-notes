{
 "cells": [
  {
   "cell_type": "markdown",
   "metadata": {},
   "source": [
    "# What is AWS?"
   ]
  },
  {
   "cell_type": "markdown",
   "metadata": {},
   "source": [
    "## _Amazon Cloud Services Tutorial_"
   ]
  },
  {
   "cell_type": "markdown",
   "metadata": {},
   "source": [
    "A platform that offers flexible, reliable, scalable, easy-to-use, cost-effective cloud-computing solutions. It is developed with a combination of:\n",
    "- _infrastructure as a service_ (`IaaS`)\n",
    "- _platform as a service_ (`PaaS`)\n",
    "- packaged _software as a service_ (`SaaS`)"
   ]
  },
  {
   "cell_type": "markdown",
   "metadata": {},
   "source": [
    "**Amazon Web Services** offers a wide range of different business purpose global cloud-based products. The products include:\n",
    "- storage\n",
    "- databases\n",
    "- analytics\n",
    "- networking\n",
    "- mobile\n",
    "- development tools\n",
    "- enterprise applications\n",
    "\n",
    "... with pay-as-you-go pricing models."
   ]
  },
  {
   "cell_type": "markdown",
   "metadata": {},
   "source": [
    "### AWS Compute Services"
   ]
  },
  {
   "cell_type": "markdown",
   "metadata": {},
   "source": [
    "**Cloud Compute Services**:\n",
    "1. `EC2`, _Elastic Compute Cloud_, is a virtual machine in the cloud on which you have OS level control. You can run this cloud service whenever you want.\n",
    "2. `LightSail` is a cloud computing tool that automatically deploys and manges the computer, storage, and networking capabilities required to run your applications.\n",
    "3. `Elastic Beanstalk` is a tool that offers automated deployment and provisioning of resources like a highly scalable production website.\n",
    "4. `EKS`, _Elastic Container Service for Kubernetes_, is a tool that allows you to **Kubernetes** on Amazon cloud environment without installation.\n",
    "5. `AWS Lambda` is an AWS service that allows you to run functions in the cloud. The tool is a big cost saver for you as you pay only when your functions execute."
   ]
  },
  {
   "cell_type": "markdown",
   "metadata": {},
   "source": [
    "**Migration**:\n",
    "1. `DMS`, _Database Migration Service_, can be use to migrate on-site databases to AWS. It helps you to migrate from one type of database to another (e.g. Oracle to MySQL).\n",
    "2. `SMS`, _Server Migration Service_, allows you to migrate on-site servers to AWS easily and quickly.\n",
    "3. `Snowball` is a small application which allows you to transfer terabytes of data inside and outside of AWS environments."
   ]
  },
  {
   "cell_type": "markdown",
   "metadata": {},
   "source": [
    "**Storage**:\n",
    "1. `Amazon Glacier` is an extremely low-cost storage service. It offers secure and fast storage for data archiving and backup.\n",
    "2. `EBS`, _Amazon Elastic Block Store_, provides block-level storage to use with Amazon `EC2` instances. These volumes are network-attached and remain independent from the file of an instance.\n",
    "3. `AWS Storage Gateway` is connecting on-premises software applications with cloud-based storage. It offers secure integration between the company's on-premises and AWS's storage infrastructure."
   ]
  },
  {
   "cell_type": "markdown",
   "metadata": {},
   "source": [
    "**Security Services**:\n",
    "1. `IAM`, _Identity and Access Management_, is a secure cloud security service which helps you to manage users, assign policies, form groups to manage multiple users.\n",
    "2. `Inspector` is an agent that reports security vulnerabilities for virtual machines on which it is installed.\n",
    "3. `Certificate Manager` service offers free SSL certificates for your domains that are managed by **Route 53**.\n",
    "4. `WAF`, _Web Application Firewall_, is a security service that offers application-level protection and allows you to block SQL injection and helps you to block cross-site scripting attacks.\n",
    "5. `Cloud Directory` is a service that allows creation of flexible, cloud-native directories for managing hierachies of data along multiple dimensions.\n",
    "6. `KMS`, _Key Management Service_, is a managed service. This security service helps to create and control the encryption keys which allows data-encryption.\n",
    "7. `Organizations` can create groups of AWS accounts using this service to manage security and automation settings.\n",
    "8. `Shield` is managed `DDoS`, _Distributed Denial of Service_, protection service. It offers safeguards against web applications running on AWS.\n",
    "9. `Macie` offers a data visibility security service, which helps classify and protect your sensitive critical content.\n",
    "10. `GuardDuty` offers threat deterction to protect AWS accounts and workloads."
   ]
  },
  {
   "cell_type": "markdown",
   "metadata": {},
   "source": [
    "Database Services:\n",
    "1. `Amazon RDS` is a _Database AWS Service_ that is easy to set up, operate, and scale a _relational database_ in the cloud.\n",
    "2. `Amazon DynamoDB` is a fast, fully managed **NoSQL** database service. It is a simple service which allows cost-effective storage and retrieval of data. It allows you to serve any level of request traffic.\n",
    "3. `Amazon ElastiCache` is a web service which makes it easy to deploy, operate, and scale an in-memory cache in the cloud.\n",
    "4. `Neptune` is a fast, reliable, and scalable graph database service.\n",
    "5. `Amazon RedShift` is a data warehousing solution which can be used to perform complex **QLAP** queries."
   ]
  },
  {
   "cell_type": "markdown",
   "metadata": {},
   "source": [
    "Analytics:\n",
    "1. `Athena` is an analytics service allowing _perm SQL_ queries on your S3 bucket to find files.\n",
    "2. `CloudSearch` is a service to create fully managed search engines for websites.\n",
    "3. `ElasticSearch` is similar to `CloudSearch`. However, it offers more features like application monitoring.\n",
    "4. `Kinesis` is an analytics service to help stream and analyze real-time data at massive scale.\n",
    "5. `QuickSight` is a business analytics tool. It helps create visualizations in a dashboard for data in **AWS**.\n",
    "6. `EMR`, _Elastic Map Reduce_, is an analytics service mainly used for big data processing like **Spark**, **Splunk**, and **Haddop**."
   ]
  },
  {
   "cell_type": "markdown",
   "metadata": {},
   "source": [
    "Management Services:\n",
    "1. `CloudWatch` helps to monitor **AWS** environments like `EC2`, `RDS` instances, and CPU utlization.\n",
    "2. `CloudFormation` is away of turning infrastucture into the cloud. Templates can be used for providing a whole production environment in minutes.\n",
    "3. `CloudTrail` offers an easy method of auditing AWS resources and logs all changes.\n",
    "4. `OpsWorks` allws for automated **Chef/Puppet** deployments on AWS environment.\n",
    "5. `Config` monitors the environments. The tool sends alerts about changes when you break certain defined configurations.\n",
    "6. `Service Catalog` helps large enterprises authorize which services users will use and which won't.\n",
    "7. `AWS Auto Scaling` automatically scales resources up and down based on given `CloudWatch` metrics.\n",
    "8. `Systems Manager` allows resource grouping. It can identify issues and act on them.\n",
    "9. `Managed Services` offers management of AWS infrastructures which allows focus on applications."
   ]
  },
  {
   "cell_type": "markdown",
   "metadata": {},
   "source": [
    "Internet of Things\n",
    "1. `IoT Core` is a managed cloud AWS service. The service allows connected devices like cars, light bulbs, and sensor grids to securely interact with cloud applications and other devices.\n",
    "2. `IoT Device Management` allows management of **IoT** devices at any scale.\n",
    "3. `IoT Analytics` performs analysis on data collected by **IoT*** devices.\n",
    "4. `Amazon FreeRTOS` is a real-time operating system for microcontrollers that helps connect **IoT** devices in the local server or into the cloud."
   ]
  },
  {
   "cell_type": "markdown",
   "metadata": {},
   "source": [
    "Application Services\n",
    "1. `Step Functions` is a way of visualizing the internal workings of an application and the different microservices it is using.\n",
    "2. `SWF`, _Simple Workflow Service_, coordinates both automated tasks and human-led tasks.\n",
    "3. `SNS`, _Simple Notification Service_, sends notifications in the form of email and SMS based on given AWS services.\n",
    "4. `SQS`, _Simple Queue Service_, decouples applications. It is a pull-based service.\n",
    "5. `Elastic Transcoder` changes a video’s format and resolution to support various devices like tablets, smartphones, and laptops of different resolutions."
   ]
  },
  {
   "cell_type": "markdown",
   "metadata": {},
   "source": [
    "Deployment and Management\n",
    "1. `AWS CloudTrail` service records calls and send backlog files to you.\n",
    "2. `Amazon CloudWatch` monitors AWS resources like Amazon EC2 and Amazon RDS DB Instances. It also allows monitoring of custom metrics created by user’s applications and services.\n",
    "3. `AWS CloudHSM` helps meet corporate, regulatory, and contractual, compliance requirements for maintaining data security by using the _Hardware Security Module_ appliances inside the AWS environment."
   ]
  },
  {
   "cell_type": "markdown",
   "metadata": {},
   "source": [
    "Developer Tools\n",
    "1. `CodeStar` is a cloud-based service for creating, managing, and working with various software development projects on AWS.\n",
    "2. `CodeCommit` is AWS’s version control service which allows code storage and other assets privately in the cloud.\n",
    "3. `CodeBuild` is an Amazon developer service to help automate the process of building and compiling your code.\n",
    "4. `CodeDeploy` is a way of deploying code in `EC2` instances automatically.\n",
    "5. `CodePipeline` helps create a deployment pipeline like testing, building, testing, authentication, and deployment on development and production environments.\n",
    "6. `Cloud9` is an **Integrated Development Environment** for writing, running, and debugging code in the cloud."
   ]
  },
  {
   "cell_type": "markdown",
   "metadata": {},
   "source": [
    "Mobile Services\n",
    "1. `Mobile Hub` allows the user to add, configure and design features for mobile apps.\n",
    "2. `Cognito` allows users to signup using his or her social identity.\n",
    "3. `Device Farm` helps to improve the quality of apps by quickly testing hundreds of mobile devices.\n",
    "4. `AWS AppSync` is a fully managed **GraphQL** service that offers real-time data synchronization and offline programming features."
   ]
  },
  {
   "cell_type": "markdown",
   "metadata": {},
   "source": [
    "Business Productivity\n",
    "1. `Alexa for Business` empowers organizations with voice, using Alexa. It allows for custom voice skills.\n",
    "2. `Chime` is used for online meeting and video conferencing.\n",
    "3. `WorkDocs` is used tostore documents in the cloud\n",
    "4. `WorkMail` is used to send and receive business emails."
   ]
  },
  {
   "cell_type": "markdown",
   "metadata": {},
   "source": [
    "Desktop & App Streaming\n",
    "1. `WorkSpaces` is a **VDI**, _Virtual Desktop Infrastructure_ and it allows the use of remote desktops in the cloud.\n",
    "2. `AppStream` is a way of streaming desktop applications to users in the web browser. For example, using MS Word in Google Chrome."
   ]
  },
  {
   "cell_type": "markdown",
   "metadata": {},
   "source": [
    "Artificial Intelligence\n",
    "1. `Lex` tool helps you to build chatbots quickly.\n",
    "2. `Polly` is AWS’s text-to-speech service that allows for creating audio versions of your notes.\n",
    "3. `Rekognition` is AWS’s face recognition service for faces and objects in images and videos.\n",
    "4. `SageMaker` allows the user to build, train, and deploy machine learning models at any scale.\n",
    "5. `Transcribe` is AWS’s speech-to-text service that offers high-quality and affordable transcriptions.\n",
    "6. `Translate` is a very similar tool to Google Translate which allows translation of text in one language to another."
   ]
  },
  {
   "cell_type": "markdown",
   "metadata": {},
   "source": [
    "AR & VR (Augmented Reality & Virtual Reality)\n",
    "1. `Sumerian` is a set of tools for offering high-quality **VR** experiences on the web. The service allows users to create interactive 3D scenes and publish it as a website for users to access."
   ]
  },
  {
   "cell_type": "markdown",
   "metadata": {},
   "source": [
    "Customer Engagement\n",
    "1. `Amazon Connect` allows users to create customer care centers in the cloud.\n",
    "2. `Pinpoint` is a tool for customer- or user-engagement.\n",
    "3. `SES`, _Simple Email Service_ helps to send bulk emails to customers at a relatively cost-effective price."
   ]
  },
  {
   "cell_type": "markdown",
   "metadata": {},
   "source": [
    "Game Development\n",
    "1. `GameLift` is a service managed by AWS. This service can be used to host dedicated game servers. It allows seamless scaling without taking your game offline."
   ]
  },
  {
   "cell_type": "markdown",
   "metadata": {},
   "source": [
    "### Applications of AWS services\n",
    "\n",
    "AWS services are widely used for various computing purposes like:\n",
    "- Web site hosting\n",
    "- Application hosting/SaaS hosting\n",
    "- Media Sharing (Image/ Video)\n",
    "- Mobile and Social Applications\n",
    "- Content delivery and Media Distribution\n",
    "- Storage, backup, and disaster recovery\n",
    "- Development and test environments\n",
    "- Academic Computing\n",
    "- Search Engines\n",
    "- Social Networking"
   ]
  },
  {
   "cell_type": "markdown",
   "metadata": {},
   "source": [
    "**_Advantages_** of AWS\n",
    "- AWS allows organizations to use the already familiar programming models, operating systems, databases, and architectures\n",
    "- It is a cost-effective service that allows you to pay only for what you use, without any up-front or long-term commitments\n",
    "- No requirement to spend money on running and maintaining data centers\n",
    "- Offers fast deployments\n",
    "- Easily add or remove capacity\n",
    "- Allows for cloud access quickly with limitless capacity\n",
    "- Total cost of ownership is very low compared to any private/dedicated servers.\n",
    "- Offers centralized billing and management\n",
    "- Offers hybrid capabilities\n",
    "- Allows deployment of applications in multiple regions around the world"
   ]
  },
  {
   "cell_type": "markdown",
   "metadata": {},
   "source": [
    "**_Disadvantages_** of AWS\n",
    "- Immediate or intensive assistance requires opt into paid support packages.\n",
    "- AWS is susceptible to common cloud computing issues (e.g. downtime, limited control, and backup protection)\n",
    "- AWS sets default limits on resources which differ from region to region (i.e. resources consisting of images, volumes, and snapshots)\n",
    "- Hardware-level changes happen to applications which may not offer the best performance and usage of those applications"
   ]
  },
  {
   "cell_type": "markdown",
   "metadata": {},
   "source": []
  }
 ],
 "metadata": {
  "language_info": {
   "name": "python"
  },
  "orig_nbformat": 4
 },
 "nbformat": 4,
 "nbformat_minor": 2
}
