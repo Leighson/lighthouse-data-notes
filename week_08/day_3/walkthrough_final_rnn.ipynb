{
 "cells": [
  {
   "cell_type": "markdown",
   "metadata": {},
   "source": [
    "# RNN"
   ]
  },
  {
   "cell_type": "markdown",
   "metadata": {},
   "source": [
    "## Overview"
   ]
  },
  {
   "cell_type": "markdown",
   "metadata": {},
   "source": [
    "1. Choose a `language model` that will best represent the input text.\n",
    "2. Clean and prepare the data for training.\n",
    "3. Build a basic Keras sequential neural network model.\n",
    "4. Apply `recurrent neural network (RNN)` to process character sequences.\n",
    "5. Generate 3 channel RGB color outputs."
   ]
  },
  {
   "cell_type": "markdown",
   "metadata": {},
   "source": [
    "![RGB Values](./res/rnn_modeling.png)"
   ]
  },
  {
   "cell_type": "markdown",
   "metadata": {},
   "source": [
    "## Language Model"
   ]
  },
  {
   "cell_type": "markdown",
   "metadata": {},
   "source": [
    "There are two general options for language modeling: word-level models and character-level models. Each has its advantages and disadvatanges. Let's go through them now."
   ]
  },
  {
   "cell_type": "markdown",
   "metadata": {},
   "source": [
    "## Word-Level Language Model"
   ]
  },
  {
   "cell_type": "markdown",
   "metadata": {},
   "source": [
    "The word-level language model can handle relatively long and clean sentences. By \"clean\", I mean the words in the text datasets are free from typos and have few words outside of English vocabulary. The word-level language model encodes each unique word into a corresponding integer, and there's a predefined fixed-sized vocabulary dictionary to look up the word to integer mapping.\n",
    "\n",
    "One major benefit of the word-level language model is its ability to leverage pre-trained word embeddings such as **Word2Vec** and **GloVe**. These embeddings represesnt words as vectors with useful properties. Words close in context are close in Euclidean distance and can be used to understand analogies like \"man is to women, as king is to queen\". Using these ideas, you can train a word-level model with relatively small labeled training sets."
   ]
  },
  {
   "cell_type": "markdown",
   "metadata": {},
   "source": [
    "## Character-Level Language Model"
   ]
  },
  {
   "cell_type": "markdown",
   "metadata": {},
   "source": [
    "But there's an even simpler language model, one that splits a text string into characters and associates a unique integer to every single character. There are some reasons you might choose to use the character-level language model over the more popular word-level model:\n",
    "- Your text datasets contain a noticeable amount of out-of-vocabulary words or infrequent words. In our case, some legitimate color names could be :aquatone\", \"chartreuse\", and \"fuchsia\". For me, I have to check a dictionary to find out their meanings, and traditional word-level embeddings may not contain them.\n",
    "- The majority of the text strings are short, bounded-length strings. If you're looking for a specific length limit, I've been dealing with a _Yelp_ review generation model with character level encode character length of 60 and still get decent results. Usually, character-level language model can create text with more variety since its imagination is not constrained by a pre-defined dictionary of vocabulary."
   ]
  },
  {
   "cell_type": "markdown",
   "metadata": {},
   "source": [
    "You may also be aware of the limitation that came with adopting character-level language:\n",
    "- Long seqences may not capture long-range dependencies as well as word-level language models.\n",
    "- Character-level models are also more computationally expensive to train.\n",
    "- Given the same datasets, these model sequences are longer and, as a result, require extended training time."
   ]
  },
  {
   "cell_type": "markdown",
   "metadata": {},
   "source": [
    "Fotunately, these limitations won't pose a threat to our color generation task. We're limiting our color names to 25 characters in length and we only have 18,606 training samples."
   ]
  },
  {
   "cell_type": "markdown",
   "metadata": {},
   "source": [
    "> *_NOTE_*: This number differs from the dataset we will be using today."
   ]
  },
  {
   "cell_type": "code",
   "execution_count": 2,
   "metadata": {},
   "outputs": [],
   "source": [
    "import tensorflow as tf\n",
    "from tensorflow.python import keras\n",
    "from tensorflow.python.keras import preprocessing\n",
    "from tensorflow.python.keras.preprocessing.text import Tokenizer\n",
    "from tensorflow.python.keras.models import Sequential\n",
    "from tensorflow.python.keras.layers import Dense, Dropout, LSTM, Reshape\n",
    "from tensorflow.python.keras.utils import np_utils\n",
    "\n",
    "import numpy as np\n",
    "import pandas as pd\n",
    "import scipy.stats as stats\n",
    "import pylab as plt"
   ]
  },
  {
   "cell_type": "code",
   "execution_count": 3,
   "metadata": {},
   "outputs": [
    {
     "data": {
      "text/html": [
       "<div>\n",
       "<style scoped>\n",
       "    .dataframe tbody tr th:only-of-type {\n",
       "        vertical-align: middle;\n",
       "    }\n",
       "\n",
       "    .dataframe tbody tr th {\n",
       "        vertical-align: top;\n",
       "    }\n",
       "\n",
       "    .dataframe thead th {\n",
       "        text-align: right;\n",
       "    }\n",
       "</style>\n",
       "<table border=\"1\" class=\"dataframe\">\n",
       "  <thead>\n",
       "    <tr style=\"text-align: right;\">\n",
       "      <th></th>\n",
       "      <th>name</th>\n",
       "      <th>red</th>\n",
       "      <th>green</th>\n",
       "      <th>blue</th>\n",
       "    </tr>\n",
       "  </thead>\n",
       "  <tbody>\n",
       "    <tr>\n",
       "      <th>0</th>\n",
       "      <td>18th Century Green</td>\n",
       "      <td>165</td>\n",
       "      <td>147</td>\n",
       "      <td>68</td>\n",
       "    </tr>\n",
       "    <tr>\n",
       "      <th>1</th>\n",
       "      <td>1975 Earth Red</td>\n",
       "      <td>123</td>\n",
       "      <td>70</td>\n",
       "      <td>59</td>\n",
       "    </tr>\n",
       "    <tr>\n",
       "      <th>2</th>\n",
       "      <td>1989 Miami Hotline</td>\n",
       "      <td>221</td>\n",
       "      <td>51</td>\n",
       "      <td>102</td>\n",
       "    </tr>\n",
       "    <tr>\n",
       "      <th>3</th>\n",
       "      <td>20000 Leagues Under the Sea</td>\n",
       "      <td>25</td>\n",
       "      <td>25</td>\n",
       "      <td>112</td>\n",
       "    </tr>\n",
       "    <tr>\n",
       "      <th>4</th>\n",
       "      <td>3AM in Shibuya</td>\n",
       "      <td>34</td>\n",
       "      <td>85</td>\n",
       "      <td>119</td>\n",
       "    </tr>\n",
       "  </tbody>\n",
       "</table>\n",
       "</div>"
      ],
      "text/plain": [
       "                          name  red  green  blue\n",
       "0           18th Century Green  165    147    68\n",
       "1               1975 Earth Red  123     70    59\n",
       "2           1989 Miami Hotline  221     51   102\n",
       "3  20000 Leagues Under the Sea   25     25   112\n",
       "4               3AM in Shibuya   34     85   119"
      ]
     },
     "execution_count": 3,
     "metadata": {},
     "output_type": "execute_result"
    }
   ],
   "source": [
    "data = pd.read_csv('./res/data/colors.csv')\n",
    "names = data['name']\n",
    "data.head()"
   ]
  },
  {
   "cell_type": "markdown",
   "metadata": {},
   "source": [
    "## Data Preparation"
   ]
  },
  {
   "cell_type": "markdown",
   "metadata": {},
   "source": [
    "We mentioned that we're limiting our color names to 25 characters. To arrive at this number, we checked the distribution of the length of color names across all training samples and visualized it to make sure the length limit we pick makes sense."
   ]
  },
  {
   "cell_type": "code",
   "execution_count": 4,
   "metadata": {},
   "outputs": [
    {
     "data": {
      "image/png": "[encoded data removed]",
      "text/plain": [
       "<Figure size 432x288 with 1 Axes>"
      ]
     },
     "metadata": {
      "needs_background": "light"
     },
     "output_type": "display_data"
    }
   ],
   "source": [
    "h = sorted(names.str.len().values)\n",
    "\n",
    "fit = stats.norm.pdf(h, np.mean(h), np.std(h))\n",
    "plt.plot(h, fit, '-o')\n",
    "plt.hist(h)\n",
    "plt.xlabel('Chars')\n",
    "plt.ylabel('Probability density')\n",
    "plt.show()"
   ]
  },
  {
   "cell_type": "markdown",
   "metadata": {},
   "source": [
    "You can clearly see tha the majority of the color name strings have lengths less or equal to 25, even though the max length goes up to 30. We could pick the max length of 30, but the model we're going to build would also need to be trained on longer sequences for an extended time. Our trade-off to pick shorter sequence length reduces the model training complexity while not compromising the integrity of the training data.\n",
    "\n",
    "With the decision of the max length made, the next step in the character-level data pre-processing is to transform each color name string to a list of 25 integer values, and this is made easy with the Keras text tokenization utility."
   ]
  },
  {
   "cell_type": "code",
   "execution_count": 5,
   "metadata": {},
   "outputs": [
    {
     "name": "stdout",
     "output_type": "stream",
     "text": [
      "(18606, 25)\n"
     ]
    }
   ],
   "source": [
    "maxlen = 25\n",
    "token = Tokenizer(char_level=True)\n",
    "token.fit_on_texts(names)\n",
    "tokenized = token.texts_to_sequences(names)\n",
    "padded_names = preprocessing.sequence.pad_sequences(tokenized, maxlen=maxlen)\n",
    "print(padded_names.shape)"
   ]
  },
  {
   "cell_type": "markdown",
   "metadata": {},
   "source": [
    "18,606 is the number of total training samples and 25 being the max sequence length. If a strin has less than 25 characters, it will be padded with the value 0 from the beginning of the sequence.\n",
    "\n",
    "All inputs are now in the formof integers, and our model should be able to process it. However, there is one more step we can take to make later model training more effective."
   ]
  },
  {
   "cell_type": "markdown",
   "metadata": {},
   "source": [
    "## One-Hot Encoding"
   ]
  },
  {
   "cell_type": "markdown",
   "metadata": {},
   "source": [
    "We can view the character-to-integer mapping by inspecting the `token.word_index` property of the instance of Keras' Tokenizer."
   ]
  },
  {
   "cell_type": "code",
   "execution_count": 6,
   "metadata": {},
   "outputs": [
    {
     "name": "stdout",
     "output_type": "stream",
     "text": [
      "{'e': 1, 'a': 2, ' ': 3, 'r': 4, 'i': 5, 'l': 6, 'n': 7, 'o': 8, 's': 9, 't': 10, 'c': 11, 'u': 12, 'd': 13, 'g': 14, 'p': 15, 'h': 16, 'b': 17, 'm': 18, 'y': 19, 'w': 20, 'k': 21, 'f': 22, 'v': 23, 'z': 24, 'j': 25, 'q': 26, 'x': 27, \"'\": 28, '-': 29, 'ō': 30, 'è': 31, 'é': 32, 'ā': 33, 'á': 34, 'ó': 35, 'ū': 36, '0': 37, '8': 38, '.': 39, 'ē': 40, 'ī': 41, 'ǎ': 42, '!': 43, 'í': 44, '&': 45, 'ǜ': 46, '9': 47, '2': 48, 'à': 49, 'ǐ': 50, '’': 51, '6': 52, 'ú': 53, '1': 54, '3': 55, 'â': 56, '4': 57, 'ǔ': 58, 'ì': 59, '7': 60, '5': 61, 'ê': 62, 'ö': 63, 'ł': 64, 'š': 65, 'ü': 66, '₂': 67, 'ò': 68, 'ñ': 69, 'ě': 70, 'ń': 71, 'ä': 72, 'œ': 73, 'ß': 74, '%': 75, 'ı': 76, 'ż': 77, '/': 78, 'î': 79, 'ë': 80, '(': 81, ')': 82, 'å': 83, '$': 84, 'я': 85, 'ő': 86, 'ğ': 87, 'ç': 88, 'ù': 89}\n"
     ]
    }
   ],
   "source": [
    "print(token.word_index)"
   ]
  },
  {
   "cell_type": "markdown",
   "metadata": {},
   "source": [
    "We can see that all of the most frequent characters (letters) are in the top 25. Therefore, this number should be sufficient.\n",
    "\n",
    "However, the integer values have no natural ordered relationship between each other and our model may not be able to harness any benefit from it. What's worse, our model will initially assume such an ordering relationship among those characters (i.e. `a` is 2 and `e` is 1, but this should not signify a relationship), which can lead to an unwanted result. We will use **one-hot-encoding** to represent the input sequence.\n",
    "\n",
    "Each integer will be represented by a boolean array where only one element in the array will have a value of 1. The max integer value will determine the length of the boolean array in the character dictionary. In our case, the max integer value is `u : 89`, so the length of a one-hot boolean array with be 28."
   ]
  },
  {
   "cell_type": "code",
   "execution_count": 7,
   "metadata": {},
   "outputs": [],
   "source": [
    "one_hot_names = np_utils.to_categorical(padded_names)"
   ]
  },
  {
   "cell_type": "code",
   "execution_count": 8,
   "metadata": {},
   "outputs": [
    {
     "data": {
      "text/plain": [
       "(18606, 25, 90)"
      ]
     },
     "execution_count": 8,
     "metadata": {},
     "output_type": "execute_result"
    }
   ],
   "source": [
    "# the shape is (number of training samples, max sequence length, number of unique tokens)\n",
    "one_hot_names.shape"
   ]
  },
  {
   "cell_type": "markdown",
   "metadata": {},
   "source": [
    "## Data Normalization"
   ]
  },
  {
   "cell_type": "markdown",
   "metadata": {},
   "source": [
    "Remember that we're predicitng 3 color channel values, each value ranging between 0-255. There is no golden rule for data normalization. It is practical here to minimize the computational expense for our model to converge if the traning data values are too spread out.\n",
    "\n",
    "A common normalization technique is to scale values to [-1,1]. In our model, we're using `ReLU` activation functino in the last layer. Since `ReLU` outputs non-negative numbers, our model will be normalized to [0,-1] instead."
   ]
  },
  {
   "cell_type": "code",
   "execution_count": 9,
   "metadata": {},
   "outputs": [],
   "source": [
    "def norm(value):\n",
    "    return value / 255.0\n",
    "\n",
    "normalized_values = np.column_stack([\n",
    "    norm(data['red']),\n",
    "    norm(data['green']),\n",
    "    norm(data['blue'])\n",
    "])"
   ]
  },
  {
   "cell_type": "markdown",
   "metadata": {},
   "source": [
    "## Building the Model"
   ]
  },
  {
   "cell_type": "markdown",
   "metadata": {},
   "source": [
    "To build our model, we're going to use two types of neural networks: a feed-forward neural network and a recurrent neural network. The feed-forward neural network is by far the most common type of neural network. Here, the information comes into the input units and flows in one direction through hidden layers until each reaches the output units.\n",
    "\n",
    "In recurrent neural networks, information can flow around in cycles. These networks can remember information for a long time. They are a very natural way to model sequential data. In our specific model, we're using one of the most powerful recurrent networks, `long short-term memory` (LSTM).\n",
    "\n",
    "The easiest way to build a deep learnign model in Keras is to use its Sequential API, and we simply connect each of the neural network layers by calling its `model.add()` function."
   ]
  },
  {
   "cell_type": "code",
   "execution_count": 10,
   "metadata": {},
   "outputs": [],
   "source": [
    "model = Sequential()\n",
    "model.add(LSTM(256, return_sequences=True, input_shape=(maxlen, 90)))\n",
    "model.add(LSTM(128))\n",
    "model.add(Dense(128, activation='relu'))\n",
    "model.add(Dense(3, activation='sigmoid'))\n",
    "model.compile(optimizer='adam', loss='mse', metrics=['acc'])"
   ]
  },
  {
   "cell_type": "code",
   "execution_count": 11,
   "metadata": {},
   "outputs": [
    {
     "name": "stderr",
     "output_type": "stream",
     "text": [
      "2022-05-29 20:29:34.009063: W tensorflow/core/platform/profile_utils/cpu_utils.cc:128] Failed to get CPU frequency: 0 Hz\n"
     ]
    },
    {
     "name": "stdout",
     "output_type": "stream",
     "text": [
      "Epoch 1/50\n",
      "466/466 [==============================] - 59s 124ms/step - loss: 0.0684 - acc: 0.5800 - val_loss: 0.0633 - val_acc: 0.6161\n",
      "Epoch 2/50\n",
      "466/466 [==============================] - 63s 134ms/step - loss: 0.0640 - acc: 0.6232 - val_loss: 0.0607 - val_acc: 0.6239\n",
      "Epoch 3/50\n",
      "466/466 [==============================] - 64s 137ms/step - loss: 0.0613 - acc: 0.6317 - val_loss: 0.0598 - val_acc: 0.6308\n",
      "Epoch 4/50\n",
      "466/466 [==============================] - 63s 136ms/step - loss: 0.0590 - acc: 0.6426 - val_loss: 0.0576 - val_acc: 0.6212\n",
      "Epoch 5/50\n",
      "466/466 [==============================] - 63s 136ms/step - loss: 0.0567 - acc: 0.6342 - val_loss: 0.0567 - val_acc: 0.5932\n",
      "Epoch 6/50\n",
      "466/466 [==============================] - 64s 138ms/step - loss: 0.0546 - acc: 0.6393 - val_loss: 0.0569 - val_acc: 0.6024\n",
      "Epoch 7/50\n",
      "466/466 [==============================] - 65s 138ms/step - loss: 0.0525 - acc: 0.6414 - val_loss: 0.0562 - val_acc: 0.5868\n",
      "Epoch 8/50\n",
      "466/466 [==============================] - 65s 140ms/step - loss: 0.0506 - acc: 0.6490 - val_loss: 0.0568 - val_acc: 0.5903\n",
      "Epoch 9/50\n",
      "466/466 [==============================] - 65s 140ms/step - loss: 0.0486 - acc: 0.6511 - val_loss: 0.0569 - val_acc: 0.5951\n",
      "Epoch 10/50\n",
      "466/466 [==============================] - 65s 139ms/step - loss: 0.0466 - acc: 0.6583 - val_loss: 0.0583 - val_acc: 0.6123\n",
      "Epoch 11/50\n",
      "466/466 [==============================] - 64s 138ms/step - loss: 0.0443 - acc: 0.6625 - val_loss: 0.0571 - val_acc: 0.6099\n",
      "Epoch 12/50\n",
      "466/466 [==============================] - 64s 138ms/step - loss: 0.0418 - acc: 0.6647 - val_loss: 0.0591 - val_acc: 0.6271\n",
      "Epoch 13/50\n",
      "466/466 [==============================] - 64s 137ms/step - loss: 0.0391 - acc: 0.6759 - val_loss: 0.0643 - val_acc: 0.5967\n",
      "Epoch 14/50\n",
      "466/466 [==============================] - 63s 136ms/step - loss: 0.0358 - acc: 0.6776 - val_loss: 0.0607 - val_acc: 0.5484\n",
      "Epoch 15/50\n",
      "466/466 [==============================] - 64s 138ms/step - loss: 0.0321 - acc: 0.6882 - val_loss: 0.0623 - val_acc: 0.5997\n",
      "Epoch 16/50\n",
      "466/466 [==============================] - 63s 134ms/step - loss: 0.0285 - acc: 0.6898 - val_loss: 0.0633 - val_acc: 0.5951\n",
      "Epoch 17/50\n",
      "466/466 [==============================] - 64s 137ms/step - loss: 0.0252 - acc: 0.7000 - val_loss: 0.0657 - val_acc: 0.5991\n",
      "Epoch 18/50\n",
      "466/466 [==============================] - 65s 139ms/step - loss: 0.0217 - acc: 0.7037 - val_loss: 0.0688 - val_acc: 0.5844\n",
      "Epoch 19/50\n",
      "466/466 [==============================] - 63s 136ms/step - loss: 0.0188 - acc: 0.7136 - val_loss: 0.0689 - val_acc: 0.5709\n",
      "Epoch 20/50\n",
      "466/466 [==============================] - 63s 135ms/step - loss: 0.0165 - acc: 0.7223 - val_loss: 0.0692 - val_acc: 0.5943\n",
      "Epoch 21/50\n",
      "466/466 [==============================] - 65s 139ms/step - loss: 0.0144 - acc: 0.7301 - val_loss: 0.0702 - val_acc: 0.5870\n",
      "Epoch 22/50\n",
      "466/466 [==============================] - 65s 139ms/step - loss: 0.0125 - acc: 0.7391 - val_loss: 0.0713 - val_acc: 0.5661\n",
      "Epoch 23/50\n",
      "466/466 [==============================] - 64s 138ms/step - loss: 0.0111 - acc: 0.7483 - val_loss: 0.0728 - val_acc: 0.5752\n",
      "Epoch 24/50\n",
      "466/466 [==============================] - 66s 142ms/step - loss: 0.0097 - acc: 0.7547 - val_loss: 0.0729 - val_acc: 0.5685\n",
      "Epoch 25/50\n",
      "466/466 [==============================] - 65s 139ms/step - loss: 0.0089 - acc: 0.7613 - val_loss: 0.0714 - val_acc: 0.5889\n",
      "Epoch 26/50\n",
      "466/466 [==============================] - 66s 141ms/step - loss: 0.0080 - acc: 0.7723 - val_loss: 0.0727 - val_acc: 0.5744\n",
      "Epoch 27/50\n",
      "466/466 [==============================] - 66s 142ms/step - loss: 0.0072 - acc: 0.7728 - val_loss: 0.0722 - val_acc: 0.5639\n",
      "Epoch 28/50\n",
      "466/466 [==============================] - 66s 141ms/step - loss: 0.0065 - acc: 0.7824 - val_loss: 0.0723 - val_acc: 0.5725\n",
      "Epoch 29/50\n",
      "466/466 [==============================] - 62s 134ms/step - loss: 0.0061 - acc: 0.7885 - val_loss: 0.0735 - val_acc: 0.5752\n",
      "Epoch 30/50\n",
      "466/466 [==============================] - 62s 133ms/step - loss: 0.0059 - acc: 0.7932 - val_loss: 0.0724 - val_acc: 0.5613\n",
      "Epoch 31/50\n",
      "466/466 [==============================] - 62s 133ms/step - loss: 0.0054 - acc: 0.8002 - val_loss: 0.0725 - val_acc: 0.5793\n",
      "Epoch 32/50\n",
      "466/466 [==============================] - 63s 136ms/step - loss: 0.0052 - acc: 0.8020 - val_loss: 0.0724 - val_acc: 0.5637\n",
      "Epoch 33/50\n",
      "466/466 [==============================] - 64s 138ms/step - loss: 0.0047 - acc: 0.8062 - val_loss: 0.0729 - val_acc: 0.5790\n",
      "Epoch 34/50\n",
      "466/466 [==============================] - 63s 135ms/step - loss: 0.0043 - acc: 0.8173 - val_loss: 0.0722 - val_acc: 0.5785\n",
      "Epoch 35/50\n",
      "466/466 [==============================] - 61s 130ms/step - loss: 0.0044 - acc: 0.8136 - val_loss: 0.0718 - val_acc: 0.5728\n",
      "Epoch 36/50\n",
      "466/466 [==============================] - 58s 125ms/step - loss: 0.0041 - acc: 0.8245 - val_loss: 0.0715 - val_acc: 0.5631\n",
      "Epoch 37/50\n",
      "466/466 [==============================] - 60s 128ms/step - loss: 0.0039 - acc: 0.8222 - val_loss: 0.0722 - val_acc: 0.5613\n",
      "Epoch 38/50\n",
      "466/466 [==============================] - 62s 133ms/step - loss: 0.0036 - acc: 0.8297 - val_loss: 0.0711 - val_acc: 0.5661\n",
      "Epoch 39/50\n",
      "466/466 [==============================] - 62s 133ms/step - loss: 0.0036 - acc: 0.8265 - val_loss: 0.0715 - val_acc: 0.5731\n",
      "Epoch 40/50\n",
      "466/466 [==============================] - 63s 135ms/step - loss: 0.0033 - acc: 0.8398 - val_loss: 0.0710 - val_acc: 0.5615\n",
      "Epoch 41/50\n",
      "466/466 [==============================] - 60s 128ms/step - loss: 0.0032 - acc: 0.8366 - val_loss: 0.0713 - val_acc: 0.5637\n",
      "Epoch 42/50\n",
      "466/466 [==============================] - 58s 124ms/step - loss: 0.0032 - acc: 0.8429 - val_loss: 0.0707 - val_acc: 0.5634\n",
      "Epoch 43/50\n",
      "466/466 [==============================] - 58s 124ms/step - loss: 0.0031 - acc: 0.8490 - val_loss: 0.0702 - val_acc: 0.5760\n",
      "Epoch 44/50\n",
      "466/466 [==============================] - 59s 126ms/step - loss: 0.0029 - acc: 0.8492 - val_loss: 0.0702 - val_acc: 0.5599\n",
      "Epoch 45/50\n",
      "466/466 [==============================] - 59s 127ms/step - loss: 0.0029 - acc: 0.8528 - val_loss: 0.0707 - val_acc: 0.5591\n",
      "Epoch 46/50\n",
      "466/466 [==============================] - 61s 130ms/step - loss: 0.0027 - acc: 0.8543 - val_loss: 0.0708 - val_acc: 0.5639\n",
      "Epoch 47/50\n",
      "466/466 [==============================] - 61s 131ms/step - loss: 0.0027 - acc: 0.8594 - val_loss: 0.0697 - val_acc: 0.5648\n",
      "Epoch 48/50\n",
      "466/466 [==============================] - 61s 131ms/step - loss: 0.0025 - acc: 0.8604 - val_loss: 0.0696 - val_acc: 0.5669\n",
      "Epoch 49/50\n",
      "466/466 [==============================] - 61s 130ms/step - loss: 0.0025 - acc: 0.8581 - val_loss: 0.0698 - val_acc: 0.5637\n",
      "Epoch 50/50\n",
      "466/466 [==============================] - 60s 130ms/step - loss: 0.0024 - acc: 0.8649 - val_loss: 0.0701 - val_acc: 0.5682\n"
     ]
    }
   ],
   "source": [
    "history = model.fit(one_hot_names, normalized_values,\n",
    "                    epochs=50,\n",
    "                    batch_size=32,\n",
    "                    validation_split=0.2)"
   ]
  },
  {
   "cell_type": "markdown",
   "metadata": {},
   "source": [
    "## Generate Colors"
   ]
  },
  {
   "cell_type": "markdown",
   "metadata": {},
   "source": [
    "For a color name inpout, we need to transform it into the same on-hot representation. To achieve this, tokenize characters to integers with the same tokenizer with which we processed the training data, pad it to the max sequence length of 25, then apply the one-hot encoding to the integer sequence.\n",
    "\n",
    "And for the output RGB values, we need to scale it back to the 255-base so we can display them correctly."
   ]
  },
  {
   "cell_type": "code",
   "execution_count": 16,
   "metadata": {},
   "outputs": [],
   "source": [
    "# plot a color image\n",
    "def plot_rgb(rgb):\n",
    "    data =[[rgb]]\n",
    "    plt.figure(figsize=(2,2))\n",
    "    plt.imshow(data, interpolation='nearest')\n",
    "    plt.show()\n",
    "\n",
    "def scale(n):\n",
    "    return int(n * 255)\n",
    "\n",
    "def predict(name):\n",
    "    name = name.lower()\n",
    "    tokenized = token.texts_to_sequences([name])\n",
    "    padded = preprocessing.sequence.pad_sequences(tokenized, maxlen=maxlen)\n",
    "    one_hot = np_utils.to_categorical(padded, num_classes=90)\n",
    "    pred = model.predict(np.array(one_hot))[0]\n",
    "    r,g,b = scale(pred[0]), scale(pred[1]), scale(pred[2])\n",
    "    print(name + ',', 'R,G,B', r,g,b)\n",
    "    plot_rgb(pred)"
   ]
  },
  {
   "cell_type": "code",
   "execution_count": 17,
   "metadata": {},
   "outputs": [
    {
     "name": "stdout",
     "output_type": "stream",
     "text": [
      "forest, R,G,B 19 68 25\n"
     ]
    },
    {
     "data": {
      "image/png": "[encoded data removed]",
      "text/plain": [
       "<Figure size 144x144 with 1 Axes>"
      ]
     },
     "metadata": {
      "needs_background": "light"
     },
     "output_type": "display_data"
    }
   ],
   "source": [
    "predict('forest')"
   ]
  },
  {
   "cell_type": "code",
   "execution_count": 18,
   "metadata": {},
   "outputs": [
    {
     "name": "stdout",
     "output_type": "stream",
     "text": [
      "ocean, R,G,B 8 70 146\n"
     ]
    },
    {
     "data": {
      "image/png": "[encoded data removed]",
      "text/plain": [
       "<Figure size 144x144 with 1 Axes>"
      ]
     },
     "metadata": {
      "needs_background": "light"
     },
     "output_type": "display_data"
    }
   ],
   "source": [
    "predict('ocean')"
   ]
  },
  {
   "cell_type": "code",
   "execution_count": 19,
   "metadata": {},
   "outputs": [
    {
     "name": "stdout",
     "output_type": "stream",
     "text": [
      "torqoise, R,G,B 143 185 118\n"
     ]
    },
    {
     "data": {
      "image/png": "[encoded data removed]",
      "text/plain": [
       "<Figure size 144x144 with 1 Axes>"
      ]
     },
     "metadata": {
      "needs_background": "light"
     },
     "output_type": "display_data"
    }
   ],
   "source": [
    "predict('torqoise')"
   ]
  },
  {
   "cell_type": "code",
   "execution_count": 20,
   "metadata": {},
   "outputs": [
    {
     "name": "stdout",
     "output_type": "stream",
     "text": [
      "light green, R,G,B 88 246 129\n"
     ]
    },
    {
     "data": {
      "image/png": "[encoded data removed]",
      "text/plain": [
       "<Figure size 144x144 with 1 Axes>"
      ]
     },
     "metadata": {
      "needs_background": "light"
     },
     "output_type": "display_data"
    }
   ],
   "source": [
    "predict('light green')"
   ]
  },
  {
   "cell_type": "code",
   "execution_count": 21,
   "metadata": {},
   "outputs": [
    {
     "name": "stdout",
     "output_type": "stream",
     "text": [
      "velvet, R,G,B 33 59 68\n"
     ]
    },
    {
     "data": {
      "image/png": "[encoded data removed]",
      "text/plain": [
       "<Figure size 144x144 with 1 Axes>"
      ]
     },
     "metadata": {
      "needs_background": "light"
     },
     "output_type": "display_data"
    }
   ],
   "source": [
    "predict('velvet')"
   ]
  },
  {
   "cell_type": "code",
   "execution_count": 22,
   "metadata": {},
   "outputs": [
    {
     "name": "stdout",
     "output_type": "stream",
     "text": [
      "car, R,G,B 20 40 98\n"
     ]
    },
    {
     "data": {
      "image/png": "[encoded data removed]",
      "text/plain": [
       "<Figure size 144x144 with 1 Axes>"
      ]
     },
     "metadata": {
      "needs_background": "light"
     },
     "output_type": "display_data"
    }
   ],
   "source": [
    "predict('car')"
   ]
  },
  {
   "cell_type": "code",
   "execution_count": 23,
   "metadata": {},
   "outputs": [
    {
     "name": "stdout",
     "output_type": "stream",
     "text": [
      "tv, R,G,B 168 146 142\n"
     ]
    },
    {
     "data": {
      "image/png": "[encoded data removed]",
      "text/plain": [
       "<Figure size 144x144 with 1 Axes>"
      ]
     },
     "metadata": {
      "needs_background": "light"
     },
     "output_type": "display_data"
    }
   ],
   "source": [
    "predict('tv')"
   ]
  },
  {
   "cell_type": "markdown",
   "metadata": {},
   "source": [
    "## Summary"
   ]
  },
  {
   "cell_type": "markdown",
   "metadata": {},
   "source": [
    "![Pipeline](./res/pipeline.png)"
   ]
  },
  {
   "cell_type": "markdown",
   "metadata": {},
   "source": []
  }
 ],
 "metadata": {
  "kernelspec": {
   "display_name": "Python 3.8.13 ('lighthouse')",
   "language": "python",
   "name": "python3"
  },
  "language_info": {
   "codemirror_mode": {
    "name": "ipython",
    "version": 3
   },
   "file_extension": ".py",
   "mimetype": "text/x-python",
   "name": "python",
   "nbconvert_exporter": "python",
   "pygments_lexer": "ipython3",
   "version": "3.8.13"
  },
  "orig_nbformat": 4,
  "vscode": {
   "interpreter": {
    "hash": "f6bdb6bebcaa6c165db367a86e382ae8df75f09257c40532b854029e0e3d706f"
   }
  }
 },
 "nbformat": 4,
 "nbformat_minor": 2
}
