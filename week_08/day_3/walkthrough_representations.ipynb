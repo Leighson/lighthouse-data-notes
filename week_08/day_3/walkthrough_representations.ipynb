{
 "cells": [
  {
   "cell_type": "markdown",
   "metadata": {},
   "source": [
    "# Representations"
   ]
  },
  {
   "cell_type": "markdown",
   "metadata": {},
   "source": [
    "In this tutorial, we will work on _numerical representations of text_, which we studied in the last reading. We will try different types of vectorization on easy examples."
   ]
  },
  {
   "cell_type": "markdown",
   "metadata": {},
   "source": [
    "## 1. Bag of Words Model"
   ]
  },
  {
   "cell_type": "markdown",
   "metadata": {},
   "source": [
    "Find the unique words (i.e. vocabulary from the list of documents). Parse each document word with the vocabulary, if present `1` else `0`. This makes each document vector maintain the same length that of vocabulary length. We use this vocabulary for the new document vectorization. "
   ]
  },
  {
   "cell_type": "code",
   "execution_count": 1,
   "metadata": {},
   "outputs": [
    {
     "name": "stdout",
     "output_type": "stream",
     "text": [
      "vocabulary: ['i', 'love', 'this', 'hate', 'in', 'superb,', 'phone', 'am']\n",
      "vectors: [[1, 1, 1, 0, 1, 1, 1, 1], [1, 0, 1, 1, 0, 0, 1, 0]]\n"
     ]
    }
   ],
   "source": [
    "# load data\n",
    "docs = [\"SUPERB, I AM IN LOVE IN THIS PHONE\", \"I hate this phone\"]\n",
    "\n",
    "# convert to lowercase then split\n",
    "words = list(set([\n",
    "    word for doc in docs for word in doc.lower().split()\n",
    "]))\n",
    "\n",
    "# vectorize\n",
    "vectors = []\n",
    "for doc in docs:\n",
    "    vectors.append([1 if word in doc.lower().split() else 0 for word in words])\n",
    "print('vocabulary:', words)\n",
    "print('vectors:', vectors)"
   ]
  },
  {
   "cell_type": "markdown",
   "metadata": {},
   "source": [
    "## 2. Word Counts with CountVectorizer"
   ]
  },
  {
   "cell_type": "markdown",
   "metadata": {},
   "source": [
    "Tokenize the collection of documents and form a vocabulary with it. We can then use this vocabulary to encode new documents. These functions can be completed with `CountVectorizer` from the `sklearn` library. By default, this class object will also remove punctuations and lower the documents."
   ]
  },
  {
   "cell_type": "code",
   "execution_count": 2,
   "metadata": {},
   "outputs": [
    {
     "name": "stdout",
     "output_type": "stream",
     "text": [
      "vocabulary: {'superb': 5, 'am': 0, 'in': 2, 'love': 3, 'this': 6, 'phone': 4, 'hate': 1}\n",
      "shape: (2, 7)\n",
      "vectors: [[1 0 2 1 1 1 1]\n",
      " [0 1 0 0 1 0 1]]\n"
     ]
    }
   ],
   "source": [
    "from sklearn.feature_extraction.text import CountVectorizer\n",
    "\n",
    "# list of documents\n",
    "docs = [\"SUPERB, I AM IN LOVE IN THIS PHONE\", \"I hate this phone\"]\n",
    "\n",
    "# create the transform\n",
    "vectorizer = CountVectorizer()\n",
    "\n",
    "# tokenize and build vocabulary\n",
    "vectorizer.fit(docs)\n",
    "\n",
    "print('vocabulary:', vectorizer.vocabulary_)\n",
    "\n",
    "# encode document\n",
    "vector = vectorizer.transform(docs)\n",
    "\n",
    "# summarize encoded vector\n",
    "print('shape:', vector.shape)\n",
    "print('vectors:', vector.toarray())"
   ]
  },
  {
   "cell_type": "markdown",
   "metadata": {},
   "source": [
    "It turns each vector into a sparse matrix, making sure that the word is present in the vocabulary and, if present, it prints the number of occurrences of the word in the vocabulary."
   ]
  },
  {
   "cell_type": "markdown",
   "metadata": {},
   "source": [
    "## 3. Word Frequencies with `TfidfVectorizer`"
   ]
  },
  {
   "cell_type": "markdown",
   "metadata": {},
   "source": [
    "Word counts are basic. Using these counts, we lost interesting words and give priority to stop words and may include less meaningful words in the algorithm.\n",
    "\n",
    "**TF-IDF**, _Term Frequency and Inverse Document Frequency_, calculated word frequency scores that try to highlight words that are more interesting (i.e. frequent in a particular document but rare across an entire set of documents). There are a few types of _weighting schemes_ for **TF-IDF**. Below is an example."
   ]
  },
  {
   "cell_type": "code",
   "execution_count": 4,
   "metadata": {},
   "outputs": [
    {
     "name": "stdout",
     "output_type": "stream",
     "text": [
      "vocabulary: {'superb': 5, 'am': 0, 'in': 2, 'love': 3, 'this': 6, 'phone': 4, 'hate': 1}\n",
      "idfs: [1.40546511 1.40546511 1.40546511 1.40546511 1.         1.40546511\n",
      " 1.        ]\n",
      "vectors: [[0.35327777 0.         0.70655553 0.35327777 0.25136004 0.35327777\n",
      "  0.25136004]]\n"
     ]
    }
   ],
   "source": [
    "from sklearn.feature_extraction.text import TfidfVectorizer\n",
    "\n",
    "# list of documents\n",
    "docs = [\"SUPERB, I AM IN LOVE IN THIS PHONE\", \"I hate this phone\"]\n",
    "\n",
    "# create the transform\n",
    "vectorizer = TfidfVectorizer()\n",
    "\n",
    "# tokenize and build vocabulary\n",
    "vectorizer.fit(docs)\n",
    "\n",
    "# summarize\n",
    "print('vocabulary:', vectorizer.vocabulary_)\n",
    "print('idfs:', vectorizer.idf_)\n",
    "\n",
    "# encode document\n",
    "vector = vectorizer.transform([docs[0]])\n",
    "\n",
    "# summarize encoded vector\n",
    "print('vectors:', vector.toarray())"
   ]
  },
  {
   "cell_type": "markdown",
   "metadata": {},
   "source": [
    "**idf** per _term_ is calculated as follows:\n",
    "$$ idf(t) \\ = \\ log(\\frac{1+n_d}{1+df(d,t)}) \\ + 1$$"
   ]
  },
  {
   "cell_type": "markdown",
   "metadata": {},
   "source": [
    "After applying the equation above, the final step is vector normalization. `sklearn` uses `l2` normalization for each document."
   ]
  },
  {
   "cell_type": "markdown",
   "metadata": {},
   "source": [
    "**TF-IDF** is arguably the best vectorization method among those that were discussed here. Unlike **word counts**, **IDF** values deprioritizes stopwords and rewards unique words that are implicitly significant to the documents they are written for."
   ]
  },
  {
   "cell_type": "markdown",
   "metadata": {},
   "source": []
  }
 ],
 "metadata": {
  "kernelspec": {
   "display_name": "Python 3.8.13 ('lighthouse')",
   "language": "python",
   "name": "python3"
  },
  "language_info": {
   "codemirror_mode": {
    "name": "ipython",
    "version": 3
   },
   "file_extension": ".py",
   "mimetype": "text/x-python",
   "name": "python",
   "nbconvert_exporter": "python",
   "pygments_lexer": "ipython3",
   "version": "3.8.13"
  },
  "orig_nbformat": 4,
  "vscode": {
   "interpreter": {
    "hash": "f6bdb6bebcaa6c165db367a86e382ae8df75f09257c40532b854029e0e3d706f"
   }
  }
 },
 "nbformat": 4,
 "nbformat_minor": 2
}
