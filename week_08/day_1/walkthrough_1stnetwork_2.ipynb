{
 "cells": [
  {
   "cell_type": "markdown",
   "id": "84687022-6ffe-4092-8cb4-b5a901604e40",
   "metadata": {},
   "source": [
    "# First Network - Follow Up"
   ]
  },
  {
   "cell_type": "markdown",
   "id": "78d9b8cf-28ff-4f17-b2d6-00f5a2e0e8b5",
   "metadata": {},
   "source": [
    "The important thing in Keras and Deep Learning is that when we run the `.fit()` method more than once, it will continue from the point where it ended before. This allows us to take a pre-trained network from the internet and adjust it to our specific needs. We will learn how to do this during this module."
   ]
  },
  {
   "cell_type": "markdown",
   "id": "443fda31-ca35-46b3-acc5-a487847f56af",
   "metadata": {},
   "source": [
    "Play around with different numbers of epochs and batch sizes in your notebook with the digit recognizer. What happens with the speed of fitting? How about accuracy?"
   ]
  },
  {
   "cell_type": "markdown",
   "id": "dff8f865-a6fd-4427-9ad9-5a07ecc8c97a",
   "metadata": {},
   "source": [
    "Try to run `.fit()` method in the First Network Example more than once. What do you observe in the accuracy of the network?"
   ]
  },
  {
   "cell_type": "code",
   "execution_count": null,
   "id": "bc3ec883-a8d1-44cf-b89b-c50f7ede284f",
   "metadata": {},
   "outputs": [],
   "source": []
  }
 ],
 "metadata": {
  "kernelspec": {
   "display_name": "Python 3 (ipykernel)",
   "language": "python",
   "name": "python3"
  },
  "language_info": {
   "codemirror_mode": {
    "name": "ipython",
    "version": 3
   },
   "file_extension": ".py",
   "mimetype": "text/x-python",
   "name": "python",
   "nbconvert_exporter": "python",
   "pygments_lexer": "ipython3",
   "version": "3.9.12"
  }
 },
 "nbformat": 4,
 "nbformat_minor": 5
}
