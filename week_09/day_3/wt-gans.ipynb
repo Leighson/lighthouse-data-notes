{
 "cells": [
  {
   "cell_type": "markdown",
   "id": "88e8fe0a-b17c-430c-8126-41f714a3a7c2",
   "metadata": {},
   "source": [
    "# Creating GANs from Scractch"
   ]
  },
  {
   "cell_type": "code",
   "execution_count": 1,
   "id": "f2f297ea-4f90-471e-a6d0-df5fff31a6f7",
   "metadata": {},
   "outputs": [],
   "source": [
    "# formatted time string\n",
    "def hms_string(sec_elapsed):\n",
    "    h = int(sec_elapsed / (60 * 60))\n",
    "    m = int((sec_elapsed % ( 60 * 60)) / 60)\n",
    "    s = sec_elapsed % 60\n",
    "    return f'{h}:{m:>02}:{s:>05.2f}'"
   ]
  },
  {
   "cell_type": "markdown",
   "id": "ca0053bd-0f4f-439d-81ea-58054d46b3e8",
   "metadata": {},
   "source": [
    "## Implementing Deep Convolutional GANs in Keras"
   ]
  },
  {
   "cell_type": "markdown",
   "id": "58d92ee2-504e-4316-9d7a-a67d12270fbf",
   "metadata": {},
   "source": [
    "[Paper](https://arxiv.org/abs/1511.06434) that described the type of DCGAN that we will create in this module. This paper implements a DCGAN as follows:\n",
    "- no pre-processing was applied to training images besides scaling to the range of the `tanh` activation function (i.e., -1 to 1)\n",
    "- all models were trained with mini-batch stochastic gradient descent (SGD) with a mini-batch size of 128\n",
    "- all weights were initialized from a zero-centered normal distribution with standard deviation 0.02\n",
    "- in the `LeaklyReLU`, the slope of the leak was set to 0.2 in all models\n",
    "- Adam optimizer with tuned hyperparameters (suggested learning rate of 0.001 is too high, using 0.0002 instead)\n",
    "- additionally found that momentum term $\\beta1$ at the suggested value of 0.9 resulted in training oscillation and instability while reducing it to 0.5 helped stabilize training\n",
    "\n",
    "The paper also provides the following architecture guidelines for stable DCGANs:\n",
    "- replace any pooling layers with `strided convolutions` (discriminator) and `franctional-strided convolutions` (generator)\n",
    "- use `batchnorm` in both the generator and the discriminator\n",
    "- remove fully connected hidden layers for deeper architectures\n",
    "- use `ReLU` activation in generator for all layers except for the output, which uses `Tanh`\n",
    "- use `LeakyReLU` activation in the discriminator for all layers\n",
    "\n",
    "While creating the material for this module, the following resources were used:\n",
    "- [Deep Convolutional Generative Adversarial Network](https://www.tensorflow.org/tutorials/generative/dcgan) (TensorFlow 2.0 example code)\n",
    "- [Keep Calm and train a GAN. Pitfalls and Tips on training Generative Adversarial Networks](https://medium.com/@utk.is.here/keep-calm-and-train-a-gan-pitfalls-and-tips-on-training-generative-adversarial-networks-edd529764aa9)\n",
    "- [Collection of Keras implementations of Generative Adversarial Networks GANs](https://github.com/eriklindernoren/Keras-GAN)\n",
    "- [dcgan-facegenerator](https://github.com/platonovsimeon/dcgan-facegenerator) (semi-paywalled)\n",
    "\n",
    "The program created next will generate faces similar to the images below. While these faces are not perfect, they demonstrate how we can construct and train a GAN on our own. Later, we will see how to import very advanced weights from nVidia to produce high resolution, realistic looking faces."
   ]
  },
  {
   "cell_type": "markdown",
   "id": "3424d8b2-b10d-46fd-8abd-bd9ecf7b8133",
   "metadata": {},
   "source": [
    "![gan-example](https://camo.githubusercontent.com/41a14c959276510a01dbc691e1cbea7dcbc14e593330b0157dd56ffe910e34fb/68747470733a2f2f7261772e67697468756275736572636f6e74656e742e636f6d2f6a656666686561746f6e2f7438315f3535385f646565705f6c6561726e696e672f6d61737465722f696d616765732f67616e2d332e706e67)"
   ]
  },
  {
   "cell_type": "markdown",
   "id": "fa7b8bc9-823e-48e8-9f79-92295ecea326",
   "metadata": {},
   "source": [
    "As discussed in the previous module, the GAN is made up of two different neural networks: the discriminator and the generator. The generator generates the images, while the discriminator detects if a face is real or was generated."
   ]
  },
  {
   "cell_type": "markdown",
   "id": "6fda41d8-a633-48e2-951c-42db6cd13359",
   "metadata": {},
   "source": [
    "![discriminator-generator](https://camo.githubusercontent.com/b1e13e3090f27aa6a9451331de237b8f0ce38fa3d1ce53cfbb8e7514c9358f51/68747470733a2f2f7261772e67697468756275736572636f6e74656e742e636f6d2f6a656666686561746f6e2f7438315f3535385f646565705f6c6561726e696e672f6d61737465722f696d616765732f67616e5f6669675f312e706e67)"
   ]
  },
  {
   "cell_type": "markdown",
   "id": "c17d2323-fa28-4876-9970-d7973fb3e2ff",
   "metadata": {},
   "source": [
    "The discriminator accepts an image as its input and produces number that is the probability of the input image being real. The generator accepts a random seed vector and generates an image from that random vector seed. An unlimited number of new images can be created by providing additional seeds."
   ]
  },
  {
   "cell_type": "code",
   "execution_count": 2,
   "id": "e318ebeb-9a4e-496b-8d18-7f88636683cb",
   "metadata": {},
   "outputs": [
    {
     "name": "stdout",
     "output_type": "stream",
     "text": [
      "Note: not using Google CoLab\n"
     ]
    }
   ],
   "source": [
    "try:\n",
    "    from google.colab import drive\n",
    "    drive.mount('/content/drive', force_remount=True)\n",
    "    COLAB = True\n",
    "    print(\"Note: using Google CoLab\")\n",
    "    %tensorflow_version 2.x\n",
    "except:\n",
    "    print(\"Note: not using Google CoLab\")\n",
    "    COLAB = False"
   ]
  },
  {
   "cell_type": "code",
   "execution_count": 3,
   "id": "fecb4418-db77-4111-b20f-d04501326395",
   "metadata": {},
   "outputs": [],
   "source": [
    "import tensorflow as tf\n",
    "\n",
    "# keras modules\n",
    "from tensorflow.keras.layers import Input, Reshape, Dropout, Dense \n",
    "from tensorflow.keras.layers import Flatten, BatchNormalization\n",
    "from tensorflow.keras.layers import Activation, ZeroPadding2D\n",
    "from tensorflow.keras.layers import LeakyReLU\n",
    "from tensorflow.keras.layers import UpSampling2D, Conv2D\n",
    "from tensorflow.keras.models import Sequential, Model, load_model\n",
    "from tensorflow.keras.optimizers import Adam\n",
    "\n",
    "# data modules\n",
    "import numpy as np\n",
    "import pandas as pd\n",
    "\n",
    "# notebook utilities\n",
    "import os \n",
    "import time\n",
    "from PIL import Image\n",
    "from tqdm import tqdm\n",
    "\n",
    "# graphing\n",
    "import matplotlib.pyplot as plt\n",
    "import seaborn as sns; sns.set_theme(style='darkgrid', palette='viridis', context='talk')"
   ]
  },
  {
   "cell_type": "markdown",
   "id": "586b8fa9-5af1-46a5-aa7e-210890ac2d8e",
   "metadata": {},
   "source": [
    "There are the constants that define how the GANs will be created for this example. The higher the resolution, the more memory that will be needed. Higher resolution will also result in longer runtimes. For Google CoLab (GPU), 128x128 resolution is as high as can be used due to the available memory."
   ]
  },
  {
   "cell_type": "code",
   "execution_count": 4,
   "id": "431e620f-5bb7-4b38-8e27-0d33100646a0",
   "metadata": {},
   "outputs": [
    {
     "name": "stdout",
     "output_type": "stream",
     "text": [
      "Will generate 96px square images.\n"
     ]
    }
   ],
   "source": [
    "# Generation resolution - Must be square \n",
    "# Training data is also scaled to this.\n",
    "# Note: GENERATE_RES 4 or higher will blow Google CoLab's memory and have not been tested extensively.\n",
    "\n",
    "GENERATE_RES = 3 # Generation resolution factor (1=32, 2=64, 3=96, 4=128, etc.)\n",
    "GENERATE_SQUARE = 32 * GENERATE_RES # rows/cols (should be square)\n",
    "IMAGE_CHANNELS = 3\n",
    "\n",
    "# Preview image \n",
    "PREVIEW_ROWS = 4\n",
    "PREVIEW_COLS = 7\n",
    "PREVIEW_MARGIN = 16\n",
    "\n",
    "# Size vector to generate images from\n",
    "SEED_SIZE = 100\n",
    "\n",
    "# Configuration\n",
    "DATA_PATH = './res/data'\n",
    "EPOCHS = 50\n",
    "BATCH_SIZE = 32\n",
    "BUFFER_SIZE = 60000\n",
    "\n",
    "print(f\"Will generate {GENERATE_SQUARE}px square images.\")"
   ]
  },
  {
   "cell_type": "markdown",
   "id": "37973240-179e-494a-8364-2120497a4316",
   "metadata": {},
   "source": [
    "Next, we will load and preprocess the images. Google CoLab will take an hour to process. But we can store the preprocessed file as a binary. This way, we can simply reload the processed training data and quickly use it. It is most efficient to only perform this operation once. The dimensions of the image are encoded into the filename of the binary file because we need to regenerate it if these change.\n",
    "\n",
    "Image set has 7,000+ images so initial pre-processing can take over an hour. To save time, we can save to a Numpy file using Pickle.\n",
    "\n",
    "> **_NOTE_**: File is large enough to cause problems for some versions of Pickle so numpy binary files are used."
   ]
  },
  {
   "cell_type": "code",
   "execution_count": 5,
   "id": "831fe2cd-0ff1-4d99-8afd-6112470335e8",
   "metadata": {},
   "outputs": [
    {
     "name": "stdout",
     "output_type": "stream",
     "text": [
      "Looking for file: ./res/data/training data_96_96.npy.\n",
      "Loading previous training Pickle... \n"
     ]
    }
   ],
   "source": [
    "training_binary_path = os.path.join(\n",
    "    DATA_PATH,\n",
    "    f'training data_{GENERATE_SQUARE}_{GENERATE_SQUARE}.npy')\n",
    "\n",
    "print(f'Looking for file: {training_binary_path}.')\n",
    "\n",
    "if not os.path.isfile(training_binary_path):\n",
    "    \n",
    "    start = time.time()\n",
    "    print('Loading training images... ')\n",
    "    \n",
    "    training_data = []\n",
    "    faces_path = os.path.join(DATA_PATH, 'gan-examples')\n",
    "    \n",
    "    for filename in tqdm(os.listdir(faces_path)):\n",
    "        path = os.path.join(faces_path, filename)\n",
    "        image = Image.open(path).resize(\n",
    "            (GENERATE_SQUARE, GENERATE_SQUARE), Image.ANTIALIAS)\n",
    "        training_data.append(np.asarray(image))\n",
    "    \n",
    "    training_data = np.reshape(\n",
    "        training_data,\n",
    "        (-1, GENERATE_SQUARE, GENERATE_SQUARE, IMAGE_CHANNELS))\n",
    "    training_data = training_data.astype(np.float32)\n",
    "    training_data = training_data / 127.5 - 1\n",
    "    \n",
    "    print('Saving training image binary... ')\n",
    "    \n",
    "    np.save(training_binary_path, training_data)\n",
    "    elapsed = time.time() - start\n",
    "    \n",
    "    print(f'Image pre-process time: {hms_string(elapsed)}')\n",
    "    \n",
    "else:\n",
    "    print('Loading previous training Pickle... ')\n",
    "    training_data = np.load(training_binary_path)\n",
    "    "
   ]
  },
  {
   "cell_type": "markdown",
   "id": "df3dcf74-223c-4851-adc7-ce05d48b55a3",
   "metadata": {},
   "source": [
    "We will use a TensorFlow dataset object to actually hold the images. This allows the data to be quickly shuffled and divided into the appropriate batch sizes for training."
   ]
  },
  {
   "cell_type": "code",
   "execution_count": 6,
   "id": "29d63d3a-219a-463f-9ad2-4efd110bf5b6",
   "metadata": {},
   "outputs": [
    {
     "name": "stderr",
     "output_type": "stream",
     "text": [
      "2022-06-14 21:20:42.710490: W tensorflow/stream_executor/platform/default/dso_loader.cc:64] Could not load dynamic library 'libcuda.so.1'; dlerror: libcuda.so.1: cannot open shared object file: No such file or directory\n",
      "2022-06-14 21:20:42.712550: W tensorflow/stream_executor/cuda/cuda_driver.cc:269] failed call to cuInit: UNKNOWN ERROR (303)\n",
      "2022-06-14 21:20:42.713195: I tensorflow/stream_executor/cuda/cuda_diagnostics.cc:156] kernel driver does not appear to be running on this host (da65e3f7468d): /proc/driver/nvidia/version does not exist\n",
      "2022-06-14 21:20:42.735949: I tensorflow/core/platform/cpu_feature_guard.cc:142] This TensorFlow binary is optimized with oneAPI Deep Neural Network Library (oneDNN) to use the following CPU instructions in performance-critical operations:  SSE4.1 SSE4.2\n",
      "To enable them in other operations, rebuild TensorFlow with the appropriate compiler flags.\n"
     ]
    }
   ],
   "source": [
    "# batch and shuffle the data\n",
    "train_dataset = tf.data.Dataset.from_tensor_slices(training_data).shuffle(BUFFER_SIZE).batch(BATCH_SIZE)"
   ]
  },
  {
   "cell_type": "markdown",
   "id": "642331b2-5050-4f53-9bc6-c0244adea88e",
   "metadata": {},
   "source": [
    "Next, we build the discriminator and the generator. Both will be trained with the Adam optimizer."
   ]
  },
  {
   "cell_type": "code",
   "execution_count": 7,
   "id": "61bab09f-1383-4b5f-afe5-6844bf3554ad",
   "metadata": {},
   "outputs": [],
   "source": [
    "def build_generator(seed_size, channels):\n",
    "    model = Sequential()\n",
    "\n",
    "    model.add(Dense(4*4*256,activation=\"relu\",input_dim=seed_size))\n",
    "    model.add(Reshape((4,4,256)))\n",
    "\n",
    "    model.add(UpSampling2D())\n",
    "    model.add(Conv2D(256,kernel_size=3,padding=\"same\"))\n",
    "    model.add(BatchNormalization(momentum=0.8))\n",
    "    model.add(Activation(\"relu\"))\n",
    "\n",
    "    model.add(UpSampling2D())\n",
    "    model.add(Conv2D(256,kernel_size=3,padding=\"same\"))\n",
    "    model.add(BatchNormalization(momentum=0.8))\n",
    "    model.add(Activation(\"relu\"))\n",
    "   \n",
    "    # Output resolution, additional upsampling\n",
    "    model.add(UpSampling2D())\n",
    "    model.add(Conv2D(128,kernel_size=3,padding=\"same\"))\n",
    "    model.add(BatchNormalization(momentum=0.8))\n",
    "    model.add(Activation(\"relu\"))\n",
    "\n",
    "    if GENERATE_RES>1:\n",
    "      model.add(UpSampling2D(size=(GENERATE_RES,GENERATE_RES)))\n",
    "      model.add(Conv2D(128,kernel_size=3,padding=\"same\"))\n",
    "      model.add(BatchNormalization(momentum=0.8))\n",
    "      model.add(Activation(\"relu\"))\n",
    "\n",
    "    # Final CNN layer\n",
    "    model.add(Conv2D(channels,kernel_size=3,padding=\"same\"))\n",
    "    model.add(Activation(\"tanh\"))\n",
    "\n",
    "    return model\n",
    "\n",
    "\n",
    "def build_discriminator(image_shape):\n",
    "    model = Sequential()\n",
    "\n",
    "    model.add(Conv2D(32, kernel_size=3, strides=2, input_shape=image_shape, \n",
    "                     padding=\"same\"))\n",
    "    model.add(LeakyReLU(alpha=0.2))\n",
    "\n",
    "    model.add(Dropout(0.25))\n",
    "    model.add(Conv2D(64, kernel_size=3, strides=2, padding=\"same\"))\n",
    "    model.add(ZeroPadding2D(padding=((0,1),(0,1))))\n",
    "    model.add(BatchNormalization(momentum=0.8))\n",
    "    model.add(LeakyReLU(alpha=0.2))\n",
    "\n",
    "    model.add(Dropout(0.25))\n",
    "    model.add(Conv2D(128, kernel_size=3, strides=2, padding=\"same\"))\n",
    "    model.add(BatchNormalization(momentum=0.8))\n",
    "    model.add(LeakyReLU(alpha=0.2))\n",
    "\n",
    "    model.add(Dropout(0.25))\n",
    "    model.add(Conv2D(256, kernel_size=3, strides=1, padding=\"same\"))\n",
    "    model.add(BatchNormalization(momentum=0.8))\n",
    "    model.add(LeakyReLU(alpha=0.2))\n",
    "\n",
    "    model.add(Dropout(0.25))\n",
    "    model.add(Conv2D(512, kernel_size=3, strides=1, padding=\"same\"))\n",
    "    model.add(BatchNormalization(momentum=0.8))\n",
    "    model.add(LeakyReLU(alpha=0.2))\n",
    "\n",
    "    model.add(Dropout(0.25))\n",
    "    model.add(Flatten())\n",
    "    model.add(Dense(1, activation='sigmoid'))\n",
    "\n",
    "    return model"
   ]
  },
  {
   "cell_type": "markdown",
   "id": "27ab7d48-2c11-4873-9f2c-b8dadab3b9dc",
   "metadata": {},
   "source": [
    "As we progress through training images will be produced to show the progress. These images will contain a number of rendered faces that show how good the generator has become."
   ]
  },
  {
   "cell_type": "code",
   "execution_count": 8,
   "id": "058bcce8-236c-4808-a2a3-c54396a47d5f",
   "metadata": {},
   "outputs": [],
   "source": [
    "def save_images(cnt,noise):\n",
    "  image_array = np.full(( \n",
    "      PREVIEW_MARGIN + (PREVIEW_ROWS * (GENERATE_SQUARE+PREVIEW_MARGIN)), \n",
    "      PREVIEW_MARGIN + (PREVIEW_COLS * (GENERATE_SQUARE+PREVIEW_MARGIN)), IMAGE_CHANNELS), \n",
    "      255, dtype=np.uint8)\n",
    "  \n",
    "  generated_images = generator.predict(noise)\n",
    "\n",
    "  generated_images = 0.5 * generated_images + 0.5\n",
    "\n",
    "  image_count = 0\n",
    "  for row in range(PREVIEW_ROWS):\n",
    "      for col in range(PREVIEW_COLS):\n",
    "        r = row * (GENERATE_SQUARE+16) + PREVIEW_MARGIN\n",
    "        c = col * (GENERATE_SQUARE+16) + PREVIEW_MARGIN\n",
    "        image_array[r:r+GENERATE_SQUARE,c:c+GENERATE_SQUARE] \\\n",
    "            = generated_images[image_count] * 255\n",
    "        image_count += 1\n",
    "\n",
    "          \n",
    "  output_path = os.path.join(DATA_PATH,'output')\n",
    "  if not os.path.exists(output_path):\n",
    "    os.makedirs(output_path)\n",
    "  \n",
    "  filename = os.path.join(output_path,f\"train-{cnt}.png\")\n",
    "  im = Image.fromarray(image_array)\n",
    "  im.save(filename)"
   ]
  },
  {
   "cell_type": "code",
   "execution_count": 9,
   "id": "59569c09-d09d-4214-8dab-453072eeba8a",
   "metadata": {},
   "outputs": [
    {
     "data": {
      "image/png": "[encoded data removed]",
      "text/plain": [
       "<Figure size 432x288 with 1 Axes>"
      ]
     },
     "metadata": {
      "needs_background": "light"
     },
     "output_type": "display_data"
    }
   ],
   "source": [
    "generator = build_generator(SEED_SIZE, IMAGE_CHANNELS)\n",
    "\n",
    "noise = tf.random.normal([1, SEED_SIZE])\n",
    "generated_image = generator(noise, training=False)\n",
    "\n",
    "plt.imshow(generated_image[0, :, :, 0])\n",
    "plt.show()"
   ]
  },
  {
   "cell_type": "code",
   "execution_count": 10,
   "id": "6ce74011-a848-4901-a38c-24ac2ab864ae",
   "metadata": {},
   "outputs": [
    {
     "name": "stdout",
     "output_type": "stream",
     "text": [
      "tf.Tensor([[0.500406]], shape=(1, 1), dtype=float32)\n"
     ]
    }
   ],
   "source": [
    "image_shape = (GENERATE_SQUARE,GENERATE_SQUARE,IMAGE_CHANNELS)\n",
    "\n",
    "discriminator = build_discriminator(image_shape)\n",
    "decision = discriminator(generated_image)\n",
    "print (decision)"
   ]
  },
  {
   "cell_type": "markdown",
   "id": "706c490c-30a3-45ab-bfa1-d36c24653e7a",
   "metadata": {},
   "source": [
    "Loss functions must be developed that allow the generator and discriminator to be trained in an adversarial way. Because these two neural networks are being trained independently, they must be trained in two separate passes. This requires two separate loss functions and also two separate updates to the gradients.\n",
    "\n",
    "When the discriminator's gradients are applied to decrease the discriminator's loss, it is important that only the discriminator's weights are updated. It is not fair (nor will it produce good results) to adversairially damage the weights of the generator to help the discriminator. A simple backpropagation would do this. It would simultaneously affect the weights of both generator and discriminator to lower whatever loss it was assigned to lower."
   ]
  },
  {
   "cell_type": "markdown",
   "id": "a7fff603-31dc-4b80-a788-c5f6b719e7f5",
   "metadata": {},
   "source": [
    "![disciminator network](https://camo.githubusercontent.com/1187aa69b00f2458175cedab0ad1940d6f17097afa57dd45e7ec4a821d3b2f9a/68747470733a2f2f7261772e67697468756275736572636f6e74656e742e636f6d2f6a656666686561746f6e2f7438315f3535385f646565705f6c6561726e696e672f6d61737465722f696d616765732f67616e5f6669675f322e706e67)"
   ]
  },
  {
   "cell_type": "markdown",
   "id": "c4dc7ef0-5e40-4083-afc0-27d4141a815e",
   "metadata": {},
   "source": [
    "Here, a training set is generated with an equal number of real and fake images. The real images are randomly sampled (chosen) from the training data. An equal number of random images are generated from random seeds. For the discriminator training set, the `x` contains the input imaages and the `y` contains a value of 1 for real images and 0 for generated ones."
   ]
  },
  {
   "cell_type": "markdown",
   "id": "15888782-14e9-4031-a617-0b3c5e422f8b",
   "metadata": {},
   "source": [
    "![generator-network](https://camo.githubusercontent.com/7558a94a81ec61f33b9853a2b7293700ab943ccfdaa464e9940f3339bd2f85cf/68747470733a2f2f7261772e67697468756275736572636f6e74656e742e636f6d2f6a656666686561746f6e2f7438315f3535385f646565705f6c6561726e696e672f6d61737465722f696d616765732f67616e5f6669675f332e706e67)"
   ]
  },
  {
   "cell_type": "markdown",
   "id": "4db8695c-6c1a-4b70-b4ed-1f4d509bbaaf",
   "metadata": {},
   "source": [
    "For the generator training set, the `x` contains the random seeds to generate images and the `y` contains the value of 1, because the optimal is for the generator to have genereated such good images the the discriminator was fooled into assigning them a probability near 1."
   ]
  },
  {
   "cell_type": "code",
   "execution_count": 11,
   "id": "230c4782-67ef-4b2f-ab13-113f21a04310",
   "metadata": {},
   "outputs": [],
   "source": [
    "# This method returns a helper function to compute cross entropy loss\n",
    "cross_entropy = tf.keras.losses.BinaryCrossentropy()\n",
    "\n",
    "def discriminator_loss(real_output, fake_output):\n",
    "    real_loss = cross_entropy(tf.ones_like(real_output), real_output)\n",
    "    fake_loss = cross_entropy(tf.zeros_like(fake_output), fake_output)\n",
    "    total_loss = real_loss + fake_loss\n",
    "    return total_loss\n",
    "\n",
    "def generator_loss(fake_output):\n",
    "    return cross_entropy(tf.ones_like(fake_output), fake_output)"
   ]
  },
  {
   "cell_type": "markdown",
   "id": "3e14d7a2-d600-43c4-a079-1e55f0697557",
   "metadata": {},
   "source": [
    "Both the generator and discriminator use Adam and the same learning rate and momentum. This does not need to be the case. If you use a `GENERATE_RES` greater than 3, you may need to tune these learning rates, as well as other training and hyperparameters."
   ]
  },
  {
   "cell_type": "code",
   "execution_count": 12,
   "id": "8ea06fc9-df4d-428f-a75e-514fcd859fe5",
   "metadata": {},
   "outputs": [],
   "source": [
    "generator_optimizer = tf.keras.optimizers.Adam(1.5e-4,0.5)\n",
    "discriminator_optimizer = tf.keras.optimizers.Adam(1.5e-4,0.5)"
   ]
  },
  {
   "cell_type": "markdown",
   "id": "c8606689-bef8-4674-b2d3-2eb1e03ddd20",
   "metadata": {},
   "source": [
    "The following function is where most of the training takes place for both the discriminator and the generator. This function was based on the GAN provided by the `keras` example documentation. The first thing to notice is that it is annotated with the `tf.function` annotation. This causes the function to be precompiled and improves performance.\n",
    "\n",
    "This function trains differently than the code we previously saw for training. It uses `GradientTape` to allow the discriminator and generator to be trained together, yet separately."
   ]
  },
  {
   "cell_type": "code",
   "execution_count": 13,
   "id": "f5bc94f1-caed-4e85-9841-18cb6cece8d1",
   "metadata": {},
   "outputs": [],
   "source": [
    "# notice the use of `tf.function`\n",
    "# this annotation causes the function to be \"compiled\".\n",
    "@tf.function\n",
    "def train_step(images):\n",
    "  seed = tf.random.normal([BATCH_SIZE, SEED_SIZE])\n",
    "\n",
    "  with tf.GradientTape() as gen_tape, tf.GradientTape() as disc_tape:\n",
    "    generated_images = generator(seed, training=True)\n",
    "\n",
    "    real_output = discriminator(images, training=True)\n",
    "    fake_output = discriminator(generated_images, training=True)\n",
    "\n",
    "    gen_loss = generator_loss(fake_output)\n",
    "    disc_loss = discriminator_loss(real_output, fake_output)\n",
    "    \n",
    "\n",
    "    gradients_of_generator = gen_tape.gradient(\n",
    "        gen_loss, generator.trainable_variables)\n",
    "    gradients_of_discriminator = disc_tape.gradient(\n",
    "        disc_loss, discriminator.trainable_variables)\n",
    "\n",
    "    generator_optimizer.apply_gradients(zip(\n",
    "        gradients_of_generator, generator.trainable_variables))\n",
    "    discriminator_optimizer.apply_gradients(zip(\n",
    "        gradients_of_discriminator, \n",
    "        discriminator.trainable_variables))\n",
    "  return gen_loss,disc_loss"
   ]
  },
  {
   "cell_type": "code",
   "execution_count": 14,
   "id": "1ce0984d-6c74-4fb2-8427-a732eafe005c",
   "metadata": {},
   "outputs": [],
   "source": [
    "def train(dataset, epochs):\n",
    "  fixed_seed = np.random.normal(\n",
    "      0, 1, (PREVIEW_ROWS * PREVIEW_COLS, SEED_SIZE))\n",
    "  start = time.time()\n",
    "\n",
    "  for epoch in range(epochs):\n",
    "    epoch_start = time.time()\n",
    "\n",
    "    gen_loss_list = []\n",
    "    disc_loss_list = []\n",
    "\n",
    "    for image_batch in dataset:\n",
    "      t = train_step(image_batch)\n",
    "      gen_loss_list.append(t[0])\n",
    "      disc_loss_list.append(t[1])\n",
    "\n",
    "    g_loss = sum(gen_loss_list) / len(gen_loss_list)\n",
    "    d_loss = sum(disc_loss_list) / len(disc_loss_list)\n",
    "\n",
    "    epoch_elapsed = time.time()-epoch_start\n",
    "    print (f'Epoch {epoch+1}, gen loss={g_loss},disc loss={d_loss},'\\\n",
    "           f' {hms_string(epoch_elapsed)}')\n",
    "    save_images(epoch,fixed_seed)\n",
    "\n",
    "  elapsed = time.time()-start\n",
    "  print (f'Training time: {hms_string(elapsed)}')"
   ]
  },
  {
   "cell_type": "code",
   "execution_count": null,
   "id": "dec4cd74-cca1-408d-8eda-0bf8d9169495",
   "metadata": {},
   "outputs": [],
   "source": [
    "train(train_dataset, EPOCHS)"
   ]
  },
  {
   "cell_type": "code",
   "execution_count": null,
   "id": "280fd909-1a0b-49d0-8c8b-d44c13ce5fbd",
   "metadata": {},
   "outputs": [],
   "source": [
    "generator.save(os.path.join(DATA_PATH,\"face_generator.h5\"))"
   ]
  },
  {
   "cell_type": "code",
   "execution_count": null,
   "id": "28963e56-7d8e-418d-83fd-0efeb0031211",
   "metadata": {},
   "outputs": [],
   "source": []
  },
  {
   "cell_type": "code",
   "execution_count": null,
   "id": "17508536-a3c1-41c5-bea2-957b3cbbbfb5",
   "metadata": {},
   "outputs": [],
   "source": []
  },
  {
   "cell_type": "code",
   "execution_count": null,
   "id": "3591e770-0523-4824-b156-cce2581085cc",
   "metadata": {},
   "outputs": [],
   "source": []
  }
 ],
 "metadata": {
  "kernelspec": {
   "display_name": "Python 3 (ipykernel)",
   "language": "python",
   "name": "python3"
  },
  "language_info": {
   "codemirror_mode": {
    "name": "ipython",
    "version": 3
   },
   "file_extension": ".py",
   "mimetype": "text/x-python",
   "name": "python",
   "nbconvert_exporter": "python",
   "pygments_lexer": "ipython3",
   "version": "3.9.12"
  }
 },
 "nbformat": 4,
 "nbformat_minor": 5
}
