{
 "cells": [
  {
   "cell_type": "markdown",
   "metadata": {},
   "source": [
    "### Stationarity Exercise"
   ]
  },
  {
   "cell_type": "code",
   "execution_count": 96,
   "metadata": {
    "ExecuteTime": {
     "end_time": "2020-04-29T13:07:08.619172Z",
     "start_time": "2020-04-29T13:07:08.347363Z"
    }
   },
   "outputs": [],
   "source": [
    "# import matplotlib\n",
    "import matplotlib.pyplot as plt\n",
    "import pandas as pd\n",
    "import numpy as np\n",
    "\n",
    "# import random\n",
    "import random\n",
    "\n",
    "# set a random seed\n",
    "random.seed(5)"
   ]
  },
  {
   "cell_type": "markdown",
   "metadata": {},
   "source": [
    "* generate a NON stationary time-series"
   ]
  },
  {
   "cell_type": "code",
   "execution_count": 137,
   "metadata": {
    "ExecuteTime": {
     "end_time": "2020-04-29T13:07:08.793530Z",
     "start_time": "2020-04-29T13:07:08.789414Z"
    }
   },
   "outputs": [],
   "source": [
    "# data = [random.randint(0, 100) for i in range(0, 10000)]\n",
    "\n",
    "# seasonality\n",
    "time = np.arange(1000)\n",
    "values = np.where(time < 10, time**3, (time-9)**2)\n",
    "\n",
    "seasonal = []\n",
    "for i in range(10):\n",
    "    for j in range(100):\n",
    "        seasonal.append(values[j])\n",
    "        \n",
    "# noise\n",
    "noise = np.random.randn(1000)*100\n",
    "seasonal += noise\n",
    "\n",
    "# trend\n",
    "seasonal_upward = np.arange(1000)*(10 + seasonal)\n",
    "\n",
    "# plot\n",
    "time_seasonal = np.arange(1000)\n",
    "periods = [pd.period_range('2022-01-01', periods=1000, freq='D')]\n",
    "\n",
    "df = pd.DataFrame(time_seasonal * seasonal_upward, index=periods)"
   ]
  },
  {
   "cell_type": "markdown",
   "metadata": {},
   "source": [
    "* plot the NON stationary series generated above"
   ]
  },
  {
   "cell_type": "code",
   "execution_count": 138,
   "metadata": {},
   "outputs": [
    {
     "data": {
      "text/html": [
       "<div>\n",
       "<style scoped>\n",
       "    .dataframe tbody tr th:only-of-type {\n",
       "        vertical-align: middle;\n",
       "    }\n",
       "\n",
       "    .dataframe tbody tr th {\n",
       "        vertical-align: top;\n",
       "    }\n",
       "\n",
       "    .dataframe thead th {\n",
       "        text-align: right;\n",
       "    }\n",
       "</style>\n",
       "<table border=\"1\" class=\"dataframe\">\n",
       "  <thead>\n",
       "    <tr style=\"text-align: right;\">\n",
       "      <th></th>\n",
       "      <th>0</th>\n",
       "    </tr>\n",
       "  </thead>\n",
       "  <tbody>\n",
       "    <tr>\n",
       "      <th>2022-01-01</th>\n",
       "      <td>-0.000000e+00</td>\n",
       "    </tr>\n",
       "    <tr>\n",
       "      <th>2022-01-02</th>\n",
       "      <td>5.705969e+01</td>\n",
       "    </tr>\n",
       "    <tr>\n",
       "      <th>2022-01-03</th>\n",
       "      <td>6.122536e+02</td>\n",
       "    </tr>\n",
       "    <tr>\n",
       "      <th>2022-01-04</th>\n",
       "      <td>-2.881529e+02</td>\n",
       "    </tr>\n",
       "    <tr>\n",
       "      <th>2022-01-05</th>\n",
       "      <td>2.728869e+03</td>\n",
       "    </tr>\n",
       "    <tr>\n",
       "      <th>...</th>\n",
       "      <td>...</td>\n",
       "    </tr>\n",
       "    <tr>\n",
       "      <th>2024-09-22</th>\n",
       "      <td>7.323126e+09</td>\n",
       "    </tr>\n",
       "    <tr>\n",
       "      <th>2024-09-23</th>\n",
       "      <td>7.604265e+09</td>\n",
       "    </tr>\n",
       "    <tr>\n",
       "      <th>2024-09-24</th>\n",
       "      <td>7.688217e+09</td>\n",
       "    </tr>\n",
       "    <tr>\n",
       "      <th>2024-09-25</th>\n",
       "      <td>7.948028e+09</td>\n",
       "    </tr>\n",
       "    <tr>\n",
       "      <th>2024-09-26</th>\n",
       "      <td>8.129716e+09</td>\n",
       "    </tr>\n",
       "  </tbody>\n",
       "</table>\n",
       "<p>1000 rows × 1 columns</p>\n",
       "</div>"
      ],
      "text/plain": [
       "                       0\n",
       "2022-01-01 -0.000000e+00\n",
       "2022-01-02  5.705969e+01\n",
       "2022-01-03  6.122536e+02\n",
       "2022-01-04 -2.881529e+02\n",
       "2022-01-05  2.728869e+03\n",
       "...                  ...\n",
       "2024-09-22  7.323126e+09\n",
       "2024-09-23  7.604265e+09\n",
       "2024-09-24  7.688217e+09\n",
       "2024-09-25  7.948028e+09\n",
       "2024-09-26  8.129716e+09\n",
       "\n",
       "[1000 rows x 1 columns]"
      ]
     },
     "execution_count": 138,
     "metadata": {},
     "output_type": "execute_result"
    }
   ],
   "source": [
    "df"
   ]
  },
  {
   "cell_type": "code",
   "execution_count": 139,
   "metadata": {},
   "outputs": [
    {
     "data": {
      "text/plain": [
       "<Figure size 1080x720 with 0 Axes>"
      ]
     },
     "metadata": {},
     "output_type": "display_data"
    },
    {
     "data": {
      "image/png": "[encoded data removed]",
      "text/plain": [
       "<Figure size 432x288 with 1 Axes>"
      ]
     },
     "metadata": {},
     "output_type": "display_data"
    }
   ],
   "source": [
    "plt.figure(figsize=(15,10))\n",
    "df.plot()\n",
    "plt.show()"
   ]
  },
  {
   "cell_type": "markdown",
   "metadata": {},
   "source": [
    "* generate a stationary time-series"
   ]
  },
  {
   "cell_type": "code",
   "execution_count": 140,
   "metadata": {
    "ExecuteTime": {
     "end_time": "2020-04-29T13:07:09.617860Z",
     "start_time": "2020-04-29T13:07:09.613005Z"
    }
   },
   "outputs": [],
   "source": [
    "data_norm = [random.normalvariate(10, 2) for i in range(0, 1000)]\n",
    "\n",
    "df_norm = pd.DataFrame(data_norm, periods)"
   ]
  },
  {
   "cell_type": "markdown",
   "metadata": {
    "ExecuteTime": {
     "end_time": "2020-04-29T13:02:41.410367Z",
     "start_time": "2020-04-29T13:02:41.403787Z"
    }
   },
   "source": [
    "* plot the stationary series generated above"
   ]
  },
  {
   "cell_type": "code",
   "execution_count": 141,
   "metadata": {},
   "outputs": [
    {
     "data": {
      "image/png": "[encoded data removed]",
      "text/plain": [
       "<Figure size 1080x720 with 1 Axes>"
      ]
     },
     "metadata": {},
     "output_type": "display_data"
    }
   ],
   "source": [
    "plt.figure(figsize=(15,10))\n",
    "plt.hist(df_norm)\n",
    "plt.show()"
   ]
  },
  {
   "cell_type": "markdown",
   "metadata": {},
   "source": [
    "* Create a function `'ADF_Stationarity_Test'` with the input parameters `timeseries` and `significance_level` which: \n",
    "    * prints the adfuller test results\n",
    "    * prints the conclusion stating whether timeseries is stationary based on the siginificance level (input parameter of function)\n"
   ]
  },
  {
   "cell_type": "code",
   "execution_count": 142,
   "metadata": {
    "ExecuteTime": {
     "end_time": "2020-04-29T13:07:11.022255Z",
     "start_time": "2020-04-29T13:07:11.010743Z"
    }
   },
   "outputs": [],
   "source": [
    "def adf_test(timeseries, sigfig:int):\n",
    "    from statsmodels.tsa.stattools import adfuller\n",
    "    \n",
    "    result = adfuller(timeseries, regression='ctt')\n",
    "    print(f't-stat: {np.round(result[0], sigfig)}')\n",
    "    print(f'p-value: {np.round(result[1], sigfig)}')\n",
    "    print(f'crit values:')\n",
    "    for key,value in result[4].items():\n",
    "        print(f'{key} : {value}')\n",
    "        \n",
    "    if result[1] > 0.05:\n",
    "        print('The null hypothesis can be rejected. It is not stationary.')\n",
    "    else:\n",
    "        print('The null hypothesis cannot be rejected. It is stationary.')"
   ]
  },
  {
   "cell_type": "markdown",
   "metadata": {},
   "source": [
    "* Apply the function `'ADF_Stationarity_Test'` to find out whether the timeseries generated above are stationary."
   ]
  },
  {
   "cell_type": "code",
   "execution_count": 143,
   "metadata": {
    "ExecuteTime": {
     "end_time": "2020-04-29T13:07:11.132517Z",
     "start_time": "2020-04-29T13:07:11.096792Z"
    }
   },
   "outputs": [
    {
     "name": "stdout",
     "output_type": "stream",
     "text": [
      "t-stat: -3.62666\n",
      "p-value: 0.08416\n",
      "crit values:\n",
      "1% : -4.382766025596549\n",
      "5% : -3.8383142452686947\n",
      "10% : -3.5569286306152224\n",
      "The null hypothesis can be rejected. It is not stationary.\n",
      "t-stat: -14.37898\n",
      "p-value: 0.0\n",
      "crit values:\n",
      "1% : -4.382801184324198\n",
      "5% : -3.838332127908256\n",
      "10% : -3.5569396971160314\n",
      "The null hypothesis cannot be rejected. It is stationary.\n"
     ]
    }
   ],
   "source": [
    "adf_test(df, 5)\n",
    "adf_test(df_norm, 5)"
   ]
  },
  {
   "cell_type": "markdown",
   "metadata": {},
   "source": [
    "* Apply a suitable transformation to make the NON stationary time series stationary."
   ]
  },
  {
   "cell_type": "code",
   "execution_count": 154,
   "metadata": {
    "ExecuteTime": {
     "end_time": "2020-04-29T13:07:11.747926Z",
     "start_time": "2020-04-29T13:07:11.743645Z"
    }
   },
   "outputs": [],
   "source": [
    "df_log = np.log(df)\n"
   ]
  },
  {
   "cell_type": "code",
   "execution_count": 156,
   "metadata": {},
   "outputs": [
    {
     "data": {
      "image/png": "[encoded data removed]",
      "text/plain": [
       "<Figure size 432x288 with 1 Axes>"
      ]
     },
     "metadata": {},
     "output_type": "display_data"
    }
   ],
   "source": [
    "df_log.plot()\n",
    "plt.show()"
   ]
  },
  {
   "cell_type": "markdown",
   "metadata": {},
   "source": [
    "* plot the transformed time series"
   ]
  },
  {
   "cell_type": "markdown",
   "metadata": {},
   "source": [
    "* Apply the function `'ADF_Stationarity_Test'` to find out whether the transformed timeseries is stationary."
   ]
  },
  {
   "cell_type": "code",
   "execution_count": 157,
   "metadata": {
    "ExecuteTime": {
     "end_time": "2020-04-29T13:07:12.324715Z",
     "start_time": "2020-04-29T13:07:12.093597Z"
    }
   },
   "outputs": [
    {
     "name": "stdout",
     "output_type": "stream",
     "text": [
      "t-stat: -6.25502\n",
      "p-value: 0.0\n",
      "crit values:\n",
      "1% : -4.383768617786584\n",
      "5% : -3.8388241476483524\n",
      "10% : -3.5572441612545718\n",
      "The null hypothesis cannot be rejected. It is stationary.\n"
     ]
    }
   ],
   "source": [
    "adf_test(df_log, 5)"
   ]
  }
 ],
 "metadata": {
  "kernelspec": {
   "display_name": "Python 3.8.13 ('lighthouse')",
   "language": "python",
   "name": "python3"
  },
  "language_info": {
   "codemirror_mode": {
    "name": "ipython",
    "version": 3
   },
   "file_extension": ".py",
   "mimetype": "text/x-python",
   "name": "python",
   "nbconvert_exporter": "python",
   "pygments_lexer": "ipython3",
   "version": "3.8.13"
  },
  "toc": {
   "base_numbering": 1,
   "nav_menu": {},
   "number_sections": true,
   "sideBar": true,
   "skip_h1_title": false,
   "title_cell": "Table of Contents",
   "title_sidebar": "Contents",
   "toc_cell": false,
   "toc_position": {},
   "toc_section_display": true,
   "toc_window_display": false
  },
  "varInspector": {
   "cols": {
    "lenName": 16,
    "lenType": 16,
    "lenVar": 40
   },
   "kernels_config": {
    "python": {
     "delete_cmd_postfix": "",
     "delete_cmd_prefix": "del ",
     "library": "var_list.py",
     "varRefreshCmd": "print(var_dic_list())"
    },
    "r": {
     "delete_cmd_postfix": ") ",
     "delete_cmd_prefix": "rm(",
     "library": "var_list.r",
     "varRefreshCmd": "cat(var_dic_list()) "
    }
   },
   "types_to_exclude": [
    "module",
    "function",
    "builtin_function_or_method",
    "instance",
    "_Feature"
   ],
   "window_display": false
  },
  "vscode": {
   "interpreter": {
    "hash": "f6bdb6bebcaa6c165db367a86e382ae8df75f09257c40532b854029e0e3d706f"
   }
  }
 },
 "nbformat": 4,
 "nbformat_minor": 4
}
