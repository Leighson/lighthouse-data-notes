{
 "cells": [
  {
   "cell_type": "markdown",
   "metadata": {},
   "source": [
    "## MongoDB"
   ]
  },
  {
   "cell_type": "code",
   "execution_count": 1,
   "metadata": {},
   "outputs": [],
   "source": [
    "import pymongo\n",
    "\n",
    "from pymongo import MongoClient"
   ]
  },
  {
   "cell_type": "markdown",
   "metadata": {},
   "source": [
    "## Establishing a Connection"
   ]
  },
  {
   "cell_type": "code",
   "execution_count": 2,
   "metadata": {},
   "outputs": [
    {
     "data": {
      "text/plain": [
       "MongoClient(host=['localhost:27017'], document_class=dict, tz_aware=False, connect=True)"
      ]
     },
     "execution_count": 2,
     "metadata": {},
     "output_type": "execute_result"
    }
   ],
   "source": [
    "client = MongoClient()\n",
    "client"
   ]
  },
  {
   "cell_type": "markdown",
   "metadata": {},
   "source": [
    "## Working with Databases, Collections, and Documents"
   ]
  },
  {
   "cell_type": "code",
   "execution_count": 3,
   "metadata": {},
   "outputs": [],
   "source": [
    "db = client.rptutorials"
   ]
  },
  {
   "cell_type": "code",
   "execution_count": 4,
   "metadata": {},
   "outputs": [
    {
     "data": {
      "text/plain": [
       "Database(MongoClient(host=['localhost:27017'], document_class=dict, tz_aware=False, connect=True), 'rptutorials')"
      ]
     },
     "execution_count": 4,
     "metadata": {},
     "output_type": "execute_result"
    }
   ],
   "source": [
    "db"
   ]
  },
  {
   "cell_type": "code",
   "execution_count": 5,
   "metadata": {},
   "outputs": [],
   "source": [
    "db = client['rptutorials']"
   ]
  },
  {
   "cell_type": "markdown",
   "metadata": {},
   "source": [
    "*_NOTE_*: When you use the `mongo` shell, you have access to the database through the `db` global object. When you use `pymongo`, you can assign the database to the variable called `db` to get similar behaviour."
   ]
  },
  {
   "cell_type": "code",
   "execution_count": 6,
   "metadata": {},
   "outputs": [],
   "source": [
    "tutorial1 = {\n",
    "    \"title\" : \"Working With JSON Data in Python\",\n",
    "    \"author\" : \"Lucas\",\n",
    "    \"contributors\" : [\n",
    "        \"Aldren\",\n",
    "        \"Dan\",\n",
    "        \"Joanna\"\n",
    "    ],\n",
    "    \"url\" : \"https://realpython.com/python-json/\"\n",
    "}"
   ]
  },
  {
   "cell_type": "code",
   "execution_count": 7,
   "metadata": {},
   "outputs": [
    {
     "data": {
      "text/plain": [
       "Collection(Database(MongoClient(host=['localhost:27017'], document_class=dict, tz_aware=False, connect=True), 'rptutorials'), 'tutorial')"
      ]
     },
     "execution_count": 7,
     "metadata": {},
     "output_type": "execute_result"
    }
   ],
   "source": [
    "tutorial = db.tutorial\n",
    "tutorial"
   ]
  },
  {
   "cell_type": "code",
   "execution_count": 8,
   "metadata": {},
   "outputs": [
    {
     "data": {
      "text/plain": [
       "<pymongo.results.InsertOneResult at 0x124c31a60>"
      ]
     },
     "execution_count": 8,
     "metadata": {},
     "output_type": "execute_result"
    }
   ],
   "source": [
    "result = tutorial.insert_one(tutorial1)\n",
    "result"
   ]
  },
  {
   "cell_type": "markdown",
   "metadata": {},
   "source": [
    "In this case, `tutorial` is an instance of `Collection` and represents a physical collection of documents in your database. You can insert documents into tutorial by calling `.insert_one()` on it with a document as an argument."
   ]
  },
  {
   "cell_type": "code",
   "execution_count": 9,
   "metadata": {},
   "outputs": [
    {
     "name": "stdout",
     "output_type": "stream",
     "text": [
      "One tutorial: 6286ae480a31df0bdf40a239\n"
     ]
    }
   ],
   "source": [
    "print(f'One tutorial: {result.inserted_id}')"
   ]
  },
  {
   "cell_type": "markdown",
   "metadata": {},
   "source": [
    "Here, `insert_one()` takes `tutorial1`, inserts it into the `tutorial` collection and returns an `InsertOneResult` object. The object provides feedback on the inserted document. Note that since MongoDB generates the OBjectId dynamically, your output won't match the ObjectId shown above."
   ]
  },
  {
   "cell_type": "code",
   "execution_count": 10,
   "metadata": {},
   "outputs": [],
   "source": [
    "tutorial2 = {\n",
    "    \"title\" : \"Python's Requests Library (Guide)\",\n",
    "    \"author\" : \"Alex\",\n",
    "    \"contributors\" : [\n",
    "        \"Aldren\",\n",
    "        \"Brad\",\n",
    "        \"Joanna\"\n",
    "    ],\n",
    "    \"url\" : \"https://realpython.com/python-requests/\"\n",
    "}\n",
    "\n",
    "tutorial3 = {\n",
    "    \"title\" : \"Object-Oriented Programming (OOP) in Python 3\",\n",
    "    \"author\": \"David\",\n",
    "    \"contributors\": [\n",
    "        \"Aldren\",\n",
    "        \"Joanna\",\n",
    "        \"Jacob\"\n",
    "        ],\n",
    "    \"url\": \"https://realpython.com/python3-object-oriented-programming/\"\n",
    "}"
   ]
  },
  {
   "cell_type": "code",
   "execution_count": 11,
   "metadata": {},
   "outputs": [],
   "source": [
    "new_result = tutorial.insert_many([tutorial2, tutorial3])"
   ]
  },
  {
   "cell_type": "code",
   "execution_count": 12,
   "metadata": {},
   "outputs": [
    {
     "name": "stdout",
     "output_type": "stream",
     "text": [
      "Multiple tutorials: [ObjectId('6286ae480a31df0bdf40a23a'), ObjectId('6286ae480a31df0bdf40a23b')]\n"
     ]
    }
   ],
   "source": [
    "print(f'Multiple tutorials: {new_result.inserted_ids}')"
   ]
  },
  {
   "cell_type": "markdown",
   "metadata": {},
   "source": [
    "The call to `.insert_many()` takes an iterable of documents and inserts them into the `tutorial` collection in your `rptutorials` database. The method returns an instance of `InsertManyResult`, which provides information on the inserted documents."
   ]
  },
  {
   "cell_type": "code",
   "execution_count": 13,
   "metadata": {},
   "outputs": [],
   "source": [
    "from pprint import pprint"
   ]
  },
  {
   "cell_type": "code",
   "execution_count": 14,
   "metadata": {},
   "outputs": [
    {
     "name": "stdout",
     "output_type": "stream",
     "text": [
      "{'_id': ObjectId('62869a48be2eb911c3d96219'),\n",
      " 'author': 'Jon',\n",
      " 'contributors': ['Aldren', 'Geir Arne', 'Joanna', 'Jason'],\n",
      " 'title': 'Reading and Writing CSV Files in Python',\n",
      " 'url': 'https://realpython.com/python-csv/'}\n",
      "{'_id': ObjectId('62869b49be2eb911c3d9621a'),\n",
      " 'author': 'Leodanis',\n",
      " 'contributors': ['Aldren', 'Jim', 'Joanna'],\n",
      " 'title': 'How to Iterate Through a Dictionary in Python',\n",
      " 'url': 'https://realpython.com/iterate-through-dictionary-python/'}\n",
      "{'_id': ObjectId('62869b49be2eb911c3d9621b'),\n",
      " 'author': 'Joanna',\n",
      " 'contributors': ['Adrianna', 'David', 'Dan', 'Jim', 'Pavel'],\n",
      " 'title': \"Python 3's f-Strings: An Improved String Formatting Syntax\",\n",
      " 'url': 'https://realpython.com/python-f-strings/'}\n",
      "{'_id': ObjectId('62869ded2c4da9a620f36cc9'),\n",
      " 'author': 'Lucas',\n",
      " 'contributors': ['Aldren', 'Dan', 'Joanna'],\n",
      " 'title': 'Working With JSON Data in Python',\n",
      " 'url': 'https://realpython.com/python-json/'}\n",
      "{'_id': ObjectId('62869e052c4da9a620f36ccb'),\n",
      " 'author': 'Lucas',\n",
      " 'contributors': ['Aldren', 'Dan', 'Joanna'],\n",
      " 'title': 'Working With JSON Data in Python',\n",
      " 'url': 'https://realpython.com/python-json/'}\n",
      "{'_id': ObjectId('62869f992c4da9a620f36ccc'),\n",
      " 'author': 'Alex',\n",
      " 'contributors': ['Aldren', 'Brad', 'Joanna'],\n",
      " 'title': \"Python's Requests Library (Guide)\",\n",
      " 'url': 'https://realpython.com/python-requests/'}\n",
      "{'_id': ObjectId('62869f992c4da9a620f36ccd'),\n",
      " 'author': 'David',\n",
      " 'contributors': ['Aldren', 'Joanna', 'Jacob'],\n",
      " 'title': 'Object-Oriented Programming (OOP) in Python 3',\n",
      " 'url': 'https://realpython.com/python3-object-oriented-programming/'}\n",
      "{'_id': ObjectId('6286a9bb2c4da9a620f36cd0'),\n",
      " 'author': 'Lucas',\n",
      " 'contributors': ['Aldren', 'Dan', 'Joanna'],\n",
      " 'title': 'Working With JSON Data in Python',\n",
      " 'url': 'https://realpython.com/python-json/'}\n",
      "{'_id': ObjectId('6286a9bb2c4da9a620f36cd1'),\n",
      " 'author': 'Alex',\n",
      " 'contributors': ['Aldren', 'Brad', 'Joanna'],\n",
      " 'title': \"Python's Requests Library (Guide)\",\n",
      " 'url': 'https://realpython.com/python-requests/'}\n",
      "{'_id': ObjectId('6286a9bb2c4da9a620f36cd2'),\n",
      " 'author': 'David',\n",
      " 'contributors': ['Aldren', 'Joanna', 'Jacob'],\n",
      " 'title': 'Object-Oriented Programming (OOP) in Python 3',\n",
      " 'url': 'https://realpython.com/python3-object-oriented-programming/'}\n",
      "{'_id': ObjectId('6286a9c32c4da9a620f36cd5'),\n",
      " 'author': 'Lucas',\n",
      " 'contributors': ['Aldren', 'Dan', 'Joanna'],\n",
      " 'title': 'Working With JSON Data in Python',\n",
      " 'url': 'https://realpython.com/python-json/'}\n",
      "{'_id': ObjectId('6286a9c32c4da9a620f36cd6'),\n",
      " 'author': 'Alex',\n",
      " 'contributors': ['Aldren', 'Brad', 'Joanna'],\n",
      " 'title': \"Python's Requests Library (Guide)\",\n",
      " 'url': 'https://realpython.com/python-requests/'}\n",
      "{'_id': ObjectId('6286a9c32c4da9a620f36cd7'),\n",
      " 'author': 'David',\n",
      " 'contributors': ['Aldren', 'Joanna', 'Jacob'],\n",
      " 'title': 'Object-Oriented Programming (OOP) in Python 3',\n",
      " 'url': 'https://realpython.com/python3-object-oriented-programming/'}\n",
      "{'_id': ObjectId('6286ae480a31df0bdf40a239'),\n",
      " 'author': 'Lucas',\n",
      " 'contributors': ['Aldren', 'Dan', 'Joanna'],\n",
      " 'title': 'Working With JSON Data in Python',\n",
      " 'url': 'https://realpython.com/python-json/'}\n",
      "{'_id': ObjectId('6286ae480a31df0bdf40a23a'),\n",
      " 'author': 'Alex',\n",
      " 'contributors': ['Aldren', 'Brad', 'Joanna'],\n",
      " 'title': \"Python's Requests Library (Guide)\",\n",
      " 'url': 'https://realpython.com/python-requests/'}\n",
      "{'_id': ObjectId('6286ae480a31df0bdf40a23b'),\n",
      " 'author': 'David',\n",
      " 'contributors': ['Aldren', 'Joanna', 'Jacob'],\n",
      " 'title': 'Object-Oriented Programming (OOP) in Python 3',\n",
      " 'url': 'https://realpython.com/python3-object-oriented-programming/'}\n"
     ]
    }
   ],
   "source": [
    "for doc in tutorial.find():\n",
    "    pprint(doc)"
   ]
  },
  {
   "cell_type": "markdown",
   "metadata": {},
   "source": [
    "To retrieve documents from a collection, you can use `.find()`. Without arguments, `.find()` returns a `Cursor` object that `yields` the documents in the collection on demand.\n",
    "\n",
    "You can use a dictionary that contains fields to retrive specific documents instead."
   ]
  },
  {
   "cell_type": "code",
   "execution_count": 15,
   "metadata": {},
   "outputs": [
    {
     "name": "stdout",
     "output_type": "stream",
     "text": [
      "{'_id': ObjectId('62869a48be2eb911c3d96219'),\n",
      " 'author': 'Jon',\n",
      " 'contributors': ['Aldren', 'Geir Arne', 'Joanna', 'Jason'],\n",
      " 'title': 'Reading and Writing CSV Files in Python',\n",
      " 'url': 'https://realpython.com/python-csv/'}\n"
     ]
    }
   ],
   "source": [
    "jon_tutorial = tutorial.find_one({'author' : 'Jon'})\n",
    "pprint(jon_tutorial)"
   ]
  },
  {
   "cell_type": "markdown",
   "metadata": {},
   "source": [
    "## Closing Connections"
   ]
  },
  {
   "cell_type": "markdown",
   "metadata": {},
   "source": [
    "Establishing a connection to a `MongoDB` database is typically an expensive operation. If you have an application that constantly retries and manipulates data in a `MongoDB` database, then you probably don't want to be opening and closing the connection all the time since this might affect your application's performance.\n",
    "\n",
    "In this kind of situation, you should keep your connection alive and only close it before existing the application to clear all the acquired resources."
   ]
  },
  {
   "cell_type": "code",
   "execution_count": 16,
   "metadata": {},
   "outputs": [],
   "source": [
    "client.close()"
   ]
  },
  {
   "cell_type": "markdown",
   "metadata": {},
   "source": [
    "Another situation is when you have an application that occasionally uses a `MongoDB` database. In this case, you might want to open the connection when needed and close it immediately after use for freeing the acquired resources. A  consistent approach to this problem would be to use the `with` statement."
   ]
  },
  {
   "cell_type": "code",
   "execution_count": 17,
   "metadata": {},
   "outputs": [
    {
     "name": "stdout",
     "output_type": "stream",
     "text": [
      "{'_id': ObjectId('62869a48be2eb911c3d96219'),\n",
      " 'author': 'Jon',\n",
      " 'contributors': ['Aldren', 'Geir Arne', 'Joanna', 'Jason'],\n",
      " 'title': 'Reading and Writing CSV Files in Python',\n",
      " 'url': 'https://realpython.com/python-csv/'}\n",
      "{'_id': ObjectId('62869b49be2eb911c3d9621a'),\n",
      " 'author': 'Leodanis',\n",
      " 'contributors': ['Aldren', 'Jim', 'Joanna'],\n",
      " 'title': 'How to Iterate Through a Dictionary in Python',\n",
      " 'url': 'https://realpython.com/iterate-through-dictionary-python/'}\n",
      "{'_id': ObjectId('62869b49be2eb911c3d9621b'),\n",
      " 'author': 'Joanna',\n",
      " 'contributors': ['Adrianna', 'David', 'Dan', 'Jim', 'Pavel'],\n",
      " 'title': \"Python 3's f-Strings: An Improved String Formatting Syntax\",\n",
      " 'url': 'https://realpython.com/python-f-strings/'}\n",
      "{'_id': ObjectId('62869ded2c4da9a620f36cc9'),\n",
      " 'author': 'Lucas',\n",
      " 'contributors': ['Aldren', 'Dan', 'Joanna'],\n",
      " 'title': 'Working With JSON Data in Python',\n",
      " 'url': 'https://realpython.com/python-json/'}\n",
      "{'_id': ObjectId('62869e052c4da9a620f36ccb'),\n",
      " 'author': 'Lucas',\n",
      " 'contributors': ['Aldren', 'Dan', 'Joanna'],\n",
      " 'title': 'Working With JSON Data in Python',\n",
      " 'url': 'https://realpython.com/python-json/'}\n",
      "{'_id': ObjectId('62869f992c4da9a620f36ccc'),\n",
      " 'author': 'Alex',\n",
      " 'contributors': ['Aldren', 'Brad', 'Joanna'],\n",
      " 'title': \"Python's Requests Library (Guide)\",\n",
      " 'url': 'https://realpython.com/python-requests/'}\n",
      "{'_id': ObjectId('62869f992c4da9a620f36ccd'),\n",
      " 'author': 'David',\n",
      " 'contributors': ['Aldren', 'Joanna', 'Jacob'],\n",
      " 'title': 'Object-Oriented Programming (OOP) in Python 3',\n",
      " 'url': 'https://realpython.com/python3-object-oriented-programming/'}\n",
      "{'_id': ObjectId('6286a9bb2c4da9a620f36cd0'),\n",
      " 'author': 'Lucas',\n",
      " 'contributors': ['Aldren', 'Dan', 'Joanna'],\n",
      " 'title': 'Working With JSON Data in Python',\n",
      " 'url': 'https://realpython.com/python-json/'}\n",
      "{'_id': ObjectId('6286a9bb2c4da9a620f36cd1'),\n",
      " 'author': 'Alex',\n",
      " 'contributors': ['Aldren', 'Brad', 'Joanna'],\n",
      " 'title': \"Python's Requests Library (Guide)\",\n",
      " 'url': 'https://realpython.com/python-requests/'}\n",
      "{'_id': ObjectId('6286a9bb2c4da9a620f36cd2'),\n",
      " 'author': 'David',\n",
      " 'contributors': ['Aldren', 'Joanna', 'Jacob'],\n",
      " 'title': 'Object-Oriented Programming (OOP) in Python 3',\n",
      " 'url': 'https://realpython.com/python3-object-oriented-programming/'}\n",
      "{'_id': ObjectId('6286a9c32c4da9a620f36cd5'),\n",
      " 'author': 'Lucas',\n",
      " 'contributors': ['Aldren', 'Dan', 'Joanna'],\n",
      " 'title': 'Working With JSON Data in Python',\n",
      " 'url': 'https://realpython.com/python-json/'}\n",
      "{'_id': ObjectId('6286a9c32c4da9a620f36cd6'),\n",
      " 'author': 'Alex',\n",
      " 'contributors': ['Aldren', 'Brad', 'Joanna'],\n",
      " 'title': \"Python's Requests Library (Guide)\",\n",
      " 'url': 'https://realpython.com/python-requests/'}\n",
      "{'_id': ObjectId('6286a9c32c4da9a620f36cd7'),\n",
      " 'author': 'David',\n",
      " 'contributors': ['Aldren', 'Joanna', 'Jacob'],\n",
      " 'title': 'Object-Oriented Programming (OOP) in Python 3',\n",
      " 'url': 'https://realpython.com/python3-object-oriented-programming/'}\n",
      "{'_id': ObjectId('6286ae480a31df0bdf40a239'),\n",
      " 'author': 'Lucas',\n",
      " 'contributors': ['Aldren', 'Dan', 'Joanna'],\n",
      " 'title': 'Working With JSON Data in Python',\n",
      " 'url': 'https://realpython.com/python-json/'}\n",
      "{'_id': ObjectId('6286ae480a31df0bdf40a23a'),\n",
      " 'author': 'Alex',\n",
      " 'contributors': ['Aldren', 'Brad', 'Joanna'],\n",
      " 'title': \"Python's Requests Library (Guide)\",\n",
      " 'url': 'https://realpython.com/python-requests/'}\n",
      "{'_id': ObjectId('6286ae480a31df0bdf40a23b'),\n",
      " 'author': 'David',\n",
      " 'contributors': ['Aldren', 'Joanna', 'Jacob'],\n",
      " 'title': 'Object-Oriented Programming (OOP) in Python 3',\n",
      " 'url': 'https://realpython.com/python3-object-oriented-programming/'}\n"
     ]
    }
   ],
   "source": [
    "with MongoClient() as client:\n",
    "    \n",
    "    db = client.rptutorials\n",
    "    \n",
    "    for doc in db.tutorial.find():\n",
    "        pprint(doc)"
   ]
  },
  {
   "cell_type": "markdown",
   "metadata": {},
   "source": [
    "At the end of the `with` code block, the client's `.__exit__()` method gets called, which at the same time closes the connection by calling `.close()`."
   ]
  },
  {
   "cell_type": "markdown",
   "metadata": {},
   "source": [
    "## Using MongoDB with Python and MongoEngine"
   ]
  },
  {
   "cell_type": "markdown",
   "metadata": {},
   "source": [
    "While `PyMongo` is powerful for interfacing with MongoDB, it may not be high-level enough for more complex projects. One library that provides a higher abstraction on top of PyMongo is `MongoEngine`. This is an _object-document mapper_ (ODM), which is roughly equivalent to an SQL-based _object-relational mapper_ (ORM). `MongoEngine` provides a class-based abstraction, so all the models you create are classes."
   ]
  },
  {
   "cell_type": "code",
   "execution_count": 20,
   "metadata": {},
   "outputs": [
    {
     "data": {
      "text/plain": [
       "MongoClient(host=['localhost:27017'], document_class=dict, tz_aware=False, connect=True, read_preference=Primary(), uuidrepresentation=3)"
      ]
     },
     "execution_count": 20,
     "metadata": {},
     "output_type": "execute_result"
    }
   ],
   "source": [
    "from mongoengine import connect, Document, ListField, StringField, URLField\n",
    "connect(db='rptutorials', host='localhost', port=27017)"
   ]
  },
  {
   "cell_type": "markdown",
   "metadata": {},
   "source": [
    "To create documents with `MongoEngine`, you first need to define what data you want the documents to have--otherwise known as the _document schema_. `MongoEngine` encourages you to define a document schema to help you reduce coding errors and to allow you to define utility or helper methods."
   ]
  },
  {
   "cell_type": "markdown",
   "metadata": {},
   "source": [
    "Similar to ORMs, ODMs like `MonogEngine` provide a base or model class for you to define a document schema. In ORMs, that class is equivalent to a table, and its instances are equivalent to rows."
   ]
  },
  {
   "cell_type": "code",
   "execution_count": 21,
   "metadata": {},
   "outputs": [],
   "source": [
    "class Tutorial(Document):\n",
    "    title = StringField(required=True, max_length=70)\n",
    "    author = StringField(required=True, max_length=20)\n",
    "    contributors = ListField(StringField(mx_length=20))\n",
    "    url = URLField(required=True)"
   ]
  },
  {
   "cell_type": "markdown",
   "metadata": {},
   "source": [
    "With this model, you tell `MongoEngine` that you expect a `Tutorial` document to have a`.title`, an `.author`, a list of `.contributors`, and a `.url`. The bass class, Document, uses that information along with the field types to validate the input data for you."
   ]
  },
  {
   "cell_type": "markdown",
   "metadata": {},
   "source": [
    "> *_Note_*: One of the more difficult tasks with database models is **data validation**. How do you make sure that the input data conforms to your format requirements? That's one of the reasons for you to have a coherent and uniform document schema.\n",
    ">\n",
    ">`MongoDB` is said to be a schemaless database, but that doesn't mean it's schema-free. Having documents with a different schema within the same collection can lead to processing errors and inconsistent behaviour."
   ]
  },
  {
   "cell_type": "markdown",
   "metadata": {},
   "source": [
    "Now, if you try a save a `Tutorial` object without a `.title`, then your model throws an exception and lets you know. You can take this even further and add more restrictions, such as the length of the `.title`, and so on.\n",
    "\n",
    "Here are some of those parameters:\n",
    "- `db-field` specifies a different field name\n",
    "- `required` ensures that the field is provided\n",
    "- `default` provides a default value for a given field if no value is given\n",
    "- `unique` ensures that no other document in the collection has the same value for this field"
   ]
  },
  {
   "cell_type": "markdown",
   "metadata": {},
   "source": [
    "> Each specific field type also has its own set of parameters."
   ]
  },
  {
   "cell_type": "markdown",
   "metadata": {},
   "source": [
    "To save a document to your database, you need to call `.save()` on a document object. If the document already exists, then all the changes will be applied to the existing document. If the document doesn't exist, then it'll be created."
   ]
  },
  {
   "cell_type": "code",
   "execution_count": 22,
   "metadata": {},
   "outputs": [],
   "source": [
    "tutorial1 = Tutorial(\n",
    "    title = 'Beatiful Soup: Build a Web Scraper with Python',\n",
    "    author = 'Martin',\n",
    "    contributors = [\n",
    "        'Aldren',\n",
    "        'Geir Arne',\n",
    "        'Jaya',\n",
    "        'Joanna',\n",
    "        'Mike'\n",
    "    ],\n",
    "    url = 'https://realpython.com/beautiful-soup-web-scraper-python'\n",
    ")"
   ]
  },
  {
   "cell_type": "code",
   "execution_count": 23,
   "metadata": {},
   "outputs": [
    {
     "data": {
      "text/plain": [
       "<Tutorial: Tutorial object>"
      ]
     },
     "execution_count": 23,
     "metadata": {},
     "output_type": "execute_result"
    }
   ],
   "source": [
    "# insert the new tutorial\n",
    "tutorial1.save()"
   ]
  },
  {
   "cell_type": "markdown",
   "metadata": {},
   "source": [
    "By default, `.save()` inserts the new document into a collection named after the model class `Tutorial`, except using lowercase letters. In this case, the collection name is `tutorial`, which matches the collection you've been using to save the other tutorials.\n",
    "\n",
    "`PyMongo` performs **data validation** when you call `.save()`. This means that it checks the input data against data against the schema you declared in the `Tutorial` model class. If the input data violates the schema or any of its constraints, then you get an exception, and the data isn't saved into the database."
   ]
  },
  {
   "cell_type": "code",
   "execution_count": 26,
   "metadata": {},
   "outputs": [
    {
     "ename": "ValidationError",
     "evalue": "ValidationError (Tutorial:None) (Field is required: ['title'])",
     "output_type": "error",
     "traceback": [
      "\u001b[0;31m---------------------------------------------------------------------------\u001b[0m",
      "\u001b[0;31mValidationError\u001b[0m                           Traceback (most recent call last)",
      "\u001b[1;32m/Users/lsantos/Documents/lighthouse-data-notes/week_7/day_3/walkthrough_mongodb.ipynb Cell 44'\u001b[0m in \u001b[0;36m<cell line: 6>\u001b[0;34m()\u001b[0m\n\u001b[1;32m      <a href='vscode-notebook-cell:/Users/lsantos/Documents/lighthouse-data-notes/week_7/day_3/walkthrough_mongodb.ipynb#ch0000072?line=3'>4</a>\u001b[0m tutorial2\u001b[39m.\u001b[39mcontributors \u001b[39m=\u001b[39m [\u001b[39m\"\u001b[39m\u001b[39mAldren\u001b[39m\u001b[39m\"\u001b[39m, \u001b[39m\"\u001b[39m\u001b[39mJon\u001b[39m\u001b[39m\"\u001b[39m, \u001b[39m\"\u001b[39m\u001b[39mJoanna\u001b[39m\u001b[39m\"\u001b[39m]\n\u001b[1;32m      <a href='vscode-notebook-cell:/Users/lsantos/Documents/lighthouse-data-notes/week_7/day_3/walkthrough_mongodb.ipynb#ch0000072?line=4'>5</a>\u001b[0m tutorial2\u001b[39m.\u001b[39murl \u001b[39m=\u001b[39m \u001b[39m\"\u001b[39m\u001b[39mhttps://realpython.com/convert-python-string-to-int/\u001b[39m\u001b[39m\"\u001b[39m\n\u001b[0;32m----> <a href='vscode-notebook-cell:/Users/lsantos/Documents/lighthouse-data-notes/week_7/day_3/walkthrough_mongodb.ipynb#ch0000072?line=5'>6</a>\u001b[0m tutorial2\u001b[39m.\u001b[39;49msave()\n",
      "File \u001b[0;32m/opt/homebrew/Caskroom/miniforge/base/envs/lighthouse/lib/python3.8/site-packages/mongoengine/document.py:396\u001b[0m, in \u001b[0;36mDocument.save\u001b[0;34m(self, force_insert, validate, clean, write_concern, cascade, cascade_kwargs, _refs, save_condition, signal_kwargs, **kwargs)\u001b[0m\n\u001b[1;32m    <a href='file:///opt/homebrew/Caskroom/miniforge/base/envs/lighthouse/lib/python3.8/site-packages/mongoengine/document.py?line=392'>393</a>\u001b[0m signals\u001b[39m.\u001b[39mpre_save\u001b[39m.\u001b[39msend(\u001b[39mself\u001b[39m\u001b[39m.\u001b[39m\u001b[39m__class__\u001b[39m, document\u001b[39m=\u001b[39m\u001b[39mself\u001b[39m, \u001b[39m*\u001b[39m\u001b[39m*\u001b[39msignal_kwargs)\n\u001b[1;32m    <a href='file:///opt/homebrew/Caskroom/miniforge/base/envs/lighthouse/lib/python3.8/site-packages/mongoengine/document.py?line=394'>395</a>\u001b[0m \u001b[39mif\u001b[39;00m validate:\n\u001b[0;32m--> <a href='file:///opt/homebrew/Caskroom/miniforge/base/envs/lighthouse/lib/python3.8/site-packages/mongoengine/document.py?line=395'>396</a>\u001b[0m     \u001b[39mself\u001b[39;49m\u001b[39m.\u001b[39;49mvalidate(clean\u001b[39m=\u001b[39;49mclean)\n\u001b[1;32m    <a href='file:///opt/homebrew/Caskroom/miniforge/base/envs/lighthouse/lib/python3.8/site-packages/mongoengine/document.py?line=397'>398</a>\u001b[0m \u001b[39mif\u001b[39;00m write_concern \u001b[39mis\u001b[39;00m \u001b[39mNone\u001b[39;00m:\n\u001b[1;32m    <a href='file:///opt/homebrew/Caskroom/miniforge/base/envs/lighthouse/lib/python3.8/site-packages/mongoengine/document.py?line=398'>399</a>\u001b[0m     write_concern \u001b[39m=\u001b[39m {}\n",
      "File \u001b[0;32m/opt/homebrew/Caskroom/miniforge/base/envs/lighthouse/lib/python3.8/site-packages/mongoengine/base/document.py:439\u001b[0m, in \u001b[0;36mBaseDocument.validate\u001b[0;34m(self, clean)\u001b[0m\n\u001b[1;32m    <a href='file:///opt/homebrew/Caskroom/miniforge/base/envs/lighthouse/lib/python3.8/site-packages/mongoengine/base/document.py?line=436'>437</a>\u001b[0m     pk \u001b[39m=\u001b[39m \u001b[39mself\u001b[39m\u001b[39m.\u001b[39m_instance\u001b[39m.\u001b[39mpk\n\u001b[1;32m    <a href='file:///opt/homebrew/Caskroom/miniforge/base/envs/lighthouse/lib/python3.8/site-packages/mongoengine/base/document.py?line=437'>438</a>\u001b[0m message \u001b[39m=\u001b[39m \u001b[39mf\u001b[39m\u001b[39m\"\u001b[39m\u001b[39mValidationError (\u001b[39m\u001b[39m{\u001b[39;00m\u001b[39mself\u001b[39m\u001b[39m.\u001b[39m_class_name\u001b[39m}\u001b[39;00m\u001b[39m:\u001b[39m\u001b[39m{\u001b[39;00mpk\u001b[39m}\u001b[39;00m\u001b[39m) \u001b[39m\u001b[39m\"\u001b[39m\n\u001b[0;32m--> <a href='file:///opt/homebrew/Caskroom/miniforge/base/envs/lighthouse/lib/python3.8/site-packages/mongoengine/base/document.py?line=438'>439</a>\u001b[0m \u001b[39mraise\u001b[39;00m ValidationError(message, errors\u001b[39m=\u001b[39merrors)\n",
      "\u001b[0;31mValidationError\u001b[0m: ValidationError (Tutorial:None) (Field is required: ['title'])"
     ]
    }
   ],
   "source": [
    "# tutorial2 does not specify the field `title`` but the class `Tutorial`` requires it\n",
    "tutorial2 = Tutorial()\n",
    "tutorial2.author = \"Alex\"\n",
    "tutorial2.contributors = [\"Aldren\", \"Jon\", \"Joanna\"]\n",
    "tutorial2.url = \"https://realpython.com/convert-python-string-to-int/\"\n",
    "tutorial2.save()"
   ]
  },
  {
   "cell_type": "markdown",
   "metadata": {},
   "source": [
    "Each Document subclass has an `.objects` attribute that you can use to access the documents in the associated collection."
   ]
  },
  {
   "cell_type": "code",
   "execution_count": 27,
   "metadata": {},
   "outputs": [
    {
     "name": "stdout",
     "output_type": "stream",
     "text": [
      "Reading and Writing CSV Files in Python\n",
      "How to Iterate Through a Dictionary in Python\n",
      "Python 3's f-Strings: An Improved String Formatting Syntax\n",
      "Working With JSON Data in Python\n",
      "Working With JSON Data in Python\n",
      "Python's Requests Library (Guide)\n",
      "Object-Oriented Programming (OOP) in Python 3\n",
      "Working With JSON Data in Python\n",
      "Python's Requests Library (Guide)\n",
      "Object-Oriented Programming (OOP) in Python 3\n",
      "Working With JSON Data in Python\n",
      "Python's Requests Library (Guide)\n",
      "Object-Oriented Programming (OOP) in Python 3\n",
      "Working With JSON Data in Python\n",
      "Python's Requests Library (Guide)\n",
      "Object-Oriented Programming (OOP) in Python 3\n",
      "Beatiful Soup: Build a Web Scraper with Python\n"
     ]
    }
   ],
   "source": [
    "for doc in Tutorial.objects:\n",
    "    print(doc.title)"
   ]
  },
  {
   "cell_type": "code",
   "execution_count": 28,
   "metadata": {},
   "outputs": [
    {
     "name": "stdout",
     "output_type": "stream",
     "text": [
      "Python's Requests Library (Guide)\n",
      "Python's Requests Library (Guide)\n",
      "Python's Requests Library (Guide)\n",
      "Python's Requests Library (Guide)\n"
     ]
    }
   ],
   "source": [
    "for doc in Tutorial.objects(author='Alex'):\n",
    "    print(doc.title)"
   ]
  }
 ],
 "metadata": {
  "interpreter": {
   "hash": "f6bdb6bebcaa6c165db367a86e382ae8df75f09257c40532b854029e0e3d706f"
  },
  "kernelspec": {
   "display_name": "Python 3.8.13 ('lighthouse')",
   "language": "python",
   "name": "python3"
  },
  "language_info": {
   "codemirror_mode": {
    "name": "ipython",
    "version": 3
   },
   "file_extension": ".py",
   "mimetype": "text/x-python",
   "name": "python",
   "nbconvert_exporter": "python",
   "pygments_lexer": "ipython3",
   "version": "3.8.13"
  },
  "orig_nbformat": 4
 },
 "nbformat": 4,
 "nbformat_minor": 2
}
