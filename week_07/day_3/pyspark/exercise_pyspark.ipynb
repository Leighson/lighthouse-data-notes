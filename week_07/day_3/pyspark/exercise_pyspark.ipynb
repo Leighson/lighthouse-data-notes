{
 "cells": [
  {
   "cell_type": "code",
   "execution_count": 1,
   "id": "8e8f7590-ed74-4524-a942-226740e9ea74",
   "metadata": {},
   "outputs": [],
   "source": [
    "import numpy as np\n",
    "import pandas as pd\n",
    "import pyspark\n",
    "import pyspark.sql.functions as func"
   ]
  },
  {
   "cell_type": "code",
   "execution_count": 2,
   "id": "bb176446-23dd-49e2-9609-2366a867dd4e",
   "metadata": {},
   "outputs": [],
   "source": [
    "from pyspark import SparkContext\n",
    "from pyspark.sql import SparkSession\n",
    "from pyspark.sql import types, functions\n",
    "from pyspark.sql.types import *"
   ]
  },
  {
   "cell_type": "code",
   "execution_count": 3,
   "id": "53f0f279-40ba-4131-9de4-d6ec39dcc565",
   "metadata": {},
   "outputs": [],
   "source": [
    "from pyspark.sql.functions import *"
   ]
  },
  {
   "cell_type": "markdown",
   "id": "bda66480-f811-45c5-a65e-509fb2c4bf8e",
   "metadata": {},
   "source": [
    "# SparkContext"
   ]
  },
  {
   "cell_type": "markdown",
   "id": "683c400f-0cb2-4af9-85fc-80e7edcf1b3b",
   "metadata": {},
   "source": [
    "Initialize the engine."
   ]
  },
  {
   "cell_type": "code",
   "execution_count": 4,
   "id": "d6c9f105-5197-4b8f-9863-881998eec4f8",
   "metadata": {},
   "outputs": [],
   "source": [
    "sc = SparkContext()"
   ]
  },
  {
   "cell_type": "markdown",
   "id": "89f66afc-db75-41bb-a6e2-5d7f2373021a",
   "metadata": {},
   "source": [
    "Define the session, specifying the engine as the parent class."
   ]
  },
  {
   "cell_type": "code",
   "execution_count": 5,
   "id": "70fe0db4-3a5b-4382-9af6-2edd174788de",
   "metadata": {},
   "outputs": [
    {
     "data": {
      "text/html": [
       "\n",
       "            <div>\n",
       "                <p><b>SparkSession - in-memory</b></p>\n",
       "                \n",
       "        <div>\n",
       "            <p><b>SparkContext</b></p>\n",
       "\n",
       "            <p><a href=\"http://66fec626a6d5:4040\">Spark UI</a></p>\n",
       "\n",
       "            <dl>\n",
       "              <dt>Version</dt>\n",
       "                <dd><code>v3.2.1</code></dd>\n",
       "              <dt>Master</dt>\n",
       "                <dd><code>local[*]</code></dd>\n",
       "              <dt>AppName</dt>\n",
       "                <dd><code>pyspark-shell</code></dd>\n",
       "            </dl>\n",
       "        </div>\n",
       "        \n",
       "            </div>\n",
       "        "
      ],
      "text/plain": [
       "<pyspark.sql.session.SparkSession at 0xffff67d511c0>"
      ]
     },
     "execution_count": 5,
     "metadata": {},
     "output_type": "execute_result"
    }
   ],
   "source": [
    "session = SparkSession(sc)\n",
    "session"
   ]
  },
  {
   "cell_type": "markdown",
   "id": "6c7570d1-8358-4ad3-a824-041d3253ca80",
   "metadata": {},
   "source": [
    "## Exploratory Data Analysis"
   ]
  },
  {
   "cell_type": "markdown",
   "id": "9e213fc9-f28b-4a43-a02c-10009dd82330",
   "metadata": {},
   "source": [
    "Import the dataset for this exercise."
   ]
  },
  {
   "cell_type": "code",
   "execution_count": 6,
   "id": "e15f2a37-950d-45d7-91b2-89323c665c2f",
   "metadata": {
    "tags": []
   },
   "outputs": [],
   "source": [
    "sp = session.read.option(\"inferSchema\", True).option(\"header\", True).csv('./res/data/titanic_dataset.csv')"
   ]
  },
  {
   "cell_type": "markdown",
   "id": "defdc08c-cc91-4973-a7e6-302722b8af2a",
   "metadata": {},
   "source": [
    "Perform descriptive analysis."
   ]
  },
  {
   "cell_type": "code",
   "execution_count": 7,
   "id": "c0bd4f5f-d30c-4a06-9529-68a56adba546",
   "metadata": {},
   "outputs": [
    {
     "name": "stdout",
     "output_type": "stream",
     "text": [
      "+-----------+--------+------+--------------------+------+----+-----+-----+----------------+-------+-----+--------+\n",
      "|PassengerId|Survived|Pclass|                Name|   Sex| Age|SibSp|Parch|          Ticket|   Fare|Cabin|Embarked|\n",
      "+-----------+--------+------+--------------------+------+----+-----+-----+----------------+-------+-----+--------+\n",
      "|          1|       0|     3|Braund, Mr. Owen ...|  male|22.0|    1|    0|       A/5 21171|   7.25| null|       S|\n",
      "|          2|       1|     1|Cumings, Mrs. Joh...|female|38.0|    1|    0|        PC 17599|71.2833|  C85|       C|\n",
      "|          3|       1|     3|Heikkinen, Miss. ...|female|26.0|    0|    0|STON/O2. 3101282|  7.925| null|       S|\n",
      "|          4|       1|     1|Futrelle, Mrs. Ja...|female|35.0|    1|    0|          113803|   53.1| C123|       S|\n",
      "|          5|       0|     3|Allen, Mr. Willia...|  male|35.0|    0|    0|          373450|   8.05| null|       S|\n",
      "|          6|       0|     3|    Moran, Mr. James|  male|null|    0|    0|          330877| 8.4583| null|       Q|\n",
      "|          7|       0|     1|McCarthy, Mr. Tim...|  male|54.0|    0|    0|           17463|51.8625|  E46|       S|\n",
      "|          8|       0|     3|Palsson, Master. ...|  male| 2.0|    3|    1|          349909| 21.075| null|       S|\n",
      "|          9|       1|     3|Johnson, Mrs. Osc...|female|27.0|    0|    2|          347742|11.1333| null|       S|\n",
      "|         10|       1|     2|Nasser, Mrs. Nich...|female|14.0|    1|    0|          237736|30.0708| null|       C|\n",
      "|         11|       1|     3|Sandstrom, Miss. ...|female| 4.0|    1|    1|         PP 9549|   16.7|   G6|       S|\n",
      "|         12|       1|     1|Bonnell, Miss. El...|female|58.0|    0|    0|          113783|  26.55| C103|       S|\n",
      "|         13|       0|     3|Saundercock, Mr. ...|  male|20.0|    0|    0|       A/5. 2151|   8.05| null|       S|\n",
      "|         14|       0|     3|Andersson, Mr. An...|  male|39.0|    1|    5|          347082| 31.275| null|       S|\n",
      "|         15|       0|     3|Vestrom, Miss. Hu...|female|14.0|    0|    0|          350406| 7.8542| null|       S|\n",
      "|         16|       1|     2|Hewlett, Mrs. (Ma...|female|55.0|    0|    0|          248706|   16.0| null|       S|\n",
      "|         17|       0|     3|Rice, Master. Eugene|  male| 2.0|    4|    1|          382652| 29.125| null|       Q|\n",
      "|         18|       1|     2|Williams, Mr. Cha...|  male|null|    0|    0|          244373|   13.0| null|       S|\n",
      "|         19|       0|     3|Vander Planke, Mr...|female|31.0|    1|    0|          345763|   18.0| null|       S|\n",
      "|         20|       1|     3|Masselmani, Mrs. ...|female|null|    0|    0|            2649|  7.225| null|       C|\n",
      "+-----------+--------+------+--------------------+------+----+-----+-----+----------------+-------+-----+--------+\n",
      "only showing top 20 rows\n",
      "\n"
     ]
    }
   ],
   "source": [
    "sp.show(truncate=True)"
   ]
  },
  {
   "cell_type": "code",
   "execution_count": 8,
   "id": "bc000dfb-5234-4fdb-ba79-48f5a5be3a0f",
   "metadata": {},
   "outputs": [
    {
     "data": {
      "text/plain": [
       "891"
      ]
     },
     "execution_count": 8,
     "metadata": {},
     "output_type": "execute_result"
    }
   ],
   "source": [
    "sp.count()"
   ]
  },
  {
   "cell_type": "code",
   "execution_count": 9,
   "id": "d0e8b018-41c3-4aaa-a275-a8be674062ec",
   "metadata": {},
   "outputs": [
    {
     "name": "stdout",
     "output_type": "stream",
     "text": [
      "root\n",
      " |-- PassengerId: integer (nullable = true)\n",
      " |-- Survived: integer (nullable = true)\n",
      " |-- Pclass: integer (nullable = true)\n",
      " |-- Name: string (nullable = true)\n",
      " |-- Sex: string (nullable = true)\n",
      " |-- Age: double (nullable = true)\n",
      " |-- SibSp: integer (nullable = true)\n",
      " |-- Parch: integer (nullable = true)\n",
      " |-- Ticket: string (nullable = true)\n",
      " |-- Fare: double (nullable = true)\n",
      " |-- Cabin: string (nullable = true)\n",
      " |-- Embarked: string (nullable = true)\n",
      "\n"
     ]
    }
   ],
   "source": [
    "sp.printSchema()"
   ]
  },
  {
   "cell_type": "markdown",
   "id": "19bb7766-d8c2-44da-92f5-71c49dc7654b",
   "metadata": {},
   "source": [
    "Convert all `double` types to `float`."
   ]
  },
  {
   "cell_type": "code",
   "execution_count": 10,
   "id": "6a2eb742-6aa5-4d0f-84b9-92e698148b21",
   "metadata": {
    "tags": []
   },
   "outputs": [],
   "source": [
    "def convertColumn(df, columns, newtype):\n",
    "    \n",
    "    for col in columns:\n",
    "        df = df.withColumn(col, df[col].cast(newtype))\n",
    "        \n",
    "    return df"
   ]
  },
  {
   "cell_type": "code",
   "execution_count": 11,
   "id": "e2e4e8fb-6182-4012-8152-03f9609fc349",
   "metadata": {},
   "outputs": [],
   "source": [
    "# list all features with type == 'double'\n",
    "convertFeatures = [col for col in sp.columns if sp.select(col).dtypes[0][1] == 'double']\n",
    "\n",
    "# convert all features with type == 'double' to type == 'float'\n",
    "sp = convertColumn(sp, convertFeatures, 'float')"
   ]
  },
  {
   "cell_type": "code",
   "execution_count": 12,
   "id": "f7b160d7-4ed5-4f98-b275-3e09cba5d48d",
   "metadata": {},
   "outputs": [
    {
     "name": "stdout",
     "output_type": "stream",
     "text": [
      "+-------+-------------------+------------------+------------------+-------------------+-----------------+\n",
      "|summary|           Survived|               Age|             SibSp|              Parch|             Fare|\n",
      "+-------+-------------------+------------------+------------------+-------------------+-----------------+\n",
      "|  count|                891|               714|               891|                891|              891|\n",
      "|   mean| 0.3838383838383838| 29.69911764704046|0.5230078563411896|0.38159371492704824|32.20420804114722|\n",
      "| stddev|0.48659245426485753|14.526497332370992|1.1027434322934315| 0.8060572211299488|49.69342916316158|\n",
      "|    min|                  0|              0.42|                 0|                  0|              0.0|\n",
      "|    max|                  1|              80.0|                 8|                  6|         512.3292|\n",
      "+-------+-------------------+------------------+------------------+-------------------+-----------------+\n",
      "\n"
     ]
    }
   ],
   "source": [
    "sp.describe('Survived', 'Age', 'SibSp', 'Parch', 'Fare').show()"
   ]
  },
  {
   "cell_type": "code",
   "execution_count": 13,
   "id": "d434fb17-bd5d-4a82-81a9-866fb93c6b82",
   "metadata": {},
   "outputs": [
    {
     "data": {
      "text/plain": [
       "891"
      ]
     },
     "execution_count": 13,
     "metadata": {},
     "output_type": "execute_result"
    }
   ],
   "source": [
    "sp.count()"
   ]
  },
  {
   "cell_type": "markdown",
   "id": "3ebaabd1-7ba5-4ea1-b90a-fbbde45bb609",
   "metadata": {
    "tags": []
   },
   "source": [
    "### Age"
   ]
  },
  {
   "cell_type": "code",
   "execution_count": 14,
   "id": "44b3a365-51d1-423a-9646-e29402562e64",
   "metadata": {},
   "outputs": [
    {
     "name": "stdout",
     "output_type": "stream",
     "text": [
      "+--------+------------------+------------------+\n",
      "|Survived|          avg(Age)|round(avg(Age), 2)|\n",
      "+--------+------------------+------------------+\n",
      "|       1|28.343689655127196|             28.34|\n",
      "|       0| 30.62617924528302|             30.63|\n",
      "+--------+------------------+------------------+\n",
      "\n"
     ]
    }
   ],
   "source": [
    "sp.groupby('Survived').avg('Age').select('*', round('avg(Age)', 2)).show()"
   ]
  },
  {
   "cell_type": "code",
   "execution_count": 15,
   "id": "6cf50d4c-81d2-49dc-a2bb-155b27cdb7a2",
   "metadata": {},
   "outputs": [
    {
     "name": "stdout",
     "output_type": "stream",
     "text": [
      "+------------+---+---+\n",
      "|Age_Survived|  0|  1|\n",
      "+------------+---+---+\n",
      "|        0.42|  0|  1|\n",
      "|        0.67|  0|  1|\n",
      "|        0.75|  0|  2|\n",
      "|        0.83|  0|  2|\n",
      "|        0.92|  0|  1|\n",
      "|         1.0|  2|  5|\n",
      "|        10.0|  2|  0|\n",
      "|        11.0|  3|  1|\n",
      "|        12.0|  0|  1|\n",
      "|        13.0|  0|  2|\n",
      "|        14.0|  3|  3|\n",
      "|        14.5|  1|  0|\n",
      "|        15.0|  1|  4|\n",
      "|        16.0| 11|  6|\n",
      "|        17.0|  7|  6|\n",
      "|        18.0| 17|  9|\n",
      "|        19.0| 16|  9|\n",
      "|         2.0|  7|  3|\n",
      "|        20.0| 12|  3|\n",
      "|        20.5|  1|  0|\n",
      "+------------+---+---+\n",
      "only showing top 20 rows\n",
      "\n"
     ]
    }
   ],
   "source": [
    "sp.crosstab('Age', 'Survived').sort('Age_Survived').show()"
   ]
  },
  {
   "cell_type": "code",
   "execution_count": 16,
   "id": "42e4ea7e-5f6c-4775-993a-c446edff4dfa",
   "metadata": {},
   "outputs": [
    {
     "name": "stdout",
     "output_type": "stream",
     "text": [
      "+---------------+---+---+-------------+\n",
      "|Pclass_Survived|  0|  1|Survival_Rate|\n",
      "+---------------+---+---+-------------+\n",
      "|              1| 80|136|        62.96|\n",
      "|              2| 97| 87|        47.28|\n",
      "|              3|372|119|        24.24|\n",
      "+---------------+---+---+-------------+\n",
      "\n"
     ]
    }
   ],
   "source": [
    "sp.crosstab('Pclass', 'Survived').sort('Pclass_Survived').withColumn(\n",
    "    'Survival_Rate', round(( col('1') / ( col('1') + col('0') ) * 100), 2)\n",
    ").show()"
   ]
  },
  {
   "cell_type": "markdown",
   "id": "29b4628c-cced-4d04-90d8-b986f4144b46",
   "metadata": {},
   "source": [
    "## Data Preprocessing"
   ]
  },
  {
   "cell_type": "markdown",
   "id": "a82c910b-231d-4fbe-b5c6-4b4e0ff02c50",
   "metadata": {
    "tags": []
   },
   "source": [
    "### Null Values"
   ]
  },
  {
   "cell_type": "markdown",
   "id": "fdcd508b-ee13-478e-a327-7e13d85170b7",
   "metadata": {},
   "source": [
    "Replace 'Age' null values with mean."
   ]
  },
  {
   "cell_type": "code",
   "execution_count": 17,
   "id": "cbe61cd8-5cc5-4622-bb8a-90540b747652",
   "metadata": {},
   "outputs": [
    {
     "name": "stdout",
     "output_type": "stream",
     "text": [
      "+-----------+--------+------+----+---+---+-----+-----+------+----+-----+--------+\n",
      "|PassengerId|Survived|Pclass|Name|Sex|Age|SibSp|Parch|Ticket|Fare|Cabin|Embarked|\n",
      "+-----------+--------+------+----+---+---+-----+-----+------+----+-----+--------+\n",
      "|          0|       0|     0|   0|  0|177|    0|    0|     0|   0|  687|       2|\n",
      "+-----------+--------+------+----+---+---+-----+-----+------+----+-----+--------+\n",
      "\n"
     ]
    }
   ],
   "source": [
    "sp.select(\n",
    "    [count(when(isnan(c) | col(c).isNull(), c)).alias(c) for c in sp.columns]\n",
    ").show()"
   ]
  },
  {
   "cell_type": "code",
   "execution_count": 18,
   "id": "6e003c84-e0fa-4413-bbe9-eb53694c4eb2",
   "metadata": {},
   "outputs": [],
   "source": [
    "# calculate average 'Age'\n",
    "avg = sp.select(func.mean(col('Age'))).collect()\n",
    "\n",
    "\n",
    "sp = sp.fillna(value=np.round(avg[0][0], 2), subset=['Age'])"
   ]
  },
  {
   "cell_type": "code",
   "execution_count": 19,
   "id": "a13a67cf-b1d1-4eda-a989-a7a7bee36daf",
   "metadata": {},
   "outputs": [
    {
     "name": "stdout",
     "output_type": "stream",
     "text": [
      "+-----------+--------+------+----+---+---+-----+-----+------+----+-----+--------+\n",
      "|PassengerId|Survived|Pclass|Name|Sex|Age|SibSp|Parch|Ticket|Fare|Cabin|Embarked|\n",
      "+-----------+--------+------+----+---+---+-----+-----+------+----+-----+--------+\n",
      "|          0|       0|     0|   0|  0|  0|    0|    0|     0|   0|  687|       2|\n",
      "+-----------+--------+------+----+---+---+-----+-----+------+----+-----+--------+\n",
      "\n"
     ]
    }
   ],
   "source": [
    "sp.select(\n",
    "    [count(when(isnan(c) | col(c).isNull(), c)).alias(c) for c in sp.columns]\n",
    ").show()"
   ]
  },
  {
   "cell_type": "markdown",
   "id": "ce9f3a4f-b71e-4cd6-9d57-507d5bb1a41f",
   "metadata": {},
   "source": [
    "Drop 'Cabin' due to excessive null values."
   ]
  },
  {
   "cell_type": "code",
   "execution_count": 20,
   "id": "8742fb48-8600-4c27-bea6-496b7b910ee6",
   "metadata": {},
   "outputs": [],
   "source": [
    "sp = sp.drop('Cabin')\n",
    "sp = sp.na.drop(subset=['Embarked'])"
   ]
  },
  {
   "cell_type": "code",
   "execution_count": 21,
   "id": "fd55659d-15dc-40a7-aa64-723c8cd24e2c",
   "metadata": {},
   "outputs": [
    {
     "name": "stdout",
     "output_type": "stream",
     "text": [
      "+-----------+--------+------+----+---+---+-----+-----+------+----+--------+\n",
      "|PassengerId|Survived|Pclass|Name|Sex|Age|SibSp|Parch|Ticket|Fare|Embarked|\n",
      "+-----------+--------+------+----+---+---+-----+-----+------+----+--------+\n",
      "|          0|       0|     0|   0|  0|  0|    0|    0|     0|   0|       0|\n",
      "+-----------+--------+------+----+---+---+-----+-----+------+----+--------+\n",
      "\n"
     ]
    }
   ],
   "source": [
    "sp.select(\n",
    "    [count(when(isnan(c) | col(c).isNull(), c)).alias(c) for c in sp.columns]\n",
    ").show()"
   ]
  },
  {
   "cell_type": "markdown",
   "id": "015d7afa-a29c-4df1-9fe2-9e6b920ad194",
   "metadata": {},
   "source": [
    "## Pipeline"
   ]
  },
  {
   "cell_type": "code",
   "execution_count": 22,
   "id": "68c69e1b-7125-4e2a-8684-7c58f11d32de",
   "metadata": {},
   "outputs": [],
   "source": [
    "from pyspark.ml import Pipeline\n",
    "from pyspark.ml.feature import StringIndexer, OneHotEncoder, VectorAssembler"
   ]
  },
  {
   "cell_type": "markdown",
   "id": "a85f6b4c-7aef-4ba5-9a29-8154770b4097",
   "metadata": {},
   "source": [
    "### Isolate the Categories and Encode/Index"
   ]
  },
  {
   "cell_type": "code",
   "execution_count": 23,
   "id": "adb97f67-884a-4afb-95ad-6e5d8b036b3c",
   "metadata": {},
   "outputs": [
    {
     "name": "stdout",
     "output_type": "stream",
     "text": [
      "root\n",
      " |-- PassengerId: integer (nullable = true)\n",
      " |-- Survived: integer (nullable = true)\n",
      " |-- Pclass: integer (nullable = true)\n",
      " |-- Name: string (nullable = true)\n",
      " |-- Sex: string (nullable = true)\n",
      " |-- Age: float (nullable = false)\n",
      " |-- SibSp: integer (nullable = true)\n",
      " |-- Parch: integer (nullable = true)\n",
      " |-- Ticket: string (nullable = true)\n",
      " |-- Fare: float (nullable = true)\n",
      " |-- Embarked: string (nullable = true)\n",
      "\n"
     ]
    }
   ],
   "source": [
    "sp.printSchema()"
   ]
  },
  {
   "cell_type": "code",
   "execution_count": 24,
   "id": "0414e725-7fd5-49b6-a56a-bf1b3273f71f",
   "metadata": {},
   "outputs": [],
   "source": [
    "categories = ['Sex', 'Embarked']"
   ]
  },
  {
   "cell_type": "code",
   "execution_count": 34,
   "id": "69a1d0d5-5d6e-4d12-a455-e627fcf71ca3",
   "metadata": {},
   "outputs": [],
   "source": [
    "stages = []\n",
    "\n",
    "for cat in categories:\n",
    "    \n",
    "    stringIdx = StringIndexer(inputCol=cat,\n",
    "                              outputCol=cat + 'Index')\n",
    "    \n",
    "    encoder = OneHotEncoder(inputCols=[stringIdx.getOutputCol()],\n",
    "                            outputCols=[cat + 'classVec'])\n",
    "    \n",
    "    stages += [stringIdx, encoder]"
   ]
  },
  {
   "cell_type": "code",
   "execution_count": 35,
   "id": "fab61e31-d70c-4dc9-82f3-1813cb3063e2",
   "metadata": {},
   "outputs": [
    {
     "data": {
      "text/plain": [
       "[StringIndexer_16795471719e,\n",
       " OneHotEncoder_ff49f5830de1,\n",
       " StringIndexer_0dc2dc36c270,\n",
       " OneHotEncoder_cd5378f5a59b]"
      ]
     },
     "execution_count": 35,
     "metadata": {},
     "output_type": "execute_result"
    }
   ],
   "source": [
    "stages"
   ]
  },
  {
   "cell_type": "markdown",
   "id": "29d0b970-5a93-4259-82c7-62bbc478d26e",
   "metadata": {},
   "source": [
    "### Target or Label Variable"
   ]
  },
  {
   "cell_type": "code",
   "execution_count": 36,
   "id": "8f4e992e-ef71-44a7-9d3f-f49d726085a3",
   "metadata": {},
   "outputs": [],
   "source": [
    "targetIdx = StringIndexer(inputCol='Survived',\n",
    "                          outputCol=('Survived' + 'Label'))\n",
    "\n",
    "stages += [targetIdx]"
   ]
  },
  {
   "cell_type": "markdown",
   "id": "990a53ee-223a-4bf6-8d8d-a699d1bd77c2",
   "metadata": {},
   "source": [
    "### Define the Columns (or Vectors) using VectorAssembler"
   ]
  },
  {
   "cell_type": "code",
   "execution_count": 37,
   "id": "942fe01d-4bed-46e5-88b7-d2ea402c2b4a",
   "metadata": {},
   "outputs": [],
   "source": [
    "numerical = ['Pclass', 'Age', 'SibSp', 'Parch', 'Fare']"
   ]
  },
  {
   "cell_type": "code",
   "execution_count": 38,
   "id": "efe4a6de-abcc-4920-9646-8fd942295e01",
   "metadata": {},
   "outputs": [],
   "source": [
    "assemblerInputs = [cat + \"classVec\" for cat in categories] + numerical"
   ]
  },
  {
   "cell_type": "code",
   "execution_count": 39,
   "id": "90dec8fa-fb6f-4d6f-b29a-52bc5670e5e5",
   "metadata": {},
   "outputs": [],
   "source": [
    "assembler = VectorAssembler(inputCols=assemblerInputs,\n",
    "                            outputCol=\"features\")\n",
    "\n",
    "stages += [assembler]"
   ]
  },
  {
   "cell_type": "markdown",
   "id": "56b5b92a-66bd-46fb-9b9a-71f5d9caa06d",
   "metadata": {},
   "source": [
    "### Build the Pipeline"
   ]
  },
  {
   "cell_type": "code",
   "execution_count": 46,
   "id": "4c38ff69-b227-4058-874c-170c259c07eb",
   "metadata": {},
   "outputs": [],
   "source": [
    "spPared = sp.select(categories + numerical + ['Survived'])"
   ]
  },
  {
   "cell_type": "code",
   "execution_count": 47,
   "id": "10b87e10-cc7a-44d0-b331-1bcfe30a094b",
   "metadata": {},
   "outputs": [
    {
     "name": "stdout",
     "output_type": "stream",
     "text": [
      "+------+--------+------+----+-----+-----+-------+--------+\n",
      "|   Sex|Embarked|Pclass| Age|SibSp|Parch|   Fare|Survived|\n",
      "+------+--------+------+----+-----+-----+-------+--------+\n",
      "|  male|       S|     3|22.0|    1|    0|   7.25|       0|\n",
      "|female|       C|     1|38.0|    1|    0|71.2833|       1|\n",
      "|female|       S|     3|26.0|    0|    0|  7.925|       1|\n",
      "|female|       S|     1|35.0|    1|    0|   53.1|       1|\n",
      "|  male|       S|     3|35.0|    0|    0|   8.05|       0|\n",
      "|  male|       Q|     3|29.7|    0|    0| 8.4583|       0|\n",
      "|  male|       S|     1|54.0|    0|    0|51.8625|       0|\n",
      "|  male|       S|     3| 2.0|    3|    1| 21.075|       0|\n",
      "|female|       S|     3|27.0|    0|    2|11.1333|       1|\n",
      "|female|       C|     2|14.0|    1|    0|30.0708|       1|\n",
      "|female|       S|     3| 4.0|    1|    1|   16.7|       1|\n",
      "|female|       S|     1|58.0|    0|    0|  26.55|       1|\n",
      "|  male|       S|     3|20.0|    0|    0|   8.05|       0|\n",
      "|  male|       S|     3|39.0|    1|    5| 31.275|       0|\n",
      "|female|       S|     3|14.0|    0|    0| 7.8542|       0|\n",
      "|female|       S|     2|55.0|    0|    0|   16.0|       1|\n",
      "|  male|       Q|     3| 2.0|    4|    1| 29.125|       0|\n",
      "|  male|       S|     2|29.7|    0|    0|   13.0|       1|\n",
      "|female|       S|     3|31.0|    1|    0|   18.0|       0|\n",
      "|female|       C|     3|29.7|    0|    0|  7.225|       1|\n",
      "+------+--------+------+----+-----+-----+-------+--------+\n",
      "only showing top 20 rows\n",
      "\n"
     ]
    }
   ],
   "source": [
    "spPared.show()"
   ]
  },
  {
   "cell_type": "code",
   "execution_count": 48,
   "id": "ef9989af-23d9-4d1e-954f-b0c8b2da1b10",
   "metadata": {},
   "outputs": [],
   "source": [
    "pipeline = Pipeline(stages=stages)\n",
    "pipelineModel = pipeline.fit(spPared)\n",
    "model = pipelineModel.transform(spPared)"
   ]
  },
  {
   "cell_type": "code",
   "execution_count": 49,
   "id": "bf8e9d0a-ca2f-4fec-b0fe-2d4f753f51a1",
   "metadata": {
    "collapsed": true,
    "jupyter": {
     "outputs_hidden": true
    },
    "tags": []
   },
   "outputs": [
    {
     "name": "stdout",
     "output_type": "stream",
     "text": [
      "+------+--------+------+----+-----+-----+-------+--------+--------+-------------+-------------+----------------+-------------+--------------------+\n",
      "|   Sex|Embarked|Pclass| Age|SibSp|Parch|   Fare|Survived|SexIndex|  SexclassVec|EmbarkedIndex|EmbarkedclassVec|SurvivedLabel|            features|\n",
      "+------+--------+------+----+-----+-----+-------+--------+--------+-------------+-------------+----------------+-------------+--------------------+\n",
      "|  male|       S|     3|22.0|    1|    0|   7.25|       0|     0.0|(1,[0],[1.0])|          0.0|   (2,[0],[1.0])|          0.0|[1.0,1.0,0.0,3.0,...|\n",
      "|female|       C|     1|38.0|    1|    0|71.2833|       1|     1.0|    (1,[],[])|          1.0|   (2,[1],[1.0])|          1.0|[0.0,0.0,1.0,1.0,...|\n",
      "|female|       S|     3|26.0|    0|    0|  7.925|       1|     1.0|    (1,[],[])|          0.0|   (2,[0],[1.0])|          1.0|(8,[1,3,4,7],[1.0...|\n",
      "|female|       S|     1|35.0|    1|    0|   53.1|       1|     1.0|    (1,[],[])|          0.0|   (2,[0],[1.0])|          1.0|[0.0,1.0,0.0,1.0,...|\n",
      "|  male|       S|     3|35.0|    0|    0|   8.05|       0|     0.0|(1,[0],[1.0])|          0.0|   (2,[0],[1.0])|          0.0|[1.0,1.0,0.0,3.0,...|\n",
      "|  male|       Q|     3|29.7|    0|    0| 8.4583|       0|     0.0|(1,[0],[1.0])|          2.0|       (2,[],[])|          0.0|(8,[0,3,4,7],[1.0...|\n",
      "|  male|       S|     1|54.0|    0|    0|51.8625|       0|     0.0|(1,[0],[1.0])|          0.0|   (2,[0],[1.0])|          0.0|[1.0,1.0,0.0,1.0,...|\n",
      "|  male|       S|     3| 2.0|    3|    1| 21.075|       0|     0.0|(1,[0],[1.0])|          0.0|   (2,[0],[1.0])|          0.0|[1.0,1.0,0.0,3.0,...|\n",
      "|female|       S|     3|27.0|    0|    2|11.1333|       1|     1.0|    (1,[],[])|          0.0|   (2,[0],[1.0])|          1.0|[0.0,1.0,0.0,3.0,...|\n",
      "|female|       C|     2|14.0|    1|    0|30.0708|       1|     1.0|    (1,[],[])|          1.0|   (2,[1],[1.0])|          1.0|[0.0,0.0,1.0,2.0,...|\n",
      "|female|       S|     3| 4.0|    1|    1|   16.7|       1|     1.0|    (1,[],[])|          0.0|   (2,[0],[1.0])|          1.0|[0.0,1.0,0.0,3.0,...|\n",
      "|female|       S|     1|58.0|    0|    0|  26.55|       1|     1.0|    (1,[],[])|          0.0|   (2,[0],[1.0])|          1.0|(8,[1,3,4,7],[1.0...|\n",
      "|  male|       S|     3|20.0|    0|    0|   8.05|       0|     0.0|(1,[0],[1.0])|          0.0|   (2,[0],[1.0])|          0.0|[1.0,1.0,0.0,3.0,...|\n",
      "|  male|       S|     3|39.0|    1|    5| 31.275|       0|     0.0|(1,[0],[1.0])|          0.0|   (2,[0],[1.0])|          0.0|[1.0,1.0,0.0,3.0,...|\n",
      "|female|       S|     3|14.0|    0|    0| 7.8542|       0|     1.0|    (1,[],[])|          0.0|   (2,[0],[1.0])|          0.0|(8,[1,3,4,7],[1.0...|\n",
      "|female|       S|     2|55.0|    0|    0|   16.0|       1|     1.0|    (1,[],[])|          0.0|   (2,[0],[1.0])|          1.0|(8,[1,3,4,7],[1.0...|\n",
      "|  male|       Q|     3| 2.0|    4|    1| 29.125|       0|     0.0|(1,[0],[1.0])|          2.0|       (2,[],[])|          0.0|[1.0,0.0,0.0,3.0,...|\n",
      "|  male|       S|     2|29.7|    0|    0|   13.0|       1|     0.0|(1,[0],[1.0])|          0.0|   (2,[0],[1.0])|          1.0|[1.0,1.0,0.0,2.0,...|\n",
      "|female|       S|     3|31.0|    1|    0|   18.0|       0|     1.0|    (1,[],[])|          0.0|   (2,[0],[1.0])|          0.0|[0.0,1.0,0.0,3.0,...|\n",
      "|female|       C|     3|29.7|    0|    0|  7.225|       1|     1.0|    (1,[],[])|          1.0|   (2,[1],[1.0])|          1.0|(8,[2,3,4,7],[1.0...|\n",
      "+------+--------+------+----+-----+-----+-------+--------+--------+-------------+-------------+----------------+-------------+--------------------+\n",
      "only showing top 20 rows\n",
      "\n"
     ]
    }
   ],
   "source": [
    "model.show()"
   ]
  },
  {
   "cell_type": "markdown",
   "id": "0ef0184a-8d1c-48b3-9ceb-0271b01e2aca",
   "metadata": {},
   "source": [
    "### Build the Classifiers"
   ]
  },
  {
   "cell_type": "code",
   "execution_count": 52,
   "id": "7b75a731-b0d5-463a-a1b0-851492e59ddc",
   "metadata": {},
   "outputs": [],
   "source": [
    "from pyspark.ml.linalg import DenseVector"
   ]
  },
  {
   "cell_type": "code",
   "execution_count": 53,
   "id": "c1b1c65b-ca1d-4b32-aaf2-a436c356ca52",
   "metadata": {},
   "outputs": [],
   "source": [
    "input_data = model.rdd.map(lambda x: (x[\"SurvivedLabel\"], DenseVector(x[\"features\"])))"
   ]
  },
  {
   "cell_type": "code",
   "execution_count": 57,
   "id": "86be6c2a-13ed-4a40-b1c9-15a2a6463375",
   "metadata": {},
   "outputs": [],
   "source": [
    "spTrain = session.createDataFrame(input_data, [\"Survived\", \"features\"])"
   ]
  },
  {
   "cell_type": "markdown",
   "id": "6cbc4336-f538-4c1a-8195-b77bc600351b",
   "metadata": {},
   "source": [
    "#### Create Train/Test Split"
   ]
  },
  {
   "cell_type": "code",
   "execution_count": 58,
   "id": "7fcc9aa3-49bf-4ecd-b1f4-fe4d2b47437e",
   "metadata": {},
   "outputs": [],
   "source": [
    "train_data, test_data = spTrain.randomSplit([.8,.2])"
   ]
  },
  {
   "cell_type": "markdown",
   "id": "07f9886d-1fc1-4cc4-8add-9fb0d1429247",
   "metadata": {},
   "source": [
    "#### Logistic Regression"
   ]
  },
  {
   "cell_type": "code",
   "execution_count": 55,
   "id": "7a940646-0a8e-45ee-92a5-2c23bd96d13a",
   "metadata": {},
   "outputs": [],
   "source": [
    "from pyspark.ml.classification import LogisticRegression\n",
    "from pyspark.ml.classification import RandomForestClassifier"
   ]
  },
  {
   "cell_type": "code",
   "execution_count": 59,
   "id": "6cda5a9a-5881-426c-bbd1-6f6f3f742c51",
   "metadata": {},
   "outputs": [],
   "source": [
    "lr = LogisticRegression(labelCol=\"Survived\",\n",
    "                        featuresCol=\"features\",\n",
    "                        maxIter=10,\n",
    "                        regParam=0.3)"
   ]
  },
  {
   "cell_type": "code",
   "execution_count": 60,
   "id": "2aae0a68-ae86-4ced-8d6b-dc07f534fbf4",
   "metadata": {},
   "outputs": [],
   "source": [
    "linearModel = lr.fit(train_data)"
   ]
  },
  {
   "cell_type": "markdown",
   "id": "0e7d3346-79f3-4462-ab3c-1c98fd723a5d",
   "metadata": {},
   "source": [
    "#### Random Forest Classifier"
   ]
  },
  {
   "cell_type": "code",
   "execution_count": 61,
   "id": "10ae13fc-53b5-444f-820b-12eecaf4907d",
   "metadata": {},
   "outputs": [],
   "source": [
    "rf = RandomForestClassifier(labelCol='Survived',\n",
    "                            featuresCol='features',\n",
    "                            maxDepth=5,\n",
    "                            maxBins=32)"
   ]
  },
  {
   "cell_type": "code",
   "execution_count": 62,
   "id": "8e6c3afd-8e34-4347-9346-05079bf02232",
   "metadata": {},
   "outputs": [],
   "source": [
    "randomForest = rf.fit(train_data)"
   ]
  },
  {
   "cell_type": "markdown",
   "id": "178e9921-2890-4e62-98e9-4a6aff3479bb",
   "metadata": {},
   "source": [
    "### Train and Evaluate the Models"
   ]
  },
  {
   "cell_type": "code",
   "execution_count": 65,
   "id": "8a296847-c60b-46ab-90eb-ff12f81d0a9a",
   "metadata": {},
   "outputs": [],
   "source": [
    "lrPredictions = linearModel.transform(test_data)\n",
    "rfPredictions = randomForest.transform(test_data)"
   ]
  },
  {
   "cell_type": "code",
   "execution_count": 66,
   "id": "00948b6e-c673-48e0-ac01-21ee63681cd1",
   "metadata": {},
   "outputs": [
    {
     "name": "stdout",
     "output_type": "stream",
     "text": [
      "root\n",
      " |-- Survived: double (nullable = true)\n",
      " |-- features: vector (nullable = true)\n",
      " |-- rawPrediction: vector (nullable = true)\n",
      " |-- probability: vector (nullable = true)\n",
      " |-- prediction: double (nullable = false)\n",
      "\n"
     ]
    }
   ],
   "source": [
    "lrPredictions.printSchema()"
   ]
  },
  {
   "cell_type": "code",
   "execution_count": 67,
   "id": "04cac5e7-7c23-42cd-91ad-89042bef949e",
   "metadata": {},
   "outputs": [
    {
     "name": "stdout",
     "output_type": "stream",
     "text": [
      "root\n",
      " |-- Survived: double (nullable = true)\n",
      " |-- features: vector (nullable = true)\n",
      " |-- rawPrediction: vector (nullable = true)\n",
      " |-- probability: vector (nullable = true)\n",
      " |-- prediction: double (nullable = false)\n",
      "\n"
     ]
    }
   ],
   "source": [
    "rfPredictions.printSchema()"
   ]
  },
  {
   "cell_type": "markdown",
   "id": "d5230f59-36b1-458f-9d9d-d25136d240e3",
   "metadata": {},
   "source": [
    "#### Evaluate Linear Model"
   ]
  },
  {
   "cell_type": "code",
   "execution_count": 78,
   "id": "1d8e9780-6c73-4954-81c2-14ea41170cfc",
   "metadata": {},
   "outputs": [],
   "source": [
    "checkLR = lrPredictions.select('Survived', 'prediction')"
   ]
  },
  {
   "cell_type": "code",
   "execution_count": 79,
   "id": "b8c9257e-20ad-40cb-9667-978cbe89f711",
   "metadata": {},
   "outputs": [
    {
     "name": "stdout",
     "output_type": "stream",
     "text": [
      "+--------+---------------+\n",
      "|Survived|count(Survived)|\n",
      "+--------+---------------+\n",
      "|     0.0|            107|\n",
      "|     1.0|             69|\n",
      "+--------+---------------+\n",
      "\n",
      "+----------+-----------------+\n",
      "|prediction|count(prediction)|\n",
      "+----------+-----------------+\n",
      "|       0.0|              143|\n",
      "|       1.0|               33|\n",
      "+----------+-----------------+\n",
      "\n"
     ]
    }
   ],
   "source": [
    "checkLR.groupby('Survived').agg({'Survived': 'count'}).show()\n",
    "checkLR.groupby('prediction').agg({'prediction': 'count'}).show()"
   ]
  },
  {
   "cell_type": "code",
   "execution_count": 80,
   "id": "c061755c-8cc0-4347-bba4-af44888ee6cd",
   "metadata": {},
   "outputs": [
    {
     "data": {
      "text/plain": [
       "0.75"
      ]
     },
     "execution_count": 80,
     "metadata": {},
     "output_type": "execute_result"
    }
   ],
   "source": [
    "checkLR.filter(checkLR.Survived == checkLR.prediction).count() / checkLR.count()"
   ]
  },
  {
   "cell_type": "markdown",
   "id": "c1df1797-01bf-4c12-aeaf-c9b365411ad8",
   "metadata": {},
   "source": [
    "#### Evaluate Random Forest"
   ]
  },
  {
   "cell_type": "code",
   "execution_count": 73,
   "id": "a0da6270-7229-4c49-8f6b-6d2695c6a432",
   "metadata": {},
   "outputs": [],
   "source": [
    "checkRF = rfPredictions.select('Survived', 'prediction')"
   ]
  },
  {
   "cell_type": "code",
   "execution_count": 74,
   "id": "a00bd332-3527-44f8-adc1-c021acaf7c9d",
   "metadata": {},
   "outputs": [
    {
     "name": "stdout",
     "output_type": "stream",
     "text": [
      "+--------+---------------+\n",
      "|Survived|count(Survived)|\n",
      "+--------+---------------+\n",
      "|     0.0|            107|\n",
      "|     1.0|             69|\n",
      "+--------+---------------+\n",
      "\n",
      "+----------+-----------------+\n",
      "|prediction|count(prediction)|\n",
      "+----------+-----------------+\n",
      "|       0.0|              128|\n",
      "|       1.0|               48|\n",
      "+----------+-----------------+\n",
      "\n"
     ]
    }
   ],
   "source": [
    "checkRF.groupby('Survived').agg({'Survived': 'count'}).show()\n",
    "checkRF.groupby('prediction').agg({'prediction': 'count'}).show()"
   ]
  },
  {
   "cell_type": "code",
   "execution_count": 76,
   "id": "94d47b47-b291-40b9-b6e2-8652c46d0e1a",
   "metadata": {},
   "outputs": [
    {
     "data": {
      "text/plain": [
       "0.8238636363636364"
      ]
     },
     "execution_count": 76,
     "metadata": {},
     "output_type": "execute_result"
    }
   ],
   "source": [
    "checkRF.filter(checkRF.Survived == checkRF.prediction).count() / checkRF.count()"
   ]
  },
  {
   "cell_type": "code",
   "execution_count": null,
   "id": "65355789-f28f-475c-b76f-3115086a691e",
   "metadata": {},
   "outputs": [],
   "source": []
  }
 ],
 "metadata": {
  "kernelspec": {
   "display_name": "Python 3 (ipykernel)",
   "language": "python",
   "name": "python3"
  },
  "language_info": {
   "codemirror_mode": {
    "name": "ipython",
    "version": 3
   },
   "file_extension": ".py",
   "mimetype": "text/x-python",
   "name": "python",
   "nbconvert_exporter": "python",
   "pygments_lexer": "ipython3",
   "version": "3.9.12"
  },
  "toc-autonumbering": true
 },
 "nbformat": 4,
 "nbformat_minor": 5
}
