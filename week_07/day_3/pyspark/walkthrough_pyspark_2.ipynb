{
 "cells": [
  {
   "cell_type": "markdown",
   "id": "8bf43f7e-9de5-4196-9e71-27b91a06286a",
   "metadata": {
    "tags": []
   },
   "source": [
    "# Spark Context"
   ]
  },
  {
   "cell_type": "markdown",
   "id": "436621c2-564b-4177-9f9f-428d134cac02",
   "metadata": {},
   "source": [
    "**SparkContext** is the internal engine that allows the connections with the clusters. If you want to run an operation, you need a **SparkContext**."
   ]
  },
  {
   "cell_type": "markdown",
   "id": "0bab3613-cf10-4224-af95-275d8fa985f8",
   "metadata": {
    "tags": []
   },
   "source": [
    "## Create a SparkContext"
   ]
  },
  {
   "cell_type": "code",
   "execution_count": 1,
   "id": "4fdc9b64-3357-49d3-a3ad-b3d1ebd3ac04",
   "metadata": {
    "tags": []
   },
   "outputs": [],
   "source": [
    "import pyspark\n",
    "from pyspark import SparkContext\n",
    "\n",
    "sc = SparkContext()"
   ]
  },
  {
   "cell_type": "markdown",
   "id": "675b67f1-7512-41ec-b7c9-c249cdc440c2",
   "metadata": {
    "tags": []
   },
   "source": [
    "Now that the **SparkContext** is ready, you can create a collection of data called **RDD**--_Resilient Distributed Dataset_. Computation in an **RDD** is automatically _parallelized_ across the cluster."
   ]
  },
  {
   "cell_type": "code",
   "execution_count": 2,
   "id": "c9d7cee5-e070-40ad-87d6-f81cbada769d",
   "metadata": {
    "tags": []
   },
   "outputs": [],
   "source": [
    "nums = sc.parallelize([1,2,3,4])"
   ]
  },
  {
   "cell_type": "markdown",
   "id": "a0eba965-ee89-41ef-8333-fa8f9147eb38",
   "metadata": {
    "tags": []
   },
   "source": [
    "You can access the first row with `take`."
   ]
  },
  {
   "cell_type": "code",
   "execution_count": 3,
   "id": "a3f4f4ac-8a83-4005-abdc-f13445413f1d",
   "metadata": {
    "tags": []
   },
   "outputs": [
    {
     "data": {
      "text/plain": [
       "[1]"
      ]
     },
     "execution_count": 3,
     "metadata": {},
     "output_type": "execute_result"
    }
   ],
   "source": [
    "nums.take(1)"
   ]
  },
  {
   "cell_type": "markdown",
   "id": "80df3a1b-9085-4925-a45c-0e9345186cec",
   "metadata": {
    "tags": []
   },
   "source": [
    "You can apply a transformation to the data with a _lambda_ function. In the PySpark example below, you return the square of nums. It is a map transformation."
   ]
  },
  {
   "cell_type": "code",
   "execution_count": 4,
   "id": "363a33e1-3e1b-4080-b731-004459049f6d",
   "metadata": {
    "tags": []
   },
   "outputs": [
    {
     "name": "stdout",
     "output_type": "stream",
     "text": [
      "1 \n",
      "4 \n",
      "9 \n",
      "16 \n"
     ]
    }
   ],
   "source": [
    "squared = nums.map(lambda x: x*x).collect()\n",
    "\n",
    "for num in squared:\n",
    "    print('%i ' % (num))"
   ]
  },
  {
   "cell_type": "markdown",
   "id": "6e0aa92c-81bd-45be-ba06-14da6a948510",
   "metadata": {
    "tags": []
   },
   "source": [
    "## SparkSession"
   ]
  },
  {
   "cell_type": "markdown",
   "id": "cfec0b37-3ba9-4fa3-bb2c-75f7920ed727",
   "metadata": {
    "tags": []
   },
   "source": [
    "A more convenient way is to use the DataFrame. SparkContext is already set, you can use it to create the DataFrame. You also need to declare the **SparkSession**.\n",
    "\n",
    "**SparkSession** allows connecting the engine with different data sources. It is used to initiate the functionalities of Spark SQL."
   ]
  },
  {
   "cell_type": "code",
   "execution_count": 5,
   "id": "7996fbde-3923-446f-b755-15a94ff6504d",
   "metadata": {
    "tags": []
   },
   "outputs": [],
   "source": [
    "from pyspark.sql import Row\n",
    "from pyspark.sql import SparkSession"
   ]
  },
  {
   "cell_type": "code",
   "execution_count": 6,
   "id": "526c3e83-c524-4fcc-8381-04de93726161",
   "metadata": {
    "tags": []
   },
   "outputs": [],
   "source": [
    "session = SparkSession.builder.getOrCreate()"
   ]
  },
  {
   "cell_type": "markdown",
   "id": "48ef32ee-85db-43f5-b052-b1c922136957",
   "metadata": {
    "tags": []
   },
   "source": [
    "Let's create a list of tuples. Each tuple will contain the name of the people and their age. Four steps are required:\n",
    "\n",
    "1. Create the list of tuple with the information."
   ]
  },
  {
   "cell_type": "code",
   "execution_count": 7,
   "id": "902dad38-009f-474d-a778-92151b549fc7",
   "metadata": {},
   "outputs": [
    {
     "data": {
      "text/html": [
       "\n",
       "            <div>\n",
       "                <p><b>SparkSession - in-memory</b></p>\n",
       "                \n",
       "        <div>\n",
       "            <p><b>SparkContext</b></p>\n",
       "\n",
       "            <p><a href=\"http://66fec626a6d5:4041\">Spark UI</a></p>\n",
       "\n",
       "            <dl>\n",
       "              <dt>Version</dt>\n",
       "                <dd><code>v3.2.1</code></dd>\n",
       "              <dt>Master</dt>\n",
       "                <dd><code>local[*]</code></dd>\n",
       "              <dt>AppName</dt>\n",
       "                <dd><code>pyspark-shell</code></dd>\n",
       "            </dl>\n",
       "        </div>\n",
       "        \n",
       "            </div>\n",
       "        "
      ],
      "text/plain": [
       "<pyspark.sql.session.SparkSession at 0xffff803bb580>"
      ]
     },
     "execution_count": 7,
     "metadata": {},
     "output_type": "execute_result"
    }
   ],
   "source": [
    "session"
   ]
  },
  {
   "cell_type": "code",
   "execution_count": 8,
   "id": "6d6d2c30-b553-430f-a7a2-9f117d065e1c",
   "metadata": {
    "tags": []
   },
   "outputs": [],
   "source": [
    "list_p = [('John',19),('Smith',29),('Adam',35),('Henry',50)]"
   ]
  },
  {
   "cell_type": "markdown",
   "id": "fafa9c0d-75c6-4ac7-a8c2-99bfdecc871f",
   "metadata": {
    "tags": []
   },
   "source": [
    "2. Build the RDD."
   ]
  },
  {
   "cell_type": "code",
   "execution_count": 9,
   "id": "6b31ba8a-ff57-42d5-8c12-be7714d77f71",
   "metadata": {
    "tags": []
   },
   "outputs": [],
   "source": [
    "rdd = sc.parallelize(list_p)"
   ]
  },
  {
   "cell_type": "markdown",
   "id": "27cb2737-7abf-452c-b08b-17d681ba9f21",
   "metadata": {
    "tags": []
   },
   "source": [
    "3. Convert to tuples."
   ]
  },
  {
   "cell_type": "code",
   "execution_count": 10,
   "id": "be01bf54-5582-416f-bfd7-b40b4078e1f7",
   "metadata": {
    "tags": []
   },
   "outputs": [],
   "source": [
    "ppl = rdd.map(lambda x: Row(name=x[0], age=int(x[1])))"
   ]
  },
  {
   "cell_type": "markdown",
   "id": "4c1c376a-e85d-42ec-82a5-8e81331f3fde",
   "metadata": {
    "tags": []
   },
   "source": [
    "4. Create a DataFrame context."
   ]
  },
  {
   "cell_type": "code",
   "execution_count": 11,
   "id": "29a54314-bbff-4ed9-be82-ead388f42870",
   "metadata": {
    "tags": []
   },
   "outputs": [],
   "source": [
    "df_ppl = session.createDataFrame(ppl)"
   ]
  },
  {
   "cell_type": "markdown",
   "id": "4a502132-5992-4b2f-bc42-971a6ff52850",
   "metadata": {
    "tags": []
   },
   "source": [
    "To access the type of each feature, use `printSchema()`."
   ]
  },
  {
   "cell_type": "code",
   "execution_count": 12,
   "id": "e1e214fe-c24e-46dd-865f-37d701a08c36",
   "metadata": {
    "tags": []
   },
   "outputs": [
    {
     "name": "stdout",
     "output_type": "stream",
     "text": [
      "root\n",
      " |-- name: string (nullable = true)\n",
      " |-- age: long (nullable = true)\n",
      "\n"
     ]
    }
   ],
   "source": [
    "df_ppl.printSchema()"
   ]
  },
  {
   "cell_type": "markdown",
   "id": "5484f791-a6fc-4f17-abde-cf6f995a54a8",
   "metadata": {
    "tags": []
   },
   "source": [
    "## Machine Learning Example with PySpark"
   ]
  },
  {
   "cell_type": "markdown",
   "id": "22f28a50-6159-4b35-9405-5852d1e51886",
   "metadata": {
    "tags": []
   },
   "source": [
    "Now that you have a brief idea of Spark and SparkSession, you are ready to build your first _Machine Learning_ program using Spark.\n",
    "\n",
    "Following are the steps to build a Machine Learning program with PySpark:"
   ]
  },
  {
   "cell_type": "markdown",
   "id": "21799699-827f-483f-8082-c4fd03abfc73",
   "metadata": {
    "tags": []
   },
   "source": [
    "1. Basic operation with PySpark\n",
    "2. Data preprocessing\n",
    "3. Build a data processing pipeline\n",
    "4. Build the classifier: logistic\n",
    "5. Train and evaluate the model\n",
    "6. Tune the hyperparameter"
   ]
  },
  {
   "cell_type": "markdown",
   "id": "cef57a7e-379c-40ed-92a0-f59003a2fa82",
   "metadata": {
    "tags": []
   },
   "source": [
    "Note that, the dataset we use is not very big and you may think that the computation takes a long time. Spark is designed to process a considerable amount of data. Spark's performance increases relatively to other machine learning libraries when the dataset grows larger."
   ]
  },
  {
   "cell_type": "markdown",
   "id": "8077c694-1add-42d8-8da4-eebf324bd72a",
   "metadata": {
    "tags": []
   },
   "source": [
    "### Step 1: Basic operation with PySpark"
   ]
  },
  {
   "cell_type": "code",
   "execution_count": 13,
   "id": "7bfcf1dd-d306-4d13-875c-8679335c0919",
   "metadata": {
    "tags": []
   },
   "outputs": [],
   "source": [
    "import pandas as pd\n",
    "\n",
    "url = \"https://raw.githubusercontent.com/sadhana1002/PredictingSalaryClass-Classification/master/adult.csv\"\n",
    "df = session.createDataFrame(pd.read_csv(url, \n",
    "                                      names=['Age','workclass',\n",
    "                                             'fnlwgt','education',\n",
    "                                             'education_num',\n",
    "                                             'marital',\n",
    "                                             'occupation',\n",
    "                                             'relationship','race',\n",
    "                                             'sex','capital_gain',\n",
    "                                             'capital_loss',\n",
    "                                             'hours_week',\n",
    "                                             'native_country','label']))"
   ]
  },
  {
   "cell_type": "code",
   "execution_count": 14,
   "id": "5decc6b9-d8ad-4855-ba8d-df95c50ebce9",
   "metadata": {
    "tags": []
   },
   "outputs": [
    {
     "name": "stdout",
     "output_type": "stream",
     "text": [
      "root\n",
      " |-- Age: long (nullable = true)\n",
      " |-- workclass: string (nullable = true)\n",
      " |-- fnlwgt: long (nullable = true)\n",
      " |-- education: string (nullable = true)\n",
      " |-- education_num: long (nullable = true)\n",
      " |-- marital: string (nullable = true)\n",
      " |-- occupation: string (nullable = true)\n",
      " |-- relationship: string (nullable = true)\n",
      " |-- race: string (nullable = true)\n",
      " |-- sex: string (nullable = true)\n",
      " |-- capital_gain: long (nullable = true)\n",
      " |-- capital_loss: long (nullable = true)\n",
      " |-- hours_week: long (nullable = true)\n",
      " |-- native_country: string (nullable = true)\n",
      " |-- label: string (nullable = true)\n",
      "\n"
     ]
    }
   ],
   "source": [
    "df.printSchema()"
   ]
  },
  {
   "cell_type": "markdown",
   "id": "9e8970fa-cb58-4be6-815a-c819cd9c2a61",
   "metadata": {
    "tags": []
   },
   "source": [
    "You can see the data with show."
   ]
  },
  {
   "cell_type": "code",
   "execution_count": 15,
   "id": "2347b646-28b2-4f57-bcd1-067a44833c36",
   "metadata": {
    "tags": []
   },
   "outputs": [
    {
     "name": "stdout",
     "output_type": "stream",
     "text": [
      "+---+-----------------+------+----------+-------------+-------------------+------------------+--------------+------+-------+------------+------------+----------+--------------+------+\n",
      "|Age|workclass        |fnlwgt|education |education_num|marital            |occupation        |relationship  |race  |sex    |capital_gain|capital_loss|hours_week|native_country|label |\n",
      "+---+-----------------+------+----------+-------------+-------------------+------------------+--------------+------+-------+------------+------------+----------+--------------+------+\n",
      "|39 | State-gov       |77516 | Bachelors|13           | Never-married     | Adm-clerical     | Not-in-family| White| Male  |2174        |0           |40        | United-States| <=50K|\n",
      "|50 | Self-emp-not-inc|83311 | Bachelors|13           | Married-civ-spouse| Exec-managerial  | Husband      | White| Male  |0           |0           |13        | United-States| <=50K|\n",
      "|38 | Private         |215646| HS-grad  |9            | Divorced          | Handlers-cleaners| Not-in-family| White| Male  |0           |0           |40        | United-States| <=50K|\n",
      "|53 | Private         |234721| 11th     |7            | Married-civ-spouse| Handlers-cleaners| Husband      | Black| Male  |0           |0           |40        | United-States| <=50K|\n",
      "|28 | Private         |338409| Bachelors|13           | Married-civ-spouse| Prof-specialty   | Wife         | Black| Female|0           |0           |40        | Cuba         | <=50K|\n",
      "+---+-----------------+------+----------+-------------+-------------------+------------------+--------------+------+-------+------------+------------+----------+--------------+------+\n",
      "only showing top 5 rows\n",
      "\n"
     ]
    }
   ],
   "source": [
    "df.show(5, truncate = False)"
   ]
  },
  {
   "cell_type": "code",
   "execution_count": 16,
   "id": "7ee1c6bd-d8a6-4562-9959-54e79f107068",
   "metadata": {
    "tags": []
   },
   "outputs": [
    {
     "name": "stdout",
     "output_type": "stream",
     "text": [
      "+---+-----------------+------+----------+-------------+-------------------+------------------+--------------+------+-------+------------+------------+----------+--------------+------+\n",
      "|Age|        workclass|fnlwgt| education|education_num|            marital|        occupation|  relationship|  race|    sex|capital_gain|capital_loss|hours_week|native_country| label|\n",
      "+---+-----------------+------+----------+-------------+-------------------+------------------+--------------+------+-------+------------+------------+----------+--------------+------+\n",
      "| 39|        State-gov| 77516| Bachelors|           13|      Never-married|      Adm-clerical| Not-in-family| White|   Male|        2174|           0|        40| United-States| <=50K|\n",
      "| 50| Self-emp-not-inc| 83311| Bachelors|           13| Married-civ-spouse|   Exec-managerial|       Husband| White|   Male|           0|           0|        13| United-States| <=50K|\n",
      "| 38|          Private|215646|   HS-grad|            9|           Divorced| Handlers-cleaners| Not-in-family| White|   Male|           0|           0|        40| United-States| <=50K|\n",
      "| 53|          Private|234721|      11th|            7| Married-civ-spouse| Handlers-cleaners|       Husband| Black|   Male|           0|           0|        40| United-States| <=50K|\n",
      "| 28|          Private|338409| Bachelors|           13| Married-civ-spouse|    Prof-specialty|          Wife| Black| Female|           0|           0|        40|          Cuba| <=50K|\n",
      "+---+-----------------+------+----------+-------------+-------------------+------------------+--------------+------+-------+------------+------------+----------+--------------+------+\n",
      "only showing top 5 rows\n",
      "\n"
     ]
    }
   ],
   "source": [
    "df.show(5, truncate = True)"
   ]
  },
  {
   "cell_type": "markdown",
   "id": "b6df9688-0265-4882-86b5-a3868a7c8c04",
   "metadata": {
    "tags": []
   },
   "source": [
    "To convert the continuous variable in the right format, you can use recast the columns. You can use withColumn to tell Spark which column to operate the transformation."
   ]
  },
  {
   "cell_type": "markdown",
   "id": "fec83fbf-1c8e-4726-9a04-8dac762056a6",
   "metadata": {
    "tags": []
   },
   "source": [
    "#### Import all from `sql.types`"
   ]
  },
  {
   "cell_type": "code",
   "execution_count": 17,
   "id": "fd9462dc-a765-4588-9746-808888fedde4",
   "metadata": {
    "tags": []
   },
   "outputs": [],
   "source": [
    "from pyspark.sql.types import *"
   ]
  },
  {
   "cell_type": "markdown",
   "id": "d46d687c-d59c-4aa8-88fe-501392e59c5b",
   "metadata": {
    "tags": []
   },
   "source": [
    "#### Write a custom function to convert the data type of DataFrame columns"
   ]
  },
  {
   "cell_type": "code",
   "execution_count": 18,
   "id": "227c9494-50a3-4738-aef1-a77cfea5f79b",
   "metadata": {
    "tags": []
   },
   "outputs": [],
   "source": [
    "def convertColumn(df, names, newType):\n",
    "    \n",
    "    for name in names: \n",
    "        df = df.withColumn(name, df[name].cast(newType))\n",
    "        \n",
    "    return df"
   ]
  },
  {
   "cell_type": "markdown",
   "id": "0c2e346c-c62b-40e9-b1d3-100e3fd222d8",
   "metadata": {
    "tags": []
   },
   "source": [
    "#### List of continuous features"
   ]
  },
  {
   "cell_type": "code",
   "execution_count": 19,
   "id": "803165b6-8fc3-4111-b3e2-2b6cd012b179",
   "metadata": {
    "tags": []
   },
   "outputs": [],
   "source": [
    "CONTI_FEATURES  = ['age', 'fnlwgt','capital_gain', 'education_num', 'capital_loss', 'hours_week']"
   ]
  },
  {
   "cell_type": "markdown",
   "id": "2fc74e35-ad25-4693-a44a-a2ae3b83cf5f",
   "metadata": {
    "tags": []
   },
   "source": [
    "#### Convert the type"
   ]
  },
  {
   "cell_type": "code",
   "execution_count": 20,
   "id": "81b2a184-693c-4ad8-93c0-04ef32ad34be",
   "metadata": {
    "tags": []
   },
   "outputs": [],
   "source": [
    "df = convertColumn(df, CONTI_FEATURES, FloatType())"
   ]
  },
  {
   "cell_type": "markdown",
   "id": "22e7c71e-f966-465e-bf23-f918555f79a1",
   "metadata": {
    "tags": []
   },
   "source": [
    "#### Check the dataset"
   ]
  },
  {
   "cell_type": "code",
   "execution_count": 21,
   "id": "1a140b2d-f223-4907-977a-86283cfacff9",
   "metadata": {
    "tags": []
   },
   "outputs": [
    {
     "name": "stdout",
     "output_type": "stream",
     "text": [
      "root\n",
      " |-- age: float (nullable = true)\n",
      " |-- workclass: string (nullable = true)\n",
      " |-- fnlwgt: float (nullable = true)\n",
      " |-- education: string (nullable = true)\n",
      " |-- education_num: float (nullable = true)\n",
      " |-- marital: string (nullable = true)\n",
      " |-- occupation: string (nullable = true)\n",
      " |-- relationship: string (nullable = true)\n",
      " |-- race: string (nullable = true)\n",
      " |-- sex: string (nullable = true)\n",
      " |-- capital_gain: float (nullable = true)\n",
      " |-- capital_loss: float (nullable = true)\n",
      " |-- hours_week: float (nullable = true)\n",
      " |-- native_country: string (nullable = true)\n",
      " |-- label: string (nullable = true)\n",
      "\n"
     ]
    }
   ],
   "source": [
    "df.printSchema()"
   ]
  },
  {
   "cell_type": "markdown",
   "id": "7a6f9580-1b67-4683-bdef-3093662330aa",
   "metadata": {
    "tags": []
   },
   "source": [
    "#### Select columns"
   ]
  },
  {
   "cell_type": "markdown",
   "id": "1ac782ae-5855-4843-b19f-57ad18fb7035",
   "metadata": {
    "tags": []
   },
   "source": [
    "You can select and show the rows with select and the names of the features. Below, age and fnlwgt are selected."
   ]
  },
  {
   "cell_type": "code",
   "execution_count": 22,
   "id": "be5a20e2-8cd8-4f77-be73-a77bf4908901",
   "metadata": {
    "tags": []
   },
   "outputs": [
    {
     "name": "stdout",
     "output_type": "stream",
     "text": [
      "+----+--------+\n",
      "| age|  fnlwgt|\n",
      "+----+--------+\n",
      "|39.0| 77516.0|\n",
      "|50.0| 83311.0|\n",
      "|38.0|215646.0|\n",
      "|53.0|234721.0|\n",
      "|28.0|338409.0|\n",
      "+----+--------+\n",
      "only showing top 5 rows\n",
      "\n"
     ]
    }
   ],
   "source": [
    "df.select('age','fnlwgt').show(5)"
   ]
  },
  {
   "cell_type": "markdown",
   "id": "e0a1c1b7-6c4c-4382-85be-71f04cca3a7e",
   "metadata": {
    "tags": []
   },
   "source": [
    "#### Count by group"
   ]
  },
  {
   "cell_type": "markdown",
   "id": "1006ff6b-f7d1-4bab-9a84-1acbed6b7138",
   "metadata": {
    "tags": []
   },
   "source": [
    "If you want to count the number of occurrence by group, you can chain:\n",
    "- `groupBy()`\n",
    "- `count()`\n",
    "\n",
    "... together. In the PySpark example below, you count the number of rows by the education level."
   ]
  },
  {
   "cell_type": "code",
   "execution_count": 23,
   "id": "8bcf52d5-4252-45c4-8bce-805e0bcabab9",
   "metadata": {
    "tags": []
   },
   "outputs": [
    {
     "name": "stdout",
     "output_type": "stream",
     "text": [
      "+-------------+-----+\n",
      "|    education|count|\n",
      "+-------------+-----+\n",
      "|    Preschool|   51|\n",
      "|      1st-4th|  168|\n",
      "|      5th-6th|  333|\n",
      "|    Doctorate|  413|\n",
      "|         12th|  433|\n",
      "|          9th|  514|\n",
      "|  Prof-school|  576|\n",
      "|      7th-8th|  646|\n",
      "|         10th|  933|\n",
      "|   Assoc-acdm| 1067|\n",
      "|         11th| 1175|\n",
      "|    Assoc-voc| 1382|\n",
      "|      Masters| 1723|\n",
      "|    Bachelors| 5355|\n",
      "| Some-college| 7291|\n",
      "|      HS-grad|10501|\n",
      "+-------------+-----+\n",
      "\n"
     ]
    }
   ],
   "source": [
    "df.groupBy(\"education\").count().sort(\"count\",ascending=True).show()"
   ]
  },
  {
   "cell_type": "markdown",
   "id": "2fc5b77f-a497-4bfc-9a85-e3b81c4be856",
   "metadata": {
    "tags": []
   },
   "source": [
    "#### Describe the data"
   ]
  },
  {
   "cell_type": "markdown",
   "id": "b75e5315-c2e8-4dd2-8f55-42f768ca2714",
   "metadata": {
    "tags": []
   },
   "source": [
    "To get a summary statistics, of the data, you can use describe(). It will compute the:\n",
    "- count\n",
    "- mean\n",
    "- standard deviation\n",
    "- min\n",
    "- max"
   ]
  },
  {
   "cell_type": "code",
   "execution_count": 24,
   "id": "ecabdba3-793f-4b8a-9042-745ce46b083c",
   "metadata": {
    "tags": []
   },
   "outputs": [
    {
     "name": "stdout",
     "output_type": "stream",
     "text": [
      "+-------+------------------+------------+------------------+-------------+------------------+---------+-----------------+------------+-------------------+-------+------------------+------------------+------------------+--------------+------+\n",
      "|summary|               age|   workclass|            fnlwgt|    education|     education_num|  marital|       occupation|relationship|               race|    sex|      capital_gain|      capital_loss|        hours_week|native_country| label|\n",
      "+-------+------------------+------------+------------------+-------------+------------------+---------+-----------------+------------+-------------------+-------+------------------+------------------+------------------+--------------+------+\n",
      "|  count|             32561|       32561|             32561|        32561|             32561|    32561|            32561|       32561|              32561|  32561|             32561|             32561|             32561|         32561| 32561|\n",
      "|   mean| 38.58164675532078|        null|189778.36651208502|         null|  10.0806793403151|     null|             null|        null|               null|   null|1077.6488437087312|   87.303829734959|40.437455852092995|          null|  null|\n",
      "| stddev|13.640432553581341|        null|105549.97769702233|         null|2.5727203320673877|     null|             null|        null|               null|   null| 7385.292084840342|402.96021864899944|12.347428681731843|          null|  null|\n",
      "|    min|              17.0|           ?|           12285.0|         10th|               1.0| Divorced|                ?|     Husband| Amer-Indian-Eskimo| Female|               0.0|               0.0|               1.0|             ?| <=50K|\n",
      "|    max|              90.0| Without-pay|         1484705.0| Some-college|              16.0|  Widowed| Transport-moving|        Wife|              White|   Male|           99999.0|            4356.0|              99.0|    Yugoslavia|  >50K|\n",
      "+-------+------------------+------------+------------------+-------------+------------------+---------+-----------------+------------+-------------------+-------+------------------+------------------+------------------+--------------+------+\n",
      "\n"
     ]
    }
   ],
   "source": [
    "df.describe().show()"
   ]
  },
  {
   "cell_type": "markdown",
   "id": "9d8242f0-90c4-4b26-a2b4-a4ee20a84d6e",
   "metadata": {
    "tags": []
   },
   "source": [
    "If you want the summary statistic of only one column, add the name of the column inside `describe()`."
   ]
  },
  {
   "cell_type": "code",
   "execution_count": 25,
   "id": "abdee758-2333-47b2-9ee0-2cfbf255db1f",
   "metadata": {
    "tags": []
   },
   "outputs": [
    {
     "name": "stdout",
     "output_type": "stream",
     "text": [
      "+-------+------------------+\n",
      "|summary|      capital_gain|\n",
      "+-------+------------------+\n",
      "|  count|             32561|\n",
      "|   mean|1077.6488437087312|\n",
      "| stddev| 7385.292084840342|\n",
      "|    min|               0.0|\n",
      "|    max|           99999.0|\n",
      "+-------+------------------+\n",
      "\n"
     ]
    }
   ],
   "source": [
    "df.describe('capital_gain').show()"
   ]
  },
  {
   "cell_type": "markdown",
   "id": "bee63e16-5603-46d2-ab3b-f4097901f09f",
   "metadata": {
    "tags": []
   },
   "source": [
    "#### Crosstab computation"
   ]
  },
  {
   "cell_type": "markdown",
   "id": "31c05192-1044-4e7a-a8d1-f46f4681f165",
   "metadata": {
    "tags": []
   },
   "source": [
    "In some occasions, it can be interesting to see the descriptive statistics between two pairwise columns. For instance, you can count the number of people with income below or above 50k by education level. This operation is called a crosstab."
   ]
  },
  {
   "cell_type": "code",
   "execution_count": 26,
   "id": "6afbf886-1192-4f20-9410-0d6689305457",
   "metadata": {
    "tags": []
   },
   "outputs": [
    {
     "name": "stdout",
     "output_type": "stream",
     "text": [
      "+---------+------+-----+\n",
      "|age_label| <=50K| >50K|\n",
      "+---------+------+-----+\n",
      "|     17.0|   395|    0|\n",
      "|     18.0|   550|    0|\n",
      "|     19.0|   710|    2|\n",
      "|     20.0|   753|    0|\n",
      "|     21.0|   717|    3|\n",
      "|     22.0|   752|   13|\n",
      "|     23.0|   865|   12|\n",
      "|     24.0|   767|   31|\n",
      "|     25.0|   788|   53|\n",
      "|     26.0|   722|   63|\n",
      "|     27.0|   754|   81|\n",
      "|     28.0|   748|  119|\n",
      "|     29.0|   679|  134|\n",
      "|     30.0|   690|  171|\n",
      "|     31.0|   705|  183|\n",
      "|     32.0|   639|  189|\n",
      "|     33.0|   684|  191|\n",
      "|     34.0|   643|  243|\n",
      "|     35.0|   659|  217|\n",
      "|     36.0|   635|  263|\n",
      "+---------+------+-----+\n",
      "only showing top 20 rows\n",
      "\n"
     ]
    }
   ],
   "source": [
    "df.crosstab('age', 'label').sort(\"age_label\").show()"
   ]
  },
  {
   "cell_type": "markdown",
   "id": "5679a09b-5397-4017-85ac-c8f2d0585446",
   "metadata": {
    "tags": []
   },
   "source": [
    "You can see no people have revenue above 50k when they are young."
   ]
  },
  {
   "cell_type": "markdown",
   "id": "ec9dc3ee-1405-4724-a8df-4266daf3858f",
   "metadata": {
    "tags": []
   },
   "source": [
    "#### Drop column"
   ]
  },
  {
   "cell_type": "markdown",
   "id": "b80e9ead-d9df-4cf9-9718-ae8ac52897e8",
   "metadata": {
    "jp-MarkdownHeadingCollapsed": true,
    "tags": []
   },
   "source": [
    "There are two intuitive commands to drop columns:\n",
    "- **drop()**: Drop a column\n",
    "- **dropna()**: Drop NA's\n",
    "\n",
    "Below you drop the column education_num"
   ]
  },
  {
   "cell_type": "code",
   "execution_count": 27,
   "id": "949addbb-71be-4bd0-8a1d-d2dfcd17ea12",
   "metadata": {
    "jp-MarkdownHeadingCollapsed": true,
    "tags": []
   },
   "outputs": [
    {
     "data": {
      "text/plain": [
       "['age',\n",
       " 'workclass',\n",
       " 'fnlwgt',\n",
       " 'education',\n",
       " 'marital',\n",
       " 'occupation',\n",
       " 'relationship',\n",
       " 'race',\n",
       " 'sex',\n",
       " 'capital_gain',\n",
       " 'capital_loss',\n",
       " 'hours_week',\n",
       " 'native_country',\n",
       " 'label']"
      ]
     },
     "execution_count": 27,
     "metadata": {},
     "output_type": "execute_result"
    }
   ],
   "source": [
    "df.drop('education_num').columns"
   ]
  },
  {
   "cell_type": "markdown",
   "id": "72b0a81b-f4ac-4804-aac6-8b364f5eac1a",
   "metadata": {
    "tags": []
   },
   "source": [
    "#### Filter data"
   ]
  },
  {
   "cell_type": "markdown",
   "id": "eba17155-51be-41d1-8115-efdf10665bd2",
   "metadata": {
    "jp-MarkdownHeadingCollapsed": true,
    "tags": []
   },
   "source": [
    "You can use filter() to apply descriptive statistics in a subset of data. For instance, you can count the number of people above 40:"
   ]
  },
  {
   "cell_type": "code",
   "execution_count": 28,
   "id": "8841671d-9d3e-4d8f-b749-ea6caf1e4690",
   "metadata": {
    "jp-MarkdownHeadingCollapsed": true,
    "tags": []
   },
   "outputs": [
    {
     "data": {
      "text/plain": [
       "13443"
      ]
     },
     "execution_count": 28,
     "metadata": {},
     "output_type": "execute_result"
    }
   ],
   "source": [
    "df.filter(df.age > 40).count()"
   ]
  },
  {
   "cell_type": "markdown",
   "id": "864c1d95-53bc-4119-a465-fe0158780238",
   "metadata": {
    "tags": []
   },
   "source": [
    "#### Descriptive statistics by group"
   ]
  },
  {
   "cell_type": "markdown",
   "id": "679646ed-602c-4af0-bc5a-a9f7b8c2c07d",
   "metadata": {
    "jp-MarkdownHeadingCollapsed": true,
    "tags": []
   },
   "source": [
    "Finally, you can group data by group and compute statistical operations like the mean."
   ]
  },
  {
   "cell_type": "code",
   "execution_count": 29,
   "id": "73513010-1c2a-4148-977c-39333073eb52",
   "metadata": {
    "jp-MarkdownHeadingCollapsed": true,
    "tags": []
   },
   "outputs": [
    {
     "name": "stdout",
     "output_type": "stream",
     "text": [
      "+--------------------+------------------+\n",
      "|             marital| avg(capital_gain)|\n",
      "+--------------------+------------------+\n",
      "|             Widowed| 571.0715005035247|\n",
      "| Married-spouse-a...| 653.9832535885167|\n",
      "|   Married-AF-spouse| 432.6521739130435|\n",
      "|  Married-civ-spouse|1764.8595085470085|\n",
      "|            Divorced| 728.4148098131893|\n",
      "|       Never-married|376.58831788823363|\n",
      "|           Separated| 535.5687804878049|\n",
      "+--------------------+------------------+\n",
      "\n"
     ]
    }
   ],
   "source": [
    "df.groupby('marital').agg({'capital_gain': 'mean'}).show()"
   ]
  },
  {
   "cell_type": "markdown",
   "id": "fc02118b-0405-469b-94ad-14c8dcbce6f7",
   "metadata": {
    "tags": []
   },
   "source": [
    "### Step 2: Data preprocessing"
   ]
  },
  {
   "cell_type": "markdown",
   "id": "0df5743a-6e8e-4d7f-9b34-64a319fa3f5d",
   "metadata": {
    "jp-MarkdownHeadingCollapsed": true,
    "tags": []
   },
   "source": [
    "Data processing is a critical step in machine learning. After you remove garbage data, you get some important insights.\n",
    "\n",
    "For instance, you know that age is not a linear function with the income. When people are young, their income is usually lower than mid-age. After retirement, a household uses their saving, meaning a decrease in income. To capture this pattern, you can add a square to the age feature."
   ]
  },
  {
   "cell_type": "markdown",
   "id": "9a918201-6bab-49d4-861a-25e8ac4f10da",
   "metadata": {
    "tags": []
   },
   "source": [
    "#### Add age square"
   ]
  },
  {
   "cell_type": "markdown",
   "id": "c46dcfaa-d9f7-4f40-af21-c1476a6ce580",
   "metadata": {
    "tags": []
   },
   "source": [
    "To add a new feature, you need to:\n",
    "- Select the column\n",
    "- Apply the transformation and add it to the DataFrame"
   ]
  },
  {
   "cell_type": "code",
   "execution_count": 30,
   "id": "a86aa688-1caa-4b88-945a-04a5e3bff2d3",
   "metadata": {
    "tags": []
   },
   "outputs": [],
   "source": [
    "from pyspark.sql.functions import *"
   ]
  },
  {
   "cell_type": "code",
   "execution_count": 31,
   "id": "0a831eeb-4c86-41d5-83a2-90c1e81982ed",
   "metadata": {
    "tags": []
   },
   "outputs": [],
   "source": [
    "# Select the column\n",
    "\n",
    "age_square = df.select(col(\"age\")**2)"
   ]
  },
  {
   "cell_type": "code",
   "execution_count": 32,
   "id": "feb72e44-636c-4a44-a409-faf8b78bf088",
   "metadata": {
    "tags": []
   },
   "outputs": [
    {
     "name": "stdout",
     "output_type": "stream",
     "text": [
      "root\n",
      " |-- age: float (nullable = true)\n",
      " |-- workclass: string (nullable = true)\n",
      " |-- fnlwgt: float (nullable = true)\n",
      " |-- education: string (nullable = true)\n",
      " |-- education_num: float (nullable = true)\n",
      " |-- marital: string (nullable = true)\n",
      " |-- occupation: string (nullable = true)\n",
      " |-- relationship: string (nullable = true)\n",
      " |-- race: string (nullable = true)\n",
      " |-- sex: string (nullable = true)\n",
      " |-- capital_gain: float (nullable = true)\n",
      " |-- capital_loss: float (nullable = true)\n",
      " |-- hours_week: float (nullable = true)\n",
      " |-- native_country: string (nullable = true)\n",
      " |-- label: string (nullable = true)\n",
      " |-- age_square: double (nullable = true)\n",
      "\n"
     ]
    }
   ],
   "source": [
    "# Apply the transformation and add it to the DataFrame\n",
    "\n",
    "df = df.withColumn(\"age_square\", col(\"age\")**2)\n",
    "df.printSchema()"
   ]
  },
  {
   "cell_type": "markdown",
   "id": "d95f2187-f1fc-4aba-8631-08c3f8747ac6",
   "metadata": {
    "tags": []
   },
   "source": [
    "You can see that agesquare has been successfully added to the data frame. You can change the order of the variables with select. Below, you bring agesquare right after age."
   ]
  },
  {
   "cell_type": "code",
   "execution_count": 33,
   "id": "fc7ce4fe-84fc-4aa5-b907-da4226cc0c1e",
   "metadata": {
    "tags": []
   },
   "outputs": [],
   "source": [
    "COLUMNS = ['age', 'age_square', 'workclass', 'fnlwgt', 'education', 'education_num', 'marital',\n",
    "           'occupation', 'relationship', 'race', 'sex', 'capital_gain', 'capital_loss',\n",
    "           'hours_week', 'native_country', 'label']"
   ]
  },
  {
   "cell_type": "code",
   "execution_count": 34,
   "id": "9fade576-6860-4fea-9233-0377b6b73747",
   "metadata": {
    "tags": []
   },
   "outputs": [
    {
     "data": {
      "text/plain": [
       "Row(age=39.0, age_square=1521.0, workclass=' State-gov', fnlwgt=77516.0, education=' Bachelors', education_num=13.0, marital=' Never-married', occupation=' Adm-clerical', relationship=' Not-in-family', race=' White', sex=' Male', capital_gain=2174.0, capital_loss=0.0, hours_week=40.0, native_country=' United-States', label=' <=50K')"
      ]
     },
     "execution_count": 34,
     "metadata": {},
     "output_type": "execute_result"
    }
   ],
   "source": [
    "df = df.select(COLUMNS)\n",
    "df.first()"
   ]
  },
  {
   "cell_type": "markdown",
   "id": "1e49d755-e73c-4759-8c05-4fe4ca3539ad",
   "metadata": {
    "tags": []
   },
   "source": [
    "#### Exclude Holand-Netherlands"
   ]
  },
  {
   "cell_type": "markdown",
   "id": "c45ead48-445c-4190-897c-7bc551234fdf",
   "metadata": {
    "tags": []
   },
   "source": [
    "When a group within a feature has only one observation, it brings no information to the model. On the contrary, it can lead to an error during the cross-validation.\n",
    "\n",
    "Let's check the origin of the household"
   ]
  },
  {
   "cell_type": "code",
   "execution_count": 35,
   "id": "65118b80-7e46-4868-84ac-21c5a3bcff18",
   "metadata": {
    "tags": []
   },
   "outputs": [
    {
     "name": "stdout",
     "output_type": "stream",
     "text": [
      "+--------------------+---------------------+\n",
      "|      native_country|count(native_country)|\n",
      "+--------------------+---------------------+\n",
      "|  Holand-Netherlands|                    1|\n",
      "|            Scotland|                   12|\n",
      "|            Honduras|                   13|\n",
      "|             Hungary|                   13|\n",
      "| Outlying-US(Guam...|                   14|\n",
      "|          Yugoslavia|                   16|\n",
      "|                Laos|                   18|\n",
      "|            Thailand|                   18|\n",
      "|            Cambodia|                   19|\n",
      "|     Trinadad&Tobago|                   19|\n",
      "|                Hong|                   20|\n",
      "|             Ireland|                   24|\n",
      "|             Ecuador|                   28|\n",
      "|              Greece|                   29|\n",
      "|              France|                   29|\n",
      "|                Peru|                   31|\n",
      "|           Nicaragua|                   34|\n",
      "|            Portugal|                   37|\n",
      "|                Iran|                   43|\n",
      "|               Haiti|                   44|\n",
      "+--------------------+---------------------+\n",
      "only showing top 20 rows\n",
      "\n"
     ]
    }
   ],
   "source": [
    "df.filter(df.native_country == 'Holand-Netherlands').count()\n",
    "df.groupby('native_country').agg({'native_country': 'count'}).sort(asc(\"count(native_country)\")).show()"
   ]
  },
  {
   "cell_type": "markdown",
   "id": "b03505ee-8b47-4caa-82db-2dac9a56dc97",
   "metadata": {
    "tags": []
   },
   "source": [
    "The feature native_country has only one household coming from Netherland. We can exclude it."
   ]
  },
  {
   "cell_type": "code",
   "execution_count": 36,
   "id": "9cac1cb9-00ea-4fb7-b0a1-2cb65f942e9d",
   "metadata": {
    "tags": []
   },
   "outputs": [],
   "source": [
    "df_remove = df.filter(df.native_country != 'Holand-Netherlands')"
   ]
  },
  {
   "cell_type": "markdown",
   "id": "0c493cb8-d47f-4cb7-956e-8bbb9d653731",
   "metadata": {
    "tags": []
   },
   "source": [
    "### Step 3: Build a data processing pipeline"
   ]
  },
  {
   "cell_type": "markdown",
   "id": "361f1381-b9b1-4902-acbb-e7affd91959f",
   "metadata": {
    "tags": []
   },
   "source": [
    "Similar to scikit-learn, Pyspark has a pipeline API.\n",
    "\n",
    "A pipeline is very convenient to maintain the structure of the data. You push the data into the pipeline. Inside the pipeline, various operations are done, the output is used to feed the algorithm.\n",
    "\n",
    "For instance, one universal transformation in machine learning consists of converting a string to one hot encoder, i.e., one column by a group. One hot encoder is usually a matrix full of zeroes.\n",
    "\n",
    "The steps to transform the data are very similar to scikit-learn. You need to:\n",
    "\n",
    "- Index the string to numeric\n",
    "- Create the one hot encoder\n",
    "- Transform the data\n",
    "- Two APIs do the job:\n",
    "    - StringIndexer\n",
    "    - OneHotEncoder\n",
    "\n",
    "First of all, you select the string column to index. The inputCol is the name of the column in the dataset. outputCol is the new name given to the transformed column."
   ]
  },
  {
   "cell_type": "markdown",
   "id": "b0a4c8ed-452c-4a8e-b4ca-646e5adafb46",
   "metadata": {
    "tags": []
   },
   "source": [
    "#### Fit the data and transform it"
   ]
  },
  {
   "cell_type": "markdown",
   "id": "ce70ebc2-bd40-4aba-a6f3-5136a5d9e7d3",
   "metadata": {
    "tags": []
   },
   "source": [
    "Create the news columns based on the group. For instance, if there are 10 groups in the feature, the new matrix will have 10 columns, one for each group."
   ]
  },
  {
   "cell_type": "code",
   "execution_count": 37,
   "id": "34d8a643-3a06-4adf-b9a2-c2ee8521feb8",
   "metadata": {
    "tags": []
   },
   "outputs": [],
   "source": [
    "from pyspark.ml.feature import StringIndexer, OneHotEncoder, VectorAssembler"
   ]
  },
  {
   "cell_type": "code",
   "execution_count": 43,
   "id": "f1c41bc6-ba83-4fb5-b9f5-a3af47dc4203",
   "metadata": {
    "tags": []
   },
   "outputs": [
    {
     "name": "stdout",
     "output_type": "stream",
     "text": [
      "+-----------------+-----------------+\n",
      "|        workclass|workclass_encoded|\n",
      "+-----------------+-----------------+\n",
      "|        State-gov|              4.0|\n",
      "| Self-emp-not-inc|              1.0|\n",
      "|          Private|              0.0|\n",
      "|          Private|              0.0|\n",
      "|          Private|              0.0|\n",
      "|          Private|              0.0|\n",
      "|          Private|              0.0|\n",
      "| Self-emp-not-inc|              1.0|\n",
      "|          Private|              0.0|\n",
      "|          Private|              0.0|\n",
      "|          Private|              0.0|\n",
      "|        State-gov|              4.0|\n",
      "|          Private|              0.0|\n",
      "|          Private|              0.0|\n",
      "|          Private|              0.0|\n",
      "|          Private|              0.0|\n",
      "| Self-emp-not-inc|              1.0|\n",
      "|          Private|              0.0|\n",
      "|          Private|              0.0|\n",
      "| Self-emp-not-inc|              1.0|\n",
      "+-----------------+-----------------+\n",
      "only showing top 20 rows\n",
      "\n"
     ]
    }
   ],
   "source": [
    "stringIndexer = StringIndexer(inputCol=\"workclass\", outputCol=\"workclass_encoded\")\n",
    "model = stringIndexer.fit(df)\n",
    "indexed = model.transform(df)\n",
    "encoder = OneHotEncoder(dropLast=False, inputCol=\"workclass_encoded\", outputCol=\"workclass_vec\").fit(indexed)\n",
    "encoded = encoder.transform(indexed)\n",
    "encoded.select('workclass','workclass_encoded').show(20)"
   ]
  },
  {
   "cell_type": "markdown",
   "id": "8674bffd-ecff-4a1a-a83f-f18b2c9a7486",
   "metadata": {
    "tags": []
   },
   "source": [
    "#### Build the pipeline"
   ]
  },
  {
   "cell_type": "markdown",
   "id": "14c9fc3f-5fff-4a90-a9d1-0cfecd33d8a6",
   "metadata": {
    "tags": []
   },
   "source": [
    "You will build a pipeline to convert all the precise features and add them to the final dataset. The pipeline will have four operations, but feel free to add as many operations as you want.\n",
    "- Encode the categorical data\n",
    "- Index the label feature\n",
    "- Add continuous variable\n",
    "- Assemble the steps\n",
    "\n",
    "Each step is stored in a list named stages. This list will tell the VectorAssembler what operation to perform inside the pipeline."
   ]
  },
  {
   "cell_type": "markdown",
   "id": "36bc4a7c-627f-4c3d-9fc8-65afa9aa47e1",
   "metadata": {
    "tags": []
   },
   "source": [
    "#### Encode the categorical data"
   ]
  },
  {
   "cell_type": "markdown",
   "id": "b9763d2e-a19f-4f14-891b-f40a7c16d9bc",
   "metadata": {
    "tags": []
   },
   "source": [
    "This step is very similar to the above example, except that you loop over all the categorical features."
   ]
  },
  {
   "cell_type": "code",
   "execution_count": 44,
   "id": "ec343ed5-8580-4249-b476-0736ce504fb9",
   "metadata": {
    "tags": []
   },
   "outputs": [],
   "source": [
    "from pyspark.ml import Pipeline\n",
    "from pyspark.ml.feature import OneHotEncoder"
   ]
  },
  {
   "cell_type": "code",
   "execution_count": 45,
   "id": "f2c37782-b804-426c-86ca-bed5b73f1278",
   "metadata": {
    "tags": []
   },
   "outputs": [],
   "source": [
    "CATE_FEATURES = ['workclass', 'education', 'marital', 'occupation', 'relationship', 'race', 'sex', 'native_country']\n",
    "stages = [] # stages in our Pipeline\n",
    "\n",
    "for categoricalCol in CATE_FEATURES:\n",
    "\n",
    "    stringIndexer = StringIndexer(inputCol=categoricalCol,\n",
    "                                  outputCol=categoricalCol + \"Index\")\n",
    "    encoder = OneHotEncoder(inputCols=[stringIndexer.getOutputCol()],\n",
    "                            outputCols=[categoricalCol + \"classVec\"])\n",
    "    stages += [stringIndexer, encoder]"
   ]
  },
  {
   "cell_type": "code",
   "execution_count": 46,
   "id": "522bc65a-bf81-44f3-a5fa-6214a62d7a08",
   "metadata": {},
   "outputs": [
    {
     "data": {
      "text/plain": [
       "[StringIndexer_d772cfb6f496,\n",
       " OneHotEncoder_fad166fc8259,\n",
       " StringIndexer_61677eb7b79a,\n",
       " OneHotEncoder_1d88f17fefe1,\n",
       " StringIndexer_9c935c36c284,\n",
       " OneHotEncoder_9d2569712155,\n",
       " StringIndexer_a0264a5bde10,\n",
       " OneHotEncoder_7f159f13efc9,\n",
       " StringIndexer_156fe1cb3fdc,\n",
       " OneHotEncoder_f039c67c0d6f,\n",
       " StringIndexer_5fc92b16d783,\n",
       " OneHotEncoder_0dba2b88f38d,\n",
       " StringIndexer_597ea0780d41,\n",
       " OneHotEncoder_7fcad3f6d53d,\n",
       " StringIndexer_129fb25ac9e5,\n",
       " OneHotEncoder_59d93a2b3b38]"
      ]
     },
     "execution_count": 46,
     "metadata": {},
     "output_type": "execute_result"
    }
   ],
   "source": [
    "stages"
   ]
  },
  {
   "cell_type": "markdown",
   "id": "3b238537-1c7b-4942-a720-cf47254a5511",
   "metadata": {
    "tags": []
   },
   "source": [
    "#### Index the label feature"
   ]
  },
  {
   "cell_type": "markdown",
   "id": "b7338c10-34a5-4a77-8575-17eb8cbc27f8",
   "metadata": {
    "tags": []
   },
   "source": [
    "Spark, like many other libraries, does not accept string values for the label. You convert the label feature with StringIndexer and add it to the list stages"
   ]
  },
  {
   "cell_type": "code",
   "execution_count": 60,
   "id": "e046df0a-47a2-4b54-a188-7f8753e97692",
   "metadata": {
    "tags": []
   },
   "outputs": [],
   "source": [
    "# Convert label into label indices using the StringIndexer\n",
    "\n",
    "label_stringIdx =  StringIndexer(inputCol=\"label\", outputCol=\"newlabel\")\n",
    "stages += [label_stringIdx]"
   ]
  },
  {
   "cell_type": "markdown",
   "id": "4c159d23-6eab-4de8-b4bb-7ec5abace139",
   "metadata": {
    "tags": []
   },
   "source": [
    "The inputCols of the VectorAssembler is a list of columns. You can create a new list containing all the new columns. The code below populate the list with encoded categorical features and continuous features."
   ]
  },
  {
   "cell_type": "code",
   "execution_count": 61,
   "id": "1dde8533-d7a4-4f2d-a0f7-f09f5ed2a2c8",
   "metadata": {
    "tags": []
   },
   "outputs": [],
   "source": [
    "# Add continuous variable\n",
    "\n",
    "assemblerInputs = [c + \"classVec\" for c in CATE_FEATURES] + CONTI_FEATURES"
   ]
  },
  {
   "cell_type": "markdown",
   "id": "fa182a5b-cfee-41ec-8708-8dff3af477fb",
   "metadata": {
    "tags": []
   },
   "source": [
    "Finally, you pass all the steps in the VectorAssembler"
   ]
  },
  {
   "cell_type": "code",
   "execution_count": 62,
   "id": "6aea555b-d8a6-4967-a44c-c430020abb95",
   "metadata": {
    "tags": []
   },
   "outputs": [],
   "source": [
    "# Assemble the steps\n",
    "\n",
    "assembler = VectorAssembler(inputCols=assemblerInputs, outputCol=\"features\")\n",
    "stages += [assembler]"
   ]
  },
  {
   "cell_type": "markdown",
   "id": "82c3b295-6e90-4eb6-8f71-8a65d442caed",
   "metadata": {
    "tags": []
   },
   "source": [
    "Now that all the steps are ready, you push the data to the pipeline."
   ]
  },
  {
   "cell_type": "code",
   "execution_count": 63,
   "id": "99859b78-742d-43fd-b8d9-465e21bacc6b",
   "metadata": {
    "tags": []
   },
   "outputs": [],
   "source": [
    "# Create a Pipeline\n",
    "\n",
    "pipeline = Pipeline(stages=stages)\n",
    "pipelineModel = pipeline.fit(df_remove)\n",
    "model = pipelineModel.transform(df_remove)"
   ]
  },
  {
   "cell_type": "markdown",
   "id": "a054ce28-906a-411e-ae4d-e27b73b04c4f",
   "metadata": {
    "jp-MarkdownHeadingCollapsed": true,
    "tags": []
   },
   "source": [
    "If you check the new dataset, you can see that it contains all the features, transformed and not transformed. You are only interested by the newlabel and features. The features includes all the transformed features and the continuous variables."
   ]
  },
  {
   "cell_type": "code",
   "execution_count": 64,
   "id": "59b19ea2-9b49-4e9b-8a5b-ba073ec3e7df",
   "metadata": {
    "jp-MarkdownHeadingCollapsed": true,
    "tags": []
   },
   "outputs": [
    {
     "data": {
      "text/plain": [
       "[Row(age=39.0, age_square=1521.0, workclass=' State-gov', fnlwgt=77516.0, education=' Bachelors', education_num=13.0, marital=' Never-married', occupation=' Adm-clerical', relationship=' Not-in-family', race=' White', sex=' Male', capital_gain=2174.0, capital_loss=0.0, hours_week=40.0, native_country=' United-States', label=' <=50K', workclassIndex=4.0, workclassclassVec=SparseVector(8, {4: 1.0}), educationIndex=2.0, educationclassVec=SparseVector(15, {2: 1.0}), maritalIndex=1.0, maritalclassVec=SparseVector(6, {1: 1.0}), occupationIndex=3.0, occupationclassVec=SparseVector(14, {3: 1.0}), relationshipIndex=1.0, relationshipclassVec=SparseVector(5, {1: 1.0}), raceIndex=0.0, raceclassVec=SparseVector(4, {0: 1.0}), sexIndex=0.0, sexclassVec=SparseVector(1, {0: 1.0}), native_countryIndex=0.0, native_countryclassVec=SparseVector(41, {0: 1.0}), newlabel=0.0, features=SparseVector(100, {4: 1.0, 10: 1.0, 24: 1.0, 32: 1.0, 44: 1.0, 48: 1.0, 52: 1.0, 53: 1.0, 94: 39.0, 95: 77516.0, 96: 2174.0, 97: 13.0, 99: 40.0}))]"
      ]
     },
     "execution_count": 64,
     "metadata": {},
     "output_type": "execute_result"
    }
   ],
   "source": [
    "model.take(1)"
   ]
  },
  {
   "cell_type": "markdown",
   "id": "0e7b796b-8dbd-47cb-b830-b543a8b41e5a",
   "metadata": {
    "tags": []
   },
   "source": [
    "### Step 4: Build the classifier: logistic"
   ]
  },
  {
   "cell_type": "markdown",
   "id": "c130842e-9857-4d12-8c84-8de99e1a7521",
   "metadata": {
    "jp-MarkdownHeadingCollapsed": true,
    "tags": []
   },
   "source": [
    "To make the computation faster, we convert features to DenseVector type."
   ]
  },
  {
   "cell_type": "code",
   "execution_count": 65,
   "id": "6da6a39f-607a-4479-97f0-021034ec7e8a",
   "metadata": {
    "jp-MarkdownHeadingCollapsed": true,
    "tags": []
   },
   "outputs": [],
   "source": [
    "from pyspark.ml.linalg import DenseVector\n",
    "\n",
    "input_data = model.rdd.map(lambda x: (x[\"newlabel\"], DenseVector(x[\"features\"])))"
   ]
  },
  {
   "cell_type": "markdown",
   "id": "cf9d213c-4332-4f6b-81a1-09a936016bb1",
   "metadata": {
    "jp-MarkdownHeadingCollapsed": true,
    "tags": []
   },
   "source": [
    "You are ready to create the train data as a DataFrame. You use the SparkSession."
   ]
  },
  {
   "cell_type": "code",
   "execution_count": 67,
   "id": "d31a7808-39c1-47a8-9d49-1b29a7b8e17a",
   "metadata": {
    "jp-MarkdownHeadingCollapsed": true,
    "tags": []
   },
   "outputs": [
    {
     "name": "stdout",
     "output_type": "stream",
     "text": [
      "+-----+--------------------+\n",
      "|label|            features|\n",
      "+-----+--------------------+\n",
      "|  0.0|[0.0,0.0,0.0,0.0,...|\n",
      "|  0.0|[0.0,1.0,0.0,0.0,...|\n",
      "+-----+--------------------+\n",
      "only showing top 2 rows\n",
      "\n"
     ]
    }
   ],
   "source": [
    "df_train = session.createDataFrame(input_data, [\"label\", \"features\"])\n",
    "df_train.show(2)"
   ]
  },
  {
   "cell_type": "markdown",
   "id": "94311180-fa60-4202-b3fa-ef2c60f1658c",
   "metadata": {
    "tags": []
   },
   "source": [
    "#### Create a train/test set"
   ]
  },
  {
   "cell_type": "markdown",
   "id": "1b99aab0-3ef6-4303-ab9e-948b10296548",
   "metadata": {
    "jp-MarkdownHeadingCollapsed": true,
    "tags": []
   },
   "source": [
    "You split the dataset 80/20 with randomSplit."
   ]
  },
  {
   "cell_type": "code",
   "execution_count": 69,
   "id": "2caffbdc-612d-4692-831c-5e7ab8748e52",
   "metadata": {
    "tags": []
   },
   "outputs": [],
   "source": [
    "# Split the data into train and test sets\n",
    "train_data, test_data = df_train.randomSplit([.8,.2],seed=1234)"
   ]
  },
  {
   "cell_type": "markdown",
   "id": "1706d5ac-a085-45fa-8292-9be2aed8cae3",
   "metadata": {
    "tags": []
   },
   "source": [
    "Let's count how many people with income below/above 50k in both training and test set"
   ]
  },
  {
   "cell_type": "code",
   "execution_count": 71,
   "id": "7d4ff26e-68da-4a74-bee6-33bba4e3adb6",
   "metadata": {
    "tags": []
   },
   "outputs": [
    {
     "name": "stdout",
     "output_type": "stream",
     "text": [
      "+-----+------------+\n",
      "|label|count(label)|\n",
      "+-----+------------+\n",
      "|  0.0|       19826|\n",
      "|  1.0|        6302|\n",
      "+-----+------------+\n",
      "\n",
      "+-----+------------+\n",
      "|label|count(label)|\n",
      "+-----+------------+\n",
      "|  0.0|        4894|\n",
      "|  1.0|        1539|\n",
      "+-----+------------+\n",
      "\n"
     ]
    }
   ],
   "source": [
    "train_data.groupby('label').agg({'label': 'count'}).show()\n",
    "test_data.groupby('label').agg({'label': 'count'}).show()"
   ]
  },
  {
   "cell_type": "markdown",
   "id": "3659f1a4-3af2-4277-807c-0055e2e5e2ab",
   "metadata": {
    "tags": []
   },
   "source": [
    "#### Build the logistic regressor"
   ]
  },
  {
   "cell_type": "markdown",
   "id": "4eb1fc09-9d9d-4c72-b200-1e767cacb44d",
   "metadata": {
    "tags": []
   },
   "source": [
    "Last but not least, you can build the classifier. Pyspark has an API called LogisticRegression to perform logistic regression.\n",
    "\n",
    "You initialize lr by indicating the label column and feature columns. You set a maximum of 10 iterations and add a regularization parameter with a value of 0.3. Note that in the next section, you will use cross-validation with a parameter grid to tune the model"
   ]
  },
  {
   "cell_type": "code",
   "execution_count": 72,
   "id": "50ff24de-8b18-4b30-a18c-f43d59b1e652",
   "metadata": {
    "tags": []
   },
   "outputs": [],
   "source": [
    "# Import `LinearRegression`\n",
    "from pyspark.ml.classification import LogisticRegression\n",
    "\n",
    "# Initialize `lr`\n",
    "lr = LogisticRegression(labelCol=\"label\",\n",
    "                        featuresCol=\"features\",\n",
    "                        maxIter=10,\n",
    "                        regParam=0.3)\n",
    "\n",
    "# Fit the data to the model\n",
    "linearModel = lr.fit(train_data)"
   ]
  },
  {
   "cell_type": "markdown",
   "id": "5c32cc99-4507-43b5-b948-6ff3506f8344",
   "metadata": {
    "tags": []
   },
   "source": [
    "You can see the coefficients from the regression"
   ]
  },
  {
   "cell_type": "code",
   "execution_count": 73,
   "id": "994ddf00-4900-40a1-8f0d-5b75a2d5368d",
   "metadata": {
    "tags": []
   },
   "outputs": [
    {
     "name": "stdout",
     "output_type": "stream",
     "text": [
      "Coefficients: [-0.018863050234839432,-0.06422116579115773,0.022255729512822713,-0.14844822637836383,-0.03113278018629248,0.2951262002293314,0.24334660524641202,-0.4599538178022337,-0.14156782855713737,-0.04299938177320906,0.23317778533012906,0.37975764312729604,0.023306794502272153,-0.2131681665958368,-0.01093471808834952,-0.23193326477915652,-0.2663170289412882,0.5342262585001979,-0.2627271374773837,-0.17073113887170185,0.5118739125588695,-0.21907760273917623,-0.19131191487682556,0.4050141915572931,-0.3156346514809409,-0.16712985646590578,-0.18086167130818823,-0.14194438495925646,-0.14682557774685617,0.23684679672709705,-0.02512641152660794,0.3356278935576671,-0.09670273711760363,0.06865310839483384,-0.2531861765712007,-0.15212658583842312,-0.14908668146560394,-0.09085827510816771,-0.23903459339481317,-0.27181869803813163,0.14068158811077774,0.1359615011281939,-0.258839312416689,0.3331109354127363,-0.18661962059819398,-0.28521194962220014,-0.2142812845954518,0.4865508741627895,0.08128846094345409,-0.09154867649069787,0.024916124298378133,-0.14470896556004598,0.18684387318536905,0.06870886291037392,-0.21998354749318236,-0.028319338717261153,0.09624401477184236,0.18146096923847793,0.15823590303473836,-0.10704762486176791,-0.16953024893722,0.0880108627176541,0.022483285715322987,0.10120812064595419,-0.07911722620434618,-0.17562226811677636,-0.06886181136372428,0.11709946907694396,-0.2804493966023421,-0.22361519716592518,-0.13859339911914711,0.11719478991968159,-0.1272929572898451,-0.3655269520633123,0.10359727328245288,-0.07527247887996345,0.05741170798213578,-0.15909851548510578,-0.2501598517088984,-0.19741356784033465,0.19465851081794847,-0.18125662862784128,-0.07409927555835051,0.02098077542144618,0.0493202954842263,0.3932749593474439,-0.09277125210792314,-0.12466259892471863,-0.3129119256592545,0.28817625724116913,-0.41655405601489587,-0.16709987099478518,-0.12711169182651472,0.06355683071385124,0.008737482952288737,9.292051952221603e-08,1.9456278680450798e-05,0.06364320993936193,0.00021493293189105028,0.009211626687560467]\n",
      "Intercept: -3.107884105377411\n"
     ]
    }
   ],
   "source": [
    "# Print the coefficients and intercept for logistic regression\n",
    "print(\"Coefficients: \" + str(linearModel.coefficients))\n",
    "print(\"Intercept: \" + str(linearModel.intercept))"
   ]
  },
  {
   "cell_type": "markdown",
   "id": "ef4e82ae-3474-4f93-86ca-6d45ffecb692",
   "metadata": {
    "tags": []
   },
   "source": [
    "### Step 5: Train and evaluate the model"
   ]
  },
  {
   "cell_type": "markdown",
   "id": "e436a354-4312-46db-ac5a-4fa735207e34",
   "metadata": {
    "tags": []
   },
   "source": [
    "To generate predictions for your test set, you can use linearModel with transform() on test_data."
   ]
  },
  {
   "cell_type": "code",
   "execution_count": 74,
   "id": "bb86a109-276e-405c-89fe-0f6dac86dae7",
   "metadata": {
    "tags": []
   },
   "outputs": [],
   "source": [
    "# Make predictions on test data using the transform() method.\n",
    "predictions = linearModel.transform(test_data)"
   ]
  },
  {
   "cell_type": "markdown",
   "id": "60486824-1a1b-420f-8a8d-5838416dd6da",
   "metadata": {
    "tags": []
   },
   "source": [
    "You can print the variables in predictions"
   ]
  },
  {
   "cell_type": "code",
   "execution_count": 75,
   "id": "4d964963-ddec-4052-937d-e13b0d100c16",
   "metadata": {
    "tags": []
   },
   "outputs": [
    {
     "name": "stdout",
     "output_type": "stream",
     "text": [
      "root\n",
      " |-- label: double (nullable = true)\n",
      " |-- features: vector (nullable = true)\n",
      " |-- rawPrediction: vector (nullable = true)\n",
      " |-- probability: vector (nullable = true)\n",
      " |-- prediction: double (nullable = false)\n",
      "\n"
     ]
    }
   ],
   "source": [
    "predictions.printSchema()"
   ]
  },
  {
   "cell_type": "markdown",
   "id": "e5861ca2-f4c7-45ce-94b3-b713c90a94cf",
   "metadata": {
    "tags": []
   },
   "source": [
    "We are interested in the label, prediction and the probability."
   ]
  },
  {
   "cell_type": "code",
   "execution_count": 76,
   "id": "690b073b-dbf4-4743-845c-4acd979910b8",
   "metadata": {
    "tags": []
   },
   "outputs": [
    {
     "name": "stdout",
     "output_type": "stream",
     "text": [
      "+-----+----------+--------------------+\n",
      "|label|prediction|         probability|\n",
      "+-----+----------+--------------------+\n",
      "|  0.0|       0.0|[0.95376152667862...|\n",
      "|  0.0|       0.0|[0.81717452074922...|\n",
      "|  0.0|       0.0|[0.66425573247645...|\n",
      "|  0.0|       0.0|[0.79263770206661...|\n",
      "|  0.0|       0.0|[0.74674281823849...|\n",
      "|  0.0|       0.0|[0.77215470057475...|\n",
      "|  0.0|       0.0|[0.76971036054327...|\n",
      "|  0.0|       0.0|[0.79607655032804...|\n",
      "|  0.0|       0.0|[0.82630914804835...|\n",
      "|  0.0|       0.0|[0.76338299457109...|\n",
      "|  0.0|       0.0|[0.87760250880957...|\n",
      "|  0.0|       0.0|[0.84173110299343...|\n",
      "|  0.0|       0.0|[0.84125005216033...|\n",
      "|  0.0|       0.0|[0.84641376482877...|\n",
      "|  0.0|       0.0|[0.57004817920740...|\n",
      "|  0.0|       0.0|[0.62797467523073...|\n",
      "|  0.0|       0.0|[0.58986632717154...|\n",
      "|  0.0|       0.0|[0.76688381469957...|\n",
      "|  0.0|       0.0|[0.82555152178817...|\n",
      "|  0.0|       0.0|[0.87708252522929...|\n",
      "+-----+----------+--------------------+\n",
      "only showing top 20 rows\n",
      "\n"
     ]
    }
   ],
   "source": [
    "selected = predictions.select(\"label\", \"prediction\", \"probability\")\n",
    "selected.show(20)"
   ]
  },
  {
   "cell_type": "markdown",
   "id": "3d0a0619-cfd2-4d36-a2d7-5ca21a6c50dc",
   "metadata": {
    "tags": []
   },
   "source": [
    "#### Evaluate the model"
   ]
  },
  {
   "cell_type": "markdown",
   "id": "690d7f40-7121-4a53-85c1-9b6dc0233e05",
   "metadata": {
    "tags": []
   },
   "source": [
    "You need to look at the accuracy metric to see how well (or bad) the model performs. Currently, there is no API to compute the accuracy measure in Spark. The default value is the ROC, receiver operating characteristic curve. It is a different metric that take into account the false positive rate.\n",
    "\n",
    "Before you look at the ROC, let's construct the accuracy measure. You are more familiar with this metric. The accuracy measure is the sum of the correct prediction over the total number of observations.\n",
    "\n",
    "You create a DataFrame with the label and the prediction."
   ]
  },
  {
   "cell_type": "code",
   "execution_count": 77,
   "id": "885dcbbc-b1f0-4bfd-96ed-6ce87ed9ba4c",
   "metadata": {
    "tags": []
   },
   "outputs": [],
   "source": [
    "cm = predictions.select(\"label\", \"prediction\")"
   ]
  },
  {
   "cell_type": "markdown",
   "id": "799aadeb-625c-48c6-a40c-e9514ee444e0",
   "metadata": {
    "tags": []
   },
   "source": [
    "You can check the number of class in the label and the prediction"
   ]
  },
  {
   "cell_type": "code",
   "execution_count": 78,
   "id": "527a3a77-5ef1-4b41-8a78-f2a7f8292b67",
   "metadata": {
    "tags": []
   },
   "outputs": [
    {
     "name": "stdout",
     "output_type": "stream",
     "text": [
      "+-----+------------+\n",
      "|label|count(label)|\n",
      "+-----+------------+\n",
      "|  0.0|        4894|\n",
      "|  1.0|        1539|\n",
      "+-----+------------+\n",
      "\n",
      "+----------+-----------------+\n",
      "|prediction|count(prediction)|\n",
      "+----------+-----------------+\n",
      "|       0.0|             5755|\n",
      "|       1.0|              678|\n",
      "+----------+-----------------+\n",
      "\n"
     ]
    }
   ],
   "source": [
    "cm.groupby('label').agg({'label': 'count'}).show()\n",
    "cm.groupby('prediction').agg({'prediction': 'count'}).show()"
   ]
  },
  {
   "cell_type": "markdown",
   "id": "104b0cbb-5357-44bc-a6c1-05f8524e48c1",
   "metadata": {
    "tags": []
   },
   "source": [
    "For instance, in the test set, there is 1568 household with an income above 50k and 4934 below. The classifier, however, predicted 651 households with income above 50k."
   ]
  },
  {
   "cell_type": "markdown",
   "id": "0595010d-8a9a-4c6f-a85c-d61cf0bbe82d",
   "metadata": {
    "tags": []
   },
   "source": [
    "> Note: Your numbers may be slightly different."
   ]
  },
  {
   "cell_type": "markdown",
   "id": "f15f327a-3da6-45c3-b8ed-41c43318480b",
   "metadata": {
    "tags": []
   },
   "source": [
    "You can compute the accuracy by computing the count when the label is correctly classified over the total number of rows."
   ]
  },
  {
   "cell_type": "code",
   "execution_count": 79,
   "id": "7f28e480-3297-44dd-96d6-947f542c2c5e",
   "metadata": {
    "tags": []
   },
   "outputs": [
    {
     "data": {
      "text/plain": [
       "0.8272967511270014"
      ]
     },
     "execution_count": 79,
     "metadata": {},
     "output_type": "execute_result"
    }
   ],
   "source": [
    "cm.filter(cm.label == cm.prediction).count() / cm.count()"
   ]
  },
  {
   "cell_type": "markdown",
   "id": "22c2a69d-4646-4c57-a4af-14bbe72f67e9",
   "metadata": {
    "tags": []
   },
   "source": [
    "You can wrap everything together and write a function to compute the accuracy."
   ]
  },
  {
   "cell_type": "code",
   "execution_count": 80,
   "id": "09ee4350-99a9-4fb5-8d40-7b11993cb9e4",
   "metadata": {
    "tags": []
   },
   "outputs": [],
   "source": [
    "def accuracy_m(model): \n",
    "    predictions = model.transform(test_data)\n",
    "    cm = predictions.select(\"label\", \"prediction\")\n",
    "    acc = cm.filter(cm.label == cm.prediction).count() / cm.count()\n",
    "    print(\"Model accuracy: %.3f%%\" % (acc * 100)) "
   ]
  },
  {
   "cell_type": "code",
   "execution_count": 81,
   "id": "3fb8ded6-40ca-444f-baed-2283eb106e82",
   "metadata": {
    "tags": []
   },
   "outputs": [
    {
     "name": "stdout",
     "output_type": "stream",
     "text": [
      "Model accuracy: 82.730%\n"
     ]
    }
   ],
   "source": [
    "accuracy_m(model = linearModel)"
   ]
  },
  {
   "cell_type": "markdown",
   "id": "73307883-1d51-4649-90eb-825e85b1e2ca",
   "metadata": {
    "tags": []
   },
   "source": [
    "#### ROC metrics"
   ]
  },
  {
   "cell_type": "markdown",
   "id": "77f3dc68-a560-4694-8ea1-d6cac687bd7f",
   "metadata": {
    "tags": []
   },
   "source": [
    "The module `BinaryClassificationEvaluator` includes the ROC measures. The Receiver Operating Characteristic curve is another common tool used with binary classification. It is very similar to the precision/recall curve, but instead of plotting precision versus recall, the ROC curve shows the true positive rate (i.e. recall) against the false positive rate. The false positive rate is the ratio of negative instances that are incorrectly classified as positive. It is equal to one minus the true negative rate. The true negative rate is also called specificity. Hence the ROC curve plots sensitivity (recall) versus 1 - specificity."
   ]
  },
  {
   "cell_type": "code",
   "execution_count": 82,
   "id": "d1a12f77-2b23-4a25-bf39-91a82d1cda2f",
   "metadata": {
    "tags": []
   },
   "outputs": [
    {
     "name": "stdout",
     "output_type": "stream",
     "text": [
      "0.8907092213270923\n",
      "areaUnderROC\n"
     ]
    }
   ],
   "source": [
    "# Use ROC \n",
    "from pyspark.ml.evaluation import BinaryClassificationEvaluator\n",
    "\n",
    "# Evaluate model\n",
    "evaluator = BinaryClassificationEvaluator(rawPredictionCol=\"rawPrediction\")\n",
    "print(evaluator.evaluate(predictions))\n",
    "print(evaluator.getMetricName())"
   ]
  },
  {
   "cell_type": "markdown",
   "id": "b7214c98-1d00-45b3-958b-c876f7a6ae06",
   "metadata": {
    "tags": []
   },
   "source": [
    "### Step 6 (Stretch): Tune the hyperparameter"
   ]
  },
  {
   "cell_type": "markdown",
   "id": "d6f5ffbe-7494-4210-bc57-76f2f5e28d47",
   "metadata": {
    "tags": []
   },
   "source": [
    "Last but not least, you can tune the hyperparameters. Similar to scikit-learn you create a parameter grid, and you add the parameters you want to tune.\n",
    "\n",
    "To reduce the time of the computation, you only tune the regularization parameter with only two values."
   ]
  },
  {
   "cell_type": "code",
   "execution_count": 83,
   "id": "20883027-dab1-4e7a-9326-32006bc84397",
   "metadata": {
    "tags": []
   },
   "outputs": [],
   "source": [
    "from pyspark.ml.tuning import ParamGridBuilder, CrossValidator\n",
    "\n",
    "# Create ParamGrid for Cross Validation\n",
    "paramGrid = (ParamGridBuilder()\n",
    "             .addGrid(lr.regParam, [0.01, 0.5])\n",
    "             .build())"
   ]
  },
  {
   "cell_type": "markdown",
   "id": "3e374bd1-002e-4834-b00d-4a0ba087be1b",
   "metadata": {
    "tags": []
   },
   "source": [
    "Finally, you evaluate the model with using the cross-validation method with 5 folds. It takes some time to train."
   ]
  },
  {
   "cell_type": "code",
   "execution_count": 84,
   "id": "187e7369-c1c2-488e-a65b-33422f73caf0",
   "metadata": {
    "tags": []
   },
   "outputs": [
    {
     "name": "stdout",
     "output_type": "stream",
     "text": [
      "Time to train model: 75.653 seconds\n"
     ]
    }
   ],
   "source": [
    "from time import *\n",
    "start_time = time()\n",
    "\n",
    "# Create 5-fold CrossValidator\n",
    "cv = CrossValidator(estimator=lr,\n",
    "                    estimatorParamMaps=paramGrid,\n",
    "                    evaluator=evaluator, numFolds=5)\n",
    "\n",
    "# Run cross validations\n",
    "cvModel = cv.fit(train_data)\n",
    "\n",
    "# likely take a fair amount of time\n",
    "end_time = time()\n",
    "elapsed_time = end_time - start_time\n",
    "print(\"Time to train model: %.3f seconds\" % elapsed_time)"
   ]
  },
  {
   "cell_type": "markdown",
   "id": "8f63cbeb-3476-41ef-9a84-7894bc3906b2",
   "metadata": {
    "tags": []
   },
   "source": [
    "The best regularization hyperparameter is 0.01, with an accuracy of 85.316 percent."
   ]
  },
  {
   "cell_type": "code",
   "execution_count": 85,
   "id": "2933ba99-8469-4754-b5f7-60c1bfc5ee55",
   "metadata": {
    "tags": []
   },
   "outputs": [
    {
     "name": "stdout",
     "output_type": "stream",
     "text": [
      "Model accuracy: 85.326%\n"
     ]
    }
   ],
   "source": [
    "accuracy_m(model = cvModel)"
   ]
  },
  {
   "cell_type": "markdown",
   "id": "b8db6c1a-7507-4088-ad6c-42e79b80276f",
   "metadata": {
    "tags": []
   },
   "source": [
    "You can extract the recommended parameter by chaining `cvModel.bestModel` with `extractParamMap()`."
   ]
  },
  {
   "cell_type": "code",
   "execution_count": 86,
   "id": "eac380b4-06eb-4a2a-905a-bbac4c82e471",
   "metadata": {
    "tags": []
   },
   "outputs": [
    {
     "data": {
      "text/plain": [
       "{Param(parent='LogisticRegression_3705c5ce9a17', name='aggregationDepth', doc='suggested depth for treeAggregate (>= 2).'): 2,\n",
       " Param(parent='LogisticRegression_3705c5ce9a17', name='elasticNetParam', doc='the ElasticNet mixing parameter, in range [0, 1]. For alpha = 0, the penalty is an L2 penalty. For alpha = 1, it is an L1 penalty.'): 0.0,\n",
       " Param(parent='LogisticRegression_3705c5ce9a17', name='family', doc='The name of family which is a description of the label distribution to be used in the model. Supported options: auto, binomial, multinomial'): 'auto',\n",
       " Param(parent='LogisticRegression_3705c5ce9a17', name='featuresCol', doc='features column name.'): 'features',\n",
       " Param(parent='LogisticRegression_3705c5ce9a17', name='fitIntercept', doc='whether to fit an intercept term.'): True,\n",
       " Param(parent='LogisticRegression_3705c5ce9a17', name='labelCol', doc='label column name.'): 'label',\n",
       " Param(parent='LogisticRegression_3705c5ce9a17', name='maxBlockSizeInMB', doc='maximum memory in MB for stacking input data into blocks. Data is stacked within partitions. If more than remaining data size in a partition then it is adjusted to the data size. Default 0.0 represents choosing optimal value, depends on specific algorithm. Must be >= 0.'): 0.0,\n",
       " Param(parent='LogisticRegression_3705c5ce9a17', name='maxIter', doc='max number of iterations (>= 0).'): 10,\n",
       " Param(parent='LogisticRegression_3705c5ce9a17', name='predictionCol', doc='prediction column name.'): 'prediction',\n",
       " Param(parent='LogisticRegression_3705c5ce9a17', name='probabilityCol', doc='Column name for predicted class conditional probabilities. Note: Not all models output well-calibrated probability estimates! These probabilities should be treated as confidences, not precise probabilities.'): 'probability',\n",
       " Param(parent='LogisticRegression_3705c5ce9a17', name='rawPredictionCol', doc='raw prediction (a.k.a. confidence) column name.'): 'rawPrediction',\n",
       " Param(parent='LogisticRegression_3705c5ce9a17', name='regParam', doc='regularization parameter (>= 0).'): 0.01,\n",
       " Param(parent='LogisticRegression_3705c5ce9a17', name='standardization', doc='whether to standardize the training features before fitting the model.'): True,\n",
       " Param(parent='LogisticRegression_3705c5ce9a17', name='threshold', doc='Threshold in binary classification prediction, in range [0, 1]. If threshold and thresholds are both set, they must match.e.g. if threshold is p, then thresholds must be equal to [1-p, p].'): 0.5,\n",
       " Param(parent='LogisticRegression_3705c5ce9a17', name='tol', doc='the convergence tolerance for iterative algorithms (>= 0).'): 1e-06}"
      ]
     },
     "execution_count": 86,
     "metadata": {},
     "output_type": "execute_result"
    }
   ],
   "source": [
    "bestModel = cvModel.bestModel\n",
    "bestModel.extractParamMap()"
   ]
  }
 ],
 "metadata": {
  "kernelspec": {
   "display_name": "Python 3 (ipykernel)",
   "language": "python",
   "name": "python3"
  },
  "language_info": {
   "codemirror_mode": {
    "name": "ipython",
    "version": 3
   },
   "file_extension": ".py",
   "mimetype": "text/x-python",
   "name": "python",
   "nbconvert_exporter": "python",
   "pygments_lexer": "ipython3",
   "version": "3.9.12"
  }
 },
 "nbformat": 4,
 "nbformat_minor": 5
}
