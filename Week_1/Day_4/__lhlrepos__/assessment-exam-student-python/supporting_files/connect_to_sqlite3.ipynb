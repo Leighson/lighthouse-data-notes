{
 "cells": [
  {
   "cell_type": "code",
   "execution_count": 1,
   "metadata": {},
   "outputs": [],
   "source": [
    "import sqlite3\n",
    "import pandas as pd"
   ]
  },
  {
   "cell_type": "code",
   "execution_count": 2,
   "metadata": {},
   "outputs": [],
   "source": [
    "# create connection\n",
    "conn = sqlite3.connect(\"hr.db\")\n",
    "\n",
    "# all data from db\n",
    "df_all = pd.read_sql(\"\"\"SELECT \n",
    "                            name\n",
    "                        FROM sqlite_master \n",
    "                        WHERE type ='table' \n",
    "                            AND name NOT LIKE 'sqlite_%';\n",
    "                     \"\"\", conn\n",
    "                    )"
   ]
  },
  {
   "cell_type": "code",
   "execution_count": 7,
   "metadata": {},
   "outputs": [],
   "source": [
    "df_departments = pd.read_sql(\"\"\"SELECT *\n",
    "                        FROM departments\n",
    "                     \"\"\", conn\n",
    "                    )"
   ]
  },
  {
   "cell_type": "code",
   "execution_count": null,
   "metadata": {},
   "outputs": [],
   "source": []
  }
 ],
 "metadata": {
  "kernelspec": {
   "display_name": "Python 3",
   "language": "python",
   "name": "python3"
  },
  "language_info": {
   "codemirror_mode": {
    "name": "ipython",
    "version": 3
   },
   "file_extension": ".py",
   "mimetype": "text/x-python",
   "name": "python",
   "nbconvert_exporter": "python",
   "pygments_lexer": "ipython3",
   "version": "3.7.6"
  }
 },
 "nbformat": 4,
 "nbformat_minor": 4
}
