{
 "cells": [
  {
   "cell_type": "code",
   "execution_count": 2,
   "id": "86a613d0-40f2-424d-978a-4b8b1aae4ca8",
   "metadata": {},
   "outputs": [],
   "source": [
    "import pandas as pd\n",
    "import requests"
   ]
  },
  {
   "cell_type": "code",
   "execution_count": 3,
   "id": "0a5f5a25-63d6-4d85-b2c1-46525e7d274c",
   "metadata": {},
   "outputs": [
    {
     "data": {
      "text/plain": [
       "<Response [200]>"
      ]
     },
     "execution_count": 3,
     "metadata": {},
     "output_type": "execute_result"
    }
   ],
   "source": [
    "url = 'https://www.worldcoinindex.com'\n",
    "crypto_url = requests.get(url)\n",
    "crypto_url"
   ]
  },
  {
   "cell_type": "code",
   "execution_count": 4,
   "id": "d13bba3c-7084-4a6d-9f99-685b617eb840",
   "metadata": {},
   "outputs": [],
   "source": [
    "body = crypto_url.text"
   ]
  },
  {
   "cell_type": "markdown",
   "id": "9df887ae-9544-451a-a1d3-2847c733f4ad",
   "metadata": {},
   "source": [
    "Body now consists of full HTML source code of our webpaage. Now if the HTML source has a table which is marked by the HTML tag `<table></table>` (this tag is used for defining a table in HTML) `Pandas` uses `read_html()` to extract thte table from the HTML document."
   ]
  },
  {
   "cell_type": "code",
   "execution_count": 5,
   "id": "0e45ec08-b2ef-4afb-aed2-b2df1840d716",
   "metadata": {},
   "outputs": [
    {
     "name": "stdout",
     "output_type": "stream",
     "text": [
      "<class 'list'>\n",
      "1\n"
     ]
    }
   ],
   "source": [
    "crypto_data = pd.read_html(body)\n",
    "print(type(crypto_data))\n",
    "print(len(crypto_data))"
   ]
  },
  {
   "cell_type": "code",
   "execution_count": 6,
   "id": "071c1629-fc1e-4fdb-bcc6-ede7dda6c494",
   "metadata": {},
   "outputs": [],
   "source": [
    "crypto_data = crypto_data[0]"
   ]
  },
  {
   "cell_type": "code",
   "execution_count": 8,
   "id": "5a8ab626-b296-411d-9540-b41882f242f7",
   "metadata": {},
   "outputs": [
    {
     "data": {
      "text/html": [
       "<div>\n",
       "<style scoped>\n",
       "    .dataframe tbody tr th:only-of-type {\n",
       "        vertical-align: middle;\n",
       "    }\n",
       "\n",
       "    .dataframe tbody tr th {\n",
       "        vertical-align: top;\n",
       "    }\n",
       "\n",
       "    .dataframe thead th {\n",
       "        text-align: right;\n",
       "    }\n",
       "</style>\n",
       "<table border=\"1\" class=\"dataframe\">\n",
       "  <thead>\n",
       "    <tr style=\"text-align: right;\">\n",
       "      <th></th>\n",
       "      <th>#</th>\n",
       "      <th>Unnamed: 1</th>\n",
       "      <th>Name</th>\n",
       "      <th>Ticker</th>\n",
       "      <th>Last price</th>\n",
       "      <th>%</th>\n",
       "      <th>24 high</th>\n",
       "      <th>24 low</th>\n",
       "      <th>Price Charts 7d</th>\n",
       "      <th>24 volume</th>\n",
       "      <th># Coins</th>\n",
       "      <th>Market cap</th>\n",
       "    </tr>\n",
       "  </thead>\n",
       "  <tbody>\n",
       "    <tr>\n",
       "      <th>0</th>\n",
       "      <td>1</td>\n",
       "      <td>NaN</td>\n",
       "      <td>Bitcoin</td>\n",
       "      <td>BTC</td>\n",
       "      <td>$ 39,736</td>\n",
       "      <td>-3.44%</td>\n",
       "      <td>$ 41,505</td>\n",
       "      <td>$ 39,625</td>\n",
       "      <td>NaN</td>\n",
       "      <td>$ 8.87B</td>\n",
       "      <td>19.01M</td>\n",
       "      <td>$ 755.44B</td>\n",
       "    </tr>\n",
       "    <tr>\n",
       "      <th>1</th>\n",
       "      <td>2</td>\n",
       "      <td>NaN</td>\n",
       "      <td>Ethereum</td>\n",
       "      <td>ETH</td>\n",
       "      <td>$ 2,989.80</td>\n",
       "      <td>-4.13%</td>\n",
       "      <td>$ 3,144.53</td>\n",
       "      <td>$ 2,981.13</td>\n",
       "      <td>NaN</td>\n",
       "      <td>$ 8.39B</td>\n",
       "      <td>120.37M</td>\n",
       "      <td>$ 359.90B</td>\n",
       "    </tr>\n",
       "    <tr>\n",
       "      <th>2</th>\n",
       "      <td>3</td>\n",
       "      <td>NaN</td>\n",
       "      <td>Dogecoin</td>\n",
       "      <td>DOGE</td>\n",
       "      <td>$ 0.140977</td>\n",
       "      <td>+0.65%</td>\n",
       "      <td>$ 0.146952</td>\n",
       "      <td>$ 0.137632</td>\n",
       "      <td>NaN</td>\n",
       "      <td>$ 1.23B</td>\n",
       "      <td>129.40B</td>\n",
       "      <td>$ 18.24B</td>\n",
       "    </tr>\n",
       "    <tr>\n",
       "      <th>3</th>\n",
       "      <td>4</td>\n",
       "      <td>NaN</td>\n",
       "      <td>Zilliqa</td>\n",
       "      <td>ZIL</td>\n",
       "      <td>$ 0.113774</td>\n",
       "      <td>+2.38%</td>\n",
       "      <td>$ 0.126963</td>\n",
       "      <td>$ 0.109591</td>\n",
       "      <td>NaN</td>\n",
       "      <td>$ 1.11B</td>\n",
       "      <td>14.12B</td>\n",
       "      <td>$ 1.60B</td>\n",
       "    </tr>\n",
       "    <tr>\n",
       "      <th>4</th>\n",
       "      <td>5</td>\n",
       "      <td>NaN</td>\n",
       "      <td>Terra</td>\n",
       "      <td>LUNA</td>\n",
       "      <td>$ 81.05</td>\n",
       "      <td>-7.78%</td>\n",
       "      <td>$ 89.75</td>\n",
       "      <td>$ 80.91</td>\n",
       "      <td>NaN</td>\n",
       "      <td>$ 982.53M</td>\n",
       "      <td>468.44M</td>\n",
       "      <td>$ 37.96B</td>\n",
       "    </tr>\n",
       "  </tbody>\n",
       "</table>\n",
       "</div>"
      ],
      "text/plain": [
       "   # Unnamed: 1      Name Ticker  Last price       %     24 high      24 low  \\\n",
       "0  1        NaN   Bitcoin    BTC    $ 39,736  -3.44%    $ 41,505    $ 39,625   \n",
       "1  2        NaN  Ethereum    ETH  $ 2,989.80  -4.13%  $ 3,144.53  $ 2,981.13   \n",
       "2  3        NaN  Dogecoin   DOGE  $ 0.140977  +0.65%  $ 0.146952  $ 0.137632   \n",
       "3  4        NaN   Zilliqa    ZIL  $ 0.113774  +2.38%  $ 0.126963  $ 0.109591   \n",
       "4  5        NaN     Terra   LUNA     $ 81.05  -7.78%     $ 89.75     $ 80.91   \n",
       "\n",
       "  Price Charts 7d  24 volume  # Coins Market cap  \n",
       "0             NaN    $ 8.87B   19.01M  $ 755.44B  \n",
       "1             NaN    $ 8.39B  120.37M  $ 359.90B  \n",
       "2             NaN    $ 1.23B  129.40B   $ 18.24B  \n",
       "3             NaN    $ 1.11B   14.12B    $ 1.60B  \n",
       "4             NaN  $ 982.53M  468.44M   $ 37.96B  "
      ]
     },
     "execution_count": 8,
     "metadata": {},
     "output_type": "execute_result"
    }
   ],
   "source": [
    "crypto_data.head()"
   ]
  },
  {
   "cell_type": "code",
   "execution_count": null,
   "id": "5d92912c-6077-4261-892d-416298314102",
   "metadata": {},
   "outputs": [],
   "source": []
  }
 ],
 "metadata": {
  "kernelspec": {
   "display_name": "lighthouse",
   "language": "python",
   "name": "lighthouse"
  },
  "language_info": {
   "codemirror_mode": {
    "name": "ipython",
    "version": 3
   },
   "file_extension": ".py",
   "mimetype": "text/x-python",
   "name": "python",
   "nbconvert_exporter": "python",
   "pygments_lexer": "ipython3",
   "version": "3.8.13"
  }
 },
 "nbformat": 4,
 "nbformat_minor": 5
}
