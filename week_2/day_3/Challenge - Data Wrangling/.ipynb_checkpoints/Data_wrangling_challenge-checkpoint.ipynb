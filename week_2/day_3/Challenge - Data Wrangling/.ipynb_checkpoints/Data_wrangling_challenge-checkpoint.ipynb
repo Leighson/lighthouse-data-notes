{
 "cells": [
  {
   "cell_type": "markdown",
   "metadata": {
    "jp-MarkdownHeadingCollapsed": true,
    "tags": []
   },
   "source": [
    "## Data Wrangling Challenge\n",
    "### Pull and manipulate the API data\n",
    "\n",
    "The point of this exercise is to try data enrichment with data from external APIs. We are going to take data about car crashes in Monroe County, Indiana from 2003 to 2015 and try to figure out the weather during the accident and how many bars there are in the area. We will work with two different APIs during this challenge:\n",
    "\n",
    "- Foursquare API\n",
    "- World Weather Online API\n",
    "\n",
    "We will try to find correlations between the severity of crash and weather/number of bars in the area. To indicate the severity of a crash, we will use column `Injury Type`."
   ]
  },
  {
   "cell_type": "markdown",
   "metadata": {},
   "source": [
    "## Data\n",
    "\n",
    "The data for this exercise can be found [here](https://drive.google.com/file/d/1_KF9oIJV8cB8i3ngA4JPOLWIE_ETE6CJ/view?usp=sharing).\n",
    "\n",
    "Just run the cells below to get your data ready. Little help from us.\n"
   ]
  },
  {
   "cell_type": "code",
   "execution_count": 215,
   "metadata": {},
   "outputs": [],
   "source": [
    "from IPython.display import display\n",
    "import pandas as pd\n",
    "import requests as re\n",
    "import os\n",
    "import json"
   ]
  },
  {
   "cell_type": "code",
   "execution_count": 216,
   "metadata": {},
   "outputs": [
    {
     "name": "stdout",
     "output_type": "stream",
     "text": [
      "(49005, 13)\n"
     ]
    }
   ],
   "source": [
    "data = pd.read_csv(\"monroe-county-crash-data2003-to-2015.csv\", encoding=\"unicode_escape\")\n",
    "# ========================\n",
    "# preparing data\n",
    "data.dropna(subset=['Latitude', 'Longitude'], inplace=True)\n",
    "# creation of variable with lon and lat together\n",
    "data['ll'] = data['Latitude'].astype(str) + ',' + data['Longitude'].astype(str)\n",
    "data = data[data['ll'] != '0.0,0.0']\n",
    "print(data.shape)\n",
    "# data.head()"
   ]
  },
  {
   "cell_type": "code",
   "execution_count": 217,
   "metadata": {},
   "outputs": [],
   "source": [
    "ll_data = data.loc[:, ['Latitude', 'Longitude']]"
   ]
  },
  {
   "cell_type": "code",
   "execution_count": 218,
   "metadata": {},
   "outputs": [],
   "source": [
    "ll_lat_list = ll_data['Latitude'].tolist()\n",
    "ll_lon_list = ll_data['Longitude'].tolist()\n",
    "\n",
    "ll_list = list(zip(ll_lat_list, ll_lon_list))"
   ]
  },
  {
   "cell_type": "markdown",
   "metadata": {
    "tags": []
   },
   "source": [
    "# Foursquare API\n",
    "\n",
    "Foursquare API documentation is [here](https://developer.foursquare.com/)\n",
    "\n",
    "1. Start a foursquare application and get your keys.\n",
    "2. For each crash, create the function **get_venues** that will pull bars in the radius of 5km around the crash\n",
    "\n",
    "#### example\n",
    "`get_venues('48.146394, 17.107969')`\n",
    "\n",
    "3. Find a relationship (if there is any) between number of bars in the area and severity of the crash.\n",
    "\n",
    "HINTs: \n",
    "- check out python package \"foursquare\" (no need to send HTTP requests directly with library `requests`)\n",
    "- **categoryId** for bars and nightlife needs to be found in the [foursquare API documentation](https://developer.foursquare.com/docs/api-reference/venues/search/)"
   ]
  },
  {
   "cell_type": "code",
   "execution_count": 219,
   "metadata": {},
   "outputs": [],
   "source": [
    "from dotenv import load_dotenv\n",
    "from os.path import join, dirname"
   ]
  },
  {
   "cell_type": "code",
   "execution_count": 220,
   "metadata": {},
   "outputs": [
    {
     "data": {
      "text/plain": [
       "True"
      ]
     },
     "execution_count": 220,
     "metadata": {},
     "output_type": "execute_result"
    }
   ],
   "source": [
    "load_dotenv()"
   ]
  },
  {
   "cell_type": "code",
   "execution_count": 229,
   "metadata": {},
   "outputs": [],
   "source": [
    "#set the keys\n",
    "foursquare_id = os.environ.get('FS_ID')\n",
    "foursquare_secret = os.environ.get('FS_SECRET')\n",
    "foursquare_api = os.environ.get('FS_API')"
   ]
  },
  {
   "cell_type": "code",
   "execution_count": 235,
   "metadata": {},
   "outputs": [],
   "source": [
    "url_search = \"https://api.foursquare.com/v3/places/search\""
   ]
  },
  {
   "cell_type": "code",
   "execution_count": 236,
   "metadata": {},
   "outputs": [],
   "source": [
    "headers = {\n",
    "  \"Accept\": \"application/json\",\n",
    "  \"Authorization\": foursquare_api\n",
    "}"
   ]
  },
  {
   "cell_type": "markdown",
   "metadata": {
    "tags": []
   },
   "source": [
    "### Parameters for [Venues Search]( https://developer.foursquare.com/reference/v2-venues-search)"
   ]
  },
  {
   "cell_type": "markdown",
   "metadata": {},
   "source": [
    "`ll (string)` The latitude/longitude around which to retrieve place information. This must be specfied as latiture, longitude (e.g., ll=xx.xxxx,-xx.xxxx). Required if `near` is not specified."
   ]
  },
  {
   "cell_type": "markdown",
   "metadata": {},
   "source": [
    "`radius (int32)` Limit results to venues within this many meters of the specified location. Defaults to a city-wide area. Only valid for requests that use `categoryID` or `query`. The maximum supported radius is currently **100,000 meters**."
   ]
  },
  {
   "cell_type": "markdown",
   "metadata": {},
   "source": [
    "`categoryId (string)` A comma separated list of categories to limit results to. If you specify categoryId, specifying a `radius` may improve results. If specifying a top-level category, all sub-categories will also match the query."
   ]
  },
  {
   "cell_type": "markdown",
   "metadata": {},
   "source": [
    "[Categories](https://developer.foursquare.com/docs/categories) can be found here."
   ]
  },
  {
   "cell_type": "code",
   "execution_count": 183,
   "metadata": {},
   "outputs": [],
   "source": [
    "# 'Bars' are categoryId: 13003\n",
    "# 'radius' is 5000m or 5km\n",
    "\n",
    "for i in range(len(ll_list)):\n",
    "  \n",
    "  params = {\n",
    "    'll' : ll_list[i],\n",
    "    'categories' : 13003,\n",
    "    'radius' : 5000\n",
    "  }\n",
    "  \n",
    "  fs_response = re.request(\"GET\", url_search, headers=headers, params=params)\n",
    "  "
   ]
  },
  {
   "cell_type": "markdown",
   "metadata": {},
   "source": [
    "#### Search Venue by 'Bar' (categoryId = 13003)"
   ]
  },
  {
   "cell_type": "markdown",
   "metadata": {},
   "source": [
    "Pull categories here to get category IDs."
   ]
  },
  {
   "cell_type": "code",
   "execution_count": 232,
   "metadata": {},
   "outputs": [],
   "source": [
    "params = {\n",
    "  'll' : ll_list[0],\n",
    "  'categories' : 13003,\n",
    "  'radius' : 5000\n",
    "}"
   ]
  },
  {
   "cell_type": "code",
   "execution_count": 233,
   "metadata": {},
   "outputs": [],
   "source": [
    "fs_response = re.request(\"GET\", url_search, headers=headers, params=params)"
   ]
  },
  {
   "cell_type": "code",
   "execution_count": 234,
   "metadata": {},
   "outputs": [
    {
     "data": {
      "text/plain": [
       "<Response [400]>"
      ]
     },
     "execution_count": 234,
     "metadata": {},
     "output_type": "execute_result"
    }
   ],
   "source": [
    "fs_response"
   ]
  },
  {
   "cell_type": "code",
   "execution_count": 193,
   "metadata": {},
   "outputs": [],
   "source": [
    "with open('fs_bar_search.json', 'w') as f:\n",
    "  f.write(fs_response.text)"
   ]
  },
  {
   "cell_type": "code",
   "execution_count": 194,
   "metadata": {},
   "outputs": [],
   "source": [
    "with open('fs_bar_search.json') as f:\n",
    "  fs_bar_response = json.load(f)"
   ]
  },
  {
   "cell_type": "code",
   "execution_count": 195,
   "metadata": {},
   "outputs": [
    {
     "data": {
      "text/html": [
       "<div>\n",
       "<style scoped>\n",
       "    .dataframe tbody tr th:only-of-type {\n",
       "        vertical-align: middle;\n",
       "    }\n",
       "\n",
       "    .dataframe tbody tr th {\n",
       "        vertical-align: top;\n",
       "    }\n",
       "\n",
       "    .dataframe thead th {\n",
       "        text-align: right;\n",
       "    }\n",
       "</style>\n",
       "<table border=\"1\" class=\"dataframe\">\n",
       "  <thead>\n",
       "    <tr style=\"text-align: right;\">\n",
       "      <th></th>\n",
       "      <th>fsq_id</th>\n",
       "      <th>categories</th>\n",
       "      <th>chains</th>\n",
       "      <th>distance</th>\n",
       "      <th>link</th>\n",
       "      <th>name</th>\n",
       "      <th>timezone</th>\n",
       "      <th>geocodes.main.latitude</th>\n",
       "      <th>geocodes.main.longitude</th>\n",
       "      <th>geocodes.roof.latitude</th>\n",
       "      <th>...</th>\n",
       "      <th>location.address</th>\n",
       "      <th>location.country</th>\n",
       "      <th>location.cross_street</th>\n",
       "      <th>location.formatted_address</th>\n",
       "      <th>location.locality</th>\n",
       "      <th>location.postcode</th>\n",
       "      <th>location.region</th>\n",
       "      <th>related_places.children</th>\n",
       "      <th>location.neighborhood</th>\n",
       "      <th>location.address_extended</th>\n",
       "    </tr>\n",
       "  </thead>\n",
       "  <tbody>\n",
       "    <tr>\n",
       "      <th>0</th>\n",
       "      <td>5a8f505eb6eedb5c284a78ad</td>\n",
       "      <td>[{'id': 13018, 'name': 'Pub', 'icon': {'prefix...</td>\n",
       "      <td>[]</td>\n",
       "      <td>1834</td>\n",
       "      <td>/v3/places/5a8f505eb6eedb5c284a78ad</td>\n",
       "      <td>Walrus Pub &amp; Beer Hall</td>\n",
       "      <td>America/Toronto</td>\n",
       "      <td>43.647507</td>\n",
       "      <td>-79.379475</td>\n",
       "      <td>43.647507</td>\n",
       "      <td>...</td>\n",
       "      <td>187 Bay St</td>\n",
       "      <td>CA</td>\n",
       "      <td>Wellington St W</td>\n",
       "      <td>187 Bay St (Wellington St W), Toronto ON M5L 1G5</td>\n",
       "      <td>Toronto</td>\n",
       "      <td>M5L 1G5</td>\n",
       "      <td>ON</td>\n",
       "      <td>[]</td>\n",
       "      <td>NaN</td>\n",
       "      <td>NaN</td>\n",
       "    </tr>\n",
       "    <tr>\n",
       "      <th>1</th>\n",
       "      <td>57f05582498e757718084460</td>\n",
       "      <td>[{'id': 10032, 'name': 'Night Club', 'icon': {...</td>\n",
       "      <td>[]</td>\n",
       "      <td>1660</td>\n",
       "      <td>/v3/places/57f05582498e757718084460</td>\n",
       "      <td>Rebel</td>\n",
       "      <td>America/Toronto</td>\n",
       "      <td>43.640876</td>\n",
       "      <td>-79.354771</td>\n",
       "      <td>43.640876</td>\n",
       "      <td>...</td>\n",
       "      <td>11 Polson St</td>\n",
       "      <td>CA</td>\n",
       "      <td></td>\n",
       "      <td>11 Polson St, Toronto ON M5A 1A4</td>\n",
       "      <td>Toronto</td>\n",
       "      <td>M5A 1A4</td>\n",
       "      <td>ON</td>\n",
       "      <td>NaN</td>\n",
       "      <td>[Downtown]</td>\n",
       "      <td>NaN</td>\n",
       "    </tr>\n",
       "    <tr>\n",
       "      <th>2</th>\n",
       "      <td>50322b6ae4b09116a296568c</td>\n",
       "      <td>[{'id': 13016, 'name': 'Lounge', 'icon': {'pre...</td>\n",
       "      <td>[]</td>\n",
       "      <td>2223</td>\n",
       "      <td>/v3/places/50322b6ae4b09116a296568c</td>\n",
       "      <td>Soho House</td>\n",
       "      <td>America/Toronto</td>\n",
       "      <td>43.648800</td>\n",
       "      <td>-79.386412</td>\n",
       "      <td>43.648800</td>\n",
       "      <td>...</td>\n",
       "      <td>192 Adelaide St W</td>\n",
       "      <td>CA</td>\n",
       "      <td>at Simcoe St.</td>\n",
       "      <td>192 Adelaide St W (at Simcoe St.), Toronto ON ...</td>\n",
       "      <td>Toronto</td>\n",
       "      <td>M5H 0A4</td>\n",
       "      <td>ON</td>\n",
       "      <td>NaN</td>\n",
       "      <td>[St Lawrence Market/Esplanade]</td>\n",
       "      <td>NaN</td>\n",
       "    </tr>\n",
       "    <tr>\n",
       "      <th>3</th>\n",
       "      <td>57768fb1498ec8fca5cc0594</td>\n",
       "      <td>[{'id': 13003, 'name': 'Bar', 'icon': {'prefix...</td>\n",
       "      <td>[]</td>\n",
       "      <td>1128</td>\n",
       "      <td>/v3/places/57768fb1498ec8fca5cc0594</td>\n",
       "      <td>Boxcar Social</td>\n",
       "      <td>America/Toronto</td>\n",
       "      <td>43.639175</td>\n",
       "      <td>-79.382916</td>\n",
       "      <td>43.639175</td>\n",
       "      <td>...</td>\n",
       "      <td>235 Queens Quay W</td>\n",
       "      <td>CA</td>\n",
       "      <td></td>\n",
       "      <td>235 Queens Quay W, Toronto ON M5J 2G8</td>\n",
       "      <td>Toronto</td>\n",
       "      <td>M5J 2G8</td>\n",
       "      <td>ON</td>\n",
       "      <td>NaN</td>\n",
       "      <td>[Downtown Toronto]</td>\n",
       "      <td>NaN</td>\n",
       "    </tr>\n",
       "    <tr>\n",
       "      <th>4</th>\n",
       "      <td>516da5e0e4b0ad66584cf170</td>\n",
       "      <td>[{'id': 13003, 'name': 'Bar', 'icon': {'prefix...</td>\n",
       "      <td>[]</td>\n",
       "      <td>1267</td>\n",
       "      <td>/v3/places/516da5e0e4b0ad66584cf170</td>\n",
       "      <td>Amsterdam BrewHouse</td>\n",
       "      <td>America/Toronto</td>\n",
       "      <td>43.637970</td>\n",
       "      <td>-79.384828</td>\n",
       "      <td>43.637970</td>\n",
       "      <td>...</td>\n",
       "      <td>245 Queens Quay W S</td>\n",
       "      <td>CA</td>\n",
       "      <td>at Reese St</td>\n",
       "      <td>245 Queens Quay W S (at Reese St), Toronto ON ...</td>\n",
       "      <td>Toronto</td>\n",
       "      <td>M5J 2K9</td>\n",
       "      <td>ON</td>\n",
       "      <td>NaN</td>\n",
       "      <td>[Central Waterfront]</td>\n",
       "      <td>NaN</td>\n",
       "    </tr>\n",
       "    <tr>\n",
       "      <th>5</th>\n",
       "      <td>5952cf02829b0c59fa430f63</td>\n",
       "      <td>[{'id': 13003, 'name': 'Bar', 'icon': {'prefix...</td>\n",
       "      <td>[]</td>\n",
       "      <td>1592</td>\n",
       "      <td>/v3/places/5952cf02829b0c59fa430f63</td>\n",
       "      <td>The Rec Room</td>\n",
       "      <td>America/Toronto</td>\n",
       "      <td>43.641170</td>\n",
       "      <td>-79.385186</td>\n",
       "      <td>NaN</td>\n",
       "      <td>...</td>\n",
       "      <td>255 Bremner Blvd</td>\n",
       "      <td>CA</td>\n",
       "      <td></td>\n",
       "      <td>255 Bremner Blvd, Toronto ON M5V 3M9</td>\n",
       "      <td>Toronto</td>\n",
       "      <td>M5V 3M9</td>\n",
       "      <td>ON</td>\n",
       "      <td>[{'fsq_id': '59864021c9a51745b6509626', 'name'...</td>\n",
       "      <td>NaN</td>\n",
       "      <td>NaN</td>\n",
       "    </tr>\n",
       "    <tr>\n",
       "      <th>6</th>\n",
       "      <td>5b233c5595d986002c9e8788</td>\n",
       "      <td>[{'id': 13003, 'name': 'Bar', 'icon': {'prefix...</td>\n",
       "      <td>[]</td>\n",
       "      <td>2890</td>\n",
       "      <td>/v3/places/5b233c5595d986002c9e8788</td>\n",
       "      <td>Drom Taberna</td>\n",
       "      <td>America/Toronto</td>\n",
       "      <td>43.648297</td>\n",
       "      <td>-79.399514</td>\n",
       "      <td>43.648297</td>\n",
       "      <td>...</td>\n",
       "      <td>458 Queen St W</td>\n",
       "      <td>CA</td>\n",
       "      <td></td>\n",
       "      <td>458 Queen St W, Toronto ON M5V 2A8</td>\n",
       "      <td>Toronto</td>\n",
       "      <td>M5V 2A8</td>\n",
       "      <td>ON</td>\n",
       "      <td>NaN</td>\n",
       "      <td>[Downtown Toronto]</td>\n",
       "      <td>NaN</td>\n",
       "    </tr>\n",
       "    <tr>\n",
       "      <th>7</th>\n",
       "      <td>5612ea8b498e102e764fc304</td>\n",
       "      <td>[{'id': 13006, 'name': 'Beer Bar', 'icon': {'p...</td>\n",
       "      <td>[]</td>\n",
       "      <td>2594</td>\n",
       "      <td>/v3/places/5612ea8b498e102e764fc304</td>\n",
       "      <td>Bar Hop Brewco</td>\n",
       "      <td>America/Toronto</td>\n",
       "      <td>43.648865</td>\n",
       "      <td>-79.393247</td>\n",
       "      <td>43.648865</td>\n",
       "      <td>...</td>\n",
       "      <td>137 Peter St</td>\n",
       "      <td>CA</td>\n",
       "      <td>Peter &amp; Richmond</td>\n",
       "      <td>137 Peter St (Peter &amp; Richmond), Toronto ON M5...</td>\n",
       "      <td>Toronto</td>\n",
       "      <td>M5V 2H3</td>\n",
       "      <td>ON</td>\n",
       "      <td>NaN</td>\n",
       "      <td>[Downtown Toronto]</td>\n",
       "      <td>NaN</td>\n",
       "    </tr>\n",
       "    <tr>\n",
       "      <th>8</th>\n",
       "      <td>601d14d442fb60302fae8306</td>\n",
       "      <td>[{'id': 13006, 'name': 'Beer Bar', 'icon': {'p...</td>\n",
       "      <td>[]</td>\n",
       "      <td>2090</td>\n",
       "      <td>/v3/places/601d14d442fb60302fae8306</td>\n",
       "      <td>CRAFT Beer Market Toronto</td>\n",
       "      <td>America/Toronto</td>\n",
       "      <td>43.650134</td>\n",
       "      <td>-79.378069</td>\n",
       "      <td>43.650134</td>\n",
       "      <td>...</td>\n",
       "      <td>1 Adelaide St E</td>\n",
       "      <td>CA</td>\n",
       "      <td></td>\n",
       "      <td>1 Adelaide St E, Toronto ON M5C 2V9</td>\n",
       "      <td>Toronto</td>\n",
       "      <td>M5C 2V9</td>\n",
       "      <td>ON</td>\n",
       "      <td>NaN</td>\n",
       "      <td>[Downtown Toronto]</td>\n",
       "      <td># 101</td>\n",
       "    </tr>\n",
       "    <tr>\n",
       "      <th>9</th>\n",
       "      <td>4ad4c05cf964a520e3f520e3</td>\n",
       "      <td>[{'id': 13006, 'name': 'Beer Bar', 'icon': {'p...</td>\n",
       "      <td>[]</td>\n",
       "      <td>1842</td>\n",
       "      <td>/v3/places/4ad4c05cf964a520e3f520e3</td>\n",
       "      <td>C'est What</td>\n",
       "      <td>America/Toronto</td>\n",
       "      <td>43.648386</td>\n",
       "      <td>-79.373537</td>\n",
       "      <td>43.648386</td>\n",
       "      <td>...</td>\n",
       "      <td>67 Front St E</td>\n",
       "      <td>CA</td>\n",
       "      <td>at Church St</td>\n",
       "      <td>67 Front St E (at Church St), Toronto ON M5E 1B5</td>\n",
       "      <td>Toronto</td>\n",
       "      <td>M5E 1B5</td>\n",
       "      <td>ON</td>\n",
       "      <td>[]</td>\n",
       "      <td>[Downtown Toronto]</td>\n",
       "      <td>NaN</td>\n",
       "    </tr>\n",
       "  </tbody>\n",
       "</table>\n",
       "<p>10 rows × 21 columns</p>\n",
       "</div>"
      ],
      "text/plain": [
       "                     fsq_id  \\\n",
       "0  5a8f505eb6eedb5c284a78ad   \n",
       "1  57f05582498e757718084460   \n",
       "2  50322b6ae4b09116a296568c   \n",
       "3  57768fb1498ec8fca5cc0594   \n",
       "4  516da5e0e4b0ad66584cf170   \n",
       "5  5952cf02829b0c59fa430f63   \n",
       "6  5b233c5595d986002c9e8788   \n",
       "7  5612ea8b498e102e764fc304   \n",
       "8  601d14d442fb60302fae8306   \n",
       "9  4ad4c05cf964a520e3f520e3   \n",
       "\n",
       "                                          categories chains  distance  \\\n",
       "0  [{'id': 13018, 'name': 'Pub', 'icon': {'prefix...     []      1834   \n",
       "1  [{'id': 10032, 'name': 'Night Club', 'icon': {...     []      1660   \n",
       "2  [{'id': 13016, 'name': 'Lounge', 'icon': {'pre...     []      2223   \n",
       "3  [{'id': 13003, 'name': 'Bar', 'icon': {'prefix...     []      1128   \n",
       "4  [{'id': 13003, 'name': 'Bar', 'icon': {'prefix...     []      1267   \n",
       "5  [{'id': 13003, 'name': 'Bar', 'icon': {'prefix...     []      1592   \n",
       "6  [{'id': 13003, 'name': 'Bar', 'icon': {'prefix...     []      2890   \n",
       "7  [{'id': 13006, 'name': 'Beer Bar', 'icon': {'p...     []      2594   \n",
       "8  [{'id': 13006, 'name': 'Beer Bar', 'icon': {'p...     []      2090   \n",
       "9  [{'id': 13006, 'name': 'Beer Bar', 'icon': {'p...     []      1842   \n",
       "\n",
       "                                  link                       name  \\\n",
       "0  /v3/places/5a8f505eb6eedb5c284a78ad     Walrus Pub & Beer Hall   \n",
       "1  /v3/places/57f05582498e757718084460                      Rebel   \n",
       "2  /v3/places/50322b6ae4b09116a296568c                 Soho House   \n",
       "3  /v3/places/57768fb1498ec8fca5cc0594              Boxcar Social   \n",
       "4  /v3/places/516da5e0e4b0ad66584cf170        Amsterdam BrewHouse   \n",
       "5  /v3/places/5952cf02829b0c59fa430f63               The Rec Room   \n",
       "6  /v3/places/5b233c5595d986002c9e8788               Drom Taberna   \n",
       "7  /v3/places/5612ea8b498e102e764fc304             Bar Hop Brewco   \n",
       "8  /v3/places/601d14d442fb60302fae8306  CRAFT Beer Market Toronto   \n",
       "9  /v3/places/4ad4c05cf964a520e3f520e3                 C'est What   \n",
       "\n",
       "          timezone  geocodes.main.latitude  geocodes.main.longitude  \\\n",
       "0  America/Toronto               43.647507               -79.379475   \n",
       "1  America/Toronto               43.640876               -79.354771   \n",
       "2  America/Toronto               43.648800               -79.386412   \n",
       "3  America/Toronto               43.639175               -79.382916   \n",
       "4  America/Toronto               43.637970               -79.384828   \n",
       "5  America/Toronto               43.641170               -79.385186   \n",
       "6  America/Toronto               43.648297               -79.399514   \n",
       "7  America/Toronto               43.648865               -79.393247   \n",
       "8  America/Toronto               43.650134               -79.378069   \n",
       "9  America/Toronto               43.648386               -79.373537   \n",
       "\n",
       "   geocodes.roof.latitude  ...     location.address location.country  \\\n",
       "0               43.647507  ...           187 Bay St               CA   \n",
       "1               43.640876  ...         11 Polson St               CA   \n",
       "2               43.648800  ...    192 Adelaide St W               CA   \n",
       "3               43.639175  ...    235 Queens Quay W               CA   \n",
       "4               43.637970  ...  245 Queens Quay W S               CA   \n",
       "5                     NaN  ...     255 Bremner Blvd               CA   \n",
       "6               43.648297  ...       458 Queen St W               CA   \n",
       "7               43.648865  ...         137 Peter St               CA   \n",
       "8               43.650134  ...      1 Adelaide St E               CA   \n",
       "9               43.648386  ...        67 Front St E               CA   \n",
       "\n",
       "  location.cross_street                         location.formatted_address  \\\n",
       "0       Wellington St W   187 Bay St (Wellington St W), Toronto ON M5L 1G5   \n",
       "1                                         11 Polson St, Toronto ON M5A 1A4   \n",
       "2         at Simcoe St.  192 Adelaide St W (at Simcoe St.), Toronto ON ...   \n",
       "3                                    235 Queens Quay W, Toronto ON M5J 2G8   \n",
       "4           at Reese St  245 Queens Quay W S (at Reese St), Toronto ON ...   \n",
       "5                                     255 Bremner Blvd, Toronto ON M5V 3M9   \n",
       "6                                       458 Queen St W, Toronto ON M5V 2A8   \n",
       "7      Peter & Richmond  137 Peter St (Peter & Richmond), Toronto ON M5...   \n",
       "8                                      1 Adelaide St E, Toronto ON M5C 2V9   \n",
       "9          at Church St   67 Front St E (at Church St), Toronto ON M5E 1B5   \n",
       "\n",
       "  location.locality location.postcode location.region  \\\n",
       "0           Toronto           M5L 1G5              ON   \n",
       "1           Toronto           M5A 1A4              ON   \n",
       "2           Toronto           M5H 0A4              ON   \n",
       "3           Toronto           M5J 2G8              ON   \n",
       "4           Toronto           M5J 2K9              ON   \n",
       "5           Toronto           M5V 3M9              ON   \n",
       "6           Toronto           M5V 2A8              ON   \n",
       "7           Toronto           M5V 2H3              ON   \n",
       "8           Toronto           M5C 2V9              ON   \n",
       "9           Toronto           M5E 1B5              ON   \n",
       "\n",
       "                             related_places.children  \\\n",
       "0                                                 []   \n",
       "1                                                NaN   \n",
       "2                                                NaN   \n",
       "3                                                NaN   \n",
       "4                                                NaN   \n",
       "5  [{'fsq_id': '59864021c9a51745b6509626', 'name'...   \n",
       "6                                                NaN   \n",
       "7                                                NaN   \n",
       "8                                                NaN   \n",
       "9                                                 []   \n",
       "\n",
       "            location.neighborhood location.address_extended  \n",
       "0                             NaN                       NaN  \n",
       "1                      [Downtown]                       NaN  \n",
       "2  [St Lawrence Market/Esplanade]                       NaN  \n",
       "3              [Downtown Toronto]                       NaN  \n",
       "4            [Central Waterfront]                       NaN  \n",
       "5                             NaN                       NaN  \n",
       "6              [Downtown Toronto]                       NaN  \n",
       "7              [Downtown Toronto]                       NaN  \n",
       "8              [Downtown Toronto]                     # 101  \n",
       "9              [Downtown Toronto]                       NaN  \n",
       "\n",
       "[10 rows x 21 columns]"
      ]
     },
     "execution_count": 195,
     "metadata": {},
     "output_type": "execute_result"
    }
   ],
   "source": [
    "# fs_bar_results = pd.json_normalize(fs_bar_response, record_path='results')\n",
    "fs_bar_results"
   ]
  },
  {
   "cell_type": "markdown",
   "metadata": {},
   "source": [
    "#### Venues Search"
   ]
  },
  {
   "cell_type": "markdown",
   "metadata": {},
   "source": [
    "Insert your url, auth, and params here."
   ]
  },
  {
   "cell_type": "code",
   "execution_count": 102,
   "metadata": {},
   "outputs": [
    {
     "data": {
      "text/plain": [
       "<Response [200]>"
      ]
     },
     "execution_count": 102,
     "metadata": {},
     "output_type": "execute_result"
    }
   ],
   "source": [
    "url = \"https://api.foursquare.com/v3/places/search\"\n",
    "headers = {\"Accept\": \"application/json\",\n",
    "          \"Authorization\": foursquare_api}\n",
    "response = re.request(\"GET\", url, headers=headers)\n",
    "response\n",
    "# response.json()"
   ]
  },
  {
   "cell_type": "code",
   "execution_count": 101,
   "metadata": {},
   "outputs": [],
   "source": [
    "import http.client\n",
    "\n",
    "conn = http.client.HTTPSConnection(\"api.foursquare.com\")\n",
    "payload = ''\n",
    "headers = {\n",
    "  'Authorization': foursquare_api\n",
    "}\n",
    "conn.request(\"GET\", \"/v3/places/search?=null\", payload, headers)\n",
    "res = conn.getresponse()\n",
    "data = res.read()\n",
    "# data.decode(\"utf-8\")"
   ]
  },
  {
   "cell_type": "code",
   "execution_count": null,
   "metadata": {},
   "outputs": [],
   "source": []
  },
  {
   "cell_type": "markdown",
   "metadata": {},
   "source": [
    "# World Weather Online API\n",
    "\n",
    "World Weather Online API is [here](https://www.worldweatheronline.com/developer/api/historical-weather-api.aspx)\n",
    "\n",
    "1. Sign up for FREE api key if you haven't done that before (it's free for **30 days**).\n",
    "2. For each crush, get the weather for the location and date.\n",
    "3. Find a relationship between the weather and severity of the crash.\n",
    "\n",
    "Hints:\n",
    "\n",
    "* pull weather only for smaller sample of crashes (250 or so) due to API limits\n",
    "* for sending HTTP requests check out \"requests\" library [here](http://docs.python-requests.org/en/master/)\n"
   ]
  },
  {
   "cell_type": "code",
   "execution_count": 193,
   "metadata": {},
   "outputs": [],
   "source": [
    "import requests\n",
    "import time\n",
    "api_key = os.environ[\"<>\"]"
   ]
  },
  {
   "cell_type": "code",
   "execution_count": null,
   "metadata": {},
   "outputs": [],
   "source": []
  },
  {
   "cell_type": "code",
   "execution_count": null,
   "metadata": {},
   "outputs": [],
   "source": []
  }
 ],
 "metadata": {
  "kernelspec": {
   "display_name": "Python 3",
   "language": "python",
   "name": "python3"
  },
  "language_info": {
   "codemirror_mode": {
    "name": "ipython",
    "version": 3
   },
   "file_extension": ".py",
   "mimetype": "text/x-python",
   "name": "python",
   "nbconvert_exporter": "python",
   "pygments_lexer": "ipython3",
   "version": "3.8.13"
  }
 },
 "nbformat": 4,
 "nbformat_minor": 4
}
