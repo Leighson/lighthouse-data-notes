{
 "cells": [
  {
   "cell_type": "markdown",
   "id": "73b39f54-d5d7-404f-9402-8ca4f7f5382e",
   "metadata": {},
   "source": [
    "# Principal Component Analysis"
   ]
  },
  {
   "cell_type": "markdown",
   "id": "db777d8d-044a-49d2-8bca-4355a5b512f3",
   "metadata": {},
   "source": [
    "PCA is a data-reduction technique that finds appication in a wide variaty of fields, including biology, sociology, physics, medicine, and audio processing."
   ]
  },
  {
   "cell_type": "markdown",
   "id": "0efbb98e-b01a-49b1-b212-1936bb88a68b",
   "metadata": {},
   "source": [
    "### Basic Idea"
   ]
  },
  {
   "cell_type": "markdown",
   "id": "c56eb237-44fd-4e8c-bd0a-b7d23e9abfa5",
   "metadata": {},
   "source": [
    "PCA involves making a coordinate transformation (rotation) from the original arbitrary axes (or 'features') to a set of axes aligned with the data itself. Doing this almost always means reducting the components of the data that have small variance with each other without suffering too much loss in accuracy and gaining the benefits of simplicity (computation and time)."
   ]
  },
  {
   "cell_type": "markdown",
   "id": "f1e68a55-2910-4f97-9190-d0c79d636de4",
   "metadata": {},
   "source": [
    "### The Process"
   ]
  },
  {
   "cell_type": "markdown",
   "id": "d90e3f3c-a90e-477e-acb7-4b916817a056",
   "metadata": {},
   "source": [
    "1. Covariance: Find the *covariance matrix* for your dataset.\n",
    "2. Eigenvectors: Find the *eigenvectors* of that matrix (i.e. components)\n",
    "3. Ordering: Sort the *eigenvectors* or dimensions from largest to smallest variance.\n",
    "4. Projection/Data Reduction: Use the *eigenvectors* corresponding to the largest variance to project the dataset into a reduced dimensional space.\n",
    "5. Confirm: How much was lost from the truncation?"
   ]
  },
  {
   "cell_type": "markdown",
   "id": "38bca0f3-6936-455f-b72d-add1f208bca9",
   "metadata": {},
   "source": [
    "> Caveat: Since PCA will involve making linear transformations, there are some situations where PCA won't help."
   ]
  },
  {
   "cell_type": "markdown",
   "id": "ee039027-0b7b-4dcb-b413-5e81a3471e3a",
   "metadata": {},
   "source": [
    "## Covariance"
   ]
  },
  {
   "cell_type": "markdown",
   "id": "3350d3c8-f0d9-44f0-a53d-bfcdfa6cffe2",
   "metadata": {},
   "source": [
    "> If two data dimensions vary together, they are covariant"
   ]
  },
  {
   "cell_type": "code",
   "execution_count": 1,
   "id": "86ca9d85-5e97-43a3-a6b0-7db0952e27d0",
   "metadata": {},
   "outputs": [],
   "source": [
    "# import libraries\n",
    "import numpy as np\n",
    "import matplotlib.pyplot as plt\n",
    "import plotly.graph_objects as go"
   ]
  },
  {
   "cell_type": "code",
   "execution_count": 2,
   "id": "4b84c8f0-da29-4047-980b-2d4912a3a1ee",
   "metadata": {},
   "outputs": [],
   "source": [
    "# define the plot\n",
    "N = 100 \n",
    "x = np.random.normal(size=N)\n",
    "y = 0.5*x + 0.2*(np.random.normal(size=N))"
   ]
  },
  {
   "cell_type": "code",
   "execution_count": 4,
   "id": "7794ad0c-cd86-4df3-898f-3ba0995c9303",
   "metadata": {},
   "outputs": [],
   "source": [
    "# define scatter plot canvas and data\n",
    "fig = go.Figure(data = [\n",
    "    go.Scatter(x=x,\n",
    "               y=y,\n",
    "               mode='markers',\n",
    "               marker=dict(size=8,opacity=0.5),\n",
    "               name=\"data\")\n",
    "])"
   ]
  },
  {
   "cell_type": "code",
   "execution_count": 5,
   "id": "b5387f4f-bb32-42f8-8585-770111c19bf0",
   "metadata": {},
   "outputs": [
    {
     "data": {
      "application/vnd.plotly.v1+json": {
       "config": {
        "plotlyServerURL": "https://plot.ly"
       },
       "data": [
        {
         "marker": {
          "opacity": 0.5,
          "size": 8
         },
         "mode": "markers",
         "name": "data",
         "type": "scatter",
         "x": [
          -0.9238189038518401,
          0.5813515424750001,
          -1.4595615253761984,
          1.4428999025167328,
          -0.3168524810452246,
          0.3709664476967773,
          0.7824079420667301,
          -0.07140289600010775,
          0.39481111921511136,
          0.545538659584348,
          -0.6832064667747362,
          0.8652632958720644,
          -0.6559546180537476,
          -1.3820770568065774,
          0.5593341654931653,
          0.1646058523643404,
          -0.8250368982613243,
          1.3025777807826853,
          -0.39075697251054037,
          1.479257095688637,
          -0.8677584885599853,
          0.0948736173504556,
          -0.7798422605280882,
          0.24875525114241323,
          -1.0901065188043217,
          0.830213291638991,
          -0.23487770034111496,
          -1.0716156892594693,
          -1.4859010337244827,
          -0.7622342922351039,
          -0.545901503330792,
          -0.265055911683275,
          0.4667461455694733,
          -0.2064241654715674,
          0.3628484569686022,
          1.2637458453239936,
          -1.177414358427548,
          -0.8454494666447835,
          0.767119196794818,
          -1.1467005801487955,
          1.6243470878040145,
          -0.9524685670712096,
          0.8088152145970963,
          -0.23186392302144712,
          0.3685994719202436,
          0.2613731438720082,
          -0.06886090819820216,
          0.7263849755583636,
          -0.20504642235429263,
          0.552135249238445,
          -0.509132151626586,
          0.14784881788464896,
          1.0276316139252673,
          1.7140562795990206,
          -0.28265125693896725,
          0.1672754482157351,
          -0.6469960883204503,
          1.4682112022142189,
          -1.2834828676961378,
          0.5866359161059929,
          0.4977419835993102,
          -1.0840962540236265,
          1.490611314944782,
          -0.008295301640448123,
          1.0655864250574858,
          0.4146742015185054,
          -0.4267846409663592,
          -1.4315516773792931,
          1.695395427037674,
          -1.1023343525314735,
          0.5348420276645339,
          -0.2638035853807425,
          0.56617738452939,
          -0.9152161991764654,
          1.0508837828264097,
          -0.06380636400047161,
          -1.6169695930002708,
          -0.6181284292120701,
          -0.3757681316256039,
          -1.3403242124617256,
          -0.2849782915967188,
          -0.6565005949352974,
          -1.7128886929756788,
          -2.650818786663588,
          0.9963385610748218,
          -1.9290833749345913,
          -0.8952556025456804,
          -0.20175453543550176,
          0.6995255351271108,
          1.7741432138190627,
          -0.09358432708314553,
          -0.3355074191950681,
          -1.2083331444209169,
          0.4726040058735996,
          0.8433685445583153,
          1.0049566987973186,
          -0.3888642245853347,
          0.36108173878699334,
          -0.41244259748489454,
          0.24130101887950547
         ],
         "y": [
          -0.3663172688344479,
          -0.012719053030840755,
          -0.7515928301190705,
          0.917226552298473,
          0.06424651678393284,
          0.4306190041755723,
          0.4293236402182291,
          -0.3057821628032097,
          0.09670251287080989,
          0.1196411775664083,
          -0.46794870325285,
          0.5079929387162003,
          -0.28736528662316335,
          -0.4662002575633585,
          0.3709951103416849,
          0.03696557718169164,
          -0.5428931306412231,
          0.46809546944179037,
          -0.07105266102941908,
          0.7639190459429382,
          -0.537996415870647,
          -0.031112881687351254,
          -0.41821631196178205,
          0.3559608588396427,
          -0.6940910312460367,
          0.04881235081283336,
          -0.28572131518823835,
          -0.4792009713764309,
          -0.4893537338400806,
          -0.2096135738076863,
          -0.2947099042538644,
          -0.2881311516139927,
          -0.08105120272714819,
          -0.12969741394986267,
          0.41455590680973853,
          0.5635130162218625,
          -0.5410355423515851,
          -0.39688051435069993,
          0.1388285361278978,
          -0.6562955095192717,
          0.6635373311278475,
          -0.6198458973095159,
          0.38695682198944203,
          0.02482356698476941,
          0.522546343893731,
          0.20223518184848105,
          -0.17125871419802852,
          0.22801101853426356,
          0.04040356661182602,
          0.5842739780261247,
          -0.2346889809995412,
          0.19514889487360856,
          0.26750379526880175,
          0.8918424810105555,
          -0.24557818169243933,
          -0.10737927261793495,
          -0.36678857242626145,
          0.5734712732650783,
          -1.0730715691612736,
          0.6047819253808707,
          0.21026629170321687,
          -0.6138399463201579,
          0.9939273016465668,
          0.08830084632801438,
          0.5809755429425866,
          0.033187901166906286,
          -0.04536133182418001,
          -0.6768998166876476,
          0.713223541110598,
          -0.6346506210538565,
          0.16539168979501673,
          -0.01636658688855465,
          -0.17255763288538567,
          -0.6785729171342333,
          0.6586879689757371,
          -0.029677232942390726,
          -0.5993263525572687,
          0.2063754681052904,
          0.0920780473640049,
          -0.21105778119593044,
          0.11732697255541272,
          -0.4267151629770696,
          -0.6841482948884097,
          -1.152559814886739,
          0.5300480491377266,
          -0.9398174652113903,
          -0.25714077019523385,
          -0.19810131402638975,
          0.6133212784456541,
          0.6860838270092126,
          -0.08018975514689827,
          -0.4865366836109734,
          -0.4789692837599221,
          0.137210320941354,
          0.1974712160039503,
          0.4806852336327834,
          0.1438923814067545,
          -0.11040396732438557,
          -0.035994874668561855,
          0.1283420991104442
         ]
        }
       ],
       "layout": {
        "autosize": true,
        "template": {
         "data": {
          "bar": [
           {
            "error_x": {
             "color": "#2a3f5f"
            },
            "error_y": {
             "color": "#2a3f5f"
            },
            "marker": {
             "line": {
              "color": "#E5ECF6",
              "width": 0.5
             },
             "pattern": {
              "fillmode": "overlay",
              "size": 10,
              "solidity": 0.2
             }
            },
            "type": "bar"
           }
          ],
          "barpolar": [
           {
            "marker": {
             "line": {
              "color": "#E5ECF6",
              "width": 0.5
             },
             "pattern": {
              "fillmode": "overlay",
              "size": 10,
              "solidity": 0.2
             }
            },
            "type": "barpolar"
           }
          ],
          "carpet": [
           {
            "aaxis": {
             "endlinecolor": "#2a3f5f",
             "gridcolor": "white",
             "linecolor": "white",
             "minorgridcolor": "white",
             "startlinecolor": "#2a3f5f"
            },
            "baxis": {
             "endlinecolor": "#2a3f5f",
             "gridcolor": "white",
             "linecolor": "white",
             "minorgridcolor": "white",
             "startlinecolor": "#2a3f5f"
            },
            "type": "carpet"
           }
          ],
          "choropleth": [
           {
            "colorbar": {
             "outlinewidth": 0,
             "ticks": ""
            },
            "type": "choropleth"
           }
          ],
          "contour": [
           {
            "colorbar": {
             "outlinewidth": 0,
             "ticks": ""
            },
            "colorscale": [
             [
              0,
              "#0d0887"
             ],
             [
              0.1111111111111111,
              "#46039f"
             ],
             [
              0.2222222222222222,
              "#7201a8"
             ],
             [
              0.3333333333333333,
              "#9c179e"
             ],
             [
              0.4444444444444444,
              "#bd3786"
             ],
             [
              0.5555555555555556,
              "#d8576b"
             ],
             [
              0.6666666666666666,
              "#ed7953"
             ],
             [
              0.7777777777777778,
              "#fb9f3a"
             ],
             [
              0.8888888888888888,
              "#fdca26"
             ],
             [
              1,
              "#f0f921"
             ]
            ],
            "type": "contour"
           }
          ],
          "contourcarpet": [
           {
            "colorbar": {
             "outlinewidth": 0,
             "ticks": ""
            },
            "type": "contourcarpet"
           }
          ],
          "heatmap": [
           {
            "colorbar": {
             "outlinewidth": 0,
             "ticks": ""
            },
            "colorscale": [
             [
              0,
              "#0d0887"
             ],
             [
              0.1111111111111111,
              "#46039f"
             ],
             [
              0.2222222222222222,
              "#7201a8"
             ],
             [
              0.3333333333333333,
              "#9c179e"
             ],
             [
              0.4444444444444444,
              "#bd3786"
             ],
             [
              0.5555555555555556,
              "#d8576b"
             ],
             [
              0.6666666666666666,
              "#ed7953"
             ],
             [
              0.7777777777777778,
              "#fb9f3a"
             ],
             [
              0.8888888888888888,
              "#fdca26"
             ],
             [
              1,
              "#f0f921"
             ]
            ],
            "type": "heatmap"
           }
          ],
          "heatmapgl": [
           {
            "colorbar": {
             "outlinewidth": 0,
             "ticks": ""
            },
            "colorscale": [
             [
              0,
              "#0d0887"
             ],
             [
              0.1111111111111111,
              "#46039f"
             ],
             [
              0.2222222222222222,
              "#7201a8"
             ],
             [
              0.3333333333333333,
              "#9c179e"
             ],
             [
              0.4444444444444444,
              "#bd3786"
             ],
             [
              0.5555555555555556,
              "#d8576b"
             ],
             [
              0.6666666666666666,
              "#ed7953"
             ],
             [
              0.7777777777777778,
              "#fb9f3a"
             ],
             [
              0.8888888888888888,
              "#fdca26"
             ],
             [
              1,
              "#f0f921"
             ]
            ],
            "type": "heatmapgl"
           }
          ],
          "histogram": [
           {
            "marker": {
             "pattern": {
              "fillmode": "overlay",
              "size": 10,
              "solidity": 0.2
             }
            },
            "type": "histogram"
           }
          ],
          "histogram2d": [
           {
            "colorbar": {
             "outlinewidth": 0,
             "ticks": ""
            },
            "colorscale": [
             [
              0,
              "#0d0887"
             ],
             [
              0.1111111111111111,
              "#46039f"
             ],
             [
              0.2222222222222222,
              "#7201a8"
             ],
             [
              0.3333333333333333,
              "#9c179e"
             ],
             [
              0.4444444444444444,
              "#bd3786"
             ],
             [
              0.5555555555555556,
              "#d8576b"
             ],
             [
              0.6666666666666666,
              "#ed7953"
             ],
             [
              0.7777777777777778,
              "#fb9f3a"
             ],
             [
              0.8888888888888888,
              "#fdca26"
             ],
             [
              1,
              "#f0f921"
             ]
            ],
            "type": "histogram2d"
           }
          ],
          "histogram2dcontour": [
           {
            "colorbar": {
             "outlinewidth": 0,
             "ticks": ""
            },
            "colorscale": [
             [
              0,
              "#0d0887"
             ],
             [
              0.1111111111111111,
              "#46039f"
             ],
             [
              0.2222222222222222,
              "#7201a8"
             ],
             [
              0.3333333333333333,
              "#9c179e"
             ],
             [
              0.4444444444444444,
              "#bd3786"
             ],
             [
              0.5555555555555556,
              "#d8576b"
             ],
             [
              0.6666666666666666,
              "#ed7953"
             ],
             [
              0.7777777777777778,
              "#fb9f3a"
             ],
             [
              0.8888888888888888,
              "#fdca26"
             ],
             [
              1,
              "#f0f921"
             ]
            ],
            "type": "histogram2dcontour"
           }
          ],
          "mesh3d": [
           {
            "colorbar": {
             "outlinewidth": 0,
             "ticks": ""
            },
            "type": "mesh3d"
           }
          ],
          "parcoords": [
           {
            "line": {
             "colorbar": {
              "outlinewidth": 0,
              "ticks": ""
             }
            },
            "type": "parcoords"
           }
          ],
          "pie": [
           {
            "automargin": true,
            "type": "pie"
           }
          ],
          "scatter": [
           {
            "fillpattern": {
             "fillmode": "overlay",
             "size": 10,
             "solidity": 0.2
            },
            "type": "scatter"
           }
          ],
          "scatter3d": [
           {
            "line": {
             "colorbar": {
              "outlinewidth": 0,
              "ticks": ""
             }
            },
            "marker": {
             "colorbar": {
              "outlinewidth": 0,
              "ticks": ""
             }
            },
            "type": "scatter3d"
           }
          ],
          "scattercarpet": [
           {
            "marker": {
             "colorbar": {
              "outlinewidth": 0,
              "ticks": ""
             }
            },
            "type": "scattercarpet"
           }
          ],
          "scattergeo": [
           {
            "marker": {
             "colorbar": {
              "outlinewidth": 0,
              "ticks": ""
             }
            },
            "type": "scattergeo"
           }
          ],
          "scattergl": [
           {
            "marker": {
             "colorbar": {
              "outlinewidth": 0,
              "ticks": ""
             }
            },
            "type": "scattergl"
           }
          ],
          "scattermapbox": [
           {
            "marker": {
             "colorbar": {
              "outlinewidth": 0,
              "ticks": ""
             }
            },
            "type": "scattermapbox"
           }
          ],
          "scatterpolar": [
           {
            "marker": {
             "colorbar": {
              "outlinewidth": 0,
              "ticks": ""
             }
            },
            "type": "scatterpolar"
           }
          ],
          "scatterpolargl": [
           {
            "marker": {
             "colorbar": {
              "outlinewidth": 0,
              "ticks": ""
             }
            },
            "type": "scatterpolargl"
           }
          ],
          "scatterternary": [
           {
            "marker": {
             "colorbar": {
              "outlinewidth": 0,
              "ticks": ""
             }
            },
            "type": "scatterternary"
           }
          ],
          "surface": [
           {
            "colorbar": {
             "outlinewidth": 0,
             "ticks": ""
            },
            "colorscale": [
             [
              0,
              "#0d0887"
             ],
             [
              0.1111111111111111,
              "#46039f"
             ],
             [
              0.2222222222222222,
              "#7201a8"
             ],
             [
              0.3333333333333333,
              "#9c179e"
             ],
             [
              0.4444444444444444,
              "#bd3786"
             ],
             [
              0.5555555555555556,
              "#d8576b"
             ],
             [
              0.6666666666666666,
              "#ed7953"
             ],
             [
              0.7777777777777778,
              "#fb9f3a"
             ],
             [
              0.8888888888888888,
              "#fdca26"
             ],
             [
              1,
              "#f0f921"
             ]
            ],
            "type": "surface"
           }
          ],
          "table": [
           {
            "cells": {
             "fill": {
              "color": "#EBF0F8"
             },
             "line": {
              "color": "white"
             }
            },
            "header": {
             "fill": {
              "color": "#C8D4E3"
             },
             "line": {
              "color": "white"
             }
            },
            "type": "table"
           }
          ]
         },
         "layout": {
          "annotationdefaults": {
           "arrowcolor": "#2a3f5f",
           "arrowhead": 0,
           "arrowwidth": 1
          },
          "autotypenumbers": "strict",
          "coloraxis": {
           "colorbar": {
            "outlinewidth": 0,
            "ticks": ""
           }
          },
          "colorscale": {
           "diverging": [
            [
             0,
             "#8e0152"
            ],
            [
             0.1,
             "#c51b7d"
            ],
            [
             0.2,
             "#de77ae"
            ],
            [
             0.3,
             "#f1b6da"
            ],
            [
             0.4,
             "#fde0ef"
            ],
            [
             0.5,
             "#f7f7f7"
            ],
            [
             0.6,
             "#e6f5d0"
            ],
            [
             0.7,
             "#b8e186"
            ],
            [
             0.8,
             "#7fbc41"
            ],
            [
             0.9,
             "#4d9221"
            ],
            [
             1,
             "#276419"
            ]
           ],
           "sequential": [
            [
             0,
             "#0d0887"
            ],
            [
             0.1111111111111111,
             "#46039f"
            ],
            [
             0.2222222222222222,
             "#7201a8"
            ],
            [
             0.3333333333333333,
             "#9c179e"
            ],
            [
             0.4444444444444444,
             "#bd3786"
            ],
            [
             0.5555555555555556,
             "#d8576b"
            ],
            [
             0.6666666666666666,
             "#ed7953"
            ],
            [
             0.7777777777777778,
             "#fb9f3a"
            ],
            [
             0.8888888888888888,
             "#fdca26"
            ],
            [
             1,
             "#f0f921"
            ]
           ],
           "sequentialminus": [
            [
             0,
             "#0d0887"
            ],
            [
             0.1111111111111111,
             "#46039f"
            ],
            [
             0.2222222222222222,
             "#7201a8"
            ],
            [
             0.3333333333333333,
             "#9c179e"
            ],
            [
             0.4444444444444444,
             "#bd3786"
            ],
            [
             0.5555555555555556,
             "#d8576b"
            ],
            [
             0.6666666666666666,
             "#ed7953"
            ],
            [
             0.7777777777777778,
             "#fb9f3a"
            ],
            [
             0.8888888888888888,
             "#fdca26"
            ],
            [
             1,
             "#f0f921"
            ]
           ]
          },
          "colorway": [
           "#636efa",
           "#EF553B",
           "#00cc96",
           "#ab63fa",
           "#FFA15A",
           "#19d3f3",
           "#FF6692",
           "#B6E880",
           "#FF97FF",
           "#FECB52"
          ],
          "font": {
           "color": "#2a3f5f"
          },
          "geo": {
           "bgcolor": "white",
           "lakecolor": "white",
           "landcolor": "#E5ECF6",
           "showlakes": true,
           "showland": true,
           "subunitcolor": "white"
          },
          "hoverlabel": {
           "align": "left"
          },
          "hovermode": "closest",
          "mapbox": {
           "style": "light"
          },
          "paper_bgcolor": "white",
          "plot_bgcolor": "#E5ECF6",
          "polar": {
           "angularaxis": {
            "gridcolor": "white",
            "linecolor": "white",
            "ticks": ""
           },
           "bgcolor": "#E5ECF6",
           "radialaxis": {
            "gridcolor": "white",
            "linecolor": "white",
            "ticks": ""
           }
          },
          "scene": {
           "xaxis": {
            "backgroundcolor": "#E5ECF6",
            "gridcolor": "white",
            "gridwidth": 2,
            "linecolor": "white",
            "showbackground": true,
            "ticks": "",
            "zerolinecolor": "white"
           },
           "yaxis": {
            "backgroundcolor": "#E5ECF6",
            "gridcolor": "white",
            "gridwidth": 2,
            "linecolor": "white",
            "showbackground": true,
            "ticks": "",
            "zerolinecolor": "white"
           },
           "zaxis": {
            "backgroundcolor": "#E5ECF6",
            "gridcolor": "white",
            "gridwidth": 2,
            "linecolor": "white",
            "showbackground": true,
            "ticks": "",
            "zerolinecolor": "white"
           }
          },
          "shapedefaults": {
           "line": {
            "color": "#2a3f5f"
           }
          },
          "ternary": {
           "aaxis": {
            "gridcolor": "white",
            "linecolor": "white",
            "ticks": ""
           },
           "baxis": {
            "gridcolor": "white",
            "linecolor": "white",
            "ticks": ""
           },
           "bgcolor": "#E5ECF6",
           "caxis": {
            "gridcolor": "white",
            "linecolor": "white",
            "ticks": ""
           }
          },
          "title": {
           "x": 0.05
          },
          "xaxis": {
           "automargin": true,
           "gridcolor": "white",
           "linecolor": "white",
           "ticks": "",
           "title": {
            "standoff": 15
           },
           "zerolinecolor": "white",
           "zerolinewidth": 2
          },
          "yaxis": {
           "automargin": true,
           "gridcolor": "white",
           "linecolor": "white",
           "ticks": "",
           "title": {
            "standoff": 15
           },
           "zerolinecolor": "white",
           "zerolinewidth": 2
          }
         }
        },
        "xaxis": {
         "autorange": true,
         "domain": [
          0,
          1
         ],
         "range": [
          -5.663339320088863,
          4.7866637472443365
         ],
         "title": {
          "text": "x"
         },
         "type": "linear"
        },
        "yaxis": {
         "autorange": true,
         "domain": [
          0,
          1
         ],
         "range": [
          -1.35026257562007,
          1.1916300623798977
         ],
         "scaleanchor": "x",
         "scaleratio": 1,
         "title": {
          "text": "y"
         },
         "type": "linear"
        }
       }
      },
      "image/png": "[encoded data removed]",
      "text/html": [
       "<div>                            <div id=\"e83472f9-c67f-412e-8061-8253beddc1b0\" class=\"plotly-graph-div\" style=\"height:525px; width:100%;\"></div>            <script type=\"text/javascript\">                require([\"plotly\"], function(Plotly) {                    window.PLOTLYENV=window.PLOTLYENV || {};                                    if (document.getElementById(\"e83472f9-c67f-412e-8061-8253beddc1b0\")) {                    Plotly.newPlot(                        \"e83472f9-c67f-412e-8061-8253beddc1b0\",                        [{\"marker\":{\"opacity\":0.5,\"size\":8},\"mode\":\"markers\",\"name\":\"data\",\"x\":[-0.9238189038518401,0.5813515424750001,-1.4595615253761984,1.4428999025167328,-0.3168524810452246,0.3709664476967773,0.7824079420667301,-0.07140289600010775,0.39481111921511136,0.545538659584348,-0.6832064667747362,0.8652632958720644,-0.6559546180537476,-1.3820770568065774,0.5593341654931653,0.1646058523643404,-0.8250368982613243,1.3025777807826853,-0.39075697251054037,1.479257095688637,-0.8677584885599853,0.0948736173504556,-0.7798422605280882,0.24875525114241323,-1.0901065188043217,0.830213291638991,-0.23487770034111496,-1.0716156892594693,-1.4859010337244827,-0.7622342922351039,-0.545901503330792,-0.265055911683275,0.4667461455694733,-0.2064241654715674,0.3628484569686022,1.2637458453239936,-1.177414358427548,-0.8454494666447835,0.767119196794818,-1.1467005801487955,1.6243470878040145,-0.9524685670712096,0.8088152145970963,-0.23186392302144712,0.3685994719202436,0.2613731438720082,-0.06886090819820216,0.7263849755583636,-0.20504642235429263,0.552135249238445,-0.509132151626586,0.14784881788464896,1.0276316139252673,1.7140562795990206,-0.28265125693896725,0.1672754482157351,-0.6469960883204503,1.4682112022142189,-1.2834828676961378,0.5866359161059929,0.4977419835993102,-1.0840962540236265,1.490611314944782,-0.008295301640448123,1.0655864250574858,0.4146742015185054,-0.4267846409663592,-1.4315516773792931,1.695395427037674,-1.1023343525314735,0.5348420276645339,-0.2638035853807425,0.56617738452939,-0.9152161991764654,1.0508837828264097,-0.06380636400047161,-1.6169695930002708,-0.6181284292120701,-0.3757681316256039,-1.3403242124617256,-0.2849782915967188,-0.6565005949352974,-1.7128886929756788,-2.650818786663588,0.9963385610748218,-1.9290833749345913,-0.8952556025456804,-0.20175453543550176,0.6995255351271108,1.7741432138190627,-0.09358432708314553,-0.3355074191950681,-1.2083331444209169,0.4726040058735996,0.8433685445583153,1.0049566987973186,-0.3888642245853347,0.36108173878699334,-0.41244259748489454,0.24130101887950547],\"y\":[-0.3663172688344479,-0.012719053030840755,-0.7515928301190705,0.917226552298473,0.06424651678393284,0.4306190041755723,0.4293236402182291,-0.3057821628032097,0.09670251287080989,0.1196411775664083,-0.46794870325285,0.5079929387162003,-0.28736528662316335,-0.4662002575633585,0.3709951103416849,0.03696557718169164,-0.5428931306412231,0.46809546944179037,-0.07105266102941908,0.7639190459429382,-0.537996415870647,-0.031112881687351254,-0.41821631196178205,0.3559608588396427,-0.6940910312460367,0.04881235081283336,-0.28572131518823835,-0.4792009713764309,-0.4893537338400806,-0.2096135738076863,-0.2947099042538644,-0.2881311516139927,-0.08105120272714819,-0.12969741394986267,0.41455590680973853,0.5635130162218625,-0.5410355423515851,-0.39688051435069993,0.1388285361278978,-0.6562955095192717,0.6635373311278475,-0.6198458973095159,0.38695682198944203,0.02482356698476941,0.522546343893731,0.20223518184848105,-0.17125871419802852,0.22801101853426356,0.04040356661182602,0.5842739780261247,-0.2346889809995412,0.19514889487360856,0.26750379526880175,0.8918424810105555,-0.24557818169243933,-0.10737927261793495,-0.36678857242626145,0.5734712732650783,-1.0730715691612736,0.6047819253808707,0.21026629170321687,-0.6138399463201579,0.9939273016465668,0.08830084632801438,0.5809755429425866,0.033187901166906286,-0.04536133182418001,-0.6768998166876476,0.713223541110598,-0.6346506210538565,0.16539168979501673,-0.01636658688855465,-0.17255763288538567,-0.6785729171342333,0.6586879689757371,-0.029677232942390726,-0.5993263525572687,0.2063754681052904,0.0920780473640049,-0.21105778119593044,0.11732697255541272,-0.4267151629770696,-0.6841482948884097,-1.152559814886739,0.5300480491377266,-0.9398174652113903,-0.25714077019523385,-0.19810131402638975,0.6133212784456541,0.6860838270092126,-0.08018975514689827,-0.4865366836109734,-0.4789692837599221,0.137210320941354,0.1974712160039503,0.4806852336327834,0.1438923814067545,-0.11040396732438557,-0.035994874668561855,0.1283420991104442],\"type\":\"scatter\"}],                        {\"template\":{\"data\":{\"histogram2dcontour\":[{\"type\":\"histogram2dcontour\",\"colorbar\":{\"outlinewidth\":0,\"ticks\":\"\"},\"colorscale\":[[0.0,\"#0d0887\"],[0.1111111111111111,\"#46039f\"],[0.2222222222222222,\"#7201a8\"],[0.3333333333333333,\"#9c179e\"],[0.4444444444444444,\"#bd3786\"],[0.5555555555555556,\"#d8576b\"],[0.6666666666666666,\"#ed7953\"],[0.7777777777777778,\"#fb9f3a\"],[0.8888888888888888,\"#fdca26\"],[1.0,\"#f0f921\"]]}],\"choropleth\":[{\"type\":\"choropleth\",\"colorbar\":{\"outlinewidth\":0,\"ticks\":\"\"}}],\"histogram2d\":[{\"type\":\"histogram2d\",\"colorbar\":{\"outlinewidth\":0,\"ticks\":\"\"},\"colorscale\":[[0.0,\"#0d0887\"],[0.1111111111111111,\"#46039f\"],[0.2222222222222222,\"#7201a8\"],[0.3333333333333333,\"#9c179e\"],[0.4444444444444444,\"#bd3786\"],[0.5555555555555556,\"#d8576b\"],[0.6666666666666666,\"#ed7953\"],[0.7777777777777778,\"#fb9f3a\"],[0.8888888888888888,\"#fdca26\"],[1.0,\"#f0f921\"]]}],\"heatmap\":[{\"type\":\"heatmap\",\"colorbar\":{\"outlinewidth\":0,\"ticks\":\"\"},\"colorscale\":[[0.0,\"#0d0887\"],[0.1111111111111111,\"#46039f\"],[0.2222222222222222,\"#7201a8\"],[0.3333333333333333,\"#9c179e\"],[0.4444444444444444,\"#bd3786\"],[0.5555555555555556,\"#d8576b\"],[0.6666666666666666,\"#ed7953\"],[0.7777777777777778,\"#fb9f3a\"],[0.8888888888888888,\"#fdca26\"],[1.0,\"#f0f921\"]]}],\"heatmapgl\":[{\"type\":\"heatmapgl\",\"colorbar\":{\"outlinewidth\":0,\"ticks\":\"\"},\"colorscale\":[[0.0,\"#0d0887\"],[0.1111111111111111,\"#46039f\"],[0.2222222222222222,\"#7201a8\"],[0.3333333333333333,\"#9c179e\"],[0.4444444444444444,\"#bd3786\"],[0.5555555555555556,\"#d8576b\"],[0.6666666666666666,\"#ed7953\"],[0.7777777777777778,\"#fb9f3a\"],[0.8888888888888888,\"#fdca26\"],[1.0,\"#f0f921\"]]}],\"contourcarpet\":[{\"type\":\"contourcarpet\",\"colorbar\":{\"outlinewidth\":0,\"ticks\":\"\"}}],\"contour\":[{\"type\":\"contour\",\"colorbar\":{\"outlinewidth\":0,\"ticks\":\"\"},\"colorscale\":[[0.0,\"#0d0887\"],[0.1111111111111111,\"#46039f\"],[0.2222222222222222,\"#7201a8\"],[0.3333333333333333,\"#9c179e\"],[0.4444444444444444,\"#bd3786\"],[0.5555555555555556,\"#d8576b\"],[0.6666666666666666,\"#ed7953\"],[0.7777777777777778,\"#fb9f3a\"],[0.8888888888888888,\"#fdca26\"],[1.0,\"#f0f921\"]]}],\"surface\":[{\"type\":\"surface\",\"colorbar\":{\"outlinewidth\":0,\"ticks\":\"\"},\"colorscale\":[[0.0,\"#0d0887\"],[0.1111111111111111,\"#46039f\"],[0.2222222222222222,\"#7201a8\"],[0.3333333333333333,\"#9c179e\"],[0.4444444444444444,\"#bd3786\"],[0.5555555555555556,\"#d8576b\"],[0.6666666666666666,\"#ed7953\"],[0.7777777777777778,\"#fb9f3a\"],[0.8888888888888888,\"#fdca26\"],[1.0,\"#f0f921\"]]}],\"mesh3d\":[{\"type\":\"mesh3d\",\"colorbar\":{\"outlinewidth\":0,\"ticks\":\"\"}}],\"scatter\":[{\"fillpattern\":{\"fillmode\":\"overlay\",\"size\":10,\"solidity\":0.2},\"type\":\"scatter\"}],\"parcoords\":[{\"type\":\"parcoords\",\"line\":{\"colorbar\":{\"outlinewidth\":0,\"ticks\":\"\"}}}],\"scatterpolargl\":[{\"type\":\"scatterpolargl\",\"marker\":{\"colorbar\":{\"outlinewidth\":0,\"ticks\":\"\"}}}],\"bar\":[{\"error_x\":{\"color\":\"#2a3f5f\"},\"error_y\":{\"color\":\"#2a3f5f\"},\"marker\":{\"line\":{\"color\":\"#E5ECF6\",\"width\":0.5},\"pattern\":{\"fillmode\":\"overlay\",\"size\":10,\"solidity\":0.2}},\"type\":\"bar\"}],\"scattergeo\":[{\"type\":\"scattergeo\",\"marker\":{\"colorbar\":{\"outlinewidth\":0,\"ticks\":\"\"}}}],\"scatterpolar\":[{\"type\":\"scatterpolar\",\"marker\":{\"colorbar\":{\"outlinewidth\":0,\"ticks\":\"\"}}}],\"histogram\":[{\"marker\":{\"pattern\":{\"fillmode\":\"overlay\",\"size\":10,\"solidity\":0.2}},\"type\":\"histogram\"}],\"scattergl\":[{\"type\":\"scattergl\",\"marker\":{\"colorbar\":{\"outlinewidth\":0,\"ticks\":\"\"}}}],\"scatter3d\":[{\"type\":\"scatter3d\",\"line\":{\"colorbar\":{\"outlinewidth\":0,\"ticks\":\"\"}},\"marker\":{\"colorbar\":{\"outlinewidth\":0,\"ticks\":\"\"}}}],\"scattermapbox\":[{\"type\":\"scattermapbox\",\"marker\":{\"colorbar\":{\"outlinewidth\":0,\"ticks\":\"\"}}}],\"scatterternary\":[{\"type\":\"scatterternary\",\"marker\":{\"colorbar\":{\"outlinewidth\":0,\"ticks\":\"\"}}}],\"scattercarpet\":[{\"type\":\"scattercarpet\",\"marker\":{\"colorbar\":{\"outlinewidth\":0,\"ticks\":\"\"}}}],\"carpet\":[{\"aaxis\":{\"endlinecolor\":\"#2a3f5f\",\"gridcolor\":\"white\",\"linecolor\":\"white\",\"minorgridcolor\":\"white\",\"startlinecolor\":\"#2a3f5f\"},\"baxis\":{\"endlinecolor\":\"#2a3f5f\",\"gridcolor\":\"white\",\"linecolor\":\"white\",\"minorgridcolor\":\"white\",\"startlinecolor\":\"#2a3f5f\"},\"type\":\"carpet\"}],\"table\":[{\"cells\":{\"fill\":{\"color\":\"#EBF0F8\"},\"line\":{\"color\":\"white\"}},\"header\":{\"fill\":{\"color\":\"#C8D4E3\"},\"line\":{\"color\":\"white\"}},\"type\":\"table\"}],\"barpolar\":[{\"marker\":{\"line\":{\"color\":\"#E5ECF6\",\"width\":0.5},\"pattern\":{\"fillmode\":\"overlay\",\"size\":10,\"solidity\":0.2}},\"type\":\"barpolar\"}],\"pie\":[{\"automargin\":true,\"type\":\"pie\"}]},\"layout\":{\"autotypenumbers\":\"strict\",\"colorway\":[\"#636efa\",\"#EF553B\",\"#00cc96\",\"#ab63fa\",\"#FFA15A\",\"#19d3f3\",\"#FF6692\",\"#B6E880\",\"#FF97FF\",\"#FECB52\"],\"font\":{\"color\":\"#2a3f5f\"},\"hovermode\":\"closest\",\"hoverlabel\":{\"align\":\"left\"},\"paper_bgcolor\":\"white\",\"plot_bgcolor\":\"#E5ECF6\",\"polar\":{\"bgcolor\":\"#E5ECF6\",\"angularaxis\":{\"gridcolor\":\"white\",\"linecolor\":\"white\",\"ticks\":\"\"},\"radialaxis\":{\"gridcolor\":\"white\",\"linecolor\":\"white\",\"ticks\":\"\"}},\"ternary\":{\"bgcolor\":\"#E5ECF6\",\"aaxis\":{\"gridcolor\":\"white\",\"linecolor\":\"white\",\"ticks\":\"\"},\"baxis\":{\"gridcolor\":\"white\",\"linecolor\":\"white\",\"ticks\":\"\"},\"caxis\":{\"gridcolor\":\"white\",\"linecolor\":\"white\",\"ticks\":\"\"}},\"coloraxis\":{\"colorbar\":{\"outlinewidth\":0,\"ticks\":\"\"}},\"colorscale\":{\"sequential\":[[0.0,\"#0d0887\"],[0.1111111111111111,\"#46039f\"],[0.2222222222222222,\"#7201a8\"],[0.3333333333333333,\"#9c179e\"],[0.4444444444444444,\"#bd3786\"],[0.5555555555555556,\"#d8576b\"],[0.6666666666666666,\"#ed7953\"],[0.7777777777777778,\"#fb9f3a\"],[0.8888888888888888,\"#fdca26\"],[1.0,\"#f0f921\"]],\"sequentialminus\":[[0.0,\"#0d0887\"],[0.1111111111111111,\"#46039f\"],[0.2222222222222222,\"#7201a8\"],[0.3333333333333333,\"#9c179e\"],[0.4444444444444444,\"#bd3786\"],[0.5555555555555556,\"#d8576b\"],[0.6666666666666666,\"#ed7953\"],[0.7777777777777778,\"#fb9f3a\"],[0.8888888888888888,\"#fdca26\"],[1.0,\"#f0f921\"]],\"diverging\":[[0,\"#8e0152\"],[0.1,\"#c51b7d\"],[0.2,\"#de77ae\"],[0.3,\"#f1b6da\"],[0.4,\"#fde0ef\"],[0.5,\"#f7f7f7\"],[0.6,\"#e6f5d0\"],[0.7,\"#b8e186\"],[0.8,\"#7fbc41\"],[0.9,\"#4d9221\"],[1,\"#276419\"]]},\"xaxis\":{\"gridcolor\":\"white\",\"linecolor\":\"white\",\"ticks\":\"\",\"title\":{\"standoff\":15},\"zerolinecolor\":\"white\",\"automargin\":true,\"zerolinewidth\":2},\"yaxis\":{\"gridcolor\":\"white\",\"linecolor\":\"white\",\"ticks\":\"\",\"title\":{\"standoff\":15},\"zerolinecolor\":\"white\",\"automargin\":true,\"zerolinewidth\":2},\"scene\":{\"xaxis\":{\"backgroundcolor\":\"#E5ECF6\",\"gridcolor\":\"white\",\"linecolor\":\"white\",\"showbackground\":true,\"ticks\":\"\",\"zerolinecolor\":\"white\",\"gridwidth\":2},\"yaxis\":{\"backgroundcolor\":\"#E5ECF6\",\"gridcolor\":\"white\",\"linecolor\":\"white\",\"showbackground\":true,\"ticks\":\"\",\"zerolinecolor\":\"white\",\"gridwidth\":2},\"zaxis\":{\"backgroundcolor\":\"#E5ECF6\",\"gridcolor\":\"white\",\"linecolor\":\"white\",\"showbackground\":true,\"ticks\":\"\",\"zerolinecolor\":\"white\",\"gridwidth\":2}},\"shapedefaults\":{\"line\":{\"color\":\"#2a3f5f\"}},\"annotationdefaults\":{\"arrowcolor\":\"#2a3f5f\",\"arrowhead\":0,\"arrowwidth\":1},\"geo\":{\"bgcolor\":\"white\",\"landcolor\":\"#E5ECF6\",\"subunitcolor\":\"white\",\"showland\":true,\"showlakes\":true,\"lakecolor\":\"white\"},\"title\":{\"x\":0.05},\"mapbox\":{\"style\":\"light\"}}},\"yaxis\":{\"title\":{\"text\":\"y\"},\"scaleanchor\":\"x\",\"scaleratio\":1},\"xaxis\":{\"title\":{\"text\":\"x\"}}},                        {\"responsive\": true}                    ).then(function(){\n",
       "                            \n",
       "var gd = document.getElementById('e83472f9-c67f-412e-8061-8253beddc1b0');\n",
       "var x = new MutationObserver(function (mutations, observer) {{\n",
       "        var display = window.getComputedStyle(gd).display;\n",
       "        if (!display || display === 'none') {{\n",
       "            console.log([gd, 'removed!']);\n",
       "            Plotly.purge(gd);\n",
       "            observer.disconnect();\n",
       "        }}\n",
       "}});\n",
       "\n",
       "// Listen for the removal of the full notebook cells\n",
       "var notebookContainer = gd.closest('#notebook-container');\n",
       "if (notebookContainer) {{\n",
       "    x.observe(notebookContainer, {childList: true});\n",
       "}}\n",
       "\n",
       "// Listen for the clearing of the current output cell\n",
       "var outputEl = gd.closest('.output');\n",
       "if (outputEl) {{\n",
       "    x.observe(outputEl, {childList: true});\n",
       "}}\n",
       "\n",
       "                        })                };                });            </script>        </div>"
      ]
     },
     "metadata": {},
     "output_type": "display_data"
    }
   ],
   "source": [
    "# define plot axes\n",
    "fig.update_layout(\n",
    "    xaxis_title=\"x\",\n",
    "    yaxis_title=\"y\",\n",
    "    yaxis = dict(scaleanchor = \"x\",scaleratio = 1)\n",
    ")\n",
    "\n",
    "fig.show()"
   ]
  },
  {
   "cell_type": "markdown",
   "id": "9cd8b87f-181a-4050-a5c3-6135c653cd42",
   "metadata": {},
   "source": [
    "### Variance"
   ]
  },
  {
   "cell_type": "markdown",
   "id": "6fc918a2-a067-4766-90d5-1349d08f6eac",
   "metadata": {},
   "source": [
    "For the `x` component, there's some *mean* value (zero in this case) and some *variance* about this mean. Technically, the variance is the average of the squared differences from the mean.\n",
    "\n",
    "Similarly, we can look at the variance in just the `y` component of the data."
   ]
  },
  {
   "cell_type": "code",
   "execution_count": 6,
   "id": "3e463769-4c14-45c8-a30b-fbdf1d37c035",
   "metadata": {},
   "outputs": [
    {
     "name": "stdout",
     "output_type": "stream",
     "text": [
      "Variance in x = 0.8548354976996086\n",
      "Variance in y = 0.21424144027729683\n"
     ]
    }
   ],
   "source": [
    "print(\"Variance in x =\",np.var(x))\n",
    "print(\"Variance in y =\",np.var(y))"
   ]
  },
  {
   "cell_type": "markdown",
   "id": "5f6f35c5-fa05-4218-8ecd-cbcdc2675592",
   "metadata": {},
   "source": [
    "### Covariance"
   ]
  },
  {
   "cell_type": "markdown",
   "id": "7e84d7cb-8dbb-4d21-bbed-af978d89f8ac",
   "metadata": {},
   "source": [
    "Established above, as `x` varies, so does `y`. So `y` is a *covariant* of `x`. Coveriance indicates the level to which two variables vary together."
   ]
  },
  {
   "cell_type": "code",
   "execution_count": 10,
   "id": "ec5e0884-f4d9-4fb5-8a13-6c3060dffbe5",
   "metadata": {},
   "outputs": [],
   "source": [
    "# define the covariance formula\n",
    "def covariance(a,b):\n",
    "    return ( (a - a.mean())*(b - b.mean()) ).sum() / (len(a)-1)"
   ]
  },
  {
   "cell_type": "code",
   "execution_count": 11,
   "id": "5e17ed3e-184b-41b3-a0f9-e7a4e8d3244c",
   "metadata": {},
   "outputs": [
    {
     "name": "stdout",
     "output_type": "stream",
     "text": [
      "Covariance of x & y = 0.3954548460753201\n",
      "Covariance of y & x = 0.3954548460753201\n",
      "Covariance of x with itself = 0.8634701996965743 , variance of x = 0.8548354976996086\n",
      "Covariance of y with itself = 0.21640549522959274 , variance of x = 0.21424144027729683\n"
     ]
    }
   ],
   "source": [
    "print(\"Covariance of x & y =\",covariance(x,y))\n",
    "print(\"Covariance of y & x =\",covariance(x,y))\n",
    "print(\"Covariance of x with itself =\",covariance(x,x),\", variance of x =\",np.var(x))\n",
    "print(\"Covariance of y with itself =\",covariance(y,y),\", variance of x =\",np.var(y))"
   ]
  },
  {
   "cell_type": "markdown",
   "id": "4f58b33c-0512-4ab3-b5ee-5780d7ba0d17",
   "metadata": {},
   "source": [
    "### Covariance Matrix"
   ]
  },
  {
   "cell_type": "markdown",
   "id": "3e0edc7d-9ada-4ff4-8bd4-69a1b88d5f3e",
   "metadata": {},
   "source": [
    "Take the covariance of every variable with every variable (including itself) and make a matrix. Along the diagonal will be the variance of each variable and the rest of the matrix will be covariances. Note that since the order of the variables doesn't matter when computing covariance, the matrix will be *symmetric* (symmetric across the diagonal) and thus will be a square matrix."
   ]
  },
  {
   "cell_type": "code",
   "execution_count": 14,
   "id": "4295b916-e15d-4474-b6d6-b82353bd1552",
   "metadata": {},
   "outputs": [
    {
     "name": "stdout",
     "output_type": "stream",
     "text": [
      "data.shape = (100, 2)\n"
     ]
    }
   ],
   "source": [
    "# pack the x & y data together in one 2D array\n",
    "data = np.stack((x,y),axis=1)\n",
    "print(\"data.shape =\",data.shape)"
   ]
  },
  {
   "cell_type": "code",
   "execution_count": 15,
   "id": "8d52347a-5cde-4ded-8922-702923fc45f8",
   "metadata": {},
   "outputs": [
    {
     "name": "stdout",
     "output_type": "stream",
     "text": [
      "covariance matrix =\n",
      " [[0.8634702  0.39545485]\n",
      " [0.39545485 0.2164055 ]]\n"
     ]
    }
   ],
   "source": [
    "# transpose because numpy wants varibles along rows rather than down columns\n",
    "cov = np.cov(data.T) \n",
    "print(\"covariance matrix =\\n\",cov)"
   ]
  },
  {
   "cell_type": "markdown",
   "id": "2cfa69cc-9e6b-4ac6-970b-45d09f3951d7",
   "metadata": {},
   "source": [
    "## Example Data"
   ]
  },
  {
   "cell_type": "markdown",
   "id": "54ceef65-3ab3-4cfb-9c04-1d025e48c8b9",
   "metadata": {},
   "source": [
    "Generate some 3D data that we can use for the next step. But first, calculate the *covariance matrix*.\n",
    "> Note: Because 3 variables (or dimension) are defined, the covariance matrix will now be 3x3."
   ]
  },
  {
   "cell_type": "code",
   "execution_count": 19,
   "id": "0e1a8e9b-2da2-41cb-a865-3055a51a2972",
   "metadata": {},
   "outputs": [
    {
     "name": "stdout",
     "output_type": "stream",
     "text": [
      "data.shape = (100, 3)\n"
     ]
    }
   ],
   "source": [
    "z = -.5*x + 2*np.random.uniform(size=N)\n",
    "data = np.stack((x,y,z)).T\n",
    "print(\"data.shape =\",data.shape)"
   ]
  },
  {
   "cell_type": "code",
   "execution_count": 20,
   "id": "6480e849-597d-4e60-b23b-927000346fc7",
   "metadata": {},
   "outputs": [
    {
     "name": "stdout",
     "output_type": "stream",
     "text": [
      "covariance matrix =\n",
      " [[ 0.8634702   0.39545485 -0.39131592]\n",
      " [ 0.39545485  0.2164055  -0.18159484]\n",
      " [-0.39131592 -0.18159484  0.48059643]]\n"
     ]
    }
   ],
   "source": [
    "cov = np.cov(data.T)\n",
    "print(\"covariance matrix =\\n\",cov)"
   ]
  },
  {
   "cell_type": "code",
   "execution_count": 21,
   "id": "140fd306-17b7-4f33-94de-5bbe5bb39719",
   "metadata": {},
   "outputs": [
    {
     "data": {
      "application/vnd.plotly.v1+json": {
       "config": {
        "plotlyServerURL": "https://plot.ly"
       },
       "data": [
        {
         "marker": {
          "opacity": 0.5,
          "size": 8
         },
         "mode": "markers",
         "name": "data",
         "type": "scatter3d",
         "x": [
          -0.9238189038518401,
          0.5813515424750001,
          -1.4595615253761984,
          1.4428999025167328,
          -0.3168524810452246,
          0.3709664476967773,
          0.7824079420667301,
          -0.07140289600010775,
          0.39481111921511136,
          0.545538659584348,
          -0.6832064667747362,
          0.8652632958720644,
          -0.6559546180537476,
          -1.3820770568065774,
          0.5593341654931653,
          0.1646058523643404,
          -0.8250368982613243,
          1.3025777807826853,
          -0.39075697251054037,
          1.479257095688637,
          -0.8677584885599853,
          0.0948736173504556,
          -0.7798422605280882,
          0.24875525114241323,
          -1.0901065188043217,
          0.830213291638991,
          -0.23487770034111496,
          -1.0716156892594693,
          -1.4859010337244827,
          -0.7622342922351039,
          -0.545901503330792,
          -0.265055911683275,
          0.4667461455694733,
          -0.2064241654715674,
          0.3628484569686022,
          1.2637458453239936,
          -1.177414358427548,
          -0.8454494666447835,
          0.767119196794818,
          -1.1467005801487955,
          1.6243470878040145,
          -0.9524685670712096,
          0.8088152145970963,
          -0.23186392302144712,
          0.3685994719202436,
          0.2613731438720082,
          -0.06886090819820216,
          0.7263849755583636,
          -0.20504642235429263,
          0.552135249238445,
          -0.509132151626586,
          0.14784881788464896,
          1.0276316139252673,
          1.7140562795990206,
          -0.28265125693896725,
          0.1672754482157351,
          -0.6469960883204503,
          1.4682112022142189,
          -1.2834828676961378,
          0.5866359161059929,
          0.4977419835993102,
          -1.0840962540236265,
          1.490611314944782,
          -0.008295301640448123,
          1.0655864250574858,
          0.4146742015185054,
          -0.4267846409663592,
          -1.4315516773792931,
          1.695395427037674,
          -1.1023343525314735,
          0.5348420276645339,
          -0.2638035853807425,
          0.56617738452939,
          -0.9152161991764654,
          1.0508837828264097,
          -0.06380636400047161,
          -1.6169695930002708,
          -0.6181284292120701,
          -0.3757681316256039,
          -1.3403242124617256,
          -0.2849782915967188,
          -0.6565005949352974,
          -1.7128886929756788,
          -2.650818786663588,
          0.9963385610748218,
          -1.9290833749345913,
          -0.8952556025456804,
          -0.20175453543550176,
          0.6995255351271108,
          1.7741432138190627,
          -0.09358432708314553,
          -0.3355074191950681,
          -1.2083331444209169,
          0.4726040058735996,
          0.8433685445583153,
          1.0049566987973186,
          -0.3888642245853347,
          0.36108173878699334,
          -0.41244259748489454,
          0.24130101887950547
         ],
         "y": [
          -0.3663172688344479,
          -0.012719053030840755,
          -0.7515928301190705,
          0.917226552298473,
          0.06424651678393284,
          0.4306190041755723,
          0.4293236402182291,
          -0.3057821628032097,
          0.09670251287080989,
          0.1196411775664083,
          -0.46794870325285,
          0.5079929387162003,
          -0.28736528662316335,
          -0.4662002575633585,
          0.3709951103416849,
          0.03696557718169164,
          -0.5428931306412231,
          0.46809546944179037,
          -0.07105266102941908,
          0.7639190459429382,
          -0.537996415870647,
          -0.031112881687351254,
          -0.41821631196178205,
          0.3559608588396427,
          -0.6940910312460367,
          0.04881235081283336,
          -0.28572131518823835,
          -0.4792009713764309,
          -0.4893537338400806,
          -0.2096135738076863,
          -0.2947099042538644,
          -0.2881311516139927,
          -0.08105120272714819,
          -0.12969741394986267,
          0.41455590680973853,
          0.5635130162218625,
          -0.5410355423515851,
          -0.39688051435069993,
          0.1388285361278978,
          -0.6562955095192717,
          0.6635373311278475,
          -0.6198458973095159,
          0.38695682198944203,
          0.02482356698476941,
          0.522546343893731,
          0.20223518184848105,
          -0.17125871419802852,
          0.22801101853426356,
          0.04040356661182602,
          0.5842739780261247,
          -0.2346889809995412,
          0.19514889487360856,
          0.26750379526880175,
          0.8918424810105555,
          -0.24557818169243933,
          -0.10737927261793495,
          -0.36678857242626145,
          0.5734712732650783,
          -1.0730715691612736,
          0.6047819253808707,
          0.21026629170321687,
          -0.6138399463201579,
          0.9939273016465668,
          0.08830084632801438,
          0.5809755429425866,
          0.033187901166906286,
          -0.04536133182418001,
          -0.6768998166876476,
          0.713223541110598,
          -0.6346506210538565,
          0.16539168979501673,
          -0.01636658688855465,
          -0.17255763288538567,
          -0.6785729171342333,
          0.6586879689757371,
          -0.029677232942390726,
          -0.5993263525572687,
          0.2063754681052904,
          0.0920780473640049,
          -0.21105778119593044,
          0.11732697255541272,
          -0.4267151629770696,
          -0.6841482948884097,
          -1.152559814886739,
          0.5300480491377266,
          -0.9398174652113903,
          -0.25714077019523385,
          -0.19810131402638975,
          0.6133212784456541,
          0.6860838270092126,
          -0.08018975514689827,
          -0.4865366836109734,
          -0.4789692837599221,
          0.137210320941354,
          0.1974712160039503,
          0.4806852336327834,
          0.1438923814067545,
          -0.11040396732438557,
          -0.035994874668561855,
          0.1283420991104442
         ],
         "z": [
          1.2621189004946363,
          1.4600448683099863,
          2.6634315186232205,
          1.067203083758653,
          2.028569627985172,
          0.7649734566977492,
          0.519699263218609,
          1.8790086803805688,
          1.6760295871195894,
          0.7857350382715516,
          1.4692818575579158,
          0.5129587481665026,
          1.8728583313533287,
          1.5023591268390046,
          -0.20582287267034577,
          0.302386675151435,
          0.6652299652556328,
          1.3454177859831842,
          0.28988400047806173,
          0.04056569758402673,
          0.7705938610255145,
          1.058109772250021,
          0.8838596548120938,
          0.6416321896403101,
          2.1686848486540597,
          -0.06753701598509532,
          1.1724939635013576,
          1.8847856387868376,
          0.9718172716229928,
          2.145221692424075,
          0.4774297873069236,
          0.6963460043857497,
          1.7591006826753495,
          1.4368797558501554,
          1.6931183176815128,
          0.607004003860985,
          1.883638095583387,
          1.3464066074844847,
          1.0189387612440415,
          0.7935013244738146,
          0.9209139904898704,
          1.828984510203734,
          -0.16327490544757312,
          0.6972511025421814,
          0.5640178338161951,
          0.6598391477241851,
          1.8237790233367157,
          0.8995693221204778,
          1.3341248268737416,
          0.5358696482007325,
          1.642040943261035,
          0.6893183766488072,
          1.1109402416427323,
          0.11677988063348121,
          1.0420819266473573,
          0.06254499709772884,
          2.037786289510695,
          -0.4736677183480802,
          0.6494309493566146,
          0.3606388683732439,
          1.6069229283235762,
          0.9777940372146933,
          0.18778767838516675,
          0.4587742443611418,
          0.8345291521970313,
          1.363412040932669,
          1.8330823209985052,
          1.242782733266243,
          0.34386407037096944,
          1.4734346627862651,
          0.10337164635927559,
          0.8000279398709774,
          1.2333086944387612,
          1.6851036173531355,
          1.2429974279216405,
          1.3875251693510904,
          1.8937467742367178,
          1.4424217472460827,
          1.6945968502670696,
          1.2499689791779187,
          1.8126748500528531,
          1.312531483204793,
          2.505590175443844,
          2.4275971765335775,
          0.35400691771614606,
          1.6016467897990578,
          1.3245294039503528,
          0.8446098152992544,
          -0.1239658109220868,
          -0.4842219348823177,
          1.403840292573309,
          0.8640794715591114,
          1.1653136117586596,
          0.009746818887465564,
          -0.10759947391412511,
          0.01737097751196992,
          1.8562792902607137,
          1.5262407909389621,
          0.5403549613900411,
          0.856557702351707
         ]
        }
       ],
       "layout": {
        "autosize": true,
        "scene": {
         "aspectmode": "auto",
         "aspectratio": {
          "x": 1.4257212772893335,
          "y": 0.6915974313757188,
          "z": 1.0141728904579534
         },
         "camera": {
          "center": {
           "x": 0,
           "y": 0,
           "z": 0
          },
          "eye": {
           "x": 1.3590267141103096,
           "y": 1.3590267141103094,
           "z": 1.3590267141103094
          },
          "projection": {
           "type": "perspective"
          },
          "up": {
           "x": 0,
           "y": 0,
           "z": 1
          }
         }
        },
        "template": {
         "data": {
          "bar": [
           {
            "error_x": {
             "color": "#2a3f5f"
            },
            "error_y": {
             "color": "#2a3f5f"
            },
            "marker": {
             "line": {
              "color": "#E5ECF6",
              "width": 0.5
             },
             "pattern": {
              "fillmode": "overlay",
              "size": 10,
              "solidity": 0.2
             }
            },
            "type": "bar"
           }
          ],
          "barpolar": [
           {
            "marker": {
             "line": {
              "color": "#E5ECF6",
              "width": 0.5
             },
             "pattern": {
              "fillmode": "overlay",
              "size": 10,
              "solidity": 0.2
             }
            },
            "type": "barpolar"
           }
          ],
          "carpet": [
           {
            "aaxis": {
             "endlinecolor": "#2a3f5f",
             "gridcolor": "white",
             "linecolor": "white",
             "minorgridcolor": "white",
             "startlinecolor": "#2a3f5f"
            },
            "baxis": {
             "endlinecolor": "#2a3f5f",
             "gridcolor": "white",
             "linecolor": "white",
             "minorgridcolor": "white",
             "startlinecolor": "#2a3f5f"
            },
            "type": "carpet"
           }
          ],
          "choropleth": [
           {
            "colorbar": {
             "outlinewidth": 0,
             "ticks": ""
            },
            "type": "choropleth"
           }
          ],
          "contour": [
           {
            "colorbar": {
             "outlinewidth": 0,
             "ticks": ""
            },
            "colorscale": [
             [
              0,
              "#0d0887"
             ],
             [
              0.1111111111111111,
              "#46039f"
             ],
             [
              0.2222222222222222,
              "#7201a8"
             ],
             [
              0.3333333333333333,
              "#9c179e"
             ],
             [
              0.4444444444444444,
              "#bd3786"
             ],
             [
              0.5555555555555556,
              "#d8576b"
             ],
             [
              0.6666666666666666,
              "#ed7953"
             ],
             [
              0.7777777777777778,
              "#fb9f3a"
             ],
             [
              0.8888888888888888,
              "#fdca26"
             ],
             [
              1,
              "#f0f921"
             ]
            ],
            "type": "contour"
           }
          ],
          "contourcarpet": [
           {
            "colorbar": {
             "outlinewidth": 0,
             "ticks": ""
            },
            "type": "contourcarpet"
           }
          ],
          "heatmap": [
           {
            "colorbar": {
             "outlinewidth": 0,
             "ticks": ""
            },
            "colorscale": [
             [
              0,
              "#0d0887"
             ],
             [
              0.1111111111111111,
              "#46039f"
             ],
             [
              0.2222222222222222,
              "#7201a8"
             ],
             [
              0.3333333333333333,
              "#9c179e"
             ],
             [
              0.4444444444444444,
              "#bd3786"
             ],
             [
              0.5555555555555556,
              "#d8576b"
             ],
             [
              0.6666666666666666,
              "#ed7953"
             ],
             [
              0.7777777777777778,
              "#fb9f3a"
             ],
             [
              0.8888888888888888,
              "#fdca26"
             ],
             [
              1,
              "#f0f921"
             ]
            ],
            "type": "heatmap"
           }
          ],
          "heatmapgl": [
           {
            "colorbar": {
             "outlinewidth": 0,
             "ticks": ""
            },
            "colorscale": [
             [
              0,
              "#0d0887"
             ],
             [
              0.1111111111111111,
              "#46039f"
             ],
             [
              0.2222222222222222,
              "#7201a8"
             ],
             [
              0.3333333333333333,
              "#9c179e"
             ],
             [
              0.4444444444444444,
              "#bd3786"
             ],
             [
              0.5555555555555556,
              "#d8576b"
             ],
             [
              0.6666666666666666,
              "#ed7953"
             ],
             [
              0.7777777777777778,
              "#fb9f3a"
             ],
             [
              0.8888888888888888,
              "#fdca26"
             ],
             [
              1,
              "#f0f921"
             ]
            ],
            "type": "heatmapgl"
           }
          ],
          "histogram": [
           {
            "marker": {
             "pattern": {
              "fillmode": "overlay",
              "size": 10,
              "solidity": 0.2
             }
            },
            "type": "histogram"
           }
          ],
          "histogram2d": [
           {
            "colorbar": {
             "outlinewidth": 0,
             "ticks": ""
            },
            "colorscale": [
             [
              0,
              "#0d0887"
             ],
             [
              0.1111111111111111,
              "#46039f"
             ],
             [
              0.2222222222222222,
              "#7201a8"
             ],
             [
              0.3333333333333333,
              "#9c179e"
             ],
             [
              0.4444444444444444,
              "#bd3786"
             ],
             [
              0.5555555555555556,
              "#d8576b"
             ],
             [
              0.6666666666666666,
              "#ed7953"
             ],
             [
              0.7777777777777778,
              "#fb9f3a"
             ],
             [
              0.8888888888888888,
              "#fdca26"
             ],
             [
              1,
              "#f0f921"
             ]
            ],
            "type": "histogram2d"
           }
          ],
          "histogram2dcontour": [
           {
            "colorbar": {
             "outlinewidth": 0,
             "ticks": ""
            },
            "colorscale": [
             [
              0,
              "#0d0887"
             ],
             [
              0.1111111111111111,
              "#46039f"
             ],
             [
              0.2222222222222222,
              "#7201a8"
             ],
             [
              0.3333333333333333,
              "#9c179e"
             ],
             [
              0.4444444444444444,
              "#bd3786"
             ],
             [
              0.5555555555555556,
              "#d8576b"
             ],
             [
              0.6666666666666666,
              "#ed7953"
             ],
             [
              0.7777777777777778,
              "#fb9f3a"
             ],
             [
              0.8888888888888888,
              "#fdca26"
             ],
             [
              1,
              "#f0f921"
             ]
            ],
            "type": "histogram2dcontour"
           }
          ],
          "mesh3d": [
           {
            "colorbar": {
             "outlinewidth": 0,
             "ticks": ""
            },
            "type": "mesh3d"
           }
          ],
          "parcoords": [
           {
            "line": {
             "colorbar": {
              "outlinewidth": 0,
              "ticks": ""
             }
            },
            "type": "parcoords"
           }
          ],
          "pie": [
           {
            "automargin": true,
            "type": "pie"
           }
          ],
          "scatter": [
           {
            "fillpattern": {
             "fillmode": "overlay",
             "size": 10,
             "solidity": 0.2
            },
            "type": "scatter"
           }
          ],
          "scatter3d": [
           {
            "line": {
             "colorbar": {
              "outlinewidth": 0,
              "ticks": ""
             }
            },
            "marker": {
             "colorbar": {
              "outlinewidth": 0,
              "ticks": ""
             }
            },
            "type": "scatter3d"
           }
          ],
          "scattercarpet": [
           {
            "marker": {
             "colorbar": {
              "outlinewidth": 0,
              "ticks": ""
             }
            },
            "type": "scattercarpet"
           }
          ],
          "scattergeo": [
           {
            "marker": {
             "colorbar": {
              "outlinewidth": 0,
              "ticks": ""
             }
            },
            "type": "scattergeo"
           }
          ],
          "scattergl": [
           {
            "marker": {
             "colorbar": {
              "outlinewidth": 0,
              "ticks": ""
             }
            },
            "type": "scattergl"
           }
          ],
          "scattermapbox": [
           {
            "marker": {
             "colorbar": {
              "outlinewidth": 0,
              "ticks": ""
             }
            },
            "type": "scattermapbox"
           }
          ],
          "scatterpolar": [
           {
            "marker": {
             "colorbar": {
              "outlinewidth": 0,
              "ticks": ""
             }
            },
            "type": "scatterpolar"
           }
          ],
          "scatterpolargl": [
           {
            "marker": {
             "colorbar": {
              "outlinewidth": 0,
              "ticks": ""
             }
            },
            "type": "scatterpolargl"
           }
          ],
          "scatterternary": [
           {
            "marker": {
             "colorbar": {
              "outlinewidth": 0,
              "ticks": ""
             }
            },
            "type": "scatterternary"
           }
          ],
          "surface": [
           {
            "colorbar": {
             "outlinewidth": 0,
             "ticks": ""
            },
            "colorscale": [
             [
              0,
              "#0d0887"
             ],
             [
              0.1111111111111111,
              "#46039f"
             ],
             [
              0.2222222222222222,
              "#7201a8"
             ],
             [
              0.3333333333333333,
              "#9c179e"
             ],
             [
              0.4444444444444444,
              "#bd3786"
             ],
             [
              0.5555555555555556,
              "#d8576b"
             ],
             [
              0.6666666666666666,
              "#ed7953"
             ],
             [
              0.7777777777777778,
              "#fb9f3a"
             ],
             [
              0.8888888888888888,
              "#fdca26"
             ],
             [
              1,
              "#f0f921"
             ]
            ],
            "type": "surface"
           }
          ],
          "table": [
           {
            "cells": {
             "fill": {
              "color": "#EBF0F8"
             },
             "line": {
              "color": "white"
             }
            },
            "header": {
             "fill": {
              "color": "#C8D4E3"
             },
             "line": {
              "color": "white"
             }
            },
            "type": "table"
           }
          ]
         },
         "layout": {
          "annotationdefaults": {
           "arrowcolor": "#2a3f5f",
           "arrowhead": 0,
           "arrowwidth": 1
          },
          "autotypenumbers": "strict",
          "coloraxis": {
           "colorbar": {
            "outlinewidth": 0,
            "ticks": ""
           }
          },
          "colorscale": {
           "diverging": [
            [
             0,
             "#8e0152"
            ],
            [
             0.1,
             "#c51b7d"
            ],
            [
             0.2,
             "#de77ae"
            ],
            [
             0.3,
             "#f1b6da"
            ],
            [
             0.4,
             "#fde0ef"
            ],
            [
             0.5,
             "#f7f7f7"
            ],
            [
             0.6,
             "#e6f5d0"
            ],
            [
             0.7,
             "#b8e186"
            ],
            [
             0.8,
             "#7fbc41"
            ],
            [
             0.9,
             "#4d9221"
            ],
            [
             1,
             "#276419"
            ]
           ],
           "sequential": [
            [
             0,
             "#0d0887"
            ],
            [
             0.1111111111111111,
             "#46039f"
            ],
            [
             0.2222222222222222,
             "#7201a8"
            ],
            [
             0.3333333333333333,
             "#9c179e"
            ],
            [
             0.4444444444444444,
             "#bd3786"
            ],
            [
             0.5555555555555556,
             "#d8576b"
            ],
            [
             0.6666666666666666,
             "#ed7953"
            ],
            [
             0.7777777777777778,
             "#fb9f3a"
            ],
            [
             0.8888888888888888,
             "#fdca26"
            ],
            [
             1,
             "#f0f921"
            ]
           ],
           "sequentialminus": [
            [
             0,
             "#0d0887"
            ],
            [
             0.1111111111111111,
             "#46039f"
            ],
            [
             0.2222222222222222,
             "#7201a8"
            ],
            [
             0.3333333333333333,
             "#9c179e"
            ],
            [
             0.4444444444444444,
             "#bd3786"
            ],
            [
             0.5555555555555556,
             "#d8576b"
            ],
            [
             0.6666666666666666,
             "#ed7953"
            ],
            [
             0.7777777777777778,
             "#fb9f3a"
            ],
            [
             0.8888888888888888,
             "#fdca26"
            ],
            [
             1,
             "#f0f921"
            ]
           ]
          },
          "colorway": [
           "#636efa",
           "#EF553B",
           "#00cc96",
           "#ab63fa",
           "#FFA15A",
           "#19d3f3",
           "#FF6692",
           "#B6E880",
           "#FF97FF",
           "#FECB52"
          ],
          "font": {
           "color": "#2a3f5f"
          },
          "geo": {
           "bgcolor": "white",
           "lakecolor": "white",
           "landcolor": "#E5ECF6",
           "showlakes": true,
           "showland": true,
           "subunitcolor": "white"
          },
          "hoverlabel": {
           "align": "left"
          },
          "hovermode": "closest",
          "mapbox": {
           "style": "light"
          },
          "paper_bgcolor": "white",
          "plot_bgcolor": "#E5ECF6",
          "polar": {
           "angularaxis": {
            "gridcolor": "white",
            "linecolor": "white",
            "ticks": ""
           },
           "bgcolor": "#E5ECF6",
           "radialaxis": {
            "gridcolor": "white",
            "linecolor": "white",
            "ticks": ""
           }
          },
          "scene": {
           "xaxis": {
            "backgroundcolor": "#E5ECF6",
            "gridcolor": "white",
            "gridwidth": 2,
            "linecolor": "white",
            "showbackground": true,
            "ticks": "",
            "zerolinecolor": "white"
           },
           "yaxis": {
            "backgroundcolor": "#E5ECF6",
            "gridcolor": "white",
            "gridwidth": 2,
            "linecolor": "white",
            "showbackground": true,
            "ticks": "",
            "zerolinecolor": "white"
           },
           "zaxis": {
            "backgroundcolor": "#E5ECF6",
            "gridcolor": "white",
            "gridwidth": 2,
            "linecolor": "white",
            "showbackground": true,
            "ticks": "",
            "zerolinecolor": "white"
           }
          },
          "shapedefaults": {
           "line": {
            "color": "#2a3f5f"
           }
          },
          "ternary": {
           "aaxis": {
            "gridcolor": "white",
            "linecolor": "white",
            "ticks": ""
           },
           "baxis": {
            "gridcolor": "white",
            "linecolor": "white",
            "ticks": ""
           },
           "bgcolor": "#E5ECF6",
           "caxis": {
            "gridcolor": "white",
            "linecolor": "white",
            "ticks": ""
           }
          },
          "title": {
           "x": 0.05
          },
          "xaxis": {
           "automargin": true,
           "gridcolor": "white",
           "linecolor": "white",
           "ticks": "",
           "title": {
            "standoff": 15
           },
           "zerolinecolor": "white",
           "zerolinewidth": 2
          },
          "yaxis": {
           "automargin": true,
           "gridcolor": "white",
           "linecolor": "white",
           "ticks": "",
           "title": {
            "standoff": 15
           },
           "zerolinecolor": "white",
           "zerolinewidth": 2
          }
         }
        },
        "xaxis": {
         "title": {
          "text": "x"
         }
        },
        "yaxis": {
         "scaleanchor": "x",
         "scaleratio": 1,
         "title": {
          "text": "y"
         }
        }
       }
      },
      "image/png": "[encoded data removed]",
      "text/html": [
       "<div>                            <div id=\"5342d347-23a0-4d72-8ee6-e6838f962283\" class=\"plotly-graph-div\" style=\"height:525px; width:100%;\"></div>            <script type=\"text/javascript\">                require([\"plotly\"], function(Plotly) {                    window.PLOTLYENV=window.PLOTLYENV || {};                                    if (document.getElementById(\"5342d347-23a0-4d72-8ee6-e6838f962283\")) {                    Plotly.newPlot(                        \"5342d347-23a0-4d72-8ee6-e6838f962283\",                        [{\"marker\":{\"opacity\":0.5,\"size\":8},\"mode\":\"markers\",\"name\":\"data\",\"x\":[-0.9238189038518401,0.5813515424750001,-1.4595615253761984,1.4428999025167328,-0.3168524810452246,0.3709664476967773,0.7824079420667301,-0.07140289600010775,0.39481111921511136,0.545538659584348,-0.6832064667747362,0.8652632958720644,-0.6559546180537476,-1.3820770568065774,0.5593341654931653,0.1646058523643404,-0.8250368982613243,1.3025777807826853,-0.39075697251054037,1.479257095688637,-0.8677584885599853,0.0948736173504556,-0.7798422605280882,0.24875525114241323,-1.0901065188043217,0.830213291638991,-0.23487770034111496,-1.0716156892594693,-1.4859010337244827,-0.7622342922351039,-0.545901503330792,-0.265055911683275,0.4667461455694733,-0.2064241654715674,0.3628484569686022,1.2637458453239936,-1.177414358427548,-0.8454494666447835,0.767119196794818,-1.1467005801487955,1.6243470878040145,-0.9524685670712096,0.8088152145970963,-0.23186392302144712,0.3685994719202436,0.2613731438720082,-0.06886090819820216,0.7263849755583636,-0.20504642235429263,0.552135249238445,-0.509132151626586,0.14784881788464896,1.0276316139252673,1.7140562795990206,-0.28265125693896725,0.1672754482157351,-0.6469960883204503,1.4682112022142189,-1.2834828676961378,0.5866359161059929,0.4977419835993102,-1.0840962540236265,1.490611314944782,-0.008295301640448123,1.0655864250574858,0.4146742015185054,-0.4267846409663592,-1.4315516773792931,1.695395427037674,-1.1023343525314735,0.5348420276645339,-0.2638035853807425,0.56617738452939,-0.9152161991764654,1.0508837828264097,-0.06380636400047161,-1.6169695930002708,-0.6181284292120701,-0.3757681316256039,-1.3403242124617256,-0.2849782915967188,-0.6565005949352974,-1.7128886929756788,-2.650818786663588,0.9963385610748218,-1.9290833749345913,-0.8952556025456804,-0.20175453543550176,0.6995255351271108,1.7741432138190627,-0.09358432708314553,-0.3355074191950681,-1.2083331444209169,0.4726040058735996,0.8433685445583153,1.0049566987973186,-0.3888642245853347,0.36108173878699334,-0.41244259748489454,0.24130101887950547],\"y\":[-0.3663172688344479,-0.012719053030840755,-0.7515928301190705,0.917226552298473,0.06424651678393284,0.4306190041755723,0.4293236402182291,-0.3057821628032097,0.09670251287080989,0.1196411775664083,-0.46794870325285,0.5079929387162003,-0.28736528662316335,-0.4662002575633585,0.3709951103416849,0.03696557718169164,-0.5428931306412231,0.46809546944179037,-0.07105266102941908,0.7639190459429382,-0.537996415870647,-0.031112881687351254,-0.41821631196178205,0.3559608588396427,-0.6940910312460367,0.04881235081283336,-0.28572131518823835,-0.4792009713764309,-0.4893537338400806,-0.2096135738076863,-0.2947099042538644,-0.2881311516139927,-0.08105120272714819,-0.12969741394986267,0.41455590680973853,0.5635130162218625,-0.5410355423515851,-0.39688051435069993,0.1388285361278978,-0.6562955095192717,0.6635373311278475,-0.6198458973095159,0.38695682198944203,0.02482356698476941,0.522546343893731,0.20223518184848105,-0.17125871419802852,0.22801101853426356,0.04040356661182602,0.5842739780261247,-0.2346889809995412,0.19514889487360856,0.26750379526880175,0.8918424810105555,-0.24557818169243933,-0.10737927261793495,-0.36678857242626145,0.5734712732650783,-1.0730715691612736,0.6047819253808707,0.21026629170321687,-0.6138399463201579,0.9939273016465668,0.08830084632801438,0.5809755429425866,0.033187901166906286,-0.04536133182418001,-0.6768998166876476,0.713223541110598,-0.6346506210538565,0.16539168979501673,-0.01636658688855465,-0.17255763288538567,-0.6785729171342333,0.6586879689757371,-0.029677232942390726,-0.5993263525572687,0.2063754681052904,0.0920780473640049,-0.21105778119593044,0.11732697255541272,-0.4267151629770696,-0.6841482948884097,-1.152559814886739,0.5300480491377266,-0.9398174652113903,-0.25714077019523385,-0.19810131402638975,0.6133212784456541,0.6860838270092126,-0.08018975514689827,-0.4865366836109734,-0.4789692837599221,0.137210320941354,0.1974712160039503,0.4806852336327834,0.1438923814067545,-0.11040396732438557,-0.035994874668561855,0.1283420991104442],\"z\":[1.2621189004946363,1.4600448683099863,2.6634315186232205,1.067203083758653,2.028569627985172,0.7649734566977492,0.519699263218609,1.8790086803805688,1.6760295871195894,0.7857350382715516,1.4692818575579158,0.5129587481665026,1.8728583313533287,1.5023591268390046,-0.20582287267034577,0.302386675151435,0.6652299652556328,1.3454177859831842,0.28988400047806173,0.04056569758402673,0.7705938610255145,1.058109772250021,0.8838596548120938,0.6416321896403101,2.1686848486540597,-0.06753701598509532,1.1724939635013576,1.8847856387868376,0.9718172716229928,2.145221692424075,0.4774297873069236,0.6963460043857497,1.7591006826753495,1.4368797558501554,1.6931183176815128,0.607004003860985,1.883638095583387,1.3464066074844847,1.0189387612440415,0.7935013244738146,0.9209139904898704,1.828984510203734,-0.16327490544757312,0.6972511025421814,0.5640178338161951,0.6598391477241851,1.8237790233367157,0.8995693221204778,1.3341248268737416,0.5358696482007325,1.642040943261035,0.6893183766488072,1.1109402416427323,0.11677988063348121,1.0420819266473573,0.06254499709772884,2.037786289510695,-0.4736677183480802,0.6494309493566146,0.3606388683732439,1.6069229283235762,0.9777940372146933,0.18778767838516675,0.4587742443611418,0.8345291521970313,1.363412040932669,1.8330823209985052,1.242782733266243,0.34386407037096944,1.4734346627862651,0.10337164635927559,0.8000279398709774,1.2333086944387612,1.6851036173531355,1.2429974279216405,1.3875251693510904,1.8937467742367178,1.4424217472460827,1.6945968502670696,1.2499689791779187,1.8126748500528531,1.312531483204793,2.505590175443844,2.4275971765335775,0.35400691771614606,1.6016467897990578,1.3245294039503528,0.8446098152992544,-0.1239658109220868,-0.4842219348823177,1.403840292573309,0.8640794715591114,1.1653136117586596,0.009746818887465564,-0.10759947391412511,0.01737097751196992,1.8562792902607137,1.5262407909389621,0.5403549613900411,0.856557702351707],\"type\":\"scatter3d\"}],                        {\"template\":{\"data\":{\"histogram2dcontour\":[{\"type\":\"histogram2dcontour\",\"colorbar\":{\"outlinewidth\":0,\"ticks\":\"\"},\"colorscale\":[[0.0,\"#0d0887\"],[0.1111111111111111,\"#46039f\"],[0.2222222222222222,\"#7201a8\"],[0.3333333333333333,\"#9c179e\"],[0.4444444444444444,\"#bd3786\"],[0.5555555555555556,\"#d8576b\"],[0.6666666666666666,\"#ed7953\"],[0.7777777777777778,\"#fb9f3a\"],[0.8888888888888888,\"#fdca26\"],[1.0,\"#f0f921\"]]}],\"choropleth\":[{\"type\":\"choropleth\",\"colorbar\":{\"outlinewidth\":0,\"ticks\":\"\"}}],\"histogram2d\":[{\"type\":\"histogram2d\",\"colorbar\":{\"outlinewidth\":0,\"ticks\":\"\"},\"colorscale\":[[0.0,\"#0d0887\"],[0.1111111111111111,\"#46039f\"],[0.2222222222222222,\"#7201a8\"],[0.3333333333333333,\"#9c179e\"],[0.4444444444444444,\"#bd3786\"],[0.5555555555555556,\"#d8576b\"],[0.6666666666666666,\"#ed7953\"],[0.7777777777777778,\"#fb9f3a\"],[0.8888888888888888,\"#fdca26\"],[1.0,\"#f0f921\"]]}],\"heatmap\":[{\"type\":\"heatmap\",\"colorbar\":{\"outlinewidth\":0,\"ticks\":\"\"},\"colorscale\":[[0.0,\"#0d0887\"],[0.1111111111111111,\"#46039f\"],[0.2222222222222222,\"#7201a8\"],[0.3333333333333333,\"#9c179e\"],[0.4444444444444444,\"#bd3786\"],[0.5555555555555556,\"#d8576b\"],[0.6666666666666666,\"#ed7953\"],[0.7777777777777778,\"#fb9f3a\"],[0.8888888888888888,\"#fdca26\"],[1.0,\"#f0f921\"]]}],\"heatmapgl\":[{\"type\":\"heatmapgl\",\"colorbar\":{\"outlinewidth\":0,\"ticks\":\"\"},\"colorscale\":[[0.0,\"#0d0887\"],[0.1111111111111111,\"#46039f\"],[0.2222222222222222,\"#7201a8\"],[0.3333333333333333,\"#9c179e\"],[0.4444444444444444,\"#bd3786\"],[0.5555555555555556,\"#d8576b\"],[0.6666666666666666,\"#ed7953\"],[0.7777777777777778,\"#fb9f3a\"],[0.8888888888888888,\"#fdca26\"],[1.0,\"#f0f921\"]]}],\"contourcarpet\":[{\"type\":\"contourcarpet\",\"colorbar\":{\"outlinewidth\":0,\"ticks\":\"\"}}],\"contour\":[{\"type\":\"contour\",\"colorbar\":{\"outlinewidth\":0,\"ticks\":\"\"},\"colorscale\":[[0.0,\"#0d0887\"],[0.1111111111111111,\"#46039f\"],[0.2222222222222222,\"#7201a8\"],[0.3333333333333333,\"#9c179e\"],[0.4444444444444444,\"#bd3786\"],[0.5555555555555556,\"#d8576b\"],[0.6666666666666666,\"#ed7953\"],[0.7777777777777778,\"#fb9f3a\"],[0.8888888888888888,\"#fdca26\"],[1.0,\"#f0f921\"]]}],\"surface\":[{\"type\":\"surface\",\"colorbar\":{\"outlinewidth\":0,\"ticks\":\"\"},\"colorscale\":[[0.0,\"#0d0887\"],[0.1111111111111111,\"#46039f\"],[0.2222222222222222,\"#7201a8\"],[0.3333333333333333,\"#9c179e\"],[0.4444444444444444,\"#bd3786\"],[0.5555555555555556,\"#d8576b\"],[0.6666666666666666,\"#ed7953\"],[0.7777777777777778,\"#fb9f3a\"],[0.8888888888888888,\"#fdca26\"],[1.0,\"#f0f921\"]]}],\"mesh3d\":[{\"type\":\"mesh3d\",\"colorbar\":{\"outlinewidth\":0,\"ticks\":\"\"}}],\"scatter\":[{\"fillpattern\":{\"fillmode\":\"overlay\",\"size\":10,\"solidity\":0.2},\"type\":\"scatter\"}],\"parcoords\":[{\"type\":\"parcoords\",\"line\":{\"colorbar\":{\"outlinewidth\":0,\"ticks\":\"\"}}}],\"scatterpolargl\":[{\"type\":\"scatterpolargl\",\"marker\":{\"colorbar\":{\"outlinewidth\":0,\"ticks\":\"\"}}}],\"bar\":[{\"error_x\":{\"color\":\"#2a3f5f\"},\"error_y\":{\"color\":\"#2a3f5f\"},\"marker\":{\"line\":{\"color\":\"#E5ECF6\",\"width\":0.5},\"pattern\":{\"fillmode\":\"overlay\",\"size\":10,\"solidity\":0.2}},\"type\":\"bar\"}],\"scattergeo\":[{\"type\":\"scattergeo\",\"marker\":{\"colorbar\":{\"outlinewidth\":0,\"ticks\":\"\"}}}],\"scatterpolar\":[{\"type\":\"scatterpolar\",\"marker\":{\"colorbar\":{\"outlinewidth\":0,\"ticks\":\"\"}}}],\"histogram\":[{\"marker\":{\"pattern\":{\"fillmode\":\"overlay\",\"size\":10,\"solidity\":0.2}},\"type\":\"histogram\"}],\"scattergl\":[{\"type\":\"scattergl\",\"marker\":{\"colorbar\":{\"outlinewidth\":0,\"ticks\":\"\"}}}],\"scatter3d\":[{\"type\":\"scatter3d\",\"line\":{\"colorbar\":{\"outlinewidth\":0,\"ticks\":\"\"}},\"marker\":{\"colorbar\":{\"outlinewidth\":0,\"ticks\":\"\"}}}],\"scattermapbox\":[{\"type\":\"scattermapbox\",\"marker\":{\"colorbar\":{\"outlinewidth\":0,\"ticks\":\"\"}}}],\"scatterternary\":[{\"type\":\"scatterternary\",\"marker\":{\"colorbar\":{\"outlinewidth\":0,\"ticks\":\"\"}}}],\"scattercarpet\":[{\"type\":\"scattercarpet\",\"marker\":{\"colorbar\":{\"outlinewidth\":0,\"ticks\":\"\"}}}],\"carpet\":[{\"aaxis\":{\"endlinecolor\":\"#2a3f5f\",\"gridcolor\":\"white\",\"linecolor\":\"white\",\"minorgridcolor\":\"white\",\"startlinecolor\":\"#2a3f5f\"},\"baxis\":{\"endlinecolor\":\"#2a3f5f\",\"gridcolor\":\"white\",\"linecolor\":\"white\",\"minorgridcolor\":\"white\",\"startlinecolor\":\"#2a3f5f\"},\"type\":\"carpet\"}],\"table\":[{\"cells\":{\"fill\":{\"color\":\"#EBF0F8\"},\"line\":{\"color\":\"white\"}},\"header\":{\"fill\":{\"color\":\"#C8D4E3\"},\"line\":{\"color\":\"white\"}},\"type\":\"table\"}],\"barpolar\":[{\"marker\":{\"line\":{\"color\":\"#E5ECF6\",\"width\":0.5},\"pattern\":{\"fillmode\":\"overlay\",\"size\":10,\"solidity\":0.2}},\"type\":\"barpolar\"}],\"pie\":[{\"automargin\":true,\"type\":\"pie\"}]},\"layout\":{\"autotypenumbers\":\"strict\",\"colorway\":[\"#636efa\",\"#EF553B\",\"#00cc96\",\"#ab63fa\",\"#FFA15A\",\"#19d3f3\",\"#FF6692\",\"#B6E880\",\"#FF97FF\",\"#FECB52\"],\"font\":{\"color\":\"#2a3f5f\"},\"hovermode\":\"closest\",\"hoverlabel\":{\"align\":\"left\"},\"paper_bgcolor\":\"white\",\"plot_bgcolor\":\"#E5ECF6\",\"polar\":{\"bgcolor\":\"#E5ECF6\",\"angularaxis\":{\"gridcolor\":\"white\",\"linecolor\":\"white\",\"ticks\":\"\"},\"radialaxis\":{\"gridcolor\":\"white\",\"linecolor\":\"white\",\"ticks\":\"\"}},\"ternary\":{\"bgcolor\":\"#E5ECF6\",\"aaxis\":{\"gridcolor\":\"white\",\"linecolor\":\"white\",\"ticks\":\"\"},\"baxis\":{\"gridcolor\":\"white\",\"linecolor\":\"white\",\"ticks\":\"\"},\"caxis\":{\"gridcolor\":\"white\",\"linecolor\":\"white\",\"ticks\":\"\"}},\"coloraxis\":{\"colorbar\":{\"outlinewidth\":0,\"ticks\":\"\"}},\"colorscale\":{\"sequential\":[[0.0,\"#0d0887\"],[0.1111111111111111,\"#46039f\"],[0.2222222222222222,\"#7201a8\"],[0.3333333333333333,\"#9c179e\"],[0.4444444444444444,\"#bd3786\"],[0.5555555555555556,\"#d8576b\"],[0.6666666666666666,\"#ed7953\"],[0.7777777777777778,\"#fb9f3a\"],[0.8888888888888888,\"#fdca26\"],[1.0,\"#f0f921\"]],\"sequentialminus\":[[0.0,\"#0d0887\"],[0.1111111111111111,\"#46039f\"],[0.2222222222222222,\"#7201a8\"],[0.3333333333333333,\"#9c179e\"],[0.4444444444444444,\"#bd3786\"],[0.5555555555555556,\"#d8576b\"],[0.6666666666666666,\"#ed7953\"],[0.7777777777777778,\"#fb9f3a\"],[0.8888888888888888,\"#fdca26\"],[1.0,\"#f0f921\"]],\"diverging\":[[0,\"#8e0152\"],[0.1,\"#c51b7d\"],[0.2,\"#de77ae\"],[0.3,\"#f1b6da\"],[0.4,\"#fde0ef\"],[0.5,\"#f7f7f7\"],[0.6,\"#e6f5d0\"],[0.7,\"#b8e186\"],[0.8,\"#7fbc41\"],[0.9,\"#4d9221\"],[1,\"#276419\"]]},\"xaxis\":{\"gridcolor\":\"white\",\"linecolor\":\"white\",\"ticks\":\"\",\"title\":{\"standoff\":15},\"zerolinecolor\":\"white\",\"automargin\":true,\"zerolinewidth\":2},\"yaxis\":{\"gridcolor\":\"white\",\"linecolor\":\"white\",\"ticks\":\"\",\"title\":{\"standoff\":15},\"zerolinecolor\":\"white\",\"automargin\":true,\"zerolinewidth\":2},\"scene\":{\"xaxis\":{\"backgroundcolor\":\"#E5ECF6\",\"gridcolor\":\"white\",\"linecolor\":\"white\",\"showbackground\":true,\"ticks\":\"\",\"zerolinecolor\":\"white\",\"gridwidth\":2},\"yaxis\":{\"backgroundcolor\":\"#E5ECF6\",\"gridcolor\":\"white\",\"linecolor\":\"white\",\"showbackground\":true,\"ticks\":\"\",\"zerolinecolor\":\"white\",\"gridwidth\":2},\"zaxis\":{\"backgroundcolor\":\"#E5ECF6\",\"gridcolor\":\"white\",\"linecolor\":\"white\",\"showbackground\":true,\"ticks\":\"\",\"zerolinecolor\":\"white\",\"gridwidth\":2}},\"shapedefaults\":{\"line\":{\"color\":\"#2a3f5f\"}},\"annotationdefaults\":{\"arrowcolor\":\"#2a3f5f\",\"arrowhead\":0,\"arrowwidth\":1},\"geo\":{\"bgcolor\":\"white\",\"landcolor\":\"#E5ECF6\",\"subunitcolor\":\"white\",\"showland\":true,\"showlakes\":true,\"lakecolor\":\"white\"},\"title\":{\"x\":0.05},\"mapbox\":{\"style\":\"light\"}}},\"yaxis\":{\"title\":{\"text\":\"y\"},\"scaleanchor\":\"x\",\"scaleratio\":1},\"xaxis\":{\"title\":{\"text\":\"x\"}}},                        {\"responsive\": true}                    ).then(function(){\n",
       "                            \n",
       "var gd = document.getElementById('5342d347-23a0-4d72-8ee6-e6838f962283');\n",
       "var x = new MutationObserver(function (mutations, observer) {{\n",
       "        var display = window.getComputedStyle(gd).display;\n",
       "        if (!display || display === 'none') {{\n",
       "            console.log([gd, 'removed!']);\n",
       "            Plotly.purge(gd);\n",
       "            observer.disconnect();\n",
       "        }}\n",
       "}});\n",
       "\n",
       "// Listen for the removal of the full notebook cells\n",
       "var notebookContainer = gd.closest('#notebook-container');\n",
       "if (notebookContainer) {{\n",
       "    x.observe(notebookContainer, {childList: true});\n",
       "}}\n",
       "\n",
       "// Listen for the clearing of the current output cell\n",
       "var outputEl = gd.closest('.output');\n",
       "if (outputEl) {{\n",
       "    x.observe(outputEl, {childList: true});\n",
       "}}\n",
       "\n",
       "                        })                };                });            </script>        </div>"
      ]
     },
     "metadata": {},
     "output_type": "display_data"
    }
   ],
   "source": [
    "# Plot our data\n",
    "import plotly.graph_objects as go\n",
    "fig = go.Figure(data=[go.Scatter3d(x=x, y=y, z=z,mode='markers', marker=dict(size=8,opacity=0.5), name=\"data\" )])\n",
    "fig.update_layout( xaxis_title=\"x\", yaxis_title=\"y\", yaxis = dict(scaleanchor = \"x\",scaleratio = 1) )\n",
    "fig.show()"
   ]
  },
  {
   "cell_type": "markdown",
   "id": "e6e715a5-5417-4734-9ce6-a428f69a535d",
   "metadata": {},
   "source": [
    "> Note: Even though our`z` data didn't explicitly depend on `y`, because `y` is covariannt with `x`, `z` and `y` have *coincidently* nonzero covariance. This is true for many datasets where two variables are correlated and may give rise to *confounding* factors."
   ]
  },
  {
   "cell_type": "markdown",
   "id": "87339ba7-ff7c-4779-96c6-1e50797ac19e",
   "metadata": {},
   "source": [
    "## Principal Components (Eigenvectors)"
   ]
  },
  {
   "cell_type": "code",
   "execution_count": 23,
   "id": "1cb947a9-eb75-4ccd-9e9e-817c1cca5192",
   "metadata": {},
   "outputs": [],
   "source": [
    "# import numpy's linear algebra module as LA\n",
    "from numpy import linalg as LA"
   ]
  },
  {
   "cell_type": "code",
   "execution_count": 26,
   "id": "6ab10bdf-2123-41b2-ac39-4f451ea7f1bf",
   "metadata": {},
   "outputs": [
    {
     "data": {
      "text/plain": [
       "(array([1.28284317, 0.24867407, 0.02895488]),\n",
       " array([[-0.79645472, -0.42197409, -0.43312555],\n",
       "        [-0.37598523, -0.21540514,  0.90124122],\n",
       "        [ 0.47359792, -0.88064663, -0.01290441]]))"
      ]
     },
     "execution_count": 26,
     "metadata": {},
     "output_type": "execute_result"
    }
   ],
   "source": [
    "# find the eigenvalues and eigenvectors of the *coveriance matrix*\n",
    "lambdas, vs = LA.eig(cov)\n",
    "lambdas, vs"
   ]
  },
  {
   "cell_type": "code",
   "execution_count": 27,
   "id": "6e09ed6c-ddc4-4da2-8be7-a4269bee790e",
   "metadata": {},
   "outputs": [],
   "source": [
    "# define sample array\n",
    "A = np.array([[-2,2,1],[-5,5,1],[-4,2,3]])"
   ]
  },
  {
   "cell_type": "code",
   "execution_count": 30,
   "id": "e6fc7ccd-46a2-41e6-9734-e41b83b267ea",
   "metadata": {},
   "outputs": [],
   "source": [
    "# For now we sort 'by convention'. For PCA the sorting is key.\n",
    "def sorted_eig(A): \n",
    "    lambdas, vs = LA.eig(A)\n",
    "    \n",
    "    # Next line just sorts values & vectors together in order of decreasing eigenvalues\n",
    "    lambdas, vs = zip(*sorted(zip(list(lambdas), list(vs.T)), key=lambda x: x[0], reverse=True))\n",
    "    return lambdas, np.array(vs).T  # un-doing the list-casting from the previous line"
   ]
  },
  {
   "cell_type": "code",
   "execution_count": 31,
   "id": "3bf5c0e5-c997-4d78-8efe-3ab7d7097959",
   "metadata": {},
   "outputs": [
    {
     "data": {
      "text/plain": [
       "(3.0000000000000013, 1.999999999999999, 1.0000000000000004)"
      ]
     },
     "execution_count": 31,
     "metadata": {},
     "output_type": "execute_result"
    }
   ],
   "source": [
    "lambdas, vs = sorted_eig(A)\n",
    "lambdas # hold off on printing out the eigenvectors until we do the next part!"
   ]
  },
  {
   "cell_type": "markdown",
   "id": "5aa19839-fd57-4973-8a31-a8782190a292",
   "metadata": {},
   "source": [
    "> Use the eigenvalues to get the eigenvectors."
   ]
  },
  {
   "cell_type": "code",
   "execution_count": 40,
   "id": "77e8ec58-9c18-4a88-8fcd-b1c0cb7ca8e1",
   "metadata": {},
   "outputs": [
    {
     "name": "stdout",
     "output_type": "stream",
     "text": [
      "                Ours                              Numpy\n",
      "[0.40824829 0.81649658 0.40824829] [-0.79645472 -0.37598523  0.47359792]\n",
      "[0.40824829 0.40824829 0.81649658] [-0.42197409 -0.21540514 -0.88064663]\n",
      "[0.57735027 0.57735027 0.57735027] [-0.43312555  0.90124122 -0.01290441]\n"
     ]
    }
   ],
   "source": [
    "print(\" \"*15,\"Ours\",\" \"*28,\"Numpy\")\n",
    "print(np.array([1,2,1])/np.sqrt(6), vs[:,0])\n",
    "print(np.array([1,1,2])/np.sqrt(6), vs[:,1])\n",
    "print(np.array([1,1,1])/np.sqrt(3), vs[:,2])"
   ]
  },
  {
   "cell_type": "code",
   "execution_count": 47,
   "id": "ac637ee8-5896-4beb-b6e8-d135383a2a07",
   "metadata": {},
   "outputs": [
    {
     "name": "stdout",
     "output_type": "stream",
     "text": [
      "A*v_1 / 3 =  [1. 2. 1.]\n",
      "A*v_2 / 2 =  [1. 1. 2.]\n",
      "A*v_3 / 1 =  [1 1 1]\n"
     ]
    }
   ],
   "source": [
    "print(\"A*v_1 / 3 = \", np.matmul(A, np.array([1,2,1]).T)/3 ) # Dividing by eigenvalue \n",
    "print(\"A*v_2 / 2 = \", np.matmul(A, np.array([1,1,2]).T)/2 ) # to get vector back\n",
    "print(\"A*v_3 / 1 = \", np.matmul(A, np.array([1,1,1]).T) )"
   ]
  },
  {
   "cell_type": "markdown",
   "id": "86945187-dcce-4935-b5dc-3be132acf953",
   "metadata": {},
   "source": [
    "### Using the Above Example on Dataset"
   ]
  },
  {
   "cell_type": "code",
   "execution_count": 48,
   "id": "b92c3537-5894-482e-93ad-205618719e1a",
   "metadata": {},
   "outputs": [
    {
     "name": "stdout",
     "output_type": "stream",
     "text": [
      "lambdas, vs =\n",
      " (1.2828431748372344, 0.2486740703738206, 0.028954876995641594) \n",
      " [[-0.79645472 -0.42197409 -0.43312555]\n",
      " [-0.37598523 -0.21540514  0.90124122]\n",
      " [ 0.47359792 -0.88064663 -0.01290441]]\n"
     ]
    }
   ],
   "source": [
    "# Compute e'vals and e'vectors of cov matrix \n",
    "lambdas, vs = sorted_eig(cov)\n",
    "print(\"lambdas, vs =\\n\",lambdas,\"\\n\",vs)"
   ]
  },
  {
   "cell_type": "code",
   "execution_count": 43,
   "id": "5dcf4534-0243-4c69-b0f3-ab5bf5a3eaac",
   "metadata": {},
   "outputs": [],
   "source": [
    "# Re-plot our data\n",
    "fig = go.Figure(data=[go.Scatter3d(x=x, y=y, z=z,mode='markers',  \n",
    "        marker=dict(size=8,opacity=0.5), name=\"data\" ) ])"
   ]
  },
  {
   "cell_type": "code",
   "execution_count": 44,
   "id": "6c22752b-f986-4193-8a6a-1c5936f2f1ef",
   "metadata": {},
   "outputs": [],
   "source": [
    "# Draw some extra 'lines' showing eigenvector directions\n",
    "n_ev_balls = 50    # the lines will be made of lots of balls in a line\n",
    "ev_size= 3    # size of balls\n",
    "t = np.linspace(0,1,num=n_ev_balls)  # parameterizer for drawing along vec directions"
   ]
  },
  {
   "cell_type": "code",
   "execution_count": 45,
   "id": "39f86ee0-0f47-4178-a186-3423d16d0e0e",
   "metadata": {},
   "outputs": [],
   "source": [
    "for i in range(3):   # do this for each eigenvector \n",
    "    # Uncomment the next line to scale (unit) vector by size of the eigenvalue\n",
    "    # vs[:,i] *= lambdas[i] \n",
    "    ex, ey, ez = t*vs[0,i], t*vs[1,i],  t*vs[2,i]\n",
    "    fig.add_trace(go.Scatter3d(x=ex, y=ey, z=ez,mode='markers',\n",
    "                marker=dict(size=ev_size,opacity=0.8), name=\"v_\"+str(i+1)))"
   ]
  },
  {
   "cell_type": "code",
   "execution_count": 46,
   "id": "6c012293-6269-4772-bf38-97007714af5f",
   "metadata": {},
   "outputs": [
    {
     "data": {
      "application/vnd.plotly.v1+json": {
       "config": {
        "plotlyServerURL": "https://plot.ly"
       },
       "data": [
        {
         "marker": {
          "opacity": 0.5,
          "size": 8
         },
         "mode": "markers",
         "name": "data",
         "type": "scatter3d",
         "x": [
          -0.9238189038518401,
          0.5813515424750001,
          -1.4595615253761984,
          1.4428999025167328,
          -0.3168524810452246,
          0.3709664476967773,
          0.7824079420667301,
          -0.07140289600010775,
          0.39481111921511136,
          0.545538659584348,
          -0.6832064667747362,
          0.8652632958720644,
          -0.6559546180537476,
          -1.3820770568065774,
          0.5593341654931653,
          0.1646058523643404,
          -0.8250368982613243,
          1.3025777807826853,
          -0.39075697251054037,
          1.479257095688637,
          -0.8677584885599853,
          0.0948736173504556,
          -0.7798422605280882,
          0.24875525114241323,
          -1.0901065188043217,
          0.830213291638991,
          -0.23487770034111496,
          -1.0716156892594693,
          -1.4859010337244827,
          -0.7622342922351039,
          -0.545901503330792,
          -0.265055911683275,
          0.4667461455694733,
          -0.2064241654715674,
          0.3628484569686022,
          1.2637458453239936,
          -1.177414358427548,
          -0.8454494666447835,
          0.767119196794818,
          -1.1467005801487955,
          1.6243470878040145,
          -0.9524685670712096,
          0.8088152145970963,
          -0.23186392302144712,
          0.3685994719202436,
          0.2613731438720082,
          -0.06886090819820216,
          0.7263849755583636,
          -0.20504642235429263,
          0.552135249238445,
          -0.509132151626586,
          0.14784881788464896,
          1.0276316139252673,
          1.7140562795990206,
          -0.28265125693896725,
          0.1672754482157351,
          -0.6469960883204503,
          1.4682112022142189,
          -1.2834828676961378,
          0.5866359161059929,
          0.4977419835993102,
          -1.0840962540236265,
          1.490611314944782,
          -0.008295301640448123,
          1.0655864250574858,
          0.4146742015185054,
          -0.4267846409663592,
          -1.4315516773792931,
          1.695395427037674,
          -1.1023343525314735,
          0.5348420276645339,
          -0.2638035853807425,
          0.56617738452939,
          -0.9152161991764654,
          1.0508837828264097,
          -0.06380636400047161,
          -1.6169695930002708,
          -0.6181284292120701,
          -0.3757681316256039,
          -1.3403242124617256,
          -0.2849782915967188,
          -0.6565005949352974,
          -1.7128886929756788,
          -2.650818786663588,
          0.9963385610748218,
          -1.9290833749345913,
          -0.8952556025456804,
          -0.20175453543550176,
          0.6995255351271108,
          1.7741432138190627,
          -0.09358432708314553,
          -0.3355074191950681,
          -1.2083331444209169,
          0.4726040058735996,
          0.8433685445583153,
          1.0049566987973186,
          -0.3888642245853347,
          0.36108173878699334,
          -0.41244259748489454,
          0.24130101887950547
         ],
         "y": [
          -0.3663172688344479,
          -0.012719053030840755,
          -0.7515928301190705,
          0.917226552298473,
          0.06424651678393284,
          0.4306190041755723,
          0.4293236402182291,
          -0.3057821628032097,
          0.09670251287080989,
          0.1196411775664083,
          -0.46794870325285,
          0.5079929387162003,
          -0.28736528662316335,
          -0.4662002575633585,
          0.3709951103416849,
          0.03696557718169164,
          -0.5428931306412231,
          0.46809546944179037,
          -0.07105266102941908,
          0.7639190459429382,
          -0.537996415870647,
          -0.031112881687351254,
          -0.41821631196178205,
          0.3559608588396427,
          -0.6940910312460367,
          0.04881235081283336,
          -0.28572131518823835,
          -0.4792009713764309,
          -0.4893537338400806,
          -0.2096135738076863,
          -0.2947099042538644,
          -0.2881311516139927,
          -0.08105120272714819,
          -0.12969741394986267,
          0.41455590680973853,
          0.5635130162218625,
          -0.5410355423515851,
          -0.39688051435069993,
          0.1388285361278978,
          -0.6562955095192717,
          0.6635373311278475,
          -0.6198458973095159,
          0.38695682198944203,
          0.02482356698476941,
          0.522546343893731,
          0.20223518184848105,
          -0.17125871419802852,
          0.22801101853426356,
          0.04040356661182602,
          0.5842739780261247,
          -0.2346889809995412,
          0.19514889487360856,
          0.26750379526880175,
          0.8918424810105555,
          -0.24557818169243933,
          -0.10737927261793495,
          -0.36678857242626145,
          0.5734712732650783,
          -1.0730715691612736,
          0.6047819253808707,
          0.21026629170321687,
          -0.6138399463201579,
          0.9939273016465668,
          0.08830084632801438,
          0.5809755429425866,
          0.033187901166906286,
          -0.04536133182418001,
          -0.6768998166876476,
          0.713223541110598,
          -0.6346506210538565,
          0.16539168979501673,
          -0.01636658688855465,
          -0.17255763288538567,
          -0.6785729171342333,
          0.6586879689757371,
          -0.029677232942390726,
          -0.5993263525572687,
          0.2063754681052904,
          0.0920780473640049,
          -0.21105778119593044,
          0.11732697255541272,
          -0.4267151629770696,
          -0.6841482948884097,
          -1.152559814886739,
          0.5300480491377266,
          -0.9398174652113903,
          -0.25714077019523385,
          -0.19810131402638975,
          0.6133212784456541,
          0.6860838270092126,
          -0.08018975514689827,
          -0.4865366836109734,
          -0.4789692837599221,
          0.137210320941354,
          0.1974712160039503,
          0.4806852336327834,
          0.1438923814067545,
          -0.11040396732438557,
          -0.035994874668561855,
          0.1283420991104442
         ],
         "z": [
          1.2621189004946363,
          1.4600448683099863,
          2.6634315186232205,
          1.067203083758653,
          2.028569627985172,
          0.7649734566977492,
          0.519699263218609,
          1.8790086803805688,
          1.6760295871195894,
          0.7857350382715516,
          1.4692818575579158,
          0.5129587481665026,
          1.8728583313533287,
          1.5023591268390046,
          -0.20582287267034577,
          0.302386675151435,
          0.6652299652556328,
          1.3454177859831842,
          0.28988400047806173,
          0.04056569758402673,
          0.7705938610255145,
          1.058109772250021,
          0.8838596548120938,
          0.6416321896403101,
          2.1686848486540597,
          -0.06753701598509532,
          1.1724939635013576,
          1.8847856387868376,
          0.9718172716229928,
          2.145221692424075,
          0.4774297873069236,
          0.6963460043857497,
          1.7591006826753495,
          1.4368797558501554,
          1.6931183176815128,
          0.607004003860985,
          1.883638095583387,
          1.3464066074844847,
          1.0189387612440415,
          0.7935013244738146,
          0.9209139904898704,
          1.828984510203734,
          -0.16327490544757312,
          0.6972511025421814,
          0.5640178338161951,
          0.6598391477241851,
          1.8237790233367157,
          0.8995693221204778,
          1.3341248268737416,
          0.5358696482007325,
          1.642040943261035,
          0.6893183766488072,
          1.1109402416427323,
          0.11677988063348121,
          1.0420819266473573,
          0.06254499709772884,
          2.037786289510695,
          -0.4736677183480802,
          0.6494309493566146,
          0.3606388683732439,
          1.6069229283235762,
          0.9777940372146933,
          0.18778767838516675,
          0.4587742443611418,
          0.8345291521970313,
          1.363412040932669,
          1.8330823209985052,
          1.242782733266243,
          0.34386407037096944,
          1.4734346627862651,
          0.10337164635927559,
          0.8000279398709774,
          1.2333086944387612,
          1.6851036173531355,
          1.2429974279216405,
          1.3875251693510904,
          1.8937467742367178,
          1.4424217472460827,
          1.6945968502670696,
          1.2499689791779187,
          1.8126748500528531,
          1.312531483204793,
          2.505590175443844,
          2.4275971765335775,
          0.35400691771614606,
          1.6016467897990578,
          1.3245294039503528,
          0.8446098152992544,
          -0.1239658109220868,
          -0.4842219348823177,
          1.403840292573309,
          0.8640794715591114,
          1.1653136117586596,
          0.009746818887465564,
          -0.10759947391412511,
          0.01737097751196992,
          1.8562792902607137,
          1.5262407909389621,
          0.5403549613900411,
          0.856557702351707
         ]
        },
        {
         "marker": {
          "opacity": 0.8,
          "size": 3
         },
         "mode": "markers",
         "name": "v_1",
         "type": "scatter3d",
         "x": [
          0,
          -0.016254177950448402,
          -0.032508355900896804,
          -0.04876253385134521,
          -0.06501671180179361,
          -0.081270889752242,
          -0.09752506770269043,
          -0.11377924565313882,
          -0.13003342360358722,
          -0.1462876015540356,
          -0.162541779504484,
          -0.17879595745493243,
          -0.19505013540538085,
          -0.21130431335582922,
          -0.22755849130627764,
          -0.243812669256726,
          -0.26006684720717443,
          -0.27632102515762286,
          -0.2925752031080712,
          -0.30882938105851965,
          -0.325083559008968,
          -0.34133773695941644,
          -0.35759191490986486,
          -0.3738460928603133,
          -0.3901002708107617,
          -0.4063544487612101,
          -0.42260862671165844,
          -0.43886280466210686,
          -0.4551169826125553,
          -0.4713711605630037,
          -0.487625338513452,
          -0.5038795164639005,
          -0.5201336944143489,
          -0.5363878723647973,
          -0.5526420503152457,
          -0.5688962282656941,
          -0.5851504062161424,
          -0.6014045841665909,
          -0.6176587621170393,
          -0.6339129400674877,
          -0.650167118017936,
          -0.6664212959683845,
          -0.6826754739188329,
          -0.6989296518692814,
          -0.7151838298197297,
          -0.7314380077701781,
          -0.7476921857206266,
          -0.7639463636710749,
          -0.7802005416215234,
          -0.7964547195719718
         ],
         "y": [
          0,
          -0.007673167957060946,
          -0.015346335914121892,
          -0.023019503871182838,
          -0.030692671828243784,
          -0.03836583978530473,
          -0.046039007742365676,
          -0.05371217569942662,
          -0.06138534365648757,
          -0.0690585116135485,
          -0.07673167957060946,
          -0.0844048475276704,
          -0.09207801548473135,
          -0.09975118344179229,
          -0.10742435139885324,
          -0.11509751935591418,
          -0.12277068731297514,
          -0.13044385527003607,
          -0.138117023227097,
          -0.14579019118415798,
          -0.15346335914121892,
          -0.16113652709827986,
          -0.1688096950553408,
          -0.17648286301240176,
          -0.1841560309694627,
          -0.19182919892652367,
          -0.19950236688358458,
          -0.20717553484064552,
          -0.2148487027977065,
          -0.22252187075476745,
          -0.23019503871182836,
          -0.2378682066688893,
          -0.24554137462595027,
          -0.25321454258301124,
          -0.26088771054007215,
          -0.26856087849713306,
          -0.276234046454194,
          -0.283907214411255,
          -0.29158038236831596,
          -0.29925355032537687,
          -0.30692671828243784,
          -0.31459988623949875,
          -0.3222730541965597,
          -0.3299462221536207,
          -0.3376193901106816,
          -0.34529255806774256,
          -0.35296572602480353,
          -0.36063889398186444,
          -0.3683120619389254,
          -0.3759852298959864
         ],
         "z": [
          0,
          0.009665263603300235,
          0.01933052720660047,
          0.02899579080990071,
          0.03866105441320094,
          0.048326318016501175,
          0.05799158161980142,
          0.06765684522310166,
          0.07732210882640188,
          0.08698737242970211,
          0.09665263603300235,
          0.10631789963630259,
          0.11598316323960284,
          0.12564842684290306,
          0.1353136904462033,
          0.14497895404950353,
          0.15464421765280376,
          0.164309481256104,
          0.17397474485940423,
          0.18364000846270448,
          0.1933052720660047,
          0.20297053566930495,
          0.21263579927260517,
          0.22230106287590543,
          0.23196632647920568,
          0.2416315900825059,
          0.2512968536858061,
          0.26096211728910634,
          0.2706273808924066,
          0.28029264449570684,
          0.28995790809900707,
          0.2996231717023073,
          0.3092884353056075,
          0.3189536989089078,
          0.328618962512208,
          0.33828422611550824,
          0.34794948971880846,
          0.35761475332210874,
          0.36728001692540896,
          0.3769452805287092,
          0.3866105441320094,
          0.3962758077353096,
          0.4059410713386099,
          0.4156063349419101,
          0.42527159854521035,
          0.4349368621485106,
          0.44460212575181085,
          0.4542673893551111,
          0.46393265295841135,
          0.4735979165617116
         ]
        },
        {
         "marker": {
          "opacity": 0.8,
          "size": 3
         },
         "mode": "markers",
         "name": "v_2",
         "type": "scatter3d",
         "x": [
          0,
          -0.008611716212331314,
          -0.01722343242466263,
          -0.025835148636993942,
          -0.03444686484932526,
          -0.04305858106165657,
          -0.051670297273987885,
          -0.060282013486319196,
          -0.06889372969865051,
          -0.07750544591098182,
          -0.08611716212331313,
          -0.09472887833564445,
          -0.10334059454797577,
          -0.11195231076030707,
          -0.12056402697263839,
          -0.1291757431849697,
          -0.13778745939730103,
          -0.14639917560963234,
          -0.15501089182196365,
          -0.16362260803429496,
          -0.17223432424662627,
          -0.18084604045895758,
          -0.1894577566712889,
          -0.1980694728836202,
          -0.20668118909595154,
          -0.21529290530828285,
          -0.22390462152061413,
          -0.23251633773294544,
          -0.24112805394527678,
          -0.2497397701576081,
          -0.2583514863699394,
          -0.2669632025822707,
          -0.27557491879460205,
          -0.28418663500693336,
          -0.2927983512192647,
          -0.30141006743159593,
          -0.3100217836439273,
          -0.3186334998562586,
          -0.3272452160685899,
          -0.3358569322809212,
          -0.34446864849325254,
          -0.35308036470558385,
          -0.36169208091791516,
          -0.37030379713024647,
          -0.3789155133425778,
          -0.3875272295549091,
          -0.3961389457672404,
          -0.40475066197957177,
          -0.4133623781919031,
          -0.4219740944042344
         ],
         "y": [
          0,
          -0.004396023253970226,
          -0.008792046507940451,
          -0.013188069761910677,
          -0.017584093015880903,
          -0.021980116269851125,
          -0.026376139523821354,
          -0.03077216277779158,
          -0.035168186031761806,
          -0.03956420928573203,
          -0.04396023253970225,
          -0.048356255793672476,
          -0.05275227904764271,
          -0.05714830230161293,
          -0.06154432555558316,
          -0.06594034880955338,
          -0.07033637206352361,
          -0.07473239531749384,
          -0.07912841857146406,
          -0.08352444182543428,
          -0.0879204650794045,
          -0.09231648833337473,
          -0.09671251158734495,
          -0.10110853484131518,
          -0.10550455809528542,
          -0.10990058134925565,
          -0.11429660460322585,
          -0.11869262785719609,
          -0.12308865111116632,
          -0.12748467436513655,
          -0.13188069761910676,
          -0.136276720873077,
          -0.14067274412704722,
          -0.14506876738101745,
          -0.1494647906349877,
          -0.1538608138889579,
          -0.15825683714292813,
          -0.16265286039689836,
          -0.16704888365086856,
          -0.1714449069048388,
          -0.175840930158809,
          -0.18023695341277923,
          -0.18463297666674947,
          -0.1890289999207197,
          -0.1934250231746899,
          -0.19782104642866014,
          -0.20221706968263037,
          -0.2066130929366006,
          -0.21100911619057083,
          -0.21540513944454107
         ],
         "z": [
          0,
          -0.017972380234465696,
          -0.03594476046893139,
          -0.0539171407033971,
          -0.07188952093786279,
          -0.08986190117232849,
          -0.1078342814067942,
          -0.1258066616412599,
          -0.14377904187572557,
          -0.16175142211019128,
          -0.17972380234465699,
          -0.19769618257912266,
          -0.2156685628135884,
          -0.23364094304805405,
          -0.2516133232825198,
          -0.26958570351698546,
          -0.28755808375145114,
          -0.3055304639859169,
          -0.32350284422038256,
          -0.3414752244548483,
          -0.35944760468931397,
          -0.37741998492377965,
          -0.39539236515824533,
          -0.41336474539271106,
          -0.4313371256271768,
          -0.4493095058616425,
          -0.4672818860961081,
          -0.48525426633057384,
          -0.5032266465650396,
          -0.5211990267995052,
          -0.5391714070339709,
          -0.5571437872684366,
          -0.5751161675029023,
          -0.5930885477373681,
          -0.6110609279718338,
          -0.6290333082062994,
          -0.6470056884407651,
          -0.6649780686752308,
          -0.6829504489096966,
          -0.7009228291441622,
          -0.7188952093786279,
          -0.7368675896130936,
          -0.7548399698475593,
          -0.7728123500820251,
          -0.7907847303164907,
          -0.8087571105509564,
          -0.8267294907854221,
          -0.8447018710198878,
          -0.8626742512543536,
          -0.8806466314888193
         ]
        },
        {
         "marker": {
          "opacity": 0.8,
          "size": 3
         },
         "mode": "markers",
         "name": "v_3",
         "type": "scatter3d",
         "x": [
          0,
          -0.008839296968470807,
          -0.017678593936941614,
          -0.02651789090541242,
          -0.03535718787388323,
          -0.04419648484235403,
          -0.05303578181082484,
          -0.06187507877929564,
          -0.07071437574776646,
          -0.07955367271623726,
          -0.08839296968470806,
          -0.09723226665317887,
          -0.10607156362164968,
          -0.11491086059012047,
          -0.12375015755859128,
          -0.13258945452706208,
          -0.1414287514955329,
          -0.1502680484640037,
          -0.1591073454324745,
          -0.1679466424009453,
          -0.1767859393694161,
          -0.18562523633788694,
          -0.19446453330635774,
          -0.20330383027482854,
          -0.21214312724329937,
          -0.22098242421177017,
          -0.22982172118024094,
          -0.23866101814871177,
          -0.24750031511718257,
          -0.25633961208565337,
          -0.26517890905412417,
          -0.27401820602259497,
          -0.2828575029910658,
          -0.2916967999595366,
          -0.3005360969280074,
          -0.3093753938964782,
          -0.318214690864949,
          -0.3270539878334198,
          -0.3358932848018906,
          -0.3447325817703614,
          -0.3535718787388322,
          -0.362411175707303,
          -0.3712504726757739,
          -0.3800897696442447,
          -0.3889290666127155,
          -0.3977683635811863,
          -0.4066076605496571,
          -0.4154469575181279,
          -0.42428625448659874,
          -0.43312555145506954
         ],
         "y": [
          0,
          0.01839267791586305,
          0.0367853558317261,
          0.05517803374758916,
          0.0735707116634522,
          0.09196338957931526,
          0.11035606749517832,
          0.12874874541104137,
          0.1471414233269044,
          0.16553410124276746,
          0.1839267791586305,
          0.20231945707449356,
          0.22071213499035663,
          0.23910481290621965,
          0.25749749082208273,
          0.27589016873794575,
          0.2942828466538088,
          0.3126755245696719,
          0.3310682024855349,
          0.349460880401398,
          0.367853558317261,
          0.3862462362331241,
          0.4046389141489871,
          0.4230315920648502,
          0.44142426998071327,
          0.45981694789657634,
          0.4782096258124393,
          0.4966023037283024,
          0.5149949816441655,
          0.5333876595600285,
          0.5517803374758915,
          0.5701730153917546,
          0.5885656933076177,
          0.6069583712234807,
          0.6253510491393438,
          0.6437437270552068,
          0.6621364049710698,
          0.6805290828869329,
          0.698921760802796,
          0.717314438718659,
          0.735707116634522,
          0.7540997945503851,
          0.7724924724662482,
          0.7908851503821113,
          0.8092778282979742,
          0.8276705062138373,
          0.8460631841297004,
          0.8644558620455635,
          0.8828485399614265,
          0.9012412178772896
         ],
         "z": [
          0,
          -0.0002633553680803481,
          -0.0005267107361606962,
          -0.0007900661042410444,
          -0.0010534214723213924,
          -0.0013167768404017406,
          -0.0015801322084820887,
          -0.0018434875765624369,
          -0.002106842944642785,
          -0.002370198312723133,
          -0.002633553680803481,
          -0.0028969090488838293,
          -0.0031602644169641775,
          -0.003423619785044525,
          -0.0036869751531248738,
          -0.0039503305212052215,
          -0.00421368588928557,
          -0.004477041257365919,
          -0.004740396625446266,
          -0.005003751993526614,
          -0.005267107361606962,
          -0.0055304627296873105,
          -0.005793818097767659,
          -0.006057173465848007,
          -0.006320528833928355,
          -0.006583884202008704,
          -0.00684723957008905,
          -0.007110594938169399,
          -0.0073739503062497476,
          -0.007637305674330096,
          -0.007900661042410443,
          -0.008164016410490792,
          -0.00842737177857114,
          -0.008690727146651488,
          -0.008954082514731837,
          -0.009217437882812183,
          -0.009480793250892532,
          -0.009744148618972881,
          -0.010007503987053228,
          -0.010270859355133576,
          -0.010534214723213925,
          -0.010797570091294274,
          -0.011060925459374621,
          -0.01132428082745497,
          -0.011587636195535317,
          -0.011850991563615665,
          -0.012114346931696014,
          -0.012377702299776363,
          -0.01264105766785671,
          -0.012904413035937059
         ]
        }
       ],
       "layout": {
        "autosize": true,
        "scene": {
         "aspectmode": "auto",
         "aspectratio": {
          "x": 1.3704478220251683,
          "y": 0.6647850520608525,
          "z": 1.0976307099085278
         },
         "camera": {
          "center": {
           "x": 0,
           "y": 0,
           "z": 0
          },
          "eye": {
           "x": 0.689359009245026,
           "y": 0.6893590092450259,
           "z": 0.6893590092450259
          },
          "projection": {
           "type": "perspective"
          },
          "up": {
           "x": 0,
           "y": 0,
           "z": 1
          }
         }
        },
        "template": {
         "data": {
          "bar": [
           {
            "error_x": {
             "color": "#2a3f5f"
            },
            "error_y": {
             "color": "#2a3f5f"
            },
            "marker": {
             "line": {
              "color": "#E5ECF6",
              "width": 0.5
             },
             "pattern": {
              "fillmode": "overlay",
              "size": 10,
              "solidity": 0.2
             }
            },
            "type": "bar"
           }
          ],
          "barpolar": [
           {
            "marker": {
             "line": {
              "color": "#E5ECF6",
              "width": 0.5
             },
             "pattern": {
              "fillmode": "overlay",
              "size": 10,
              "solidity": 0.2
             }
            },
            "type": "barpolar"
           }
          ],
          "carpet": [
           {
            "aaxis": {
             "endlinecolor": "#2a3f5f",
             "gridcolor": "white",
             "linecolor": "white",
             "minorgridcolor": "white",
             "startlinecolor": "#2a3f5f"
            },
            "baxis": {
             "endlinecolor": "#2a3f5f",
             "gridcolor": "white",
             "linecolor": "white",
             "minorgridcolor": "white",
             "startlinecolor": "#2a3f5f"
            },
            "type": "carpet"
           }
          ],
          "choropleth": [
           {
            "colorbar": {
             "outlinewidth": 0,
             "ticks": ""
            },
            "type": "choropleth"
           }
          ],
          "contour": [
           {
            "colorbar": {
             "outlinewidth": 0,
             "ticks": ""
            },
            "colorscale": [
             [
              0,
              "#0d0887"
             ],
             [
              0.1111111111111111,
              "#46039f"
             ],
             [
              0.2222222222222222,
              "#7201a8"
             ],
             [
              0.3333333333333333,
              "#9c179e"
             ],
             [
              0.4444444444444444,
              "#bd3786"
             ],
             [
              0.5555555555555556,
              "#d8576b"
             ],
             [
              0.6666666666666666,
              "#ed7953"
             ],
             [
              0.7777777777777778,
              "#fb9f3a"
             ],
             [
              0.8888888888888888,
              "#fdca26"
             ],
             [
              1,
              "#f0f921"
             ]
            ],
            "type": "contour"
           }
          ],
          "contourcarpet": [
           {
            "colorbar": {
             "outlinewidth": 0,
             "ticks": ""
            },
            "type": "contourcarpet"
           }
          ],
          "heatmap": [
           {
            "colorbar": {
             "outlinewidth": 0,
             "ticks": ""
            },
            "colorscale": [
             [
              0,
              "#0d0887"
             ],
             [
              0.1111111111111111,
              "#46039f"
             ],
             [
              0.2222222222222222,
              "#7201a8"
             ],
             [
              0.3333333333333333,
              "#9c179e"
             ],
             [
              0.4444444444444444,
              "#bd3786"
             ],
             [
              0.5555555555555556,
              "#d8576b"
             ],
             [
              0.6666666666666666,
              "#ed7953"
             ],
             [
              0.7777777777777778,
              "#fb9f3a"
             ],
             [
              0.8888888888888888,
              "#fdca26"
             ],
             [
              1,
              "#f0f921"
             ]
            ],
            "type": "heatmap"
           }
          ],
          "heatmapgl": [
           {
            "colorbar": {
             "outlinewidth": 0,
             "ticks": ""
            },
            "colorscale": [
             [
              0,
              "#0d0887"
             ],
             [
              0.1111111111111111,
              "#46039f"
             ],
             [
              0.2222222222222222,
              "#7201a8"
             ],
             [
              0.3333333333333333,
              "#9c179e"
             ],
             [
              0.4444444444444444,
              "#bd3786"
             ],
             [
              0.5555555555555556,
              "#d8576b"
             ],
             [
              0.6666666666666666,
              "#ed7953"
             ],
             [
              0.7777777777777778,
              "#fb9f3a"
             ],
             [
              0.8888888888888888,
              "#fdca26"
             ],
             [
              1,
              "#f0f921"
             ]
            ],
            "type": "heatmapgl"
           }
          ],
          "histogram": [
           {
            "marker": {
             "pattern": {
              "fillmode": "overlay",
              "size": 10,
              "solidity": 0.2
             }
            },
            "type": "histogram"
           }
          ],
          "histogram2d": [
           {
            "colorbar": {
             "outlinewidth": 0,
             "ticks": ""
            },
            "colorscale": [
             [
              0,
              "#0d0887"
             ],
             [
              0.1111111111111111,
              "#46039f"
             ],
             [
              0.2222222222222222,
              "#7201a8"
             ],
             [
              0.3333333333333333,
              "#9c179e"
             ],
             [
              0.4444444444444444,
              "#bd3786"
             ],
             [
              0.5555555555555556,
              "#d8576b"
             ],
             [
              0.6666666666666666,
              "#ed7953"
             ],
             [
              0.7777777777777778,
              "#fb9f3a"
             ],
             [
              0.8888888888888888,
              "#fdca26"
             ],
             [
              1,
              "#f0f921"
             ]
            ],
            "type": "histogram2d"
           }
          ],
          "histogram2dcontour": [
           {
            "colorbar": {
             "outlinewidth": 0,
             "ticks": ""
            },
            "colorscale": [
             [
              0,
              "#0d0887"
             ],
             [
              0.1111111111111111,
              "#46039f"
             ],
             [
              0.2222222222222222,
              "#7201a8"
             ],
             [
              0.3333333333333333,
              "#9c179e"
             ],
             [
              0.4444444444444444,
              "#bd3786"
             ],
             [
              0.5555555555555556,
              "#d8576b"
             ],
             [
              0.6666666666666666,
              "#ed7953"
             ],
             [
              0.7777777777777778,
              "#fb9f3a"
             ],
             [
              0.8888888888888888,
              "#fdca26"
             ],
             [
              1,
              "#f0f921"
             ]
            ],
            "type": "histogram2dcontour"
           }
          ],
          "mesh3d": [
           {
            "colorbar": {
             "outlinewidth": 0,
             "ticks": ""
            },
            "type": "mesh3d"
           }
          ],
          "parcoords": [
           {
            "line": {
             "colorbar": {
              "outlinewidth": 0,
              "ticks": ""
             }
            },
            "type": "parcoords"
           }
          ],
          "pie": [
           {
            "automargin": true,
            "type": "pie"
           }
          ],
          "scatter": [
           {
            "fillpattern": {
             "fillmode": "overlay",
             "size": 10,
             "solidity": 0.2
            },
            "type": "scatter"
           }
          ],
          "scatter3d": [
           {
            "line": {
             "colorbar": {
              "outlinewidth": 0,
              "ticks": ""
             }
            },
            "marker": {
             "colorbar": {
              "outlinewidth": 0,
              "ticks": ""
             }
            },
            "type": "scatter3d"
           }
          ],
          "scattercarpet": [
           {
            "marker": {
             "colorbar": {
              "outlinewidth": 0,
              "ticks": ""
             }
            },
            "type": "scattercarpet"
           }
          ],
          "scattergeo": [
           {
            "marker": {
             "colorbar": {
              "outlinewidth": 0,
              "ticks": ""
             }
            },
            "type": "scattergeo"
           }
          ],
          "scattergl": [
           {
            "marker": {
             "colorbar": {
              "outlinewidth": 0,
              "ticks": ""
             }
            },
            "type": "scattergl"
           }
          ],
          "scattermapbox": [
           {
            "marker": {
             "colorbar": {
              "outlinewidth": 0,
              "ticks": ""
             }
            },
            "type": "scattermapbox"
           }
          ],
          "scatterpolar": [
           {
            "marker": {
             "colorbar": {
              "outlinewidth": 0,
              "ticks": ""
             }
            },
            "type": "scatterpolar"
           }
          ],
          "scatterpolargl": [
           {
            "marker": {
             "colorbar": {
              "outlinewidth": 0,
              "ticks": ""
             }
            },
            "type": "scatterpolargl"
           }
          ],
          "scatterternary": [
           {
            "marker": {
             "colorbar": {
              "outlinewidth": 0,
              "ticks": ""
             }
            },
            "type": "scatterternary"
           }
          ],
          "surface": [
           {
            "colorbar": {
             "outlinewidth": 0,
             "ticks": ""
            },
            "colorscale": [
             [
              0,
              "#0d0887"
             ],
             [
              0.1111111111111111,
              "#46039f"
             ],
             [
              0.2222222222222222,
              "#7201a8"
             ],
             [
              0.3333333333333333,
              "#9c179e"
             ],
             [
              0.4444444444444444,
              "#bd3786"
             ],
             [
              0.5555555555555556,
              "#d8576b"
             ],
             [
              0.6666666666666666,
              "#ed7953"
             ],
             [
              0.7777777777777778,
              "#fb9f3a"
             ],
             [
              0.8888888888888888,
              "#fdca26"
             ],
             [
              1,
              "#f0f921"
             ]
            ],
            "type": "surface"
           }
          ],
          "table": [
           {
            "cells": {
             "fill": {
              "color": "#EBF0F8"
             },
             "line": {
              "color": "white"
             }
            },
            "header": {
             "fill": {
              "color": "#C8D4E3"
             },
             "line": {
              "color": "white"
             }
            },
            "type": "table"
           }
          ]
         },
         "layout": {
          "annotationdefaults": {
           "arrowcolor": "#2a3f5f",
           "arrowhead": 0,
           "arrowwidth": 1
          },
          "autotypenumbers": "strict",
          "coloraxis": {
           "colorbar": {
            "outlinewidth": 0,
            "ticks": ""
           }
          },
          "colorscale": {
           "diverging": [
            [
             0,
             "#8e0152"
            ],
            [
             0.1,
             "#c51b7d"
            ],
            [
             0.2,
             "#de77ae"
            ],
            [
             0.3,
             "#f1b6da"
            ],
            [
             0.4,
             "#fde0ef"
            ],
            [
             0.5,
             "#f7f7f7"
            ],
            [
             0.6,
             "#e6f5d0"
            ],
            [
             0.7,
             "#b8e186"
            ],
            [
             0.8,
             "#7fbc41"
            ],
            [
             0.9,
             "#4d9221"
            ],
            [
             1,
             "#276419"
            ]
           ],
           "sequential": [
            [
             0,
             "#0d0887"
            ],
            [
             0.1111111111111111,
             "#46039f"
            ],
            [
             0.2222222222222222,
             "#7201a8"
            ],
            [
             0.3333333333333333,
             "#9c179e"
            ],
            [
             0.4444444444444444,
             "#bd3786"
            ],
            [
             0.5555555555555556,
             "#d8576b"
            ],
            [
             0.6666666666666666,
             "#ed7953"
            ],
            [
             0.7777777777777778,
             "#fb9f3a"
            ],
            [
             0.8888888888888888,
             "#fdca26"
            ],
            [
             1,
             "#f0f921"
            ]
           ],
           "sequentialminus": [
            [
             0,
             "#0d0887"
            ],
            [
             0.1111111111111111,
             "#46039f"
            ],
            [
             0.2222222222222222,
             "#7201a8"
            ],
            [
             0.3333333333333333,
             "#9c179e"
            ],
            [
             0.4444444444444444,
             "#bd3786"
            ],
            [
             0.5555555555555556,
             "#d8576b"
            ],
            [
             0.6666666666666666,
             "#ed7953"
            ],
            [
             0.7777777777777778,
             "#fb9f3a"
            ],
            [
             0.8888888888888888,
             "#fdca26"
            ],
            [
             1,
             "#f0f921"
            ]
           ]
          },
          "colorway": [
           "#636efa",
           "#EF553B",
           "#00cc96",
           "#ab63fa",
           "#FFA15A",
           "#19d3f3",
           "#FF6692",
           "#B6E880",
           "#FF97FF",
           "#FECB52"
          ],
          "font": {
           "color": "#2a3f5f"
          },
          "geo": {
           "bgcolor": "white",
           "lakecolor": "white",
           "landcolor": "#E5ECF6",
           "showlakes": true,
           "showland": true,
           "subunitcolor": "white"
          },
          "hoverlabel": {
           "align": "left"
          },
          "hovermode": "closest",
          "mapbox": {
           "style": "light"
          },
          "paper_bgcolor": "white",
          "plot_bgcolor": "#E5ECF6",
          "polar": {
           "angularaxis": {
            "gridcolor": "white",
            "linecolor": "white",
            "ticks": ""
           },
           "bgcolor": "#E5ECF6",
           "radialaxis": {
            "gridcolor": "white",
            "linecolor": "white",
            "ticks": ""
           }
          },
          "scene": {
           "xaxis": {
            "backgroundcolor": "#E5ECF6",
            "gridcolor": "white",
            "gridwidth": 2,
            "linecolor": "white",
            "showbackground": true,
            "ticks": "",
            "zerolinecolor": "white"
           },
           "yaxis": {
            "backgroundcolor": "#E5ECF6",
            "gridcolor": "white",
            "gridwidth": 2,
            "linecolor": "white",
            "showbackground": true,
            "ticks": "",
            "zerolinecolor": "white"
           },
           "zaxis": {
            "backgroundcolor": "#E5ECF6",
            "gridcolor": "white",
            "gridwidth": 2,
            "linecolor": "white",
            "showbackground": true,
            "ticks": "",
            "zerolinecolor": "white"
           }
          },
          "shapedefaults": {
           "line": {
            "color": "#2a3f5f"
           }
          },
          "ternary": {
           "aaxis": {
            "gridcolor": "white",
            "linecolor": "white",
            "ticks": ""
           },
           "baxis": {
            "gridcolor": "white",
            "linecolor": "white",
            "ticks": ""
           },
           "bgcolor": "#E5ECF6",
           "caxis": {
            "gridcolor": "white",
            "linecolor": "white",
            "ticks": ""
           }
          },
          "title": {
           "x": 0.05
          },
          "xaxis": {
           "automargin": true,
           "gridcolor": "white",
           "linecolor": "white",
           "ticks": "",
           "title": {
            "standoff": 15
           },
           "zerolinecolor": "white",
           "zerolinewidth": 2
          },
          "yaxis": {
           "automargin": true,
           "gridcolor": "white",
           "linecolor": "white",
           "ticks": "",
           "title": {
            "standoff": 15
           },
           "zerolinecolor": "white",
           "zerolinewidth": 2
          }
         }
        },
        "xaxis": {
         "title": {
          "text": "x"
         }
        },
        "yaxis": {
         "scaleanchor": "x",
         "scaleratio": 1,
         "title": {
          "text": "y"
         }
        }
       }
      },
      "image/png": "[encoded data removed]",
      "text/html": [
       "<div>                            <div id=\"0c71b86f-dad6-4c9d-9684-e074e9809c6f\" class=\"plotly-graph-div\" style=\"height:525px; width:100%;\"></div>            <script type=\"text/javascript\">                require([\"plotly\"], function(Plotly) {                    window.PLOTLYENV=window.PLOTLYENV || {};                                    if (document.getElementById(\"0c71b86f-dad6-4c9d-9684-e074e9809c6f\")) {                    Plotly.newPlot(                        \"0c71b86f-dad6-4c9d-9684-e074e9809c6f\",                        [{\"marker\":{\"opacity\":0.5,\"size\":8},\"mode\":\"markers\",\"name\":\"data\",\"x\":[-0.9238189038518401,0.5813515424750001,-1.4595615253761984,1.4428999025167328,-0.3168524810452246,0.3709664476967773,0.7824079420667301,-0.07140289600010775,0.39481111921511136,0.545538659584348,-0.6832064667747362,0.8652632958720644,-0.6559546180537476,-1.3820770568065774,0.5593341654931653,0.1646058523643404,-0.8250368982613243,1.3025777807826853,-0.39075697251054037,1.479257095688637,-0.8677584885599853,0.0948736173504556,-0.7798422605280882,0.24875525114241323,-1.0901065188043217,0.830213291638991,-0.23487770034111496,-1.0716156892594693,-1.4859010337244827,-0.7622342922351039,-0.545901503330792,-0.265055911683275,0.4667461455694733,-0.2064241654715674,0.3628484569686022,1.2637458453239936,-1.177414358427548,-0.8454494666447835,0.767119196794818,-1.1467005801487955,1.6243470878040145,-0.9524685670712096,0.8088152145970963,-0.23186392302144712,0.3685994719202436,0.2613731438720082,-0.06886090819820216,0.7263849755583636,-0.20504642235429263,0.552135249238445,-0.509132151626586,0.14784881788464896,1.0276316139252673,1.7140562795990206,-0.28265125693896725,0.1672754482157351,-0.6469960883204503,1.4682112022142189,-1.2834828676961378,0.5866359161059929,0.4977419835993102,-1.0840962540236265,1.490611314944782,-0.008295301640448123,1.0655864250574858,0.4146742015185054,-0.4267846409663592,-1.4315516773792931,1.695395427037674,-1.1023343525314735,0.5348420276645339,-0.2638035853807425,0.56617738452939,-0.9152161991764654,1.0508837828264097,-0.06380636400047161,-1.6169695930002708,-0.6181284292120701,-0.3757681316256039,-1.3403242124617256,-0.2849782915967188,-0.6565005949352974,-1.7128886929756788,-2.650818786663588,0.9963385610748218,-1.9290833749345913,-0.8952556025456804,-0.20175453543550176,0.6995255351271108,1.7741432138190627,-0.09358432708314553,-0.3355074191950681,-1.2083331444209169,0.4726040058735996,0.8433685445583153,1.0049566987973186,-0.3888642245853347,0.36108173878699334,-0.41244259748489454,0.24130101887950547],\"y\":[-0.3663172688344479,-0.012719053030840755,-0.7515928301190705,0.917226552298473,0.06424651678393284,0.4306190041755723,0.4293236402182291,-0.3057821628032097,0.09670251287080989,0.1196411775664083,-0.46794870325285,0.5079929387162003,-0.28736528662316335,-0.4662002575633585,0.3709951103416849,0.03696557718169164,-0.5428931306412231,0.46809546944179037,-0.07105266102941908,0.7639190459429382,-0.537996415870647,-0.031112881687351254,-0.41821631196178205,0.3559608588396427,-0.6940910312460367,0.04881235081283336,-0.28572131518823835,-0.4792009713764309,-0.4893537338400806,-0.2096135738076863,-0.2947099042538644,-0.2881311516139927,-0.08105120272714819,-0.12969741394986267,0.41455590680973853,0.5635130162218625,-0.5410355423515851,-0.39688051435069993,0.1388285361278978,-0.6562955095192717,0.6635373311278475,-0.6198458973095159,0.38695682198944203,0.02482356698476941,0.522546343893731,0.20223518184848105,-0.17125871419802852,0.22801101853426356,0.04040356661182602,0.5842739780261247,-0.2346889809995412,0.19514889487360856,0.26750379526880175,0.8918424810105555,-0.24557818169243933,-0.10737927261793495,-0.36678857242626145,0.5734712732650783,-1.0730715691612736,0.6047819253808707,0.21026629170321687,-0.6138399463201579,0.9939273016465668,0.08830084632801438,0.5809755429425866,0.033187901166906286,-0.04536133182418001,-0.6768998166876476,0.713223541110598,-0.6346506210538565,0.16539168979501673,-0.01636658688855465,-0.17255763288538567,-0.6785729171342333,0.6586879689757371,-0.029677232942390726,-0.5993263525572687,0.2063754681052904,0.0920780473640049,-0.21105778119593044,0.11732697255541272,-0.4267151629770696,-0.6841482948884097,-1.152559814886739,0.5300480491377266,-0.9398174652113903,-0.25714077019523385,-0.19810131402638975,0.6133212784456541,0.6860838270092126,-0.08018975514689827,-0.4865366836109734,-0.4789692837599221,0.137210320941354,0.1974712160039503,0.4806852336327834,0.1438923814067545,-0.11040396732438557,-0.035994874668561855,0.1283420991104442],\"z\":[1.2621189004946363,1.4600448683099863,2.6634315186232205,1.067203083758653,2.028569627985172,0.7649734566977492,0.519699263218609,1.8790086803805688,1.6760295871195894,0.7857350382715516,1.4692818575579158,0.5129587481665026,1.8728583313533287,1.5023591268390046,-0.20582287267034577,0.302386675151435,0.6652299652556328,1.3454177859831842,0.28988400047806173,0.04056569758402673,0.7705938610255145,1.058109772250021,0.8838596548120938,0.6416321896403101,2.1686848486540597,-0.06753701598509532,1.1724939635013576,1.8847856387868376,0.9718172716229928,2.145221692424075,0.4774297873069236,0.6963460043857497,1.7591006826753495,1.4368797558501554,1.6931183176815128,0.607004003860985,1.883638095583387,1.3464066074844847,1.0189387612440415,0.7935013244738146,0.9209139904898704,1.828984510203734,-0.16327490544757312,0.6972511025421814,0.5640178338161951,0.6598391477241851,1.8237790233367157,0.8995693221204778,1.3341248268737416,0.5358696482007325,1.642040943261035,0.6893183766488072,1.1109402416427323,0.11677988063348121,1.0420819266473573,0.06254499709772884,2.037786289510695,-0.4736677183480802,0.6494309493566146,0.3606388683732439,1.6069229283235762,0.9777940372146933,0.18778767838516675,0.4587742443611418,0.8345291521970313,1.363412040932669,1.8330823209985052,1.242782733266243,0.34386407037096944,1.4734346627862651,0.10337164635927559,0.8000279398709774,1.2333086944387612,1.6851036173531355,1.2429974279216405,1.3875251693510904,1.8937467742367178,1.4424217472460827,1.6945968502670696,1.2499689791779187,1.8126748500528531,1.312531483204793,2.505590175443844,2.4275971765335775,0.35400691771614606,1.6016467897990578,1.3245294039503528,0.8446098152992544,-0.1239658109220868,-0.4842219348823177,1.403840292573309,0.8640794715591114,1.1653136117586596,0.009746818887465564,-0.10759947391412511,0.01737097751196992,1.8562792902607137,1.5262407909389621,0.5403549613900411,0.856557702351707],\"type\":\"scatter3d\"},{\"marker\":{\"opacity\":0.8,\"size\":3},\"mode\":\"markers\",\"name\":\"v_1\",\"x\":[-0.0,-0.016254177950448402,-0.032508355900896804,-0.04876253385134521,-0.06501671180179361,-0.081270889752242,-0.09752506770269043,-0.11377924565313882,-0.13003342360358722,-0.1462876015540356,-0.162541779504484,-0.17879595745493243,-0.19505013540538085,-0.21130431335582922,-0.22755849130627764,-0.243812669256726,-0.26006684720717443,-0.27632102515762286,-0.2925752031080712,-0.30882938105851965,-0.325083559008968,-0.34133773695941644,-0.35759191490986486,-0.3738460928603133,-0.3901002708107617,-0.4063544487612101,-0.42260862671165844,-0.43886280466210686,-0.4551169826125553,-0.4713711605630037,-0.487625338513452,-0.5038795164639005,-0.5201336944143489,-0.5363878723647973,-0.5526420503152457,-0.5688962282656941,-0.5851504062161424,-0.6014045841665909,-0.6176587621170393,-0.6339129400674877,-0.650167118017936,-0.6664212959683845,-0.6826754739188329,-0.6989296518692814,-0.7151838298197297,-0.7314380077701781,-0.7476921857206266,-0.7639463636710749,-0.7802005416215234,-0.7964547195719718],\"y\":[-0.0,-0.007673167957060946,-0.015346335914121892,-0.023019503871182838,-0.030692671828243784,-0.03836583978530473,-0.046039007742365676,-0.05371217569942662,-0.06138534365648757,-0.0690585116135485,-0.07673167957060946,-0.0844048475276704,-0.09207801548473135,-0.09975118344179229,-0.10742435139885324,-0.11509751935591418,-0.12277068731297514,-0.13044385527003607,-0.138117023227097,-0.14579019118415798,-0.15346335914121892,-0.16113652709827986,-0.1688096950553408,-0.17648286301240176,-0.1841560309694627,-0.19182919892652367,-0.19950236688358458,-0.20717553484064552,-0.2148487027977065,-0.22252187075476745,-0.23019503871182836,-0.2378682066688893,-0.24554137462595027,-0.25321454258301124,-0.26088771054007215,-0.26856087849713306,-0.276234046454194,-0.283907214411255,-0.29158038236831596,-0.29925355032537687,-0.30692671828243784,-0.31459988623949875,-0.3222730541965597,-0.3299462221536207,-0.3376193901106816,-0.34529255806774256,-0.35296572602480353,-0.36063889398186444,-0.3683120619389254,-0.3759852298959864],\"z\":[0.0,0.009665263603300235,0.01933052720660047,0.02899579080990071,0.03866105441320094,0.048326318016501175,0.05799158161980142,0.06765684522310166,0.07732210882640188,0.08698737242970211,0.09665263603300235,0.10631789963630259,0.11598316323960284,0.12564842684290306,0.1353136904462033,0.14497895404950353,0.15464421765280376,0.164309481256104,0.17397474485940423,0.18364000846270448,0.1933052720660047,0.20297053566930495,0.21263579927260517,0.22230106287590543,0.23196632647920568,0.2416315900825059,0.2512968536858061,0.26096211728910634,0.2706273808924066,0.28029264449570684,0.28995790809900707,0.2996231717023073,0.3092884353056075,0.3189536989089078,0.328618962512208,0.33828422611550824,0.34794948971880846,0.35761475332210874,0.36728001692540896,0.3769452805287092,0.3866105441320094,0.3962758077353096,0.4059410713386099,0.4156063349419101,0.42527159854521035,0.4349368621485106,0.44460212575181085,0.4542673893551111,0.46393265295841135,0.4735979165617116],\"type\":\"scatter3d\"},{\"marker\":{\"opacity\":0.8,\"size\":3},\"mode\":\"markers\",\"name\":\"v_2\",\"x\":[-0.0,-0.008611716212331314,-0.01722343242466263,-0.025835148636993942,-0.03444686484932526,-0.04305858106165657,-0.051670297273987885,-0.060282013486319196,-0.06889372969865051,-0.07750544591098182,-0.08611716212331313,-0.09472887833564445,-0.10334059454797577,-0.11195231076030707,-0.12056402697263839,-0.1291757431849697,-0.13778745939730103,-0.14639917560963234,-0.15501089182196365,-0.16362260803429496,-0.17223432424662627,-0.18084604045895758,-0.1894577566712889,-0.1980694728836202,-0.20668118909595154,-0.21529290530828285,-0.22390462152061413,-0.23251633773294544,-0.24112805394527678,-0.2497397701576081,-0.2583514863699394,-0.2669632025822707,-0.27557491879460205,-0.28418663500693336,-0.2927983512192647,-0.30141006743159593,-0.3100217836439273,-0.3186334998562586,-0.3272452160685899,-0.3358569322809212,-0.34446864849325254,-0.35308036470558385,-0.36169208091791516,-0.37030379713024647,-0.3789155133425778,-0.3875272295549091,-0.3961389457672404,-0.40475066197957177,-0.4133623781919031,-0.4219740944042344],\"y\":[-0.0,-0.004396023253970226,-0.008792046507940451,-0.013188069761910677,-0.017584093015880903,-0.021980116269851125,-0.026376139523821354,-0.03077216277779158,-0.035168186031761806,-0.03956420928573203,-0.04396023253970225,-0.048356255793672476,-0.05275227904764271,-0.05714830230161293,-0.06154432555558316,-0.06594034880955338,-0.07033637206352361,-0.07473239531749384,-0.07912841857146406,-0.08352444182543428,-0.0879204650794045,-0.09231648833337473,-0.09671251158734495,-0.10110853484131518,-0.10550455809528542,-0.10990058134925565,-0.11429660460322585,-0.11869262785719609,-0.12308865111116632,-0.12748467436513655,-0.13188069761910676,-0.136276720873077,-0.14067274412704722,-0.14506876738101745,-0.1494647906349877,-0.1538608138889579,-0.15825683714292813,-0.16265286039689836,-0.16704888365086856,-0.1714449069048388,-0.175840930158809,-0.18023695341277923,-0.18463297666674947,-0.1890289999207197,-0.1934250231746899,-0.19782104642866014,-0.20221706968263037,-0.2066130929366006,-0.21100911619057083,-0.21540513944454107],\"z\":[-0.0,-0.017972380234465696,-0.03594476046893139,-0.0539171407033971,-0.07188952093786279,-0.08986190117232849,-0.1078342814067942,-0.1258066616412599,-0.14377904187572557,-0.16175142211019128,-0.17972380234465699,-0.19769618257912266,-0.2156685628135884,-0.23364094304805405,-0.2516133232825198,-0.26958570351698546,-0.28755808375145114,-0.3055304639859169,-0.32350284422038256,-0.3414752244548483,-0.35944760468931397,-0.37741998492377965,-0.39539236515824533,-0.41336474539271106,-0.4313371256271768,-0.4493095058616425,-0.4672818860961081,-0.48525426633057384,-0.5032266465650396,-0.5211990267995052,-0.5391714070339709,-0.5571437872684366,-0.5751161675029023,-0.5930885477373681,-0.6110609279718338,-0.6290333082062994,-0.6470056884407651,-0.6649780686752308,-0.6829504489096966,-0.7009228291441622,-0.7188952093786279,-0.7368675896130936,-0.7548399698475593,-0.7728123500820251,-0.7907847303164907,-0.8087571105509564,-0.8267294907854221,-0.8447018710198878,-0.8626742512543536,-0.8806466314888193],\"type\":\"scatter3d\"},{\"marker\":{\"opacity\":0.8,\"size\":3},\"mode\":\"markers\",\"name\":\"v_3\",\"x\":[-0.0,-0.008839296968470807,-0.017678593936941614,-0.02651789090541242,-0.03535718787388323,-0.04419648484235403,-0.05303578181082484,-0.06187507877929564,-0.07071437574776646,-0.07955367271623726,-0.08839296968470806,-0.09723226665317887,-0.10607156362164968,-0.11491086059012047,-0.12375015755859128,-0.13258945452706208,-0.1414287514955329,-0.1502680484640037,-0.1591073454324745,-0.1679466424009453,-0.1767859393694161,-0.18562523633788694,-0.19446453330635774,-0.20330383027482854,-0.21214312724329937,-0.22098242421177017,-0.22982172118024094,-0.23866101814871177,-0.24750031511718257,-0.25633961208565337,-0.26517890905412417,-0.27401820602259497,-0.2828575029910658,-0.2916967999595366,-0.3005360969280074,-0.3093753938964782,-0.318214690864949,-0.3270539878334198,-0.3358932848018906,-0.3447325817703614,-0.3535718787388322,-0.362411175707303,-0.3712504726757739,-0.3800897696442447,-0.3889290666127155,-0.3977683635811863,-0.4066076605496571,-0.4154469575181279,-0.42428625448659874,-0.43312555145506954],\"y\":[0.0,0.01839267791586305,0.0367853558317261,0.05517803374758916,0.0735707116634522,0.09196338957931526,0.11035606749517832,0.12874874541104137,0.1471414233269044,0.16553410124276746,0.1839267791586305,0.20231945707449356,0.22071213499035663,0.23910481290621965,0.25749749082208273,0.27589016873794575,0.2942828466538088,0.3126755245696719,0.3310682024855349,0.349460880401398,0.367853558317261,0.3862462362331241,0.4046389141489871,0.4230315920648502,0.44142426998071327,0.45981694789657634,0.4782096258124393,0.4966023037283024,0.5149949816441655,0.5333876595600285,0.5517803374758915,0.5701730153917546,0.5885656933076177,0.6069583712234807,0.6253510491393438,0.6437437270552068,0.6621364049710698,0.6805290828869329,0.698921760802796,0.717314438718659,0.735707116634522,0.7540997945503851,0.7724924724662482,0.7908851503821113,0.8092778282979742,0.8276705062138373,0.8460631841297004,0.8644558620455635,0.8828485399614265,0.9012412178772896],\"z\":[-0.0,-0.0002633553680803481,-0.0005267107361606962,-0.0007900661042410444,-0.0010534214723213924,-0.0013167768404017406,-0.0015801322084820887,-0.0018434875765624369,-0.002106842944642785,-0.002370198312723133,-0.002633553680803481,-0.0028969090488838293,-0.0031602644169641775,-0.003423619785044525,-0.0036869751531248738,-0.0039503305212052215,-0.00421368588928557,-0.004477041257365919,-0.004740396625446266,-0.005003751993526614,-0.005267107361606962,-0.0055304627296873105,-0.005793818097767659,-0.006057173465848007,-0.006320528833928355,-0.006583884202008704,-0.00684723957008905,-0.007110594938169399,-0.0073739503062497476,-0.007637305674330096,-0.007900661042410443,-0.008164016410490792,-0.00842737177857114,-0.008690727146651488,-0.008954082514731837,-0.009217437882812183,-0.009480793250892532,-0.009744148618972881,-0.010007503987053228,-0.010270859355133576,-0.010534214723213925,-0.010797570091294274,-0.011060925459374621,-0.01132428082745497,-0.011587636195535317,-0.011850991563615665,-0.012114346931696014,-0.012377702299776363,-0.01264105766785671,-0.012904413035937059],\"type\":\"scatter3d\"}],                        {\"template\":{\"data\":{\"histogram2dcontour\":[{\"type\":\"histogram2dcontour\",\"colorbar\":{\"outlinewidth\":0,\"ticks\":\"\"},\"colorscale\":[[0.0,\"#0d0887\"],[0.1111111111111111,\"#46039f\"],[0.2222222222222222,\"#7201a8\"],[0.3333333333333333,\"#9c179e\"],[0.4444444444444444,\"#bd3786\"],[0.5555555555555556,\"#d8576b\"],[0.6666666666666666,\"#ed7953\"],[0.7777777777777778,\"#fb9f3a\"],[0.8888888888888888,\"#fdca26\"],[1.0,\"#f0f921\"]]}],\"choropleth\":[{\"type\":\"choropleth\",\"colorbar\":{\"outlinewidth\":0,\"ticks\":\"\"}}],\"histogram2d\":[{\"type\":\"histogram2d\",\"colorbar\":{\"outlinewidth\":0,\"ticks\":\"\"},\"colorscale\":[[0.0,\"#0d0887\"],[0.1111111111111111,\"#46039f\"],[0.2222222222222222,\"#7201a8\"],[0.3333333333333333,\"#9c179e\"],[0.4444444444444444,\"#bd3786\"],[0.5555555555555556,\"#d8576b\"],[0.6666666666666666,\"#ed7953\"],[0.7777777777777778,\"#fb9f3a\"],[0.8888888888888888,\"#fdca26\"],[1.0,\"#f0f921\"]]}],\"heatmap\":[{\"type\":\"heatmap\",\"colorbar\":{\"outlinewidth\":0,\"ticks\":\"\"},\"colorscale\":[[0.0,\"#0d0887\"],[0.1111111111111111,\"#46039f\"],[0.2222222222222222,\"#7201a8\"],[0.3333333333333333,\"#9c179e\"],[0.4444444444444444,\"#bd3786\"],[0.5555555555555556,\"#d8576b\"],[0.6666666666666666,\"#ed7953\"],[0.7777777777777778,\"#fb9f3a\"],[0.8888888888888888,\"#fdca26\"],[1.0,\"#f0f921\"]]}],\"heatmapgl\":[{\"type\":\"heatmapgl\",\"colorbar\":{\"outlinewidth\":0,\"ticks\":\"\"},\"colorscale\":[[0.0,\"#0d0887\"],[0.1111111111111111,\"#46039f\"],[0.2222222222222222,\"#7201a8\"],[0.3333333333333333,\"#9c179e\"],[0.4444444444444444,\"#bd3786\"],[0.5555555555555556,\"#d8576b\"],[0.6666666666666666,\"#ed7953\"],[0.7777777777777778,\"#fb9f3a\"],[0.8888888888888888,\"#fdca26\"],[1.0,\"#f0f921\"]]}],\"contourcarpet\":[{\"type\":\"contourcarpet\",\"colorbar\":{\"outlinewidth\":0,\"ticks\":\"\"}}],\"contour\":[{\"type\":\"contour\",\"colorbar\":{\"outlinewidth\":0,\"ticks\":\"\"},\"colorscale\":[[0.0,\"#0d0887\"],[0.1111111111111111,\"#46039f\"],[0.2222222222222222,\"#7201a8\"],[0.3333333333333333,\"#9c179e\"],[0.4444444444444444,\"#bd3786\"],[0.5555555555555556,\"#d8576b\"],[0.6666666666666666,\"#ed7953\"],[0.7777777777777778,\"#fb9f3a\"],[0.8888888888888888,\"#fdca26\"],[1.0,\"#f0f921\"]]}],\"surface\":[{\"type\":\"surface\",\"colorbar\":{\"outlinewidth\":0,\"ticks\":\"\"},\"colorscale\":[[0.0,\"#0d0887\"],[0.1111111111111111,\"#46039f\"],[0.2222222222222222,\"#7201a8\"],[0.3333333333333333,\"#9c179e\"],[0.4444444444444444,\"#bd3786\"],[0.5555555555555556,\"#d8576b\"],[0.6666666666666666,\"#ed7953\"],[0.7777777777777778,\"#fb9f3a\"],[0.8888888888888888,\"#fdca26\"],[1.0,\"#f0f921\"]]}],\"mesh3d\":[{\"type\":\"mesh3d\",\"colorbar\":{\"outlinewidth\":0,\"ticks\":\"\"}}],\"scatter\":[{\"fillpattern\":{\"fillmode\":\"overlay\",\"size\":10,\"solidity\":0.2},\"type\":\"scatter\"}],\"parcoords\":[{\"type\":\"parcoords\",\"line\":{\"colorbar\":{\"outlinewidth\":0,\"ticks\":\"\"}}}],\"scatterpolargl\":[{\"type\":\"scatterpolargl\",\"marker\":{\"colorbar\":{\"outlinewidth\":0,\"ticks\":\"\"}}}],\"bar\":[{\"error_x\":{\"color\":\"#2a3f5f\"},\"error_y\":{\"color\":\"#2a3f5f\"},\"marker\":{\"line\":{\"color\":\"#E5ECF6\",\"width\":0.5},\"pattern\":{\"fillmode\":\"overlay\",\"size\":10,\"solidity\":0.2}},\"type\":\"bar\"}],\"scattergeo\":[{\"type\":\"scattergeo\",\"marker\":{\"colorbar\":{\"outlinewidth\":0,\"ticks\":\"\"}}}],\"scatterpolar\":[{\"type\":\"scatterpolar\",\"marker\":{\"colorbar\":{\"outlinewidth\":0,\"ticks\":\"\"}}}],\"histogram\":[{\"marker\":{\"pattern\":{\"fillmode\":\"overlay\",\"size\":10,\"solidity\":0.2}},\"type\":\"histogram\"}],\"scattergl\":[{\"type\":\"scattergl\",\"marker\":{\"colorbar\":{\"outlinewidth\":0,\"ticks\":\"\"}}}],\"scatter3d\":[{\"type\":\"scatter3d\",\"line\":{\"colorbar\":{\"outlinewidth\":0,\"ticks\":\"\"}},\"marker\":{\"colorbar\":{\"outlinewidth\":0,\"ticks\":\"\"}}}],\"scattermapbox\":[{\"type\":\"scattermapbox\",\"marker\":{\"colorbar\":{\"outlinewidth\":0,\"ticks\":\"\"}}}],\"scatterternary\":[{\"type\":\"scatterternary\",\"marker\":{\"colorbar\":{\"outlinewidth\":0,\"ticks\":\"\"}}}],\"scattercarpet\":[{\"type\":\"scattercarpet\",\"marker\":{\"colorbar\":{\"outlinewidth\":0,\"ticks\":\"\"}}}],\"carpet\":[{\"aaxis\":{\"endlinecolor\":\"#2a3f5f\",\"gridcolor\":\"white\",\"linecolor\":\"white\",\"minorgridcolor\":\"white\",\"startlinecolor\":\"#2a3f5f\"},\"baxis\":{\"endlinecolor\":\"#2a3f5f\",\"gridcolor\":\"white\",\"linecolor\":\"white\",\"minorgridcolor\":\"white\",\"startlinecolor\":\"#2a3f5f\"},\"type\":\"carpet\"}],\"table\":[{\"cells\":{\"fill\":{\"color\":\"#EBF0F8\"},\"line\":{\"color\":\"white\"}},\"header\":{\"fill\":{\"color\":\"#C8D4E3\"},\"line\":{\"color\":\"white\"}},\"type\":\"table\"}],\"barpolar\":[{\"marker\":{\"line\":{\"color\":\"#E5ECF6\",\"width\":0.5},\"pattern\":{\"fillmode\":\"overlay\",\"size\":10,\"solidity\":0.2}},\"type\":\"barpolar\"}],\"pie\":[{\"automargin\":true,\"type\":\"pie\"}]},\"layout\":{\"autotypenumbers\":\"strict\",\"colorway\":[\"#636efa\",\"#EF553B\",\"#00cc96\",\"#ab63fa\",\"#FFA15A\",\"#19d3f3\",\"#FF6692\",\"#B6E880\",\"#FF97FF\",\"#FECB52\"],\"font\":{\"color\":\"#2a3f5f\"},\"hovermode\":\"closest\",\"hoverlabel\":{\"align\":\"left\"},\"paper_bgcolor\":\"white\",\"plot_bgcolor\":\"#E5ECF6\",\"polar\":{\"bgcolor\":\"#E5ECF6\",\"angularaxis\":{\"gridcolor\":\"white\",\"linecolor\":\"white\",\"ticks\":\"\"},\"radialaxis\":{\"gridcolor\":\"white\",\"linecolor\":\"white\",\"ticks\":\"\"}},\"ternary\":{\"bgcolor\":\"#E5ECF6\",\"aaxis\":{\"gridcolor\":\"white\",\"linecolor\":\"white\",\"ticks\":\"\"},\"baxis\":{\"gridcolor\":\"white\",\"linecolor\":\"white\",\"ticks\":\"\"},\"caxis\":{\"gridcolor\":\"white\",\"linecolor\":\"white\",\"ticks\":\"\"}},\"coloraxis\":{\"colorbar\":{\"outlinewidth\":0,\"ticks\":\"\"}},\"colorscale\":{\"sequential\":[[0.0,\"#0d0887\"],[0.1111111111111111,\"#46039f\"],[0.2222222222222222,\"#7201a8\"],[0.3333333333333333,\"#9c179e\"],[0.4444444444444444,\"#bd3786\"],[0.5555555555555556,\"#d8576b\"],[0.6666666666666666,\"#ed7953\"],[0.7777777777777778,\"#fb9f3a\"],[0.8888888888888888,\"#fdca26\"],[1.0,\"#f0f921\"]],\"sequentialminus\":[[0.0,\"#0d0887\"],[0.1111111111111111,\"#46039f\"],[0.2222222222222222,\"#7201a8\"],[0.3333333333333333,\"#9c179e\"],[0.4444444444444444,\"#bd3786\"],[0.5555555555555556,\"#d8576b\"],[0.6666666666666666,\"#ed7953\"],[0.7777777777777778,\"#fb9f3a\"],[0.8888888888888888,\"#fdca26\"],[1.0,\"#f0f921\"]],\"diverging\":[[0,\"#8e0152\"],[0.1,\"#c51b7d\"],[0.2,\"#de77ae\"],[0.3,\"#f1b6da\"],[0.4,\"#fde0ef\"],[0.5,\"#f7f7f7\"],[0.6,\"#e6f5d0\"],[0.7,\"#b8e186\"],[0.8,\"#7fbc41\"],[0.9,\"#4d9221\"],[1,\"#276419\"]]},\"xaxis\":{\"gridcolor\":\"white\",\"linecolor\":\"white\",\"ticks\":\"\",\"title\":{\"standoff\":15},\"zerolinecolor\":\"white\",\"automargin\":true,\"zerolinewidth\":2},\"yaxis\":{\"gridcolor\":\"white\",\"linecolor\":\"white\",\"ticks\":\"\",\"title\":{\"standoff\":15},\"zerolinecolor\":\"white\",\"automargin\":true,\"zerolinewidth\":2},\"scene\":{\"xaxis\":{\"backgroundcolor\":\"#E5ECF6\",\"gridcolor\":\"white\",\"linecolor\":\"white\",\"showbackground\":true,\"ticks\":\"\",\"zerolinecolor\":\"white\",\"gridwidth\":2},\"yaxis\":{\"backgroundcolor\":\"#E5ECF6\",\"gridcolor\":\"white\",\"linecolor\":\"white\",\"showbackground\":true,\"ticks\":\"\",\"zerolinecolor\":\"white\",\"gridwidth\":2},\"zaxis\":{\"backgroundcolor\":\"#E5ECF6\",\"gridcolor\":\"white\",\"linecolor\":\"white\",\"showbackground\":true,\"ticks\":\"\",\"zerolinecolor\":\"white\",\"gridwidth\":2}},\"shapedefaults\":{\"line\":{\"color\":\"#2a3f5f\"}},\"annotationdefaults\":{\"arrowcolor\":\"#2a3f5f\",\"arrowhead\":0,\"arrowwidth\":1},\"geo\":{\"bgcolor\":\"white\",\"landcolor\":\"#E5ECF6\",\"subunitcolor\":\"white\",\"showland\":true,\"showlakes\":true,\"lakecolor\":\"white\"},\"title\":{\"x\":0.05},\"mapbox\":{\"style\":\"light\"}}},\"yaxis\":{\"title\":{\"text\":\"y\"},\"scaleanchor\":\"x\",\"scaleratio\":1},\"xaxis\":{\"title\":{\"text\":\"x\"}}},                        {\"responsive\": true}                    ).then(function(){\n",
       "                            \n",
       "var gd = document.getElementById('0c71b86f-dad6-4c9d-9684-e074e9809c6f');\n",
       "var x = new MutationObserver(function (mutations, observer) {{\n",
       "        var display = window.getComputedStyle(gd).display;\n",
       "        if (!display || display === 'none') {{\n",
       "            console.log([gd, 'removed!']);\n",
       "            Plotly.purge(gd);\n",
       "            observer.disconnect();\n",
       "        }}\n",
       "}});\n",
       "\n",
       "// Listen for the removal of the full notebook cells\n",
       "var notebookContainer = gd.closest('#notebook-container');\n",
       "if (notebookContainer) {{\n",
       "    x.observe(notebookContainer, {childList: true});\n",
       "}}\n",
       "\n",
       "// Listen for the clearing of the current output cell\n",
       "var outputEl = gd.closest('.output');\n",
       "if (outputEl) {{\n",
       "    x.observe(outputEl, {childList: true});\n",
       "}}\n",
       "\n",
       "                        })                };                });            </script>        </div>"
      ]
     },
     "metadata": {},
     "output_type": "display_data"
    }
   ],
   "source": [
    "fig.update_layout( xaxis_title=\"x\", yaxis_title=\"y\", yaxis = dict(scaleanchor = \"x\",scaleratio = 1) )\n",
    "fig.show()"
   ]
  },
  {
   "cell_type": "code",
   "execution_count": null,
   "id": "daf76e8a-4bd1-4621-9784-44480fd34156",
   "metadata": {},
   "outputs": [],
   "source": []
  }
 ],
 "metadata": {
  "kernelspec": {
   "display_name": "lighthouse",
   "language": "python",
   "name": "lighthouse"
  },
  "language_info": {
   "codemirror_mode": {
    "name": "ipython",
    "version": 3
   },
   "file_extension": ".py",
   "mimetype": "text/x-python",
   "name": "python",
   "nbconvert_exporter": "python",
   "pygments_lexer": "ipython3",
   "version": "3.8.13"
  }
 },
 "nbformat": 4,
 "nbformat_minor": 5
}
