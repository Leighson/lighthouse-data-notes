{
 "cells": [
  {
   "cell_type": "code",
   "execution_count": 4,
   "id": "0e2122d7-1651-4a70-9a46-d7aeff0e4240",
   "metadata": {},
   "outputs": [],
   "source": [
    "import pandas as pd\n",
    "import numpy as np\n",
    "\n",
    "import matplotlib.pyplot as plt\n",
    "import seaborn as sns"
   ]
  },
  {
   "cell_type": "code",
   "execution_count": 5,
   "id": "f7a0787c-fdc8-4704-ae37-5fabae78d86c",
   "metadata": {},
   "outputs": [],
   "source": [
    "df_train = pd.read_csv('train.csv')"
   ]
  },
  {
   "cell_type": "code",
   "execution_count": 6,
   "id": "278f0746-a26b-46ed-b45d-f2a92b3283b2",
   "metadata": {},
   "outputs": [
    {
     "name": "stdout",
     "output_type": "stream",
     "text": [
      "(1460, 81)\n"
     ]
    }
   ],
   "source": [
    "print(df_train.shape)"
   ]
  },
  {
   "cell_type": "code",
   "execution_count": 7,
   "id": "5ca0a16e-418a-4145-8216-30a6e147ecfb",
   "metadata": {},
   "outputs": [
    {
     "data": {
      "text/html": [
       "<div>\n",
       "<style scoped>\n",
       "    .dataframe tbody tr th:only-of-type {\n",
       "        vertical-align: middle;\n",
       "    }\n",
       "\n",
       "    .dataframe tbody tr th {\n",
       "        vertical-align: top;\n",
       "    }\n",
       "\n",
       "    .dataframe thead th {\n",
       "        text-align: right;\n",
       "    }\n",
       "</style>\n",
       "<table border=\"1\" class=\"dataframe\">\n",
       "  <thead>\n",
       "    <tr style=\"text-align: right;\">\n",
       "      <th></th>\n",
       "      <th>Id</th>\n",
       "      <th>MSSubClass</th>\n",
       "      <th>MSZoning</th>\n",
       "      <th>LotFrontage</th>\n",
       "      <th>LotArea</th>\n",
       "      <th>Street</th>\n",
       "      <th>Alley</th>\n",
       "      <th>LotShape</th>\n",
       "      <th>LandContour</th>\n",
       "      <th>Utilities</th>\n",
       "      <th>LotConfig</th>\n",
       "      <th>LandSlope</th>\n",
       "      <th>Neighborhood</th>\n",
       "      <th>Condition1</th>\n",
       "      <th>Condition2</th>\n",
       "      <th>BldgType</th>\n",
       "      <th>HouseStyle</th>\n",
       "      <th>OverallQual</th>\n",
       "      <th>OverallCond</th>\n",
       "      <th>YearBuilt</th>\n",
       "    </tr>\n",
       "  </thead>\n",
       "  <tbody>\n",
       "    <tr>\n",
       "      <th>0</th>\n",
       "      <td>1</td>\n",
       "      <td>60</td>\n",
       "      <td>RL</td>\n",
       "      <td>65.0</td>\n",
       "      <td>8450</td>\n",
       "      <td>Pave</td>\n",
       "      <td>NaN</td>\n",
       "      <td>Reg</td>\n",
       "      <td>Lvl</td>\n",
       "      <td>AllPub</td>\n",
       "      <td>Inside</td>\n",
       "      <td>Gtl</td>\n",
       "      <td>CollgCr</td>\n",
       "      <td>Norm</td>\n",
       "      <td>Norm</td>\n",
       "      <td>1Fam</td>\n",
       "      <td>2Story</td>\n",
       "      <td>7</td>\n",
       "      <td>5</td>\n",
       "      <td>2003</td>\n",
       "    </tr>\n",
       "    <tr>\n",
       "      <th>1</th>\n",
       "      <td>2</td>\n",
       "      <td>20</td>\n",
       "      <td>RL</td>\n",
       "      <td>80.0</td>\n",
       "      <td>9600</td>\n",
       "      <td>Pave</td>\n",
       "      <td>NaN</td>\n",
       "      <td>Reg</td>\n",
       "      <td>Lvl</td>\n",
       "      <td>AllPub</td>\n",
       "      <td>FR2</td>\n",
       "      <td>Gtl</td>\n",
       "      <td>Veenker</td>\n",
       "      <td>Feedr</td>\n",
       "      <td>Norm</td>\n",
       "      <td>1Fam</td>\n",
       "      <td>1Story</td>\n",
       "      <td>6</td>\n",
       "      <td>8</td>\n",
       "      <td>1976</td>\n",
       "    </tr>\n",
       "    <tr>\n",
       "      <th>2</th>\n",
       "      <td>3</td>\n",
       "      <td>60</td>\n",
       "      <td>RL</td>\n",
       "      <td>68.0</td>\n",
       "      <td>11250</td>\n",
       "      <td>Pave</td>\n",
       "      <td>NaN</td>\n",
       "      <td>IR1</td>\n",
       "      <td>Lvl</td>\n",
       "      <td>AllPub</td>\n",
       "      <td>Inside</td>\n",
       "      <td>Gtl</td>\n",
       "      <td>CollgCr</td>\n",
       "      <td>Norm</td>\n",
       "      <td>Norm</td>\n",
       "      <td>1Fam</td>\n",
       "      <td>2Story</td>\n",
       "      <td>7</td>\n",
       "      <td>5</td>\n",
       "      <td>2001</td>\n",
       "    </tr>\n",
       "    <tr>\n",
       "      <th>3</th>\n",
       "      <td>4</td>\n",
       "      <td>70</td>\n",
       "      <td>RL</td>\n",
       "      <td>60.0</td>\n",
       "      <td>9550</td>\n",
       "      <td>Pave</td>\n",
       "      <td>NaN</td>\n",
       "      <td>IR1</td>\n",
       "      <td>Lvl</td>\n",
       "      <td>AllPub</td>\n",
       "      <td>Corner</td>\n",
       "      <td>Gtl</td>\n",
       "      <td>Crawfor</td>\n",
       "      <td>Norm</td>\n",
       "      <td>Norm</td>\n",
       "      <td>1Fam</td>\n",
       "      <td>2Story</td>\n",
       "      <td>7</td>\n",
       "      <td>5</td>\n",
       "      <td>1915</td>\n",
       "    </tr>\n",
       "    <tr>\n",
       "      <th>4</th>\n",
       "      <td>5</td>\n",
       "      <td>60</td>\n",
       "      <td>RL</td>\n",
       "      <td>84.0</td>\n",
       "      <td>14260</td>\n",
       "      <td>Pave</td>\n",
       "      <td>NaN</td>\n",
       "      <td>IR1</td>\n",
       "      <td>Lvl</td>\n",
       "      <td>AllPub</td>\n",
       "      <td>FR2</td>\n",
       "      <td>Gtl</td>\n",
       "      <td>NoRidge</td>\n",
       "      <td>Norm</td>\n",
       "      <td>Norm</td>\n",
       "      <td>1Fam</td>\n",
       "      <td>2Story</td>\n",
       "      <td>8</td>\n",
       "      <td>5</td>\n",
       "      <td>2000</td>\n",
       "    </tr>\n",
       "    <tr>\n",
       "      <th>...</th>\n",
       "      <td>...</td>\n",
       "      <td>...</td>\n",
       "      <td>...</td>\n",
       "      <td>...</td>\n",
       "      <td>...</td>\n",
       "      <td>...</td>\n",
       "      <td>...</td>\n",
       "      <td>...</td>\n",
       "      <td>...</td>\n",
       "      <td>...</td>\n",
       "      <td>...</td>\n",
       "      <td>...</td>\n",
       "      <td>...</td>\n",
       "      <td>...</td>\n",
       "      <td>...</td>\n",
       "      <td>...</td>\n",
       "      <td>...</td>\n",
       "      <td>...</td>\n",
       "      <td>...</td>\n",
       "      <td>...</td>\n",
       "    </tr>\n",
       "    <tr>\n",
       "      <th>1455</th>\n",
       "      <td>1456</td>\n",
       "      <td>60</td>\n",
       "      <td>RL</td>\n",
       "      <td>62.0</td>\n",
       "      <td>7917</td>\n",
       "      <td>Pave</td>\n",
       "      <td>NaN</td>\n",
       "      <td>Reg</td>\n",
       "      <td>Lvl</td>\n",
       "      <td>AllPub</td>\n",
       "      <td>Inside</td>\n",
       "      <td>Gtl</td>\n",
       "      <td>Gilbert</td>\n",
       "      <td>Norm</td>\n",
       "      <td>Norm</td>\n",
       "      <td>1Fam</td>\n",
       "      <td>2Story</td>\n",
       "      <td>6</td>\n",
       "      <td>5</td>\n",
       "      <td>1999</td>\n",
       "    </tr>\n",
       "    <tr>\n",
       "      <th>1456</th>\n",
       "      <td>1457</td>\n",
       "      <td>20</td>\n",
       "      <td>RL</td>\n",
       "      <td>85.0</td>\n",
       "      <td>13175</td>\n",
       "      <td>Pave</td>\n",
       "      <td>NaN</td>\n",
       "      <td>Reg</td>\n",
       "      <td>Lvl</td>\n",
       "      <td>AllPub</td>\n",
       "      <td>Inside</td>\n",
       "      <td>Gtl</td>\n",
       "      <td>NWAmes</td>\n",
       "      <td>Norm</td>\n",
       "      <td>Norm</td>\n",
       "      <td>1Fam</td>\n",
       "      <td>1Story</td>\n",
       "      <td>6</td>\n",
       "      <td>6</td>\n",
       "      <td>1978</td>\n",
       "    </tr>\n",
       "    <tr>\n",
       "      <th>1457</th>\n",
       "      <td>1458</td>\n",
       "      <td>70</td>\n",
       "      <td>RL</td>\n",
       "      <td>66.0</td>\n",
       "      <td>9042</td>\n",
       "      <td>Pave</td>\n",
       "      <td>NaN</td>\n",
       "      <td>Reg</td>\n",
       "      <td>Lvl</td>\n",
       "      <td>AllPub</td>\n",
       "      <td>Inside</td>\n",
       "      <td>Gtl</td>\n",
       "      <td>Crawfor</td>\n",
       "      <td>Norm</td>\n",
       "      <td>Norm</td>\n",
       "      <td>1Fam</td>\n",
       "      <td>2Story</td>\n",
       "      <td>7</td>\n",
       "      <td>9</td>\n",
       "      <td>1941</td>\n",
       "    </tr>\n",
       "    <tr>\n",
       "      <th>1458</th>\n",
       "      <td>1459</td>\n",
       "      <td>20</td>\n",
       "      <td>RL</td>\n",
       "      <td>68.0</td>\n",
       "      <td>9717</td>\n",
       "      <td>Pave</td>\n",
       "      <td>NaN</td>\n",
       "      <td>Reg</td>\n",
       "      <td>Lvl</td>\n",
       "      <td>AllPub</td>\n",
       "      <td>Inside</td>\n",
       "      <td>Gtl</td>\n",
       "      <td>NAmes</td>\n",
       "      <td>Norm</td>\n",
       "      <td>Norm</td>\n",
       "      <td>1Fam</td>\n",
       "      <td>1Story</td>\n",
       "      <td>5</td>\n",
       "      <td>6</td>\n",
       "      <td>1950</td>\n",
       "    </tr>\n",
       "    <tr>\n",
       "      <th>1459</th>\n",
       "      <td>1460</td>\n",
       "      <td>20</td>\n",
       "      <td>RL</td>\n",
       "      <td>75.0</td>\n",
       "      <td>9937</td>\n",
       "      <td>Pave</td>\n",
       "      <td>NaN</td>\n",
       "      <td>Reg</td>\n",
       "      <td>Lvl</td>\n",
       "      <td>AllPub</td>\n",
       "      <td>Inside</td>\n",
       "      <td>Gtl</td>\n",
       "      <td>Edwards</td>\n",
       "      <td>Norm</td>\n",
       "      <td>Norm</td>\n",
       "      <td>1Fam</td>\n",
       "      <td>1Story</td>\n",
       "      <td>5</td>\n",
       "      <td>6</td>\n",
       "      <td>1965</td>\n",
       "    </tr>\n",
       "  </tbody>\n",
       "</table>\n",
       "<p>1460 rows × 20 columns</p>\n",
       "</div>"
      ],
      "text/plain": [
       "        Id  MSSubClass MSZoning  LotFrontage  LotArea Street Alley LotShape  \\\n",
       "0        1          60       RL         65.0     8450   Pave   NaN      Reg   \n",
       "1        2          20       RL         80.0     9600   Pave   NaN      Reg   \n",
       "2        3          60       RL         68.0    11250   Pave   NaN      IR1   \n",
       "3        4          70       RL         60.0     9550   Pave   NaN      IR1   \n",
       "4        5          60       RL         84.0    14260   Pave   NaN      IR1   \n",
       "...    ...         ...      ...          ...      ...    ...   ...      ...   \n",
       "1455  1456          60       RL         62.0     7917   Pave   NaN      Reg   \n",
       "1456  1457          20       RL         85.0    13175   Pave   NaN      Reg   \n",
       "1457  1458          70       RL         66.0     9042   Pave   NaN      Reg   \n",
       "1458  1459          20       RL         68.0     9717   Pave   NaN      Reg   \n",
       "1459  1460          20       RL         75.0     9937   Pave   NaN      Reg   \n",
       "\n",
       "     LandContour Utilities LotConfig LandSlope Neighborhood Condition1  \\\n",
       "0            Lvl    AllPub    Inside       Gtl      CollgCr       Norm   \n",
       "1            Lvl    AllPub       FR2       Gtl      Veenker      Feedr   \n",
       "2            Lvl    AllPub    Inside       Gtl      CollgCr       Norm   \n",
       "3            Lvl    AllPub    Corner       Gtl      Crawfor       Norm   \n",
       "4            Lvl    AllPub       FR2       Gtl      NoRidge       Norm   \n",
       "...          ...       ...       ...       ...          ...        ...   \n",
       "1455         Lvl    AllPub    Inside       Gtl      Gilbert       Norm   \n",
       "1456         Lvl    AllPub    Inside       Gtl       NWAmes       Norm   \n",
       "1457         Lvl    AllPub    Inside       Gtl      Crawfor       Norm   \n",
       "1458         Lvl    AllPub    Inside       Gtl        NAmes       Norm   \n",
       "1459         Lvl    AllPub    Inside       Gtl      Edwards       Norm   \n",
       "\n",
       "     Condition2 BldgType HouseStyle  OverallQual  OverallCond  YearBuilt  \n",
       "0          Norm     1Fam     2Story            7            5       2003  \n",
       "1          Norm     1Fam     1Story            6            8       1976  \n",
       "2          Norm     1Fam     2Story            7            5       2001  \n",
       "3          Norm     1Fam     2Story            7            5       1915  \n",
       "4          Norm     1Fam     2Story            8            5       2000  \n",
       "...         ...      ...        ...          ...          ...        ...  \n",
       "1455       Norm     1Fam     2Story            6            5       1999  \n",
       "1456       Norm     1Fam     1Story            6            6       1978  \n",
       "1457       Norm     1Fam     2Story            7            9       1941  \n",
       "1458       Norm     1Fam     1Story            5            6       1950  \n",
       "1459       Norm     1Fam     1Story            5            6       1965  \n",
       "\n",
       "[1460 rows x 20 columns]"
      ]
     },
     "execution_count": 7,
     "metadata": {},
     "output_type": "execute_result"
    }
   ],
   "source": [
    "df_train.iloc[:, :20]"
   ]
  },
  {
   "cell_type": "code",
   "execution_count": 8,
   "id": "e59052b4-1df3-44d4-a504-f27a0aabc63e",
   "metadata": {},
   "outputs": [
    {
     "name": "stdout",
     "output_type": "stream",
     "text": [
      "0\n"
     ]
    }
   ],
   "source": [
    "# check for duplications\n",
    "idsUnique = len(set(df_train.Id))\n",
    "idsTotal = df_train.shape[0]\n",
    "idsdupe = idsTotal - idsUnique\n",
    "print(idsdupe)\n",
    "\n",
    "#drop id col\n",
    "df_train.drop(['Id'], axis =1, inplace=True)"
   ]
  },
  {
   "cell_type": "markdown",
   "id": "243144d0-f8ae-448b-9be5-8869ab92f03d",
   "metadata": {},
   "source": [
    "## Exploring the Target Variable"
   ]
  },
  {
   "cell_type": "markdown",
   "id": "8267e300-50de-4cbf-9e79-ca7c952e7755",
   "metadata": {},
   "source": [
    "The goal of this competition was to predict the price of a house. These values are stored in the variable `SalePrice`."
   ]
  },
  {
   "cell_type": "code",
   "execution_count": 9,
   "id": "d2cfce41-4993-4330-b324-d6680ff54e60",
   "metadata": {},
   "outputs": [
    {
     "data": {
      "text/plain": [
       "count      1460.000000\n",
       "mean     180921.195890\n",
       "std       79442.502883\n",
       "min       34900.000000\n",
       "25%      129975.000000\n",
       "50%      163000.000000\n",
       "75%      214000.000000\n",
       "max      755000.000000\n",
       "Name: SalePrice, dtype: float64"
      ]
     },
     "execution_count": 9,
     "metadata": {},
     "output_type": "execute_result"
    }
   ],
   "source": [
    "# descriptive statistics\n",
    "df_train['SalePrice'].describe()"
   ]
  },
  {
   "cell_type": "code",
   "execution_count": 10,
   "id": "2a78bd27-b8ae-48e0-937e-233784582dd0",
   "metadata": {},
   "outputs": [
    {
     "data": {
      "text/plain": [
       "<AxesSubplot:xlabel='SalePrice', ylabel='Count'>"
      ]
     },
     "execution_count": 10,
     "metadata": {},
     "output_type": "execute_result"
    },
    {
     "data": {
      "image/png": "[encoded data removed]",
      "text/plain": [
       "<Figure size 432x288 with 1 Axes>"
      ]
     },
     "metadata": {
      "needs_background": "light"
     },
     "output_type": "display_data"
    }
   ],
   "source": [
    "# histogram\n",
    "sns.histplot(df_train['SalePrice'])"
   ]
  },
  {
   "cell_type": "markdown",
   "id": "deb1990d-5eea-4d57-b0e3-df9db04cd83e",
   "metadata": {},
   "source": [
    "## Relationship Between the Target Variable and Predictors"
   ]
  },
  {
   "cell_type": "code",
   "execution_count": 11,
   "id": "31e5d4bb-f653-4da6-a162-40bc7fd6e1ab",
   "metadata": {},
   "outputs": [
    {
     "data": {
      "text/plain": [
       "['1stFlrSF',\n",
       " '2ndFlrSF',\n",
       " '3SsnPorch',\n",
       " 'Alley',\n",
       " 'BedroomAbvGr',\n",
       " 'BldgType',\n",
       " 'BsmtCond',\n",
       " 'BsmtExposure',\n",
       " 'BsmtFinSF1',\n",
       " 'BsmtFinSF2',\n",
       " 'BsmtFinType1',\n",
       " 'BsmtFinType2',\n",
       " 'BsmtFullBath',\n",
       " 'BsmtHalfBath',\n",
       " 'BsmtQual',\n",
       " 'BsmtUnfSF',\n",
       " 'CentralAir',\n",
       " 'Condition1',\n",
       " 'Condition2',\n",
       " 'Electrical',\n",
       " 'EnclosedPorch',\n",
       " 'ExterCond',\n",
       " 'ExterQual',\n",
       " 'Exterior1st',\n",
       " 'Exterior2nd',\n",
       " 'Fence',\n",
       " 'FireplaceQu',\n",
       " 'Fireplaces',\n",
       " 'Foundation',\n",
       " 'FullBath',\n",
       " 'Functional',\n",
       " 'GarageArea',\n",
       " 'GarageCars',\n",
       " 'GarageCond',\n",
       " 'GarageFinish',\n",
       " 'GarageQual',\n",
       " 'GarageType',\n",
       " 'GarageYrBlt',\n",
       " 'GrLivArea',\n",
       " 'HalfBath',\n",
       " 'Heating',\n",
       " 'HeatingQC',\n",
       " 'HouseStyle',\n",
       " 'KitchenAbvGr',\n",
       " 'KitchenQual',\n",
       " 'LandContour',\n",
       " 'LandSlope',\n",
       " 'LotArea',\n",
       " 'LotConfig',\n",
       " 'LotFrontage',\n",
       " 'LotShape',\n",
       " 'LowQualFinSF',\n",
       " 'MSSubClass',\n",
       " 'MSZoning',\n",
       " 'MasVnrArea',\n",
       " 'MasVnrType',\n",
       " 'MiscFeature',\n",
       " 'MiscVal',\n",
       " 'MoSold',\n",
       " 'Neighborhood',\n",
       " 'OpenPorchSF',\n",
       " 'OverallCond',\n",
       " 'OverallQual',\n",
       " 'PavedDrive',\n",
       " 'PoolArea',\n",
       " 'PoolQC',\n",
       " 'RoofMatl',\n",
       " 'RoofStyle',\n",
       " 'SaleCondition',\n",
       " 'SalePrice',\n",
       " 'SaleType',\n",
       " 'ScreenPorch',\n",
       " 'Street',\n",
       " 'TotRmsAbvGrd',\n",
       " 'TotalBsmtSF',\n",
       " 'Utilities',\n",
       " 'WoodDeckSF',\n",
       " 'YearBuilt',\n",
       " 'YearRemodAdd',\n",
       " 'YrSold']"
      ]
     },
     "execution_count": 11,
     "metadata": {},
     "output_type": "execute_result"
    }
   ],
   "source": [
    "sorted(list(df_train.columns))"
   ]
  },
  {
   "cell_type": "markdown",
   "id": "c1c69a18-6957-4bce-ab81-0b9fcc58bda9",
   "metadata": {},
   "source": [
    "## Numerical Variables"
   ]
  },
  {
   "cell_type": "code",
   "execution_count": 12,
   "id": "5a5ffb47-3208-4536-91f0-4d693fe41701",
   "metadata": {},
   "outputs": [
    {
     "data": {
      "text/plain": [
       "<AxesSubplot:xlabel='GrLivArea', ylabel='SalePrice'>"
      ]
     },
     "execution_count": 12,
     "metadata": {},
     "output_type": "execute_result"
    },
    {
     "data": {
      "image/png": "[encoded data removed]",
      "text/plain": [
       "<Figure size 432x288 with 1 Axes>"
      ]
     },
     "metadata": {
      "needs_background": "light"
     },
     "output_type": "display_data"
    }
   ],
   "source": [
    "# scatter plot grlivarea vs. SalePrice\n",
    "var = 'GrLivArea'\n",
    "data = df_train[['SalePrice',var]]\n",
    "data.plot.scatter(x=var, y='SalePrice', ylim=(0,800000))"
   ]
  },
  {
   "cell_type": "code",
   "execution_count": 13,
   "id": "7adb79c3-bac2-49a6-a405-a4e1b707bd09",
   "metadata": {},
   "outputs": [
    {
     "data": {
      "text/plain": [
       "<AxesSubplot:xlabel='TotalBsmtSF', ylabel='SalePrice'>"
      ]
     },
     "execution_count": 13,
     "metadata": {},
     "output_type": "execute_result"
    },
    {
     "data": {
      "image/png": "[encoded data removed]",
      "text/plain": [
       "<Figure size 432x288 with 1 Axes>"
      ]
     },
     "metadata": {
      "needs_background": "light"
     },
     "output_type": "display_data"
    }
   ],
   "source": [
    "var = 'TotalBsmtSF'\n",
    "data = df_train[['SalePrice', var]]\n",
    "data.plot.scatter(x=var, y='SalePrice', ylim=(0,800000))"
   ]
  },
  {
   "cell_type": "markdown",
   "id": "7e5ddbb0-87ae-444d-8d94-44bc5de61ee9",
   "metadata": {},
   "source": [
    "## Categorical Variables"
   ]
  },
  {
   "cell_type": "code",
   "execution_count": 14,
   "id": "347e2513-0db4-49cf-964b-8f7da893ddd9",
   "metadata": {},
   "outputs": [
    {
     "data": {
      "text/plain": [
       "(-0.5, 9.5, 0.0, 800000.0)"
      ]
     },
     "execution_count": 14,
     "metadata": {},
     "output_type": "execute_result"
    },
    {
     "data": {
      "image/png": "[encoded data removed]",
      "text/plain": [
       "<Figure size 576x432 with 1 Axes>"
      ]
     },
     "metadata": {
      "needs_background": "light"
     },
     "output_type": "display_data"
    }
   ],
   "source": [
    "var = 'OverallQual'\n",
    "data = df_train[['SalePrice',var]]\n",
    "f, ax = plt.subplots(figsize=(8, 6))\n",
    "fig = sns.boxplot(x=var, y=\"SalePrice\", data=data)\n",
    "fig.axis(ymin=0, ymax=800000)"
   ]
  },
  {
   "cell_type": "code",
   "execution_count": 15,
   "id": "630d1251-64ff-44f2-aabd-6b6df7258a0b",
   "metadata": {},
   "outputs": [
    {
     "data": {
      "text/plain": [
       "(array([ 0,  1,  2,  3,  4,  5,  6,  7,  8,  9, 10, 11, 12, 13, 14, 15, 16,\n",
       "        17, 18, 19, 20, 21, 22, 23, 24]),\n",
       " [Text(0, 0, 'CollgCr'),\n",
       "  Text(1, 0, 'Veenker'),\n",
       "  Text(2, 0, 'Crawfor'),\n",
       "  Text(3, 0, 'NoRidge'),\n",
       "  Text(4, 0, 'Mitchel'),\n",
       "  Text(5, 0, 'Somerst'),\n",
       "  Text(6, 0, 'NWAmes'),\n",
       "  Text(7, 0, 'OldTown'),\n",
       "  Text(8, 0, 'BrkSide'),\n",
       "  Text(9, 0, 'Sawyer'),\n",
       "  Text(10, 0, 'NridgHt'),\n",
       "  Text(11, 0, 'NAmes'),\n",
       "  Text(12, 0, 'SawyerW'),\n",
       "  Text(13, 0, 'IDOTRR'),\n",
       "  Text(14, 0, 'MeadowV'),\n",
       "  Text(15, 0, 'Edwards'),\n",
       "  Text(16, 0, 'Timber'),\n",
       "  Text(17, 0, 'Gilbert'),\n",
       "  Text(18, 0, 'StoneBr'),\n",
       "  Text(19, 0, 'ClearCr'),\n",
       "  Text(20, 0, 'NPkVill'),\n",
       "  Text(21, 0, 'Blmngtn'),\n",
       "  Text(22, 0, 'BrDale'),\n",
       "  Text(23, 0, 'SWISU'),\n",
       "  Text(24, 0, 'Blueste')])"
      ]
     },
     "execution_count": 15,
     "metadata": {},
     "output_type": "execute_result"
    },
    {
     "data": {
      "image/png": "[encoded data removed]",
      "text/plain": [
       "<Figure size 576x432 with 1 Axes>"
      ]
     },
     "metadata": {
      "needs_background": "light"
     },
     "output_type": "display_data"
    }
   ],
   "source": [
    "var = 'Neighborhood'\n",
    "data = df_train[['SalePrice',var]]\n",
    "f, ax = plt.subplots(figsize=(8, 6))\n",
    "fig = sns.boxplot(x=var, y=\"SalePrice\", data=data)\n",
    "fig.axis(ymin=0, ymax=800000)\n",
    "plt.xticks(rotation=90)"
   ]
  },
  {
   "cell_type": "code",
   "execution_count": 16,
   "id": "cf3df690-841d-4d9f-8b2c-ee02f5a5c774",
   "metadata": {},
   "outputs": [
    {
     "data": {
      "text/plain": [
       "(array([  0,   1,   2,   3,   4,   5,   6,   7,   8,   9,  10,  11,  12,\n",
       "         13,  14,  15,  16,  17,  18,  19,  20,  21,  22,  23,  24,  25,\n",
       "         26,  27,  28,  29,  30,  31,  32,  33,  34,  35,  36,  37,  38,\n",
       "         39,  40,  41,  42,  43,  44,  45,  46,  47,  48,  49,  50,  51,\n",
       "         52,  53,  54,  55,  56,  57,  58,  59,  60,  61,  62,  63,  64,\n",
       "         65,  66,  67,  68,  69,  70,  71,  72,  73,  74,  75,  76,  77,\n",
       "         78,  79,  80,  81,  82,  83,  84,  85,  86,  87,  88,  89,  90,\n",
       "         91,  92,  93,  94,  95,  96,  97,  98,  99, 100, 101, 102, 103,\n",
       "        104, 105, 106, 107, 108, 109, 110, 111]),\n",
       " [Text(0, 0, '1872'),\n",
       "  Text(1, 0, '1875'),\n",
       "  Text(2, 0, '1880'),\n",
       "  Text(3, 0, '1882'),\n",
       "  Text(4, 0, '1885'),\n",
       "  Text(5, 0, '1890'),\n",
       "  Text(6, 0, '1892'),\n",
       "  Text(7, 0, '1893'),\n",
       "  Text(8, 0, '1898'),\n",
       "  Text(9, 0, '1900'),\n",
       "  Text(10, 0, '1904'),\n",
       "  Text(11, 0, '1905'),\n",
       "  Text(12, 0, '1906'),\n",
       "  Text(13, 0, '1908'),\n",
       "  Text(14, 0, '1910'),\n",
       "  Text(15, 0, '1911'),\n",
       "  Text(16, 0, '1912'),\n",
       "  Text(17, 0, '1913'),\n",
       "  Text(18, 0, '1914'),\n",
       "  Text(19, 0, '1915'),\n",
       "  Text(20, 0, '1916'),\n",
       "  Text(21, 0, '1917'),\n",
       "  Text(22, 0, '1918'),\n",
       "  Text(23, 0, '1919'),\n",
       "  Text(24, 0, '1920'),\n",
       "  Text(25, 0, '1921'),\n",
       "  Text(26, 0, '1922'),\n",
       "  Text(27, 0, '1923'),\n",
       "  Text(28, 0, '1924'),\n",
       "  Text(29, 0, '1925'),\n",
       "  Text(30, 0, '1926'),\n",
       "  Text(31, 0, '1927'),\n",
       "  Text(32, 0, '1928'),\n",
       "  Text(33, 0, '1929'),\n",
       "  Text(34, 0, '1930'),\n",
       "  Text(35, 0, '1931'),\n",
       "  Text(36, 0, '1932'),\n",
       "  Text(37, 0, '1934'),\n",
       "  Text(38, 0, '1935'),\n",
       "  Text(39, 0, '1936'),\n",
       "  Text(40, 0, '1937'),\n",
       "  Text(41, 0, '1938'),\n",
       "  Text(42, 0, '1939'),\n",
       "  Text(43, 0, '1940'),\n",
       "  Text(44, 0, '1941'),\n",
       "  Text(45, 0, '1942'),\n",
       "  Text(46, 0, '1945'),\n",
       "  Text(47, 0, '1946'),\n",
       "  Text(48, 0, '1947'),\n",
       "  Text(49, 0, '1948'),\n",
       "  Text(50, 0, '1949'),\n",
       "  Text(51, 0, '1950'),\n",
       "  Text(52, 0, '1951'),\n",
       "  Text(53, 0, '1952'),\n",
       "  Text(54, 0, '1953'),\n",
       "  Text(55, 0, '1954'),\n",
       "  Text(56, 0, '1955'),\n",
       "  Text(57, 0, '1956'),\n",
       "  Text(58, 0, '1957'),\n",
       "  Text(59, 0, '1958'),\n",
       "  Text(60, 0, '1959'),\n",
       "  Text(61, 0, '1960'),\n",
       "  Text(62, 0, '1961'),\n",
       "  Text(63, 0, '1962'),\n",
       "  Text(64, 0, '1963'),\n",
       "  Text(65, 0, '1964'),\n",
       "  Text(66, 0, '1965'),\n",
       "  Text(67, 0, '1966'),\n",
       "  Text(68, 0, '1967'),\n",
       "  Text(69, 0, '1968'),\n",
       "  Text(70, 0, '1969'),\n",
       "  Text(71, 0, '1970'),\n",
       "  Text(72, 0, '1971'),\n",
       "  Text(73, 0, '1972'),\n",
       "  Text(74, 0, '1973'),\n",
       "  Text(75, 0, '1974'),\n",
       "  Text(76, 0, '1975'),\n",
       "  Text(77, 0, '1976'),\n",
       "  Text(78, 0, '1977'),\n",
       "  Text(79, 0, '1978'),\n",
       "  Text(80, 0, '1979'),\n",
       "  Text(81, 0, '1980'),\n",
       "  Text(82, 0, '1981'),\n",
       "  Text(83, 0, '1982'),\n",
       "  Text(84, 0, '1983'),\n",
       "  Text(85, 0, '1984'),\n",
       "  Text(86, 0, '1985'),\n",
       "  Text(87, 0, '1986'),\n",
       "  Text(88, 0, '1987'),\n",
       "  Text(89, 0, '1988'),\n",
       "  Text(90, 0, '1989'),\n",
       "  Text(91, 0, '1990'),\n",
       "  Text(92, 0, '1991'),\n",
       "  Text(93, 0, '1992'),\n",
       "  Text(94, 0, '1993'),\n",
       "  Text(95, 0, '1994'),\n",
       "  Text(96, 0, '1995'),\n",
       "  Text(97, 0, '1996'),\n",
       "  Text(98, 0, '1997'),\n",
       "  Text(99, 0, '1998'),\n",
       "  Text(100, 0, '1999'),\n",
       "  Text(101, 0, '2000'),\n",
       "  Text(102, 0, '2001'),\n",
       "  Text(103, 0, '2002'),\n",
       "  Text(104, 0, '2003'),\n",
       "  Text(105, 0, '2004'),\n",
       "  Text(106, 0, '2005'),\n",
       "  Text(107, 0, '2006'),\n",
       "  Text(108, 0, '2007'),\n",
       "  Text(109, 0, '2008'),\n",
       "  Text(110, 0, '2009'),\n",
       "  Text(111, 0, '2010')])"
      ]
     },
     "execution_count": 16,
     "metadata": {},
     "output_type": "execute_result"
    },
    {
     "data": {
      "image/png": "[encoded data removed]",
      "text/plain": [
       "<Figure size 1152x576 with 1 Axes>"
      ]
     },
     "metadata": {
      "needs_background": "light"
     },
     "output_type": "display_data"
    }
   ],
   "source": [
    "var = 'YearBuilt'\n",
    "data = df_train[['SalePrice',var]]\n",
    "f, ax = plt.subplots(figsize=(16, 8))\n",
    "fig = sns.boxplot(x=var, y=\"SalePrice\", data=data)\n",
    "fig.axis(ymin=0, ymax=800000)\n",
    "plt.xticks(rotation=90)"
   ]
  },
  {
   "cell_type": "markdown",
   "id": "7ea99042-0999-441a-9d9d-453e0e3cac5c",
   "metadata": {},
   "source": [
    "## Multivariate Analysis"
   ]
  },
  {
   "cell_type": "markdown",
   "id": "e47fd8c3-5e1f-45d7-89ea-69ff4c5b4d93",
   "metadata": {},
   "source": [
    "Correlation Matric between numeric attributes."
   ]
  },
  {
   "cell_type": "code",
   "execution_count": 17,
   "id": "0d81af6b-c2a5-4a30-8d71-213c715f0575",
   "metadata": {},
   "outputs": [
    {
     "data": {
      "text/plain": [
       "<AxesSubplot:>"
      ]
     },
     "execution_count": 17,
     "metadata": {},
     "output_type": "execute_result"
    },
    {
     "data": {
      "image/png": "[encoded data removed]",
      "text/plain": [
       "<Figure size 864x648 with 2 Axes>"
      ]
     },
     "metadata": {
      "needs_background": "light"
     },
     "output_type": "display_data"
    }
   ],
   "source": [
    "corrmat = df_train.corr()\n",
    "f, ax = plt.subplots(figsize=(12, 9))\n",
    "sns.heatmap(corrmat, vmax=.8, square=True,cmap=\"RdYlGn_r\")"
   ]
  },
  {
   "cell_type": "code",
   "execution_count": 18,
   "id": "9329e6be-e68e-45f3-be0f-12ce1fc20492",
   "metadata": {},
   "outputs": [
    {
     "data": {
      "image/png": "[encoded data removed]",
      "text/plain": [
       "<Figure size 720x720 with 2 Axes>"
      ]
     },
     "metadata": {
      "needs_background": "light"
     },
     "output_type": "display_data"
    }
   ],
   "source": [
    "# most correlated features with SalePrice\n",
    "corrmat = df_train.corr()\n",
    "top_corr_features = corrmat.index[abs(corrmat[\"SalePrice\"])>0.5]\n",
    "plt.figure(figsize=(10,10))\n",
    "g = sns.heatmap(df_train[top_corr_features].corr(),annot=True,cmap=\"RdYlGn_r\")"
   ]
  },
  {
   "cell_type": "markdown",
   "id": "f3405332-992a-4305-a10d-aec409719b59",
   "metadata": {},
   "source": [
    "## Outlier Detection"
   ]
  },
  {
   "cell_type": "code",
   "execution_count": 19,
   "id": "cfa1d973-268a-4d51-982a-16f671f987ea",
   "metadata": {},
   "outputs": [
    {
     "data": {
      "image/png": "[encoded data removed]",
      "text/plain": [
       "<Figure size 432x288 with 1 Axes>"
      ]
     },
     "metadata": {
      "needs_background": "light"
     },
     "output_type": "display_data"
    }
   ],
   "source": [
    "# delete outliers\n",
    "df_train = df_train.drop(df_train[(df_train['TotalBsmtSF']>5000) & (df_train['SalePrice']<300000)].index)\n",
    "\n",
    "# reset index\n",
    "df_train = df_train.reset_index(drop=True)\n",
    "\n",
    "# check the graphic again\n",
    "fig, ax = plt.subplots()\n",
    "ax.scatter(df_train['TotalBsmtSF'], df_train['SalePrice'])\n",
    "plt.ylabel('SalePrice', fontsize=13)\n",
    "plt.xlabel('TotalBsmtSF', fontsize=13)\n",
    "plt.show()"
   ]
  },
  {
   "cell_type": "code",
   "execution_count": 20,
   "id": "a185aa0c-66e4-46a3-9993-f3ac72e4173f",
   "metadata": {},
   "outputs": [
    {
     "data": {
      "image/png": "[encoded data removed]",
      "text/plain": [
       "<Figure size 432x288 with 1 Axes>"
      ]
     },
     "metadata": {
      "needs_background": "light"
     },
     "output_type": "display_data"
    }
   ],
   "source": [
    "# delete outliers\n",
    "df_train = df_train.drop(df_train[(df_train['TotalBsmtSF']>5000) & (df_train['SalePrice']<300000)].index)\n",
    "\n",
    "# reset index\n",
    "df_train = df_train.reset_index(drop=True)\n",
    "\n",
    "# check the graphic again\n",
    "fig, ax = plt.subplots()\n",
    "ax.scatter(df_train['TotalBsmtSF'], df_train['SalePrice'])\n",
    "plt.ylabel('SalePrice', fontsize=13)\n",
    "plt.xlabel('TotalBsmtSF', fontsize=13)\n",
    "plt.show()"
   ]
  },
  {
   "cell_type": "code",
   "execution_count": 21,
   "id": "0a501e84-a7c4-41bf-b3b2-9413c262146c",
   "metadata": {},
   "outputs": [
    {
     "data": {
      "image/png": "[encoded data removed]",
      "text/plain": [
       "<Figure size 432x288 with 1 Axes>"
      ]
     },
     "metadata": {
      "needs_background": "light"
     },
     "output_type": "display_data"
    }
   ],
   "source": [
    "# delete outliers\n",
    "df_train = df_train.drop(df_train[(df_train['TotalBsmtSF']>5000) & (df_train['SalePrice']<300000)].index)\n",
    "\n",
    "# reset index\n",
    "df_train = df_train.reset_index(drop=True)\n",
    "\n",
    "# check the graphic again\n",
    "fig, ax = plt.subplots()\n",
    "ax.scatter(df_train['TotalBsmtSF'], df_train['SalePrice'])\n",
    "plt.ylabel('SalePrice', fontsize=13)\n",
    "plt.xlabel('TotalBsmtSF', fontsize=13)\n",
    "plt.show()"
   ]
  },
  {
   "cell_type": "code",
   "execution_count": 22,
   "id": "7e24f10d-35a1-48d6-bd75-8041821cbd14",
   "metadata": {},
   "outputs": [
    {
     "data": {
      "image/png": "[encoded data removed]",
      "text/plain": [
       "<Figure size 432x288 with 1 Axes>"
      ]
     },
     "metadata": {
      "needs_background": "light"
     },
     "output_type": "display_data"
    }
   ],
   "source": [
    "fig, ax = plt.subplots()\n",
    "ax.scatter(x = df_train['GrLivArea'], y = df_train['SalePrice'])\n",
    "plt.ylabel('SalePrice', fontsize=13)\n",
    "plt.xlabel('GrLivArea', fontsize=13)\n",
    "plt.show()"
   ]
  },
  {
   "cell_type": "code",
   "execution_count": 23,
   "id": "219f83c6-913e-4451-845c-707da3db1403",
   "metadata": {},
   "outputs": [
    {
     "data": {
      "image/png": "[encoded data removed]",
      "text/plain": [
       "<Figure size 432x288 with 1 Axes>"
      ]
     },
     "metadata": {
      "needs_background": "light"
     },
     "output_type": "display_data"
    }
   ],
   "source": [
    "df_train = df_train.drop(df_train[(df_train['GrLivArea']>4000) & (df_train['SalePrice']<300000)].index)\n",
    "df_train = df_train.reset_index(drop=True)\n",
    "\n",
    "fig, ax = plt.subplots()\n",
    "ax.scatter(df_train['GrLivArea'], df_train['SalePrice'])\n",
    "plt.ylabel('SalePrice', fontsize=13)\n",
    "plt.xlabel('GrLivArea', fontsize=13)\n",
    "plt.show()"
   ]
  },
  {
   "cell_type": "markdown",
   "id": "1a1bc366-a0d8-478d-a9cc-eff6a5db1cdd",
   "metadata": {},
   "source": [
    "## Null Value Replacement"
   ]
  },
  {
   "cell_type": "code",
   "execution_count": 24,
   "id": "f508815c-33d5-46f8-85aa-55bd115a5486",
   "metadata": {},
   "outputs": [
    {
     "data": {
      "text/plain": [
       "MSSubClass       1458\n",
       "MSZoning         1458\n",
       "LotFrontage      1458\n",
       "LotArea          1458\n",
       "Street           1458\n",
       "                 ... \n",
       "MoSold           1458\n",
       "YrSold           1458\n",
       "SaleType         1458\n",
       "SaleCondition    1458\n",
       "SalePrice        1458\n",
       "Length: 80, dtype: int64"
      ]
     },
     "execution_count": 24,
     "metadata": {},
     "output_type": "execute_result"
    }
   ],
   "source": [
    "df_train.isnull().count()"
   ]
  },
  {
   "cell_type": "code",
   "execution_count": 25,
   "id": "0b1e760b-b851-445b-a2a9-716c0f4bdfa0",
   "metadata": {},
   "outputs": [
    {
     "data": {
      "text/html": [
       "<div>\n",
       "<style scoped>\n",
       "    .dataframe tbody tr th:only-of-type {\n",
       "        vertical-align: middle;\n",
       "    }\n",
       "\n",
       "    .dataframe tbody tr th {\n",
       "        vertical-align: top;\n",
       "    }\n",
       "\n",
       "    .dataframe thead th {\n",
       "        text-align: right;\n",
       "    }\n",
       "</style>\n",
       "<table border=\"1\" class=\"dataframe\">\n",
       "  <thead>\n",
       "    <tr style=\"text-align: right;\">\n",
       "      <th></th>\n",
       "      <th>Total</th>\n",
       "      <th>Percent</th>\n",
       "    </tr>\n",
       "  </thead>\n",
       "  <tbody>\n",
       "    <tr>\n",
       "      <th>PoolQC</th>\n",
       "      <td>1452</td>\n",
       "      <td>0.995885</td>\n",
       "    </tr>\n",
       "    <tr>\n",
       "      <th>MiscFeature</th>\n",
       "      <td>1404</td>\n",
       "      <td>0.962963</td>\n",
       "    </tr>\n",
       "    <tr>\n",
       "      <th>Alley</th>\n",
       "      <td>1367</td>\n",
       "      <td>0.937586</td>\n",
       "    </tr>\n",
       "    <tr>\n",
       "      <th>Fence</th>\n",
       "      <td>1177</td>\n",
       "      <td>0.807270</td>\n",
       "    </tr>\n",
       "    <tr>\n",
       "      <th>FireplaceQu</th>\n",
       "      <td>690</td>\n",
       "      <td>0.473251</td>\n",
       "    </tr>\n",
       "    <tr>\n",
       "      <th>LotFrontage</th>\n",
       "      <td>259</td>\n",
       "      <td>0.177641</td>\n",
       "    </tr>\n",
       "    <tr>\n",
       "      <th>GarageYrBlt</th>\n",
       "      <td>81</td>\n",
       "      <td>0.055556</td>\n",
       "    </tr>\n",
       "    <tr>\n",
       "      <th>GarageCond</th>\n",
       "      <td>81</td>\n",
       "      <td>0.055556</td>\n",
       "    </tr>\n",
       "    <tr>\n",
       "      <th>GarageType</th>\n",
       "      <td>81</td>\n",
       "      <td>0.055556</td>\n",
       "    </tr>\n",
       "    <tr>\n",
       "      <th>GarageFinish</th>\n",
       "      <td>81</td>\n",
       "      <td>0.055556</td>\n",
       "    </tr>\n",
       "    <tr>\n",
       "      <th>GarageQual</th>\n",
       "      <td>81</td>\n",
       "      <td>0.055556</td>\n",
       "    </tr>\n",
       "    <tr>\n",
       "      <th>BsmtExposure</th>\n",
       "      <td>38</td>\n",
       "      <td>0.026063</td>\n",
       "    </tr>\n",
       "    <tr>\n",
       "      <th>BsmtFinType2</th>\n",
       "      <td>38</td>\n",
       "      <td>0.026063</td>\n",
       "    </tr>\n",
       "    <tr>\n",
       "      <th>BsmtCond</th>\n",
       "      <td>37</td>\n",
       "      <td>0.025377</td>\n",
       "    </tr>\n",
       "    <tr>\n",
       "      <th>BsmtQual</th>\n",
       "      <td>37</td>\n",
       "      <td>0.025377</td>\n",
       "    </tr>\n",
       "    <tr>\n",
       "      <th>BsmtFinType1</th>\n",
       "      <td>37</td>\n",
       "      <td>0.025377</td>\n",
       "    </tr>\n",
       "    <tr>\n",
       "      <th>MasVnrArea</th>\n",
       "      <td>8</td>\n",
       "      <td>0.005487</td>\n",
       "    </tr>\n",
       "    <tr>\n",
       "      <th>MasVnrType</th>\n",
       "      <td>8</td>\n",
       "      <td>0.005487</td>\n",
       "    </tr>\n",
       "    <tr>\n",
       "      <th>Electrical</th>\n",
       "      <td>1</td>\n",
       "      <td>0.000686</td>\n",
       "    </tr>\n",
       "    <tr>\n",
       "      <th>MSSubClass</th>\n",
       "      <td>0</td>\n",
       "      <td>0.000000</td>\n",
       "    </tr>\n",
       "  </tbody>\n",
       "</table>\n",
       "</div>"
      ],
      "text/plain": [
       "              Total   Percent\n",
       "PoolQC         1452  0.995885\n",
       "MiscFeature    1404  0.962963\n",
       "Alley          1367  0.937586\n",
       "Fence          1177  0.807270\n",
       "FireplaceQu     690  0.473251\n",
       "LotFrontage     259  0.177641\n",
       "GarageYrBlt      81  0.055556\n",
       "GarageCond       81  0.055556\n",
       "GarageType       81  0.055556\n",
       "GarageFinish     81  0.055556\n",
       "GarageQual       81  0.055556\n",
       "BsmtExposure     38  0.026063\n",
       "BsmtFinType2     38  0.026063\n",
       "BsmtCond         37  0.025377\n",
       "BsmtQual         37  0.025377\n",
       "BsmtFinType1     37  0.025377\n",
       "MasVnrArea        8  0.005487\n",
       "MasVnrType        8  0.005487\n",
       "Electrical        1  0.000686\n",
       "MSSubClass        0  0.000000"
      ]
     },
     "execution_count": 25,
     "metadata": {},
     "output_type": "execute_result"
    }
   ],
   "source": [
    "# missing data\n",
    "total = df_train.isnull().sum().sort_values(ascending=False)\n",
    "percent = (df_train.isnull().sum()/df_train.isnull().count()).sort_values(ascending=False)\n",
    "missing_data = pd.concat([total, percent], axis=1, keys=['Total', 'Percent'])\n",
    "missing_data.head(20)"
   ]
  },
  {
   "cell_type": "code",
   "execution_count": 26,
   "id": "490a9e34-0b06-40b4-a4a0-8a846b6949bb",
   "metadata": {},
   "outputs": [
    {
     "data": {
      "text/plain": [
       "['PoolQC', 'MiscFeature', 'Alley', 'Fence', 'FireplaceQu']"
      ]
     },
     "execution_count": 26,
     "metadata": {},
     "output_type": "execute_result"
    }
   ],
   "source": [
    "missing_data.head(5).index.to_list()"
   ]
  },
  {
   "cell_type": "code",
   "execution_count": 27,
   "id": "91e94dde-e652-4c50-a6a8-5ea48e7763c8",
   "metadata": {},
   "outputs": [],
   "source": [
    "# drop 5 columns with the biggest ratio of null values\n",
    "to_drop = missing_data.head(5).index.tolist()\n",
    "df_train.drop(to_drop, axis=1, inplace=True)"
   ]
  },
  {
   "cell_type": "code",
   "execution_count": 28,
   "id": "18070a5e-0b01-4acf-8beb-ed6cbec74404",
   "metadata": {},
   "outputs": [
    {
     "data": {
      "text/plain": [
       "GarageCond       object\n",
       "GarageYrBlt     float64\n",
       "BsmtFinType2     object\n",
       "MasVnrType       object\n",
       "Electrical       object\n",
       "GarageType       object\n",
       "GarageQual       object\n",
       "BsmtFinType1     object\n",
       "BsmtQual         object\n",
       "BsmtCond         object\n",
       "MasVnrArea      float64\n",
       "LotFrontage     float64\n",
       "BsmtExposure     object\n",
       "GarageFinish     object\n",
       "dtype: object"
      ]
     },
     "execution_count": 28,
     "metadata": {},
     "output_type": "execute_result"
    }
   ],
   "source": [
    "# extract the names of columns with missing values\n",
    "cols_with_missing = missing_data[missing_data.Percent > 0].index.tolist()\n",
    "# remove column names that are already removed from dataset\n",
    "missing_cols = list(set(cols_with_missing) - set(to_drop))\n",
    "# check the datatype\n",
    "df_train.dtypes[missing_cols]"
   ]
  },
  {
   "cell_type": "markdown",
   "id": "b41c673f-8245-492c-824c-d93464640dfb",
   "metadata": {},
   "source": [
    "## Numeric Variables"
   ]
  },
  {
   "cell_type": "code",
   "execution_count": 29,
   "id": "ba71daf1-ec52-4149-90a2-02c6acf4024e",
   "metadata": {},
   "outputs": [
    {
     "data": {
      "text/plain": [
       "['GarageYrBlt', 'MasVnrArea', 'LotFrontage']"
      ]
     },
     "execution_count": 29,
     "metadata": {},
     "output_type": "execute_result"
    }
   ],
   "source": [
    "num_cols_with_missing = df_train.dtypes[missing_cols][df_train.dtypes[missing_cols] == 'float'].index.tolist()\n",
    "num_cols_with_missing"
   ]
  },
  {
   "cell_type": "code",
   "execution_count": 30,
   "id": "f9c4fa14-cf8c-4a61-93a9-973772a5ecf1",
   "metadata": {},
   "outputs": [],
   "source": [
    "# create new variable with the information that it was missing\n",
    "for cl in num_cols_with_missing:\n",
    "    df_train[cl + \"_missing_ind\"] = 0\n",
    "    df_train.loc[df_train[cl].isnull(), cl + \"_missing_ind\"] = 1"
   ]
  },
  {
   "cell_type": "code",
   "execution_count": 31,
   "id": "9ccc8d6f-2b5d-4ea4-952d-772f81dede4d",
   "metadata": {},
   "outputs": [],
   "source": [
    "df_train[\"LotFrontage\"] = df_train[\"LotFrontage\"].fillna(df_train[\"LotFrontage\"].mean())\n",
    "df_train[\"GarageYrBlt\"] = df_train[\"GarageYrBlt\"].fillna(df_train[\"GarageYrBlt\"].min())\n",
    "df_train[\"MasVnrArea\"] = df_train[\"MasVnrArea\"].fillna(0)"
   ]
  },
  {
   "cell_type": "markdown",
   "id": "237da47f-5360-4652-9177-2c64fad24e2b",
   "metadata": {},
   "source": [
    "## Object (String) Variables"
   ]
  },
  {
   "cell_type": "code",
   "execution_count": 32,
   "id": "9e4cc971-34ea-4987-b141-a9be1a63fa2f",
   "metadata": {},
   "outputs": [
    {
     "data": {
      "text/plain": [
       "GarageCond      object\n",
       "BsmtFinType2    object\n",
       "MasVnrType      object\n",
       "Electrical      object\n",
       "GarageType      object\n",
       "GarageQual      object\n",
       "BsmtFinType1    object\n",
       "BsmtQual        object\n",
       "BsmtCond        object\n",
       "BsmtExposure    object\n",
       "GarageFinish    object\n",
       "dtype: object"
      ]
     },
     "execution_count": 32,
     "metadata": {},
     "output_type": "execute_result"
    }
   ],
   "source": [
    "# 2. for categorical variables:\n",
    "missing_objects = df_train.dtypes[missing_cols][df_train.dtypes[missing_cols] == 'object']\n",
    "missing_objects"
   ]
  },
  {
   "cell_type": "code",
   "execution_count": 33,
   "id": "4bebdb0a-7728-4585-b450-ced4968dfdf6",
   "metadata": {},
   "outputs": [],
   "source": [
    "cat_cols_with_missing = missing_objects.index.tolist()"
   ]
  },
  {
   "cell_type": "markdown",
   "id": "94ed00f9-c5f4-42c7-864d-47676fe6bdd0",
   "metadata": {},
   "source": [
    "With the help o the data documentation we have, we can figure out that the missing values in `Garage` and `Basement` variabels mean no garage and no basement respectively. Therefore, we will replace the missing values with `None`."
   ]
  },
  {
   "cell_type": "code",
   "execution_count": 34,
   "id": "ab1e316c-ddd5-4839-bab4-46c0ac46edbf",
   "metadata": {},
   "outputs": [],
   "source": [
    "# GarageFinish : data description says NA means \"no garage\"\n",
    "df_train[\"GarageFinish\"] = df_train[\"GarageFinish\"].fillna(\"None\")\n",
    "# GarageCond : data description says NA means \"no garage\"\n",
    "df_train[\"GarageCond\"] = df_train[\"GarageCond\"].fillna(\"None\")\n",
    "# GarageQual : data description says NA means \"no garage\"\n",
    "df_train[\"GarageQual\"] = df_train[\"GarageQual\"].fillna(\"None\")\n",
    "# GarageType : data description says NA means \"no garage\"\n",
    "df_train[\"GarageType\"] = df_train[\"GarageType\"].fillna(\"None\")\n",
    "\n",
    "# BsmtExposure : data description says NA means \"no basement\"\n",
    "df_train[\"BsmtExposure\"] = df_train[\"BsmtExposure\"].fillna(\"None\")\n",
    "# BsmtFinType2 : data description says NA means \"no basement\"\n",
    "df_train[\"BsmtFinType2\"] = df_train[\"BsmtFinType2\"].fillna(\"None\")\n",
    "# BsmtFinType1 : data description says NA means \"no basement\"\n",
    "df_train[\"BsmtFinType1\"] = df_train[\"BsmtFinType1\"].fillna(\"None\")\n",
    "# BsmtCond : data description says NA means \"no basement\"\n",
    "df_train[\"BsmtCond\"] = df_train[\"BsmtCond\"].fillna(\"None\")\n",
    "# BsmtQual : data description says NA means \"no basement\"\n",
    "df_train[\"BsmtQual\"] = df_train[\"BsmtQual\"].fillna(\"None\")"
   ]
  },
  {
   "cell_type": "markdown",
   "id": "8509f96f-0d40-4120-ac04-171675863266",
   "metadata": {},
   "source": [
    "The information about `Electrical` and `MasVnrType` is missing in the documentation. Since we are dealing with categorical variabels , we will create a new category for a missing value."
   ]
  },
  {
   "cell_type": "code",
   "execution_count": 35,
   "id": "53e84391-2f91-45b0-89ea-70f00594787b",
   "metadata": {},
   "outputs": [],
   "source": [
    "df_train[\"Electrical\"] = df_train[\"Electrical\"].fillna(\"Empty\")\n",
    "df_train[\"MasVnrType\"] = df_train[\"MasVnrType\"].fillna(\"Empty\")"
   ]
  },
  {
   "cell_type": "markdown",
   "id": "3bfbe808-0dd7-4d0b-946c-79795afada26",
   "metadata": {},
   "source": [
    "Finally, we can run the missing values check once more to see if we have filled in all the data."
   ]
  },
  {
   "cell_type": "code",
   "execution_count": 36,
   "id": "52dc00bd-09a6-465d-9014-8977f8f52f63",
   "metadata": {},
   "outputs": [
    {
     "data": {
      "text/html": [
       "<div>\n",
       "<style scoped>\n",
       "    .dataframe tbody tr th:only-of-type {\n",
       "        vertical-align: middle;\n",
       "    }\n",
       "\n",
       "    .dataframe tbody tr th {\n",
       "        vertical-align: top;\n",
       "    }\n",
       "\n",
       "    .dataframe thead th {\n",
       "        text-align: right;\n",
       "    }\n",
       "</style>\n",
       "<table border=\"1\" class=\"dataframe\">\n",
       "  <thead>\n",
       "    <tr style=\"text-align: right;\">\n",
       "      <th></th>\n",
       "      <th>MSSubClass</th>\n",
       "      <th>MSZoning</th>\n",
       "      <th>LotFrontage</th>\n",
       "      <th>LotArea</th>\n",
       "      <th>Street</th>\n",
       "      <th>LotShape</th>\n",
       "      <th>LandContour</th>\n",
       "      <th>Utilities</th>\n",
       "      <th>LotConfig</th>\n",
       "      <th>LandSlope</th>\n",
       "      <th>...</th>\n",
       "      <th>PoolArea</th>\n",
       "      <th>MiscVal</th>\n",
       "      <th>MoSold</th>\n",
       "      <th>YrSold</th>\n",
       "      <th>SaleType</th>\n",
       "      <th>SaleCondition</th>\n",
       "      <th>SalePrice</th>\n",
       "      <th>GarageYrBlt_missing_ind</th>\n",
       "      <th>MasVnrArea_missing_ind</th>\n",
       "      <th>LotFrontage_missing_ind</th>\n",
       "    </tr>\n",
       "  </thead>\n",
       "  <tbody>\n",
       "    <tr>\n",
       "      <th>0</th>\n",
       "      <td>60</td>\n",
       "      <td>RL</td>\n",
       "      <td>65.0</td>\n",
       "      <td>8450</td>\n",
       "      <td>Pave</td>\n",
       "      <td>Reg</td>\n",
       "      <td>Lvl</td>\n",
       "      <td>AllPub</td>\n",
       "      <td>Inside</td>\n",
       "      <td>Gtl</td>\n",
       "      <td>...</td>\n",
       "      <td>0</td>\n",
       "      <td>0</td>\n",
       "      <td>2</td>\n",
       "      <td>2008</td>\n",
       "      <td>WD</td>\n",
       "      <td>Normal</td>\n",
       "      <td>208500</td>\n",
       "      <td>0</td>\n",
       "      <td>0</td>\n",
       "      <td>0</td>\n",
       "    </tr>\n",
       "    <tr>\n",
       "      <th>1</th>\n",
       "      <td>20</td>\n",
       "      <td>RL</td>\n",
       "      <td>80.0</td>\n",
       "      <td>9600</td>\n",
       "      <td>Pave</td>\n",
       "      <td>Reg</td>\n",
       "      <td>Lvl</td>\n",
       "      <td>AllPub</td>\n",
       "      <td>FR2</td>\n",
       "      <td>Gtl</td>\n",
       "      <td>...</td>\n",
       "      <td>0</td>\n",
       "      <td>0</td>\n",
       "      <td>5</td>\n",
       "      <td>2007</td>\n",
       "      <td>WD</td>\n",
       "      <td>Normal</td>\n",
       "      <td>181500</td>\n",
       "      <td>0</td>\n",
       "      <td>0</td>\n",
       "      <td>0</td>\n",
       "    </tr>\n",
       "    <tr>\n",
       "      <th>2</th>\n",
       "      <td>60</td>\n",
       "      <td>RL</td>\n",
       "      <td>68.0</td>\n",
       "      <td>11250</td>\n",
       "      <td>Pave</td>\n",
       "      <td>IR1</td>\n",
       "      <td>Lvl</td>\n",
       "      <td>AllPub</td>\n",
       "      <td>Inside</td>\n",
       "      <td>Gtl</td>\n",
       "      <td>...</td>\n",
       "      <td>0</td>\n",
       "      <td>0</td>\n",
       "      <td>9</td>\n",
       "      <td>2008</td>\n",
       "      <td>WD</td>\n",
       "      <td>Normal</td>\n",
       "      <td>223500</td>\n",
       "      <td>0</td>\n",
       "      <td>0</td>\n",
       "      <td>0</td>\n",
       "    </tr>\n",
       "    <tr>\n",
       "      <th>3</th>\n",
       "      <td>70</td>\n",
       "      <td>RL</td>\n",
       "      <td>60.0</td>\n",
       "      <td>9550</td>\n",
       "      <td>Pave</td>\n",
       "      <td>IR1</td>\n",
       "      <td>Lvl</td>\n",
       "      <td>AllPub</td>\n",
       "      <td>Corner</td>\n",
       "      <td>Gtl</td>\n",
       "      <td>...</td>\n",
       "      <td>0</td>\n",
       "      <td>0</td>\n",
       "      <td>2</td>\n",
       "      <td>2006</td>\n",
       "      <td>WD</td>\n",
       "      <td>Abnorml</td>\n",
       "      <td>140000</td>\n",
       "      <td>0</td>\n",
       "      <td>0</td>\n",
       "      <td>0</td>\n",
       "    </tr>\n",
       "    <tr>\n",
       "      <th>4</th>\n",
       "      <td>60</td>\n",
       "      <td>RL</td>\n",
       "      <td>84.0</td>\n",
       "      <td>14260</td>\n",
       "      <td>Pave</td>\n",
       "      <td>IR1</td>\n",
       "      <td>Lvl</td>\n",
       "      <td>AllPub</td>\n",
       "      <td>FR2</td>\n",
       "      <td>Gtl</td>\n",
       "      <td>...</td>\n",
       "      <td>0</td>\n",
       "      <td>0</td>\n",
       "      <td>12</td>\n",
       "      <td>2008</td>\n",
       "      <td>WD</td>\n",
       "      <td>Normal</td>\n",
       "      <td>250000</td>\n",
       "      <td>0</td>\n",
       "      <td>0</td>\n",
       "      <td>0</td>\n",
       "    </tr>\n",
       "    <tr>\n",
       "      <th>...</th>\n",
       "      <td>...</td>\n",
       "      <td>...</td>\n",
       "      <td>...</td>\n",
       "      <td>...</td>\n",
       "      <td>...</td>\n",
       "      <td>...</td>\n",
       "      <td>...</td>\n",
       "      <td>...</td>\n",
       "      <td>...</td>\n",
       "      <td>...</td>\n",
       "      <td>...</td>\n",
       "      <td>...</td>\n",
       "      <td>...</td>\n",
       "      <td>...</td>\n",
       "      <td>...</td>\n",
       "      <td>...</td>\n",
       "      <td>...</td>\n",
       "      <td>...</td>\n",
       "      <td>...</td>\n",
       "      <td>...</td>\n",
       "      <td>...</td>\n",
       "    </tr>\n",
       "    <tr>\n",
       "      <th>1453</th>\n",
       "      <td>60</td>\n",
       "      <td>RL</td>\n",
       "      <td>62.0</td>\n",
       "      <td>7917</td>\n",
       "      <td>Pave</td>\n",
       "      <td>Reg</td>\n",
       "      <td>Lvl</td>\n",
       "      <td>AllPub</td>\n",
       "      <td>Inside</td>\n",
       "      <td>Gtl</td>\n",
       "      <td>...</td>\n",
       "      <td>0</td>\n",
       "      <td>0</td>\n",
       "      <td>8</td>\n",
       "      <td>2007</td>\n",
       "      <td>WD</td>\n",
       "      <td>Normal</td>\n",
       "      <td>175000</td>\n",
       "      <td>0</td>\n",
       "      <td>0</td>\n",
       "      <td>0</td>\n",
       "    </tr>\n",
       "    <tr>\n",
       "      <th>1454</th>\n",
       "      <td>20</td>\n",
       "      <td>RL</td>\n",
       "      <td>85.0</td>\n",
       "      <td>13175</td>\n",
       "      <td>Pave</td>\n",
       "      <td>Reg</td>\n",
       "      <td>Lvl</td>\n",
       "      <td>AllPub</td>\n",
       "      <td>Inside</td>\n",
       "      <td>Gtl</td>\n",
       "      <td>...</td>\n",
       "      <td>0</td>\n",
       "      <td>0</td>\n",
       "      <td>2</td>\n",
       "      <td>2010</td>\n",
       "      <td>WD</td>\n",
       "      <td>Normal</td>\n",
       "      <td>210000</td>\n",
       "      <td>0</td>\n",
       "      <td>0</td>\n",
       "      <td>0</td>\n",
       "    </tr>\n",
       "    <tr>\n",
       "      <th>1455</th>\n",
       "      <td>70</td>\n",
       "      <td>RL</td>\n",
       "      <td>66.0</td>\n",
       "      <td>9042</td>\n",
       "      <td>Pave</td>\n",
       "      <td>Reg</td>\n",
       "      <td>Lvl</td>\n",
       "      <td>AllPub</td>\n",
       "      <td>Inside</td>\n",
       "      <td>Gtl</td>\n",
       "      <td>...</td>\n",
       "      <td>0</td>\n",
       "      <td>2500</td>\n",
       "      <td>5</td>\n",
       "      <td>2010</td>\n",
       "      <td>WD</td>\n",
       "      <td>Normal</td>\n",
       "      <td>266500</td>\n",
       "      <td>0</td>\n",
       "      <td>0</td>\n",
       "      <td>0</td>\n",
       "    </tr>\n",
       "    <tr>\n",
       "      <th>1456</th>\n",
       "      <td>20</td>\n",
       "      <td>RL</td>\n",
       "      <td>68.0</td>\n",
       "      <td>9717</td>\n",
       "      <td>Pave</td>\n",
       "      <td>Reg</td>\n",
       "      <td>Lvl</td>\n",
       "      <td>AllPub</td>\n",
       "      <td>Inside</td>\n",
       "      <td>Gtl</td>\n",
       "      <td>...</td>\n",
       "      <td>0</td>\n",
       "      <td>0</td>\n",
       "      <td>4</td>\n",
       "      <td>2010</td>\n",
       "      <td>WD</td>\n",
       "      <td>Normal</td>\n",
       "      <td>142125</td>\n",
       "      <td>0</td>\n",
       "      <td>0</td>\n",
       "      <td>0</td>\n",
       "    </tr>\n",
       "    <tr>\n",
       "      <th>1457</th>\n",
       "      <td>20</td>\n",
       "      <td>RL</td>\n",
       "      <td>75.0</td>\n",
       "      <td>9937</td>\n",
       "      <td>Pave</td>\n",
       "      <td>Reg</td>\n",
       "      <td>Lvl</td>\n",
       "      <td>AllPub</td>\n",
       "      <td>Inside</td>\n",
       "      <td>Gtl</td>\n",
       "      <td>...</td>\n",
       "      <td>0</td>\n",
       "      <td>0</td>\n",
       "      <td>6</td>\n",
       "      <td>2008</td>\n",
       "      <td>WD</td>\n",
       "      <td>Normal</td>\n",
       "      <td>147500</td>\n",
       "      <td>0</td>\n",
       "      <td>0</td>\n",
       "      <td>0</td>\n",
       "    </tr>\n",
       "  </tbody>\n",
       "</table>\n",
       "<p>1458 rows × 78 columns</p>\n",
       "</div>"
      ],
      "text/plain": [
       "      MSSubClass MSZoning  LotFrontage  LotArea Street LotShape LandContour  \\\n",
       "0             60       RL         65.0     8450   Pave      Reg         Lvl   \n",
       "1             20       RL         80.0     9600   Pave      Reg         Lvl   \n",
       "2             60       RL         68.0    11250   Pave      IR1         Lvl   \n",
       "3             70       RL         60.0     9550   Pave      IR1         Lvl   \n",
       "4             60       RL         84.0    14260   Pave      IR1         Lvl   \n",
       "...          ...      ...          ...      ...    ...      ...         ...   \n",
       "1453          60       RL         62.0     7917   Pave      Reg         Lvl   \n",
       "1454          20       RL         85.0    13175   Pave      Reg         Lvl   \n",
       "1455          70       RL         66.0     9042   Pave      Reg         Lvl   \n",
       "1456          20       RL         68.0     9717   Pave      Reg         Lvl   \n",
       "1457          20       RL         75.0     9937   Pave      Reg         Lvl   \n",
       "\n",
       "     Utilities LotConfig LandSlope  ... PoolArea MiscVal MoSold YrSold  \\\n",
       "0       AllPub    Inside       Gtl  ...        0       0      2   2008   \n",
       "1       AllPub       FR2       Gtl  ...        0       0      5   2007   \n",
       "2       AllPub    Inside       Gtl  ...        0       0      9   2008   \n",
       "3       AllPub    Corner       Gtl  ...        0       0      2   2006   \n",
       "4       AllPub       FR2       Gtl  ...        0       0     12   2008   \n",
       "...        ...       ...       ...  ...      ...     ...    ...    ...   \n",
       "1453    AllPub    Inside       Gtl  ...        0       0      8   2007   \n",
       "1454    AllPub    Inside       Gtl  ...        0       0      2   2010   \n",
       "1455    AllPub    Inside       Gtl  ...        0    2500      5   2010   \n",
       "1456    AllPub    Inside       Gtl  ...        0       0      4   2010   \n",
       "1457    AllPub    Inside       Gtl  ...        0       0      6   2008   \n",
       "\n",
       "     SaleType  SaleCondition  SalePrice  GarageYrBlt_missing_ind  \\\n",
       "0          WD         Normal     208500                        0   \n",
       "1          WD         Normal     181500                        0   \n",
       "2          WD         Normal     223500                        0   \n",
       "3          WD        Abnorml     140000                        0   \n",
       "4          WD         Normal     250000                        0   \n",
       "...       ...            ...        ...                      ...   \n",
       "1453       WD         Normal     175000                        0   \n",
       "1454       WD         Normal     210000                        0   \n",
       "1455       WD         Normal     266500                        0   \n",
       "1456       WD         Normal     142125                        0   \n",
       "1457       WD         Normal     147500                        0   \n",
       "\n",
       "      MasVnrArea_missing_ind LotFrontage_missing_ind  \n",
       "0                          0                       0  \n",
       "1                          0                       0  \n",
       "2                          0                       0  \n",
       "3                          0                       0  \n",
       "4                          0                       0  \n",
       "...                      ...                     ...  \n",
       "1453                       0                       0  \n",
       "1454                       0                       0  \n",
       "1455                       0                       0  \n",
       "1456                       0                       0  \n",
       "1457                       0                       0  \n",
       "\n",
       "[1458 rows x 78 columns]"
      ]
     },
     "execution_count": 36,
     "metadata": {},
     "output_type": "execute_result"
    }
   ],
   "source": [
    "df_train"
   ]
  },
  {
   "cell_type": "code",
   "execution_count": 37,
   "id": "f02b1c41-169a-4340-92b5-68ff78a49438",
   "metadata": {},
   "outputs": [
    {
     "data": {
      "text/plain": [
       "MSSubClass                 0\n",
       "MSZoning                   0\n",
       "LotFrontage                0\n",
       "LotArea                    0\n",
       "Street                     0\n",
       "                          ..\n",
       "SaleCondition              0\n",
       "SalePrice                  0\n",
       "GarageYrBlt_missing_ind    0\n",
       "MasVnrArea_missing_ind     0\n",
       "LotFrontage_missing_ind    0\n",
       "Length: 78, dtype: int64"
      ]
     },
     "execution_count": 37,
     "metadata": {},
     "output_type": "execute_result"
    }
   ],
   "source": [
    "df_train.isnull().sum()"
   ]
  },
  {
   "cell_type": "markdown",
   "id": "7d916312-bcd2-4084-8240-ea496ad70fcf",
   "metadata": {},
   "source": [
    "## Value Transformation"
   ]
  },
  {
   "cell_type": "code",
   "execution_count": 38,
   "id": "887ce287-13b8-4d60-bbce-1460a1cb967a",
   "metadata": {},
   "outputs": [],
   "source": [
    "num_feats = df_train.dtypes[df_train.dtypes != 'object'].index.tolist()"
   ]
  },
  {
   "cell_type": "markdown",
   "id": "c3af4ccc-5008-44a1-9f46-5ac222e534df",
   "metadata": {},
   "source": [
    "### Numeric Variables"
   ]
  },
  {
   "cell_type": "code",
   "execution_count": 39,
   "id": "c5fb57fa-7c32-4b45-93da-5cd474ea887d",
   "metadata": {},
   "outputs": [
    {
     "data": {
      "text/plain": [
       "<AxesSubplot:xlabel='1stFlrSF', ylabel='Count'>"
      ]
     },
     "execution_count": 39,
     "metadata": {},
     "output_type": "execute_result"
    },
    {
     "data": {
      "image/png": "[encoded data removed]",
      "text/plain": [
       "<Figure size 432x288 with 1 Axes>"
      ]
     },
     "metadata": {
      "needs_background": "light"
     },
     "output_type": "display_data"
    }
   ],
   "source": [
    "sns.histplot(df_train[\"1stFlrSF\"])"
   ]
  },
  {
   "cell_type": "code",
   "execution_count": 40,
   "id": "e15b35fb-e0b0-47ee-a2f7-cd9c6ebd3f2d",
   "metadata": {},
   "outputs": [
    {
     "data": {
      "text/plain": [
       "<AxesSubplot:xlabel='1stFlrSF_log', ylabel='Count'>"
      ]
     },
     "execution_count": 40,
     "metadata": {},
     "output_type": "execute_result"
    },
    {
     "data": {
      "image/png": "[encoded data removed]",
      "text/plain": [
       "<Figure size 432x288 with 1 Axes>"
      ]
     },
     "metadata": {
      "needs_background": "light"
     },
     "output_type": "display_data"
    }
   ],
   "source": [
    "# log transformation\n",
    "df_train[\"1stFlrSF_log\"] = df_train[\"1stFlrSF\"].apply(np.log)\n",
    "sns.histplot(df_train[\"1stFlrSF_log\"])"
   ]
  },
  {
   "cell_type": "code",
   "execution_count": 41,
   "id": "5a4efb7f-1893-4b06-a9af-4a900ab36f03",
   "metadata": {},
   "outputs": [],
   "source": [
    "# Scaling\n",
    "from sklearn.preprocessing import StandardScaler\n",
    "# \n",
    "scaler = StandardScaler()\n",
    "df_train_scaled = pd.DataFrame(scaler.fit_transform(df_train[num_feats+[\"1stFlrSF_log\"]].astype(float)))"
   ]
  },
  {
   "cell_type": "code",
   "execution_count": 42,
   "id": "06441eaf-9f0c-465d-9826-b91f7aa4f787",
   "metadata": {},
   "outputs": [
    {
     "name": "stdout",
     "output_type": "stream",
     "text": [
      "RangeIndex(start=0, stop=41, step=1)\n"
     ]
    }
   ],
   "source": [
    "print(df_train_scaled.columns)"
   ]
  },
  {
   "cell_type": "code",
   "execution_count": 43,
   "id": "165765d5-a03f-4a2b-aecd-b51bdc8ca0c7",
   "metadata": {},
   "outputs": [
    {
     "name": "stdout",
     "output_type": "stream",
     "text": [
      "Index(['MSSubClass', 'LotFrontage', 'LotArea', 'OverallQual', 'OverallCond',\n",
      "       'YearBuilt', 'YearRemodAdd', 'MasVnrArea', 'BsmtFinSF1', 'BsmtFinSF2',\n",
      "       'BsmtUnfSF', 'TotalBsmtSF', '1stFlrSF', '2ndFlrSF', 'LowQualFinSF',\n",
      "       'GrLivArea', 'BsmtFullBath', 'BsmtHalfBath', 'FullBath', 'HalfBath',\n",
      "       'BedroomAbvGr', 'KitchenAbvGr', 'TotRmsAbvGrd', 'Fireplaces',\n",
      "       'GarageYrBlt', 'GarageCars', 'GarageArea', 'WoodDeckSF', 'OpenPorchSF',\n",
      "       'EnclosedPorch', '3SsnPorch', 'ScreenPorch', 'PoolArea', 'MiscVal',\n",
      "       'MoSold', 'YrSold', 'SalePrice', 'GarageYrBlt_missing_ind',\n",
      "       'MasVnrArea_missing_ind', 'LotFrontage_missing_ind', '1stFlrSF_log'],\n",
      "      dtype='object')\n"
     ]
    }
   ],
   "source": [
    "df_train_scaled.columns = num_feats+[\"1stFlrSF_log\"]\n",
    "print(df_train_scaled.columns)"
   ]
  },
  {
   "cell_type": "markdown",
   "id": "0a245472-246e-49d8-8c7b-dd93f0be9bf0",
   "metadata": {},
   "source": [
    "### String Variables"
   ]
  },
  {
   "cell_type": "code",
   "execution_count": 44,
   "id": "1e8976c0-2676-4e38-8249-b59b72e170fe",
   "metadata": {},
   "outputs": [],
   "source": [
    "# lets map ORDINAL features\n",
    "df_train = df_train.replace({\"Alley\" : {\"Grvl\" : 1, \"Pave\" : 2},\n",
    "                           \"BsmtCond\" : {\"None\" : 0, \"Po\" : 1, \"Fa\" : 2, \"TA\" : 3, \"Gd\" : 4, \"Ex\" : 5},\n",
    "                           \"BsmtExposure\" : {\"No\" : 0, \"Mn\" : 1, \"Av\": 2, \"Gd\" : 3},\n",
    "                           \"BsmtFinType1\" : {\"None\" : 0, \"Unf\" : 1, \"LwQ\": 2, \"Rec\" : 3, \"BLQ\" : 4,\n",
    "                                             \"ALQ\" : 5, \"GLQ\" : 6},\n",
    "                           \"BsmtFinType2\" : {\"None\" : 0, \"Unf\" : 1, \"LwQ\": 2, \"Rec\" : 3, \"BLQ\" : 4,\n",
    "                                             \"ALQ\" : 5, \"GLQ\" : 6},\n",
    "                           \"BsmtQual\" : {\"None\" : 0, \"Po\" : 1, \"Fa\" : 2, \"TA\": 3, \"Gd\" : 4, \"Ex\" : 5},\n",
    "                           \"ExterCond\" : {\"Po\" : 1, \"Fa\" : 2, \"TA\": 3, \"Gd\": 4, \"Ex\" : 5},\n",
    "                           \"ExterQual\" : {\"Po\" : 1, \"Fa\" : 2, \"TA\": 3, \"Gd\": 4, \"Ex\" : 5},\n",
    "                           \"FireplaceQu\" : {\"No\" : 0, \"Po\" : 1, \"Fa\" : 2, \"TA\" : 3, \"Gd\" : 4, \"Ex\" : 5},\n",
    "                           \"Functional\" : {\"Sal\" : 1, \"Sev\" : 2, \"Maj2\" : 3, \"Maj1\" : 4, \"Mod\": 5,\n",
    "                                           \"Min2\" : 6, \"Min1\" : 7, \"Typ\" : 8},\n",
    "                           \"GarageCond\" : {\"None\" : 0, \"Po\" : 1, \"Fa\" : 2, \"TA\" : 3, \"Gd\" : 4, \"Ex\" : 5},\n",
    "                           \"GarageQual\" : {\"None\" : 0, \"Po\" : 1, \"Fa\" : 2, \"TA\" : 3, \"Gd\" : 4, \"Ex\" : 5},\n",
    "                           \"HeatingQC\" : {\"Po\" : 1, \"Fa\" : 2, \"TA\" : 3, \"Gd\" : 4, \"Ex\" : 5},\n",
    "                           \"KitchenQual\" : {\"Po\" : 1, \"Fa\" : 2, \"TA\" : 3, \"Gd\" : 4, \"Ex\" : 5},\n",
    "                           \"LandSlope\" : {\"Sev\" : 1, \"Mod\" : 2, \"Gtl\" : 3},\n",
    "                           \"LotShape\" : {\"IR3\" : 1, \"IR2\" : 2, \"IR1\" : 3, \"Reg\" : 4},\n",
    "                           \"PavedDrive\" : {\"N\" : 0, \"P\" : 1, \"Y\" : 2},\n",
    "                           \"PoolQC\" : {\"No\" : 0, \"Fa\" : 1, \"TA\" : 2, \"Gd\" : 3, \"Ex\" : 4},\n",
    "                           \"Street\" : {\"Grvl\" : 1, \"Pave\" : 2},\n",
    "                           \"Utilities\" : {\"ELO\" : 1, \"NoSeWa\" : 2, \"NoSewr\" : 3, \"AllPub\" : 4}}\n",
    "                         )"
   ]
  },
  {
   "cell_type": "code",
   "execution_count": 45,
   "id": "1c7da5ee-0d55-4175-b5b0-0fe9a0cfef9a",
   "metadata": {},
   "outputs": [],
   "source": [
    "cat_feats = df_train.dtypes[df_train.dtypes == 'object'].index.tolist()\n",
    "df_dummy = pd.get_dummies(df_train[cat_feats])"
   ]
  },
  {
   "cell_type": "markdown",
   "id": "bf190877-7476-42da-a2d4-5419d84a10cf",
   "metadata": {},
   "source": [
    "## Feature Engineering"
   ]
  },
  {
   "cell_type": "code",
   "execution_count": 46,
   "id": "dfb71f9e-33a4-4394-89c7-997bdf2e956b",
   "metadata": {},
   "outputs": [],
   "source": [
    "df_train['1stFlr_2ndFlr_SF'] = df_train['1stFlrSF'] + df_train['2ndFlrSF']"
   ]
  },
  {
   "cell_type": "code",
   "execution_count": 47,
   "id": "dac16b75-f11d-413d-b273-81e6cdeba694",
   "metadata": {},
   "outputs": [
    {
     "data": {
      "text/plain": [
       "<AxesSubplot:xlabel='1stFlr_2ndFlr_SF', ylabel='SalePrice'>"
      ]
     },
     "execution_count": 47,
     "metadata": {},
     "output_type": "execute_result"
    },
    {
     "data": {
      "image/png": "[encoded data removed]",
      "text/plain": [
       "<Figure size 648x432 with 1 Axes>"
      ]
     },
     "metadata": {
      "needs_background": "light"
     },
     "output_type": "display_data"
    }
   ],
   "source": [
    "f, ax = plt.subplots(figsize=(9, 6))\n",
    "# seaborn's regression plot\n",
    "sns.regplot(\n",
    "    x = (df_train['1stFlr_2ndFlr_SF']), y=df_train['SalePrice'], data=df_train, order=1)"
   ]
  },
  {
   "cell_type": "code",
   "execution_count": 48,
   "id": "67518f47-a4a8-4485-a9a3-805e3e19f7b8",
   "metadata": {},
   "outputs": [
    {
     "data": {
      "text/html": [
       "<div>\n",
       "<style scoped>\n",
       "    .dataframe tbody tr th:only-of-type {\n",
       "        vertical-align: middle;\n",
       "    }\n",
       "\n",
       "    .dataframe tbody tr th {\n",
       "        vertical-align: top;\n",
       "    }\n",
       "\n",
       "    .dataframe thead th {\n",
       "        text-align: right;\n",
       "    }\n",
       "</style>\n",
       "<table border=\"1\" class=\"dataframe\">\n",
       "  <thead>\n",
       "    <tr style=\"text-align: right;\">\n",
       "      <th></th>\n",
       "      <th>MSSubClass</th>\n",
       "      <th>MSZoning</th>\n",
       "      <th>LotFrontage</th>\n",
       "      <th>LotArea</th>\n",
       "      <th>Street</th>\n",
       "      <th>LotShape</th>\n",
       "      <th>LandContour</th>\n",
       "      <th>Utilities</th>\n",
       "      <th>LotConfig</th>\n",
       "      <th>LandSlope</th>\n",
       "      <th>...</th>\n",
       "      <th>YrSold</th>\n",
       "      <th>SaleType</th>\n",
       "      <th>SaleCondition</th>\n",
       "      <th>SalePrice</th>\n",
       "      <th>GarageYrBlt_missing_ind</th>\n",
       "      <th>MasVnrArea_missing_ind</th>\n",
       "      <th>LotFrontage_missing_ind</th>\n",
       "      <th>1stFlrSF_log</th>\n",
       "      <th>1stFlr_2ndFlr_SF</th>\n",
       "      <th>OverallGrade</th>\n",
       "    </tr>\n",
       "  </thead>\n",
       "  <tbody>\n",
       "    <tr>\n",
       "      <th>0</th>\n",
       "      <td>60</td>\n",
       "      <td>RL</td>\n",
       "      <td>65.0</td>\n",
       "      <td>8450</td>\n",
       "      <td>2</td>\n",
       "      <td>4</td>\n",
       "      <td>Lvl</td>\n",
       "      <td>4</td>\n",
       "      <td>Inside</td>\n",
       "      <td>3</td>\n",
       "      <td>...</td>\n",
       "      <td>2008</td>\n",
       "      <td>WD</td>\n",
       "      <td>Normal</td>\n",
       "      <td>208500</td>\n",
       "      <td>0</td>\n",
       "      <td>0</td>\n",
       "      <td>0</td>\n",
       "      <td>6.752270</td>\n",
       "      <td>1710</td>\n",
       "      <td>35</td>\n",
       "    </tr>\n",
       "    <tr>\n",
       "      <th>1</th>\n",
       "      <td>20</td>\n",
       "      <td>RL</td>\n",
       "      <td>80.0</td>\n",
       "      <td>9600</td>\n",
       "      <td>2</td>\n",
       "      <td>4</td>\n",
       "      <td>Lvl</td>\n",
       "      <td>4</td>\n",
       "      <td>FR2</td>\n",
       "      <td>3</td>\n",
       "      <td>...</td>\n",
       "      <td>2007</td>\n",
       "      <td>WD</td>\n",
       "      <td>Normal</td>\n",
       "      <td>181500</td>\n",
       "      <td>0</td>\n",
       "      <td>0</td>\n",
       "      <td>0</td>\n",
       "      <td>7.140453</td>\n",
       "      <td>1262</td>\n",
       "      <td>48</td>\n",
       "    </tr>\n",
       "    <tr>\n",
       "      <th>2</th>\n",
       "      <td>60</td>\n",
       "      <td>RL</td>\n",
       "      <td>68.0</td>\n",
       "      <td>11250</td>\n",
       "      <td>2</td>\n",
       "      <td>3</td>\n",
       "      <td>Lvl</td>\n",
       "      <td>4</td>\n",
       "      <td>Inside</td>\n",
       "      <td>3</td>\n",
       "      <td>...</td>\n",
       "      <td>2008</td>\n",
       "      <td>WD</td>\n",
       "      <td>Normal</td>\n",
       "      <td>223500</td>\n",
       "      <td>0</td>\n",
       "      <td>0</td>\n",
       "      <td>0</td>\n",
       "      <td>6.824374</td>\n",
       "      <td>1786</td>\n",
       "      <td>35</td>\n",
       "    </tr>\n",
       "    <tr>\n",
       "      <th>3</th>\n",
       "      <td>70</td>\n",
       "      <td>RL</td>\n",
       "      <td>60.0</td>\n",
       "      <td>9550</td>\n",
       "      <td>2</td>\n",
       "      <td>3</td>\n",
       "      <td>Lvl</td>\n",
       "      <td>4</td>\n",
       "      <td>Corner</td>\n",
       "      <td>3</td>\n",
       "      <td>...</td>\n",
       "      <td>2006</td>\n",
       "      <td>WD</td>\n",
       "      <td>Abnorml</td>\n",
       "      <td>140000</td>\n",
       "      <td>0</td>\n",
       "      <td>0</td>\n",
       "      <td>0</td>\n",
       "      <td>6.867974</td>\n",
       "      <td>1717</td>\n",
       "      <td>35</td>\n",
       "    </tr>\n",
       "    <tr>\n",
       "      <th>4</th>\n",
       "      <td>60</td>\n",
       "      <td>RL</td>\n",
       "      <td>84.0</td>\n",
       "      <td>14260</td>\n",
       "      <td>2</td>\n",
       "      <td>3</td>\n",
       "      <td>Lvl</td>\n",
       "      <td>4</td>\n",
       "      <td>FR2</td>\n",
       "      <td>3</td>\n",
       "      <td>...</td>\n",
       "      <td>2008</td>\n",
       "      <td>WD</td>\n",
       "      <td>Normal</td>\n",
       "      <td>250000</td>\n",
       "      <td>0</td>\n",
       "      <td>0</td>\n",
       "      <td>0</td>\n",
       "      <td>7.043160</td>\n",
       "      <td>2198</td>\n",
       "      <td>40</td>\n",
       "    </tr>\n",
       "    <tr>\n",
       "      <th>...</th>\n",
       "      <td>...</td>\n",
       "      <td>...</td>\n",
       "      <td>...</td>\n",
       "      <td>...</td>\n",
       "      <td>...</td>\n",
       "      <td>...</td>\n",
       "      <td>...</td>\n",
       "      <td>...</td>\n",
       "      <td>...</td>\n",
       "      <td>...</td>\n",
       "      <td>...</td>\n",
       "      <td>...</td>\n",
       "      <td>...</td>\n",
       "      <td>...</td>\n",
       "      <td>...</td>\n",
       "      <td>...</td>\n",
       "      <td>...</td>\n",
       "      <td>...</td>\n",
       "      <td>...</td>\n",
       "      <td>...</td>\n",
       "      <td>...</td>\n",
       "    </tr>\n",
       "    <tr>\n",
       "      <th>1453</th>\n",
       "      <td>60</td>\n",
       "      <td>RL</td>\n",
       "      <td>62.0</td>\n",
       "      <td>7917</td>\n",
       "      <td>2</td>\n",
       "      <td>4</td>\n",
       "      <td>Lvl</td>\n",
       "      <td>4</td>\n",
       "      <td>Inside</td>\n",
       "      <td>3</td>\n",
       "      <td>...</td>\n",
       "      <td>2007</td>\n",
       "      <td>WD</td>\n",
       "      <td>Normal</td>\n",
       "      <td>175000</td>\n",
       "      <td>0</td>\n",
       "      <td>0</td>\n",
       "      <td>0</td>\n",
       "      <td>6.859615</td>\n",
       "      <td>1647</td>\n",
       "      <td>30</td>\n",
       "    </tr>\n",
       "    <tr>\n",
       "      <th>1454</th>\n",
       "      <td>20</td>\n",
       "      <td>RL</td>\n",
       "      <td>85.0</td>\n",
       "      <td>13175</td>\n",
       "      <td>2</td>\n",
       "      <td>4</td>\n",
       "      <td>Lvl</td>\n",
       "      <td>4</td>\n",
       "      <td>Inside</td>\n",
       "      <td>3</td>\n",
       "      <td>...</td>\n",
       "      <td>2010</td>\n",
       "      <td>WD</td>\n",
       "      <td>Normal</td>\n",
       "      <td>210000</td>\n",
       "      <td>0</td>\n",
       "      <td>0</td>\n",
       "      <td>0</td>\n",
       "      <td>7.636752</td>\n",
       "      <td>2073</td>\n",
       "      <td>36</td>\n",
       "    </tr>\n",
       "    <tr>\n",
       "      <th>1455</th>\n",
       "      <td>70</td>\n",
       "      <td>RL</td>\n",
       "      <td>66.0</td>\n",
       "      <td>9042</td>\n",
       "      <td>2</td>\n",
       "      <td>4</td>\n",
       "      <td>Lvl</td>\n",
       "      <td>4</td>\n",
       "      <td>Inside</td>\n",
       "      <td>3</td>\n",
       "      <td>...</td>\n",
       "      <td>2010</td>\n",
       "      <td>WD</td>\n",
       "      <td>Normal</td>\n",
       "      <td>266500</td>\n",
       "      <td>0</td>\n",
       "      <td>0</td>\n",
       "      <td>0</td>\n",
       "      <td>7.080026</td>\n",
       "      <td>2340</td>\n",
       "      <td>63</td>\n",
       "    </tr>\n",
       "    <tr>\n",
       "      <th>1456</th>\n",
       "      <td>20</td>\n",
       "      <td>RL</td>\n",
       "      <td>68.0</td>\n",
       "      <td>9717</td>\n",
       "      <td>2</td>\n",
       "      <td>4</td>\n",
       "      <td>Lvl</td>\n",
       "      <td>4</td>\n",
       "      <td>Inside</td>\n",
       "      <td>3</td>\n",
       "      <td>...</td>\n",
       "      <td>2010</td>\n",
       "      <td>WD</td>\n",
       "      <td>Normal</td>\n",
       "      <td>142125</td>\n",
       "      <td>0</td>\n",
       "      <td>0</td>\n",
       "      <td>0</td>\n",
       "      <td>6.982863</td>\n",
       "      <td>1078</td>\n",
       "      <td>30</td>\n",
       "    </tr>\n",
       "    <tr>\n",
       "      <th>1457</th>\n",
       "      <td>20</td>\n",
       "      <td>RL</td>\n",
       "      <td>75.0</td>\n",
       "      <td>9937</td>\n",
       "      <td>2</td>\n",
       "      <td>4</td>\n",
       "      <td>Lvl</td>\n",
       "      <td>4</td>\n",
       "      <td>Inside</td>\n",
       "      <td>3</td>\n",
       "      <td>...</td>\n",
       "      <td>2008</td>\n",
       "      <td>WD</td>\n",
       "      <td>Normal</td>\n",
       "      <td>147500</td>\n",
       "      <td>0</td>\n",
       "      <td>0</td>\n",
       "      <td>0</td>\n",
       "      <td>7.135687</td>\n",
       "      <td>1256</td>\n",
       "      <td>30</td>\n",
       "    </tr>\n",
       "  </tbody>\n",
       "</table>\n",
       "<p>1458 rows × 81 columns</p>\n",
       "</div>"
      ],
      "text/plain": [
       "      MSSubClass MSZoning  LotFrontage  LotArea  Street  LotShape LandContour  \\\n",
       "0             60       RL         65.0     8450       2         4         Lvl   \n",
       "1             20       RL         80.0     9600       2         4         Lvl   \n",
       "2             60       RL         68.0    11250       2         3         Lvl   \n",
       "3             70       RL         60.0     9550       2         3         Lvl   \n",
       "4             60       RL         84.0    14260       2         3         Lvl   \n",
       "...          ...      ...          ...      ...     ...       ...         ...   \n",
       "1453          60       RL         62.0     7917       2         4         Lvl   \n",
       "1454          20       RL         85.0    13175       2         4         Lvl   \n",
       "1455          70       RL         66.0     9042       2         4         Lvl   \n",
       "1456          20       RL         68.0     9717       2         4         Lvl   \n",
       "1457          20       RL         75.0     9937       2         4         Lvl   \n",
       "\n",
       "      Utilities LotConfig  LandSlope  ... YrSold SaleType SaleCondition  \\\n",
       "0             4    Inside          3  ...   2008       WD        Normal   \n",
       "1             4       FR2          3  ...   2007       WD        Normal   \n",
       "2             4    Inside          3  ...   2008       WD        Normal   \n",
       "3             4    Corner          3  ...   2006       WD       Abnorml   \n",
       "4             4       FR2          3  ...   2008       WD        Normal   \n",
       "...         ...       ...        ...  ...    ...      ...           ...   \n",
       "1453          4    Inside          3  ...   2007       WD        Normal   \n",
       "1454          4    Inside          3  ...   2010       WD        Normal   \n",
       "1455          4    Inside          3  ...   2010       WD        Normal   \n",
       "1456          4    Inside          3  ...   2010       WD        Normal   \n",
       "1457          4    Inside          3  ...   2008       WD        Normal   \n",
       "\n",
       "     SalePrice GarageYrBlt_missing_ind  MasVnrArea_missing_ind  \\\n",
       "0       208500                       0                       0   \n",
       "1       181500                       0                       0   \n",
       "2       223500                       0                       0   \n",
       "3       140000                       0                       0   \n",
       "4       250000                       0                       0   \n",
       "...        ...                     ...                     ...   \n",
       "1453    175000                       0                       0   \n",
       "1454    210000                       0                       0   \n",
       "1455    266500                       0                       0   \n",
       "1456    142125                       0                       0   \n",
       "1457    147500                       0                       0   \n",
       "\n",
       "      LotFrontage_missing_ind  1stFlrSF_log  1stFlr_2ndFlr_SF OverallGrade  \n",
       "0                           0      6.752270              1710           35  \n",
       "1                           0      7.140453              1262           48  \n",
       "2                           0      6.824374              1786           35  \n",
       "3                           0      6.867974              1717           35  \n",
       "4                           0      7.043160              2198           40  \n",
       "...                       ...           ...               ...          ...  \n",
       "1453                        0      6.859615              1647           30  \n",
       "1454                        0      7.636752              2073           36  \n",
       "1455                        0      7.080026              2340           63  \n",
       "1456                        0      6.982863              1078           30  \n",
       "1457                        0      7.135687              1256           30  \n",
       "\n",
       "[1458 rows x 81 columns]"
      ]
     },
     "execution_count": 48,
     "metadata": {},
     "output_type": "execute_result"
    }
   ],
   "source": [
    "# overall quality of a house\n",
    "df_train[\"OverallGrade\"] = df_train[\"OverallQual\"] * df_train[\"OverallCond\"]\n",
    "df_train"
   ]
  },
  {
   "cell_type": "code",
   "execution_count": 49,
   "id": "d83fb6b9-b796-4f84-a765-24f36c4b516a",
   "metadata": {},
   "outputs": [
    {
     "data": {
      "text/plain": [
       "(-0.5, 5.5, 0.0, 800000.0)"
      ]
     },
     "execution_count": 49,
     "metadata": {},
     "output_type": "execute_result"
    },
    {
     "data": {
      "image/png": "[encoded data removed]",
      "text/plain": [
       "<Figure size 648x432 with 1 Axes>"
      ]
     },
     "metadata": {
      "needs_background": "light"
     },
     "output_type": "display_data"
    }
   ],
   "source": [
    "var = 'GarageQual'\n",
    "f, ax = plt.subplots(figsize=(9, 6))\n",
    "data = df_train[['SalePrice',var]]\n",
    "fig = sns.boxplot(x=var, y=\"SalePrice\", data=data)\n",
    "fig.axis(ymin=0, ymax=800000)"
   ]
  },
  {
   "cell_type": "code",
   "execution_count": 50,
   "id": "9a1588a1-b76a-407e-a096-dde047d53f78",
   "metadata": {},
   "outputs": [],
   "source": [
    "df_train[\"SimplGarageQual\"] = df_train.GarageQual.replace({1 : 1, # bad\n",
    "                                                     2 : 1, 3 : 1, # average\n",
    "                                                     4 : 2, 5 : 2 # good\n",
    "                                                    })"
   ]
  },
  {
   "cell_type": "code",
   "execution_count": 51,
   "id": "5dafe035-1c23-4b53-b182-20e0a4b7dda9",
   "metadata": {},
   "outputs": [
    {
     "data": {
      "text/plain": [
       "(-0.5, 2.5, 0.0, 800000.0)"
      ]
     },
     "execution_count": 51,
     "metadata": {},
     "output_type": "execute_result"
    },
    {
     "data": {
      "image/png": "[encoded data removed]",
      "text/plain": [
       "<Figure size 648x432 with 1 Axes>"
      ]
     },
     "metadata": {
      "needs_background": "light"
     },
     "output_type": "display_data"
    }
   ],
   "source": [
    "var = 'SimplGarageQual'\n",
    "f, ax = plt.subplots(figsize=(9, 6))\n",
    "data = df_train[['SalePrice',var]]\n",
    "fig = sns.boxplot(x=var, y=\"SalePrice\", data=data)\n",
    "fig.axis(ymin=0, ymax=800000)"
   ]
  },
  {
   "cell_type": "code",
   "execution_count": 62,
   "id": "3a215bb4-5764-416e-855d-07d2ff19c8c2",
   "metadata": {},
   "outputs": [
    {
     "data": {
      "text/plain": [
       "(1458, 60)"
      ]
     },
     "execution_count": 62,
     "metadata": {},
     "output_type": "execute_result"
    }
   ],
   "source": [
    "final_num_feats = df_train.dtypes[df_train.dtypes != 'object'].index.tolist()\n",
    "df_numeric = df_train[final_num_feats]\n",
    "df_numeric.shape"
   ]
  },
  {
   "cell_type": "code",
   "execution_count": 63,
   "id": "3881a5e7-ef3d-406f-a159-317132a16993",
   "metadata": {
    "tags": []
   },
   "outputs": [
    {
     "name": "stderr",
     "output_type": "stream",
     "text": [
      "<ipython-input-63-6c79ec388ae1>:2: SettingWithCopyWarning: \n",
      "A value is trying to be set on a copy of a slice from a DataFrame\n",
      "\n",
      "See the caveats in the documentation: https://pandas.pydata.org/pandas-docs/stable/user_guide/indexing.html#returning-a-view-versus-a-copy\n",
      "  df_numeric.drop(\"SalePrice\", axis=1, inplace=True)\n"
     ]
    }
   ],
   "source": [
    "y = df_numeric.SalePrice\n",
    "df_numeric.drop(\"SalePrice\", axis=1, inplace=True)"
   ]
  },
  {
   "cell_type": "code",
   "execution_count": 64,
   "id": "5064c7c2-031f-4af0-a5c4-b3674ba4b556",
   "metadata": {},
   "outputs": [],
   "source": [
    "from sklearn.feature_selection import VarianceThreshold\n",
    "\n",
    "vt = VarianceThreshold(0.1)\n",
    "df_transformed = vt.fit_transform(df_numeric)"
   ]
  },
  {
   "cell_type": "code",
   "execution_count": 65,
   "id": "6f48e343-1718-474a-9c28-a1ba5edfb469",
   "metadata": {},
   "outputs": [
    {
     "data": {
      "text/plain": [
       "(1458, 50)"
      ]
     },
     "execution_count": 65,
     "metadata": {},
     "output_type": "execute_result"
    }
   ],
   "source": [
    "df_transformed.shape"
   ]
  },
  {
   "cell_type": "code",
   "execution_count": 66,
   "id": "a7d109a2-5738-4d41-97cb-f411ad92c76d",
   "metadata": {},
   "outputs": [
    {
     "data": {
      "text/plain": [
       "Index(['MSSubClass', 'LotFrontage', 'LotArea', 'LotShape', 'OverallQual',\n",
       "       'OverallCond', 'YearBuilt', 'YearRemodAdd', 'MasVnrArea', 'ExterQual',\n",
       "       'ExterCond', 'BsmtQual', 'BsmtCond', 'BsmtFinType1', 'BsmtFinSF1',\n",
       "       'BsmtFinType2', 'BsmtFinSF2', 'BsmtUnfSF', 'TotalBsmtSF', 'HeatingQC',\n",
       "       '1stFlrSF', '2ndFlrSF', 'LowQualFinSF', 'GrLivArea', 'BsmtFullBath',\n",
       "       'FullBath', 'HalfBath', 'BedroomAbvGr', 'KitchenQual', 'TotRmsAbvGrd',\n",
       "       'Functional', 'Fireplaces', 'GarageYrBlt', 'GarageCars', 'GarageArea',\n",
       "       'GarageQual', 'GarageCond', 'PavedDrive', 'WoodDeckSF', 'OpenPorchSF',\n",
       "       'EnclosedPorch', '3SsnPorch', 'ScreenPorch', 'PoolArea', 'MiscVal',\n",
       "       'MoSold', 'YrSold', 'LotFrontage_missing_ind', '1stFlr_2ndFlr_SF',\n",
       "       'OverallGrade'],\n",
       "      dtype='object')"
      ]
     },
     "execution_count": 66,
     "metadata": {},
     "output_type": "execute_result"
    }
   ],
   "source": [
    "# columns we have selected\n",
    "# get_support() is method of VarianceThreshold and stores boolean of each variable in the numpy array.\n",
    "selected_columns = df_numeric.columns[vt.get_support()]\n",
    "selected_columns"
   ]
  },
  {
   "cell_type": "code",
   "execution_count": 67,
   "id": "ef42c86f-7d1d-4ab6-9ff7-265af141ec7c",
   "metadata": {},
   "outputs": [],
   "source": [
    "# transforming an array back to a data-frame preserves column labels\n",
    "df_transformed = pd.DataFrame(df_transformed, columns = selected_columns)"
   ]
  },
  {
   "cell_type": "markdown",
   "id": "584aae8d-8192-49a2-a2b5-c9bc19fb4e88",
   "metadata": {},
   "source": [
    "## Part 2: Removing Correlated Features"
   ]
  },
  {
   "cell_type": "markdown",
   "id": "f0b9c221-c02f-4986-ab27-28c9b8d16836",
   "metadata": {},
   "source": [
    "The goal of this part is to remove one feature from each highly correlated pair. We are going to do this in 3 steps:\n",
    "1. Calculate a correlation matrix\n",
    "2. Get pairs of highly correlated features\n",
    "3. Remove correlated columns"
   ]
  },
  {
   "cell_type": "code",
   "execution_count": 68,
   "id": "cfcee9eb-1339-491f-b60a-9e4ef9f74b41",
   "metadata": {},
   "outputs": [],
   "source": [
    "# step 1\n",
    "df_corr = df_transformed.corr().abs()\n",
    "\n",
    "# step 2\n",
    "indices = np.where(df_corr > 0.8) \n",
    "indices = [(df_corr.index[x], df_corr.columns[y]) \n",
    "for x, y in zip(*indices)\n",
    "    if x != y and x < y]\n",
    "\n",
    "# step 3\n",
    "for idx in indices: #each pair\n",
    "    try:\n",
    "        df_transformed.drop(idx[1], axis = 1, inplace=True)\n",
    "    except KeyError:\n",
    "        pass"
   ]
  },
  {
   "cell_type": "code",
   "execution_count": 69,
   "id": "47ee2438-4527-4bc4-a8d5-aa6693b5d8ae",
   "metadata": {},
   "outputs": [
    {
     "name": "stdout",
     "output_type": "stream",
     "text": [
      "[('TotalBsmtSF', '1stFlrSF'), ('GrLivArea', 'TotRmsAbvGrd'), ('GrLivArea', '1stFlr_2ndFlr_SF'), ('TotRmsAbvGrd', '1stFlr_2ndFlr_SF'), ('GarageCars', 'GarageArea'), ('GarageQual', 'GarageCond')]\n"
     ]
    }
   ],
   "source": [
    "print(indices)"
   ]
  },
  {
   "cell_type": "markdown",
   "id": "0ecf58da-5bc5-4755-867a-9b9b45748f58",
   "metadata": {},
   "source": [
    "## Part 3: Forward Regression"
   ]
  },
  {
   "cell_type": "markdown",
   "id": "217e058a-98b0-443b-a8a9-ecc57c90e2d3",
   "metadata": {},
   "source": [
    "We have removed the features with **np information** and **correlated features** so far. The last thing we will do before modeling is to select the k-best features in terms of the relationship with the `target` variable."
   ]
  },
  {
   "cell_type": "code",
   "execution_count": 73,
   "id": "c1c80ebc-69a2-40a3-837d-a31eaddf3ba1",
   "metadata": {},
   "outputs": [],
   "source": [
    "from sklearn.feature_selection import f_regression, SelectKBest\n",
    "\n",
    "skb = SelectKBest(f_regression, k=10)\n",
    "X = skb.fit_transform(df_transformed, y)"
   ]
  },
  {
   "cell_type": "code",
   "execution_count": 74,
   "id": "59b6a14d-1a59-484e-bf3b-23d4a89725bb",
   "metadata": {},
   "outputs": [],
   "source": [
    "# this will give us the position of top 10 columns\n",
    "skb.get_support()\n",
    "\n",
    "# column names\n",
    "df_transformed.columns[skb.get_support()]\n",
    "X = pd.DataFrame(X,columns=df_transformed.columns[skb.get_support()])"
   ]
  },
  {
   "cell_type": "code",
   "execution_count": 75,
   "id": "092544c6-3701-42a2-ac94-d3b134f4a666",
   "metadata": {},
   "outputs": [
    {
     "data": {
      "text/html": [
       "<div>\n",
       "<style scoped>\n",
       "    .dataframe tbody tr th:only-of-type {\n",
       "        vertical-align: middle;\n",
       "    }\n",
       "\n",
       "    .dataframe tbody tr th {\n",
       "        vertical-align: top;\n",
       "    }\n",
       "\n",
       "    .dataframe thead th {\n",
       "        text-align: right;\n",
       "    }\n",
       "</style>\n",
       "<table border=\"1\" class=\"dataframe\">\n",
       "  <thead>\n",
       "    <tr style=\"text-align: right;\">\n",
       "      <th></th>\n",
       "      <th>OverallQual</th>\n",
       "      <th>YearBuilt</th>\n",
       "      <th>ExterQual</th>\n",
       "      <th>BsmtQual</th>\n",
       "      <th>TotalBsmtSF</th>\n",
       "      <th>GrLivArea</th>\n",
       "      <th>FullBath</th>\n",
       "      <th>KitchenQual</th>\n",
       "      <th>GarageCars</th>\n",
       "      <th>OverallGrade</th>\n",
       "    </tr>\n",
       "  </thead>\n",
       "  <tbody>\n",
       "    <tr>\n",
       "      <th>0</th>\n",
       "      <td>7.0</td>\n",
       "      <td>2003.0</td>\n",
       "      <td>4.0</td>\n",
       "      <td>4.0</td>\n",
       "      <td>856.0</td>\n",
       "      <td>1710.0</td>\n",
       "      <td>2.0</td>\n",
       "      <td>4.0</td>\n",
       "      <td>2.0</td>\n",
       "      <td>35.0</td>\n",
       "    </tr>\n",
       "    <tr>\n",
       "      <th>1</th>\n",
       "      <td>6.0</td>\n",
       "      <td>1976.0</td>\n",
       "      <td>3.0</td>\n",
       "      <td>4.0</td>\n",
       "      <td>1262.0</td>\n",
       "      <td>1262.0</td>\n",
       "      <td>2.0</td>\n",
       "      <td>3.0</td>\n",
       "      <td>2.0</td>\n",
       "      <td>48.0</td>\n",
       "    </tr>\n",
       "    <tr>\n",
       "      <th>2</th>\n",
       "      <td>7.0</td>\n",
       "      <td>2001.0</td>\n",
       "      <td>4.0</td>\n",
       "      <td>4.0</td>\n",
       "      <td>920.0</td>\n",
       "      <td>1786.0</td>\n",
       "      <td>2.0</td>\n",
       "      <td>4.0</td>\n",
       "      <td>2.0</td>\n",
       "      <td>35.0</td>\n",
       "    </tr>\n",
       "    <tr>\n",
       "      <th>3</th>\n",
       "      <td>7.0</td>\n",
       "      <td>1915.0</td>\n",
       "      <td>3.0</td>\n",
       "      <td>3.0</td>\n",
       "      <td>756.0</td>\n",
       "      <td>1717.0</td>\n",
       "      <td>1.0</td>\n",
       "      <td>4.0</td>\n",
       "      <td>3.0</td>\n",
       "      <td>35.0</td>\n",
       "    </tr>\n",
       "    <tr>\n",
       "      <th>4</th>\n",
       "      <td>8.0</td>\n",
       "      <td>2000.0</td>\n",
       "      <td>4.0</td>\n",
       "      <td>4.0</td>\n",
       "      <td>1145.0</td>\n",
       "      <td>2198.0</td>\n",
       "      <td>2.0</td>\n",
       "      <td>4.0</td>\n",
       "      <td>3.0</td>\n",
       "      <td>40.0</td>\n",
       "    </tr>\n",
       "    <tr>\n",
       "      <th>...</th>\n",
       "      <td>...</td>\n",
       "      <td>...</td>\n",
       "      <td>...</td>\n",
       "      <td>...</td>\n",
       "      <td>...</td>\n",
       "      <td>...</td>\n",
       "      <td>...</td>\n",
       "      <td>...</td>\n",
       "      <td>...</td>\n",
       "      <td>...</td>\n",
       "    </tr>\n",
       "    <tr>\n",
       "      <th>1453</th>\n",
       "      <td>6.0</td>\n",
       "      <td>1999.0</td>\n",
       "      <td>3.0</td>\n",
       "      <td>4.0</td>\n",
       "      <td>953.0</td>\n",
       "      <td>1647.0</td>\n",
       "      <td>2.0</td>\n",
       "      <td>3.0</td>\n",
       "      <td>2.0</td>\n",
       "      <td>30.0</td>\n",
       "    </tr>\n",
       "    <tr>\n",
       "      <th>1454</th>\n",
       "      <td>6.0</td>\n",
       "      <td>1978.0</td>\n",
       "      <td>3.0</td>\n",
       "      <td>4.0</td>\n",
       "      <td>1542.0</td>\n",
       "      <td>2073.0</td>\n",
       "      <td>2.0</td>\n",
       "      <td>3.0</td>\n",
       "      <td>2.0</td>\n",
       "      <td>36.0</td>\n",
       "    </tr>\n",
       "    <tr>\n",
       "      <th>1455</th>\n",
       "      <td>7.0</td>\n",
       "      <td>1941.0</td>\n",
       "      <td>5.0</td>\n",
       "      <td>3.0</td>\n",
       "      <td>1152.0</td>\n",
       "      <td>2340.0</td>\n",
       "      <td>2.0</td>\n",
       "      <td>4.0</td>\n",
       "      <td>1.0</td>\n",
       "      <td>63.0</td>\n",
       "    </tr>\n",
       "    <tr>\n",
       "      <th>1456</th>\n",
       "      <td>5.0</td>\n",
       "      <td>1950.0</td>\n",
       "      <td>3.0</td>\n",
       "      <td>3.0</td>\n",
       "      <td>1078.0</td>\n",
       "      <td>1078.0</td>\n",
       "      <td>1.0</td>\n",
       "      <td>4.0</td>\n",
       "      <td>1.0</td>\n",
       "      <td>30.0</td>\n",
       "    </tr>\n",
       "    <tr>\n",
       "      <th>1457</th>\n",
       "      <td>5.0</td>\n",
       "      <td>1965.0</td>\n",
       "      <td>4.0</td>\n",
       "      <td>3.0</td>\n",
       "      <td>1256.0</td>\n",
       "      <td>1256.0</td>\n",
       "      <td>1.0</td>\n",
       "      <td>3.0</td>\n",
       "      <td>1.0</td>\n",
       "      <td>30.0</td>\n",
       "    </tr>\n",
       "  </tbody>\n",
       "</table>\n",
       "<p>1458 rows × 10 columns</p>\n",
       "</div>"
      ],
      "text/plain": [
       "      OverallQual  YearBuilt  ExterQual  BsmtQual  TotalBsmtSF  GrLivArea  \\\n",
       "0             7.0     2003.0        4.0       4.0        856.0     1710.0   \n",
       "1             6.0     1976.0        3.0       4.0       1262.0     1262.0   \n",
       "2             7.0     2001.0        4.0       4.0        920.0     1786.0   \n",
       "3             7.0     1915.0        3.0       3.0        756.0     1717.0   \n",
       "4             8.0     2000.0        4.0       4.0       1145.0     2198.0   \n",
       "...           ...        ...        ...       ...          ...        ...   \n",
       "1453          6.0     1999.0        3.0       4.0        953.0     1647.0   \n",
       "1454          6.0     1978.0        3.0       4.0       1542.0     2073.0   \n",
       "1455          7.0     1941.0        5.0       3.0       1152.0     2340.0   \n",
       "1456          5.0     1950.0        3.0       3.0       1078.0     1078.0   \n",
       "1457          5.0     1965.0        4.0       3.0       1256.0     1256.0   \n",
       "\n",
       "      FullBath  KitchenQual  GarageCars  OverallGrade  \n",
       "0          2.0          4.0         2.0          35.0  \n",
       "1          2.0          3.0         2.0          48.0  \n",
       "2          2.0          4.0         2.0          35.0  \n",
       "3          1.0          4.0         3.0          35.0  \n",
       "4          2.0          4.0         3.0          40.0  \n",
       "...        ...          ...         ...           ...  \n",
       "1453       2.0          3.0         2.0          30.0  \n",
       "1454       2.0          3.0         2.0          36.0  \n",
       "1455       2.0          4.0         1.0          63.0  \n",
       "1456       1.0          4.0         1.0          30.0  \n",
       "1457       1.0          3.0         1.0          30.0  \n",
       "\n",
       "[1458 rows x 10 columns]"
      ]
     },
     "execution_count": 75,
     "metadata": {},
     "output_type": "execute_result"
    }
   ],
   "source": [
    "X"
   ]
  },
  {
   "cell_type": "markdown",
   "id": "a238ecc4-6097-4331-8128-579862b11ce6",
   "metadata": {},
   "source": [
    "## Predicting House Prices with Linear Regression"
   ]
  },
  {
   "cell_type": "markdown",
   "id": "ae518124-c382-435f-831c-9d817cb861ae",
   "metadata": {},
   "source": [
    "We will fit **linear regression** to this and explore if all these attributes are significant. There are two main interpretations of linear regression in Python:\n",
    "- statsmodels\n",
    "- sklearn\n"
   ]
  },
  {
   "cell_type": "markdown",
   "id": "ee96750b-cdd2-4040-88b7-eeab43e05a70",
   "metadata": {},
   "source": [
    "### Using statsmodels"
   ]
  },
  {
   "cell_type": "code",
   "execution_count": 76,
   "id": "3ea74c85-b1d4-4b2c-96e8-ae8d4458f368",
   "metadata": {},
   "outputs": [],
   "source": [
    "import statsmodels.api as sm"
   ]
  },
  {
   "cell_type": "code",
   "execution_count": 77,
   "id": "36f41109-b2eb-4e2a-9b0a-7e9b42be6eae",
   "metadata": {},
   "outputs": [],
   "source": [
    "X = sm.add_constant(X) # adding a constant"
   ]
  },
  {
   "cell_type": "code",
   "execution_count": 79,
   "id": "05df6dd8-c7b1-4d69-be2c-d0e6c7d10afc",
   "metadata": {},
   "outputs": [],
   "source": [
    "# OLS is Ordinary Least Squares\n",
    "lin_reg = sm.OLS(y,X)"
   ]
  },
  {
   "cell_type": "code",
   "execution_count": 81,
   "id": "e0db8bc7-2c21-4343-9ab3-bc16934c3401",
   "metadata": {},
   "outputs": [
    {
     "data": {
      "text/plain": [
       "statsmodels.regression.linear_model.OLS"
      ]
     },
     "execution_count": 81,
     "metadata": {},
     "output_type": "execute_result"
    }
   ],
   "source": [
    "type(lin_reg)"
   ]
  },
  {
   "cell_type": "code",
   "execution_count": 82,
   "id": "987ac4fc-7fef-4ac9-b853-c4958348a907",
   "metadata": {},
   "outputs": [
    {
     "name": "stdout",
     "output_type": "stream",
     "text": [
      "                            OLS Regression Results                            \n",
      "==============================================================================\n",
      "Dep. Variable:              SalePrice   R-squared:                       0.835\n",
      "Model:                            OLS   Adj. R-squared:                  0.834\n",
      "Method:                 Least Squares   F-statistic:                     732.0\n",
      "Date:                Wed, 27 Apr 2022   Prob (F-statistic):               0.00\n",
      "Time:                        17:22:13   Log-Likelihood:                -17206.\n",
      "No. Observations:                1458   AIC:                         3.443e+04\n",
      "Df Residuals:                    1447   BIC:                         3.449e+04\n",
      "Df Model:                          10                                         \n",
      "Covariance Type:            nonrobust                                         \n",
      "================================================================================\n",
      "                   coef    std err          t      P>|t|      [0.025      0.975]\n",
      "--------------------------------------------------------------------------------\n",
      "const        -8.992e+05   8.93e+04    -10.069      0.000   -1.07e+06   -7.24e+05\n",
      "OverallQual   5507.5419   1492.215      3.691      0.000    2580.406    8434.678\n",
      "YearBuilt      392.2864     47.578      8.245      0.000     298.958     485.615\n",
      "ExterQual     1.447e+04   2498.908      5.789      0.000    9564.917    1.94e+04\n",
      "BsmtQual       920.7862   1443.233      0.638      0.524   -1910.266    3751.839\n",
      "TotalBsmtSF     42.1385      2.705     15.581      0.000      36.833      47.444\n",
      "GrLivArea       66.8550      2.624     25.476      0.000      61.707      72.003\n",
      "FullBath     -1.122e+04   2268.762     -4.945      0.000   -1.57e+04   -6768.180\n",
      "KitchenQual   1.147e+04   1981.665      5.788      0.000    7582.652    1.54e+04\n",
      "GarageCars    9314.4359   1565.232      5.951      0.000    6244.069    1.24e+04\n",
      "OverallGrade  1078.1960    150.946      7.143      0.000     782.100    1374.292\n",
      "==============================================================================\n",
      "Omnibus:                      574.228   Durbin-Watson:                   1.967\n",
      "Prob(Omnibus):                  0.000   Jarque-Bera (JB):             5878.203\n",
      "Skew:                           1.540   Prob(JB):                         0.00\n",
      "Kurtosis:                      12.342   Cond. No.                     2.87e+05\n",
      "==============================================================================\n",
      "\n",
      "Notes:\n",
      "[1] Standard Errors assume that the covariance matrix of the errors is correctly specified.\n",
      "[2] The condition number is large, 2.87e+05. This might indicate that there are\n",
      "strong multicollinearity or other numerical problems.\n"
     ]
    }
   ],
   "source": [
    "model = lin_reg.fit()\n",
    "print_model = model.summary()\n",
    "print(print_model)"
   ]
  },
  {
   "cell_type": "markdown",
   "id": "bfc9f0b3-4d5e-4d26-9ffd-400f89ff973c",
   "metadata": {},
   "source": [
    "### Using sklearn"
   ]
  },
  {
   "cell_type": "code",
   "execution_count": 83,
   "id": "c239cb5a-b3cc-4c01-879c-8f1800529e72",
   "metadata": {},
   "outputs": [],
   "source": [
    "from sklearn.linear_model import LinearRegression"
   ]
  },
  {
   "cell_type": "code",
   "execution_count": 84,
   "id": "5fdf1302-88e3-4748-b65e-ffcf8c69a315",
   "metadata": {},
   "outputs": [
    {
     "data": {
      "text/plain": [
       "LinearRegression()"
      ]
     },
     "execution_count": 84,
     "metadata": {},
     "output_type": "execute_result"
    }
   ],
   "source": [
    "regressor = LinearRegression()\n",
    "regressor.fit(X, y)"
   ]
  },
  {
   "cell_type": "code",
   "execution_count": 85,
   "id": "887cf4e3-2162-45ad-9c8f-7791c913d63f",
   "metadata": {},
   "outputs": [
    {
     "name": "stdout",
     "output_type": "stream",
     "text": [
      "[     0.           5507.54189138    392.2863556   14466.78601472\n",
      "    920.78618122     42.13854481     66.85496149 -11218.59562134\n",
      "  11469.89475761   9314.43585305   1078.19597724]\n"
     ]
    }
   ],
   "source": [
    "print(regressor.coef_)"
   ]
  },
  {
   "cell_type": "markdown",
   "id": "db3e7d0f-5aa6-4d46-911c-59a743d60252",
   "metadata": {},
   "source": [
    "The above are *beta coefficients*. They are ordered the same as our columns in `X`. The first one is 0 because we have added a constant column using `statsmodel` modeling. Tis column doesn't have any meaning in `sklearn` so we could have dropped that before.\n",
    "\n",
    "The `statsmodel` provides a more complete and organized view of the results. Note that the *p-values* are missing.\n",
    "\n",
    "To view the R-squared value:"
   ]
  },
  {
   "cell_type": "code",
   "execution_count": 86,
   "id": "bc8843f4-0573-468e-a816-675e9b3295f8",
   "metadata": {},
   "outputs": [
    {
     "data": {
      "text/plain": [
       "0.8349492071391901"
      ]
     },
     "execution_count": 86,
     "metadata": {},
     "output_type": "execute_result"
    }
   ],
   "source": [
    "regressor.score(X,y)"
   ]
  },
  {
   "cell_type": "markdown",
   "id": "6ec85d19-fb83-4577-8c4e-b4319dffa115",
   "metadata": {},
   "source": [
    "The advantage of the `sklearn` implementation is that it is consistent with all other methods and models in this library."
   ]
  },
  {
   "cell_type": "code",
   "execution_count": null,
   "id": "7ec0ef2e-9922-4848-b84b-2067f4745374",
   "metadata": {},
   "outputs": [],
   "source": []
  }
 ],
 "metadata": {
  "kernelspec": {
   "display_name": "lighthouse",
   "language": "python",
   "name": "lighthouse"
  },
  "language_info": {
   "codemirror_mode": {
    "name": "ipython",
    "version": 3
   },
   "file_extension": ".py",
   "mimetype": "text/x-python",
   "name": "python",
   "nbconvert_exporter": "python",
   "pygments_lexer": "ipython3",
   "version": "3.8.13"
  }
 },
 "nbformat": 4,
 "nbformat_minor": 5
}
