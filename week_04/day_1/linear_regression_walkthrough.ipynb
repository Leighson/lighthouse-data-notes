{
 "cells": [
  {
   "cell_type": "markdown",
   "id": "c1253585-662b-4abe-a518-e55d70396aec",
   "metadata": {},
   "source": [
    "## Predicting House Prices with Linear Regression"
   ]
  },
  {
   "cell_type": "markdown",
   "id": "edf5cdd9-1f26-4772-b891-7e4a6f317ada",
   "metadata": {},
   "source": [
    "We will fit **linear regression** to this and explore if all these attributes are significant. There are two main interpretations of linear regression in Python:\n",
    "- statsmodels\n",
    "- sklearn\n"
   ]
  },
  {
   "cell_type": "markdown",
   "id": "9ac345bf-488a-4083-86d9-ae73b528f9a5",
   "metadata": {},
   "source": [
    "### Using statsmodels"
   ]
  },
  {
   "cell_type": "code",
   "execution_count": 76,
   "id": "df9ab8de-3b79-4086-8139-09067bc52742",
   "metadata": {},
   "outputs": [],
   "source": [
    "import statsmodels.api as sm"
   ]
  },
  {
   "cell_type": "code",
   "execution_count": 77,
   "id": "0000dce3-ecca-461d-955c-85f2c56f003b",
   "metadata": {},
   "outputs": [],
   "source": [
    "X = sm.add_constant(X) # adding a constant"
   ]
  },
  {
   "cell_type": "code",
   "execution_count": 79,
   "id": "dc50b429-e144-40d9-9748-fceb07e25744",
   "metadata": {},
   "outputs": [],
   "source": [
    "# OLS is Ordinary Least Squares\n",
    "lin_reg = sm.OLS(y,X)"
   ]
  },
  {
   "cell_type": "code",
   "execution_count": 81,
   "id": "0cb7d3fd-8596-4a5f-93e8-b96ba64f2372",
   "metadata": {},
   "outputs": [
    {
     "data": {
      "text/plain": [
       "statsmodels.regression.linear_model.OLS"
      ]
     },
     "execution_count": 81,
     "metadata": {},
     "output_type": "execute_result"
    }
   ],
   "source": [
    "type(lin_reg)"
   ]
  },
  {
   "cell_type": "code",
   "execution_count": 82,
   "id": "a5011a00-283e-4d15-b384-5ba5e3368ab4",
   "metadata": {},
   "outputs": [
    {
     "name": "stdout",
     "output_type": "stream",
     "text": [
      "                            OLS Regression Results                            \n",
      "==============================================================================\n",
      "Dep. Variable:              SalePrice   R-squared:                       0.835\n",
      "Model:                            OLS   Adj. R-squared:                  0.834\n",
      "Method:                 Least Squares   F-statistic:                     732.0\n",
      "Date:                Wed, 27 Apr 2022   Prob (F-statistic):               0.00\n",
      "Time:                        17:22:13   Log-Likelihood:                -17206.\n",
      "No. Observations:                1458   AIC:                         3.443e+04\n",
      "Df Residuals:                    1447   BIC:                         3.449e+04\n",
      "Df Model:                          10                                         \n",
      "Covariance Type:            nonrobust                                         \n",
      "================================================================================\n",
      "                   coef    std err          t      P>|t|      [0.025      0.975]\n",
      "--------------------------------------------------------------------------------\n",
      "const        -8.992e+05   8.93e+04    -10.069      0.000   -1.07e+06   -7.24e+05\n",
      "OverallQual   5507.5419   1492.215      3.691      0.000    2580.406    8434.678\n",
      "YearBuilt      392.2864     47.578      8.245      0.000     298.958     485.615\n",
      "ExterQual     1.447e+04   2498.908      5.789      0.000    9564.917    1.94e+04\n",
      "BsmtQual       920.7862   1443.233      0.638      0.524   -1910.266    3751.839\n",
      "TotalBsmtSF     42.1385      2.705     15.581      0.000      36.833      47.444\n",
      "GrLivArea       66.8550      2.624     25.476      0.000      61.707      72.003\n",
      "FullBath     -1.122e+04   2268.762     -4.945      0.000   -1.57e+04   -6768.180\n",
      "KitchenQual   1.147e+04   1981.665      5.788      0.000    7582.652    1.54e+04\n",
      "GarageCars    9314.4359   1565.232      5.951      0.000    6244.069    1.24e+04\n",
      "OverallGrade  1078.1960    150.946      7.143      0.000     782.100    1374.292\n",
      "==============================================================================\n",
      "Omnibus:                      574.228   Durbin-Watson:                   1.967\n",
      "Prob(Omnibus):                  0.000   Jarque-Bera (JB):             5878.203\n",
      "Skew:                           1.540   Prob(JB):                         0.00\n",
      "Kurtosis:                      12.342   Cond. No.                     2.87e+05\n",
      "==============================================================================\n",
      "\n",
      "Notes:\n",
      "[1] Standard Errors assume that the covariance matrix of the errors is correctly specified.\n",
      "[2] The condition number is large, 2.87e+05. This might indicate that there are\n",
      "strong multicollinearity or other numerical problems.\n"
     ]
    }
   ],
   "source": [
    "model = lin_reg.fit()\n",
    "print_model = model.summary()\n",
    "print(print_model)"
   ]
  },
  {
   "cell_type": "markdown",
   "id": "1eee2319-92e7-4a7f-a981-251331fbe6d4",
   "metadata": {},
   "source": [
    "### Using sklearn"
   ]
  },
  {
   "cell_type": "code",
   "execution_count": 83,
   "id": "f5ae42f5-ca16-4b32-8769-4137a3ac519a",
   "metadata": {},
   "outputs": [],
   "source": [
    "from sklearn.linear_model import LinearRegression"
   ]
  },
  {
   "cell_type": "code",
   "execution_count": 84,
   "id": "4a9c977a-bf5d-46f3-9229-88440190a0cf",
   "metadata": {},
   "outputs": [
    {
     "data": {
      "text/plain": [
       "LinearRegression()"
      ]
     },
     "execution_count": 84,
     "metadata": {},
     "output_type": "execute_result"
    }
   ],
   "source": [
    "regressor = LinearRegression()\n",
    "regressor.fit(X, y)"
   ]
  },
  {
   "cell_type": "code",
   "execution_count": 85,
   "id": "7d84deea-bce9-4123-bec1-c5a71407ba1c",
   "metadata": {},
   "outputs": [
    {
     "name": "stdout",
     "output_type": "stream",
     "text": [
      "[     0.           5507.54189138    392.2863556   14466.78601472\n",
      "    920.78618122     42.13854481     66.85496149 -11218.59562134\n",
      "  11469.89475761   9314.43585305   1078.19597724]\n"
     ]
    }
   ],
   "source": [
    "print(regressor.coef_)"
   ]
  },
  {
   "cell_type": "markdown",
   "id": "d3dd79e7-897f-461a-88f9-6342df5302a0",
   "metadata": {},
   "source": [
    "The above are *beta coefficients*. They are ordered the same as our columns in `X`. The first one is 0 because we have added a constant column using `statsmodel` modeling. Tis column doesn't have any meaning in `sklearn` so we could have dropped that before.\n",
    "\n",
    "The `statsmodel` provides a more complete and organized view of the results. Note that the *p-values* are missing.\n",
    "\n",
    "To view the R-squared value:"
   ]
  },
  {
   "cell_type": "code",
   "execution_count": 86,
   "id": "37b20cda-864a-4e1c-8175-ac5c1a667646",
   "metadata": {},
   "outputs": [
    {
     "data": {
      "text/plain": [
       "0.8349492071391901"
      ]
     },
     "execution_count": 86,
     "metadata": {},
     "output_type": "execute_result"
    }
   ],
   "source": [
    "regressor.score(X,y)"
   ]
  },
  {
   "cell_type": "markdown",
   "id": "05eafd5f-58eb-4861-a956-7944064b23a2",
   "metadata": {},
   "source": [
    "The advantage of the `sklearn` implementation is that it is consistent with all other methods and models in this library."
   ]
  }
 ],
 "metadata": {
  "kernelspec": {
   "display_name": "lighthouse",
   "language": "python",
   "name": "lighthouse"
  },
  "language_info": {
   "codemirror_mode": {
    "name": "ipython",
    "version": 3
   },
   "file_extension": ".py",
   "mimetype": "text/x-python",
   "name": "python",
   "nbconvert_exporter": "python",
   "pygments_lexer": "ipython3",
   "version": "3.8.13"
  }
 },
 "nbformat": 4,
 "nbformat_minor": 5
}
