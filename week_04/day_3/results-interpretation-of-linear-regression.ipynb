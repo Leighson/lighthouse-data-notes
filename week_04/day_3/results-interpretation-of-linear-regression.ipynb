{
 "cells": [
  {
   "cell_type": "markdown",
   "id": "aaeabbc8-7586-444e-ba85-4d558134142c",
   "metadata": {},
   "source": [
    "# Results Interpretation of Linear Regression"
   ]
  },
  {
   "cell_type": "markdown",
   "id": "0e3b1b76-5a5b-42f2-85ed-745e514b3805",
   "metadata": {},
   "source": [
    "Linear regression is used as a predictive model that assumes a linear relationship between the dependent variable and the independent variables.\n",
    "\n",
    "Under Simple Linear Regression, only one independent variable is used to predict the dependent variable.\n",
    "\n",
    "$$ y = c + mx $$"
   ]
  },
  {
   "cell_type": "markdown",
   "id": "51edeae0-6325-4de1-8d00-0fc3547f328e",
   "metadata": {},
   "source": [
    "In reality, a relationship may exist between the dependent variable and *multiple* independent variables. For these types of models, we can use ** Multiple Linear Regression**."
   ]
  },
  {
   "cell_type": "markdown",
   "id": "654a6d43-3ce1-4938-a397-008e3987beb1",
   "metadata": {},
   "source": [
    "$$ Y = C + M_1X_1 + M_2X_2 \\ + ... M_nX_n $$"
   ]
  },
  {
   "cell_type": "code",
   "execution_count": 12,
   "id": "2b0e1500-c9dc-42e1-ba93-9a80ab2cc57b",
   "metadata": {},
   "outputs": [],
   "source": [
    "from pandas import DataFrame\n",
    "import statsmodels.api as sm"
   ]
  },
  {
   "cell_type": "code",
   "execution_count": 13,
   "id": "17cfd52c-6ba3-4b03-87a4-a88bdcf720ec",
   "metadata": {},
   "outputs": [],
   "source": [
    "Stock_Market = {'Year': [2017,2017,2017,2017,2017,2017,2017,2017,2017,2017,2017,2017,2016,2016,2016,2016,2016,2016,2016,2016,2016,2016,2016,2016],\n",
    "                'Month': [12, 11,10,9,8,7,6,5,4,3,2,1,12,11,10,9,8,7,6,5,4,3,2,1],\n",
    "                'Interest_Rate': [2.75,2.5,2.5,2.5,2.5,2.5,2.5,2.25,2.25,2.25,2,2,2,1.75,1.75,1.75,1.75,1.75,1.75,1.75,1.75,1.75,1.75,1.75],\n",
    "                'Unemployment_Rate': [5.3,5.3,5.3,5.3,5.4,5.6,5.5,5.5,5.5,5.6,5.7,5.9,6,5.9,5.8,6.1,6.2,6.1,6.1,6.1,5.9,6.2,6.2,6.1],\n",
    "                'Stock_Index_Price': [1464,1394,1357,1293,1256,1254,1234,1195,1159,1167,1130,1075,1047,965,943,958,971,949,884,866,876,822,704,719]        \n",
    "                }"
   ]
  },
  {
   "cell_type": "code",
   "execution_count": 14,
   "id": "3ad11efd-4eaa-4c8d-9f06-bddb0040cbae",
   "metadata": {},
   "outputs": [],
   "source": [
    "df = DataFrame(Stock_Market,columns=['Year','Month','Interest_Rate','Unemployment_Rate','Stock_Index_Price']) "
   ]
  },
  {
   "cell_type": "code",
   "execution_count": 15,
   "id": "b6690333-98f2-40b7-aecb-6a012d2bb91a",
   "metadata": {},
   "outputs": [
    {
     "name": "stdout",
     "output_type": "stream",
     "text": [
      "                            OLS Regression Results                            \n",
      "==============================================================================\n",
      "Dep. Variable:      Stock_Index_Price   R-squared:                       0.898\n",
      "Model:                            OLS   Adj. R-squared:                  0.888\n",
      "Method:                 Least Squares   F-statistic:                     92.07\n",
      "Date:                Wed, 27 Apr 2022   Prob (F-statistic):           4.04e-11\n",
      "Time:                        16:07:45   Log-Likelihood:                -134.61\n",
      "No. Observations:                  24   AIC:                             275.2\n",
      "Df Residuals:                      21   BIC:                             278.8\n",
      "Df Model:                           2                                         \n",
      "Covariance Type:            nonrobust                                         \n",
      "=====================================================================================\n",
      "                        coef    std err          t      P>|t|      [0.025      0.975]\n",
      "-------------------------------------------------------------------------------------\n",
      "const              1798.4040    899.248      2.000      0.059     -71.685    3668.493\n",
      "Interest_Rate       345.5401    111.367      3.103      0.005     113.940     577.140\n",
      "Unemployment_Rate  -250.1466    117.950     -2.121      0.046    -495.437      -4.856\n",
      "==============================================================================\n",
      "Omnibus:                        2.691   Durbin-Watson:                   0.530\n",
      "Prob(Omnibus):                  0.260   Jarque-Bera (JB):                1.551\n",
      "Skew:                          -0.612   Prob(JB):                        0.461\n",
      "Kurtosis:                       3.226   Cond. No.                         394.\n",
      "==============================================================================\n",
      "\n",
      "Notes:\n",
      "[1] Standard Errors assume that the covariance matrix of the errors is correctly specified.\n"
     ]
    }
   ],
   "source": [
    "# here we have 2 variables for the multiple linear regression.\n",
    "# If you just want to use one variable for simple linear regression,\n",
    "# then use X = df['Interest_Rate'] for example\n",
    "X = df[['Interest_Rate','Unemployment_Rate']]\n",
    "\n",
    "# dependent variable\n",
    "Y = df['Stock_Index_Price']\n",
    "\n",
    "# adding a constant to the dependent variables (slopes)\n",
    "X = sm.add_constant(X)\n",
    "\n",
    "# fitting \n",
    "model = sm.OLS(Y, X).fit()\n",
    "predictions = model.predict(X) \n",
    "\n",
    "print_model = model.summary()\n",
    "print(print_model)"
   ]
  },
  {
   "cell_type": "markdown",
   "id": "8cfe5fb2-fc9a-4812-9fff-ff68a607b5ca",
   "metadata": {},
   "source": [
    "## Interpreting the Regression Results"
   ]
  },
  {
   "cell_type": "markdown",
   "id": "b1b5a11e-5545-40aa-975d-4fb7149a2866",
   "metadata": {
    "jp-MarkdownHeadingCollapsed": true,
    "tags": []
   },
   "source": [
    "1. **Adjusted R-squared** reflects the fit of the model. R-squared values range from 0 to 1, where a higher value generally indicates a better fit, assuming certain conditions are met.\n",
    "2. **const coefficient** is your Y-intercept. It means that if both the Interest_Rate and Unemployment_Rate coefficients are zero, then the expected output (i.e., the Y) would be equal to the const coefficient.\n",
    "3. **Interest_Rate coefficient** represents the change in the output Y due to a change of one unit in the interest rate (everything else held constant).\n",
    "4. **Unemployment_Rate coefficient** represents the change in the output Y due to a change of one unit in the unemployment rate (everything else held constant).\n",
    "5. **std err** reflects the level of accuracy of the coefficients. The lower it is, the higher is the level of accuracy.\n",
    "6. **P >|t|** is your p-value. A p-value of less than 0.05 is considered to be statistically significant.\n",
    "7. **Confidence Interval** represents the range in which our coefficients are likely to fall (with a likelihood of 95%)."
   ]
  },
  {
   "cell_type": "markdown",
   "id": "f950df38-1e95-4401-8e19-56f9e4b2a25f",
   "metadata": {},
   "source": [
    "### Making Predictions Based on the Regression Results"
   ]
  },
  {
   "cell_type": "code",
   "execution_count": null,
   "id": "1cfd6d61-5d39-4a8e-aaea-1a5a81998d88",
   "metadata": {},
   "outputs": [],
   "source": []
  },
  {
   "cell_type": "markdown",
   "id": "4cb88f4f-31f9-48a6-98a1-8bd0503d616c",
   "metadata": {},
   "source": [
    "$$ Stock\\ Index\\ Price = const. +\\ Interest\\ Rate*X_1 + Unemployment\\ Rate*X_2 $$"
   ]
  },
  {
   "cell_type": "markdown",
   "id": "754462e0-37be-4074-9e87-2fe12ec4bab2",
   "metadata": {},
   "source": [
    "Using the above formula, a prediction can be calculated and compared with the actual value to check the level of accuracy."
   ]
  },
  {
   "cell_type": "code",
   "execution_count": null,
   "id": "7a04d310-e956-45d6-9f61-1db41fd5dbfa",
   "metadata": {},
   "outputs": [],
   "source": []
  }
 ],
 "metadata": {
  "kernelspec": {
   "display_name": "lighthouse",
   "language": "python",
   "name": "lighthouse"
  },
  "language_info": {
   "codemirror_mode": {
    "name": "ipython",
    "version": 3
   },
   "file_extension": ".py",
   "mimetype": "text/x-python",
   "name": "python",
   "nbconvert_exporter": "python",
   "pygments_lexer": "ipython3",
   "version": "3.8.13"
  }
 },
 "nbformat": 4,
 "nbformat_minor": 5
}
