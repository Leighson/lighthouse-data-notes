{
 "cells": [
  {
   "cell_type": "markdown",
   "id": "96e05d8b-5953-417e-b277-05412fa20e1d",
   "metadata": {},
   "source": [
    "# Eigenthings and Linear Transformation"
   ]
  },
  {
   "cell_type": "code",
   "execution_count": 1,
   "id": "4f4faece-c6ac-4a85-981e-1f0ab0a4ac96",
   "metadata": {},
   "outputs": [],
   "source": [
    "import numpy as np\n",
    "import matplotlib.pyplot as plt\n",
    "\n",
    "# set the default style of figures\n",
    "plt.style.use('fivethirtyeight')"
   ]
  },
  {
   "cell_type": "markdown",
   "id": "03488433-ee2a-40d5-a3d2-32413eeb1624",
   "metadata": {},
   "source": [
    "### Matrices as Linear Transformations"
   ]
  },
  {
   "cell_type": "markdown",
   "id": "df49fba9-4424-4ac5-b456-f836d81bb83d",
   "metadata": {},
   "source": [
    "Some matrices will rotate our space, others will rescale it. When we 'apply a matrix to a vector', it means that we calculate the dot product of the matrix with the vector."
   ]
  },
  {
   "cell_type": "code",
   "execution_count": 2,
   "id": "6a4d81a3-c0b0-40c8-b130-b5cfcc84bf49",
   "metadata": {},
   "outputs": [],
   "source": [
    "A = np.array([[-1, 3], [2, -2]])"
   ]
  },
  {
   "cell_type": "code",
   "execution_count": 3,
   "id": "e3312054-7c34-49d1-b9be-02dcc5cdbe9e",
   "metadata": {},
   "outputs": [
    {
     "data": {
      "text/plain": [
       "array([[-1,  3],\n",
       "       [ 2, -2]])"
      ]
     },
     "execution_count": 3,
     "metadata": {},
     "output_type": "execute_result"
    }
   ],
   "source": [
    "A"
   ]
  },
  {
   "cell_type": "code",
   "execution_count": 4,
   "id": "a76132aa-4438-4f0d-bc56-8c298b69bed3",
   "metadata": {},
   "outputs": [],
   "source": [
    "v = np.array([[2], [1]])"
   ]
  },
  {
   "cell_type": "code",
   "execution_count": 5,
   "id": "603f927a-a2b6-49d9-9fc4-6ce5329fa2db",
   "metadata": {},
   "outputs": [
    {
     "data": {
      "text/plain": [
       "array([[2],\n",
       "       [1]])"
      ]
     },
     "execution_count": 5,
     "metadata": {},
     "output_type": "execute_result"
    }
   ],
   "source": [
    "v"
   ]
  },
  {
   "cell_type": "code",
   "execution_count": null,
   "id": "a640fecf-0dc2-49f5-a425-8a46af2b58b5",
   "metadata": {},
   "outputs": [],
   "source": [
    "def plotVectors(vecs, colors, alpha=1, figsize=(10,8)):\n",
    "    \"\"\"\n",
    "    Plot set of vectors.\n",
    "\n",
    "    Parameters\n",
    "    ----------\n",
    "    vecs : array-like\n",
    "        Coordinates of the vectors to plot. Each vectors is in an array. For\n",
    "        instance: [[1, 3], [2, 2]] can be used to plot 2 vectors.\n",
    "    colors : array-like\n",
    "        Colors of the vectors. For instance: ['red', 'blue'] will display the\n",
    "        first vector in red and the second in blue.\n",
    "    alpha : float\n",
    "        Opacity of vectors\n",
    "    figsize : tuple (x_size,y_size)\n",
    "        Size of the figure\n",
    "\n",
    "    Returns:\n",
    "\n",
    "    fig : instance of matplotlib.figure.Figure\n",
    "        The figure of the vectors\n",
    "    \"\"\"\n",
    "    plt.figure(figsize=figsize)\n",
    "    plt.axvline(x=0, color='#A9A9A9', zorder=0)\n",
    "    plt.axhline(y=0, color='#A9A9A9', zorder=0)\n",
    "    \n",
    "    vecs = [vec.flatten() for vec in vecs]\n",
    "    \n",
    "    for i in range(len(vecs)):\n",
    "        x = np.concatenate([[0, 0], vecs[i]])\n",
    "        plt.quiver([x[0]],\n",
    "                   [x[1]],\n",
    "                   [x[2]],\n",
    "                   [x[3]],\n",
    "                   angles='xy'\n",
    "                   scale_units='xy',\n",
    "                   scale=1,\n",
    "                   color=colors[i],\n",
    "                   alpha=alpha)"
   ]
  }
 ],
 "metadata": {
  "kernelspec": {
   "display_name": "lighthouse",
   "language": "python",
   "name": "lighthouse"
  },
  "language_info": {
   "codemirror_mode": {
    "name": "ipython",
    "version": 3
   },
   "file_extension": ".py",
   "mimetype": "text/x-python",
   "name": "python",
   "nbconvert_exporter": "python",
   "pygments_lexer": "ipython3",
   "version": "3.8.13"
  }
 },
 "nbformat": 4,
 "nbformat_minor": 5
}
