{
 "cells": [
  {
   "cell_type": "markdown",
   "id": "96e05d8b-5953-417e-b277-05412fa20e1d",
   "metadata": {},
   "source": [
    "# Eigenthings and Linear Transformation"
   ]
  },
  {
   "cell_type": "code",
   "execution_count": 1,
   "id": "4f4faece-c6ac-4a85-981e-1f0ab0a4ac96",
   "metadata": {},
   "outputs": [],
   "source": [
    "import numpy as np\n",
    "import matplotlib.pyplot as plt\n",
    "\n",
    "# set the default style of figures\n",
    "plt.style.use('fivethirtyeight')"
   ]
  },
  {
   "cell_type": "markdown",
   "id": "03488433-ee2a-40d5-a3d2-32413eeb1624",
   "metadata": {},
   "source": [
    "### Matrices as Linear Transformations"
   ]
  },
  {
   "cell_type": "markdown",
   "id": "df49fba9-4424-4ac5-b456-f836d81bb83d",
   "metadata": {},
   "source": [
    "Some matrices will rotate our space, others will rescale it. When we 'apply a matrix to a vector', it means that we calculate the dot product of the matrix with the vector."
   ]
  },
  {
   "cell_type": "code",
   "execution_count": 2,
   "id": "6a4d81a3-c0b0-40c8-b130-b5cfcc84bf49",
   "metadata": {},
   "outputs": [],
   "source": [
    "A = np.array([[-1, 3], [2, -2]])"
   ]
  },
  {
   "cell_type": "code",
   "execution_count": 3,
   "id": "e3312054-7c34-49d1-b9be-02dcc5cdbe9e",
   "metadata": {},
   "outputs": [
    {
     "data": {
      "text/plain": [
       "array([[-1,  3],\n",
       "       [ 2, -2]])"
      ]
     },
     "execution_count": 3,
     "metadata": {},
     "output_type": "execute_result"
    }
   ],
   "source": [
    "A"
   ]
  },
  {
   "cell_type": "code",
   "execution_count": 4,
   "id": "a76132aa-4438-4f0d-bc56-8c298b69bed3",
   "metadata": {},
   "outputs": [],
   "source": [
    "v = np.array([[2], [1]])"
   ]
  },
  {
   "cell_type": "code",
   "execution_count": 5,
   "id": "603f927a-a2b6-49d9-9fc4-6ce5329fa2db",
   "metadata": {},
   "outputs": [
    {
     "data": {
      "text/plain": [
       "array([[2],\n",
       "       [1]])"
      ]
     },
     "execution_count": 5,
     "metadata": {},
     "output_type": "execute_result"
    }
   ],
   "source": [
    "v"
   ]
  },
  {
   "cell_type": "code",
   "execution_count": 7,
   "id": "a640fecf-0dc2-49f5-a425-8a46af2b58b5",
   "metadata": {},
   "outputs": [],
   "source": [
    "def plotVectors(vecs, colors, alpha=1, figsize=(10,8)):\n",
    "    \"\"\"\n",
    "    Plot set of vectors.\n",
    "\n",
    "    Parameters\n",
    "    ----------\n",
    "    vecs : array-like\n",
    "        Coordinates of the vectors to plot. Each vectors is in an array. For\n",
    "        instance: [[1, 3], [2, 2]] can be used to plot 2 vectors.\n",
    "    colors : array-like\n",
    "        Colors of the vectors. For instance: ['red', 'blue'] will display the\n",
    "        first vector in red and the second in blue.\n",
    "    alpha : float\n",
    "        Opacity of vectors\n",
    "    figsize : tuple (x_size,y_size)\n",
    "        Size of the figure\n",
    "\n",
    "    Returns:\n",
    "\n",
    "    fig : instance of matplotlib.figure.Figure\n",
    "        The figure of the vectors\n",
    "    \"\"\"\n",
    "    plt.figure(figsize=figsize)\n",
    "    plt.axvline(x=0, color='#A9A9A9', zorder=0)\n",
    "    plt.axhline(y=0, color='#A9A9A9', zorder=0)\n",
    "    \n",
    "    vecs = [vec.flatten() for vec in vecs]\n",
    "    \n",
    "    for i in range(len(vecs)):\n",
    "        x = np.concatenate([[0, 0], vecs[i]])\n",
    "        plt.quiver([x[0]],\n",
    "                   [x[1]],\n",
    "                   [x[2]],\n",
    "                   [x[3]],\n",
    "                   angles='xy',\n",
    "                   scale_units='xy',\n",
    "                   scale=1,\n",
    "                   color=colors[i],\n",
    "                   alpha=alpha)"
   ]
  },
  {
   "cell_type": "code",
   "execution_count": 8,
   "id": "07a3721e-56c3-46a4-bf05-81656f0dd467",
   "metadata": {},
   "outputs": [],
   "source": [
    "Av = A.dot(v)"
   ]
  },
  {
   "cell_type": "code",
   "execution_count": 10,
   "id": "c99b1601-55dd-46a4-8bd2-746af0d2b622",
   "metadata": {},
   "outputs": [
    {
     "data": {
      "text/plain": [
       "array([[1],\n",
       "       [2]])"
      ]
     },
     "execution_count": 10,
     "metadata": {},
     "output_type": "execute_result"
    }
   ],
   "source": [
    "Av"
   ]
  },
  {
   "cell_type": "code",
   "execution_count": 11,
   "id": "3c72e3bd-d8fd-42a2-b0cb-dccb82346384",
   "metadata": {},
   "outputs": [
    {
     "data": {
      "image/png": "[encoded data removed]",
      "text/plain": [
       "<Figure size 720x576 with 1 Axes>"
      ]
     },
     "metadata": {},
     "output_type": "display_data"
    }
   ],
   "source": [
    "plotVectors([v, Av], colors=['#1190FF', '#FF9A13'])\n",
    "plt.ylim(-1, 4)\n",
    "plt.xlim(-1, 4)\n",
    "plt.show()"
   ]
  },
  {
   "cell_type": "markdown",
   "id": "b518449e-0a9e-4f22-a97f-1a3ea78e32cc",
   "metadata": {},
   "source": [
    "### Eigenvectors"
   ]
  },
  {
   "cell_type": "markdown",
   "id": "cb58dde7-f430-43b7-ab6c-9120b8a3acc0",
   "metadata": {},
   "source": [
    "Imagine that 'the transformation' of the initial vector gave us a new vector with the same direction. The scale can be different but the direction is the same. When applying a matrix does not change the diretion of a vector, this special vector is called an eigenvector of the matrix."
   ]
  },
  {
   "cell_type": "code",
   "execution_count": 12,
   "id": "c5d1ec57-c5a9-4c2a-9cc3-5b502b3dff9f",
   "metadata": {},
   "outputs": [
    {
     "data": {
      "text/plain": [
       "array([[5, 1],\n",
       "       [3, 3]])"
      ]
     },
     "execution_count": 12,
     "metadata": {},
     "output_type": "execute_result"
    }
   ],
   "source": [
    "A = np.array([[5, 1], [3, 3]])\n",
    "A"
   ]
  },
  {
   "cell_type": "code",
   "execution_count": 14,
   "id": "fbba9aaa-2be2-4ddc-9f80-9943206a5dff",
   "metadata": {},
   "outputs": [
    {
     "data": {
      "text/plain": [
       "array([[1],\n",
       "       [1]])"
      ]
     },
     "execution_count": 14,
     "metadata": {},
     "output_type": "execute_result"
    }
   ],
   "source": [
    "v1 = np.array([[1], [1]])\n",
    "v1"
   ]
  },
  {
   "cell_type": "code",
   "execution_count": 15,
   "id": "0794b17b-7315-4a06-9747-b5e6a06ed3a4",
   "metadata": {},
   "outputs": [],
   "source": [
    "Av1 = A.dot(v1)"
   ]
  },
  {
   "cell_type": "code",
   "execution_count": 16,
   "id": "c1dd872b-7e3b-4d28-ac7c-d29b57aab5bc",
   "metadata": {},
   "outputs": [
    {
     "data": {
      "text/plain": [
       "array([[6],\n",
       "       [6]])"
      ]
     },
     "execution_count": 16,
     "metadata": {},
     "output_type": "execute_result"
    }
   ],
   "source": [
    "Av1"
   ]
  },
  {
   "cell_type": "code",
   "execution_count": 17,
   "id": "6bd12051-ecdd-4090-b8ea-6642b88e5088",
   "metadata": {},
   "outputs": [
    {
     "data": {
      "image/png": "[encoded data removed]",
      "text/plain": [
       "<Figure size 720x576 with 1 Axes>"
      ]
     },
     "metadata": {},
     "output_type": "display_data"
    }
   ],
   "source": [
    "orange = '#FF9A13'\n",
    "blue = '#1190FF'\n",
    "\n",
    "plotVectors([Av1, v1], colors=[blue, orange])\n",
    "plt.ylim(-1, 7)\n",
    "plt.xlim(-1, 7)\n",
    "plt.show()"
   ]
  },
  {
   "cell_type": "code",
   "execution_count": 19,
   "id": "f89876bf-e964-4a3c-95ac-d9be08bac76e",
   "metadata": {},
   "outputs": [
    {
     "data": {
      "text/plain": [
       "array([[ 1],\n",
       "       [-3]])"
      ]
     },
     "execution_count": 19,
     "metadata": {},
     "output_type": "execute_result"
    }
   ],
   "source": [
    "v2 = np.array([[1], [-3]])\n",
    "v2"
   ]
  },
  {
   "cell_type": "code",
   "execution_count": 20,
   "id": "a7478208-5485-4c62-877e-949b48acf9de",
   "metadata": {},
   "outputs": [
    {
     "data": {
      "image/png": "[encoded data removed]",
      "text/plain": [
       "<Figure size 720x576 with 1 Axes>"
      ]
     },
     "metadata": {},
     "output_type": "display_data"
    }
   ],
   "source": [
    "Av2 = A.dot(v2)\n",
    "\n",
    "plotVectors([Av2, v2], colors=[blue, orange])\n",
    "plt.ylim(-7, 1)\n",
    "plt.xlim(-1, 3)\n",
    "plt.show()"
   ]
  },
  {
   "cell_type": "markdown",
   "id": "d014361d-d2b5-4b47-b55b-25ac884a3d76",
   "metadata": {},
   "source": [
    "### Finding Eigenvalues and Eigenvectors with `numpy`"
   ]
  },
  {
   "cell_type": "code",
   "execution_count": 22,
   "id": "1e5466d6-de1b-4419-a6e5-49d2f5898e74",
   "metadata": {},
   "outputs": [
    {
     "data": {
      "text/plain": [
       "array([6., 2.])"
      ]
     },
     "execution_count": 22,
     "metadata": {},
     "output_type": "execute_result"
    }
   ],
   "source": [
    "eigenvals, V = np.linalg.eig(A)\n",
    "eigenvals"
   ]
  },
  {
   "cell_type": "code",
   "execution_count": 23,
   "id": "ae7fec9c-8794-48d4-b2e7-0cbe7c2b6625",
   "metadata": {},
   "outputs": [
    {
     "data": {
      "text/plain": [
       "array([[ 0.70710678, -0.31622777],\n",
       "       [ 0.70710678,  0.9486833 ]])"
      ]
     },
     "execution_count": 23,
     "metadata": {},
     "output_type": "execute_result"
    }
   ],
   "source": [
    "V"
   ]
  },
  {
   "cell_type": "markdown",
   "id": "45ffadd8-44a4-436d-bad6-d230772259d8",
   "metadata": {},
   "source": [
    "The first array corresponds to the 'eigenvalues' and the second correspond to the 'eigenvectors' concatenated into columns. The first 'eigenvalue' corresponds to the first ''eigenvector'. Important to note that `np.linalg.eig()` does not return 'eigenvalues' ordered by magnitude."
   ]
  },
  {
   "cell_type": "markdown",
   "id": "32a52905-2fa6-489f-a1af-2d3dfa902461",
   "metadata": {},
   "source": [
    "### Reconstructing Matrix A with its Eigenvectors and Eigenvalues"
   ]
  },
  {
   "cell_type": "markdown",
   "id": "ce3323cc-40ff-4041-9783-e3bb4166ed37",
   "metadata": {},
   "source": [
    "Create a diagonal matrix from 'eigenvalues'."
   ]
  },
  {
   "cell_type": "code",
   "execution_count": 24,
   "id": "784660d1-f1be-42b1-a8ea-3826caff65fe",
   "metadata": {},
   "outputs": [
    {
     "data": {
      "text/plain": [
       "array([[6., 0.],\n",
       "       [0., 2.]])"
      ]
     },
     "execution_count": 24,
     "metadata": {},
     "output_type": "execute_result"
    }
   ],
   "source": [
    "lambdas = np.diag(eigenvals)\n",
    "lambdas"
   ]
  },
  {
   "cell_type": "markdown",
   "id": "3159879d-f1ea-43d5-9af8-e27ccd5085d8",
   "metadata": {},
   "source": [
    "Compute the inverse matrix of the 'eigenvector' matrix."
   ]
  },
  {
   "cell_type": "code",
   "execution_count": 25,
   "id": "cd912a50-2ba3-4f10-b6cf-c57de1d4becf",
   "metadata": {},
   "outputs": [
    {
     "data": {
      "text/plain": [
       "array([[ 1.06066017,  0.35355339],\n",
       "       [-0.79056942,  0.79056942]])"
      ]
     },
     "execution_count": 25,
     "metadata": {},
     "output_type": "execute_result"
    }
   ],
   "source": [
    "V_inv = np.linalg.inv(V)\n",
    "V_inv"
   ]
  },
  {
   "cell_type": "markdown",
   "id": "cdacd946-81ed-4801-8965-a265a3709d24",
   "metadata": {},
   "source": [
    "Reconstruct the original matrix A."
   ]
  },
  {
   "cell_type": "code",
   "execution_count": 26,
   "id": "32231651-8ff3-489a-bdf0-5425f925f441",
   "metadata": {},
   "outputs": [
    {
     "data": {
      "text/plain": [
       "array([[5., 1.],\n",
       "       [3., 3.]])"
      ]
     },
     "execution_count": 26,
     "metadata": {},
     "output_type": "execute_result"
    }
   ],
   "source": [
    "A_orig  = V.dot(lambdas).dot(V_inv)\n",
    "A_orig"
   ]
  },
  {
   "cell_type": "code",
   "execution_count": 27,
   "id": "6f8ac028-90e9-4aed-9f4c-960f2d438996",
   "metadata": {},
   "outputs": [
    {
     "data": {
      "text/plain": [
       "array([[5, 1],\n",
       "       [3, 3]])"
      ]
     },
     "execution_count": 27,
     "metadata": {},
     "output_type": "execute_result"
    }
   ],
   "source": [
    "A"
   ]
  },
  {
   "cell_type": "markdown",
   "id": "b55a43dc-76c5-478c-a315-1c16c555ad07",
   "metadata": {},
   "source": [
    "We can see that both the original A and reconstructed A matrices are the same."
   ]
  },
  {
   "cell_type": "code",
   "execution_count": null,
   "id": "3ccf60fc-d59b-4578-b49f-163efb92badd",
   "metadata": {},
   "outputs": [],
   "source": []
  }
 ],
 "metadata": {
  "kernelspec": {
   "display_name": "lighthouse",
   "language": "python",
   "name": "lighthouse"
  },
  "language_info": {
   "codemirror_mode": {
    "name": "ipython",
    "version": 3
   },
   "file_extension": ".py",
   "mimetype": "text/x-python",
   "name": "python",
   "nbconvert_exporter": "python",
   "pygments_lexer": "ipython3",
   "version": "3.8.13"
  }
 },
 "nbformat": 4,
 "nbformat_minor": 5
}
