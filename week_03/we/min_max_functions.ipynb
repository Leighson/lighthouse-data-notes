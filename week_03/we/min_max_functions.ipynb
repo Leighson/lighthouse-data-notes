{
 "cells": [
  {
   "cell_type": "markdown",
   "id": "d9b88f67-ae6b-43fe-a1e2-73f9499d70c4",
   "metadata": {},
   "source": [
    "# Min/Max of Functions in Python"
   ]
  },
  {
   "cell_type": "code",
   "execution_count": 13,
   "id": "8c688d18-1d59-4474-9eea-d716f2d04d17",
   "metadata": {},
   "outputs": [
    {
     "name": "stdout",
     "output_type": "stream",
     "text": [
      "/opt/homebrew/Caskroom/miniforge/base/envs/lighthouse/lib/python3.8/site-packages/scipy/__init__.py\n"
     ]
    }
   ],
   "source": [
    "import scipy\n",
    "print(scipy.__file__)"
   ]
  },
  {
   "cell_type": "code",
   "execution_count": 14,
   "id": "d6c89fc8-57c6-49bb-a457-738447e1719c",
   "metadata": {},
   "outputs": [],
   "source": [
    "from pathlib import Path\n",
    "import numpy as np\n",
    "from scipy.cluster.vq import whiten, kmeans, vq"
   ]
  },
  {
   "cell_type": "code",
   "execution_count": 16,
   "id": "27f51edf-2c20-4d02-85ab-27c74834d826",
   "metadata": {},
   "outputs": [],
   "source": [
    "data = Path('SMSSpamCollections').read_text()\n",
    "data = data.strip()\n",
    "data = data.split(\"\\n\")"
   ]
  },
  {
   "cell_type": "code",
   "execution_count": 29,
   "id": "96fb2cc1-5d29-4f01-a2db-13b4aa99b604",
   "metadata": {},
   "outputs": [
    {
     "name": "stdout",
     "output_type": "stream",
     "text": [
      "<class 'list'> 5574 objects\n"
     ]
    }
   ],
   "source": [
    "print(type(data), len(data), 'objects')"
   ]
  },
  {
   "cell_type": "code",
   "execution_count": 26,
   "id": "402e87bd-004d-4b4c-a808-8c1abbf4065a",
   "metadata": {},
   "outputs": [],
   "source": [
    "digit_counts = np.empty((len(data), 2), dtype=int)"
   ]
  },
  {
   "cell_type": "markdown",
   "id": "6d00a431-53f2-45e3-afe3-3dbc2313130b",
   "metadata": {},
   "source": [
    "In the dataset, each message has one of two labels:\n",
    "1. 'ham' for legitimate messages\n",
    "2. 'spam' for spam messages"
   ]
  },
  {
   "cell_type": "markdown",
   "id": "2038bcea-facb-4346-be23-90584389238f",
   "metadata": {},
   "source": [
    "The full text message is associated with each label. When you scan through the data, you might notice that spam messages tend to have a lot of numeric digits in them. They often include a phone number or prize winnings. Let's predict whether or not a message is spam based on the number of digits in the message. To do this, you'll **cluster** the data into three groups based on the number of digits that appear in the message:\n",
    "1. **Not Spam**: Messages with the smallest number of digits are predicted not to be spam.\n",
    "2. **Unknown**: Messages with an intermediate number of digits are unknown and need to be processed by more advanced algorithms.\n",
    "3. **Spam**: Messages with the highest number of digits are predicted to be spam."
   ]
  },
  {
   "cell_type": "code",
   "execution_count": 37,
   "id": "510de186-b75f-40b9-87f7-8eee669e9428",
   "metadata": {},
   "outputs": [],
   "source": [
    "for i, line in enumerate(data):\n",
    "    case, message = line.split(\"\\t\") # splits by tab\n",
    "    num_digits = sum(c.isdigit() for c in message) # checks for number of digits and counts them\n",
    "    digit_counts[i, 0] = 0 if case == \"ham\" else 1 # binary signature to designate message as spam or ham\n",
    "    digit_counts[i, 1] = num_digits # place digit count in respective row along with spam/ham designation"
   ]
  },
  {
   "cell_type": "markdown",
   "id": "c7c03193-883a-4a70-8677-71e54e21a7e1",
   "metadata": {},
   "source": [
    "There are 5,574 observation (or individual messages) in the dataset with 2 features:\n",
    "1. **The number of digits** in a text message\n",
    "2. **The number of times** that number of digits appears in the whole dataset"
   ]
  },
  {
   "cell_type": "code",
   "execution_count": 38,
   "id": "14bc430b-7d90-45fc-83d8-eaad0256dd4f",
   "metadata": {},
   "outputs": [],
   "source": [
    "unique_counts = np.unique(digit_counts[:, 1], return_counts=True) # collects unique set of digits and returns a value count\n",
    "unique_counts = np.transpose(np.vstack(unique_counts)) # transform the 1xN array into 2xN (vector) and transpose into Nx2"
   ]
  },
  {
   "cell_type": "markdown",
   "id": "14f35925-4304-4fc6-9f3b-269008a09564",
   "metadata": {},
   "source": [
    "`np.unique()` takes an array as the first argument and returns another array with the unique elements from the argument. It also takes several optional arguments. Here, you use `return_counts=True` to instruct `np.unique()` to also return an array with the number of times each unique element is present in the input array."
   ]
  },
  {
   "cell_type": "markdown",
   "id": "560fa8ad-b6a1-4bc6-9091-d776f6324ef2",
   "metadata": {},
   "source": [
    "Each row in `unique_counts` now has two elements:\n",
    "1. **The number of digits** in a message\n",
    "2. **The number of messages** that had that number of digits"
   ]
  },
  {
   "cell_type": "code",
   "execution_count": 42,
   "id": "3827720b-2e5e-40c7-8a38-7fd18a523eed",
   "metadata": {},
   "outputs": [],
   "source": [
    "whitened_counts = whiten(unique_counts) # normalize features for unit variance to improve results from kmeans()\n",
    "codebook, _ = kmeans(whitened_counts, 3) # 3 clusters: 'ham', 'spam', 'unknown'"
   ]
  },
  {
   "cell_type": "code",
   "execution_count": 43,
   "id": "415ae8f5-4f9b-4388-b716-dbfabf04b316",
   "metadata": {},
   "outputs": [],
   "source": [
    "codes, _ = vq(whitened_counts, codebook)"
   ]
  },
  {
   "cell_type": "markdown",
   "id": "87d83886-b71a-4f5a-b289-8f3307dfbce6",
   "metadata": {},
   "source": [
    "vq() assigns codes from the codebook to each observation."
   ]
  },
  {
   "cell_type": "code",
   "execution_count": 46,
   "id": "7ccbd42e-4153-4ebf-bd04-7aaf63adec01",
   "metadata": {},
   "outputs": [],
   "source": [
    "ham_code = codes[0] # ham should have least digits\n",
    "spam_code = codes[-1] # spam should have most\n",
    "unknown_code = list(set(range(3)) ^ set((ham_code, spam_code)))[0] # unknown are somewhere in the middle"
   ]
  },
  {
   "cell_type": "code",
   "execution_count": 47,
   "id": "4dd16642-2098-4e7f-a775-299f5f70613d",
   "metadata": {},
   "outputs": [
    {
     "name": "stdout",
     "output_type": "stream",
     "text": [
      "definitely ham: [   0 4110]\n",
      "definitely spam: [47  1]\n",
      "unknown: [20 18]\n"
     ]
    }
   ],
   "source": [
    "print(\"definitely ham:\", unique_counts[codes == ham_code][-1])\n",
    "print(\"definitely spam:\", unique_counts[codes == spam_code][-1])\n",
    "print(\"unknown:\", unique_counts[codes == unknown_code][-1])"
   ]
  },
  {
   "cell_type": "markdown",
   "id": "62f3fb08-fb19-48ea-8f27-90bda1215eba",
   "metadata": {},
   "source": [
    "Process to measure accuracy of predictions."
   ]
  },
  {
   "cell_type": "code",
   "execution_count": 50,
   "id": "afc564c2-9a1d-4f05-b573-c602a422ab1b",
   "metadata": {},
   "outputs": [],
   "source": [
    "digits = digit_counts[:, 1]\n",
    "predicted_hams = digits == 0\n",
    "predicted_spams = digits > 20\n",
    "predicted_unknowns = np.logical_and(digits > 0, digits <= 20)"
   ]
  },
  {
   "cell_type": "code",
   "execution_count": 52,
   "id": "10b40264-e33f-4cc4-ad91-eb8f3871e25c",
   "metadata": {},
   "outputs": [],
   "source": [
    "spam_cluster = digit_counts[predicted_spams]\n",
    "ham_cluster = digit_counts[predicted_hams]\n",
    "unk_cluster = digit_counts[predicted_unknowns]"
   ]
  },
  {
   "cell_type": "code",
   "execution_count": 53,
   "id": "3737e2c2-ffad-4cb1-a926-79e360fa802e",
   "metadata": {},
   "outputs": [
    {
     "name": "stdout",
     "output_type": "stream",
     "text": [
      "hams: (array([0, 1]), array([4071,   39]))\n",
      "spams: (array([0, 1]), array([  1, 232]))\n",
      "unknowns: (array([0, 1]), array([755, 476]))\n"
     ]
    }
   ],
   "source": [
    "print(\"hams:\", np.unique(ham_cluster[:, 0], return_counts=True))\n",
    "print(\"spams:\", np.unique(spam_cluster[:, 0], return_counts=True))\n",
    "print(\"unknowns:\", np.unique(unk_cluster[:, 0], return_counts=True))"
   ]
  },
  {
   "cell_type": "markdown",
   "id": "f1f3af01-17f1-47bc-a17f-72a0db82a67e",
   "metadata": {},
   "source": [
    "### Using the Optimize Module in SciPy"
   ]
  },
  {
   "cell_type": "markdown",
   "id": "7240364a-39b5-433d-b8fc-bb4ecb276bfc",
   "metadata": {},
   "source": [
    "- `minimize_scalar()` and `minimize()` to minimize a function of one variable and many variables, respectively\n",
    "- `curve_fit()` to fit a function to a set of data\n",
    "- `root_scalar()` and `root()` to find the zeros of a function of one variable and many variables, respectively\n",
    "- `linprog()` to minimize a linear objective function with linear inequality and equality constraints"
   ]
  },
  {
   "cell_type": "markdown",
   "id": "af7a8481-37f7-46a1-8457-fe4dabf1ad6c",
   "metadata": {},
   "source": [
    "In practice, all of these functions are performing *optimization* of one sort or another. In this section, you'll learn about the two minimization functions."
   ]
  },
  {
   "cell_type": "markdown",
   "id": "e6f3d824-ba11-4567-91ec-14ea30ab46df",
   "metadata": {},
   "source": [
    "### Minimizaing a Function With One Variable"
   ]
  },
  {
   "cell_type": "markdown",
   "id": "5a92baaf-1f1f-4ade-adb9-637305ab3dea",
   "metadata": {},
   "source": [
    "A mathematical function that accepts one number of results in one output is called a **scalar function**."
   ]
  },
  {
   "cell_type": "code",
   "execution_count": 54,
   "id": "2455ef75-d717-4504-a415-257c45a67b1a",
   "metadata": {},
   "outputs": [],
   "source": [
    "from scipy.optimize import minimize_scalar\n",
    "\n",
    "def objective_function(x):\n",
    "    return 3 * x ** 4 - 2 * x + 1"
   ]
  },
  {
   "cell_type": "code",
   "execution_count": 55,
   "id": "a7e0b0b7-a4af-43da-abf6-c799dca11d66",
   "metadata": {},
   "outputs": [],
   "source": [
    "res = minimize_scalar(objective_function)"
   ]
  },
  {
   "cell_type": "markdown",
   "id": "30caa9ab-6611-4b26-bffd-4122a6f249d4",
   "metadata": {},
   "source": [
    "The output of `minimize_scalar()` is an instance of `OptimizeResult`. This class collects together many of the relevant details from teh optimizer's run, including whether or not the optimization was successful and, if succesful, what the final result was."
   ]
  },
  {
   "cell_type": "code",
   "execution_count": 56,
   "id": "d5cb5056-0555-40ca-83df-1f4f1c4c622e",
   "metadata": {},
   "outputs": [
    {
     "data": {
      "text/plain": [
       "     fun: 0.17451818777634331\n",
       " message: '\\nOptimization terminated successfully;\\nThe returned value satisfies the termination criteria\\n(using xtol = 1.48e-08 )'\n",
       "    nfev: 16\n",
       "     nit: 12\n",
       " success: True\n",
       "       x: 0.5503212087491959"
      ]
     },
     "execution_count": 56,
     "metadata": {},
     "output_type": "execute_result"
    }
   ],
   "source": [
    "res"
   ]
  },
  {
   "cell_type": "markdown",
   "id": "a68c6676-a768-4aba-8734-a17522170091",
   "metadata": {},
   "source": [
    "NOTE: Not every function has a minimum And some functions have serveral minima. In these cases, `minimize_scalar()` is not guaranteed to find a global minimum of the function. However, a method keyword argument can be used to specify the solver for certain optimizations.\n",
    "1. `brent` is an implementation of **Brent's algorithm**. This is the default.\n",
    "2. `golden` is the implementation of the **golden-section search**.\n",
    "3. `bounded` is a bounded implementation of **Brent's algorithm**. It's useful to limit the search region when the minimum is in a known range."
   ]
  },
  {
   "cell_type": "code",
   "execution_count": 57,
   "id": "55dcacce-91e9-4b3f-bb3a-8a20fc7651c2",
   "metadata": {},
   "outputs": [],
   "source": [
    "def objective_function(x):\n",
    "    return x ** 4 - x ** 2"
   ]
  },
  {
   "cell_type": "code",
   "execution_count": 58,
   "id": "5b515d2b-4d21-47d6-ba41-5e1b7228d98e",
   "metadata": {},
   "outputs": [],
   "source": [
    "res = minimize_scalar(objective_function)"
   ]
  },
  {
   "cell_type": "code",
   "execution_count": 64,
   "id": "57fde8d6-33a5-414b-94fe-288fa180842d",
   "metadata": {},
   "outputs": [
    {
     "data": {
      "text/plain": [
       "     fun: -0.24999999999999994\n",
       " message: '\\nOptimization terminated successfully;\\nThe returned value satisfies the termination criteria\\n(using xtol = 1.48e-08 )'\n",
       "    nfev: 15\n",
       "     nit: 11\n",
       " success: True\n",
       "       x: 0.7071067853059209"
      ]
     },
     "execution_count": 64,
     "metadata": {},
     "output_type": "execute_result"
    }
   ],
   "source": [
    "res"
   ]
  },
  {
   "cell_type": "code",
   "execution_count": 65,
   "id": "9aa5f6a6-05ce-4606-a60a-51a57af07fff",
   "metadata": {},
   "outputs": [],
   "source": [
    "res_bracket = minimize_scalar(objective_function, bracket=(-1, 0))\n",
    "# the bracket defines the values between which the result should output in case there exists more\n",
    "# than one solution    "
   ]
  },
  {
   "cell_type": "code",
   "execution_count": 66,
   "id": "411ef202-a84d-4e6f-8ce6-d31430daa4b6",
   "metadata": {},
   "outputs": [
    {
     "data": {
      "text/plain": [
       "     fun: -0.24999999999999997\n",
       " message: '\\nOptimization terminated successfully;\\nThe returned value satisfies the termination criteria\\n(using xtol = 1.48e-08 )'\n",
       "    nfev: 17\n",
       "     nit: 13\n",
       " success: True\n",
       "       x: 0.7071067809244586"
      ]
     },
     "execution_count": 66,
     "metadata": {},
     "output_type": "execute_result"
    }
   ],
   "source": [
    "res_bracket"
   ]
  },
  {
   "cell_type": "markdown",
   "id": "b85b6e16-950e-4573-81a3-3ea6787030e4",
   "metadata": {},
   "source": [
    "### Minimizing a Function with Many Variables"
   ]
  },
  {
   "cell_type": "markdown",
   "id": "12451c59-a0cb-4cb2-803f-ce4536062853",
   "metadata": {},
   "source": [
    "`minimize()` can handle **multivariate** inputs and outputs and has more complicated optimization algorithms to be able to handle this. In addition, `minimize()` can handle **constraints** on the solution to your problem.\n",
    "1. `LinearConstraint` is a solution that is constrained by taking the inner product of the solution 'x' values with a user-input array and comparing the result to a lower and upper bound.\n",
    "2. `NonlinearConstraint` is a solution that is constrained by applying a user-supplied function to the solution 'x' values and comparing the return value with a lower and upper bound.\n",
    "3. `Bounds` is the solution 'x' values constrained to lie between a lower and upper bound."
   ]
  },
  {
   "cell_type": "code",
   "execution_count": 67,
   "id": "f355c331-a948-4898-854d-45f346527989",
   "metadata": {},
   "outputs": [],
   "source": [
    "import numpy as np\n",
    "from scipy.optimize import minimize, LinearConstraint\n",
    "\n",
    "n_buyers = 10\n",
    "n_shares = 15"
   ]
  },
  {
   "cell_type": "code",
   "execution_count": 68,
   "id": "065ed393-0180-4c8c-ab28-c4557f3d6b77",
   "metadata": {},
   "outputs": [],
   "source": [
    "np.random.seed(10)\n",
    "prices = np.random.random(n_buyers)\n",
    "money_available = np.random.randint(1, 4, n_buyers)"
   ]
  },
  {
   "cell_type": "code",
   "execution_count": 69,
   "id": "771a8265-ec97-410a-9a8f-3d210c836fcb",
   "metadata": {},
   "outputs": [
    {
     "name": "stdout",
     "output_type": "stream",
     "text": [
      "[0.77132064 0.02075195 0.63364823 0.74880388 0.49850701 0.22479665\n",
      " 0.19806286 0.76053071 0.16911084 0.08833981]\n",
      "[1 1 1 3 1 3 3 2 1 1]\n",
      "[ 1.29647768 48.18824404  1.57816269  4.00638948  2.00598984 13.34539487\n",
      " 15.14670609  2.62974258  5.91328161 11.3199242 ]\n"
     ]
    }
   ],
   "source": [
    "n_shares_per_buyer = money_available / prices\n",
    "print(prices, money_available, n_shares_per_buyer, sep=\"\\n\")"
   ]
  },
  {
   "cell_type": "code",
   "execution_count": 70,
   "id": "9553c892-8b39-496b-896e-aef0afb1cd2c",
   "metadata": {},
   "outputs": [],
   "source": [
    "constraint = LinearConstraint(np.ones(n_buyers), lb=n_shares, ub=n_shares)"
   ]
  },
  {
   "cell_type": "code",
   "execution_count": 71,
   "id": "4baa870f-e2d0-4a69-810a-e1a9307f9b95",
   "metadata": {},
   "outputs": [],
   "source": [
    "bounds = [(0, n) for n in n_shares_per_buyer]"
   ]
  },
  {
   "cell_type": "code",
   "execution_count": 72,
   "id": "f207dd37-3665-469c-a51c-73a0c29ddec4",
   "metadata": {},
   "outputs": [],
   "source": [
    "def objective_function(x, prices):\n",
    "    return -x.dot(prices)"
   ]
  },
  {
   "cell_type": "code",
   "execution_count": 73,
   "id": "7debc349-7961-4006-a7dd-44f3883baa48",
   "metadata": {},
   "outputs": [],
   "source": [
    "res = minimize(\n",
    "    objective_function,\n",
    "    x0=10 * np.random.random(n_buyers),\n",
    "    args=(prices,),\n",
    "    constraints=constraint,\n",
    "    bounds=bounds,\n",
    ")"
   ]
  },
  {
   "cell_type": "code",
   "execution_count": 74,
   "id": "a75e3b73-d79f-404d-a244-4253e2b0dc0a",
   "metadata": {},
   "outputs": [
    {
     "data": {
      "text/plain": [
       "     fun: -8.78302015708768\n",
       "     jac: array([-0.7713207 , -0.02075195, -0.63364828, -0.74880397, -0.49850702,\n",
       "       -0.22479665, -0.1980629 , -0.76053071, -0.16911089, -0.08833981])\n",
       " message: 'Optimization terminated successfully'\n",
       "    nfev: 187\n",
       "     nit: 17\n",
       "    njev: 17\n",
       "  status: 0\n",
       " success: True\n",
       "       x: array([1.29647768e+00, 3.73026111e-14, 1.57816269e+00, 4.00638948e+00,\n",
       "       2.00598984e+00, 3.48323773e+00, 6.66133815e-16, 2.62974258e+00,\n",
       "       2.79628716e-15, 5.05103555e-15])"
      ]
     },
     "execution_count": 74,
     "metadata": {},
     "output_type": "execute_result"
    }
   ],
   "source": [
    "res"
   ]
  },
  {
   "cell_type": "code",
   "execution_count": 75,
   "id": "0a86d9ac-6729-467f-b341-847aa9ccb552",
   "metadata": {},
   "outputs": [
    {
     "name": "stdout",
     "output_type": "stream",
     "text": [
      "The total number of shares is: 14.999999999999996\n",
      "Leftover money for each buyer: [3.66373598e-15 1.00000000e+00 1.77635684e-15 3.55271368e-15\n",
      " 2.10942375e-15 2.21697984e+00 3.00000000e+00 4.88498131e-15\n",
      " 1.00000000e+00 1.00000000e+00]\n"
     ]
    }
   ],
   "source": [
    "print(\"The total number of shares is:\", sum(res.x))\n",
    "print(\"Leftover money for each buyer:\", money_available - res.x * prices)"
   ]
  },
  {
   "cell_type": "code",
   "execution_count": null,
   "id": "c98535cc-10ea-4193-8e62-096716a6659a",
   "metadata": {},
   "outputs": [],
   "source": []
  }
 ],
 "metadata": {
  "kernelspec": {
   "display_name": "lighthouse",
   "language": "python",
   "name": "lighthouse"
  },
  "language_info": {
   "codemirror_mode": {
    "name": "ipython",
    "version": 3
   },
   "file_extension": ".py",
   "mimetype": "text/x-python",
   "name": "python",
   "nbconvert_exporter": "python",
   "pygments_lexer": "ipython3",
   "version": "3.8.13"
  }
 },
 "nbformat": 4,
 "nbformat_minor": 5
}
