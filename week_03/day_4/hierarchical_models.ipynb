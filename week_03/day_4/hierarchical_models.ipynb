{
 "cells": [
  {
   "cell_type": "markdown",
   "id": "f550e448-b180-41bd-8129-b75c19b04015",
   "metadata": {},
   "source": [
    "# Hierarchical Models"
   ]
  },
  {
   "cell_type": "code",
   "execution_count": 40,
   "id": "8baf141a-6729-43e3-9d0d-cad777db44db",
   "metadata": {},
   "outputs": [],
   "source": [
    "# import libraries\n",
    "from sklearn.datasets import make_blobs\n",
    "import matplotlib.pyplot as plt\n",
    "import numpy as np\n",
    "\n",
    "# Generate clusters \n",
    "X, y = make_blobs(n_samples=150,\n",
    "                  n_features=2,\n",
    "                  centers=3,\n",
    "                  cluster_std=0.5,\n",
    "                  random_state=0)\n",
    "\n",
    "# X is an array of data points\n",
    "# y represents which cluster each array belongs to\n",
    "# you can check the new clusters against the y array to confirm accuracy"
   ]
  },
  {
   "cell_type": "code",
   "execution_count": 41,
   "id": "addf9bc3-37a6-4488-8a03-8e61d5138e4c",
   "metadata": {},
   "outputs": [],
   "source": [
    "def plot_clusters(X,y_res, plt_cluster_centers = False):\n",
    "    X_centroids = []\n",
    "    Y_centroids = []\n",
    "\n",
    "    # because the blobs output to array, the hash works here\n",
    "    for cluster in set(y_res):\n",
    "        x = X[y_res == cluster,0]\n",
    "        y = X[y_res == cluster,1]\n",
    "        X_centroids.append(np.mean(x))\n",
    "        Y_centroids.append(np.mean(y))\n",
    "\n",
    "        plt.scatter(x,\n",
    "                    y,\n",
    "                    s=50,\n",
    "                    marker='s',\n",
    "                    label=f'cluster {cluster}')\n",
    "\n",
    "    if plt_cluster_centers:\n",
    "        plt.scatter(X_centroids,\n",
    "                    Y_centroids,\n",
    "                    marker='*',\n",
    "                    c='red',\n",
    "                    s=250,\n",
    "                    label='centroids')\n",
    "    plt.legend()\n",
    "    plt.grid()\n",
    "    plt.show()"
   ]
  },
  {
   "cell_type": "markdown",
   "id": "15a14e4d-f812-48b9-b779-29aea3391356",
   "metadata": {},
   "source": [
    "### Hierarchical Clustering"
   ]
  },
  {
   "cell_type": "markdown",
   "id": "0835b657-86c9-49aa-8b80-987703d6c69f",
   "metadata": {},
   "source": [
    "Hierarchical clustering is a general family of clustering algorithms that build nested clusters by merging or splitting them successively. This hierarchy of clusters is represented as atree (or a dendrogram). The root of the tree is the unique cluster that gathers all the samples, with the leaves being the clusters with only one sample.\n",
    "\n",
    "We will focus on **Agglomerative clustering**. It performs a hierarchical clustering using a bottom-up approach. Each observation starts in its own cluster, and the clusters are successively merged together.\n",
    "\n",
    "Let's begin by importing the necessary libraries:"
   ]
  },
  {
   "cell_type": "code",
   "execution_count": 42,
   "id": "63327a14-2d10-46ae-b019-65101afb3c11",
   "metadata": {},
   "outputs": [],
   "source": [
    "# agglomerative clustering\n",
    "from sklearn.cluster import AgglomerativeClustering\n",
    "\n",
    "# cluster hierarchy\n",
    "import scipy.cluster.hierarchy as sch"
   ]
  },
  {
   "cell_type": "code",
   "execution_count": 44,
   "id": "16a32c22-36eb-45b8-ae18-3d0f2cf05a8a",
   "metadata": {},
   "outputs": [],
   "source": [
    "# create an object from the AgglomerativeClustering class\n",
    "ac = AgglomerativeClustering(affinity='euclidean',\n",
    "                             linkage='ward',\n",
    "                             n_clusters=3)"
   ]
  },
  {
   "cell_type": "markdown",
   "id": "18d7c81a-8bbd-426b-8644-456b8a439703",
   "metadata": {},
   "source": [
    "In the code above, we created an `AgglomerativeClustering` object. We set the Eculidean distance to the `affinity` parameter and set the number of clusters to three. We also set the `linkage` parameter to the `ward`. The linkage criteria determines the metric used for the merge strategy.\n",
    "- `ward` minimizes the sum of squared differences within all clusters. It is a variance-minimizing approach and, in this sense, is simlar to the k-means objective function but tackled with an agglomerative hierarchical approach.\n",
    "- `maximum` or complete linkage minimizes the maximum distance between observations of pairs of clusters.\n",
    "- `average` linkage minimizes the average of the distances between all observations of pairs of clusters.\n",
    "- `single` linkage minimizes the distance between the closest observations of pairs of clusters."
   ]
  },
  {
   "cell_type": "code",
   "execution_count": 45,
   "id": "ab937e0d-6290-4cb5-a79b-ec7a2ed90859",
   "metadata": {},
   "outputs": [],
   "source": [
    "# fit and predict\n",
    "y_hc = ac.fit_predict(X)"
   ]
  },
  {
   "cell_type": "code",
   "execution_count": 46,
   "id": "6549ba97-8f50-4f95-935b-746705a7164a",
   "metadata": {},
   "outputs": [
    {
     "data": {
      "image/png": "[encoded data removed]",
      "text/plain": [
       "<Figure size 432x288 with 1 Axes>"
      ]
     },
     "metadata": {
      "needs_background": "light"
     },
     "output_type": "display_data"
    }
   ],
   "source": [
    "# plot the results\n",
    "plot_clusters(X, y_hc)"
   ]
  },
  {
   "cell_type": "markdown",
   "id": "7c076cea-1e0d-460e-9ca4-cf1d324f2f3e",
   "metadata": {},
   "source": [
    "From the plot above, we can see that the `Agglomerative clustering` clustered the data as we expected. There is no difference between `k-means` results from the last tutorial and these results."
   ]
  },
  {
   "cell_type": "markdown",
   "id": "150ef11d-284e-4623-a17c-f777acce3dc8",
   "metadata": {},
   "source": [
    "# Dendrogram"
   ]
  },
  {
   "cell_type": "code",
   "execution_count": 54,
   "id": "b8b0f8f7-b786-4fb8-86b6-67275487bd00",
   "metadata": {},
   "outputs": [],
   "source": [
    "# define plot_dendrogram function\n",
    "def plot_dendrogram(X, method = 'ward'):\n",
    "    dendrogram = sch.dendrogram(sch.linkage(X, method=method))\n",
    "    plt.title('Dendrogram')\n",
    "    plt.ylabel('Euclidean distances')\n",
    "    plt.xlabel('Points')\n",
    "    plt.show()"
   ]
  },
  {
   "cell_type": "code",
   "execution_count": 53,
   "id": "1257e6d2-81c1-43c3-a4c0-97dd1a49c136",
   "metadata": {},
   "outputs": [
    {
     "data": {
      "image/png": "[encoded data removed]",
      "text/plain": [
       "<Figure size 432x288 with 1 Axes>"
      ]
     },
     "metadata": {
      "needs_background": "light"
     },
     "output_type": "display_data"
    }
   ],
   "source": [
    "plot_dendrogram(X)"
   ]
  },
  {
   "cell_type": "code",
   "execution_count": null,
   "id": "44570bfb-09a3-4dbb-b20a-5e7499710887",
   "metadata": {},
   "outputs": [],
   "source": []
  }
 ],
 "metadata": {
  "kernelspec": {
   "display_name": "lighthouse",
   "language": "python",
   "name": "lighthouse"
  },
  "language_info": {
   "codemirror_mode": {
    "name": "ipython",
    "version": 3
   },
   "file_extension": ".py",
   "mimetype": "text/x-python",
   "name": "python",
   "nbconvert_exporter": "python",
   "pygments_lexer": "ipython3",
   "version": "3.8.13"
  }
 },
 "nbformat": 4,
 "nbformat_minor": 5
}
