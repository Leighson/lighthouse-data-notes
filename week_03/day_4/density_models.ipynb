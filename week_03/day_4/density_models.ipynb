{
 "cells": [
  {
   "cell_type": "markdown",
   "id": "8e3866e3-1893-45ea-b41d-66cf21a4389a",
   "metadata": {},
   "source": [
    "# Density Models"
   ]
  },
  {
   "cell_type": "code",
   "execution_count": 4,
   "id": "c1e3107a-b6c3-4ce0-8f90-93d6faa714a7",
   "metadata": {},
   "outputs": [],
   "source": [
    "# import libraries\n",
    "from sklearn.datasets import make_blobs\n",
    "import matplotlib.pyplot as plt\n",
    "import numpy as np"
   ]
  },
  {
   "cell_type": "code",
   "execution_count": 5,
   "id": "f62565d2-3241-4a19-a88e-bb80f9c00fac",
   "metadata": {},
   "outputs": [],
   "source": [
    "# generate clusters \n",
    "X, y = make_blobs(n_samples=150,\n",
    "                  n_features=2,\n",
    "                  centers=3,\n",
    "                  cluster_std=0.5,\n",
    "                  random_state=0)"
   ]
  },
  {
   "cell_type": "code",
   "execution_count": 7,
   "id": "2be5c142-1a94-4454-a8de-d20df6579ddc",
   "metadata": {},
   "outputs": [],
   "source": [
    "def plot_clusters(X,y_res, plt_cluster_centers = False):\n",
    "    X_centroids = []\n",
    "    Y_centroids = []\n",
    "\n",
    "    for cluster in set(y_res):\n",
    "        x = X[y_res == cluster,0]\n",
    "        y = X[y_res == cluster,1]\n",
    "        X_centroids.append(np.mean(x))\n",
    "        Y_centroids.append(np.mean(y))\n",
    "\n",
    "        plt.scatter(x,\n",
    "                    y,\n",
    "                    s=50,\n",
    "                    marker='s',\n",
    "                    label=f'cluster {cluster}')\n",
    "\n",
    "    if plt_cluster_centers:\n",
    "        plt.scatter(X_centroids,\n",
    "                    Y_centroids,\n",
    "                    marker='*',\n",
    "                    c='red',\n",
    "                    s=250,\n",
    "                    label='centroids')\n",
    "        \n",
    "    plt.legend()\n",
    "    plt.grid()\n",
    "    plt.show()"
   ]
  },
  {
   "cell_type": "markdown",
   "id": "e8b8dbe7-adeb-4434-b2c4-93c733bdb180",
   "metadata": {},
   "source": [
    "### DBSCAN"
   ]
  },
  {
   "cell_type": "code",
   "execution_count": 8,
   "id": "73660382-25b8-4611-bc01-d2c4bc2f2b7c",
   "metadata": {},
   "outputs": [],
   "source": [
    "# import make_moons from sklearn\n",
    "from sklearn.datasets import make_moons\n",
    "\n",
    "# import DBSCAN\n",
    "from sklearn.cluster import DBSCAN"
   ]
  },
  {
   "cell_type": "markdown",
   "id": "97b26ca4-ba06-4902-9628-2bf9f6228436",
   "metadata": {},
   "source": [
    "Create an instance of `DBSCAN` class from the `Skylearn` library."
   ]
  },
  {
   "cell_type": "code",
   "execution_count": 10,
   "id": "99074747-2752-4540-8a90-451493a88300",
   "metadata": {},
   "outputs": [],
   "source": [
    "db = DBSCAN(eps=0.5,\n",
    "            min_samples=5,\n",
    "            metric='euclidean')"
   ]
  },
  {
   "cell_type": "markdown",
   "id": "d350e42f-898a-45b7-a2b6-f81a1e38a908",
   "metadata": {},
   "source": [
    "An instance of `DBSCAN` class was created with the parameters below:\n",
    "- `eps` is the maximum distance between two samples for one to be considered as being in the neighbourhood of the other. This is not a maximum bound on the distances of points within a cluster. It is the most important DBSCAN parameter to choose appropriately for our dataset and sitance function.\n",
    "- `min-samples` is the number of samples in a neighbourhood for a point to be considered as a core point. This includes the point itself."
   ]
  },
  {
   "cell_type": "code",
   "execution_count": 11,
   "id": "be3b5c4c-c388-4178-bd3f-6f67734d3285",
   "metadata": {},
   "outputs": [],
   "source": [
    "# fit and predict\n",
    "y_db = db.fit_predict(X)"
   ]
  },
  {
   "cell_type": "code",
   "execution_count": 12,
   "id": "017b57f1-8f72-47cd-b19f-e4ac19ecfb49",
   "metadata": {},
   "outputs": [
    {
     "data": {
      "image/png": "[encoded data removed]",
      "text/plain": [
       "<Figure size 432x288 with 1 Axes>"
      ]
     },
     "metadata": {
      "needs_background": "light"
     },
     "output_type": "display_data"
    }
   ],
   "source": [
    "# plot DBSCAN clusters\n",
    "plot_clusters(X, y_db)"
   ]
  },
  {
   "cell_type": "markdown",
   "id": "9320d4fb-f495-4c8b-8735-512e5d27e8cc",
   "metadata": {},
   "source": [
    "The DBSCAN algorithm assigned clusters to the data-points. The differnce from the algorithms used in the previous sections is that DBSCAN also created a separate cluster for outliers. In the plot, the outliers are displayed as red squares."
   ]
  },
  {
   "cell_type": "markdown",
   "id": "d5d1d2e9-50e4-40d5-a626-aca1ce45ddf5",
   "metadata": {},
   "source": [
    "### Non-Spherical Data"
   ]
  },
  {
   "cell_type": "markdown",
   "id": "cc4edd1e-df6a-4685-9b6b-774477bdcb8e",
   "metadata": {},
   "source": [
    "IN all the previously used examples, we used spherical-shape data in which all of the algorithms (`k-means`, `agglomerative clustering`, and `DBSCAN`) performed almost identically well. But when applied to a less ordinary shape, they do not work as well."
   ]
  },
  {
   "cell_type": "code",
   "execution_count": 13,
   "id": "a7b8a6fd-821e-44a6-be2f-bda6da8be3c3",
   "metadata": {},
   "outputs": [],
   "source": [
    "# generate moon-shape data\n",
    "X, y = make_moons(n_samples=200,\n",
    "                  noise=0.05,\n",
    "                  random_state=0)"
   ]
  },
  {
   "cell_type": "code",
   "execution_count": 14,
   "id": "93d3e572-f4f5-4e0d-b8fe-5c1560929f75",
   "metadata": {},
   "outputs": [
    {
     "data": {
      "image/png": "[encoded data removed]",
      "text/plain": [
       "<Figure size 432x288 with 1 Axes>"
      ]
     },
     "metadata": {
      "needs_background": "light"
     },
     "output_type": "display_data"
    }
   ],
   "source": [
    "# plot moon-shape data\n",
    "plt.scatter(X[:,0], X[:,1])\n",
    "plt.show()"
   ]
  },
  {
   "cell_type": "markdown",
   "id": "dd5cb726-3217-44e2-97c1-d39d7ade8cb0",
   "metadata": {},
   "source": [
    "### Trying KMeans"
   ]
  },
  {
   "cell_type": "code",
   "execution_count": 15,
   "id": "f73de959-2cf1-4b20-b0b8-9c4536961557",
   "metadata": {},
   "outputs": [
    {
     "data": {
      "image/png": "[encoded data removed]",
      "text/plain": [
       "<Figure size 432x288 with 1 Axes>"
      ]
     },
     "metadata": {
      "needs_background": "light"
     },
     "output_type": "display_data"
    }
   ],
   "source": [
    "# import k-means\n",
    "from sklearn.cluster import KMeans\n",
    "\n",
    "# Fit K-means\n",
    "km = KMeans(n_clusters=2, # how many clusters we expected \n",
    "            n_init=10,\n",
    "            random_state=0,)\n",
    "\n",
    "y_km = km.fit_predict(X)\n",
    "\n",
    "# plot K-means clusters\n",
    "plot_clusters(X,y_km,plt_cluster_centers=True)"
   ]
  },
  {
   "cell_type": "markdown",
   "id": "c3ce0b4b-24c2-4f09-9a01-9c16b4e4a881",
   "metadata": {},
   "source": [
    "### Trying Agglomerative Clustering (Hierarchical)"
   ]
  },
  {
   "cell_type": "code",
   "execution_count": 16,
   "id": "ef615f08-34ac-4bea-b371-9629c1353414",
   "metadata": {},
   "outputs": [
    {
     "data": {
      "image/png": "[encoded data removed]",
      "text/plain": [
       "<Figure size 432x288 with 1 Axes>"
      ]
     },
     "metadata": {
      "needs_background": "light"
     },
     "output_type": "display_data"
    }
   ],
   "source": [
    "# import Agglomerative clustering\n",
    "from sklearn.cluster import AgglomerativeClustering\n",
    "\n",
    "# fit Agglomerative clustering\n",
    "ac = AgglomerativeClustering(affinity='euclidean',\n",
    "                             linkage='ward',\n",
    "                             n_clusters = 2)\n",
    "y_hc = ac.fit_predict(X)\n",
    "\n",
    "# plot HC clusters\n",
    "plot_clusters(X,y_hc)"
   ]
  },
  {
   "cell_type": "markdown",
   "id": "ea635c19-6f1d-4414-b268-69154b77e4dd",
   "metadata": {},
   "source": [
    "The result is just as bad as with the `k-means` algorithm. In both cases, the parameters were set correctly and the algorithms did its best to return good results. However, none of the clustering algorithms mentioned above can deal with non-spherical clusters."
   ]
  },
  {
   "cell_type": "markdown",
   "id": "52bb0f76-33d7-4c43-9f07-8a6d0ec2a3aa",
   "metadata": {},
   "source": [
    "## Trying DBSCAN"
   ]
  },
  {
   "cell_type": "code",
   "execution_count": 18,
   "id": "6b01001f-924f-441a-afed-33e35dc6061d",
   "metadata": {},
   "outputs": [
    {
     "data": {
      "image/png": "[encoded data removed]",
      "text/plain": [
       "<Figure size 432x288 with 1 Axes>"
      ]
     },
     "metadata": {
      "needs_background": "light"
     },
     "output_type": "display_data"
    }
   ],
   "source": [
    "# fit DBSCAN\n",
    "db = DBSCAN(eps=0.2,\n",
    "            min_samples=5,\n",
    "            metric='euclidean')\n",
    "\n",
    "y_db = db.fit_predict(X)\n",
    "\n",
    "# plot DBSCAN clusters\n",
    "plot_clusters(X,y_db)"
   ]
  },
  {
   "cell_type": "code",
   "execution_count": null,
   "id": "fd042396-03a5-48cd-9e7d-10e0721cfa1f",
   "metadata": {},
   "outputs": [],
   "source": []
  }
 ],
 "metadata": {
  "kernelspec": {
   "display_name": "lighthouse",
   "language": "python",
   "name": "lighthouse"
  },
  "language_info": {
   "codemirror_mode": {
    "name": "ipython",
    "version": 3
   },
   "file_extension": ".py",
   "mimetype": "text/x-python",
   "name": "python",
   "nbconvert_exporter": "python",
   "pygments_lexer": "ipython3",
   "version": "3.8.13"
  }
 },
 "nbformat": 4,
 "nbformat_minor": 5
}
