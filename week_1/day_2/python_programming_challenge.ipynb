{
 "cells": [
  {
   "cell_type": "markdown",
   "metadata": {},
   "source": [
    "# Python Programming Challenge\n",
    "\n",
    "## Poker Hand\n",
    "\n",
    "In this challenge, we have to determine which kind of Poker combination is present in a deck of 5 cards. Every card is a string containing the card value **with the upper-case initial for face-cards** and the **lower-case initial for the suit**, as seen in the examples below:\n",
    "\n",
    "> \"Ah\" ➞ Ace of hearts <br>\n",
    "> \"Ks\" ➞ King of spades<br>\n",
    "> \"3d\" ➞ Three of diamonds<br>\n",
    "> \"Qc\" ➞ Queen of clubs <br>\n",
    "\n",
    "There are 10 different combinations. Here's the list, in descending order of importance:"
   ]
  },
  {
   "cell_type": "markdown",
   "metadata": {},
   "source": [
    "| Name            | Description                                         |\n",
    "|-----------------|-----------------------------------------------------|\n",
    "| Royal Flush     | A, K, Q, J, 10, all with the same suit.             |\n",
    "| Straight Flush  | Five cards in sequence, all with the same suit.     |\n",
    "| Four of a Kind  | Four cards of the same rank.                        |\n",
    "| Full House      | Three of a Kind with a Pair.                        |\n",
    "| Flush           | Any five cards of the same suit, not in sequence    |\n",
    "| Straight        | Five cards in a sequence, but not of the same suit. |\n",
    "| Three of a Kind | Three cards of the same rank.                       |\n",
    "| Two Pair        | Two different Pairs.                                |\n",
    "| Pair            | Two cards of the same rank.                         |\n",
    "| High Card       | No other valid combination.                         |\n",
    "\n",
    "---------"
   ]
  },
  {
   "cell_type": "markdown",
   "metadata": {},
   "source": [
    "#### 1. Given a list `hand` containing five strings being the cards. Implement a function called `poker_hand_ranking` that **returns a string with the name of the highest combination obtained.** According to the table above.\n",
    "\n",
    "**Examples:**\n",
    "\n",
    "> poker_hand_ranking([\"10h\", \"Jh\", \"Qh\", \"Ah\", \"Kh\"]) ➞ \"Royal Flush\"<br>\n",
    "> poker_hand_ranking([\"3h\", \"5h\", \"Qs\", \"9h\", \"Ad\"]) ➞ \"High Card\"<br>\n",
    "> poker_hand_ranking([\"10s\", \"10c\", \"8d\", \"10d\", \"10h\"]) ➞ \"Four of a Kind\"<br>"
   ]
  },
  {
   "cell_type": "markdown",
   "metadata": {},
   "source": [
    "### Head"
   ]
  },
  {
   "cell_type": "code",
   "execution_count": 25,
   "metadata": {},
   "outputs": [],
   "source": [
    "# import libraries\n",
    "from collections import Counter"
   ]
  },
  {
   "cell_type": "code",
   "execution_count": 49,
   "metadata": {},
   "outputs": [],
   "source": [
    "# for testing\n",
    "hand1 = [\"10h\", \"Jh\", \"Qh\", \"Ah\", \"Kh\"]\n",
    "hand2 = [\"3h\", \"5h\", \"Qs\", \"9h\", \"Ad\"]\n",
    "hand3 = [\"10s\", \"10c\", \"8d\", \"10d\", \"10h\"]\n",
    "hand4 = [\"6d\", \"2h\", \"4c\", \"5d\", \"3h\"]\n",
    "hand5 = [\"6d\", \"6h\", \"4c\", \"5d\", \"5h\"]\n",
    "hand6 = [\"6d\", \"3d\", \"4c\", \"Ad\", \"3h\"]"
   ]
  },
  {
   "cell_type": "markdown",
   "metadata": {},
   "source": [
    "### The Cards"
   ]
  },
  {
   "cell_type": "code",
   "execution_count": 50,
   "metadata": {},
   "outputs": [],
   "source": [
    "# define the face conversion\n",
    "face_value = [i for i in range(1,14)]\n",
    "face_key = ['A'] + [str(i) for i in range(2,11)] + ['J', 'Q', 'K']\n",
    "face = dict(zip(face_key, face_value))\n",
    "\n",
    "# define the suit conversion\n",
    "suit = ['h', # hearts\n",
    "        's', # spades\n",
    "        'd', # diamonds\n",
    "        'c'] # clubs"
   ]
  },
  {
   "cell_type": "markdown",
   "metadata": {},
   "source": [
    "### Functions"
   ]
  },
  {
   "cell_type": "markdown",
   "metadata": {},
   "source": [
    "##### The 10-Cards"
   ]
  },
  {
   "cell_type": "code",
   "execution_count": 51,
   "metadata": {},
   "outputs": [],
   "source": [
    "def ten(face):\n",
    "    return face[:2] == '10'"
   ]
  },
  {
   "cell_type": "markdown",
   "metadata": {},
   "source": [
    "##### Card Names to Values"
   ]
  },
  {
   "cell_type": "code",
   "execution_count": 52,
   "metadata": {},
   "outputs": [],
   "source": [
    "def card_values(hand):\n",
    "    values = list(filter(\n",
    "        lambda x: x != 0,\n",
    "        [card[:2] if ten(card) else card[0] for card in hand]))\n",
    "    \n",
    "    # convert values to key value then sort\n",
    "    return [face[value] for value in values], [card[-1] for card in hand]"
   ]
  },
  {
   "cell_type": "markdown",
   "metadata": {},
   "source": [
    "##### Hand Configurations"
   ]
  },
  {
   "cell_type": "code",
   "execution_count": 53,
   "metadata": {},
   "outputs": [],
   "source": [
    "######## FLUSHES #########\n",
    "\n",
    "def flush(hand):\n",
    "    # convert hand to values\n",
    "    values, suits = card_values(hand)\n",
    "    suit_count = Counter(suits)\n",
    "    \n",
    "    for key, value in suit_count.items():\n",
    "        if value == 5 and key in suit:\n",
    "            return True\n",
    "        \n",
    "    return False\n",
    "\n",
    "\n",
    "######## STRAIGHTS #########\n",
    "\n",
    "def straight(hand):\n",
    "    # record value, filter for '10' if present\n",
    "    values = list(filter(\n",
    "        lambda x: x != 0,\n",
    "        [card[:2] if ten(card) else card[0] for card in hand]))\n",
    "    \n",
    "    # convert values to key value then sort\n",
    "    values = sorted([face[value] for value in values])\n",
    "    \n",
    "    for i, value in enumerate(values):\n",
    "        # evaluate if value is 1 and continue if next value is either 2 or 10\n",
    "        if value == 1 and (values[i+1] == 2 or values[i+1] == 10):\n",
    "            continue\n",
    "        elif value == 1 and not (values[i+1] == 2 or values[i+1] == 10):\n",
    "            return False\n",
    "        \n",
    "        # evaluate if numbers increase by 1\n",
    "        # if the loop reaches the end of the list, return True\n",
    "        # otherwise, return False\n",
    "        try:\n",
    "            if value + 1 == values[i+1]:\n",
    "                continue\n",
    "            else:\n",
    "                return False\n",
    "        except IndexError:\n",
    "            return True\n",
    "        \n",
    "\n",
    "######## ROYALS #########\n",
    "\n",
    "def royals(hand):\n",
    "    return straight(hand) and hand[0] == 1\n",
    "        \n",
    "        \n",
    "######## 4-KINDS #########\n",
    "\n",
    "def fourkinds(hand):\n",
    "    # convert hand to values\n",
    "    values, suits = card_values(hand)\n",
    "    value_count = Counter(values)\n",
    "    \n",
    "    for count in value_count.values():\n",
    "            if count == 4:\n",
    "                return True\n",
    "    \n",
    "    return False\n",
    "\n",
    "\n",
    "######## TTRIPLES #########\n",
    "\n",
    "def triples(hand):\n",
    "    # convert hand to values\n",
    "    values, suits = card_values(hand)\n",
    "    value_count = Counter(values)\n",
    "    \n",
    "    for count in value_count.values():\n",
    "            if count == 3:\n",
    "                return True\n",
    "    \n",
    "    return False\n",
    "\n",
    "\n",
    "####### PAIRS ########\n",
    "\n",
    "def pairs(hand):\n",
    "    # convert hand to values\n",
    "    values, suits = card_values(hand)\n",
    "    value_count = Counter(values)\n",
    "    \n",
    "    for count in value_count.values():\n",
    "            if count == 2:\n",
    "                return True\n",
    "    \n",
    "    return False"
   ]
  },
  {
   "cell_type": "markdown",
   "metadata": {},
   "source": [
    "##### Evaluate Hands"
   ]
  },
  {
   "cell_type": "code",
   "execution_count": 54,
   "metadata": {},
   "outputs": [],
   "source": [
    "def poker_hand_ranking(hand):\n",
    "    \n",
    "    if royals(hand) and flush(hand):\n",
    "        return 'royal flush'\n",
    "    \n",
    "    if straight(hand) and flush(hand):\n",
    "        return 'straight flush'\n",
    "    \n",
    "    if fourkinds(hand):\n",
    "        return 'four of a kind'\n",
    "    \n",
    "    if triples(hand) and pairs(hand):\n",
    "        return 'full house'\n",
    "    \n",
    "    if flush(hand):\n",
    "        return 'flush'\n",
    "    \n",
    "    if straight(hand):\n",
    "        return 'straight'\n",
    "    \n",
    "    if triples(hand):\n",
    "        return 'triples'\n",
    "    \n",
    "    if pairs(hand):\n",
    "        if pairs(hand[2:]):\n",
    "            return 'two pair'\n",
    "        else:\n",
    "            return 'pair'\n",
    "    \n",
    "    return max(hand)"
   ]
  },
  {
   "cell_type": "code",
   "execution_count": 55,
   "metadata": {},
   "outputs": [
    {
     "name": "stdout",
     "output_type": "stream",
     "text": [
      "straight flush\n",
      "Qs\n",
      "four of a kind\n",
      "straight\n",
      "two pair\n",
      "pair\n"
     ]
    }
   ],
   "source": [
    "print(poker_hand_ranking(hand1))\n",
    "print(poker_hand_ranking(hand2))\n",
    "print(poker_hand_ranking(hand3))\n",
    "print(poker_hand_ranking(hand4))\n",
    "print(poker_hand_ranking(hand5))\n",
    "print(poker_hand_ranking(hand6))"
   ]
  },
  {
   "cell_type": "markdown",
   "metadata": {},
   "source": [
    "------------\n",
    "### **Stretch Content**\n",
    "\n",
    "#### 2.  Implement a function `winner_is` that returns the winner given a dictionary with different players and their hands. \n",
    "**Example**\n",
    "\n",
    "We define dictionary like\n",
    "```python\n",
    "round_1 = {\"John\" = [\"10h\", \"Jh\", \"Qh\", \"Ah\", \"Kh\"], \n",
    "        \"Peter\" = [\"3h\", \"5h\", \"Qs\", \"9h\", \"Ad\"]}\n",
    "```\n",
    "\n",
    "Our function returns the name of the winner:\n",
    "> winner_is(round_1) --> \"John\"\n",
    "\n",
    "One table can have up to 10 players.\n"
   ]
  },
  {
   "cell_type": "code",
   "execution_count": null,
   "metadata": {},
   "outputs": [],
   "source": []
  },
  {
   "cell_type": "code",
   "execution_count": null,
   "metadata": {},
   "outputs": [],
   "source": []
  },
  {
   "cell_type": "code",
   "execution_count": null,
   "metadata": {},
   "outputs": [],
   "source": []
  },
  {
   "cell_type": "code",
   "execution_count": null,
   "metadata": {},
   "outputs": [],
   "source": []
  },
  {
   "cell_type": "markdown",
   "metadata": {},
   "source": [
    "#### 3. Create a function `distribute_cards` that randomly generates and gives 5 cards to every player given a list of player names.\n",
    "\n",
    "**Example**\n",
    "\n",
    "> distribute_cards([\"John\",\"Peter\"])  -> round_1 = {\"John\" = [\"10h\", \"Jh\", \"Qh\", \"Ah\", \"Kh\"], \n",
    "        \"Peter\" = [\"3h\", \"5h\", \"Qs\", \"9h\", \"Ad\"]\n",
    "}"
   ]
  },
  {
   "cell_type": "code",
   "execution_count": null,
   "metadata": {},
   "outputs": [],
   "source": []
  },
  {
   "cell_type": "code",
   "execution_count": null,
   "metadata": {},
   "outputs": [],
   "source": []
  },
  {
   "cell_type": "code",
   "execution_count": null,
   "metadata": {},
   "outputs": [],
   "source": []
  },
  {
   "cell_type": "code",
   "execution_count": null,
   "metadata": {},
   "outputs": [],
   "source": []
  }
 ],
 "metadata": {
  "interpreter": {
   "hash": "f6bdb6bebcaa6c165db367a86e382ae8df75f09257c40532b854029e0e3d706f"
  },
  "kernelspec": {
   "display_name": "Python 3.8.13 ('lighthouse')",
   "language": "python",
   "name": "python3"
  },
  "language_info": {
   "codemirror_mode": {
    "name": "ipython",
    "version": 3
   },
   "file_extension": ".py",
   "mimetype": "text/x-python",
   "name": "python",
   "nbconvert_exporter": "python",
   "pygments_lexer": "ipython3",
   "version": "3.8.13"
  }
 },
 "nbformat": 4,
 "nbformat_minor": 4
}
