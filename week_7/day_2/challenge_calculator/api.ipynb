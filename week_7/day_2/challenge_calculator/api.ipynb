{
 "cells": [
  {
   "cell_type": "markdown",
   "metadata": {},
   "source": [
    "# API: Calculator"
   ]
  },
  {
   "cell_type": "markdown",
   "metadata": {},
   "source": [
    "- Create an API `calculator` which takes two numbers as an argument\n",
    "- Create endpoints for `add`, `subtract`, `multiply`, and `divide`\n",
    "- Deploy it into the cloud!"
   ]
  },
  {
   "cell_type": "code",
   "execution_count": 12,
   "metadata": {},
   "outputs": [],
   "source": [
    "from flask import Flask\n",
    "from flask_restful import Resource, Api, reqparse"
   ]
  },
  {
   "cell_type": "markdown",
   "metadata": {},
   "source": [
    "## Instantiate the API"
   ]
  },
  {
   "cell_type": "code",
   "execution_count": 13,
   "metadata": {},
   "outputs": [],
   "source": [
    "# instantiate Flask object\n",
    "app = Flask(__name__)\n",
    "\n",
    "# define Flask object app in an Api wrapper\n",
    "api = Api(app)"
   ]
  },
  {
   "cell_type": "markdown",
   "metadata": {},
   "source": [
    "## Classes for each operation"
   ]
  },
  {
   "cell_type": "markdown",
   "metadata": {},
   "source": [
    "Define classes for each operation, which parses `x` and `y` argument requests and processes them through their respective operations.\n",
    "\n",
    "`<domain_url>> : <port> / <class> ? <x=x> & <y=y>`"
   ]
  },
  {
   "cell_type": "markdown",
   "metadata": {},
   "source": [
    "### `add`"
   ]
  },
  {
   "cell_type": "code",
   "execution_count": 14,
   "metadata": {},
   "outputs": [],
   "source": [
    "class Add(Resource):\n",
    "    \n",
    "    def get(self):\n",
    "        \n",
    "        parser = reqparse.RequestParser()\n",
    "        parser.add_argument('x', type=int)\n",
    "        parser.add_argument('y', type=int)\n",
    "        \n",
    "        x = parser.parse_args().get('x')\n",
    "        y = parser.parse_args().get('y')\n",
    "        \n",
    "        num = x + y\n",
    "        \n",
    "        return num"
   ]
  },
  {
   "cell_type": "markdown",
   "metadata": {},
   "source": [
    "### `subtract`"
   ]
  },
  {
   "cell_type": "code",
   "execution_count": 15,
   "metadata": {},
   "outputs": [],
   "source": [
    "class Subtract(Resource):\n",
    "    \n",
    "    def get(self):\n",
    "        \n",
    "        parser = reqparse.RequestParser()\n",
    "        parser.add_argument('x', type=int)\n",
    "        parser.add_argument('y', type=int)\n",
    "        \n",
    "        x = parser.parse_args().get('x')\n",
    "        y = parser.parse_args().get('y')\n",
    "        \n",
    "        num = abs(x -y)\n",
    "        \n",
    "        return num"
   ]
  },
  {
   "cell_type": "markdown",
   "metadata": {},
   "source": [
    "### `multiply`"
   ]
  },
  {
   "cell_type": "code",
   "execution_count": 16,
   "metadata": {},
   "outputs": [],
   "source": [
    "class Multiply(Resource):\n",
    "    \n",
    "    def get(self):\n",
    "        \n",
    "        parser = reqparse.RequestParser()\n",
    "        parser.add_argument('x', type=int)\n",
    "        parser.add_argument('y', type=int)\n",
    "        \n",
    "        x = parser.parse_args().get('x')\n",
    "        y = parser.parse_args().get('y')\n",
    "        \n",
    "        num = x * y\n",
    "        \n",
    "        return num"
   ]
  },
  {
   "cell_type": "markdown",
   "metadata": {},
   "source": [
    "### `divide`"
   ]
  },
  {
   "cell_type": "code",
   "execution_count": 17,
   "metadata": {},
   "outputs": [],
   "source": [
    "class Divide(Resource):\n",
    "    \n",
    "    def get(self):\n",
    "        \n",
    "        parser = reqparse.RequestParser()\n",
    "        parser.add_argument('x', type=int)\n",
    "        parser.add_argument('y', type=int)\n",
    "        \n",
    "        x = parser.parse_args().get('x')\n",
    "        y = parser.parse_args().get('y')\n",
    "        \n",
    "        if x > y:\n",
    "            num = x / y\n",
    "        else:\n",
    "            num = y /x\n",
    "            \n",
    "        return num"
   ]
  },
  {
   "cell_type": "markdown",
   "metadata": {},
   "source": [
    "## Endpoints"
   ]
  },
  {
   "cell_type": "code",
   "execution_count": 18,
   "metadata": {},
   "outputs": [],
   "source": [
    "# assign endpoints to each resource\n",
    "api.add_resource(Add, '/add')\n",
    "api.add_resource(Subtract, '/subtract')\n",
    "api.add_resource(Multiply, '/multiply')\n",
    "api.add_resource(Divide, '/divide')"
   ]
  },
  {
   "cell_type": "code",
   "execution_count": 19,
   "metadata": {},
   "outputs": [],
   "source": [
    "# if __name__ == '__main__':\n",
    "#     app.run(host='0.0.0.0', port=5555)"
   ]
  }
 ],
 "metadata": {
  "interpreter": {
   "hash": "f6bdb6bebcaa6c165db367a86e382ae8df75f09257c40532b854029e0e3d706f"
  },
  "kernelspec": {
   "display_name": "Python 3.8.13 ('lighthouse')",
   "language": "python",
   "name": "python3"
  },
  "language_info": {
   "codemirror_mode": {
    "name": "ipython",
    "version": 3
   },
   "file_extension": ".py",
   "mimetype": "text/x-python",
   "name": "python",
   "nbconvert_exporter": "python",
   "pygments_lexer": "ipython3",
   "version": "3.8.13"
  },
  "orig_nbformat": 4
 },
 "nbformat": 4,
 "nbformat_minor": 2
}
