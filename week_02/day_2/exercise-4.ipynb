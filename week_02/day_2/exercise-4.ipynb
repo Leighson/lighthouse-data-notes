{
 "cells": [
  {
   "cell_type": "code",
   "execution_count": 1,
   "metadata": {},
   "outputs": [],
   "source": [
    "import pandas as pd\n",
    "import numpy as np\n",
    "import datetime as dt"
   ]
  },
  {
   "cell_type": "markdown",
   "metadata": {},
   "source": [
    "### Download the data and load it to Pandas. \n",
    "\n",
    "You can find them [here](https://drive.google.com/file/d/1NY6cmF9Shjw-dD7BD6bNmfcIVz-kQcFR/view?usp=sharing)."
   ]
  },
  {
   "cell_type": "code",
   "execution_count": 2,
   "metadata": {},
   "outputs": [
    {
     "data": {
      "text/html": [
       "<div>\n",
       "<style scoped>\n",
       "    .dataframe tbody tr th:only-of-type {\n",
       "        vertical-align: middle;\n",
       "    }\n",
       "\n",
       "    .dataframe tbody tr th {\n",
       "        vertical-align: top;\n",
       "    }\n",
       "\n",
       "    .dataframe thead th {\n",
       "        text-align: right;\n",
       "    }\n",
       "</style>\n",
       "<table border=\"1\" class=\"dataframe\">\n",
       "  <thead>\n",
       "    <tr style=\"text-align: right;\">\n",
       "      <th></th>\n",
       "      <th>title</th>\n",
       "      <th>year</th>\n",
       "      <th>name</th>\n",
       "      <th>type</th>\n",
       "      <th>character</th>\n",
       "      <th>n</th>\n",
       "    </tr>\n",
       "  </thead>\n",
       "  <tbody>\n",
       "    <tr>\n",
       "      <th>0</th>\n",
       "      <td>Closet Monster</td>\n",
       "      <td>2015</td>\n",
       "      <td>Buffy #1</td>\n",
       "      <td>actor</td>\n",
       "      <td>Buffy 4</td>\n",
       "      <td>NaN</td>\n",
       "    </tr>\n",
       "    <tr>\n",
       "      <th>1</th>\n",
       "      <td>Suuri illusioni</td>\n",
       "      <td>1985</td>\n",
       "      <td>Homo $</td>\n",
       "      <td>actor</td>\n",
       "      <td>Guests</td>\n",
       "      <td>22.0</td>\n",
       "    </tr>\n",
       "    <tr>\n",
       "      <th>2</th>\n",
       "      <td>Battle of the Sexes</td>\n",
       "      <td>2017</td>\n",
       "      <td>$hutter</td>\n",
       "      <td>actor</td>\n",
       "      <td>Bobby Riggs Fan</td>\n",
       "      <td>10.0</td>\n",
       "    </tr>\n",
       "    <tr>\n",
       "      <th>3</th>\n",
       "      <td>Secret in Their Eyes</td>\n",
       "      <td>2015</td>\n",
       "      <td>$hutter</td>\n",
       "      <td>actor</td>\n",
       "      <td>2002 Dodger Fan</td>\n",
       "      <td>NaN</td>\n",
       "    </tr>\n",
       "    <tr>\n",
       "      <th>4</th>\n",
       "      <td>Steve Jobs</td>\n",
       "      <td>2015</td>\n",
       "      <td>$hutter</td>\n",
       "      <td>actor</td>\n",
       "      <td>1988 Opera House Patron</td>\n",
       "      <td>NaN</td>\n",
       "    </tr>\n",
       "  </tbody>\n",
       "</table>\n",
       "</div>"
      ],
      "text/plain": [
       "                  title  year      name   type                character     n\n",
       "0        Closet Monster  2015  Buffy #1  actor                  Buffy 4   NaN\n",
       "1       Suuri illusioni  1985    Homo $  actor                   Guests  22.0\n",
       "2   Battle of the Sexes  2017   $hutter  actor          Bobby Riggs Fan  10.0\n",
       "3  Secret in Their Eyes  2015   $hutter  actor          2002 Dodger Fan   NaN\n",
       "4            Steve Jobs  2015   $hutter  actor  1988 Opera House Patron   NaN"
      ]
     },
     "execution_count": 2,
     "metadata": {},
     "output_type": "execute_result"
    }
   ],
   "source": [
    "cast = pd.read_csv('data/cast.csv', index_col=None)\n",
    "cast.head()"
   ]
  },
  {
   "cell_type": "code",
   "execution_count": 3,
   "metadata": {},
   "outputs": [
    {
     "data": {
      "text/html": [
       "<div>\n",
       "<style scoped>\n",
       "    .dataframe tbody tr th:only-of-type {\n",
       "        vertical-align: middle;\n",
       "    }\n",
       "\n",
       "    .dataframe tbody tr th {\n",
       "        vertical-align: top;\n",
       "    }\n",
       "\n",
       "    .dataframe thead th {\n",
       "        text-align: right;\n",
       "    }\n",
       "</style>\n",
       "<table border=\"1\" class=\"dataframe\">\n",
       "  <thead>\n",
       "    <tr style=\"text-align: right;\">\n",
       "      <th></th>\n",
       "      <th>title</th>\n",
       "      <th>year</th>\n",
       "      <th>country</th>\n",
       "      <th>date</th>\n",
       "    </tr>\n",
       "  </thead>\n",
       "  <tbody>\n",
       "    <tr>\n",
       "      <th>0</th>\n",
       "      <td>#73, Shaanthi Nivaasa</td>\n",
       "      <td>2007</td>\n",
       "      <td>India</td>\n",
       "      <td>2007-06-15</td>\n",
       "    </tr>\n",
       "    <tr>\n",
       "      <th>1</th>\n",
       "      <td>#Beings</td>\n",
       "      <td>2015</td>\n",
       "      <td>Romania</td>\n",
       "      <td>2015-01-29</td>\n",
       "    </tr>\n",
       "    <tr>\n",
       "      <th>2</th>\n",
       "      <td>#Declimax</td>\n",
       "      <td>2018</td>\n",
       "      <td>Netherlands</td>\n",
       "      <td>2018-01-21</td>\n",
       "    </tr>\n",
       "    <tr>\n",
       "      <th>3</th>\n",
       "      <td>#Ewankosau saranghaeyo</td>\n",
       "      <td>2015</td>\n",
       "      <td>Philippines</td>\n",
       "      <td>2015-01-21</td>\n",
       "    </tr>\n",
       "    <tr>\n",
       "      <th>4</th>\n",
       "      <td>#Horror</td>\n",
       "      <td>2015</td>\n",
       "      <td>USA</td>\n",
       "      <td>2015-11-20</td>\n",
       "    </tr>\n",
       "  </tbody>\n",
       "</table>\n",
       "</div>"
      ],
      "text/plain": [
       "                    title  year      country       date\n",
       "0   #73, Shaanthi Nivaasa  2007        India 2007-06-15\n",
       "1                 #Beings  2015      Romania 2015-01-29\n",
       "2               #Declimax  2018  Netherlands 2018-01-21\n",
       "3  #Ewankosau saranghaeyo  2015  Philippines 2015-01-21\n",
       "4                 #Horror  2015          USA 2015-11-20"
      ]
     },
     "execution_count": 3,
     "metadata": {},
     "output_type": "execute_result"
    }
   ],
   "source": [
    "release_dates = pd.read_csv('data/release_dates.csv', index_col=None,\n",
    "                                      parse_dates=['date'], infer_datetime_format=True)\n",
    "release_dates.head()"
   ]
  },
  {
   "cell_type": "markdown",
   "metadata": {},
   "source": [
    "### Count the number of movies with \"Christmas\" in their title for each month, that is released are the USA."
   ]
  },
  {
   "cell_type": "code",
   "execution_count": 4,
   "metadata": {},
   "outputs": [
    {
     "data": {
      "text/plain": [
       "title              object\n",
       "year                int64\n",
       "country            object\n",
       "date       datetime64[ns]\n",
       "dtype: object"
      ]
     },
     "execution_count": 4,
     "metadata": {},
     "output_type": "execute_result"
    }
   ],
   "source": [
    "# determine dtypes to help define new filter function\n",
    "release_dates.dtypes"
   ]
  },
  {
   "cell_type": "code",
   "execution_count": 5,
   "metadata": {
    "collapsed": true,
    "jupyter": {
     "outputs_hidden": true
    }
   },
   "outputs": [],
   "source": [
    "# filter_results function\n",
    "# chooses return value based on the value type of the filtered field\n",
    "def filter_results(table, field, value):\n",
    "    if table[field].dtype == 'int64':\n",
    "        return table[table[field] == value]\n",
    "    else:\n",
    "        return table[table[field].str.contains(value)]"
   ]
  },
  {
   "cell_type": "code",
   "execution_count": 6,
   "metadata": {},
   "outputs": [
    {
     "data": {
      "text/html": [
       "<div>\n",
       "<style scoped>\n",
       "    .dataframe tbody tr th:only-of-type {\n",
       "        vertical-align: middle;\n",
       "    }\n",
       "\n",
       "    .dataframe tbody tr th {\n",
       "        vertical-align: top;\n",
       "    }\n",
       "\n",
       "    .dataframe thead th {\n",
       "        text-align: right;\n",
       "    }\n",
       "</style>\n",
       "<table border=\"1\" class=\"dataframe\">\n",
       "  <thead>\n",
       "    <tr style=\"text-align: right;\">\n",
       "      <th></th>\n",
       "      <th>title</th>\n",
       "      <th>year</th>\n",
       "      <th>country</th>\n",
       "      <th>date</th>\n",
       "    </tr>\n",
       "  </thead>\n",
       "  <tbody>\n",
       "    <tr>\n",
       "      <th>1191</th>\n",
       "      <td>12 Dog Days of Christmas</td>\n",
       "      <td>2014</td>\n",
       "      <td>USA</td>\n",
       "      <td>2014-11-28</td>\n",
       "    </tr>\n",
       "    <tr>\n",
       "      <th>1192</th>\n",
       "      <td>12 Dogs of Christmas: Great Puppy Rescue</td>\n",
       "      <td>2012</td>\n",
       "      <td>USA</td>\n",
       "      <td>2012-10-09</td>\n",
       "    </tr>\n",
       "    <tr>\n",
       "      <th>5904</th>\n",
       "      <td>A Belle for Christmas</td>\n",
       "      <td>2014</td>\n",
       "      <td>USA</td>\n",
       "      <td>2014-11-04</td>\n",
       "    </tr>\n",
       "    <tr>\n",
       "      <th>6163</th>\n",
       "      <td>A Cadaver Christmas</td>\n",
       "      <td>2011</td>\n",
       "      <td>USA</td>\n",
       "      <td>2011-04-02</td>\n",
       "    </tr>\n",
       "    <tr>\n",
       "      <th>6272</th>\n",
       "      <td>A Christmas Carol</td>\n",
       "      <td>1938</td>\n",
       "      <td>USA</td>\n",
       "      <td>1938-12-16</td>\n",
       "    </tr>\n",
       "    <tr>\n",
       "      <th>...</th>\n",
       "      <td>...</td>\n",
       "      <td>...</td>\n",
       "      <td>...</td>\n",
       "      <td>...</td>\n",
       "    </tr>\n",
       "    <tr>\n",
       "      <th>383807</th>\n",
       "      <td>The Nightmare Before Christmas</td>\n",
       "      <td>1993</td>\n",
       "      <td>USA</td>\n",
       "      <td>1993-10-29</td>\n",
       "    </tr>\n",
       "    <tr>\n",
       "      <th>395219</th>\n",
       "      <td>The Shootin' It Christmas Spectacular</td>\n",
       "      <td>2013</td>\n",
       "      <td>USA</td>\n",
       "      <td>2013-12-20</td>\n",
       "    </tr>\n",
       "    <tr>\n",
       "      <th>408785</th>\n",
       "      <td>This Christmas</td>\n",
       "      <td>2007</td>\n",
       "      <td>USA</td>\n",
       "      <td>2007-11-21</td>\n",
       "    </tr>\n",
       "    <tr>\n",
       "      <th>437275</th>\n",
       "      <td>What She Wants for Christmas</td>\n",
       "      <td>2012</td>\n",
       "      <td>USA</td>\n",
       "      <td>2012-12-01</td>\n",
       "    </tr>\n",
       "    <tr>\n",
       "      <th>439068</th>\n",
       "      <td>White Christmas</td>\n",
       "      <td>1954</td>\n",
       "      <td>USA</td>\n",
       "      <td>1954-10-14</td>\n",
       "    </tr>\n",
       "  </tbody>\n",
       "</table>\n",
       "<p>111 rows × 4 columns</p>\n",
       "</div>"
      ],
      "text/plain": [
       "                                           title  year country       date\n",
       "1191                    12 Dog Days of Christmas  2014     USA 2014-11-28\n",
       "1192    12 Dogs of Christmas: Great Puppy Rescue  2012     USA 2012-10-09\n",
       "5904                       A Belle for Christmas  2014     USA 2014-11-04\n",
       "6163                         A Cadaver Christmas  2011     USA 2011-04-02\n",
       "6272                           A Christmas Carol  1938     USA 1938-12-16\n",
       "...                                          ...   ...     ...        ...\n",
       "383807            The Nightmare Before Christmas  1993     USA 1993-10-29\n",
       "395219     The Shootin' It Christmas Spectacular  2013     USA 2013-12-20\n",
       "408785                            This Christmas  2007     USA 2007-11-21\n",
       "437275              What She Wants for Christmas  2012     USA 2012-12-01\n",
       "439068                           White Christmas  1954     USA 1954-10-14\n",
       "\n",
       "[111 rows x 4 columns]"
      ]
     },
     "execution_count": 6,
     "metadata": {},
     "output_type": "execute_result"
    }
   ],
   "source": [
    "release_dates.pipe(filter_results, 'title', 'Christmas').pipe(filter_results, 'country', 'USA')"
   ]
  },
  {
   "cell_type": "markdown",
   "metadata": {},
   "source": [
    "### Count the number of movies with \"Christmas\" in their title for each month, that are released in Canada."
   ]
  },
  {
   "cell_type": "code",
   "execution_count": 7,
   "metadata": {},
   "outputs": [
    {
     "name": "stdout",
     "output_type": "stream",
     "text": [
      "datetime64[ns]\n"
     ]
    }
   ],
   "source": [
    "# determine date type\n",
    "print(release_dates['date'].dtype.name)"
   ]
  },
  {
   "cell_type": "code",
   "execution_count": 8,
   "metadata": {},
   "outputs": [
    {
     "name": "stdout",
     "output_type": "stream",
     "text": [
      "232584   1894-10-09\n",
      "317627   1900-09-13\n",
      "398115   1906-12-26\n",
      "290219   1907-11-02\n",
      "21527    1908-09-12\n",
      "            ...    \n",
      "365289   2021-12-07\n",
      "74969    2021-12-24\n",
      "284063   2022-03-25\n",
      "312128   2022-09-01\n",
      "165532   2023-03-01\n",
      "Name: date, Length: 452656, dtype: datetime64[ns]\n"
     ]
    }
   ],
   "source": [
    "# determine min/max date values to search through\n",
    "print(release_dates['date'].sort_values())"
   ]
  },
  {
   "cell_type": "code",
   "execution_count": 9,
   "metadata": {},
   "outputs": [
    {
     "data": {
      "text/plain": [
       "date\n",
       "(1894-10-01, 1894-11-01]    0\n",
       "(1980-02-01, 1980-03-01]    0\n",
       "(1980-01-01, 1980-02-01]    0\n",
       "(1979-12-01, 1980-01-01]    0\n",
       "(1979-11-01, 1979-12-01]    0\n",
       "                           ..\n",
       "(2012-10-01, 2012-11-01]    1\n",
       "(2011-11-01, 2011-12-01]    2\n",
       "(2014-12-01, 2015-01-01]    2\n",
       "(2014-11-01, 2014-12-01]    2\n",
       "(2016-12-01, 2017-01-01]    3\n",
       "Name: title, Length: 1541, dtype: int64"
      ]
     },
     "execution_count": 9,
     "metadata": {},
     "output_type": "execute_result"
    }
   ],
   "source": [
    "# create a monthly date range spanning the entire dated history of the release_date tables\n",
    "bins = pd.date_range('1894-10', '2023-03', freq='MS')\n",
    "canada_christmas_releases = release_dates.pipe(filter_results, 'title', 'Christmas').pipe(filter_results, 'country', 'Canada')\n",
    "canada_christmas_releases.groupby(pd.cut(canada_christmas_releases['date'], bins))['title'].count().sort_values()"
   ]
  },
  {
   "cell_type": "markdown",
   "metadata": {},
   "source": [
    "### Count the number of movies in which the titles start with \"The Hobbit\" for each month, that are released in the USA."
   ]
  },
  {
   "cell_type": "code",
   "execution_count": 10,
   "metadata": {
    "collapsed": true,
    "jupyter": {
     "outputs_hidden": true
    }
   },
   "outputs": [
    {
     "data": {
      "text/plain": [
       "date\n",
       "(1894-10-01, 1894-11-01]    0\n",
       "(1980-08-01, 1980-09-01]    0\n",
       "(1980-07-01, 1980-08-01]    0\n",
       "(1980-06-01, 1980-07-01]    0\n",
       "(1980-05-01, 1980-06-01]    0\n",
       "                           ..\n",
       "(1937-10-01, 1937-11-01]    0\n",
       "(1935-02-01, 1935-03-01]    0\n",
       "(2014-12-01, 2015-01-01]    1\n",
       "(2013-12-01, 2014-01-01]    1\n",
       "(2012-12-01, 2013-01-01]    1\n",
       "Name: title, Length: 1541, dtype: int64"
      ]
     },
     "execution_count": 10,
     "metadata": {},
     "output_type": "execute_result"
    }
   ],
   "source": [
    "hobbit_usa_releases = release_dates.pipe(filter_results, 'title', 'The Hobbit').pipe(filter_results, 'country', 'USA')\n",
    "hobbit_usa_releases.groupby(pd.cut(release_dates['date'], bins))['title'].count().sort_values()"
   ]
  },
  {
   "cell_type": "markdown",
   "metadata": {},
   "source": [
    "### Count the number of movies with \"Romance\" in their title for **each day of the week**, that are released in the USA."
   ]
  },
  {
   "cell_type": "code",
   "execution_count": 11,
   "metadata": {
    "collapsed": true,
    "jupyter": {
     "outputs_hidden": true
    }
   },
   "outputs": [
    {
     "data": {
      "text/html": [
       "<div>\n",
       "<style scoped>\n",
       "    .dataframe tbody tr th:only-of-type {\n",
       "        vertical-align: middle;\n",
       "    }\n",
       "\n",
       "    .dataframe tbody tr th {\n",
       "        vertical-align: top;\n",
       "    }\n",
       "\n",
       "    .dataframe thead th {\n",
       "        text-align: right;\n",
       "    }\n",
       "</style>\n",
       "<table border=\"1\" class=\"dataframe\">\n",
       "  <thead>\n",
       "    <tr style=\"text-align: right;\">\n",
       "      <th></th>\n",
       "      <th>title</th>\n",
       "      <th>year</th>\n",
       "      <th>country</th>\n",
       "      <th>date</th>\n",
       "    </tr>\n",
       "  </thead>\n",
       "  <tbody>\n",
       "    <tr>\n",
       "      <th>913</th>\n",
       "      <td>100% OFF: A Recession-Era Romance</td>\n",
       "      <td>2012</td>\n",
       "      <td>USA</td>\n",
       "      <td>2012-07-04</td>\n",
       "    </tr>\n",
       "    <tr>\n",
       "      <th>5988</th>\n",
       "      <td>A Blue Gum Romance</td>\n",
       "      <td>1913</td>\n",
       "      <td>Australia</td>\n",
       "      <td>1913-09-20</td>\n",
       "    </tr>\n",
       "    <tr>\n",
       "      <th>6171</th>\n",
       "      <td>A California Romance</td>\n",
       "      <td>1922</td>\n",
       "      <td>USA</td>\n",
       "      <td>1922-12-24</td>\n",
       "    </tr>\n",
       "    <tr>\n",
       "      <th>6408</th>\n",
       "      <td>A Circus Romance</td>\n",
       "      <td>1916</td>\n",
       "      <td>USA</td>\n",
       "      <td>1916-01-24</td>\n",
       "    </tr>\n",
       "    <tr>\n",
       "      <th>6539</th>\n",
       "      <td>A Crooked Romance</td>\n",
       "      <td>1917</td>\n",
       "      <td>USA</td>\n",
       "      <td>1917-09-30</td>\n",
       "    </tr>\n",
       "    <tr>\n",
       "      <th>...</th>\n",
       "      <td>...</td>\n",
       "      <td>...</td>\n",
       "      <td>...</td>\n",
       "      <td>...</td>\n",
       "    </tr>\n",
       "    <tr>\n",
       "      <th>438359</th>\n",
       "      <td>Where Romance Rides</td>\n",
       "      <td>1925</td>\n",
       "      <td>USA</td>\n",
       "      <td>1925-04-28</td>\n",
       "    </tr>\n",
       "    <tr>\n",
       "      <th>440631</th>\n",
       "      <td>Wild Romance</td>\n",
       "      <td>2006</td>\n",
       "      <td>Netherlands</td>\n",
       "      <td>2006-11-09</td>\n",
       "    </tr>\n",
       "    <tr>\n",
       "      <th>440632</th>\n",
       "      <td>Wild Romance</td>\n",
       "      <td>2006</td>\n",
       "      <td>Belgium</td>\n",
       "      <td>2006-11-15</td>\n",
       "    </tr>\n",
       "    <tr>\n",
       "      <th>440721</th>\n",
       "      <td>Wild West Romance</td>\n",
       "      <td>1928</td>\n",
       "      <td>USA</td>\n",
       "      <td>1928-06-10</td>\n",
       "    </tr>\n",
       "    <tr>\n",
       "      <th>448635</th>\n",
       "      <td>Young Romance</td>\n",
       "      <td>1915</td>\n",
       "      <td>USA</td>\n",
       "      <td>1915-01-21</td>\n",
       "    </tr>\n",
       "  </tbody>\n",
       "</table>\n",
       "<p>340 rows × 4 columns</p>\n",
       "</div>"
      ],
      "text/plain": [
       "                                    title  year      country       date\n",
       "913     100% OFF: A Recession-Era Romance  2012          USA 2012-07-04\n",
       "5988                   A Blue Gum Romance  1913    Australia 1913-09-20\n",
       "6171                 A California Romance  1922          USA 1922-12-24\n",
       "6408                     A Circus Romance  1916          USA 1916-01-24\n",
       "6539                    A Crooked Romance  1917          USA 1917-09-30\n",
       "...                                   ...   ...          ...        ...\n",
       "438359                Where Romance Rides  1925          USA 1925-04-28\n",
       "440631                       Wild Romance  2006  Netherlands 2006-11-09\n",
       "440632                       Wild Romance  2006      Belgium 2006-11-15\n",
       "440721                  Wild West Romance  1928          USA 1928-06-10\n",
       "448635                      Young Romance  1915          USA 1915-01-21\n",
       "\n",
       "[340 rows x 4 columns]"
      ]
     },
     "execution_count": 11,
     "metadata": {},
     "output_type": "execute_result"
    }
   ],
   "source": [
    "def filter_period(day):\n",
    "    return dt.\n",
    "release_dates.pipe(filter_results, 'title', 'Romance').pipe"
   ]
  },
  {
   "cell_type": "code",
   "execution_count": null,
   "metadata": {
    "collapsed": true,
    "jupyter": {
     "outputs_hidden": true
    }
   },
   "outputs": [],
   "source": []
  },
  {
   "cell_type": "markdown",
   "metadata": {},
   "source": [
    "### Count the number of movies with \"Action\" in their title for **each day of the week**, that are released in the USA."
   ]
  },
  {
   "cell_type": "code",
   "execution_count": null,
   "metadata": {
    "collapsed": true,
    "jupyter": {
     "outputs_hidden": true
    }
   },
   "outputs": [],
   "source": []
  },
  {
   "cell_type": "code",
   "execution_count": null,
   "metadata": {
    "collapsed": true,
    "jupyter": {
     "outputs_hidden": true
    }
   },
   "outputs": [],
   "source": []
  },
  {
   "cell_type": "markdown",
   "metadata": {},
   "source": [
    "### On which date was each Judi Dench movie from the 1990s released in the USA?"
   ]
  },
  {
   "cell_type": "code",
   "execution_count": null,
   "metadata": {
    "collapsed": true,
    "jupyter": {
     "outputs_hidden": true
    }
   },
   "outputs": [],
   "source": []
  },
  {
   "cell_type": "code",
   "execution_count": null,
   "metadata": {
    "collapsed": true,
    "jupyter": {
     "outputs_hidden": true
    }
   },
   "outputs": [],
   "source": []
  },
  {
   "cell_type": "markdown",
   "metadata": {},
   "source": [
    "### In which months do films with the actress Judi Dench tend to be released in the USA?"
   ]
  },
  {
   "cell_type": "code",
   "execution_count": null,
   "metadata": {
    "collapsed": true,
    "jupyter": {
     "outputs_hidden": true
    }
   },
   "outputs": [],
   "source": []
  },
  {
   "cell_type": "code",
   "execution_count": null,
   "metadata": {
    "collapsed": true,
    "jupyter": {
     "outputs_hidden": true
    }
   },
   "outputs": [],
   "source": []
  },
  {
   "cell_type": "markdown",
   "metadata": {},
   "source": [
    "### In which months do films with the actor Tom Cruise tend to be released in the USA?"
   ]
  },
  {
   "cell_type": "code",
   "execution_count": null,
   "metadata": {
    "collapsed": true,
    "jupyter": {
     "outputs_hidden": true
    }
   },
   "outputs": [],
   "source": []
  },
  {
   "cell_type": "code",
   "execution_count": null,
   "metadata": {
    "collapsed": true,
    "jupyter": {
     "outputs_hidden": true
    }
   },
   "outputs": [],
   "source": []
  }
 ],
 "metadata": {
  "kernelspec": {
   "display_name": "lighthouse",
   "language": "python",
   "name": "python3"
  },
  "language_info": {
   "codemirror_mode": {
    "name": "ipython",
    "version": 3
   },
   "file_extension": ".py",
   "mimetype": "text/x-python",
   "name": "python",
   "nbconvert_exporter": "python",
   "pygments_lexer": "ipython3",
   "version": "3.8.13"
  },
  "vscode": {
   "interpreter": {
    "hash": "f6bdb6bebcaa6c165db367a86e382ae8df75f09257c40532b854029e0e3d706f"
   }
  }
 },
 "nbformat": 4,
 "nbformat_minor": 4
}
