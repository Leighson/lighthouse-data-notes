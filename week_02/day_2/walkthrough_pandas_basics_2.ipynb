{
 "cells": [
  {
   "cell_type": "code",
   "execution_count": 2,
   "metadata": {},
   "outputs": [],
   "source": [
    "import numpy as np\n",
    "import pandas as pd"
   ]
  },
  {
   "cell_type": "code",
   "execution_count": 3,
   "metadata": {},
   "outputs": [
    {
     "name": "stdout",
     "output_type": "stream",
     "text": [
      "        one       two     three\n",
      "a  0.146475 -0.363166       NaN\n",
      "b -0.001427 -0.054496 -1.033983\n",
      "c -1.113632  0.221810  2.687847\n",
      "d       NaN -0.081181  0.919779\n"
     ]
    }
   ],
   "source": [
    "df = pd.DataFrame({\n",
    "    'one' : pd.Series(np.random.randn(3), index=['a', 'b', 'c']),\n",
    "    'two' : pd.Series(np.random.randn(4), index=['a', 'b', 'c', 'd']),\n",
    "    'three' : pd.Series(np.random.randn(3), index=['b', 'c', 'd'])\n",
    "})\n",
    "\n",
    "print(df)"
   ]
  },
  {
   "cell_type": "markdown",
   "metadata": {},
   "source": [
    "# Boolean Operations"
   ]
  },
  {
   "cell_type": "markdown",
   "metadata": {},
   "source": [
    "## Boolean Comparisons"
   ]
  },
  {
   "cell_type": "markdown",
   "metadata": {},
   "source": [
    "- eq (== equals to)\n",
    "- ne (!= not equals to)\n",
    "- le (<= less than or equals to)\n",
    "- lt (< less than)\n",
    "- ge (>= greater than or equals to)\n",
    "- gt (> greater than)"
   ]
  },
  {
   "cell_type": "code",
   "execution_count": 4,
   "metadata": {},
   "outputs": [
    {
     "name": "stdout",
     "output_type": "stream",
     "text": [
      "     one    two  three\n",
      "a  False  False  False\n",
      "b  False  False  False\n",
      "c  False  False  False\n",
      "d  False  False  False \n",
      "\n",
      "     one    two  three\n",
      "a  False  False   True\n",
      "b  False  False  False\n",
      "c  False  False  False\n",
      "d   True  False  False \n",
      "\n",
      "False\n"
     ]
    }
   ],
   "source": [
    "# create a copy of the dataframe\n",
    "df2 = df.copy()\n",
    "\n",
    "# \n",
    "print(df.gt(df2), '\\n')\n",
    "print(df.ne(df2), '\\n')\n",
    "print(np.nan == np.nan)"
   ]
  },
  {
   "cell_type": "markdown",
   "metadata": {},
   "source": [
    "## Reductions to Summarize Boolean Results"
   ]
  },
  {
   "cell_type": "markdown",
   "metadata": {},
   "source": [
    "Reductions that can be applied per column using the methods:\n",
    "- empty\n",
    "- any()\n",
    "- all()\n",
    "- bool()"
   ]
  },
  {
   "cell_type": "code",
   "execution_count": 5,
   "metadata": {},
   "outputs": [
    {
     "name": "stdout",
     "output_type": "stream",
     "text": [
      "one      False\n",
      "two      False\n",
      "three    False\n",
      "dtype: bool \n",
      "\n",
      "one      True\n",
      "two      True\n",
      "three    True\n",
      "dtype: bool \n",
      "\n",
      "True\n"
     ]
    }
   ],
   "source": [
    "print((df > 0).all(), '\\n')\n",
    "print((df > 0).any(), '\\n')\n",
    "print((df > 0).any().any())"
   ]
  },
  {
   "cell_type": "markdown",
   "metadata": {},
   "source": [
    "## Signle-Element Pandas Objects in a Boolean Context"
   ]
  },
  {
   "cell_type": "markdown",
   "metadata": {},
   "source": [
    "A Pandas Series or Dataframe behaves as expected when holding only 1 element."
   ]
  },
  {
   "cell_type": "code",
   "execution_count": 6,
   "metadata": {},
   "outputs": [
    {
     "name": "stdout",
     "output_type": "stream",
     "text": [
      "True \n",
      "\n",
      "False \n",
      "\n",
      "True \n",
      "\n",
      "True \n",
      "\n"
     ]
    }
   ],
   "source": [
    "print(pd.Series([True]).bool(), '\\n')\n",
    "print(pd.Series([False]).bool(), '\\n')\n",
    "print(pd.DataFrame([True]).bool(), '\\n')\n",
    "print(pd.DataFrame([True]).bool(), '\\n')"
   ]
  },
  {
   "cell_type": "markdown",
   "metadata": {},
   "source": [
    "## Objects Comparison"
   ]
  },
  {
   "cell_type": "markdown",
   "metadata": {},
   "source": [
    "Perform element-wise comparisons when comparing a pandas data structure with a scalar value or with other array-like objects of the same length."
   ]
  },
  {
   "cell_type": "code",
   "execution_count": 7,
   "metadata": {},
   "outputs": [
    {
     "name": "stdout",
     "output_type": "stream",
     "text": [
      "0     True\n",
      "1    False\n",
      "2    False\n",
      "dtype: bool \n",
      "\n",
      "0     True\n",
      "1     True\n",
      "2    False\n",
      "dtype: bool\n"
     ]
    }
   ],
   "source": [
    "print(pd.Series(['foo', 'bar', 'baz']) == 'foo', '\\n')\n",
    "print(pd.Series(['foo', 'bar', 'baz']) == pd.Index(['foo', 'bar', 'qux']))"
   ]
  },
  {
   "cell_type": "code",
   "execution_count": 8,
   "metadata": {},
   "outputs": [
    {
     "name": "stdout",
     "output_type": "stream",
     "text": [
      "one      False\n",
      "two       True\n",
      "three    False\n",
      "dtype: bool \n",
      "\n",
      "True\n"
     ]
    }
   ],
   "source": [
    "print((df + df == df * 2).all(), '\\n')\n",
    "print((df + df).equals(df * 2)) # equals() treats NaNs as equals, unlike the basic boolean operations"
   ]
  },
  {
   "cell_type": "markdown",
   "metadata": {},
   "source": [
    "# Descriptive Statistics"
   ]
  },
  {
   "cell_type": "markdown",
   "metadata": {},
   "source": [
    "There exists a large number of methods for computing descriptive statistics and other related operations on Pandas Series & DataFrame sets. All of them are also vectorized. And most are aggregations and produce a lower-dimensional result.\n",
    "\n",
    "Generally speaking, these methods take an axis as an argument and the axis can be specified by name or integer."
   ]
  },
  {
   "cell_type": "markdown",
   "metadata": {},
   "source": [
    "![Descriptive Statistics in Pandas](https://i.imgur.com/ZDOek2T.png)"
   ]
  },
  {
   "cell_type": "code",
   "execution_count": 9,
   "metadata": {},
   "outputs": [
    {
     "name": "stdout",
     "output_type": "stream",
     "text": [
      "one     -0.322861\n",
      "two     -0.069258\n",
      "three    0.857881\n",
      "dtype: float64 \n",
      "\n",
      "a   -0.108345\n",
      "b   -0.363302\n",
      "c    0.598675\n",
      "d    0.419299\n",
      "dtype: float64\n"
     ]
    }
   ],
   "source": [
    "# aggregation for each column\n",
    "print(df.mean(0), '\\n')\n",
    "\n",
    "# aggregation for each index\n",
    "print(df.mean(1))"
   ]
  },
  {
   "cell_type": "markdown",
   "metadata": {},
   "source": [
    "By applying vectorized operations, we can describe various statisticasl procedures, like *standardization (rendering data zero mean and standard deviation 1)."
   ]
  },
  {
   "cell_type": "code",
   "execution_count": 10,
   "metadata": {},
   "outputs": [
    {
     "data": {
      "text/plain": [
       "one      1.0\n",
       "two      1.0\n",
       "three    1.0\n",
       "dtype: float64"
      ]
     },
     "execution_count": 10,
     "metadata": {},
     "output_type": "execute_result"
    }
   ],
   "source": [
    "ts_stand = (df - df.mean()) / df.std()\n",
    "ts_stand.std()"
   ]
  },
  {
   "cell_type": "markdown",
   "metadata": {},
   "source": [
    "## Describe"
   ]
  },
  {
   "cell_type": "markdown",
   "metadata": {},
   "source": [
    "There is a convenient `describe()` function which computes a variety of summary statistics about a `Series` or the columns of a `DataFrame`:"
   ]
  },
  {
   "cell_type": "code",
   "execution_count": 11,
   "metadata": {},
   "outputs": [
    {
     "data": {
      "text/plain": [
       "count    500.000000\n",
       "mean      -0.002538\n",
       "std        0.957866\n",
       "min       -2.708319\n",
       "25%       -0.650090\n",
       "50%        0.001456\n",
       "75%        0.644395\n",
       "max        2.579643\n",
       "dtype: float64"
      ]
     },
     "execution_count": 11,
     "metadata": {},
     "output_type": "execute_result"
    }
   ],
   "source": [
    "series = pd.Series(np.random.randn(1000))\n",
    "series[::2] = np.nan\n",
    "series.describe()"
   ]
  },
  {
   "cell_type": "code",
   "execution_count": 13,
   "metadata": {},
   "outputs": [
    {
     "data": {
      "text/html": [
       "<div>\n",
       "<style scoped>\n",
       "    .dataframe tbody tr th:only-of-type {\n",
       "        vertical-align: middle;\n",
       "    }\n",
       "\n",
       "    .dataframe tbody tr th {\n",
       "        vertical-align: top;\n",
       "    }\n",
       "\n",
       "    .dataframe thead th {\n",
       "        text-align: right;\n",
       "    }\n",
       "</style>\n",
       "<table border=\"1\" class=\"dataframe\">\n",
       "  <thead>\n",
       "    <tr style=\"text-align: right;\">\n",
       "      <th></th>\n",
       "      <th>a</th>\n",
       "      <th>b</th>\n",
       "      <th>c</th>\n",
       "      <th>d</th>\n",
       "      <th>e</th>\n",
       "    </tr>\n",
       "  </thead>\n",
       "  <tbody>\n",
       "    <tr>\n",
       "      <th>count</th>\n",
       "      <td>500.000000</td>\n",
       "      <td>500.000000</td>\n",
       "      <td>500.000000</td>\n",
       "      <td>500.000000</td>\n",
       "      <td>500.000000</td>\n",
       "    </tr>\n",
       "    <tr>\n",
       "      <th>mean</th>\n",
       "      <td>0.008352</td>\n",
       "      <td>0.000572</td>\n",
       "      <td>-0.033490</td>\n",
       "      <td>0.010853</td>\n",
       "      <td>-0.012399</td>\n",
       "    </tr>\n",
       "    <tr>\n",
       "      <th>std</th>\n",
       "      <td>1.064142</td>\n",
       "      <td>1.011945</td>\n",
       "      <td>1.003456</td>\n",
       "      <td>1.005942</td>\n",
       "      <td>0.972037</td>\n",
       "    </tr>\n",
       "    <tr>\n",
       "      <th>min</th>\n",
       "      <td>-4.111090</td>\n",
       "      <td>-3.615698</td>\n",
       "      <td>-3.096239</td>\n",
       "      <td>-2.739371</td>\n",
       "      <td>-2.471437</td>\n",
       "    </tr>\n",
       "    <tr>\n",
       "      <th>25%</th>\n",
       "      <td>-0.678935</td>\n",
       "      <td>-0.646975</td>\n",
       "      <td>-0.668141</td>\n",
       "      <td>-0.655901</td>\n",
       "      <td>-0.700984</td>\n",
       "    </tr>\n",
       "    <tr>\n",
       "      <th>50%</th>\n",
       "      <td>0.025971</td>\n",
       "      <td>0.047380</td>\n",
       "      <td>-0.062987</td>\n",
       "      <td>0.011205</td>\n",
       "      <td>-0.049313</td>\n",
       "    </tr>\n",
       "    <tr>\n",
       "      <th>75%</th>\n",
       "      <td>0.738701</td>\n",
       "      <td>0.639458</td>\n",
       "      <td>0.644879</td>\n",
       "      <td>0.620590</td>\n",
       "      <td>0.660620</td>\n",
       "    </tr>\n",
       "    <tr>\n",
       "      <th>max</th>\n",
       "      <td>3.185961</td>\n",
       "      <td>3.027164</td>\n",
       "      <td>4.054239</td>\n",
       "      <td>3.270990</td>\n",
       "      <td>2.973112</td>\n",
       "    </tr>\n",
       "  </tbody>\n",
       "</table>\n",
       "</div>"
      ],
      "text/plain": [
       "                a           b           c           d           e\n",
       "count  500.000000  500.000000  500.000000  500.000000  500.000000\n",
       "mean     0.008352    0.000572   -0.033490    0.010853   -0.012399\n",
       "std      1.064142    1.011945    1.003456    1.005942    0.972037\n",
       "min     -4.111090   -3.615698   -3.096239   -2.739371   -2.471437\n",
       "25%     -0.678935   -0.646975   -0.668141   -0.655901   -0.700984\n",
       "50%      0.025971    0.047380   -0.062987    0.011205   -0.049313\n",
       "75%      0.738701    0.639458    0.644879    0.620590    0.660620\n",
       "max      3.185961    3.027164    4.054239    3.270990    2.973112"
      ]
     },
     "execution_count": 13,
     "metadata": {},
     "output_type": "execute_result"
    }
   ],
   "source": [
    "frame = pd.DataFrame(\n",
    "    np.random.randn(1000, 5),\n",
    "    columns=['a', 'b', 'c', 'd', 'e'])\n",
    "frame.iloc[::2] = np.nan\n",
    "frame.describe()"
   ]
  },
  {
   "cell_type": "markdown",
   "metadata": {},
   "source": [
    "The `count` represents the number of actual numbers. While the random function generated 1000 numbers per column, half were replaced by the slice indidated on line 4.\n",
    "\n",
    "For a non-numerical Series object, `describe()` will give a simple summary of the number of unique values and the most frequently occurring values:"
   ]
  },
  {
   "cell_type": "code",
   "execution_count": 14,
   "metadata": {},
   "outputs": [
    {
     "data": {
      "text/plain": [
       "count     9\n",
       "unique    4\n",
       "top       a\n",
       "freq      5\n",
       "dtype: object"
      ]
     },
     "execution_count": 14,
     "metadata": {},
     "output_type": "execute_result"
    }
   ],
   "source": [
    "s = pd.Series(['a', 'a', 'b', 'b', 'a', 'a', np.nan, 'c', 'd', 'a'])\n",
    "s.describe()"
   ]
  },
  {
   "cell_type": "markdown",
   "metadata": {},
   "source": [
    "## Index of Min/Max Values"
   ]
  },
  {
   "cell_type": "markdown",
   "metadata": {},
   "source": [
    "The `idxmin()` and `idxmax()` functions on `Series` and `DataFrame` compute the index labels with the minimum and maximum corresponding values:"
   ]
  },
  {
   "cell_type": "code",
   "execution_count": 16,
   "metadata": {},
   "outputs": [
    {
     "data": {
      "text/plain": [
       "0    0.664493\n",
       "1    0.672600\n",
       "2    2.446050\n",
       "3    0.555100\n",
       "4   -1.341844\n",
       "dtype: float64"
      ]
     },
     "execution_count": 16,
     "metadata": {},
     "output_type": "execute_result"
    }
   ],
   "source": [
    "s1 = pd.Series(np.random.randn(5))\n",
    "s1"
   ]
  },
  {
   "cell_type": "code",
   "execution_count": 17,
   "metadata": {},
   "outputs": [
    {
     "data": {
      "text/plain": [
       "(4, 2)"
      ]
     },
     "execution_count": 17,
     "metadata": {},
     "output_type": "execute_result"
    }
   ],
   "source": [
    "s1.idxmin(), s1.idxmax()"
   ]
  },
  {
   "cell_type": "code",
   "execution_count": 18,
   "metadata": {},
   "outputs": [
    {
     "data": {
      "text/html": [
       "<div>\n",
       "<style scoped>\n",
       "    .dataframe tbody tr th:only-of-type {\n",
       "        vertical-align: middle;\n",
       "    }\n",
       "\n",
       "    .dataframe tbody tr th {\n",
       "        vertical-align: top;\n",
       "    }\n",
       "\n",
       "    .dataframe thead th {\n",
       "        text-align: right;\n",
       "    }\n",
       "</style>\n",
       "<table border=\"1\" class=\"dataframe\">\n",
       "  <thead>\n",
       "    <tr style=\"text-align: right;\">\n",
       "      <th></th>\n",
       "      <th>A</th>\n",
       "      <th>B</th>\n",
       "      <th>C</th>\n",
       "    </tr>\n",
       "  </thead>\n",
       "  <tbody>\n",
       "    <tr>\n",
       "      <th>0</th>\n",
       "      <td>-0.140097</td>\n",
       "      <td>0.123954</td>\n",
       "      <td>-1.357897</td>\n",
       "    </tr>\n",
       "    <tr>\n",
       "      <th>1</th>\n",
       "      <td>-0.309110</td>\n",
       "      <td>1.855777</td>\n",
       "      <td>-0.596847</td>\n",
       "    </tr>\n",
       "    <tr>\n",
       "      <th>2</th>\n",
       "      <td>-2.296176</td>\n",
       "      <td>-1.343464</td>\n",
       "      <td>-0.911371</td>\n",
       "    </tr>\n",
       "    <tr>\n",
       "      <th>3</th>\n",
       "      <td>0.615740</td>\n",
       "      <td>-0.387936</td>\n",
       "      <td>-0.712033</td>\n",
       "    </tr>\n",
       "    <tr>\n",
       "      <th>4</th>\n",
       "      <td>-1.043531</td>\n",
       "      <td>0.443584</td>\n",
       "      <td>0.307695</td>\n",
       "    </tr>\n",
       "  </tbody>\n",
       "</table>\n",
       "</div>"
      ],
      "text/plain": [
       "          A         B         C\n",
       "0 -0.140097  0.123954 -1.357897\n",
       "1 -0.309110  1.855777 -0.596847\n",
       "2 -2.296176 -1.343464 -0.911371\n",
       "3  0.615740 -0.387936 -0.712033\n",
       "4 -1.043531  0.443584  0.307695"
      ]
     },
     "execution_count": 18,
     "metadata": {},
     "output_type": "execute_result"
    }
   ],
   "source": [
    "df1 = pd.DataFrame(np.random.randn(5, 3), columns=['A', 'B', 'C'])\n",
    "df1"
   ]
  },
  {
   "cell_type": "code",
   "execution_count": 19,
   "metadata": {},
   "outputs": [
    {
     "data": {
      "text/plain": [
       "A    2\n",
       "B    2\n",
       "C    0\n",
       "dtype: int64"
      ]
     },
     "execution_count": 19,
     "metadata": {},
     "output_type": "execute_result"
    }
   ],
   "source": [
    "df1.idxmin(axis=0)"
   ]
  },
  {
   "cell_type": "code",
   "execution_count": 20,
   "metadata": {},
   "outputs": [
    {
     "data": {
      "text/plain": [
       "0    B\n",
       "1    B\n",
       "2    C\n",
       "3    A\n",
       "4    B\n",
       "dtype: object"
      ]
     },
     "execution_count": 20,
     "metadata": {},
     "output_type": "execute_result"
    }
   ],
   "source": [
    "df1.idxmax(axis=1)"
   ]
  },
  {
   "cell_type": "markdown",
   "metadata": {},
   "source": [
    "## Iter"
   ]
  }
 ],
 "metadata": {
  "kernelspec": {
   "display_name": "lighthouse",
   "language": "python",
   "name": "python3"
  },
  "language_info": {
   "codemirror_mode": {
    "name": "ipython",
    "version": 3
   },
   "file_extension": ".py",
   "mimetype": "text/x-python",
   "name": "python",
   "nbconvert_exporter": "python",
   "pygments_lexer": "ipython3",
   "version": "3.8.13"
  },
  "orig_nbformat": 4,
  "vscode": {
   "interpreter": {
    "hash": "f6bdb6bebcaa6c165db367a86e382ae8df75f09257c40532b854029e0e3d706f"
   }
  }
 },
 "nbformat": 4,
 "nbformat_minor": 2
}
