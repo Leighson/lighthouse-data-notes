{
 "cells": [
  {
   "cell_type": "code",
   "execution_count": 5,
   "metadata": {
    "collapsed": false,
    "jupyter": {
     "outputs_hidden": false
    }
   },
   "outputs": [],
   "source": [
    "import pandas as pd\n",
    "import numpy as np"
   ]
  },
  {
   "cell_type": "markdown",
   "metadata": {},
   "source": [
    "### Download the data and load it to Pandas. \n",
    "\n",
    "You can find them [here](https://drive.google.com/file/d/1NY6cmF9Shjw-dD7BD6bNmfcIVz-kQcFR/view?usp=sharing)."
   ]
  },
  {
   "cell_type": "code",
   "execution_count": 6,
   "metadata": {
    "collapsed": false,
    "jupyter": {
     "outputs_hidden": false
    }
   },
   "outputs": [
    {
     "data": {
      "text/html": [
       "<div>\n",
       "<style scoped>\n",
       "    .dataframe tbody tr th:only-of-type {\n",
       "        vertical-align: middle;\n",
       "    }\n",
       "\n",
       "    .dataframe tbody tr th {\n",
       "        vertical-align: top;\n",
       "    }\n",
       "\n",
       "    .dataframe thead th {\n",
       "        text-align: right;\n",
       "    }\n",
       "</style>\n",
       "<table border=\"1\" class=\"dataframe\">\n",
       "  <thead>\n",
       "    <tr style=\"text-align: right;\">\n",
       "      <th></th>\n",
       "      <th>title</th>\n",
       "      <th>year</th>\n",
       "    </tr>\n",
       "  </thead>\n",
       "  <tbody>\n",
       "    <tr>\n",
       "      <th>0</th>\n",
       "      <td>The Rising Son</td>\n",
       "      <td>1990</td>\n",
       "    </tr>\n",
       "    <tr>\n",
       "      <th>1</th>\n",
       "      <td>The Thousand Plane Raid</td>\n",
       "      <td>1969</td>\n",
       "    </tr>\n",
       "    <tr>\n",
       "      <th>2</th>\n",
       "      <td>Crucea de piatra</td>\n",
       "      <td>1993</td>\n",
       "    </tr>\n",
       "    <tr>\n",
       "      <th>3</th>\n",
       "      <td>Country</td>\n",
       "      <td>2000</td>\n",
       "    </tr>\n",
       "    <tr>\n",
       "      <th>4</th>\n",
       "      <td>Gaiking II</td>\n",
       "      <td>2011</td>\n",
       "    </tr>\n",
       "  </tbody>\n",
       "</table>\n",
       "</div>"
      ],
      "text/plain": [
       "                     title  year\n",
       "0           The Rising Son  1990\n",
       "1  The Thousand Plane Raid  1969\n",
       "2         Crucea de piatra  1993\n",
       "3                  Country  2000\n",
       "4               Gaiking II  2011"
      ]
     },
     "execution_count": 6,
     "metadata": {},
     "output_type": "execute_result"
    }
   ],
   "source": [
    "titles = pd.read_csv('data/titles.csv', index_col=None)\n",
    "titles.head()"
   ]
  },
  {
   "cell_type": "code",
   "execution_count": 7,
   "metadata": {
    "collapsed": false,
    "jupyter": {
     "outputs_hidden": false
    }
   },
   "outputs": [
    {
     "data": {
      "text/html": [
       "<div>\n",
       "<style scoped>\n",
       "    .dataframe tbody tr th:only-of-type {\n",
       "        vertical-align: middle;\n",
       "    }\n",
       "\n",
       "    .dataframe tbody tr th {\n",
       "        vertical-align: top;\n",
       "    }\n",
       "\n",
       "    .dataframe thead th {\n",
       "        text-align: right;\n",
       "    }\n",
       "</style>\n",
       "<table border=\"1\" class=\"dataframe\">\n",
       "  <thead>\n",
       "    <tr style=\"text-align: right;\">\n",
       "      <th></th>\n",
       "      <th>title</th>\n",
       "      <th>year</th>\n",
       "      <th>name</th>\n",
       "      <th>type</th>\n",
       "      <th>character</th>\n",
       "      <th>n</th>\n",
       "    </tr>\n",
       "  </thead>\n",
       "  <tbody>\n",
       "    <tr>\n",
       "      <th>0</th>\n",
       "      <td>Closet Monster</td>\n",
       "      <td>2015</td>\n",
       "      <td>Buffy #1</td>\n",
       "      <td>actor</td>\n",
       "      <td>Buffy 4</td>\n",
       "      <td>NaN</td>\n",
       "    </tr>\n",
       "    <tr>\n",
       "      <th>1</th>\n",
       "      <td>Suuri illusioni</td>\n",
       "      <td>1985</td>\n",
       "      <td>Homo $</td>\n",
       "      <td>actor</td>\n",
       "      <td>Guests</td>\n",
       "      <td>22.0</td>\n",
       "    </tr>\n",
       "    <tr>\n",
       "      <th>2</th>\n",
       "      <td>Battle of the Sexes</td>\n",
       "      <td>2017</td>\n",
       "      <td>$hutter</td>\n",
       "      <td>actor</td>\n",
       "      <td>Bobby Riggs Fan</td>\n",
       "      <td>10.0</td>\n",
       "    </tr>\n",
       "    <tr>\n",
       "      <th>3</th>\n",
       "      <td>Secret in Their Eyes</td>\n",
       "      <td>2015</td>\n",
       "      <td>$hutter</td>\n",
       "      <td>actor</td>\n",
       "      <td>2002 Dodger Fan</td>\n",
       "      <td>NaN</td>\n",
       "    </tr>\n",
       "    <tr>\n",
       "      <th>4</th>\n",
       "      <td>Steve Jobs</td>\n",
       "      <td>2015</td>\n",
       "      <td>$hutter</td>\n",
       "      <td>actor</td>\n",
       "      <td>1988 Opera House Patron</td>\n",
       "      <td>NaN</td>\n",
       "    </tr>\n",
       "  </tbody>\n",
       "</table>\n",
       "</div>"
      ],
      "text/plain": [
       "                  title  year      name   type                character     n\n",
       "0        Closet Monster  2015  Buffy #1  actor                  Buffy 4   NaN\n",
       "1       Suuri illusioni  1985    Homo $  actor                   Guests  22.0\n",
       "2   Battle of the Sexes  2017   $hutter  actor          Bobby Riggs Fan  10.0\n",
       "3  Secret in Their Eyes  2015   $hutter  actor          2002 Dodger Fan   NaN\n",
       "4            Steve Jobs  2015   $hutter  actor  1988 Opera House Patron   NaN"
      ]
     },
     "execution_count": 7,
     "metadata": {},
     "output_type": "execute_result"
    }
   ],
   "source": [
    "cast = pd.read_csv('data/cast.csv', index_col=None)\n",
    "cast.head()"
   ]
  },
  {
   "cell_type": "code",
   "execution_count": 22,
   "metadata": {},
   "outputs": [
    {
     "data": {
      "text/html": [
       "<div>\n",
       "<style scoped>\n",
       "    .dataframe tbody tr th:only-of-type {\n",
       "        vertical-align: middle;\n",
       "    }\n",
       "\n",
       "    .dataframe tbody tr th {\n",
       "        vertical-align: top;\n",
       "    }\n",
       "\n",
       "    .dataframe thead th {\n",
       "        text-align: right;\n",
       "    }\n",
       "</style>\n",
       "<table border=\"1\" class=\"dataframe\">\n",
       "  <thead>\n",
       "    <tr style=\"text-align: right;\">\n",
       "      <th></th>\n",
       "      <th>title</th>\n",
       "      <th>year</th>\n",
       "      <th>name</th>\n",
       "      <th>type</th>\n",
       "      <th>character</th>\n",
       "      <th>n</th>\n",
       "    </tr>\n",
       "  </thead>\n",
       "  <tbody>\n",
       "    <tr>\n",
       "      <th>42492</th>\n",
       "      <td>War in Snow</td>\n",
       "      <td>2026</td>\n",
       "      <td>Yassin Alnaimi</td>\n",
       "      <td>actor</td>\n",
       "      <td>Abdalrehman</td>\n",
       "      <td>NaN</td>\n",
       "    </tr>\n",
       "    <tr>\n",
       "      <th>42491</th>\n",
       "      <td>Rise of Man</td>\n",
       "      <td>2025</td>\n",
       "      <td>Yassin Alnaimi</td>\n",
       "      <td>actor</td>\n",
       "      <td>Mark</td>\n",
       "      <td>NaN</td>\n",
       "    </tr>\n",
       "    <tr>\n",
       "      <th>715145</th>\n",
       "      <td>Rise of Man</td>\n",
       "      <td>2025</td>\n",
       "      <td>Ewan Fleck</td>\n",
       "      <td>actor</td>\n",
       "      <td>Jack</td>\n",
       "      <td>NaN</td>\n",
       "    </tr>\n",
       "    <tr>\n",
       "      <th>826712</th>\n",
       "      <td>Inside Me</td>\n",
       "      <td>2023</td>\n",
       "      <td>Damien (II) Gonzalez</td>\n",
       "      <td>actor</td>\n",
       "      <td>Matt Garcia</td>\n",
       "      <td>NaN</td>\n",
       "    </tr>\n",
       "    <tr>\n",
       "      <th>2818581</th>\n",
       "      <td>Gnome Alone</td>\n",
       "      <td>2023</td>\n",
       "      <td>Becky G.</td>\n",
       "      <td>actress</td>\n",
       "      <td>Chlo?</td>\n",
       "      <td>NaN</td>\n",
       "    </tr>\n",
       "    <tr>\n",
       "      <th>...</th>\n",
       "      <td>...</td>\n",
       "      <td>...</td>\n",
       "      <td>...</td>\n",
       "      <td>...</td>\n",
       "      <td>...</td>\n",
       "      <td>...</td>\n",
       "    </tr>\n",
       "    <tr>\n",
       "      <th>1728670</th>\n",
       "      <td>Soldiers of the Cross</td>\n",
       "      <td>1900</td>\n",
       "      <td>Orrie Perry</td>\n",
       "      <td>actor</td>\n",
       "      <td>Lion</td>\n",
       "      <td>NaN</td>\n",
       "    </tr>\n",
       "    <tr>\n",
       "      <th>1728821</th>\n",
       "      <td>Soldiers of the Cross</td>\n",
       "      <td>1900</td>\n",
       "      <td>Reg Perry</td>\n",
       "      <td>actor</td>\n",
       "      <td>Lion</td>\n",
       "      <td>NaN</td>\n",
       "    </tr>\n",
       "    <tr>\n",
       "      <th>559348</th>\n",
       "      <td>Miss Jerry</td>\n",
       "      <td>1894</td>\n",
       "      <td>Chauncey Depew</td>\n",
       "      <td>actor</td>\n",
       "      <td>Himself - the Director of the New York Central...</td>\n",
       "      <td>NaN</td>\n",
       "    </tr>\n",
       "    <tr>\n",
       "      <th>2530280</th>\n",
       "      <td>Miss Jerry</td>\n",
       "      <td>1894</td>\n",
       "      <td>Blanche Bayliss</td>\n",
       "      <td>actress</td>\n",
       "      <td>Miss Geraldine Holbrook (Miss Jerry)</td>\n",
       "      <td>NaN</td>\n",
       "    </tr>\n",
       "    <tr>\n",
       "      <th>467752</th>\n",
       "      <td>Miss Jerry</td>\n",
       "      <td>1894</td>\n",
       "      <td>William Courtenay</td>\n",
       "      <td>actor</td>\n",
       "      <td>Mr. Hamilton</td>\n",
       "      <td>NaN</td>\n",
       "    </tr>\n",
       "  </tbody>\n",
       "</table>\n",
       "<p>3634467 rows × 6 columns</p>\n",
       "</div>"
      ],
      "text/plain": [
       "                         title  year                  name     type  \\\n",
       "42492              War in Snow  2026        Yassin Alnaimi    actor   \n",
       "42491              Rise of Man  2025        Yassin Alnaimi    actor   \n",
       "715145             Rise of Man  2025            Ewan Fleck    actor   \n",
       "826712               Inside Me  2023  Damien (II) Gonzalez    actor   \n",
       "2818581            Gnome Alone  2023              Becky G.  actress   \n",
       "...                        ...   ...                   ...      ...   \n",
       "1728670  Soldiers of the Cross  1900           Orrie Perry    actor   \n",
       "1728821  Soldiers of the Cross  1900             Reg Perry    actor   \n",
       "559348              Miss Jerry  1894        Chauncey Depew    actor   \n",
       "2530280             Miss Jerry  1894       Blanche Bayliss  actress   \n",
       "467752              Miss Jerry  1894     William Courtenay    actor   \n",
       "\n",
       "                                                 character   n  \n",
       "42492                                          Abdalrehman NaN  \n",
       "42491                                                 Mark NaN  \n",
       "715145                                                Jack NaN  \n",
       "826712                                         Matt Garcia NaN  \n",
       "2818581                                              Chlo? NaN  \n",
       "...                                                    ...  ..  \n",
       "1728670                                               Lion NaN  \n",
       "1728821                                               Lion NaN  \n",
       "559348   Himself - the Director of the New York Central... NaN  \n",
       "2530280               Miss Geraldine Holbrook (Miss Jerry) NaN  \n",
       "467752                                        Mr. Hamilton NaN  \n",
       "\n",
       "[3634467 rows x 6 columns]"
      ]
     },
     "execution_count": 22,
     "metadata": {},
     "output_type": "execute_result"
    }
   ],
   "source": [
    "cast.sort_values('year', ascending=False)"
   ]
  },
  {
   "cell_type": "markdown",
   "metadata": {},
   "source": [
    "### What are the ten most common movie names of all time?"
   ]
  },
  {
   "cell_type": "code",
   "execution_count": 18,
   "metadata": {
    "collapsed": true,
    "jupyter": {
     "outputs_hidden": true
    }
   },
   "outputs": [
    {
     "data": {
      "text/plain": [
       "Around the World in Eighty Days       1298\n",
       "7 cajas                                689\n",
       "Thelma                                 580\n",
       "The Ten Commandments                   533\n",
       "The Eschatrilogy: Book of the Dead     517\n",
       "Catching Faith                         493\n",
       "The Dark Knight Rises                  453\n",
       "Welcome to Essex                       449\n",
       "Stuck on You                           436\n",
       "The Buccaneer                          436\n",
       "Name: title, dtype: int64"
      ]
     },
     "execution_count": 18,
     "metadata": {},
     "output_type": "execute_result"
    }
   ],
   "source": [
    "# finding the top 10 most common movie names\n",
    "cast['title'].value_counts().head(10)"
   ]
  },
  {
   "cell_type": "markdown",
   "metadata": {},
   "source": [
    "### Which three years in the 1930s saw the most films released?"
   ]
  },
  {
   "cell_type": "code",
   "execution_count": 21,
   "metadata": {
    "collapsed": true,
    "jupyter": {
     "outputs_hidden": true
    }
   },
   "outputs": [
    {
     "data": {
      "text/plain": [
       "1937    27462\n",
       "1936    25755\n",
       "1938    25206\n",
       "Name: year, dtype: int64"
      ]
     },
     "execution_count": 21,
     "metadata": {},
     "output_type": "execute_result"
    }
   ],
   "source": [
    "# search for all films in the 1930s\n",
    "films_1930s = cast[cast['year'].isin(range(1930, 1940))]\n",
    "\n",
    "# find the 3 years in which the most movies were released\n",
    "films_1930s['year'].value_counts().head(3)"
   ]
  },
  {
   "cell_type": "markdown",
   "metadata": {},
   "source": [
    "### Count the number of films that have been released in each decade over the history of cinema."
   ]
  },
  {
   "cell_type": "code",
   "execution_count": 79,
   "metadata": {
    "collapsed": true,
    "jupyter": {
     "outputs_hidden": true
    }
   },
   "outputs": [],
   "source": [
    "# define a function which provices a count per decade for the search term\n",
    "def decade_count(table, field=None, search_term=None):\n",
    "    # filter table with the search term\n",
    "    if field:\n",
    "        table = table[table[field] == search_term]\n",
    "    # use filtered table to perform a count of occurances for each decade\n",
    "    for year in range(189, 204):\n",
    "        print(f'{(year-1) * 10}s', table[table['year'].isin(range((year-1)*10, year*10))]['year'].count())\n",
    "    \n",
    "    return table"
   ]
  },
  {
   "cell_type": "code",
   "execution_count": 82,
   "metadata": {},
   "outputs": [
    {
     "name": "stdout",
     "output_type": "stream",
     "text": [
      "1880s 0\n",
      "1890s 3\n",
      "1900s 70\n",
      "1910s 42604\n",
      "1920s 71472\n",
      "1930s 199058\n",
      "1940s 211842\n",
      "1950s 211470\n",
      "1960s 187069\n",
      "1970s 215147\n",
      "1980s 283194\n",
      "1990s 381806\n",
      "2000s 746571\n",
      "2010s 1083959\n",
      "2020s 202\n"
     ]
    },
    {
     "data": {
      "text/html": [
       "<div>\n",
       "<style scoped>\n",
       "    .dataframe tbody tr th:only-of-type {\n",
       "        vertical-align: middle;\n",
       "    }\n",
       "\n",
       "    .dataframe tbody tr th {\n",
       "        vertical-align: top;\n",
       "    }\n",
       "\n",
       "    .dataframe thead th {\n",
       "        text-align: right;\n",
       "    }\n",
       "</style>\n",
       "<table border=\"1\" class=\"dataframe\">\n",
       "  <thead>\n",
       "    <tr style=\"text-align: right;\">\n",
       "      <th></th>\n",
       "      <th>title</th>\n",
       "      <th>year</th>\n",
       "      <th>name</th>\n",
       "      <th>type</th>\n",
       "      <th>character</th>\n",
       "      <th>n</th>\n",
       "    </tr>\n",
       "  </thead>\n",
       "  <tbody>\n",
       "    <tr>\n",
       "      <th>0</th>\n",
       "      <td>Closet Monster</td>\n",
       "      <td>2015</td>\n",
       "      <td>Buffy #1</td>\n",
       "      <td>actor</td>\n",
       "      <td>Buffy 4</td>\n",
       "      <td>NaN</td>\n",
       "    </tr>\n",
       "    <tr>\n",
       "      <th>1</th>\n",
       "      <td>Suuri illusioni</td>\n",
       "      <td>1985</td>\n",
       "      <td>Homo $</td>\n",
       "      <td>actor</td>\n",
       "      <td>Guests</td>\n",
       "      <td>22.0</td>\n",
       "    </tr>\n",
       "    <tr>\n",
       "      <th>2</th>\n",
       "      <td>Battle of the Sexes</td>\n",
       "      <td>2017</td>\n",
       "      <td>$hutter</td>\n",
       "      <td>actor</td>\n",
       "      <td>Bobby Riggs Fan</td>\n",
       "      <td>10.0</td>\n",
       "    </tr>\n",
       "    <tr>\n",
       "      <th>3</th>\n",
       "      <td>Secret in Their Eyes</td>\n",
       "      <td>2015</td>\n",
       "      <td>$hutter</td>\n",
       "      <td>actor</td>\n",
       "      <td>2002 Dodger Fan</td>\n",
       "      <td>NaN</td>\n",
       "    </tr>\n",
       "    <tr>\n",
       "      <th>4</th>\n",
       "      <td>Steve Jobs</td>\n",
       "      <td>2015</td>\n",
       "      <td>$hutter</td>\n",
       "      <td>actor</td>\n",
       "      <td>1988 Opera House Patron</td>\n",
       "      <td>NaN</td>\n",
       "    </tr>\n",
       "    <tr>\n",
       "      <th>...</th>\n",
       "      <td>...</td>\n",
       "      <td>...</td>\n",
       "      <td>...</td>\n",
       "      <td>...</td>\n",
       "      <td>...</td>\n",
       "      <td>...</td>\n",
       "    </tr>\n",
       "    <tr>\n",
       "      <th>3634462</th>\n",
       "      <td>Foxtrot</td>\n",
       "      <td>1988</td>\n",
       "      <td>Lilja ??risd?ttir</td>\n",
       "      <td>actress</td>\n",
       "      <td>D?ra</td>\n",
       "      <td>24.0</td>\n",
       "    </tr>\n",
       "    <tr>\n",
       "      <th>3634463</th>\n",
       "      <td>Niceland (Population. 1.000.002)</td>\n",
       "      <td>2004</td>\n",
       "      <td>Sigr??ur J?na ??risd?ttir</td>\n",
       "      <td>actress</td>\n",
       "      <td>Woman in Bus</td>\n",
       "      <td>26.0</td>\n",
       "    </tr>\n",
       "    <tr>\n",
       "      <th>3634464</th>\n",
       "      <td>Skammdegi</td>\n",
       "      <td>1985</td>\n",
       "      <td>Dalla ??r?ard?ttir</td>\n",
       "      <td>actress</td>\n",
       "      <td>Hj?krunarkona</td>\n",
       "      <td>9.0</td>\n",
       "    </tr>\n",
       "    <tr>\n",
       "      <th>3634465</th>\n",
       "      <td>U.S.S.S.S...</td>\n",
       "      <td>2003</td>\n",
       "      <td>Krist?n Andrea ??r?ard?ttir</td>\n",
       "      <td>actress</td>\n",
       "      <td>Afgr.dama ? bens?nst??</td>\n",
       "      <td>17.0</td>\n",
       "    </tr>\n",
       "    <tr>\n",
       "      <th>3634466</th>\n",
       "      <td>Bye Bye Blue Bird</td>\n",
       "      <td>1999</td>\n",
       "      <td>Rosa ? R?gvu</td>\n",
       "      <td>actress</td>\n",
       "      <td>Pensionatv?rtinde</td>\n",
       "      <td>NaN</td>\n",
       "    </tr>\n",
       "  </tbody>\n",
       "</table>\n",
       "<p>3634467 rows × 6 columns</p>\n",
       "</div>"
      ],
      "text/plain": [
       "                                    title  year                         name  \\\n",
       "0                          Closet Monster  2015                     Buffy #1   \n",
       "1                         Suuri illusioni  1985                       Homo $   \n",
       "2                     Battle of the Sexes  2017                      $hutter   \n",
       "3                    Secret in Their Eyes  2015                      $hutter   \n",
       "4                              Steve Jobs  2015                      $hutter   \n",
       "...                                   ...   ...                          ...   \n",
       "3634462                           Foxtrot  1988            Lilja ??risd?ttir   \n",
       "3634463  Niceland (Population. 1.000.002)  2004    Sigr??ur J?na ??risd?ttir   \n",
       "3634464                         Skammdegi  1985           Dalla ??r?ard?ttir   \n",
       "3634465                      U.S.S.S.S...  2003  Krist?n Andrea ??r?ard?ttir   \n",
       "3634466                 Bye Bye Blue Bird  1999                 Rosa ? R?gvu   \n",
       "\n",
       "            type                character     n  \n",
       "0          actor                  Buffy 4   NaN  \n",
       "1          actor                   Guests  22.0  \n",
       "2          actor          Bobby Riggs Fan  10.0  \n",
       "3          actor          2002 Dodger Fan   NaN  \n",
       "4          actor  1988 Opera House Patron   NaN  \n",
       "...          ...                      ...   ...  \n",
       "3634462  actress                     D?ra  24.0  \n",
       "3634463  actress             Woman in Bus  26.0  \n",
       "3634464  actress            Hj?krunarkona   9.0  \n",
       "3634465  actress   Afgr.dama ? bens?nst??  17.0  \n",
       "3634466  actress        Pensionatv?rtinde   NaN  \n",
       "\n",
       "[3634467 rows x 6 columns]"
      ]
     },
     "execution_count": 82,
     "metadata": {},
     "output_type": "execute_result"
    }
   ],
   "source": [
    "# without specifying field and search term, decade_count returns a count for the entire table for each decade\n",
    "decade_count(cast)"
   ]
  },
  {
   "cell_type": "markdown",
   "metadata": {},
   "source": [
    "### Count the number of \"Hamlet\" films made in each decade."
   ]
  },
  {
   "cell_type": "code",
   "execution_count": 83,
   "metadata": {
    "collapsed": true,
    "jupyter": {
     "outputs_hidden": true
    }
   },
   "outputs": [
    {
     "name": "stdout",
     "output_type": "stream",
     "text": [
      "1880s 0\n",
      "1890s 0\n",
      "1900s 0\n",
      "1910s 28\n",
      "1920s 9\n",
      "1930s 0\n",
      "1940s 24\n",
      "1950s 1\n",
      "1960s 57\n",
      "1970s 19\n",
      "1980s 3\n",
      "1990s 83\n",
      "2000s 55\n",
      "2010s 34\n",
      "2020s 0\n"
     ]
    },
    {
     "data": {
      "text/html": [
       "<div>\n",
       "<style scoped>\n",
       "    .dataframe tbody tr th:only-of-type {\n",
       "        vertical-align: middle;\n",
       "    }\n",
       "\n",
       "    .dataframe tbody tr th {\n",
       "        vertical-align: top;\n",
       "    }\n",
       "\n",
       "    .dataframe thead th {\n",
       "        text-align: right;\n",
       "    }\n",
       "</style>\n",
       "<table border=\"1\" class=\"dataframe\">\n",
       "  <thead>\n",
       "    <tr style=\"text-align: right;\">\n",
       "      <th></th>\n",
       "      <th>title</th>\n",
       "      <th>year</th>\n",
       "      <th>name</th>\n",
       "      <th>type</th>\n",
       "      <th>character</th>\n",
       "      <th>n</th>\n",
       "    </tr>\n",
       "  </thead>\n",
       "  <tbody>\n",
       "    <tr>\n",
       "      <th>1627</th>\n",
       "      <td>Hamlet</td>\n",
       "      <td>1996</td>\n",
       "      <td>Riz Abbasi</td>\n",
       "      <td>actor</td>\n",
       "      <td>Attendant to Claudius</td>\n",
       "      <td>1.0</td>\n",
       "    </tr>\n",
       "    <tr>\n",
       "      <th>7488</th>\n",
       "      <td>Hamlet</td>\n",
       "      <td>1921</td>\n",
       "      <td>Fritz Achterberg</td>\n",
       "      <td>actor</td>\n",
       "      <td>Fortinbras,</td>\n",
       "      <td>9.0</td>\n",
       "    </tr>\n",
       "    <tr>\n",
       "      <th>11335</th>\n",
       "      <td>Hamlet</td>\n",
       "      <td>2009</td>\n",
       "      <td>Hayden Adams</td>\n",
       "      <td>actor</td>\n",
       "      <td>Laertes</td>\n",
       "      <td>7.0</td>\n",
       "    </tr>\n",
       "    <tr>\n",
       "      <th>11336</th>\n",
       "      <td>Hamlet</td>\n",
       "      <td>2009</td>\n",
       "      <td>Hayden Adams</td>\n",
       "      <td>actor</td>\n",
       "      <td>Player</td>\n",
       "      <td>7.0</td>\n",
       "    </tr>\n",
       "    <tr>\n",
       "      <th>14013</th>\n",
       "      <td>Hamlet</td>\n",
       "      <td>1913</td>\n",
       "      <td>Eric Adeney</td>\n",
       "      <td>actor</td>\n",
       "      <td>Reynaldo</td>\n",
       "      <td>14.0</td>\n",
       "    </tr>\n",
       "    <tr>\n",
       "      <th>...</th>\n",
       "      <td>...</td>\n",
       "      <td>...</td>\n",
       "      <td>...</td>\n",
       "      <td>...</td>\n",
       "      <td>...</td>\n",
       "      <td>...</td>\n",
       "    </tr>\n",
       "    <tr>\n",
       "      <th>3528232</th>\n",
       "      <td>Hamlet</td>\n",
       "      <td>1969</td>\n",
       "      <td>Jennifer Tudor</td>\n",
       "      <td>actress</td>\n",
       "      <td>Court lady</td>\n",
       "      <td>23.0</td>\n",
       "    </tr>\n",
       "    <tr>\n",
       "      <th>3550959</th>\n",
       "      <td>Hamlet</td>\n",
       "      <td>2000</td>\n",
       "      <td>Diane Venora</td>\n",
       "      <td>actress</td>\n",
       "      <td>Gertrude</td>\n",
       "      <td>3.0</td>\n",
       "    </tr>\n",
       "    <tr>\n",
       "      <th>3580610</th>\n",
       "      <td>Hamlet</td>\n",
       "      <td>1996</td>\n",
       "      <td>Perdita Weeks</td>\n",
       "      <td>actress</td>\n",
       "      <td>Second Player</td>\n",
       "      <td>44.0</td>\n",
       "    </tr>\n",
       "    <tr>\n",
       "      <th>3585205</th>\n",
       "      <td>Hamlet</td>\n",
       "      <td>2015</td>\n",
       "      <td>Katie (II) West</td>\n",
       "      <td>actress</td>\n",
       "      <td>Ophelia</td>\n",
       "      <td>7.0</td>\n",
       "    </tr>\n",
       "    <tr>\n",
       "      <th>3601799</th>\n",
       "      <td>Hamlet</td>\n",
       "      <td>1996</td>\n",
       "      <td>Kate Winslet</td>\n",
       "      <td>actress</td>\n",
       "      <td>Ophelia</td>\n",
       "      <td>46.0</td>\n",
       "    </tr>\n",
       "  </tbody>\n",
       "</table>\n",
       "<p>313 rows × 6 columns</p>\n",
       "</div>"
      ],
      "text/plain": [
       "          title  year              name     type              character     n\n",
       "1627     Hamlet  1996        Riz Abbasi    actor  Attendant to Claudius   1.0\n",
       "7488     Hamlet  1921  Fritz Achterberg    actor            Fortinbras,   9.0\n",
       "11335    Hamlet  2009      Hayden Adams    actor                Laertes   7.0\n",
       "11336    Hamlet  2009      Hayden Adams    actor                 Player   7.0\n",
       "14013    Hamlet  1913       Eric Adeney    actor               Reynaldo  14.0\n",
       "...         ...   ...               ...      ...                    ...   ...\n",
       "3528232  Hamlet  1969    Jennifer Tudor  actress             Court lady  23.0\n",
       "3550959  Hamlet  2000      Diane Venora  actress               Gertrude   3.0\n",
       "3580610  Hamlet  1996     Perdita Weeks  actress          Second Player  44.0\n",
       "3585205  Hamlet  2015   Katie (II) West  actress                Ophelia   7.0\n",
       "3601799  Hamlet  1996      Kate Winslet  actress                Ophelia  46.0\n",
       "\n",
       "[313 rows x 6 columns]"
      ]
     },
     "execution_count": 83,
     "metadata": {},
     "output_type": "execute_result"
    }
   ],
   "source": [
    "decade_count(cast, 'title', 'Hamlet')"
   ]
  },
  {
   "cell_type": "markdown",
   "metadata": {},
   "source": [
    "### Count the number of \"Rustler\" characters in each decade of the history of film."
   ]
  },
  {
   "cell_type": "code",
   "execution_count": 84,
   "metadata": {
    "collapsed": true,
    "jupyter": {
     "outputs_hidden": true
    }
   },
   "outputs": [
    {
     "name": "stdout",
     "output_type": "stream",
     "text": [
      "1880s 0\n",
      "1890s 0\n",
      "1900s 0\n",
      "1910s 0\n",
      "1920s 6\n",
      "1930s 84\n",
      "1940s 18\n",
      "1950s 8\n",
      "1960s 2\n",
      "1970s 9\n",
      "1980s 1\n",
      "1990s 4\n",
      "2000s 2\n",
      "2010s 0\n",
      "2020s 0\n"
     ]
    },
    {
     "data": {
      "text/html": [
       "<div>\n",
       "<style scoped>\n",
       "    .dataframe tbody tr th:only-of-type {\n",
       "        vertical-align: middle;\n",
       "    }\n",
       "\n",
       "    .dataframe tbody tr th {\n",
       "        vertical-align: top;\n",
       "    }\n",
       "\n",
       "    .dataframe thead th {\n",
       "        text-align: right;\n",
       "    }\n",
       "</style>\n",
       "<table border=\"1\" class=\"dataframe\">\n",
       "  <thead>\n",
       "    <tr style=\"text-align: right;\">\n",
       "      <th></th>\n",
       "      <th>title</th>\n",
       "      <th>year</th>\n",
       "      <th>name</th>\n",
       "      <th>type</th>\n",
       "      <th>character</th>\n",
       "      <th>n</th>\n",
       "    </tr>\n",
       "  </thead>\n",
       "  <tbody>\n",
       "    <tr>\n",
       "      <th>13041</th>\n",
       "      <td>Pinto Canyon</td>\n",
       "      <td>1940</td>\n",
       "      <td>Victor Adamson</td>\n",
       "      <td>actor</td>\n",
       "      <td>Rustler</td>\n",
       "      <td>NaN</td>\n",
       "    </tr>\n",
       "    <tr>\n",
       "      <th>13172</th>\n",
       "      <td>Two Gun Troubador</td>\n",
       "      <td>1939</td>\n",
       "      <td>Victor Adamson</td>\n",
       "      <td>actor</td>\n",
       "      <td>Rustler</td>\n",
       "      <td>NaN</td>\n",
       "    </tr>\n",
       "    <tr>\n",
       "      <th>43766</th>\n",
       "      <td>The Last Stand</td>\n",
       "      <td>1938</td>\n",
       "      <td>Gene Alsace</td>\n",
       "      <td>actor</td>\n",
       "      <td>Rustler</td>\n",
       "      <td>NaN</td>\n",
       "    </tr>\n",
       "    <tr>\n",
       "      <th>75824</th>\n",
       "      <td>Wanted</td>\n",
       "      <td>1967</td>\n",
       "      <td>Bruno Ari?</td>\n",
       "      <td>actor</td>\n",
       "      <td>Rustler</td>\n",
       "      <td>NaN</td>\n",
       "    </tr>\n",
       "    <tr>\n",
       "      <th>93905</th>\n",
       "      <td>Silent Valley</td>\n",
       "      <td>1935</td>\n",
       "      <td>Jimmy Aubrey</td>\n",
       "      <td>actor</td>\n",
       "      <td>Rustler</td>\n",
       "      <td>NaN</td>\n",
       "    </tr>\n",
       "    <tr>\n",
       "      <th>...</th>\n",
       "      <td>...</td>\n",
       "      <td>...</td>\n",
       "      <td>...</td>\n",
       "      <td>...</td>\n",
       "      <td>...</td>\n",
       "      <td>...</td>\n",
       "    </tr>\n",
       "    <tr>\n",
       "      <th>2361662</th>\n",
       "      <td>The Mysterious Avenger</td>\n",
       "      <td>1936</td>\n",
       "      <td>Blackie Whiteford</td>\n",
       "      <td>actor</td>\n",
       "      <td>Rustler</td>\n",
       "      <td>NaN</td>\n",
       "    </tr>\n",
       "    <tr>\n",
       "      <th>2362278</th>\n",
       "      <td>The Marksman</td>\n",
       "      <td>1953</td>\n",
       "      <td>Russ Whiteman</td>\n",
       "      <td>actor</td>\n",
       "      <td>Rustler</td>\n",
       "      <td>9.0</td>\n",
       "    </tr>\n",
       "    <tr>\n",
       "      <th>2382302</th>\n",
       "      <td>The Cowboys</td>\n",
       "      <td>1972</td>\n",
       "      <td>Henry Wills</td>\n",
       "      <td>actor</td>\n",
       "      <td>Rustler</td>\n",
       "      <td>42.0</td>\n",
       "    </tr>\n",
       "    <tr>\n",
       "      <th>2404657</th>\n",
       "      <td>The Frontiersmen</td>\n",
       "      <td>1938</td>\n",
       "      <td>Bob (II) Woodward</td>\n",
       "      <td>actor</td>\n",
       "      <td>Rustler</td>\n",
       "      <td>NaN</td>\n",
       "    </tr>\n",
       "    <tr>\n",
       "      <th>2430324</th>\n",
       "      <td>The Cowboys</td>\n",
       "      <td>1972</td>\n",
       "      <td>Joe Yrigoyen</td>\n",
       "      <td>actor</td>\n",
       "      <td>Rustler</td>\n",
       "      <td>43.0</td>\n",
       "    </tr>\n",
       "  </tbody>\n",
       "</table>\n",
       "<p>134 rows × 6 columns</p>\n",
       "</div>"
      ],
      "text/plain": [
       "                          title  year               name   type character  \\\n",
       "13041              Pinto Canyon  1940     Victor Adamson  actor   Rustler   \n",
       "13172         Two Gun Troubador  1939     Victor Adamson  actor   Rustler   \n",
       "43766            The Last Stand  1938        Gene Alsace  actor   Rustler   \n",
       "75824                    Wanted  1967         Bruno Ari?  actor   Rustler   \n",
       "93905             Silent Valley  1935       Jimmy Aubrey  actor   Rustler   \n",
       "...                         ...   ...                ...    ...       ...   \n",
       "2361662  The Mysterious Avenger  1936  Blackie Whiteford  actor   Rustler   \n",
       "2362278            The Marksman  1953      Russ Whiteman  actor   Rustler   \n",
       "2382302             The Cowboys  1972        Henry Wills  actor   Rustler   \n",
       "2404657        The Frontiersmen  1938  Bob (II) Woodward  actor   Rustler   \n",
       "2430324             The Cowboys  1972       Joe Yrigoyen  actor   Rustler   \n",
       "\n",
       "            n  \n",
       "13041     NaN  \n",
       "13172     NaN  \n",
       "43766     NaN  \n",
       "75824     NaN  \n",
       "93905     NaN  \n",
       "...       ...  \n",
       "2361662   NaN  \n",
       "2362278   9.0  \n",
       "2382302  42.0  \n",
       "2404657   NaN  \n",
       "2430324  43.0  \n",
       "\n",
       "[134 rows x 6 columns]"
      ]
     },
     "execution_count": 84,
     "metadata": {},
     "output_type": "execute_result"
    }
   ],
   "source": [
    "decade_count(cast, 'character', 'Rustler')"
   ]
  },
  {
   "cell_type": "markdown",
   "metadata": {},
   "source": [
    "### Count the number of \"Hamlet\" characters in each decade."
   ]
  },
  {
   "cell_type": "code",
   "execution_count": 85,
   "metadata": {
    "collapsed": true,
    "jupyter": {
     "outputs_hidden": true
    }
   },
   "outputs": [
    {
     "name": "stdout",
     "output_type": "stream",
     "text": [
      "1880s 0\n",
      "1890s 0\n",
      "1900s 0\n",
      "1910s 6\n",
      "1920s 1\n",
      "1930s 6\n",
      "1940s 1\n",
      "1950s 3\n",
      "1960s 7\n",
      "1970s 8\n",
      "1980s 2\n",
      "1990s 11\n",
      "2000s 19\n",
      "2010s 28\n",
      "2020s 0\n"
     ]
    },
    {
     "data": {
      "text/html": [
       "<div>\n",
       "<style scoped>\n",
       "    .dataframe tbody tr th:only-of-type {\n",
       "        vertical-align: middle;\n",
       "    }\n",
       "\n",
       "    .dataframe tbody tr th {\n",
       "        vertical-align: top;\n",
       "    }\n",
       "\n",
       "    .dataframe thead th {\n",
       "        text-align: right;\n",
       "    }\n",
       "</style>\n",
       "<table border=\"1\" class=\"dataframe\">\n",
       "  <thead>\n",
       "    <tr style=\"text-align: right;\">\n",
       "      <th></th>\n",
       "      <th>title</th>\n",
       "      <th>year</th>\n",
       "      <th>name</th>\n",
       "      <th>type</th>\n",
       "      <th>character</th>\n",
       "      <th>n</th>\n",
       "    </tr>\n",
       "  </thead>\n",
       "  <tbody>\n",
       "    <tr>\n",
       "      <th>6046</th>\n",
       "      <td>Sugar</td>\n",
       "      <td>2008</td>\n",
       "      <td>Hamlet Abreu</td>\n",
       "      <td>actor</td>\n",
       "      <td>Hamlet</td>\n",
       "      <td>58.0</td>\n",
       "    </tr>\n",
       "    <tr>\n",
       "      <th>94622</th>\n",
       "      <td>Top of the Town</td>\n",
       "      <td>1937</td>\n",
       "      <td>Mischa Auer</td>\n",
       "      <td>actor</td>\n",
       "      <td>Hamlet</td>\n",
       "      <td>6.0</td>\n",
       "    </tr>\n",
       "    <tr>\n",
       "      <th>120882</th>\n",
       "      <td>The Sound of Spying</td>\n",
       "      <td>2014</td>\n",
       "      <td>Jonathan Ball</td>\n",
       "      <td>actor</td>\n",
       "      <td>Hamlet</td>\n",
       "      <td>NaN</td>\n",
       "    </tr>\n",
       "    <tr>\n",
       "      <th>153893</th>\n",
       "      <td>R~E~T~R~O~G~R~A~D~E</td>\n",
       "      <td>2018</td>\n",
       "      <td>Broderic Beard</td>\n",
       "      <td>actor</td>\n",
       "      <td>Hamlet</td>\n",
       "      <td>NaN</td>\n",
       "    </tr>\n",
       "    <tr>\n",
       "      <th>155421</th>\n",
       "      <td>Suivez cet avion</td>\n",
       "      <td>1989</td>\n",
       "      <td>Fran?ois Beaulieu</td>\n",
       "      <td>actor</td>\n",
       "      <td>Hamlet</td>\n",
       "      <td>26.0</td>\n",
       "    </tr>\n",
       "    <tr>\n",
       "      <th>...</th>\n",
       "      <td>...</td>\n",
       "      <td>...</td>\n",
       "      <td>...</td>\n",
       "      <td>...</td>\n",
       "      <td>...</td>\n",
       "      <td>...</td>\n",
       "    </tr>\n",
       "    <tr>\n",
       "      <th>2533035</th>\n",
       "      <td>Hamlet_X</td>\n",
       "      <td>2003</td>\n",
       "      <td>Meret Becker</td>\n",
       "      <td>actress</td>\n",
       "      <td>Hamlet</td>\n",
       "      <td>NaN</td>\n",
       "    </tr>\n",
       "    <tr>\n",
       "      <th>2639382</th>\n",
       "      <td>Bill Shakespeare in Hollywood</td>\n",
       "      <td>2011</td>\n",
       "      <td>Rafika Chawishe</td>\n",
       "      <td>actress</td>\n",
       "      <td>Hamlet</td>\n",
       "      <td>NaN</td>\n",
       "    </tr>\n",
       "    <tr>\n",
       "      <th>2843568</th>\n",
       "      <td>Intikam Melegi/Kadin Hamlet</td>\n",
       "      <td>1976</td>\n",
       "      <td>Fatma Girik</td>\n",
       "      <td>actress</td>\n",
       "      <td>Hamlet</td>\n",
       "      <td>1.0</td>\n",
       "    </tr>\n",
       "    <tr>\n",
       "      <th>3229662</th>\n",
       "      <td>Hamlet</td>\n",
       "      <td>1921</td>\n",
       "      <td>Asta Nielsen</td>\n",
       "      <td>actress</td>\n",
       "      <td>Hamlet</td>\n",
       "      <td>1.0</td>\n",
       "    </tr>\n",
       "    <tr>\n",
       "      <th>3277291</th>\n",
       "      <td>Hamlet</td>\n",
       "      <td>2015</td>\n",
       "      <td>Maxine Peake</td>\n",
       "      <td>actress</td>\n",
       "      <td>Hamlet</td>\n",
       "      <td>1.0</td>\n",
       "    </tr>\n",
       "  </tbody>\n",
       "</table>\n",
       "<p>92 rows × 6 columns</p>\n",
       "</div>"
      ],
      "text/plain": [
       "                                 title  year               name     type  \\\n",
       "6046                             Sugar  2008       Hamlet Abreu    actor   \n",
       "94622                  Top of the Town  1937        Mischa Auer    actor   \n",
       "120882             The Sound of Spying  2014      Jonathan Ball    actor   \n",
       "153893             R~E~T~R~O~G~R~A~D~E  2018     Broderic Beard    actor   \n",
       "155421                Suivez cet avion  1989  Fran?ois Beaulieu    actor   \n",
       "...                                ...   ...                ...      ...   \n",
       "2533035                       Hamlet_X  2003       Meret Becker  actress   \n",
       "2639382  Bill Shakespeare in Hollywood  2011    Rafika Chawishe  actress   \n",
       "2843568    Intikam Melegi/Kadin Hamlet  1976        Fatma Girik  actress   \n",
       "3229662                         Hamlet  1921       Asta Nielsen  actress   \n",
       "3277291                         Hamlet  2015       Maxine Peake  actress   \n",
       "\n",
       "        character     n  \n",
       "6046       Hamlet  58.0  \n",
       "94622      Hamlet   6.0  \n",
       "120882     Hamlet   NaN  \n",
       "153893     Hamlet   NaN  \n",
       "155421     Hamlet  26.0  \n",
       "...           ...   ...  \n",
       "2533035    Hamlet   NaN  \n",
       "2639382    Hamlet   NaN  \n",
       "2843568    Hamlet   1.0  \n",
       "3229662    Hamlet   1.0  \n",
       "3277291    Hamlet   1.0  \n",
       "\n",
       "[92 rows x 6 columns]"
      ]
     },
     "execution_count": 85,
     "metadata": {},
     "output_type": "execute_result"
    }
   ],
   "source": [
    "decade_count(cast, 'character', 'Hamlet')"
   ]
  },
  {
   "cell_type": "markdown",
   "metadata": {},
   "source": [
    "### What are the 11 most common character names in movie history?"
   ]
  },
  {
   "cell_type": "code",
   "execution_count": 89,
   "metadata": {
    "collapsed": true,
    "jupyter": {
     "outputs_hidden": true
    }
   },
   "outputs": [
    {
     "data": {
      "text/plain": [
       "Himself        19600\n",
       "Dancer         12096\n",
       "Extra          10953\n",
       "Reporter        8154\n",
       "Doctor          7436\n",
       "Student         7177\n",
       "Policeman       6883\n",
       "Party Guest     6742\n",
       "Nurse           6676\n",
       "Bartender       6613\n",
       "Minor Role      6255\n",
       "Name: character, dtype: int64"
      ]
     },
     "execution_count": 89,
     "metadata": {},
     "output_type": "execute_result"
    }
   ],
   "source": [
    "# filter table by character, then perform a count of the most common and return the top 11\n",
    "cast['character'].value_counts().head(11)"
   ]
  },
  {
   "cell_type": "markdown",
   "metadata": {},
   "source": [
    "### Who are the 10 people most often credited as \"Herself\" in film history?"
   ]
  },
  {
   "cell_type": "code",
   "execution_count": 93,
   "metadata": {
    "collapsed": true,
    "jupyter": {
     "outputs_hidden": true
    }
   },
   "outputs": [
    {
     "data": {
      "text/plain": [
       "Queen Elizabeth II    11\n",
       "Joyce Brothers         9\n",
       "Margaret Thatcher      8\n",
       "Mary Jo Pehl           7\n",
       "Hillary Clinton        7\n",
       "Joan Rivers            6\n",
       "Sumie Sakai            6\n",
       "Marilyn Monroe         5\n",
       "Bunny Yeager           5\n",
       "Caroline Rhea          5\n",
       "Name: name, dtype: int64"
      ]
     },
     "execution_count": 93,
     "metadata": {},
     "output_type": "execute_result"
    }
   ],
   "source": [
    "# filter cast table by the character called 'Herself'\n",
    "herself = cast[cast['character'] == 'Herself']\n",
    "# count based on most common name\n",
    "herself['name'].value_counts().head(10)"
   ]
  },
  {
   "cell_type": "markdown",
   "metadata": {},
   "source": [
    "### Who are the 10 people most often credited as \"Himself\" in film history?"
   ]
  },
  {
   "cell_type": "code",
   "execution_count": 94,
   "metadata": {
    "collapsed": true,
    "jupyter": {
     "outputs_hidden": true
    }
   },
   "outputs": [
    {
     "data": {
      "text/plain": [
       "Adolf Hitler             100\n",
       "Richard Nixon             46\n",
       "Ronald Reagan             39\n",
       "John F. Kennedy           34\n",
       "Winston Churchill         24\n",
       "George W. Bush            23\n",
       "Benito Mussolini          23\n",
       "Ron Jeremy                23\n",
       "Martin Luther King        21\n",
       "Franklin D. Roosevelt     20\n",
       "Name: name, dtype: int64"
      ]
     },
     "execution_count": 94,
     "metadata": {},
     "output_type": "execute_result"
    }
   ],
   "source": [
    "# filter cast table by character called 'Himself'\n",
    "himself = cast[cast['character'] == 'Himself']\n",
    "# perform a name \n",
    "himself['name'].value_counts().head(10)"
   ]
  },
  {
   "cell_type": "markdown",
   "metadata": {},
   "source": [
    "### Which actors or actresses appeared in the most movies in the year 1945?"
   ]
  },
  {
   "cell_type": "code",
   "execution_count": 101,
   "metadata": {
    "collapsed": true,
    "jupyter": {
     "outputs_hidden": true
    }
   },
   "outputs": [
    {
     "name": "stdout",
     "output_type": "stream",
     "text": [
      "actor      13540\n",
      "actress     4877\n",
      "Name: type, dtype: int64\n"
     ]
    },
    {
     "data": {
      "text/plain": [
       "Emmett Vogan       39\n",
       "Sam (II) Harris    32\n",
       "Harold Miller      29\n",
       "Bess Flowers       29\n",
       "Frank O'Connor     27\n",
       "Name: name, dtype: int64"
      ]
     },
     "execution_count": 101,
     "metadata": {},
     "output_type": "execute_result"
    }
   ],
   "source": [
    "# filter cast table for titles appearing in 1945\n",
    "titles_in_1945 = cast[cast['year'] == 1945]\n",
    "\n",
    "# are there other types of casts other than actors and actresses? no.\n",
    "print(titles_in_1945['type'].value_counts())\n",
    "\n",
    "# find the most prolific stars of 1945\n",
    "titles_in_1945['name'].value_counts().head()"
   ]
  },
  {
   "cell_type": "markdown",
   "metadata": {},
   "source": [
    "### Which actors or actresses appeared in the most movies in the year 1985?"
   ]
  },
  {
   "cell_type": "code",
   "execution_count": 102,
   "metadata": {
    "collapsed": true,
    "jupyter": {
     "outputs_hidden": true
    }
   },
   "outputs": [
    {
     "name": "stdout",
     "output_type": "stream",
     "text": [
      "actor      19228\n",
      "actress     8738\n",
      "Name: type, dtype: int64\n"
     ]
    },
    {
     "data": {
      "text/plain": [
       "Mammootty        22\n",
       "Shakti Kapoor    21\n",
       "Sukumari         20\n",
       "Lou Scheimer     15\n",
       "Aruna Irani      15\n",
       "Name: name, dtype: int64"
      ]
     },
     "execution_count": 102,
     "metadata": {},
     "output_type": "execute_result"
    }
   ],
   "source": [
    "# filter cast table for titles appearing in 1945\n",
    "titles_in_1985 = cast[cast['year'] == 1985]\n",
    "\n",
    "# are there other types of casts other than actors and actresses? no.\n",
    "print(titles_in_1985['type'].value_counts())\n",
    "\n",
    "# find the most prolific stars of 1945\n",
    "titles_in_1985['name'].value_counts().head()"
   ]
  },
  {
   "cell_type": "markdown",
   "metadata": {},
   "source": [
    "### How many roles \"Mammootty\" has played in each year of his career."
   ]
  },
  {
   "cell_type": "code",
   "execution_count": 126,
   "metadata": {
    "collapsed": true,
    "jupyter": {
     "outputs_hidden": true
    }
   },
   "outputs": [
    {
     "data": {
      "text/plain": [
       "1971     1\n",
       "1980     2\n",
       "1981     3\n",
       "1982     7\n",
       "1983    18\n",
       "1984    16\n",
       "1985    22\n",
       "1986    18\n",
       "1987     9\n",
       "1988     7\n",
       "1989    10\n",
       "1990    15\n",
       "1991     6\n",
       "1992     3\n",
       "1993     5\n",
       "1994     5\n",
       "1995     5\n",
       "1996     3\n",
       "1997     2\n",
       "1998     4\n",
       "1999     4\n",
       "2000     7\n",
       "2001     3\n",
       "2002     3\n",
       "2003     2\n",
       "2004     8\n",
       "2005     6\n",
       "2006     8\n",
       "2007     7\n",
       "2008     9\n",
       "2009    12\n",
       "2010     9\n",
       "2011     7\n",
       "2012     7\n",
       "2013     5\n",
       "2014     6\n",
       "2015     6\n",
       "2016     4\n",
       "2017     1\n",
       "Name: year, dtype: int64"
      ]
     },
     "execution_count": 126,
     "metadata": {},
     "output_type": "execute_result"
    }
   ],
   "source": [
    "# filter cast table by actor 'Mammootty'\n",
    "mammootty = cast[cast['name'] == 'Mammootty']\n",
    "# determine the years in which 'Mammootty' worked and count the number of roles per year\n",
    "mammootty['year'].value_counts().sort_index()"
   ]
  },
  {
   "cell_type": "markdown",
   "metadata": {},
   "source": [
    "### What are the 10 most frequent roles that start with the phrase \"Patron in\"?"
   ]
  },
  {
   "cell_type": "code",
   "execution_count": 127,
   "metadata": {
    "collapsed": true,
    "jupyter": {
     "outputs_hidden": true
    }
   },
   "outputs": [
    {
     "data": {
      "text/plain": [
       "Patron in Frisky Rabbit         16\n",
       "Patron in Chinese Restaurant     9\n",
       "Patron in the Coffee House       9\n",
       "Patron in Billiard Parlor        5\n",
       "Patron in Bar                    4\n",
       "Patron in restaurant             4\n",
       "Patron in cabaret                3\n",
       "Patron in Restaurant             3\n",
       "Patron in Club                   3\n",
       "Patron in Quiet Bar              2\n",
       "Name: character, dtype: int64"
      ]
     },
     "execution_count": 127,
     "metadata": {},
     "output_type": "execute_result"
    }
   ],
   "source": [
    "# filter cast table by character names that begin with 'Patron in'\n",
    "patron_in_char = cast[cast['character'].str.match(r'(^Patron in)')]\n",
    "# perform a count for the filtered table\n",
    "patron_in_char['character'].value_counts().head(10)"
   ]
  },
  {
   "cell_type": "markdown",
   "metadata": {},
   "source": [
    "### What are the 10 most frequent roles that start with the word \"Science\"?"
   ]
  },
  {
   "cell_type": "code",
   "execution_count": 125,
   "metadata": {
    "collapsed": true,
    "jupyter": {
     "outputs_hidden": true
    }
   },
   "outputs": [
    {
     "data": {
      "text/plain": [
       "Science Teacher         60\n",
       "Science Student          9\n",
       "Science Fair Student     9\n",
       "Science Fair Judge       6\n",
       "Science Club Member      5\n",
       "Science Kid              5\n",
       "Science Promo Cadet      5\n",
       "Science Reporter         5\n",
       "Science                  4\n",
       "Science Officer          3\n",
       "Name: character, dtype: int64"
      ]
     },
     "execution_count": 125,
     "metadata": {},
     "output_type": "execute_result"
    }
   ],
   "source": [
    "# filter search by character name beginning with 'Science'\n",
    "science_char = cast[cast['character'].str.match(r'(^Science)')]\n",
    "# \n",
    "science_char['character'].value_counts().head(10)"
   ]
  },
  {
   "cell_type": "markdown",
   "metadata": {},
   "source": [
    "### Count number of n-values of the roles that Judi Dench has played over her career."
   ]
  },
  {
   "cell_type": "code",
   "execution_count": 131,
   "metadata": {
    "collapsed": true,
    "jupyter": {
     "outputs_hidden": true
    }
   },
   "outputs": [
    {
     "data": {
      "text/plain": [
       "1.0     6\n",
       "2.0     6\n",
       "3.0     6\n",
       "4.0     4\n",
       "5.0     2\n",
       "6.0     4\n",
       "7.0     4\n",
       "8.0     1\n",
       "9.0     1\n",
       "12.0    3\n",
       "13.0    2\n",
       "16.0    2\n",
       "18.0    2\n",
       "20.0    1\n",
       "23.0    1\n",
       "26.0    1\n",
       "29.0    1\n",
       "40.0    1\n",
       "Name: n, dtype: int64"
      ]
     },
     "execution_count": 131,
     "metadata": {},
     "output_type": "execute_result"
    }
   ],
   "source": [
    "# filter cast table by actress named 'Judi Dench'\n",
    "judi_dench = cast[cast['name'] == 'Judi Dench']\n",
    "# use filtered tables to count number of n-values and sort values\n",
    "judi_dench['n'].value_counts().sort_index()"
   ]
  },
  {
   "cell_type": "markdown",
   "metadata": {},
   "source": [
    "### Count number of n-values of Cary Grant's roles through his career."
   ]
  },
  {
   "cell_type": "code",
   "execution_count": 132,
   "metadata": {
    "collapsed": true,
    "jupyter": {
     "outputs_hidden": true
    }
   },
   "outputs": [
    {
     "data": {
      "text/plain": [
       "1.0     46\n",
       "2.0     20\n",
       "3.0      2\n",
       "4.0      1\n",
       "5.0      1\n",
       "8.0      1\n",
       "9.0      2\n",
       "10.0     2\n",
       "Name: n, dtype: int64"
      ]
     },
     "execution_count": 132,
     "metadata": {},
     "output_type": "execute_result"
    }
   ],
   "source": [
    "# filter cast table by actress named 'Judi Dench'\n",
    "cary_grant = cast[cast['name'] == 'Cary Grant']\n",
    "# use filtered tables to count number of n-values and sort values\n",
    "cary_grant['n'].value_counts().sort_index()"
   ]
  },
  {
   "cell_type": "markdown",
   "metadata": {},
   "source": [
    "### Count number of n-value of the roles that Sidney Poitier has acted over the years."
   ]
  },
  {
   "cell_type": "code",
   "execution_count": 134,
   "metadata": {
    "collapsed": true,
    "jupyter": {
     "outputs_hidden": true
    }
   },
   "outputs": [
    {
     "data": {
      "text/plain": [
       "1.0     21\n",
       "2.0      8\n",
       "3.0      6\n",
       "4.0      3\n",
       "5.0      1\n",
       "10.0     1\n",
       "13.0     1\n",
       "21.0     1\n",
       "Name: n, dtype: int64"
      ]
     },
     "execution_count": 134,
     "metadata": {},
     "output_type": "execute_result"
    }
   ],
   "source": [
    "# filter cast table by actress named 'Judi Dench'\n",
    "sidney_poitier = cast[cast['name'] == 'Sidney Poitier']\n",
    "# use filtered tables to count number of n-values and sort values\n",
    "sidney_poitier['n'].value_counts().sort_index()"
   ]
  },
  {
   "cell_type": "markdown",
   "metadata": {},
   "source": [
    "### How many leading (n=1) roles were available to actors, and how many to actresses, in the 1950s?"
   ]
  },
  {
   "cell_type": "code",
   "execution_count": 144,
   "metadata": {
    "collapsed": true,
    "jupyter": {
     "outputs_hidden": true
    }
   },
   "outputs": [
    {
     "data": {
      "text/plain": [
       "actor      6616\n",
       "actress    2965\n",
       "Name: type, dtype: int64"
      ]
     },
     "execution_count": 144,
     "metadata": {},
     "output_type": "execute_result"
    }
   ],
   "source": [
    "# filter cast table to the 1950s\n",
    "titles_in_1950s = cast[cast['year'].isin(range(1950, 1960))]\n",
    "# filter further to only view leading roles, then perform counts on actors and actresses\n",
    "titles_in_1950s[titles_in_1950s['n'] == 1]['type'].value_counts()"
   ]
  },
  {
   "cell_type": "markdown",
   "metadata": {},
   "source": [
    "### How many supporting (n=2) roles were available to actors, and how many to actresses, in the 1950s?"
   ]
  },
  {
   "cell_type": "code",
   "execution_count": 145,
   "metadata": {
    "collapsed": true,
    "jupyter": {
     "outputs_hidden": true
    }
   },
   "outputs": [
    {
     "data": {
      "text/plain": [
       "actor      4564\n",
       "actress    4556\n",
       "Name: type, dtype: int64"
      ]
     },
     "execution_count": 145,
     "metadata": {},
     "output_type": "execute_result"
    }
   ],
   "source": [
    "# filter cast table to the 1950s\n",
    "titles_in_1950s = cast[cast['year'].isin(range(1950, 1960))]\n",
    "# filter further to only view leading roles, then perform counts on actors and actresses\n",
    "titles_in_1950s[titles_in_1950s['n'] == 2]['type'].value_counts()"
   ]
  }
 ],
 "metadata": {
  "kernelspec": {
   "display_name": "lighthouse",
   "language": "python",
   "name": "python3"
  },
  "language_info": {
   "codemirror_mode": {
    "name": "ipython",
    "version": 3
   },
   "file_extension": ".py",
   "mimetype": "text/x-python",
   "name": "python",
   "nbconvert_exporter": "python",
   "pygments_lexer": "ipython3",
   "version": "3.8.13"
  },
  "vscode": {
   "interpreter": {
    "hash": "f6bdb6bebcaa6c165db367a86e382ae8df75f09257c40532b854029e0e3d706f"
   }
  }
 },
 "nbformat": 4,
 "nbformat_minor": 4
}
