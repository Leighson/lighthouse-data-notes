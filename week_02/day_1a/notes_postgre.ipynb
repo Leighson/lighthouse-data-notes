{
 "cells": [
  {
   "cell_type": "markdown",
   "metadata": {},
   "source": [
    "# PostgreSQL"
   ]
  },
  {
   "cell_type": "markdown",
   "metadata": {},
   "source": [
    "## What is PostgreSQL?"
   ]
  },
  {
   "cell_type": "markdown",
   "metadata": {},
   "source": [
    "**PostgreSQL** is an advanced, enterprise-class, and open-source relational database system. It supports both SQL (relational) and JSON (non-relational) querying and is used as a primary database for many web applications as well as mobile and analytics applications. It is supported on various OS including BSD, Linux, macOS, Solaris, and Windows.\n",
    "\n",
    "PostgreSQL includes many data types for working with and storing data, and allows developers to define custom data types. This means that if you can't store what you need using one of the built-in data types, you can create your own.\n",
    "\n",
    "Many databases either focus on storing relational data in tables or document data as JSON. MongoDB is a document database whereas MySQL is a relational database; PostgreSQL can do both."
   ]
  },
  {
   "cell_type": "markdown",
   "metadata": {},
   "source": [
    "## Common Uses"
   ]
  },
  {
   "cell_type": "markdown",
   "metadata": {},
   "source": [
    "1. A robust database in the LAPP stack (Linux, Apache, PostgreSQL, and PHP/Python/Perl). It is used as a robust back-end database that powers many dynamic websites and web applications.\n",
    "2. General purpose transaction database to support applications and products.\n",
    "3. Geospatial database with the PostGIS extension supports geospatial databases for geographic information systems (GIS)."
   ]
  },
  {
   "cell_type": "markdown",
   "metadata": {},
   "source": [
    "## Window Functions"
   ]
  },
  {
   "cell_type": "markdown",
   "metadata": {},
   "source": [
    "A *window function* performs a calculation across a set of table rows that are somehow related to the current row. This is comparable to the type of calculation that can be done with an aggregate function. But unlike regular aggregate functions, use of a window function does not cause rows to become grouped into a single output row - the rows retain their separate identities. Behind the scenes, the window function is able to access more than just the current row of the query result."
   ]
  }
 ],
 "metadata": {
  "kernelspec": {
   "display_name": "lighthouse",
   "language": "python",
   "name": "python3"
  },
  "language_info": {
   "name": "python",
   "version": "3.8.13 | packaged by conda-forge | (default, Mar 25 2022, 06:04:14) \n[Clang 12.0.1 ]"
  },
  "orig_nbformat": 4,
  "vscode": {
   "interpreter": {
    "hash": "f6bdb6bebcaa6c165db367a86e382ae8df75f09257c40532b854029e0e3d706f"
   }
  }
 },
 "nbformat": 4,
 "nbformat_minor": 2
}
