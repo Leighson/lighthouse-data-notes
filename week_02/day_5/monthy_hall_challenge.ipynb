{
 "cells": [
  {
   "cell_type": "markdown",
   "metadata": {},
   "source": [
    "## The Monty Hall Problem\n",
    "\n",
    "\n",
    "Here's a fun and perhaps a surprising statistical riddle and an excellent way to get some practice writing python functions.\n",
    "\n",
    "In a game show, contestants try to guess which of the three closed doors contain a cash prize (goats are behind the other two doors). Of course, the odds of choosing the correct door are 1 in 3. \n",
    "\n",
    "However, there is a twist! The host of the show, Mr. Monty Hall, always opens a door after a contestant makes their choice. This door is always one of the two that the contestant did not pick. Behind the opened door, there is a goat. Leaving only two doors unopened, with one of them being the original door that the contestant picked. \n",
    "\n",
    "Afterwards, the host asks the contestant if they would like to switch their door of choice to the other unopened door. They have the option to keep their original choice or switch to the other unopened door.\n",
    "\n",
    "The question is, should the contestant switch to the other door? Is there any statistical benefit? \n",
    "\n",
    "------------\n",
    "\n",
    "We can answer the problem by running simulations in Python. We'll do it in several parts.\n",
    "\n",
    "First, write a function called `simulate_prizedoor`. This function will simulate the location of the prize in many games -- see the detailed specification below:"
   ]
  },
  {
   "cell_type": "code",
   "execution_count": 120,
   "metadata": {},
   "outputs": [],
   "source": [
    "import numpy as np\n",
    "import pandas as pd"
   ]
  },
  {
   "cell_type": "code",
   "execution_count": 121,
   "metadata": {},
   "outputs": [],
   "source": [
    "# the first function requires that the user specify how many games to play,\n",
    "# hence sinulations"
   ]
  },
  {
   "cell_type": "code",
   "execution_count": 122,
   "metadata": {
    "collapsed": false,
    "jupyter": {
     "outputs_hidden": false
    }
   },
   "outputs": [],
   "source": [
    "def simulate_prizedoor(nsim):\n",
    "    \"\"\"\n",
    "    Function\n",
    "    --------\n",
    "    Generate a random array of 0s, 1s, and 2s, representing\n",
    "    hiding a prize between door 0, door 1, and door 2\n",
    "\n",
    "    Parameters\n",
    "    ----------\n",
    "    nsim : int\n",
    "        The number of simulations to run\n",
    "\n",
    "    Returns\n",
    "    -------\n",
    "    answers : array\n",
    "        Random array of 0s, 1s, and 2s\n",
    "\n",
    "    Example\n",
    "    -------\n",
    "    print simulate_prizedoor(3)\n",
    "    array([0, 0, 2])\n",
    "    \"\"\"\n",
    "\n",
    "    # variables\n",
    "    answers = []\n",
    "\n",
    "    #compute here\n",
    "    for _ in range(nsim):\n",
    "        answers.append(np.random.randint(0, 3))\n",
    "    return answers"
   ]
  },
  {
   "cell_type": "code",
   "execution_count": 123,
   "metadata": {
    "collapsed": false,
    "jupyter": {
     "outputs_hidden": false
    }
   },
   "outputs": [],
   "source": [
    "def guess_doors(nguess):\n",
    "    \"\"\"\n",
    "    Function\n",
    "    --------\n",
    "    Generate a random array of 0s, 1s, and 2s, representing\n",
    "    a contestant's guesses between door 0, door 1, and door 2\n",
    "\n",
    "    Parameters\n",
    "    ----------\n",
    "    nguess : int\n",
    "        The number of guesses to run\n",
    "\n",
    "    Returns\n",
    "    -------\n",
    "    guesses : array\n",
    "        Random array of 0s, 1s, and 2s\n",
    "\n",
    "    Example\n",
    "    -------\n",
    "    print guess_doors(3)\n",
    "    array([0, 0, 2])\n",
    "    \"\"\"\n",
    "\n",
    "    # variables\n",
    "    guesses = []\n",
    "\n",
    "    #compute here\n",
    "    for _ in range(nguess):\n",
    "        guesses.append(np.random.randint(0, 3))\n",
    "    return guesses"
   ]
  },
  {
   "cell_type": "code",
   "execution_count": 124,
   "metadata": {},
   "outputs": [
    {
     "name": "stdout",
     "output_type": "stream",
     "text": [
      "[1, 1, 0, 2, 1, 0, 2, 0, 2, 2]\n",
      "[0, 0, 0, 1, 1, 2, 1, 0, 0, 0]\n"
     ]
    }
   ],
   "source": [
    "#your code here\n",
    "number_of_simulations = 10\n",
    "\n",
    "print(simulate_prizedoor(number_of_simulations))\n",
    "print(guess_doors(number_of_simulations))"
   ]
  },
  {
   "cell_type": "markdown",
   "metadata": {},
   "source": [
    "Next, write a function, `goat_door`, to simulate randomly revealing one of the goat doors that a contestant didn't pick."
   ]
  },
  {
   "cell_type": "code",
   "execution_count": 125,
   "metadata": {
    "collapsed": false,
    "jupyter": {
     "outputs_hidden": false
    }
   },
   "outputs": [],
   "source": [
    "def goat_door(prizedoors, guesses):\n",
    "    \"\"\"\n",
    "    Function\n",
    "    --------\n",
    "    Simulate the opening of a \"goat door\" that doesn't contain the prize,\n",
    "    and is different from the contestants guess\n",
    "\n",
    "    Parameters\n",
    "    ----------\n",
    "    prizedoors : array\n",
    "        The door that the prize is behind in each simulation\n",
    "    guesses : array\n",
    "        THe door that the contestant guessed in each simulation\n",
    "\n",
    "    Returns\n",
    "    -------\n",
    "    goats : array\n",
    "        The goat door that is opened for each simulation. Each item is 0, 1, or 2, and is different\n",
    "        from both prizedoors and guesses\n",
    "\n",
    "    Examples\n",
    "    --------\n",
    "    >>> print goat_door(np.array([0, 1, 2]), np.array([1, 1, 1]))\n",
    "    >>> array([2, 2, 0])\n",
    "    \"\"\"\n",
    "\n",
    "    # variables\n",
    "    goat = []\n",
    "\n",
    "    #your code here\n",
    "    for prize, guess in zip(prizedoors, guesses):\n",
    "        # enumerate the doors\n",
    "        doors = [0, 1, 2]\n",
    "\n",
    "        # case when the guess is incorrect\n",
    "        # revealed door must be different from the prize and guess\n",
    "        if prize != guess:\n",
    "            doors.remove(prize)\n",
    "            doors.remove(guess)\n",
    "\n",
    "        # case when the guess is correct\n",
    "        # revealed door doesn't matter\n",
    "        else:\n",
    "            doors.remove(prize)\n",
    "            del doors[np.random.randint(0, 1)] # randomly choose one of the remaining doors\n",
    "        goat.extend(doors)\n",
    "\n",
    "    return goat"
   ]
  },
  {
   "cell_type": "code",
   "execution_count": 126,
   "metadata": {},
   "outputs": [
    {
     "data": {
      "text/plain": [
       "[2, 2, 2, 0, 0, 2, 0, 2, 2, 0]"
      ]
     },
     "execution_count": 126,
     "metadata": {},
     "output_type": "execute_result"
    }
   ],
   "source": [
    "goat_door(\n",
    "    simulate_prizedoor(number_of_simulations),\n",
    "    guess_doors(number_of_simulations)\n",
    ")"
   ]
  },
  {
   "cell_type": "markdown",
   "metadata": {},
   "source": [
    "Write a function, `switch_guess`, that represents the strategy of always switching a guess after the goat door is opened."
   ]
  },
  {
   "cell_type": "code",
   "execution_count": 127,
   "metadata": {
    "collapsed": false,
    "jupyter": {
     "outputs_hidden": false
    }
   },
   "outputs": [],
   "source": [
    "def switch_guess(guesses, goatdoors):\n",
    "     \"\"\"\n",
    "     Function\n",
    "     --------\n",
    "     The strategy that always switches a guess after the goat door is opened\n",
    "\n",
    "     Parameters\n",
    "     ----------\n",
    "     guesses : array\n",
    "          Array of original guesses, for each simulation\n",
    "     goatdoors : array\n",
    "          Array of revealed goat doors for each simulation\n",
    "\n",
    "     Returns\n",
    "     -------\n",
    "     The new door after switching. Should be different from both guesses and goatdoors\n",
    "\n",
    "     Examples\n",
    "     --------\n",
    "     >>> print switch_guess(np.array([0, 1, 2]), np.array([1, 2, 1]))\n",
    "     >>> array([2, 0, 0])\n",
    "     \"\"\"\n",
    "     # variables\n",
    "     \n",
    "\n",
    "     #your code here\n",
    "\n"
   ]
  },
  {
   "cell_type": "markdown",
   "metadata": {},
   "source": [
    "The Last function: write a `win_percentage` function that takes an array of `guesses` and `prizedoors`, and returns the percent of correct guesses"
   ]
  },
  {
   "cell_type": "code",
   "execution_count": 128,
   "metadata": {
    "collapsed": false,
    "jupyter": {
     "outputs_hidden": false
    }
   },
   "outputs": [
    {
     "data": {
      "text/plain": [
       "'\\nFunction\\n--------\\nwin_percentage\\n\\nCalculate the percent of times that a simulation of guesses is correct\\n\\nParameters\\n-----------\\nguesses : array\\n    Guesses for each simulation\\nprizedoors : array\\n    Location of prize for each simulation\\n\\nReturns\\n--------\\npercentage : number between 0 and 100\\n    The win percentage\\n\\nExamples\\n---------\\n>>> print win_percentage(np.array([0, 1, 2]), np.array([0, 0, 0]))\\n33.333\\n'"
      ]
     },
     "execution_count": 128,
     "metadata": {},
     "output_type": "execute_result"
    }
   ],
   "source": [
    "\"\"\"\n",
    "Function\n",
    "--------\n",
    "win_percentage\n",
    "\n",
    "Calculate the percent of times that a simulation of guesses is correct\n",
    "\n",
    "Parameters\n",
    "-----------\n",
    "guesses : array\n",
    "    Guesses for each simulation\n",
    "prizedoors : array\n",
    "    Location of prize for each simulation\n",
    "\n",
    "Returns\n",
    "--------\n",
    "percentage : number between 0 and 100\n",
    "    The win percentage\n",
    "\n",
    "Examples\n",
    "---------\n",
    ">>> print win_percentage(np.array([0, 1, 2]), np.array([0, 0, 0]))\n",
    "33.333\n",
    "\"\"\"\n",
    "#your code here\n"
   ]
  },
  {
   "cell_type": "markdown",
   "metadata": {},
   "source": [
    "----------\n",
    "Now, put it all together. Simulate 10000 games where the contestant keeps their original guess, and 10000 games where the contestant switches their door after the  goat door is revealed. \n",
    "\n",
    "Compute the percentage of time the contestant wins under either strategy. Is one strategy better than the other?"
   ]
  },
  {
   "cell_type": "code",
   "execution_count": 129,
   "metadata": {
    "collapsed": false,
    "jupyter": {
     "outputs_hidden": false
    }
   },
   "outputs": [],
   "source": [
    "#your code here\n"
   ]
  },
  {
   "cell_type": "markdown",
   "metadata": {},
   "source": [
    "-------------\n",
    "Many people will find this answer counter-intuitive (famously, PhD mathematicians have incorrectly claimed the result must be wrong. Clearly, none of them knew Python). \n",
    "\n",
    "One of the best ways to build intuition about why opening a goat door affects the odds is to re-run the experiment with 100 doors and one prize. If the game show host opens 98 goat doors after you make your initial selection, would you want to keep your first pick or switch? Can you generalize your simulation code to handle the case with `n` doors?"
   ]
  },
  {
   "cell_type": "code",
   "execution_count": null,
   "metadata": {},
   "outputs": [],
   "source": []
  }
 ],
 "metadata": {
  "anaconda-cloud": {},
  "kernelspec": {
   "display_name": "lighthouse",
   "language": "python",
   "name": "python3"
  },
  "language_info": {
   "codemirror_mode": {
    "name": "ipython",
    "version": 3
   },
   "file_extension": ".py",
   "mimetype": "text/x-python",
   "name": "python",
   "nbconvert_exporter": "python",
   "pygments_lexer": "ipython3",
   "version": "3.8.13"
  },
  "vscode": {
   "interpreter": {
    "hash": "f6bdb6bebcaa6c165db367a86e382ae8df75f09257c40532b854029e0e3d706f"
   }
  }
 },
 "nbformat": 4,
 "nbformat_minor": 4
}
