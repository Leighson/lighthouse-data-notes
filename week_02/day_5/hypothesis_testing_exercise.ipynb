{
 "cells": [
  {
   "cell_type": "markdown",
   "metadata": {},
   "source": [
    "## Hypothesis Testing Assignment"
   ]
  },
  {
   "cell_type": "code",
   "execution_count": 203,
   "metadata": {},
   "outputs": [],
   "source": [
    "#Importing necessary packages\n",
    "import pandas as pd\n",
    "import numpy as np\n",
    "import datetime as dt\n",
    "# package with hypothesis tests\n",
    "import scipy.stats as st"
   ]
  },
  {
   "cell_type": "markdown",
   "metadata": {},
   "source": [
    "### Data"
   ]
  },
  {
   "cell_type": "markdown",
   "metadata": {},
   "source": [
    "You can download the data from [**here**](https://drive.google.com/file/d/0Bz9_0VdXvv9bUUNlUTVrMF9VcVU/view?usp=sharing&resourcekey=0-16O9Fc5eaJH99-M7AHqHOg). The data contains results of all NBA games from seasons 2013/2014 to 2015/2016."
   ]
  },
  {
   "cell_type": "code",
   "execution_count": 204,
   "metadata": {},
   "outputs": [
    {
     "name": "stdout",
     "output_type": "stream",
     "text": [
      "<class 'pandas.core.frame.DataFrame'>\n",
      "RangeIndex: 7380 entries, 0 to 7379\n",
      "Data columns (total 28 columns):\n",
      " #   Column             Non-Null Count  Dtype  \n",
      "---  ------             --------------  -----  \n",
      " 0   SEASON_ID          7380 non-null   int64  \n",
      " 1   TEAM_ID            7380 non-null   int64  \n",
      " 2   TEAM_ABBREVIATION  7380 non-null   object \n",
      " 3   TEAM_NAME          7380 non-null   object \n",
      " 4   GAME_ID            7380 non-null   int64  \n",
      " 5   GAME_DATE          7380 non-null   object \n",
      " 6   MATCHUP            7380 non-null   object \n",
      " 7   WL                 7380 non-null   object \n",
      " 8   MIN                7380 non-null   int64  \n",
      " 9   PTS                7380 non-null   int64  \n",
      " 10  FGM                7380 non-null   int64  \n",
      " 11  FGA                7380 non-null   int64  \n",
      " 12  FG_PCT             7380 non-null   float64\n",
      " 13  FG3M               7380 non-null   int64  \n",
      " 14  FG3A               7380 non-null   int64  \n",
      " 15  FG3_PCT            7380 non-null   float64\n",
      " 16  FTM                7380 non-null   int64  \n",
      " 17  FTA                7380 non-null   int64  \n",
      " 18  FT_PCT             7380 non-null   float64\n",
      " 19  OREB               7380 non-null   int64  \n",
      " 20  DREB               7380 non-null   int64  \n",
      " 21  REB                7380 non-null   int64  \n",
      " 22  AST                7380 non-null   int64  \n",
      " 23  STL                7380 non-null   int64  \n",
      " 24  BLK                7380 non-null   int64  \n",
      " 25  TOV                7380 non-null   int64  \n",
      " 26  PF                 7380 non-null   int64  \n",
      " 27  PLUS_MINUS         7380 non-null   float64\n",
      "dtypes: float64(4), int64(19), object(5)\n",
      "memory usage: 1.6+ MB\n"
     ]
    }
   ],
   "source": [
    "data = pd.read_csv(\"data/nba_games_2013_2015.csv\", delimiter=\";\")\n",
    "data.info()"
   ]
  },
  {
   "cell_type": "code",
   "execution_count": 205,
   "metadata": {},
   "outputs": [
    {
     "data": {
      "text/plain": [
       "array([22015, 22014, 22013])"
      ]
     },
     "execution_count": 205,
     "metadata": {},
     "output_type": "execute_result"
    }
   ],
   "source": [
    "data[\"SEASON_ID\"].unique()"
   ]
  },
  {
   "cell_type": "code",
   "execution_count": 206,
   "metadata": {},
   "outputs": [
    {
     "data": {
      "text/plain": [
       "array(['2016-04-13', '2016-04-12', '2016-04-11', '2016-04-10',\n",
       "       '2016-04-09', '2016-04-08', '2016-04-07', '2016-04-06',\n",
       "       '2016-04-05', '2016-04-03', '2016-04-02', '2016-04-01',\n",
       "       '2016-03-31', '2016-03-30', '2016-03-29', '2016-03-28',\n",
       "       '2016-03-27', '2016-03-26', '2016-03-25', '2016-03-24',\n",
       "       '2016-03-23', '2016-03-22', '2016-03-21', '2016-03-20',\n",
       "       '2016-03-19', '2016-03-18', '2016-03-17', '2016-03-16',\n",
       "       '2016-03-15', '2016-03-14', '2016-03-13', '2016-03-12',\n",
       "       '2016-03-11', '2016-03-10', '2016-03-09', '2016-03-08',\n",
       "       '2016-03-07', '2016-03-06', '2016-03-05', '2016-03-04',\n",
       "       '2016-03-03', '2016-03-02', '2016-03-01', '2016-02-29',\n",
       "       '2016-02-28', '2016-02-27', '2016-02-26', '2016-02-25',\n",
       "       '2016-02-24', '2016-02-23', '2016-02-22', '2016-02-21',\n",
       "       '2016-02-20', '2016-02-19', '2016-02-18', '2016-02-11',\n",
       "       '2016-02-10', '2016-02-09', '2016-02-08', '2016-02-07',\n",
       "       '2016-02-06', '2016-02-05', '2016-02-04', '2016-02-03',\n",
       "       '2016-02-02', '2016-02-01', '2016-01-31', '2016-01-30',\n",
       "       '2016-01-29', '2016-01-28', '2016-01-27', '2016-01-26',\n",
       "       '2016-01-25', '2016-01-24', '2016-01-23', '2016-01-22',\n",
       "       '2016-01-21', '2016-01-20', '2016-01-19', '2016-01-18',\n",
       "       '2016-01-17', '2016-01-16', '2016-01-15', '2016-01-14',\n",
       "       '2016-01-13', '2016-01-12', '2016-01-11', '2016-01-10',\n",
       "       '2016-01-09', '2016-01-08', '2016-01-07', '2016-01-06',\n",
       "       '2016-01-05', '2016-01-04', '2016-01-03', '2016-01-02',\n",
       "       '2016-01-01', '2015-12-31', '2015-12-30', '2015-12-29',\n",
       "       '2015-12-28', '2015-12-27', '2015-12-26', '2015-12-25',\n",
       "       '2015-12-23', '2015-12-22', '2015-12-21', '2015-12-20',\n",
       "       '2015-12-19', '2015-12-18', '2015-12-17', '2015-12-16',\n",
       "       '2015-12-15', '2015-12-14', '2015-12-13', '2015-12-12',\n",
       "       '2015-12-11', '2015-12-10', '2015-12-09', '2015-12-08',\n",
       "       '2015-12-07', '2015-12-06', '2015-12-05', '2015-12-04',\n",
       "       '2015-12-03', '2015-12-02', '2015-12-01', '2015-11-30',\n",
       "       '2015-11-29', '2015-11-28', '2015-11-27', '2015-11-25',\n",
       "       '2015-11-24', '2015-11-23', '2015-11-22', '2015-11-21',\n",
       "       '2015-11-20', '2015-11-19', '2015-11-18', '2015-11-17',\n",
       "       '2015-11-16', '2015-11-15', '2015-11-14', '2015-11-13',\n",
       "       '2015-11-12', '2015-11-11', '2015-11-10', '2015-11-09',\n",
       "       '2015-11-08', '2015-11-07', '2015-11-06', '2015-11-05',\n",
       "       '2015-11-04', '2015-11-03', '2015-11-02', '2015-11-01',\n",
       "       '2015-10-31', '2015-10-30', '2015-10-29', '2015-10-28',\n",
       "       '2015-10-27', '2015-04-15', '2015-04-14', '2015-04-13',\n",
       "       '2015-04-12', '2015-04-11', '2015-04-10', '2015-04-09',\n",
       "       '2015-04-08', '2015-04-07', '2015-04-06', '2015-04-05',\n",
       "       '2015-04-04', '2015-04-03', '2015-04-02', '2015-04-01',\n",
       "       '2015-03-31', '2015-03-30', '2015-03-29', '2015-03-28',\n",
       "       '2015-03-27', '2015-03-26', '2015-03-25', '2015-03-24',\n",
       "       '2015-03-23', '2015-03-22', '2015-03-21', '2015-03-20',\n",
       "       '2015-03-19', '2015-03-18', '2015-03-17', '2015-03-16',\n",
       "       '2015-03-15', '2015-03-14', '2015-03-13', '2015-03-12',\n",
       "       '2015-03-11', '2015-03-10', '2015-03-09', '2015-03-08',\n",
       "       '2015-03-07', '2015-03-06', '2015-03-05', '2015-03-04',\n",
       "       '2015-03-03', '2015-03-02', '2015-03-01', '2015-02-28',\n",
       "       '2015-02-27', '2015-02-26', '2015-02-25', '2015-02-24',\n",
       "       '2015-02-23', '2015-02-22', '2015-02-21', '2015-02-20',\n",
       "       '2015-02-19', '2015-02-12', '2015-02-11', '2015-02-10',\n",
       "       '2015-02-09', '2015-02-08', '2015-02-07', '2015-02-06',\n",
       "       '2015-02-05', '2015-02-04', '2015-02-03', '2015-02-02',\n",
       "       '2015-02-01', '2015-01-31', '2015-01-30', '2015-01-29',\n",
       "       '2015-01-28', '2015-01-27', '2015-01-26', '2015-01-25',\n",
       "       '2015-01-24', '2015-01-23', '2015-01-22', '2015-01-21',\n",
       "       '2015-01-20', '2015-01-19', '2015-01-18', '2015-01-17',\n",
       "       '2015-01-16', '2015-01-15', '2015-01-14', '2015-01-13',\n",
       "       '2015-01-12', '2015-01-11', '2015-01-10', '2015-01-09',\n",
       "       '2015-01-08', '2015-01-07', '2015-01-06', '2015-01-05',\n",
       "       '2015-01-04', '2015-01-03', '2015-01-02', '2015-01-01',\n",
       "       '2014-12-31', '2014-12-30', '2014-12-29', '2014-12-28',\n",
       "       '2014-12-27', '2014-12-26', '2014-12-25', '2014-12-23',\n",
       "       '2014-12-22', '2014-12-21', '2014-12-20', '2014-12-19',\n",
       "       '2014-12-18', '2014-12-17', '2014-12-16', '2014-12-15',\n",
       "       '2014-12-14', '2014-12-13', '2014-12-12', '2014-12-11',\n",
       "       '2014-12-10', '2014-12-09', '2014-12-08', '2014-12-07',\n",
       "       '2014-12-06', '2014-12-05', '2014-12-04', '2014-12-03',\n",
       "       '2014-12-02', '2014-12-01', '2014-11-30', '2014-11-29',\n",
       "       '2014-11-28', '2014-11-26', '2014-11-25', '2014-11-24',\n",
       "       '2014-11-23', '2014-11-22', '2014-11-21', '2014-11-20',\n",
       "       '2014-11-19', '2014-11-18', '2014-11-17', '2014-11-16',\n",
       "       '2014-11-15', '2014-11-14', '2014-11-13', '2014-11-12',\n",
       "       '2014-11-11', '2014-11-10', '2014-11-09', '2014-11-08',\n",
       "       '2014-11-07', '2014-11-06', '2014-11-05', '2014-11-04',\n",
       "       '2014-11-03', '2014-11-02', '2014-11-01', '2014-10-31',\n",
       "       '2014-10-30', '2014-10-29', '2014-10-28', '2014-04-16',\n",
       "       '2014-04-15', '2014-04-14', '2014-04-13', '2014-04-12',\n",
       "       '2014-04-11', '2014-04-10', '2014-04-09', '2014-04-08',\n",
       "       '2014-04-06', '2014-04-05', '2014-04-04', '2014-04-03',\n",
       "       '2014-04-02', '2014-04-01', '2014-03-31', '2014-03-30',\n",
       "       '2014-03-29', '2014-03-28', '2014-03-27', '2014-03-26',\n",
       "       '2014-03-25', '2014-03-24', '2014-03-23', '2014-03-22',\n",
       "       '2014-03-21', '2014-03-20', '2014-03-19', '2014-03-18',\n",
       "       '2014-03-17', '2014-03-16', '2014-03-15', '2014-03-14',\n",
       "       '2014-03-13', '2014-03-12', '2014-03-11', '2014-03-10',\n",
       "       '2014-03-09', '2014-03-08', '2014-03-07', '2014-03-06',\n",
       "       '2014-03-05', '2014-03-04', '2014-03-03', '2014-03-02',\n",
       "       '2014-03-01', '2014-02-28', '2014-02-27', '2014-02-26',\n",
       "       '2014-02-25', '2014-02-24', '2014-02-23', '2014-02-22',\n",
       "       '2014-02-21', '2014-02-20', '2014-02-19', '2014-02-18',\n",
       "       '2014-02-13', '2014-02-12', '2014-02-11', '2014-02-10',\n",
       "       '2014-02-09', '2014-02-08', '2014-02-07', '2014-02-06',\n",
       "       '2014-02-05', '2014-02-04', '2014-02-03', '2014-02-02',\n",
       "       '2014-02-01', '2014-01-31', '2014-01-30', '2014-01-29',\n",
       "       '2014-01-28', '2014-01-27', '2014-01-26', '2014-01-25',\n",
       "       '2014-01-24', '2014-01-23', '2014-01-22', '2014-01-21',\n",
       "       '2014-01-20', '2014-01-19', '2014-01-18', '2014-01-17',\n",
       "       '2014-01-16', '2014-01-15', '2014-01-14', '2014-01-13',\n",
       "       '2014-01-12', '2014-01-11', '2014-01-10', '2014-01-09',\n",
       "       '2014-01-08', '2014-01-07', '2014-01-06', '2014-01-05',\n",
       "       '2014-01-04', '2014-01-03', '2014-01-02', '2014-01-01',\n",
       "       '2013-12-31', '2013-12-30', '2013-12-29', '2013-12-28',\n",
       "       '2013-12-27', '2013-12-26', '2013-12-25', '2013-12-23',\n",
       "       '2013-12-22', '2013-12-21', '2013-12-20', '2013-12-19',\n",
       "       '2013-12-18', '2013-12-17', '2013-12-16', '2013-12-15',\n",
       "       '2013-12-14', '2013-12-13', '2013-12-12', '2013-12-11',\n",
       "       '2013-12-10', '2013-12-09', '2013-12-08', '2013-12-07',\n",
       "       '2013-12-06', '2013-12-05', '2013-12-04', '2013-12-03',\n",
       "       '2013-12-02', '2013-12-01', '2013-11-30', '2013-11-29',\n",
       "       '2013-11-27', '2013-11-26', '2013-11-25', '2013-11-24',\n",
       "       '2013-11-23', '2013-11-22', '2013-11-21', '2013-11-20',\n",
       "       '2013-11-19', '2013-11-18', '2013-11-17', '2013-11-16',\n",
       "       '2013-11-15', '2013-11-14', '2013-11-13', '2013-11-12',\n",
       "       '2013-11-11', '2013-11-10', '2013-11-09', '2013-11-08',\n",
       "       '2013-11-07', '2013-11-06', '2013-11-05', '2013-11-04',\n",
       "       '2013-11-03', '2013-11-02', '2013-11-01', '2013-10-31',\n",
       "       '2013-10-30', '2013-10-29'], dtype=object)"
      ]
     },
     "execution_count": 206,
     "metadata": {},
     "output_type": "execute_result"
    }
   ],
   "source": [
    "data[\"GAME_DATE\"].unique()"
   ]
  },
  {
   "cell_type": "markdown",
   "metadata": {},
   "source": [
    "--------------\n",
    "### Task 1\n",
    "Split the data into **3** separate dataframes for each NBA season!"
   ]
  },
  {
   "cell_type": "code",
   "execution_count": 207,
   "metadata": {},
   "outputs": [],
   "source": [
    "data_2013 = data[data[\"SEASON_ID\"] == 22013]\n",
    "data_2014 = data[data[\"SEASON_ID\"] == 22014]\n",
    "data_2015 = data[data[\"SEASON_ID\"] == 22015]"
   ]
  },
  {
   "cell_type": "code",
   "execution_count": 208,
   "metadata": {},
   "outputs": [
    {
     "name": "stdout",
     "output_type": "stream",
     "text": [
      "There are 2460 games recorded in the 2013/2014 season.\n",
      "There are 2460 games recorded in the 2014/2015 season.\n",
      "There are 2460 games recorded in the 2015/2016 season.\n"
     ]
    }
   ],
   "source": [
    "print(f\"There are {len(data_2013)} games recorded in the 2013/2014 season.\")\n",
    "print(f\"There are {len(data_2014)} games recorded in the 2014/2015 season.\")\n",
    "print(f\"There are {len(data_2015)} games recorded in the 2015/2016 season.\")"
   ]
  },
  {
   "cell_type": "markdown",
   "metadata": {},
   "source": [
    "---------------\n",
    "### Task 2\n",
    "Test the hypothesis that the offensive productions stats of the Cleveland Cavaliers and Golden State Warriors (the teams that met in the finals that year) were from the same distribution in the 2015/2016 season.\n",
    "\n",
    "Offensive production refers to two variables: **PTS (Points)** and **FG_PCT (Field Goal Percentage)**. We will need to do two separate hypothesis tests, one for each variable."
   ]
  },
  {
   "attachments": {},
   "cell_type": "markdown",
   "metadata": {},
   "source": [
    "#### Team Names"
   ]
  },
  {
   "cell_type": "code",
   "execution_count": 209,
   "metadata": {},
   "outputs": [
    {
     "data": {
      "text/plain": [
       "array([1610612750, 1610612749, 1610612738, 1610612747, 1610612739,\n",
       "       1610612758, 1610612746, 1610612764, 1610612737, 1610612761,\n",
       "       1610612740, 1610612753, 1610612762, 1610612744, 1610612741,\n",
       "       1610612748, 1610612763, 1610612759, 1610612766, 1610612751,\n",
       "       1610612742, 1610612745, 1610612755, 1610612757, 1610612756,\n",
       "       1610612743, 1610612754, 1610612765, 1610612752, 1610612760])"
      ]
     },
     "execution_count": 209,
     "metadata": {},
     "output_type": "execute_result"
    }
   ],
   "source": [
    "data_2015[\"TEAM_ID\"].unique()"
   ]
  },
  {
   "cell_type": "code",
   "execution_count": 210,
   "metadata": {},
   "outputs": [
    {
     "data": {
      "text/plain": [
       "array(['Minnesota Timberwolves', 'Milwaukee Bucks', 'Boston Celtics',\n",
       "       'Los Angeles Lakers', 'Cleveland Cavaliers', 'Sacramento Kings',\n",
       "       'LA Clippers', 'Washington Wizards', 'Atlanta Hawks',\n",
       "       'Toronto Raptors', 'New Orleans Pelicans', 'Orlando Magic',\n",
       "       'Utah Jazz', 'Golden State Warriors', 'Chicago Bulls',\n",
       "       'Miami Heat', 'Memphis Grizzlies', 'San Antonio Spurs',\n",
       "       'Charlotte Hornets', 'Brooklyn Nets', 'Dallas Mavericks',\n",
       "       'Houston Rockets', 'Philadelphia 76ers', 'Portland Trail Blazers',\n",
       "       'Phoenix Suns', 'Denver Nuggets', 'Indiana Pacers',\n",
       "       'Detroit Pistons', 'New York Knicks', 'Oklahoma City Thunder'],\n",
       "      dtype=object)"
      ]
     },
     "execution_count": 210,
     "metadata": {},
     "output_type": "execute_result"
    }
   ],
   "source": [
    "data_2015[\"TEAM_NAME\"].unique()"
   ]
  },
  {
   "cell_type": "code",
   "execution_count": 211,
   "metadata": {},
   "outputs": [
    {
     "data": {
      "text/plain": [
       "array(['MIN', 'MIL', 'BOS', 'LAL', 'CLE', 'SAC', 'LAC', 'WAS', 'ATL',\n",
       "       'TOR', 'NOP', 'ORL', 'UTA', 'GSW', 'CHI', 'MIA', 'MEM', 'SAS',\n",
       "       'CHA', 'BKN', 'DAL', 'HOU', 'PHI', 'POR', 'PHX', 'DEN', 'IND',\n",
       "       'DET', 'NYK', 'OKC'], dtype=object)"
      ]
     },
     "execution_count": 211,
     "metadata": {},
     "output_type": "execute_result"
    }
   ],
   "source": [
    "data_2015[\"TEAM_ABBREVIATION\"].unique()"
   ]
  },
  {
   "attachments": {},
   "cell_type": "markdown",
   "metadata": {},
   "source": [
    "#### Isolate Cleveland and Warriors Stats"
   ]
  },
  {
   "cell_type": "code",
   "execution_count": 212,
   "metadata": {},
   "outputs": [],
   "source": [
    "data_2015_cavs = data_2015[data_2015[\"TEAM_ABBREVIATION\"] == \"CLE\"]\n",
    "data_2015_wars = data_2015[data_2015[\"TEAM_ABBREVIATION\"] == \"GSW\"]"
   ]
  },
  {
   "attachments": {},
   "cell_type": "markdown",
   "metadata": {},
   "source": [
    "#### Hypothesis Testing for `Points` (PTS)\n",
    "If the Cavs and the Warriors offensive production stats are from the same distribution in the 2015/2016 seasons, then the distribution of points should be similar.\n",
    "\n",
    "To do this, we will compare the two distributions against each other using the t-test, assuming that $$H_0: \\mu_{cavs} = \\mu_{wars}$$\n",
    "\n",
    "We will using a pair-wise $t-test$, which is calculated as follows: $$t = \\frac{\\bar(x_1) - \\bar(x_2)}{\\sigma{\\sqrt{\\frac{1}{n_1} + \\frac{1}{n_2}}}}$$\n",
    "\n",
    "A large $t$-value will reveal that the difference between groups is larger than the pooled standard error, indicating a more significant difference between the groups. But first, is it safe to assume that the standard deviations between the two teams are equal?"
   ]
  },
  {
   "attachments": {},
   "cell_type": "markdown",
   "metadata": {},
   "source": [
    "##### Levene's Test for Equality of Variances, $H0: s_1 = s_2$\n",
    "For this test, we will set the confidence level at $\\alpha =$ 0.05"
   ]
  },
  {
   "cell_type": "code",
   "execution_count": 213,
   "metadata": {},
   "outputs": [
    {
     "name": "stdout",
     "output_type": "stream",
     "text": [
      "The resulting p-value for Levene's test is 0.89 which is greater than the specified alpha value, 0.05.\n",
      "This suggests that the difference between the standard deviations of the two teams' PTS is insignificant.\n"
     ]
    }
   ],
   "source": [
    "ttest, pval_pts = st.levene(data_2015_cavs[\"PTS\"], data_2015_wars[\"PTS\"])\n",
    "print(f\"The resulting p-value for Levene's test is {pval_pts:.2f} which is greater than the specified alpha value, 0.05.\")\n",
    "print(\"This suggests that the difference between the standard deviations of the two teams' PTS is insignificant.\")"
   ]
  },
  {
   "attachments": {},
   "cell_type": "markdown",
   "metadata": {},
   "source": [
    "##### Finding $\\bar{x_1}$ and $\\bar{x_2}$"
   ]
  },
  {
   "cell_type": "code",
   "execution_count": 214,
   "metadata": {},
   "outputs": [],
   "source": [
    "# for the Cleveland Cavaliers, x1\n",
    "cavs_2015_pts_mean = st.tmean(data_2015_cavs[\"PTS\"])\n",
    "# for the Golden State Warriors, x2\n",
    "wars_2015_pts_mean = st.tmean(data_2015_wars[\"PTS\"])"
   ]
  },
  {
   "attachments": {},
   "cell_type": "markdown",
   "metadata": {},
   "source": [
    "##### Finding $s_1$ and $s_2$ to determine $\\sigma$ (*pooled standard variance*)"
   ]
  },
  {
   "cell_type": "code",
   "execution_count": 215,
   "metadata": {},
   "outputs": [
    {
     "data": {
      "text/plain": [
       "11.315425853726083"
      ]
     },
     "execution_count": 215,
     "metadata": {},
     "output_type": "execute_result"
    }
   ],
   "source": [
    "# for the Cleveland Cavaliers\n",
    "cavs_2015_pts_std = st.tstd(data_2015_cavs[\"PTS\"])\n",
    "# for the Golden State Warriors\n",
    "wars_2015_pts_std = st.tstd(data_2015_wars[\"PTS\"])\n",
    "# determine pooled standard variance\n",
    "pts_sigma = st.tmean([cavs_2015_pts_std, wars_2015_pts_std])\n",
    "pts_sigma"
   ]
  },
  {
   "attachments": {},
   "cell_type": "markdown",
   "metadata": {},
   "source": [
    "##### Finding $n_1$ and $n_2$"
   ]
  },
  {
   "cell_type": "code",
   "execution_count": 216,
   "metadata": {},
   "outputs": [],
   "source": [
    "# for the Cleveland Cavaliers\n",
    "cavs_2015_n = len(data_2015_cavs)\n",
    "# for the Golden State Warriors\n",
    "wars_2015_n = len(data_2015_wars)"
   ]
  },
  {
   "attachments": {},
   "cell_type": "markdown",
   "metadata": {},
   "source": [
    "##### Finding t-test values"
   ]
  },
  {
   "cell_type": "code",
   "execution_count": 217,
   "metadata": {},
   "outputs": [
    {
     "data": {
      "text/plain": [
       "-5.976199196736252"
      ]
     },
     "execution_count": 217,
     "metadata": {},
     "output_type": "execute_result"
    }
   ],
   "source": [
    "tstat_from_calc = (cavs_2015_pts_mean - wars_2015_pts_mean) / (pts_sigma * np.sqrt(1/cavs_2015_n + 1/wars_2015_n))\n",
    "tstat_from_calc"
   ]
  },
  {
   "attachments": {},
   "cell_type": "markdown",
   "metadata": {},
   "source": [
    "##### Using *scipy* ttest"
   ]
  },
  {
   "cell_type": "code",
   "execution_count": 218,
   "metadata": {},
   "outputs": [],
   "source": [
    "tstat_from_st, pvalue = st.ttest_ind(data_2015_cavs[\"PTS\"], data_2015_wars[\"PTS\"])"
   ]
  },
  {
   "cell_type": "code",
   "execution_count": 225,
   "metadata": {},
   "outputs": [
    {
     "name": "stdout",
     "output_type": "stream",
     "text": [
      "The t-statistic from the calculations: -5.98\n",
      "The t-statistic from the scipy module: -5.97\n"
     ]
    }
   ],
   "source": [
    "print(f\"The t-statistic from the calculations: {tstat_from_calc:.2f}\")\n",
    "print(f\"The t-statistic from the scipy module: {tstat_from_st:.2f}\")"
   ]
  },
  {
   "cell_type": "code",
   "execution_count": 224,
   "metadata": {},
   "outputs": [
    {
     "name": "stdout",
     "output_type": "stream",
     "text": [
      "The p-value rejects the null hypothesis that the points for the Cavs and the Warriors are from the same distribution.\n"
     ]
    }
   ],
   "source": [
    "print(f\"The p-value rejects the null hypothesis that the points scored by the Cavs and the Warriors in the 2015/2016 season are from the same distribution.\")"
   ]
  },
  {
   "attachments": {},
   "cell_type": "markdown",
   "metadata": {},
   "source": [
    "### Hypothesis Testing for `Field Goal Percentage` (FG_PCT)"
   ]
  },
  {
   "attachments": {},
   "cell_type": "markdown",
   "metadata": {},
   "source": [
    "#### Levene's Test for Equality of Variances"
   ]
  },
  {
   "cell_type": "code",
   "execution_count": 227,
   "metadata": {},
   "outputs": [
    {
     "name": "stdout",
     "output_type": "stream",
     "text": [
      "The resulting p-value for Levene's test is 0.42 which is greater than the specified alpha value, 0.05.\n",
      "This suggests that the difference between the standard deviations of the two teams' field goal percentages is insignificant.\n"
     ]
    }
   ],
   "source": [
    "_, pval_fgpct = st.levene(data_2015_cavs[\"FG_PCT\"], data_2015_wars[\"FG_PCT\"])\n",
    "pval_fgpct\n",
    "print(f\"The resulting p-value for Levene's test is {pval_fgpct:.2f} which is greater than the specified alpha value, 0.05.\")\n",
    "print(\"This suggests that the difference between the standard deviations of the two teams' field goal percentages is insignificant.\")"
   ]
  },
  {
   "attachments": {},
   "cell_type": "markdown",
   "metadata": {},
   "source": [
    "#### Finding t-test values"
   ]
  },
  {
   "cell_type": "code",
   "execution_count": 221,
   "metadata": {},
   "outputs": [
    {
     "name": "stdout",
     "output_type": "stream",
     "text": [
      "0.00206097581047554\n"
     ]
    }
   ],
   "source": [
    "_, pvalue = st.ttest_ind(data_2015_cavs[\"FG_PCT\"], data_2015_wars[\"FG_PCT\"])\n",
    "print(pvalue)"
   ]
  },
  {
   "attachments": {},
   "cell_type": "markdown",
   "metadata": {},
   "source": [
    "---\n",
    "### Task 3\n",
    "Test the hypothesis that the number of points (PTS) scored by Cleveland Cavaliers changed significantly after the head coach changed in the 2015/2016 season.\n",
    "\n",
    "- **Coach Blatt was fired on 24th of Jan, 2016**. \n",
    "\n",
    "Use the data from seasons 2014/2015 and 2015/2016 - those are years when Cleveland was coached by Blatt. \n",
    "\n",
    "**We have two possible solutions to try here:**\n",
    "- Take the same amount of games from before and after and try t-test.\n",
    "- Take all the games from before and after and look for the right test to compare two samples with different sizes. (You will need to go through the scipy documentation or google to figure out what kind of test is required.)"
   ]
  },
  {
   "cell_type": "code",
   "execution_count": null,
   "metadata": {},
   "outputs": [],
   "source": []
  },
  {
   "cell_type": "markdown",
   "metadata": {},
   "source": [
    "----------------\n",
    "\n",
    "\n",
    "### Task 4\n",
    "Download [**the similar dataset**](https://drive.google.com/file/d/0Bz9_0VdXvv9bRHhuRTI1aXBQcTA/view?usp=sharing&resourcekey=0-jGIaWyk0bXyECNSzB3x38w) with scores from playoff games in 2016."
   ]
  },
  {
   "cell_type": "code",
   "execution_count": null,
   "metadata": {},
   "outputs": [],
   "source": []
  },
  {
   "cell_type": "markdown",
   "metadata": {},
   "source": [
    "------------\n",
    "### Task 5\n",
    "Test the hypothesis that **number of blocks (BLK)** are from the same distribution in both the NBA playoffs and in the NBA regular season for 2015/2016 seaon for the **Toronto Raptors**. \n",
    "\n",
    "- We will be working with two samples with different sizes again."
   ]
  },
  {
   "cell_type": "code",
   "execution_count": null,
   "metadata": {},
   "outputs": [],
   "source": []
  },
  {
   "cell_type": "code",
   "execution_count": null,
   "metadata": {},
   "outputs": [],
   "source": []
  },
  {
   "cell_type": "code",
   "execution_count": null,
   "metadata": {},
   "outputs": [],
   "source": []
  },
  {
   "cell_type": "code",
   "execution_count": null,
   "metadata": {},
   "outputs": [],
   "source": []
  },
  {
   "cell_type": "code",
   "execution_count": null,
   "metadata": {},
   "outputs": [],
   "source": []
  },
  {
   "cell_type": "markdown",
   "metadata": {},
   "source": [
    "\n",
    "-----------------\n",
    "### Task 6\n",
    "Test the hypothesis that the number of points (PTS) scored by Cleveland Cavaliers is equally distributed for all 3 seasons. \n",
    "\n",
    "- In this case, we need a hypothesis test that compares more than 2 distributions at the same. (You will need to go through the scipy documentation or google to figure out what kind of test is required.)"
   ]
  },
  {
   "cell_type": "code",
   "execution_count": null,
   "metadata": {},
   "outputs": [],
   "source": []
  },
  {
   "cell_type": "code",
   "execution_count": null,
   "metadata": {},
   "outputs": [],
   "source": []
  },
  {
   "cell_type": "code",
   "execution_count": null,
   "metadata": {},
   "outputs": [],
   "source": []
  },
  {
   "cell_type": "code",
   "execution_count": null,
   "metadata": {},
   "outputs": [],
   "source": []
  },
  {
   "cell_type": "markdown",
   "metadata": {},
   "source": [
    "#### Follow Up\n",
    "**Between which seasons can we see the significant difference?**\n",
    "\n",
    "+ Unfortunatelly, this is not the output of an ANOVA test and further tests are needed to be run.\n",
    "+ Note: Lebron James came back to the Cleveland Caveliers prior to season 2014/2015. We can use this fact to interpret our results correctly."
   ]
  },
  {
   "cell_type": "code",
   "execution_count": null,
   "metadata": {},
   "outputs": [],
   "source": []
  },
  {
   "cell_type": "code",
   "execution_count": null,
   "metadata": {},
   "outputs": [],
   "source": []
  },
  {
   "cell_type": "code",
   "execution_count": null,
   "metadata": {},
   "outputs": [],
   "source": []
  }
 ],
 "metadata": {
  "kernelspec": {
   "display_name": "lighthouse",
   "language": "python",
   "name": "python3"
  },
  "language_info": {
   "codemirror_mode": {
    "name": "ipython",
    "version": 3
   },
   "file_extension": ".py",
   "mimetype": "text/x-python",
   "name": "python",
   "nbconvert_exporter": "python",
   "pygments_lexer": "ipython3",
   "version": "3.8.13"
  },
  "vscode": {
   "interpreter": {
    "hash": "f6bdb6bebcaa6c165db367a86e382ae8df75f09257c40532b854029e0e3d706f"
   }
  }
 },
 "nbformat": 4,
 "nbformat_minor": 4
}
