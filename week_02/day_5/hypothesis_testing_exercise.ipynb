{
 "cells": [
  {
   "cell_type": "markdown",
   "metadata": {},
   "source": [
    "## Hypothesis Testing Assignment"
   ]
  },
  {
   "cell_type": "code",
   "execution_count": 59,
   "metadata": {},
   "outputs": [],
   "source": [
    "#Importing necessary packages\n",
    "import pandas as pd\n",
    "import numpy as np\n",
    "import datetime as dt\n",
    "# package with hypothesis tests\n",
    "import scipy.stats as st"
   ]
  },
  {
   "cell_type": "markdown",
   "metadata": {},
   "source": [
    "### Data"
   ]
  },
  {
   "cell_type": "markdown",
   "metadata": {},
   "source": [
    "You can download the data from [**here**](https://drive.google.com/file/d/0Bz9_0VdXvv9bUUNlUTVrMF9VcVU/view?usp=sharing&resourcekey=0-16O9Fc5eaJH99-M7AHqHOg). The data contains results of all NBA games from seasons 2013/2014 to 2015/2016."
   ]
  },
  {
   "cell_type": "code",
   "execution_count": 60,
   "metadata": {},
   "outputs": [],
   "source": [
    "nba_df = pd.read_csv('nba_games_2013_2015.csv', delimiter=';')"
   ]
  },
  {
   "cell_type": "markdown",
   "metadata": {},
   "source": [
    "--------------\n",
    "### Task 1\n",
    "Split the data into **3** separate dataframes for each NBA season!"
   ]
  },
  {
   "cell_type": "code",
   "execution_count": 61,
   "metadata": {},
   "outputs": [],
   "source": [
    "# convert game_date to string and parse as datetime objects\n",
    "nba_df['GAME_DATE'] = pd.to_datetime(nba_df['GAME_DATE'].astype('string'))"
   ]
  },
  {
   "cell_type": "code",
   "execution_count": 62,
   "metadata": {},
   "outputs": [],
   "source": [
    "nba_df.to_json('nba_data.json')\n",
    "seasons = pd.Series(pd.to_datetime(['2013-06', '2014-06', '2015-06', '2016-06']))"
   ]
  },
  {
   "cell_type": "code",
   "execution_count": 63,
   "metadata": {},
   "outputs": [],
   "source": [
    "nba_2014 = nba_df.loc[(nba_df['GAME_DATE'] > seasons[0]) & (nba_df['GAME_DATE'] < seasons[1])]\n",
    "nba_2015 = nba_df.loc[(nba_df['GAME_DATE'] > seasons[1]) & (nba_df['GAME_DATE'] < seasons[2])]\n",
    "nba_2016 = nba_df.loc[(nba_df['GAME_DATE'] > seasons[2]) & (nba_df['GAME_DATE'] < seasons[3])]"
   ]
  },
  {
   "cell_type": "markdown",
   "metadata": {},
   "source": [
    "---------------\n",
    "### Task 2\n",
    "Test the hypothesis that the offensive productions stats of the Cleveland Cavaliers and Golden State Warriors (the teams that met in the finals that year) were from the same distribution in the 2015/2016 season.\n",
    "\n",
    "Offensive production refers to two variables: **PTS (Points)** and **FG_PCT (Field Goal Percentage)**. We will need to do two separate hypothesis tests, one for each variable."
   ]
  },
  {
   "cell_type": "code",
   "execution_count": 64,
   "metadata": {},
   "outputs": [],
   "source": [
    "# assuming alpha...\n",
    "alpha = 0.05\n",
    "\n",
    "# let's evaluate the teams\n",
    "gsw_stats = nba_2016.loc[nba_2016['TEAM_NAME'] == 'Golden State Warriors', :]\n",
    "cle_stats = nba_2016.loc[nba_2016['TEAM_NAME'] == 'Cleveland Cavaliers', :]"
   ]
  },
  {
   "cell_type": "code",
   "execution_count": 65,
   "metadata": {},
   "outputs": [
    {
     "name": "stdout",
     "output_type": "stream",
     "text": [
      "PTS: p-value: 0.19267801940441132\n",
      "PTS: p-value: 0.31675779819488525\n",
      "FG_PCT: p-value: 0.5294530987739563\n",
      "FG_PCT: p-value: 0.6508476734161377\n"
     ]
    }
   ],
   "source": [
    "# check for normal distribution, null hypothesis being a normal distribution\n",
    "gsw_stats_npts = st.shapiro(gsw_stats['PTS'])\n",
    "cle_stats_npts = st.shapiro(cle_stats['PTS'])\n",
    "\n",
    "gsw_stats_nfg = st.shapiro(gsw_stats['FG_PCT'])\n",
    "cle_stats_nfg = st.shapiro(cle_stats['FG_PCT'])\n",
    "\n",
    "print(f'PTS: p-value: {gsw_stats_npts[1]}') # sufficiently large p-value, not enough evidence against null\n",
    "print(f'PTS: p-value: {cle_stats_npts[1]}') # sufficiently large p-value, not enough evidence against null\n",
    "\n",
    "print(f'FG_PCT: p-value: {gsw_stats_nfg[1]}') # sufficiently large p-value, not enough evidence against null\n",
    "print(f'FG_PCT: p-value: {cle_stats_nfg[1]}') # sufficiently large p-value, not enough evidence against null"
   ]
  },
  {
   "cell_type": "code",
   "execution_count": 66,
   "metadata": {},
   "outputs": [
    {
     "name": "stdout",
     "output_type": "stream",
     "text": [
      "A p-value evide of 1.42e-08 provides evidence against the original hypothesis that GSW's and CLE's Points were from the same distribution.\n",
      "A p-value of 0.00206 providesnce against the original hypothesis that GSW's and CLE's Field Goal Percentages were from the same distribution.\n"
     ]
    }
   ],
   "source": [
    "# perform t-tests on pts and fg\n",
    "pts_ttest = st.ttest_ind(gsw_stats['PTS'], cle_stats['PTS'])\n",
    "fg_ttest = st.ttest_ind(gsw_stats['FG_PCT'], cle_stats['FG_PCT'])\n",
    "\n",
    "# compare p-values to alpha = 0.05 for both statistics\n",
    "if pts_ttest[1] < alpha:\n",
    "  print(f'A p-value evide of {round(pts_ttest[1], 10)} provides evidence against the original hypothesis that GSW\\'s and CLE\\'s Points were from the same distribution.')\n",
    "else:\n",
    "  print(f'A p-value of {round(pts_ttest[1], 10)} provides evidence against the original hypothesis that GSW\\'s and CLE\\'s Points were from the same distribution.')\n",
    "  \n",
    "if fg_ttest[1] < alpha:\n",
    "  print(f'A p-value of {round(fg_ttest[1], 5)} providesnce against the original hypothesis that GSW\\'s and CLE\\'s Field Goal Percentages were from the same distribution.')\n",
    "else:\n",
    "  print(f'A p-value of {round(fg_ttest[1], 5)} provides evidence against the original hypothesis that GSW\\'s and CLE\\'s Field Goal Percentages were from the same distribution.')"
   ]
  },
  {
   "cell_type": "code",
   "execution_count": 67,
   "metadata": {},
   "outputs": [
    {
     "data": {
      "image/png": "[encoded data removed]",
      "text/plain": [
       "<Figure size 432x288 with 1 Axes>"
      ]
     },
     "metadata": {
      "needs_background": "light"
     },
     "output_type": "display_data"
    }
   ],
   "source": [
    "# quick check using 'qqplot' for normal distribution\n",
    "\n",
    "from statsmodels.graphics.gofplots import qqplot\n",
    "from matplotlib import pyplot\n",
    "\n",
    "PopPTS = gsw_stats['PTS']\n",
    "qqplot(PopPTS, line='s')\n",
    "pyplot.show()"
   ]
  },
  {
   "cell_type": "markdown",
   "metadata": {},
   "source": [
    "-----------------\n",
    "### Task 3\n",
    "Test the hypothesis that the number of points (PTS) scored by Cleveland Cavaliers changed significantly after the head coach changed in the 2015/2016 season.\n",
    "\n",
    "- **Coach Blatt was fired on 24th of Jan, 2016**. \n",
    "\n",
    "Use the data from seasons 2014/2015 and 2015/2016 - those are years when Cleveland was coached by Blatt. \n",
    "\n",
    "**We have two possible solutions to try here:**\n",
    "- Take the same amount of games from before and after and try t-test.\n",
    "- Take all the games from before and after and look for the right test to compare two samples with different sizes. (You will need to go through the scipy documentation or google to figure out what kind of test is required.)"
   ]
  },
  {
   "cell_type": "code",
   "execution_count": 104,
   "metadata": {},
   "outputs": [
    {
     "name": "stdout",
     "output_type": "stream",
     "text": [
      "ShapiroResult(statistic=0.9832336902618408, pvalue=0.8066796064376831)\n",
      "ShapiroResult(statistic=0.967939555644989, pvalue=0.3090731203556061)\n"
     ]
    }
   ],
   "source": [
    "# taking the same sample size before and after blatt's period\n",
    "blatt_before = cle_stats[cle_stats['GAME_DATE'] < pd.to_datetime('2016-01-24')].sample(40)\n",
    "blatt_after = cle_stats[cle_stats['GAME_DATE'] > pd.to_datetime('2016-01-24')].sample(40)\n",
    "\n",
    "# comparing against normal distribution to check the null hypothesis \n",
    "# and reasonably conlcude that each statistic follows a normal curve\n",
    "blatt_nbefore = st.shapiro(blatt_before['PTS']) # check for norm dist\n",
    "blatt_nafter = st.shapiro(blatt_after['PTS']) # check for norm dist\n",
    "\n",
    "print(blatt_nbefore)\n",
    "print(blatt_nafter)"
   ]
  },
  {
   "cell_type": "code",
   "execution_count": 105,
   "metadata": {},
   "outputs": [
    {
     "name": "stdout",
     "output_type": "stream",
     "text": [
      "p-value: 0.00357 suggests that the difference in points between these periods is statistically significant.\n"
     ]
    }
   ],
   "source": [
    "# checking null hypothesis that Blatt had no significant impact on Cleveland's offensive abilities\n",
    "blatt_ttest = st.ttest_ind(blatt_before['PTS'], blatt_after['PTS'])\n",
    "\n",
    "if blatt_ttest[1] < alpha:\n",
    "    print(f'p-value: {round(blatt_ttest[1], 5)} suggests that the difference in points between these periods is statistically significant.')\n",
    "else:\n",
    "    print(f'p-value: {round(blatt_ttest[1], 5)} suggests that the difference in points between these periods is not statistically significant.')"
   ]
  },
  {
   "cell_type": "markdown",
   "metadata": {},
   "source": [
    "----------------\n",
    "\n",
    "\n",
    "### Task 4\n",
    "Download [**the similar dataset**](https://drive.google.com/file/d/0Bz9_0VdXvv9bRHhuRTI1aXBQcTA/view?usp=sharing&resourcekey=0-jGIaWyk0bXyECNSzB3x38w) with scores from playoff games in 2016."
   ]
  },
  {
   "cell_type": "code",
   "execution_count": 108,
   "metadata": {},
   "outputs": [],
   "source": [
    "# interpret csv dataset as a DataFrame\n",
    "nba_po = pd.read_csv('nba_playoff_games_2016.csv', delimiter=';')"
   ]
  },
  {
   "cell_type": "markdown",
   "metadata": {},
   "source": [
    "------------\n",
    "### Task 5\n",
    "Test the hypothesis that **number of blocks (BLK)** are from the same distribution in both the NBA playoffs and in the NBA regular season for 2015/2016 seaon for the **Toronto Raptors**. \n",
    "\n",
    "- We will be working with two samples with different sizes again."
   ]
  },
  {
   "cell_type": "code",
   "execution_count": 122,
   "metadata": {},
   "outputs": [],
   "source": [
    "# isolate Raptors stats from the PO and regular seasons\n",
    "raptors_po = nba_po[nba_po['TEAM_NAME'] == 'Toronto Raptors']\n",
    "raptors_2016 = nba_2016[nba_2016['TEAM_NAME'] == 'Toronto Raptors']"
   ]
  },
  {
   "cell_type": "code",
   "execution_count": 138,
   "metadata": {},
   "outputs": [],
   "source": [
    "#function to determine normality\n",
    "def check_normality(stat):\n",
    "    \n",
    "    pval = st.shapiro(stat)[1]\n",
    "    if pval > alpha:\n",
    "        print('Follows a normal curve.')\n",
    "    else:\n",
    "        print('Not a normal distribution.')"
   ]
  },
  {
   "cell_type": "code",
   "execution_count": 139,
   "metadata": {},
   "outputs": [
    {
     "name": "stdout",
     "output_type": "stream",
     "text": [
      "Follows a normal curve.\n",
      "Follows a normal curve.\n"
     ]
    }
   ],
   "source": [
    "# check for normality in both samples\n",
    "check_normality(raptors_po['BLK'])\n",
    "check_normality(raptors_2016['BLK'])"
   ]
  },
  {
   "cell_type": "code",
   "execution_count": 136,
   "metadata": {},
   "outputs": [],
   "source": [
    "# given a non-normal distribution, a non-parametric test is to be applied\n",
    "# a wilcoxon test is valid here if the sample sizes were the same, but they are not.\n",
    "# given a non-normal distribution with unequal and small (< 20) samples sizes,\n",
    "# it is recommend that a mannwhitneyu test is applied instead."
   ]
  },
  {
   "cell_type": "code",
   "execution_count": 137,
   "metadata": {},
   "outputs": [
    {
     "name": "stdout",
     "output_type": "stream",
     "text": [
      "p-value: 0.00114 rejects the null hypothesis.\n"
     ]
    }
   ],
   "source": [
    "# here, st.ttest_ind will be applied with unequal variances given the different sample sizes\n",
    "raptors_block = st.ttest_ind(raptors_po['BLK'], raptors_2016['BLK'], equal_var=False)\n",
    "\n",
    "if raptors_block[1] > alpha:\n",
    "    print(f'p-value: {round(raptors_block[1], 5)} suggests that the null hypothesis is true.')\n",
    "else:\n",
    "    print(f'p-value: {round(raptors_block[1], 5)} rejects the null hypothesis.')"
   ]
  },
  {
   "cell_type": "markdown",
   "metadata": {},
   "source": [
    "\n",
    "-----------------\n",
    "### Task 6\n",
    "Test the hypothesis that the number of points (PTS) scored by Cleveland Cavaliers is equally distributed for all 3 seasons. \n",
    "\n",
    "- In this case, we need a hypothesis test that compares more than 2 distributions at the same. (You will need to go through the scipy documentation or google to figure out what kind of test is required.)"
   ]
  },
  {
   "cell_type": "code",
   "execution_count": 140,
   "metadata": {},
   "outputs": [],
   "source": [
    "# isolate the Cavs for each season\n",
    "cle_2014 = nba_2014[nba_2014['TEAM_NAME'] == 'Cleveland Cavaliers']\n",
    "cle_2015 = nba_2015[nba_2015['TEAM_NAME'] == 'Cleveland Cavaliers']\n",
    "cle_2016 = nba_2016[nba_2016['TEAM_NAME'] == 'Cleveland Cavaliers']"
   ]
  },
  {
   "cell_type": "code",
   "execution_count": 141,
   "metadata": {},
   "outputs": [],
   "source": [
    "# isolate their points\n",
    "cle_2014_pts = cle_2014['PTS']\n",
    "cle_2015_pts = cle_2015['PTS']\n",
    "cle_2016_pts = cle_2016['PTS']"
   ]
  },
  {
   "cell_type": "code",
   "execution_count": 142,
   "metadata": {},
   "outputs": [
    {
     "name": "stdout",
     "output_type": "stream",
     "text": [
      "Follows a normal curve.\n",
      "Follows a normal curve.\n",
      "Follows a normal curve.\n"
     ]
    }
   ],
   "source": [
    "# check for normality\n",
    "check_normality(cle_2014_pts)\n",
    "check_normality(cle_2015_pts)\n",
    "check_normality(cle_2016_pts)"
   ]
  },
  {
   "cell_type": "code",
   "execution_count": 148,
   "metadata": {},
   "outputs": [
    {
     "name": "stdout",
     "output_type": "stream",
     "text": [
      "12.313015511301796\n",
      "12.617025078529515\n",
      "10.935570599774536\n",
      "1.153760104551805\n"
     ]
    },
    {
     "data": {
      "text/plain": [
       "F_onewayResult(statistic=5.9200250318080885, pvalue=0.003087727119983984)"
      ]
     },
     "execution_count": 148,
     "metadata": {},
     "output_type": "execute_result"
    }
   ],
   "source": [
    "# with equal datasets, an ANOVA test can be applied\n",
    "# check standard deviations between groups\n",
    "\n",
    "print(np.std(cle_2014_pts))\n",
    "print(np.std(cle_2015_pts))\n",
    "print(np.std(cle_2016_pts))\n",
    "\n",
    "# if the ratio of the largest variance to the smallest variance is < 1.5, the data is homoscedastic\n",
    "# in this case...\n",
    "\n",
    "homo = np.std(cle_2015_pts) / np.std(cle_2016_pts)\n",
    "print(homo) # we're good to go\n",
    "\n",
    "# test using ANOVA\n",
    "st.f_oneway(cle_2014_pts, cle_2015_pts, cle_2016_pts)\n",
    "\n",
    "# with p-value less than alpha, the null hypothesis can be rejected in favor of the alternative \n",
    "# that there is a statistically significant difference in distribution in Cleveland's point-\n",
    "# scoring between these years"
   ]
  },
  {
   "cell_type": "markdown",
   "metadata": {},
   "source": [
    "#### Follow Up\n",
    "**Between which seasons can we see the significant difference?**\n",
    "\n",
    "+ Unfortunatelly, this is not the output of an ANOVA test and further tests are needed to be run.\n",
    "+ Note: Lebron James came back to the Cleveland Caveliers prior to season 2014/2015. We can use this fact to interpret our results correctly."
   ]
  },
  {
   "cell_type": "code",
   "execution_count": 151,
   "metadata": {},
   "outputs": [
    {
     "name": "stdout",
     "output_type": "stream",
     "text": [
      "Ttest_indResult(statistic=-2.508958204796911, pvalue=0.013091680534336523)\n",
      "Ttest_indResult(statistic=-3.339057501969076, pvalue=0.0010431648992063256)\n",
      "Ttest_indResult(statistic=-0.6442093460555935, pvalue=0.5203507617734474)\n"
     ]
    }
   ],
   "source": [
    "print(st.ttest_ind(cle_2014_pts, cle_2015_pts))\n",
    "print(st.ttest_ind(cle_2014_pts, cle_2016_pts)) # <---\n",
    "print(st.ttest_ind(cle_2015_pts, cle_2016_pts))\n",
    "\n",
    "# the distribution between the 2014 and 2016 seasons seems to be statistically significant"
   ]
  },
  {
   "cell_type": "code",
   "execution_count": null,
   "metadata": {},
   "outputs": [],
   "source": []
  },
  {
   "cell_type": "code",
   "execution_count": null,
   "metadata": {},
   "outputs": [],
   "source": []
  }
 ],
 "metadata": {
  "kernelspec": {
   "display_name": "Python 3",
   "language": "python",
   "name": "python3"
  },
  "language_info": {
   "codemirror_mode": {
    "name": "ipython",
    "version": 3
   },
   "file_extension": ".py",
   "mimetype": "text/x-python",
   "name": "python",
   "nbconvert_exporter": "python",
   "pygments_lexer": "ipython3",
   "version": "3.8.13"
  }
 },
 "nbformat": 4,
 "nbformat_minor": 4
}
