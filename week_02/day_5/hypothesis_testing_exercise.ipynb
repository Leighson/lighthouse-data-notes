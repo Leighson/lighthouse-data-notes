{
 "cells": [
  {
   "cell_type": "markdown",
   "metadata": {},
   "source": [
    "## Hypothesis Testing Assignment"
   ]
  },
  {
   "cell_type": "code",
   "execution_count": 265,
   "metadata": {},
   "outputs": [],
   "source": [
    "# importing necessary packages\n",
    "import pandas as pd\n",
    "import numpy as np\n",
    "import datetime as dt\n",
    "# package with hypothesis tests\n",
    "import scipy.stats as st"
   ]
  },
  {
   "cell_type": "markdown",
   "metadata": {},
   "source": [
    "### Data"
   ]
  },
  {
   "cell_type": "markdown",
   "metadata": {},
   "source": [
    "You can download the data from [**here**](https://drive.google.com/file/d/0Bz9_0VdXvv9bUUNlUTVrMF9VcVU/view?usp=sharing&resourcekey=0-16O9Fc5eaJH99-M7AHqHOg). The data contains results of all NBA games from seasons 2013/2014 to 2015/2016."
   ]
  },
  {
   "cell_type": "code",
   "execution_count": 266,
   "metadata": {},
   "outputs": [
    {
     "name": "stdout",
     "output_type": "stream",
     "text": [
      "<class 'pandas.core.frame.DataFrame'>\n",
      "RangeIndex: 7380 entries, 0 to 7379\n",
      "Data columns (total 28 columns):\n",
      " #   Column             Non-Null Count  Dtype  \n",
      "---  ------             --------------  -----  \n",
      " 0   SEASON_ID          7380 non-null   int64  \n",
      " 1   TEAM_ID            7380 non-null   int64  \n",
      " 2   TEAM_ABBREVIATION  7380 non-null   object \n",
      " 3   TEAM_NAME          7380 non-null   object \n",
      " 4   GAME_ID            7380 non-null   int64  \n",
      " 5   GAME_DATE          7380 non-null   object \n",
      " 6   MATCHUP            7380 non-null   object \n",
      " 7   WL                 7380 non-null   object \n",
      " 8   MIN                7380 non-null   int64  \n",
      " 9   PTS                7380 non-null   int64  \n",
      " 10  FGM                7380 non-null   int64  \n",
      " 11  FGA                7380 non-null   int64  \n",
      " 12  FG_PCT             7380 non-null   float64\n",
      " 13  FG3M               7380 non-null   int64  \n",
      " 14  FG3A               7380 non-null   int64  \n",
      " 15  FG3_PCT            7380 non-null   float64\n",
      " 16  FTM                7380 non-null   int64  \n",
      " 17  FTA                7380 non-null   int64  \n",
      " 18  FT_PCT             7380 non-null   float64\n",
      " 19  OREB               7380 non-null   int64  \n",
      " 20  DREB               7380 non-null   int64  \n",
      " 21  REB                7380 non-null   int64  \n",
      " 22  AST                7380 non-null   int64  \n",
      " 23  STL                7380 non-null   int64  \n",
      " 24  BLK                7380 non-null   int64  \n",
      " 25  TOV                7380 non-null   int64  \n",
      " 26  PF                 7380 non-null   int64  \n",
      " 27  PLUS_MINUS         7380 non-null   float64\n",
      "dtypes: float64(4), int64(19), object(5)\n",
      "memory usage: 1.6+ MB\n"
     ]
    }
   ],
   "source": [
    "data = pd.read_csv(\"data/nba_games_2013_2015.csv\", delimiter=\";\")\n",
    "data.info()"
   ]
  },
  {
   "cell_type": "code",
   "execution_count": 267,
   "metadata": {},
   "outputs": [
    {
     "data": {
      "text/plain": [
       "array([22015, 22014, 22013])"
      ]
     },
     "execution_count": 267,
     "metadata": {},
     "output_type": "execute_result"
    }
   ],
   "source": [
    "data[\"SEASON_ID\"].unique()"
   ]
  },
  {
   "cell_type": "code",
   "execution_count": 268,
   "metadata": {},
   "outputs": [
    {
     "data": {
      "text/plain": [
       "array(['2016-04-13', '2016-04-12', '2016-04-11', '2016-04-10',\n",
       "       '2016-04-09', '2016-04-08', '2016-04-07', '2016-04-06',\n",
       "       '2016-04-05', '2016-04-03', '2016-04-02', '2016-04-01',\n",
       "       '2016-03-31', '2016-03-30', '2016-03-29', '2016-03-28',\n",
       "       '2016-03-27', '2016-03-26', '2016-03-25', '2016-03-24',\n",
       "       '2016-03-23', '2016-03-22', '2016-03-21', '2016-03-20',\n",
       "       '2016-03-19', '2016-03-18', '2016-03-17', '2016-03-16',\n",
       "       '2016-03-15', '2016-03-14', '2016-03-13', '2016-03-12',\n",
       "       '2016-03-11', '2016-03-10', '2016-03-09', '2016-03-08',\n",
       "       '2016-03-07', '2016-03-06', '2016-03-05', '2016-03-04',\n",
       "       '2016-03-03', '2016-03-02', '2016-03-01', '2016-02-29',\n",
       "       '2016-02-28', '2016-02-27', '2016-02-26', '2016-02-25',\n",
       "       '2016-02-24', '2016-02-23', '2016-02-22', '2016-02-21',\n",
       "       '2016-02-20', '2016-02-19', '2016-02-18', '2016-02-11',\n",
       "       '2016-02-10', '2016-02-09', '2016-02-08', '2016-02-07',\n",
       "       '2016-02-06', '2016-02-05', '2016-02-04', '2016-02-03',\n",
       "       '2016-02-02', '2016-02-01', '2016-01-31', '2016-01-30',\n",
       "       '2016-01-29', '2016-01-28', '2016-01-27', '2016-01-26',\n",
       "       '2016-01-25', '2016-01-24', '2016-01-23', '2016-01-22',\n",
       "       '2016-01-21', '2016-01-20', '2016-01-19', '2016-01-18',\n",
       "       '2016-01-17', '2016-01-16', '2016-01-15', '2016-01-14',\n",
       "       '2016-01-13', '2016-01-12', '2016-01-11', '2016-01-10',\n",
       "       '2016-01-09', '2016-01-08', '2016-01-07', '2016-01-06',\n",
       "       '2016-01-05', '2016-01-04', '2016-01-03', '2016-01-02',\n",
       "       '2016-01-01', '2015-12-31', '2015-12-30', '2015-12-29',\n",
       "       '2015-12-28', '2015-12-27', '2015-12-26', '2015-12-25',\n",
       "       '2015-12-23', '2015-12-22', '2015-12-21', '2015-12-20',\n",
       "       '2015-12-19', '2015-12-18', '2015-12-17', '2015-12-16',\n",
       "       '2015-12-15', '2015-12-14', '2015-12-13', '2015-12-12',\n",
       "       '2015-12-11', '2015-12-10', '2015-12-09', '2015-12-08',\n",
       "       '2015-12-07', '2015-12-06', '2015-12-05', '2015-12-04',\n",
       "       '2015-12-03', '2015-12-02', '2015-12-01', '2015-11-30',\n",
       "       '2015-11-29', '2015-11-28', '2015-11-27', '2015-11-25',\n",
       "       '2015-11-24', '2015-11-23', '2015-11-22', '2015-11-21',\n",
       "       '2015-11-20', '2015-11-19', '2015-11-18', '2015-11-17',\n",
       "       '2015-11-16', '2015-11-15', '2015-11-14', '2015-11-13',\n",
       "       '2015-11-12', '2015-11-11', '2015-11-10', '2015-11-09',\n",
       "       '2015-11-08', '2015-11-07', '2015-11-06', '2015-11-05',\n",
       "       '2015-11-04', '2015-11-03', '2015-11-02', '2015-11-01',\n",
       "       '2015-10-31', '2015-10-30', '2015-10-29', '2015-10-28',\n",
       "       '2015-10-27', '2015-04-15', '2015-04-14', '2015-04-13',\n",
       "       '2015-04-12', '2015-04-11', '2015-04-10', '2015-04-09',\n",
       "       '2015-04-08', '2015-04-07', '2015-04-06', '2015-04-05',\n",
       "       '2015-04-04', '2015-04-03', '2015-04-02', '2015-04-01',\n",
       "       '2015-03-31', '2015-03-30', '2015-03-29', '2015-03-28',\n",
       "       '2015-03-27', '2015-03-26', '2015-03-25', '2015-03-24',\n",
       "       '2015-03-23', '2015-03-22', '2015-03-21', '2015-03-20',\n",
       "       '2015-03-19', '2015-03-18', '2015-03-17', '2015-03-16',\n",
       "       '2015-03-15', '2015-03-14', '2015-03-13', '2015-03-12',\n",
       "       '2015-03-11', '2015-03-10', '2015-03-09', '2015-03-08',\n",
       "       '2015-03-07', '2015-03-06', '2015-03-05', '2015-03-04',\n",
       "       '2015-03-03', '2015-03-02', '2015-03-01', '2015-02-28',\n",
       "       '2015-02-27', '2015-02-26', '2015-02-25', '2015-02-24',\n",
       "       '2015-02-23', '2015-02-22', '2015-02-21', '2015-02-20',\n",
       "       '2015-02-19', '2015-02-12', '2015-02-11', '2015-02-10',\n",
       "       '2015-02-09', '2015-02-08', '2015-02-07', '2015-02-06',\n",
       "       '2015-02-05', '2015-02-04', '2015-02-03', '2015-02-02',\n",
       "       '2015-02-01', '2015-01-31', '2015-01-30', '2015-01-29',\n",
       "       '2015-01-28', '2015-01-27', '2015-01-26', '2015-01-25',\n",
       "       '2015-01-24', '2015-01-23', '2015-01-22', '2015-01-21',\n",
       "       '2015-01-20', '2015-01-19', '2015-01-18', '2015-01-17',\n",
       "       '2015-01-16', '2015-01-15', '2015-01-14', '2015-01-13',\n",
       "       '2015-01-12', '2015-01-11', '2015-01-10', '2015-01-09',\n",
       "       '2015-01-08', '2015-01-07', '2015-01-06', '2015-01-05',\n",
       "       '2015-01-04', '2015-01-03', '2015-01-02', '2015-01-01',\n",
       "       '2014-12-31', '2014-12-30', '2014-12-29', '2014-12-28',\n",
       "       '2014-12-27', '2014-12-26', '2014-12-25', '2014-12-23',\n",
       "       '2014-12-22', '2014-12-21', '2014-12-20', '2014-12-19',\n",
       "       '2014-12-18', '2014-12-17', '2014-12-16', '2014-12-15',\n",
       "       '2014-12-14', '2014-12-13', '2014-12-12', '2014-12-11',\n",
       "       '2014-12-10', '2014-12-09', '2014-12-08', '2014-12-07',\n",
       "       '2014-12-06', '2014-12-05', '2014-12-04', '2014-12-03',\n",
       "       '2014-12-02', '2014-12-01', '2014-11-30', '2014-11-29',\n",
       "       '2014-11-28', '2014-11-26', '2014-11-25', '2014-11-24',\n",
       "       '2014-11-23', '2014-11-22', '2014-11-21', '2014-11-20',\n",
       "       '2014-11-19', '2014-11-18', '2014-11-17', '2014-11-16',\n",
       "       '2014-11-15', '2014-11-14', '2014-11-13', '2014-11-12',\n",
       "       '2014-11-11', '2014-11-10', '2014-11-09', '2014-11-08',\n",
       "       '2014-11-07', '2014-11-06', '2014-11-05', '2014-11-04',\n",
       "       '2014-11-03', '2014-11-02', '2014-11-01', '2014-10-31',\n",
       "       '2014-10-30', '2014-10-29', '2014-10-28', '2014-04-16',\n",
       "       '2014-04-15', '2014-04-14', '2014-04-13', '2014-04-12',\n",
       "       '2014-04-11', '2014-04-10', '2014-04-09', '2014-04-08',\n",
       "       '2014-04-06', '2014-04-05', '2014-04-04', '2014-04-03',\n",
       "       '2014-04-02', '2014-04-01', '2014-03-31', '2014-03-30',\n",
       "       '2014-03-29', '2014-03-28', '2014-03-27', '2014-03-26',\n",
       "       '2014-03-25', '2014-03-24', '2014-03-23', '2014-03-22',\n",
       "       '2014-03-21', '2014-03-20', '2014-03-19', '2014-03-18',\n",
       "       '2014-03-17', '2014-03-16', '2014-03-15', '2014-03-14',\n",
       "       '2014-03-13', '2014-03-12', '2014-03-11', '2014-03-10',\n",
       "       '2014-03-09', '2014-03-08', '2014-03-07', '2014-03-06',\n",
       "       '2014-03-05', '2014-03-04', '2014-03-03', '2014-03-02',\n",
       "       '2014-03-01', '2014-02-28', '2014-02-27', '2014-02-26',\n",
       "       '2014-02-25', '2014-02-24', '2014-02-23', '2014-02-22',\n",
       "       '2014-02-21', '2014-02-20', '2014-02-19', '2014-02-18',\n",
       "       '2014-02-13', '2014-02-12', '2014-02-11', '2014-02-10',\n",
       "       '2014-02-09', '2014-02-08', '2014-02-07', '2014-02-06',\n",
       "       '2014-02-05', '2014-02-04', '2014-02-03', '2014-02-02',\n",
       "       '2014-02-01', '2014-01-31', '2014-01-30', '2014-01-29',\n",
       "       '2014-01-28', '2014-01-27', '2014-01-26', '2014-01-25',\n",
       "       '2014-01-24', '2014-01-23', '2014-01-22', '2014-01-21',\n",
       "       '2014-01-20', '2014-01-19', '2014-01-18', '2014-01-17',\n",
       "       '2014-01-16', '2014-01-15', '2014-01-14', '2014-01-13',\n",
       "       '2014-01-12', '2014-01-11', '2014-01-10', '2014-01-09',\n",
       "       '2014-01-08', '2014-01-07', '2014-01-06', '2014-01-05',\n",
       "       '2014-01-04', '2014-01-03', '2014-01-02', '2014-01-01',\n",
       "       '2013-12-31', '2013-12-30', '2013-12-29', '2013-12-28',\n",
       "       '2013-12-27', '2013-12-26', '2013-12-25', '2013-12-23',\n",
       "       '2013-12-22', '2013-12-21', '2013-12-20', '2013-12-19',\n",
       "       '2013-12-18', '2013-12-17', '2013-12-16', '2013-12-15',\n",
       "       '2013-12-14', '2013-12-13', '2013-12-12', '2013-12-11',\n",
       "       '2013-12-10', '2013-12-09', '2013-12-08', '2013-12-07',\n",
       "       '2013-12-06', '2013-12-05', '2013-12-04', '2013-12-03',\n",
       "       '2013-12-02', '2013-12-01', '2013-11-30', '2013-11-29',\n",
       "       '2013-11-27', '2013-11-26', '2013-11-25', '2013-11-24',\n",
       "       '2013-11-23', '2013-11-22', '2013-11-21', '2013-11-20',\n",
       "       '2013-11-19', '2013-11-18', '2013-11-17', '2013-11-16',\n",
       "       '2013-11-15', '2013-11-14', '2013-11-13', '2013-11-12',\n",
       "       '2013-11-11', '2013-11-10', '2013-11-09', '2013-11-08',\n",
       "       '2013-11-07', '2013-11-06', '2013-11-05', '2013-11-04',\n",
       "       '2013-11-03', '2013-11-02', '2013-11-01', '2013-10-31',\n",
       "       '2013-10-30', '2013-10-29'], dtype=object)"
      ]
     },
     "execution_count": 268,
     "metadata": {},
     "output_type": "execute_result"
    }
   ],
   "source": [
    "data[\"GAME_DATE\"].unique()"
   ]
  },
  {
   "cell_type": "markdown",
   "metadata": {},
   "source": [
    "--------------\n",
    "### Task 1\n",
    "Split the data into **3** separate dataframes for each NBA season!"
   ]
  },
  {
   "cell_type": "code",
   "execution_count": 269,
   "metadata": {},
   "outputs": [],
   "source": [
    "data_2013 = data[data[\"SEASON_ID\"] == 22013]\n",
    "data_2014 = data[data[\"SEASON_ID\"] == 22014]\n",
    "data_2015 = data[data[\"SEASON_ID\"] == 22015]"
   ]
  },
  {
   "cell_type": "code",
   "execution_count": 270,
   "metadata": {},
   "outputs": [
    {
     "name": "stdout",
     "output_type": "stream",
     "text": [
      "There are 2460 games recorded in the 2013/2014 season.\n",
      "There are 2460 games recorded in the 2014/2015 season.\n",
      "There are 2460 games recorded in the 2015/2016 season.\n"
     ]
    }
   ],
   "source": [
    "print(f\"There are {len(data_2013)} games recorded in the 2013/2014 season.\")\n",
    "print(f\"There are {len(data_2014)} games recorded in the 2014/2015 season.\")\n",
    "print(f\"There are {len(data_2015)} games recorded in the 2015/2016 season.\")"
   ]
  },
  {
   "cell_type": "markdown",
   "metadata": {},
   "source": [
    "---------------\n",
    "### Task 2\n",
    "Test the hypothesis that the offensive productions stats of the Cleveland Cavaliers and Golden State Warriors (the teams that met in the finals that year) were from the same distribution in the 2015/2016 season.\n",
    "\n",
    "Offensive production refers to two variables: **PTS (Points)** and **FG_PCT (Field Goal Percentage)**. We will need to do two separate hypothesis tests, one for each variable."
   ]
  },
  {
   "attachments": {},
   "cell_type": "markdown",
   "metadata": {},
   "source": [
    "#### Team Data"
   ]
  },
  {
   "cell_type": "code",
   "execution_count": 271,
   "metadata": {},
   "outputs": [
    {
     "data": {
      "text/plain": [
       "array([1610612750, 1610612749, 1610612738, 1610612747, 1610612739,\n",
       "       1610612758, 1610612746, 1610612764, 1610612737, 1610612761,\n",
       "       1610612740, 1610612753, 1610612762, 1610612744, 1610612741,\n",
       "       1610612748, 1610612763, 1610612759, 1610612766, 1610612751,\n",
       "       1610612742, 1610612745, 1610612755, 1610612757, 1610612756,\n",
       "       1610612743, 1610612754, 1610612765, 1610612752, 1610612760])"
      ]
     },
     "execution_count": 271,
     "metadata": {},
     "output_type": "execute_result"
    }
   ],
   "source": [
    "data_2015[\"TEAM_ID\"].unique()"
   ]
  },
  {
   "cell_type": "code",
   "execution_count": 272,
   "metadata": {},
   "outputs": [
    {
     "data": {
      "text/plain": [
       "array(['Minnesota Timberwolves', 'Milwaukee Bucks', 'Boston Celtics',\n",
       "       'Los Angeles Lakers', 'Cleveland Cavaliers', 'Sacramento Kings',\n",
       "       'LA Clippers', 'Washington Wizards', 'Atlanta Hawks',\n",
       "       'Toronto Raptors', 'New Orleans Pelicans', 'Orlando Magic',\n",
       "       'Utah Jazz', 'Golden State Warriors', 'Chicago Bulls',\n",
       "       'Miami Heat', 'Memphis Grizzlies', 'San Antonio Spurs',\n",
       "       'Charlotte Hornets', 'Brooklyn Nets', 'Dallas Mavericks',\n",
       "       'Houston Rockets', 'Philadelphia 76ers', 'Portland Trail Blazers',\n",
       "       'Phoenix Suns', 'Denver Nuggets', 'Indiana Pacers',\n",
       "       'Detroit Pistons', 'New York Knicks', 'Oklahoma City Thunder'],\n",
       "      dtype=object)"
      ]
     },
     "execution_count": 272,
     "metadata": {},
     "output_type": "execute_result"
    }
   ],
   "source": [
    "data_2015[\"TEAM_NAME\"].unique()"
   ]
  },
  {
   "cell_type": "code",
   "execution_count": 273,
   "metadata": {},
   "outputs": [
    {
     "data": {
      "text/plain": [
       "array(['MIN', 'MIL', 'BOS', 'LAL', 'CLE', 'SAC', 'LAC', 'WAS', 'ATL',\n",
       "       'TOR', 'NOP', 'ORL', 'UTA', 'GSW', 'CHI', 'MIA', 'MEM', 'SAS',\n",
       "       'CHA', 'BKN', 'DAL', 'HOU', 'PHI', 'POR', 'PHX', 'DEN', 'IND',\n",
       "       'DET', 'NYK', 'OKC'], dtype=object)"
      ]
     },
     "execution_count": 273,
     "metadata": {},
     "output_type": "execute_result"
    }
   ],
   "source": [
    "data_2015[\"TEAM_ABBREVIATION\"].unique()"
   ]
  },
  {
   "attachments": {},
   "cell_type": "markdown",
   "metadata": {},
   "source": [
    "##### Isolate Cleveland and Warriors Stats"
   ]
  },
  {
   "cell_type": "code",
   "execution_count": 274,
   "metadata": {},
   "outputs": [],
   "source": [
    "data_2015_cavs = data_2015[data_2015[\"TEAM_ABBREVIATION\"] == \"CLE\"]\n",
    "data_2015_wars = data_2015[data_2015[\"TEAM_ABBREVIATION\"] == \"GSW\"]"
   ]
  },
  {
   "attachments": {},
   "cell_type": "markdown",
   "metadata": {},
   "source": [
    "#### Hypothesis Testing for `Points` (PTS)\n",
    "If the Cavs and the Warriors offensive production stats are from the same distribution in the 2015/2016 seasons, then the distribution of points should be similar.\n",
    "\n",
    "To do this, we will compare the two distributions against each other using the t-test, assuming that $$H_0: \\mu_{cavs} = \\mu_{wars}$$\n",
    "\n",
    "We will using a pair-wise $t-test$, which is calculated as follows: $$t = \\frac{\\bar(x_1) - \\bar(x_2)}{\\sigma{\\sqrt{\\frac{1}{n_1} + \\frac{1}{n_2}}}}$$\n",
    "\n",
    "A large $t$-value will reveal that the difference between groups is larger than the pooled standard error, indicating a more significant difference between the groups. But first, is it safe to assume that the standard deviations between the two teams are equal?"
   ]
  },
  {
   "attachments": {},
   "cell_type": "markdown",
   "metadata": {},
   "source": [
    "##### Levene's Test for Equality of Variances, $H0: s_1 = s_2$\n",
    "For this test, we will set the confidence level at $\\alpha =$ 0.05"
   ]
  },
  {
   "cell_type": "code",
   "execution_count": 275,
   "metadata": {},
   "outputs": [
    {
     "name": "stdout",
     "output_type": "stream",
     "text": [
      "The resulting p-value for Levene's test is 0.89 which is greater than the specified alpha value, 0.05.\n",
      "This suggests that the difference between the standard deviations of the two teams' PTS is insignificant.\n"
     ]
    }
   ],
   "source": [
    "ttest, pval_pts = st.levene(data_2015_cavs[\"PTS\"], data_2015_wars[\"PTS\"])\n",
    "print(f\"The resulting p-value for Levene's test is {pval_pts:.2f} which is greater than the specified alpha value, 0.05.\")\n",
    "print(\"This suggests that the difference between the standard deviations of the two teams' PTS is insignificant.\")"
   ]
  },
  {
   "attachments": {},
   "cell_type": "markdown",
   "metadata": {},
   "source": [
    "##### Finding $\\bar{x_1}$ and $\\bar{x_2}$"
   ]
  },
  {
   "cell_type": "code",
   "execution_count": 276,
   "metadata": {},
   "outputs": [],
   "source": [
    "# for the Cleveland Cavaliers, x1\n",
    "cavs_2015_pts_mean = st.tmean(data_2015_cavs[\"PTS\"])\n",
    "# for the Golden State Warriors, x2\n",
    "wars_2015_pts_mean = st.tmean(data_2015_wars[\"PTS\"])"
   ]
  },
  {
   "attachments": {},
   "cell_type": "markdown",
   "metadata": {},
   "source": [
    "##### Finding $s_1$ and $s_2$ to determine $\\sigma$ (*pooled standard variance*)"
   ]
  },
  {
   "cell_type": "code",
   "execution_count": 277,
   "metadata": {},
   "outputs": [
    {
     "data": {
      "text/plain": [
       "11.315425853726083"
      ]
     },
     "execution_count": 277,
     "metadata": {},
     "output_type": "execute_result"
    }
   ],
   "source": [
    "# for the Cleveland Cavaliers\n",
    "cavs_2015_pts_std = st.tstd(data_2015_cavs[\"PTS\"])\n",
    "# for the Golden State Warriors\n",
    "wars_2015_pts_std = st.tstd(data_2015_wars[\"PTS\"])\n",
    "# determine pooled standard variance\n",
    "pts_sigma = st.tmean([cavs_2015_pts_std, wars_2015_pts_std])\n",
    "pts_sigma"
   ]
  },
  {
   "attachments": {},
   "cell_type": "markdown",
   "metadata": {},
   "source": [
    "##### Finding $n_1$ and $n_2$"
   ]
  },
  {
   "cell_type": "code",
   "execution_count": 278,
   "metadata": {},
   "outputs": [],
   "source": [
    "# for the Cleveland Cavaliers\n",
    "cavs_2015_n = len(data_2015_cavs)\n",
    "# for the Golden State Warriors\n",
    "wars_2015_n = len(data_2015_wars)"
   ]
  },
  {
   "attachments": {},
   "cell_type": "markdown",
   "metadata": {},
   "source": [
    "##### Finding t-test values"
   ]
  },
  {
   "cell_type": "code",
   "execution_count": 279,
   "metadata": {},
   "outputs": [
    {
     "data": {
      "text/plain": [
       "-5.976199196736252"
      ]
     },
     "execution_count": 279,
     "metadata": {},
     "output_type": "execute_result"
    }
   ],
   "source": [
    "tstat_from_calc = (cavs_2015_pts_mean - wars_2015_pts_mean) / (pts_sigma * np.sqrt(1/cavs_2015_n + 1/wars_2015_n))\n",
    "tstat_from_calc"
   ]
  },
  {
   "attachments": {},
   "cell_type": "markdown",
   "metadata": {},
   "source": [
    "##### Using *scipy* ttest"
   ]
  },
  {
   "cell_type": "code",
   "execution_count": 280,
   "metadata": {},
   "outputs": [],
   "source": [
    "tstat_from_st, pvalue = st.ttest_ind(data_2015_cavs[\"PTS\"], data_2015_wars[\"PTS\"])"
   ]
  },
  {
   "cell_type": "code",
   "execution_count": 281,
   "metadata": {},
   "outputs": [
    {
     "name": "stdout",
     "output_type": "stream",
     "text": [
      "The t-statistic from the calculations: -5.98\n",
      "The t-statistic from the scipy module: -5.97\n"
     ]
    }
   ],
   "source": [
    "print(f\"The t-statistic from the calculations: {tstat_from_calc:.2f}\")\n",
    "print(f\"The t-statistic from the scipy module: {tstat_from_st:.2f}\")"
   ]
  },
  {
   "cell_type": "code",
   "execution_count": 282,
   "metadata": {},
   "outputs": [
    {
     "name": "stdout",
     "output_type": "stream",
     "text": [
      "The p-value rejects the null hypothesis that the points scored by the Cavs and the Warriors in the 2015/2016 season are from the same distribution.\n"
     ]
    }
   ],
   "source": [
    "print(f\"The p-value rejects the null hypothesis that the points scored by the Cavs and the Warriors in the 2015/2016 season are from the same distribution.\")"
   ]
  },
  {
   "attachments": {},
   "cell_type": "markdown",
   "metadata": {},
   "source": [
    "#### Hypothesis Testing for `Field Goal Percentage` (FG_PCT)"
   ]
  },
  {
   "attachments": {},
   "cell_type": "markdown",
   "metadata": {},
   "source": [
    "##### Levene's Test for Equality of Variances"
   ]
  },
  {
   "cell_type": "code",
   "execution_count": 283,
   "metadata": {},
   "outputs": [
    {
     "name": "stdout",
     "output_type": "stream",
     "text": [
      "The resulting p-value for Levene's test is 0.42 which is greater than the specified alpha value, 0.05.\n",
      "This suggests that the difference between the standard deviations of the two teams' field goal percentages is insignificant.\n"
     ]
    }
   ],
   "source": [
    "_, pval_fgpct = st.levene(data_2015_cavs[\"FG_PCT\"], data_2015_wars[\"FG_PCT\"])\n",
    "pval_fgpct\n",
    "print(f\"The resulting p-value for Levene's test is {pval_fgpct:.2f} which is greater than the specified alpha value, 0.05.\")\n",
    "print(\"This suggests that the difference between the standard deviations of the two teams' field goal percentages is insignificant.\")"
   ]
  },
  {
   "attachments": {},
   "cell_type": "markdown",
   "metadata": {},
   "source": [
    "##### Finding t-test values"
   ]
  },
  {
   "cell_type": "code",
   "execution_count": 284,
   "metadata": {},
   "outputs": [
    {
     "name": "stdout",
     "output_type": "stream",
     "text": [
      "0.00206097581047554\n"
     ]
    }
   ],
   "source": [
    "_, pvalue = st.ttest_ind(data_2015_cavs[\"FG_PCT\"], data_2015_wars[\"FG_PCT\"])\n",
    "print(pvalue)"
   ]
  },
  {
   "attachments": {},
   "cell_type": "markdown",
   "metadata": {},
   "source": [
    "---\n",
    "### Task 3\n",
    "Test the hypothesis that the number of points (PTS) scored by Cleveland Cavaliers changed significantly after the head coach changed in the 2015/2016 season.\n",
    "\n",
    "- **Coach Blatt was fired on 24th of Jan, 2016**. \n",
    "\n",
    "Use the data from seasons 2014/2015 and 2015/2016 - those are years when Cleveland was coached by Blatt. \n",
    "\n",
    "**We have two possible solutions to try here:**\n",
    "- Take the same amount of games from before and after and try t-test.\n",
    "- Take all the games from before and after and look for the right test to compare two samples with different sizes. (You will need to go through the scipy documentation or google to figure out what kind of test is required.)"
   ]
  },
  {
   "cell_type": "code",
   "execution_count": 301,
   "metadata": {},
   "outputs": [
    {
     "name": "stdout",
     "output_type": "stream",
     "text": [
      "4920\n"
     ]
    }
   ],
   "source": [
    "print(len(data_2014) + len(data_2015))"
   ]
  },
  {
   "cell_type": "code",
   "execution_count": 298,
   "metadata": {},
   "outputs": [],
   "source": [
    "data = pd.concat([data_2014, data_2015])"
   ]
  },
  {
   "cell_type": "code",
   "execution_count": 299,
   "metadata": {},
   "outputs": [
    {
     "data": {
      "text/html": [
       "<div>\n",
       "<style scoped>\n",
       "    .dataframe tbody tr th:only-of-type {\n",
       "        vertical-align: middle;\n",
       "    }\n",
       "\n",
       "    .dataframe tbody tr th {\n",
       "        vertical-align: top;\n",
       "    }\n",
       "\n",
       "    .dataframe thead th {\n",
       "        text-align: right;\n",
       "    }\n",
       "</style>\n",
       "<table border=\"1\" class=\"dataframe\">\n",
       "  <thead>\n",
       "    <tr style=\"text-align: right;\">\n",
       "      <th></th>\n",
       "      <th>SEASON_ID</th>\n",
       "      <th>TEAM_ID</th>\n",
       "      <th>TEAM_ABBREVIATION</th>\n",
       "      <th>TEAM_NAME</th>\n",
       "      <th>GAME_ID</th>\n",
       "      <th>GAME_DATE</th>\n",
       "      <th>MATCHUP</th>\n",
       "      <th>WL</th>\n",
       "      <th>MIN</th>\n",
       "      <th>PTS</th>\n",
       "      <th>...</th>\n",
       "      <th>FT_PCT</th>\n",
       "      <th>OREB</th>\n",
       "      <th>DREB</th>\n",
       "      <th>REB</th>\n",
       "      <th>AST</th>\n",
       "      <th>STL</th>\n",
       "      <th>BLK</th>\n",
       "      <th>TOV</th>\n",
       "      <th>PF</th>\n",
       "      <th>PLUS_MINUS</th>\n",
       "    </tr>\n",
       "  </thead>\n",
       "  <tbody>\n",
       "    <tr>\n",
       "      <th>2460</th>\n",
       "      <td>22014</td>\n",
       "      <td>1610612760</td>\n",
       "      <td>OKC</td>\n",
       "      <td>Oklahoma City Thunder</td>\n",
       "      <td>21401222</td>\n",
       "      <td>2015-04-15</td>\n",
       "      <td>OKC @ MIN</td>\n",
       "      <td>W</td>\n",
       "      <td>241</td>\n",
       "      <td>138</td>\n",
       "      <td>...</td>\n",
       "      <td>0.710</td>\n",
       "      <td>18</td>\n",
       "      <td>28</td>\n",
       "      <td>46</td>\n",
       "      <td>22</td>\n",
       "      <td>10</td>\n",
       "      <td>6</td>\n",
       "      <td>13</td>\n",
       "      <td>25</td>\n",
       "      <td>25.0</td>\n",
       "    </tr>\n",
       "    <tr>\n",
       "      <th>2461</th>\n",
       "      <td>22014</td>\n",
       "      <td>1610612765</td>\n",
       "      <td>DET</td>\n",
       "      <td>Detroit Pistons</td>\n",
       "      <td>21401226</td>\n",
       "      <td>2015-04-15</td>\n",
       "      <td>DET @ NYK</td>\n",
       "      <td>W</td>\n",
       "      <td>240</td>\n",
       "      <td>112</td>\n",
       "      <td>...</td>\n",
       "      <td>0.741</td>\n",
       "      <td>11</td>\n",
       "      <td>33</td>\n",
       "      <td>44</td>\n",
       "      <td>20</td>\n",
       "      <td>14</td>\n",
       "      <td>3</td>\n",
       "      <td>12</td>\n",
       "      <td>22</td>\n",
       "      <td>22.0</td>\n",
       "    </tr>\n",
       "    <tr>\n",
       "      <th>2462</th>\n",
       "      <td>22014</td>\n",
       "      <td>1610612766</td>\n",
       "      <td>CHA</td>\n",
       "      <td>Charlotte Hornets</td>\n",
       "      <td>21401228</td>\n",
       "      <td>2015-04-15</td>\n",
       "      <td>CHA @ TOR</td>\n",
       "      <td>L</td>\n",
       "      <td>240</td>\n",
       "      <td>87</td>\n",
       "      <td>...</td>\n",
       "      <td>0.938</td>\n",
       "      <td>8</td>\n",
       "      <td>28</td>\n",
       "      <td>36</td>\n",
       "      <td>15</td>\n",
       "      <td>8</td>\n",
       "      <td>3</td>\n",
       "      <td>12</td>\n",
       "      <td>10</td>\n",
       "      <td>-5.0</td>\n",
       "    </tr>\n",
       "    <tr>\n",
       "      <th>2463</th>\n",
       "      <td>22014</td>\n",
       "      <td>1610612737</td>\n",
       "      <td>ATL</td>\n",
       "      <td>Atlanta Hawks</td>\n",
       "      <td>21401217</td>\n",
       "      <td>2015-04-15</td>\n",
       "      <td>ATL @ CHI</td>\n",
       "      <td>L</td>\n",
       "      <td>240</td>\n",
       "      <td>85</td>\n",
       "      <td>...</td>\n",
       "      <td>0.714</td>\n",
       "      <td>10</td>\n",
       "      <td>32</td>\n",
       "      <td>42</td>\n",
       "      <td>15</td>\n",
       "      <td>10</td>\n",
       "      <td>10</td>\n",
       "      <td>15</td>\n",
       "      <td>19</td>\n",
       "      <td>-6.0</td>\n",
       "    </tr>\n",
       "    <tr>\n",
       "      <th>2464</th>\n",
       "      <td>22014</td>\n",
       "      <td>1610612759</td>\n",
       "      <td>SAS</td>\n",
       "      <td>San Antonio Spurs</td>\n",
       "      <td>21401223</td>\n",
       "      <td>2015-04-15</td>\n",
       "      <td>SAS @ NOP</td>\n",
       "      <td>L</td>\n",
       "      <td>238</td>\n",
       "      <td>103</td>\n",
       "      <td>...</td>\n",
       "      <td>0.769</td>\n",
       "      <td>4</td>\n",
       "      <td>32</td>\n",
       "      <td>36</td>\n",
       "      <td>33</td>\n",
       "      <td>2</td>\n",
       "      <td>3</td>\n",
       "      <td>15</td>\n",
       "      <td>20</td>\n",
       "      <td>-5.0</td>\n",
       "    </tr>\n",
       "    <tr>\n",
       "      <th>...</th>\n",
       "      <td>...</td>\n",
       "      <td>...</td>\n",
       "      <td>...</td>\n",
       "      <td>...</td>\n",
       "      <td>...</td>\n",
       "      <td>...</td>\n",
       "      <td>...</td>\n",
       "      <td>...</td>\n",
       "      <td>...</td>\n",
       "      <td>...</td>\n",
       "      <td>...</td>\n",
       "      <td>...</td>\n",
       "      <td>...</td>\n",
       "      <td>...</td>\n",
       "      <td>...</td>\n",
       "      <td>...</td>\n",
       "      <td>...</td>\n",
       "      <td>...</td>\n",
       "      <td>...</td>\n",
       "      <td>...</td>\n",
       "      <td>...</td>\n",
       "    </tr>\n",
       "    <tr>\n",
       "      <th>2455</th>\n",
       "      <td>22015</td>\n",
       "      <td>1610612744</td>\n",
       "      <td>GSW</td>\n",
       "      <td>Golden State Warriors</td>\n",
       "      <td>21500003</td>\n",
       "      <td>2015-10-27</td>\n",
       "      <td>GSW vs. NOP</td>\n",
       "      <td>W</td>\n",
       "      <td>241</td>\n",
       "      <td>111</td>\n",
       "      <td>...</td>\n",
       "      <td>0.909</td>\n",
       "      <td>21</td>\n",
       "      <td>35</td>\n",
       "      <td>56</td>\n",
       "      <td>29</td>\n",
       "      <td>8</td>\n",
       "      <td>7</td>\n",
       "      <td>20</td>\n",
       "      <td>29</td>\n",
       "      <td>16.0</td>\n",
       "    </tr>\n",
       "    <tr>\n",
       "      <th>2456</th>\n",
       "      <td>22015</td>\n",
       "      <td>1610612739</td>\n",
       "      <td>CLE</td>\n",
       "      <td>Cleveland Cavaliers</td>\n",
       "      <td>21500002</td>\n",
       "      <td>2015-10-27</td>\n",
       "      <td>CLE @ CHI</td>\n",
       "      <td>L</td>\n",
       "      <td>240</td>\n",
       "      <td>95</td>\n",
       "      <td>...</td>\n",
       "      <td>0.588</td>\n",
       "      <td>11</td>\n",
       "      <td>39</td>\n",
       "      <td>50</td>\n",
       "      <td>26</td>\n",
       "      <td>5</td>\n",
       "      <td>7</td>\n",
       "      <td>10</td>\n",
       "      <td>21</td>\n",
       "      <td>-2.0</td>\n",
       "    </tr>\n",
       "    <tr>\n",
       "      <th>2457</th>\n",
       "      <td>22015</td>\n",
       "      <td>1610612740</td>\n",
       "      <td>NOP</td>\n",
       "      <td>New Orleans Pelicans</td>\n",
       "      <td>21500003</td>\n",
       "      <td>2015-10-27</td>\n",
       "      <td>NOP @ GSW</td>\n",
       "      <td>L</td>\n",
       "      <td>241</td>\n",
       "      <td>95</td>\n",
       "      <td>...</td>\n",
       "      <td>0.704</td>\n",
       "      <td>8</td>\n",
       "      <td>25</td>\n",
       "      <td>33</td>\n",
       "      <td>21</td>\n",
       "      <td>9</td>\n",
       "      <td>3</td>\n",
       "      <td>18</td>\n",
       "      <td>26</td>\n",
       "      <td>-16.0</td>\n",
       "    </tr>\n",
       "    <tr>\n",
       "      <th>2458</th>\n",
       "      <td>22015</td>\n",
       "      <td>1610612741</td>\n",
       "      <td>CHI</td>\n",
       "      <td>Chicago Bulls</td>\n",
       "      <td>21500002</td>\n",
       "      <td>2015-10-27</td>\n",
       "      <td>CHI vs. CLE</td>\n",
       "      <td>W</td>\n",
       "      <td>240</td>\n",
       "      <td>97</td>\n",
       "      <td>...</td>\n",
       "      <td>0.696</td>\n",
       "      <td>7</td>\n",
       "      <td>40</td>\n",
       "      <td>47</td>\n",
       "      <td>13</td>\n",
       "      <td>6</td>\n",
       "      <td>10</td>\n",
       "      <td>13</td>\n",
       "      <td>22</td>\n",
       "      <td>2.0</td>\n",
       "    </tr>\n",
       "    <tr>\n",
       "      <th>2459</th>\n",
       "      <td>22015</td>\n",
       "      <td>1610612737</td>\n",
       "      <td>ATL</td>\n",
       "      <td>Atlanta Hawks</td>\n",
       "      <td>21500001</td>\n",
       "      <td>2015-10-27</td>\n",
       "      <td>ATL vs. DET</td>\n",
       "      <td>L</td>\n",
       "      <td>239</td>\n",
       "      <td>94</td>\n",
       "      <td>...</td>\n",
       "      <td>0.800</td>\n",
       "      <td>7</td>\n",
       "      <td>33</td>\n",
       "      <td>40</td>\n",
       "      <td>22</td>\n",
       "      <td>9</td>\n",
       "      <td>4</td>\n",
       "      <td>15</td>\n",
       "      <td>25</td>\n",
       "      <td>-12.0</td>\n",
       "    </tr>\n",
       "  </tbody>\n",
       "</table>\n",
       "<p>4920 rows × 28 columns</p>\n",
       "</div>"
      ],
      "text/plain": [
       "      SEASON_ID     TEAM_ID TEAM_ABBREVIATION              TEAM_NAME  \\\n",
       "2460      22014  1610612760               OKC  Oklahoma City Thunder   \n",
       "2461      22014  1610612765               DET        Detroit Pistons   \n",
       "2462      22014  1610612766               CHA      Charlotte Hornets   \n",
       "2463      22014  1610612737               ATL          Atlanta Hawks   \n",
       "2464      22014  1610612759               SAS      San Antonio Spurs   \n",
       "...         ...         ...               ...                    ...   \n",
       "2455      22015  1610612744               GSW  Golden State Warriors   \n",
       "2456      22015  1610612739               CLE    Cleveland Cavaliers   \n",
       "2457      22015  1610612740               NOP   New Orleans Pelicans   \n",
       "2458      22015  1610612741               CHI          Chicago Bulls   \n",
       "2459      22015  1610612737               ATL          Atlanta Hawks   \n",
       "\n",
       "       GAME_ID   GAME_DATE      MATCHUP WL  MIN  PTS  ...  FT_PCT  OREB  DREB  \\\n",
       "2460  21401222  2015-04-15    OKC @ MIN  W  241  138  ...   0.710    18    28   \n",
       "2461  21401226  2015-04-15    DET @ NYK  W  240  112  ...   0.741    11    33   \n",
       "2462  21401228  2015-04-15    CHA @ TOR  L  240   87  ...   0.938     8    28   \n",
       "2463  21401217  2015-04-15    ATL @ CHI  L  240   85  ...   0.714    10    32   \n",
       "2464  21401223  2015-04-15    SAS @ NOP  L  238  103  ...   0.769     4    32   \n",
       "...        ...         ...          ... ..  ...  ...  ...     ...   ...   ...   \n",
       "2455  21500003  2015-10-27  GSW vs. NOP  W  241  111  ...   0.909    21    35   \n",
       "2456  21500002  2015-10-27    CLE @ CHI  L  240   95  ...   0.588    11    39   \n",
       "2457  21500003  2015-10-27    NOP @ GSW  L  241   95  ...   0.704     8    25   \n",
       "2458  21500002  2015-10-27  CHI vs. CLE  W  240   97  ...   0.696     7    40   \n",
       "2459  21500001  2015-10-27  ATL vs. DET  L  239   94  ...   0.800     7    33   \n",
       "\n",
       "      REB  AST  STL  BLK  TOV  PF  PLUS_MINUS  \n",
       "2460   46   22   10    6   13  25        25.0  \n",
       "2461   44   20   14    3   12  22        22.0  \n",
       "2462   36   15    8    3   12  10        -5.0  \n",
       "2463   42   15   10   10   15  19        -6.0  \n",
       "2464   36   33    2    3   15  20        -5.0  \n",
       "...   ...  ...  ...  ...  ...  ..         ...  \n",
       "2455   56   29    8    7   20  29        16.0  \n",
       "2456   50   26    5    7   10  21        -2.0  \n",
       "2457   33   21    9    3   18  26       -16.0  \n",
       "2458   47   13    6   10   13  22         2.0  \n",
       "2459   40   22    9    4   15  25       -12.0  \n",
       "\n",
       "[4920 rows x 28 columns]"
      ]
     },
     "execution_count": 299,
     "metadata": {},
     "output_type": "execute_result"
    }
   ],
   "source": [
    "data"
   ]
  },
  {
   "cell_type": "code",
   "execution_count": 285,
   "metadata": {},
   "outputs": [
    {
     "data": {
      "text/plain": [
       "0       2016-04-13\n",
       "1       2016-04-13\n",
       "2       2016-04-13\n",
       "3       2016-04-13\n",
       "4       2016-04-13\n",
       "           ...    \n",
       "7375    2013-10-29\n",
       "7376    2013-10-29\n",
       "7377    2013-10-29\n",
       "7378    2013-10-29\n",
       "7379    2013-10-29\n",
       "Name: GAME_DATE, Length: 7380, dtype: object"
      ]
     },
     "execution_count": 285,
     "metadata": {},
     "output_type": "execute_result"
    }
   ],
   "source": [
    "data[\"GAME_DATE\"]"
   ]
  },
  {
   "attachments": {},
   "cell_type": "markdown",
   "metadata": {},
   "source": [
    "#### Convert Dates to `datetime` Objects"
   ]
  },
  {
   "cell_type": "code",
   "execution_count": 286,
   "metadata": {},
   "outputs": [
    {
     "name": "stderr",
     "output_type": "stream",
     "text": [
      "/var/folders/xm/yv4_9lnx4vxb435678j65d140000gn/T/ipykernel_23213/798130141.py:2: SettingWithCopyWarning: \n",
      "A value is trying to be set on a copy of a slice from a DataFrame\n",
      "\n",
      "See the caveats in the documentation: https://pandas.pydata.org/pandas-docs/stable/user_guide/indexing.html#returning-a-view-versus-a-copy\n",
      "  data[\"GAME_DATE\"][i] = dt.datetime.strptime(game_date, \"%Y-%m-%d\").date()\n"
     ]
    }
   ],
   "source": [
    "for i, game_date in enumerate(data[\"GAME_DATE\"]):\n",
    "    data[\"GAME_DATE\"][i] = dt.datetime.strptime(game_date, \"%Y-%m-%d\").date()"
   ]
  },
  {
   "cell_type": "code",
   "execution_count": 287,
   "metadata": {},
   "outputs": [
    {
     "data": {
      "text/plain": [
       "datetime.date"
      ]
     },
     "execution_count": 287,
     "metadata": {},
     "output_type": "execute_result"
    }
   ],
   "source": [
    "type(data[\"GAME_DATE\"][0])"
   ]
  },
  {
   "attachments": {},
   "cell_type": "markdown",
   "metadata": {},
   "source": [
    "#### Isolate `Cleveland`"
   ]
  },
  {
   "cell_type": "code",
   "execution_count": 288,
   "metadata": {},
   "outputs": [],
   "source": [
    "data_cle = data[data[\"TEAM_ABBREVIATION\"] == \"CLE\"]"
   ]
  },
  {
   "attachments": {},
   "cell_type": "markdown",
   "metadata": {},
   "source": [
    "#### Use `GAME_DATE` to Divide Games from the"
   ]
  },
  {
   "cell_type": "code",
   "execution_count": 289,
   "metadata": {},
   "outputs": [],
   "source": [
    "data_cle_after_blatt = data_cle[data_cle[\"GAME_DATE\"] > dt.date(2016, 1, 24)]\n",
    "data_cle_before_blatt = data_cle[data_cle[\"GAME_DATE\"] <= dt.date(2016, 1, 24)]"
   ]
  },
  {
   "cell_type": "code",
   "execution_count": 290,
   "metadata": {},
   "outputs": [
    {
     "data": {
      "text/html": [
       "<div>\n",
       "<style scoped>\n",
       "    .dataframe tbody tr th:only-of-type {\n",
       "        vertical-align: middle;\n",
       "    }\n",
       "\n",
       "    .dataframe tbody tr th {\n",
       "        vertical-align: top;\n",
       "    }\n",
       "\n",
       "    .dataframe thead th {\n",
       "        text-align: right;\n",
       "    }\n",
       "</style>\n",
       "<table border=\"1\" class=\"dataframe\">\n",
       "  <thead>\n",
       "    <tr style=\"text-align: right;\">\n",
       "      <th></th>\n",
       "      <th>SEASON_ID</th>\n",
       "      <th>TEAM_ID</th>\n",
       "      <th>TEAM_ABBREVIATION</th>\n",
       "      <th>TEAM_NAME</th>\n",
       "      <th>GAME_ID</th>\n",
       "      <th>GAME_DATE</th>\n",
       "      <th>MATCHUP</th>\n",
       "      <th>WL</th>\n",
       "      <th>MIN</th>\n",
       "      <th>PTS</th>\n",
       "      <th>...</th>\n",
       "      <th>FT_PCT</th>\n",
       "      <th>OREB</th>\n",
       "      <th>DREB</th>\n",
       "      <th>REB</th>\n",
       "      <th>AST</th>\n",
       "      <th>STL</th>\n",
       "      <th>BLK</th>\n",
       "      <th>TOV</th>\n",
       "      <th>PF</th>\n",
       "      <th>PLUS_MINUS</th>\n",
       "    </tr>\n",
       "  </thead>\n",
       "  <tbody>\n",
       "    <tr>\n",
       "      <th>7355</th>\n",
       "      <td>22013</td>\n",
       "      <td>1610612739</td>\n",
       "      <td>CLE</td>\n",
       "      <td>Cleveland Cavaliers</td>\n",
       "      <td>21300004</td>\n",
       "      <td>2013-10-30</td>\n",
       "      <td>CLE vs. BKN</td>\n",
       "      <td>W</td>\n",
       "      <td>241</td>\n",
       "      <td>98</td>\n",
       "      <td>...</td>\n",
       "      <td>0.676</td>\n",
       "      <td>16</td>\n",
       "      <td>32</td>\n",
       "      <td>48</td>\n",
       "      <td>21</td>\n",
       "      <td>7</td>\n",
       "      <td>3</td>\n",
       "      <td>11</td>\n",
       "      <td>20</td>\n",
       "      <td>4.0</td>\n",
       "    </tr>\n",
       "    <tr>\n",
       "      <th>7316</th>\n",
       "      <td>22013</td>\n",
       "      <td>1610612739</td>\n",
       "      <td>CLE</td>\n",
       "      <td>Cleveland Cavaliers</td>\n",
       "      <td>21300020</td>\n",
       "      <td>2013-11-01</td>\n",
       "      <td>CLE @ CHA</td>\n",
       "      <td>L</td>\n",
       "      <td>241</td>\n",
       "      <td>84</td>\n",
       "      <td>...</td>\n",
       "      <td>0.727</td>\n",
       "      <td>11</td>\n",
       "      <td>31</td>\n",
       "      <td>42</td>\n",
       "      <td>14</td>\n",
       "      <td>9</td>\n",
       "      <td>1</td>\n",
       "      <td>17</td>\n",
       "      <td>29</td>\n",
       "      <td>-6.0</td>\n",
       "    </tr>\n",
       "    <tr>\n",
       "      <th>7303</th>\n",
       "      <td>22013</td>\n",
       "      <td>1610612739</td>\n",
       "      <td>CLE</td>\n",
       "      <td>Cleveland Cavaliers</td>\n",
       "      <td>21300033</td>\n",
       "      <td>2013-11-02</td>\n",
       "      <td>CLE @ IND</td>\n",
       "      <td>L</td>\n",
       "      <td>240</td>\n",
       "      <td>74</td>\n",
       "      <td>...</td>\n",
       "      <td>0.867</td>\n",
       "      <td>6</td>\n",
       "      <td>31</td>\n",
       "      <td>37</td>\n",
       "      <td>11</td>\n",
       "      <td>15</td>\n",
       "      <td>1</td>\n",
       "      <td>16</td>\n",
       "      <td>25</td>\n",
       "      <td>-15.0</td>\n",
       "    </tr>\n",
       "    <tr>\n",
       "      <th>7282</th>\n",
       "      <td>22013</td>\n",
       "      <td>1610612739</td>\n",
       "      <td>CLE</td>\n",
       "      <td>Cleveland Cavaliers</td>\n",
       "      <td>21300047</td>\n",
       "      <td>2013-11-04</td>\n",
       "      <td>CLE vs. MIN</td>\n",
       "      <td>W</td>\n",
       "      <td>240</td>\n",
       "      <td>93</td>\n",
       "      <td>...</td>\n",
       "      <td>0.909</td>\n",
       "      <td>11</td>\n",
       "      <td>38</td>\n",
       "      <td>49</td>\n",
       "      <td>22</td>\n",
       "      <td>10</td>\n",
       "      <td>12</td>\n",
       "      <td>23</td>\n",
       "      <td>24</td>\n",
       "      <td>1.0</td>\n",
       "    </tr>\n",
       "    <tr>\n",
       "      <th>7248</th>\n",
       "      <td>22013</td>\n",
       "      <td>1610612739</td>\n",
       "      <td>CLE</td>\n",
       "      <td>Cleveland Cavaliers</td>\n",
       "      <td>21300066</td>\n",
       "      <td>2013-11-06</td>\n",
       "      <td>CLE @ MIL</td>\n",
       "      <td>L</td>\n",
       "      <td>240</td>\n",
       "      <td>104</td>\n",
       "      <td>...</td>\n",
       "      <td>0.727</td>\n",
       "      <td>12</td>\n",
       "      <td>27</td>\n",
       "      <td>39</td>\n",
       "      <td>20</td>\n",
       "      <td>10</td>\n",
       "      <td>2</td>\n",
       "      <td>9</td>\n",
       "      <td>21</td>\n",
       "      <td>-5.0</td>\n",
       "    </tr>\n",
       "    <tr>\n",
       "      <th>...</th>\n",
       "      <td>...</td>\n",
       "      <td>...</td>\n",
       "      <td>...</td>\n",
       "      <td>...</td>\n",
       "      <td>...</td>\n",
       "      <td>...</td>\n",
       "      <td>...</td>\n",
       "      <td>...</td>\n",
       "      <td>...</td>\n",
       "      <td>...</td>\n",
       "      <td>...</td>\n",
       "      <td>...</td>\n",
       "      <td>...</td>\n",
       "      <td>...</td>\n",
       "      <td>...</td>\n",
       "      <td>...</td>\n",
       "      <td>...</td>\n",
       "      <td>...</td>\n",
       "      <td>...</td>\n",
       "      <td>...</td>\n",
       "      <td>...</td>\n",
       "    </tr>\n",
       "    <tr>\n",
       "      <th>1270</th>\n",
       "      <td>22015</td>\n",
       "      <td>1610612739</td>\n",
       "      <td>CLE</td>\n",
       "      <td>Cleveland Cavaliers</td>\n",
       "      <td>21500601</td>\n",
       "      <td>2016-01-15</td>\n",
       "      <td>CLE @ HOU</td>\n",
       "      <td>W</td>\n",
       "      <td>241</td>\n",
       "      <td>91</td>\n",
       "      <td>...</td>\n",
       "      <td>0.652</td>\n",
       "      <td>17</td>\n",
       "      <td>32</td>\n",
       "      <td>49</td>\n",
       "      <td>19</td>\n",
       "      <td>10</td>\n",
       "      <td>6</td>\n",
       "      <td>14</td>\n",
       "      <td>24</td>\n",
       "      <td>14.0</td>\n",
       "    </tr>\n",
       "    <tr>\n",
       "      <th>1218</th>\n",
       "      <td>22015</td>\n",
       "      <td>1610612739</td>\n",
       "      <td>CLE</td>\n",
       "      <td>Cleveland Cavaliers</td>\n",
       "      <td>21500622</td>\n",
       "      <td>2016-01-18</td>\n",
       "      <td>CLE vs. GSW</td>\n",
       "      <td>L</td>\n",
       "      <td>240</td>\n",
       "      <td>98</td>\n",
       "      <td>...</td>\n",
       "      <td>0.680</td>\n",
       "      <td>8</td>\n",
       "      <td>28</td>\n",
       "      <td>36</td>\n",
       "      <td>22</td>\n",
       "      <td>3</td>\n",
       "      <td>4</td>\n",
       "      <td>15</td>\n",
       "      <td>25</td>\n",
       "      <td>-34.0</td>\n",
       "    </tr>\n",
       "    <tr>\n",
       "      <th>1195</th>\n",
       "      <td>22015</td>\n",
       "      <td>1610612739</td>\n",
       "      <td>CLE</td>\n",
       "      <td>Cleveland Cavaliers</td>\n",
       "      <td>21500631</td>\n",
       "      <td>2016-01-20</td>\n",
       "      <td>CLE @ BKN</td>\n",
       "      <td>W</td>\n",
       "      <td>240</td>\n",
       "      <td>91</td>\n",
       "      <td>...</td>\n",
       "      <td>0.700</td>\n",
       "      <td>6</td>\n",
       "      <td>39</td>\n",
       "      <td>45</td>\n",
       "      <td>15</td>\n",
       "      <td>6</td>\n",
       "      <td>3</td>\n",
       "      <td>13</td>\n",
       "      <td>13</td>\n",
       "      <td>13.0</td>\n",
       "    </tr>\n",
       "    <tr>\n",
       "      <th>1176</th>\n",
       "      <td>22015</td>\n",
       "      <td>1610612739</td>\n",
       "      <td>CLE</td>\n",
       "      <td>Cleveland Cavaliers</td>\n",
       "      <td>21500640</td>\n",
       "      <td>2016-01-21</td>\n",
       "      <td>CLE vs. LAC</td>\n",
       "      <td>W</td>\n",
       "      <td>239</td>\n",
       "      <td>115</td>\n",
       "      <td>...</td>\n",
       "      <td>0.750</td>\n",
       "      <td>14</td>\n",
       "      <td>33</td>\n",
       "      <td>47</td>\n",
       "      <td>29</td>\n",
       "      <td>5</td>\n",
       "      <td>2</td>\n",
       "      <td>13</td>\n",
       "      <td>31</td>\n",
       "      <td>13.0</td>\n",
       "    </tr>\n",
       "    <tr>\n",
       "      <th>1143</th>\n",
       "      <td>22015</td>\n",
       "      <td>1610612739</td>\n",
       "      <td>CLE</td>\n",
       "      <td>Cleveland Cavaliers</td>\n",
       "      <td>21500659</td>\n",
       "      <td>2016-01-23</td>\n",
       "      <td>CLE vs. CHI</td>\n",
       "      <td>L</td>\n",
       "      <td>241</td>\n",
       "      <td>83</td>\n",
       "      <td>...</td>\n",
       "      <td>0.409</td>\n",
       "      <td>16</td>\n",
       "      <td>32</td>\n",
       "      <td>48</td>\n",
       "      <td>17</td>\n",
       "      <td>5</td>\n",
       "      <td>5</td>\n",
       "      <td>4</td>\n",
       "      <td>18</td>\n",
       "      <td>-13.0</td>\n",
       "    </tr>\n",
       "  </tbody>\n",
       "</table>\n",
       "<p>206 rows × 28 columns</p>\n",
       "</div>"
      ],
      "text/plain": [
       "      SEASON_ID     TEAM_ID TEAM_ABBREVIATION            TEAM_NAME   GAME_ID  \\\n",
       "7355      22013  1610612739               CLE  Cleveland Cavaliers  21300004   \n",
       "7316      22013  1610612739               CLE  Cleveland Cavaliers  21300020   \n",
       "7303      22013  1610612739               CLE  Cleveland Cavaliers  21300033   \n",
       "7282      22013  1610612739               CLE  Cleveland Cavaliers  21300047   \n",
       "7248      22013  1610612739               CLE  Cleveland Cavaliers  21300066   \n",
       "...         ...         ...               ...                  ...       ...   \n",
       "1270      22015  1610612739               CLE  Cleveland Cavaliers  21500601   \n",
       "1218      22015  1610612739               CLE  Cleveland Cavaliers  21500622   \n",
       "1195      22015  1610612739               CLE  Cleveland Cavaliers  21500631   \n",
       "1176      22015  1610612739               CLE  Cleveland Cavaliers  21500640   \n",
       "1143      22015  1610612739               CLE  Cleveland Cavaliers  21500659   \n",
       "\n",
       "       GAME_DATE      MATCHUP WL  MIN  PTS  ...  FT_PCT  OREB  DREB  REB  AST  \\\n",
       "7355  2013-10-30  CLE vs. BKN  W  241   98  ...   0.676    16    32   48   21   \n",
       "7316  2013-11-01    CLE @ CHA  L  241   84  ...   0.727    11    31   42   14   \n",
       "7303  2013-11-02    CLE @ IND  L  240   74  ...   0.867     6    31   37   11   \n",
       "7282  2013-11-04  CLE vs. MIN  W  240   93  ...   0.909    11    38   49   22   \n",
       "7248  2013-11-06    CLE @ MIL  L  240  104  ...   0.727    12    27   39   20   \n",
       "...          ...          ... ..  ...  ...  ...     ...   ...   ...  ...  ...   \n",
       "1270  2016-01-15    CLE @ HOU  W  241   91  ...   0.652    17    32   49   19   \n",
       "1218  2016-01-18  CLE vs. GSW  L  240   98  ...   0.680     8    28   36   22   \n",
       "1195  2016-01-20    CLE @ BKN  W  240   91  ...   0.700     6    39   45   15   \n",
       "1176  2016-01-21  CLE vs. LAC  W  239  115  ...   0.750    14    33   47   29   \n",
       "1143  2016-01-23  CLE vs. CHI  L  241   83  ...   0.409    16    32   48   17   \n",
       "\n",
       "      STL  BLK  TOV  PF  PLUS_MINUS  \n",
       "7355    7    3   11  20         4.0  \n",
       "7316    9    1   17  29        -6.0  \n",
       "7303   15    1   16  25       -15.0  \n",
       "7282   10   12   23  24         1.0  \n",
       "7248   10    2    9  21        -5.0  \n",
       "...   ...  ...  ...  ..         ...  \n",
       "1270   10    6   14  24        14.0  \n",
       "1218    3    4   15  25       -34.0  \n",
       "1195    6    3   13  13        13.0  \n",
       "1176    5    2   13  31        13.0  \n",
       "1143    5    5    4  18       -13.0  \n",
       "\n",
       "[206 rows x 28 columns]"
      ]
     },
     "execution_count": 290,
     "metadata": {},
     "output_type": "execute_result"
    }
   ],
   "source": [
    "data_cle_before_blatt.sort_values(by=\"GAME_DATE\")"
   ]
  },
  {
   "attachments": {},
   "cell_type": "markdown",
   "metadata": {},
   "source": [
    "#### Find `t-statistic` and `p-value`"
   ]
  },
  {
   "cell_type": "code",
   "execution_count": null,
   "metadata": {},
   "outputs": [],
   "source": [
    "tstat_blatt, pval_blatt = st.ttest_ind(data_cle_before_blatt[\"\"])"
   ]
  },
  {
   "cell_type": "markdown",
   "metadata": {},
   "source": [
    "----------------\n",
    "\n",
    "\n",
    "### Task 4\n",
    "Download [**the similar dataset**](https://drive.google.com/file/d/0Bz9_0VdXvv9bRHhuRTI1aXBQcTA/view?usp=sharing&resourcekey=0-jGIaWyk0bXyECNSzB3x38w) with scores from playoff games in 2016."
   ]
  },
  {
   "cell_type": "code",
   "execution_count": null,
   "metadata": {},
   "outputs": [],
   "source": []
  },
  {
   "cell_type": "markdown",
   "metadata": {},
   "source": [
    "------------\n",
    "### Task 5\n",
    "Test the hypothesis that **number of blocks (BLK)** are from the same distribution in both the NBA playoffs and in the NBA regular season for 2015/2016 seaon for the **Toronto Raptors**. \n",
    "\n",
    "- We will be working with two samples with different sizes again."
   ]
  },
  {
   "cell_type": "code",
   "execution_count": null,
   "metadata": {},
   "outputs": [],
   "source": []
  },
  {
   "cell_type": "code",
   "execution_count": null,
   "metadata": {},
   "outputs": [],
   "source": []
  },
  {
   "cell_type": "code",
   "execution_count": null,
   "metadata": {},
   "outputs": [],
   "source": []
  },
  {
   "cell_type": "code",
   "execution_count": null,
   "metadata": {},
   "outputs": [],
   "source": []
  },
  {
   "cell_type": "code",
   "execution_count": null,
   "metadata": {},
   "outputs": [],
   "source": []
  },
  {
   "cell_type": "markdown",
   "metadata": {},
   "source": [
    "\n",
    "-----------------\n",
    "### Task 6\n",
    "Test the hypothesis that the number of points (PTS) scored by Cleveland Cavaliers is equally distributed for all 3 seasons. \n",
    "\n",
    "- In this case, we need a hypothesis test that compares more than 2 distributions at the same. (You will need to go through the scipy documentation or google to figure out what kind of test is required.)"
   ]
  },
  {
   "cell_type": "code",
   "execution_count": null,
   "metadata": {},
   "outputs": [],
   "source": []
  },
  {
   "cell_type": "code",
   "execution_count": null,
   "metadata": {},
   "outputs": [],
   "source": []
  },
  {
   "cell_type": "code",
   "execution_count": null,
   "metadata": {},
   "outputs": [],
   "source": []
  },
  {
   "cell_type": "code",
   "execution_count": null,
   "metadata": {},
   "outputs": [],
   "source": []
  },
  {
   "cell_type": "markdown",
   "metadata": {},
   "source": [
    "#### Follow Up\n",
    "**Between which seasons can we see the significant difference?**\n",
    "\n",
    "+ Unfortunatelly, this is not the output of an ANOVA test and further tests are needed to be run.\n",
    "+ Note: Lebron James came back to the Cleveland Caveliers prior to season 2014/2015. We can use this fact to interpret our results correctly."
   ]
  },
  {
   "cell_type": "code",
   "execution_count": null,
   "metadata": {},
   "outputs": [],
   "source": []
  },
  {
   "cell_type": "code",
   "execution_count": null,
   "metadata": {},
   "outputs": [],
   "source": []
  },
  {
   "cell_type": "code",
   "execution_count": null,
   "metadata": {},
   "outputs": [],
   "source": []
  }
 ],
 "metadata": {
  "kernelspec": {
   "display_name": "lighthouse",
   "language": "python",
   "name": "python3"
  },
  "language_info": {
   "codemirror_mode": {
    "name": "ipython",
    "version": 3
   },
   "file_extension": ".py",
   "mimetype": "text/x-python",
   "name": "python",
   "nbconvert_exporter": "python",
   "pygments_lexer": "ipython3",
   "version": "3.8.13"
  },
  "vscode": {
   "interpreter": {
    "hash": "f6bdb6bebcaa6c165db367a86e382ae8df75f09257c40532b854029e0e3d706f"
   }
  }
 },
 "nbformat": 4,
 "nbformat_minor": 4
}
