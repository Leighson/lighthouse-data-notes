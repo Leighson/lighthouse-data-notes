{
 "cells": [
  {
   "cell_type": "markdown",
   "metadata": {},
   "source": [
    "## Hypothesis Testing Assignment"
   ]
  },
  {
   "cell_type": "code",
   "execution_count": 1,
   "metadata": {},
   "outputs": [],
   "source": [
    "# importing necessary packages\n",
    "import pandas as pd\n",
    "import numpy as np\n",
    "import datetime as dt\n",
    "# package with hypothesis tests\n",
    "import scipy.stats as st"
   ]
  },
  {
   "cell_type": "markdown",
   "metadata": {},
   "source": [
    "### Data"
   ]
  },
  {
   "cell_type": "markdown",
   "metadata": {},
   "source": [
    "You can download the data from [**here**](https://drive.google.com/file/d/0Bz9_0VdXvv9bUUNlUTVrMF9VcVU/view?usp=sharing&resourcekey=0-16O9Fc5eaJH99-M7AHqHOg). The data contains results of all NBA games from seasons 2013/2014 to 2015/2016."
   ]
  },
  {
   "cell_type": "code",
   "execution_count": 2,
   "metadata": {},
   "outputs": [
    {
     "name": "stdout",
     "output_type": "stream",
     "text": [
      "<class 'pandas.core.frame.DataFrame'>\n",
      "RangeIndex: 7380 entries, 0 to 7379\n",
      "Data columns (total 28 columns):\n",
      " #   Column             Non-Null Count  Dtype  \n",
      "---  ------             --------------  -----  \n",
      " 0   SEASON_ID          7380 non-null   int64  \n",
      " 1   TEAM_ID            7380 non-null   int64  \n",
      " 2   TEAM_ABBREVIATION  7380 non-null   object \n",
      " 3   TEAM_NAME          7380 non-null   object \n",
      " 4   GAME_ID            7380 non-null   int64  \n",
      " 5   GAME_DATE          7380 non-null   object \n",
      " 6   MATCHUP            7380 non-null   object \n",
      " 7   WL                 7380 non-null   object \n",
      " 8   MIN                7380 non-null   int64  \n",
      " 9   PTS                7380 non-null   int64  \n",
      " 10  FGM                7380 non-null   int64  \n",
      " 11  FGA                7380 non-null   int64  \n",
      " 12  FG_PCT             7380 non-null   float64\n",
      " 13  FG3M               7380 non-null   int64  \n",
      " 14  FG3A               7380 non-null   int64  \n",
      " 15  FG3_PCT            7380 non-null   float64\n",
      " 16  FTM                7380 non-null   int64  \n",
      " 17  FTA                7380 non-null   int64  \n",
      " 18  FT_PCT             7380 non-null   float64\n",
      " 19  OREB               7380 non-null   int64  \n",
      " 20  DREB               7380 non-null   int64  \n",
      " 21  REB                7380 non-null   int64  \n",
      " 22  AST                7380 non-null   int64  \n",
      " 23  STL                7380 non-null   int64  \n",
      " 24  BLK                7380 non-null   int64  \n",
      " 25  TOV                7380 non-null   int64  \n",
      " 26  PF                 7380 non-null   int64  \n",
      " 27  PLUS_MINUS         7380 non-null   float64\n",
      "dtypes: float64(4), int64(19), object(5)\n",
      "memory usage: 1.6+ MB\n"
     ]
    }
   ],
   "source": [
    "data = pd.read_csv(\"data/nba_games_2013_2015.csv\", delimiter=\";\")\n",
    "data.info()"
   ]
  },
  {
   "cell_type": "code",
   "execution_count": 3,
   "metadata": {},
   "outputs": [
    {
     "data": {
      "text/plain": [
       "array([22015, 22014, 22013])"
      ]
     },
     "execution_count": 3,
     "metadata": {},
     "output_type": "execute_result"
    }
   ],
   "source": [
    "data[\"SEASON_ID\"].unique()"
   ]
  },
  {
   "cell_type": "code",
   "execution_count": 4,
   "metadata": {},
   "outputs": [
    {
     "data": {
      "text/plain": [
       "array(['2016-04-13', '2016-04-12', '2016-04-11', '2016-04-10',\n",
       "       '2016-04-09', '2016-04-08', '2016-04-07', '2016-04-06',\n",
       "       '2016-04-05', '2016-04-03', '2016-04-02', '2016-04-01',\n",
       "       '2016-03-31', '2016-03-30', '2016-03-29', '2016-03-28',\n",
       "       '2016-03-27', '2016-03-26', '2016-03-25', '2016-03-24',\n",
       "       '2016-03-23', '2016-03-22', '2016-03-21', '2016-03-20',\n",
       "       '2016-03-19', '2016-03-18', '2016-03-17', '2016-03-16',\n",
       "       '2016-03-15', '2016-03-14', '2016-03-13', '2016-03-12',\n",
       "       '2016-03-11', '2016-03-10', '2016-03-09', '2016-03-08',\n",
       "       '2016-03-07', '2016-03-06', '2016-03-05', '2016-03-04',\n",
       "       '2016-03-03', '2016-03-02', '2016-03-01', '2016-02-29',\n",
       "       '2016-02-28', '2016-02-27', '2016-02-26', '2016-02-25',\n",
       "       '2016-02-24', '2016-02-23', '2016-02-22', '2016-02-21',\n",
       "       '2016-02-20', '2016-02-19', '2016-02-18', '2016-02-11',\n",
       "       '2016-02-10', '2016-02-09', '2016-02-08', '2016-02-07',\n",
       "       '2016-02-06', '2016-02-05', '2016-02-04', '2016-02-03',\n",
       "       '2016-02-02', '2016-02-01', '2016-01-31', '2016-01-30',\n",
       "       '2016-01-29', '2016-01-28', '2016-01-27', '2016-01-26',\n",
       "       '2016-01-25', '2016-01-24', '2016-01-23', '2016-01-22',\n",
       "       '2016-01-21', '2016-01-20', '2016-01-19', '2016-01-18',\n",
       "       '2016-01-17', '2016-01-16', '2016-01-15', '2016-01-14',\n",
       "       '2016-01-13', '2016-01-12', '2016-01-11', '2016-01-10',\n",
       "       '2016-01-09', '2016-01-08', '2016-01-07', '2016-01-06',\n",
       "       '2016-01-05', '2016-01-04', '2016-01-03', '2016-01-02',\n",
       "       '2016-01-01', '2015-12-31', '2015-12-30', '2015-12-29',\n",
       "       '2015-12-28', '2015-12-27', '2015-12-26', '2015-12-25',\n",
       "       '2015-12-23', '2015-12-22', '2015-12-21', '2015-12-20',\n",
       "       '2015-12-19', '2015-12-18', '2015-12-17', '2015-12-16',\n",
       "       '2015-12-15', '2015-12-14', '2015-12-13', '2015-12-12',\n",
       "       '2015-12-11', '2015-12-10', '2015-12-09', '2015-12-08',\n",
       "       '2015-12-07', '2015-12-06', '2015-12-05', '2015-12-04',\n",
       "       '2015-12-03', '2015-12-02', '2015-12-01', '2015-11-30',\n",
       "       '2015-11-29', '2015-11-28', '2015-11-27', '2015-11-25',\n",
       "       '2015-11-24', '2015-11-23', '2015-11-22', '2015-11-21',\n",
       "       '2015-11-20', '2015-11-19', '2015-11-18', '2015-11-17',\n",
       "       '2015-11-16', '2015-11-15', '2015-11-14', '2015-11-13',\n",
       "       '2015-11-12', '2015-11-11', '2015-11-10', '2015-11-09',\n",
       "       '2015-11-08', '2015-11-07', '2015-11-06', '2015-11-05',\n",
       "       '2015-11-04', '2015-11-03', '2015-11-02', '2015-11-01',\n",
       "       '2015-10-31', '2015-10-30', '2015-10-29', '2015-10-28',\n",
       "       '2015-10-27', '2015-04-15', '2015-04-14', '2015-04-13',\n",
       "       '2015-04-12', '2015-04-11', '2015-04-10', '2015-04-09',\n",
       "       '2015-04-08', '2015-04-07', '2015-04-06', '2015-04-05',\n",
       "       '2015-04-04', '2015-04-03', '2015-04-02', '2015-04-01',\n",
       "       '2015-03-31', '2015-03-30', '2015-03-29', '2015-03-28',\n",
       "       '2015-03-27', '2015-03-26', '2015-03-25', '2015-03-24',\n",
       "       '2015-03-23', '2015-03-22', '2015-03-21', '2015-03-20',\n",
       "       '2015-03-19', '2015-03-18', '2015-03-17', '2015-03-16',\n",
       "       '2015-03-15', '2015-03-14', '2015-03-13', '2015-03-12',\n",
       "       '2015-03-11', '2015-03-10', '2015-03-09', '2015-03-08',\n",
       "       '2015-03-07', '2015-03-06', '2015-03-05', '2015-03-04',\n",
       "       '2015-03-03', '2015-03-02', '2015-03-01', '2015-02-28',\n",
       "       '2015-02-27', '2015-02-26', '2015-02-25', '2015-02-24',\n",
       "       '2015-02-23', '2015-02-22', '2015-02-21', '2015-02-20',\n",
       "       '2015-02-19', '2015-02-12', '2015-02-11', '2015-02-10',\n",
       "       '2015-02-09', '2015-02-08', '2015-02-07', '2015-02-06',\n",
       "       '2015-02-05', '2015-02-04', '2015-02-03', '2015-02-02',\n",
       "       '2015-02-01', '2015-01-31', '2015-01-30', '2015-01-29',\n",
       "       '2015-01-28', '2015-01-27', '2015-01-26', '2015-01-25',\n",
       "       '2015-01-24', '2015-01-23', '2015-01-22', '2015-01-21',\n",
       "       '2015-01-20', '2015-01-19', '2015-01-18', '2015-01-17',\n",
       "       '2015-01-16', '2015-01-15', '2015-01-14', '2015-01-13',\n",
       "       '2015-01-12', '2015-01-11', '2015-01-10', '2015-01-09',\n",
       "       '2015-01-08', '2015-01-07', '2015-01-06', '2015-01-05',\n",
       "       '2015-01-04', '2015-01-03', '2015-01-02', '2015-01-01',\n",
       "       '2014-12-31', '2014-12-30', '2014-12-29', '2014-12-28',\n",
       "       '2014-12-27', '2014-12-26', '2014-12-25', '2014-12-23',\n",
       "       '2014-12-22', '2014-12-21', '2014-12-20', '2014-12-19',\n",
       "       '2014-12-18', '2014-12-17', '2014-12-16', '2014-12-15',\n",
       "       '2014-12-14', '2014-12-13', '2014-12-12', '2014-12-11',\n",
       "       '2014-12-10', '2014-12-09', '2014-12-08', '2014-12-07',\n",
       "       '2014-12-06', '2014-12-05', '2014-12-04', '2014-12-03',\n",
       "       '2014-12-02', '2014-12-01', '2014-11-30', '2014-11-29',\n",
       "       '2014-11-28', '2014-11-26', '2014-11-25', '2014-11-24',\n",
       "       '2014-11-23', '2014-11-22', '2014-11-21', '2014-11-20',\n",
       "       '2014-11-19', '2014-11-18', '2014-11-17', '2014-11-16',\n",
       "       '2014-11-15', '2014-11-14', '2014-11-13', '2014-11-12',\n",
       "       '2014-11-11', '2014-11-10', '2014-11-09', '2014-11-08',\n",
       "       '2014-11-07', '2014-11-06', '2014-11-05', '2014-11-04',\n",
       "       '2014-11-03', '2014-11-02', '2014-11-01', '2014-10-31',\n",
       "       '2014-10-30', '2014-10-29', '2014-10-28', '2014-04-16',\n",
       "       '2014-04-15', '2014-04-14', '2014-04-13', '2014-04-12',\n",
       "       '2014-04-11', '2014-04-10', '2014-04-09', '2014-04-08',\n",
       "       '2014-04-06', '2014-04-05', '2014-04-04', '2014-04-03',\n",
       "       '2014-04-02', '2014-04-01', '2014-03-31', '2014-03-30',\n",
       "       '2014-03-29', '2014-03-28', '2014-03-27', '2014-03-26',\n",
       "       '2014-03-25', '2014-03-24', '2014-03-23', '2014-03-22',\n",
       "       '2014-03-21', '2014-03-20', '2014-03-19', '2014-03-18',\n",
       "       '2014-03-17', '2014-03-16', '2014-03-15', '2014-03-14',\n",
       "       '2014-03-13', '2014-03-12', '2014-03-11', '2014-03-10',\n",
       "       '2014-03-09', '2014-03-08', '2014-03-07', '2014-03-06',\n",
       "       '2014-03-05', '2014-03-04', '2014-03-03', '2014-03-02',\n",
       "       '2014-03-01', '2014-02-28', '2014-02-27', '2014-02-26',\n",
       "       '2014-02-25', '2014-02-24', '2014-02-23', '2014-02-22',\n",
       "       '2014-02-21', '2014-02-20', '2014-02-19', '2014-02-18',\n",
       "       '2014-02-13', '2014-02-12', '2014-02-11', '2014-02-10',\n",
       "       '2014-02-09', '2014-02-08', '2014-02-07', '2014-02-06',\n",
       "       '2014-02-05', '2014-02-04', '2014-02-03', '2014-02-02',\n",
       "       '2014-02-01', '2014-01-31', '2014-01-30', '2014-01-29',\n",
       "       '2014-01-28', '2014-01-27', '2014-01-26', '2014-01-25',\n",
       "       '2014-01-24', '2014-01-23', '2014-01-22', '2014-01-21',\n",
       "       '2014-01-20', '2014-01-19', '2014-01-18', '2014-01-17',\n",
       "       '2014-01-16', '2014-01-15', '2014-01-14', '2014-01-13',\n",
       "       '2014-01-12', '2014-01-11', '2014-01-10', '2014-01-09',\n",
       "       '2014-01-08', '2014-01-07', '2014-01-06', '2014-01-05',\n",
       "       '2014-01-04', '2014-01-03', '2014-01-02', '2014-01-01',\n",
       "       '2013-12-31', '2013-12-30', '2013-12-29', '2013-12-28',\n",
       "       '2013-12-27', '2013-12-26', '2013-12-25', '2013-12-23',\n",
       "       '2013-12-22', '2013-12-21', '2013-12-20', '2013-12-19',\n",
       "       '2013-12-18', '2013-12-17', '2013-12-16', '2013-12-15',\n",
       "       '2013-12-14', '2013-12-13', '2013-12-12', '2013-12-11',\n",
       "       '2013-12-10', '2013-12-09', '2013-12-08', '2013-12-07',\n",
       "       '2013-12-06', '2013-12-05', '2013-12-04', '2013-12-03',\n",
       "       '2013-12-02', '2013-12-01', '2013-11-30', '2013-11-29',\n",
       "       '2013-11-27', '2013-11-26', '2013-11-25', '2013-11-24',\n",
       "       '2013-11-23', '2013-11-22', '2013-11-21', '2013-11-20',\n",
       "       '2013-11-19', '2013-11-18', '2013-11-17', '2013-11-16',\n",
       "       '2013-11-15', '2013-11-14', '2013-11-13', '2013-11-12',\n",
       "       '2013-11-11', '2013-11-10', '2013-11-09', '2013-11-08',\n",
       "       '2013-11-07', '2013-11-06', '2013-11-05', '2013-11-04',\n",
       "       '2013-11-03', '2013-11-02', '2013-11-01', '2013-10-31',\n",
       "       '2013-10-30', '2013-10-29'], dtype=object)"
      ]
     },
     "execution_count": 4,
     "metadata": {},
     "output_type": "execute_result"
    }
   ],
   "source": [
    "data[\"GAME_DATE\"].unique()"
   ]
  },
  {
   "cell_type": "markdown",
   "metadata": {},
   "source": [
    "--------------\n",
    "### Task 1\n",
    "Split the data into **3** separate dataframes for each NBA season!"
   ]
  },
  {
   "cell_type": "code",
   "execution_count": 5,
   "metadata": {},
   "outputs": [],
   "source": [
    "data_2013 = data[data[\"SEASON_ID\"] == 22013]\n",
    "data_2014 = data[data[\"SEASON_ID\"] == 22014]\n",
    "data_2015 = data[data[\"SEASON_ID\"] == 22015]"
   ]
  },
  {
   "cell_type": "code",
   "execution_count": 6,
   "metadata": {},
   "outputs": [
    {
     "name": "stdout",
     "output_type": "stream",
     "text": [
      "There are 2460 games recorded in the 2013/2014 season.\n",
      "There are 2460 games recorded in the 2014/2015 season.\n",
      "There are 2460 games recorded in the 2015/2016 season.\n"
     ]
    }
   ],
   "source": [
    "print(f\"There are {len(data_2013)} games recorded in the 2013/2014 season.\")\n",
    "print(f\"There are {len(data_2014)} games recorded in the 2014/2015 season.\")\n",
    "print(f\"There are {len(data_2015)} games recorded in the 2015/2016 season.\")"
   ]
  },
  {
   "cell_type": "markdown",
   "metadata": {},
   "source": [
    "---------------\n",
    "### Task 2\n",
    "Test the hypothesis that the offensive productions stats of the Cleveland Cavaliers and Golden State Warriors (the teams that met in the finals that year) were from the same distribution in the 2015/2016 season.\n",
    "\n",
    "Offensive production refers to two variables: **PTS (Points)** and **FG_PCT (Field Goal Percentage)**. We will need to do two separate hypothesis tests, one for each variable."
   ]
  },
  {
   "attachments": {},
   "cell_type": "markdown",
   "metadata": {},
   "source": [
    "#### Team Data"
   ]
  },
  {
   "cell_type": "code",
   "execution_count": 7,
   "metadata": {},
   "outputs": [
    {
     "data": {
      "text/plain": [
       "array([1610612750, 1610612749, 1610612738, 1610612747, 1610612739,\n",
       "       1610612758, 1610612746, 1610612764, 1610612737, 1610612761,\n",
       "       1610612740, 1610612753, 1610612762, 1610612744, 1610612741,\n",
       "       1610612748, 1610612763, 1610612759, 1610612766, 1610612751,\n",
       "       1610612742, 1610612745, 1610612755, 1610612757, 1610612756,\n",
       "       1610612743, 1610612754, 1610612765, 1610612752, 1610612760])"
      ]
     },
     "execution_count": 7,
     "metadata": {},
     "output_type": "execute_result"
    }
   ],
   "source": [
    "data_2015[\"TEAM_ID\"].unique()"
   ]
  },
  {
   "cell_type": "code",
   "execution_count": 8,
   "metadata": {},
   "outputs": [
    {
     "data": {
      "text/plain": [
       "array(['Minnesota Timberwolves', 'Milwaukee Bucks', 'Boston Celtics',\n",
       "       'Los Angeles Lakers', 'Cleveland Cavaliers', 'Sacramento Kings',\n",
       "       'LA Clippers', 'Washington Wizards', 'Atlanta Hawks',\n",
       "       'Toronto Raptors', 'New Orleans Pelicans', 'Orlando Magic',\n",
       "       'Utah Jazz', 'Golden State Warriors', 'Chicago Bulls',\n",
       "       'Miami Heat', 'Memphis Grizzlies', 'San Antonio Spurs',\n",
       "       'Charlotte Hornets', 'Brooklyn Nets', 'Dallas Mavericks',\n",
       "       'Houston Rockets', 'Philadelphia 76ers', 'Portland Trail Blazers',\n",
       "       'Phoenix Suns', 'Denver Nuggets', 'Indiana Pacers',\n",
       "       'Detroit Pistons', 'New York Knicks', 'Oklahoma City Thunder'],\n",
       "      dtype=object)"
      ]
     },
     "execution_count": 8,
     "metadata": {},
     "output_type": "execute_result"
    }
   ],
   "source": [
    "data_2015[\"TEAM_NAME\"].unique()"
   ]
  },
  {
   "cell_type": "code",
   "execution_count": 9,
   "metadata": {},
   "outputs": [
    {
     "data": {
      "text/plain": [
       "array(['MIN', 'MIL', 'BOS', 'LAL', 'CLE', 'SAC', 'LAC', 'WAS', 'ATL',\n",
       "       'TOR', 'NOP', 'ORL', 'UTA', 'GSW', 'CHI', 'MIA', 'MEM', 'SAS',\n",
       "       'CHA', 'BKN', 'DAL', 'HOU', 'PHI', 'POR', 'PHX', 'DEN', 'IND',\n",
       "       'DET', 'NYK', 'OKC'], dtype=object)"
      ]
     },
     "execution_count": 9,
     "metadata": {},
     "output_type": "execute_result"
    }
   ],
   "source": [
    "data_2015[\"TEAM_ABBREVIATION\"].unique()"
   ]
  },
  {
   "attachments": {},
   "cell_type": "markdown",
   "metadata": {},
   "source": [
    "##### Isolate Cleveland and Warriors Stats"
   ]
  },
  {
   "cell_type": "code",
   "execution_count": 10,
   "metadata": {},
   "outputs": [],
   "source": [
    "data_2015_cavs = data_2015[data_2015[\"TEAM_ABBREVIATION\"] == \"CLE\"]\n",
    "data_2015_wars = data_2015[data_2015[\"TEAM_ABBREVIATION\"] == \"GSW\"]"
   ]
  },
  {
   "cell_type": "code",
   "execution_count": 11,
   "metadata": {},
   "outputs": [
    {
     "data": {
      "text/plain": [
       "246"
      ]
     },
     "execution_count": 11,
     "metadata": {},
     "output_type": "execute_result"
    }
   ],
   "source": [
    "len(data[data[\"TEAM_ABBREVIATION\"] == \"CLE\"])"
   ]
  },
  {
   "attachments": {},
   "cell_type": "markdown",
   "metadata": {},
   "source": [
    "#### Hypothesis Testing for `Points` (PTS)\n",
    "If the Cavs and the Warriors offensive production stats are from the same distribution in the 2015/2016 seasons, then the distribution of points should be similar.\n",
    "\n",
    "To do this, we will compare the two distributions against each other using the t-test, assuming that $$H_0: \\mu_{cavs} = \\mu_{wars}$$\n",
    "\n",
    "We will using a pair-wise $t-test$, which is calculated as follows: $$t = \\frac{\\bar(x_1) - \\bar(x_2)}{\\sigma{\\sqrt{\\frac{1}{n_1} + \\frac{1}{n_2}}}}$$\n",
    "\n",
    "A large $t$-value will reveal that the difference between groups is larger than the pooled standard error, indicating a more significant difference between the groups. But first, is it safe to assume that the standard deviations between the two teams are equal?"
   ]
  },
  {
   "attachments": {},
   "cell_type": "markdown",
   "metadata": {},
   "source": [
    "##### Levene's Test for Equality of Variances, $H0: s_1 = s_2$\n",
    "For this test, we will set the confidence level at $\\alpha =$ 0.05"
   ]
  },
  {
   "cell_type": "code",
   "execution_count": 12,
   "metadata": {},
   "outputs": [
    {
     "name": "stdout",
     "output_type": "stream",
     "text": [
      "The resulting p-value for Levene's test is 0.89 which is greater than the specified alpha value, 0.05.\n",
      "This suggests that the difference between the standard deviations of the two teams' PTS is insignificant.\n"
     ]
    }
   ],
   "source": [
    "ttest, pval_pts = st.levene(data_2015_cavs[\"PTS\"], data_2015_wars[\"PTS\"])\n",
    "print(f\"The resulting p-value for Levene's test is {pval_pts:.2f} which is greater than the specified alpha value, 0.05.\")\n",
    "print(\"This suggests that the difference between the standard deviations of the two teams' PTS is insignificant.\")"
   ]
  },
  {
   "attachments": {},
   "cell_type": "markdown",
   "metadata": {},
   "source": [
    "##### Finding $\\bar{x_1}$ and $\\bar{x_2}$"
   ]
  },
  {
   "cell_type": "code",
   "execution_count": 13,
   "metadata": {},
   "outputs": [],
   "source": [
    "# for the Cleveland Cavaliers, x1\n",
    "cavs_2015_pts_mean = st.tmean(data_2015_cavs[\"PTS\"])\n",
    "# for the Golden State Warriors, x2\n",
    "wars_2015_pts_mean = st.tmean(data_2015_wars[\"PTS\"])"
   ]
  },
  {
   "attachments": {},
   "cell_type": "markdown",
   "metadata": {},
   "source": [
    "##### Finding $s_1$ and $s_2$ to determine $\\sigma$ (*pooled standard variance*)"
   ]
  },
  {
   "cell_type": "code",
   "execution_count": 14,
   "metadata": {},
   "outputs": [
    {
     "data": {
      "text/plain": [
       "11.315425853726083"
      ]
     },
     "execution_count": 14,
     "metadata": {},
     "output_type": "execute_result"
    }
   ],
   "source": [
    "# for the Cleveland Cavaliers\n",
    "cavs_2015_pts_std = st.tstd(data_2015_cavs[\"PTS\"])\n",
    "# for the Golden State Warriors\n",
    "wars_2015_pts_std = st.tstd(data_2015_wars[\"PTS\"])\n",
    "# determine pooled standard variance\n",
    "pts_sigma = st.tmean([cavs_2015_pts_std, wars_2015_pts_std])\n",
    "pts_sigma"
   ]
  },
  {
   "attachments": {},
   "cell_type": "markdown",
   "metadata": {},
   "source": [
    "##### Finding $n_1$ and $n_2$"
   ]
  },
  {
   "cell_type": "code",
   "execution_count": 15,
   "metadata": {},
   "outputs": [],
   "source": [
    "# for the Cleveland Cavaliers\n",
    "cavs_2015_n = len(data_2015_cavs)\n",
    "# for the Golden State Warriors\n",
    "wars_2015_n = len(data_2015_wars)"
   ]
  },
  {
   "attachments": {},
   "cell_type": "markdown",
   "metadata": {},
   "source": [
    "##### Finding t-test values"
   ]
  },
  {
   "cell_type": "code",
   "execution_count": 16,
   "metadata": {},
   "outputs": [
    {
     "data": {
      "text/plain": [
       "-5.976199196736252"
      ]
     },
     "execution_count": 16,
     "metadata": {},
     "output_type": "execute_result"
    }
   ],
   "source": [
    "tstat_from_calc = (cavs_2015_pts_mean - wars_2015_pts_mean) / (pts_sigma * np.sqrt(1/cavs_2015_n + 1/wars_2015_n))\n",
    "tstat_from_calc"
   ]
  },
  {
   "attachments": {},
   "cell_type": "markdown",
   "metadata": {},
   "source": [
    "##### Using *scipy* ttest"
   ]
  },
  {
   "cell_type": "code",
   "execution_count": 17,
   "metadata": {},
   "outputs": [],
   "source": [
    "tstat_from_st, pvalue = st.ttest_ind(data_2015_cavs[\"PTS\"], data_2015_wars[\"PTS\"])"
   ]
  },
  {
   "cell_type": "code",
   "execution_count": 18,
   "metadata": {},
   "outputs": [
    {
     "name": "stdout",
     "output_type": "stream",
     "text": [
      "The t-statistic from the calculations: -5.98\n",
      "The t-statistic from the scipy module: -5.97\n"
     ]
    }
   ],
   "source": [
    "print(f\"The t-statistic from the calculations: {tstat_from_calc:.2f}\")\n",
    "print(f\"The t-statistic from the scipy module: {tstat_from_st:.2f}\")"
   ]
  },
  {
   "cell_type": "code",
   "execution_count": 19,
   "metadata": {},
   "outputs": [
    {
     "name": "stdout",
     "output_type": "stream",
     "text": [
      "The p-value rejects the null hypothesis that the points scored by the Cavs and the Warriors in the 2015/2016 season are from the same distribution.\n"
     ]
    }
   ],
   "source": [
    "print(f\"The p-value rejects the null hypothesis that the points scored by the Cavs and the Warriors in the 2015/2016 season are from the same distribution.\")"
   ]
  },
  {
   "attachments": {},
   "cell_type": "markdown",
   "metadata": {},
   "source": [
    "#### Hypothesis Testing for `Field Goal Percentage` (FG_PCT)"
   ]
  },
  {
   "attachments": {},
   "cell_type": "markdown",
   "metadata": {},
   "source": [
    "##### Levene's Test for Equality of Variances"
   ]
  },
  {
   "cell_type": "code",
   "execution_count": 20,
   "metadata": {},
   "outputs": [
    {
     "name": "stdout",
     "output_type": "stream",
     "text": [
      "The resulting p-value for Levene's test is 0.42 which is greater than the specified alpha value, 0.05.\n",
      "This suggests that the difference between the standard deviations of the two teams' field goal percentages is insignificant.\n"
     ]
    }
   ],
   "source": [
    "_, pval_fgpct = st.levene(data_2015_cavs[\"FG_PCT\"], data_2015_wars[\"FG_PCT\"])\n",
    "pval_fgpct\n",
    "print(f\"The resulting p-value for Levene's test is {pval_fgpct:.2f} which is greater than the specified alpha value, 0.05.\")\n",
    "print(\"This suggests that the difference between the standard deviations of the two teams' field goal percentages is insignificant.\")"
   ]
  },
  {
   "attachments": {},
   "cell_type": "markdown",
   "metadata": {},
   "source": [
    "##### Finding t-test values"
   ]
  },
  {
   "cell_type": "code",
   "execution_count": 21,
   "metadata": {},
   "outputs": [
    {
     "name": "stdout",
     "output_type": "stream",
     "text": [
      "0.00206097581047554\n"
     ]
    }
   ],
   "source": [
    "_, pvalue = st.ttest_ind(data_2015_cavs[\"FG_PCT\"], data_2015_wars[\"FG_PCT\"])\n",
    "print(pvalue)"
   ]
  },
  {
   "attachments": {},
   "cell_type": "markdown",
   "metadata": {},
   "source": [
    "---\n",
    "### Task 3\n",
    "Test the hypothesis that the number of points (PTS) scored by Cleveland Cavaliers changed significantly after the head coach changed in the 2015/2016 season.\n",
    "\n",
    "- **Coach Blatt was fired on 24th of Jan, 2016**. \n",
    "\n",
    "Use the data from seasons 2014/2015 and 2015/2016 - those are years when Cleveland was coached by Blatt. \n",
    "\n",
    "**We have two possible solutions to try here:**\n",
    "- Take the same amount of games from before and after and try t-test.\n",
    "- Take all the games from before and after and look for the right test to compare two samples with different sizes. (You will need to go through the scipy documentation or google to figure out what kind of test is required.)"
   ]
  },
  {
   "cell_type": "code",
   "execution_count": 22,
   "metadata": {},
   "outputs": [
    {
     "name": "stdout",
     "output_type": "stream",
     "text": [
      "4920\n"
     ]
    }
   ],
   "source": [
    "print(len(data_2014) + len(data_2015))\n",
    "data_2seasons = pd.concat([data_2014, data_2015])"
   ]
  },
  {
   "attachments": {},
   "cell_type": "markdown",
   "metadata": {},
   "source": [
    "#### Convert Dates to `datetime` Objects"
   ]
  },
  {
   "cell_type": "code",
   "execution_count": 23,
   "metadata": {},
   "outputs": [],
   "source": [
    "data_2seasons[\"GAME_DATE\"] = data_2seasons[\"GAME_DATE\"].apply(lambda x: dt.datetime.strptime(x, \"%Y-%m-%d\").date())"
   ]
  },
  {
   "cell_type": "code",
   "execution_count": 24,
   "metadata": {},
   "outputs": [
    {
     "name": "stdout",
     "output_type": "stream",
     "text": [
      "The NBA hosted a total of 4920 games in the 2014/2015 and 2015/2016 seasons.\n"
     ]
    }
   ],
   "source": [
    "print(f\"The NBA hosted a total of {len(data_2seasons)} games in the 2014/2015 and 2015/2016 seasons.\")"
   ]
  },
  {
   "attachments": {},
   "cell_type": "markdown",
   "metadata": {},
   "source": [
    "#### Isolate `Cleveland`"
   ]
  },
  {
   "cell_type": "code",
   "execution_count": 25,
   "metadata": {},
   "outputs": [],
   "source": [
    "data_cle = data_2seasons[data_2seasons[\"TEAM_ABBREVIATION\"] == \"CLE\"]"
   ]
  },
  {
   "cell_type": "code",
   "execution_count": 26,
   "metadata": {},
   "outputs": [
    {
     "name": "stdout",
     "output_type": "stream",
     "text": [
      "The Cleveland Cavaliers played a total of 164 games in the 2014/2015 and 2015/2016 seasons.\n"
     ]
    }
   ],
   "source": [
    "print(f\"The Cleveland Cavaliers played a total of {len(data_cle)} games in the 2014/2015 and 2015/2016 seasons.\")"
   ]
  },
  {
   "attachments": {},
   "cell_type": "markdown",
   "metadata": {},
   "source": [
    "#### Use `GAME_DATE` to Divide Games Before and After Blatt"
   ]
  },
  {
   "cell_type": "code",
   "execution_count": 27,
   "metadata": {},
   "outputs": [],
   "source": [
    "data_cle_after_blatt = data_cle[data_cle[\"GAME_DATE\"] > dt.date(2016, 1, 24)]\n",
    "data_cle_before_blatt = data_cle[data_cle[\"GAME_DATE\"] <= dt.date(2016, 1, 24)]"
   ]
  },
  {
   "cell_type": "code",
   "execution_count": 28,
   "metadata": {},
   "outputs": [
    {
     "data": {
      "text/html": [
       "<div>\n",
       "<style scoped>\n",
       "    .dataframe tbody tr th:only-of-type {\n",
       "        vertical-align: middle;\n",
       "    }\n",
       "\n",
       "    .dataframe tbody tr th {\n",
       "        vertical-align: top;\n",
       "    }\n",
       "\n",
       "    .dataframe thead th {\n",
       "        text-align: right;\n",
       "    }\n",
       "</style>\n",
       "<table border=\"1\" class=\"dataframe\">\n",
       "  <thead>\n",
       "    <tr style=\"text-align: right;\">\n",
       "      <th></th>\n",
       "      <th>SEASON_ID</th>\n",
       "      <th>TEAM_ID</th>\n",
       "      <th>TEAM_ABBREVIATION</th>\n",
       "      <th>TEAM_NAME</th>\n",
       "      <th>GAME_ID</th>\n",
       "      <th>GAME_DATE</th>\n",
       "      <th>MATCHUP</th>\n",
       "      <th>WL</th>\n",
       "      <th>MIN</th>\n",
       "      <th>PTS</th>\n",
       "      <th>...</th>\n",
       "      <th>FT_PCT</th>\n",
       "      <th>OREB</th>\n",
       "      <th>DREB</th>\n",
       "      <th>REB</th>\n",
       "      <th>AST</th>\n",
       "      <th>STL</th>\n",
       "      <th>BLK</th>\n",
       "      <th>TOV</th>\n",
       "      <th>PF</th>\n",
       "      <th>PLUS_MINUS</th>\n",
       "    </tr>\n",
       "  </thead>\n",
       "  <tbody>\n",
       "    <tr>\n",
       "      <th>4881</th>\n",
       "      <td>22014</td>\n",
       "      <td>1610612739</td>\n",
       "      <td>CLE</td>\n",
       "      <td>Cleveland Cavaliers</td>\n",
       "      <td>21400018</td>\n",
       "      <td>2014-10-30</td>\n",
       "      <td>CLE vs. NYK</td>\n",
       "      <td>L</td>\n",
       "      <td>240</td>\n",
       "      <td>90</td>\n",
       "      <td>...</td>\n",
       "      <td>0.850</td>\n",
       "      <td>11</td>\n",
       "      <td>22</td>\n",
       "      <td>33</td>\n",
       "      <td>22</td>\n",
       "      <td>5</td>\n",
       "      <td>2</td>\n",
       "      <td>19</td>\n",
       "      <td>15</td>\n",
       "      <td>-5.0</td>\n",
       "    </tr>\n",
       "    <tr>\n",
       "      <th>4877</th>\n",
       "      <td>22014</td>\n",
       "      <td>1610612739</td>\n",
       "      <td>CLE</td>\n",
       "      <td>Cleveland Cavaliers</td>\n",
       "      <td>21400022</td>\n",
       "      <td>2014-10-31</td>\n",
       "      <td>CLE @ CHI</td>\n",
       "      <td>W</td>\n",
       "      <td>265</td>\n",
       "      <td>114</td>\n",
       "      <td>...</td>\n",
       "      <td>0.879</td>\n",
       "      <td>20</td>\n",
       "      <td>32</td>\n",
       "      <td>52</td>\n",
       "      <td>18</td>\n",
       "      <td>8</td>\n",
       "      <td>4</td>\n",
       "      <td>9</td>\n",
       "      <td>18</td>\n",
       "      <td>6.0</td>\n",
       "    </tr>\n",
       "    <tr>\n",
       "      <th>4815</th>\n",
       "      <td>22014</td>\n",
       "      <td>1610612739</td>\n",
       "      <td>CLE</td>\n",
       "      <td>Cleveland Cavaliers</td>\n",
       "      <td>21400055</td>\n",
       "      <td>2014-11-04</td>\n",
       "      <td>CLE @ POR</td>\n",
       "      <td>L</td>\n",
       "      <td>241</td>\n",
       "      <td>82</td>\n",
       "      <td>...</td>\n",
       "      <td>0.786</td>\n",
       "      <td>13</td>\n",
       "      <td>28</td>\n",
       "      <td>41</td>\n",
       "      <td>18</td>\n",
       "      <td>5</td>\n",
       "      <td>3</td>\n",
       "      <td>14</td>\n",
       "      <td>19</td>\n",
       "      <td>-19.0</td>\n",
       "    </tr>\n",
       "    <tr>\n",
       "      <th>4792</th>\n",
       "      <td>22014</td>\n",
       "      <td>1610612739</td>\n",
       "      <td>CLE</td>\n",
       "      <td>Cleveland Cavaliers</td>\n",
       "      <td>21400066</td>\n",
       "      <td>2014-11-05</td>\n",
       "      <td>CLE @ UTA</td>\n",
       "      <td>L</td>\n",
       "      <td>241</td>\n",
       "      <td>100</td>\n",
       "      <td>...</td>\n",
       "      <td>0.850</td>\n",
       "      <td>7</td>\n",
       "      <td>23</td>\n",
       "      <td>30</td>\n",
       "      <td>6</td>\n",
       "      <td>8</td>\n",
       "      <td>4</td>\n",
       "      <td>12</td>\n",
       "      <td>22</td>\n",
       "      <td>-2.0</td>\n",
       "    </tr>\n",
       "    <tr>\n",
       "      <th>4779</th>\n",
       "      <td>22014</td>\n",
       "      <td>1610612739</td>\n",
       "      <td>CLE</td>\n",
       "      <td>Cleveland Cavaliers</td>\n",
       "      <td>21400081</td>\n",
       "      <td>2014-11-07</td>\n",
       "      <td>CLE @ DEN</td>\n",
       "      <td>W</td>\n",
       "      <td>240</td>\n",
       "      <td>110</td>\n",
       "      <td>...</td>\n",
       "      <td>0.727</td>\n",
       "      <td>6</td>\n",
       "      <td>36</td>\n",
       "      <td>42</td>\n",
       "      <td>25</td>\n",
       "      <td>5</td>\n",
       "      <td>3</td>\n",
       "      <td>8</td>\n",
       "      <td>14</td>\n",
       "      <td>9.0</td>\n",
       "    </tr>\n",
       "    <tr>\n",
       "      <th>4725</th>\n",
       "      <td>22014</td>\n",
       "      <td>1610612739</td>\n",
       "      <td>CLE</td>\n",
       "      <td>Cleveland Cavaliers</td>\n",
       "      <td>21400098</td>\n",
       "      <td>2014-11-10</td>\n",
       "      <td>CLE vs. NOP</td>\n",
       "      <td>W</td>\n",
       "      <td>241</td>\n",
       "      <td>118</td>\n",
       "      <td>...</td>\n",
       "      <td>0.833</td>\n",
       "      <td>12</td>\n",
       "      <td>33</td>\n",
       "      <td>45</td>\n",
       "      <td>26</td>\n",
       "      <td>3</td>\n",
       "      <td>5</td>\n",
       "      <td>9</td>\n",
       "      <td>13</td>\n",
       "      <td>7.0</td>\n",
       "    </tr>\n",
       "    <tr>\n",
       "      <th>4659</th>\n",
       "      <td>22014</td>\n",
       "      <td>1610612739</td>\n",
       "      <td>CLE</td>\n",
       "      <td>Cleveland Cavaliers</td>\n",
       "      <td>21400125</td>\n",
       "      <td>2014-11-14</td>\n",
       "      <td>CLE @ BOS</td>\n",
       "      <td>W</td>\n",
       "      <td>240</td>\n",
       "      <td>122</td>\n",
       "      <td>...</td>\n",
       "      <td>0.757</td>\n",
       "      <td>8</td>\n",
       "      <td>32</td>\n",
       "      <td>40</td>\n",
       "      <td>22</td>\n",
       "      <td>5</td>\n",
       "      <td>5</td>\n",
       "      <td>11</td>\n",
       "      <td>21</td>\n",
       "      <td>1.0</td>\n",
       "    </tr>\n",
       "    <tr>\n",
       "      <th>4657</th>\n",
       "      <td>22014</td>\n",
       "      <td>1610612739</td>\n",
       "      <td>CLE</td>\n",
       "      <td>Cleveland Cavaliers</td>\n",
       "      <td>21400133</td>\n",
       "      <td>2014-11-15</td>\n",
       "      <td>CLE vs. ATL</td>\n",
       "      <td>W</td>\n",
       "      <td>239</td>\n",
       "      <td>127</td>\n",
       "      <td>...</td>\n",
       "      <td>0.769</td>\n",
       "      <td>12</td>\n",
       "      <td>35</td>\n",
       "      <td>47</td>\n",
       "      <td>39</td>\n",
       "      <td>12</td>\n",
       "      <td>2</td>\n",
       "      <td>13</td>\n",
       "      <td>14</td>\n",
       "      <td>33.0</td>\n",
       "    </tr>\n",
       "    <tr>\n",
       "      <th>4614</th>\n",
       "      <td>22014</td>\n",
       "      <td>1610612739</td>\n",
       "      <td>CLE</td>\n",
       "      <td>Cleveland Cavaliers</td>\n",
       "      <td>21400147</td>\n",
       "      <td>2014-11-17</td>\n",
       "      <td>CLE vs. DEN</td>\n",
       "      <td>L</td>\n",
       "      <td>239</td>\n",
       "      <td>97</td>\n",
       "      <td>...</td>\n",
       "      <td>0.826</td>\n",
       "      <td>9</td>\n",
       "      <td>33</td>\n",
       "      <td>42</td>\n",
       "      <td>18</td>\n",
       "      <td>7</td>\n",
       "      <td>8</td>\n",
       "      <td>15</td>\n",
       "      <td>15</td>\n",
       "      <td>-9.0</td>\n",
       "    </tr>\n",
       "    <tr>\n",
       "      <th>4600</th>\n",
       "      <td>22014</td>\n",
       "      <td>1610612739</td>\n",
       "      <td>CLE</td>\n",
       "      <td>Cleveland Cavaliers</td>\n",
       "      <td>21400159</td>\n",
       "      <td>2014-11-19</td>\n",
       "      <td>CLE vs. SAS</td>\n",
       "      <td>L</td>\n",
       "      <td>239</td>\n",
       "      <td>90</td>\n",
       "      <td>...</td>\n",
       "      <td>0.692</td>\n",
       "      <td>10</td>\n",
       "      <td>28</td>\n",
       "      <td>38</td>\n",
       "      <td>23</td>\n",
       "      <td>7</td>\n",
       "      <td>5</td>\n",
       "      <td>16</td>\n",
       "      <td>21</td>\n",
       "      <td>-2.0</td>\n",
       "    </tr>\n",
       "  </tbody>\n",
       "</table>\n",
       "<p>10 rows × 28 columns</p>\n",
       "</div>"
      ],
      "text/plain": [
       "      SEASON_ID     TEAM_ID TEAM_ABBREVIATION            TEAM_NAME   GAME_ID  \\\n",
       "4881      22014  1610612739               CLE  Cleveland Cavaliers  21400018   \n",
       "4877      22014  1610612739               CLE  Cleveland Cavaliers  21400022   \n",
       "4815      22014  1610612739               CLE  Cleveland Cavaliers  21400055   \n",
       "4792      22014  1610612739               CLE  Cleveland Cavaliers  21400066   \n",
       "4779      22014  1610612739               CLE  Cleveland Cavaliers  21400081   \n",
       "4725      22014  1610612739               CLE  Cleveland Cavaliers  21400098   \n",
       "4659      22014  1610612739               CLE  Cleveland Cavaliers  21400125   \n",
       "4657      22014  1610612739               CLE  Cleveland Cavaliers  21400133   \n",
       "4614      22014  1610612739               CLE  Cleveland Cavaliers  21400147   \n",
       "4600      22014  1610612739               CLE  Cleveland Cavaliers  21400159   \n",
       "\n",
       "       GAME_DATE      MATCHUP WL  MIN  PTS  ...  FT_PCT  OREB  DREB  REB  AST  \\\n",
       "4881  2014-10-30  CLE vs. NYK  L  240   90  ...   0.850    11    22   33   22   \n",
       "4877  2014-10-31    CLE @ CHI  W  265  114  ...   0.879    20    32   52   18   \n",
       "4815  2014-11-04    CLE @ POR  L  241   82  ...   0.786    13    28   41   18   \n",
       "4792  2014-11-05    CLE @ UTA  L  241  100  ...   0.850     7    23   30    6   \n",
       "4779  2014-11-07    CLE @ DEN  W  240  110  ...   0.727     6    36   42   25   \n",
       "4725  2014-11-10  CLE vs. NOP  W  241  118  ...   0.833    12    33   45   26   \n",
       "4659  2014-11-14    CLE @ BOS  W  240  122  ...   0.757     8    32   40   22   \n",
       "4657  2014-11-15  CLE vs. ATL  W  239  127  ...   0.769    12    35   47   39   \n",
       "4614  2014-11-17  CLE vs. DEN  L  239   97  ...   0.826     9    33   42   18   \n",
       "4600  2014-11-19  CLE vs. SAS  L  239   90  ...   0.692    10    28   38   23   \n",
       "\n",
       "      STL  BLK  TOV  PF  PLUS_MINUS  \n",
       "4881    5    2   19  15        -5.0  \n",
       "4877    8    4    9  18         6.0  \n",
       "4815    5    3   14  19       -19.0  \n",
       "4792    8    4   12  22        -2.0  \n",
       "4779    5    3    8  14         9.0  \n",
       "4725    3    5    9  13         7.0  \n",
       "4659    5    5   11  21         1.0  \n",
       "4657   12    2   13  14        33.0  \n",
       "4614    7    8   15  15        -9.0  \n",
       "4600    7    5   16  21        -2.0  \n",
       "\n",
       "[10 rows x 28 columns]"
      ]
     },
     "execution_count": 28,
     "metadata": {},
     "output_type": "execute_result"
    }
   ],
   "source": [
    "data_cle_before_blatt.sort_values(by=\"GAME_DATE\").head(10)"
   ]
  },
  {
   "cell_type": "code",
   "execution_count": 29,
   "metadata": {},
   "outputs": [
    {
     "data": {
      "text/html": [
       "<div>\n",
       "<style scoped>\n",
       "    .dataframe tbody tr th:only-of-type {\n",
       "        vertical-align: middle;\n",
       "    }\n",
       "\n",
       "    .dataframe tbody tr th {\n",
       "        vertical-align: top;\n",
       "    }\n",
       "\n",
       "    .dataframe thead th {\n",
       "        text-align: right;\n",
       "    }\n",
       "</style>\n",
       "<table border=\"1\" class=\"dataframe\">\n",
       "  <thead>\n",
       "    <tr style=\"text-align: right;\">\n",
       "      <th></th>\n",
       "      <th>SEASON_ID</th>\n",
       "      <th>TEAM_ID</th>\n",
       "      <th>TEAM_ABBREVIATION</th>\n",
       "      <th>TEAM_NAME</th>\n",
       "      <th>GAME_ID</th>\n",
       "      <th>GAME_DATE</th>\n",
       "      <th>MATCHUP</th>\n",
       "      <th>WL</th>\n",
       "      <th>MIN</th>\n",
       "      <th>PTS</th>\n",
       "      <th>...</th>\n",
       "      <th>FT_PCT</th>\n",
       "      <th>OREB</th>\n",
       "      <th>DREB</th>\n",
       "      <th>REB</th>\n",
       "      <th>AST</th>\n",
       "      <th>STL</th>\n",
       "      <th>BLK</th>\n",
       "      <th>TOV</th>\n",
       "      <th>PF</th>\n",
       "      <th>PLUS_MINUS</th>\n",
       "    </tr>\n",
       "  </thead>\n",
       "  <tbody>\n",
       "    <tr>\n",
       "      <th>1129</th>\n",
       "      <td>22015</td>\n",
       "      <td>1610612739</td>\n",
       "      <td>CLE</td>\n",
       "      <td>Cleveland Cavaliers</td>\n",
       "      <td>21500667</td>\n",
       "      <td>2016-01-25</td>\n",
       "      <td>CLE vs. MIN</td>\n",
       "      <td>W</td>\n",
       "      <td>239</td>\n",
       "      <td>114</td>\n",
       "      <td>...</td>\n",
       "      <td>0.650</td>\n",
       "      <td>12</td>\n",
       "      <td>31</td>\n",
       "      <td>43</td>\n",
       "      <td>30</td>\n",
       "      <td>7</td>\n",
       "      <td>3</td>\n",
       "      <td>15</td>\n",
       "      <td>18</td>\n",
       "      <td>7.0</td>\n",
       "    </tr>\n",
       "    <tr>\n",
       "      <th>1083</th>\n",
       "      <td>22015</td>\n",
       "      <td>1610612739</td>\n",
       "      <td>CLE</td>\n",
       "      <td>Cleveland Cavaliers</td>\n",
       "      <td>21500684</td>\n",
       "      <td>2016-01-27</td>\n",
       "      <td>CLE vs. PHX</td>\n",
       "      <td>W</td>\n",
       "      <td>239</td>\n",
       "      <td>115</td>\n",
       "      <td>...</td>\n",
       "      <td>0.875</td>\n",
       "      <td>10</td>\n",
       "      <td>27</td>\n",
       "      <td>37</td>\n",
       "      <td>34</td>\n",
       "      <td>12</td>\n",
       "      <td>3</td>\n",
       "      <td>13</td>\n",
       "      <td>17</td>\n",
       "      <td>22.0</td>\n",
       "    </tr>\n",
       "    <tr>\n",
       "      <th>1055</th>\n",
       "      <td>22015</td>\n",
       "      <td>1610612739</td>\n",
       "      <td>CLE</td>\n",
       "      <td>Cleveland Cavaliers</td>\n",
       "      <td>21500699</td>\n",
       "      <td>2016-01-29</td>\n",
       "      <td>CLE @ DET</td>\n",
       "      <td>W</td>\n",
       "      <td>240</td>\n",
       "      <td>114</td>\n",
       "      <td>...</td>\n",
       "      <td>0.931</td>\n",
       "      <td>10</td>\n",
       "      <td>37</td>\n",
       "      <td>47</td>\n",
       "      <td>20</td>\n",
       "      <td>4</td>\n",
       "      <td>1</td>\n",
       "      <td>7</td>\n",
       "      <td>25</td>\n",
       "      <td>8.0</td>\n",
       "    </tr>\n",
       "    <tr>\n",
       "      <th>1038</th>\n",
       "      <td>22015</td>\n",
       "      <td>1610612739</td>\n",
       "      <td>CLE</td>\n",
       "      <td>Cleveland Cavaliers</td>\n",
       "      <td>21500713</td>\n",
       "      <td>2016-01-30</td>\n",
       "      <td>CLE vs. SAS</td>\n",
       "      <td>W</td>\n",
       "      <td>240</td>\n",
       "      <td>117</td>\n",
       "      <td>...</td>\n",
       "      <td>0.857</td>\n",
       "      <td>10</td>\n",
       "      <td>33</td>\n",
       "      <td>43</td>\n",
       "      <td>24</td>\n",
       "      <td>4</td>\n",
       "      <td>4</td>\n",
       "      <td>9</td>\n",
       "      <td>21</td>\n",
       "      <td>14.0</td>\n",
       "    </tr>\n",
       "    <tr>\n",
       "      <th>1017</th>\n",
       "      <td>22015</td>\n",
       "      <td>1610612739</td>\n",
       "      <td>CLE</td>\n",
       "      <td>Cleveland Cavaliers</td>\n",
       "      <td>21500721</td>\n",
       "      <td>2016-02-01</td>\n",
       "      <td>CLE @ IND</td>\n",
       "      <td>W</td>\n",
       "      <td>265</td>\n",
       "      <td>111</td>\n",
       "      <td>...</td>\n",
       "      <td>0.696</td>\n",
       "      <td>10</td>\n",
       "      <td>35</td>\n",
       "      <td>45</td>\n",
       "      <td>22</td>\n",
       "      <td>8</td>\n",
       "      <td>3</td>\n",
       "      <td>16</td>\n",
       "      <td>19</td>\n",
       "      <td>5.0</td>\n",
       "    </tr>\n",
       "    <tr>\n",
       "      <th>983</th>\n",
       "      <td>22015</td>\n",
       "      <td>1610612739</td>\n",
       "      <td>CLE</td>\n",
       "      <td>Cleveland Cavaliers</td>\n",
       "      <td>21500735</td>\n",
       "      <td>2016-02-03</td>\n",
       "      <td>CLE @ CHA</td>\n",
       "      <td>L</td>\n",
       "      <td>239</td>\n",
       "      <td>97</td>\n",
       "      <td>...</td>\n",
       "      <td>0.786</td>\n",
       "      <td>3</td>\n",
       "      <td>25</td>\n",
       "      <td>28</td>\n",
       "      <td>16</td>\n",
       "      <td>9</td>\n",
       "      <td>5</td>\n",
       "      <td>7</td>\n",
       "      <td>19</td>\n",
       "      <td>-9.0</td>\n",
       "    </tr>\n",
       "    <tr>\n",
       "      <th>958</th>\n",
       "      <td>22015</td>\n",
       "      <td>1610612739</td>\n",
       "      <td>CLE</td>\n",
       "      <td>Cleveland Cavaliers</td>\n",
       "      <td>21500755</td>\n",
       "      <td>2016-02-05</td>\n",
       "      <td>CLE vs. BOS</td>\n",
       "      <td>L</td>\n",
       "      <td>240</td>\n",
       "      <td>103</td>\n",
       "      <td>...</td>\n",
       "      <td>0.600</td>\n",
       "      <td>15</td>\n",
       "      <td>32</td>\n",
       "      <td>47</td>\n",
       "      <td>21</td>\n",
       "      <td>8</td>\n",
       "      <td>6</td>\n",
       "      <td>14</td>\n",
       "      <td>25</td>\n",
       "      <td>-1.0</td>\n",
       "    </tr>\n",
       "    <tr>\n",
       "      <th>941</th>\n",
       "      <td>22015</td>\n",
       "      <td>1610612739</td>\n",
       "      <td>CLE</td>\n",
       "      <td>Cleveland Cavaliers</td>\n",
       "      <td>21500763</td>\n",
       "      <td>2016-02-06</td>\n",
       "      <td>CLE vs. NOP</td>\n",
       "      <td>W</td>\n",
       "      <td>239</td>\n",
       "      <td>99</td>\n",
       "      <td>...</td>\n",
       "      <td>1.000</td>\n",
       "      <td>10</td>\n",
       "      <td>39</td>\n",
       "      <td>49</td>\n",
       "      <td>21</td>\n",
       "      <td>6</td>\n",
       "      <td>6</td>\n",
       "      <td>12</td>\n",
       "      <td>17</td>\n",
       "      <td>15.0</td>\n",
       "    </tr>\n",
       "    <tr>\n",
       "      <th>905</th>\n",
       "      <td>22015</td>\n",
       "      <td>1610612739</td>\n",
       "      <td>CLE</td>\n",
       "      <td>Cleveland Cavaliers</td>\n",
       "      <td>21500775</td>\n",
       "      <td>2016-02-08</td>\n",
       "      <td>CLE vs. SAC</td>\n",
       "      <td>W</td>\n",
       "      <td>241</td>\n",
       "      <td>120</td>\n",
       "      <td>...</td>\n",
       "      <td>0.737</td>\n",
       "      <td>12</td>\n",
       "      <td>41</td>\n",
       "      <td>53</td>\n",
       "      <td>27</td>\n",
       "      <td>7</td>\n",
       "      <td>5</td>\n",
       "      <td>14</td>\n",
       "      <td>25</td>\n",
       "      <td>20.0</td>\n",
       "    </tr>\n",
       "    <tr>\n",
       "      <th>875</th>\n",
       "      <td>22015</td>\n",
       "      <td>1610612739</td>\n",
       "      <td>CLE</td>\n",
       "      <td>Cleveland Cavaliers</td>\n",
       "      <td>21500795</td>\n",
       "      <td>2016-02-10</td>\n",
       "      <td>CLE vs. LAL</td>\n",
       "      <td>W</td>\n",
       "      <td>241</td>\n",
       "      <td>120</td>\n",
       "      <td>...</td>\n",
       "      <td>0.611</td>\n",
       "      <td>13</td>\n",
       "      <td>33</td>\n",
       "      <td>46</td>\n",
       "      <td>26</td>\n",
       "      <td>6</td>\n",
       "      <td>1</td>\n",
       "      <td>6</td>\n",
       "      <td>20</td>\n",
       "      <td>9.0</td>\n",
       "    </tr>\n",
       "  </tbody>\n",
       "</table>\n",
       "<p>10 rows × 28 columns</p>\n",
       "</div>"
      ],
      "text/plain": [
       "      SEASON_ID     TEAM_ID TEAM_ABBREVIATION            TEAM_NAME   GAME_ID  \\\n",
       "1129      22015  1610612739               CLE  Cleveland Cavaliers  21500667   \n",
       "1083      22015  1610612739               CLE  Cleveland Cavaliers  21500684   \n",
       "1055      22015  1610612739               CLE  Cleveland Cavaliers  21500699   \n",
       "1038      22015  1610612739               CLE  Cleveland Cavaliers  21500713   \n",
       "1017      22015  1610612739               CLE  Cleveland Cavaliers  21500721   \n",
       "983       22015  1610612739               CLE  Cleveland Cavaliers  21500735   \n",
       "958       22015  1610612739               CLE  Cleveland Cavaliers  21500755   \n",
       "941       22015  1610612739               CLE  Cleveland Cavaliers  21500763   \n",
       "905       22015  1610612739               CLE  Cleveland Cavaliers  21500775   \n",
       "875       22015  1610612739               CLE  Cleveland Cavaliers  21500795   \n",
       "\n",
       "       GAME_DATE      MATCHUP WL  MIN  PTS  ...  FT_PCT  OREB  DREB  REB  AST  \\\n",
       "1129  2016-01-25  CLE vs. MIN  W  239  114  ...   0.650    12    31   43   30   \n",
       "1083  2016-01-27  CLE vs. PHX  W  239  115  ...   0.875    10    27   37   34   \n",
       "1055  2016-01-29    CLE @ DET  W  240  114  ...   0.931    10    37   47   20   \n",
       "1038  2016-01-30  CLE vs. SAS  W  240  117  ...   0.857    10    33   43   24   \n",
       "1017  2016-02-01    CLE @ IND  W  265  111  ...   0.696    10    35   45   22   \n",
       "983   2016-02-03    CLE @ CHA  L  239   97  ...   0.786     3    25   28   16   \n",
       "958   2016-02-05  CLE vs. BOS  L  240  103  ...   0.600    15    32   47   21   \n",
       "941   2016-02-06  CLE vs. NOP  W  239   99  ...   1.000    10    39   49   21   \n",
       "905   2016-02-08  CLE vs. SAC  W  241  120  ...   0.737    12    41   53   27   \n",
       "875   2016-02-10  CLE vs. LAL  W  241  120  ...   0.611    13    33   46   26   \n",
       "\n",
       "      STL  BLK  TOV  PF  PLUS_MINUS  \n",
       "1129    7    3   15  18         7.0  \n",
       "1083   12    3   13  17        22.0  \n",
       "1055    4    1    7  25         8.0  \n",
       "1038    4    4    9  21        14.0  \n",
       "1017    8    3   16  19         5.0  \n",
       "983     9    5    7  19        -9.0  \n",
       "958     8    6   14  25        -1.0  \n",
       "941     6    6   12  17        15.0  \n",
       "905     7    5   14  25        20.0  \n",
       "875     6    1    6  20         9.0  \n",
       "\n",
       "[10 rows x 28 columns]"
      ]
     },
     "execution_count": 29,
     "metadata": {},
     "output_type": "execute_result"
    }
   ],
   "source": [
    "data_cle_after_blatt.sort_values(by=\"GAME_DATE\").head(10)"
   ]
  },
  {
   "attachments": {},
   "cell_type": "markdown",
   "metadata": {},
   "source": [
    "#### Levene's Test for Equality of Variances"
   ]
  },
  {
   "cell_type": "code",
   "execution_count": 30,
   "metadata": {},
   "outputs": [
    {
     "name": "stdout",
     "output_type": "stream",
     "text": [
      "Given a significance level of 0.05, the p-value of 0.02 rejects the hypothesis that the points scored before and after Blatt do not vary significantly.\n"
     ]
    }
   ],
   "source": [
    "_, pval_blatt = st.levene(data_cle_before_blatt[\"PTS\"], data_cle_after_blatt[\"PTS\"])\n",
    "print(f\"Given a significance level of 0.05, the p-value of {pval_blatt:.2f} rejects the hypothesis that the points scored before and after Blatt do not vary significantly.\")"
   ]
  },
  {
   "attachments": {},
   "cell_type": "markdown",
   "metadata": {},
   "source": [
    "#### Find `t-statistic` and `p-value`\n",
    "Given that the standard deviation of each sample set cannot be pooled, unequal variance must be specified in the `ttest_ind` to perform a Welch's t-test."
   ]
  },
  {
   "cell_type": "code",
   "execution_count": 31,
   "metadata": {},
   "outputs": [
    {
     "name": "stdout",
     "output_type": "stream",
     "text": [
      "Given a significance level of 0.05, the p-value of 0.00 resulting from the t-test comparing the PTS (points) data for the Cleveland Cavaliers before and after Blatt rejects the hypothesis that the two distributions are similarly distributed.\n"
     ]
    }
   ],
   "source": [
    "_, pval_blatt = st.ttest_ind(data_cle_before_blatt[\"PTS\"], data_cle_after_blatt[\"PTS\"], equal_var=False)\n",
    "print(f\"Given a significance level of 0.05, the p-value of {pval_blatt:.2f} resulting from the t-test comparing the PTS (points) data for the Cleveland Cavaliers before and after Blatt rejects the hypothesis that the two distributions are similarly distributed.\")"
   ]
  },
  {
   "cell_type": "markdown",
   "metadata": {},
   "source": [
    "----------------\n",
    "\n",
    "\n",
    "### Task 4\n",
    "Download [**the similar dataset**](https://drive.google.com/file/d/0Bz9_0VdXvv9bRHhuRTI1aXBQcTA/view?usp=sharing&resourcekey=0-jGIaWyk0bXyECNSzB3x38w) with scores from playoff games in 2016."
   ]
  },
  {
   "cell_type": "code",
   "execution_count": 32,
   "metadata": {},
   "outputs": [
    {
     "data": {
      "text/html": [
       "<div>\n",
       "<style scoped>\n",
       "    .dataframe tbody tr th:only-of-type {\n",
       "        vertical-align: middle;\n",
       "    }\n",
       "\n",
       "    .dataframe tbody tr th {\n",
       "        vertical-align: top;\n",
       "    }\n",
       "\n",
       "    .dataframe thead th {\n",
       "        text-align: right;\n",
       "    }\n",
       "</style>\n",
       "<table border=\"1\" class=\"dataframe\">\n",
       "  <thead>\n",
       "    <tr style=\"text-align: right;\">\n",
       "      <th></th>\n",
       "      <th>SEASON_ID</th>\n",
       "      <th>TEAM_ID</th>\n",
       "      <th>TEAM_ABBREVIATION</th>\n",
       "      <th>TEAM_NAME</th>\n",
       "      <th>GAME_ID</th>\n",
       "      <th>GAME_DATE</th>\n",
       "      <th>MATCHUP</th>\n",
       "      <th>WL</th>\n",
       "      <th>MIN</th>\n",
       "      <th>PTS</th>\n",
       "      <th>...</th>\n",
       "      <th>FT_PCT</th>\n",
       "      <th>OREB</th>\n",
       "      <th>DREB</th>\n",
       "      <th>REB</th>\n",
       "      <th>AST</th>\n",
       "      <th>STL</th>\n",
       "      <th>BLK</th>\n",
       "      <th>TOV</th>\n",
       "      <th>PF</th>\n",
       "      <th>PLUS_MINUS</th>\n",
       "    </tr>\n",
       "  </thead>\n",
       "  <tbody>\n",
       "    <tr>\n",
       "      <th>0</th>\n",
       "      <td>42015</td>\n",
       "      <td>1610612739</td>\n",
       "      <td>CLE</td>\n",
       "      <td>Cleveland Cavaliers</td>\n",
       "      <td>41500407</td>\n",
       "      <td>2016-06-19</td>\n",
       "      <td>CLE @ GSW</td>\n",
       "      <td>W</td>\n",
       "      <td>241</td>\n",
       "      <td>93</td>\n",
       "      <td>...</td>\n",
       "      <td>0.840</td>\n",
       "      <td>9</td>\n",
       "      <td>39</td>\n",
       "      <td>48</td>\n",
       "      <td>17</td>\n",
       "      <td>7</td>\n",
       "      <td>6</td>\n",
       "      <td>11</td>\n",
       "      <td>15</td>\n",
       "      <td>4.0</td>\n",
       "    </tr>\n",
       "    <tr>\n",
       "      <th>1</th>\n",
       "      <td>42015</td>\n",
       "      <td>1610612744</td>\n",
       "      <td>GSW</td>\n",
       "      <td>Golden State Warriors</td>\n",
       "      <td>41500407</td>\n",
       "      <td>2016-06-19</td>\n",
       "      <td>GSW vs. CLE</td>\n",
       "      <td>L</td>\n",
       "      <td>239</td>\n",
       "      <td>89</td>\n",
       "      <td>...</td>\n",
       "      <td>0.769</td>\n",
       "      <td>7</td>\n",
       "      <td>32</td>\n",
       "      <td>39</td>\n",
       "      <td>22</td>\n",
       "      <td>7</td>\n",
       "      <td>5</td>\n",
       "      <td>10</td>\n",
       "      <td>23</td>\n",
       "      <td>-4.0</td>\n",
       "    </tr>\n",
       "    <tr>\n",
       "      <th>2</th>\n",
       "      <td>42015</td>\n",
       "      <td>1610612744</td>\n",
       "      <td>GSW</td>\n",
       "      <td>Golden State Warriors</td>\n",
       "      <td>41500406</td>\n",
       "      <td>2016-06-16</td>\n",
       "      <td>GSW @ CLE</td>\n",
       "      <td>L</td>\n",
       "      <td>238</td>\n",
       "      <td>101</td>\n",
       "      <td>...</td>\n",
       "      <td>0.690</td>\n",
       "      <td>9</td>\n",
       "      <td>26</td>\n",
       "      <td>35</td>\n",
       "      <td>19</td>\n",
       "      <td>5</td>\n",
       "      <td>3</td>\n",
       "      <td>14</td>\n",
       "      <td>25</td>\n",
       "      <td>-14.0</td>\n",
       "    </tr>\n",
       "    <tr>\n",
       "      <th>3</th>\n",
       "      <td>42015</td>\n",
       "      <td>1610612739</td>\n",
       "      <td>CLE</td>\n",
       "      <td>Cleveland Cavaliers</td>\n",
       "      <td>41500406</td>\n",
       "      <td>2016-06-16</td>\n",
       "      <td>CLE vs. GSW</td>\n",
       "      <td>W</td>\n",
       "      <td>240</td>\n",
       "      <td>115</td>\n",
       "      <td>...</td>\n",
       "      <td>0.781</td>\n",
       "      <td>8</td>\n",
       "      <td>37</td>\n",
       "      <td>45</td>\n",
       "      <td>24</td>\n",
       "      <td>12</td>\n",
       "      <td>7</td>\n",
       "      <td>10</td>\n",
       "      <td>25</td>\n",
       "      <td>14.0</td>\n",
       "    </tr>\n",
       "    <tr>\n",
       "      <th>4</th>\n",
       "      <td>42015</td>\n",
       "      <td>1610612739</td>\n",
       "      <td>CLE</td>\n",
       "      <td>Cleveland Cavaliers</td>\n",
       "      <td>41500405</td>\n",
       "      <td>2016-06-13</td>\n",
       "      <td>CLE @ GSW</td>\n",
       "      <td>W</td>\n",
       "      <td>241</td>\n",
       "      <td>112</td>\n",
       "      <td>...</td>\n",
       "      <td>0.609</td>\n",
       "      <td>8</td>\n",
       "      <td>33</td>\n",
       "      <td>41</td>\n",
       "      <td>15</td>\n",
       "      <td>11</td>\n",
       "      <td>9</td>\n",
       "      <td>16</td>\n",
       "      <td>22</td>\n",
       "      <td>15.0</td>\n",
       "    </tr>\n",
       "    <tr>\n",
       "      <th>...</th>\n",
       "      <td>...</td>\n",
       "      <td>...</td>\n",
       "      <td>...</td>\n",
       "      <td>...</td>\n",
       "      <td>...</td>\n",
       "      <td>...</td>\n",
       "      <td>...</td>\n",
       "      <td>...</td>\n",
       "      <td>...</td>\n",
       "      <td>...</td>\n",
       "      <td>...</td>\n",
       "      <td>...</td>\n",
       "      <td>...</td>\n",
       "      <td>...</td>\n",
       "      <td>...</td>\n",
       "      <td>...</td>\n",
       "      <td>...</td>\n",
       "      <td>...</td>\n",
       "      <td>...</td>\n",
       "      <td>...</td>\n",
       "      <td>...</td>\n",
       "    </tr>\n",
       "    <tr>\n",
       "      <th>167</th>\n",
       "      <td>42015</td>\n",
       "      <td>1610612760</td>\n",
       "      <td>OKC</td>\n",
       "      <td>Oklahoma City Thunder</td>\n",
       "      <td>41500161</td>\n",
       "      <td>2016-04-16</td>\n",
       "      <td>OKC vs. DAL</td>\n",
       "      <td>W</td>\n",
       "      <td>243</td>\n",
       "      <td>108</td>\n",
       "      <td>...</td>\n",
       "      <td>0.857</td>\n",
       "      <td>14</td>\n",
       "      <td>42</td>\n",
       "      <td>56</td>\n",
       "      <td>23</td>\n",
       "      <td>7</td>\n",
       "      <td>6</td>\n",
       "      <td>18</td>\n",
       "      <td>25</td>\n",
       "      <td>38.0</td>\n",
       "    </tr>\n",
       "    <tr>\n",
       "      <th>168</th>\n",
       "      <td>42015</td>\n",
       "      <td>1610612737</td>\n",
       "      <td>ATL</td>\n",
       "      <td>Atlanta Hawks</td>\n",
       "      <td>41500131</td>\n",
       "      <td>2016-04-16</td>\n",
       "      <td>ATL vs. BOS</td>\n",
       "      <td>W</td>\n",
       "      <td>238</td>\n",
       "      <td>102</td>\n",
       "      <td>...</td>\n",
       "      <td>0.771</td>\n",
       "      <td>13</td>\n",
       "      <td>40</td>\n",
       "      <td>53</td>\n",
       "      <td>23</td>\n",
       "      <td>4</td>\n",
       "      <td>9</td>\n",
       "      <td>11</td>\n",
       "      <td>20</td>\n",
       "      <td>1.0</td>\n",
       "    </tr>\n",
       "    <tr>\n",
       "      <th>169</th>\n",
       "      <td>42015</td>\n",
       "      <td>1610612745</td>\n",
       "      <td>HOU</td>\n",
       "      <td>Houston Rockets</td>\n",
       "      <td>41500141</td>\n",
       "      <td>2016-04-16</td>\n",
       "      <td>HOU @ GSW</td>\n",
       "      <td>L</td>\n",
       "      <td>240</td>\n",
       "      <td>78</td>\n",
       "      <td>...</td>\n",
       "      <td>0.500</td>\n",
       "      <td>13</td>\n",
       "      <td>38</td>\n",
       "      <td>51</td>\n",
       "      <td>16</td>\n",
       "      <td>10</td>\n",
       "      <td>6</td>\n",
       "      <td>24</td>\n",
       "      <td>28</td>\n",
       "      <td>-26.0</td>\n",
       "    </tr>\n",
       "    <tr>\n",
       "      <th>170</th>\n",
       "      <td>42015</td>\n",
       "      <td>1610612742</td>\n",
       "      <td>DAL</td>\n",
       "      <td>Dallas Mavericks</td>\n",
       "      <td>41500161</td>\n",
       "      <td>2016-04-16</td>\n",
       "      <td>DAL @ OKC</td>\n",
       "      <td>L</td>\n",
       "      <td>238</td>\n",
       "      <td>70</td>\n",
       "      <td>...</td>\n",
       "      <td>0.615</td>\n",
       "      <td>9</td>\n",
       "      <td>24</td>\n",
       "      <td>33</td>\n",
       "      <td>16</td>\n",
       "      <td>5</td>\n",
       "      <td>0</td>\n",
       "      <td>12</td>\n",
       "      <td>25</td>\n",
       "      <td>-38.0</td>\n",
       "    </tr>\n",
       "    <tr>\n",
       "      <th>171</th>\n",
       "      <td>42015</td>\n",
       "      <td>1610612738</td>\n",
       "      <td>BOS</td>\n",
       "      <td>Boston Celtics</td>\n",
       "      <td>41500131</td>\n",
       "      <td>2016-04-16</td>\n",
       "      <td>BOS @ ATL</td>\n",
       "      <td>L</td>\n",
       "      <td>239</td>\n",
       "      <td>101</td>\n",
       "      <td>...</td>\n",
       "      <td>0.842</td>\n",
       "      <td>15</td>\n",
       "      <td>35</td>\n",
       "      <td>50</td>\n",
       "      <td>27</td>\n",
       "      <td>6</td>\n",
       "      <td>6</td>\n",
       "      <td>10</td>\n",
       "      <td>32</td>\n",
       "      <td>-1.0</td>\n",
       "    </tr>\n",
       "  </tbody>\n",
       "</table>\n",
       "<p>172 rows × 28 columns</p>\n",
       "</div>"
      ],
      "text/plain": [
       "     SEASON_ID     TEAM_ID TEAM_ABBREVIATION              TEAM_NAME   GAME_ID  \\\n",
       "0        42015  1610612739               CLE    Cleveland Cavaliers  41500407   \n",
       "1        42015  1610612744               GSW  Golden State Warriors  41500407   \n",
       "2        42015  1610612744               GSW  Golden State Warriors  41500406   \n",
       "3        42015  1610612739               CLE    Cleveland Cavaliers  41500406   \n",
       "4        42015  1610612739               CLE    Cleveland Cavaliers  41500405   \n",
       "..         ...         ...               ...                    ...       ...   \n",
       "167      42015  1610612760               OKC  Oklahoma City Thunder  41500161   \n",
       "168      42015  1610612737               ATL          Atlanta Hawks  41500131   \n",
       "169      42015  1610612745               HOU        Houston Rockets  41500141   \n",
       "170      42015  1610612742               DAL       Dallas Mavericks  41500161   \n",
       "171      42015  1610612738               BOS         Boston Celtics  41500131   \n",
       "\n",
       "      GAME_DATE      MATCHUP WL  MIN  PTS  ...  FT_PCT  OREB  DREB  REB  AST  \\\n",
       "0    2016-06-19    CLE @ GSW  W  241   93  ...   0.840     9    39   48   17   \n",
       "1    2016-06-19  GSW vs. CLE  L  239   89  ...   0.769     7    32   39   22   \n",
       "2    2016-06-16    GSW @ CLE  L  238  101  ...   0.690     9    26   35   19   \n",
       "3    2016-06-16  CLE vs. GSW  W  240  115  ...   0.781     8    37   45   24   \n",
       "4    2016-06-13    CLE @ GSW  W  241  112  ...   0.609     8    33   41   15   \n",
       "..          ...          ... ..  ...  ...  ...     ...   ...   ...  ...  ...   \n",
       "167  2016-04-16  OKC vs. DAL  W  243  108  ...   0.857    14    42   56   23   \n",
       "168  2016-04-16  ATL vs. BOS  W  238  102  ...   0.771    13    40   53   23   \n",
       "169  2016-04-16    HOU @ GSW  L  240   78  ...   0.500    13    38   51   16   \n",
       "170  2016-04-16    DAL @ OKC  L  238   70  ...   0.615     9    24   33   16   \n",
       "171  2016-04-16    BOS @ ATL  L  239  101  ...   0.842    15    35   50   27   \n",
       "\n",
       "     STL  BLK  TOV  PF  PLUS_MINUS  \n",
       "0      7    6   11  15         4.0  \n",
       "1      7    5   10  23        -4.0  \n",
       "2      5    3   14  25       -14.0  \n",
       "3     12    7   10  25        14.0  \n",
       "4     11    9   16  22        15.0  \n",
       "..   ...  ...  ...  ..         ...  \n",
       "167    7    6   18  25        38.0  \n",
       "168    4    9   11  20         1.0  \n",
       "169   10    6   24  28       -26.0  \n",
       "170    5    0   12  25       -38.0  \n",
       "171    6    6   10  32        -1.0  \n",
       "\n",
       "[172 rows x 28 columns]"
      ]
     },
     "execution_count": 32,
     "metadata": {},
     "output_type": "execute_result"
    }
   ],
   "source": [
    "data_playoffs = pd.read_csv(\"data/nba_playoff_games_2016.csv\", delimiter=\";\")\n",
    "data_playoffs"
   ]
  },
  {
   "cell_type": "markdown",
   "metadata": {},
   "source": [
    "------------\n",
    "### Task 5\n",
    "Test the hypothesis that **number of blocks (BLK)** are from the same distribution in both the NBA playoffs and in the NBA regular season for 2015/2016 seaon for the **Toronto Raptors**. \n",
    "\n",
    "- We will be working with two samples with different sizes again."
   ]
  },
  {
   "attachments": {},
   "cell_type": "markdown",
   "metadata": {},
   "source": [
    "#### Toronto Raptors Data"
   ]
  },
  {
   "cell_type": "code",
   "execution_count": 33,
   "metadata": {},
   "outputs": [],
   "source": [
    "data_raps_2015 = data_2015[data_2015[\"TEAM_ABBREVIATION\"] == \"TOR\"]\n",
    "data_raps_playoffs = data_playoffs[data_playoffs[\"TEAM_ABBREVIATION\"] == \"TOR\"]"
   ]
  },
  {
   "cell_type": "code",
   "execution_count": 34,
   "metadata": {},
   "outputs": [],
   "source": [
    "raps_blk_2015 = data_raps_2015[\"BLK\"]\n",
    "raps_blk_playoffs = data_raps_playoffs[\"BLK\"]"
   ]
  },
  {
   "attachments": {},
   "cell_type": "markdown",
   "metadata": {},
   "source": [
    "#### Levene's Test for Equality of Variances"
   ]
  },
  {
   "cell_type": "code",
   "execution_count": 35,
   "metadata": {},
   "outputs": [
    {
     "name": "stdout",
     "output_type": "stream",
     "text": [
      "Given a confidence level of 0.05, the p-value of 0.09 calculated using Levene's test for equality suggests that the null hypothesis can be assumed to be correct. The variances between the Raptors' regular and off-season block stats can be equivalent.\n"
     ]
    }
   ],
   "source": [
    "stat_blk, pval_blk = st.levene(raps_blk_2015, raps_blk_playoffs)\n",
    "print(f\"Given a confidence level of 0.05, the p-value of {pval_blk:.2f} calculated using Levene's test for equality suggests that the null hypothesis can be assumed to be correct. The variances between the Raptors' regular and off-season block stats can be equivalent.\")"
   ]
  },
  {
   "attachments": {},
   "cell_type": "markdown",
   "metadata": {},
   "source": [
    "#### `t-test`"
   ]
  },
  {
   "cell_type": "code",
   "execution_count": 36,
   "metadata": {},
   "outputs": [
    {
     "name": "stdout",
     "output_type": "stream",
     "text": [
      "Given a confidence level of 0.05, the p-value of 0.01 rejects the null hypothesis that the block stats for the Raptors are similar between the regular and off-season in 2015. They can be considered \n"
     ]
    }
   ],
   "source": [
    "# the default value for `equal_var' is True so it is not specified here`\n",
    "ttest_stat_blk, ttest_pval_blk = st.ttest_ind(raps_blk_2015, raps_blk_playoffs)\n",
    "print(f\"Given a confidence level of 0.05, the p-value of {ttest_pval_blk:.2f} rejects the null hypothesis that the block stats for the Raptors are similar between the regular and off-season in 2015. They can be considered \")"
   ]
  },
  {
   "cell_type": "code",
   "execution_count": 37,
   "metadata": {},
   "outputs": [
    {
     "name": "stdout",
     "output_type": "stream",
     "text": [
      "Furthermore, a p-value of 0.00 suggests the rejection of the null hypothesis, which implies that the one-sided alternative is that the Raptors' mean block stat for the regular season is greater than their off-season.\n"
     ]
    }
   ],
   "source": [
    "ttest1s_stat_blk, ttest1s_pval_blk = st.ttest_ind(raps_blk_2015, raps_blk_playoffs, alternative=\"greater\")\n",
    "print(f\"Furthermore, a p-value of {ttest1s_pval_blk:.2f} suggests the rejection of the null hypothesis, which implies that the one-sided alternative is that the Raptors' mean block stat for the regular season is greater than their off-season.\")\n"
   ]
  },
  {
   "cell_type": "markdown",
   "metadata": {},
   "source": [
    "\n",
    "-----------------\n",
    "### Task 6\n",
    "Test the hypothesis that the number of points (PTS) scored by Cleveland Cavaliers is equally distributed for all 3 seasons. \n",
    "\n",
    "- In this case, we need a hypothesis test that compares more than 2 distributions at the same. (You will need to go through the scipy documentation or google to figure out what kind of test is required.)"
   ]
  },
  {
   "cell_type": "code",
   "execution_count": 39,
   "metadata": {},
   "outputs": [],
   "source": [
    "# isolate Cleveland Cavaliers for all seasons\n",
    "data_cavs_2013 = data_2013[data_2013[\"TEAM_ABBREVIATION\"] == \"CLE\"]\n",
    "data_cavs_2014 = data_2014[data_2014[\"TEAM_ABBREVIATION\"] == \"CLE\"]\n",
    "data_cavs_2015 = data_2015[data_2015[\"TEAM_ABBREVIATION\"] == \"CLE\"]"
   ]
  },
  {
   "attachments": {},
   "cell_type": "markdown",
   "metadata": {},
   "source": [
    "#### One-Way ANOVA Testing"
   ]
  },
  {
   "cell_type": "code",
   "execution_count": 42,
   "metadata": {},
   "outputs": [],
   "source": [
    "# one-way ANOVA testing\n",
    "one_way_stat, one_way_pval = st.f_oneway(data_cavs_2013[\"PTS\"], data_cavs_2014[\"PTS\"], data_cavs_2015[\"PTS\"])\n",
    "one_way_pval"
   ]
  },
  {
   "cell_type": "code",
   "execution_count": 46,
   "metadata": {},
   "outputs": [
    {
     "name": "stdout",
     "output_type": "stream",
     "text": [
      "The one-way ANOVA test resulted in a p-value of 0.00, which is less than the confidence level of 0.05.\n",
      "Thus, the null hypothesis that the Cavs points stats between the 3 seasons do not follow the same distribution.\n"
     ]
    }
   ],
   "source": [
    "print(f\"The one-way ANOVA test resulted in a p-value of {one_way_pval:.2f}, which is less than the confidence level of 0.05.\")\n",
    "print(f\"Thus, the null hypothesis that the Cavs points stats between the 3 seasons do not follow the same distribution.\")"
   ]
  },
  {
   "cell_type": "markdown",
   "metadata": {},
   "source": [
    "#### Follow Up\n",
    "**Between which seasons can we see the significant difference?**\n",
    "\n",
    "+ Unfortunatelly, this is not the output of an ANOVA test and further tests are needed to be run.\n",
    "+ Note: Lebron James came back to the Cleveland Caveliers prior to season 2014/2015. We can use this fact to interpret our results correctly."
   ]
  },
  {
   "attachments": {},
   "cell_type": "markdown",
   "metadata": {},
   "source": [
    "#### Levene's Test for Equality of Variances"
   ]
  },
  {
   "cell_type": "code",
   "execution_count": 51,
   "metadata": {},
   "outputs": [
    {
     "name": "stdout",
     "output_type": "stream",
     "text": [
      "The p-values comparing the standard deviations between the 2013/2014 and 2014/2015 seasons are:\n",
      " 2013/2014: 0.74\n",
      " 2014/2015: 0.23\n",
      "Given a significance level of 0.05, both comparisons meet the requirement of the null hypothesis and can be assumed to be similar.\n"
     ]
    }
   ],
   "source": [
    "# to solve this problem, we need to run hypothesis testing between each consecutive season\n",
    "# but first, we need to determine that the standard deviations are similar enough to assume conformity with the ttest\n",
    "_, cavs_2013_2014_pval = st.levene(data_cavs_2013[\"PTS\"], data_cavs_2014[\"PTS\"])\n",
    "_, cavs_2014_2015_pval = st.levene(data_cavs_2014[\"PTS\"], data_cavs_2015[\"PTS\"])\n",
    "\n",
    "print(f\"The p-values comparing the standard deviations between the 2013/2014 and 2014/2015 seasons are:\\n 2013/2014: {cavs_2013_2014_pval:.2f}\\n 2014/2015: {cavs_2014_2015_pval:.2f}\")\n",
    "print(f\"Given a significance level of 0.05, both comparisons meet the requirement of the null hypothesis and can be assumed to be similar.\")"
   ]
  },
  {
   "attachments": {},
   "cell_type": "markdown",
   "metadata": {},
   "source": [
    "#### two-sided `t-test`"
   ]
  },
  {
   "cell_type": "code",
   "execution_count": 55,
   "metadata": {},
   "outputs": [],
   "source": [
    "_, pval_2013_2014 = st.ttest_ind(data_cavs_2013[\"PTS\"], data_cavs_2014[\"PTS\"])\n",
    "_, pval_2014_2015 = st.ttest_ind(data_cavs_2014[\"PTS\"], data_cavs_2015[\"PTS\"])"
   ]
  },
  {
   "cell_type": "code",
   "execution_count": 58,
   "metadata": {},
   "outputs": [
    {
     "name": "stdout",
     "output_type": "stream",
     "text": [
      "With a p-value of 0.01, the 2013/2014 season points stats are different enough to be considered significantly so.\n"
     ]
    }
   ],
   "source": [
    "print(f\"With a p-value of {pval_2013_2014:.2f}, the 2013/2014 season points stats are different enough to be considered significantly so.\")"
   ]
  },
  {
   "cell_type": "code",
   "execution_count": 59,
   "metadata": {},
   "outputs": [
    {
     "name": "stdout",
     "output_type": "stream",
     "text": [
      "With a p-value of 0.52, the 2014/2015 season points stats cannot reject the null hypothesis.\n"
     ]
    }
   ],
   "source": [
    "print(f\"With a p-value of {pval_2014_2015:.2f}, the 2014/2015 season points stats cannot reject the null hypothesis.\")"
   ]
  }
 ],
 "metadata": {
  "kernelspec": {
   "display_name": "lighthouse",
   "language": "python",
   "name": "python3"
  },
  "language_info": {
   "codemirror_mode": {
    "name": "ipython",
    "version": 3
   },
   "file_extension": ".py",
   "mimetype": "text/x-python",
   "name": "python",
   "nbconvert_exporter": "python",
   "pygments_lexer": "ipython3",
   "version": "3.8.13"
  },
  "vscode": {
   "interpreter": {
    "hash": "f6bdb6bebcaa6c165db367a86e382ae8df75f09257c40532b854029e0e3d706f"
   }
  }
 },
 "nbformat": 4,
 "nbformat_minor": 4
}
