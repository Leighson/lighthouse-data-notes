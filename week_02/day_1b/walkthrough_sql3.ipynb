{
 "cells": [
  {
   "cell_type": "markdown",
   "id": "b5a753aa-4355-41e8-8442-89d836d310e2",
   "metadata": {},
   "source": [
    "# Connecting to the Database"
   ]
  },
  {
   "cell_type": "markdown",
   "id": "733400d9-5f56-4148-81b4-98df639fda90",
   "metadata": {},
   "source": [
    "Defines the connection parameters, connects to an .sqlite database, and creates an .sqlite database if it does not exit."
   ]
  },
  {
   "cell_type": "code",
   "execution_count": 2,
   "id": "920933e9-94b5-4511-b158-771c22c8c22f",
   "metadata": {},
   "outputs": [],
   "source": [
    "import sqlite3\n",
    "from sqlite3 import Error\n",
    "\n",
    "def create_connection(path):\n",
    "    connection = None\n",
    "    try:\n",
    "        connection = sqlite3.connect(path)\n",
    "        print(\"Connection to SQLite DB successful\")\n",
    "    except Error as e:\n",
    "        print(f\"The error '{e}' occurred\")\n",
    "\n",
    "    return connection"
   ]
  },
  {
   "cell_type": "code",
   "execution_count": 4,
   "id": "750cc910-c26b-40aa-8047-7d15d0b1f222",
   "metadata": {},
   "outputs": [
    {
     "name": "stdout",
     "output_type": "stream",
     "text": [
      "Connection to SQLite DB successful\n"
     ]
    }
   ],
   "source": [
    "connection = create_connection(\"sm_app.sqlite\")"
   ]
  },
  {
   "cell_type": "markdown",
   "id": "88bcb344-e74e-4c18-9ddc-1b7cb5a9ef51",
   "metadata": {},
   "source": [
    "# Defining function to try query and return the output if it fails or succeeds"
   ]
  },
  {
   "cell_type": "code",
   "execution_count": 5,
   "id": "a2204f58-ffd3-4d76-9f97-ff3e77048b6f",
   "metadata": {},
   "outputs": [],
   "source": [
    "def execute_query(connection, query):\n",
    "    cursor = connection.cursor()\n",
    "    try:\n",
    "        cursor.execute(query)\n",
    "        connection.commit()\n",
    "        print(\"Query executed successfully\")\n",
    "    except Error as e:\n",
    "        print(f\"The error '{e}' occurred\")"
   ]
  },
  {
   "cell_type": "markdown",
   "id": "fd806708-fe95-4587-85f0-8c97e9a03ca5",
   "metadata": {},
   "source": [
    "# Creating Tables"
   ]
  },
  {
   "cell_type": "markdown",
   "id": "70b56050-f186-43cb-96c3-f30fe25077bf",
   "metadata": {},
   "source": [
    "## Users Table"
   ]
  },
  {
   "cell_type": "markdown",
   "id": "25e6a5e0-4b6c-4607-aa5c-79b6e06b02f7",
   "metadata": {},
   "source": [
    "This table will autoincrement the id. As you will see, this id will be referenced as user_id in other tables."
   ]
  },
  {
   "cell_type": "code",
   "execution_count": 25,
   "id": "c017f423-e5e1-484d-98ab-c9c3d251e090",
   "metadata": {},
   "outputs": [],
   "source": [
    "create_users_table = \"\"\"\n",
    "CREATE TABLE IF NOT EXISTS users (\n",
    "    id INTEGER PRIMARY KEY AUTOINCREMENT,\n",
    "    name TEXT NOT NULL,\n",
    "    age INTEGER,\n",
    "    gender TEXT,\n",
    "    nationality TEXT\n",
    ");\n",
    "\"\"\""
   ]
  },
  {
   "cell_type": "code",
   "execution_count": 26,
   "id": "84c06f4c-ceed-48be-9a9b-412c35130040",
   "metadata": {},
   "outputs": [
    {
     "name": "stdout",
     "output_type": "stream",
     "text": [
      "Query executed successfully\n"
     ]
    }
   ],
   "source": [
    "execute_query(connection, create_users_table)"
   ]
  },
  {
   "cell_type": "markdown",
   "id": "30d52b8d-edba-48c0-908c-9c0807439e5f",
   "metadata": {},
   "source": [
    "## Posts Table"
   ]
  },
  {
   "cell_type": "code",
   "execution_count": 27,
   "id": "59424378-d698-466f-a2de-26073930daa1",
   "metadata": {},
   "outputs": [],
   "source": [
    "create_posts_table = \"\"\"\n",
    "CREATE TABLE IF NOT EXISTS posts(\n",
    "  id INTEGER PRIMARY KEY AUTOINCREMENT, \n",
    "  title TEXT NOT NULL, \n",
    "  description TEXT NOT NULL, \n",
    "  user_id INTEGER NOT NULL, \n",
    "  FOREIGN KEY (user_id) REFERENCES users (id)\n",
    ");\n",
    "\"\"\""
   ]
  },
  {
   "cell_type": "code",
   "execution_count": 28,
   "id": "2718509a-4fa9-497c-97e5-0c7c35d752a5",
   "metadata": {},
   "outputs": [
    {
     "name": "stdout",
     "output_type": "stream",
     "text": [
      "Query executed successfully\n"
     ]
    }
   ],
   "source": [
    "execute_query(connection, create_posts_table)"
   ]
  },
  {
   "cell_type": "markdown",
   "id": "c86724c5-0f32-45b0-b130-e65b0cc3027a",
   "metadata": {},
   "source": [
    "## Comments Table & Likes Table"
   ]
  },
  {
   "cell_type": "code",
   "execution_count": 29,
   "id": "2d772ddb-0982-46a2-894d-a830eb90ab45",
   "metadata": {},
   "outputs": [],
   "source": [
    "create_comments_table = \"\"\"\n",
    "CREATE TABLE IF NOT EXISTS comments (\n",
    "  id INTEGER PRIMARY KEY AUTOINCREMENT, \n",
    "  text TEXT NOT NULL, \n",
    "  user_id INTEGER NOT NULL, \n",
    "  post_id INTEGER NOT NULL, \n",
    "  FOREIGN KEY (user_id) REFERENCES users (id) FOREIGN KEY (post_id) REFERENCES posts (id)\n",
    ");\n",
    "\"\"\""
   ]
  },
  {
   "cell_type": "code",
   "execution_count": 30,
   "id": "92285738-30de-4281-a4e6-37f8565efebc",
   "metadata": {},
   "outputs": [],
   "source": [
    "create_likes_table = \"\"\"\n",
    "CREATE TABLE IF NOT EXISTS likes (\n",
    "  id INTEGER PRIMARY KEY AUTOINCREMENT, \n",
    "  user_id INTEGER NOT NULL, \n",
    "  post_id integer NOT NULL, \n",
    "  FOREIGN KEY (user_id) REFERENCES users (id) FOREIGN KEY (post_id) REFERENCES posts (id)\n",
    ");\n",
    "\"\"\"\n"
   ]
  },
  {
   "cell_type": "code",
   "execution_count": 31,
   "id": "4f7062d5-5eeb-4520-95b3-e4ae37b8a8af",
   "metadata": {},
   "outputs": [
    {
     "name": "stdout",
     "output_type": "stream",
     "text": [
      "Query executed successfully\n",
      "Query executed successfully\n"
     ]
    }
   ],
   "source": [
    "execute_query(connection, create_comments_table)  \n",
    "execute_query(connection, create_likes_table) "
   ]
  },
  {
   "cell_type": "markdown",
   "id": "7e4548f7-cb9c-44be-8be5-cee09082e2ca",
   "metadata": {},
   "source": [
    "# Populating the Tables"
   ]
  },
  {
   "cell_type": "markdown",
   "id": "9241b2f6-ef2f-44fc-ba50-449151fcef8d",
   "metadata": {},
   "source": [
    "## Create the Users"
   ]
  },
  {
   "cell_type": "code",
   "execution_count": 39,
   "id": "a1b19449-c9c8-4258-ae68-f2dd177c4310",
   "metadata": {},
   "outputs": [],
   "source": [
    "create_users = \"\"\"\n",
    "INSERT INTO\n",
    "  users (name, age, gender, nationality)\n",
    "VALUES\n",
    "  ('James', 25, 'male', 'USA'),\n",
    "  ('Leila', 32, 'female', 'France'),\n",
    "  ('Brigitte', 35, 'female', 'England'),\n",
    "  ('Mike', 40, 'male', 'Denmark'),\n",
    "  ('Elizabeth', 21, 'female', 'Canada');\n",
    "\"\"\""
   ]
  },
  {
   "cell_type": "code",
   "execution_count": 40,
   "id": "9ff146ce-bcf4-42a5-9b63-cd1c6a334913",
   "metadata": {},
   "outputs": [
    {
     "name": "stdout",
     "output_type": "stream",
     "text": [
      "Query executed successfully\n"
     ]
    }
   ],
   "source": [
    "execute_query(connection, create_users)"
   ]
  },
  {
   "cell_type": "markdown",
   "id": "5e06f09d-1656-405c-9618-cdbfc0f08699",
   "metadata": {},
   "source": [
    "## Create their Posts"
   ]
  },
  {
   "cell_type": "code",
   "execution_count": 34,
   "id": "4b65c0b8-746d-4da3-b34d-337c273710f8",
   "metadata": {},
   "outputs": [],
   "source": [
    "create_posts = \"\"\"\n",
    "INSERT INTO\n",
    "  posts (title, description, user_id)\n",
    "VALUES\n",
    "  (\"Happy\", \"I am feeling very happy today\", 1),\n",
    "  (\"Hot Weather\", \"The weather is very hot today\", 2),\n",
    "  (\"Help\", \"I need some help with my work\", 2),\n",
    "  (\"Great News\", \"I am getting married\", 1),\n",
    "  (\"Interesting Game\", \"It was a fantastic game of tennis\", 5),\n",
    "  (\"Party\", \"Anyone up for a late-night party today?\", 3);\n",
    "\"\"\""
   ]
  },
  {
   "cell_type": "code",
   "execution_count": 35,
   "id": "b7465c01-a36e-497b-b001-2eb0c18bc54a",
   "metadata": {},
   "outputs": [
    {
     "name": "stdout",
     "output_type": "stream",
     "text": [
      "Query executed successfully\n"
     ]
    }
   ],
   "source": [
    "execute_query(connection, create_posts)"
   ]
  },
  {
   "cell_type": "markdown",
   "id": "3f697337-ae57-4b18-9bb8-6aea1701433a",
   "metadata": {},
   "source": [
    "## Create their Comments and their Likes"
   ]
  },
  {
   "cell_type": "code",
   "execution_count": 36,
   "id": "b2d414f8-8573-43d5-a1ca-1ef920da1b03",
   "metadata": {},
   "outputs": [],
   "source": [
    "create_comments = \"\"\"\n",
    "INSERT INTO\n",
    "  comments (text, user_id, post_id)\n",
    "VALUES\n",
    "  ('Count me in', 1, 6),\n",
    "  ('What sort of help?', 5, 3),\n",
    "  ('Congrats buddy', 2, 4),\n",
    "  ('I was rooting for Nadal though', 4, 5),\n",
    "  ('Help with your thesis?', 2, 3),\n",
    "  ('Many congratulations', 5, 4);\n",
    "\"\"\""
   ]
  },
  {
   "cell_type": "code",
   "execution_count": 37,
   "id": "96174f73-1f1d-47e4-a871-f011a74b3685",
   "metadata": {},
   "outputs": [],
   "source": [
    "create_likes = \"\"\"\n",
    "INSERT INTO\n",
    "  likes (user_id, post_id)\n",
    "VALUES\n",
    "  (1, 6),\n",
    "  (2, 3),\n",
    "  (1, 5),\n",
    "  (5, 4),\n",
    "  (2, 4),\n",
    "  (4, 2),\n",
    "  (3, 6);\n",
    "\"\"\""
   ]
  },
  {
   "cell_type": "code",
   "execution_count": 38,
   "id": "ee733482-45cf-4b82-9342-44014888c813",
   "metadata": {},
   "outputs": [
    {
     "name": "stdout",
     "output_type": "stream",
     "text": [
      "Query executed successfully\n",
      "Query executed successfully\n"
     ]
    }
   ],
   "source": [
    "execute_query(connection, create_comments)\n",
    "execute_query(connection, create_likes)"
   ]
  },
  {
   "cell_type": "markdown",
   "id": "81def2b6-f141-4ef2-8401-d10bacff6888",
   "metadata": {},
   "source": [
    "# Selecting Records"
   ]
  },
  {
   "cell_type": "markdown",
   "id": "136d46b9-4c97-43a3-84a8-52ba411ab7ac",
   "metadata": {},
   "source": [
    "Similar to the function `execute_query()`, `execute_read_query()` also takes the 'connection' parameter and passes `str` queries through the argument. Note that the built-in function `.fetchall()` returns a list of tuples where each typle is mapped to the corresponding row in the retrieved records."
   ]
  },
  {
   "cell_type": "code",
   "execution_count": 43,
   "id": "c14056ff-cb81-4543-b706-4dc51a9f8c04",
   "metadata": {},
   "outputs": [],
   "source": [
    "def execute_read_query(connection, query):\n",
    "    cursor = connection.cursor()\n",
    "    result = None\n",
    "    try:\n",
    "        cursor.execute(query)\n",
    "        result = cursor.fetchall()\n",
    "        return result\n",
    "    except Error as e:\n",
    "        print(f\"The error '{e}' occurred\")"
   ]
  },
  {
   "cell_type": "markdown",
   "id": "a666ede0-1a0d-4322-b815-20dcb1506e79",
   "metadata": {},
   "source": [
    "Define the `SELECT` line and pass that as the query."
   ]
  },
  {
   "cell_type": "code",
   "execution_count": 44,
   "id": "1655e634-a35f-47e2-a9ba-4acd1739a4f3",
   "metadata": {},
   "outputs": [],
   "source": [
    "select_users = \"SELECT * FROM users\""
   ]
  },
  {
   "cell_type": "code",
   "execution_count": 45,
   "id": "bca85d9e-ebcb-48e2-9716-b689935744fe",
   "metadata": {},
   "outputs": [],
   "source": [
    "users = execute_read_query(connection, select_users)"
   ]
  },
  {
   "cell_type": "markdown",
   "id": "e16ce57d-77fe-44b3-81c9-f35c824c15b1",
   "metadata": {},
   "source": [
    "Because the results are returned tuple form in a list, to arrive at a line-by-line output, the return must be looped through. Note that it returns rows."
   ]
  },
  {
   "cell_type": "code",
   "execution_count": 48,
   "id": "c782f9eb-72c6-42d8-ad0d-96f1c666e009",
   "metadata": {},
   "outputs": [
    {
     "name": "stdout",
     "output_type": "stream",
     "text": [
      "(1, 'James', 25, 'male', 'USA')\n",
      "(2, 'Leila', 32, 'female', 'France')\n",
      "(3, 'Brigitte', 35, 'female', 'England')\n",
      "(4, 'Mike', 40, 'male', 'Denmark')\n",
      "(5, 'Elizabeth', 21, 'female', 'Canada')\n",
      "(6, 'James', 25, 'male', 'USA')\n",
      "(7, 'Leila', 32, 'female', 'France')\n",
      "(8, 'Brigitte', 35, 'female', 'England')\n",
      "(9, 'Mike', 40, 'male', 'Denmark')\n",
      "(10, 'Elizabeth', 21, 'female', 'Canada')\n",
      "(11, 'James', 25, 'male', 'USA')\n",
      "(12, 'Leila', 32, 'female', 'France')\n",
      "(13, 'Brigitte', 35, 'female', 'England')\n",
      "(14, 'Mike', 40, 'male', 'Denmark')\n",
      "(15, 'Elizabeth', 21, 'female', 'Canada')\n"
     ]
    }
   ],
   "source": [
    "for user in users:\n",
    "    print(user)"
   ]
  },
  {
   "cell_type": "markdown",
   "id": "0d3ad833-634c-4e53-b958-9255e9491be2",
   "metadata": {},
   "source": [
    "# Updating Table Records"
   ]
  },
  {
   "cell_type": "markdown",
   "id": "f3e1edfd-f953-4518-9408-b17c0f688e84",
   "metadata": {},
   "source": [
    "Changing the records requires an `UPDATE`, `SET`, and `WHERE` sequence.\n",
    "- `UPDATE` defines the table\n",
    "- `SET` defines the content of that table (indicates under which column)\n",
    "- `WHERE` defines the row in which to insert the content"
   ]
  },
  {
   "cell_type": "code",
   "execution_count": 49,
   "id": "66440b9c-c99a-4b53-9ce1-e1a7d34df206",
   "metadata": {},
   "outputs": [],
   "source": [
    "update_post_description = \"\"\"\n",
    "UPDATE\n",
    "  posts\n",
    "SET\n",
    "  description = \"The weather has become pleasant now\"\n",
    "WHERE\n",
    "  id = 2\n",
    "\"\"\""
   ]
  },
  {
   "cell_type": "code",
   "execution_count": 50,
   "id": "c1f52e48-1c91-418b-9ea7-18714c07405e",
   "metadata": {},
   "outputs": [
    {
     "name": "stdout",
     "output_type": "stream",
     "text": [
      "Query executed successfully\n"
     ]
    }
   ],
   "source": [
    "execute_query(connection, update_post_description)"
   ]
  },
  {
   "cell_type": "markdown",
   "id": "5d940cea-f443-492f-b894-e4b1b7df08cd",
   "metadata": {},
   "source": [
    "# Deleting Table Records"
   ]
  },
  {
   "cell_type": "markdown",
   "id": "21b6b8fd-0fd3-4325-bdc3-8b1bbb57ebb7",
   "metadata": {},
   "source": [
    "Unlike updates, deletes are simpler because no content needs to be passed. All this requires is a reference to the column name and the row identifier."
   ]
  },
  {
   "cell_type": "code",
   "execution_count": 51,
   "id": "08b51c2a-7377-42ca-83e4-0707f5347351",
   "metadata": {},
   "outputs": [],
   "source": [
    "delete_comment = \"DELETE FROM comments WHERE id = 5\""
   ]
  },
  {
   "cell_type": "code",
   "execution_count": 52,
   "id": "6f98c567-a686-47ef-b03c-498fd1ce12b8",
   "metadata": {},
   "outputs": [
    {
     "name": "stdout",
     "output_type": "stream",
     "text": [
      "Query executed successfully\n"
     ]
    }
   ],
   "source": [
    "execute_query(connection, delete_comment)"
   ]
  },
  {
   "cell_type": "markdown",
   "id": "e1b74b2e-9c68-4588-bcc0-b8f4495b6e4a",
   "metadata": {},
   "source": [
    "Check to see if the update and delete have taken."
   ]
  },
  {
   "cell_type": "code",
   "execution_count": 56,
   "id": "6a96dd64-3de9-4f7c-9a8e-a27b5a670ac9",
   "metadata": {},
   "outputs": [],
   "source": [
    "select_posts = \"SELECT * FROM posts\""
   ]
  },
  {
   "cell_type": "code",
   "execution_count": 57,
   "id": "ec92d273-c713-42bc-a78f-7564e7ffdcd9",
   "metadata": {},
   "outputs": [],
   "source": [
    "select_comments = \"SELECT * FROM comments\""
   ]
  },
  {
   "cell_type": "code",
   "execution_count": 58,
   "id": "bbef36ff-09c9-4782-92be-377ef03deea7",
   "metadata": {},
   "outputs": [],
   "source": [
    "posts = execute_read_query(connection, select_posts)"
   ]
  },
  {
   "cell_type": "code",
   "execution_count": 60,
   "id": "25263b83-073d-4ec8-9884-8eafeab4d944",
   "metadata": {},
   "outputs": [],
   "source": [
    "comments = execute_read_query(connection, select_comments)"
   ]
  },
  {
   "cell_type": "code",
   "execution_count": 61,
   "id": "bc4390b5-308d-4c73-b06a-a011a982072e",
   "metadata": {},
   "outputs": [
    {
     "name": "stdout",
     "output_type": "stream",
     "text": [
      "(1, 'Happy', 'I am feeling very happy today', 1)\n",
      "(2, 'Hot Weather', 'The weather has become pleasant now', 2)\n",
      "(3, 'Help', 'I need some help with my work', 2)\n",
      "(4, 'Great News', 'I am getting married', 1)\n",
      "(5, 'Interesting Game', 'It was a fantastic game of tennis', 5)\n",
      "(6, 'Party', 'Anyone up for a late-night party today?', 3)\n",
      "(7, 'Happy', 'I am feeling very happy today', 1)\n",
      "(8, 'Hot Weather', 'The weather is very hot today', 2)\n",
      "(9, 'Help', 'I need some help with my work', 2)\n",
      "(10, 'Great News', 'I am getting married', 1)\n",
      "(11, 'Interesting Game', 'It was a fantastic game of tennis', 5)\n",
      "(12, 'Party', 'Anyone up for a late-night party today?', 3)\n"
     ]
    }
   ],
   "source": [
    "for post in posts:\n",
    "    print(post)"
   ]
  },
  {
   "cell_type": "code",
   "execution_count": 63,
   "id": "db1266d8-321b-4fae-b47c-d6907abbf2ac",
   "metadata": {},
   "outputs": [
    {
     "data": {
      "text/plain": [
       "(2, 'Hot Weather', 'The weather has become pleasant now', 2)"
      ]
     },
     "execution_count": 63,
     "metadata": {},
     "output_type": "execute_result"
    }
   ],
   "source": [
    "posts[1]"
   ]
  },
  {
   "cell_type": "code",
   "execution_count": 62,
   "id": "8696616a-45d4-4588-ace3-fc3ffdf44a30",
   "metadata": {},
   "outputs": [
    {
     "name": "stdout",
     "output_type": "stream",
     "text": [
      "(1, 'Count me in', 1, 6)\n",
      "(2, 'What sort of help?', 5, 3)\n",
      "(3, 'Congrats buddy', 2, 4)\n",
      "(4, 'I was rooting for Nadal though', 4, 5)\n",
      "(6, 'Many congratulations', 5, 4)\n",
      "(7, 'Count me in', 1, 6)\n",
      "(8, 'What sort of help?', 5, 3)\n",
      "(9, 'Congrats buddy', 2, 4)\n",
      "(10, 'I was rooting for Nadal though', 4, 5)\n",
      "(11, 'Help with your thesis?', 2, 3)\n",
      "(12, 'Many congratulations', 5, 4)\n"
     ]
    }
   ],
   "source": [
    "for comment in comments:\n",
    "    print(comment)"
   ]
  },
  {
   "cell_type": "code",
   "execution_count": 64,
   "id": "b77250c7-b8cd-4d24-bc9a-cfc23ba711d4",
   "metadata": {},
   "outputs": [
    {
     "data": {
      "text/plain": [
       "(6, 'Many congratulations', 5, 4)"
      ]
     },
     "execution_count": 64,
     "metadata": {},
     "output_type": "execute_result"
    }
   ],
   "source": [
    "comments[4]"
   ]
  },
  {
   "cell_type": "markdown",
   "id": "a01f00d5-e2da-470b-84c4-ae73a7b62573",
   "metadata": {},
   "source": [
    "Note that the id above is `6` and not `5`. We deleted `id = 5`."
   ]
  },
  {
   "cell_type": "markdown",
   "id": "28428986-fa2f-40c0-a3f7-40d588b5a587",
   "metadata": {},
   "source": [
    "# NOTE W02D1: Generic Python Libraries for SQL"
   ]
  },
  {
   "cell_type": "code",
   "execution_count": 69,
   "id": "fcca625d-fce7-45a8-b309-c584ddddd40e",
   "metadata": {},
   "outputs": [],
   "source": [
    "import psycopg2"
   ]
  },
  {
   "cell_type": "code",
   "execution_count": 70,
   "id": "6a8a68bf-a82f-4766-98cd-5459279e6a64",
   "metadata": {},
   "outputs": [],
   "source": [
    "# Connect to your postgres DB\n",
    "conn = psycopg2.connect(\"dbname=lsantos user=postgres\")"
   ]
  },
  {
   "cell_type": "code",
   "execution_count": 71,
   "id": "3bbd8d07-3bc4-47d7-9419-caaf878acc40",
   "metadata": {},
   "outputs": [],
   "source": [
    "# Open a cursor to perform database operations\n",
    "cur = conn.cursor()"
   ]
  },
  {
   "cell_type": "code",
   "execution_count": 73,
   "id": "a575b8d8-d668-4416-ab11-7429e974c9bb",
   "metadata": {},
   "outputs": [
    {
     "ename": "SyntaxError",
     "evalue": "EOL while scanning string literal (<ipython-input-73-3c3d8bac2a48>, line 2)",
     "output_type": "error",
     "traceback": [
      "\u001b[0;36m  Input \u001b[0;32mIn [73]\u001b[0;36m\u001b[0m\n\u001b[0;31m    cur.execute(\"SELECT * FROM)\u001b[0m\n\u001b[0m                               ^\u001b[0m\n\u001b[0;31mSyntaxError\u001b[0m\u001b[0;31m:\u001b[0m EOL while scanning string literal\n"
     ]
    }
   ],
   "source": [
    "# Execute a query\n",
    "cur.execute(\"SELECT * FROM )\n",
    "\n",
    "# Retrieve query results\n",
    "records = cur.fetchall()"
   ]
  },
  {
   "cell_type": "code",
   "execution_count": 68,
   "id": "8d384f16-3828-4721-bfcb-fde566aa06a5",
   "metadata": {},
   "outputs": [],
   "source": [
    "DATABASES = {\n",
    "    \"default\": {\n",
    "        \"ENGINE\": \"django.db.backends.postgresql_psycopg2\",\n",
    "        \"NAME\": \"lsantos\",\n",
    "        \"USER\": \"lsantos\",\n",
    "        \"PASSWORD\": \"\",\n",
    "        \"HOST\": \"Applications/Postgres.app/Contents/Versions/14/bin/psql\",\n",
    "        \"PORT\": \"5432\",\n",
    "    }\n",
    "}"
   ]
  },
  {
   "cell_type": "code",
   "execution_count": 67,
   "id": "f9d80763-8e24-48f6-9f4c-f970db0da8e1",
   "metadata": {},
   "outputs": [
    {
     "ename": "DatabaseError",
     "evalue": "ODBC error\nstate: 01000\nnative error code: 0\nmessage: [unixODBC][Driver Manager]Can't open lib 'PostgreSQL' : file not found",
     "output_type": "error",
     "traceback": [
      "\u001b[0;31m---------------------------------------------------------------------------\u001b[0m",
      "\u001b[0;31mError\u001b[0m                                     Traceback (most recent call last)",
      "File \u001b[0;32m/opt/homebrew/Caskroom/miniforge/base/envs/lighthouse/lib/python3.8/site-packages/turbodbc/exceptions.py:45\u001b[0m, in \u001b[0;36mtranslate_exceptions.<locals>.wrapper\u001b[0;34m(*args, **kwds)\u001b[0m\n\u001b[1;32m     44\u001b[0m \u001b[38;5;28;01mtry\u001b[39;00m:\n\u001b[0;32m---> 45\u001b[0m     \u001b[38;5;28;01mreturn\u001b[39;00m \u001b[43mf\u001b[49m\u001b[43m(\u001b[49m\u001b[38;5;241;43m*\u001b[39;49m\u001b[43margs\u001b[49m\u001b[43m,\u001b[49m\u001b[43m \u001b[49m\u001b[38;5;241;43m*\u001b[39;49m\u001b[38;5;241;43m*\u001b[39;49m\u001b[43mkwds\u001b[49m\u001b[43m)\u001b[49m\n\u001b[1;32m     46\u001b[0m \u001b[38;5;28;01mexcept\u001b[39;00m InternError \u001b[38;5;28;01mas\u001b[39;00m e:\n",
      "File \u001b[0;32m/opt/homebrew/Caskroom/miniforge/base/envs/lighthouse/lib/python3.8/site-packages/turbodbc/connect.py:46\u001b[0m, in \u001b[0;36mconnect\u001b[0;34m(dsn, turbodbc_options, connection_string, **kwargs)\u001b[0m\n\u001b[1;32m     44\u001b[0m     connection_string \u001b[38;5;241m=\u001b[39m _make_connection_string(dsn, \u001b[38;5;241m*\u001b[39m\u001b[38;5;241m*\u001b[39mkwargs)\n\u001b[0;32m---> 46\u001b[0m connection \u001b[38;5;241m=\u001b[39m Connection(\u001b[43mintern_connect\u001b[49m\u001b[43m(\u001b[49m\u001b[43mconnection_string\u001b[49m\u001b[43m,\u001b[49m\u001b[43m \u001b[49m\u001b[43mturbodbc_options\u001b[49m\u001b[43m)\u001b[49m)\n\u001b[1;32m     48\u001b[0m \u001b[38;5;28;01mreturn\u001b[39;00m connection\n",
      "\u001b[0;31mError\u001b[0m: ODBC error\nstate: 01000\nnative error code: 0\nmessage: [unixODBC][Driver Manager]Can't open lib 'PostgreSQL' : file not found",
      "\nDuring handling of the above exception, another exception occurred:\n",
      "\u001b[0;31mDatabaseError\u001b[0m                             Traceback (most recent call last)",
      "Input \u001b[0;32mIn [67]\u001b[0m, in \u001b[0;36m<cell line: 1>\u001b[0;34m()\u001b[0m\n\u001b[0;32m----> 1\u001b[0m connection \u001b[38;5;241m=\u001b[39m \u001b[43mconnect\u001b[49m\u001b[43m(\u001b[49m\u001b[43mconnection_string\u001b[49m\u001b[38;5;241;43m=\u001b[39;49m\u001b[38;5;124;43m'\u001b[39;49m\u001b[38;5;124;43mDriver=\u001b[39;49m\u001b[38;5;132;43;01m{PostgreSQL}\u001b[39;49;00m\u001b[38;5;124;43m;Server=lhl-data-bootcamp.crzjul5qln0e.ca-central-1.rds.amazonaws.com;Port=5432;Database=northwind;Uid=lhl_student;Pwd=lhlstudent;\u001b[39;49m\u001b[38;5;124;43m'\u001b[39;49m\u001b[43m)\u001b[49m\n",
      "File \u001b[0;32m/opt/homebrew/Caskroom/miniforge/base/envs/lighthouse/lib/python3.8/site-packages/turbodbc/exceptions.py:47\u001b[0m, in \u001b[0;36mtranslate_exceptions.<locals>.wrapper\u001b[0;34m(*args, **kwds)\u001b[0m\n\u001b[1;32m     45\u001b[0m     \u001b[38;5;28;01mreturn\u001b[39;00m f(\u001b[38;5;241m*\u001b[39margs, \u001b[38;5;241m*\u001b[39m\u001b[38;5;241m*\u001b[39mkwds)\n\u001b[1;32m     46\u001b[0m \u001b[38;5;28;01mexcept\u001b[39;00m InternError \u001b[38;5;28;01mas\u001b[39;00m e:\n\u001b[0;32m---> 47\u001b[0m     \u001b[38;5;28;01mraise\u001b[39;00m DatabaseError(\u001b[38;5;28mstr\u001b[39m(e))\n\u001b[1;32m     48\u001b[0m \u001b[38;5;28;01mexcept\u001b[39;00m InternInterfaceError \u001b[38;5;28;01mas\u001b[39;00m e:\n\u001b[1;32m     49\u001b[0m     \u001b[38;5;28;01mraise\u001b[39;00m InterfaceError(\u001b[38;5;28mstr\u001b[39m(e))\n",
      "\u001b[0;31mDatabaseError\u001b[0m: ODBC error\nstate: 01000\nnative error code: 0\nmessage: [unixODBC][Driver Manager]Can't open lib 'PostgreSQL' : file not found"
     ]
    }
   ],
   "source": []
  },
  {
   "cell_type": "code",
   "execution_count": null,
   "id": "3fb4787a-74c4-4037-87ad-8e9a895adb3f",
   "metadata": {},
   "outputs": [],
   "source": []
  }
 ],
 "metadata": {
  "kernelspec": {
   "display_name": "lighthouse",
   "language": "python",
   "name": "lighthouse"
  },
  "language_info": {
   "codemirror_mode": {
    "name": "ipython",
    "version": 3
   },
   "file_extension": ".py",
   "mimetype": "text/x-python",
   "name": "python",
   "nbconvert_exporter": "python",
   "pygments_lexer": "ipython3",
   "version": "3.8.13"
  }
 },
 "nbformat": 4,
 "nbformat_minor": 5
}
