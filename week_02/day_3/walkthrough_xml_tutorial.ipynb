{
 "cells": [
  {
   "cell_type": "markdown",
   "metadata": {},
   "source": [
    "# XML Tutorial"
   ]
  },
  {
   "cell_type": "markdown",
   "metadata": {},
   "source": [
    "Everything about XML in Python is done with package `xml`. Let's import it at the beginning of the notebook."
   ]
  },
  {
   "cell_type": "code",
   "execution_count": 2,
   "metadata": {},
   "outputs": [
    {
     "name": "stdout",
     "output_type": "stream",
     "text": [
      "<class 'xml.etree.ElementTree.ElementTree'>\n"
     ]
    }
   ],
   "source": [
    "import xml.etree.ElementTree as ET\n",
    "\n",
    "tree = ET.parse('data/data.xml')\n",
    "print(type(tree))"
   ]
  },
  {
   "cell_type": "code",
   "execution_count": 4,
   "metadata": {},
   "outputs": [
    {
     "data": {
      "text/plain": [
       "<Element 'data' at 0x10affd630>"
      ]
     },
     "execution_count": 4,
     "metadata": {},
     "output_type": "execute_result"
    }
   ],
   "source": [
    "# to get the main (root) tag of the file, call the function `getroot()`\n",
    "root = tree.getroot()\n",
    "root"
   ]
  },
  {
   "cell_type": "code",
   "execution_count": 5,
   "metadata": {},
   "outputs": [
    {
     "name": "stdout",
     "output_type": "stream",
     "text": [
      "data\n",
      "{}\n",
      "3\n"
     ]
    }
   ],
   "source": [
    "print(root.tag)\n",
    "print(root.attrib)\n",
    "print(len(root))"
   ]
  },
  {
   "cell_type": "markdown",
   "metadata": {},
   "source": [
    "The length of the element is 3, meaning that it has 3 children. They can be accessed in the same way as elements in a `list`."
   ]
  },
  {
   "cell_type": "code",
   "execution_count": 6,
   "metadata": {},
   "outputs": [
    {
     "name": "stdout",
     "output_type": "stream",
     "text": [
      "rank\n",
      "1\n",
      "{'name': 'Switzerland', 'direction': 'W'}\n",
      "{'name': 'Switzerland', 'direction': 'W'}\n"
     ]
    }
   ],
   "source": [
    "# first child of the root\n",
    "country1 = root[0]\n",
    "\n",
    "# first child of the child\n",
    "rank = country1[0]\n",
    "\n",
    "# what is the tag of the grandchild\n",
    "print(rank.tag)\n",
    "\n",
    "# what is the text inside this grandchild\n",
    "print(rank.text)\n",
    "\n",
    "# what are the attributes of last element\n",
    "print(country1[4].attrib) # or\n",
    "print(country1[-1].attrib)"
   ]
  },
  {
   "cell_type": "code",
   "execution_count": 7,
   "metadata": {},
   "outputs": [
    {
     "name": "stdout",
     "output_type": "stream",
     "text": [
      "rank\n",
      "68\n",
      "{'name': 'Colombia', 'direction': 'E'}\n",
      "{'name': 'Colombia', 'direction': 'E'}\n"
     ]
    }
   ],
   "source": [
    "# finding the same information regarding the third child of the root\n",
    "country3 = root[2]\n",
    "\n",
    "# first child of the child\n",
    "rank = country3[0]\n",
    "\n",
    "# what is the tag of the grandchild\n",
    "print(rank.tag)\n",
    "\n",
    "# what is the text inside this grandchild\n",
    "print(rank.text)\n",
    "\n",
    "# what are the attributes of last element\n",
    "print(country3[4].attrib) # or\n",
    "print(country3[-1].attrib)"
   ]
  },
  {
   "cell_type": "code",
   "execution_count": 8,
   "metadata": {},
   "outputs": [
    {
     "name": "stdout",
     "output_type": "stream",
     "text": [
      "Liechtenstein 1\n",
      "Singapore 4\n",
      "Panama 68\n"
     ]
    }
   ],
   "source": [
    "# find all child with tag `country`\n",
    "for country in root.findall('country'):\n",
    "    # rank is child of the country\n",
    "    rank = country.find('rank').text\n",
    "    # name is attribute of the country\n",
    "    name = country.get('name')\n",
    "    print(name, rank)"
   ]
  },
  {
   "cell_type": "code",
   "execution_count": 9,
   "metadata": {},
   "outputs": [
    {
     "name": "stdout",
     "output_type": "stream",
     "text": [
      "{'name': 'Austria', 'direction': 'E'}\n",
      "{'name': 'Switzerland', 'direction': 'W'}\n",
      "{'name': 'Malaysia', 'direction': 'N'}\n",
      "{'name': 'Costa Rica', 'direction': 'W'}\n",
      "{'name': 'Colombia', 'direction': 'E'}\n"
     ]
    }
   ],
   "source": [
    "for neighbor in root.iter('neighbor'):\n",
    "    print(neighbor.attrib)"
   ]
  },
  {
   "cell_type": "markdown",
   "metadata": {},
   "source": [
    "An XML file has a main/parent element/tag. In this case, the tag is called `data`. Within the `data`, there are `country` tags enclosing the children and their information."
   ]
  },
  {
   "cell_type": "code",
   "execution_count": 12,
   "metadata": {},
   "outputs": [
    {
     "data": {
      "text/plain": [
       "[<Element 'data' at 0x10affd630>]"
      ]
     },
     "execution_count": 12,
     "metadata": {},
     "output_type": "execute_result"
    }
   ],
   "source": [
    "# top-level elements\n",
    "root.findall(\".\")"
   ]
  },
  {
   "cell_type": "code",
   "execution_count": 13,
   "metadata": {},
   "outputs": [
    {
     "data": {
      "text/plain": [
       "[<Element 'neighbor' at 0x10afd0450>,\n",
       " <Element 'neighbor' at 0x10afd0090>,\n",
       " <Element 'neighbor' at 0x10b03aea0>,\n",
       " <Element 'neighbor' at 0x10b0a75e0>,\n",
       " <Element 'neighbor' at 0x10b0a7e00>]"
      ]
     },
     "execution_count": 13,
     "metadata": {},
     "output_type": "execute_result"
    }
   ],
   "source": [
    "# all `neighbor` grand-children of `country` children of the top-level elements\n",
    "root.findall(\"./country/neighbor\")"
   ]
  },
  {
   "cell_type": "code",
   "execution_count": 14,
   "metadata": {},
   "outputs": [
    {
     "data": {
      "text/plain": [
       "[<Element 'country' at 0x10b0d9770>]"
      ]
     },
     "execution_count": 14,
     "metadata": {},
     "output_type": "execute_result"
    }
   ],
   "source": [
    "# elements with name='Singapore` that have a `year` child\n",
    "root.findall(\".//year/..[@name='Singapore']\")"
   ]
  },
  {
   "cell_type": "code",
   "execution_count": 15,
   "metadata": {},
   "outputs": [
    {
     "data": {
      "text/plain": [
       "[<Element 'year' at 0x107b48180>]"
      ]
     },
     "execution_count": 15,
     "metadata": {},
     "output_type": "execute_result"
    }
   ],
   "source": [
    "# 'year' elements that are children of elements with name='Singapore'\n",
    "root.findall(\".//*[@name='Singapore']/year\")"
   ]
  },
  {
   "cell_type": "code",
   "execution_count": 16,
   "metadata": {},
   "outputs": [
    {
     "data": {
      "text/plain": [
       "[<Element 'neighbor' at 0x10afd0090>, <Element 'neighbor' at 0x10b0a7e00>]"
      ]
     },
     "execution_count": 16,
     "metadata": {},
     "output_type": "execute_result"
    }
   ],
   "source": [
    "# all `neighbor` elements that are the second child of their parent\n",
    "root.findall(\".//neighbor[2]\")"
   ]
  },
  {
   "cell_type": "markdown",
   "metadata": {},
   "source": [
    "Extract the name, rank, year, and gdppc from the countries and create a Pandas DataFrame. Try to do it alone before checking the solution here."
   ]
  },
  {
   "cell_type": "code",
   "execution_count": 17,
   "metadata": {},
   "outputs": [],
   "source": [
    "import xml.etree.ElementTree as ET\n",
    "import pandas as pd\n",
    "\n",
    "my_dict = {'name': [],\n",
    "           'rank': [],\n",
    "           'year': [],\n",
    "           'gdppc': []}\n",
    "\n",
    "for country in root:\n",
    "    name_value = country.attrib['name']\n",
    "    my_dict['name'].append(name_value)\n",
    "    \n",
    "    rank_value = country[0].text\n",
    "    my_dict['rank'].append(rank_value)\n",
    "    \n",
    "    year_value = country[1].text\n",
    "    my_dict['year'].append(year_value)\n",
    "    \n",
    "    gdppc_value = country[2].text\n",
    "    my_dict['gdppc'].append(gdppc_value)"
   ]
  },
  {
   "cell_type": "code",
   "execution_count": 21,
   "metadata": {},
   "outputs": [
    {
     "data": {
      "text/html": [
       "<div>\n",
       "<style scoped>\n",
       "    .dataframe tbody tr th:only-of-type {\n",
       "        vertical-align: middle;\n",
       "    }\n",
       "\n",
       "    .dataframe tbody tr th {\n",
       "        vertical-align: top;\n",
       "    }\n",
       "\n",
       "    .dataframe thead th {\n",
       "        text-align: right;\n",
       "    }\n",
       "</style>\n",
       "<table border=\"1\" class=\"dataframe\">\n",
       "  <thead>\n",
       "    <tr style=\"text-align: right;\">\n",
       "      <th></th>\n",
       "      <th>name</th>\n",
       "      <th>rank</th>\n",
       "      <th>year</th>\n",
       "      <th>gdppc</th>\n",
       "    </tr>\n",
       "  </thead>\n",
       "  <tbody>\n",
       "    <tr>\n",
       "      <th>0</th>\n",
       "      <td>Liechtenstein</td>\n",
       "      <td>1</td>\n",
       "      <td>2008</td>\n",
       "      <td>141100</td>\n",
       "    </tr>\n",
       "    <tr>\n",
       "      <th>1</th>\n",
       "      <td>Singapore</td>\n",
       "      <td>4</td>\n",
       "      <td>2011</td>\n",
       "      <td>59900</td>\n",
       "    </tr>\n",
       "    <tr>\n",
       "      <th>2</th>\n",
       "      <td>Panama</td>\n",
       "      <td>68</td>\n",
       "      <td>2011</td>\n",
       "      <td>13600</td>\n",
       "    </tr>\n",
       "  </tbody>\n",
       "</table>\n",
       "</div>"
      ],
      "text/plain": [
       "            name rank  year   gdppc\n",
       "0  Liechtenstein    1  2008  141100\n",
       "1      Singapore    4  2011   59900\n",
       "2         Panama   68  2011   13600"
      ]
     },
     "execution_count": 21,
     "metadata": {},
     "output_type": "execute_result"
    }
   ],
   "source": [
    "df = pd.DataFrame(my_dict)\n",
    "df"
   ]
  },
  {
   "cell_type": "markdown",
   "metadata": {},
   "source": [
    "The `country` tag attribute `name` is accessed through the `attrib` method. The others are children of the parent `country` element. Full documentation to xml parsing can be found [here](https://docs.python.org/3/library/xml.etree.elementtree.html)."
   ]
  }
 ],
 "metadata": {
  "kernelspec": {
   "display_name": "Python 3.8.13 ('lighthouse')",
   "language": "python",
   "name": "python3"
  },
  "language_info": {
   "codemirror_mode": {
    "name": "ipython",
    "version": 3
   },
   "file_extension": ".py",
   "mimetype": "text/x-python",
   "name": "python",
   "nbconvert_exporter": "python",
   "pygments_lexer": "ipython3",
   "version": "3.8.13"
  },
  "orig_nbformat": 4,
  "vscode": {
   "interpreter": {
    "hash": "f6bdb6bebcaa6c165db367a86e382ae8df75f09257c40532b854029e0e3d706f"
   }
  }
 },
 "nbformat": 4,
 "nbformat_minor": 2
}
