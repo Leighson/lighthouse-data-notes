{
 "cells": [
  {
   "cell_type": "markdown",
   "metadata": {},
   "source": [
    "# XML exercise"
   ]
  },
  {
   "cell_type": "markdown",
   "metadata": {},
   "source": [
    "Using data from [**mondial database**](https://drive.google.com/file/d/14lFT4nWHgwN36ij4XZh6OUuup-K9qLgR/view?usp=sharing) find the answers to following questions:\n",
    "\n",
    "1. 10 countries with the lowest infant mortality rates\n",
    "2. 10 cities with the largest population\n",
    "3. name and country of a) longest river, b) largest lake and c) airport at highest elevation"
   ]
  },
  {
   "cell_type": "code",
   "execution_count": 72,
   "metadata": {},
   "outputs": [],
   "source": [
    "import xml.etree.ElementTree as ET\n",
    "import pandas as pd\n",
    "import numpy as np"
   ]
  },
  {
   "cell_type": "code",
   "execution_count": 73,
   "metadata": {},
   "outputs": [],
   "source": [
    "# parsed xml tree and extracted root\n",
    "tree = ET.parse('data/mondial.xml')\n",
    "root = tree.getroot()"
   ]
  },
  {
   "cell_type": "markdown",
   "metadata": {},
   "source": [
    "### 10 countries with the lowest infact mortality rates"
   ]
  },
  {
   "cell_type": "code",
   "execution_count": 74,
   "metadata": {},
   "outputs": [
    {
     "name": "stdout",
     "output_type": "stream",
     "text": [
      "mondial\n",
      "country\n",
      "3403\n"
     ]
    }
   ],
   "source": [
    "print(root.tag)\n",
    "print(root[0].tag)\n",
    "print(len(root))"
   ]
  },
  {
   "cell_type": "code",
   "execution_count": 75,
   "metadata": {},
   "outputs": [
    {
     "data": {
      "text/plain": [
       "{'car_code': 'AL',\n",
       " 'area': '28750',\n",
       " 'capital': 'cty-Albania-Tirane',\n",
       " 'memberships': 'org-BSEC org-CEI org-CD org-SELEC org-CE org-EAPC org-EBRD org-EITI org-FAO org-IPU org-IAEA org-IBRD org-ICC org-ICAO org-ICCt org-Interpol org-IDA org-IFRCS org-IFC org-IFAD org-ILO org-IMO org-IMF org-IOC org-IOM org-ISO org-OIF org-ITU org-ITUC org-IDB org-MIGA org-NATO org-OSCE org-OPCW org-OAS org-OIC org-PCA org-UN org-UNCTAD org-UNESCO org-UNIDO org-UPU org-WCO org-WFTU org-WHO org-WIPO org-WMO org-UNWTO org-WTO'}"
      ]
     },
     "execution_count": 75,
     "metadata": {},
     "output_type": "execute_result"
    }
   ],
   "source": [
    "root[0].attrib"
   ]
  },
  {
   "cell_type": "code",
   "execution_count": 76,
   "metadata": {},
   "outputs": [
    {
     "data": {
      "text/plain": [
       "[<Element 'name' at 0x281369860>,\n",
       " <Element 'population' at 0x2813699a0>,\n",
       " <Element 'population' at 0x2810da900>,\n",
       " <Element 'population' at 0x2810daa40>,\n",
       " <Element 'population' at 0x2810daa90>,\n",
       " <Element 'population' at 0x2810da860>,\n",
       " <Element 'population' at 0x2813c04a0>,\n",
       " <Element 'population' at 0x2813c0ea0>,\n",
       " <Element 'population' at 0x2813c0630>,\n",
       " <Element 'population' at 0x2813c0270>,\n",
       " <Element 'population_growth' at 0x2813c04f0>,\n",
       " <Element 'infant_mortality' at 0x2813c05e0>,\n",
       " <Element 'gdp_total' at 0x2813a0860>,\n",
       " <Element 'gdp_agri' at 0x2813a0770>,\n",
       " <Element 'gdp_ind' at 0x28135eb30>,\n",
       " <Element 'gdp_serv' at 0x28135e040>,\n",
       " <Element 'inflation' at 0x28135ee50>,\n",
       " <Element 'unemployment' at 0x28135ebd0>,\n",
       " <Element 'indep_date' at 0x28135ef40>,\n",
       " <Element 'government' at 0x2813966d0>,\n",
       " <Element 'encompassed' at 0x281396040>,\n",
       " <Element 'ethnicgroup' at 0x2813969f0>,\n",
       " <Element 'ethnicgroup' at 0x281396900>,\n",
       " <Element 'religion' at 0x281396950>,\n",
       " <Element 'religion' at 0x281396770>,\n",
       " <Element 'religion' at 0x281396360>,\n",
       " <Element 'language' at 0x281396220>,\n",
       " <Element 'language' at 0x281219b80>,\n",
       " <Element 'border' at 0x2812199a0>,\n",
       " <Element 'border' at 0x281219400>,\n",
       " <Element 'border' at 0x281219db0>,\n",
       " <Element 'border' at 0x281219860>,\n",
       " <Element 'city' at 0x281219770>,\n",
       " <Element 'city' at 0x281219f90>,\n",
       " <Element 'city' at 0x2810f5540>,\n",
       " <Element 'city' at 0x2810cd590>,\n",
       " <Element 'city' at 0x2810cd270>,\n",
       " <Element 'city' at 0x2810cd9f0>]"
      ]
     },
     "execution_count": 76,
     "metadata": {},
     "output_type": "execute_result"
    }
   ],
   "source": [
    "country1 = root[0]\n",
    "list(country1)"
   ]
  },
  {
   "cell_type": "code",
   "execution_count": 77,
   "metadata": {},
   "outputs": [],
   "source": [
    "mortality_dict = {'name': [],\n",
    "           'infant_mortality': []}\n",
    "\n",
    "for country in root.findall('country'):\n",
    "    \n",
    "    if country.find('infant_mortality') != None:\n",
    "        name = country.find('name').text\n",
    "        infant_mortality = country.find('infant_mortality').text\n",
    "        mortality_dict['name'].append(name)\n",
    "        mortality_dict['infant_mortality'].append(infant_mortality)"
   ]
  },
  {
   "cell_type": "code",
   "execution_count": 78,
   "metadata": {},
   "outputs": [
    {
     "data": {
      "text/html": [
       "<div>\n",
       "<style scoped>\n",
       "    .dataframe tbody tr th:only-of-type {\n",
       "        vertical-align: middle;\n",
       "    }\n",
       "\n",
       "    .dataframe tbody tr th {\n",
       "        vertical-align: top;\n",
       "    }\n",
       "\n",
       "    .dataframe thead th {\n",
       "        text-align: right;\n",
       "    }\n",
       "</style>\n",
       "<table border=\"1\" class=\"dataframe\">\n",
       "  <thead>\n",
       "    <tr style=\"text-align: right;\">\n",
       "      <th></th>\n",
       "      <th>name</th>\n",
       "      <th>infant_mortality</th>\n",
       "    </tr>\n",
       "  </thead>\n",
       "  <tbody>\n",
       "    <tr>\n",
       "      <th>197</th>\n",
       "      <td>Central African Republic</td>\n",
       "      <td>92.86</td>\n",
       "    </tr>\n",
       "    <tr>\n",
       "      <th>214</th>\n",
       "      <td>Guinea-Bissau</td>\n",
       "      <td>90.92</td>\n",
       "    </tr>\n",
       "    <tr>\n",
       "      <th>198</th>\n",
       "      <td>Chad</td>\n",
       "      <td>90.3</td>\n",
       "    </tr>\n",
       "    <tr>\n",
       "      <th>159</th>\n",
       "      <td>Argentina</td>\n",
       "      <td>9.96</td>\n",
       "    </tr>\n",
       "    <tr>\n",
       "      <th>66</th>\n",
       "      <td>Thailand</td>\n",
       "      <td>9.86</td>\n",
       "    </tr>\n",
       "    <tr>\n",
       "      <th>58</th>\n",
       "      <td>Bahrain</td>\n",
       "      <td>9.68</td>\n",
       "    </tr>\n",
       "    <tr>\n",
       "      <th>123</th>\n",
       "      <td>Greenland</td>\n",
       "      <td>9.42</td>\n",
       "    </tr>\n",
       "    <tr>\n",
       "      <th>188</th>\n",
       "      <td>Botswana</td>\n",
       "      <td>9.38</td>\n",
       "    </tr>\n",
       "    <tr>\n",
       "      <th>129</th>\n",
       "      <td>Sint Maarten</td>\n",
       "      <td>9.05</td>\n",
       "    </tr>\n",
       "    <tr>\n",
       "      <th>99</th>\n",
       "      <td>Sri Lanka</td>\n",
       "      <td>9.02</td>\n",
       "    </tr>\n",
       "  </tbody>\n",
       "</table>\n",
       "</div>"
      ],
      "text/plain": [
       "                         name infant_mortality\n",
       "197  Central African Republic            92.86\n",
       "214             Guinea-Bissau            90.92\n",
       "198                      Chad             90.3\n",
       "159                 Argentina             9.96\n",
       "66                   Thailand             9.86\n",
       "58                    Bahrain             9.68\n",
       "123                 Greenland             9.42\n",
       "188                  Botswana             9.38\n",
       "129              Sint Maarten             9.05\n",
       "99                  Sri Lanka             9.02"
      ]
     },
     "execution_count": 78,
     "metadata": {},
     "output_type": "execute_result"
    }
   ],
   "source": [
    "pd.DataFrame(mortality_dict).sort_values(by=\"infant_mortality\", ascending=False).head(10)"
   ]
  },
  {
   "cell_type": "markdown",
   "metadata": {},
   "source": [
    "### 10 cities with the largest population"
   ]
  },
  {
   "cell_type": "code",
   "execution_count": 89,
   "metadata": {},
   "outputs": [
    {
     "data": {
      "text/html": [
       "<div>\n",
       "<style scoped>\n",
       "    .dataframe tbody tr th:only-of-type {\n",
       "        vertical-align: middle;\n",
       "    }\n",
       "\n",
       "    .dataframe tbody tr th {\n",
       "        vertical-align: top;\n",
       "    }\n",
       "\n",
       "    .dataframe thead th {\n",
       "        text-align: right;\n",
       "    }\n",
       "</style>\n",
       "<table border=\"1\" class=\"dataframe\">\n",
       "  <thead>\n",
       "    <tr style=\"text-align: right;\">\n",
       "      <th></th>\n",
       "      <th>name</th>\n",
       "      <th>population</th>\n",
       "    </tr>\n",
       "  </thead>\n",
       "  <tbody>\n",
       "    <tr>\n",
       "      <th>55</th>\n",
       "      <td>China</td>\n",
       "      <td>543776080</td>\n",
       "    </tr>\n",
       "    <tr>\n",
       "      <th>67</th>\n",
       "      <td>India</td>\n",
       "      <td>238396327</td>\n",
       "    </tr>\n",
       "    <tr>\n",
       "      <th>120</th>\n",
       "      <td>United States</td>\n",
       "      <td>157813040</td>\n",
       "    </tr>\n",
       "    <tr>\n",
       "      <th>23</th>\n",
       "      <td>Russia</td>\n",
       "      <td>102798657</td>\n",
       "    </tr>\n",
       "    <tr>\n",
       "      <th>98</th>\n",
       "      <td>Japan</td>\n",
       "      <td>82199470</td>\n",
       "    </tr>\n",
       "    <tr>\n",
       "      <th>88</th>\n",
       "      <td>Indonesia</td>\n",
       "      <td>72592192</td>\n",
       "    </tr>\n",
       "    <tr>\n",
       "      <th>11</th>\n",
       "      <td>Germany</td>\n",
       "      <td>68230796</td>\n",
       "    </tr>\n",
       "    <tr>\n",
       "      <th>176</th>\n",
       "      <td>Brazil</td>\n",
       "      <td>53974725</td>\n",
       "    </tr>\n",
       "    <tr>\n",
       "      <th>53</th>\n",
       "      <td>United Kingdom</td>\n",
       "      <td>50616012</td>\n",
       "    </tr>\n",
       "    <tr>\n",
       "      <th>7</th>\n",
       "      <td>France</td>\n",
       "      <td>40502513</td>\n",
       "    </tr>\n",
       "  </tbody>\n",
       "</table>\n",
       "</div>"
      ],
      "text/plain": [
       "               name  population\n",
       "55            China   543776080\n",
       "67            India   238396327\n",
       "120   United States   157813040\n",
       "23           Russia   102798657\n",
       "98            Japan    82199470\n",
       "88        Indonesia    72592192\n",
       "11          Germany    68230796\n",
       "176          Brazil    53974725\n",
       "53   United Kingdom    50616012\n",
       "7            France    40502513"
      ]
     },
     "execution_count": 89,
     "metadata": {},
     "output_type": "execute_result"
    }
   ],
   "source": [
    "population_dict = {'name': [],\n",
    "                   'population': []}\n",
    "\n",
    "for country in root.findall('country'):\n",
    "    name = country.find('name').text\n",
    "    pop = country.find('population').text\n",
    "    \n",
    "    population_dict['name'].append(name)\n",
    "    population_dict['population'].append(int(pop)) # convert population from string to integer before adding to dict\n",
    "\n",
    "pd.DataFrame(population_dict).sort_values(by='population', ascending=False).head(10)"
   ]
  },
  {
   "cell_type": "markdown",
   "metadata": {},
   "source": [
    "### Name and country of:\n",
    "### 1. Longest river\n",
    "### 2. Largest lake\n",
    "### 3. Airport at highest elevation"
   ]
  },
  {
   "cell_type": "code",
   "execution_count": 90,
   "metadata": {},
   "outputs": [
    {
     "data": {
      "text/plain": [
       "[<Element 'name' at 0x283c2c2c0>,\n",
       " <Element 'localname' at 0x283c2c310>,\n",
       " <Element 'population' at 0x283c2c360>,\n",
       " <Element 'population' at 0x283c2c3b0>,\n",
       " <Element 'population' at 0x283c2c400>,\n",
       " <Element 'population' at 0x283c2c450>,\n",
       " <Element 'population' at 0x283c2c4a0>,\n",
       " <Element 'population' at 0x283c2c4f0>,\n",
       " <Element 'population' at 0x283c2c540>,\n",
       " <Element 'population' at 0x283c2c590>,\n",
       " <Element 'population' at 0x283c2c5e0>,\n",
       " <Element 'population_growth' at 0x283c2c630>,\n",
       " <Element 'infant_mortality' at 0x283c2c680>,\n",
       " <Element 'gdp_total' at 0x283c2c6d0>,\n",
       " <Element 'gdp_agri' at 0x283c2c720>,\n",
       " <Element 'gdp_ind' at 0x283c2c770>,\n",
       " <Element 'gdp_serv' at 0x283c2c7c0>,\n",
       " <Element 'inflation' at 0x283c2c810>,\n",
       " <Element 'unemployment' at 0x283c2c860>,\n",
       " <Element 'indep_date' at 0x283c2c8b0>,\n",
       " <Element 'government' at 0x283c2c900>,\n",
       " <Element 'encompassed' at 0x283c2c950>,\n",
       " <Element 'ethnicgroup' at 0x283c2c9a0>,\n",
       " <Element 'religion' at 0x283c2c9f0>,\n",
       " <Element 'religion' at 0x283c2ca40>,\n",
       " <Element 'city' at 0x283c2cae0>]"
      ]
     },
     "execution_count": 90,
     "metadata": {},
     "output_type": "execute_result"
    }
   ],
   "source": [
    "list(country)"
   ]
  }
 ],
 "metadata": {
  "anaconda-cloud": {},
  "kernelspec": {
   "display_name": "Python 3.8.13 ('lighthouse')",
   "language": "python",
   "name": "python3"
  },
  "language_info": {
   "codemirror_mode": {
    "name": "ipython",
    "version": 3
   },
   "file_extension": ".py",
   "mimetype": "text/x-python",
   "name": "python",
   "nbconvert_exporter": "python",
   "pygments_lexer": "ipython3",
   "version": "3.8.13"
  },
  "vscode": {
   "interpreter": {
    "hash": "f6bdb6bebcaa6c165db367a86e382ae8df75f09257c40532b854029e0e3d706f"
   }
  }
 },
 "nbformat": 4,
 "nbformat_minor": 4
}
