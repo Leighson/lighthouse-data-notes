{
 "cells": [
  {
   "cell_type": "markdown",
   "metadata": {},
   "source": [
    "# HTML"
   ]
  },
  {
   "cell_type": "markdown",
   "metadata": {},
   "source": [
    "In this activity, we will learn how we can load HTML tables directly into Pandas, and learn the basics of web scraping which is a very popular way of data gathering."
   ]
  },
  {
   "cell_type": "code",
   "execution_count": 73,
   "metadata": {},
   "outputs": [],
   "source": [
    "from bs4 import BeautifulSoup\n",
    "import pandas as pd\n",
    "import requests as re"
   ]
  },
  {
   "cell_type": "code",
   "execution_count": 74,
   "metadata": {},
   "outputs": [
    {
     "data": {
      "text/plain": [
       "<Response [200]>"
      ]
     },
     "execution_count": 74,
     "metadata": {},
     "output_type": "execute_result"
    }
   ],
   "source": [
    "url = 'https://www.worldcoinindex.com'\n",
    "crypto_url = re.get(url)\n",
    "crypto_url"
   ]
  },
  {
   "cell_type": "code",
   "execution_count": 75,
   "metadata": {},
   "outputs": [
    {
     "data": {
      "text/plain": [
       "'\\n<!DOCTYPE html>\\n<html style=\"background-color: #FFF\">\\n<head>\\n<meta http-equiv=\"Content-Type\" content=\"text/html\">\\n<meta name=\"mobile-web-app-capable\" content=\"yes\">\\n<meta charset=\"utf-8\" />\\n<meta name=\"description\" content=\"Cryptocoins ranked by 24hr trading volume, price info, charts, market cap and news\" />\\n<meta name=\"keywords\" content=\"Coin, index, worldcoin, coinindex, worldindex, cryptocoins, crypto, traded, exchanges, ranked, marketcap, coins, cryptocurrency ,coinprices, price, last trade time, trade, market cap, trading, traded, volume, rate, buy cryptocurrency, sell cryptocurrency\" />\\n<meta name=\"viewport\" content=\"width=device-width, initial-scale=1, user-scalable = no\">\\n<meta name=\"apple-mobile-web-app-capable\" content=\"yes\" />\\n<meta name=\"propeller\" content=\"efad6eed15cdd45139ef34d287cc06ff\" />\\n<meta property=\"og:image\" content=\"https://www.worldcoinindex.com/content/img/worldcoinindex_social.png?v=3\" />\\n<title>Cryptocoin price index and market cap - WorldCoinIndex</title>\\n<link rel=\"manifest\" href=\"/manifest.json?v=4\">\\n<link rel=\"icon\" href=\"/favicon.ico?v=3\" />\\n<link rel=”preload” as=”script” type=”text/javascript” href=”https://c.amazon-adsystem.com/aax2/apstag.js”>\\n<link rel=”preload” as=”script” type=”text/javascript” href=”https://securepubads.g.doubleclick.net/tag/js/gpt.js”>\\n<link rel=”preconnect” href=”https://securepubads.g.doubleclick.net”>\\n<link rel=\"preconnect\" href=\"https://fonts.gstatic.com\" crossorigin>\\n\\n<link rel=\"preload\" as=\"style\" href=\"https://fonts.googleapis.com/css?family=Ubuntu:regular,bold&subset=Latin&display=swap\">\\n<link rel=\"stylesheet\" type=\"text/css\" href=\"https://fonts.googleapis.com/css?family=Ubuntu:regular,bold&subset=Latin&display=swap\">\\n<link href=\"/content/css/v-637692786480562488/wcicombined.css\" rel=\"stylesheet\">\\n<link rel=\"stylesheet\" href=\"https://use.fontawesome.com/releases/v5.13.0/css/all.css\" integrity=\"sha384-Bfad6CLCknfcloXFOyFnlgtENryhrpZCe29RTifKEixXQZ38WheV+i/6YWSzkz3V\" crossorigin=\"anonymous\">\\n<link rel=\"alternate\" hreflang=\"en\" href=\"https://www.worldcoinindex.com\">\\n<link rel=\"alternate\" hreflang=\"id\" href=\"https://www.worldcoinindex.com/id\">\\n<link rel=\"alternate\" hreflang=\"ms\" href=\"https://www.worldcoinindex.com/ms\">\\n<link rel=\"alternate\" hreflang=\"da\" href=\"https://www.worldcoinindex.com/da\">\\n<link rel=\"alternate\" hreflang=\"de\" href=\"https://www.worldcoinindex.com/de\">\\n<link rel=\"alternate\" hreflang=\"es\" href=\"https://www.worldcoinindex.com/es\">\\n<link rel=\"alternate\" hreflang=\"ph\" href=\"https://www.worldcoinindex.com/ph\">\\n<link rel=\"alternate\" hreflang=\"fr\" href=\"https://www.worldcoinindex.com/fr\">\\n<link rel=\"alternate\" hreflang=\"it\" href=\"https://www.worldcoinindex.com/it\">\\n<link rel=\"alternate\" hreflang=\"hu\" href=\"https://www.worldcoinindex.com/hu\">\\n<link rel=\"alternate\" hreflang=\"nl\" href=\"https://www.worldcoinindex.com/nl\">\\n<link rel=\"alternate\" hreflang=\"no\" href=\"https://www.worldcoinindex.com/no\">\\n<link rel=\"alternate\" hreflang=\"pl\" href=\"https://www.worldcoinindex.com/pl\">\\n<link rel=\"alternate\" hreflang=\"pt\" href=\"https://www.worldcoinindex.com/pt\">\\n<link rel=\"alternate\" hreflang=\"ro\" href=\"https://www.worldcoinindex.com/ro\">\\n<link rel=\"alternate\" hreflang=\"sl\" href=\"https://www.worldcoinindex.com/sl\">\\n<link rel=\"alternate\" hreflang=\"fi\" href=\"https://www.worldcoinindex.com/fi\">\\n<link rel=\"alternate\" hreflang=\"sw\" href=\"https://www.worldcoinindex.com/sw\">\\n<link rel=\"alternate\" hreflang=\"vi\" href=\"https://www.worldcoinindex.com/vi\">\\n<link rel=\"alternate\" hreflang=\"tr\" href=\"https://www.worldcoinindex.com/tr\">\\n<link rel=\"alternate\" hreflang=\"el\" href=\"https://www.worldcoinindex.com/el\">\\n<link rel=\"alternate\" hreflang=\"bg\" href=\"https://www.worldcoinindex.com/bg\">\\n<link rel=\"alternate\" hreflang=\"ru\" href=\"https://www.worldcoinindex.com/ru\">\\n<link rel=\"alternate\" hreflang=\"ar\" href=\"https://www.worldcoinindex.com/ar\">\\n<link rel=\"alternate\" hreflang=\"hi\" href=\"https://www.worldcoinindex.com/hi\">\\n<link rel=\"alternate\" hreflang=\"bn\" href=\"https://www.worldcoinindex.com/bn\">\\n<link rel=\"alternate\" hreflang=\"th\" href=\"https://www.worldcoinindex.com/th\">\\n<link rel=\"alternate\" hreflang=\"ko\" href=\"https://www.worldcoinindex.com/ko\">\\n<link rel=\"alternate\" hreflang=\"zh\" href=\"https://www.worldcoinindex.com/zh\">\\n<link rel=\"alternate\" hreflang=\"ja\" href=\"https://www.worldcoinindex.com/ja\">\\n<link rel=\"canonical\" href=\"https://www.worldcoinindex.com\">\\n<script>\\r\\n            (function (i, s, o, g, r, a, m) {\\r\\n                i[\\'GoogleAnalyticsObject\\'] = r; i[r] = i[r] || function () {\\r\\n                    (i[r].q = i[r].q || []).push(arguments)\\r\\n                }, i[r].l = 1 * new Date(); a = s.createElement(o),\\r\\n                m = s.getElementsByTagName(o)[0]; a.async = 1; a.src = g; m.parentNode.insertBefore(a, m)\\r\\n            })(window, document, \\'script\\', \\'//www.google-analytics.com/analytics.js\\', \\'ga\\');\\r\\n\\r\\n            ga(\\'create\\', \\'UA-46824682-1\\', \\'worldcoinindex.com\\');\\r\\n            ga(\\'set\\', \\'dimension1\\', \\'usd\\');\\r\\n           \\r\\n            ga(\\'send\\', \\'pageview\\');\\r\\n\\r\\n        </script>\\n<script> \\r\\n\\r\\n // Load GPT asynchronously\\r\\n var googletag = googletag || {};\\r\\n googletag.cmd = googletag.cmd || [];\\r\\n (function() {\\r\\n   var gads = document.createElement(\\'script\\');\\r\\n   gads.async = true;\\r\\n   gads.type = \\'text/javascript\\';\\r\\n   var useSSL = \\'https:\\' == document.location.protocol;\\r\\n   gads.src = (useSSL ? \\'https:\\' : \\'http:\\') +\\r\\n       \\'//securepubads.g.doubleclick.net/tag/js/gpt.js\\';\\r\\n   var node = document.getElementsByTagName(\\'script\\')[0];\\r\\n   node.parentNode.insertBefore(gads, node);\\r\\n })();\\r\\n</script>\\n<script>\\r\\n  googletag.cmd.push(function() {\\r\\n\\tgoogletag.defineSlot(\\'/21648369899/desk_top_728_90\\', [728, 90], \\'div-gpt-ad-1571048955019-0\\').addService(googletag.pubads());\\r\\n\\tgoogletag.defineSlot(\\'/21648369899/desk_topside_160_600\\', [[160, 600], [120, 600]], \\'div-gpt-ad-1571049284491-0\\').addService(googletag.pubads());\\r\\n\\tgoogletag.defineSlot(\\'/21648369899/desk_bottom\\', [728, 90], \\'div-gpt-ad-1589106303720-0\\').addService(googletag.pubads());\\r\\n\\tgoogletag.defineSlot(\\'/21648369899/mob_hometop_320_50\\', [320, 50], \\'div-gpt-ad-1571049328383-0\\').addService(googletag.pubads());\\r\\n\\tgoogletag.defineSlot(\\'/21648369899/mob_homemid_320_50\\', [320, 50], \\'div-gpt-ad-1571049370698-0\\').addService(googletag.pubads());\\r\\n\\tgoogletag.defineSlot(\\'/21648369899/mob_homelow_320_50\\', [320, 50], \\'div-gpt-ad-1571049390094-0\\').addService(googletag.pubads());\\r\\n\\tgoogletag.defineSlot(\\'/21648369899/mob_homelow_300_250_2\\', [[320, 100], [320, 50]], \\'div-gpt-ad-1585574656534-0\\').addService(googletag.pubads());\\r\\n    googletag.defineSlot(\\'/21648369899/mob_homelow_300_250\\', [300, 250], \\'div-gpt-ad-1571049416013-0\\').addService(googletag.pubads());\\r\\n    googletag.pubads().disableInitialLoad();\\r\\n\\tgoogletag.pubads().enableLazyLoad();\\r\\n    googletag.pubads().enableSingleRequest();\\r\\n    googletag.enableServices();\\r\\n  });\\r\\n  \\r\\n  \\r\\n\\r\\n</script>\\n<script type=\\'text/javascript\\'>\\r\\n  !function(a9,a,p,s,t,A,g){if(a[a9])return;function q(c,r){a[a9]._Q.push([c,r])}a[a9]={init:function(){q(\"i\",arguments)},fetchBids:function(){q(\"f\",arguments)},setDisplayBids:function(){},targetingKeys:function(){return[]},_Q:[]};A=p.createElement(s);A.async=!0;A.src=t;g=p.getElementsByTagName(s)[0];g.parentNode.insertBefore(A,g)}(\"apstag\",window,document,\"script\",\"//c.amazon-adsystem.com/aax2/apstag.js\");\\r\\n\\r\\n  // initialize apstag and have apstag set bids on the googletag slots when they are returned to the page\\r\\n  apstag.init({\\r\\n    pubID: \\'6b05b915-7819-470a-af46-cc5bfb1df1cf\\',\\r\\n    adServer: \\'googletag\\'\\r\\n  });\\r\\n\\r\\n  // request the bids for the four googletag slots\\r\\n  apstag.fetchBids({\\r\\n  slots: [{\\r\\n      slotID: \\'div-gpt-ad-1571048955019-0\\', //example: div-gpt-ad-1475102693815-0\\r\\n      slotName: \\'/21648369899/desk_top_728_90\\', //example: //example: /116082170/slot2\\r\\n      sizes: [[728, 90]] //example: [[300,250],[300, 600]]\\r\\n    },{\\r\\n      slotID: \\'div-gpt-ad-1571049284491-0\\', //example: div-gpt-ad-1475102693815-0\\r\\n      slotName: \\'/21648369899/desk_topside_160_600\\', //example: //example: /116082170/slot2\\r\\n      sizes: [[160, 600], [120, 600]] //example: [[300,250],[300, 600]]\\r\\n    },{\\r\\n      slotID: \\'div-gpt-ad-1589106303720-0\\', //example: div-gpt-ad-1589106303720-0\\r\\n      slotName: \\'/21648369899/desk_bottom\\', //example: //example: /116082170/slot2\\r\\n      sizes: [[728, 90]] //example: [[300,250],[300, 600]]\\r\\n    },{\\r\\n      slotID: \\'div-gpt-ad-1571049328383-0\\', //example: div-gpt-ad-1475102693815-0\\r\\n      slotName: \\'/21648369899/mob_hometop_320_50\\', //example: //example: /116082170/slot2\\r\\n      sizes: [[320, 50]] //example: [[300,250],[300, 600]]\\r\\n    },{\\r\\n      slotID: \\'div-gpt-ad-1571049370698-0\\', //example: div-gpt-ad-1475102693815-0\\r\\n      slotName: \\'/21648369899/mob_homemid_320_50\\', //example: //example: /116082170/slot2\\r\\n      sizes: [[320, 50]] //example: [[300,250],[300, 600]]\\r\\n    },{\\r\\n      slotID: \\'div-gpt-ad-1571049390094-0\\', //example: div-gpt-ad-1475102693815-0\\r\\n      slotName: \\'/21648369899/mob_homelow_320_50\\', //example: //example: /116082170/slot2\\r\\n      sizes: [[320, 50]] //example: [[300,250],[300, 600]]\\r\\n    },{\\r\\n      slotID: \\'div-gpt-ad-1585574656534-0\\', //example: div-gpt-ad-1475102693815-0\\r\\n      slotName: \\'/21648369899/mob_homelow_300_250_2\\', //example: //example: /116082170/slot2\\r\\n      sizes: [[320, 100], [320, 50]] //example: [[300,250],[300, 600]]\\r\\n    },{\\r\\n      slotID: \\'div-gpt-ad-1571049416013-0\\', //example: div-gpt-ad-1475102693815-0\\r\\n      slotName: \\'/21648369899/mob_homelow_300_250\\', //example: //example: /116082170/slot2\\r\\n      sizes: [[300, 250]] //example: [[300,250],[300, 600]]\\r\\n    }],\\r\\n    bidTimeout: 2e3\\r\\n  }, function(bids) {\\r\\n    // set apstag bids, then trigger the first request to DFP\\r\\n    googletag.cmd.push(function() {\\r\\n      apstag.setDisplayBids();\\r\\n      googletag.pubads().refresh();   \\r\\n    });\\r\\n  });\\r\\n  var interval = setInterval(function() {\\r\\n    // console.log(\\'refresh\\');\\r\\n\\t googletag.cmd.push(function() {\\r\\n            apstag.setDisplayBids();\\r\\n\\t\\t\\t\\r\\n            googletag.pubads().refresh();\\r\\n        });\\r\\n     }, 300000);\\r\\n  \\r\\n</script>\\n</head>\\n<body class=\" top-hidden\">\\n<input id=\"server\" name=\"server\" type=\"hidden\" value=\"newserver\" />\\n<input id=\"fiatID\" name=\"fiatID\" type=\"hidden\" value=\"usd\" />\\n<input id=\"abbreviation\" name=\"abbreviation\" type=\"hidden\" value=\"false\" />\\n<input id=\"cointrans\" name=\"cointrans\" type=\"hidden\" value=\"coin\" />\\n<div class=\"top-bar coin-zoom\">\\n<div class=\"container\">\\n<div class=\"btcusd\">\\n<img src=\"/content/img/down1.png\" /><span class=\"top-label\">BTC/USD</span><br />\\n<span class=\"top-price\">$ 16,974&nbsp;\\n<perc style=\"color: #FF5B5B\">-0.02%</perc>\\n</span>\\n</div>\\n<div class=\"btceur\">\\n<img src=\"/content/img/up.png\" /><span class=\"top-label\">BTC/EUR</span><br />\\n<span class=\"top-price\">&euro; 16,140&nbsp;\\n<perc style=\"color: #00C605\">0.03%</perc>\\n</span>\\n</div>\\n<div class=\"btccny\">\\n<span class=\"top-label\">BTC/CNY</span><br />\\n<span class=\"top-price\">&yen; 116,170&nbsp; 0%</span>\\n</div>\\n<div class=\"btcgbp\">\\n<img src=\"/content/img/up.png\" /><span class=\"top-label\">BTC/GBP</span><br />\\n<span class=\"top-price\">&pound; 13,985&nbsp;\\n<perc style=\"color: #00C605\">0.09%</perc>\\n</span>\\n</div>\\n<div class=\"btcrur\">\\n<img src=\"/content/img/up.png\" /><span class=\"top-label\">BTC/RUB</span><br />\\n<span class=\"top-price\">&#x20bd; 1,146,526&nbsp;\\n<perc style=\"color: #00C605\">0.02%</perc>\\n</span>\\n</div>\\n<div class=\"btcvolume\"><span class=\"top-label\">BTC volume</span><br />\\n<span class=\"top-price\">$ 6.58B</span></div>\\n<div class=\"altcoinvolume\"><span class=\"top-label\">Altcoin volume</span><br />\\n<span class=\"top-price\">$ 11.07B</span></div>\\n<div class=\"top-marketcap\"><span class=\"top-label\">Crypto market cap</span><br />\\n<span class=\"top-price\">$ 735.43B</span></div>\\n</div>\\n</div>\\n<div class=\"container wci-main-container\">\\n<div class=\"page-header coin-zoom\">\\n<div class=\"logo variable-width\">\\n<div class=\"logo-container\">\\n<a href=\"/\">\\n<img class=\"imglogo\" src=\"/Content/img/logo.png?v=3\" alt=\"Worldcoinindex\" title=\"Worldcoinindex\" />\\n<img class=\"imglogo-mob\" style=\"display:none;\" src=\"/Content/img/logo_mob.png?v=3\" alt=\"Worldcoinindex\" title=\"Worldcoinindex\" />\\n</a>\\n</div>\\n<div class=\"wrapper\">\\n\\n<div id=\\'div-gpt-ad-1571048955019-0\\'>\\n<script defer>\\r\\n    googletag.cmd.push(function() { googletag.display(\\'div-gpt-ad-1571048955019-0\\'); });\\r\\n  </script>\\n</div>\\n<div id=\"bsa-zone_1571076407868-8_123456\" style=\"\"></div>\\n</div>\\n<div class=\"wrapper-mobile\">\\n<div class=\"carousel-mobile\">\\n<ul>\\n<li class=\"coince-li\">\\n<figure>\\n\\n<div id=\\'div-gpt-ad-1571049328383-0\\' style=\\'width: 320px; height: 50px;\\'>\\n<script defer>\\r\\n    googletag.cmd.push(function() { googletag.display(\\'div-gpt-ad-1571049328383-0\\'); });\\r\\n  </script>\\n</div>\\n</figure>\\n</li>\\n</ul>\\n</div>\\n</div>\\n</div>\\n</div>\\n<input id=\"something\" name=\"something\" type=\"hidden\" value=\"\" />\\n<div id=\"navbar\" class=\"zoomer\">\\n<nav class=\"navbar navbar-default\" role=\"navigation\">\\n<div class=\"navbar-header\">\\n<button type=\"button\" class=\"btn navbar-toggle collapsed\" data-toggle=\"collapse\" data-target=\".navbar-collapse\">\\n<span class=\"sr-only\">Toggle navigation</span>\\n<span class=\"icon-bar\"></span>\\n<span class=\"icon-bar\"></span>\\n<span class=\"icon-bar\"></span>\\n</button>\\n<div id=\"logo\">\\n<form role=\"search\" class=\"navbar-form-custom\" id=\"the-basics\" method=\"get\" action=\"/ar/Search\">\\n<div class=\"pull-left search search2\" style=\"display: none;\">\\n<input type=\"text\" placeholder=\"Search cryptocoin\" class=\"zoeken input-sm\" name=\"tn_q\" id=\"top-search\">\\n</div>\\n</form>\\n<div class=\"pull-right search fiat-choices fiat-choices2\">\\n<section class=\"main\">\\n<div class=\"wrapper-demo\">\\n<div id=\"dd2\" class=\"wrapper-dropdown-5\" tabindex=\"1\">\\n<span style=\"top: 3px; position: relative;\">\\nUSD </span>\\n<ul class=\"dropdown\" tabindex=\"1\">\\n<li data-koers=\"btc\"><a><i class=\"icon-remove\"></i>BTC</a></li>\\n<li data-koers=\"eth\"><a><i class=\"icon-remove\"></i>ETH</a></li>\\n<li data-koers=\"usd\" style=\"display:none\"><a><i class=\"icon-user\"></i>USD</a></li>\\n<li data-koers=\"eur\"><a><i class=\"icon-cog\"></i>EUR</a></li>\\n<li data-koers=\"cny\"><a><i class=\"icon-cog\"></i>CNY</a></li>\\n<li data-koers=\"rur\"><a><i class=\"icon-cog\"></i>RUB</a></li>\\n<li data-koers=\"gbp\"><a><i class=\"icon-cog\"></i>GBP</a></li>\\n<li data-koers=\"cad\"><a><i class=\"icon-remove\"></i>CAD</a></li>\\n<li data-koers=\"jpy\"><a><i class=\"icon-remove\"></i>JPY</a></li>\\n<li data-koers=\"hkd\"><a><i class=\"icon-remove\"></i>HKD</a></li>\\n<li data-koers=\"brl\"><a><i class=\"icon-remove\"></i>BRL</a></li>\\n<li data-koers=\"idr\"><a><i class=\"icon-remove\"></i>IDR</a></li>\\n<li data-koers=\"aud\"><a><i class=\"icon-remove\"></i>AUD</a></li>\\n<li data-koers=\"krw\"><a><i class=\"icon-remove\"></i>KRW</a></li>\\n<li data-koers=\"inr\"><a><i class=\"icon-remove\"></i>INR</a></li>\\n<li data-koers=\"try\"><a><i class=\"icon-remove\"></i>TRY</a></li>\\n<li data-koers=\"zar\"><a><i class=\"icon-remove\"></i>ZAR</a></li>\\n<li data-koers=\"pln\"><a><i class=\"icon-remove\"></i>PLN</a></li>\\n<li data-koers=\"usdt\"><a><i class=\"icon-remove\"></i>USDT</a></li>\\n<li data-koers=\"chf\"><a><i class=\"icon-remove\"></i>CHF</a></li>\\n<li data-koers=\"thb\"><a><i class=\"icon-remove\"></i>THB</a></li>\\n</ul>\\n</div>\\n</div>\\n</section>\\n</div>\\n</div>\\n\\n</div>\\n\\n<div class=\"collapse navbar-collapse variable-width\" id=\"bs-example-navbar-collapse-1\">\\n<ul class=\"nav navbar-nav show-nav-desktop\">\\n<li class=\"active\"><a href=\"/\">Home</a></li>\\n<li class=\"dropdown\">\\n<a href=\"#\" class=\"dropdown-toggle\" data-toggle=\"dropdown\" role=\"button\" aria-haspopup=\"true\" aria-expanded=\"false\" data-column=\"stats-nav-container\">Stats</a>\\n<div class=\"stats-nav-container\">\\n<div class=\"col-md-3 nav-column\">\\n<div class=\"col-md-12 \"><a href=\"/volume\">Total Volume</a></div>\\n<div class=\"col-md-12\">&nbsp;</div>\\n<div class=\"col-md-12\">&nbsp;</div>\\n</div>\\n<div class=\"col-md-3 nav-column\">\\n<div class=\"col-md-12 \"><a href=\"/trending\">Trending</a></div>\\n<div class=\"col-md-12 \"><a href=\"/trending/overview\">Overview</a></div>\\n<div class=\"col-md-12\">&nbsp;</div>\\n</div>\\n<div class=\"col-md-3 nav-column last-nav-column\">\\n<div class=\"col-md-12 \"><a href=\"/alltimehigh\">All time high</a></div>\\n<div class=\"col-md-12 \"><a href=\"/yeartoyear\">Year to Year</a></div>\\n<div class=\"col-md-12\">&nbsp;</div>\\n</div>\\n</div>\\n</li>\\n<li class=\"dropdown\">\\n<a href=\"#\" class=\"dropdown-toggle\" data-toggle=\"dropdown\" role=\"button\" aria-haspopup=\"true\" aria-expanded=\"false\" data-column=\"markets-nav-container\">Markets</a>\\n<div class=\"markets-nav-container\">\\n<div class=\"col-md-3 nav-column\">\\n<div class=\"col-md-12  \"><a href=\"/spotvolume\">Spot</a></div>\\n<div class=\"col-md-12 \"><a href=\"/derivatives\">Derivatives</a></div>\\n<div class=\"col-md-12\">&nbsp;</div>\\n</div> \\n<div class=\"col-md-3 nav-column\">\\n<div class=\"col-md-12 \"><a href=\"/openinterest\">Open Interest</a></div>\\n<div class=\"col-md-12 \"><a href=\"/perpetuals\">Perpetuals</a></div>\\n<div class=\"col-md-12\">&nbsp;</div>\\n</div>\\n<div class=\"col-md-3 nav-column\">\\n<div class=\"col-md-12 \"><a href=\"/futures\">Futures</a></div>\\n<div class=\"col-md-12 \"><a href=\"/options\">Options</a></div>\\n<div class=\"col-md-12\">&nbsp;</div>\\n</div>\\n<div class=\"col-md-3 nav-column last-nav-column\">\\n<div class=\"col-md-12 \"><a href=\"/yieldfarming\">Farming</a></div>\\n<div class=\"col-md-12\">&nbsp;</div>\\n<div class=\"col-md-12\">&nbsp;</div>\\n</div>\\n</div>\\n</li>\\n<li class=\"dropdown\">\\n<a href=\"#\" class=\"dropdown-toggle\" data-toggle=\"dropdown\" role=\"button\" aria-haspopup=\"true\" aria-expanded=\"false\" data-column=\"exchanges-nav-container\">Exchanges</a>\\n<div class=\"exchanges-nav-container\">\\n<div class=\"col-md-3\">\\n<div class=\"col-md-12 \"><a href=\"/exchange\">Spot</a></div>\\n<div class=\"col-md-12 \"><a href=\"/exchange/perpetuals\">Perpetuals</a></div>\\n<div class=\"col-md-12\">&nbsp;</div>\\n</div>\\n<div class=\"col-md-3 last-nav-column\">\\n<div class=\"col-md-12 \"><a href=\"/exchange/futures\">Futures</a></div>\\n<div class=\"col-md-12 \"><a href=\"/exchange/options\">Options</a></div>\\n<div class=\"col-md-12\">&nbsp;</div>\\n</div>\\n</div>\\n</li>\\n<li><a href=\"/news\">News</a></li>\\n<li class=\"dropdown\">\\n<a href=\"#\" class=\"dropdown-toggle\" data-toggle=\"dropdown\" role=\"button\" aria-haspopup=\"true\" aria-expanded=\"false\" data-column=\"resources-nav-container\">Resources</a>\\n<div class=\"resources-nav-container\">\\n<div class=\"col-md-3\">\\n<div class=\"col-md-1\">Calendar</div>\\n<div class=\"col-md-12 \"><a href=\"/ico/calendar\">ICO calendar</a></div>\\n<div class=\"col-md-12 \"><a href=\"/events\">Events</a></div>\\n</div>\\n<div class=\"col-md-3 last-nav-column\">\\n<div class=\"col-md-1\">Tools</div>\\n<div class=\"col-md-12 \"><a href=\"/apiservice\">Api</a></div>\\n<div class=\"col-md-12 \"><a href=\"/widget\">Widget</a></div>\\n</div>\\n</div>\\n</li>\\n<li class=\"dropdown\">\\n<a href=\"#\" class=\"dropdown-toggle\" data-toggle=\"dropdown\" role=\"button\" aria-haspopup=\"true\" aria-expanded=\"false\" data-column=\"nft-nav-container\">NFT<span style=\"font-size: 13px;\"><b>(new)</b></span></a>\\n<div class=\"nft-nav-container\">\\n<div class=\"col-md-3\">\\n<div class=\"col-md-12 \"><a href=\"/nft\">NFT Overview</a></div>\\n</div>\\n<div class=\"col-md-3 last-nav-column\">\\n<div class=\"col-md-12 \"><a href=\"/ico/calendar\">NFT Mints</a></div>\\n</div>\\n</div>\\n</li>\\n<li><a href=\"/watchlist\">Watchlist</a></li>\\n<li><a href=\"/portfolio\">Portfolio</a></li>\\n</ul>\\n<ul class=\"nav navbar-nav show-nav-mobile\" style=\"display:none;\">\\n<li class=\"active\"><a href=\"/\">Home</a></li>\\n<li><a href=\"/account/login\">Login</a></li>\\n<li><a href=\"/watchlist\">Watchlist</a></li>\\n<li><a href=\"/portfolio\">Portfolio</a></li>\\n<li class=\"dropdown\">\\n<a href=\"#\" class=\"dropdown-toggle\" data-toggle=\"dropdown\" role=\"button\" aria-haspopup=\"true\" aria-expanded=\"false\">Stats<span class=\"caret\"></span></a>\\n<ul class=\"dropdown-menu\">\\n<li><a href=\"/volume\">Total Volume</a></li>\\n<li><a href=\"/trending\">Trending</a></li>\\n<li><a href=\"/trending/overview\">Overview</a></li>\\n<li><a href=\"/alltimehigh\">All time high</a></li>\\n<li><a href=\"/yeartoyear\">Year to year</a></li>\\n</ul>\\n</li>\\n<li class=\"dropdown\">\\n<a href=\"#\" class=\"dropdown-toggle\" data-toggle=\"dropdown\" role=\"button\" aria-haspopup=\"true\" aria-expanded=\"false\">NFT<span style=\"font-size: 13px;\"><b>(new)</b></span><span class=\"caret\"></span></a>\\n<ul class=\"dropdown-menu\">\\n<li><a href=\"/nft\">NFT Overview</a></li>\\n<li><a href=\"/ico/calendar\">NFT Mints</a></li>\\n</ul>\\n</li>\\n<li class=\"dropdown\">\\n<a href=\"#\" class=\"dropdown-toggle\" data-toggle=\"dropdown\" role=\"button\" aria-haspopup=\"true\" aria-expanded=\"false\">Exchanges<span class=\"caret\"></span></a>\\n<ul class=\"dropdown-menu\">\\n<li><a href=\"/exchange\">Spot</a></li>\\n<li><a href=\"/exchange/perpetuals\">Perpetuals</a></li>\\n<li><a href=\"/exchange/futures\">Futures</a></li>\\n<li><a href=\"/exchange/options\">Options</a></li>\\n</ul>\\n</li>\\n<li class=\"dropdown\">\\n<a href=\"#\" class=\"dropdown-toggle\" data-toggle=\"dropdown\" role=\"button\" aria-haspopup=\"true\" aria-expanded=\"false\">Markets<span class=\"caret\"></span></a>\\n<ul class=\"dropdown-menu\">\\n<li><a href=\"/spotvolume\">Spot</a></li>\\n<li><a href=\"/derivatives\">Derivatives</a></li>\\n<li><a href=\"/openinterest\">Open Interest</a></li>\\n<li><a href=\"/perpetuals\">Perpetuals</a></li>\\n<li><a href=\"/futures\">Futures</a></li>\\n<li><a href=\"/options\">Options</a></li>\\n<li><a href=\"/yieldfarming\">Farming</a></li>\\n</ul>\\n</li>\\n<li><a href=\"/news\">News</a></li>\\n<li class=\"dropdown\">\\n<a href=\"#\" class=\"dropdown-toggle\" data-toggle=\"dropdown\" role=\"button\" aria-haspopup=\"true\" aria-expanded=\"false\">Resources<span class=\"caret\"></span></a>\\n<ul class=\"dropdown-menu\">\\n<li><a href=\"/ico/calendar\">ICO calendar</a></li>\\n<li><a href=\"/events\">Events</a></li>\\n<li><a href=\"/apiservice\">Api</a></li>\\n<li><a href=\"/widget\">Widget</a></li>\\n</ul>\\n</li>\\n<li><a href=\"#\">&nbsp;</a></li>\\n<li><a href=\"javascript:void(0)\" class=\"setThemeLights\">Dark mode</a></li>\\n</ul>\\n<div class=\"pull-right nav-login hide-mob\" style=\"margin-left:0px\">\\n<div class=\"logout-nav-container\">\\n<a href=\"/account/login\"><i class=\"fas fa-user-circle\" title=\"Login\" aria-hidden=\"true\" style=\"font-size:20px\"></i></a>\\n</div>\\n</div>\\n<div class=\"pull-right nav-login hide-mob\">\\n<span class=\"setThemeLights\">\\n<i class=\"fas fa-adjust\" aria-hidden=\"true\" style=\"font-size:20px\"></i>\\n</span>\\n</div>\\n<form role=\"search\" class=\"navbar-form-custom\" id=\"the-basics\" method=\"get\" action=\"/ar/Search\">\\n<div class=\"pull-right search nav-search\">\\n<input type=\"text\" placeholder=\"Search cryptocoin\" class=\"zoeken input-sm\" name=\"tn_q\" id=\"top-search\" style=\"width:182px;\">\\n</div>\\n</form>\\n<div class=\"pull-right search fiat-choices\">\\n<section class=\"main\">\\n<div class=\"wrapper-demo\">\\n<div id=\"dd\" class=\"wrapper-dropdown-5\" tabindex=\"1\">\\n<span style=\"top: 3px; position: relative;\">\\nUSD </span>\\n<ul class=\"dropdown\" tabindex=\"1\">\\n<li data-koers=\"btc\"><a><i class=\"icon-remove\"></i>BTC</a></li>\\n<li data-koers=\"eth\"><a><i class=\"icon-remove\"></i>ETH</a></li>\\n<li data-koers=\"usd\" style=\"display:none\"><a><i class=\"icon-user\"></i>USD</a></li>\\n<li data-koers=\"eur\"><a><i class=\"icon-cog\"></i>EUR</a></li>\\n<li data-koers=\"cny\"><a><i class=\"icon-cog\"></i>CNY</a></li>\\n<li data-koers=\"rur\"><a><i class=\"icon-cog\"></i>RUB</a></li>\\n<li data-koers=\"gbp\"><a><i class=\"icon-cog\"></i>GBP</a></li>\\n<li data-koers=\"cad\"><a><i class=\"icon-remove\"></i>CAD</a></li>\\n<li data-koers=\"jpy\"><a><i class=\"icon-remove\"></i>JPY</a></li>\\n<li data-koers=\"hkd\"><a><i class=\"icon-remove\"></i>HKD</a></li>\\n<li data-koers=\"brl\"><a><i class=\"icon-remove\"></i>BRL</a></li>\\n<li data-koers=\"idr\"><a><i class=\"icon-remove\"></i>IDR</a></li>\\n<li data-koers=\"aud\"><a><i class=\"icon-remove\"></i>AUD</a></li>\\n<li data-koers=\"krw\"><a><i class=\"icon-remove\"></i>KRW</a></li>\\n<li data-koers=\"inr\"><a><i class=\"icon-remove\"></i>INR</a></li>\\n<li data-koers=\"try\"><a><i class=\"icon-remove\"></i>TRY</a></li>\\n<li data-koers=\"zar\"><a><i class=\"icon-remove\"></i>ZAR</a></li>\\n<li data-koers=\"pln\"><a><i class=\"icon-remove\"></i>PLN</a></li>\\n<li data-koers=\"usdt\"><a><i class=\"icon-remove\"></i>USDT</a></li>\\n<li data-koers=\"chf\"><a><i class=\"icon-remove\"></i>CHF</a></li>\\n<li data-koers=\"thb\"><a><i class=\"icon-remove\"></i>THB</a></li>\\n</ul>\\n</div>\\n</div>\\n</section>\\n</div>\\n</div>\\n\\n</nav>\\n<div class=\"navigation-dropdown-container\">\\n<div class=\"row navigation-dropdown\">\\n<div class=\"variable-width\">\\n</div>\\n</div>\\n</div>\\n</div>\\n<div class=\"row row-body variable-width\">\\n<div class=\"side-banner\">\\n<div class=\"wrapper2\">\\n\\n<div id=\\'div-gpt-ad-1571049284491-0\\'>\\n<script defer>\\r\\n    googletag.cmd.push(function() { googletag.display(\\'div-gpt-ad-1571049284491-0\\'); });\\r\\n  </script>\\n</div>\\n\\n<div id=\"bsa-zone_1571076648684-8_123456\"></div>\\n</div>\\n</div>\\n<div class=\"nav-bar2-extra \">\\n<div class=\"btn-group  pull-left\" role=\"group\" aria-label=\"...\">\\n<a href=\"/trending\" class=\"btn btn-default page-overview\">Trending</a>\\n<a href=\"/trending/overview\" class=\"btn btn-default page-overview\">Overview</a>\\n<a href=\"/alltimehigh\" class=\"btn btn-default page-alltimehigh\">All time high</a>\\n<a href=\"/yeartoyear\" class=\"btn btn-default page-yeartoyear\">Year to year</a>\\n</div>\\n<div class=\"btn-group  pull-left\" role=\"group\" aria-label=\"...\" style=\"margin-left:15px;\">\\n<a href=\"javascript:void(0)\" class=\"btn btn-default layout-filter\" onclick=\"show4(\\'block\\', \\'LayoutOptions\\')\"><i class=\"fas fa-th-list\" style=\"color:#4a86e8\"></i> layout</a>\\n<a href=\"javascript:void(0)\" class=\"btn btn-default filter-filter\" onclick=\"show4(\\'block\\', \\'filteroptions\\')\"><i class=\"fas fa-filter\" style=\"color:#4a86e8\"></i> filters</a>\\n</div>\\n<div class=\"number-paging\">\\n<a href=\"/2\" class=\"btn btn-default pull-right\">Next 100 →</a>\\n</div>\\n</div>\\n<div id=\"wrap\">\\n<div class=\"panel panel-default filteroptions\" id=\"filteroptions\">\\n<div class=\"panel-heading\">filters<i class=\"close icon-error\" onclick=\"show4(\\'none\\', \\'filteroptions\\')\" alt=\"close\"></i></div>\\n<div class=\"panel-body\">\\n<div class=\"input-group ig1 ig2\">\\n<span class=\"input-group-addon\" id=\"basic-addon2\">price range:</span>\\n<select class=\"add-price-option\" id=\"Filters_Price\" name=\"Filters.Price\" placeholder=\"All\"><option value=\"\">All</option>\\n<option value=\"1000\">$1K+</option>\\n<option value=\"10-1000\">$10 - $1K</option>\\n<option value=\"0.1-10\">$0.1 - $10</option>\\n<option value=\"0.001-0.1\">$0.001 - $0.1</option>\\n<option value=\"0-0.001\">$0 - $0.001</option>\\n</select>\\n</div>\\n<div class=\"input-group ig1 ig2\">\\n<span class=\"input-group-addon\" id=\"basic-addon2\">volume:</span>\\n<select class=\"add-volume-option\" id=\"Filters_Vol\" name=\"Filters.Vol\" placeholder=\"All\"><option value=\"\">All</option>\\n<option value=\"10000000\">$10M+</option>\\n<option value=\"100000\">$100K+</option>\\n<option value=\"1000\">$1K+</option>\\n<option value=\"10\">$10+</option>\\n<option value=\"0.1\">$0.1+</option>\\n</select>\\n</div>\\n<div class=\"input-group ig1 ig2\">\\n<span class=\"input-group-addon\" id=\"basic-addon2\">Market cap:</span>\\n<select class=\"add-marketcap-option\" id=\"Filters_Mcap\" name=\"Filters.Mcap\" placeholder=\"All\"><option value=\"\">All</option>\\n<option value=\"1000000000\">$1B+</option>\\n<option value=\"10000000-1000000000\">$10M - $1B</option>\\n<option value=\"100000-10000000\">$100K - $10M</option>\\n<option value=\"1000-100000\">$1K - $100K</option>\\n<option value=\"0-10\">$0 - $10</option>\\n</select>\\n</div>\\n<button class=\"my_button\" id=\"close-filter-options\" name=\"button\">Save</button>\\n</div>\\n</div>\\n<div class=\"panel panel-default formatOptions\" id=\"FormatOptions\">\\n<div class=\"panel-heading\">format options<i class=\"close icon-error\" onclick=\"show4(\\'none\\', \\'FormatOptions\\')\" alt=\"close\"></i></div>\\n<div class=\"panel-body\">\\n<div class=\"row\">\\n<div class=\"col-md-6 simpleAdvanced3-container\">\\n<input id=\"simpleAdvanced3\" type=\"checkbox\" class=\"simpleAdvanced\" /><span>Abbreviate prices</span>\\n</div>\\n<div class=\"col-md-6\">\\n<span style=\"color:gray; font-size:15px;\">$135,293.25146</span><br />\\n<span><b>= $135K</b></span>\\n</div>\\n</div> \\n<button class=\"my_button\" id=\"close-format-options\" name=\"button\">Save</button>\\n</div>\\n</div>\\n<div class=\"panel panel-default layoutOptions\" id=\"LayoutOptions\">\\n<div class=\"panel-heading\">layout<i class=\"close icon-error\" onclick=\"show4(\\'none\\', \\'LayoutOptions\\')\" alt=\"close\"></i></div>\\n<div class=\"panel-body\">\\n<div class=\"row\">\\n<div class=\"col-md-12\" style=\"text-align:center; font-weight:bold; font-size: 16px;\">\\nCryptocurrency overview\\n</div>\\n<div class=\"col-md-12\">\\n<div class=\"col-md-4 layout1-container\">\\n<input id=\"layout1\" type=\"checkbox\" class=\"simpleAdvanced layout1\" /> 24 high\\n</div>\\n<div class=\"col-md-4 layout2-container\">\\n<input id=\"layout2\" type=\"checkbox\" class=\"simpleAdvanced layout2\" /> 24 low\\n</div>\\n<div class=\"col-md-4 layout3-container\">\\n<input id=\"layout3\" type=\"checkbox\" class=\"simpleAdvanced layout3\" /> Price Chart\\n</div>\\n<div class=\"col-md-4 layout4-container\">\\n<input id=\"layout4\" type=\"checkbox\" class=\"simpleAdvanced layout4\" /> 24 volume\\n</div>\\n<div class=\"col-md-4 layout5-container\">\\n<input id=\"layout5\" type=\"checkbox\" class=\"simpleAdvanced layout5\" /> #Coins\\n</div>\\n<div class=\"col-md-4 layout6-container\">\\n<input id=\"layout6\" type=\"checkbox\" class=\"simpleAdvanced layout6\" /> Market cap\\n</div>\\n</div>\\n</div>\\n<button class=\"my_button\" id=\"close-layout-options\" name=\"button\">Save</button>\\n</div>\\n</div>\\n</div>\\n<input class=\"page\" data-val=\"true\" data-val-number=\"The field page must be a number.\" data-val-required=\"The page field is required.\" id=\"page\" name=\"page\" type=\"hidden\" value=\"1\" />\\n<input id=\"ids\" name=\"ids\" type=\"hidden\" value=\"1\" />\\n<div class=\"tradetable tradetable-mob\">\\n<input id=\"fiatID\" name=\"fiatID\" type=\"hidden\" value=\"usd\" />\\n<input id=\"abbreviation\" name=\"abbreviation\" type=\"hidden\" value=\"False\" />\\n<table id=\"myTable\" class=\"tablesorter\" data-test=\"test\">\\n<thead>\\n<tr>\\n<th class=\"rank headerrank header-off\">#</th>\\n<th class=\"bitcoinLogo header-off\"></th>\\n<th class=\"bitcoinName header-off\">Name</th>\\n<th class=\"ticker1 header-off\" style=\"text-align: left;\">Ticker</th>\\n<th class=\"sortoff lastprice headerlastprice \">Last price</th>\\n<th class=\"header-off\">%</th>\\n<th class=\"header-off mob-hide-col highpriceheader \">24 high</th>\\n<th class=\"header-off mob-hide-col lowpriceheader \">24 low</th>\\n<th class=\"headerGraph mob-hide-col chartheader \" data-sorter=\"false\">Price Charts 7d</th>\\n<th class=\"headVolume mob-hide-col volumeheader \" style=\"background-position-x: 90px !important;\">24 volume</th>\\n<th class=\"headcoins header-off mob-hide-col coinsheader \"># Coins</th>\\n<th class=\"headMarketcap header-off mob-hide-col marketcapheader \">Market cap</th>\\n</tr>\\n</thead>\\n<tbody>\\n<tr class=\"bitcoin coinzoeken \" data-naam=\"bitcoin\" data-symbol=\"156\">\\n<td class=\"rank\"><span>1</span></td>\\n<td class=\"bitcoinLogo Bitcoin _Bitcoin Bitcoin\" style=\"background: url(\\'/Content/img/coins/v-636096405580774340/Bitcoin.png\\') no-repeat center; width: 16px;padding: 10px;background-size: 16px 16px;\"></td>\\n <td class=\"bitcoinName\"><a href=\"/coin/bitcoin\">\\n<h1><span>Bitcoin</span></h1>\\n</a></td>\\n<td class=\"ticker\">\\n<h2>BTC</h2>\\n</td>\\n<td class=\"number pricekoers lastprice\" data-sort-value=\"16,974\"><span>$ </span><span class=\"span\"> 16,974 </span></td>\\n<td class=\"percentage\" data-percentage=\"-0.02\" style=\"color: red\"><span>-0.02%</span></td>\\n<td class=\"number pricekoers highprice mob-hide-col \" data-sort-value=\"16,981\"><span>$ </span><span class=\"span\">16,981</span></td>\\n<td class=\"number pricekoers lowprice mob-hide-col \" data-sort-value=\"16,958\"><span>$ </span><span class=\"span\">16,958</span></td>\\n<td class=\"graphimagecontainer mob-hide-col \">\\n<div class=\"bitcoin-container mob-hide-col\">\\n<a href=\"/coin/bitcoin\">\\n<img class=\"graphimage lazy\" data-original=\"https://www.worldcoinindex-acc.nl/data/Bitcoin_usd.png?t=2022122015\" alt=\"bitcoin\" width=\"178\" height=\"58\" /></a>\\n</div>\\n</td>\\n<td class=\"number pricekoers volume mob-hide-col \" data-sort-value=\"6,585,666,767\">\\n<a href=\"/coin/bitcoin\">\\n<span>$ </span><span class=\"span\">\\n6.58B\\n</span>\\n</a>\\n</td>\\n<td class=\"number supply mob-hide-col \" data-sort-value=\"19,222,062\"><span>19.22M</span></td>\\n<td class=\"number pricekoers marketcap mob-hide-col \" data-sort-value=\"326275188620\"><span>$ </span><span class=\"span\">326.27B</span> </td>\\n</tr>\\n<tr class=\"ethereum coinzoeken \" data-naam=\"ethereum\" data-symbol=\"563\">\\n<td class=\"rank\"><span>2</span></td>\\n<td class=\"bitcoinLogo Ethereum _Ethereum Ethereum\" style=\"background: url(\\'/Content/img/coins/v-636539599648008672/Ethereum.png\\') no-repeat center; width: 16px;padding: 10px;background-size: 16px 16px;\"></td>\\n<td class=\"bitcoinName\"><a href=\"/coin/ethereum\">\\n<h1><span>Ethereum</span></h1>\\n</a></td>\\n<td class=\"ticker\">\\n<h2>ETH</h2>\\n</td>\\n<td class=\"number pricekoers lastprice\" data-sort-value=\"1,275.20\"><span>$ </span><span class=\"span\"> 1,275.20 </span></td>\\n<td class=\"percentage\" data-percentage=\"-0.05\" style=\"color: red\"><span>-0.05%</span></td>\\n<td class=\"number pricekoers highprice mob-hide-col \" data-sort-value=\"1,276.07\"><span>$ </span><span class=\"span\">1,276.07</span></td>\\n<td class=\"number pricekoers lowprice mob-hide-col \" data-sort-value=\"1,273.93\"><span>$ </span><span class=\"span\">1,273.93</span></td>\\n<td class=\"graphimagecontainer mob-hide-col \">\\n<div class=\"bitcoin-container mob-hide-col\">\\n<a href=\"/coin/ethereum\">\\n<img class=\"graphimage lazy\" data-original=\"https://www.worldcoinindex-acc.nl/data/Ethereum_usd.png?t=2022122015\" alt=\"ethereum\" width=\"178\" height=\"58\" /></a>\\n</div>\\n</td>\\n<td class=\"number pricekoers volume mob-hide-col \" data-sort-value=\"2,857,752,272\">\\n<a href=\"/coin/ethereum\">\\n<span>$ </span><span class=\"span\">\\n2.85B\\n</span>\\n </a>\\n</td>\\n<td class=\"number supply mob-hide-col \" data-sort-value=\"122,373,866\"><span>122.37M</span></td>\\n<td class=\"number pricekoers marketcap mob-hide-col \" data-sort-value=\"156051087279\"><span>$ </span><span class=\"span\">156.05B</span> </td>\\n</tr>\\n<tr class=\"binanceusd coinzoeken \" data-naam=\"binanceusd\" data-symbol=\"3655\">\\n<td class=\"rank\"><span>3</span></td>\\n<td class=\"bitcoinLogo Binanceusd _Binanceusd Binanceusd\" style=\"background: url(\\'/Content/img/coins/v-637048203814751240/Binanceusd.png\\') no-repeat center; width: 16px;padding: 10px;background-size: 16px 16px;\"></td>\\n<td class=\"bitcoinName\"><a href=\"/coin/binanceusd\">\\n<h1><span>Binanceusd</span></h1>\\n</a></td>\\n<td class=\"ticker\">\\n<h2>BUSD</h2>\\n</td>\\n<td class=\"number pricekoers lastprice\" data-sort-value=\"0.999923\"><span>$ </span><span class=\"span\"> 0.999923 </span></td>\\n<td class=\"percentage\" data-percentage=\"-0.02\" style=\"color: red\"><span>-0.02%</span></td>\\n<td class=\"number pricekoers highprice mob-hide-col \" data-sort-value=\"1.00\"><span>$ </span><span class=\"span\">1.00</span></td>\\n<td class=\"number pricekoers lowprice mob-hide-col \" data-sort-value=\"0.999790\"><span>$ </span><span class=\"span\">0.999790</span></td>\\n<td class=\"graphimagecontainer mob-hide-col \">\\n<div class=\"bitcoin-container mob-hide-col\">\\n<a href=\"/coin/binanceusd\">\\n<img class=\"graphimage lazy\" data-original=\"https://www.worldcoinindex-acc.nl/data/Binanceusd_usd.png?t=2022122015\" alt=\"binanceusd\" width=\"178\" height=\"58\" /></a>\\n</div>\\n</td>\\n<td class=\"number pricekoers volume mob-hide-col \" data-sort-value=\"895,650,468\">\\n<a href=\"/coin/binanceusd\">\\n<span>$ </span><span class=\"span\">\\n895.65M\\n</span>\\n</a>\\n</td>\\n<td class=\"number supply mob-hide-col \" data-sort-value=\"1,687,125,187\"><span>1.68B</span></td>\\n<td class=\"number pricekoers marketcap mob-hide-col \" data-sort-value=\"1686994558\"><span>$ </span><span class=\"span\">1.68B</span> </td>\\n</tr>\\n<tr class=\"binancecoin coinzoeken \" data-naam=\"binancecoin\" data-symbol=\"137\">\\n<td class=\"rank\"><span>4</span></td>\\n<td class=\"bitcoinLogo Binancecoin _Binancecoin Binancecoin\" style=\"background: url(\\'/Content/img/coins/v-636433410334603119/Binancecoin.png\\') no-repeat center; width: 16px;padding: 10px;background-size: 16px 16px;\"></td>\\n<td class=\"bitcoinName\"><a href=\"/coin/binancecoin\">\\n<h1><span>Binancecoin</span></h1>\\n</a></td>\\n<td class=\"ticker\">\\n<h2>BNB</h2>\\n</td>\\n<td class=\"number pricekoers lastprice\" data-sort-value=\"291.96\"><span>$ </span><span class=\"span\"> 291.96 </span></td>\\n<td class=\"percentage\" data-percentage=\"0.00\" style=\"color: black\"><span>0.00%</span></td>\\n<td class=\"number pricekoers highprice mob-hide-col \" data-sort-value=\"292.38\"><span>$ </span><span class=\"span\">292.38</span></td>\\n<td class=\"number pricekoers lowprice mob-hide-col \" data-sort-value=\"291.63\"><span>$ </span><span class=\"span\">291.63</span></td>\\n<td class=\"graphimagecontainer mob-hide-col \">\\n<div class=\"bitcoin-container mob-hide-col\">\\n<a href=\"/coin/binancecoin\">\\n<img class=\"graphimage lazy\" data-original=\"https://www.worldcoinindex-acc.nl/data/Binancecoin_usd.png?t=2022122015\" alt=\"binancecoin\" width=\"178\" height=\"58\" /></a>\\n</div>\\n</td>\\n<td class=\"number pricekoers volume mob-hide-col \" data-sort-value=\"625,572,731\">\\n<a href=\"/coin/binancecoin\">\\n<span>$ </span><span class=\"span\">\\n625.57M\\n</span>\\n</a>\\n</td>\\n<td class=\"number supply mob-hide-col \" data-sort-value=\"154,532,785\"><span>154.53M</span></td>\\n<td class=\"number pricekoers marketcap mob-hide-col \" data-sort-value=\"45117333794\"><span>$ </span><span class=\"span\">45.11B</span> </td>\\n</tr>\\n<tr class=\"dogecoin coinzoeken \" data-naam=\"dogecoin\" data-symbol=\"469\">\\n<td class=\"rank\"><span>5</span></td>\\n<td class=\"bitcoinLogo Dogecoin _Dogecoin Dogecoin\" style=\"background: url(\\'/Content/img/coins/v-636096405523833174/Dogecoin.png\\') no-repeat center; width: 16px;padding: 10px;background-size: 16px 16px;\"></td>\\n<td class=\"bitcoinName\"><a href=\"/coin/dogecoin\">\\n<h1><span>Dogecoin</span></h1>\\n</a></td>\\n<td class=\"ticker\">\\n<h2>DOGE</h2>\\n</td>\\n<td class=\"number pricekoers lastprice\" data-sort-value=\"0.102035\"><span>$ </span><span class=\"span\"> 0.102035 </span></td>\\n<td class=\"percentage\" data-percentage=\"0.13)\" style=\"color: green\"><span>+0.13%</span></td>\\n<td class=\"number pricekoers highprice mob-hide-col \" data-sort-value=\"0.102108\"><span>$ </span><span class=\"span\">0.102108</span></td>\\n<td class=\"number pricekoers lowprice mob-hide-col \" data-sort-value=\"0.101303\"><span>$ </span><span class=\"span\">0.101303</span></td>\\n<td class=\"graphimagecontainer mob-hide-col \">\\n<div class=\"bitcoin-container mob-hide-col\">\\n<a href=\"/coin/dogecoin\">\\n<img class=\"graphimage lazy\" data-original=\"https://www.worldcoinindex-acc.nl/data/Dogecoin_usd.png?t=2022122015\" alt=\"dogecoin\" width=\"178\" height=\"58\" /></a>\\n</div>\\n</td>\\n<td class=\"number pricekoers volume mob-hide-col \" data-sort-value=\"606,673,451\">\\n<a href=\"/coin/dogecoin\">\\n<span>$ </span><span class=\"span\">\\n606.67M\\n</span>\\n</a>\\n</td>\\n<td class=\"number supply mob-hide-col \" data-sort-value=\"129,403,410,621\"><span>129.40B</span></td>\\n<td class=\"number pricekoers marketcap mob-hide-col \" data-sort-value=\"13203633500\"><span>$ </span><span class=\"span\">13.20B</span> </td>\\n</tr>\\n<tr class=\"ripple coinzoeken \" data-naam=\"ripple\" data-symbol=\"1271\">\\n<td class=\"rank\"><span>6</span></td>\\n<td class=\"bitcoinLogo Ripple _Ripple Ripple\" style=\"background: url(\\'/Content/img/coins/v-636646848076695231/Ripple.png\\') no-repeat center; width: 16px;padding: 10px;background-size: 16px 16px;\"></td>\\n<td class=\"bitcoinName\"><a href=\"/coin/ripple\">\\n<h1><span>Ripple</span></h1>\\n</a></td>\\n<td class=\"ticker\">\\n<h2>XRP</h2>\\n</td>\\n<td class=\"number pricekoers lastprice\" data-sort-value=\"0.395231\"><span>$ </span><span class=\"span\"> 0.395231 </span></td>\\n<td class=\"percentage\" data-percentage=\"-0.21\" style=\"color: red\"><span>-0.21%</span></td>\\n<td class=\"number pricekoers highprice mob-hide-col \" data-sort-value=\"0.396221\"><span>$ </span><span class=\"span\">0.396221</span></td>\\n<td class=\"number pricekoers lowprice mob-hide-col \" data-sort-value=\"0.394964\"><span>$ </span><span class=\"span\">0.394964</span></td>\\n<td class=\"graphimagecontainer mob-hide-col \">\\n<div class=\"bitcoin-container mob-hide-col\">\\n<a href=\"/coin/ripple\">\\n<img class=\"graphimage lazy\" data-original=\"https://www.worldcoinindex-acc.nl/data/Ripple_usd.png?t=2022122015\" alt=\"ripple\" width=\"178\" height=\"58\" /></a>\\n</div>\\n</td>\\n<td class=\"number pricekoers volume mob-hide-col \" data-sort-value=\"407,892,622\">\\n<a href=\"/coin/ripple\">\\n<span>$ </span><span class=\"span\">\\n407.89M\\n</span>\\n</a>\\n</td>\\n<td class=\"number supply mob-hide-col \" data-sort-value=\"50,290,028,663\"><span>50.29B</span></td>\\n<td class=\"number pricekoers marketcap mob-hide-col \" data-sort-value=\"19876192554\"><span>$ </span><span class=\"span\">19.87B</span> </td>\\n</tr>\\n<tr class=\"tether coinzoeken \" data-naam=\"tether\" data-symbol=\"1475\">\\n<td class=\"rank\"><span>7</span></td>\\n<td class=\"bitcoinLogo Tether _Tether Tether\" style=\"background: url(\\'/Content/img/coins/v-636096405348069154/Tether.png\\') no-repeat center; width: 16px;padding: 10px;background-size: 16px 16px;\"></td>\\n<td class=\"bitcoinName\"><a href=\"/coin/tether\">\\n<h1><span>Tether</span></h1>\\n</a></td>\\n<td class=\"ticker\">\\n<h2>USDT</h2>\\n</td>\\n<td class=\"number pricekoers lastprice\" data-sort-value=\"1.00\"><span>$ </span><span class=\"span\"> 1.00 </span></td>\\n<td class=\"percentage\" data-percentage=\"-0.02\" style=\"color: red\"><span>-0.02%</span></td>\\n<td class=\"number pricekoers highprice mob-hide-col \" data-sort-value=\"1.00\"><span>$ </span><span class=\"span\">1.00</span></td>\\n<td class=\"number pricekoers lowprice mob-hide-col \" data-sort-value=\"0.999646\"><span>$ </span><span class=\"span\">0.999646</span></td>\\n<td class=\"graphimagecontainer mob-hide-col \">\\n<div class=\"bitcoin-container mob-hide-col\">\\n<a href=\"/coin/tether\">\\n<img class=\"graphimage lazy\" data-original=\"https://www.worldcoinindex-acc.nl/data/Tether_usd.png?t=2022122015\" alt=\"tether\" width=\"178\" height=\"58\" /></a>\\n</div>\\n</td>\\n<td class=\"number pricekoers volume mob-hide-col \" data-sort-value=\"337,421,812\">\\n<a href=\"/coin/tether\">\\n<span>$ </span><span class=\"span\">\\n337.42M\\n</span>\\n </a>\\n</td>\\n<td class=\"number supply mob-hide-col \" data-sort-value=\"42,990,752,850\"><span>42.99B</span></td>\\n<td class=\"number pricekoers marketcap mob-hide-col \" data-sort-value=\"43002138557\"><span>$ </span><span class=\"span\">43.00B</span> </td>\\n</tr>\\n<tr class=\"litecoin coinzoeken \" data-naam=\"litecoin\" data-symbol=\"908\">\\n<td class=\"rank\"><span>8</span></td>\\n<td class=\"bitcoinLogo Litecoin _Litecoin Litecoin\" style=\"background: url(\\'/Content/img/coins/v-636839500142959774/Litecoin.png\\') no-repeat center; width: 16px;padding: 10px;background-size: 16px 16px;\"></td>\\n<td class=\"bitcoinName\"><a href=\"/coin/litecoin\">\\n<h1><span>Litecoin</span></h1>\\n</a></td>\\n<td class=\"ticker\">\\n<h2>LTC</h2>\\n</td>\\n<td class=\"number pricekoers lastprice\" data-sort-value=\"77.10\"><span>$ </span><span class=\"span\"> 77.10 </span></td>\\n<td class=\"percentage\" data-percentage=\"-0.25\" style=\"color: red\"><span>-0.25%</span></td>\\n<td class=\"number pricekoers highprice mob-hide-col \" data-sort-value=\"77.39\"><span>$ </span><span class=\"span\">77.39</span></td>\\n<td class=\"number pricekoers lowprice mob-hide-col \" data-sort-value=\"77.02\"><span>$ </span><span class=\"span\">77.02</span></td>\\n<td class=\"graphimagecontainer mob-hide-col \">\\n<div class=\"bitcoin-container mob-hide-col\">\\n<a href=\"/coin/litecoin\">\\n<img class=\"graphimage lazy\" data-original=\"https://www.worldcoinindex-acc.nl/data/Litecoin_usd.png?t=2022122015\" alt=\"litecoin\" width=\"178\" height=\"58\" /></a>\\n</div>\\n</td>\\n<td class=\"number pricekoers volume mob-hide-col \" data-sort-value=\"307,655,072\">\\n<a href=\"/coin/litecoin\">\\n<span>$ </span><span class=\"span\">\\n307.65M\\n</span>\\n</a>\\n</td>\\n<td class=\"number supply mob-hide-col \" data-sort-value=\"67,405,840\"><span>67.40M</span></td>\\n<td class=\"number pricekoers marketcap mob-hide-col \" data-sort-value=\"5197188970\"><span>$ </span><span class=\"span\">5.19B</span> </td>\\n</tr>\\n<tr class=\"usd-coin coinzoeken \" data-naam=\"usd-coin\" data-symbol=\"4200\">\\n<td class=\"rank\"><span>9</span></td>\\n<td class=\"bitcoinLogo Usd-coin _Usd-coin Usd-coin\" style=\"background: url(\\'/Content/img/coins/v-637309314999065482/Usd-coin.png\\') no-repeat center; width: 16px;padding: 10px;background-size: 16px 16px;\"></td>\\n<td class=\"bitcoinName\"><a href=\"/coin/usd-coin\">\\n<h1><span>Usd coin</span></h1>\\n</a></td>\\n<td class=\"ticker\">\\n<h2>USDC</h2>\\n</td>\\n<td class=\"number pricekoers lastprice\" data-sort-value=\"1.00\"><span>$ </span><span class=\"span\"> 1.00 </span></td>\\n<td class=\"percentage\" data-percentage=\"0.00\" style=\"color: black\"><span>0.00%</span></td>\\n<td class=\"number pricekoers highprice mob-hide-col \" data-sort-value=\"1.00\"><span>$ </span><span class=\"span\">1.00</span></td>\\n<td class=\"number pricekoers lowprice mob-hide-col \" data-sort-value=\"0.999742\"><span>$ </span><span class=\"span\">0.999742</span></td>\\n<td class=\"graphimagecontainer mob-hide-col \">\\n<div class=\"bitcoin-container mob-hide-col\">\\n<a href=\"/coin/usd-coin\">\\n<img class=\"graphimage lazy\" data-original=\"https://www.worldcoinindex-acc.nl/data/Usd-coin_usd.png?t=2022122015\" alt=\"usd-coin\" width=\"178\" height=\"58\" /></a>\\n</div>\\n</td>\\n<td class=\"number pricekoers volume mob-hide-col \" data-sort-value=\"235,280,062\">\\n<a href=\"/coin/usd-coin\">\\n<span>$ </span><span class=\"span\">\\n235.28M\\n</span>\\n</a>\\n</td>\\n<td class=\"number supply mob-hide-col \" data-sort-value=\"7,009,008,253\"><span>7.00B</span></td>\\n<td class=\"number pricekoers marketcap mob-hide-col \" data-sort-value=\"7010293759\"><span>$ </span><span class=\"span\">7.01B</span> </td>\\n</tr>\\n<tr class=\"polygon coinzoeken \" data-naam=\"polygon\" data-symbol=\"1169\">\\n<td class=\"rank\"><span>10</span></td>\\n<td class=\"bitcoinLogo Polygon _Polygon Polygon\" style=\"background: url(\\'/Content/img/coins/v-636926537309488717/Polygon.png\\') no-repeat center; width: 16px;padding: 10px;background-size: 16px 16px;\"></td>\\n<td class=\"bitcoinName\"><a href=\"/coin/polygon\">\\n<h1><span>Polygon</span></h1>\\n</a></td>\\n<td class=\"ticker\">\\n<h2>MATIC</h2>\\n</td>\\n<td class=\"number pricekoers lastprice\" data-sort-value=\"0.913035\"><span>$ </span><span class=\"span\"> 0.913035 </span></td>\\n<td class=\"percentage\" data-percentage=\"0.55)\" style=\"color: green\"><span>+0.55%</span></td>\\n<td class=\"number pricekoers highprice mob-hide-col \" data-sort-value=\"0.913035\"><span>$ </span><span class=\"span\">0.913035</span></td>\\n<td class=\"number pricekoers lowprice mob-hide-col \" data-sort-value=\"0.908075\"><span>$ </span><span class=\"span\">0.908075</span></td>\\n<td class=\"graphimagecontainer mob-hide-col \">\\n<div class=\"bitcoin-container mob-hide-col\">\\n<a href=\"/coin/polygon\">\\n<img class=\"graphimage lazy\" data-original=\"https://www.worldcoinindex-acc.nl/data/Polygon_usd.png?t=2022122015\" alt=\"polygon\" width=\"178\" height=\"58\" /></a>\\n</div>\\n</td>\\n<td class=\"number pricekoers volume mob-hide-col \" data-sort-value=\"223,059,211\">\\n<a href=\"/coin/polygon\">\\n<span>$ </span><span class=\"span\">\\n223.05M\\n</span>\\n</a>\\n</td>\\n<td class=\"number supply mob-hide-col \" data-sort-value=\"6,009,075,000\"><span>6.00B</span></td>\\n<td class=\"number pricekoers marketcap mob-hide-col \" data-sort-value=\"5486498003\"><span>$ </span><span class=\"span\">5.48B</span> </td>\\n</tr>\\n<tr class=\"static\">\\n<td colspan=\"12\" style=\"text-align:center\">\\n<div class=\"wrapper3\">\\n\\n<div id=\\'div-gpt-ad-1571049370698-0\\' style=\\'width: 320px; height: auto;\\'>\\n<script defer>\\r\\n    googletag.cmd.push(function() { googletag.display(\\'div-gpt-ad-1571049370698-0\\'); });\\r\\n  </script>\\n</div>\\n</div>\\n </td>\\n</tr>\\n<tr class=\"chainlink coinzoeken \" data-naam=\"chainlink\" data-symbol=\"303\">\\n<td class=\"rank\"><span>11</span></td>\\n<td class=\"bitcoinLogo Chainlink _Chainlink Chainlink\" style=\"background: url(\\'/Content/img/coins/v-636940309281092341/Chainlink.png\\') no-repeat center; width: 16px;padding: 10px;background-size: 16px 16px;\"></td>\\n<td class=\"bitcoinName\"><a href=\"/coin/chainlink\">\\n<h1><span>Chainlink</span></h1>\\n</a></td>\\n<td class=\"ticker\">\\n<h2>LINK</h2>\\n</td>\\n<td class=\"number pricekoers lastprice\" data-sort-value=\"7.68\"><span>$ </span><span class=\"span\"> 7.68 </span></td>\\n<td class=\"percentage\" data-percentage=\"-0.02\" style=\"color: red\"><span>-0.02%</span></td>\\n<td class=\"number pricekoers highprice mob-hide-col \" data-sort-value=\"7.71\"><span>$ </span><span class=\"span\">7.71</span></td>\\n<td class=\"number pricekoers lowprice mob-hide-col \" data-sort-value=\"7.67\"><span>$ </span><span class=\"span\">7.67</span></td>\\n<td class=\"graphimagecontainer mob-hide-col \">\\n<div class=\"bitcoin-container mob-hide-col\">\\n<a href=\"/coin/chainlink\">\\n<img class=\"graphimage lazy\" data-original=\"https://www.worldcoinindex-acc.nl/data/Chainlink_usd.png?t=2022122015\" alt=\"chainlink\" width=\"178\" height=\"58\" /></a>\\n</div>\\n</td>\\n<td class=\"number pricekoers volume mob-hide-col \" data-sort-value=\"157,565,487\">\\n<a href=\"/coin/chainlink\">\\n<span>$ </span><span class=\"span\">\\n157.56M\\n</span>\\n</a>\\n</td>\\n<td class=\"number supply mob-hide-col \" data-sort-value=\"417,509,556\"><span>417.50M</span></td>\\n<td class=\"number pricekoers marketcap mob-hide-col \" data-sort-value=\"3206177677\"><span>$ </span><span class=\"span\">3.20B</span> </td>\\n</tr>\\n<tr class=\"polkadot coinzoeken \" data-naam=\"polkadot\" data-symbol=\"3512\">\\n<td class=\"rank\"><span>12</span></td>\\n<td class=\"bitcoinLogo Polkadot _Polkadot Polkadot\" style=\"background: url(\\'/Content/img/coins/v-636990543867457581/Polkadot.png\\') no-repeat center; width: 16px;padding: 10px;background-size: 16px 16px;\"></td>\\n<td class=\"bitcoinName\"><a href=\"/coin/polkadot\">\\n<h1><span>Polkadot</span></h1>\\n</a></td>\\n<td class=\"ticker\">\\n<h2>DOT</h2>\\n</td>\\n<td class=\"number pricekoers lastprice\" data-sort-value=\"5.47\"><span>$ </span><span class=\"span\"> 5.47 </span></td>\\n<td class=\"percentage\" data-percentage=\"1.11)\" style=\"color: green\"><span>+1.11%</span></td>\\n<td class=\"number pricekoers highprice mob-hide-col \" data-sort-value=\"5.48\"><span>$ </span><span class=\"span\">5.48</span></td>\\n<td class=\"number pricekoers lowprice mob-hide-col \" data-sort-value=\"5.40\"><span>$ </span><span class=\"span\">5.40</span></td>\\n<td class=\"graphimagecontainer mob-hide-col \">\\n<div class=\"bitcoin-container mob-hide-col\">\\n<a href=\"/coin/polkadot\">\\n<img class=\"graphimage lazy\" data-original=\"https://www.worldcoinindex-acc.nl/data/Polkadot_usd.png?t=2022122015\" alt=\"polkadot\" width=\"178\" height=\"58\" /></a>\\n</div>\\n</td>\\n<td class=\"number pricekoers volume mob-hide-col \" data-sort-value=\"104,187,270\">\\n<a href=\"/coin/polkadot\">\\n<span>$ </span><span class=\"span\">\\n104.18M\\n</span>\\n</a>\\n</td>\\n<td class=\"number supply mob-hide-col \" data-sort-value=\"947,850,000\"><span>947.85M</span></td>\\n<td class=\"number pricekoers marketcap mob-hide-col \" data-sort-value=\"5180344922\"><span>$ </span><span class=\"span\">5.18B</span> </td>\\n</tr>\\n<tr class=\"solana coinzoeken \" data-naam=\"solana\" data-symbol=\"3975\">\\n<td class=\"rank\"><span>13</span></td>\\n<td class=\"bitcoinLogo Solana _Solana Solana\" style=\"background: url(\\'/Content/img/coins/v-637224511504877281/Solana.png\\') no-repeat center; width: 16px;padding: 10px;background-size: 16px 16px;\"></td>\\n<td class=\"bitcoinName\"><a href=\"/coin/solana\">\\n<h1><span>Solana</span></h1>\\n</a></td>\\n<td class=\"ticker\">\\n<h2>SOL</h2>\\n</td>\\n<td class=\"number pricekoers lastprice\" data-sort-value=\"13.45\"><span>$ </span><span class=\"span\"> 13.45 </span></td>\\n<td class=\"percentage\" data-percentage=\"-0.13\" style=\"color: red\"><span>-0.13%</span></td>\\n<td class=\"number pricekoers highprice mob-hide-col \" data-sort-value=\"13.47\"><span>$ </span><span class=\"span\">13.47</span></td>\\n<td class=\"number pricekoers lowprice mob-hide-col \" data-sort-value=\"13.43\"><span>$ </span><span class=\"span\">13.43</span></td>\\n<td class=\"graphimagecontainer mob-hide-col \">\\n<div class=\"bitcoin-container mob-hide-col\">\\n<a href=\"/coin/solana\">\\n<img class=\"graphimage lazy\" data-original=\"https://www.worldcoinindex-acc.nl/data/Solana_usd.png?t=2022122015\" alt=\"solana\" width=\"178\" height=\"58\" /></a>\\n</div>\\n</td>\\n<td class=\"number pricekoers volume mob-hide-col \" data-sort-value=\"102,458,737\">\\n<a href=\"/coin/solana\">\\n<span>$ </span><span class=\"span\">\\n102.45M\\n</span>\\n</a>\\n</td>\\n<td class=\"number supply mob-hide-col \" data-sort-value=\"261,900,507\"><span>261.90M</span></td>\\n<td class=\"number pricekoers marketcap mob-hide-col \" data-sort-value=\"3523052898\"><span>$ </span><span class=\"span\">3.52B</span> </td>\\n</tr>\\n<tr class=\"tron coinzoeken \" data-naam=\"tron\" data-symbol=\"1521\">\\n<td class=\"rank\"><span>14</span></td>\\n<td class=\"bitcoinLogo Tron _Tron Tron\" style=\"background: url(\\'/Content/img/coins/v-636625903667030613/Tron.png\\') no-repeat center; width: 16px;padding: 10px;background-size: 16px 16px;\"></td>\\n<td class=\"bitcoinName\"><a href=\"/coin/tron\">\\n<h1><span>Tron</span></h1>\\n</a></td>\\n<td class=\"ticker\">\\n<h2>TRX</h2>\\n</td>\\n<td class=\"number pricekoers lastprice\" data-sort-value=\"0.054235\"><span>$ </span><span class=\"span\"> 0.054235 </span></td>\\n <td class=\"percentage\" data-percentage=\"0.13)\" style=\"color: green\"><span>+0.13%</span></td>\\n<td class=\"number pricekoers highprice mob-hide-col \" data-sort-value=\"0.054235\"><span>$ </span><span class=\"span\">0.054235</span></td>\\n<td class=\"number pricekoers lowprice mob-hide-col \" data-sort-value=\"0.054127\"><span>$ </span><span class=\"span\">0.054127</span></td>\\n<td class=\"graphimagecontainer mob-hide-col \">\\n<div class=\"bitcoin-container mob-hide-col\">\\n<a href=\"/coin/tron\">\\n<img class=\"graphimage lazy\" data-original=\"https://www.worldcoinindex-acc.nl/data/Tron_usd.png?t=2022122015\" alt=\"tron\" width=\"178\" height=\"58\" /></a>\\n</div>\\n</td>\\n<td class=\"number pricekoers volume mob-hide-col \" data-sort-value=\"97,673,057\">\\n<a href=\"/coin/tron\">\\n<span>$ </span><span class=\"span\">\\n97.67M\\n</span>\\n</a>\\n</td>\\n<td class=\"number supply mob-hide-col \" data-sort-value=\"71,659,657,369\"><span>71.65B</span></td>\\n<td class=\"number pricekoers marketcap mob-hide-col \" data-sort-value=\"3886437012\"><span>$ </span><span class=\"span\">3.88B</span> </td>\\n</tr>\\n<tr class=\"tron coinzoeken \" data-naam=\"tron\" data-symbol=\"1521\">\\n<td class=\"rank\"><span>15</span></td>\\n<td class=\"bitcoinLogo Tron _Tron Tron\" style=\"background: url(\\'/Content/img/coins/v-636625903667030613/Tron.png\\') no-repeat center; width: 16px;padding: 10px;background-size: 16px 16px;\"></td>\\n<td class=\"bitcoinName\"><a href=\"/coin/tron\">\\n<h1><span>Tron</span></h1>\\n</a></td>\\n<td class=\"ticker\">\\n<h2>TRX</h2>\\n</td>\\n<td class=\"number pricekoers lastprice\" data-sort-value=\"0.054235\"><span>$ </span><span class=\"span\"> 0.054235 </span></td>\\n<td class=\"percentage\" data-percentage=\"0.13)\" style=\"color: green\"><span>+0.13%</span></td>\\n<td class=\"number pricekoers highprice mob-hide-col \" data-sort-value=\"0.054235\"><span>$ </span><span class=\"span\">0.054235</span></td>\\n<td class=\"number pricekoers lowprice mob-hide-col \" data-sort-value=\"0.054127\"><span>$ </span><span class=\"span\">0.054127</span></td>\\n<td class=\"graphimagecontainer mob-hide-col \">\\n<div class=\"bitcoin-container mob-hide-col\">\\n<a href=\"/coin/tron\">\\n<img class=\"graphimage lazy\" data-original=\"https://www.worldcoinindex-acc.nl/data/Tron_usd.png?t=2022122015\" alt=\"tron\" width=\"178\" height=\"58\" /></a>\\n</div>\\n</td>\\n<td class=\"number pricekoers volume mob-hide-col \" data-sort-value=\"97,453,821\">\\n<a href=\"/coin/tron\">\\n<span>$ </span><span class=\"span\">\\n97.45M\\n</span>\\n</a>\\n</td>\\n<td class=\"number supply mob-hide-col \" data-sort-value=\"71,659,657,369\"><span>71.65B</span></td>\\n<td class=\"number pricekoers marketcap mob-hide-col \" data-sort-value=\"3886437012\"><span>$ </span><span class=\"span\">3.88B</span> </td>\\n</tr>\\n<tr class=\"avalanche coinzoeken \" data-naam=\"avalanche\" data-symbol=\"4174\">\\n<td class=\"rank\"><span>16</span></td>\\n<td class=\"bitcoinLogo Avalanche _Avalanche Avalanche\" style=\"background: url(\\'/Content/img/coins/v-637374847160622796/Avalanche.png\\') no-repeat center; width: 16px;padding: 10px;background-size: 16px 16px;\"></td>\\n<td class=\"bitcoinName\"><a href=\"/coin/avalanche\">\\n<h1><span>Avalanche</span></h1>\\n</a></td>\\n<td class=\"ticker\">\\n<h2>AVAX</h2>\\n</td>\\n<td class=\"number pricekoers lastprice\" data-sort-value=\"12.93\"><span>$ </span><span class=\"span\"> 12.93 </span></td>\\n<td class=\"percentage\" data-percentage=\"0.24)\" style=\"color: green\"><span>+0.24%</span></td>\\n<td class=\"number pricekoers highprice mob-hide-col \" data-sort-value=\"12.94\"><span>$ </span><span class=\"span\">12.94</span></td>\\n<td class=\"number pricekoers lowprice mob-hide-col \" data-sort-value=\"12.89\"><span>$ </span><span class=\"span\">12.89</span></td>\\n<td class=\"graphimagecontainer mob-hide-col \">\\n<div class=\"bitcoin-container mob-hide-col\">\\n<a href=\"/coin/avalanche\">\\n<img class=\"graphimage lazy\" data-original=\"https://www.worldcoinindex-acc.nl/data/Avalanche_usd.png?t=2022122015\" alt=\"avalanche\" width=\"178\" height=\"58\" /></a>\\n</div>\\n</td>\\n<td class=\"number pricekoers volume mob-hide-col \" data-sort-value=\"94,499,012\">\\n<a href=\"/coin/avalanche\">\\n<span>$ </span><span class=\"span\">\\n94.49M\\n</span>\\n</a>\\n</td>\\n<td class=\"number supply mob-hide-col \" data-sort-value=\"128,019,844\"><span>128.01M</span></td>\\n<td class=\"number pricekoers marketcap mob-hide-col \" data-sort-value=\"1655014733\"><span>$ </span><span class=\"span\">1.65B</span> </td>\\n</tr>\\n<tr class=\"fantom coinzoeken \" data-naam=\"fantom\" data-symbol=\"2895\">\\n<td class=\"rank\"><span>17</span></td>\\n<td class=\"bitcoinLogo Fantom _Fantom Fantom\" style=\"background: url(\\'/Content/img/coins/v-637091563656151428/Fantom.png\\') no-repeat center; width: 16px;padding: 10px;background-size: 16px 16px;\"></td>\\n<td class=\"bitcoinName\"><a href=\"/coin/fantom\">\\n<h1><span>Fantom</span></h1>\\n</a></td>\\n<td class=\"ticker\">\\n<h2>FTM</h2>\\n</td>\\n<td class=\"number pricekoers lastprice\" data-sort-value=\"0.251084\"><span>$ </span><span class=\"span\"> 0.251084 </span></td>\\n<td class=\"percentage\" data-percentage=\"-1.36\" style=\"color: red\"><span>-1.36%</span></td>\\n<td class=\"number pricekoers highprice mob-hide-col \" data-sort-value=\"0.255068\"><span>$ </span><span class=\"span\">0.255068</span></td>\\n<td class=\"number pricekoers lowprice mob-hide-col \" data-sort-value=\"0.248546\"><span>$ </span><span class=\"span\">0.248546</span></td>\\n<td class=\"graphimagecontainer mob-hide-col \">\\n<div class=\"bitcoin-container mob-hide-col\">\\n<a href=\"/coin/fantom\">\\n<img class=\"graphimage lazy\" data-original=\"https://www.worldcoinindex-acc.nl/data/Fantom_usd.png?t=2022122015\" alt=\"fantom\" width=\"178\" height=\"58\" /></a>\\n</div>\\n</td>\\n <td class=\"number pricekoers volume mob-hide-col \" data-sort-value=\"93,271,629\">\\n<a href=\"/coin/fantom\">\\n<span>$ </span><span class=\"span\">\\n93.27M\\n</span>\\n</a>\\n</td>\\n<td class=\"number supply mob-hide-col \" data-sort-value=\"2,541,150,000\"><span>2.54B</span></td>\\n<td class=\"number pricekoers marketcap mob-hide-col \" data-sort-value=\"638042245\"><span>$ </span><span class=\"span\">638.04M</span> </td>\\n</tr>\\n<tr class=\"bitcoincash coinzoeken \" data-naam=\"bitcoincash\" data-symbol=\"160\">\\n<td class=\"rank\"><span>18</span></td>\\n<td class=\"bitcoinLogo Bitcoincash _Bitcoincash Bitcoincash\" style=\"background: url(\\'/Content/img/coins/v-637411130658237268/Bitcoincash.png\\') no-repeat center; width: 16px;padding: 10px;background-size: 16px 16px;\"></td>\\n<td class=\"bitcoinName\"><a href=\"/coin/bitcoincash\">\\n<h1><span>Bitcoincash</span></h1>\\n</a></td>\\n<td class=\"ticker\">\\n<h2>BCH</h2>\\n</td>\\n<td class=\"number pricekoers lastprice\" data-sort-value=\"109.86\"><span>$ </span><span class=\"span\"> 109.86 </span></td>\\n<td class=\"percentage\" data-percentage=\"-0.31\" style=\"color: red\"><span>-0.31%</span></td>\\n<td class=\"number pricekoers highprice mob-hide-col \" data-sort-value=\"110.34\"><span>$ </span><span class=\"span\">110.34</span></td>\\n<td class=\"number pricekoers lowprice mob-hide-col \" data-sort-value=\"109.81\"><span>$ </span><span class=\"span\">109.81</span></td>\\n<td class=\"graphimagecontainer mob-hide-col \">\\n<div class=\"bitcoin-container mob-hide-col\">\\n<a href=\"/coin/bitcoincash\">\\n<img class=\"graphimage lazy\" data-original=\"https://www.worldcoinindex-acc.nl/data/Bitcoincash_usd.png?t=2022122015\" alt=\"bitcoincash\" width=\"178\" height=\"58\" /></a>\\n</div>\\n</td>\\n<td class=\"number pricekoers volume mob-hide-col \" data-sort-value=\"88,424,456\">\\n<a href=\"/coin/bitcoincash\">\\n<span>$ </span><span class=\"span\">\\n88.42M\\n</span>\\n</a>\\n</td>\\n<td class=\"number supply mob-hide-col \" data-sort-value=\"18,670,531\"><span>18.67M</span></td>\\n<td class=\"number pricekoers marketcap mob-hide-col \" data-sort-value=\"2051108820\"><span>$ </span><span class=\"span\">2.05B</span> </td>\\n</tr>\\n<tr class=\"eos coinzoeken \" data-naam=\"eos\" data-symbol=\"545\">\\n<td class=\"rank\"><span>19</span></td>\\n<td class=\"bitcoinLogo Eos _Eos Eos\" style=\"background: url(\\'/Content/img/coins/v-636912768680145579/Eos.png\\') no-repeat center; width: 16px;padding: 10px;background-size: 16px 16px;\"></td>\\n<td class=\"bitcoinName\"><a href=\"/coin/eos\">\\n<h1><span>Eos</span></h1>\\n</a></td>\\n<td class=\"ticker\">\\n<h2>EOS</h2>\\n</td>\\n<td class=\"number pricekoers lastprice\" data-sort-value=\"0.930995\"><span>$ </span><span class=\"span\"> 0.930995 </span></td>\\n<td class=\"percentage\" data-percentage=\"-0.03\" style=\"color: red\"><span>-0.03%</span></td>\\n<td class=\"number pricekoers highprice mob-hide-col \" data-sort-value=\"0.932379\"><span>$ </span><span class=\"span\">0.932379</span></td>\\n<td class=\"number pricekoers lowprice mob-hide-col \" data-sort-value=\"0.929527\"><span>$ </span><span class=\"span\">0.929527</span></td>\\n<td class=\"graphimagecontainer mob-hide-col \">\\n<div class=\"bitcoin-container mob-hide-col\">\\n<a href=\"/coin/eos\">\\n<img class=\"graphimage lazy\" data-original=\"https://www.worldcoinindex-acc.nl/data/Eos_usd.png?t=2022122015\" alt=\"eos\" width=\"178\" height=\"58\" /></a>\\n</div>\\n</td>\\n<td class=\"number pricekoers volume mob-hide-col \" data-sort-value=\"85,676,795\">\\n<a href=\"/coin/eos\">\\n<span>$ </span><span class=\"span\">\\n85.67M\\n</span>\\n</a>\\n</td>\\n<td class=\"number supply mob-hide-col \" data-sort-value=\"1,027,542,191\"><span>1.02B</span></td>\\n<td class=\"number pricekoers marketcap mob-hide-col \" data-sort-value=\"956636416\"><span>$ </span><span class=\"span\">956.63M</span> </td>\\n</tr>\\n<tr class=\"mask-network coinzoeken \" data-naam=\"mask-network\" data-symbol=\"7178\">\\n<td class=\"rank\"><span>20</span></td>\\n<td class=\"bitcoinLogo Mask-network _Mask-network Mask-network\" style=\"background: url(\\'/Content/img/coins/v-637575336242608256/Mask-network.png\\') no-repeat center; width: 16px;padding: 10px;background-size: 16px 16px;\"></td>\\n<td class=\"bitcoinName\"><a href=\"/coin/mask-network\">\\n<h1><span>Mask Network</span></h1>\\n</a></td>\\n<td class=\"ticker\">\\n<h2>MASK</h2>\\n</td>\\n<td class=\"number pricekoers lastprice\" data-sort-value=\"3.92\"><span>$ </span><span class=\"span\"> 3.92 </span></td>\\n<td class=\"percentage\" data-percentage=\"-0.30\" style=\"color: red\"><span>-0.30%</span></td>\\n<td class=\"number pricekoers highprice mob-hide-col \" data-sort-value=\"3.94\"><span>$ </span><span class=\"span\">3.94</span></td>\\n<td class=\"number pricekoers lowprice mob-hide-col \" data-sort-value=\"3.88\"><span>$ </span><span class=\"span\">3.88</span></td>\\n<td class=\"graphimagecontainer mob-hide-col \">\\n<div class=\"bitcoin-container mob-hide-col\">\\n<a href=\"/coin/mask-network\">\\n<img class=\"graphimage lazy\" data-original=\"https://www.worldcoinindex-acc.nl/data/Mask-network_usd.png?t=2022122015\" alt=\"mask-network\" width=\"178\" height=\"58\" /></a>\\n</div>\\n</td>\\n<td class=\"number pricekoers volume mob-hide-col \" data-sort-value=\"83,910,617\">\\n<a href=\"/coin/mask-network\">\\n<span>$ </span><span class=\"span\">\\n83.91M\\n</span>\\n</a>\\n</td>\\n<td class=\"supply mob-hide-col \" style=\"width: 85px;\"></td>\\n<td class=\"marketcap mob-hide-col \" style=\"width: 95px;\"></td>\\n</tr>\\n<tr class=\"static\">\\n<td colspan=\"12\" style=\"text-align:center\">\\n<div class=\"wrapper3\">\\n\\n<div id=\\'div-gpt-ad-1571049390094-0\\' style=\\'width: 320px; height: auto;\\'>\\n<script defer>\\r\\n    googletag.cmd.push(function() { googletag.display(\\'div-gpt-ad-1571049390094-0\\'); });\\r\\n  </script>\\n</div>\\n</div>\\n</td>\\n</tr>\\n<tr class=\"cardano coinzoeken \" data-naam=\"cardano\" data-symbol=\"283\">\\n<td class=\"rank\"><span>21</span></td>\\n<td class=\"bitcoinLogo Cardano _Cardano Cardano\" style=\"background: url(\\'/Content/img/coins/v-636539602650195819/Cardano.png\\') no-repeat center; width: 16px;padding: 10px;background-size: 16px 16px;\"></td>\\n<td class=\"bitcoinName\"><a href=\"/coin/cardano\">\\n<h1><span>Cardano</span></h1>\\n</a></td>\\n<td class=\"ticker\">\\n<h2>ADA</h2>\\n</td>\\n<td class=\"number pricekoers lastprice\" data-sort-value=\"0.313662\"><span>$ </span><span class=\"span\"> 0.313662 </span></td>\\n<td class=\"percentage\" data-percentage=\"-0.10\" style=\"color: red\"><span>-0.10%</span></td>\\n<td class=\"number pricekoers highprice mob-hide-col \" data-sort-value=\"0.314197\"><span>$ </span><span class=\"span\">0.314197</span></td>\\n<td class=\"number pricekoers lowprice mob-hide-col \" data-sort-value=\"0.313432\"><span>$ </span><span class=\"span\">0.313432</span></td>\\n<td class=\"graphimagecontainer mob-hide-col \">\\n<div class=\"bitcoin-container mob-hide-col\">\\n<a href=\"/coin/cardano\">\\n<img class=\"graphimage lazy\" data-original=\"https://www.worldcoinindex-acc.nl/data/Cardano_usd.png?t=2022122015\" alt=\"cardano\" width=\"178\" height=\"58\" /></a>\\n</div>\\n</td>\\n<td class=\"number pricekoers volume mob-hide-col \" data-sort-value=\"83,015,476\">\\n<a href=\"/coin/cardano\">\\n<span>$ </span><span class=\"span\">\\n83.01M\\n</span>\\n</a>\\n</td>\\n<td class=\"number supply mob-hide-col \" data-sort-value=\"31,948,309,441\"><span>31.94B</span></td>\\n<td class=\"number pricekoers marketcap mob-hide-col \" data-sort-value=\"10020960677\"><span>$ </span><span class=\"span\">10.02B</span> </td>\\n</tr>\\n<tr class=\"loomnetwork coinzoeken \" data-naam=\"loomnetwork\" data-symbol=\"1850\">\\n<td class=\"rank\"><span>22</span></td>\\n<td class=\"bitcoinLogo Loomnetwork _Loomnetwork Loomnetwork\" style=\"background: url(\\'/Content/img/coins/v-636567080111380326/Loomnetwork.png\\') no-repeat center; width: 16px;padding: 10px;background-size: 16px 16px;\"></td>\\n<td class=\"bitcoinName\"><a href=\"/coin/loomnetwork\">\\n<h1><span>Loomnetwork</span></h1>\\n</a></td>\\n <td class=\"ticker\">\\n<h2>LOOM</h2>\\n</td>\\n<td class=\"number pricekoers lastprice\" data-sort-value=\"0.051524\"><span>$ </span><span class=\"span\"> 0.051524 </span></td>\\n<td class=\"percentage\" data-percentage=\"-1.20\" style=\"color: red\"><span>-1.20%</span></td>\\n<td class=\"number pricekoers highprice mob-hide-col \" data-sort-value=\"0.052147\"><span>$ </span><span class=\"span\">0.052147</span></td>\\n<td class=\"number pricekoers lowprice mob-hide-col \" data-sort-value=\"0.051160\"><span>$ </span><span class=\"span\">0.051160</span></td>\\n<td class=\"graphimagecontainer mob-hide-col \">\\n<div class=\"bitcoin-container mob-hide-col\">\\n<a href=\"/coin/loomnetwork\">\\n<img class=\"graphimage lazy\" data-original=\"https://www.worldcoinindex-acc.nl/data/Loomnetwork_usd.png?t=2022122015\" alt=\"loomnetwork\" width=\"178\" height=\"58\" /></a>\\n</div>\\n</td>\\n<td class=\"number pricekoers volume mob-hide-col \" data-sort-value=\"75,254,191\">\\n<a href=\"/coin/loomnetwork\">\\n<span>$ </span><span class=\"span\">\\n75.25M\\n</span>\\n</a>\\n</td>\\n<td class=\"number supply mob-hide-col \" data-sort-value=\"606,373,983\"><span>606.37M</span></td>\\n<td class=\"number pricekoers marketcap mob-hide-col \" data-sort-value=\"31242960\"><span>$ </span><span class=\"span\">31.24M</span> </td>\\n</tr>\\n<tr class=\"wemix coinzoeken \" data-naam=\"wemix\" data-symbol=\"5001\">\\n<td class=\"rank\"><span>23</span></td>\\n<td class=\"bitcoinLogo Wemix _Wemix Wemix\" style=\"background: url(\\'/Content/img/coins/v-637400733747677090/Wemix.png\\') no-repeat center; width: 16px;padding: 10px;background-size: 16px 16px;\"></td>\\n<td class=\"bitcoinName\"><a href=\"/coin/wemix\">\\n<h1><span>Wemix</span></h1>\\n</a></td>\\n<td class=\"ticker\">\\n<h2>WEMIX</h2>\\n</td>\\n<td class=\"number pricekoers lastprice\" data-sort-value=\"0.483520\"><span>$ </span><span class=\"span\"> 0.483520 </span></td>\\n<td class=\"percentage\" data-percentage=\"-1.54\" style=\"color: red\"><span>-1.54%</span></td>\\n<td class=\"number pricekoers highprice mob-hide-col \" data-sort-value=\"0.491092\"><span>$ </span><span class=\"span\">0.491092</span></td>\\n<td class=\"number pricekoers lowprice mob-hide-col \" data-sort-value=\"0.480016\"><span>$ </span><span class=\"span\">0.480016</span></td>\\n<td class=\"graphimagecontainer mob-hide-col \">\\n<div class=\"bitcoin-container mob-hide-col\">\\n<a href=\"/coin/wemix\">\\n<img class=\"graphimage lazy\" data-original=\"https://www.worldcoinindex-acc.nl/data/Wemix_usd.png?t=2022122015\" alt=\"wemix\" width=\"178\" height=\"58\" /></a>\\n</div>\\n</td>\\n<td class=\"number pricekoers volume mob-hide-col \" data-sort-value=\"75,144,414\">\\n<a href=\"/coin/wemix\">\\n<span>$ </span><span class=\"span\">\\n75.14M\\n</span>\\n</a>\\n</td>\\n<td class=\"supply mob-hide-col \" style=\"width: 85px;\"></td>\\n <td class=\"marketcap mob-hide-col \" style=\"width: 95px;\"></td>\\n</tr>\\n<tr class=\"ethereumclassic coinzoeken \" data-naam=\"ethereumclassic\" data-symbol=\"568\">\\n<td class=\"rank\"><span>24</span></td>\\n<td class=\"bitcoinLogo Ethereumclassic _Ethereumclassic Ethereumclassic\" style=\"background: url(\\'/Content/img/coins/v-636646511219402924/Ethereumclassic.png\\') no-repeat center; width: 16px;padding: 10px;background-size: 16px 16px;\"></td>\\n<td class=\"bitcoinName\"><a href=\"/coin/ethereumclassic\">\\n<h1><span>Ethereumclassic</span></h1>\\n</a></td>\\n<td class=\"ticker\">\\n<h2>ETC</h2>\\n</td>\\n<td class=\"number pricekoers lastprice\" data-sort-value=\"19.69\"><span>$ </span><span class=\"span\"> 19.69 </span></td>\\n<td class=\"percentage\" data-percentage=\"-0.25\" style=\"color: red\"><span>-0.25%</span></td>\\n<td class=\"number pricekoers highprice mob-hide-col \" data-sort-value=\"19.74\"><span>$ </span><span class=\"span\">19.74</span></td>\\n<td class=\"number pricekoers lowprice mob-hide-col \" data-sort-value=\"19.67\"><span>$ </span><span class=\"span\">19.67</span></td>\\n<td class=\"graphimagecontainer mob-hide-col \">\\n<div class=\"bitcoin-container mob-hide-col\">\\n<a href=\"/coin/ethereumclassic\">\\n<img class=\"graphimage lazy\" data-original=\"https://www.worldcoinindex-acc.nl/data/Ethereumclassic_usd.png?t=2022122015\" alt=\"ethereumclassic\" width=\"178\" height=\"58\" /></a>\\n</div>\\n</td>\\n<td class=\"number pricekoers volume mob-hide-col \" data-sort-value=\"73,616,074\">\\n<a href=\"/coin/ethereumclassic\">\\n<span>$ </span><span class=\"span\">\\n73.61M\\n</span>\\n</a>\\n</td>\\n<td class=\"number supply mob-hide-col \" data-sort-value=\"127,329,804\"><span>127.32M</span></td>\\n<td class=\"number pricekoers marketcap mob-hide-col \" data-sort-value=\"2507333759\"><span>$ </span><span class=\"span\">2.50B</span> </td>\\n</tr>\\n<tr class=\"bandprotocol coinzoeken \" data-naam=\"bandprotocol\" data-symbol=\"3649\">\\n<td class=\"rank\"><span>25</span></td>\\n<td class=\"bitcoinLogo Bandprotocol _Bandprotocol Bandprotocol\" style=\"background: url(\\'/Content/img/coins/v-637044798168720666/Bandprotocol.png\\') no-repeat center; width: 16px;padding: 10px;background-size: 16px 16px;\"></td>\\n<td class=\"bitcoinName\"><a href=\"/coin/bandprotocol\">\\n<h1><span>Bandprotocol</span></h1>\\n</a></td>\\n<td class=\"ticker\">\\n<h2>BAND</h2>\\n</td>\\n<td class=\"number pricekoers lastprice\" data-sort-value=\"2.15\"><span>$ </span><span class=\"span\"> 2.15 </span></td>\\n<td class=\"percentage\" data-percentage=\"-1.11\" style=\"color: red\"><span>-1.11%</span></td>\\n<td class=\"number pricekoers highprice mob-hide-col \" data-sort-value=\"2.18\"><span>$ </span><span class=\"span\">2.18</span></td>\\n<td class=\"number pricekoers lowprice mob-hide-col \" data-sort-value=\"2.14\"><span>$ </span><span class=\"span\">2.14</span></td>\\n<td class=\"graphimagecontainer mob-hide-col \">\\n<div class=\"bitcoin-container mob-hide-col\">\\n<a href=\"/coin/bandprotocol\">\\n<img class=\"graphimage lazy\" data-original=\"https://www.worldcoinindex-acc.nl/data/Bandprotocol_usd.png?t=2022122015\" alt=\"bandprotocol\" width=\"178\" height=\"58\" /></a>\\n</div>\\n</td>\\n<td class=\"number pricekoers volume mob-hide-col \" data-sort-value=\"70,148,391\">\\n<a href=\"/coin/bandprotocol\">\\n<span>$ </span><span class=\"span\">\\n70.14M\\n</span>\\n</a>\\n</td>\\n<td class=\"number supply mob-hide-col \" data-sort-value=\"35,191,800\"><span>35.19M</span></td>\\n<td class=\"number pricekoers marketcap mob-hide-col \" data-sort-value=\"75810015\"><span>$ </span><span class=\"span\">75.81M</span> </td>\\n</tr>\\n<tr class=\"chiliz coinzoeken \" data-naam=\"chiliz\" data-symbol=\"3483\">\\n<td class=\"rank\"><span>26</span></td>\\n<td class=\"bitcoinLogo Chiliz _Chiliz Chiliz\" style=\"background: url(\\'/Content/img/coins/v-636978335425864699/Chiliz.png\\') no-repeat center; width: 16px;padding: 10px;background-size: 16px 16px;\"></td>\\n<td class=\"bitcoinName\"><a href=\"/coin/chiliz\">\\n<h1><span>Chiliz</span></h1>\\n</a></td>\\n<td class=\"ticker\">\\n<h2>CHZ</h2>\\n</td>\\n<td class=\"number pricekoers lastprice\" data-sort-value=\"0.160756\"><span>$ </span><span class=\"span\"> 0.160756 </span></td>\\n<td class=\"percentage\" data-percentage=\"-0.21\" style=\"color: red\"><span>-0.21%</span></td>\\n<td class=\"number pricekoers highprice mob-hide-col \" data-sort-value=\"0.161178\"><span>$ </span><span class=\"span\">0.161178</span></td>\\n<td class=\"number pricekoers lowprice mob-hide-col \" data-sort-value=\"0.160361\"><span>$ </span><span class=\"span\">0.160361</span></td>\\n<td class=\"graphimagecontainer mob-hide-col \">\\n<div class=\"bitcoin-container mob-hide-col\">\\n<a href=\"/coin/chiliz\">\\n<img class=\"graphimage lazy\" data-original=\"https://www.worldcoinindex-acc.nl/data/Chiliz_usd.png?t=2022122015\" alt=\"chiliz\" width=\"178\" height=\"58\" /></a>\\n</div>\\n</td>\\n<td class=\"number pricekoers volume mob-hide-col \" data-sort-value=\"69,718,483\">\\n<a href=\"/coin/chiliz\">\\n<span>$ </span><span class=\"span\">\\n69.71M\\n</span>\\n</a>\\n</td>\\n<td class=\"number supply mob-hide-col \" data-sort-value=\"5,547,664,721\"><span>5.54B</span></td>\\n<td class=\"number pricekoers marketcap mob-hide-col \" data-sort-value=\"891820593\"><span>$ </span><span class=\"span\">891.82M</span> </td>\\n</tr>\\n<tr class=\"terra-luna-classic coinzoeken \" data-naam=\"terra-luna-classic\" data-symbol=\"3531\">\\n<td class=\"rank\"><span>27</span></td>\\n<td class=\"bitcoinLogo Terra-luna-classic _Terra-luna-classic Terra-luna-classic\" style=\"background: url(\\'/Content/img/coins/v-637000870050125244/Terra-luna-classic.png\\') no-repeat center; width: 16px;padding: 10px;background-size: 16px 16px;\"></td>\\n<td class=\"bitcoinName\"><a href=\"/coin/terra-luna-classic\">\\n<h1><span>Terra Luna Classic</span></h1>\\n</a></td>\\n<td class=\"ticker\">\\n<h2>LUNC</h2>\\n</td>\\n<td class=\"number pricekoers lastprice\" data-sort-value=\"0.000169\"><span>$ </span><span class=\"span\"> 0.000169 </span></td>\\n<td class=\"percentage\" data-percentage=\"0.59)\" style=\"color: green\"><span>+0.59%</span></td>\\n<td class=\"number pricekoers highprice mob-hide-col \" data-sort-value=\"0.000169\"><span>$ </span><span class=\"span\">0.000169</span></td>\\n<td class=\"number pricekoers lowprice mob-hide-col \" data-sort-value=\"0.000167\"><span>$ </span><span class=\"span\">0.000167</span></td>\\n<td class=\"graphimagecontainer mob-hide-col \">\\n<div class=\"bitcoin-container mob-hide-col\">\\n<a href=\"/coin/terra-luna-classic\">\\n<img class=\"graphimage lazy\" data-original=\"https://www.worldcoinindex-acc.nl/data/Terra-luna-classic_usd.png?t=2022122015\" alt=\"terra-luna-classic\" width=\"178\" height=\"58\" /></a>\\n</div>\\n</td>\\n<td class=\"number pricekoers volume mob-hide-col \" data-sort-value=\"66,938,220\">\\n<a href=\"/coin/terra-luna-classic\">\\n<span>$ </span><span class=\"span\">\\n66.93M\\n</span>\\n</a>\\n</td>\\n<td class=\"number supply mob-hide-col \" data-sort-value=\"6,530,342,020,076\"><span>6.53T</span></td>\\n<td class=\"number pricekoers marketcap mob-hide-col \" data-sort-value=\"1106203233\"><span>$ </span><span class=\"span\">1.10B</span> </td>\\n</tr>\\n<tr class=\"dash coinzoeken \" data-naam=\"dash\" data-symbol=\"412\">\\n<td class=\"rank\"><span>28</span></td>\\n<td class=\"bitcoinLogo Dash _Dash Dash\" style=\"background: url(\\'/Content/img/coins/v-636958482724773619/Dash.png\\') no-repeat center; width: 16px;padding: 10px;background-size: 16px 16px;\"></td>\\n<td class=\"bitcoinName\"><a href=\"/coin/dash\">\\n<h1><span>Dash</span></h1>\\n</a></td>\\n<td class=\"ticker\">\\n<h2>DASH</h2>\\n</td>\\n<td class=\"number pricekoers lastprice\" data-sort-value=\"45.43\"><span>$ </span><span class=\"span\"> 45.43 </span></td>\\n<td class=\"percentage\" data-percentage=\"-0.49\" style=\"color: red\"><span>-0.49%</span></td>\\n<td class=\"number pricekoers highprice mob-hide-col \" data-sort-value=\"45.73\"><span>$ </span><span class=\"span\">45.73</span></td>\\n<td class=\"number pricekoers lowprice mob-hide-col \" data-sort-value=\"45.39\"><span>$ </span><span class=\"span\">45.39</span></td>\\n<td class=\"graphimagecontainer mob-hide-col \">\\n<div class=\"bitcoin-container mob-hide-col\">\\n<a href=\"/coin/dash\">\\n<img class=\"graphimage lazy\" data-original=\"https://www.worldcoinindex-acc.nl/data/Dash_usd.png?t=2022122015\" alt=\"dash\" width=\"178\" height=\"58\" /></a>\\n</div>\\n</td>\\n<td class=\"number pricekoers volume mob-hide-col \" data-sort-value=\"66,907,775\">\\n<a href=\"/coin/dash\">\\n<span>$ </span><span class=\"span\">\\n66.90M\\n</span>\\n</a>\\n</td>\\n<td class=\"number supply mob-hide-col \" data-sort-value=\"11,031,587\"><span>11.03M</span></td>\\n<td class=\"number pricekoers marketcap mob-hide-col \" data-sort-value=\"501205572\"><span>$ </span><span class=\"span\">501.20M</span> </td>\\n</tr>\\n<tr class=\"ethereum-pow coinzoeken \" data-naam=\"ethereum-pow\" data-symbol=\"17598\">\\n<td class=\"rank\"><span>29</span></td>\\n<td class=\"bitcoinLogo Ethereum-pow _Ethereum-pow Ethereum-pow\" style=\"background: url(\\'/Content/img/coins/v-637992041315925692/Ethereum-pow.png\\') no-repeat center; width: 16px;padding: 10px;background-size: 16px 16px;\"></td>\\n<td class=\"bitcoinName\"><a href=\"/coin/ethereum-pow\">\\n<h1><span>Ethereum PoW</span></h1>\\n</a></td>\\n<td class=\"ticker\">\\n<h2>ETHW</h2>\\n</td>\\n<td class=\"number pricekoers lastprice\" data-sort-value=\"3.93\"><span>$ </span><span class=\"span\"> 3.93 </span></td>\\n<td class=\"percentage\" data-percentage=\"1.37)\" style=\"color: green\"><span>+1.37%</span></td>\\n<td class=\"number pricekoers highprice mob-hide-col \" data-sort-value=\"3.93\"><span>$ </span><span class=\"span\">3.93</span></td>\\n<td class=\"number pricekoers lowprice mob-hide-col \" data-sort-value=\"3.87\"><span>$ </span><span class=\"span\">3.87</span></td>\\n<td class=\"graphimagecontainer mob-hide-col \">\\n<div class=\"bitcoin-container mob-hide-col\">\\n<a href=\"/coin/ethereum-pow\">\\n<img class=\"graphimage lazy\" data-original=\"https://www.worldcoinindex-acc.nl/data/Ethereum-pow_usd.png?t=2022122015\" alt=\"ethereum-pow\" width=\"178\" height=\"58\" /></a>\\n</div>\\n</td>\\n<td class=\"number pricekoers volume mob-hide-col \" data-sort-value=\"58,559,440\">\\n<a href=\"/coin/ethereum-pow\">\\n<span>$ </span><span class=\"span\">\\n58.55M\\n</span>\\n</a>\\n</td>\\n<td class=\"supply mob-hide-col \" style=\"width: 85px;\"></td>\\n<td class=\"marketcap mob-hide-col \" style=\"width: 95px;\"></td>\\n</tr>\\n<tr class=\"monero coinzoeken \" data-naam=\"monero\" data-symbol=\"999\">\\n<td class=\"rank\"><span>30</span></td>\\n<td class=\"bitcoinLogo Monero _Monero Monero\" style=\"background: url(\\'/Content/img/coins/v-636539607488791579/Monero.png\\') no-repeat center; width: 16px;padding: 10px;background-size: 16px 16px;\"></td>\\n<td class=\"bitcoinName\"><a href=\"/coin/monero\">\\n<h1><span>Monero</span></h1>\\n</a></td>\\n<td class=\"ticker\">\\n<h2>XMR</h2>\\n</td>\\n<td class=\"number pricekoers lastprice\" data-sort-value=\"144.25\"><span>$ </span><span class=\"span\"> 144.25 </span></td>\\n<td class=\"percentage\" data-percentage=\"-0.20\" style=\"color: red\"><span>-0.20%</span></td>\\n<td class=\"number pricekoers highprice mob-hide-col \" data-sort-value=\"144.60\"><span>$ </span><span class=\"span\">144.60</span></td>\\n<td class=\"number pricekoers lowprice mob-hide-col \" data-sort-value=\"144.13\"><span>$ </span><span class=\"span\">144.13</span></td>\\n<td class=\"graphimagecontainer mob-hide-col \">\\n<div class=\"bitcoin-container mob-hide-col\">\\n<a href=\"/coin/monero\">\\n <img class=\"graphimage lazy\" data-original=\"https://www.worldcoinindex-acc.nl/data/Monero_usd.png?t=2022122015\" alt=\"monero\" width=\"178\" height=\"58\" /></a>\\n</div>\\n</td>\\n<td class=\"number pricekoers volume mob-hide-col \" data-sort-value=\"58,337,184\">\\n<a href=\"/coin/monero\">\\n<span>$ </span><span class=\"span\">\\n58.33M\\n</span>\\n</a>\\n</td>\\n<td class=\"number supply mob-hide-col \" data-sort-value=\"16,924,251\"><span>16.92M</span></td>\\n<td class=\"number pricekoers marketcap mob-hide-col \" data-sort-value=\"2441344443\"><span>$ </span><span class=\"span\">2.44B</span> </td>\\n</tr>\\n<tr class=\"apecoin coinzoeken \" data-naam=\"apecoin\" data-symbol=\"14676\">\\n<td class=\"rank\"><span>31</span></td>\\n<td class=\"bitcoinLogo Apecoin _Apecoin Apecoin\" style=\"background: url(\\'/Content/img/coins/v-637831176989745727/Apecoin.png\\') no-repeat center; width: 16px;padding: 10px;background-size: 16px 16px;\"></td>\\n<td class=\"bitcoinName\"><a href=\"/coin/apecoin\">\\n<h1><span>Apecoin</span></h1>\\n</a></td>\\n<td class=\"ticker\">\\n<h2>APE</h2>\\n</td>\\n<td class=\"number pricekoers lastprice\" data-sort-value=\"3.87\"><span>$ </span><span class=\"span\"> 3.87 </span></td>\\n<td class=\"percentage\" data-percentage=\"-0.62\" style=\"color: red\"><span>-0.62%</span></td>\\n<td class=\"number pricekoers highprice mob-hide-col \" data-sort-value=\"3.90\"><span>$ </span><span class=\"span\">3.90</span></td>\\n<td class=\"number pricekoers lowprice mob-hide-col \" data-sort-value=\"3.86\"><span>$ </span><span class=\"span\">3.86</span></td>\\n<td class=\"graphimagecontainer mob-hide-col \">\\n<div class=\"bitcoin-container mob-hide-col\">\\n<a href=\"/coin/apecoin\">\\n<img class=\"graphimage lazy\" data-original=\"https://www.worldcoinindex-acc.nl/data/Apecoin_usd.png?t=2022122015\" alt=\"apecoin\" width=\"178\" height=\"58\" /></a>\\n</div>\\n</td>\\n<td class=\"number pricekoers volume mob-hide-col \" data-sort-value=\"57,919,608\">\\n<a href=\"/coin/apecoin\">\\n<span>$ </span><span class=\"span\">\\n57.91M\\n</span>\\n</a>\\n</td>\\n<td class=\"number supply mob-hide-col \" data-sort-value=\"123,245,000\"><span>123.24M</span></td>\\n<td class=\"number pricekoers marketcap mob-hide-col \" data-sort-value=\"476620970\"><span>$ </span><span class=\"span\">476.62M</span> </td>\\n</tr>\\n<tr class=\"cosmos coinzoeken \" data-naam=\"cosmos\" data-symbol=\"3199\">\\n<td class=\"rank\"><span>32</span></td>\\n<td class=\"bitcoinLogo Cosmos _Cosmos Cosmos\" style=\"background: url(\\'/Content/img/coins/v-636882203017658418/Cosmos.png\\') no-repeat center; width: 16px;padding: 10px;background-size: 16px 16px;\"></td>\\n<td class=\"bitcoinName\"><a href=\"/coin/cosmos\">\\n<h1><span>Cosmos</span></h1>\\n</a></td>\\n<td class=\"ticker\">\\n<h2>ATOM</h2>\\n</td>\\n<td class=\"number pricekoers lastprice\" data-sort-value=\"10.26\"><span>$ </span><span class=\"span\"> 10.26 </span></td>\\n<td class=\"percentage\" data-percentage=\"-0.02\" style=\"color: red\"><span>-0.02%</span></td>\\n<td class=\"number pricekoers highprice mob-hide-col \" data-sort-value=\"10.29\"><span>$ </span><span class=\"span\">10.29</span></td>\\n<td class=\"number pricekoers lowprice mob-hide-col \" data-sort-value=\"10.24\"><span>$ </span><span class=\"span\">10.24</span></td>\\n<td class=\"graphimagecontainer mob-hide-col \">\\n<div class=\"bitcoin-container mob-hide-col\">\\n<a href=\"/coin/cosmos\">\\n<img class=\"graphimage lazy\" data-original=\"https://www.worldcoinindex-acc.nl/data/Cosmos_usd.png?t=2022122015\" alt=\"cosmos\" width=\"178\" height=\"58\" /></a>\\n</div>\\n</td>\\n<td class=\"number pricekoers volume mob-hide-col \" data-sort-value=\"57,881,650\">\\n<a href=\"/coin/cosmos\">\\n<span>$ </span><span class=\"span\">\\n57.88M\\n</span>\\n</a>\\n</td>\\n<td class=\"number supply mob-hide-col \" data-sort-value=\"190,688,439\"><span>190.68M</span></td>\\n<td class=\"number pricekoers marketcap mob-hide-col \" data-sort-value=\"1957047316\"><span>$ </span><span class=\"span\">1.95B</span> </td>\\n</tr>\\n<tr class=\"shiba-inu coinzoeken \" data-naam=\"shiba-inu\" data-symbol=\"4422\">\\n<td class=\"rank\"><span>33</span></td>\\n<td class=\"bitcoinLogo Shiba-inu _Shiba-inu Shiba-inu\" style=\"background: url(\\'/Content/img/coins/v-637560895614744625/Shiba-inu.png\\') no-repeat center; width: 16px;padding: 10px;background-size: 16px 16px;\"></td>\\n<td class=\"bitcoinName\"><a href=\"/coin/shiba-inu\">\\n<h1><span>SHIBA INU</span></h1>\\n</a></td>\\n<td class=\"ticker\">\\n<h2>SHIB</h2>\\n</td>\\n<td class=\"number pricekoers lastprice\" data-sort-value=\"0.000009\"><span>$ </span><span class=\"span\"> 0.000009 </span></td>\\n<td class=\"percentage\" data-percentage=\"0.07)\" style=\"color: green\"><span>+0.07%</span></td>\\n<td class=\"number pricekoers highprice mob-hide-col \" data-sort-value=\"0.000009\"><span>$ </span><span class=\"span\">0.000009</span></td>\\n<td class=\"number pricekoers lowprice mob-hide-col \" data-sort-value=\"0.000009\"><span>$ </span><span class=\"span\">0.000009</span></td>\\n<td class=\"graphimagecontainer mob-hide-col \">\\n<div class=\"bitcoin-container mob-hide-col\">\\n<a href=\"/coin/shiba-inu\">\\n<img class=\"graphimage lazy\" data-original=\"https://www.worldcoinindex-acc.nl/data/Shiba-inu_usd.png?t=2022122015\" alt=\"shiba-inu\" width=\"178\" height=\"58\" /></a>\\n</div>\\n</td>\\n<td class=\"number pricekoers volume mob-hide-col \" data-sort-value=\"57,076,626\">\\n<a href=\"/coin/shiba-inu\">\\n<span>$ </span><span class=\"span\">\\n57.07M\\n</span>\\n</a>\\n</td>\\n<td class=\"number supply mob-hide-col \" data-sort-value=\"497,730,966,630,000\"><span>497.73T</span></td>\\n<td class=\"number pricekoers marketcap mob-hide-col \" data-sort-value=\"4585169356\"><span>$ </span><span class=\"span\">4.58B</span> </td>\\n</tr>\\n<tr class=\"filecoin coinzoeken \" data-naam=\"filecoin\" data-symbol=\"613\">\\n<td class=\"rank\"><span>34</span></td>\\n<td class=\"bitcoinLogo Filecoin _Filecoin Filecoin\" style=\"background: url(\\'/Content/img/coins/v-636488766497781584/Filecoin.png\\') no-repeat center; width: 16px;padding: 10px;background-size: 16px 16px;\"></td>\\n<td class=\"bitcoinName\"><a href=\"/coin/filecoin\">\\n<h1><span>Filecoin</span></h1>\\n</a></td>\\n<td class=\"ticker\">\\n<h2>FIL</h2>\\n</td>\\n<td class=\"number pricekoers lastprice\" data-sort-value=\"4.39\"><span>$ </span><span class=\"span\"> 4.39 </span></td>\\n<td class=\"percentage\" data-percentage=\"0.00\" style=\"color: black\"><span>0.00%</span></td>\\n<td class=\"number pricekoers highprice mob-hide-col \" data-sort-value=\"4.40\"><span>$ </span><span class=\"span\">4.40</span></td>\\n<td class=\"number pricekoers lowprice mob-hide-col \" data-sort-value=\"4.38\"><span>$ </span><span class=\"span\">4.38</span></td>\\n<td class=\"graphimagecontainer mob-hide-col \">\\n<div class=\"bitcoin-container mob-hide-col\">\\n<a href=\"/coin/filecoin\">\\n<img class=\"graphimage lazy\" data-original=\"https://www.worldcoinindex-acc.nl/data/Filecoin_usd.png?t=2022122015\" alt=\"filecoin\" width=\"178\" height=\"58\" /></a>\\n</div>\\n</td>\\n<td class=\"number pricekoers volume mob-hide-col \" data-sort-value=\"55,941,889\">\\n<a href=\"/coin/filecoin\">\\n<span>$ </span><span class=\"span\">\\n55.94M\\n</span>\\n</a>\\n</td>\\n<td class=\"number supply mob-hide-col \" data-sort-value=\"118,750,000\"><span>118.75M</span></td>\\n<td class=\"number pricekoers marketcap mob-hide-col \" data-sort-value=\"521784715\"><span>$ </span><span class=\"span\">521.78M</span> </td>\\n</tr>\\n<tr class=\"uniswap coinzoeken \" data-naam=\"uniswap\" data-symbol=\"4707\">\\n<td class=\"rank\"><span>35</span></td>\\n<td class=\"bitcoinLogo Uniswap _Uniswap Uniswap\" style=\"background: url(\\'/Content/img/coins/v-637359217723299423/Uniswap.png\\') no-repeat center; width: 16px;padding: 10px;background-size: 16px 16px;\"></td>\\n<td class=\"bitcoinName\"><a href=\"/coin/uniswap\">\\n<h1><span>Uniswap</span></h1>\\n</a></td>\\n<td class=\"ticker\">\\n<h2>UNI</h2>\\n</td>\\n<td class=\"number pricekoers lastprice\" data-sort-value=\"5.97\"><span>$ </span><span class=\"span\"> 5.97 </span></td>\\n<td class=\"percentage\" data-percentage=\"1.02)\" style=\"color: green\"><span>+1.02%</span></td>\\n<td class=\"number pricekoers highprice mob-hide-col \" data-sort-value=\"5.97\"><span>$ </span><span class=\"span\">5.97</span></td>\\n<td class=\"number pricekoers lowprice mob-hide-col \" data-sort-value=\"5.90\"><span>$ </span><span class=\"span\">5.90</span></td>\\n<td class=\"graphimagecontainer mob-hide-col \">\\n<div class=\"bitcoin-container mob-hide-col\">\\n<a href=\"/coin/uniswap\">\\n<img class=\"graphimage lazy\" data-original=\"https://www.worldcoinindex-acc.nl/data/Uniswap_usd.png?t=2022122015\" alt=\"uniswap\" width=\"178\" height=\"58\" /></a>\\n</div>\\n</td>\\n<td class=\"number pricekoers volume mob-hide-col \" data-sort-value=\"54,023,104\">\\n<a href=\"/coin/uniswap\">\\n<span>$ </span><span class=\"span\">\\n54.02M\\n</span>\\n</a>\\n</td>\\n<td class=\"number supply mob-hide-col \" data-sort-value=\"523,256,856\"><span>523.25M</span></td>\\n<td class=\"number pricekoers marketcap mob-hide-col \" data-sort-value=\"3121908444\"><span>$ </span><span class=\"span\">3.12B</span> </td>\\n</tr>\\n<tr class=\"optimism coinzoeken \" data-naam=\"optimism\" data-symbol=\"16685\">\\n<td class=\"rank\"><span>36</span></td>\\n<td class=\"bitcoinLogo Optimism _Optimism Optimism\" style=\"background: url(\\'/Content/img/coins/v-637896701812924893/Optimism.png\\') no-repeat center; width: 16px;padding: 10px;background-size: 16px 16px;\"></td>\\n<td class=\"bitcoinName\"><a href=\"/coin/optimism\">\\n<h1><span>Optimism</span></h1>\\n</a></td>\\n<td class=\"ticker\">\\n<h2>OP</h2>\\n</td>\\n<td class=\"number pricekoers lastprice\" data-sort-value=\"1.05\"><span>$ </span><span class=\"span\"> 1.05 </span></td>\\n<td class=\"percentage\" data-percentage=\"-0.70\" style=\"color: red\"><span>-0.70%</span></td>\\n<td class=\"number pricekoers highprice mob-hide-col \" data-sort-value=\"1.06\"><span>$ </span><span class=\"span\">1.06</span></td>\\n<td class=\"number pricekoers lowprice mob-hide-col \" data-sort-value=\"1.05\"><span>$ </span><span class=\"span\">1.05</span></td>\\n<td class=\"graphimagecontainer mob-hide-col \">\\n<div class=\"bitcoin-container mob-hide-col\">\\n<a href=\"/coin/optimism\">\\n<img class=\"graphimage lazy\" data-original=\"https://www.worldcoinindex-acc.nl/data/Optimism_usd.png?t=2022122015\" alt=\"optimism\" width=\"178\" height=\"58\" /></a>\\n</div>\\n</td>\\n<td class=\"number pricekoers volume mob-hide-col \" data-sort-value=\"53,244,048\">\\n<a href=\"/coin/optimism\">\\n<span>$ </span><span class=\"span\">\\n53.24M\\n</span>\\n</a>\\n</td>\\n<td class=\"supply mob-hide-col \" style=\"width: 85px;\"></td>\\n<td class=\"marketcap mob-hide-col \" style=\"width: 95px;\"></td>\\n</tr>\\n<tr class=\"near-protocol coinzoeken \" data-naam=\"near-protocol\" data-symbol=\"5780\">\\n<td class=\"rank\"><span>37</span></td>\\n<td class=\"bitcoinLogo Near-protocol _Near-protocol Near-protocol\" style=\"background: url(\\'/Content/img/coins/v-637509306964701843/Near-protocol.png\\') no-repeat center; width: 16px;padding: 10px;background-size: 16px 16px;\"></td>\\n<td class=\"bitcoinName\"><a href=\"/coin/near-protocol\">\\n<h1><span>NEAR Protocol</span></h1>\\n</a></td>\\n<td class=\"ticker\">\\n<h2>NEAR</h2>\\n</td>\\n<td class=\"number pricekoers lastprice\" data-sort-value=\"1.73\"><span>$ </span><span class=\"span\"> 1.73 </span></td>\\n <td class=\"percentage\" data-percentage=\"-0.27\" style=\"color: red\"><span>-0.27%</span></td>\\n<td class=\"number pricekoers highprice mob-hide-col \" data-sort-value=\"1.74\"><span>$ </span><span class=\"span\">1.74</span></td>\\n<td class=\"number pricekoers lowprice mob-hide-col \" data-sort-value=\"1.73\"><span>$ </span><span class=\"span\">1.73</span></td>\\n<td class=\"graphimagecontainer mob-hide-col \">\\n<div class=\"bitcoin-container mob-hide-col\">\\n<a href=\"/coin/near-protocol\">\\n<img class=\"graphimage lazy\" data-original=\"https://www.worldcoinindex-acc.nl/data/Near-protocol_usd.png?t=2022122015\" alt=\"near-protocol\" width=\"178\" height=\"58\" /></a>\\n</div>\\n</td>\\n<td class=\"number pricekoers volume mob-hide-col \" data-sort-value=\"48,643,114\">\\n<a href=\"/coin/near-protocol\">\\n<span>$ </span><span class=\"span\">\\n48.64M\\n</span>\\n</a>\\n</td>\\n<td class=\"number supply mob-hide-col \" data-sort-value=\"341,327,007\"><span>341.32M</span></td>\\n<td class=\"number pricekoers marketcap mob-hide-col \" data-sort-value=\"592142676\"><span>$ </span><span class=\"span\">592.14M</span> </td>\\n</tr>\\n<tr class=\"dydx coinzoeken \" data-naam=\"dydx\" data-symbol=\"9205\">\\n<td class=\"rank\"><span>38</span></td>\\n<td class=\"bitcoinLogo Dydx _Dydx Dydx\" style=\"background: url(\\'/Content/img/coins/v-637667004175345034/Dydx.png\\') no-repeat center; width: 16px;padding: 10px;background-size: 16px 16px;\"></td>\\n<td class=\"bitcoinName\"><a href=\"/coin/dydx\">\\n<h1><span>dYdX</span></h1>\\n</a></td>\\n<td class=\"ticker\">\\n<h2>DYDX</h2>\\n</td>\\n<td class=\"number pricekoers lastprice\" data-sort-value=\"1.83\"><span>$ </span><span class=\"span\"> 1.83 </span></td>\\n<td class=\"percentage\" data-percentage=\"0.03)\" style=\"color: green\"><span>+0.03%</span></td>\\n<td class=\"number pricekoers highprice mob-hide-col \" data-sort-value=\"1.84\"><span>$ </span><span class=\"span\">1.84</span></td>\\n<td class=\"number pricekoers lowprice mob-hide-col \" data-sort-value=\"1.81\"><span>$ </span><span class=\"span\">1.81</span></td>\\n<td class=\"graphimagecontainer mob-hide-col \">\\n<div class=\"bitcoin-container mob-hide-col\">\\n<a href=\"/coin/dydx\">\\n<img class=\"graphimage lazy\" data-original=\"https://www.worldcoinindex-acc.nl/data/Dydx_usd.png?t=2022122015\" alt=\"dydx\" width=\"178\" height=\"58\" /></a>\\n</div>\\n</td>\\n<td class=\"number pricekoers volume mob-hide-col \" data-sort-value=\"47,173,065\">\\n<a href=\"/coin/dydx\">\\n<span>$ </span><span class=\"span\">\\n47.17M\\n</span>\\n</a>\\n</td>\\n<td class=\"number supply mob-hide-col \" data-sort-value=\"57,077,000\"><span>57.07M</span></td>\\n<td class=\"number pricekoers marketcap mob-hide-col \" data-sort-value=\"104483352\"><span>$ </span><span class=\"span\">104.48M</span> </td>\\n</tr>\\n<tr class=\"trust-wallet-token coinzoeken \" data-naam=\"trust-wallet-token\" data-symbol=\"4436\">\\n<td class=\"rank\"><span>39</span></td>\\n<td class=\"bitcoinLogo Trust-wallet-token _Trust-wallet-token Trust-wallet-token\" style=\"background: url(\\'/Content/img/coins/v-637330970733676824/Trust-wallet-token.png\\') no-repeat center; width: 16px;padding: 10px;background-size: 16px 16px;\"></td>\\n<td class=\"bitcoinName\"><a href=\"/coin/trust-wallet-token\">\\n<h1><span>Trust Wallet Token</span></h1>\\n</a></td>\\n<td class=\"ticker\">\\n<h2>TWT</h2>\\n</td>\\n<td class=\"number pricekoers lastprice\" data-sort-value=\"2.27\"><span>$ </span><span class=\"span\"> 2.27 </span></td>\\n<td class=\"percentage\" data-percentage=\"1.67)\" style=\"color: green\"><span>+1.67%</span></td>\\n<td class=\"number pricekoers highprice mob-hide-col \" data-sort-value=\"2.27\"><span>$ </span><span class=\"span\">2.27</span></td>\\n<td class=\"number pricekoers lowprice mob-hide-col \" data-sort-value=\"2.23\"><span>$ </span><span class=\"span\">2.23</span></td>\\n<td class=\"graphimagecontainer mob-hide-col \">\\n<div class=\"bitcoin-container mob-hide-col\">\\n<a href=\"/coin/trust-wallet-token\">\\n<img class=\"graphimage lazy\" data-original=\"https://www.worldcoinindex-acc.nl/data/Trust-wallet-token_usd.png?t=2022122015\" alt=\"trust-wallet-token\" width=\"178\" height=\"58\" /></a>\\n</div>\\n</td>\\n<td class=\"number pricekoers volume mob-hide-col \" data-sort-value=\"46,303,756\">\\n<a href=\"/coin/trust-wallet-token\">\\n<span>$ </span><span class=\"span\">\\n46.30M\\n</span>\\n</a>\\n</td>\\n<td class=\"supply mob-hide-col \" style=\"width: 85px;\"></td>\\n<td class=\"marketcap mob-hide-col \" style=\"width: 95px;\"></td>\\n</tr>\\n<tr class=\"dkargo coinzoeken \" data-naam=\"dkargo\" data-symbol=\"4523\">\\n<td class=\"rank\"><span>40</span></td>\\n<td class=\"bitcoinLogo Dkargo _Dkargo Dkargo\" style=\"background: url(\\'/Content/img/coins/v-637344613052080069/Dkargo.png\\') no-repeat center; width: 16px;padding: 10px;background-size: 16px 16px;\"></td>\\n<td class=\"bitcoinName\"><a href=\"/coin/dkargo\">\\n<h1><span>dKargo</span></h1>\\n</a></td>\\n<td class=\"ticker\">\\n<h2>DKA</h2>\\n</td>\\n<td class=\"number pricekoers lastprice\" data-sort-value=\"0.033891\"><span>$ </span><span class=\"span\"> 0.033891 </span></td>\\n<td class=\"percentage\" data-percentage=\"3.67)\" style=\"color: green\"><span>+3.67%</span></td>\\n<td class=\"number pricekoers highprice mob-hide-col \" data-sort-value=\"0.034071\"><span>$ </span><span class=\"span\">0.034071</span></td>\\n<td class=\"number pricekoers lowprice mob-hide-col \" data-sort-value=\"0.032454\"><span>$ </span><span class=\"span\">0.032454</span></td>\\n<td class=\"graphimagecontainer mob-hide-col \">\\n<div class=\"bitcoin-container mob-hide-col\">\\n<a href=\"/coin/dkargo\">\\n<img class=\"graphimage lazy\" data-original=\"https://www.worldcoinindex-acc.nl/data/Dkargo_usd.png?t=2022122015\" alt=\"dkargo\" width=\"178\" height=\"58\" /></a>\\n</div>\\n</td>\\n<td class=\"number pricekoers volume mob-hide-col \" data-sort-value=\"43,238,978\">\\n<a href=\"/coin/dkargo\">\\n<span>$ </span><span class=\"span\">\\n43.23M\\n</span>\\n</a>\\n</td>\\n<td class=\"supply mob-hide-col \" style=\"width: 85px;\"></td>\\n<td class=\"marketcap mob-hide-col \" style=\"width: 95px;\"></td>\\n</tr>\\n<tr class=\"hashflow coinzoeken \" data-naam=\"hashflow\" data-symbol=\"17997\">\\n<td class=\"rank\"><span>41</span></td>\\n<td class=\"bitcoinLogo Hashflow _Hashflow Hashflow\" style=\"background: url(\\'/Content/img/coins/v-638034979396041820/Hashflow.png\\') no-repeat center; width: 16px;padding: 10px;background-size: 16px 16px;\"></td>\\n<td class=\"bitcoinName\"><a href=\"/coin/hashflow\">\\n<h1><span>Hashflow</span></h1>\\n</a></td>\\n<td class=\"ticker\">\\n<h2>HFT</h2>\\n</td>\\n<td class=\"number pricekoers lastprice\" data-sort-value=\"0.578484\"><span>$ </span><span class=\"span\"> 0.578484 </span></td>\\n<td class=\"percentage\" data-percentage=\"1.39)\" style=\"color: green\"><span>+1.39%</span></td>\\n<td class=\"number pricekoers highprice mob-hide-col \" data-sort-value=\"0.578484\"><span>$ </span><span class=\"span\">0.578484</span></td>\\n<td class=\"number pricekoers lowprice mob-hide-col \" data-sort-value=\"0.570394\"><span>$ </span><span class=\"span\">0.570394</span></td>\\n<td class=\"graphimagecontainer mob-hide-col \">\\n<div class=\"bitcoin-container mob-hide-col\">\\n<a href=\"/coin/hashflow\">\\n<img class=\"graphimage lazy\" data-original=\"https://www.worldcoinindex-acc.nl/data/Hashflow_usd.png?t=2022122015\" alt=\"hashflow\" width=\"178\" height=\"58\" /></a>\\n</div>\\n</td>\\n<td class=\"number pricekoers volume mob-hide-col \" data-sort-value=\"34,445,552\">\\n<a href=\"/coin/hashflow\">\\n<span>$ </span><span class=\"span\">\\n34.44M\\n</span>\\n</a>\\n</td>\\n<td class=\"supply mob-hide-col \" style=\"width: 85px;\"></td>\\n<td class=\"marketcap mob-hide-col \" style=\"width: 95px;\"></td>\\n</tr>\\n<tr class=\"zcash coinzoeken \" data-naam=\"zcash\" data-symbol=\"1661\">\\n<td class=\"rank\"><span>42</span></td>\\n<td class=\"bitcoinLogo Zcash _Zcash Zcash\" style=\"background: url(\\'/Content/img/coins/v-636954002370432225/Zcash.png\\') no-repeat center; width: 16px;padding: 10px;background-size: 16px 16px;\"></td>\\n<td class=\"bitcoinName\"><a href=\"/coin/zcash\">\\n<h1><span>Zcash</span></h1>\\n</a></td>\\n<td class=\"ticker\">\\n<h2>ZEC</h2>\\n</td>\\n<td class=\"number pricekoers lastprice\" data-sort-value=\"44.86\"><span>$ </span><span class=\"span\"> 44.86 </span></td>\\n<td class=\"percentage\" data-percentage=\"-0.28\" style=\"color: red\"><span>-0.28%</span></td>\\n<td class=\"number pricekoers highprice mob-hide-col \" data-sort-value=\"45.03\"><span>$ </span><span class=\"span\">45.03</span></td>\\n<td class=\"number pricekoers lowprice mob-hide-col \" data-sort-value=\"44.77\"><span>$ </span><span class=\"span\">44.77</span></td>\\n<td class=\"graphimagecontainer mob-hide-col \">\\n<div class=\"bitcoin-container mob-hide-col\">\\n<a href=\"/coin/zcash\">\\n<img class=\"graphimage lazy\" data-original=\"https://www.worldcoinindex-acc.nl/data/Zcash_usd.png?t=2022122015\" alt=\"zcash\" width=\"178\" height=\"58\" /></a>\\n</div>\\n</td>\\n<td class=\"number pricekoers volume mob-hide-col \" data-sort-value=\"32,730,838\">\\n<a href=\"/coin/zcash\">\\n<span>$ </span><span class=\"span\">\\n32.73M\\n</span>\\n</a>\\n</td>\\n<td class=\"number supply mob-hide-col \" data-sort-value=\"15,824,638\"><span>15.82M</span></td>\\n<td class=\"number pricekoers marketcap mob-hide-col \" data-sort-value=\"709895168\"><span>$ </span><span class=\"span\">709.89M</span> </td>\\n</tr>\\n<tr class=\"aptos coinzoeken \" data-naam=\"aptos\" data-symbol=\"17095\">\\n<td class=\"rank\"><span>43</span></td>\\n<td class=\"bitcoinLogo Aptos _Aptos Aptos\" style=\"background: url(\\'/Content/img/coins/v-637955550913807191/Aptos.png\\') no-repeat center; width: 16px;padding: 10px;background-size: 16px 16px;\"></td>\\n<td class=\"bitcoinName\"><a href=\"/coin/aptos\">\\n<h1><span>Aptos</span></h1>\\n</a></td>\\n<td class=\"ticker\">\\n<h2>APT</h2>\\n</td>\\n<td class=\"number pricekoers lastprice\" data-sort-value=\"4.66\"><span>$ </span><span class=\"span\"> 4.66 </span></td>\\n<td class=\"percentage\" data-percentage=\"0.04)\" style=\"color: green\"><span>+0.04%</span></td>\\n<td class=\"number pricekoers highprice mob-hide-col \" data-sort-value=\"4.67\"><span>$ </span><span class=\"span\">4.67</span></td>\\n<td class=\"number pricekoers lowprice mob-hide-col \" data-sort-value=\"4.64\"><span>$ </span><span class=\"span\">4.64</span></td>\\n<td class=\"graphimagecontainer mob-hide-col \">\\n<div class=\"bitcoin-container mob-hide-col\">\\n<a href=\"/coin/aptos\">\\n<img class=\"graphimage lazy\" data-original=\"https://www.worldcoinindex-acc.nl/data/Aptos_usd.png?t=2022122015\" alt=\"aptos\" width=\"178\" height=\"58\" /></a>\\n</div>\\n</td>\\n<td class=\"number pricekoers volume mob-hide-col \" data-sort-value=\"32,117,532\">\\n<a href=\"/coin/aptos\">\\n<span>$ </span><span class=\"span\">\\n32.11M\\n</span>\\n</a>\\n</td>\\n<td class=\"supply mob-hide-col \" style=\"width: 85px;\"></td>\\n<td class=\"marketcap mob-hide-col \" style=\"width: 95px;\"></td>\\n</tr>\\n<tr class=\"ark coinzoeken \" data-naam=\"ark\" data-symbol=\"80\">\\n<td class=\"rank\"><span>44</span></td>\\n<td class=\"bitcoinLogo Ark _Ark Ark\" style=\"background: url(\\'/Content/img/coins/v-636267575572257147/Ark.png\\') no-repeat center; width: 16px;padding: 10px;background-size: 16px 16px;\"></td>\\n<td class=\"bitcoinName\"><a href=\"/coin/ark\">\\n<h1><span>Ark</span></h1>\\n</a></td>\\n <td class=\"ticker\">\\n<h2>ARK</h2>\\n</td>\\n<td class=\"number pricekoers lastprice\" data-sort-value=\"0.284245\"><span>$ </span><span class=\"span\"> 0.284245 </span></td>\\n<td class=\"percentage\" data-percentage=\"-1.73\" style=\"color: red\"><span>-1.73%</span></td>\\n<td class=\"number pricekoers highprice mob-hide-col \" data-sort-value=\"0.289240\"><span>$ </span><span class=\"span\">0.289240</span></td>\\n<td class=\"number pricekoers lowprice mob-hide-col \" data-sort-value=\"0.281677\"><span>$ </span><span class=\"span\">0.281677</span></td>\\n<td class=\"graphimagecontainer mob-hide-col \">\\n<div class=\"bitcoin-container mob-hide-col\">\\n<a href=\"/coin/ark\">\\n<img class=\"graphimage lazy\" data-original=\"https://www.worldcoinindex-acc.nl/data/Ark_usd.png?t=2022122015\" alt=\"ark\" width=\"178\" height=\"58\" /></a>\\n</div>\\n</td>\\n<td class=\"number pricekoers volume mob-hide-col \" data-sort-value=\"30,091,731\">\\n<a href=\"/coin/ark\">\\n<span>$ </span><span class=\"span\">\\n30.09M\\n</span>\\n</a>\\n</td>\\n<td class=\"number supply mob-hide-col \" data-sort-value=\"146,613,460\"><span>146.61M</span></td>\\n<td class=\"number pricekoers marketcap mob-hide-col \" data-sort-value=\"41674080\"><span>$ </span><span class=\"span\">41.67M</span> </td>\\n</tr>\\n<tr class=\"aave coinzoeken \" data-naam=\"aave\" data-symbol=\"4941\">\\n<td class=\"rank\"><span>45</span></td>\\n<td class=\"bitcoinLogo Aave _Aave Aave\" style=\"background: url(\\'/Content/img/coins/v-637389976126558820/Aave.png\\') no-repeat center; width: 16px;padding: 10px;background-size: 16px 16px;\"></td>\\n<td class=\"bitcoinName\"><a href=\"/coin/aave\">\\n<h1><span>Aave</span></h1>\\n</a></td>\\n<td class=\"ticker\">\\n<h2>AAVE</h2>\\n</td>\\n<td class=\"number pricekoers lastprice\" data-sort-value=\"63.53\"><span>$ </span><span class=\"span\"> 63.53 </span></td>\\n<td class=\"percentage\" data-percentage=\"-0.11\" style=\"color: red\"><span>-0.11%</span></td>\\n<td class=\"number pricekoers highprice mob-hide-col \" data-sort-value=\"63.70\"><span>$ </span><span class=\"span\">63.70</span></td>\\n<td class=\"number pricekoers lowprice mob-hide-col \" data-sort-value=\"63.39\"><span>$ </span><span class=\"span\">63.39</span></td>\\n<td class=\"graphimagecontainer mob-hide-col \">\\n<div class=\"bitcoin-container mob-hide-col\">\\n<a href=\"/coin/aave\">\\n<img class=\"graphimage lazy\" data-original=\"https://www.worldcoinindex-acc.nl/data/Aave_usd.png?t=2022122015\" alt=\"aave\" width=\"178\" height=\"58\" /></a>\\n</div>\\n</td>\\n<td class=\"number pricekoers volume mob-hide-col \" data-sort-value=\"29,844,802\">\\n<a href=\"/coin/aave\">\\n<span>$ </span><span class=\"span\">\\n29.84M\\n</span>\\n</a>\\n</td>\\n<td class=\"number supply mob-hide-col \" data-sort-value=\"10,580,562\"><span>10.58M</span></td>\\n<td class=\"number pricekoers marketcap mob-hide-col \" data-sort-value=\"672177130\"><span>$ </span><span class=\"span\">672.17M</span> </td>\\n</tr>\\n<tr class=\"sandbox coinzoeken \" data-naam=\"sandbox\" data-symbol=\"4415\">\\n<td class=\"rank\"><span>46</span></td>\\n<td class=\"bitcoinLogo Sandbox _Sandbox Sandbox\" style=\"background: url(\\'/Content/img/coins/v-637330102059770324/Sandbox.png\\') no-repeat center; width: 16px;padding: 10px;background-size: 16px 16px;\"></td>\\n<td class=\"bitcoinName\"><a href=\"/coin/sandbox\">\\n<h1><span>Sandbox</span></h1>\\n</a></td>\\n<td class=\"ticker\">\\n<h2>SAND</h2>\\n</td>\\n<td class=\"number pricekoers lastprice\" data-sort-value=\"0.579354\"><span>$ </span><span class=\"span\"> 0.579354 </span></td>\\n<td class=\"percentage\" data-percentage=\"0.01)\" style=\"color: green\"><span>+0.01%</span></td>\\n<td class=\"number pricekoers highprice mob-hide-col \" data-sort-value=\"0.579736\"><span>$ </span><span class=\"span\">0.579736</span></td>\\n<td class=\"number pricekoers lowprice mob-hide-col \" data-sort-value=\"0.576181\"><span>$ </span><span class=\"span\">0.576181</span></td>\\n<td class=\"graphimagecontainer mob-hide-col \">\\n<div class=\"bitcoin-container mob-hide-col\">\\n<a href=\"/coin/sandbox\">\\n<img class=\"graphimage lazy\" data-original=\"https://www.worldcoinindex-acc.nl/data/Sandbox_usd.png?t=2022122015\" alt=\"sandbox\" width=\"178\" height=\"58\" /></a>\\n</div>\\n</td>\\n<td class=\"number pricekoers volume mob-hide-col \" data-sort-value=\"29,626,824\">\\n<a href=\"/coin/sandbox\">\\n<span>$ </span><span class=\"span\">\\n29.62M\\n</span>\\n</a>\\n</td>\\n<td class=\"number supply mob-hide-col \" data-sort-value=\"658,227,900\"><span>658.22M</span></td>\\n<td class=\"number pricekoers marketcap mob-hide-col \" data-sort-value=\"381346988\"><span>$ </span><span class=\"span\">381.34M</span> </td>\\n</tr>\\n<tr class=\"sushi coinzoeken \" data-naam=\"sushi\" data-symbol=\"4504\">\\n<td class=\"rank\"><span>47</span></td>\\n<td class=\"bitcoinLogo Sushi _Sushi Sushi\" style=\"background: url(\\'/Content/img/coins/v-637343682611767620/Sushi.png\\') no-repeat center; width: 16px;padding: 10px;background-size: 16px 16px;\"></td>\\n<td class=\"bitcoinName\"><a href=\"/coin/sushi\">\\n<h1><span>Sushi</span></h1>\\n</a></td>\\n<td class=\"ticker\">\\n<h2>SUSHI</h2>\\n</td>\\n<td class=\"number pricekoers lastprice\" data-sort-value=\"1.38\"><span>$ </span><span class=\"span\"> 1.38 </span></td>\\n<td class=\"percentage\" data-percentage=\"-0.70\" style=\"color: red\"><span>-0.70%</span></td>\\n<td class=\"number pricekoers highprice mob-hide-col \" data-sort-value=\"1.39\"><span>$ </span><span class=\"span\">1.39</span></td>\\n<td class=\"number pricekoers lowprice mob-hide-col \" data-sort-value=\"1.38\"><span>$ </span><span class=\"span\">1.38</span></td>\\n<td class=\"graphimagecontainer mob-hide-col \">\\n<div class=\"bitcoin-container mob-hide-col\">\\n<a href=\"/coin/sushi\">\\n<img class=\"graphimage lazy\" data-original=\"https://www.worldcoinindex-acc.nl/data/Sushi_usd.png?t=2022122015\" alt=\"sushi\" width=\"178\" height=\"58\" /></a>\\n</div>\\n</td>\\n<td class=\"number pricekoers volume mob-hide-col \" data-sort-value=\"28,975,890\">\\n<a href=\"/coin/sushi\">\\n<span>$ </span><span class=\"span\">\\n28.97M\\n</span>\\n</a>\\n</td>\\n<td class=\"number supply mob-hide-col \" data-sort-value=\"246,112,005\"><span>246.11M</span></td>\\n<td class=\"number pricekoers marketcap mob-hide-col \" data-sort-value=\"338444065\"><span>$ </span><span class=\"span\">338.44M</span> </td>\\n</tr>\\n<tr class=\"gala coinzoeken \" data-naam=\"gala\" data-symbol=\"6119\">\\n<td class=\"rank\"><span>48</span></td>\\n<td class=\"bitcoinLogo Gala _Gala Gala\" style=\"background: url(\\'/Content/img/coins/v-637530744187663684/Gala.png\\') no-repeat center; width: 16px;padding: 10px;background-size: 16px 16px;\"></td>\\n<td class=\"bitcoinName\"><a href=\"/coin/gala\">\\n<h1><span>Gala</span></h1>\\n</a></td>\\n<td class=\"ticker\">\\n<h2>GALA</h2>\\n</td>\\n<td class=\"number pricekoers lastprice\" data-sort-value=\"0.025255\"><span>$ </span><span class=\"span\"> 0.025255 </span></td>\\n<td class=\"percentage\" data-percentage=\"-0.04\" style=\"color: red\"><span>-0.04%</span></td>\\n<td class=\"number pricekoers highprice mob-hide-col \" data-sort-value=\"0.025319\"><span>$ </span><span class=\"span\">0.025319</span></td>\\n<td class=\"number pricekoers lowprice mob-hide-col \" data-sort-value=\"0.025205\"><span>$ </span><span class=\"span\">0.025205</span></td>\\n<td class=\"graphimagecontainer mob-hide-col \">\\n<div class=\"bitcoin-container mob-hide-col\">\\n<a href=\"/coin/gala\">\\n<img class=\"graphimage lazy\" data-original=\"https://www.worldcoinindex-acc.nl/data/Gala_usd.png?t=2022122015\" alt=\"gala\" width=\"178\" height=\"58\" /></a>\\n</div>\\n</td>\\n<td class=\"number pricekoers volume mob-hide-col \" data-sort-value=\"25,888,545\">\\n<a href=\"/coin/gala\">\\n<span>$ </span><span class=\"span\">\\n25.88M\\n</span>\\n</a>\\n</td>\\n<td class=\"number supply mob-hide-col \" data-sort-value=\"7,545,000,000\"><span>7.54B</span></td>\\n<td class=\"number pricekoers marketcap mob-hide-col \" data-sort-value=\"190545492\"><span>$ </span><span class=\"span\">190.54M</span> </td>\\n</tr>\\n<tr class=\"loopring coinzoeken \" data-naam=\"loopring\" data-symbol=\"920\">\\n<td class=\"rank\"><span>49</span></td>\\n<td class=\"bitcoinLogo Loopring _Loopring Loopring\" style=\"background: url(\\'/Content/img/coins/v-637054283917963329/Loopring.png\\') no-repeat center; width: 16px;padding: 10px;background-size: 16px 16px;\"></td>\\n<td class=\"bitcoinName\"><a href=\"/coin/loopring\">\\n<h1><span>Loopring</span></h1>\\n</a></td>\\n<td class=\"ticker\">\\n<h2>LRC</h2>\\n</td>\\n<td class=\"number pricekoers lastprice\" data-sort-value=\"0.257292\"><span>$ </span><span class=\"span\"> 0.257292 </span></td>\\n<td class=\"percentage\" data-percentage=\"0.02)\" style=\"color: green\"><span>+0.02%</span></td>\\n<td class=\"number pricekoers highprice mob-hide-col \" data-sort-value=\"0.258147\"><span>$ </span><span class=\"span\">0.258147</span></td>\\n<td class=\"number pricekoers lowprice mob-hide-col \" data-sort-value=\"0.256833\"><span>$ </span><span class=\"span\">0.256833</span></td>\\n<td class=\"graphimagecontainer mob-hide-col \">\\n<div class=\"bitcoin-container mob-hide-col\">\\n<a href=\"/coin/loopring\">\\n<img class=\"graphimage lazy\" data-original=\"https://www.worldcoinindex-acc.nl/data/Loopring_usd.png?t=2022122015\" alt=\"loopring\" width=\"178\" height=\"58\" /></a>\\n</div>\\n</td>\\n<td class=\"number pricekoers volume mob-hide-col \" data-sort-value=\"25,838,232\">\\n<a href=\"/coin/loopring\">\\n<span>$ </span><span class=\"span\">\\n25.83M\\n</span>\\n</a>\\n</td>\\n<td class=\"number supply mob-hide-col \" data-sort-value=\"1,320,000,000\"><span>1.32B</span></td>\\n<td class=\"number pricekoers marketcap mob-hide-col \" data-sort-value=\"339625387\"><span>$ </span><span class=\"span\">339.62M</span> </td>\\n</tr>\\n<tr class=\"constitutiondao coinzoeken \" data-naam=\"constitutiondao\" data-symbol=\"11312\">\\n<td class=\"rank\"><span>50</span></td>\\n<td class=\"bitcoinLogo Constitutiondao _Constitutiondao Constitutiondao\" style=\"background: url(\\'/Content/img/coins/v-637729540383957318/Constitutiondao.png\\') no-repeat center; width: 16px;padding: 10px;background-size: 16px 16px;\"></td>\\n<td class=\"bitcoinName\"><a href=\"/coin/constitutiondao\">\\n<h1><span>ConstitutionDAO</span></h1>\\n</a></td>\\n<td class=\"ticker\">\\n<h2>PEOPLE</h2>\\n</td>\\n<td class=\"number pricekoers lastprice\" data-sort-value=\"0.026237\"><span>$ </span><span class=\"span\"> 0.026237 </span></td>\\n<td class=\"percentage\" data-percentage=\"1.55)\" style=\"color: green\"><span>+1.55%</span></td>\\n<td class=\"number pricekoers highprice mob-hide-col \" data-sort-value=\"0.026315\"><span>$ </span><span class=\"span\">0.026315</span></td>\\n<td class=\"number pricekoers lowprice mob-hide-col \" data-sort-value=\"0.025751\"><span>$ </span><span class=\"span\">0.025751</span></td>\\n<td class=\"graphimagecontainer mob-hide-col \">\\n<div class=\"bitcoin-container mob-hide-col\">\\n<a href=\"/coin/constitutiondao\">\\n<img class=\"graphimage lazy\" data-original=\"https://www.worldcoinindex-acc.nl/data/Constitutiondao_usd.png?t=2022122015\" alt=\"constitutiondao\" width=\"178\" height=\"58\" /></a>\\n</div>\\n</td>\\n<td class=\"number pricekoers volume mob-hide-col \" data-sort-value=\"25,334,780\">\\n<a href=\"/coin/constitutiondao\">\\n<span>$ </span><span class=\"span\">\\n25.33M\\n</span>\\n</a>\\n</td>\\n<td class=\"supply mob-hide-col \" style=\"width: 85px;\"></td>\\n<td class=\"marketcap mob-hide-col \" style=\"width: 95px;\"></td>\\n</tr>\\n<tr class=\"dego-finance coinzoeken \" data-naam=\"dego-finance\" data-symbol=\"4710\">\\n<td class=\"rank\"><span>51</span></td>\\n<td class=\"bitcoinLogo Dego-finance _Dego-finance Dego-finance\" style=\"background: url(\\'/Content/img/coins/v-637359269421268210/Dego-finance.png\\') no-repeat center; width: 16px;padding: 10px;background-size: 16px 16px;\"></td>\\n<td class=\"bitcoinName\"><a href=\"/coin/dego-finance\">\\n<h1><span>Dego Finance</span></h1>\\n</a></td>\\n<td class=\"ticker\">\\n<h2>DEGO</h2>\\n</td>\\n<td class=\"number pricekoers lastprice\" data-sort-value=\"2.30\"><span>$ </span><span class=\"span\"> 2.30 </span></td>\\n<td class=\"percentage\" data-percentage=\"1.18)\" style=\"color: green\"><span>+1.18%</span></td>\\n<td class=\"number pricekoers highprice mob-hide-col \" data-sort-value=\"2.34\"><span>$ </span><span class=\"span\">2.34</span></td>\\n<td class=\"number pricekoers lowprice mob-hide-col \" data-sort-value=\"2.27\"><span>$ </span><span class=\"span\">2.27</span></td>\\n<td class=\"graphimagecontainer mob-hide-col \">\\n<div class=\"bitcoin-container mob-hide-col\">\\n<a href=\"/coin/dego-finance\">\\n<img class=\"graphimage lazy\" data-original=\"https://www.worldcoinindex-acc.nl/data/Dego-finance_usd.png?t=2022122015\" alt=\"dego-finance\" width=\"178\" height=\"58\" /></a>\\n</div>\\n</td>\\n<td class=\"number pricekoers volume mob-hide-col \" data-sort-value=\"25,132,045\">\\n<a href=\"/coin/dego-finance\">\\n<span>$ </span><span class=\"span\">\\n25.13M\\n</span>\\n</a>\\n</td>\\n<td class=\"supply mob-hide-col \" style=\"width: 85px;\"></td>\\n<td class=\"marketcap mob-hide-col \" style=\"width: 95px;\"></td>\\n</tr>\\n<tr class=\"stellarlumens coinzoeken \" data-naam=\"stellarlumens\" data-symbol=\"1410\">\\n<td class=\"rank\"><span>52</span></td>\\n<td class=\"bitcoinLogo Stellarlumens _Stellarlumens Stellarlumens\" style=\"background: url(\\'/Content/img/coins/v-636901521270135966/Stellarlumens.png\\') no-repeat center; width: 16px;padding: 10px;background-size: 16px 16px;\"></td>\\n<td class=\"bitcoinName\"><a href=\"/coin/stellarlumens\">\\n<h1><span>Stellarlumens</span></h1>\\n</a></td>\\n<td class=\"ticker\">\\n<h2>XLM</h2>\\n</td>\\n<td class=\"number pricekoers lastprice\" data-sort-value=\"0.087553\"><span>$ </span><span class=\"span\"> 0.087553 </span></td>\\n<td class=\"percentage\" data-percentage=\"0.02)\" style=\"color: green\"><span>+0.02%</span></td>\\n<td class=\"number pricekoers highprice mob-hide-col \" data-sort-value=\"0.087599\"><span>$ </span><span class=\"span\">0.087599</span></td>\\n<td class=\"number pricekoers lowprice mob-hide-col \" data-sort-value=\"0.087357\"><span>$ </span><span class=\"span\">0.087357</span></td>\\n<td class=\"graphimagecontainer mob-hide-col \">\\n<div class=\"bitcoin-container mob-hide-col\">\\n<a href=\"/coin/stellarlumens\">\\n<img class=\"graphimage lazy\" data-original=\"https://www.worldcoinindex-acc.nl/data/Stellarlumens_usd.png?t=2022122015\" alt=\"stellarlumens\" width=\"178\" height=\"58\" /></a>\\n</div>\\n</td>\\n<td class=\"number pricekoers volume mob-hide-col \" data-sort-value=\"24,005,351\">\\n<a href=\"/coin/stellarlumens\">\\n<span>$ </span><span class=\"span\">\\n24.00M\\n</span>\\n</a>\\n</td>\\n<td class=\"number supply mob-hide-col \" data-sort-value=\"25,711,802,977\"><span>25.71B</span></td>\\n<td class=\"number pricekoers marketcap mob-hide-col \" data-sort-value=\"2251141314\"><span>$ </span><span class=\"span\">2.25B</span> </td>\\n</tr>\\n<tr class=\"dai coinzoeken \" data-naam=\"dai\" data-symbol=\"404\">\\n<td class=\"rank\"><span>53</span></td>\\n<td class=\"bitcoinLogo Dai _Dai Dai\" style=\"background: url(\\'/Content/img/coins/v-636503263019595818/Dai.png\\') no-repeat center; width: 16px;padding: 10px;background-size: 16px 16px;\"></td>\\n<td class=\"bitcoinName\"><a href=\"/coin/dai\">\\n<h1><span>Dai</span></h1>\\n</a></td>\\n<td class=\"ticker\">\\n<h2>DAI</h2>\\n</td>\\n<td class=\"number pricekoers lastprice\" data-sort-value=\"0.999721\"><span>$ </span><span class=\"span\"> 0.999721 </span></td>\\n<td class=\"percentage\" data-percentage=\"-0.03\" style=\"color: red\"><span>-0.03%</span></td>\\n<td class=\"number pricekoers highprice mob-hide-col \" data-sort-value=\"1.00\"><span>$ </span><span class=\"span\">1.00</span></td>\\n<td class=\"number pricekoers lowprice mob-hide-col \" data-sort-value=\"0.999370\"><span>$ </span><span class=\"span\">0.999370</span></td>\\n<td class=\"graphimagecontainer mob-hide-col \">\\n<div class=\"bitcoin-container mob-hide-col\">\\n<a href=\"/coin/dai\">\\n<img class=\"graphimage lazy\" data-original=\"https://www.worldcoinindex-acc.nl/data/Dai_usd.png?t=2022122015\" alt=\"dai\" width=\"178\" height=\"58\" /></a>\\n</div>\\n</td>\\n<td class=\"number pricekoers volume mob-hide-col \" data-sort-value=\"23,226,557\">\\n<a href=\"/coin/dai\">\\n<span>$ </span><span class=\"span\">\\n23.22M\\n</span>\\n</a>\\n</td>\\n<td class=\"supply mob-hide-col \" style=\"width: 85px;\"></td>\\n<td class=\"marketcap mob-hide-col \" style=\"width: 95px;\"></td>\\n</tr>\\n<tr class=\"axie-infinity coinzoeken \" data-naam=\"axie-infinity\" data-symbol=\"5017\">\\n<td class=\"rank\"><span>54</span></td>\\n<td class=\"bitcoinLogo Axie-infinity _Axie-infinity Axie-infinity\" style=\"background: url(\\'/Content/img/coins/v-637402480520177100/Axie-infinity.png\\') no-repeat center; width: 16px;padding: 10px;background-size: 16px 16px;\"></td>\\n<td class=\"bitcoinName\"><a href=\"/coin/axie-infinity\">\\n<h1><span>Axie Infinity</span></h1>\\n</a></td>\\n<td class=\"ticker\">\\n<h2>AXS</h2>\\n</td>\\n<td class=\"number pricekoers lastprice\" data-sort-value=\"6.87\"><span>$ </span><span class=\"span\"> 6.87 </span></td>\\n<td class=\"percentage\" data-percentage=\"0.53)\" style=\"color: green\"><span>+0.53%</span></td>\\n<td class=\"number pricekoers highprice mob-hide-col \" data-sort-value=\"6.92\"><span>$ </span><span class=\"span\">6.92</span></td>\\n<td class=\"number pricekoers lowprice mob-hide-col \" data-sort-value=\"6.82\"><span>$ </span><span class=\"span\">6.82</span></td>\\n<td class=\"graphimagecontainer mob-hide-col \">\\n<div class=\"bitcoin-container mob-hide-col\">\\n<a href=\"/coin/axie-infinity\">\\n<img class=\"graphimage lazy\" data-original=\"https://www.worldcoinindex-acc.nl/data/Axie-infinity_usd.png?t=2022122015\" alt=\"axie-infinity\" width=\"178\" height=\"58\" /></a>\\n</div>\\n</td>\\n<td class=\"number pricekoers volume mob-hide-col \" data-sort-value=\"22,974,904\">\\n<a href=\"/coin/axie-infinity\">\\n<span>$ </span><span class=\"span\">\\n22.97M\\n</span>\\n</a>\\n</td>\\n<td class=\"number supply mob-hide-col \" data-sort-value=\"43,253,284\"><span>43.25M</span></td>\\n<td class=\"number pricekoers marketcap mob-hide-col \" data-sort-value=\"297287299\"><span>$ </span><span class=\"span\">297.28M</span> </td>\\n</tr>\\n<tr class=\"abbccoin coinzoeken \" data-naam=\"abbccoin\" data-symbol=\"2816\">\\n<td class=\"rank\"><span>55</span></td>\\n<td class=\"bitcoinLogo Abbccoin _Abbccoin Abbccoin\" style=\"background: url(\\'/Content/img/coins/v-636751223622639970/Abbccoin.png\\') no-repeat center; width: 16px;padding: 10px;background-size: 16px 16px;\"></td>\\n<td class=\"bitcoinName\"><a href=\"/coin/abbccoin\">\\n<h1><span>Abbccoin</span></h1>\\n</a></td>\\n<td class=\"ticker\">\\n<h2>ABBC</h2>\\n</td>\\n<td class=\"number pricekoers lastprice\" data-sort-value=\"0.164590\"><span>$ </span><span class=\"span\"> 0.164590 </span></td>\\n<td class=\"percentage\" data-percentage=\"-0.17\" style=\"color: red\"><span>-0.17%</span></td>\\n<td class=\"number pricekoers highprice mob-hide-col \" data-sort-value=\"0.164954\"><span>$ </span><span class=\"span\">0.164954</span></td>\\n<td class=\"number pricekoers lowprice mob-hide-col \" data-sort-value=\"0.163717\"><span>$ </span><span class=\"span\">0.163717</span></td>\\n<td class=\"graphimagecontainer mob-hide-col \">\\n<div class=\"bitcoin-container mob-hide-col\">\\n<a href=\"/coin/abbccoin\">\\n<img class=\"graphimage lazy\" data-original=\"https://www.worldcoinindex-acc.nl/data/Abbccoin_usd.png?t=2022122015\" alt=\"abbccoin\" width=\"178\" height=\"58\" /></a>\\n</div>\\n</td>\\n<td class=\"number pricekoers volume mob-hide-col \" data-sort-value=\"22,178,542\">\\n<a href=\"/coin/abbccoin\">\\n<span>$ </span><span class=\"span\">\\n22.17M\\n</span>\\n</a>\\n</td>\\n<td class=\"number supply mob-hide-col \" data-sort-value=\"505,080,492\"><span>505.08M</span></td>\\n<td class=\"number pricekoers marketcap mob-hide-col \" data-sort-value=\"83131112\"><span>$ </span><span class=\"span\">83.13M</span> </td>\\n</tr>\\n<tr class=\"flow-dapper-labs coinzoeken \" data-naam=\"flow-dapper-labs\" data-symbol=\"5447\">\\n<td class=\"rank\"><span>56</span></td>\\n<td class=\"bitcoinLogo Flow-dapper-labs _Flow-dapper-labs Flow-dapper-labs\" style=\"background: url(\\'/Content/img/coins/v-637474420020654361/Flow-dapper-labs.png\\') no-repeat center; width: 16px;padding: 10px;background-size: 16px 16px;\"></td>\\n<td class=\"bitcoinName\"><a href=\"/coin/flow-dapper-labs\">\\n<h1><span>Flow (Dapper labs)</span></h1>\\n</a></td>\\n<td class=\"ticker\">\\n<h2>FLOW</h2>\\n</td>\\n<td class=\"number pricekoers lastprice\" data-sort-value=\"1.10\"><span>$ </span><span class=\"span\"> 1.10 </span></td>\\n<td class=\"percentage\" data-percentage=\"-0.18\" style=\"color: red\"><span>-0.18%</span></td>\\n<td class=\"number pricekoers highprice mob-hide-col \" data-sort-value=\"1.10\"><span>$ </span><span class=\"span\">1.10</span></td>\\n<td class=\"number pricekoers lowprice mob-hide-col \" data-sort-value=\"1.10\"><span>$ </span><span class=\"span\">1.10</span></td>\\n<td class=\"graphimagecontainer mob-hide-col \">\\n<div class=\"bitcoin-container mob-hide-col\">\\n<a href=\"/coin/flow-dapper-labs\">\\n<img class=\"graphimage lazy\" data-original=\"https://www.worldcoinindex-acc.nl/data/Flow-dapper-labs_usd.png?t=2022122015\" alt=\"flow-dapper-labs\" width=\"178\" height=\"58\" /></a>\\n</div>\\n</td>\\n<td class=\"number pricekoers volume mob-hide-col \" data-sort-value=\"22,164,320\">\\n<a href=\"/coin/flow-dapper-labs\">\\n<span>$ </span><span class=\"span\">\\n22.16M\\n</span>\\n</a>\\n</td>\\n<td class=\"number supply mob-hide-col \" data-sort-value=\"1,036,200,000\"><span>1.03B</span></td>\\n<td class=\"number pricekoers marketcap mob-hide-col \" data-sort-value=\"1140644475\"><span>$ </span><span class=\"span\">1.14B</span> </td>\\n</tr>\\n<tr class=\"waves coinzoeken \" data-naam=\"waves\" data-symbol=\"1609\">\\n<td class=\"rank\"><span>57</span></td>\\n<td class=\"bitcoinLogo Waves _Waves Waves\" style=\"background: url(\\'/Content/img/coins/v-636539615720039916/Waves.png\\') no-repeat center; width: 16px;padding: 10px;background-size: 16px 16px;\"></td>\\n<td class=\"bitcoinName\"><a href=\"/coin/waves\">\\n<h1><span>Waves</span></h1>\\n</a></td>\\n<td class=\"ticker\">\\n<h2>WAVES</h2>\\n</td>\\n<td class=\"number pricekoers lastprice\" data-sort-value=\"2.35\"><span>$ </span><span class=\"span\"> 2.35 </span></td>\\n<td class=\"percentage\" data-percentage=\"0.18)\" style=\"color: green\"><span>+0.18%</span></td>\\n<td class=\"number pricekoers highprice mob-hide-col \" data-sort-value=\"2.35\"><span>$ </span><span class=\"span\">2.35</span></td>\\n<td class=\"number pricekoers lowprice mob-hide-col \" data-sort-value=\"2.34\"><span>$ </span><span class=\"span\">2.34</span></td>\\n<td class=\"graphimagecontainer mob-hide-col \">\\n<div class=\"bitcoin-container mob-hide-col\">\\n<a href=\"/coin/waves\">\\n<img class=\"graphimage lazy\" data-original=\"https://www.worldcoinindex-acc.nl/data/Waves_usd.png?t=2022122015\" alt=\"waves\" width=\"178\" height=\"58\" /></a>\\n</div>\\n\\n</td>\\n<td class=\"number pricekoers volume mob-hide-col \" data-sort-value=\"21,986,047\">\\n<a href=\"/coin/waves\">\\n<span>$ </span><span class=\"span\">\\n21.98M\\n</span>\\n</a>\\n</td>\\n<td class=\"number supply mob-hide-col \" data-sort-value=\"100,000,000\"><span>100.00M</span></td>\\n<td class=\"number pricekoers marketcap mob-hide-col \" data-sort-value=\"234668773\"><span>$ </span><span class=\"span\">234.66M</span> </td>\\n</tr>\\n<tr class=\"burger-swap coinzoeken \" data-naam=\"burger-swap\" data-symbol=\"4770\">\\n<td class=\"rank\"><span>58</span></td>\\n<td class=\"bitcoinLogo Burger-swap _Burger-swap Burger-swap\" style=\"background: url(\\'/Content/img/coins/v-637365405106676026/Burger-swap.png\\') no-repeat center; width: 16px;padding: 10px;background-size: 16px 16px;\"></td>\\n<td class=\"bitcoinName\"><a href=\"/coin/burger-swap\">\\n<h1><span>Burger Swap</span></h1>\\n</a></td>\\n<td class=\"ticker\">\\n<h2>BURGER</h2>\\n</td>\\n<td class=\"number pricekoers lastprice\" data-sort-value=\"0.674126\"><span>$ </span><span class=\"span\"> 0.674126 </span></td>\\n<td class=\"percentage\" data-percentage=\"2.10)\" style=\"color: green\"><span>+2.10%</span></td>\\n<td class=\"number pricekoers highprice mob-hide-col \" data-sort-value=\"0.685361\"><span>$ </span><span class=\"span\">0.685361</span></td>\\n<td class=\"number pricekoers lowprice mob-hide-col \" data-sort-value=\"0.659450\"><span>$ </span><span class=\"span\">0.659450</span></td>\\n<td class=\"graphimagecontainer mob-hide-col \">\\n<div class=\"bitcoin-container mob-hide-col\">\\n<a href=\"/coin/burger-swap\">\\n<img class=\"graphimage lazy\" data-original=\"https://www.worldcoinindex-acc.nl/data/Burger-swap_usd.png?t=2022122015\" alt=\"burger-swap\" width=\"178\" height=\"58\" /></a>\\n</div>\\n</td>\\n<td class=\"number pricekoers volume mob-hide-col \" data-sort-value=\"21,774,547\">\\n<a href=\"/coin/burger-swap\">\\n<span>$ </span><span class=\"span\">\\n21.77M\\n</span>\\n</a>\\n</td>\\n<td class=\"supply mob-hide-col \" style=\"width: 85px;\"></td>\\n<td class=\"marketcap mob-hide-col \" style=\"width: 95px;\"></td>\\n</tr>\\n<tr class=\"nftnetwork coinzoeken \" data-naam=\"nftnetwork\" data-symbol=\"17138\">\\n<td class=\"rank\"><span>59</span></td>\\n<td class=\"bitcoinLogo Nftnetwork _Nftnetwork Nftnetwork\" style=\"background: url(\\'/Content/img/coins/v-637955555459119705/Nftnetwork.png\\') no-repeat center; width: 16px;padding: 10px;background-size: 16px 16px;\"></td>\\n<td class=\"bitcoinName\"><a href=\"/coin/nftnetwork\">\\n<h1><span>NFTNetwork</span></h1>\\n</a></td>\\n<td class=\"ticker\">\\n<h2>NFTN</h2>\\n</td>\\n<td class=\"number pricekoers lastprice\" data-sort-value=\"0.014955\"><span>$ </span><span class=\"span\"> 0.014955 </span></td>\\n<td class=\"percentage\" data-percentage=\"-0.05\" style=\"color: red\"><span>-0.05%</span></td>\\n<td class=\"number pricekoers highprice mob-hide-col \" data-sort-value=\"0.014980\"><span>$ </span><span class=\"span\">0.014980</span></td>\\n<td class=\"number pricekoers lowprice mob-hide-col \" data-sort-value=\"0.014938\"><span>$ </span><span class=\"span\">0.014938</span></td>\\n<td class=\"graphimagecontainer mob-hide-col \">\\n<div class=\"bitcoin-container mob-hide-col\">\\n<a href=\"/coin/nftnetwork\">\\n<img class=\"graphimage lazy\" data-original=\"https://www.worldcoinindex-acc.nl/data/Nftnetwork_usd.png?t=2022122015\" alt=\"nftnetwork\" width=\"178\" height=\"58\" /></a>\\n</div>\\n</td>\\n<td class=\"number pricekoers volume mob-hide-col \" data-sort-value=\"21,152,862\">\\n<a href=\"/coin/nftnetwork\">\\n<span>$ </span><span class=\"span\">\\n21.15M\\n</span>\\n</a>\\n</td>\\n<td class=\"supply mob-hide-col \" style=\"width: 85px;\"></td>\\n<td class=\"marketcap mob-hide-col \" style=\"width: 95px;\"></td>\\n</tr>\\n<tr class=\"everipedia coinzoeken \" data-naam=\"everipedia\" data-symbol=\"2321\">\\n<td class=\"rank\"><span>60</span></td>\\n<td class=\"bitcoinLogo Everipedia _Everipedia Everipedia\" style=\"background: url(\\'/Content/img/coins/v-636671711519745634/Everipedia.png\\') no-repeat center; width: 16px;padding: 10px;background-size: 16px 16px;\"></td>\\n<td class=\"bitcoinName\"><a href=\"/coin/everipedia\">\\n<h1><span>Everipedia</span></h1>\\n</a></td>\\n<td class=\"ticker\">\\n<h2>IQ</h2>\\n</td>\\n<td class=\"number pricekoers lastprice\" data-sort-value=\"0.006473\"><span>$ </span><span class=\"span\"> 0.006473 </span></td>\\n<td class=\"percentage\" data-percentage=\"2.88)\" style=\"color: green\"><span>+2.88%</span></td>\\n<td class=\"number pricekoers highprice mob-hide-col \" data-sort-value=\"0.006524\"><span>$ </span><span class=\"span\">0.006524</span></td>\\n<td class=\"number pricekoers lowprice mob-hide-col \" data-sort-value=\"0.006199\"><span>$ </span><span class=\"span\">0.006199</span></td>\\n<td class=\"graphimagecontainer mob-hide-col \">\\n<div class=\"bitcoin-container mob-hide-col\">\\n<a href=\"/coin/everipedia\">\\n<img class=\"graphimage lazy\" data-original=\"https://www.worldcoinindex-acc.nl/data/Everipedia_usd.png?t=2022122015\" alt=\"everipedia\" width=\"178\" height=\"58\" /></a>\\n</div>\\n</td>\\n<td class=\"number pricekoers volume mob-hide-col \" data-sort-value=\"21,070,617\">\\n<a href=\"/coin/everipedia\">\\n<span>$ </span><span class=\"span\">\\n21.07M\\n</span>\\n</a>\\n</td>\\n<td class=\"supply mob-hide-col \" style=\"width: 85px;\"></td>\\n<td class=\"marketcap mob-hide-col \" style=\"width: 95px;\"></td>\\n</tr>\\n<tr class=\"wrappedbitcoin coinzoeken \" data-naam=\"wrappedbitcoin\" data-symbol=\"3112\">\\n<td class=\"rank\"><span>61</span></td>\\n<td class=\"bitcoinLogo Wrappedbitcoin _Wrappedbitcoin Wrappedbitcoin\" style=\"background: url(\\'/Content/img/coins/v-636848741649021815/Wrappedbitcoin.png\\') no-repeat center; width: 16px;padding: 10px;background-size: 16px 16px;\"></td>\\n<td class=\"bitcoinName\"><a href=\"/coin/wrappedbitcoin\">\\n<h1><span>Wrappedbitcoin</span></h1>\\n</a></td>\\n<td class=\"ticker\">\\n<h2>WBTC</h2>\\n</td>\\n<td class=\"number pricekoers lastprice\" data-sort-value=\"16,955\"><span>$ </span><span class=\"span\"> 16,955 </span></td>\\n<td class=\"percentage\" data-percentage=\"-0.01\" style=\"color: red\"><span>-0.01%</span></td>\\n<td class=\"number pricekoers highprice mob-hide-col \" data-sort-value=\"16,961\"><span>$ </span><span class=\"span\">16,961</span></td>\\n<td class=\"number pricekoers lowprice mob-hide-col \" data-sort-value=\"16,940\"><span>$ </span><span class=\"span\">16,940</span></td>\\n<td class=\"graphimagecontainer mob-hide-col \">\\n<div class=\"bitcoin-container mob-hide-col\">\\n<a href=\"/coin/wrappedbitcoin\">\\n<img class=\"graphimage lazy\" data-original=\"https://www.worldcoinindex-acc.nl/data/Wrappedbitcoin_usd.png?t=2022122015\" alt=\"wrappedbitcoin\" width=\"178\" height=\"58\" /></a>\\n</div>\\n</td>\\n<td class=\"number pricekoers volume mob-hide-col \" data-sort-value=\"20,917,935\">\\n<a href=\"/coin/wrappedbitcoin\">\\n<span>$ </span><span class=\"span\">\\n20.91M\\n</span>\\n</a>\\n</td>\\n<td class=\"supply mob-hide-col \" style=\"width: 85px;\"></td>\\n<td class=\"marketcap mob-hide-col \" style=\"width: 95px;\"></td>\\n</tr>\\n<tr class=\"kyber coinzoeken \" data-naam=\"kyber\" data-symbol=\"874\">\\n<td class=\"rank\"><span>62</span></td>\\n<td class=\"bitcoinLogo Kyber _Kyber Kyber\" style=\"background: url(\\'/Content/img/coins/v-637074306603319450/Kyber.png\\') no-repeat center; width: 16px;padding: 10px;background-size: 16px 16px;\"></td>\\n<td class=\"bitcoinName\"><a href=\"/coin/kyber\">\\n<h1><span>Kyber</span></h1>\\n</a></td>\\n<td class=\"ticker\">\\n<h2>KNC</h2>\\n</td>\\n<td class=\"number pricekoers lastprice\" data-sort-value=\"0.671382\"><span>$ </span><span class=\"span\"> 0.671382 </span></td>\\n<td class=\"percentage\" data-percentage=\"-0.48\" style=\"color: red\"><span>-0.48%</span></td>\\n<td class=\"number pricekoers highprice mob-hide-col \" data-sort-value=\"0.675408\"><span>$ </span><span class=\"span\">0.675408</span></td>\\n<td class=\"number pricekoers lowprice mob-hide-col \" data-sort-value=\"0.670570\"><span>$ </span><span class=\"span\">0.670570</span></td>\\n<td class=\"graphimagecontainer mob-hide-col \">\\n<div class=\"bitcoin-container mob-hide-col\">\\n<a href=\"/coin/kyber\">\\n<img class=\"graphimage lazy\" data-original=\"https://www.worldcoinindex-acc.nl/data/Kyber_usd.png?t=2022122015\" alt=\"kyber\" width=\"178\" height=\"58\" /></a>\\n</div>\\n</td>\\n<td class=\"number pricekoers volume mob-hide-col \" data-sort-value=\"20,493,504\">\\n<a href=\"/coin/kyber\">\\n<span>$ </span><span class=\"span\">\\n 20.49M\\n</span>\\n</a>\\n</td>\\n<td class=\"number supply mob-hide-col \" data-sort-value=\"180,932,131\"><span>180.93M</span></td>\\n<td class=\"number pricekoers marketcap mob-hide-col \" data-sort-value=\"121474566\"><span>$ </span><span class=\"span\">121.47M</span> </td>\\n</tr>\\n<tr class=\"just coinzoeken \" data-naam=\"just\" data-symbol=\"4047\">\\n<td class=\"rank\"><span>63</span></td>\\n<td class=\"bitcoinLogo Just _Just Just\" style=\"background: url(\\'/Content/img/coins/v-637248691534637440/Just.png\\') no-repeat center; width: 16px;padding: 10px;background-size: 16px 16px;\"></td>\\n<td class=\"bitcoinName\"><a href=\"/coin/just\">\\n<h1><span>Just</span></h1>\\n</a></td>\\n<td class=\"ticker\">\\n<h2>JST</h2>\\n</td>\\n<td class=\"number pricekoers lastprice\" data-sort-value=\"0.022506\"><span>$ </span><span class=\"span\"> 0.022506 </span></td>\\n<td class=\"percentage\" data-percentage=\"-0.36\" style=\"color: red\"><span>-0.36%</span></td>\\n<td class=\"number pricekoers highprice mob-hide-col \" data-sort-value=\"0.022607\"><span>$ </span><span class=\"span\">0.022607</span></td>\\n<td class=\"number pricekoers lowprice mob-hide-col \" data-sort-value=\"0.022500\"><span>$ </span><span class=\"span\">0.022500</span></td>\\n<td class=\"graphimagecontainer mob-hide-col \">\\n<div class=\"bitcoin-container mob-hide-col\">\\n<a href=\"/coin/just\">\\n<img class=\"graphimage lazy\" data-original=\"https://www.worldcoinindex-acc.nl/data/Just_usd.png?t=2022122015\" alt=\"just\" width=\"178\" height=\"58\" /></a>\\n</div>\\n</td>\\n<td class=\"number pricekoers volume mob-hide-col \" data-sort-value=\"20,281,426\">\\n<a href=\"/coin/just\">\\n<span>$ </span><span class=\"span\">\\n20.28M\\n</span>\\n</a>\\n</td>\\n<td class=\"number supply mob-hide-col \" data-sort-value=\"2,260,326,706\"><span>2.26B</span></td>\\n<td class=\"number pricekoers marketcap mob-hide-col \" data-sort-value=\"50871788\"><span>$ </span><span class=\"span\">50.87M</span> </td>\\n</tr>\\n<tr class=\"algorand coinzoeken \" data-naam=\"algorand\" data-symbol=\"3471\">\\n<td class=\"rank\"><span>64</span></td>\\n<td class=\"bitcoinLogo Algorand _Algorand Algorand\" style=\"background: url(\\'/Content/img/coins/v-636967078942356240/Algorand.png\\') no-repeat center; width: 16px;padding: 10px;background-size: 16px 16px;\"></td>\\n<td class=\"bitcoinName\"><a href=\"/coin/algorand\">\\n<h1><span>Algorand</span></h1>\\n</a></td>\\n<td class=\"ticker\">\\n<h2>ALGO</h2>\\n</td>\\n<td class=\"number pricekoers lastprice\" data-sort-value=\"0.240342\"><span>$ </span><span class=\"span\"> 0.240342 </span></td>\\n<td class=\"percentage\" data-percentage=\"-0.25\" style=\"color: red\"><span>-0.25%</span></td>\\n<td class=\"number pricekoers highprice mob-hide-col \" data-sort-value=\"0.241150\"><span>$ </span><span class=\"span\">0.241150</span></td>\\n<td class=\"number pricekoers lowprice mob-hide-col \" data-sort-value=\"0.240196\"><span>$ </span><span class=\"span\">0.240196</span></td>\\n<td class=\"graphimagecontainer mob-hide-col \">\\n<div class=\"bitcoin-container mob-hide-col\">\\n<a href=\"/coin/algorand\">\\n<img class=\"graphimage lazy\" data-original=\"https://www.worldcoinindex-acc.nl/data/Algorand_usd.png?t=2022122015\" alt=\"algorand\" width=\"178\" height=\"58\" /></a>\\n</div>\\n</td>\\n<td class=\"number pricekoers volume mob-hide-col \" data-sort-value=\"20,165,394\">\\n<a href=\"/coin/algorand\">\\n<span>$ </span><span class=\"span\">\\n20.16M\\n</span>\\n</a>\\n</td>\\n<td class=\"number supply mob-hide-col \" data-sort-value=\"3,250,795,000\"><span>3.25B</span></td>\\n<td class=\"number pricekoers marketcap mob-hide-col \" data-sort-value=\"781302072\"><span>$ </span><span class=\"span\">781.30M</span> </td>\\n</tr>\\n<tr class=\"curve-dao-token coinzoeken \" data-naam=\"curve-dao-token\" data-symbol=\"4386\">\\n<td class=\"rank\"><span>65</span></td>\\n<td class=\"bitcoinLogo Curve-dao-token _Curve-dao-token Curve-dao-token\" style=\"background: url(\\'/Content/img/coins/v-637329874789770615/Curve-dao-token.png\\') no-repeat center; width: 16px;padding: 10px;background-size: 16px 16px;\"></td>\\n<td class=\"bitcoinName\"><a href=\"/coin/curve-dao-token\">\\n<h1><span>Curve DAO Token</span></h1>\\n</a></td>\\n<td class=\"ticker\">\\n<h2>CRV</h2>\\n</td>\\n<td class=\"number pricekoers lastprice\" data-sort-value=\"0.642464\"><span>$ </span><span class=\"span\"> 0.642464 </span></td>\\n<td class=\"percentage\" data-percentage=\"0.21)\" style=\"color: green\"><span>+0.21%</span></td>\\n<td class=\"number pricekoers highprice mob-hide-col \" data-sort-value=\"0.645700\"><span>$ </span><span class=\"span\">0.645700</span></td>\\n<td class=\"number pricekoers lowprice mob-hide-col \" data-sort-value=\"0.641148\"><span>$ </span><span class=\"span\">0.641148</span></td>\\n<td class=\"graphimagecontainer mob-hide-col \">\\n<div class=\"bitcoin-container mob-hide-col\">\\n<a href=\"/coin/curve-dao-token\">\\n<img class=\"graphimage lazy\" data-original=\"https://www.worldcoinindex-acc.nl/data/Curve-dao-token_usd.png?t=2022122015\" alt=\"curve-dao-token\" width=\"178\" height=\"58\" /></a>\\n</div>\\n</td>\\n<td class=\"number pricekoers volume mob-hide-col \" data-sort-value=\"19,683,438\">\\n<a href=\"/coin/curve-dao-token\">\\n<span>$ </span><span class=\"span\">\\n19.68M\\n</span>\\n</a>\\n</td>\\n<td class=\"number supply mob-hide-col \" data-sort-value=\"582,121,623\"><span>582.12M</span></td>\\n<td class=\"number pricekoers marketcap mob-hide-col \" data-sort-value=\"373992034\"><span>$ </span><span class=\"span\">373.99M</span> </td>\\n</tr>\\n<tr class=\"internet-computer coinzoeken \" data-naam=\"internet-computer\" data-symbol=\"6705\">\\n<td class=\"rank\"><span>66</span></td>\\n<td class=\"bitcoinLogo Internet-computer _Internet-computer Internet-computer\" style=\"background: url(\\'/Content/img/coins/v-637559822585682732/Internet-computer.png\\') no-repeat center; width: 16px;padding: 10px;background-size: 16px 16px;\"></td>\\n<td class=\"bitcoinName\"><a href=\"/coin/internet-computer\">\\n<h1><span>Internet Computer</span></h1>\\n</a></td>\\n<td class=\"ticker\">\\n<h2>ICP</h2>\\n</td>\\n<td class=\"number pricekoers lastprice\" data-sort-value=\"4.13\"><span>$ </span><span class=\"span\"> 4.13 </span></td>\\n<td class=\"percentage\" data-percentage=\"0.11)\" style=\"color: green\"><span>+0.11%</span></td>\\n<td class=\"number pricekoers highprice mob-hide-col \" data-sort-value=\"4.13\"><span>$ </span><span class=\"span\">4.13</span></td>\\n<td class=\"number pricekoers lowprice mob-hide-col \" data-sort-value=\"4.11\"><span>$ </span><span class=\"span\">4.11</span></td>\\n<td class=\"graphimagecontainer mob-hide-col \">\\n<div class=\"bitcoin-container mob-hide-col\">\\n<a href=\"/coin/internet-computer\">\\n<img class=\"graphimage lazy\" data-original=\"https://www.worldcoinindex-acc.nl/data/Internet-computer_usd.png?t=2022122015\" alt=\"internet-computer\" width=\"178\" height=\"58\" /></a>\\n</div>\\n</td>\\n<td class=\"number pricekoers volume mob-hide-col \" data-sort-value=\"18,580,787\">\\n<a href=\"/coin/internet-computer\">\\n<span>$ </span><span class=\"span\">\\n18.58M\\n</span>\\n</a>\\n</td>\\n<td class=\"number supply mob-hide-col \" data-sort-value=\"136,899,200\"><span>136.89M</span></td>\\n<td class=\"number pricekoers marketcap mob-hide-col \" data-sort-value=\"564715958\"><span>$ </span><span class=\"span\">564.71M</span> </td>\\n</tr>\\n<tr class=\"luna coinzoeken \" data-naam=\"luna\" data-symbol=\"16652\">\\n<td class=\"rank\"><span>67</span></td>\\n<td class=\"bitcoinLogo Luna _Luna Luna\" style=\"background: url(\\'/Content/img/coins/v-637893205053869858/Luna.png\\') no-repeat center; width: 16px;padding: 10px;background-size: 16px 16px;\"></td>\\n<td class=\"bitcoinName\"><a href=\"/coin/luna\">\\n<h1><span>Luna</span></h1>\\n</a></td>\\n<td class=\"ticker\">\\n<h2>LUNA</h2>\\n</td>\\n<td class=\"number pricekoers lastprice\" data-sort-value=\"1.64\"><span>$ </span><span class=\"span\"> 1.64 </span></td>\\n<td class=\"percentage\" data-percentage=\"-0.14\" style=\"color: red\"><span>-0.14%</span></td>\\n<td class=\"number pricekoers highprice mob-hide-col \" data-sort-value=\"1.64\"><span>$ </span><span class=\"span\">1.64</span></td>\\n<td class=\"number pricekoers lowprice mob-hide-col \" data-sort-value=\"1.63\"><span>$ </span><span class=\"span\">1.63</span></td>\\n<td class=\"graphimagecontainer mob-hide-col \">\\n<div class=\"bitcoin-container mob-hide-col\">\\n<a href=\"/coin/luna\">\\n<img class=\"graphimage lazy\" data-original=\"https://www.worldcoinindex-acc.nl/data/Luna_usd.png?t=2022122015\" alt=\"luna\" width=\"178\" height=\"58\" /></a>\\n</div>\\n</td>\\n<td class=\"number pricekoers volume mob-hide-col \" data-sort-value=\"18,266,768\">\\n<a href=\"/coin/luna\">\\n <span>$ </span><span class=\"span\">\\n18.26M\\n</span>\\n</a>\\n</td>\\n<td class=\"supply mob-hide-col \" style=\"width: 85px;\"></td>\\n<td class=\"marketcap mob-hide-col \" style=\"width: 95px;\"></td>\\n</tr>\\n<tr class=\"league-of-kingdoms coinzoeken \" data-naam=\"league-of-kingdoms\" data-symbol=\"14089\">\\n<td class=\"rank\"><span>68</span></td>\\n<td class=\"bitcoinLogo League-of-kingdoms _League-of-kingdoms League-of-kingdoms\" style=\"background: url(\\'/Content/img/coins/v-637794001430118410/League-of-kingdoms.png\\') no-repeat center; width: 16px;padding: 10px;background-size: 16px 16px;\"></td>\\n<td class=\"bitcoinName\"><a href=\"/coin/league-of-kingdoms\">\\n<h1><span>League of Kingdoms</span></h1>\\n</a></td>\\n<td class=\"ticker\">\\n<h2>LOKA</h2>\\n</td>\\n<td class=\"number pricekoers lastprice\" data-sort-value=\"0.392541\"><span>$ </span><span class=\"span\"> 0.392541 </span></td>\\n<td class=\"percentage\" data-percentage=\"-0.43\" style=\"color: red\"><span>-0.43%</span></td>\\n<td class=\"number pricekoers highprice mob-hide-col \" data-sort-value=\"0.394334\"><span>$ </span><span class=\"span\">0.394334</span></td>\\n<td class=\"number pricekoers lowprice mob-hide-col \" data-sort-value=\"0.392301\"><span>$ </span><span class=\"span\">0.392301</span></td>\\n<td class=\"graphimagecontainer mob-hide-col \">\\n<div class=\"bitcoin-container mob-hide-col\">\\n<a href=\"/coin/league-of-kingdoms\">\\n<img class=\"graphimage lazy\" data-original=\"https://www.worldcoinindex-acc.nl/data/League-of-kingdoms_usd.png?t=2022122015\" alt=\"league-of-kingdoms\" width=\"178\" height=\"58\" /></a>\\n</div>\\n</td>\\n<td class=\"number pricekoers volume mob-hide-col \" data-sort-value=\"18,238,907\">\\n<a href=\"/coin/league-of-kingdoms\">\\n<span>$ </span><span class=\"span\">\\n18.23M\\n</span>\\n</a>\\n</td>\\n<td class=\"supply mob-hide-col \" style=\"width: 85px;\"></td>\\n<td class=\"marketcap mob-hide-col \" style=\"width: 95px;\"></td>\\n</tr>\\n<tr class=\"iexec coinzoeken \" data-naam=\"iexec\" data-symbol=\"786\">\\n<td class=\"rank\"><span>69</span></td>\\n<td class=\"bitcoinLogo Iexec _Iexec Iexec\" style=\"background: url(\\'/Content/img/coins/v-637163284111329177/Iexec.png\\') no-repeat center; width: 16px;padding: 10px;background-size: 16px 16px;\"></td>\\n<td class=\"bitcoinName\"><a href=\"/coin/iexec\">\\n<h1><span>Iexec</span></h1>\\n</a></td>\\n<td class=\"ticker\">\\n<h2>RLC</h2>\\n</td>\\n<td class=\"number pricekoers lastprice\" data-sort-value=\"1.09\"><span>$ </span><span class=\"span\"> 1.09 </span></td>\\n<td class=\"percentage\" data-percentage=\"0.03)\" style=\"color: green\"><span>+0.03%</span></td>\\n<td class=\"number pricekoers highprice mob-hide-col \" data-sort-value=\"1.09\"><span>$ </span><span class=\"span\">1.09</span></td>\\n<td class=\"number pricekoers lowprice mob-hide-col \" data-sort-value=\"1.09\"><span>$ </span><span class=\"span\">1.09</span></td>\\n<td class=\"graphimagecontainer mob-hide-col \">\\n<div class=\"bitcoin-container mob-hide-col\">\\n<a href=\"/coin/iexec\">\\n<img class=\"graphimage lazy\" data-original=\"https://www.worldcoinindex-acc.nl/data/Iexec_usd.png?t=2022122015\" alt=\"iexec\" width=\"178\" height=\"58\" /></a>\\n</div>\\n</td>\\n<td class=\"number pricekoers volume mob-hide-col \" data-sort-value=\"17,835,447\">\\n<a href=\"/coin/iexec\">\\n<span>$ </span><span class=\"span\">\\n17.83M\\n</span>\\n</a>\\n</td>\\n<td class=\"number supply mob-hide-col \" data-sort-value=\"86,999,785\"><span>86.99M</span></td>\\n<td class=\"number pricekoers marketcap mob-hide-col \" data-sort-value=\"94744659\"><span>$ </span><span class=\"span\">94.74M</span> </td>\\n</tr>\\n<tr class=\"icon coinzoeken \" data-naam=\"icon\" data-symbol=\"780\">\\n<td class=\"rank\"><span>70</span></td>\\n<td class=\"bitcoinLogo Icon _Icon Icon\" style=\"background: url(\\'/Content/img/coins/v-636447765669151886/Icon.png\\') no-repeat center; width: 16px;padding: 10px;background-size: 16px 16px;\"></td>\\n<td class=\"bitcoinName\"><a href=\"/coin/icon\">\\n<h1><span>Icon</span></h1>\\n</a></td>\\n<td class=\"ticker\">\\n<h2>ICX</h2>\\n</td>\\n<td class=\"number pricekoers lastprice\" data-sort-value=\"0.190136\"><span>$ </span><span class=\"span\"> 0.190136 </span></td>\\n<td class=\"percentage\" data-percentage=\"-1.34\" style=\"color: red\"><span>-1.34%</span></td>\\n<td class=\"number pricekoers highprice mob-hide-col \" data-sort-value=\"0.192712\"><span>$ </span><span class=\"span\">0.192712</span></td>\\n<td class=\"number pricekoers lowprice mob-hide-col \" data-sort-value=\"0.190058\"><span>$ </span><span class=\"span\">0.190058</span></td>\\n<td class=\"graphimagecontainer mob-hide-col \">\\n<div class=\"bitcoin-container mob-hide-col\">\\n<a href=\"/coin/icon\">\\n<img class=\"graphimage lazy\" data-original=\"https://www.worldcoinindex-acc.nl/data/Icon_usd.png?t=2022122015\" alt=\"icon\" width=\"178\" height=\"58\" /></a>\\n</div>\\n</td>\\n<td class=\"number pricekoers volume mob-hide-col \" data-sort-value=\"17,824,069\">\\n<a href=\"/coin/icon\">\\n<span>$ </span><span class=\"span\">\\n17.82M\\n</span>\\n</a>\\n</td>\\n<td class=\"number supply mob-hide-col \" data-sort-value=\"590,578,242\"><span>590.57M</span></td>\\n<td class=\"number pricekoers marketcap mob-hide-col \" data-sort-value=\"112290204\"><span>$ </span><span class=\"span\">112.29M</span> </td>\\n</tr>\\n<tr class=\"okb coinzoeken \" data-naam=\"okb\" data-symbol=\"3336\">\\n<td class=\"rank\"><span>71</span></td>\\n<td class=\"bitcoinLogo Okb _Okb Okb\" style=\"background: url(\\'/Content/img/coins/v-636926544752514364/Okb.png\\') no-repeat center; width: 16px;padding: 10px;background-size: 16px 16px;\"></td>\\n<td class=\"bitcoinName\"><a href=\"/coin/okb\">\\n <h1><span>Okb</span></h1>\\n</a></td>\\n<td class=\"ticker\">\\n<h2>OKB</h2>\\n</td>\\n<td class=\"number pricekoers lastprice\" data-sort-value=\"22.03\"><span>$ </span><span class=\"span\"> 22.03 </span></td>\\n<td class=\"percentage\" data-percentage=\"0.94)\" style=\"color: green\"><span>+0.94%</span></td>\\n<td class=\"number pricekoers highprice mob-hide-col \" data-sort-value=\"22.03\"><span>$ </span><span class=\"span\">22.03</span></td>\\n<td class=\"number pricekoers lowprice mob-hide-col \" data-sort-value=\"21.83\"><span>$ </span><span class=\"span\">21.83</span></td>\\n<td class=\"graphimagecontainer mob-hide-col \">\\n<div class=\"bitcoin-container mob-hide-col\">\\n<a href=\"/coin/okb\">\\n<img class=\"graphimage lazy\" data-original=\"https://www.worldcoinindex-acc.nl/data/Okb_usd.png?t=2022122015\" alt=\"okb\" width=\"178\" height=\"58\" /></a>\\n</div>\\n</td>\\n<td class=\"number pricekoers volume mob-hide-col \" data-sort-value=\"17,441,860\">\\n<a href=\"/coin/okb\">\\n<span>$ </span><span class=\"span\">\\n17.44M\\n</span>\\n</a>\\n</td>\\n<td class=\"number supply mob-hide-col \" data-sort-value=\"286,021,636\"><span>286.02M</span></td>\\n<td class=\"number pricekoers marketcap mob-hide-col \" data-sort-value=\"6302089077\"><span>$ </span><span class=\"span\">6.30B</span> </td>\\n</tr>\\n<tr class=\"decentraland coinzoeken \" data-naam=\"decentraland\" data-symbol=\"424\">\\n<td class=\"rank\"><span>72</span></td>\\n<td class=\"bitcoinLogo Decentraland _Decentraland Decentraland\" style=\"background: url(\\'/Content/img/coins/v-636912770360049768/Decentraland.png\\') no-repeat center; width: 16px;padding: 10px;background-size: 16px 16px;\"></td>\\n<td class=\"bitcoinName\"><a href=\"/coin/decentraland\">\\n<h1><span>Decentraland</span></h1>\\n</a></td>\\n<td class=\"ticker\">\\n<h2>MANA</h2>\\n</td>\\n<td class=\"number pricekoers lastprice\" data-sort-value=\"0.403554\"><span>$ </span><span class=\"span\"> 0.403554 </span></td>\\n<td class=\"percentage\" data-percentage=\"-0.14\" style=\"color: red\"><span>-0.14%</span></td>\\n<td class=\"number pricekoers highprice mob-hide-col \" data-sort-value=\"0.404850\"><span>$ </span><span class=\"span\">0.404850</span></td>\\n<td class=\"number pricekoers lowprice mob-hide-col \" data-sort-value=\"0.402619\"><span>$ </span><span class=\"span\">0.402619</span></td>\\n<td class=\"graphimagecontainer mob-hide-col \">\\n<div class=\"bitcoin-container mob-hide-col\">\\n<a href=\"/coin/decentraland\">\\n<img class=\"graphimage lazy\" data-original=\"https://www.worldcoinindex-acc.nl/data/Decentraland_usd.png?t=2022122015\" alt=\"decentraland\" width=\"178\" height=\"58\" /></a>\\n</div>\\n</td>\\n<td class=\"number pricekoers volume mob-hide-col \" data-sort-value=\"16,911,788\">\\n<a href=\"/coin/decentraland\">\\n<span>$ </span><span class=\"span\">\\n16.91M\\n</span>\\n</a>\\n</td>\\n <td class=\"number supply mob-hide-col \" data-sort-value=\"1,050,141,509\"><span>1.05B</span></td>\\n<td class=\"number pricekoers marketcap mob-hide-col \" data-sort-value=\"423788357\"><span>$ </span><span class=\"span\">423.78M</span> </td>\\n</tr>\\n<tr class=\"sun coinzoeken \" data-naam=\"sun\" data-symbol=\"4670\">\\n<td class=\"rank\"><span>73</span></td>\\n<td class=\"bitcoinLogo Sun _Sun Sun\" style=\"background: url(\\'/Content/img/coins/v-637355276379861917/Sun.png\\') no-repeat center; width: 16px;padding: 10px;background-size: 16px 16px;\"></td>\\n<td class=\"bitcoinName\"><a href=\"/coin/sun\">\\n<h1><span>SUN</span></h1>\\n</a></td>\\n<td class=\"ticker\">\\n<h2>SUN</h2>\\n</td>\\n<td class=\"number pricekoers lastprice\" data-sort-value=\"0.005415\"><span>$ </span><span class=\"span\"> 0.005415 </span></td>\\n<td class=\"percentage\" data-percentage=\"0.02)\" style=\"color: green\"><span>+0.02%</span></td>\\n<td class=\"number pricekoers highprice mob-hide-col \" data-sort-value=\"0.005417\"><span>$ </span><span class=\"span\">0.005417</span></td>\\n<td class=\"number pricekoers lowprice mob-hide-col \" data-sort-value=\"0.005412\"><span>$ </span><span class=\"span\">0.005412</span></td>\\n<td class=\"graphimagecontainer mob-hide-col \">\\n<div class=\"bitcoin-container mob-hide-col\">\\n<a href=\"/coin/sun\">\\n<img class=\"graphimage lazy\" data-original=\"https://www.worldcoinindex-acc.nl/data/Sun_usd.png?t=2022122015\" alt=\"sun\" width=\"178\" height=\"58\" /></a>\\n</div>\\n</td>\\n<td class=\"number pricekoers volume mob-hide-col \" data-sort-value=\"16,042,030\">\\n<a href=\"/coin/sun\">\\n<span>$ </span><span class=\"span\">\\n16.04M\\n</span>\\n</a>\\n</td>\\n<td class=\"supply mob-hide-col \" style=\"width: 85px;\"></td>\\n<td class=\"marketcap mob-hide-col \" style=\"width: 95px;\"></td>\\n</tr>\\n<tr class=\"biboxtoken coinzoeken \" data-naam=\"biboxtoken\" data-symbol=\"132\">\\n<td class=\"rank\"><span>74</span></td>\\n<td class=\"bitcoinLogo Biboxtoken _Biboxtoken Biboxtoken\" style=\"background: url(\\'/Content/img/coins/v-636509952279903408/Biboxtoken.png\\') no-repeat center; width: 16px;padding: 10px;background-size: 16px 16px;\"></td>\\n<td class=\"bitcoinName\"><a href=\"/coin/biboxtoken\">\\n<h1><span>Biboxtoken</span></h1>\\n</a></td>\\n<td class=\"ticker\">\\n<h2>BIX</h2>\\n</td>\\n<td class=\"number pricekoers lastprice\" data-sort-value=\"0.010906\"><span>$ </span><span class=\"span\"> 0.010906 </span></td>\\n<td class=\"percentage\" data-percentage=\"-0.61\" style=\"color: red\"><span>-0.61%</span></td>\\n<td class=\"number pricekoers highprice mob-hide-col \" data-sort-value=\"0.010977\"><span>$ </span><span class=\"span\">0.010977</span></td>\\n<td class=\"number pricekoers lowprice mob-hide-col \" data-sort-value=\"0.010833\"><span>$ </span><span class=\"span\">0.010833</span></td>\\n<td class=\"graphimagecontainer mob-hide-col \">\\n<div class=\"bitcoin-container mob-hide-col\">\\n<a href=\"/coin/biboxtoken\">\\n<img class=\"graphimage lazy\" data-original=\"https://www.worldcoinindex-acc.nl/data/Biboxtoken_usd.png?t=2022122015\" alt=\"biboxtoken\" width=\"178\" height=\"58\" /></a>\\n</div>\\n</td>\\n<td class=\"number pricekoers volume mob-hide-col \" data-sort-value=\"15,813,927\">\\n<a href=\"/coin/biboxtoken\">\\n<span>$ </span><span class=\"span\">\\n15.81M\\n</span>\\n</a>\\n</td>\\n<td class=\"number supply mob-hide-col \" data-sort-value=\"105,378,066\"><span>105.37M</span></td>\\n<td class=\"number pricekoers marketcap mob-hide-col \" data-sort-value=\"1149281\"><span>$ </span><span class=\"span\">1.14M</span> </td>\\n</tr>\\n<tr class=\"leverfi coinzoeken \" data-naam=\"leverfi\" data-symbol=\"17067\">\\n<td class=\"rank\"><span>75</span></td>\\n<td class=\"bitcoinLogo Leverfi _Leverfi Leverfi\" style=\"background: url(\\'/Content/img/coins/v-637933421993150662/Leverfi.png\\') no-repeat center; width: 16px;padding: 10px;background-size: 16px 16px;\"></td>\\n<td class=\"bitcoinName\"><a href=\"/coin/leverfi\">\\n<h1><span>LeverFi</span></h1>\\n</a></td>\\n<td class=\"ticker\">\\n <h2>LEVER</h2>\\n</td>\\n<td class=\"number pricekoers lastprice\" data-sort-value=\"0.002071\"><span>$ </span><span class=\"span\"> 0.002071 </span></td>\\n<td class=\"percentage\" data-percentage=\"0.26)\" style=\"color: green\"><span>+0.26%</span></td>\\n<td class=\"number pricekoers highprice mob-hide-col \" data-sort-value=\"0.002086\"><span>$ </span><span class=\"span\">0.002086</span></td>\\n<td class=\"number pricekoers lowprice mob-hide-col \" data-sort-value=\"0.002065\"><span>$ </span><span class=\"span\">0.002065</span></td>\\n<td class=\"graphimagecontainer mob-hide-col \">\\n<div class=\"bitcoin-container mob-hide-col\">\\n<a href=\"/coin/leverfi\">\\n<img class=\"graphimage lazy\" data-original=\"https://www.worldcoinindex-acc.nl/data/Leverfi_usd.png?t=2022122015\" alt=\"leverfi\" width=\"178\" height=\"58\" /></a>\\n</div>\\n</td>\\n<td class=\"number pricekoers volume mob-hide-col \" data-sort-value=\"15,488,929\">\\n<a href=\"/coin/leverfi\">\\n<span>$ </span><span class=\"span\">\\n15.48M\\n</span>\\n</a>\\n</td>\\n<td class=\"supply mob-hide-col \" style=\"width: 85px;\"></td>\\n<td class=\"marketcap mob-hide-col \" style=\"width: 95px;\"></td>\\n</tr>\\n<tr class=\"binaryx coinzoeken \" data-naam=\"binaryx\" data-symbol=\"6996\">\\n<td class=\"rank\"><span>76</span></td>\\n<td class=\"bitcoinLogo Binaryx _Binaryx Binaryx\" style=\"background: url(\\'/Content/img/coins/v-637569304168901961/Binaryx.png\\') no-repeat center; width: 16px;padding: 10px;background-size: 16px 16px;\"></td>\\n<td class=\"bitcoinName\"><a href=\"/coin/binaryx\">\\n<h1><span>BinaryX</span></h1>\\n</a></td>\\n<td class=\"ticker\">\\n<h2>BNX</h2>\\n</td>\\n<td class=\"number pricekoers lastprice\" data-sort-value=\"132.19\"><span>$ </span><span class=\"span\"> 132.19 </span></td>\\n<td class=\"percentage\" data-percentage=\"-0.20\" style=\"color: red\"><span>-0.20%</span></td>\\n<td class=\"number pricekoers highprice mob-hide-col \" data-sort-value=\"132.58\"><span>$ </span><span class=\"span\">132.58</span></td>\\n<td class=\"number pricekoers lowprice mob-hide-col \" data-sort-value=\"129.74\"><span>$ </span><span class=\"span\">129.74</span></td>\\n<td class=\"graphimagecontainer mob-hide-col \">\\n<div class=\"bitcoin-container mob-hide-col\">\\n<a href=\"/coin/binaryx\">\\n<img class=\"graphimage lazy\" data-original=\"https://www.worldcoinindex-acc.nl/data/Binaryx_usd.png?t=2022122015\" alt=\"binaryx\" width=\"178\" height=\"58\" /></a>\\n</div>\\n</td>\\n<td class=\"number pricekoers volume mob-hide-col \" data-sort-value=\"14,267,554\">\\n<a href=\"/coin/binaryx\">\\n<span>$ </span><span class=\"span\">\\n14.26M\\n</span>\\n</a>\\n</td>\\n<td class=\"supply mob-hide-col \" style=\"width: 85px;\"></td>\\n<td class=\"marketcap mob-hide-col \" style=\"width: 95px;\"></td>\\n</tr>\\n<tr class=\"cocosbcx coinzoeken \" data-naam=\"cocosbcx\" data-symbol=\"3578\">\\n<td class=\"rank\"><span>77</span></td>\\n<td class=\"bitcoinLogo Cocosbcx _Cocosbcx Cocosbcx\" style=\"background: url(\\'/Content/img/coins/v-637030295377019601/Cocosbcx.png\\') no-repeat center; width: 16px;padding: 10px;background-size: 16px 16px;\"></td>\\n<td class=\"bitcoinName\"><a href=\"/coin/cocosbcx\">\\n<h1><span>Cocosbcx</span></h1>\\n</a></td>\\n<td class=\"ticker\">\\n<h2>COCOS</h2>\\n</td>\\n<td class=\"number pricekoers lastprice\" data-sort-value=\"0.649652\"><span>$ </span><span class=\"span\"> 0.649652 </span></td>\\n<td class=\"percentage\" data-percentage=\"1.56)\" style=\"color: green\"><span>+1.56%</span></td>\\n<td class=\"number pricekoers highprice mob-hide-col \" data-sort-value=\"0.649768\"><span>$ </span><span class=\"span\">0.649768</span></td>\\n<td class=\"number pricekoers lowprice mob-hide-col \" data-sort-value=\"0.634515\"><span>$ </span><span class=\"span\">0.634515</span></td>\\n<td class=\"graphimagecontainer mob-hide-col \">\\n<div class=\"bitcoin-container mob-hide-col\">\\n<a href=\"/coin/cocosbcx\">\\n<img class=\"graphimage lazy\" data-original=\"https://www.worldcoinindex-acc.nl/data/Cocosbcx_usd.png?t=2022122015\" alt=\"cocosbcx\" width=\"178\" height=\"58\" /></a>\\n</div>\\n</td>\\n<td class=\"number pricekoers volume mob-hide-col \" data-sort-value=\"14,073,501\">\\n<a href=\"/coin/cocosbcx\">\\n<span>$ </span><span class=\"span\">\\n14.07M\\n</span>\\n</a>\\n</td>\\n<td class=\"supply mob-hide-col \" style=\"width: 85px;\"></td>\\n<td class=\"marketcap mob-hide-col \" style=\"width: 95px;\"></td>\\n</tr>\\n<tr class=\"wax coinzoeken \" data-naam=\"wax\" data-symbol=\"1612\">\\n<td class=\"rank\"><span>78</span></td>\\n<td class=\"bitcoinLogo Wax _Wax Wax\" style=\"background: url(\\'/Content/img/coins/v-636496396091629053/Wax.png\\') no-repeat center; width: 16px;padding: 10px;background-size: 16px 16px;\"></td>\\n<td class=\"bitcoinName\"><a href=\"/coin/wax\">\\n<h1><span>Wax</span></h1>\\n</a></td>\\n<td class=\"ticker\">\\n<h2>WAXP</h2>\\n</td>\\n<td class=\"number pricekoers lastprice\" data-sort-value=\"0.060634\"><span>$ </span><span class=\"span\"> 0.060634 </span></td>\\n<td class=\"percentage\" data-percentage=\"-4.34\" style=\"color: red\"><span>-4.34%</span></td>\\n<td class=\"number pricekoers highprice mob-hide-col \" data-sort-value=\"0.063383\"><span>$ </span><span class=\"span\">0.063383</span></td>\\n<td class=\"number pricekoers lowprice mob-hide-col \" data-sort-value=\"0.060589\"><span>$ </span><span class=\"span\">0.060589</span></td>\\n<td class=\"graphimagecontainer mob-hide-col \">\\n<div class=\"bitcoin-container mob-hide-col\">\\n<a href=\"/coin/wax\">\\n<img class=\"graphimage lazy\" data-original=\"https://www.worldcoinindex-acc.nl/data/Wax_usd.png?t=2022122015\" alt=\"wax\" width=\"178\" height=\"58\" /></a>\\n</div>\\n</td>\\n<td class=\"number pricekoers volume mob-hide-col \" data-sort-value=\"13,775,479\">\\n <a href=\"/coin/wax\">\\n<span>$ </span><span class=\"span\">\\n13.77M\\n</span>\\n</a>\\n</td>\\n<td class=\"number supply mob-hide-col \" data-sort-value=\"492,954,537\"><span>492.95M</span></td>\\n<td class=\"number pricekoers marketcap mob-hide-col \" data-sort-value=\"29889571\"><span>$ </span><span class=\"span\">29.88M</span> </td>\\n</tr>\\n<tr class=\"zilliqa coinzoeken \" data-naam=\"zilliqa\" data-symbol=\"1678\">\\n<td class=\"rank\"><span>79</span></td>\\n<td class=\"bitcoinLogo Zilliqa _Zilliqa Zilliqa\" style=\"background: url(\\'/Content/img/coins/v-636526625204763223/Zilliqa.png\\') no-repeat center; width: 16px;padding: 10px;background-size: 16px 16px;\"></td>\\n<td class=\"bitcoinName\"><a href=\"/coin/zilliqa\">\\n<h1><span>Zilliqa</span></h1>\\n</a></td>\\n<td class=\"ticker\">\\n<h2>ZIL</h2>\\n</td>\\n<td class=\"number pricekoers lastprice\" data-sort-value=\"0.022660\"><span>$ </span><span class=\"span\"> 0.022660 </span></td>\\n<td class=\"percentage\" data-percentage=\"-0.43\" style=\"color: red\"><span>-0.43%</span></td>\\n<td class=\"number pricekoers highprice mob-hide-col \" data-sort-value=\"0.022841\"><span>$ </span><span class=\"span\">0.022841</span></td>\\n<td class=\"number pricekoers lowprice mob-hide-col \" data-sort-value=\"0.022624\"><span>$ </span><span class=\"span\">0.022624</span></td>\\n<td class=\"graphimagecontainer mob-hide-col \">\\n<div class=\"bitcoin-container mob-hide-col\">\\n<a href=\"/coin/zilliqa\">\\n<img class=\"graphimage lazy\" data-original=\"https://www.worldcoinindex-acc.nl/data/Zilliqa_usd.png?t=2022122015\" alt=\"zilliqa\" width=\"178\" height=\"58\" /></a>\\n</div>\\n</td>\\n<td class=\"number pricekoers volume mob-hide-col \" data-sort-value=\"13,716,163\">\\n<a href=\"/coin/zilliqa\">\\n<span>$ </span><span class=\"span\">\\n13.71M\\n</span>\\n</a>\\n</td>\\n<td class=\"number supply mob-hide-col \" data-sort-value=\"14,125,000,000\"><span>14.12B</span></td>\\n<td class=\"number pricekoers marketcap mob-hide-col \" data-sort-value=\"320071370\"><span>$ </span><span class=\"span\">320.07M</span> </td>\\n</tr>\\n<tr class=\"ceekvr coinzoeken \" data-naam=\"ceekvr\" data-symbol=\"2196\">\\n<td class=\"rank\"><span>80</span></td>\\n<td class=\"bitcoinLogo Ceekvr _Ceekvr Ceekvr\" style=\"background: url(\\'/Content/img/coins/v-636644119336709145/Ceekvr.png\\') no-repeat center; width: 16px;padding: 10px;background-size: 16px 16px;\"></td>\\n<td class=\"bitcoinName\"><a href=\"/coin/ceekvr\">\\n<h1><span>Ceekvr</span></h1>\\n</a></td>\\n<td class=\"ticker\">\\n<h2>CEEK</h2>\\n</td>\\n<td class=\"number pricekoers lastprice\" data-sort-value=\"0.094570\"><span>$ </span><span class=\"span\"> 0.094570 </span></td>\\n<td class=\"percentage\" data-percentage=\"-0.14\" style=\"color: red\"><span>-0.14%</span></td>\\n<td class=\"number pricekoers highprice mob-hide-col \" data-sort-value=\"0.094721\"><span>$ </span><span class=\"span\">0.094721</span></td>\\n<td class=\"number pricekoers lowprice mob-hide-col \" data-sort-value=\"0.094508\"><span>$ </span><span class=\"span\">0.094508</span></td>\\n<td class=\"graphimagecontainer mob-hide-col \">\\n<div class=\"bitcoin-container mob-hide-col\">\\n<a href=\"/coin/ceekvr\">\\n<img class=\"graphimage lazy\" data-original=\"https://www.worldcoinindex-acc.nl/data/Ceekvr_usd.png?t=2022122015\" alt=\"ceekvr\" width=\"178\" height=\"58\" /></a>\\n</div>\\n</td>\\n<td class=\"number pricekoers volume mob-hide-col \" data-sort-value=\"13,282,108\">\\n<a href=\"/coin/ceekvr\">\\n<span>$ </span><span class=\"span\">\\n13.28M\\n</span>\\n</a>\\n</td>\\n<td class=\"supply mob-hide-col \" style=\"width: 85px;\"></td>\\n<td class=\"marketcap mob-hide-col \" style=\"width: 95px;\"></td>\\n</tr>\\n<tr class=\"jasmy coinzoeken \" data-naam=\"jasmy\" data-symbol=\"5525\">\\n<td class=\"rank\"><span>81</span></td>\\n<td class=\"bitcoinLogo Jasmy _Jasmy Jasmy\" style=\"background: url(\\'/Content/img/coins/v-637486302359195011/Jasmy.png\\') no-repeat center; width: 16px;padding: 10px;background-size: 16px 16px;\"></td>\\n<td class=\"bitcoinName\"><a href=\"/coin/jasmy\">\\n<h1><span>Jasmy</span></h1>\\n</a></td>\\n<td class=\"ticker\">\\n<h2>JASMY</h2>\\n</td>\\n<td class=\"number pricekoers lastprice\" data-sort-value=\"0.004537\"><span>$ </span><span class=\"span\"> 0.004537 </span></td>\\n<td class=\"percentage\" data-percentage=\"-2.71\" style=\"color: red\"><span>-2.71%</span></td>\\n<td class=\"number pricekoers highprice mob-hide-col \" data-sort-value=\"0.004663\"><span>$ </span><span class=\"span\">0.004663</span></td>\\n<td class=\"number pricekoers lowprice mob-hide-col \" data-sort-value=\"0.004529\"><span>$ </span><span class=\"span\">0.004529</span></td>\\n<td class=\"graphimagecontainer mob-hide-col \">\\n<div class=\"bitcoin-container mob-hide-col\">\\n<a href=\"/coin/jasmy\">\\n<img class=\"graphimage lazy\" data-original=\"https://www.worldcoinindex-acc.nl/data/Jasmy_usd.png?t=2022122015\" alt=\"jasmy\" width=\"178\" height=\"58\" /></a>\\n</div>\\n</td>\\n<td class=\"number pricekoers volume mob-hide-col \" data-sort-value=\"13,207,810\">\\n<a href=\"/coin/jasmy\">\\n<span>$ </span><span class=\"span\">\\n13.20M\\n</span>\\n</a>\\n</td>\\n<td class=\"number supply mob-hide-col \" data-sort-value=\"4,754,930,000\"><span>4.75B</span></td>\\n<td class=\"number pricekoers marketcap mob-hide-col \" data-sort-value=\"21573165\"><span>$ </span><span class=\"span\">21.57M</span> </td>\\n</tr>\\n<tr class=\"dfi-money coinzoeken \" data-naam=\"dfi-money\" data-symbol=\"4235\">\\n<td class=\"rank\"><span>82</span></td>\\n<td class=\"bitcoinLogo Dfi-money _Dfi-money Dfi-money\" style=\"background: url(\\'/Content/img/coins/v-637322223213697561/Dfi-money.png\\') no-repeat center; width: 16px;padding: 10px;background-size: 16px 16px;\"></td>\\n<td class=\"bitcoinName\"><a href=\"/coin/dfi-money\">\\n<h1><span>Dfi.money</span></h1>\\n</a></td>\\n<td class=\"ticker\">\\n<h2>YFII</h2>\\n</td>\\n<td class=\"number pricekoers lastprice\" data-sort-value=\"1,037.39\"><span>$ </span><span class=\"span\"> 1,037.39 </span></td>\\n<td class=\"percentage\" data-percentage=\"0.42)\" style=\"color: green\"><span>+0.42%</span></td>\\n<td class=\"number pricekoers highprice mob-hide-col \" data-sort-value=\"1,039.77\"><span>$ </span><span class=\"span\">1,039.77</span></td>\\n<td class=\"number pricekoers lowprice mob-hide-col \" data-sort-value=\"1,028.63\"><span>$ </span><span class=\"span\">1,028.63</span></td>\\n<td class=\"graphimagecontainer mob-hide-col \">\\n<div class=\"bitcoin-container mob-hide-col\">\\n<a href=\"/coin/dfi-money\">\\n<img class=\"graphimage lazy\" data-original=\"https://www.worldcoinindex-acc.nl/data/Dfi-money_usd.png?t=2022122015\" alt=\"dfi-money\" width=\"178\" height=\"58\" /></a>\\n</div>\\n</td>\\n<td class=\"number pricekoers volume mob-hide-col \" data-sort-value=\"12,920,586\">\\n<a href=\"/coin/dfi-money\">\\n<span>$ </span><span class=\"span\">\\n12.92M\\n</span>\\n</a>\\n</td>\\n<td class=\"number supply mob-hide-col \" data-sort-value=\"40,000\"><span>40.00K</span></td>\\n<td class=\"number pricekoers marketcap mob-hide-col \" data-sort-value=\"41495405\"><span>$ </span><span class=\"span\">41.49M</span> </td>\\n</tr>\\n<tr class=\"pancakeswap coinzoeken \" data-naam=\"pancakeswap\" data-symbol=\"4797\">\\n<td class=\"rank\"><span>83</span></td>\\n<td class=\"bitcoinLogo Pancakeswap _Pancakeswap Pancakeswap\" style=\"background: url(\\'/Content/img/coins/v-637369635789645101/Pancakeswap.png\\') no-repeat center; width: 16px;padding: 10px;background-size: 16px 16px;\"></td>\\n<td class=\"bitcoinName\"><a href=\"/coin/pancakeswap\">\\n<h1><span>PancakeSwap</span></h1>\\n</a></td>\\n<td class=\"ticker\">\\n<h2>CAKE</h2>\\n</td>\\n<td class=\"number pricekoers lastprice\" data-sort-value=\"3.97\"><span>$ </span><span class=\"span\"> 3.97 </span></td>\\n<td class=\"percentage\" data-percentage=\"0.02)\" style=\"color: green\"><span>+0.02%</span></td>\\n<td class=\"number pricekoers highprice mob-hide-col \" data-sort-value=\"3.97\"><span>$ </span><span class=\"span\">3.97</span></td>\\n<td class=\"number pricekoers lowprice mob-hide-col \" data-sort-value=\"3.92\"><span>$ </span><span class=\"span\">3.92</span></td>\\n<td class=\"graphimagecontainer mob-hide-col \">\\n<div class=\"bitcoin-container mob-hide-col\">\\n<a href=\"/coin/pancakeswap\">\\n<img class=\"graphimage lazy\" data-original=\"https://www.worldcoinindex-acc.nl/data/Pancakeswap_usd.png?t=2022122015\" alt=\"pancakeswap\" width=\"178\" height=\"58\" /></a>\\n</div>\\n</td>\\n<td class=\"number pricekoers volume mob-hide-col \" data-sort-value=\"12,523,734\">\\n<a href=\"/coin/pancakeswap\">\\n<span>$ </span><span class=\"span\">\\n 12.52M\\n</span>\\n</a>\\n</td>\\n<td class=\"number supply mob-hide-col \" data-sort-value=\"147,110,715\"><span>147.11M</span></td>\\n<td class=\"number pricekoers marketcap mob-hide-col \" data-sort-value=\"583944032\"><span>$ </span><span class=\"span\">583.94M</span> </td>\\n</tr>\\n<tr class=\"quant coinzoeken \" data-naam=\"quant\" data-symbol=\"2511\">\\n<td class=\"rank\"><span>84</span></td>\\n<td class=\"bitcoinLogo Quant _Quant Quant\" style=\"background: url(\\'/Content/img/coins/v-637091509591776696/Quant.png\\') no-repeat center; width: 16px;padding: 10px;background-size: 16px 16px;\"></td>\\n<td class=\"bitcoinName\"><a href=\"/coin/quant\">\\n<h1><span>Quant</span></h1>\\n</a></td>\\n<td class=\"ticker\">\\n<h2>QNT</h2>\\n</td>\\n<td class=\"number pricekoers lastprice\" data-sort-value=\"121.72\"><span>$ </span><span class=\"span\"> 121.72 </span></td>\\n<td class=\"percentage\" data-percentage=\"0.26)\" style=\"color: green\"><span>+0.26%</span></td>\\n<td class=\"number pricekoers highprice mob-hide-col \" data-sort-value=\"121.72\"><span>$ </span><span class=\"span\">121.72</span></td>\\n<td class=\"number pricekoers lowprice mob-hide-col \" data-sort-value=\"121.25\"><span>$ </span><span class=\"span\">121.25</span></td>\\n<td class=\"graphimagecontainer mob-hide-col \">\\n<div class=\"bitcoin-container mob-hide-col\">\\n<a href=\"/coin/quant\">\\n<img class=\"graphimage lazy\" data-original=\"https://www.worldcoinindex-acc.nl/data/Quant_usd.png?t=2022122015\" alt=\"quant\" width=\"178\" height=\"58\" /></a>\\n</div>\\n</td>\\n<td class=\"number pricekoers volume mob-hide-col \" data-sort-value=\"12,507,772\">\\n<a href=\"/coin/quant\">\\n<span>$ </span><span class=\"span\">\\n12.50M\\n</span>\\n</a>\\n</td>\\n<td class=\"number supply mob-hide-col \" data-sort-value=\"12,072,738\"><span>12.07M</span></td>\\n<td class=\"number pricekoers marketcap mob-hide-col \" data-sort-value=\"1469536884\"><span>$ </span><span class=\"span\">1.46B</span> </td>\\n</tr>\\n<tr class=\"arweave coinzoeken \" data-naam=\"arweave\" data-symbol=\"5898\">\\n<td class=\"rank\"><span>85</span></td>\\n<td class=\"bitcoinLogo Arweave _Arweave Arweave\" style=\"background: url(\\'/Content/img/coins/v-637516833309478224/Arweave.png\\') no-repeat center; width: 16px;padding: 10px;background-size: 16px 16px;\"></td>\\n<td class=\"bitcoinName\"><a href=\"/coin/arweave\">\\n<h1><span>Arweave</span></h1>\\n</a></td>\\n<td class=\"ticker\">\\n<h2>AR</h2>\\n</td>\\n<td class=\"number pricekoers lastprice\" data-sort-value=\"9.37\"><span>$ </span><span class=\"span\"> 9.37 </span></td>\\n<td class=\"percentage\" data-percentage=\"-0.32\" style=\"color: red\"><span>-0.32%</span></td>\\n<td class=\"number pricekoers highprice mob-hide-col \" data-sort-value=\"9.41\"><span>$ </span><span class=\"span\">9.41</span></td>\\n<td class=\"number pricekoers lowprice mob-hide-col \" data-sort-value=\"9.34\"><span>$ </span><span class=\"span\">9.34</span></td>\\n<td class=\"graphimagecontainer mob-hide-col \">\\n<div class=\"bitcoin-container mob-hide-col\">\\n<a href=\"/coin/arweave\">\\n<img class=\"graphimage lazy\" data-original=\"https://www.worldcoinindex-acc.nl/data/Arweave_usd.png?t=2022122015\" alt=\"arweave\" width=\"178\" height=\"58\" /></a>\\n</div>\\n</td>\\n<td class=\"number pricekoers volume mob-hide-col \" data-sort-value=\"12,221,845\">\\n<a href=\"/coin/arweave\">\\n<span>$ </span><span class=\"span\">\\n12.22M\\n</span>\\n</a>\\n</td>\\n<td class=\"number supply mob-hide-col \" data-sort-value=\"43,825,000\"><span>43.82M</span></td>\\n<td class=\"number pricekoers marketcap mob-hide-col \" data-sort-value=\"410858523\"><span>$ </span><span class=\"span\">410.85M</span> </td>\\n</tr>\\n<tr class=\"thorchain coinzoeken \" data-naam=\"thorchain\" data-symbol=\"3523\">\\n<td class=\"rank\"><span>86</span></td>\\n<td class=\"bitcoinLogo Thorchain _Thorchain Thorchain\" style=\"background: url(\\'/Content/img/coins/v-636996435470115757/Thorchain.png\\') no-repeat center; width: 16px;padding: 10px;background-size: 16px 16px;\"></td>\\n<td class=\"bitcoinName\"><a href=\"/coin/thorchain\">\\n<h1><span>Thorchain</span></h1>\\n</a></td>\\n<td class=\"ticker\">\\n<h2>RUNE</h2>\\n</td>\\n<td class=\"number pricekoers lastprice\" data-sort-value=\"1.33\"><span>$ </span><span class=\"span\"> 1.33 </span></td>\\n<td class=\"percentage\" data-percentage=\"0.28)\" style=\"color: green\"><span>+0.28%</span></td>\\n<td class=\"number pricekoers highprice mob-hide-col \" data-sort-value=\"1.33\"><span>$ </span><span class=\"span\">1.33</span></td>\\n<td class=\"number pricekoers lowprice mob-hide-col \" data-sort-value=\"1.33\"><span>$ </span><span class=\"span\">1.33</span></td>\\n<td class=\"graphimagecontainer mob-hide-col \">\\n<div class=\"bitcoin-container mob-hide-col\">\\n<a href=\"/coin/thorchain\">\\n<img class=\"graphimage lazy\" data-original=\"https://www.worldcoinindex-acc.nl/data/Thorchain_usd.png?t=2022122015\" alt=\"thorchain\" width=\"178\" height=\"58\" /></a>\\n</div>\\n</td>\\n<td class=\"number pricekoers volume mob-hide-col \" data-sort-value=\"12,171,814\">\\n<a href=\"/coin/thorchain\">\\n<span>$ </span><span class=\"span\">\\n12.17M\\n</span>\\n</a>\\n</td>\\n<td class=\"number supply mob-hide-col \" data-sort-value=\"265,170,780\"><span>265.17M</span></td>\\n<td class=\"number pricekoers marketcap mob-hide-col \" data-sort-value=\"352598000\"><span>$ </span><span class=\"span\">352.59M</span> </td>\\n</tr>\\n<tr class=\"stepn coinzoeken \" data-naam=\"stepn\" data-symbol=\"14617\">\\n<td class=\"rank\"><span>87</span></td>\\n<td class=\"bitcoinLogo Stepn _Stepn Stepn\" style=\"background: url(\\'/Content/img/coins/v-637828470138841055/Stepn.png\\') no-repeat center; width: 16px;padding: 10px;background-size: 16px 16px;\"></td>\\n <td class=\"bitcoinName\"><a href=\"/coin/stepn\">\\n<h1><span>STEPN</span></h1>\\n</a></td>\\n<td class=\"ticker\">\\n<h2>GMT</h2>\\n</td>\\n<td class=\"number pricekoers lastprice\" data-sort-value=\"0.382782\"><span>$ </span><span class=\"span\"> 0.382782 </span></td>\\n<td class=\"percentage\" data-percentage=\"0.53)\" style=\"color: green\"><span>+0.53%</span></td>\\n<td class=\"number pricekoers highprice mob-hide-col \" data-sort-value=\"0.383661\"><span>$ </span><span class=\"span\">0.383661</span></td>\\n<td class=\"number pricekoers lowprice mob-hide-col \" data-sort-value=\"0.380761\"><span>$ </span><span class=\"span\">0.380761</span></td>\\n<td class=\"graphimagecontainer mob-hide-col \">\\n<div class=\"bitcoin-container mob-hide-col\">\\n<a href=\"/coin/stepn\">\\n<img class=\"graphimage lazy\" data-original=\"https://www.worldcoinindex-acc.nl/data/Stepn_usd.png?t=2022122015\" alt=\"stepn\" width=\"178\" height=\"58\" /></a>\\n</div>\\n</td>\\n<td class=\"number pricekoers volume mob-hide-col \" data-sort-value=\"11,954,136\">\\n<a href=\"/coin/stepn\">\\n<span>$ </span><span class=\"span\">\\n11.95M\\n</span>\\n</a>\\n</td>\\n<td class=\"number supply mob-hide-col \" data-sort-value=\"600,000,000\"><span>600.00M</span></td>\\n<td class=\"number pricekoers marketcap mob-hide-col \" data-sort-value=\"229669420\"><span>$ </span><span class=\"span\">229.66M</span> </td>\\n</tr>\\n<tr class=\"trueusd coinzoeken \" data-naam=\"trueusd\" data-symbol=\"1806\">\\n<td class=\"rank\"><span>88</span></td>\\n<td class=\"bitcoinLogo Trueusd _Trueusd Trueusd\" style=\"background: url(\\'/Content/img/coins/v-636559332489012305/Trueusd.png\\') no-repeat center; width: 16px;padding: 10px;background-size: 16px 16px;\"></td>\\n<td class=\"bitcoinName\"><a href=\"/coin/trueusd\">\\n<h1><span>Trueusd</span></h1>\\n</a></td>\\n<td class=\"ticker\">\\n<h2>TUSD</h2>\\n</td>\\n<td class=\"number pricekoers lastprice\" data-sort-value=\"0.999449\"><span>$ </span><span class=\"span\"> 0.999449 </span></td>\\n<td class=\"percentage\" data-percentage=\"-0.03\" style=\"color: red\"><span>-0.03%</span></td>\\n<td class=\"number pricekoers highprice mob-hide-col \" data-sort-value=\"1.00\"><span>$ </span><span class=\"span\">1.00</span></td>\\n<td class=\"number pricekoers lowprice mob-hide-col \" data-sort-value=\"0.998543\"><span>$ </span><span class=\"span\">0.998543</span></td>\\n<td class=\"graphimagecontainer mob-hide-col \">\\n<div class=\"bitcoin-container mob-hide-col\">\\n<a href=\"/coin/trueusd\">\\n<img class=\"graphimage lazy\" data-original=\"https://www.worldcoinindex-acc.nl/data/Trueusd_usd.png?t=2022122015\" alt=\"trueusd\" width=\"178\" height=\"58\" /></a>\\n</div>\\n</td>\\n<td class=\"number pricekoers volume mob-hide-col \" data-sort-value=\"11,941,903\">\\n<a href=\"/coin/trueusd\">\\n<span>$ </span><span class=\"span\">\\n11.94M\\n</span>\\n</a>\\n </td>\\n<td class=\"number supply mob-hide-col \" data-sort-value=\"197,663,184\"><span>197.66M</span></td>\\n<td class=\"number pricekoers marketcap mob-hide-col \" data-sort-value=\"197554276\"><span>$ </span><span class=\"span\">197.55M</span> </td>\\n</tr>\\n<tr class=\"tornado-cash coinzoeken \" data-naam=\"tornado-cash\" data-symbol=\"5530\">\\n<td class=\"rank\"><span>89</span></td>\\n<td class=\"bitcoinLogo Tornado-cash _Tornado-cash Tornado-cash\" style=\"background: url(\\'/Content/img/coins/v-637486357152476456/Tornado-cash.png\\') no-repeat center; width: 16px;padding: 10px;background-size: 16px 16px;\"></td>\\n<td class=\"bitcoinName\"><a href=\"/coin/tornado-cash\">\\n<h1><span>Tornado Cash</span></h1>\\n</a></td>\\n<td class=\"ticker\">\\n<h2>TORN</h2>\\n</td>\\n<td class=\"number pricekoers lastprice\" data-sort-value=\"5.31\"><span>$ </span><span class=\"span\"> 5.31 </span></td>\\n<td class=\"percentage\" data-percentage=\"0.23)\" style=\"color: green\"><span>+0.23%</span></td>\\n<td class=\"number pricekoers highprice mob-hide-col \" data-sort-value=\"5.33\"><span>$ </span><span class=\"span\">5.33</span></td>\\n<td class=\"number pricekoers lowprice mob-hide-col \" data-sort-value=\"5.30\"><span>$ </span><span class=\"span\">5.30</span></td>\\n<td class=\"graphimagecontainer mob-hide-col \">\\n<div class=\"bitcoin-container mob-hide-col\">\\n<a href=\"/coin/tornado-cash\">\\n<img class=\"graphimage lazy\" data-original=\"https://www.worldcoinindex-acc.nl/data/Tornado-cash_usd.png?t=2022122015\" alt=\"tornado-cash\" width=\"178\" height=\"58\" /></a>\\n</div>\\n</td>\\n<td class=\"number pricekoers volume mob-hide-col \" data-sort-value=\"11,730,190\">\\n<a href=\"/coin/tornado-cash\">\\n<span>$ </span><span class=\"span\">\\n11.73M\\n</span>\\n</a>\\n</td>\\n<td class=\"supply mob-hide-col \" style=\"width: 85px;\"></td>\\n<td class=\"marketcap mob-hide-col \" style=\"width: 95px;\"></td>\\n</tr>\\n<tr class=\"project-galaxy coinzoeken \" data-naam=\"project-galaxy\" data-symbol=\"15424\">\\n<td class=\"rank\"><span>90</span></td>\\n<td class=\"bitcoinLogo Project-galaxy _Project-galaxy Project-galaxy\" style=\"background: url(\\'/Content/img/coins/v-637873815531985040/Project-galaxy.png\\') no-repeat center; width: 16px;padding: 10px;background-size: 16px 16px;\"></td>\\n<td class=\"bitcoinName\"><a href=\"/coin/project-galaxy\">\\n<h1><span>Project Galaxy</span></h1>\\n</a></td>\\n<td class=\"ticker\">\\n<h2>GAL</h2>\\n</td>\\n<td class=\"number pricekoers lastprice\" data-sort-value=\"1.58\"><span>$ </span><span class=\"span\"> 1.58 </span></td>\\n<td class=\"percentage\" data-percentage=\"-0.99\" style=\"color: red\"><span>-0.99%</span></td>\\n<td class=\"number pricekoers highprice mob-hide-col \" data-sort-value=\"1.59\"><span>$ </span><span class=\"span\">1.59</span></td>\\n<td class=\"number pricekoers lowprice mob-hide-col \" data-sort-value=\"1.57\"><span>$ </span><span class=\"span\">1.57</span></td>\\n<td class=\"graphimagecontainer mob-hide-col \">\\n<div class=\"bitcoin-container mob-hide-col\">\\n<a href=\"/coin/project-galaxy\">\\n<img class=\"graphimage lazy\" data-original=\"https://www.worldcoinindex-acc.nl/data/Project-galaxy_usd.png?t=2022122015\" alt=\"project-galaxy\" width=\"178\" height=\"58\" /></a>\\n</div>\\n</td>\\n<td class=\"number pricekoers volume mob-hide-col \" data-sort-value=\"11,715,389\">\\n<a href=\"/coin/project-galaxy\">\\n<span>$ </span><span class=\"span\">\\n11.71M\\n</span>\\n</a>\\n</td>\\n<td class=\"supply mob-hide-col \" style=\"width: 85px;\"></td>\\n<td class=\"marketcap mob-hide-col \" style=\"width: 95px;\"></td>\\n</tr>\\n<tr class=\"streamcoin coinzoeken \" data-naam=\"streamcoin\" data-symbol=\"16475\">\\n<td class=\"rank\"><span>91</span></td>\\n<td class=\"bitcoinLogo Streamcoin _Streamcoin Streamcoin\" style=\"background: url(\\'/Content/img/coins/v-637873847384015962/Streamcoin.png\\') no-repeat center; width: 16px;padding: 10px;background-size: 16px 16px;\"></td>\\n<td class=\"bitcoinName\"><a href=\"/coin/streamcoin\">\\n<h1><span>StreamCoin</span></h1>\\n</a></td>\\n<td class=\"ticker\">\\n<h2>STRM</h2>\\n</td>\\n<td class=\"number pricekoers lastprice\" data-sort-value=\"0.017569\"><span>$ </span><span class=\"span\"> 0.017569 </span></td>\\n<td class=\"percentage\" data-percentage=\"0.03)\" style=\"color: green\"><span>+0.03%</span></td>\\n<td class=\"number pricekoers highprice mob-hide-col \" data-sort-value=\"0.017641\"><span>$ </span><span class=\"span\">0.017641</span></td>\\n<td class=\"number pricekoers lowprice mob-hide-col \" data-sort-value=\"0.017523\"><span>$ </span><span class=\"span\">0.017523</span></td>\\n<td class=\"graphimagecontainer mob-hide-col \">\\n<div class=\"bitcoin-container mob-hide-col\">\\n<a href=\"/coin/streamcoin\">\\n<img class=\"graphimage lazy\" data-original=\"https://www.worldcoinindex-acc.nl/data/Streamcoin_usd.png?t=2022122015\" alt=\"streamcoin\" width=\"178\" height=\"58\" /></a>\\n</div>\\n</td>\\n<td class=\"number pricekoers volume mob-hide-col \" data-sort-value=\"11,705,011\">\\n<a href=\"/coin/streamcoin\">\\n<span>$ </span><span class=\"span\">\\n11.70M\\n</span>\\n</a>\\n</td>\\n<td class=\"supply mob-hide-col \" style=\"width: 85px;\"></td>\\n<td class=\"marketcap mob-hide-col \" style=\"width: 95px;\"></td>\\n</tr>\\n<tr class=\"1inch coinzoeken \" data-naam=\"1inch\" data-symbol=\"5256\">\\n<td class=\"rank\"><span>92</span></td>\\n<td class=\"bitcoinLogo 1inch _1inch 1inch\" style=\"background: url(\\'/Content/img/coins/v-637444941796924890/1inch.png\\') no-repeat center; width: 16px;padding: 10px;background-size: 16px 16px;\"></td>\\n<td class=\"bitcoinName\"><a href=\"/coin/1inch\">\\n<h1><span>1inch</span></h1>\\n</a></td>\\n<td class=\"ticker\">\\n<h2>1INCH</h2>\\n</td>\\n <td class=\"number pricekoers lastprice\" data-sort-value=\"0.508903\"><span>$ </span><span class=\"span\"> 0.508903 </span></td>\\n<td class=\"percentage\" data-percentage=\"-0.23\" style=\"color: red\"><span>-0.23%</span></td>\\n<td class=\"number pricekoers highprice mob-hide-col \" data-sort-value=\"0.510418\"><span>$ </span><span class=\"span\">0.510418</span></td>\\n<td class=\"number pricekoers lowprice mob-hide-col \" data-sort-value=\"0.508623\"><span>$ </span><span class=\"span\">0.508623</span></td>\\n<td class=\"graphimagecontainer mob-hide-col \">\\n<div class=\"bitcoin-container mob-hide-col\">\\n<a href=\"/coin/1inch\">\\n<img class=\"graphimage lazy\" data-original=\"https://www.worldcoinindex-acc.nl/data/1inch_usd.png?t=2022122015\" alt=\"1inch\" width=\"178\" height=\"58\" /></a>\\n</div>\\n</td>\\n<td class=\"number pricekoers volume mob-hide-col \" data-sort-value=\"11,589,294\">\\n<a href=\"/coin/1inch\">\\n<span>$ </span><span class=\"span\">\\n11.58M\\n</span>\\n</a>\\n</td>\\n<td class=\"number supply mob-hide-col \" data-sort-value=\"150,913,513\"><span>150.91M</span></td>\\n<td class=\"number pricekoers marketcap mob-hide-col \" data-sort-value=\"76800389\"><span>$ </span><span class=\"span\">76.80M</span> </td>\\n</tr>\\n<tr class=\"zerogoki coinzoeken \" data-naam=\"zerogoki\" data-symbol=\"8200\">\\n<td class=\"rank\"><span>93</span></td>\\n<td class=\"bitcoinLogo Zerogoki _Zerogoki Zerogoki\" style=\"background: url(\\'/Content/img/coins/v-637616839404580055/Zerogoki.png\\') no-repeat center; width: 16px;padding: 10px;background-size: 16px 16px;\"></td>\\n<td class=\"bitcoinName\"><a href=\"/coin/zerogoki\">\\n<h1><span>Zerogoki</span></h1>\\n</a></td>\\n<td class=\"ticker\">\\n<h2>REI</h2>\\n</td>\\n<td class=\"number pricekoers lastprice\" data-sort-value=\"0.025949\"><span>$ </span><span class=\"span\"> 0.025949 </span></td>\\n<td class=\"percentage\" data-percentage=\"-0.15\" style=\"color: red\"><span>-0.15%</span></td>\\n<td class=\"number pricekoers highprice mob-hide-col \" data-sort-value=\"0.026052\"><span>$ </span><span class=\"span\">0.026052</span></td>\\n<td class=\"number pricekoers lowprice mob-hide-col \" data-sort-value=\"0.025875\"><span>$ </span><span class=\"span\">0.025875</span></td>\\n<td class=\"graphimagecontainer mob-hide-col \">\\n<div class=\"bitcoin-container mob-hide-col\">\\n<a href=\"/coin/zerogoki\">\\n<img class=\"graphimage lazy\" data-original=\"https://www.worldcoinindex-acc.nl/data/Zerogoki_usd.png?t=2022122015\" alt=\"zerogoki\" width=\"178\" height=\"58\" /></a>\\n</div>\\n</td>\\n<td class=\"number pricekoers volume mob-hide-col \" data-sort-value=\"11,521,357\">\\n<a href=\"/coin/zerogoki\">\\n<span>$ </span><span class=\"span\">\\n11.52M\\n</span>\\n</a>\\n</td>\\n<td class=\"supply mob-hide-col \" style=\"width: 85px;\"></td>\\n<td class=\"marketcap mob-hide-col \" style=\"width: 95px;\"></td>\\n </tr>\\n<tr class=\"omg-network coinzoeken \" data-naam=\"omg-network\" data-symbol=\"1081\">\\n<td class=\"rank\"><span>94</span></td>\\n<td class=\"bitcoinLogo Omg-network _Omg-network Omg-network\" style=\"background: url(\\'/Content/img/coins/v-636539608160824572/Omg-network.png\\') no-repeat center; width: 16px;padding: 10px;background-size: 16px 16px;\"></td>\\n<td class=\"bitcoinName\"><a href=\"/coin/omg-network\">\\n<h1><span>OMG Network</span></h1>\\n</a></td>\\n<td class=\"ticker\">\\n<h2>OMG</h2>\\n</td>\\n<td class=\"number pricekoers lastprice\" data-sort-value=\"1.20\"><span>$ </span><span class=\"span\"> 1.20 </span></td>\\n<td class=\"percentage\" data-percentage=\"0.16)\" style=\"color: green\"><span>+0.16%</span></td>\\n<td class=\"number pricekoers highprice mob-hide-col \" data-sort-value=\"1.20\"><span>$ </span><span class=\"span\">1.20</span></td>\\n<td class=\"number pricekoers lowprice mob-hide-col \" data-sort-value=\"1.20\"><span>$ </span><span class=\"span\">1.20</span></td>\\n<td class=\"graphimagecontainer mob-hide-col \">\\n<div class=\"bitcoin-container mob-hide-col\">\\n<a href=\"/coin/omg-network\">\\n<img class=\"graphimage lazy\" data-original=\"https://www.worldcoinindex-acc.nl/data/Omg-network_usd.png?t=2022122015\" alt=\"omg-network\" width=\"178\" height=\"58\" /></a>\\n</div>\\n</td>\\n<td class=\"number pricekoers volume mob-hide-col \" data-sort-value=\"11,489,680\">\\n<a href=\"/coin/omg-network\">\\n<span>$ </span><span class=\"span\">\\n11.48M\\n</span>\\n</a>\\n</td>\\n<td class=\"number supply mob-hide-col \" data-sort-value=\"140,245,398\"><span>140.24M</span></td>\\n<td class=\"number pricekoers marketcap mob-hide-col \" data-sort-value=\"168701303\"><span>$ </span><span class=\"span\">168.70M</span> </td>\\n</tr>\\n<tr class=\"ethereum-name-service coinzoeken \" data-naam=\"ethereum-name-service\" data-symbol=\"10588\">\\n<td class=\"rank\"><span>95</span></td>\\n<td class=\"bitcoinLogo Ethereum-name-service _Ethereum-name-service Ethereum-name-service\" style=\"background: url(\\'/Content/img/coins/v-637716218896424612/Ethereum-name-service.png\\') no-repeat center; width: 16px;padding: 10px;background-size: 16px 16px;\"></td>\\n<td class=\"bitcoinName\"><a href=\"/coin/ethereum-name-service\">\\n<h1><span>Ethereum Name Service</span></h1>\\n</a></td>\\n<td class=\"ticker\">\\n<h2>ENS</h2>\\n</td>\\n<td class=\"number pricekoers lastprice\" data-sort-value=\"14.06\"><span>$ </span><span class=\"span\"> 14.06 </span></td>\\n<td class=\"percentage\" data-percentage=\"-0.27\" style=\"color: red\"><span>-0.27%</span></td>\\n<td class=\"number pricekoers highprice mob-hide-col \" data-sort-value=\"14.13\"><span>$ </span><span class=\"span\">14.13</span></td>\\n<td class=\"number pricekoers lowprice mob-hide-col \" data-sort-value=\"14.04\"><span>$ </span><span class=\"span\">14.04</span></td>\\n<td class=\"graphimagecontainer mob-hide-col \">\\n<div class=\"bitcoin-container mob-hide-col\">\\n<a href=\"/coin/ethereum-name-service\">\\n<img class=\"graphimage lazy\" data-original=\"https://www.worldcoinindex-acc.nl/data/Ethereum-name-service_usd.png?t=2022122015\" alt=\"ethereum-name-service\" width=\"178\" height=\"58\" /></a>\\n</div>\\n</td>\\n<td class=\"number pricekoers volume mob-hide-col \" data-sort-value=\"11,435,304\">\\n<a href=\"/coin/ethereum-name-service\">\\n<span>$ </span><span class=\"span\">\\n11.43M\\n</span>\\n</a>\\n</td>\\n<td class=\"supply mob-hide-col \" style=\"width: 85px;\"></td>\\n<td class=\"marketcap mob-hide-col \" style=\"width: 95px;\"></td>\\n</tr>\\n<tr class=\"thetatoken coinzoeken \" data-naam=\"thetatoken\" data-symbol=\"1482\">\\n<td class=\"rank\"><span>96</span></td>\\n<td class=\"bitcoinLogo Thetatoken _Thetatoken Thetatoken\" style=\"background: url(\\'/Content/img/coins/v-636518259605417408/Thetatoken.png\\') no-repeat center; width: 16px;padding: 10px;background-size: 16px 16px;\"></td>\\n<td class=\"bitcoinName\"><a href=\"/coin/thetatoken\">\\n<h1><span>Thetatoken</span></h1>\\n</a></td>\\n<td class=\"ticker\">\\n<h2>THETA</h2>\\n</td>\\n<td class=\"number pricekoers lastprice\" data-sort-value=\"0.921525\"><span>$ </span><span class=\"span\"> 0.921525 </span></td>\\n<td class=\"percentage\" data-percentage=\"-0.24\" style=\"color: red\"><span>-0.24%</span></td>\\n<td class=\"number pricekoers highprice mob-hide-col \" data-sort-value=\"0.923781\"><span>$ </span><span class=\"span\">0.923781</span></td>\\n<td class=\"number pricekoers lowprice mob-hide-col \" data-sort-value=\"0.919552\"><span>$ </span><span class=\"span\">0.919552</span></td>\\n<td class=\"graphimagecontainer mob-hide-col \">\\n<div class=\"bitcoin-container mob-hide-col\">\\n<a href=\"/coin/thetatoken\">\\n<img class=\"graphimage lazy\" data-original=\"https://www.worldcoinindex-acc.nl/data/Thetatoken_usd.png?t=2022122015\" alt=\"thetatoken\" width=\"178\" height=\"58\" /></a>\\n</div>\\n</td>\\n<td class=\"number pricekoers volume mob-hide-col \" data-sort-value=\"11,253,799\">\\n<a href=\"/coin/thetatoken\">\\n<span>$ </span><span class=\"span\">\\n11.25M\\n</span>\\n</a>\\n</td>\\n<td class=\"number supply mob-hide-col \" data-sort-value=\"870,502,690\"><span>870.50M</span></td>\\n<td class=\"number pricekoers marketcap mob-hide-col \" data-sort-value=\"802189952\"><span>$ </span><span class=\"span\">802.18M</span> </td>\\n</tr>\\n<tr class=\"wink coinzoeken \" data-naam=\"wink\" data-symbol=\"3545\">\\n<td class=\"rank\"><span>97</span></td>\\n<td class=\"bitcoinLogo Wink _Wink Wink\" style=\"background: url(\\'/Content/img/coins/v-637006992450457611/Wink.png\\') no-repeat center; width: 16px;padding: 10px;background-size: 16px 16px;\"></td>\\n<td class=\"bitcoinName\"><a href=\"/coin/wink\">\\n<h1><span>Wink</span></h1>\\n</a></td>\\n<td class=\"ticker\">\\n<h2>WIN</h2>\\n</td>\\n<td class=\"number pricekoers lastprice\" data-sort-value=\"0.000090\"><span>$ </span><span class=\"span\"> 0.000090 </span></td>\\n<td class=\"percentage\" data-percentage=\"0.03)\" style=\"color: green\"><span>+0.03%</span></td>\\n<td class=\"number pricekoers highprice mob-hide-col \" data-sort-value=\"0.000090\"><span>$ </span><span class=\"span\">0.000090</span></td>\\n<td class=\"number pricekoers lowprice mob-hide-col \" data-sort-value=\"0.000090\"><span>$ </span><span class=\"span\">0.000090</span></td>\\n<td class=\"graphimagecontainer mob-hide-col \">\\n<div class=\"bitcoin-container mob-hide-col\">\\n<a href=\"/coin/wink\">\\n<img class=\"graphimage lazy\" data-original=\"https://www.worldcoinindex-acc.nl/data/Wink_usd.png?t=2022122015\" alt=\"wink\" width=\"178\" height=\"58\" /></a>\\n</div>\\n</td>\\n<td class=\"number pricekoers volume mob-hide-col \" data-sort-value=\"10,997,600\">\\n<a href=\"/coin/wink\">\\n<span>$ </span><span class=\"span\">\\n10.99M\\n</span>\\n</a>\\n</td>\\n<td class=\"number supply mob-hide-col \" data-sort-value=\"313,607,571,387\"><span>313.60B</span></td>\\n<td class=\"number pricekoers marketcap mob-hide-col \" data-sort-value=\"28218882\"><span>$ </span><span class=\"span\">28.21M</span> </td>\\n</tr>\\n<tr class=\"safepal coinzoeken \" data-naam=\"safepal\" data-symbol=\"5518\">\\n<td class=\"rank\"><span>98</span></td>\\n<td class=\"bitcoinLogo Safepal _Safepal Safepal\" style=\"background: url(\\'/Content/img/coins/v-637484970012801837/Safepal.png\\') no-repeat center; width: 16px;padding: 10px;background-size: 16px 16px;\"></td>\\n<td class=\"bitcoinName\"><a href=\"/coin/safepal\">\\n<h1><span>SafePal</span></h1>\\n</a></td>\\n<td class=\"ticker\">\\n<h2>SFP</h2>\\n</td>\\n<td class=\"number pricekoers lastprice\" data-sort-value=\"0.452271\"><span>$ </span><span class=\"span\"> 0.452271 </span></td>\\n<td class=\"percentage\" data-percentage=\"0.13)\" style=\"color: green\"><span>+0.13%</span></td>\\n<td class=\"number pricekoers highprice mob-hide-col \" data-sort-value=\"0.453094\"><span>$ </span><span class=\"span\">0.453094</span></td>\\n<td class=\"number pricekoers lowprice mob-hide-col \" data-sort-value=\"0.446463\"><span>$ </span><span class=\"span\">0.446463</span></td>\\n<td class=\"graphimagecontainer mob-hide-col \">\\n<div class=\"bitcoin-container mob-hide-col\">\\n<a href=\"/coin/safepal\">\\n<img class=\"graphimage lazy\" data-original=\"https://www.worldcoinindex-acc.nl/data/Safepal_usd.png?t=2022122015\" alt=\"safepal\" width=\"178\" height=\"58\" /></a>\\n</div>\\n</td>\\n<td class=\"number pricekoers volume mob-hide-col \" data-sort-value=\"10,952,119\">\\n<a href=\"/coin/safepal\">\\n<span>$ </span><span class=\"span\">\\n10.95M\\n</span>\\n</a>\\n</td>\\n<td class=\"supply mob-hide-col \" style=\"width: 85px;\"></td>\\n<td class=\"marketcap mob-hide-col \" style=\"width: 95px;\"></td>\\n</tr>\\n<tr class=\"kava coinzoeken \" data-naam=\"kava\" data-symbol=\"3716\">\\n<td class=\"rank\"><span>99</span></td>\\n<td class=\"bitcoinLogo Kava _Kava Kava\" style=\"background: url(\\'/Content/img/coins/v-637078563086444290/Kava.png\\') no-repeat center; width: 16px;padding: 10px;background-size: 16px 16px;\"></td>\\n<td class=\"bitcoinName\"><a href=\"/coin/kava\">\\n<h1><span>Kava</span></h1>\\n</a></td>\\n<td class=\"ticker\">\\n<h2>KAVA</h2>\\n</td>\\n<td class=\"number pricekoers lastprice\" data-sort-value=\"0.903137\"><span>$ </span><span class=\"span\"> 0.903137 </span></td>\\n<td class=\"percentage\" data-percentage=\"-0.22\" style=\"color: red\"><span>-0.22%</span></td>\\n<td class=\"number pricekoers highprice mob-hide-col \" data-sort-value=\"0.905085\"><span>$ </span><span class=\"span\">0.905085</span></td>\\n<td class=\"number pricekoers lowprice mob-hide-col \" data-sort-value=\"0.900870\"><span>$ </span><span class=\"span\">0.900870</span></td>\\n<td class=\"graphimagecontainer mob-hide-col \">\\n<div class=\"bitcoin-container mob-hide-col\">\\n<a href=\"/coin/kava\">\\n<img class=\"graphimage lazy\" data-original=\"https://www.worldcoinindex-acc.nl/data/Kava_usd.png?t=2022122015\" alt=\"kava\" width=\"178\" height=\"58\" /></a>\\n</div>\\n</td>\\n<td class=\"number pricekoers volume mob-hide-col \" data-sort-value=\"10,777,542\">\\n<a href=\"/coin/kava\">\\n<span>$ </span><span class=\"span\">\\n10.77M\\n</span>\\n</a>\\n</td>\\n<td class=\"number supply mob-hide-col \" data-sort-value=\"81,443,000\"><span>81.44M</span></td>\\n<td class=\"number pricekoers marketcap mob-hide-col \" data-sort-value=\"73554169\"><span>$ </span><span class=\"span\">73.55M</span> </td>\\n</tr>\\n<tr class=\"stpt coinzoeken \" data-naam=\"stpt\" data-symbol=\"3460\">\\n<td class=\"rank\"><span>100</span></td>\\n<td class=\"bitcoinLogo Stpt _Stpt Stpt\" style=\"background: url(\\'/Content/img/coins/v-636960187335647752/Stpt.png\\') no-repeat center; width: 16px;padding: 10px;background-size: 16px 16px;\"></td>\\n<td class=\"bitcoinName\"><a href=\"/coin/stpt\">\\n<h1><span>Stpt</span></h1>\\n</a></td>\\n<td class=\"ticker\">\\n<h2>STPT</h2>\\n</td>\\n<td class=\"number pricekoers lastprice\" data-sort-value=\"0.032483\"><span>$ </span><span class=\"span\"> 0.032483 </span></td>\\n<td class=\"percentage\" data-percentage=\"1.65)\" style=\"color: green\"><span>+1.65%</span></td>\\n<td class=\"number pricekoers highprice mob-hide-col \" data-sort-value=\"0.033256\"><span>$ </span><span class=\"span\">0.033256</span></td>\\n<td class=\"number pricekoers lowprice mob-hide-col \" data-sort-value=\"0.031883\"><span>$ </span><span class=\"span\">0.031883</span></td>\\n<td class=\"graphimagecontainer mob-hide-col \">\\n<div class=\"bitcoin-container mob-hide-col\">\\n<a href=\"/coin/stpt\">\\n<img class=\"graphimage lazy\" data-original=\"https://www.worldcoinindex-acc.nl/data/Stpt_usd.png?t=2022122015\" alt=\"stpt\" width=\"178\" height=\"58\" /></a>\\n</div>\\n</td>\\n<td class=\"number pricekoers volume mob-hide-col \" data-sort-value=\"10,652,780\">\\n<a href=\"/coin/stpt\">\\n<span>$ </span><span class=\"span\">\\n10.65M\\n</span>\\n</a>\\n</td>\\n<td class=\"supply mob-hide-col \" style=\"width: 85px;\"></td>\\n<td class=\"marketcap mob-hide-col \" style=\"width: 95px;\"></td>\\n</tr>\\n</tbody>\\n</table>\\n</div>\\n<div>\\n<a href=\"/2\" class=\"btn btn-default pull-right\" style=\"margin-top: -10px; \">Next 100 →</a>\\n</div>\\n</div>\\n<div class=\"variable-width\" style=\"margin-top:10px;\">\\n<div class=\"wrapper-footer\">\\n\\n<div id=\\'div-gpt-ad-1589106303720-0\\'>\\n<script defer>\\r\\n\\t\\tgoogletag.cmd.push(function() { googletag.display(\\'div-gpt-ad-1589106303720-0\\'); });\\r\\n\\t  </script>\\n</div>\\n</div>\\n</div>\\n</div>\\n<div class=\"wci-footer coin-zoom\">\\n<footer class=\"container wci-footer-container\">\\n<div class=\"wci-row\">\\n<div class=\"fusion-columns-4 fusion-widget-area\">\\n<div class=\"col-lg-3 col-md-3 col-sm-3\">\\n<div id=\"text-5\" class=\"widget_text\">\\n<div class=\"textwidget\">\\n<p class=\"footer-sub-header\">Guides</p>\\n<ul style=\"list-style: none;\">\\n<li><a href=\"/information/what-is-bitcoin\">What is Bitcoin</a></li>\\n<li><a href=\"/information/how-to-buy-bitcoin\">How to buy Bitcoin</a></li>\\n<li><a href=\"/information/what-is-ethereum\">What is Ethereum</a></li>\\n<li><a href=\"/information/what-is-litecoin\">What is Litecoin</a></li>\\n<li><a href=\"/information/how-to-buy-cryptocurrency\">How to buy Cryptocurrency</a></li>\\n</ul>\\n</div>\\n<div style=\"clear: both;\"></div>\\n</div>\\n</div>\\n<div class=\"col-lg-3 col-md-3 col-sm-3\">\\n<div id=\"text-6\" class=\"widget_text\">\\n<div class=\"textwidget\">\\n<p class=\"footer-sub-header\">Tools</p>\\n<ul style=\"list-style: none;\">\\n<li>\\n<div class=\"dropdown-lang\">\\n<button class=\"dropbtn\">English <span class=\"fa fa-chevron-down\"></span></button>\\n<div class=\"dropdown-content-lang\">\\n<a href=\"/id\">Bahasa Indonesia</a>\\n<a href=\"/ms\">Bahasa Melayu</a>\\n<a href=\"/da\">Dansk</a>\\n<a href=\"/de\">Deutsch</a>\\n<a href=\"/es\">Espa&#241;ol</a>\\n<a href=\"/ph\">Filipino</a>\\n<a href=\"/fr\">Fran&#231;ais</a>\\n<a href=\"/it\">Italiano</a>\\n<a href=\"/hu\">Magyar</a>\\n<a href=\"/nl\">Nederlands</a>\\n<a href=\"/no\">Norsk</a>\\n<a href=\"/pl\">Polski</a>\\n <a href=\"/pt\">Portugu&#234;s</a>\\n<a href=\"/ro\">Rom&#226;nă</a>\\n<a href=\"/sl\">Slovenščina</a>\\n<a href=\"/fi\">Suomi</a>\\n<a href=\"/sw\">Svenska</a>\\n<a href=\"/vi\">Tiếng</a>\\n<a href=\"/tr\">T&#252;rk&#231;e</a>\\n<a href=\"/el\">Ελληνικά</a>\\n<a href=\"/bg\">български език</a>\\n<a href=\"/ru\">Русский</a>\\n<a href=\"/ar\">العربية</a>\\n<a href=\"/hi\">हिन्दी</a>\\n<a href=\"/bn\">বাংলা</a>\\n<a href=\"/th\">ภาษาไทย</a>\\n<a href=\"/ko\">한국어</a>\\n<a href=\"/zh\">中文(简体)</a>\\n<a href=\"/ja\">日本語</a>\\n</div>\\n</div>\\n</li>\\n<li><a href=\"/yeartoyear\">Year to year</a></li>\\n<li><a href=\"/widget\">Widgets</a></li>\\n<li><a href=\"/apiservice\">API</a></li>\\n<li>&nbsp;</li>\\n<li>&nbsp;</li>\\n<li>&nbsp;</li>\\n</ul>\\n</div>\\n<div style=\"clear: both;\"></div>\\n</div>\\n</div>\\n<div class=\"col-lg-3 col-md-3 col-sm-3\">\\n<div id=\"text-7\" class=\"widget_text\">\\n<div class=\"textwidget\">\\n<p class=\"footer-sub-header\">Company</p>\\n<ul style=\"list-style: none;\">\\n<li><a href=\"/aboutus\">About us</a></li>\\n<li><a href=\"/coinrequest\">Coin request</a></li>\\n<li><a href=\"/exchangerequest\">Exchange request</a></li>\\n<li><a href=\"/contactus\">Contact us</a></li>\\n<li><a href=\"https://bitcointalk.org/index.php?topic=384546.0\" target=\"_blank\" rel=\"nofollow\">Forum</a></li>\\n</ul>\\n</div>\\n<div style=\"clear: both;\"></div>\\n</div>\\n</div>\\n<div class=\"col-lg-3 col-md-3 col-sm-3\">\\n<div id=\"text-8\" class=\"widget_text\">\\n<div class=\"textwidget\">\\n<p class=\"footer-sub-header\">Follow us</p>\\n<ul style=\"list-style: none;\">\\n<li><a href=\"https://www.facebook.com/worldcoinindex\" target=\"_blank\" class=\"button__facebook\">Facebook</a></li>\\n<li><a href=\"https://twitter.com/WorldCoinIndex\" target=\"_blank\" class=\"button__twitter\">Twitter</a></li>\\n</ul>\\n</div>\\n<div style=\"clear: both;\"></div>\\n</div>\\n </div>\\n<div class=\"fusion-clearfix\"></div>\\n</div>\\n</div>\\n</footer>\\n<footer class=\"wci-footer-copyright-area-container\">\\n<div class=\"wci-row container\">\\n<div class=\"wci-copyright-content\">\\n<div class=\"wci-copyright-notice\">\\n<div class=\"col-lg-12 col-md-12 col-sm-12\">© 2022 WorldCoinIndex &nbsp;&nbsp;&nbsp;|&nbsp;&nbsp;&nbsp; <a href=\"/disclaimer\">Disclaimer</a>&nbsp;&nbsp;&nbsp;|&nbsp;&nbsp;&nbsp;<a href=\"/privacy-policy\">Privacy policy</a>&nbsp;&nbsp;&nbsp;|&nbsp;&nbsp;&nbsp;<a href=\"/terms-of-use\">Terms of use</a></div>\\n</div>\\n</div>\\n</div>\\n</footer>\\n</div>\\n<div id=\"wrapfabtest\">\\n<div class=\"adBanner\">\\n&nbsp;\\n</div>\\n</div>\\n<script src=\"/content/js/v-636328874633125234/jquery.min.js\" type=\"text/javascript\"></script>\\n<script>\\r\\nif($(\"#wrapfabtest\").height() > 0) {\\r\\n        $(\\'#wrapfabtest\\').remove()\\r\\n\\r\\n    } else {\\r\\n       $(\\'.wrapper2\\').css(\\'position\\', \\'relative\\').css(\\'top\\', 0);\\r\\n\\t   $(\\'#wrapfabtest\\').remove()\\r\\n\\r\\n    }</script>\\n<script src=\"/Content/js/v-637418228867587281/wcicombined.js\" type=\"text/javascript\"></script>\\n<script src=\"/bundles/jquery\"></script>\\n<script src=\"/Content/js/v-637451276441998237/worldcoinindex.min.js\" type=\"text/javascript\"></script>\\n<script type=\"text/javascript\">\\r\\n        $(function () {\\r\\n            var koers = \"usd\";\\r\\n\\r\\n            Worldcoinindex.NavBar(koers);\\r\\n\\r\\n                scroller.init(100);\\r\\n        });\\r\\n    </script>\\n<script src=\"/Scripts/v-636328874659018870/jquery.color-2.1.2.min.js\" type=\"text/javascript\"></script>\\n<script src=\"/Scripts/v-636328874659518863/jquery.signalR-2.2.0.js\" type=\"text/javascript\"></script>\\n<script src=\"/signalr/hubs\" type=\"text/javascript\"></script>\\n<script src=\"/Scripts/v-637425839331328299/TopbarStockTickerNew1.min.js\" type=\"text/javascript\"></script>\\n<script src=\"/Scripts/v-637158889113360687/StockTickerMain2.min.js\" type=\"text/javascript\"></script>\\n<script src=\"/content/portfolio/js/v-636810315823200496/common.js\" type=\"text/javascript\"></script>\\n<script src=\"/Content/js/v-636328874633385752/jquery.tablesorter.staticrow.min.js\" type=\"text/javascript\"></script>\\n<script src=\"/content/js/v-636518817803132175/jquery.toggler.js\" type=\"text/javascript\"></script>\\n<script type=\"text/javascript\">\\r\\n\\r\\n        $(document).ready(function () {\\r\\n            var koers = \"USD\";\\r\\n         \\r\\n            $(\"#myTable\").tablesorter({\\r\\n                sortList: [[1, 1]],\\r\\n                widgets: [\\'staticRow\\'],\\r\\n                sortRestart: true,\\r\\n                textExtraction: function (node) {\\r\\n                    var attr = $(node).attr(\\'data-sort-value\\');\\r\\n                    if (typeof attr !== \\'undefined\\' && attr !== false) {\\r\\n                        return attr;\\r\\n                    }\\r\\n                    return $(node).text();\\r\\n                }\\r\\n            });\\r\\n\\r\\n            $(\\'.livestreamOn\\').click(function () {\\r\\n                var item = $(this).data(\"switch\");\\r\\n                $.post(\"/home/SetLiveStream\", { livestream: item }, function (e) {\\r\\n                    location.reload();\\r\\n                });\\r\\n            });\\r\\n            $(\\'#close-format-options\\').click(function () {\\r\\n                var item = $(\\'.simpleAdvanced3-container .ui-stoggle\\').hasClass(\\'on\\');\\r\\n                if (item) {\\r\\n                    item = \"True\";\\r\\n                }\\r\\n                $.post(\"/common/setabbreviation\", { abbreviation: item }, function (e) {\\r\\n                    location.reload();\\r\\n                });\\r\\n            });\\r\\n            $(\\'#close-layout-options\\').click(function () {\\r\\n                var layout1 = $(\\'.layout1-container .ui-stoggle\\').hasClass(\\'on\\');\\r\\n                var layout2 = $(\\'.layout2-container .ui-stoggle\\').hasClass(\\'on\\');\\r\\n                var layout3 = $(\\'.layout3-container .ui-stoggle\\').hasClass(\\'on\\');\\r\\n                var layout4 = $(\\'.layout4-container .ui-stoggle\\').hasClass(\\'on\\');\\r\\n                var layout5 = $(\\'.layout5-container .ui-stoggle\\').hasClass(\\'on\\');\\r\\n                var layout6 = $(\\'.layout6-container .ui-stoggle\\').hasClass(\\'on\\');\\r\\n                $.post(\"/common/setlayout\", { high: layout1, low: layout2, chart: layout3, volume: layout4, coins: layout5, marketcap: layout6 }, function (e) {\\r\\n                    location.reload();\\r\\n                });\\r\\n            });\\r\\n            $(\\'#simpleAdvanced3\\').checkToggler({ labelOn: \\'\\', labelOff: \\'\\' });\\r\\n            SetToggle(\"simpleAdvanced3\", \\'false\\');\\r\\n            $(\\'#layout1\\').checkToggler({ labelOn: \\'\\', labelOff: \\'\\' });\\r\\n            $(\\'#layout2\\').checkToggler({ labelOn: \\'\\', labelOff: \\'\\' });\\r\\n            $(\\'#layout3\\').checkToggler({ labelOn: \\'\\', labelOff: \\'\\' });\\r\\n            $(\\'#layout4\\').checkToggler({ labelOn: \\'\\', labelOff: \\'\\' });\\r\\n            $(\\'#layout5\\').checkToggler({ labelOn: \\'\\', labelOff: \\'\\' });\\r\\n            $(\\'#layout6\\').checkToggler({ labelOn: \\'\\', labelOff: \\'\\' });\\r\\n            SetToggle(\"layout1\", \\'True\\');\\r\\n            SetToggle(\"layout2\", \\'True\\');\\r\\n            SetToggle(\"layout3\", \\'True\\');\\r\\n            SetToggle(\"layout4\", \\'True\\');\\r\\n            SetToggle(\"layout5\", \\'True\\');\\r\\n            SetToggle(\"layout6\", \\'True\\');\\r\\n\\r\\n            $(\"#myTable\").bind(\"sortStart\", function (e, table) {\\r\\n                $(\".lazy\").trigger(\\'appear\\');\\r\\n                $(\\'#myTable\\').unbind(\"sortStart\");\\r\\n            });\\r\\n\\r\\n\\r\\n            $(\\'#close-filter-options\\').click(function () {\\r\\n                var priceoption = $(\\'.add-price-option\\').val();\\r\\n                var volumeoption = $(\\'.add-volume-option\\').val();\\r\\n                var mcapoption = $(\\'.add-marketcap-option\\').val();\\r\\n                var url = \\'\\' + \"?\";\\r\\n                    url = \\'/?\\';\\r\\n                if (priceoption) {\\r\\n                    url = url += \"optionprice=\" + priceoption;\\r\\n                }\\r\\n                if (volumeoption) {\\r\\n                    if (url.indexOf(\"optionprice\") == 1) {\\r\\n                        url += \"&\";\\r\\n                    }\\r\\n                    url += \"optionvolume=\" + volumeoption;\\r\\n                }\\r\\n                if (mcapoption) {\\r\\n                    if (url.indexOf(\"optionprice\") == 1 || url.indexOf(\"optionvolume\") == 1) {\\r\\n                        url += \"&\";\\r\\n                    }\\r\\n                    url += \"optionmcap=\" + mcapoption;\\r\\n                }\\r\\n                location.href = url;\\r\\n            });\\r\\n\\r\\n            function SetToggle(item, on) {\\r\\n                if (on == \"True\") {\\r\\n                    $(\\'.\\' + item + \\'-container .ui-stoggle\\').addClass(\"on\").removeClass(\"off\");\\r\\n                    $(\\'#\\' + item).prop(\\'checked\\', true);\\r\\n                }\\r\\n                else {\\r\\n                    $(\\'.\\' + item + \\'-container .ui-stoggle\\').addClass(\"off\").removeClass(\"on\");\\r\\n                    $(\\'#\\' + item).prop(\\'checked\\', false);\\r\\n                }\\r\\n            }\\r\\n        });\\r\\n    </script>\\n<script src=\"/Content/js/v-636328874632875243/jquery.lazyload.min.js\" type=\"text/javascript\"></script>\\n<script>\\r\\n        $(function () {\\r\\n            $(\\'body\\').on(\\'click\\', \\'.setThemeLights\\', function () {\\r\\n                $(\"body\").toggleClass(\"lights\");\\r\\n                if ($(\"body\").hasClass(\"lights\")) {\\r\\n                    $(\".show-nav-mobile .setThemeLights\").html(\"Light mode\");\\r\\n                } else {\\r\\n                    $(\".show-nav-mobile .setThemeLights\").html(\"Dark mode\");\\r\\n                }\\r\\n                $.post(\"/common/setlightson\", { lightsOn: $(\\'body\\').hasClass(\\'lights\\') }, function (data) {\\r\\n\\r\\n                });\\r\\n            });\\r\\n\\r\\n            $(\".lazy\").lazyload({\\r\\n                threshold: 200,\\r\\n            });\\r\\n\\r\\n            var wrapper = $(\\'.top-banner-wrapper\\');\\r\\n            $(\".top-banner-close\").on(\\'click\\', function () {\\r\\n                $(\"body\").toggleClass(\"top-hidden\");\\r\\n                $.post(\"/common/hidetopbanner\", {}, function (e) {\\r\\n\\r\\n                });\\r\\n                $(\\'.top-banner-wrapper\\').remove();\\r\\n            });\\r\\n            $(\".bottom-close-btn\").on(\\'click\\', function () {\\r\\n                $.post(\"/common/hidebottombanner\", {}, function (e) {\\r\\n                });\\r\\n                $(\\'.bottom-container-container\\').remove();\\r\\n            });\\r\\n           $(\\'.zoeken.input-sm.tt-query\\').on(\\'keyup\\', function (e) {\\r\\n                if (e.keyCode == 13) {\\r\\n                    var coin = $(\\'.navbar-form-custom .tt-dropdown-menu .tt-suggestions\\').find(\\'.tt-suggestion:first\\').find(\\'a\\').data(\\'name\\');\\r\\n\\t\\t\\t\\t\\tif(typeof coin == \\'undefined\\')\\r\\n\\t\\t\\t\\t\\t{\\r\\n\\t\\t\\t\\t\\t\\tcoin = $(this).val();\\r\\n\\t\\t\\t\\t\\t}\\r\\n\\t\\t\\t\\t\\twindow.location = \\'\\' + \\'/\\' + $(\\'#cointrans\\').val() + \\'/\\' + coin.toLowerCase();\\r\\n\\r\\n                }\\r\\n            });\\r\\n            $(document).on(\\'click touchstart\\', \\'.setclang\\', function () {\\r\\n                $(this).hide();\\r\\n                $.post(\"/common/setlanguage\", {\\r\\n                    code: $(this).data(\\'clang\\')\\r\\n                }, function () {\\r\\n                    window.location.reload();\\r\\n                });\\r\\n            });\\r\\n        });\\r\\n    </script>\\n<script defer src=\"https://coinzillatag.com/lib/sticky.js\"></script>\\n<script defer>window.coinzilla_sticky = window.coinzilla_sticky || [];function czilla(){coinzilla_sticky.push(arguments);}czilla(\\'2545d1511074f3c3865\\');</script>\\n<script defer type=\"text/javascript\">(function(){var bsa_optimize=document.createElement(\\'script\\');bsa_optimize.type=\\'text/javascript\\';bsa_optimize.async=true;bsa_optimize.src=\\'https://cdn-s2s.buysellads.net/pub/worldcoinindex.js?\\'+(new Date()-new Date()%600000);(document.getElementsByTagName(\\'head\\')[0]||document.getElementsByTagName(\\'body\\')[0]).appendChild(bsa_optimize);})();</script>\\n<script src=\"//m.servedby-buysellads.com/monetization.js\" type=\"text/javascript\"></script>\\n<script>\\r\\n                (function(){\\r\\n                $(window).load(function() {\\r\\n                    if(typeof _bsa !== \\'undefined\\' && _bsa) {\\r\\n                        _bsa.init(\\'fancybar\\', \\'CKYDKKQL\\', \\'placement:worldcoinindex\\');\\r\\n                    }\\r\\n\\t                });\\r\\n                })();\\r\\n        </script>\\n<link rel=\"stylesheet\" type=\"text/css\" href=\"/content/css/jquery-eu-cookie-law-popup.css?v=1\" />\\n<div class=\"eupopup eupopup-container eupopup-container-block\" style=\";position: fixed;bottom: -2px;z-index: 1000000000;width:100%;background-color:#edeff5;padding:10px;font-family: \\'Helvetica Neue\\', Helvetica, Arial, sans-serif;\">\\n<div class=\"eupopup-markup\">\\n<div class=\"eupopup-body \" style=\"float:left; font-size:12px;margin-top: 15px;margin-left:30px\">We use cookies for analytics, advertising and to improve our site. To find out more about our cookies, see our Privacy Policy. If you agree to our use of cookies, please continue to use our site or press the accept button. <a style=\"color:#9899a5;text-decoration:underline;\" href=\"https://www.worldcoinindex.com/privacy-policy\" rel=\"noopener noreferrer nofollow\" target=\"_blank\">Learn more</a></div>\\n<div class=\"eupopup-buttons\" style=\"float:right;\">\\n<a href=\"#\" class=\"eupopup-button eupopup-button_1\" style=\"padding: .4em .8em;color: rgb(255, 255, 255);background-color: rgb(75, 129, 232);border-color: transparent;display: block;padding: .4em .8em;font-size: 14px;font-weight: 700;border-width: 2px;border-style: solid;text-align: center;white-space: nowrap;\">Accept</a>\\n</div>\\n<div class=\"clearfix\"></div>\\n</div>\\n</div>\\n<script src=\"/content/js/jquery-eu-cookie-law-popup.js\"></script>\\n<script defer src=\"https://static.cloudflareinsights.com/beacon.min.js/vaafb692b2aea4879b33c060e79fe94621666317369993\" integrity=\"sha512-0ahDYl866UMhKuYcW078ScMalXqtFJggm7TmlUtp0UlD4eQk0Ixfnm5ykXKvGJNFjLMoortdseTfsRT8oCfgGA==\" data-cf-beacon=\\'{\"rayId\":\"772fe6b30ea35467\",\"token\":\"1051eeb9134b4988995b714310ee57e2\",\"version\":\"2022.11.3\",\"si\":100}\\' crossorigin=\"anonymous\"></script>\\n</body>\\n</html>'"
      ]
     },
     "execution_count": 75,
     "metadata": {},
     "output_type": "execute_result"
    }
   ],
   "source": [
    "body = crypto_url.text\n",
    "body"
   ]
  },
  {
   "cell_type": "markdown",
   "metadata": {},
   "source": [
    "The `body` consists of full HTML source code of our webpage. Now if the HTML source has a table which is marked by the HTML tag `<table> </table>`, Pandas uses `read_html()` to extract the table from the HTML document."
   ]
  },
  {
   "cell_type": "code",
   "execution_count": 76,
   "metadata": {},
   "outputs": [
    {
     "name": "stdout",
     "output_type": "stream",
     "text": [
      "<class 'list'>\n",
      "1\n"
     ]
    }
   ],
   "source": [
    "crypto_data = pd.read_html(body)\n",
    "print(type(crypto_data))\n",
    "print(len(crypto_data))"
   ]
  },
  {
   "cell_type": "markdown",
   "metadata": {},
   "source": [
    "Whenever an HTML is passed to Pandas, it will output a nice looking DataFrame as long as there is a table in it."
   ]
  },
  {
   "cell_type": "code",
   "execution_count": 77,
   "metadata": {},
   "outputs": [
    {
     "data": {
      "text/html": [
       "<div>\n",
       "<style scoped>\n",
       "    .dataframe tbody tr th:only-of-type {\n",
       "        vertical-align: middle;\n",
       "    }\n",
       "\n",
       "    .dataframe tbody tr th {\n",
       "        vertical-align: top;\n",
       "    }\n",
       "\n",
       "    .dataframe thead th {\n",
       "        text-align: right;\n",
       "    }\n",
       "</style>\n",
       "<table border=\"1\" class=\"dataframe\">\n",
       "  <thead>\n",
       "    <tr style=\"text-align: right;\">\n",
       "      <th></th>\n",
       "      <th>#</th>\n",
       "      <th>Unnamed: 1</th>\n",
       "      <th>Name</th>\n",
       "      <th>Ticker</th>\n",
       "      <th>Last price</th>\n",
       "      <th>%</th>\n",
       "      <th>24 high</th>\n",
       "      <th>24 low</th>\n",
       "      <th>Price Charts 7d</th>\n",
       "      <th>24 volume</th>\n",
       "      <th># Coins</th>\n",
       "      <th>Market cap</th>\n",
       "    </tr>\n",
       "  </thead>\n",
       "  <tbody>\n",
       "    <tr>\n",
       "      <th>0</th>\n",
       "      <td>1</td>\n",
       "      <td>NaN</td>\n",
       "      <td>Bitcoin</td>\n",
       "      <td>BTC</td>\n",
       "      <td>$ 16,974</td>\n",
       "      <td>-0.02%</td>\n",
       "      <td>$ 16,981</td>\n",
       "      <td>$ 16,958</td>\n",
       "      <td>NaN</td>\n",
       "      <td>$ 6.58B</td>\n",
       "      <td>19.22M</td>\n",
       "      <td>$ 326.27B</td>\n",
       "    </tr>\n",
       "    <tr>\n",
       "      <th>1</th>\n",
       "      <td>2</td>\n",
       "      <td>NaN</td>\n",
       "      <td>Ethereum</td>\n",
       "      <td>ETH</td>\n",
       "      <td>$ 1,275.20</td>\n",
       "      <td>-0.05%</td>\n",
       "      <td>$ 1,276.07</td>\n",
       "      <td>$ 1,273.93</td>\n",
       "      <td>NaN</td>\n",
       "      <td>$ 2.85B</td>\n",
       "      <td>122.37M</td>\n",
       "      <td>$ 156.05B</td>\n",
       "    </tr>\n",
       "    <tr>\n",
       "      <th>2</th>\n",
       "      <td>3</td>\n",
       "      <td>NaN</td>\n",
       "      <td>Binanceusd</td>\n",
       "      <td>BUSD</td>\n",
       "      <td>$ 0.999923</td>\n",
       "      <td>-0.02%</td>\n",
       "      <td>$ 1.00</td>\n",
       "      <td>$ 0.999790</td>\n",
       "      <td>NaN</td>\n",
       "      <td>$ 895.65M</td>\n",
       "      <td>1.68B</td>\n",
       "      <td>$ 1.68B</td>\n",
       "    </tr>\n",
       "    <tr>\n",
       "      <th>3</th>\n",
       "      <td>4</td>\n",
       "      <td>NaN</td>\n",
       "      <td>Binancecoin</td>\n",
       "      <td>BNB</td>\n",
       "      <td>$ 291.96</td>\n",
       "      <td>0.00%</td>\n",
       "      <td>$ 292.38</td>\n",
       "      <td>$ 291.63</td>\n",
       "      <td>NaN</td>\n",
       "      <td>$ 625.57M</td>\n",
       "      <td>154.53M</td>\n",
       "      <td>$ 45.11B</td>\n",
       "    </tr>\n",
       "    <tr>\n",
       "      <th>4</th>\n",
       "      <td>5</td>\n",
       "      <td>NaN</td>\n",
       "      <td>Dogecoin</td>\n",
       "      <td>DOGE</td>\n",
       "      <td>$ 0.102035</td>\n",
       "      <td>+0.13%</td>\n",
       "      <td>$ 0.102108</td>\n",
       "      <td>$ 0.101303</td>\n",
       "      <td>NaN</td>\n",
       "      <td>$ 606.67M</td>\n",
       "      <td>129.40B</td>\n",
       "      <td>$ 13.20B</td>\n",
       "    </tr>\n",
       "  </tbody>\n",
       "</table>\n",
       "</div>"
      ],
      "text/plain": [
       "   # Unnamed: 1         Name Ticker  Last price       %     24 high  \\\n",
       "0  1        NaN      Bitcoin    BTC    $ 16,974  -0.02%    $ 16,981   \n",
       "1  2        NaN     Ethereum    ETH  $ 1,275.20  -0.05%  $ 1,276.07   \n",
       "2  3        NaN   Binanceusd   BUSD  $ 0.999923  -0.02%      $ 1.00   \n",
       "3  4        NaN  Binancecoin    BNB    $ 291.96   0.00%    $ 292.38   \n",
       "4  5        NaN     Dogecoin   DOGE  $ 0.102035  +0.13%  $ 0.102108   \n",
       "\n",
       "       24 low Price Charts 7d  24 volume  # Coins Market cap  \n",
       "0    $ 16,958             NaN    $ 6.58B   19.22M  $ 326.27B  \n",
       "1  $ 1,273.93             NaN    $ 2.85B  122.37M  $ 156.05B  \n",
       "2  $ 0.999790             NaN  $ 895.65M    1.68B    $ 1.68B  \n",
       "3    $ 291.63             NaN  $ 625.57M  154.53M   $ 45.11B  \n",
       "4  $ 0.101303             NaN  $ 606.67M  129.40B   $ 13.20B  "
      ]
     },
     "execution_count": 77,
     "metadata": {},
     "output_type": "execute_result"
    }
   ],
   "source": [
    "crypto_data = crypto_data[0]\n",
    "crypto_data.head()"
   ]
  },
  {
   "cell_type": "markdown",
   "metadata": {},
   "source": [
    "## In the case where there is no table in the HTML..."
   ]
  },
  {
   "cell_type": "markdown",
   "metadata": {},
   "source": [
    "**Scraping** is the other way to extract information from HTML. Python has a package for this called `Beautiful Soup`. [Here](https://www.dataquest.io/blog/web-scraping-python-using-beautiful-soup/) is a tutorial on scraping."
   ]
  },
  {
   "cell_type": "markdown",
   "metadata": {},
   "source": [
    "# The Fundamentals of Web Scraping"
   ]
  },
  {
   "cell_type": "markdown",
   "metadata": {},
   "source": [
    "Some websites offer data sets that are downloadable in CSV format, or accessible via an Application Programming Interface (API). But many websites with useful data don't offer these convenient options."
   ]
  },
  {
   "cell_type": "markdown",
   "metadata": {},
   "source": [
    "In this tutorial, web scraping will be performed using the `Beautiful Soup` library. This method will be used to scrape weather forecasts from the [National Weather Service](https://www.weather.gov/), and then analyzed using the Pandas library."
   ]
  },
  {
   "cell_type": "code",
   "execution_count": 78,
   "metadata": {},
   "outputs": [
    {
     "name": "stdout",
     "output_type": "stream",
     "text": [
      "200\n"
     ]
    },
    {
     "data": {
      "text/plain": [
       "b'<!DOCTYPE html>\\n<html>\\n    <head>\\n        <title>A simple example page</title>\\n    </head>\\n    <body>\\n        <p>Here is some simple content for this page.</p>\\n    </body>\\n</html>'"
      ]
     },
     "execution_count": 78,
     "metadata": {},
     "output_type": "execute_result"
    }
   ],
   "source": [
    "page = re.get('https://dataquestio.github.io/web-scraping-pages/simple.html')\n",
    "print(page.status_code)\n",
    "page.content # calling the content of the page returns an unreadable parsing of the page"
   ]
  },
  {
   "cell_type": "code",
   "execution_count": 79,
   "metadata": {},
   "outputs": [
    {
     "name": "stdout",
     "output_type": "stream",
     "text": [
      "<!DOCTYPE html>\n",
      "<html>\n",
      " <head>\n",
      "  <title>\n",
      "   A simple example page\n",
      "  </title>\n",
      " </head>\n",
      " <body>\n",
      "  <p>\n",
      "   Here is some simple content for this page.\n",
      "  </p>\n",
      " </body>\n",
      "</html>\n"
     ]
    }
   ],
   "source": [
    "soup = BeautifulSoup(page.content, 'html.parser')\n",
    "print(soup.prettify())"
   ]
  },
  {
   "cell_type": "code",
   "execution_count": 80,
   "metadata": {},
   "outputs": [
    {
     "data": {
      "text/plain": [
       "['html',\n",
       " '\\n',\n",
       " <html>\n",
       " <head>\n",
       " <title>A simple example page</title>\n",
       " </head>\n",
       " <body>\n",
       " <p>Here is some simple content for this page.</p>\n",
       " </body>\n",
       " </html>]"
      ]
     },
     "execution_count": 80,
     "metadata": {},
     "output_type": "execute_result"
    }
   ],
   "source": [
    "list(soup.children)"
   ]
  },
  {
   "cell_type": "code",
   "execution_count": 81,
   "metadata": {},
   "outputs": [
    {
     "data": {
      "text/plain": [
       "3"
      ]
     },
     "execution_count": 81,
     "metadata": {},
     "output_type": "execute_result"
    }
   ],
   "source": [
    "len(list(soup.children))"
   ]
  },
  {
   "cell_type": "markdown",
   "metadata": {},
   "source": [
    "The above teslls us that there are two tags at the top level of the page--the initial <!DOCTYPE html> tag, and the <html> tag. There is a newline character (n) in the list as well."
   ]
  },
  {
   "cell_type": "code",
   "execution_count": 82,
   "metadata": {},
   "outputs": [
    {
     "data": {
      "text/plain": [
       "[bs4.element.Doctype, bs4.element.NavigableString, bs4.element.Tag]"
      ]
     },
     "execution_count": 82,
     "metadata": {},
     "output_type": "execute_result"
    }
   ],
   "source": [
    "[type(item) for item in list(soup.children)]"
   ]
  },
  {
   "cell_type": "markdown",
   "metadata": {},
   "source": [
    "1. The first is a `Doctype` object, which contains information about the tyupe of the document.\n",
    "2. The second is a `NavigableString`, which represents text found in the HTML document.\n",
    "3. The final item is a `Tag` object, which contains other nested tags."
   ]
  },
  {
   "cell_type": "code",
   "execution_count": 83,
   "metadata": {},
   "outputs": [
    {
     "data": {
      "text/plain": [
       "['\\n',\n",
       " <head>\n",
       " <title>A simple example page</title>\n",
       " </head>,\n",
       " '\\n',\n",
       " <body>\n",
       " <p>Here is some simple content for this page.</p>\n",
       " </body>,\n",
       " '\\n']"
      ]
     },
     "execution_count": 83,
     "metadata": {},
     "output_type": "execute_result"
    }
   ],
   "source": [
    "# calling the third item and listing its children\n",
    "html = list(soup.children)[2]\n",
    "list(html.children)"
   ]
  },
  {
   "cell_type": "code",
   "execution_count": 84,
   "metadata": {},
   "outputs": [
    {
     "data": {
      "text/plain": [
       "['\\n', <p>Here is some simple content for this page.</p>, '\\n']"
      ]
     },
     "execution_count": 84,
     "metadata": {},
     "output_type": "execute_result"
    }
   ],
   "source": [
    "# calling the body tag \n",
    "body = list(html.children)[3]\n",
    "list(body.children)"
   ]
  },
  {
   "cell_type": "code",
   "execution_count": 85,
   "metadata": {},
   "outputs": [
    {
     "data": {
      "text/plain": [
       "'Here is some simple content for this page.'"
      ]
     },
     "execution_count": 85,
     "metadata": {},
     "output_type": "execute_result"
    }
   ],
   "source": [
    "# calling the p tag\n",
    "p = list(body.children)[1]\n",
    "p.get_text()"
   ]
  },
  {
   "cell_type": "markdown",
   "metadata": {},
   "source": [
    "## Finding all instances of a tag at once"
   ]
  },
  {
   "cell_type": "markdown",
   "metadata": {},
   "source": [
    "Above is useful for navigating a page, but to extract a single tag, the `find_all` method can be used."
   ]
  },
  {
   "cell_type": "code",
   "execution_count": 86,
   "metadata": {},
   "outputs": [
    {
     "data": {
      "text/plain": [
       "[<p>Here is some simple content for this page.</p>]"
      ]
     },
     "execution_count": 86,
     "metadata": {},
     "output_type": "execute_result"
    }
   ],
   "source": [
    "soup = BeautifulSoup(page.content, 'html.parser')\n",
    "soup.find_all('p')"
   ]
  },
  {
   "cell_type": "markdown",
   "metadata": {},
   "source": [
    "Note that `find_all` returns a list, so we'll have to loop through, or use list indexing, to extract text:"
   ]
  },
  {
   "cell_type": "code",
   "execution_count": 87,
   "metadata": {},
   "outputs": [
    {
     "data": {
      "text/plain": [
       "'Here is some simple content for this page.'"
      ]
     },
     "execution_count": 87,
     "metadata": {},
     "output_type": "execute_result"
    }
   ],
   "source": [
    "soup.find_all('p')[0].get_text()"
   ]
  },
  {
   "cell_type": "markdown",
   "metadata": {},
   "source": [
    "If instead, the first instance of the tag is to be extracted, `find` can be used."
   ]
  },
  {
   "cell_type": "code",
   "execution_count": 88,
   "metadata": {},
   "outputs": [
    {
     "data": {
      "text/plain": [
       "<p>Here is some simple content for this page.</p>"
      ]
     },
     "execution_count": 88,
     "metadata": {},
     "output_type": "execute_result"
    }
   ],
   "source": [
    "soup.find('p')"
   ]
  },
  {
   "cell_type": "markdown",
   "metadata": {},
   "source": [
    "## Searching for tags by class and id"
   ]
  },
  {
   "cell_type": "markdown",
   "metadata": {},
   "source": [
    "Classes and ids are used by CSS to determine which HTML elements to apply certain styles. But when scraping, they can be used to specify the elements to be scraped."
   ]
  },
  {
   "cell_type": "code",
   "execution_count": 89,
   "metadata": {},
   "outputs": [
    {
     "data": {
      "text/plain": [
       "<html>\n",
       "<head>\n",
       "<title>A simple example page</title>\n",
       "</head>\n",
       "<body>\n",
       "<div>\n",
       "<p class=\"inner-text first-item\" id=\"first\">\n",
       "                First paragraph.\n",
       "            </p>\n",
       "<p class=\"inner-text\">\n",
       "                Second paragraph.\n",
       "            </p>\n",
       "</div>\n",
       "<p class=\"outer-text first-item\" id=\"second\">\n",
       "<b>\n",
       "                First outer paragraph.\n",
       "            </b>\n",
       "</p>\n",
       "<p class=\"outer-text\">\n",
       "<b>\n",
       "                Second outer paragraph.\n",
       "            </b>\n",
       "</p>\n",
       "</body>\n",
       "</html>"
      ]
     },
     "execution_count": 89,
     "metadata": {},
     "output_type": "execute_result"
    }
   ],
   "source": [
    "page = re.get('https://dataquestio.github.io/web-scraping-pages/ids_and_classes.html')\n",
    "soup = BeautifulSoup(page.content, 'html.parser')\n",
    "soup"
   ]
  },
  {
   "cell_type": "markdown",
   "metadata": {},
   "source": [
    "We can use the `find-all` method to search for items by class or by id."
   ]
  },
  {
   "cell_type": "code",
   "execution_count": 90,
   "metadata": {},
   "outputs": [
    {
     "data": {
      "text/plain": [
       "[<p class=\"outer-text first-item\" id=\"second\">\n",
       " <b>\n",
       "                 First outer paragraph.\n",
       "             </b>\n",
       " </p>,\n",
       " <p class=\"outer-text\">\n",
       " <b>\n",
       "                 Second outer paragraph.\n",
       "             </b>\n",
       " </p>]"
      ]
     },
     "execution_count": 90,
     "metadata": {},
     "output_type": "execute_result"
    }
   ],
   "source": [
    "soup.find_all('p', class_='outer-text')"
   ]
  },
  {
   "cell_type": "code",
   "execution_count": 91,
   "metadata": {},
   "outputs": [
    {
     "data": {
      "text/plain": [
       "[<p class=\"outer-text first-item\" id=\"second\">\n",
       " <b>\n",
       "                 First outer paragraph.\n",
       "             </b>\n",
       " </p>,\n",
       " <p class=\"outer-text\">\n",
       " <b>\n",
       "                 Second outer paragraph.\n",
       "             </b>\n",
       " </p>]"
      ]
     },
     "execution_count": 91,
     "metadata": {},
     "output_type": "execute_result"
    }
   ],
   "source": [
    "soup.find_all(class_='outer-text')"
   ]
  },
  {
   "cell_type": "code",
   "execution_count": 92,
   "metadata": {},
   "outputs": [
    {
     "data": {
      "text/plain": [
       "[<p class=\"inner-text first-item\" id=\"first\">\n",
       "                 First paragraph.\n",
       "             </p>]"
      ]
     },
     "execution_count": 92,
     "metadata": {},
     "output_type": "execute_result"
    }
   ],
   "source": [
    "soup.find_all(id='first')"
   ]
  },
  {
   "cell_type": "markdown",
   "metadata": {},
   "source": [
    "## Using CSS Selectors"
   ]
  },
  {
   "cell_type": "markdown",
   "metadata": {},
   "source": [
    "These selectors are how the CSS language allows developers to specify HTML tags to style. `BeautifulSoup` objects support searching a page via CSS selectors using the `select` method. We can use CSS selectors to find all the `p` tags in the page that are inside of a `div`."
   ]
  },
  {
   "cell_type": "code",
   "execution_count": 93,
   "metadata": {},
   "outputs": [
    {
     "data": {
      "text/plain": [
       "[<p class=\"inner-text first-item\" id=\"first\">\n",
       "                 First paragraph.\n",
       "             </p>,\n",
       " <p class=\"inner-text\">\n",
       "                 Second paragraph.\n",
       "             </p>]"
      ]
     },
     "execution_count": 93,
     "metadata": {},
     "output_type": "execute_result"
    }
   ],
   "source": [
    "soup.select('div p')"
   ]
  },
  {
   "cell_type": "markdown",
   "metadata": {},
   "source": [
    "## Extracting data from the national weather page"
   ]
  },
  {
   "cell_type": "code",
   "execution_count": 94,
   "metadata": {},
   "outputs": [
    {
     "data": {
      "text/plain": [
       "<!DOCTYPE html>\n",
       "\n",
       "<html class=\"no-js\">\n",
       "<head>\n",
       "<!-- Meta -->\n",
       "<meta content=\"width=device-width\" name=\"viewport\"/>\n",
       "<link href=\"http://purl.org/dc/elements/1.1/\" rel=\"schema.DC\"/><title>National Weather Service</title><meta content=\"National Weather Service\" name=\"DC.title\"><meta content=\"NOAA National Weather Service National Weather Service\" name=\"DC.description\"/><meta content=\"US Department of Commerce, NOAA, National Weather Service\" name=\"DC.creator\"/><meta content=\"\" name=\"DC.date.created\" scheme=\"ISO8601\"/><meta content=\"EN-US\" name=\"DC.language\" scheme=\"DCTERMS.RFC1766\"/><meta content=\"weather, National Weather Service\" name=\"DC.keywords\"/><meta content=\"NOAA's National Weather Service\" name=\"DC.publisher\"/><meta content=\"National Weather Service\" name=\"DC.contributor\"/><meta content=\"//www.weather.gov/disclaimer.php\" name=\"DC.rights\"/><meta content=\"General\" name=\"rating\"/><meta content=\"index,follow\" name=\"robots\"/>\n",
       "<!-- Icons -->\n",
       "<link href=\"./images/favicon.ico\" rel=\"shortcut icon\" type=\"image/x-icon\"/>\n",
       "<!-- CSS -->\n",
       "<link href=\"css/bootstrap-3.2.0.min.css\" rel=\"stylesheet\"/>\n",
       "<link href=\"css/bootstrap-theme-3.2.0.min.css\" rel=\"stylesheet\"/>\n",
       "<link href=\"css/font-awesome-4.3.0.min.css\" rel=\"stylesheet\"/>\n",
       "<link href=\"css/ol-4.6.4.css\" rel=\"stylesheet\" type=\"text/css\"/>\n",
       "<link href=\"css/mapclick.css\" rel=\"stylesheet\" type=\"text/css\">\n",
       "<!--[if lte IE 7]><link rel=\"stylesheet\" type=\"text/css\" href=\"css/bootstrap-ie7.css\" /><![endif]-->\n",
       "<!--[if lte IE 9]><link rel=\"stylesheet\" type=\"text/css\" href=\"css/mapclick-ie.css\" /><![endif]-->\n",
       "<link href=\"css/print.css\" rel=\"stylesheet\" type=\"text/css\">\n",
       "<link href=\"css/search.css\" rel=\"stylesheet\" type=\"text/css\">\n",
       "<!-- Javascript -->\n",
       "<script src=\"js/lib/modernizr-2.8.3.js\" type=\"text/javascript\"></script>\n",
       "<script src=\"js/lib/json3-3.3.2.min.js\" type=\"text/javascript\"></script>\n",
       "<script src=\"js/lib/jquery-1.11.3.min.js\" type=\"text/javascript\"></script>\n",
       "<script src=\"js/lib/jquery.hoverIntent-1.8.1.min.js\" type=\"text/javascript\"></script>\n",
       "<script src=\"js/lib/bootstrap-3.2.0.min.js\" type=\"text/javascript\"></script>\n",
       "<script src=\"js/lib/ol-4.6.4.js\" type=\"text/javascript\"></script>\n",
       "<!--[if lte IE 8]><script type=\"text/javascript\" src=\"js/respond.min.js\"></script><![endif]-->\n",
       "<script src=\"js/jquery.autocomplete.min.js\" type=\"text/javascript\"></script>\n",
       "<script src=\"js/cfisurvey/cfi.js?v2\" type=\"text/javascript\"></script>\n",
       "<script src=\"js/forecast.esri.js\" type=\"text/javascript\"></script>\n",
       "<script src=\"js/forecast.search.js\" type=\"text/javascript\"></script>\n",
       "<script src=\"js/forecast.openlayers.js\" type=\"text/javascript\"></script>\n",
       "<script src=\"js/browserSniffer.js\" type=\"text/javascript\"></script>\n",
       "<script id=\"_fed_an_ua_tag\" src=\"https://dap.digitalgov.gov/Universal-Federated-Analytics-Min.js?agency=DOC&amp;subagency=NOAA\" type=\"text/javascript\"></script>\n",
       "<script type=\"text/javascript\">\n",
       "            // GoogleAnalyticsObject is defined in the federated analytics script, but PUA option not used as forecast UA needs sampleRate\n",
       "            window[window['GoogleAnalyticsObject']]('create', 'UA-40768555-1', 'weather.gov', {'sampleRate': 6});\n",
       "            window[window['GoogleAnalyticsObject']]('set', 'anonymizeIp', true);\n",
       "            window[window['GoogleAnalyticsObject']]('require', 'linkid');\n",
       "            window[window['GoogleAnalyticsObject']]('send', 'pageview');\n",
       "        </script>\n",
       "<script type=\"javascript\">\n",
       "// ForeSee Staging Embed Script v2.01\n",
       "// DO NOT MODIFY BELOW THIS LINE *****************************************\n",
       ";(function (g) {\n",
       "  var d = document, am = d.createElement('script'), h = d.head || d.getElementsByTagName(\"head\")[0], fsr = 'fsReady',\n",
       "  aex = { \n",
       "    \"src\": \"//gateway.foresee.com/sites/weather-gov/production/gateway.min.js\",\n",
       "    \"type\": \"text/javascript\", \n",
       "    \"async\": \"true\", \n",
       "    \"data-vendor\": \"fs\", \n",
       "    \"data-role\": \"gateway\" \n",
       "  };\n",
       "  for (var attr in aex) { am.setAttribute(attr, aex[attr]); } h.appendChild(am); g[fsr] || (g[fsr] = function () { var aT = '__' + fsr + '_stk__'; g[aT] = g[aT] || []; g[aT].push(arguments); });\n",
       "})(window);\n",
       "// DO NOT MODIFY ABOVE THIS LINE *****************************************\n",
       "</script>\n",
       "</link></link></link></meta></head>\n",
       "<body>\n",
       "<main class=\"container\">\n",
       "<header class=\"row clearfix\" id=\"page-header\">\n",
       "<a class=\"pull-left\" href=\"//www.noaa.gov\" id=\"header-noaa\"><img alt=\"National Oceanic and Atmospheric Administration\" src=\"/css/images/header_noaa.png\"/></a>\n",
       "<a class=\"pull-left\" href=\"//www.weather.gov\" id=\"header-nws\"><img alt=\"National Weather Service\" src=\"/css/images/header_nws.png\"/></a>\n",
       "<a class=\"pull-right\" href=\"//www.commerce.gov\" id=\"header-doc\"><img alt=\"United States Department of Commerce\" src=\"/css/images/header_doc.png\"/></a>\n",
       "</header>\n",
       "<nav class=\"navbar navbar-default row\" role=\"navigation\">\n",
       "<div class=\"container-fluid\">\n",
       "<div class=\"navbar-header\">\n",
       "<button class=\"navbar-toggle collapsed\" data-target=\"#top-nav\" data-toggle=\"collapse\" type=\"button\">\n",
       "<span class=\"sr-only\">Toggle navigation</span>\n",
       "<span class=\"icon-bar\"></span>\n",
       "<span class=\"icon-bar\"></span>\n",
       "<span class=\"icon-bar\"></span>\n",
       "</button>\n",
       "</div>\n",
       "<div class=\"collapse navbar-collapse\" id=\"top-nav\">\n",
       "<ul class=\"nav navbar-nav\">\n",
       "<li><a href=\"//www.weather.gov\">HOME</a></li>\n",
       "<li class=\"dropdown\"><a class=\"dropdown-toggle\" data-toggle=\"dropdown\" href=\"http://www.weather.gov/forecastmaps\">FORECAST <span class=\"caret\"></span></a><ul class=\"dropdown-menu\" role=\"menu\"><li><a href=\"http://www.weather.gov\">Local</a></li><li><a href=\"http://digital.weather.gov\">Graphical</a></li><li><a href=\"http://www.aviationweather.gov/\">Aviation</a></li><li><a href=\"http://www.weather.gov/marine\">Marine</a></li><li><a href=\"http://water.weather.gov/ahps/\">Rivers and Lakes</a></li><li><a href=\"http://www.nhc.noaa.gov/\">Hurricanes</a></li><li><a href=\"http://www.spc.noaa.gov/\">Severe Weather</a></li><li><a href=\"http://www.weather.gov/fire/\">Fire Weather</a></li><li><a href=\"https://www.esrl.noaa.gov/gmd/grad/solcalc/sunrise.html\">Sun/Moon</a></li><li><a href=\"http://www.cpc.ncep.noaa.gov/\">Long Range Forecasts</a></li><li><a href=\"http://www.cpc.ncep.noaa.gov\">Climate Prediction</a></li><li><a href=\"https://www.swpc.noaa.gov/\">Space Weather</a></li></ul> </li>\n",
       "<li class=\"dropdown\"><a class=\"dropdown-toggle\" data-toggle=\"dropdown\" href=\"https://www.weather.gov/wrh/climate/\">PAST WEATHER <span class=\"caret\"></span></a><ul class=\"dropdown-menu\" role=\"menu\"><li><a href=\"https://www.weather.gov/wrh/climate/\">Past Weather</a></li><li><a href=\"https://www.weather.gov/wrh/climate/\">Heating/Cooling Days</a></li><li><a href=\"https://www.weather.gov/wrh/climate/\">Monthly Temperatures</a></li><li><a href=\"https://www.weather.gov/wrh/climate/\">Records</a></li><li><a href=\"http://aa.usno.navy.mil/\">Astronomical Data</a></li></ul> </li>\n",
       "<li class=\"dropdown\"><a class=\"dropdown-toggle\" data-toggle=\"dropdown\" href=\"http://www.weather.gov/safety\">SAFETY <span class=\"caret\"></span></a><ul class=\"dropdown-menu\" role=\"menu\"><li><a href=\"https://www.weather.gov/safety/tsunami\">Tsunamis</a></li><li><a href=\"https://www.weather.gov/safety/flood\">Floods</a></li><li><a href=\"https://www.weather.gov/safety/beachhazards\">Beach Hazards</a></li><li><a href=\"https://www.weather.gov/safety/wildfire\">Wildfire</a></li><li><a href=\"https://www.weather.gov/safety/cold\">Cold</a></li><li><a href=\"https://www.weather.gov/safety/tornado\">Tornadoes</a></li><li><a href=\"https://www.weather.gov/safety/airquality\">Air Quality</a></li><li><a href=\"https://www.weather.gov/safety/fog\">Fog</a></li><li><a href=\"https://www.weather.gov/safety/heat\">Heat</a></li><li><a href=\"https://www.weather.gov/safety/hurricane\">Hurricanes</a></li><li><a href=\"https://www.weather.gov/safety/lightning\">Lightning</a></li><li><a href=\"https://www.weather.gov/safety/ripcurrent\">Rip Currents</a></li><li><a href=\"https://www.weather.gov/safety/safeboating\">Safe Boating</a></li><li><a href=\"https://www.weather.gov/safety/thunderstorm\">Thunderstorms</a></li><li><a href=\"https://www.weather.gov/safety/space\">Space Weather</a></li><li><a href=\"https://www.weather.gov/safety/heat-uv\">Sun (Ultraviolet Radiation)</a></li><li><a href=\"http://www.weather.gov/safetycampaign\">Safety Campaigns</a></li><li><a href=\"https://www.weather.gov/safety/wind\">Wind</a></li><li><a href=\"https://www.weather.gov/safety/drought\">Drought</a></li><li><a href=\"https://www.weather.gov/safety/winter\">Winter Weather</a></li></ul> </li>\n",
       "<li class=\"dropdown\"><a class=\"dropdown-toggle\" data-toggle=\"dropdown\" href=\"http://www.weather.gov/informationcenter\">INFORMATION <span class=\"caret\"></span></a><ul class=\"dropdown-menu\" role=\"menu\"><li><a href=\"http://www.weather.gov/wrn/wea\">Wireless Emergency Alerts</a></li><li><a href=\"https://www.weather.gov/owlie/publication_brochures\">Brochures</a></li><li><a href=\"http://www.weather.gov/wrn/\">Weather-Ready Nation</a></li><li><a href=\"https://www.weather.gov/coop/\">Cooperative Observers</a></li><li><a href=\"http://www.weather.gov/briefing/\">Daily Briefing</a></li><li><a href=\"http://www.nws.noaa.gov/om/hazstats.shtml\">Damage/Fatality/Injury Statistics</a></li><li><a href=\"http://mag.ncep.noaa.gov/\">Forecast Models</a></li><li><a href=\"https://www.weather.gov/gis\">GIS Data Portal</a></li><li><a href=\"https://www.weather.gov/nwr/\">NOAA Weather Radio</a></li><li><a href=\"http://weather.gov/publications\">Publications</a></li><li><a href=\"http://www.weather.gov/SKYWARN\">SKYWARN Storm Spotters</a></li><li><a href=\"http://www.weather.gov/StormReady\">StormReady</a></li><li><a href=\"https://www.weather.gov/TsunamiReady/\">TsunamiReady</a></li><li><a href=\"https://www.weather.gov/notification/\">Service Change Notices</a></li></ul> </li>\n",
       "<li class=\"dropdown\"><a class=\"dropdown-toggle\" data-toggle=\"dropdown\" href=\"http://www.weather.gov/education\">EDUCATION <span class=\"caret\"></span></a><ul class=\"dropdown-menu\" role=\"menu\"><li><a href=\"https://www.weather.gov/wrn/force\">Be A Force of Nature</a></li><li><a href=\"http://www.weather.gov/owlie\">NWS Education Home</a></li></ul> </li>\n",
       "<li class=\"dropdown\"><a class=\"dropdown-toggle\" data-toggle=\"dropdown\" href=\"http://www.weather.gov/news/\">NEWS <span class=\"caret\"></span></a><ul class=\"dropdown-menu\" role=\"menu\"><li><a href=\"http://www.weather.gov/news\">NWS News</a></li><li><a href=\"https://www.weather.gov/wrn/calendar\">Events</a></li><li><a href=\"http://www.weather.gov/socialmedia\">Social Media</a></li><li><a href=\"https://www.weather.gov/owlie/publication_brochures\">Pubs/Brochures/Booklets </a></li><li><a href=\"http://www.noaa.gov/NOAA-Communications\">NWS Media Contacts</a></li></ul> </li>\n",
       "<li class=\"dropdown\"><a class=\"dropdown-toggle\" data-toggle=\"dropdown\" href=\"http://www.weather.gov/search\">SEARCH <span class=\"caret\"></span></a><ul class=\"dropdown-menu\" role=\"menu\"> <li><!-- Begin search code -->\n",
       "<div id=\"site-search\">\n",
       "<form action=\"//search.usa.gov/search\" method=\"get\" style=\"margin-bottom: 0; margin-top: 0;\">\n",
       "<input name=\"v:project\" type=\"hidden\" value=\"firstgov\"/>\n",
       "<label for=\"query\">Search For</label>\n",
       "<input id=\"query\" name=\"query\" size=\"12\" type=\"text\"/>\n",
       "<input type=\"submit\" value=\"Go\"/>\n",
       "<p>\n",
       "<input checked=\"checked\" id=\"nws\" name=\"affiliate\" type=\"radio\" value=\"nws.noaa.gov\"/>\n",
       "<label class=\"search-scope\" for=\"nws\">NWS</label>\n",
       "<input id=\"noaa\" name=\"affiliate\" type=\"radio\" value=\"noaa.gov\"/>\n",
       "<label class=\"search-scope\" for=\"noaa\">All NOAA</label>\n",
       "</p>\n",
       "</form>\n",
       "</div>\n",
       "</li>\n",
       "</ul> </li>\n",
       "<li class=\"dropdown\"><a class=\"dropdown-toggle\" data-toggle=\"dropdown\" href=\"http://www.weather.gov/about\">ABOUT <span class=\"caret\"></span></a><ul class=\"dropdown-menu\" role=\"menu\"><li><a href=\"http://www.weather.gov/about\">About NWS</a></li><li><a href=\"http://www.weather.gov/organization\">Organization</a></li><li><a href=\"https://www.weather.gov/media/wrn/NWS_Weather-Ready-Nation_Strategic_Plan_2019-2022.pdf\">Strategic Plan</a></li><li><a href=\"http://www.weather.gov/careers/#diversity\">Commitment to Diversity</a></li><li><a href=\"https://sites.google.com/a/noaa.gov/nws-insider/\">For NWS Employees</a></li><li><a href=\"http://www.weather.gov/insider\">International</a></li><li><a href=\"http://www.weather.gov/organization\">National Centers</a></li><li><a href=\"http://www.weather.gov/careers/\">Careers</a></li><li><a href=\"http://www.weather.gov/contact\">Contact Us</a></li><li><a href=\"https://w1.weather.gov/glossary\">Glossary</a></li></ul> </li>\n",
       "</ul>\n",
       "</div>\n",
       "</div>\n",
       "</nav>\n",
       "<div class=\"contentArea\">\n",
       "<!-- Start Forecastsearch -->\n",
       "<div class=\"\" id=\"fcst-search\">\n",
       "<form action=\"https://forecast.weather.gov/zipcity.php\" class=\"form-inline\" id=\"getForecast\" method=\"get\" name=\"getForecast\" role=\"form\">\n",
       "<div id=\"getfcst-body\">\n",
       "<input class=\"form-control\" id=\"inputstring\" name=\"inputstring\" placeholder=\"\" type=\"text\"/>\n",
       "<input class=\"btn btn-default\" id=\"btnSearch\" name=\"btnSearch\" type=\"submit\" value=\"Go\"/>\n",
       "<div id=\"txtHelp\"><a href=\"javascript:void(window.open('http://weather.gov/ForecastSearchHelp.html','locsearchhelp','status=0,toolbar=0,location=0,menubar=0,directories=0,resizable=1,scrollbars=1,height=500,width=530').focus());\">View Location Examples</a></div>\n",
       "</div>\n",
       "<div id=\"txtError\">\n",
       "<div id=\"errorNoResults\" style=\"display:none;\">Sorry, the location you searched for was not found. Please try another search.</div>\n",
       "<div id=\"errorMultipleResults\" style=\"display:none\">Multiple locations were found. Please select one of the following:</div>\n",
       "<div id=\"errorChoices\" style=\"display:none\"></div>\n",
       "<input id=\"btnCloseError\" style=\"display:none\" type=\"button\" value=\"Close\"/>\n",
       "</div>\n",
       "<div id=\"getfcst-head\">\n",
       "<p>Your local forecast office is</p>\n",
       "<h3 id=\"getfcst-headOffice\"></h3>\n",
       "</div>\n",
       "</form>\n",
       "</div>\n",
       "<!-- end Forecastsearch -->\n",
       "<link href=\"/css/topnews.css\" rel=\"stylesheet\" type=\"text/css\"/>\n",
       "<div id=\"news-items\">\n",
       "<div id=\"topnews\">\n",
       "<div class=\"icon\"><img src=\"/images/news-important.jpg\"/></div>\n",
       "<div class=\"body\">\n",
       "<h1 style=\"font-size: 11pt;\">Winter Storm Impacting The Western U.S.</h1>\n",
       "<p>\n",
       "            A winter storm continues to pound the Western U.S. today with heavy mountain snow, locally heavy rainfall and gusty winds. The heaviest snowfall is expected from the Sierra to parts of the Intermountain West. The heaviest rainfall with localized flooding is likely along the central California coastline. Windy conditions span from the West into the central High Plains.\n",
       "            <a href=\"http://www.wpc.ncep.noaa.gov/discussions/hpcdiscussions.php?disc=pmdspd\" target=\"_blank\">Read More &gt;</a>\n",
       "</p>\n",
       "</div>\n",
       "</div>\n",
       "</div>\n",
       "<script type=\"text/javascript\">(function ($) { var topnews = $(\"#topnews\"); topnews.hide(); $.get(\"siteNews.php\", {a:\"mtr\"},function(response){ if (response !== \"false\") topnews.replaceWith($(response)); topnews.show(); }); })(jQuery);</script><!-- PageFormat-Land -->\n",
       "<script language=\"javascript\">document.title = '7-Day Forecast 37.77N 122.41W';</script><img src=\"images/track_land_point.png\" style=\"display:none;\">\n",
       "<div id=\"quickLinks\">\n",
       "<span class=\"lang-spanish\"><a href=\"//forecast.weather.gov/MapClick.php?lat=37.7772&amp;lon=-122.4168&amp;lg=sp\">En Español</a></span>\n",
       "<div class=\"addthis_toolbox addthis_default_style addthis-forecast\">\n",
       "<a class=\"addthis_button_compact\" href=\"//www.addthis.com/bookmark.php?v=250&amp;pubid=ra-5127a6364d551d04\">Share</a>\n",
       "<span class=\"addthis_separator\">|</span>\n",
       "<a class=\"addthis_button_preferred_1\"></a>\n",
       "<a class=\"addthis_button_preferred_2\"></a>\n",
       "<a class=\"addthis_button_preferred_3\"></a>\n",
       "<a class=\"addthis_button_preferred_4\"></a>\n",
       "<a class=\"addthis_button_preferred_5\"></a>\n",
       "</div>\n",
       "<script type=\"text/javascript\">\n",
       "        var addthis_config = addthis_config || {data_track_addressbar:true, pubid: 'xa-4b05b2d91f18c9cc'};\n",
       "        $(document).ready(function(){\n",
       "            jQuery.ajax({\n",
       "                url: \"//s7.addthis.com/js/300/addthis_widget.js#async=1\",\n",
       "                dataType: \"script\",\n",
       "                cache: false\n",
       "            });\n",
       "        });\n",
       "    </script>\n",
       "</div>\n",
       "<!-- Current Conditions -->\n",
       "<div class=\"panel panel-default\" id=\"current-conditions\">\n",
       "<!-- Current Conditions header row -->\n",
       "<div class=\"panel-heading\">\n",
       "<div>\n",
       "<b>Current conditions at</b>\n",
       "<h2 class=\"panel-title\">SAN FRANCISCO DOWNTOWN (SFOC1)</h2>\n",
       "<span class=\"smallTxt\"><b>Lat: </b>37.77056°N<b>Lon: </b>122.42694°W<b>Elev: </b>150ft.</span>\n",
       "</div>\n",
       "</div>\n",
       "<div class=\"panel-body\" id=\"current-conditions-body\">\n",
       "<!-- Graphic and temperatures -->\n",
       "<div class=\"pull-left\" id=\"current_conditions-summary\">\n",
       "<p class=\"myforecast-current\">NA</p>\n",
       "<p class=\"myforecast-current-lrg\">50°F</p>\n",
       "<p class=\"myforecast-current-sm\">10°C</p>\n",
       "</div>\n",
       "<div class=\"pull-left\" id=\"current_conditions_detail\">\n",
       "<table>\n",
       "<tr>\n",
       "<td class=\"text-right\"><b>Humidity</b></td>\n",
       "<td>64%</td>\n",
       "</tr>\n",
       "<tr>\n",
       "<td class=\"text-right\"><b>Wind Speed</b></td>\n",
       "<td>NA NA MPH</td>\n",
       "</tr>\n",
       "<tr>\n",
       "<td class=\"text-right\"><b>Barometer</b></td>\n",
       "<td>NA</td>\n",
       "</tr>\n",
       "<tr>\n",
       "<td class=\"text-right\"><b>Dewpoint</b></td>\n",
       "<td>38°F (3°C)</td>\n",
       "</tr>\n",
       "<tr>\n",
       "<td class=\"text-right\"><b>Visibility</b></td>\n",
       "<td>NA</td>\n",
       "</tr>\n",
       "<tr>\n",
       "<td class=\"text-right\"><b>Last update</b></td>\n",
       "<td>\n",
       "                01 Dec 03:43 PM PST            </td>\n",
       "</tr>\n",
       "</table>\n",
       "</div>\n",
       "<div id=\"current_conditions_station\">\n",
       "<div class=\"current-conditions-extra\">\n",
       "<!-- Right hand section -->\n",
       "<p class=\"moreInfo\"><b>More Information:</b></p><p><a href=\"https://www.weather.gov/mtr\" id=\"localWFO\" title=\"San Francisco Bay Area/Monterey, CA\"><span class=\"hideText\">Local</span> Forecast Office</a><a href=\"https://www.weather.gov/wrh/LocalWeather?zone=CAZ006\" id=\"moreWx\">More Local Wx</a><a href=\"https://www.wrh.noaa.gov/mesowest/getobext.php?wfo=mtr&amp;sid=SFOC1&amp;num=72&amp;raw=0\">3 Day History</a><a href=\"//mobile.weather.gov/index.php?lat=37.7772&amp;lon=-122.4168&amp;unit=0&amp;lg=english\" id=\"mobileWxLink\">Mobile Weather</a><a href=\"MapClick.php?lat=37.7772&amp;lon=-122.4168&amp;unit=0&amp;lg=english&amp;FcstType=graphical\" id=\"wxGraph\">Hourly <span class=\"hideText\">Weather </span>Forecast</a></p> </div>\n",
       "<!-- /current_conditions_station -->\n",
       "</div>\n",
       "<!-- /current-conditions-body -->\n",
       "</div>\n",
       "<!-- /Current Conditions -->\n",
       "</div>\n",
       "<!-- 7-Day Forecast -->\n",
       "<div class=\"panel panel-default\" id=\"seven-day-forecast\">\n",
       "<div class=\"panel-heading\">\n",
       "<b>Extended Forecast for</b>\n",
       "<h2 class=\"panel-title\">\n",
       "                San Francisco CA    </h2>\n",
       "</div>\n",
       "<div class=\"panel-body\" id=\"seven-day-forecast-body\">\n",
       "<div id=\"seven-day-forecast-container\"><ul class=\"list-unstyled\" id=\"seven-day-forecast-list\"><li class=\"forecast-tombstone\">\n",
       "<div class=\"tombstone-container\">\n",
       "<p class=\"period-name\">This<br/>Afternoon</p>\n",
       "<p><img alt=\"This Afternoon: Rain likely before 5pm.  Mostly cloudy, with a steady temperature around 52. West northwest wind 9 to 11 mph.  Chance of precipitation is 70%. New precipitation amounts of less than a tenth of an inch possible. \" class=\"forecast-icon\" src=\"newimages/medium/ra70.png\" title=\"This Afternoon: Rain likely before 5pm.  Mostly cloudy, with a steady temperature around 52. West northwest wind 9 to 11 mph.  Chance of precipitation is 70%. New precipitation amounts of less than a tenth of an inch possible. \"/></p><p class=\"short-desc\">Rain Likely</p><p class=\"temp temp-high\">High: 52 °F</p></div></li><li class=\"forecast-tombstone\">\n",
       "<div class=\"tombstone-container\">\n",
       "<p class=\"period-name\">Tonight<br/><br/></p>\n",
       "<p><img alt=\"Tonight: Mostly clear, with a low around 39. North wind 6 to 13 mph. \" class=\"forecast-icon\" src=\"newimages/medium/nfew.png\" title=\"Tonight: Mostly clear, with a low around 39. North wind 6 to 13 mph. \"/></p><p class=\"short-desc\">Mostly Clear</p><p class=\"temp temp-low\">Low: 39 °F</p></div></li><li class=\"forecast-tombstone\">\n",
       "<div class=\"tombstone-container\">\n",
       "<p class=\"period-name\">Friday<br/><br/></p>\n",
       "<p><img alt=\"Friday: Sunny, with a high near 54. Northeast wind 6 to 9 mph. \" class=\"forecast-icon\" src=\"newimages/medium/few.png\" title=\"Friday: Sunny, with a high near 54. Northeast wind 6 to 9 mph. \"/></p><p class=\"short-desc\">Sunny</p><p class=\"temp temp-high\">High: 54 °F</p></div></li><li class=\"forecast-tombstone\">\n",
       "<div class=\"tombstone-container\">\n",
       "<p class=\"period-name\">Friday<br/>Night</p>\n",
       "<p><img alt=\"Friday Night: A 30 percent chance of rain after 5am.  Partly cloudy, with a low around 42. East northeast wind 5 to 9 mph.  New precipitation amounts of less than a tenth of an inch possible. \" class=\"forecast-icon\" src=\"DualImage.php?i=nsct&amp;j=nra&amp;jp=30\" title=\"Friday Night: A 30 percent chance of rain after 5am.  Partly cloudy, with a low around 42. East northeast wind 5 to 9 mph.  New precipitation amounts of less than a tenth of an inch possible. \"/></p><p class=\"short-desc\">Partly Cloudy<br/>then Chance<br/>Rain</p><p class=\"temp temp-low\">Low: 42 °F</p></div></li><li class=\"forecast-tombstone\">\n",
       "<div class=\"tombstone-container\">\n",
       "<p class=\"period-name\">Saturday<br/><br/></p>\n",
       "<p><img alt=\"Saturday: Rain likely, mainly after 11am.  Mostly cloudy, with a high near 54. East wind 5 to 7 mph.  Chance of precipitation is 70%. New precipitation amounts between a quarter and half of an inch possible. \" class=\"forecast-icon\" src=\"newimages/medium/ra70.png\" title=\"Saturday: Rain likely, mainly after 11am.  Mostly cloudy, with a high near 54. East wind 5 to 7 mph.  Chance of precipitation is 70%. New precipitation amounts between a quarter and half of an inch possible. \"/></p><p class=\"short-desc\">Rain Likely</p><p class=\"temp temp-high\">High: 54 °F</p></div></li><li class=\"forecast-tombstone\">\n",
       "<div class=\"tombstone-container\">\n",
       "<p class=\"period-name\">Saturday<br/>Night</p>\n",
       "<p><img alt=\"Saturday Night: Rain.  Low around 46. Chance of precipitation is 90%. New precipitation amounts between a tenth and quarter of an inch possible. \" class=\"forecast-icon\" src=\"newimages/medium/nra90.png\" title=\"Saturday Night: Rain.  Low around 46. Chance of precipitation is 90%. New precipitation amounts between a tenth and quarter of an inch possible. \"/></p><p class=\"short-desc\">Rain</p><p class=\"temp temp-low\">Low: 46 °F</p></div></li><li class=\"forecast-tombstone\">\n",
       "<div class=\"tombstone-container\">\n",
       "<p class=\"period-name\">Sunday<br/><br/></p>\n",
       "<p><img alt=\"Sunday: Rain.  High near 58. Chance of precipitation is 90%.\" class=\"forecast-icon\" src=\"newimages/medium/ra90.png\" title=\"Sunday: Rain.  High near 58. Chance of precipitation is 90%.\"/></p><p class=\"short-desc\">Rain</p><p class=\"temp temp-high\">High: 58 °F</p></div></li><li class=\"forecast-tombstone\">\n",
       "<div class=\"tombstone-container\">\n",
       "<p class=\"period-name\">Sunday<br/>Night</p>\n",
       "<p><img alt=\"Sunday Night: Rain likely.  Mostly cloudy, with a low around 46.\" class=\"forecast-icon\" src=\"newimages/medium/nra.png\" title=\"Sunday Night: Rain likely.  Mostly cloudy, with a low around 46.\"/></p><p class=\"short-desc\">Rain Likely</p><p class=\"temp temp-low\">Low: 46 °F</p></div></li><li class=\"forecast-tombstone\">\n",
       "<div class=\"tombstone-container\">\n",
       "<p class=\"period-name\">Monday<br/><br/></p>\n",
       "<p><img alt=\"Monday: A chance of rain.  Partly sunny, with a high near 56.\" class=\"forecast-icon\" src=\"newimages/medium/ra.png\" title=\"Monday: A chance of rain.  Partly sunny, with a high near 56.\"/></p><p class=\"short-desc\">Chance Rain</p><p class=\"temp temp-high\">High: 56 °F</p></div></li></ul></div>\n",
       "<script type=\"text/javascript\">\n",
       "// equalize forecast heights\n",
       "$(function () {\n",
       "    var maxh = 0;\n",
       "    $(\".forecast-tombstone .short-desc\").each(function () {\n",
       "        var h = $(this).height();\n",
       "        if (h > maxh) { maxh = h; }\n",
       "    });\n",
       "    $(\".forecast-tombstone .short-desc\").height(maxh);\n",
       "});\n",
       "</script> </div>\n",
       "</div>\n",
       "<!-- Everything between 7-Day Forecast and Footer goes in this row -->\n",
       "<div class=\"row\" id=\"floatingDivs\">\n",
       "<!-- Everything on the left-hand side -->\n",
       "<div class=\"col-md-7 col-lg-8\">\n",
       "<!-- Detailed Forecast -->\n",
       "<div class=\"panel panel-default\" id=\"detailed-forecast\">\n",
       "<div class=\"panel-heading\">\n",
       "<h2 class=\"panel-title\">Detailed Forecast</h2>\n",
       "</div>\n",
       "<div class=\"panel-body\" id=\"detailed-forecast-body\">\n",
       "<div class=\"row row-odd row-forecast\"><div class=\"col-sm-2 forecast-label\"><b>This Afternoon</b></div><div class=\"col-sm-10 forecast-text\">Rain likely before 5pm.  Mostly cloudy, with a steady temperature around 52. West northwest wind 9 to 11 mph.  Chance of precipitation is 70%. New precipitation amounts of less than a tenth of an inch possible. </div></div><div class=\"row row-even row-forecast\"><div class=\"col-sm-2 forecast-label\"><b>Tonight</b></div><div class=\"col-sm-10 forecast-text\">Mostly clear, with a low around 39. North wind 6 to 13 mph. </div></div><div class=\"row row-odd row-forecast\"><div class=\"col-sm-2 forecast-label\"><b>Friday</b></div><div class=\"col-sm-10 forecast-text\">Sunny, with a high near 54. Northeast wind 6 to 9 mph. </div></div><div class=\"row row-even row-forecast\"><div class=\"col-sm-2 forecast-label\"><b>Friday Night</b></div><div class=\"col-sm-10 forecast-text\">A 30 percent chance of rain after 5am.  Partly cloudy, with a low around 42. East northeast wind 5 to 9 mph.  New precipitation amounts of less than a tenth of an inch possible. </div></div><div class=\"row row-odd row-forecast\"><div class=\"col-sm-2 forecast-label\"><b>Saturday</b></div><div class=\"col-sm-10 forecast-text\">Rain likely, mainly after 11am.  Mostly cloudy, with a high near 54. East wind 5 to 7 mph.  Chance of precipitation is 70%. New precipitation amounts between a quarter and half of an inch possible. </div></div><div class=\"row row-even row-forecast\"><div class=\"col-sm-2 forecast-label\"><b>Saturday Night</b></div><div class=\"col-sm-10 forecast-text\">Rain.  Low around 46. Chance of precipitation is 90%. New precipitation amounts between a tenth and quarter of an inch possible. </div></div><div class=\"row row-odd row-forecast\"><div class=\"col-sm-2 forecast-label\"><b>Sunday</b></div><div class=\"col-sm-10 forecast-text\">Rain.  High near 58. Chance of precipitation is 90%.</div></div><div class=\"row row-even row-forecast\"><div class=\"col-sm-2 forecast-label\"><b>Sunday Night</b></div><div class=\"col-sm-10 forecast-text\">Rain likely.  Mostly cloudy, with a low around 46.</div></div><div class=\"row row-odd row-forecast\"><div class=\"col-sm-2 forecast-label\"><b>Monday</b></div><div class=\"col-sm-10 forecast-text\">A chance of rain.  Partly sunny, with a high near 56.</div></div><div class=\"row row-even row-forecast\"><div class=\"col-sm-2 forecast-label\"><b>Monday Night</b></div><div class=\"col-sm-10 forecast-text\">A slight chance of rain.  Partly cloudy, with a low around 42.</div></div><div class=\"row row-odd row-forecast\"><div class=\"col-sm-2 forecast-label\"><b>Tuesday</b></div><div class=\"col-sm-10 forecast-text\">Mostly sunny, with a high near 56.</div></div><div class=\"row row-even row-forecast\"><div class=\"col-sm-2 forecast-label\"><b>Tuesday Night</b></div><div class=\"col-sm-10 forecast-text\">Mostly clear, with a low around 41.</div></div><div class=\"row row-odd row-forecast\"><div class=\"col-sm-2 forecast-label\"><b>Wednesday</b></div><div class=\"col-sm-10 forecast-text\">Mostly sunny, with a high near 55.</div></div><div class=\"row row-even row-forecast\"><div class=\"col-sm-2 forecast-label\"><b>Wednesday Night</b></div><div class=\"col-sm-10 forecast-text\">Mostly clear, with a low around 41.</div></div><div class=\"row row-odd row-forecast\"><div class=\"col-sm-2 forecast-label\"><b>Thursday</b></div><div class=\"col-sm-10 forecast-text\">A chance of rain.  Mostly sunny, with a high near 55.</div></div> </div>\n",
       "</div>\n",
       "<!-- /Detailed Forecast -->\n",
       "<!-- Additional Forecasts and Information -->\n",
       "<div class=\"panel panel-default\" id=\"additional_forecasts\">\n",
       "<div class=\"panel-heading\">\n",
       "<h2 class=\"panel-title\">Additional Forecasts and Information</h2>\n",
       "</div>\n",
       "<div class=\"panel-body\" id=\"additional-forecasts-body\">\n",
       "<p class=\"myforecast-location\"><a href=\"MapClick.php?zoneid=CAZ006\">Zone Area Forecast for San Francisco County, CA</a></p>\n",
       "<!-- First nine-ten links -->\n",
       "<div id=\"linkBlockContainer\">\n",
       "<div class=\"linkBlock\">\n",
       "<ul class=\"list-unstyled\">\n",
       "<li><a href=\"//forecast.weather.gov/product.php?site=MTR&amp;issuedby=MTR&amp;product=AFD&amp;format=CI&amp;version=1&amp;glossary=1\">Forecast Discussion</a></li>\n",
       "<li><a href=\"MapClick.php?lat=37.7772&amp;lon=-122.4168&amp;unit=0&amp;lg=english&amp;FcstType=text&amp;TextType=2\">Printable Forecast</a></li>\n",
       "<li><a href=\"MapClick.php?lat=37.7772&amp;lon=-122.4168&amp;unit=0&amp;lg=english&amp;FcstType=text&amp;TextType=1\">Text Only Forecast</a></li>\n",
       "</ul>\n",
       "</div>\n",
       "<div class=\"linkBlock\">\n",
       "<ul class=\"list-unstyled\">\n",
       "<li><a href=\"MapClick.php?lat=37.7772&amp;lon=-122.4168&amp;unit=0&amp;lg=english&amp;FcstType=graphical\">Hourly Weather Forecast</a></li>\n",
       "<li><a href=\"MapClick.php?lat=37.7772&amp;lon=-122.4168&amp;unit=0&amp;lg=english&amp;FcstType=digital\">Tabular Forecast</a></li>\n",
       "<!-- <li><a href=\"afm/PointClick.php?lat=37.7772&lon=-122.4168\">Quick Forecast</a></li> -->\n",
       "</ul>\n",
       "</div>\n",
       "<div class=\"linkBlock\">\n",
       "<ul class=\"list-unstyled\">\n",
       "<li><a href=\"//weather.gov/aq/probe_aq_data.php?latitude=37.7772&amp;longitude=-122.4168\">Air Quality Forecasts</a></li>\n",
       "<li><a href=\"MapClick.php?lat=37.7772&amp;lon=-122.4168&amp;FcstType=text&amp;unit=1&amp;lg=en\">International System of Units</a></li>\n",
       "<li><a href=\"//www.wrh.noaa.gov/forecast/wxtables/index.php?lat=37.7772&amp;lon=-122.4168\">Forecast Weather Table Interface</a></li>\n",
       "</ul>\n",
       "</div>\n",
       "<!-- /First nine-ten links -->\n",
       "<!-- Additional links -->\n",
       "<div class=\"linkBlock\"><ul class=\"list-unstyled\"><li><a href=\"http://www.wrh.noaa.gov/mtr/versprod.php?pil=RR8&amp;sid=RSA\" target=\"_self\">Hourly River Stages</a></li><li><a href=\"http://www.wrh.noaa.gov/mtr/versprod.php?pil=RR5&amp;sid=RSA\" target=\"_self\">Hourly Rainfall</a></li></ul></div><div class=\"linkBlock\"><ul class=\"list-unstyled\"><li><a href=\"http://www.wrh.noaa.gov/mtr/wxlinks.php\" target=\"_self\">NWS Office Map</a></li><li><a href=\"http://www.wrh.noaa.gov/mtr/wx_calculator.php\" target=\"_self\">Weather Calculator</a></li></ul></div><div class=\"linkBlock\"><ul class=\"list-unstyled\"><li><a href=\"http://www.nws.noaa.gov/wtf/udaf/area/?site=mtr\" target=\"_self\">User Defined Area</a></li></ul></div>\n",
       "</div> <!-- /linkBlockContainer -->\n",
       "</div><!-- /additional-forecasts-body-->\n",
       "</div> <!-- /additional_forecasts -->\n",
       "</div> <!-- /Everything on the left-hand side -->\n",
       "<!-- right-side-data -->\n",
       "<div class=\"col-md-5 col-lg-4\" id=\"right-side-data\">\n",
       "<div id=\"mapAndDescriptionArea\">\n",
       "<!-- openlayer map -->\n",
       "<style>\n",
       "#custom-search{\n",
       "display: block;\n",
       "position: relative;\n",
       "z-index: 50;\n",
       "top: 52px;\n",
       "left: 60px;\n",
       "}\n",
       "#esri-geocoder-search{\n",
       "display: block;\n",
       "position: relative;\n",
       "z-index: 50;\n",
       "top: 52px;\n",
       "left: 60px;\n",
       "}\n",
       "#emap{\n",
       "margin-top:15px;\n",
       "cursor:pointer;\n",
       "height:370px;\n",
       "width:100%;\n",
       "border: 1px solid #ccc;\n",
       "border-radius: 3px;\n",
       "}\n",
       "#switch-basemap-container{\n",
       "}\n",
       "#basemap-selection-form ul{\n",
       "list-style: none;\n",
       " margin: 0px;\n",
       "}\n",
       "#basemap-selection-form li{\n",
       "float: left;\n",
       "}\n",
       ".disclaimer{\n",
       "margin-top:350px;\n",
       "margin-left: 5px;\n",
       "z-index: 100;\n",
       "position: absolute;\n",
       "text-transform: none;\n",
       "}\n",
       ".esriAttributionLastItem{\n",
       "text-transform: none;\n",
       "}\n",
       ".esriSimpleSlider div{\n",
       "height:22px;\n",
       "line-height:20px;\n",
       "width:20px;\n",
       "}\n",
       "#point-forecast-map-label {\n",
       "text-align:center;\n",
       "font-weight:bold;\n",
       "color:black;\n",
       "}\n",
       "@media (max-width: 767px) {\n",
       "#emap{\n",
       "margin-top:.5em;\n",
       "height:270px;\n",
       "}\n",
       ".disclaimer{\n",
       "margin-top:250px;\n",
       "}\n",
       "}\n",
       "</style>\n",
       "<!-- forecast-map -->\n",
       "<div class=\"point-forecast-map\">\n",
       "<div class=\"point-forecast-map-header text-center\">\n",
       "<div id=\"toolbar\">\n",
       "<div id=\"switch-basemap-container\">\n",
       "<div id=\"basemap-selection-form\" title=\"Choose a Basemap\">\n",
       "<div id=\"basemap-menu\">\n",
       "<select autocomplete=\"off\" id=\"basemap-selected\" name=\"basemap-selected\" title=\"Basemap Dropdown Menu\">\n",
       "<option value=\"none\">Select Basemap</option>\n",
       "<option selected=\"\" value=\"topo\">Topographic</option>\n",
       "<option value=\"streets\">Streets</option>\n",
       "<option value=\"satellite\">Satellite</option>\n",
       "<option value=\"ocean\">Ocean</option>\n",
       "</select>\n",
       "</div>\n",
       "</div>\n",
       "<div id=\"point-forecast-map-label\">\n",
       "                    Click Map For Forecast\n",
       "                </div>\n",
       "</div><!-- //#switch-basemap-container -->\n",
       "<div style=\"clear:both;\"></div>\n",
       "</div><!-- //#toolbar -->\n",
       "</div><!-- //.point-forecast-map-header -->\n",
       "<div id=\"emap\">\n",
       "<noscript><center><br/><br/><b>Map function requires Javascript and a compatible browser.</b></center></noscript>\n",
       "<div class=\"disclaimer\"><a href=\"http://www.weather.gov/disclaimer#esri\">Disclaimer</a></div>\n",
       "</div><!-- //#emap -->\n",
       "<div class=\"point-forecast-map-footer\">\n",
       "<img alt=\"Map Legend\" height=\"16\" src=\"./images/wtf/maplegend_forecast-area.gif\" width=\"100\"/>\n",
       "</div><!-- //.point-forecast-map-footer -->\n",
       "</div> <!-- //.point-forecast-map -->\n",
       "<!-- //forecast-map -->\n",
       "<!-- //openlayer map -->\n",
       "<!-- About this Forecast -->\n",
       "<div id=\"about_forecast\">\n",
       "<div class=\"fullRow\">\n",
       "<div class=\"left\">Point Forecast:</div>\n",
       "<div class=\"right\">San Francisco CA<br/> 37.77°N 122.41°W (Elev. 131 ft)</div>\n",
       "</div>\n",
       "<div class=\"fullRow\">\n",
       "<div class=\"left\"><a href=\"//www.weather.gov/glossary/index.php?word=Last+update\" target=\"_blank\">Last Update</a>: </div>\n",
       "<div class=\"right\">3:01 pm PST Dec 1, 2022</div>\n",
       "</div>\n",
       "<div class=\"fullRow\">\n",
       "<div class=\"left\"><a href=\"//www.weather.gov/glossary/index.php?word=forecast+valid+for\" target=\"_blank\">Forecast Valid</a>: </div>\n",
       "<div class=\"right\">4pm PST Dec 1, 2022-6pm PST Dec 8, 2022</div>\n",
       "</div>\n",
       "<div class=\"fullRow\">\n",
       "<div class=\"left\"> </div>\n",
       "<div class=\"right\"><a href=\"https://forecast.weather.gov/product.php?site=MTR&amp;issuedby=MTR&amp;product=AFD&amp;format=CI&amp;version=1&amp;glossary=1\">Forecast Discussion</a></div>\n",
       "</div>\n",
       "<div class=\"fullRow\">\n",
       "<div class=\"left\"> </div>\n",
       "<div class=\"right\">\n",
       "<a href=\"MapClick.php?lat=37.7772&amp;lon=-122.4168&amp;unit=0&amp;lg=english&amp;FcstType=kml\"><img alt=\"Get as KML\" height=\"17\" src=\"/images/wtf/kml_badge.png\" width=\"45\"/></a>\n",
       "<a href=\"MapClick.php?lat=37.7772&amp;lon=-122.4168&amp;unit=0&amp;lg=english&amp;FcstType=dwml\"><img alt=\"Get as XML\" height=\"17\" src=\"/images/wtf/xml_badge.png\" width=\"45\"/></a>\n",
       "</div>\n",
       "</div>\n",
       "</div>\n",
       "<!-- /About this Forecast -->\n",
       "</div>\n",
       "<!--additionalForecast-->\n",
       "<div class=\"panel panel-default\" id=\"additionalForecast\">\n",
       "<div class=\"panel-heading\">\n",
       "<h2 class=\"panel-title\">Additional Resources</h2>\n",
       "</div>\n",
       "<div class=\"panel-body\">\n",
       "<!-- Radar & Satellite Images -->\n",
       "<div class=\"subItem\" id=\"radar\">\n",
       "<h4>Radar &amp; Satellite Image</h4>\n",
       "<a href=\"http://radar.weather.gov/station/kmux/standard\"><img alt=\"Link to Local Radar Data\" class=\"radar-thumb\" src=\"http://radar.weather.gov/ridge/standard/KMUX_0.gif\" title=\"Link to Local Radar Data\"/></a> <a href=\"https://www.star.nesdis.noaa.gov/GOES/sector.php?sat=G17§or=psw\"><img alt=\"Link to Satellite Data\" class=\"satellite-thumb\" src=\"https://cdn.star.nesdis.noaa.gov/GOES17/ABI/SECTOR/psw/GEOCOLOR/600x600.jpg\" title=\"Link to Satellite Data\"/></a> </div>\n",
       "<!-- /Radar & Satellite Images -->\n",
       "<!-- Hourly Weather Forecast -->\n",
       "<div class=\"subItem\" id=\"feature\">\n",
       "<h4>Hourly Weather Forecast</h4>\n",
       "<a href=\"MapClick.php?lat=37.7772&amp;lon=-122.4168&amp;unit=0&amp;lg=english&amp;FcstType=graphical\"><img class=\"img-responsive\" src=\"newimages/medium/hourlyweather.png\"/></a>\n",
       "</div>\n",
       "<!-- /Hourly Weather Forecast -->\n",
       "<!-- NDFD -->\n",
       "<div class=\"subItem\" id=\"NDFD\">\n",
       "<h4>National Digital Forecast Database</h4>\n",
       "<div class=\"one-sixth-first\"><a href=\"//graphical.weather.gov/sectors/pacsouthwest.php?element=MaxT\"><img alt=\"National Digital Forecast Database Maximum Temperature Forecast\" border=\"0\" height=\"150\" src=\"//graphical.weather.gov/images/thumbnail/latest_MaxMinT_pacsouthwest_thumbnail.png\" title=\"National Digital Forecast Database Maximum Temperature Forecast\" width=\"147\"/></a>\n",
       "<p><a href=\"//graphical.weather.gov/sectors/pacsouthwest.php?element=MaxT\">High Temperature</a></p></div><div class=\"one-sixth-first\"><a href=\"//graphical.weather.gov/sectors/pacsouthwest.php?element=Wx\"><img alt=\"National Digital Forecast Database Weather Element Forecast\" border=\"0\" height=\"150\" src=\"//graphical.weather.gov/images/thumbnail/latest_Wx_pacsouthwest_thumbnail.png\" title=\"National Digital Forecast Database Weather Element Forecast\" width=\"147\"/></a>\n",
       "<p><a href=\"//graphical.weather.gov/sectors/pacsouthwest.php?element=Wx\">Chance of Precipitation</a></p></div> </div>\n",
       "<!-- /NDFD -->\n",
       "</div>\n",
       "</div>\n",
       "<!-- /additionalForecast -->\n",
       "</div>\n",
       "<!-- /col-md-4 -->\n",
       "<!-- /right-side-data -->\n",
       "<script language=\"javascript\">$( document ).ready(function() { load_openlayers_map('', '', '', '{\"centroid_lat\":\"37.7772\",\"centroid_lon\":\"-122.4168\",\"lat1\":\"37.7595\",\"lon1\":\"-122.4205\",\"lat2\":\"37.781\",\"lon2\":\"-122.426\",\"lat3\":\"37.7855\",\"lon3\":\"-122.3985\",\"lat4\":\"37.764\",\"lon4\":\"-122.393\"}') });</script></div>\n",
       "<!-- /row  -->\n",
       "</img></div>\n",
       "<!-- /PageFormat-Land -->\n",
       "\n",
       "<footer>\n",
       "<div class=\"sitemap-content row\" id=\"sitemap\">\n",
       "<div class=\"col-xs-12\">\n",
       "<div class=\"sitemap-columns\">\n",
       "<div class=\"sitemap-section\">\n",
       "<div class=\"panel-heading\">\n",
       "<a class=\"sitemap-section-heading\" href=\"http://alerts.weather.gov\">ACTIVE ALERTS</a>\n",
       "<button class=\"menu-toggle pull-right\" data-target=\"#sitemap-1\" data-toggle=\"collapse\" type=\"button\">\n",
       "<span class=\"sr-only\">Toggle menu</span>\n",
       "<span class=\"icon-bar\"></span>\n",
       "<span class=\"icon-bar\"></span>\n",
       "<span class=\"icon-bar\"></span>\n",
       "</button>\n",
       "</div>\n",
       "<div class=\"sitemap-section-body panel-body collapsable collapse\" id=\"sitemap-1\">\n",
       "<ul class=\"list-unstyled\">\n",
       "<li><a href=\" http://alerts.weather.gov\">Warnings By State</a></li>\n",
       "<li><a href=\" http://www.wpc.ncep.noaa.gov/ww.shtml\">Excessive Rainfall and Winter Weather Forecasts</a></li>\n",
       "<li><a href=\"http://water.weather.gov/ahps/?current_color=flood&amp;current_type=all&amp;fcst_type=obs&amp;conus_map=d_map\">River Flooding </a></li>\n",
       "<li><a href=\" http://www.weather.gov\">Latest Warnings</a></li>\n",
       "<li><a href=\" http://www.spc.noaa.gov/products/outlook/\">Thunderstorm/Tornado Outlook </a></li>\n",
       "<li><a href=\" http://www.nhc.noaa.gov/\">Hurricanes </a></li>\n",
       "<li><a href=\" http://www.spc.noaa.gov/products/fire_wx/\">Fire Weather Outlooks </a></li>\n",
       "<li><a href=\" http://www.cpc.ncep.noaa.gov/products/stratosphere/uv_index/uv_alert.shtml\">UV Alerts </a></li>\n",
       "<li><a href=\" http://www.drought.gov/\">Drought </a></li>\n",
       "<li><a href=\"http://www.swpc.noaa.gov/products/alerts-watches-and-warnings\">Space Weather </a></li>\n",
       "<li><a href=\" http://www.nws.noaa.gov/nwr/\">NOAA Weather Radio </a></li>\n",
       "<li><a href=\" http://alerts.weather.gov/\">NWS CAP Feeds </a></li>\n",
       "</ul>\n",
       "</div>\n",
       "</div>\n",
       "<div class=\"sitemap-section\">\n",
       "<div class=\"panel-heading\">\n",
       "<a class=\"sitemap-section-heading\" href=\"https://www.weather.gov/wrh/climate\">PAST WEATHER</a>\n",
       "<button class=\"menu-toggle pull-right\" data-target=\"#sitemap-2\" data-toggle=\"collapse\" type=\"button\">\n",
       "<span class=\"sr-only\">Toggle menu</span>\n",
       "<span class=\"icon-bar\"></span>\n",
       "<span class=\"icon-bar\"></span>\n",
       "<span class=\"icon-bar\"></span>\n",
       "</button>\n",
       "</div>\n",
       "<div class=\"sitemap-section-body panel-body collapsable collapse\" id=\"sitemap-2\">\n",
       "<ul class=\"list-unstyled\">\n",
       "<li><a href=\" http://www.cpc.ncep.noaa.gov/products/MD_index.shtml\">Climate Monitoring </a></li>\n",
       "<li><a href=\"https://www.weather.gov/wrh/climate\">Past Weather </a></li>\n",
       "<li><a href=\"https://www.weather.gov/wrh/climate\">Monthly Temps </a></li>\n",
       "<li><a href=\"https://www.weather.gov/wrh/climate\">Records </a></li>\n",
       "<li><a href=\"https://www.esrl.noaa.gov/gmd/grad/solcalc/sunrise.html\">Astronomical Data </a></li>\n",
       "<li><a href=\"https://www.climate.gov/maps-data/dataset/past-weather-zip-code-data-table\">Certified Weather Data </a></li>\n",
       "</ul>\n",
       "</div>\n",
       "</div>\n",
       "<div class=\"sitemap-section\">\n",
       "<div class=\"panel-heading\">\n",
       "<a class=\"sitemap-section-heading\" href=\"http://www.weather.gov/current\">CURRENT CONDITIONS</a>\n",
       "<button class=\"menu-toggle pull-right\" data-target=\"#sitemap-3\" data-toggle=\"collapse\" type=\"button\">\n",
       "<span class=\"sr-only\">Toggle menu</span>\n",
       "<span class=\"icon-bar\"></span>\n",
       "<span class=\"icon-bar\"></span>\n",
       "<span class=\"icon-bar\"></span>\n",
       "</button>\n",
       "</div>\n",
       "<div class=\"sitemap-section-body panel-body collapsable collapse\" id=\"sitemap-3\">\n",
       "<ul class=\"list-unstyled\">\n",
       "<li><a href=\" https://radar.weather.gov\">Radar </a></li>\n",
       "<li><a href=\"http://www.cpc.ncep.noaa.gov/products/monitoring_and_data/\">Climate Monitoring </a></li>\n",
       "<li><a href=\" http://water.weather.gov/ahps/\">River Levels </a></li>\n",
       "<li><a href=\" http://water.weather.gov/precip/\">Observed Precipitation </a></li>\n",
       "<li><a href=\"https://www.wpc.ncep.noaa.gov/sfc/sfcobs/sfcobs.shtml\">Surface Weather </a></li>\n",
       "<li><a href=\"http://www.spc.noaa.gov/obswx/maps/\">Upper Air </a></li>\n",
       "<li><a href=\" http://www.ndbc.noaa.gov/\">Marine and Buoy Reports </a></li>\n",
       "<li><a href=\"http://www.nohrsc.noaa.gov/interactive/html/map.html\">Snow Cover </a></li>\n",
       "<li><a href=\" http://www.weather.gov/satellite\">Satellite </a></li>\n",
       "<li><a href=\" http://www.swpc.noaa.gov/\">Space Weather </a></li>\n",
       "<li><a href=\"http://www.weather.gov/pr\">International Observations</a></li>\n",
       "</ul>\n",
       "</div>\n",
       "</div>\n",
       "<div class=\"sitemap-section\">\n",
       "<div class=\"panel-heading\">\n",
       "<a class=\"sitemap-section-heading\" href=\"http://weather.gov/forecastmaps\">FORECAST</a>\n",
       "<button class=\"menu-toggle pull-right\" data-target=\"#sitemap-4\" data-toggle=\"collapse\" type=\"button\">\n",
       "<span class=\"sr-only\">Toggle menu</span>\n",
       "<span class=\"icon-bar\"></span>\n",
       "<span class=\"icon-bar\"></span>\n",
       "<span class=\"icon-bar\"></span>\n",
       "</button>\n",
       "</div>\n",
       "<div class=\"sitemap-section-body panel-body collapsable collapse\" id=\"sitemap-4\">\n",
       "<ul class=\"list-unstyled\">\n",
       "<li><a href=\" http://www.weather.gov/\">Local Forecast </a></li>\n",
       "<li><a href=\"http://www.weather.gov/pr\">International Forecasts</a></li>\n",
       "<li><a href=\" http://www.spc.noaa.gov/\">Severe Weather </a></li>\n",
       "<li><a href=\" http://www.wpc.ncep.noaa.gov/\">Current Outlook Maps </a></li>\n",
       "<li><a href=\"http://www.cpc.ncep.noaa.gov/products/Drought\">Drought </a></li>\n",
       "<li><a href=\"http://www.weather.gov/fire\">Fire Weather </a></li>\n",
       "<li><a href=\" http://www.wpc.ncep.noaa.gov/\">Fronts/Precipitation Maps </a></li>\n",
       "<li><a href=\" http://www.nws.noaa.gov/forecasts/graphical/\">Current Graphical Forecast Maps </a></li>\n",
       "<li><a href=\"http://water.weather.gov/ahps/forecasts.php\">Rivers </a></li>\n",
       "<li><a href=\"https://www.weather.gov/marine/\">Marine </a></li>\n",
       "<li><a href=\"https://ocean.weather.gov/marine_areas.php\">Offshore and High Seas</a></li>\n",
       "<li><a href=\" http://www.nhc.noaa.gov/\">Hurricanes </a></li>\n",
       "<li><a href=\" http://aviationweather.gov\">Aviation Weather </a></li>\n",
       "<li><a href=\"http://www.cpc.ncep.noaa.gov/products/OUTLOOKS_index.shtml\">Climatic Outlook </a></li>\n",
       "</ul>\n",
       "</div>\n",
       "</div>\n",
       "<div class=\"sitemap-section\">\n",
       "<div class=\"panel-heading\">\n",
       "<a class=\"sitemap-section-heading\" href=\"http://www.weather.gov/informationcenter\">INFORMATION CENTER</a>\n",
       "<button class=\"menu-toggle pull-right\" data-target=\"#sitemap-5\" data-toggle=\"collapse\" type=\"button\">\n",
       "<span class=\"sr-only\">Toggle menu</span>\n",
       "<span class=\"icon-bar\"></span>\n",
       "<span class=\"icon-bar\"></span>\n",
       "<span class=\"icon-bar\"></span>\n",
       "</button>\n",
       "</div>\n",
       "<div class=\"sitemap-section-body panel-body collapsable collapse\" id=\"sitemap-5\">\n",
       "<ul class=\"list-unstyled\">\n",
       "<li><a href=\" http://www.spaceweather.gov\">Space Weather </a></li>\n",
       "<li><a href=\"http://www.weather.gov/briefing/\">Daily Briefing </a></li>\n",
       "<li><a href=\" http://www.nws.noaa.gov/om/marine/home.htm\">Marine </a></li>\n",
       "<li><a href=\"https://www.weather.gov/wrh/climate\">Climate </a></li>\n",
       "<li><a href=\"http://www.weather.gov/fire\">Fire Weather </a></li>\n",
       "<li><a href=\" http://www.aviationweather.gov/\">Aviation </a></li>\n",
       "<li><a href=\"http://mag.ncep.noaa.gov/\">Forecast Models </a></li>\n",
       "<li><a href=\"http://water.weather.gov/ahps/\">Water </a></li>\n",
       "<li><a href=\"https://www.weather.gov/gis/\">GIS</a></li>\n",
       "<li><a href=\" http://www.nws.noaa.gov/om/coop/\">Cooperative Observers </a></li>\n",
       "<li><a href=\"https://www.weather.gov/skywarn/\">Storm Spotters </a></li>\n",
       "<li><a href=\"http://www.tsunami.gov\">Tsunami Warning System</a></li>\n",
       "<li><a href=\"http://water.noaa.gov/\">National Water Center</a></li>\n",
       "<li><a href=\"http://www.weather.gov/pr\">International Weather</a></li>\n",
       "</ul>\n",
       "</div>\n",
       "</div>\n",
       "<div class=\"sitemap-section\">\n",
       "<div class=\"panel-heading\">\n",
       "<a class=\"sitemap-section-heading\" href=\"http://weather.gov/safety\">WEATHER SAFETY</a>\n",
       "<button class=\"menu-toggle pull-right\" data-target=\"#sitemap-6\" data-toggle=\"collapse\" type=\"button\">\n",
       "<span class=\"sr-only\">Toggle menu</span>\n",
       "<span class=\"icon-bar\"></span>\n",
       "<span class=\"icon-bar\"></span>\n",
       "<span class=\"icon-bar\"></span>\n",
       "</button>\n",
       "</div>\n",
       "<div class=\"sitemap-section-body panel-body collapsable collapse\" id=\"sitemap-6\">\n",
       "<ul class=\"list-unstyled\">\n",
       "<li><a href=\"http://www.weather.gov/nwr/\">NOAA Weather Radio</a></li>\n",
       "<li><a href=\"http://www.weather.gov/stormready/\">StormReady</a></li>\n",
       "<li><a href=\"http://www.nws.noaa.gov/om/heat/index.shtml\">Heat </a></li>\n",
       "<li><a href=\"https://www.weather.gov/safety/lightning\">Lightning </a></li>\n",
       "<li><a href=\" http://www.nhc.noaa.gov/prepare/\">Hurricanes </a></li>\n",
       "<li><a href=\"http://www.nws.noaa.gov/om/thunderstorm/\">Thunderstorms </a></li>\n",
       "<li><a href=\"https://www.weather.gov/safety/tornado\">Tornadoes </a></li>\n",
       "<li><a href=\"https://www.weather.gov/safety/ripcurrent\">Rip Currents </a></li>\n",
       "<li><a href=\"https://www.weather.gov/safety/flood\">Floods </a></li>\n",
       "<li><a href=\"https://www.weather.gov/safety/tsunami\">Tsunamis</a></li>\n",
       "<li><a href=\"https://www.weather.gov/tsunamiready/\">TsunamiReady</a></li>\n",
       "<li><a href=\" http://www.weather.gov/om/winter/index.shtml\">Winter Weather </a></li>\n",
       "<li><a href=\"http://www.nws.noaa.gov/om/heat/uv.shtml\">Ultra Violet Radiation </a></li>\n",
       "<li><a href=\" http://www.weather.gov/airquality/\">Air Quality </a></li>\n",
       "<li><a href=\" http://www.weather.gov/om/hazstats.shtml\">Damage/Fatality/Injury Statistics </a></li>\n",
       "<li><a href=\" http://www.redcross.org/\">Red Cross </a></li>\n",
       "<li><a href=\" http://www.fema.gov/\">Federal Emergency Management Agency (FEMA) </a></li>\n",
       "<li><a href=\" http://www.weather.gov/om/brochures.shtml\">Brochures </a></li>\n",
       "<li><a href=\"http://www.nws.noaa.gov/os/marine/safeboating/\">Safe Boating</a></li>\n",
       "</ul>\n",
       "</div>\n",
       "</div>\n",
       "<div class=\"sitemap-section\">\n",
       "<div class=\"panel-heading\">\n",
       "<a class=\"sitemap-section-heading\" href=\"http://weather.gov/news\">NEWS</a>\n",
       "<button class=\"menu-toggle pull-right\" data-target=\"#sitemap-7\" data-toggle=\"collapse\" type=\"button\">\n",
       "<span class=\"sr-only\">Toggle menu</span>\n",
       "<span class=\"icon-bar\"></span>\n",
       "<span class=\"icon-bar\"></span>\n",
       "<span class=\"icon-bar\"></span>\n",
       "</button>\n",
       "</div>\n",
       "<div class=\"sitemap-section-body panel-body collapsable collapse\" id=\"sitemap-7\">\n",
       "<ul class=\"list-unstyled\">\n",
       "<li><a href=\" http://weather.gov/news\">Newsroom</a></li>\n",
       "<li><a href=\" http://weather.gov/socialmedia\">Social Media </a></li>\n",
       "<li><a href=\"http://www.nws.noaa.gov/com/weatherreadynation/calendar.html\">Events</a></li>\n",
       "<li><a href=\" http://www.weather.gov/om/brochures.shtml\">Pubs/Brochures/Booklets </a></li>\n",
       "</ul>\n",
       "</div>\n",
       "</div>\n",
       "<div class=\"sitemap-section\">\n",
       "<div class=\"panel-heading\">\n",
       "<a class=\"sitemap-section-heading\" href=\"http://weather.gov/owlie\">EDUCATION</a>\n",
       "<button class=\"menu-toggle pull-right\" data-target=\"#sitemap-8\" data-toggle=\"collapse\" type=\"button\">\n",
       "<span class=\"sr-only\">Toggle menu</span>\n",
       "<span class=\"icon-bar\"></span>\n",
       "<span class=\"icon-bar\"></span>\n",
       "<span class=\"icon-bar\"></span>\n",
       "</button>\n",
       "</div>\n",
       "<div class=\"sitemap-section-body panel-body collapsable collapse\" id=\"sitemap-8\">\n",
       "<ul class=\"list-unstyled\">\n",
       "<li><a href=\"http://weather.gov/education\">NWS Education Home</a></li>\n",
       "<li><a href=\"http://www.nws.noaa.gov/com/weatherreadynation/force.html\">Be A Force of Nature</a></li>\n",
       "<li><a href=\" http://www.education.noaa.gov/Weather_and_Atmosphere/\">NOAA Education Resources </a></li>\n",
       "<li><a href=\" http://www.weather.gov/glossary/\">Glossary </a></li>\n",
       "<li><a href=\"https://www.weather.gov/jetstream/\">JetStream </a></li>\n",
       "<li><a href=\" http://www.weather.gov/training/\">NWS Training Portal </a></li>\n",
       "<li><a href=\"https://library.noaa.gov/\">NOAA Library </a></li>\n",
       "<li><a href=\"http://weather.gov/owlie\">For Students, Parents and Teachers</a></li>\n",
       "<li><a href=\"http://www.weather.gov/owlie/publication_brochures\">Brochures </a></li>\n",
       "</ul>\n",
       "</div>\n",
       "</div>\n",
       "<div class=\"sitemap-section\">\n",
       "<div class=\"panel-heading\">\n",
       "<a class=\"sitemap-section-heading\" href=\"http://weather.gov/about\">ABOUT</a>\n",
       "<button class=\"menu-toggle pull-right\" data-target=\"#sitemap-9\" data-toggle=\"collapse\" type=\"button\">\n",
       "<span class=\"sr-only\">Toggle menu</span>\n",
       "<span class=\"icon-bar\"></span>\n",
       "<span class=\"icon-bar\"></span>\n",
       "<span class=\"icon-bar\"></span>\n",
       "</button>\n",
       "</div>\n",
       "<div class=\"sitemap-section-body panel-body collapsable collapse\" id=\"sitemap-9\">\n",
       "<ul class=\"list-unstyled\">\n",
       "<li><a href=\"http://weather.gov/organization\">Organization </a></li>\n",
       "<li><a href=\"https://www.weather.gov/media/wrn/NWS_Weather-Ready-Nation_Strategic_Plan_2019-2022.pdf\">Strategic Plan </a></li>\n",
       "<li><a href=\"https:/weather.gov/insider\">For NWS Employees </a></li>\n",
       "<li><a href=\"https://www.weather.gov/international/\">International </a></li>\n",
       "<li><a href=\"http://www.ncep.noaa.gov/\">National Centers </a></li>\n",
       "<li><a href=\" http://www.weather.gov/tg/\">Products and Services </a></li>\n",
       "<li><a href=\"http://www.weather.gov/careers/\">Careers</a></li>\n",
       "<li><a href=\" http://www.weather.gov/glossary/\">Glossary </a></li>\n",
       "<li><a href=\"http://weather.gov/contact\">Contact Us </a></li>\n",
       "</ul>\n",
       "</div>\n",
       "</div>\n",
       "</div>\n",
       "</div>\n",
       "</div>\n",
       "<!-- legal footer area -->\n",
       "<div class=\"footer-legal\">\n",
       "<div class=\"col-xs-12 col-sm-2 col-md-2\" id=\"footerLogo\">\n",
       "<a href=\"//www.usa.gov\"><img alt=\"usa.gov\" height=\"30\" src=\"/css/images/usa_gov.png\" width=\"110\"/></a>\n",
       "</div>\n",
       "<div class=\"col-xs-12 col-sm-4 col-md-4\">\n",
       "<ul class=\"list-unstyled footer-legal-content\">\n",
       "<li><a href=\"//www.commerce.gov\">US Dept of Commerce</a></li>\n",
       "<li><a href=\"//www.noaa.gov\">National Oceanic and Atmospheric Administration</a></li>\n",
       "<li><a href=\"//www.weather.gov\">National Weather Service</a></li>\n",
       "<li><a href=\"https://www.weather.gov/mtr\">San Francisco Bay Area, CA</a></li><li><br><a href=\"mailto:w-mtr.webmaster@noaa.gov\">Comments? Questions? Please Contact Us.</a></br></li> </ul>\n",
       "</div>\n",
       "<div class=\"col-xs-12 col-sm-3 col-md-3\">\n",
       "<ul class=\"list-unstyled\">\n",
       "<li><a href=\"https://www.weather.gov/disclaimer\">Disclaimer</a></li>\n",
       "<li><a href=\"//www.cio.noaa.gov/services_programs/info_quality.html\">Information Quality</a></li>\n",
       "<li><a href=\"https://www.weather.gov/help\">Help</a></li>\n",
       "<li><a href=\"//www.weather.gov/glossary\">Glossary</a></li>\n",
       "</ul>\n",
       "</div>\n",
       "<div class=\"col-xs-12 col-sm-3 col-md-3\">\n",
       "<ul class=\"list-unstyled\">\n",
       "<li><a href=\"https://www.weather.gov/privacy\">Privacy Policy</a></li>\n",
       "<li><a href=\"https://www.noaa.gov/foia-freedom-of-information-act\">Freedom of Information Act (FOIA)</a></li>\n",
       "<li><a href=\"https://www.weather.gov/about\">About Us</a></li>\n",
       "<li><a href=\"https://www.weather.gov/careers\">Career Opportunities</a></li>\n",
       "</ul>\n",
       "</div>\n",
       "</div>\n",
       "</footer>\n",
       "</main>\n",
       "</body>\n",
       "</html>"
      ]
     },
     "execution_count": 94,
     "metadata": {},
     "output_type": "execute_result"
    }
   ],
   "source": [
    "page = re.get('https://forecast.weather.gov/MapClick.php?lat=37.7772&lon=-122.4168')\n",
    "soup = BeautifulSoup(page.content, 'html.parser')\n",
    "soup"
   ]
  },
  {
   "cell_type": "code",
   "execution_count": 95,
   "metadata": {},
   "outputs": [
    {
     "data": {
      "text/plain": [
       "[<div class=\"tombstone-container\">\n",
       " <p class=\"period-name\">This<br/>Afternoon</p>\n",
       " <p><img alt=\"This Afternoon: Rain likely before 5pm.  Mostly cloudy, with a steady temperature around 52. West northwest wind 9 to 11 mph.  Chance of precipitation is 70%. New precipitation amounts of less than a tenth of an inch possible. \" class=\"forecast-icon\" src=\"newimages/medium/ra70.png\" title=\"This Afternoon: Rain likely before 5pm.  Mostly cloudy, with a steady temperature around 52. West northwest wind 9 to 11 mph.  Chance of precipitation is 70%. New precipitation amounts of less than a tenth of an inch possible. \"/></p><p class=\"short-desc\">Rain Likely</p><p class=\"temp temp-high\">High: 52 °F</p></div>,\n",
       " <div class=\"tombstone-container\">\n",
       " <p class=\"period-name\">Tonight<br/><br/></p>\n",
       " <p><img alt=\"Tonight: Mostly clear, with a low around 39. North wind 6 to 13 mph. \" class=\"forecast-icon\" src=\"newimages/medium/nfew.png\" title=\"Tonight: Mostly clear, with a low around 39. North wind 6 to 13 mph. \"/></p><p class=\"short-desc\">Mostly Clear</p><p class=\"temp temp-low\">Low: 39 °F</p></div>,\n",
       " <div class=\"tombstone-container\">\n",
       " <p class=\"period-name\">Friday<br/><br/></p>\n",
       " <p><img alt=\"Friday: Sunny, with a high near 54. Northeast wind 6 to 9 mph. \" class=\"forecast-icon\" src=\"newimages/medium/few.png\" title=\"Friday: Sunny, with a high near 54. Northeast wind 6 to 9 mph. \"/></p><p class=\"short-desc\">Sunny</p><p class=\"temp temp-high\">High: 54 °F</p></div>,\n",
       " <div class=\"tombstone-container\">\n",
       " <p class=\"period-name\">Friday<br/>Night</p>\n",
       " <p><img alt=\"Friday Night: A 30 percent chance of rain after 5am.  Partly cloudy, with a low around 42. East northeast wind 5 to 9 mph.  New precipitation amounts of less than a tenth of an inch possible. \" class=\"forecast-icon\" src=\"DualImage.php?i=nsct&amp;j=nra&amp;jp=30\" title=\"Friday Night: A 30 percent chance of rain after 5am.  Partly cloudy, with a low around 42. East northeast wind 5 to 9 mph.  New precipitation amounts of less than a tenth of an inch possible. \"/></p><p class=\"short-desc\">Partly Cloudy<br/>then Chance<br/>Rain</p><p class=\"temp temp-low\">Low: 42 °F</p></div>,\n",
       " <div class=\"tombstone-container\">\n",
       " <p class=\"period-name\">Saturday<br/><br/></p>\n",
       " <p><img alt=\"Saturday: Rain likely, mainly after 11am.  Mostly cloudy, with a high near 54. East wind 5 to 7 mph.  Chance of precipitation is 70%. New precipitation amounts between a quarter and half of an inch possible. \" class=\"forecast-icon\" src=\"newimages/medium/ra70.png\" title=\"Saturday: Rain likely, mainly after 11am.  Mostly cloudy, with a high near 54. East wind 5 to 7 mph.  Chance of precipitation is 70%. New precipitation amounts between a quarter and half of an inch possible. \"/></p><p class=\"short-desc\">Rain Likely</p><p class=\"temp temp-high\">High: 54 °F</p></div>,\n",
       " <div class=\"tombstone-container\">\n",
       " <p class=\"period-name\">Saturday<br/>Night</p>\n",
       " <p><img alt=\"Saturday Night: Rain.  Low around 46. Chance of precipitation is 90%. New precipitation amounts between a tenth and quarter of an inch possible. \" class=\"forecast-icon\" src=\"newimages/medium/nra90.png\" title=\"Saturday Night: Rain.  Low around 46. Chance of precipitation is 90%. New precipitation amounts between a tenth and quarter of an inch possible. \"/></p><p class=\"short-desc\">Rain</p><p class=\"temp temp-low\">Low: 46 °F</p></div>,\n",
       " <div class=\"tombstone-container\">\n",
       " <p class=\"period-name\">Sunday<br/><br/></p>\n",
       " <p><img alt=\"Sunday: Rain.  High near 58. Chance of precipitation is 90%.\" class=\"forecast-icon\" src=\"newimages/medium/ra90.png\" title=\"Sunday: Rain.  High near 58. Chance of precipitation is 90%.\"/></p><p class=\"short-desc\">Rain</p><p class=\"temp temp-high\">High: 58 °F</p></div>,\n",
       " <div class=\"tombstone-container\">\n",
       " <p class=\"period-name\">Sunday<br/>Night</p>\n",
       " <p><img alt=\"Sunday Night: Rain likely.  Mostly cloudy, with a low around 46.\" class=\"forecast-icon\" src=\"newimages/medium/nra.png\" title=\"Sunday Night: Rain likely.  Mostly cloudy, with a low around 46.\"/></p><p class=\"short-desc\">Rain Likely</p><p class=\"temp temp-low\">Low: 46 °F</p></div>,\n",
       " <div class=\"tombstone-container\">\n",
       " <p class=\"period-name\">Monday<br/><br/></p>\n",
       " <p><img alt=\"Monday: A chance of rain.  Partly sunny, with a high near 56.\" class=\"forecast-icon\" src=\"newimages/medium/ra.png\" title=\"Monday: A chance of rain.  Partly sunny, with a high near 56.\"/></p><p class=\"short-desc\">Chance Rain</p><p class=\"temp temp-high\">High: 56 °F</p></div>]"
      ]
     },
     "execution_count": 95,
     "metadata": {},
     "output_type": "execute_result"
    }
   ],
   "source": [
    "seven_day = soup.find(id = 'seven-day-forecast')\n",
    "forecast_items = seven_day.find_all(class_ = 'tombstone-container')\n",
    "forecast_items"
   ]
  },
  {
   "cell_type": "code",
   "execution_count": 96,
   "metadata": {},
   "outputs": [
    {
     "name": "stdout",
     "output_type": "stream",
     "text": [
      "<div class=\"tombstone-container\">\n",
      " <p class=\"period-name\">\n",
      "  Tonight\n",
      "  <br/>\n",
      "  <br/>\n",
      " </p>\n",
      " <p>\n",
      "  <img alt=\"Tonight: Mostly clear, with a low around 39. North wind 6 to 13 mph. \" class=\"forecast-icon\" src=\"newimages/medium/nfew.png\" title=\"Tonight: Mostly clear, with a low around 39. North wind 6 to 13 mph. \"/>\n",
      " </p>\n",
      " <p class=\"short-desc\">\n",
      "  Mostly Clear\n",
      " </p>\n",
      " <p class=\"temp temp-low\">\n",
      "  Low: 39 °F\n",
      " </p>\n",
      "</div>\n"
     ]
    }
   ],
   "source": [
    "tonight = forecast_items[1]\n",
    "print(tonight.prettify())"
   ]
  },
  {
   "cell_type": "code",
   "execution_count": 97,
   "metadata": {},
   "outputs": [
    {
     "name": "stdout",
     "output_type": "stream",
     "text": [
      "Tonight\n",
      "Mostly Clear\n",
      "Low: 39 °F\n"
     ]
    }
   ],
   "source": [
    "period = tonight.find(class_=\"period-name\").get_text()\n",
    "short_desc = tonight.find(class_=\"short-desc\").get_text()\n",
    "temp = tonight.find(class_=\"temp\").get_text()\n",
    "print(period)\n",
    "print(short_desc)\n",
    "print(temp)"
   ]
  },
  {
   "cell_type": "code",
   "execution_count": 98,
   "metadata": {},
   "outputs": [
    {
     "name": "stdout",
     "output_type": "stream",
     "text": [
      "Tonight: Mostly clear, with a low around 39. North wind 6 to 13 mph. \n"
     ]
    }
   ],
   "source": [
    "img = tonight.find(\"img\")\n",
    "desc = img['title']\n",
    "print(desc)"
   ]
  },
  {
   "cell_type": "code",
   "execution_count": 99,
   "metadata": {},
   "outputs": [
    {
     "data": {
      "text/plain": [
       "['ThisAfternoon',\n",
       " 'Tonight',\n",
       " 'Friday',\n",
       " 'FridayNight',\n",
       " 'Saturday',\n",
       " 'SaturdayNight',\n",
       " 'Sunday',\n",
       " 'SundayNight',\n",
       " 'Monday']"
      ]
     },
     "execution_count": 99,
     "metadata": {},
     "output_type": "execute_result"
    }
   ],
   "source": [
    "period_tags = seven_day.select('.tombstone-container .period-name')\n",
    "periods = [pt.get_text() for pt in period_tags]\n",
    "periods"
   ]
  },
  {
   "cell_type": "code",
   "execution_count": 100,
   "metadata": {},
   "outputs": [
    {
     "name": "stdout",
     "output_type": "stream",
     "text": [
      "['Rain Likely', 'Mostly Clear', 'Sunny', 'Partly Cloudythen ChanceRain', 'Rain Likely', 'Rain', 'Rain', 'Rain Likely', 'Chance Rain']\n",
      "['High: 52 °F', 'Low: 39 °F', 'High: 54 °F', 'Low: 42 °F', 'High: 54 °F', 'Low: 46 °F', 'High: 58 °F', 'Low: 46 °F', 'High: 56 °F']\n",
      "['This Afternoon: Rain likely before 5pm.  Mostly cloudy, with a steady temperature around 52. West northwest wind 9 to 11 mph.  Chance of precipitation is 70%. New precipitation amounts of less than a tenth of an inch possible. ', 'Tonight: Mostly clear, with a low around 39. North wind 6 to 13 mph. ', 'Friday: Sunny, with a high near 54. Northeast wind 6 to 9 mph. ', 'Friday Night: A 30 percent chance of rain after 5am.  Partly cloudy, with a low around 42. East northeast wind 5 to 9 mph.  New precipitation amounts of less than a tenth of an inch possible. ', 'Saturday: Rain likely, mainly after 11am.  Mostly cloudy, with a high near 54. East wind 5 to 7 mph.  Chance of precipitation is 70%. New precipitation amounts between a quarter and half of an inch possible. ', 'Saturday Night: Rain.  Low around 46. Chance of precipitation is 90%. New precipitation amounts between a tenth and quarter of an inch possible. ', 'Sunday: Rain.  High near 58. Chance of precipitation is 90%.', 'Sunday Night: Rain likely.  Mostly cloudy, with a low around 46.', 'Monday: A chance of rain.  Partly sunny, with a high near 56.']\n"
     ]
    }
   ],
   "source": [
    "short_descs = [sd.get_text() for sd in seven_day.select(\".tombstone-container .short-desc\")]\n",
    "temps = [t.get_text() for t in seven_day.select(\".tombstone-container .temp\")]\n",
    "descs = [d[\"title\"] for d in seven_day.select(\".tombstone-container img\")]\n",
    "print(short_descs)\n",
    "print(temps)\n",
    "print(descs)"
   ]
  },
  {
   "cell_type": "code",
   "execution_count": 101,
   "metadata": {},
   "outputs": [
    {
     "data": {
      "text/html": [
       "<div>\n",
       "<style scoped>\n",
       "    .dataframe tbody tr th:only-of-type {\n",
       "        vertical-align: middle;\n",
       "    }\n",
       "\n",
       "    .dataframe tbody tr th {\n",
       "        vertical-align: top;\n",
       "    }\n",
       "\n",
       "    .dataframe thead th {\n",
       "        text-align: right;\n",
       "    }\n",
       "</style>\n",
       "<table border=\"1\" class=\"dataframe\">\n",
       "  <thead>\n",
       "    <tr style=\"text-align: right;\">\n",
       "      <th></th>\n",
       "      <th>period</th>\n",
       "      <th>short_desc</th>\n",
       "      <th>temp</th>\n",
       "      <th>desc</th>\n",
       "    </tr>\n",
       "  </thead>\n",
       "  <tbody>\n",
       "    <tr>\n",
       "      <th>0</th>\n",
       "      <td>ThisAfternoon</td>\n",
       "      <td>Rain Likely</td>\n",
       "      <td>High: 52 °F</td>\n",
       "      <td>This Afternoon: Rain likely before 5pm.  Mostl...</td>\n",
       "    </tr>\n",
       "    <tr>\n",
       "      <th>1</th>\n",
       "      <td>Tonight</td>\n",
       "      <td>Mostly Clear</td>\n",
       "      <td>Low: 39 °F</td>\n",
       "      <td>Tonight: Mostly clear, with a low around 39. N...</td>\n",
       "    </tr>\n",
       "    <tr>\n",
       "      <th>2</th>\n",
       "      <td>Friday</td>\n",
       "      <td>Sunny</td>\n",
       "      <td>High: 54 °F</td>\n",
       "      <td>Friday: Sunny, with a high near 54. Northeast ...</td>\n",
       "    </tr>\n",
       "    <tr>\n",
       "      <th>3</th>\n",
       "      <td>FridayNight</td>\n",
       "      <td>Partly Cloudythen ChanceRain</td>\n",
       "      <td>Low: 42 °F</td>\n",
       "      <td>Friday Night: A 30 percent chance of rain afte...</td>\n",
       "    </tr>\n",
       "    <tr>\n",
       "      <th>4</th>\n",
       "      <td>Saturday</td>\n",
       "      <td>Rain Likely</td>\n",
       "      <td>High: 54 °F</td>\n",
       "      <td>Saturday: Rain likely, mainly after 11am.  Mos...</td>\n",
       "    </tr>\n",
       "    <tr>\n",
       "      <th>5</th>\n",
       "      <td>SaturdayNight</td>\n",
       "      <td>Rain</td>\n",
       "      <td>Low: 46 °F</td>\n",
       "      <td>Saturday Night: Rain.  Low around 46. Chance o...</td>\n",
       "    </tr>\n",
       "    <tr>\n",
       "      <th>6</th>\n",
       "      <td>Sunday</td>\n",
       "      <td>Rain</td>\n",
       "      <td>High: 58 °F</td>\n",
       "      <td>Sunday: Rain.  High near 58. Chance of precipi...</td>\n",
       "    </tr>\n",
       "    <tr>\n",
       "      <th>7</th>\n",
       "      <td>SundayNight</td>\n",
       "      <td>Rain Likely</td>\n",
       "      <td>Low: 46 °F</td>\n",
       "      <td>Sunday Night: Rain likely.  Mostly cloudy, wit...</td>\n",
       "    </tr>\n",
       "    <tr>\n",
       "      <th>8</th>\n",
       "      <td>Monday</td>\n",
       "      <td>Chance Rain</td>\n",
       "      <td>High: 56 °F</td>\n",
       "      <td>Monday: A chance of rain.  Partly sunny, with ...</td>\n",
       "    </tr>\n",
       "  </tbody>\n",
       "</table>\n",
       "</div>"
      ],
      "text/plain": [
       "          period                    short_desc         temp  \\\n",
       "0  ThisAfternoon                   Rain Likely  High: 52 °F   \n",
       "1        Tonight                  Mostly Clear   Low: 39 °F   \n",
       "2         Friday                         Sunny  High: 54 °F   \n",
       "3    FridayNight  Partly Cloudythen ChanceRain   Low: 42 °F   \n",
       "4       Saturday                   Rain Likely  High: 54 °F   \n",
       "5  SaturdayNight                          Rain   Low: 46 °F   \n",
       "6         Sunday                          Rain  High: 58 °F   \n",
       "7    SundayNight                   Rain Likely   Low: 46 °F   \n",
       "8         Monday                   Chance Rain  High: 56 °F   \n",
       "\n",
       "                                                desc  \n",
       "0  This Afternoon: Rain likely before 5pm.  Mostl...  \n",
       "1  Tonight: Mostly clear, with a low around 39. N...  \n",
       "2  Friday: Sunny, with a high near 54. Northeast ...  \n",
       "3  Friday Night: A 30 percent chance of rain afte...  \n",
       "4  Saturday: Rain likely, mainly after 11am.  Mos...  \n",
       "5  Saturday Night: Rain.  Low around 46. Chance o...  \n",
       "6  Sunday: Rain.  High near 58. Chance of precipi...  \n",
       "7  Sunday Night: Rain likely.  Mostly cloudy, wit...  \n",
       "8  Monday: A chance of rain.  Partly sunny, with ...  "
      ]
     },
     "execution_count": 101,
     "metadata": {},
     "output_type": "execute_result"
    }
   ],
   "source": [
    "weather = pd.DataFrame({\n",
    "  'period': periods,\n",
    "  'short_desc': short_descs,\n",
    "  'temp': temps,\n",
    "  'desc': descs  \n",
    "})\n",
    "\n",
    "weather"
   ]
  },
  {
   "cell_type": "code",
   "execution_count": 112,
   "metadata": {},
   "outputs": [
    {
     "data": {
      "text/plain": [
       "0    52\n",
       "1    39\n",
       "2    54\n",
       "3    42\n",
       "4    54\n",
       "5    46\n",
       "6    58\n",
       "7    46\n",
       "8    56\n",
       "Name: temp, dtype: object"
      ]
     },
     "execution_count": 112,
     "metadata": {},
     "output_type": "execute_result"
    }
   ],
   "source": [
    "temp_nums = weather[\"temp\"].str.extract(r'([0-9]+)', expand=False)\n",
    "weather[\"temp_num\"] = temp_nums.astype('int')\n",
    "temp_nums"
   ]
  },
  {
   "cell_type": "code",
   "execution_count": 113,
   "metadata": {},
   "outputs": [
    {
     "data": {
      "text/plain": [
       "49.666666666666664"
      ]
     },
     "execution_count": 113,
     "metadata": {},
     "output_type": "execute_result"
    }
   ],
   "source": [
    "weather['temp_num'].mean()"
   ]
  },
  {
   "cell_type": "code",
   "execution_count": 114,
   "metadata": {},
   "outputs": [
    {
     "data": {
      "text/plain": [
       "0    False\n",
       "1     True\n",
       "2    False\n",
       "3     True\n",
       "4    False\n",
       "5     True\n",
       "6    False\n",
       "7     True\n",
       "8    False\n",
       "Name: temp, dtype: bool"
      ]
     },
     "execution_count": 114,
     "metadata": {},
     "output_type": "execute_result"
    }
   ],
   "source": [
    "is_night = weather['temp'].str.contains('Low')\n",
    "weather['is_night'] = is_night\n",
    "is_night"
   ]
  },
  {
   "cell_type": "code",
   "execution_count": 115,
   "metadata": {},
   "outputs": [],
   "source": [
    "weather['is_night'] = is_night"
   ]
  },
  {
   "cell_type": "code",
   "execution_count": 117,
   "metadata": {},
   "outputs": [
    {
     "data": {
      "text/html": [
       "<div>\n",
       "<style scoped>\n",
       "    .dataframe tbody tr th:only-of-type {\n",
       "        vertical-align: middle;\n",
       "    }\n",
       "\n",
       "    .dataframe tbody tr th {\n",
       "        vertical-align: top;\n",
       "    }\n",
       "\n",
       "    .dataframe thead th {\n",
       "        text-align: right;\n",
       "    }\n",
       "</style>\n",
       "<table border=\"1\" class=\"dataframe\">\n",
       "  <thead>\n",
       "    <tr style=\"text-align: right;\">\n",
       "      <th></th>\n",
       "      <th>period</th>\n",
       "      <th>short_desc</th>\n",
       "      <th>temp</th>\n",
       "      <th>desc</th>\n",
       "      <th>temp_num</th>\n",
       "      <th>is_night</th>\n",
       "    </tr>\n",
       "  </thead>\n",
       "  <tbody>\n",
       "    <tr>\n",
       "      <th>1</th>\n",
       "      <td>Tonight</td>\n",
       "      <td>Mostly Clear</td>\n",
       "      <td>Low: 39 °F</td>\n",
       "      <td>Tonight: Mostly clear, with a low around 39. N...</td>\n",
       "      <td>39</td>\n",
       "      <td>True</td>\n",
       "    </tr>\n",
       "    <tr>\n",
       "      <th>3</th>\n",
       "      <td>FridayNight</td>\n",
       "      <td>Partly Cloudythen ChanceRain</td>\n",
       "      <td>Low: 42 °F</td>\n",
       "      <td>Friday Night: A 30 percent chance of rain afte...</td>\n",
       "      <td>42</td>\n",
       "      <td>True</td>\n",
       "    </tr>\n",
       "    <tr>\n",
       "      <th>5</th>\n",
       "      <td>SaturdayNight</td>\n",
       "      <td>Rain</td>\n",
       "      <td>Low: 46 °F</td>\n",
       "      <td>Saturday Night: Rain.  Low around 46. Chance o...</td>\n",
       "      <td>46</td>\n",
       "      <td>True</td>\n",
       "    </tr>\n",
       "    <tr>\n",
       "      <th>7</th>\n",
       "      <td>SundayNight</td>\n",
       "      <td>Rain Likely</td>\n",
       "      <td>Low: 46 °F</td>\n",
       "      <td>Sunday Night: Rain likely.  Mostly cloudy, wit...</td>\n",
       "      <td>46</td>\n",
       "      <td>True</td>\n",
       "    </tr>\n",
       "  </tbody>\n",
       "</table>\n",
       "</div>"
      ],
      "text/plain": [
       "          period                    short_desc        temp  \\\n",
       "1        Tonight                  Mostly Clear  Low: 39 °F   \n",
       "3    FridayNight  Partly Cloudythen ChanceRain  Low: 42 °F   \n",
       "5  SaturdayNight                          Rain  Low: 46 °F   \n",
       "7    SundayNight                   Rain Likely  Low: 46 °F   \n",
       "\n",
       "                                                desc  temp_num  is_night  \n",
       "1  Tonight: Mostly clear, with a low around 39. N...        39      True  \n",
       "3  Friday Night: A 30 percent chance of rain afte...        42      True  \n",
       "5  Saturday Night: Rain.  Low around 46. Chance o...        46      True  \n",
       "7  Sunday Night: Rain likely.  Mostly cloudy, wit...        46      True  "
      ]
     },
     "execution_count": 117,
     "metadata": {},
     "output_type": "execute_result"
    }
   ],
   "source": [
    "weather[is_night]"
   ]
  },
  {
   "cell_type": "code",
   "execution_count": null,
   "metadata": {},
   "outputs": [],
   "source": []
  }
 ],
 "metadata": {
  "kernelspec": {
   "display_name": "Python 3.8.13 ('lighthouse')",
   "language": "python",
   "name": "python3"
  },
  "language_info": {
   "codemirror_mode": {
    "name": "ipython",
    "version": 3
   },
   "file_extension": ".py",
   "mimetype": "text/x-python",
   "name": "python",
   "nbconvert_exporter": "python",
   "pygments_lexer": "ipython3",
   "version": "3.8.13"
  },
  "orig_nbformat": 4,
  "vscode": {
   "interpreter": {
    "hash": "f6bdb6bebcaa6c165db367a86e382ae8df75f09257c40532b854029e0e3d706f"
   }
  }
 },
 "nbformat": 4,
 "nbformat_minor": 2
}
