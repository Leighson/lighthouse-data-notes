{
 "cells": [
  {
   "cell_type": "markdown",
   "id": "35e275cc-3bc4-4c32-9f29-fdd22dff45cb",
   "metadata": {},
   "source": [
    "# XML Tutorial"
   ]
  },
  {
   "cell_type": "code",
   "execution_count": 1,
   "id": "ff5c738a-6d99-4e97-bb5c-1ddafa6723f0",
   "metadata": {},
   "outputs": [],
   "source": [
    "import xml.etree.ElementTree as et"
   ]
  },
  {
   "cell_type": "code",
   "execution_count": 2,
   "id": "8f1ff57e-0237-40bc-b9a0-f74f0920bcf4",
   "metadata": {},
   "outputs": [],
   "source": [
    "tree = et.parse('data.xml')"
   ]
  },
  {
   "cell_type": "code",
   "execution_count": 3,
   "id": "24288eb7-9706-491f-9a27-b0418dca3fbf",
   "metadata": {},
   "outputs": [
    {
     "name": "stdout",
     "output_type": "stream",
     "text": [
      "<class 'xml.etree.ElementTree.ElementTree'>\n"
     ]
    }
   ],
   "source": [
    "print(type(tree))"
   ]
  },
  {
   "cell_type": "code",
   "execution_count": 4,
   "id": "821aa873-8e37-4b1d-9487-ec78c6f78dfd",
   "metadata": {},
   "outputs": [],
   "source": [
    "root = tree.getroot()"
   ]
  },
  {
   "cell_type": "markdown",
   "id": "e6977e06-cd25-45ab-a479-8aeb5925295a",
   "metadata": {},
   "source": [
    "`root` represents the top element of the file. We can check its `tag` and `attributes`."
   ]
  },
  {
   "cell_type": "code",
   "execution_count": 5,
   "id": "cfa5fc9f-931e-4924-8ace-d8a3f0021b38",
   "metadata": {},
   "outputs": [
    {
     "name": "stdout",
     "output_type": "stream",
     "text": [
      "data\n",
      "{}\n",
      "3\n"
     ]
    }
   ],
   "source": [
    "print(root.tag)\n",
    "print(root.attrib)\n",
    "print(len(root))"
   ]
  },
  {
   "cell_type": "code",
   "execution_count": 7,
   "id": "6698ea3f-563a-40e3-9ecc-fd0bbc7b17a6",
   "metadata": {},
   "outputs": [],
   "source": [
    "# First child of the root\n",
    "country1 = root[0]\n",
    "# First child of the child\n",
    "rank = country1[0]"
   ]
  },
  {
   "cell_type": "code",
   "execution_count": 9,
   "id": "8694458f-cd0a-48a7-8743-c2ac43f28957",
   "metadata": {},
   "outputs": [
    {
     "name": "stdout",
     "output_type": "stream",
     "text": [
      "rank\n",
      "1\n",
      "{'name': 'Switzerland', 'direction': 'W'}\n"
     ]
    }
   ],
   "source": [
    "# What is the tag of the grandchild\n",
    "print(rank.tag)\n",
    "# What is the text inside this grandchild\n",
    "print(rank.text)\n",
    "# What are the attributes of last element?\n",
    "print(country1[4].attrib)"
   ]
  },
  {
   "cell_type": "code",
   "execution_count": 10,
   "id": "8a12d170-d51c-414e-b68c-b8e4594c5677",
   "metadata": {},
   "outputs": [],
   "source": [
    "country3 = root[2]"
   ]
  },
  {
   "cell_type": "code",
   "execution_count": 11,
   "id": "bb7d2b54-ffdf-4031-88cb-0951d3796881",
   "metadata": {},
   "outputs": [],
   "source": [
    "rank = country3[0]"
   ]
  },
  {
   "cell_type": "code",
   "execution_count": 18,
   "id": "aeec3024-7eeb-4419-9c54-6a98ce4e3404",
   "metadata": {},
   "outputs": [
    {
     "name": "stdout",
     "output_type": "stream",
     "text": [
      "rank\n",
      "68\n",
      "{'name': 'Colombia', 'direction': 'E'}\n"
     ]
    }
   ],
   "source": [
    "print(rank.tag)\n",
    "print(rank.text)\n",
    "print(country3[4].attrib)"
   ]
  },
  {
   "cell_type": "code",
   "execution_count": 19,
   "id": "d8e116d2-db53-4ff6-989c-6a06a92ddb22",
   "metadata": {},
   "outputs": [],
   "source": [
    "for neighbor in root.iter('neighbhor'):\n",
    "  print(neighbor.attrib)"
   ]
  },
  {
   "cell_type": "code",
   "execution_count": 24,
   "id": "18f112b6-246a-4301-9c49-42e355a679ba",
   "metadata": {},
   "outputs": [
    {
     "name": "stdout",
     "output_type": "stream",
     "text": [
      "[<Element 'neighbor' at 0x107eaa9f0>, <Element 'neighbor' at 0x107eaaa40>, <Element 'neighbor' at 0x107eaabd0>, <Element 'neighbor' at 0x107eaad60>, <Element 'neighbor' at 0x107eaadb0>]\n"
     ]
    }
   ],
   "source": [
    "print(root.findall('./country/neighbor'))"
   ]
  },
  {
   "cell_type": "code",
   "execution_count": null,
   "id": "16c87277-0b1f-4ca5-9052-f481640a40e8",
   "metadata": {},
   "outputs": [],
   "source": []
  }
 ],
 "metadata": {
  "kernelspec": {
   "display_name": "lighthouse",
   "language": "python",
   "name": "lighthouse"
  },
  "language_info": {
   "codemirror_mode": {
    "name": "ipython",
    "version": 3
   },
   "file_extension": ".py",
   "mimetype": "text/x-python",
   "name": "python",
   "nbconvert_exporter": "python",
   "pygments_lexer": "ipython3",
   "version": "3.8.13"
  }
 },
 "nbformat": 4,
 "nbformat_minor": 5
}
