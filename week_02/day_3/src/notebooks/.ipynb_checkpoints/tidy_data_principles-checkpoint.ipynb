{
 "cells": [
  {
   "cell_type": "markdown",
   "id": "477eb43d-8bd7-4ca8-8546-4754c838fac5",
   "metadata": {},
   "source": [
    "# Tidy Data\n",
    "\n",
    "- [*Tidy Data*](https://vita.had.co.nz/papers/tidy-data.pdf) by Hadley Wickham\n",
    "\n",
    "![rows/columns/values](../images/01_tidy_data.png)"
   ]
  },
  {
   "cell_type": "markdown",
   "id": "5e1a4aac-7282-4fc7-b906-d3f1d0a77acb",
   "metadata": {
    "tags": []
   },
   "source": [
    "## Examples of Untidy data\n",
    "\n",
    "### ex. 1\n",
    "\n",
    "- dataset: `puppies`\n",
    "- info: measuring the weights (kg) of puppies after 6 months and 24 months\n",
    "\n",
    "\n",
    "| name  | 6 | 24 |\n",
    "|----|----|----|\n",
    "| pippa | 8 | 12 |\n",
    "| prairie | 5 | 10 |\n",
    "\n",
    "\n",
    "* the column names aren't variables rather values of a variable (age).\n",
    "\n",
    "\n",
    "tidied example:\n",
    "\n",
    "| name | age | weight |\n",
    "|------|-----|--------|\n",
    "| pippa | 6 | 8 |\n",
    "| prairie | 6 | 5|\n",
    "| pippa | 24 | 12 |\n",
    "| prairie | 24 | 10 |\n",
    "\n",
    "### ex. 2\n",
    "\n",
    "- dataset: `test_scores`\n",
    "- info: documenting test scores of students\n",
    "\n",
    "\n",
    "| student_id | test_name | score |\n",
    "| ---------- | --------- | ----- |\n",
    "| 1          | bio       | 76/100|\n",
    "| 2          | bio       | 90/100|\n",
    "| 1          | anthro    | 200/250|\n",
    "\n",
    "* `score` column is a composite value of `points earned` over `points available`\n",
    "\n",
    "tidied example:\n",
    "\n",
    "| student_id | test_name | points_earned | points_available |\n",
    "| ---------- | --------- | ----- | -----|\n",
    "| 1          | bio       | 76 | 100 |\n",
    "| 2          | bio       | 90 | 100 |\n",
    "| 1          | anthro    | 200 | 250 |"
   ]
  },
  {
   "cell_type": "markdown",
   "id": "584ef989-5cae-4d9d-bf00-972e4eb19b49",
   "metadata": {},
   "source": [
    "## Our turn \n",
    "### Why is this table untidy?\n",
    "\n",
    "data: TB cases\n",
    "\n",
    "| country | cases (year 1999) | cases (year 2000) | population (year 1999) | population (year 2000) |\n",
    "| ------- | ----------------- | ----------------- | ---------------------- | ---------------------- |\n",
    "| Afghanistan | 745 | 2666 | 19987071 | 20595360 |\n",
    "| Brazil | 37737 | 80488 | 172006362 | 174504897 |\n",
    "| China | 212258 | 213766 | 1272915272 | 1280428583 | \n",
    "\n"
   ]
  },
  {
   "cell_type": "code",
   "execution_count": null,
   "id": "ac1fa29f-5ffb-4894-a64d-b3314166f78a",
   "metadata": {},
   "outputs": [],
   "source": []
  }
 ],
 "metadata": {
  "kernelspec": {
   "display_name": "Python 3 (ipykernel)",
   "language": "python",
   "name": "python3"
  },
  "language_info": {
   "codemirror_mode": {
    "name": "ipython",
    "version": 3
   },
   "file_extension": ".py",
   "mimetype": "text/x-python",
   "name": "python",
   "nbconvert_exporter": "python",
   "pygments_lexer": "ipython3",
   "version": "3.10.2"
  }
 },
 "nbformat": 4,
 "nbformat_minor": 5
}
