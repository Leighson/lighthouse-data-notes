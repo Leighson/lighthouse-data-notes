{
 "cells": [
  {
   "cell_type": "markdown",
   "id": "754c0c9a-af49-48e0-bb4b-60226cc80543",
   "metadata": {},
   "source": [
    "# Implementation of Neural Network Using NumPy"
   ]
  },
  {
   "cell_type": "markdown",
   "id": "87bf8e6b-24df-4abe-bfee-0150bafa6f9b",
   "metadata": {},
   "source": [
    "**DNN** (Deep Neural Network) in a machine learning algorithm that is inspired by the way the human brain works. **DNN** is mainly used as a classification algorithm. In this article, we will look at the stepwise approach on how to implement the basic **DNN** algorithm in NumPy from scratch."
   ]
  },
  {
   "cell_type": "markdown",
   "id": "dd737804-eebc-4bec-90da-7c80ae861373",
   "metadata": {},
   "source": [
    "The purpose of this article is to create a sense of understanding on how neural networks work and how to implement them. Firstly, we are going to build a three-letter (A, B, C) classifier. For simplicity, we are going to create the letters (A, B, C) as an array of 0s and 1s, and then we are going to ignore the bias term related with each node."
   ]
  },
  {
   "cell_type": "markdown",
   "id": "4c0c22f5-33e0-4a11-b2fa-ac3e9ad5209b",
   "metadata": {},
   "source": [
    "## Step 1: Create the Dataset"
   ]
  },
  {
   "cell_type": "code",
   "execution_count": 1,
   "id": "7933a8b8-1e79-4076-b87b-1888d22ebe9c",
   "metadata": {},
   "outputs": [],
   "source": [
    "# A\n",
    "a =[0, 0, 1, 1, 0, 0,\n",
    "   0, 1, 0, 0, 1, 0,\n",
    "   1, 1, 1, 1, 1, 1,\n",
    "   1, 0, 0, 0, 0, 1,\n",
    "   1, 0, 0, 0, 0, 1]\n",
    "# B\n",
    "b =[0, 1, 1, 1, 1, 0,\n",
    "   0, 1, 0, 0, 1, 0,\n",
    "   0, 1, 1, 1, 1, 0,\n",
    "   0, 1, 0, 0, 1, 0,\n",
    "   0, 1, 1, 1, 1, 0]\n",
    "# C\n",
    "c =[0, 1, 1, 1, 1, 0,\n",
    "   0, 1, 0, 0, 0, 0,\n",
    "   0, 1, 0, 0, 0, 0,\n",
    "   0, 1, 0, 0, 0, 0,\n",
    "   0, 1, 1, 1, 1, 0]\n",
    " \n",
    "# Creating labels\n",
    "y =[[1, 0, 0],\n",
    "   [0, 1, 0],\n",
    "   [0, 0, 1]]"
   ]
  },
  {
   "cell_type": "code",
   "execution_count": 2,
   "id": "a8389930-b702-46c1-a339-3732976ec245",
   "metadata": {},
   "outputs": [],
   "source": [
    "import numpy as np\n",
    "import matplotlib.pyplot as plt\n",
    "\n",
    "from IPython.display import Image"
   ]
  },
  {
   "cell_type": "markdown",
   "id": "d6c47dce-3ae9-4194-8a6f-5773995feb8d",
   "metadata": {},
   "source": [
    "## Step 2: Visualization of the Dataset"
   ]
  },
  {
   "cell_type": "code",
   "execution_count": 3,
   "id": "974a74eb-be78-46e7-9776-0c9ee2ebfb11",
   "metadata": {
    "tags": []
   },
   "outputs": [
    {
     "data": {
      "image/png": "[encoded data removed]",
      "text/plain": [
       "<Figure size 432x288 with 1 Axes>"
      ]
     },
     "metadata": {
      "needs_background": "light"
     },
     "output_type": "display_data"
    }
   ],
   "source": [
    "# visualize the data\n",
    "plt.imshow(np.array(a).reshape(5, 6))\n",
    "plt.show()"
   ]
  },
  {
   "cell_type": "code",
   "execution_count": 4,
   "id": "c9da8b0c-40d3-4272-8f33-e413d0ef3815",
   "metadata": {
    "tags": []
   },
   "outputs": [
    {
     "data": {
      "image/png": "[encoded data removed]",
      "text/plain": [
       "<Figure size 432x288 with 1 Axes>"
      ]
     },
     "metadata": {
      "needs_background": "light"
     },
     "output_type": "display_data"
    }
   ],
   "source": [
    "# visualize the data\n",
    "plt.imshow(np.array(b).reshape(5, 6))\n",
    "plt.show()"
   ]
  },
  {
   "cell_type": "code",
   "execution_count": 5,
   "id": "f997430f-c905-434e-972f-4c51e0d5fddc",
   "metadata": {
    "tags": []
   },
   "outputs": [
    {
     "data": {
      "image/png": "[encoded data removed]",
      "text/plain": [
       "<Figure size 432x288 with 1 Axes>"
      ]
     },
     "metadata": {
      "needs_background": "light"
     },
     "output_type": "display_data"
    }
   ],
   "source": [
    "# visualize the data\n",
    "plt.imshow(np.array(c).reshape(5, 6))\n",
    "plt.show()"
   ]
  },
  {
   "cell_type": "markdown",
   "id": "6e7731e0-0ad5-4af9-8866-dd55e1c11afb",
   "metadata": {},
   "source": [
    "## Step 3: Convert Dataset into NumPy Array"
   ]
  },
  {
   "cell_type": "code",
   "execution_count": 6,
   "id": "2fa911e4-5564-4b0b-8ddd-6f5156e1dc5d",
   "metadata": {
    "tags": []
   },
   "outputs": [
    {
     "name": "stdout",
     "output_type": "stream",
     "text": [
      "[array([[0, 0, 1, 1, 0, 0, 0, 1, 0, 0, 1, 0, 1, 1, 1, 1, 1, 1, 1, 0, 0, 0,\n",
      "        0, 1, 1, 0, 0, 0, 0, 1]]), array([[0, 1, 1, 1, 1, 0, 0, 1, 0, 0, 1, 0, 0, 1, 1, 1, 1, 0, 0, 1, 0, 0,\n",
      "        1, 0, 0, 1, 1, 1, 1, 0]]), array([[0, 1, 1, 1, 1, 0, 0, 1, 0, 0, 0, 0, 0, 1, 0, 0, 0, 0, 0, 1, 0, 0,\n",
      "        0, 0, 0, 1, 1, 1, 1, 0]])] \n",
      "\n",
      " [[1 0 0]\n",
      " [0 1 0]\n",
      " [0 0 1]]\n"
     ]
    }
   ],
   "source": [
    "# converting data and labels into numpy array\n",
    "\"\"\"\n",
    "Convert the matrix of 0 and 1 into one hot vector so that we can directly feed it\n",
    "to the neural network, then store in a list 'x'.\n",
    "\"\"\"\n",
    "\n",
    "x = [np.array(a).reshape(1, 30),\n",
    "     np.array(b).reshape(1, 30),\n",
    "     np.array(c).reshape(1, 30)]\n",
    "\n",
    "y = np.array(y)\n",
    "\n",
    "print(x, '\\n\\n', y)"
   ]
  },
  {
   "cell_type": "markdown",
   "id": "ca6b4ce4-6b98-4612-8faa-eacadee1ff7b",
   "metadata": {},
   "source": [
    "## Step 4: Define the Architecture or Structure"
   ]
  },
  {
   "cell_type": "code",
   "execution_count": 7,
   "id": "4c2ffdfc-c12a-43c6-8e8e-20ab517c22f3",
   "metadata": {},
   "outputs": [
    {
     "data": {
      "text/html": [
       "<img src=\"https://media.geeksforgeeks.org/wp-content/uploads/20200522110034/NURELNETWORK.jpg\" width=\"500\"/>"
      ],
      "text/plain": [
       "<IPython.core.display.Image object>"
      ]
     },
     "execution_count": 7,
     "metadata": {},
     "output_type": "execute_result"
    }
   ],
   "source": [
    "Image(url=\"https://media.geeksforgeeks.org/wp-content/uploads/20200522110034/NURELNETWORK.jpg\", width=500)"
   ]
  },
  {
   "cell_type": "markdown",
   "id": "ff4f3464-eaee-4e29-9e68-aaf14127026c",
   "metadata": {},
   "source": [
    "1. Input layer (1, 30)\n",
    "2. Hidden layer (1, 5)\n",
    "3. Output layer (1, 3)"
   ]
  },
  {
   "cell_type": "markdown",
   "id": "5165f243-a545-4e5f-8efe-a73f195f50a4",
   "metadata": {},
   "source": [
    "## Step 5: Declare and Define the _DNN_ Build"
   ]
  },
  {
   "cell_type": "code",
   "execution_count": 8,
   "id": "273aba07-b960-48ce-8e65-d232dec69cdd",
   "metadata": {},
   "outputs": [],
   "source": [
    "# activation function\n",
    "def sigmoid(x):\n",
    "    return(1/(1 + np.exp(-x)))"
   ]
  },
  {
   "cell_type": "code",
   "execution_count": 9,
   "id": "a5d9bb1b-5d5e-47ce-abe9-49a359ac0123",
   "metadata": {},
   "outputs": [],
   "source": [
    "# initialize weights randomly\n",
    "def generate_wt(x, y):\n",
    "    l =[]\n",
    "    for i in range(x * y):\n",
    "        l.append(np.random.randn())\n",
    "    return(np.array(l).reshape(x, y))"
   ]
  },
  {
   "cell_type": "code",
   "execution_count": 10,
   "id": "6672129f-01f2-44c3-8711-ed01c511be09",
   "metadata": {},
   "outputs": [],
   "source": [
    "# per input layer(1, 30)\n",
    "# per hidden layer (1, 5)\n",
    "# per output layer(3, 3)\n",
    "\n",
    "# feed forward\n",
    "def f_forward(x, w1, w2):\n",
    "    \n",
    "    # hidden\n",
    "    z1 = x.dot(w1)# input from layer 1\n",
    "    a1 = sigmoid(z1)# output of layer 2\n",
    "     \n",
    "    # output\n",
    "    z2 = a1.dot(w2)# input of layer out\n",
    "    a2 = sigmoid(z2)# output of layer out\n",
    "    \n",
    "    return(a2)"
   ]
  },
  {
   "cell_type": "code",
   "execution_count": 11,
   "id": "7a15c209-846e-4333-894a-0e0c5d647403",
   "metadata": {},
   "outputs": [],
   "source": [
    "# for loss we will be using mean square error (MSE)\n",
    "def loss(out, y):\n",
    "    s =(np.square(out-y))\n",
    "    s = np.sum(s)/len(y)\n",
    "    return(s)\n",
    "   \n",
    "# back propagation of error\n",
    "# bias is not accounted for here\n",
    "def back_prop(x, y, w1, w2, alpha):\n",
    "     \n",
    "    # hidden layer\n",
    "    z1 = x.dot(w1)# input from layer 1\n",
    "    a1 = sigmoid(z1)# output of layer 2\n",
    "     \n",
    "    # Output layer\n",
    "    z2 = a1.dot(w2)# input of layer out\n",
    "    a2 = sigmoid(z2)# output of layer out\n",
    "    \n",
    "    # error in output layer, MSE loss function\n",
    "    d2 = (a2-y)\n",
    "    d1 = np.multiply(\n",
    "        ( w2.dot(( d2.transpose() )) ).transpose(), ( np.multiply(a1, 1-a1) ))\n",
    "        # (w2*d2)(a1*[1-a1])\n",
    " \n",
    "    # gradient for w1 and w2\n",
    "    w1_adj = x.transpose().dot(d1)\n",
    "    w2_adj = a1.transpose().dot(d2)\n",
    "     \n",
    "    # updating parameters with alpha as learning rate\n",
    "    w1 = w1-(alpha*(w1_adj))\n",
    "    w2 = w2-(alpha*(w2_adj))\n",
    "     \n",
    "    return(w1, w2)"
   ]
  },
  {
   "cell_type": "code",
   "execution_count": 12,
   "id": "7c06f1b6-fe3c-42eb-9bf1-0960a7b39223",
   "metadata": {},
   "outputs": [],
   "source": [
    "def train(x, y, w1, w2, alpha = 0.01, epoch = 10):\n",
    "    \n",
    "    acc =[]\n",
    "    loss =[]\n",
    "    \n",
    "    for j in range(epoch):\n",
    "        \n",
    "        l =[]\n",
    "        \n",
    "        for i in range(len(x)):\n",
    "            out = f_forward(x[i], w1, w2)\n",
    "            l.append((loss(out, y[i])))\n",
    "            w1, w2 = back_prop(x[i], y[i], w1, w2, alpha)\n",
    "            \n",
    "        print(\"epochs:\", j + 1, \"======== acc:\", (1-(sum(l)/len(x)))*100)\n",
    "        \n",
    "        acc.append((1-(sum(l)/len(x)))*100)\n",
    "        loss.append(sum(l)/len(x))\n",
    "        \n",
    "    return(acc, loss, w1, w2)"
   ]
  },
  {
   "cell_type": "code",
   "execution_count": 13,
   "id": "344ed314-b896-4a23-bbcd-077ba8ffd3f1",
   "metadata": {},
   "outputs": [],
   "source": [
    "def predict(x, w1, w2):\n",
    "    \n",
    "    out = f_forward(x, w1, w2)\n",
    "    maxm = 0\n",
    "    k = 0\n",
    "    \n",
    "    for i in range(len(out[0])):\n",
    "        if(maxm < out[0][i]):\n",
    "            maxm = Out[0][i]\n",
    "            k = i\n",
    "            \n",
    "    if(k == 0):\n",
    "        print(\"Image is of letter A.\")\n",
    "    elif(k == 1): \n",
    "        print(\"Image is of letter B.\")\n",
    "    else:\n",
    "        print(\"Image is of letter C.\")\n",
    "              \n",
    "    plt.imshow(x.reshape(5, 6))\n",
    "    plt.show()"
   ]
  },
  {
   "cell_type": "markdown",
   "id": "8970ec32-d4d3-41a6-85b3-ed15ecba6ec3",
   "metadata": {},
   "source": [
    "## Step 6: Initialize the Weights"
   ]
  },
  {
   "cell_type": "markdown",
   "id": "8e036515-3031-431b-97d5-38457854b310",
   "metadata": {},
   "source": [
    "Neural network with 3 layers requires 2 weight matrices."
   ]
  },
  {
   "cell_type": "code",
   "execution_count": 14,
   "id": "18f63f4f-dd14-465e-89ab-3e7050fadfcb",
   "metadata": {
    "tags": []
   },
   "outputs": [
    {
     "name": "stdout",
     "output_type": "stream",
     "text": [
      "[[ 0.48769814 -0.3239676  -0.34137962 -1.32478033 -0.10638146]\n",
      " [ 0.24135471 -0.5150272  -2.19230123  1.46081296 -0.37717533]\n",
      " [ 1.62438048  0.87486725 -1.359219    1.14713291 -1.30322137]\n",
      " [ 0.41746464 -0.89929387  3.54630464  1.15814268  0.31419644]\n",
      " [ 0.93368354 -1.40974963 -0.04166022 -0.31102126  0.30884097]\n",
      " [-0.16324748  0.89738385 -1.4883138  -0.65741585 -1.15642332]\n",
      " [ 0.68576096  0.50471349  0.5469892   0.05727649 -1.07518651]\n",
      " [-1.4475785   2.02471876 -1.62572685 -0.2422066  -0.0721306 ]\n",
      " [ 0.14199868 -2.5365961  -0.70343391  1.44121555 -1.25327579]\n",
      " [ 0.29822373  0.30507892  0.26937885 -0.45835978 -1.05224493]\n",
      " [ 0.69256723 -0.76106848  1.92806843  0.02018976 -1.46374691]\n",
      " [ 1.34612117 -2.21428517 -0.38445287  0.07310987 -0.03340263]\n",
      " [-1.32827872  2.16842135 -0.57135327  1.30183014  1.04263373]\n",
      " [-0.33810772 -0.20792254 -0.54418727  1.47552322  0.74440938]\n",
      " [-1.55702888  0.03527743  0.61102828  0.68101758  1.04619373]\n",
      " [ 1.47954398  0.5661026  -0.5309299  -0.50907828 -0.15457832]\n",
      " [ 0.64364852  1.24032872  0.54247733 -0.57758852  0.78050904]\n",
      " [ 1.05539631 -0.78223919  0.90096853  0.03193903 -1.28793432]\n",
      " [ 0.07520828  2.85961074 -0.87649675  0.00438235  1.61435484]\n",
      " [-0.88835179  0.08109874 -0.75939512  1.17484972  0.81671148]\n",
      " [ 1.12007913 -0.93277427 -1.93841027  0.77609429 -0.56722525]\n",
      " [ 0.09698786  0.06810987 -1.37578004 -1.00192647  0.82999236]\n",
      " [-0.10890606  0.67703604  1.15599918 -1.27050268 -1.63809981]\n",
      " [-0.52457429  0.24082441 -0.08834131 -0.36799441 -0.14488507]\n",
      " [ 0.70085678 -0.20763759 -0.02458814 -1.01918902 -1.89101165]\n",
      " [-0.7229416  -1.34314623  0.29828714  1.96800305 -1.53555131]\n",
      " [ 0.04061499  1.72848905  1.11077977  0.5605129   0.48211557]\n",
      " [ 0.34829692  1.12112474  0.45638578  0.87278511 -1.5696532 ]\n",
      " [-1.34854148 -0.71965728 -1.02472994 -0.66168064  1.23797463]\n",
      " [ 0.35812345 -0.42609472  0.05921622  1.59381723 -0.10569942]] \n",
      "\n",
      " [[-0.96709585 -1.56090846 -0.37606967]\n",
      " [ 0.11313942  0.17787046 -0.09115983]\n",
      " [ 0.71740164 -0.25909568 -1.45990539]\n",
      " [ 1.65562526 -1.05907976 -0.3406695 ]\n",
      " [ 0.02805406 -0.29003736  0.77704235]]\n"
     ]
    }
   ],
   "source": [
    "w1 = generate_wt(30, 5)\n",
    "w2 = generate_wt(5, 3)\n",
    "\n",
    "print(w1, \"\\n\\n\", w2)"
   ]
  },
  {
   "cell_type": "markdown",
   "id": "af348b81-abc6-4ef2-a5f2-298e33a73931",
   "metadata": {},
   "source": [
    "## Step 7: Train the Model"
   ]
  },
  {
   "cell_type": "code",
   "execution_count": 15,
   "id": "30785337-6255-4c1f-b693-834eae3abfe5",
   "metadata": {
    "collapsed": true,
    "jupyter": {
     "outputs_hidden": true
    },
    "tags": []
   },
   "outputs": [
    {
     "ename": "TypeError",
     "evalue": "'list' object is not callable",
     "output_type": "error",
     "traceback": [
      "\u001b[0;31m---------------------------------------------------------------------------\u001b[0m",
      "\u001b[0;31mTypeError\u001b[0m                                 Traceback (most recent call last)",
      "Input \u001b[0;32mIn [15]\u001b[0m, in \u001b[0;36m<cell line: 7>\u001b[0;34m()\u001b[0m\n\u001b[1;32m      1\u001b[0m \u001b[38;5;124;03m\"\"\"The arguments of train function are data set list x,\u001b[39;00m\n\u001b[1;32m      2\u001b[0m \u001b[38;5;124;03mcorrect labels y, weights w1, w2, learning rate = 0.1,\u001b[39;00m\n\u001b[1;32m      3\u001b[0m \u001b[38;5;124;03m# of epochss. The function will return the\u001b[39;00m\n\u001b[1;32m      4\u001b[0m \u001b[38;5;124;03mmatrix of accuracy and loss and also the matrix of\u001b[39;00m\n\u001b[1;32m      5\u001b[0m \u001b[38;5;124;03mtrained weights w1, w2.\"\"\"\u001b[39;00m\n\u001b[0;32m----> 7\u001b[0m acc, losss, w1, w2 \u001b[38;5;241m=\u001b[39m \u001b[43mtrain\u001b[49m\u001b[43m(\u001b[49m\u001b[43mx\u001b[49m\u001b[43m,\u001b[49m\u001b[43m \u001b[49m\u001b[43my\u001b[49m\u001b[43m,\u001b[49m\u001b[43m \u001b[49m\u001b[43mw1\u001b[49m\u001b[43m,\u001b[49m\u001b[43m \u001b[49m\u001b[43mw2\u001b[49m\u001b[43m,\u001b[49m\u001b[43m \u001b[49m\u001b[38;5;241;43m0.1\u001b[39;49m\u001b[43m,\u001b[49m\u001b[43m \u001b[49m\u001b[38;5;241;43m100\u001b[39;49m\u001b[43m)\u001b[49m\n",
      "Input \u001b[0;32mIn [12]\u001b[0m, in \u001b[0;36mtrain\u001b[0;34m(x, y, w1, w2, alpha, epoch)\u001b[0m\n\u001b[1;32m     10\u001b[0m \u001b[38;5;28;01mfor\u001b[39;00m i \u001b[38;5;129;01min\u001b[39;00m \u001b[38;5;28mrange\u001b[39m(\u001b[38;5;28mlen\u001b[39m(x)):\n\u001b[1;32m     11\u001b[0m     out \u001b[38;5;241m=\u001b[39m f_forward(x[i], w1, w2)\n\u001b[0;32m---> 12\u001b[0m     l\u001b[38;5;241m.\u001b[39mappend((\u001b[43mloss\u001b[49m\u001b[43m(\u001b[49m\u001b[43mout\u001b[49m\u001b[43m,\u001b[49m\u001b[43m \u001b[49m\u001b[43my\u001b[49m\u001b[43m[\u001b[49m\u001b[43mi\u001b[49m\u001b[43m]\u001b[49m\u001b[43m)\u001b[49m))\n\u001b[1;32m     13\u001b[0m     w1, w2 \u001b[38;5;241m=\u001b[39m back_prop(x[i], y[i], w1, w2, alpha)\n\u001b[1;32m     15\u001b[0m \u001b[38;5;28mprint\u001b[39m(\u001b[38;5;124m\"\u001b[39m\u001b[38;5;124mepochs:\u001b[39m\u001b[38;5;124m\"\u001b[39m, j \u001b[38;5;241m+\u001b[39m \u001b[38;5;241m1\u001b[39m, \u001b[38;5;124m\"\u001b[39m\u001b[38;5;124m======== acc:\u001b[39m\u001b[38;5;124m\"\u001b[39m, (\u001b[38;5;241m1\u001b[39m\u001b[38;5;241m-\u001b[39m(\u001b[38;5;28msum\u001b[39m(l)\u001b[38;5;241m/\u001b[39m\u001b[38;5;28mlen\u001b[39m(x)))\u001b[38;5;241m*\u001b[39m\u001b[38;5;241m100\u001b[39m)\n",
      "\u001b[0;31mTypeError\u001b[0m: 'list' object is not callable"
     ]
    }
   ],
   "source": [
    "\"\"\"The arguments of train function are data set list x,\n",
    "correct labels y, weights w1, w2, learning rate = 0.1,\n",
    "# of epochss. The function will return the\n",
    "matrix of accuracy and loss and also the matrix of\n",
    "trained weights w1, w2.\"\"\"\n",
    " \n",
    "acc, losss, w1, w2 = train(x, y, w1, w2, 0.1, 100)"
   ]
  },
  {
   "cell_type": "code",
   "execution_count": null,
   "id": "6a60d85b-04f1-4af3-adf6-5ac97dbba66e",
   "metadata": {},
   "outputs": [],
   "source": []
  },
  {
   "cell_type": "code",
   "execution_count": null,
   "id": "4df0bbbf-667a-4b28-a8e3-55184ce09a08",
   "metadata": {},
   "outputs": [],
   "source": []
  }
 ],
 "metadata": {
  "kernelspec": {
   "display_name": "Python 3 (ipykernel)",
   "language": "python",
   "name": "python3"
  },
  "language_info": {
   "codemirror_mode": {
    "name": "ipython",
    "version": 3
   },
   "file_extension": ".py",
   "mimetype": "text/x-python",
   "name": "python",
   "nbconvert_exporter": "python",
   "pygments_lexer": "ipython3",
   "version": "3.9.12"
  },
  "toc-autonumbering": false
 },
 "nbformat": 4,
 "nbformat_minor": 5
}
