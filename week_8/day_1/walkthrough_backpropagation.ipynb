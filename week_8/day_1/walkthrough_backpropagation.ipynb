{
 "cells": [
  {
   "cell_type": "markdown",
   "id": "754c0c9a-af49-48e0-bb4b-60226cc80543",
   "metadata": {},
   "source": [
    "# Implementation of Neural Network Using NumPy"
   ]
  },
  {
   "cell_type": "markdown",
   "id": "87bf8e6b-24df-4abe-bfee-0150bafa6f9b",
   "metadata": {},
   "source": [
    "**DNN** (Deep Neural Network) in a machine learning algorithm that is inspired by the way the human brain works. **DNN** is mainly used as a classification algorithm. In this article, we will look at the stepwise approach on how to implement the basic **DNN** algorithm in NumPy from scratch."
   ]
  },
  {
   "cell_type": "markdown",
   "id": "dd737804-eebc-4bec-90da-7c80ae861373",
   "metadata": {},
   "source": [
    "The purpose of this article is to create a sense of understanding on how neural networks work and how to implement them. Firstly, we are going to build a three-letter (A, B, C) classifier. For simplicity, we are going to create the letters (A, B, C) as an array of 0s and 1s, and then we are going to ignore the bias term related with each node."
   ]
  },
  {
   "cell_type": "markdown",
   "id": "4c0c22f5-33e0-4a11-b2fa-ac3e9ad5209b",
   "metadata": {},
   "source": [
    "## Step 1: Create the Dataset"
   ]
  },
  {
   "cell_type": "code",
   "execution_count": 1,
   "id": "7933a8b8-1e79-4076-b87b-1888d22ebe9c",
   "metadata": {},
   "outputs": [],
   "source": [
    "# A\n",
    "a =[0, 0, 1, 1, 0, 0,\n",
    "   0, 1, 0, 0, 1, 0,\n",
    "   1, 1, 1, 1, 1, 1,\n",
    "   1, 0, 0, 0, 0, 1,\n",
    "   1, 0, 0, 0, 0, 1]\n",
    "# B\n",
    "b =[0, 1, 1, 1, 1, 0,\n",
    "   0, 1, 0, 0, 1, 0,\n",
    "   0, 1, 1, 1, 1, 0,\n",
    "   0, 1, 0, 0, 1, 0,\n",
    "   0, 1, 1, 1, 1, 0]\n",
    "# C\n",
    "c =[0, 1, 1, 1, 1, 0,\n",
    "   0, 1, 0, 0, 0, 0,\n",
    "   0, 1, 0, 0, 0, 0,\n",
    "   0, 1, 0, 0, 0, 0,\n",
    "   0, 1, 1, 1, 1, 0]\n",
    " \n",
    "# Creating labels\n",
    "y =[[1, 0, 0],\n",
    "   [0, 1, 0],\n",
    "   [0, 0, 1]]"
   ]
  },
  {
   "cell_type": "code",
   "execution_count": null,
   "id": "a8389930-b702-46c1-a339-3732976ec245",
   "metadata": {},
   "outputs": [],
   "source": []
  }
 ],
 "metadata": {
  "kernelspec": {
   "display_name": "Python 3 (ipykernel)",
   "language": "python",
   "name": "python3"
  },
  "language_info": {
   "codemirror_mode": {
    "name": "ipython",
    "version": 3
   },
   "file_extension": ".py",
   "mimetype": "text/x-python",
   "name": "python",
   "nbconvert_exporter": "python",
   "pygments_lexer": "ipython3",
   "version": "3.9.12"
  }
 },
 "nbformat": 4,
 "nbformat_minor": 5
}
