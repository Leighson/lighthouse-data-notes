{
 "cells": [
  {
   "cell_type": "code",
   "execution_count": 1,
   "metadata": {
    "tags": []
   },
   "outputs": [
    {
     "name": "stdout",
     "output_type": "stream",
     "text": [
      "Num GPUs Available:  1\n",
      "1 Physical GPUs, 1 Logical GPUs\n"
     ]
    }
   ],
   "source": [
    "### IGNORE: unless you have a gpu and receive the error noted\n",
    "\n",
    "# source: https://www.tensorflow.org/guide/gpu \n",
    "# code to avoid \"Attempting to perform BLAS operation using StreamExecutor without BLAS support\" error \n",
    "\n",
    "import tensorflow as tf\n",
    "\n",
    "print(\"Num GPUs Available: \", len(tf.config.list_physical_devices('GPU')))\n",
    "\n",
    "gpus = tf.config.list_physical_devices('GPU')\n",
    "if gpus:\n",
    "  try:\n",
    "    # Memory growth must be set before GPUs have been initialized\n",
    "    # Currently, memory growth needs to be the same across GPUs\n",
    "    for gpu in gpus:\n",
    "      tf.config.experimental.set_memory_growth(gpu, True)\n",
    "    logical_gpus = tf.config.list_logical_devices('GPU')\n",
    "    print(len(gpus), \"Physical GPUs,\", len(logical_gpus), \"Logical GPUs\")\n",
    "  except RuntimeError as e:\n",
    "    print(e)"
   ]
  },
  {
   "cell_type": "markdown",
   "metadata": {
    "colab_type": "text",
    "tags": []
   },
   "source": [
    "### Sequence model"
   ]
  },
  {
   "cell_type": "markdown",
   "metadata": {
    "colab_type": "text"
   },
   "source": [
    "### Create data generators "
   ]
  },
  {
   "cell_type": "code",
   "execution_count": 2,
   "metadata": {
    "colab_type": "code"
   },
   "outputs": [
    {
     "name": "stdout",
     "output_type": "stream",
     "text": [
      "Found 20000 files belonging to 2 classes.\n",
      "Found 5001 files belonging to 2 classes.\n",
      "Found 25000 files belonging to 2 classes.\n"
     ]
    }
   ],
   "source": [
    "from tensorflow import keras\n",
    "batch_size = 32\n",
    "\n",
    "train_ds = keras.utils.text_dataset_from_directory(\n",
    "    \"aclImdb/train\", batch_size=batch_size\n",
    ")\n",
    "val_ds = keras.utils.text_dataset_from_directory(\n",
    "    \"aclImdb/val\", batch_size=batch_size\n",
    ")\n",
    "test_ds = keras.utils.text_dataset_from_directory(\n",
    "    \"aclImdb/test\", batch_size=batch_size\n",
    ")"
   ]
  },
  {
   "cell_type": "code",
   "execution_count": 3,
   "metadata": {},
   "outputs": [
    {
     "name": "stdout",
     "output_type": "stream",
     "text": [
      "b\"First of all I am a butch, straight white male. But even with that handicap I love this movie. It's about real people. A real time and place. And of course New York City in the 80's. I had many gay friends growing up in New York in the eighties and the one thing about them i always admired was their courage to live their lives the way they wanted to live them. No matter what the consequences. That's courageous. You have to admire that. This is a great film, watch it and take in what it was like to be a flamboyant African American or Hispanic Gay man in the New York of the eighties. It's real life. Bottom line it's real life.\"\n",
      "\n",
      "\n",
      "1\n"
     ]
    }
   ],
   "source": [
    "for train, target in train_ds:\n",
    "    print(train[0].numpy())\n",
    "    print(\"\\n\")\n",
    "    print(target[0].numpy())\n",
    "    break"
   ]
  },
  {
   "cell_type": "markdown",
   "metadata": {
    "colab_type": "text"
   },
   "source": [
    "#### Approach 1: one-hot encoding"
   ]
  },
  {
   "cell_type": "code",
   "execution_count": 27,
   "metadata": {
    "colab_type": "code"
   },
   "outputs": [],
   "source": [
    "from tensorflow.keras.layers import TextVectorization\n",
    "from tensorflow.keras import layers\n",
    "\n",
    "max_tokens = 20000\n",
    "max_length = 100\n",
    "\n",
    "text_vectorization = layers.TextVectorization(\n",
    "    max_tokens=max_tokens,\n",
    "    output_mode=\"int\",\n",
    "    output_sequence_length=max_length,\n",
    ")\n",
    "\n",
    "text_only_train_ds = train_ds.map(lambda x, y: x)\n",
    "text_vectorization.adapt(text_only_train_ds)"
   ]
  },
  {
   "cell_type": "code",
   "execution_count": 28,
   "metadata": {},
   "outputs": [
    {
     "name": "stdout",
     "output_type": "stream",
     "text": [
      "'' = 0\n",
      "[UNK] = 1\n",
      "the = 2\n",
      "a = 3\n",
      "and = 4\n",
      "of = 5\n",
      "to = 6\n",
      "is = 7\n",
      "in = 8\n",
      "it = 9\n",
      "i = 10\n"
     ]
    }
   ],
   "source": [
    "for i, word in enumerate(text_vectorization.get_vocabulary()):\n",
    "    if not word:\n",
    "        word = \"''\"\n",
    "    print(f\"{word} = {i}\")\n",
    "    if i==10:\n",
    "        break"
   ]
  },
  {
   "cell_type": "code",
   "execution_count": 29,
   "metadata": {},
   "outputs": [],
   "source": [
    "int_train_ds = train_ds.map(\n",
    "    lambda x, y: (text_vectorization(x), y))\n",
    "\n",
    "int_val_ds = val_ds.map(\n",
    "    lambda x, y: (text_vectorization(x), y))\n",
    "\n",
    "int_test_ds = test_ds.map(\n",
    "    lambda x, y: (text_vectorization(x), y))"
   ]
  },
  {
   "cell_type": "code",
   "execution_count": 30,
   "metadata": {
    "colab_type": "code"
   },
   "outputs": [
    {
     "name": "stdout",
     "output_type": "stream",
     "text": [
      "reviews.shape: (32, 100)\n",
      "\n",
      "reviews.dtype: <dtype: 'int64'>\n",
      "\n",
      "targets.shape: (32,)\n",
      "\n",
      "targets.dtype: <dtype: 'int32'>\n",
      "\n",
      "reviews[0]: tf.Tensor(\n",
      "[   49    69    29   131    43     3    20    12    44    29     5     2\n",
      "     1    87 19184     4  1935    87 14352    10   480   131     1    76\n",
      "   131  3260  1727     8     2   474     5     2   458     4     2   114\n",
      "  2895   536   230  3837     4  5876    67     8    65 10233    11     7\n",
      "    34  1652    43     3 10419   503  6918   905  7890     4  1204  1416\n",
      "   536    17    25  3012     4  2142   418 16735    10   445     9   295\n",
      "  1432     4  1664  5423    67    80  1727  2953  9382    14    52   744\n",
      "  4242     4  8445     0     0     0     0     0     0     0     0     0\n",
      "     0     0     0     0], shape=(100,), dtype=int64)\n",
      "\n",
      "targets[0]: tf.Tensor(1, shape=(), dtype=int32)\n"
     ]
    }
   ],
   "source": [
    "for reviews, targets in int_train_ds:\n",
    "    print(\"reviews.shape:\", reviews.shape)\n",
    "    print(\"\\nreviews.dtype:\", reviews.dtype)\n",
    "    print(\"\\ntargets.shape:\", targets.shape)\n",
    "    print(\"\\ntargets.dtype:\", targets.dtype)\n",
    "    print(\"\\nreviews[0]:\", reviews[0])\n",
    "    print(\"\\ntargets[0]:\", targets[0])\n",
    "    break"
   ]
  },
  {
   "cell_type": "code",
   "execution_count": 31,
   "metadata": {
    "colab_type": "code"
   },
   "outputs": [],
   "source": [
    "raw_text_data = ([\n",
    "    [\"That was an excellent movie, I loved it.\"],\n",
    "])\n",
    "\n",
    "x = text_vectorization(raw_text_data)"
   ]
  },
  {
   "cell_type": "code",
   "execution_count": 32,
   "metadata": {},
   "outputs": [
    {
     "data": {
      "text/plain": [
       "<tf.Tensor: shape=(1, 100), dtype=int64, numpy=\n",
       "array([[ 12,  14,  34, 312,  18,  10, 445,   9,   0,   0,   0,   0,   0,\n",
       "          0,   0,   0,   0,   0,   0,   0,   0,   0,   0,   0,   0,   0,\n",
       "          0,   0,   0,   0,   0,   0,   0,   0,   0,   0,   0,   0,   0,\n",
       "          0,   0,   0,   0,   0,   0,   0,   0,   0,   0,   0,   0,   0,\n",
       "          0,   0,   0,   0,   0,   0,   0,   0,   0,   0,   0,   0,   0,\n",
       "          0,   0,   0,   0,   0,   0,   0,   0,   0,   0,   0,   0,   0,\n",
       "          0,   0,   0,   0,   0,   0,   0,   0,   0,   0,   0,   0,   0,\n",
       "          0,   0,   0,   0,   0,   0,   0,   0,   0]], dtype=int64)>"
      ]
     },
     "execution_count": 32,
     "metadata": {},
     "output_type": "execute_result"
    }
   ],
   "source": [
    "x"
   ]
  },
  {
   "cell_type": "code",
   "execution_count": 33,
   "metadata": {},
   "outputs": [
    {
     "data": {
      "text/plain": [
       "<tf.Tensor: shape=(1, 100, 20000), dtype=float32, numpy=\n",
       "array([[[0., 0., 0., ..., 0., 0., 0.],\n",
       "        [0., 0., 0., ..., 0., 0., 0.],\n",
       "        [0., 0., 0., ..., 0., 0., 0.],\n",
       "        ...,\n",
       "        [1., 0., 0., ..., 0., 0., 0.],\n",
       "        [1., 0., 0., ..., 0., 0., 0.],\n",
       "        [1., 0., 0., ..., 0., 0., 0.]]], dtype=float32)>"
      ]
     },
     "execution_count": 33,
     "metadata": {},
     "output_type": "execute_result"
    }
   ],
   "source": [
    "tf.one_hot(x, depth=max_tokens)"
   ]
  },
  {
   "cell_type": "code",
   "execution_count": 34,
   "metadata": {
    "colab_type": "code"
   },
   "outputs": [
    {
     "name": "stdout",
     "output_type": "stream",
     "text": [
      "Model: \"model_2\"\n",
      "_________________________________________________________________\n",
      " Layer (type)                Output Shape              Param #   \n",
      "=================================================================\n",
      " input_3 (InputLayer)        [(None, None)]            0         \n",
      "                                                                 \n",
      " tf.one_hot_3 (TFOpLambda)   (None, None, 20000)       0         \n",
      "                                                                 \n",
      " bidirectional_2 (Bidirectio  (None, 64)               5128448   \n",
      " nal)                                                            \n",
      "                                                                 \n",
      " dropout_2 (Dropout)         (None, 64)                0         \n",
      "                                                                 \n",
      " dense_2 (Dense)             (None, 1)                 65        \n",
      "                                                                 \n",
      "=================================================================\n",
      "Total params: 5,128,513\n",
      "Trainable params: 5,128,513\n",
      "Non-trainable params: 0\n",
      "_________________________________________________________________\n"
     ]
    }
   ],
   "source": [
    "import tensorflow as tf\n",
    "\n",
    "inputs = keras.Input(shape=(None,), dtype=\"int64\")\n",
    "embedded = tf.one_hot(inputs, depth=max_tokens)\n",
    "x = layers.Bidirectional(layers.LSTM(32))(embedded)\n",
    "x = layers.Dropout(0.5)(x)\n",
    "outputs = layers.Dense(1, activation=\"sigmoid\")(x)\n",
    "\n",
    "model = keras.Model(inputs, outputs)\n",
    "\n",
    "model.compile(optimizer=\"rmsprop\",\n",
    "              loss=\"binary_crossentropy\",\n",
    "              metrics=[\"accuracy\"])\n",
    "\n",
    "model.summary()"
   ]
  },
  {
   "cell_type": "code",
   "execution_count": 35,
   "metadata": {
    "colab_type": "code"
   },
   "outputs": [
    {
     "name": "stdout",
     "output_type": "stream",
     "text": [
      "Epoch 1/10\n",
      "625/625 [==============================] - 48s 59ms/step - loss: 0.5022 - accuracy: 0.7511 - val_loss: 0.3829 - val_accuracy: 0.8296\n",
      "Epoch 2/10\n",
      "625/625 [==============================] - 36s 57ms/step - loss: 0.3424 - accuracy: 0.8551 - val_loss: 0.3959 - val_accuracy: 0.8314\n",
      "Epoch 3/10\n",
      "625/625 [==============================] - 36s 57ms/step - loss: 0.2839 - accuracy: 0.8862 - val_loss: 0.4119 - val_accuracy: 0.8188\n",
      "Epoch 4/10\n",
      "625/625 [==============================] - 36s 57ms/step - loss: 0.2475 - accuracy: 0.9031 - val_loss: 0.4161 - val_accuracy: 0.8374\n",
      "Epoch 5/10\n",
      "625/625 [==============================] - 36s 58ms/step - loss: 0.2122 - accuracy: 0.9183 - val_loss: 0.3841 - val_accuracy: 0.8396\n",
      "Epoch 6/10\n",
      "625/625 [==============================] - 36s 58ms/step - loss: 0.1798 - accuracy: 0.9337 - val_loss: 0.4566 - val_accuracy: 0.8330\n",
      "Epoch 7/10\n",
      "625/625 [==============================] - 36s 57ms/step - loss: 0.1494 - accuracy: 0.9449 - val_loss: 0.4618 - val_accuracy: 0.8362\n",
      "Epoch 8/10\n",
      "625/625 [==============================] - 36s 58ms/step - loss: 0.1166 - accuracy: 0.9577 - val_loss: 0.5312 - val_accuracy: 0.8318\n",
      "Epoch 9/10\n",
      "625/625 [==============================] - 36s 57ms/step - loss: 0.0852 - accuracy: 0.9702 - val_loss: 0.5057 - val_accuracy: 0.8270\n",
      "Epoch 10/10\n",
      "625/625 [==============================] - 36s 57ms/step - loss: 0.0615 - accuracy: 0.9790 - val_loss: 0.6690 - val_accuracy: 0.8090\n"
     ]
    }
   ],
   "source": [
    "callbacks = keras.callbacks.ModelCheckpoint(\"one_hot_bidir_lstm.keras\",\n",
    "                                             save_best_only=True)\n",
    "\n",
    "history = model.fit(int_train_ds, validation_data=int_val_ds, epochs=10, callbacks=[callbacks])"
   ]
  },
  {
   "cell_type": "code",
   "execution_count": 38,
   "metadata": {},
   "outputs": [
    {
     "data": {
      "image/png": "[encoded data removed]",
      "text/plain": [
       "<Figure size 432x288 with 1 Axes>"
      ]
     },
     "metadata": {
      "needs_background": "light"
     },
     "output_type": "display_data"
    }
   ],
   "source": [
    "import matplotlib.pyplot as plt\n",
    "\n",
    "history_dict = history.history\n",
    "\n",
    "acc_values = history_dict['accuracy']\n",
    "val_acc_values = history_dict['val_accuracy']\n",
    "\n",
    "epochs = range(1, len(acc_values)+1)\n",
    "\n",
    "plt.plot(epochs, acc_values, 'b', label=\"Training Accuracy\")\n",
    "plt.plot(epochs, val_acc_values, 'r', label=\"Validation Accuracy\")\n",
    "plt.title(\"Training and Validation Accuracy\")\n",
    "plt.xlabel(\"Epochs\")\n",
    "plt.xticks(epochs)\n",
    "plt.ylabel(\"Accuracy\")\n",
    "plt.legend()\n",
    "plt.show()"
   ]
  },
  {
   "cell_type": "code",
   "execution_count": 39,
   "metadata": {},
   "outputs": [
    {
     "name": "stdout",
     "output_type": "stream",
     "text": [
      "782/782 [==============================] - 27s 34ms/step - loss: 0.4071 - accuracy: 0.8163\n",
      "Test acc: 0.816\n"
     ]
    }
   ],
   "source": [
    "model = keras.models.load_model(\"one_hot_bidir_lstm.keras\")\n",
    "print(f\"Test acc: {model.evaluate(int_test_ds)[1]:.3f}\")"
   ]
  },
  {
   "cell_type": "code",
   "execution_count": null,
   "metadata": {},
   "outputs": [],
   "source": []
  }
 ],
 "metadata": {
  "colab": {
   "collapsed_sections": [],
   "name": "chapter11_part02_sequence-models.i",
   "private_outputs": false,
   "provenance": [],
   "toc_visible": true
  },
  "kernelspec": {
   "display_name": "Python 3 (ipykernel)",
   "language": "python",
   "name": "python3"
  },
  "language_info": {
   "codemirror_mode": {
    "name": "ipython",
    "version": 3
   },
   "file_extension": ".py",
   "mimetype": "text/x-python",
   "name": "python",
   "nbconvert_exporter": "python",
   "pygments_lexer": "ipython3",
   "version": "3.7.13"
  }
 },
 "nbformat": 4,
 "nbformat_minor": 4
}
